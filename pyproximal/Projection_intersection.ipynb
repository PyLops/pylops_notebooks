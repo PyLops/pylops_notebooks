{
 "cells": [
  {
   "cell_type": "markdown",
   "metadata": {},
   "source": [
    "# Projection onto intersection of sets"
   ]
  },
  {
   "cell_type": "markdown",
   "metadata": {},
   "source": [
    "We try to find the projection of a vector into the intersection of simple sets (whose projection can be computed easily) - See Appendix A of *A Convex Approach to Minimal Partitions Antonin Chambolle, Daniel Cremers, Thomas Pock*\n",
    "\n",
    "\n",
    "$$\n",
    "proj_K(x) = \\bigcap_{1 \\leq i_1 < i_2 \\leq k} K_{i_1,i_2} \\quad  K_{i_1,i_2}= \\{ x: |x_{i_2} - x_{i_1}| \\leq \\sigma_{i1, i2} \\quad \\forall i1<i2 \\}\n",
    "$$"
   ]
  },
  {
   "cell_type": "code",
   "execution_count": 1,
   "metadata": {},
   "outputs": [],
   "source": [
    "%load_ext autoreload\n",
    "%autoreload 2\n",
    "%matplotlib inline\n",
    "\n",
    "import warnings\n",
    "warnings.filterwarnings('ignore')\n",
    "\n",
    "import numpy as np\n",
    "import matplotlib.pyplot as plt\n",
    "\n",
    "from pyproximal.projection import *\n",
    "from pyproximal.proximal import *"
   ]
  },
  {
   "cell_type": "markdown",
   "metadata": {},
   "source": [
    "Create vector x"
   ]
  },
  {
   "cell_type": "code",
   "execution_count": 2,
   "metadata": {},
   "outputs": [
    {
     "name": "stdout",
     "output_type": "stream",
     "text": [
      "[[22 22  8]\n",
      " [22 24  8]\n",
      " [ 8  8  3]]\n",
      "0 1 22 36.46897158479271\n",
      "0 2 8 47.52425051996606\n",
      "1 2 8 11.055278935173348\n"
     ]
    }
   ],
   "source": [
    "k = 3\n",
    "xtrue = np.random.normal(0, 50, k)\n",
    "x = xtrue.copy()\n",
    "x1 = xtrue.copy()\n",
    "sigma = np.array([[3,2,1], [2,2,1], [3,4,1]])\n",
    "sigma = sigma.T @ sigma\n",
    "print(sigma)\n",
    "\n",
    "for i1 in range(k-1):\n",
    "    for i2 in range(i1+1, k):\n",
    "        print(i1, i2, sigma[i1, i2], np.linalg.norm(x[i1] - x[i2]))"
   ]
  },
  {
   "cell_type": "markdown",
   "metadata": {},
   "source": [
    "Projection of vector x"
   ]
  },
  {
   "cell_type": "code",
   "execution_count": 3,
   "metadata": {},
   "outputs": [
    {
     "name": "stdout",
     "output_type": "stream",
     "text": [
      "16\n"
     ]
    }
   ],
   "source": [
    "niter = 40\n",
    "tol = 1e-9\n",
    "\n",
    "x12 = np.zeros((k,k))\n",
    "for iiter in range(niter):\n",
    "    xold = x.copy()\n",
    "    for i1 in range(k-1):\n",
    "        for i2 in range(i1+1, k):\n",
    "            xtilde = x[i2] - x[i1] + x12[i1, i2]\n",
    "            xtildeabs = np.abs(xtilde)\n",
    "            xdtilde = np.maximum(0, xtildeabs - sigma[i1, i2]) * xtilde / xtildeabs\n",
    "            x[i1] = x[i1] + 0.5 * (xdtilde - x12[i1, i2])\n",
    "            x[i2] = x[i2] - 0.5 * (xdtilde - x12[i1, i2])\n",
    "            x12[i1, i2] = xdtilde\n",
    "    if max(np.abs(x - xold)) < tol:\n",
    "        break\n",
    "print(iiter)"
   ]
  },
  {
   "cell_type": "markdown",
   "metadata": {},
   "source": [
    "Check projected vector satisfy the condition"
   ]
  },
  {
   "cell_type": "code",
   "execution_count": 4,
   "metadata": {},
   "outputs": [
    {
     "name": "stdout",
     "output_type": "stream",
     "text": [
      "0 1 22 36.46897158479271\n",
      "0 2 8 47.52425051996606\n",
      "1 2 8 11.055278935173348\n",
      "0 1 22 16.00000000032915\n",
      "0 2 8 8.000000000329148\n",
      "1 2 8 8.0\n"
     ]
    }
   ],
   "source": [
    "for i1 in range(k-1):\n",
    "    for i2 in range(i1+1, k):\n",
    "        print(i1, i2, sigma[i1, i2], np.abs(xtrue[i1] - xtrue[i2]))\n",
    "        \n",
    "for i1 in range(k-1):\n",
    "    for i2 in range(i1+1, k):\n",
    "        print(i1, i2, sigma[i1, i2], np.abs(x[i1] - x[i2]))"
   ]
  },
  {
   "cell_type": "code",
   "execution_count": 5,
   "metadata": {},
   "outputs": [
    {
     "name": "stdout",
     "output_type": "stream",
     "text": [
      "[-6.7848559  29.68411569 40.73939462]\n",
      "[False]\n"
     ]
    },
    {
     "data": {
      "text/plain": [
       "array([ 19.9977407 ,  -0.47123088, -19.52650982])"
      ]
     },
     "execution_count": 5,
     "metadata": {},
     "output_type": "execute_result"
    }
   ],
   "source": [
    "ic = IntersectionProj(k, 1, sigma, niter, tol)\n",
    "x1 = ic(x1)\n",
    "x1 - xtrue"
   ]
  },
  {
   "cell_type": "code",
   "execution_count": 6,
   "metadata": {},
   "outputs": [
    {
     "name": "stdout",
     "output_type": "stream",
     "text": [
      "False\n",
      "[-6.7848559  29.68411569 40.73939462]\n",
      "[False]\n",
      "True\n"
     ]
    }
   ],
   "source": [
    "ic = Intersection(k, 1, sigma, niter, tol)\n",
    "print(ic(xtrue))\n",
    "x = ic.prox(xtrue, 1)\n",
    "print(ic(x))"
   ]
  },
  {
   "cell_type": "markdown",
   "metadata": {},
   "source": [
    "Repeat the same, now with a matrix with n columns (algorithm works on each column indipendently)"
   ]
  },
  {
   "cell_type": "code",
   "execution_count": 7,
   "metadata": {},
   "outputs": [
    {
     "name": "stdout",
     "output_type": "stream",
     "text": [
      "[[22 22  8]\n",
      " [22 24  8]\n",
      " [ 8  8  3]]\n",
      "0 1 22 [26.26459249  7.11787694  0.2854586  15.48240221  0.68544859]\n",
      "0 2 8 [53.88323769 63.17026081 13.33806176 75.2000809  81.34005829]\n",
      "1 2 8 [80.14783017 56.05238386 13.05260317 59.71767869 80.65460971]\n"
     ]
    }
   ],
   "source": [
    "k = 3\n",
    "n = 5\n",
    "xtrue = np.random.normal(0, 50, (k, n))\n",
    "x = xtrue.copy()\n",
    "x1 = xtrue.copy()\n",
    "sigma = np.array([[3,2,1], [2,2,1], [3,4,1]])\n",
    "sigma = sigma.T @ sigma\n",
    "print(sigma)\n",
    "\n",
    "for i1 in range(k-1):\n",
    "    for i2 in range(i1+1, k):\n",
    "        print(i1, i2, sigma[i1, i2], np.abs(x[i1] - x[i2]))"
   ]
  },
  {
   "cell_type": "code",
   "execution_count": 8,
   "metadata": {},
   "outputs": [
    {
     "name": "stdout",
     "output_type": "stream",
     "text": [
      "13\n"
     ]
    }
   ],
   "source": [
    "niter = 50\n",
    "tol = 1e-5\n",
    "\n",
    "x12 = np.zeros((k,k,n))\n",
    "for iiter in range(niter):\n",
    "    xold = x.copy()\n",
    "    for i1 in range(k-1):\n",
    "        for i2 in range(i1+1, k):\n",
    "            xtilde = x[i2] - x[i1] + x12[i1, i2]\n",
    "            xtildeabs = np.abs(xtilde)\n",
    "            xdtilde = np.maximum(0, xtildeabs - sigma[i1, i2]) * xtilde / xtildeabs\n",
    "            x[i1] = x[i1] + 0.5 * (xdtilde - x12[i1, i2])\n",
    "            x[i2] = x[i2] - 0.5 * (xdtilde - x12[i1, i2])\n",
    "            x12[i1, i2] = xdtilde\n",
    "    if max(np.sum(np.abs(x-xold), axis=0)) < tol:\n",
    "        break\n",
    "print(iiter)"
   ]
  },
  {
   "cell_type": "code",
   "execution_count": 9,
   "metadata": {},
   "outputs": [
    {
     "name": "stdout",
     "output_type": "stream",
     "text": [
      "0 1 22 [7.91384487e-07 1.52492923e-07 1.77589961e-08 1.34986927e-07\n",
      " 2.68106021e-07]\n",
      "0 2 8 [7.99999921 7.99999985 7.99999998 7.99999987 7.99999973]\n",
      "1 2 8 [8. 8. 8. 8. 8.]\n"
     ]
    }
   ],
   "source": [
    "for i1 in range(k-1):\n",
    "    for i2 in range(i1+1, k):\n",
    "        print(i1, i2, sigma[i1, i2], np.abs(x[i1] - x[i2]))"
   ]
  },
  {
   "cell_type": "markdown",
   "metadata": {},
   "source": [
    "Same using the projection operator in PyProximal"
   ]
  },
  {
   "cell_type": "code",
   "execution_count": 12,
   "metadata": {},
   "outputs": [
    {
     "name": "stdout",
     "output_type": "stream",
     "text": [
      "0 1 22 [7.91367007e-07 1.52447738e-07 1.77413035e-08 1.34937160e-07\n",
      " 2.68062820e-07]\n",
      "0 2 8 [7.99999921 7.99999985 7.99999998 7.99999987 7.99999973]\n",
      "1 2 8 [8. 8. 8. 8. 8.]\n"
     ]
    }
   ],
   "source": [
    "ic = IntersectionProj(k, n, sigma, niter, tol)\n",
    "x1 = ic(x1)\n",
    "x1 = x1.reshape(k,n)\n",
    "\n",
    "for i1 in range(k-1):\n",
    "    for i2 in range(i1+1, k):\n",
    "        print(i1, i2, sigma[i1, i2], np.abs(x1[i1] - x1[i2]))"
   ]
  },
  {
   "cell_type": "markdown",
   "metadata": {},
   "source": [
    "and the proximal operator in PyProximal"
   ]
  },
  {
   "cell_type": "code",
   "execution_count": 13,
   "metadata": {},
   "outputs": [
    {
     "name": "stdout",
     "output_type": "stream",
     "text": [
      "True\n",
      "True\n",
      "0 1 22 [7.91367007e-07 1.52447738e-07 1.77413035e-08 1.34937160e-07\n",
      " 2.68062820e-07]\n",
      "0 2 8 [7.99999921 7.99999985 7.99999998 7.99999987 7.99999973]\n",
      "1 2 8 [8. 8. 8. 8. 8.]\n"
     ]
    }
   ],
   "source": [
    "ic = Intersection(k, n, sigma, niter, tol)\n",
    "print(ic(xtrue, 1e-3))\n",
    "x = ic.prox(xtrue, 1)\n",
    "print(ic(x, 1e-3))\n",
    "x = x.reshape(k,n)\n",
    "\n",
    "for i1 in range(k-1):\n",
    "    for i2 in range(i1+1, k):\n",
    "        print(i1, i2, sigma[i1, i2], np.abs(x[i1] - x[i2]))"
   ]
  },
  {
   "cell_type": "code",
   "execution_count": null,
   "metadata": {},
   "outputs": [],
   "source": []
  }
 ],
 "metadata": {
  "kernelspec": {
   "display_name": "Python 3",
   "language": "python",
   "name": "python3"
  },
  "language_info": {
   "codemirror_mode": {
    "name": "ipython",
    "version": 3
   },
   "file_extension": ".py",
   "mimetype": "text/x-python",
   "name": "python",
   "nbconvert_exporter": "python",
   "pygments_lexer": "ipython3",
   "version": "3.7.2"
  },
  "toc": {
   "base_numbering": 1,
   "nav_menu": {},
   "number_sections": true,
   "sideBar": true,
   "skip_h1_title": false,
   "title_cell": "Table of Contents",
   "title_sidebar": "Contents",
   "toc_cell": false,
   "toc_position": {},
   "toc_section_display": true,
   "toc_window_display": false
  }
 },
 "nbformat": 4,
 "nbformat_minor": 4
}
