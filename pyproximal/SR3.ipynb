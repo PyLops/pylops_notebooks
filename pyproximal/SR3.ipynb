{
 "cells": [
  {
   "cell_type": "markdown",
   "id": "grave-membership",
   "metadata": {},
   "source": [
    "# SR3"
   ]
  },
  {
   "cell_type": "code",
   "execution_count": 1,
   "id": "nasty-florist",
   "metadata": {},
   "outputs": [],
   "source": [
    "%load_ext autoreload\n",
    "%autoreload 2\n",
    "%matplotlib inline\n",
    "\n",
    "import numpy as np\n",
    "import matplotlib.pyplot as plt\n",
    "import pylops\n",
    "import pyproximal\n",
    "\n",
    "from pyproximal.optimization.sr3 import SR3"
   ]
  },
  {
   "cell_type": "code",
   "execution_count": 2,
   "id": "blank-formation",
   "metadata": {},
   "outputs": [],
   "source": [
    "# As a test case, I implemented the gravity example\n",
    "def gravity(n):\n",
    "    # GRAVITY Test problem: 1-D gravity surveying model problem\n",
    "    #\n",
    "    # [A,b,x] = gravity(n,example,a,b,d)\n",
    "    #\n",
    "    # Discretization of a 1-D model problem in gravity surveying, in which\n",
    "    # a mass distribution f(t) is located at depth d, while the vertical\n",
    "    # component of the gravity field g(s) is measured at the surface.\n",
    "    #\n",
    "    # The resulting problem is a first-kind Fredholm integral equation\n",
    "    # with kernel\n",
    "    #    K(s,t) = d*(d^2 + (s-t)^2)^(-3/2) .\n",
    "    # The following three examples are implemented (example = 1 is default):\n",
    "    #    1: f(t) = sin(pi*t) + 0.5*sin(2*pi*t),\n",
    "    #    2: f(t) = piecewise linear function,\n",
    "    #    3: f(t) = piecewise constant function.\n",
    "    # The problem is discretized by means of the midpoint quadrature rule\n",
    "    # with n points, leading to the matrix A and the vector x.  Then the\n",
    "    # right-hand side is computed as b = A*x.\n",
    "    #\n",
    "    # The t integration interval is fixed to [0,1], while the s integration\n",
    "    # interval [a,b] can be specified by the user. The default interval is\n",
    "    # [0,1], leading to a symmetric Toeplitz matrix.\n",
    "    #\n",
    "    # The parameter d is the depth at which the magnetic deposit is located,\n",
    "    # and the default value is d = 0.25. The larger the d, the faster the\n",
    "    # decay of the singular values.\n",
    "\n",
    "    # Reference: G. M. Wing and J. D. Zahrt, \"A Primer on Integral Equations\n",
    "    # of the First Kind\", SIAM, Philadelphia, 1991; p. 17.\n",
    "\n",
    "    # Per Christian Hansen, IMM, November 18, 2001.\n",
    "\n",
    "    # Initialization.\n",
    "    a = 0\n",
    "    b = 1\n",
    "    d = 0.25\n",
    "\n",
    "    # Set up abscissas and matrix.\n",
    "    dt = 1/n\n",
    "    ds = (b-a)/n\n",
    "    t = dt*(np.linspace(1, n, n) - 0.5)\n",
    "    s = a + ds*(np.linspace(1, n, n) - 0.5)\n",
    "    T, S = np.meshgrid(t, s)\n",
    "    A = dt*d*np.ones((n, n))/(d**2 + (S-T)**2)**(3/2)\n",
    "\n",
    "    # Set up solution vector and right-hand side.\n",
    "    # nt = int(np.round(n/3))\n",
    "    # nn = np.round(n*7/8)\n",
    "    # x = np.zeros((n, 1))\n",
    "    # x[0:nt] = 2*np.ones((nt, 1))\n",
    "    x = np.heaviside(t - 0.2, 1) + 2.1*np.heaviside(t - 0.4, 1) - 1.2*np.heaviside(t - 0.7, 1)\n",
    "    x = x\n",
    "    b = np.dot(A, x)\n",
    "\n",
    "    return A, b, x"
   ]
  },
  {
   "cell_type": "code",
   "execution_count": 3,
   "id": "stopped-sleeping",
   "metadata": {},
   "outputs": [],
   "source": [
    "n = 64\n",
    "A, b, x = gravity(n)\n",
    "#L = np.diag(-np.ones(n), 0) + np.diag(np.ones(n-1), 1)\n",
    "#L = L[:len(x)-1][:]\n",
    "#Lop = pylops.MatrixMult(L)\n",
    "\n",
    "Aop = pylops.MatrixMult(A)\n",
    "Lop = pylops.FirstDerivative(n, kind='forward')"
   ]
  },
  {
   "cell_type": "code",
   "execution_count": 4,
   "id": "purple-sleep",
   "metadata": {},
   "outputs": [
    {
     "name": "stdout",
     "output_type": "stream",
     "text": [
      "Relative error for SR3: 0.0016151806175149237\n"
     ]
    },
    {
     "data": {
      "image/png": "[encoded data removed]",
      "text/plain": [
       "<Figure size 720x288 with 1 Axes>"
      ]
     },
     "metadata": {
      "needs_background": "light"
     },
     "output_type": "display_data"
    }
   ],
   "source": [
    "x_sr3 = SR3(Aop, Lop, b, 1, 1e-3, iter_lim_outer=int(1e4), adaptive=True)\n",
    "\n",
    "fig, ax = plt.subplots(1, 1, figsize=(10, 4))\n",
    "x_plot = np.linspace(0, 1, n)\n",
    "ax.plot(x_plot, x, color='b', linewidth=2)\n",
    "ax.plot(x_plot, x_sr3, color='r', linewidth=2)\n",
    "ax.set_title('SR3')\n",
    "ax.axis('tight')\n",
    "fig.tight_layout()\n",
    "\n",
    "print('Relative error for SR3:', np.linalg.norm(x - x_sr3)/(np.linalg.norm(x)))"
   ]
  },
  {
   "cell_type": "code",
   "execution_count": 5,
   "id": "metric-papua",
   "metadata": {},
   "outputs": [
    {
     "name": "stdout",
     "output_type": "stream",
     "text": [
      "Relative error for SR3: 0.0014969011081686428\n"
     ]
    },
    {
     "data": {
      "image/png": "[encoded data removed]",
      "text/plain": [
       "<Figure size 720x288 with 1 Axes>"
      ]
     },
     "metadata": {
      "needs_background": "light"
     },
     "output_type": "display_data"
    }
   ],
   "source": [
    "x_sr3 = SR3(Aop, Lop, b, 1, 1e-3, iter_lim_outer=int(1e4), adaptive=False)\n",
    "\n",
    "fig, ax = plt.subplots(1, 1, figsize=(10, 4))\n",
    "x_plot = np.linspace(0, 1, n)\n",
    "ax.plot(x_plot, x, color='b', linewidth=2)\n",
    "ax.plot(x_plot, x_sr3, color='r', linewidth=2)\n",
    "ax.set_title('SR3')\n",
    "ax.axis('tight')\n",
    "fig.tight_layout()\n",
    "\n",
    "print('Relative error for SR3:', np.linalg.norm(x - x_sr3)/(np.linalg.norm(x)))"
   ]
  },
  {
   "cell_type": "code",
   "execution_count": null,
   "id": "aboriginal-secretary",
   "metadata": {},
   "outputs": [],
   "source": []
  }
 ],
 "metadata": {
  "kernelspec": {
   "display_name": "Python 3",
   "language": "python",
   "name": "python3"
  },
  "language_info": {
   "codemirror_mode": {
    "name": "ipython",
    "version": 3
   },
   "file_extension": ".py",
   "mimetype": "text/x-python",
   "name": "python",
   "nbconvert_exporter": "python",
   "pygments_lexer": "ipython3",
   "version": "3.8.5"
  }
 },
 "nbformat": 4,
 "nbformat_minor": 5
}
