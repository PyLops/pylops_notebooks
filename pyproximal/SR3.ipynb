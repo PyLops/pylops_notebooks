{
 "cells": [
  {
   "cell_type": "markdown",
   "id": "grave-membership",
   "metadata": {},
   "source": [
    "# SR3"
   ]
  },
  {
   "cell_type": "code",
   "execution_count": 1,
   "id": "nasty-florist",
   "metadata": {},
   "outputs": [],
   "source": [
    "%load_ext autoreload\n",
    "%autoreload 2\n",
    "\n",
    "import numpy as np\n",
    "import matplotlib.pyplot as plt\n",
    "import pylops\n",
    "\n",
    "from pyproximal.optimization.sr3 import SR3"
   ]
  },
  {
   "cell_type": "code",
   "execution_count": null,
   "id": "167a797c",
   "metadata": {},
   "outputs": [],
   "source": [
    "import time\n",
    "\n",
    "\n",
    "def PALM(H, proxf, proxg, x0, y0, gammaf=1., gammag=1.,\n",
    "         niter=10, callback=None, show=False):\n",
    "    r\"\"\"Proximal Alternating Linearized Minimization\n",
    "\n",
    "    Solves the following minimization problem using the Proximal Alternating\n",
    "    Linearized Minimization (PALM) algorithm:\n",
    "\n",
    "    .. math::\n",
    "\n",
    "        \\mathbf{x}\\mathbf{,y} = \\argmin_{\\mathbf{x}, \\mathbf{y}}\n",
    "        f(\\mathbf{x}) + g(\\mathbf{y}) + H(\\mathbf{x}, \\mathbf{y})\n",
    "\n",
    "    where :math:`f(\\mathbf{x})` and :math:`g(\\mathbf{y})` are any pair of\n",
    "    convex functions that have known proximal operators, and\n",
    "    :math:`H(\\mathbf{x}, \\mathbf{y})` is a smooth function.\n",
    "\n",
    "    Parameters\n",
    "    ----------\n",
    "    H : :obj:`pyproximal.utils.bilinear.Bilinear`\n",
    "        Bilinear function\n",
    "    proxf : :obj:`pyproximal.ProxOperator`\n",
    "        Proximal operator of f function\n",
    "    proxg : :obj:`pyproximal.ProxOperator`\n",
    "        Proximal operator of g function\n",
    "    x0 : :obj:`numpy.ndarray`\n",
    "        Initial x vector\n",
    "    y0 : :obj:`numpy.ndarray`\n",
    "        Initial y vector\n",
    "    gammaf : :obj:`float`, optional\n",
    "        Positive scalar weight for ``f`` function update\n",
    "    gammag : :obj:`float`, optional\n",
    "        Positive scalar weight for ``g`` function update\n",
    "    niter : :obj:`int`, optional\n",
    "        Number of iterations of iterative scheme\n",
    "    callback : :obj:`callable`, optional\n",
    "        Function with signature (``callback(x)``) to call after each iteration\n",
    "        where ``x`` and ``y`` are the current model vectors\n",
    "    show : :obj:`bool`, optional\n",
    "        Display iterations log\n",
    "\n",
    "    Returns\n",
    "    -------\n",
    "    x : :obj:`numpy.ndarray`\n",
    "        Inverted x vector\n",
    "    y : :obj:`numpy.ndarray`\n",
    "        Inverted y vector\n",
    "\n",
    "    Notes\n",
    "    -----\n",
    "    PALM [1]_ can be expressed by the following recursion:\n",
    "\n",
    "    .. math::\n",
    "\n",
    "        \\mathbf{x}^{k+1} = \\prox_{c_k f}(\\mathbf{x}^{k} -\n",
    "        \\frac{1}{c_k}\\nabla_x H(\\mathbf{x}^{k}, \\mathbf{y}^{k}))\\\\\n",
    "        \\mathbf{y}^{k+1} = \\prox_{d_k g}(\\mathbf{y}^{k} -\n",
    "        \\frac{1}{d_k}\\nabla_y H(\\mathbf{x}^{k+1}, \\mathbf{y}^{k}))\\\\\n",
    "\n",
    "    Here :math:`c_k=\\gamma_f L_x` and :math:`d_k=\\gamma_g L_y`, where\n",
    "    :math:`L_x` and :math:`L_y` are the Lipschitz constant of :math:`\\nabla_x H`\n",
    "    and :math:`\\nabla_y H`, respectively.\n",
    "\n",
    "    .. [1] Bolte, J., Sabach, S., and Teboulle, M. \"Proximal alternating\n",
    "       linearized minimization for nonconvex and nonsmooth problems\",\n",
    "       Mathematical Programming, vol. 146, pp. 459–494. 2014.\n",
    "\n",
    "    \"\"\"\n",
    "    if show:\n",
    "        tstart = time.time()\n",
    "        print('PALM algorithm\\n'\n",
    "              '---------------------------------------------------------\\n'\n",
    "              'Bilinear operator: %s\\n'\n",
    "              'Proximal operator (f): %s\\n'\n",
    "              'Proximal operator (g): %s\\n'\n",
    "              'gammaf = %10e\\tgammaf = %10e\\tniter = %d\\n' %\n",
    "              (type(H), type(proxf), type(proxg), gammaf, gammag, niter))\n",
    "        head = '   Itn      x[0]       y[0]        f         g         H         ck         dk'\n",
    "        print(head)\n",
    "\n",
    "    x, y = x0.copy(), y0.copy()\n",
    "    for iiter in range(niter):\n",
    "        ck = gammaf * H.ly(y)\n",
    "        x = x - (1 / ck) * H.gradx(x.ravel())\n",
    "        if proxf is not None:\n",
    "            x = proxf.prox(x, ck)\n",
    "        H.updatex(x.copy())\n",
    "        dk = gammag * H.lx(x)\n",
    "        y = y - (1 / dk) * H.grady(y.ravel())\n",
    "        if proxg is not None:\n",
    "            y = proxg.prox(y, dk)\n",
    "        H.updatey(y.copy())\n",
    "\n",
    "        # run callback\n",
    "        if callback is not None:\n",
    "            callback(x, y)\n",
    "\n",
    "        if show:\n",
    "            pf = proxf(x) if proxf is not None else 0.\n",
    "            pg = proxg(y) if proxg is not None else 0.\n",
    "            if iiter < 10 or niter - iiter < 10 or iiter % (niter // 10) == 0:\n",
    "                msg = '%6g  %5.5e  %5.2e  %5.2e  %5.2e  %5.2e  %5.2e  %5.2e' % \\\n",
    "                      (iiter + 1, x[0], y[0], pf if pf is not None else 0.,\n",
    "                       pg if pg is not None else 0., H(x, y), ck, dk)\n",
    "                print(msg)\n",
    "    if show:\n",
    "        print('\\nTotal time (s) = %.2f' % (time.time() - tstart))\n",
    "        print('---------------------------------------------------------\\n')\n",
    "    return x, y"
   ]
  },
  {
   "cell_type": "code",
   "execution_count": 2,
   "id": "blank-formation",
   "metadata": {},
   "outputs": [],
   "source": [
    "# As a test case, I implemented the gravity example\n",
    "def gravity(n):\n",
    "    # GRAVITY Test problem: 1-D gravity surveying model problem\n",
    "    #\n",
    "    # [A,b,x] = gravity(n,example,a,b,d)\n",
    "    #\n",
    "    # Discretization of a 1-D model problem in gravity surveying, in which\n",
    "    # a mass distribution f(t) is located at depth d, while the vertical\n",
    "    # component of the gravity field g(s) is measured at the surface.\n",
    "    #\n",
    "    # The resulting problem is a first-kind Fredholm integral equation\n",
    "    # with kernel\n",
    "    #    K(s,t) = d*(d^2 + (s-t)^2)^(-3/2) .\n",
    "    # The following three examples are implemented (example = 1 is default):\n",
    "    #    1: f(t) = sin(pi*t) + 0.5*sin(2*pi*t),\n",
    "    #    2: f(t) = piecewise linear function,\n",
    "    #    3: f(t) = piecewise constant function.\n",
    "    # The problem is discretized by means of the midpoint quadrature rule\n",
    "    # with n points, leading to the matrix A and the vector x.  Then the\n",
    "    # right-hand side is computed as b = A*x.\n",
    "    #\n",
    "    # The t integration interval is fixed to [0,1], while the s integration\n",
    "    # interval [a,b] can be specified by the user. The default interval is\n",
    "    # [0,1], leading to a symmetric Toeplitz matrix.\n",
    "    #\n",
    "    # The parameter d is the depth at which the magnetic deposit is located,\n",
    "    # and the default value is d = 0.25. The larger the d, the faster the\n",
    "    # decay of the singular values.\n",
    "\n",
    "    # Reference: G. M. Wing and J. D. Zahrt, \"A Primer on Integral Equations\n",
    "    # of the First Kind\", SIAM, Philadelphia, 1991; p. 17.\n",
    "\n",
    "    # Per Christian Hansen, IMM, November 18, 2001.\n",
    "\n",
    "    # Initialization.\n",
    "    a = 0\n",
    "    b = 1\n",
    "    d = 0.25\n",
    "\n",
    "    # Set up abscissas and matrix.\n",
    "    dt = 1/n\n",
    "    ds = (b-a)/n\n",
    "    t = dt*(np.linspace(1, n, n) - 0.5)\n",
    "    s = a + ds*(np.linspace(1, n, n) - 0.5)\n",
    "    T, S = np.meshgrid(t, s)\n",
    "    A = dt*d*np.ones((n, n))/(d**2 + (S-T)**2)**(3/2)\n",
    "\n",
    "    # Set up solution vector and right-hand side.\n",
    "    # nt = int(np.round(n/3))\n",
    "    # nn = np.round(n*7/8)\n",
    "    # x = np.zeros((n, 1))\n",
    "    # x[0:nt] = 2*np.ones((nt, 1))\n",
    "    x = np.heaviside(t - 0.2, 1) + 2.1*np.heaviside(t - 0.4, 1) - 1.2*np.heaviside(t - 0.7, 1)\n",
    "    x = x\n",
    "    b = np.dot(A, x)\n",
    "\n",
    "    return A, b, x"
   ]
  },
  {
   "cell_type": "code",
   "execution_count": 3,
   "id": "stopped-sleeping",
   "metadata": {},
   "outputs": [],
   "source": [
    "n = 64\n",
    "A, b, x = gravity(n)\n",
    "#L = np.diag(-np.ones(n), 0) + np.diag(np.ones(n-1), 1)\n",
    "#L = L[:len(x)-1][:]\n",
    "#Lop = pylops.MatrixMult(L)\n",
    "\n",
    "Aop = pylops.MatrixMult(A)\n",
    "Lop = pylops.FirstDerivative(n, kind='forward')"
   ]
  },
  {
   "cell_type": "code",
   "execution_count": 4,
   "id": "purple-sleep",
   "metadata": {},
   "outputs": [
    {
     "name": "stdout",
     "output_type": "stream",
     "text": [
      "Relative error for SR3: 0.00165643624974003\n"
     ]
    },
    {
     "data": {
      "image/png": "[encoded data removed]",
      "text/plain": [
       "<Figure size 1000x400 with 1 Axes>"
      ]
     },
     "metadata": {},
     "output_type": "display_data"
    }
   ],
   "source": [
    "x_sr3 = SR3(Aop, Lop, b, 1, 1e-3, iter_lim_outer=int(1e4), adaptive=True)\n",
    "\n",
    "fig, ax = plt.subplots(1, 1, figsize=(10, 4))\n",
    "x_plot = np.linspace(0, 1, n)\n",
    "ax.plot(x_plot, x, color='b', linewidth=2)\n",
    "ax.plot(x_plot, x_sr3, color='r', linewidth=2)\n",
    "ax.set_title('SR3')\n",
    "ax.axis('tight')\n",
    "fig.tight_layout()\n",
    "\n",
    "print('Relative error for SR3:', np.linalg.norm(x - x_sr3)/(np.linalg.norm(x)))"
   ]
  },
  {
   "cell_type": "code",
   "execution_count": 5,
   "id": "metric-papua",
   "metadata": {},
   "outputs": [
    {
     "name": "stdout",
     "output_type": "stream",
     "text": [
      "Relative error for SR3: 0.0014959625661228998\n"
     ]
    },
    {
     "data": {
      "image/png": "[encoded data removed]",
      "text/plain": [
       "<Figure size 1000x400 with 1 Axes>"
      ]
     },
     "metadata": {},
     "output_type": "display_data"
    }
   ],
   "source": [
    "x_sr3 = SR3(Aop, Lop, b, 1, 1e-3, iter_lim_outer=int(1e4), adaptive=False)\n",
    "\n",
    "fig, ax = plt.subplots(1, 1, figsize=(10, 4))\n",
    "x_plot = np.linspace(0, 1, n)\n",
    "ax.plot(x_plot, x, color='b', linewidth=2)\n",
    "ax.plot(x_plot, x_sr3, color='r', linewidth=2)\n",
    "ax.set_title('SR3')\n",
    "ax.axis('tight')\n",
    "fig.tight_layout()\n",
    "\n",
    "print('Relative error for SR3:', np.linalg.norm(x - x_sr3)/(np.linalg.norm(x)))"
   ]
  }
 ],
 "metadata": {
  "kernelspec": {
   "display_name": "pylops",
   "language": "python",
   "name": "python3"
  },
  "language_info": {
   "codemirror_mode": {
    "name": "ipython",
    "version": 3
   },
   "file_extension": ".py",
   "mimetype": "text/x-python",
   "name": "python",
   "nbconvert_exporter": "python",
   "pygments_lexer": "ipython3",
   "version": "3.13.5"
  }
 },
 "nbformat": 4,
 "nbformat_minor": 5
}
