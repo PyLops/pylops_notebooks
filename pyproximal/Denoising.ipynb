{
 "cells": [
  {
   "cell_type": "markdown",
   "metadata": {},
   "source": [
    "# Denoising by proximal solvers"
   ]
  },
  {
   "cell_type": "markdown",
   "metadata": {},
   "source": [
    "We try to solve the following problem:\n",
    "\n",
    "$$\n",
    "arg \\;  min_\\mathbf{u} \\frac{1}{2}||\\mathbf{u-f}||_2^2 + \\sigma J(\\mathbf{u})\n",
    "$$\n",
    "\n",
    "with different choices of regularization:\n",
    "\n",
    "- L2 on Gradient $ J(\\mathbf{u}) = ||\\nabla \\mathbf{u}||_2^2$\n",
    "- L1 on Wavelet (Orthogonal operator) $ J(\\mathbf{u}) = ||\\mathbf{W} \\mathbf{u}||_1$\n",
    "- Anisotropic TV $ J(\\mathbf{u}) = ||\\nabla \\mathbf{u}||_1$\n",
    "- Anisotropic TV + Bregman iterations $ J(\\mathbf{u}) = ||\\nabla \\mathbf{u}||_1 - \\mathbf{p}_k^T \\mathbf{u}$\n",
    "- Isotropic TV $ J(\\mathbf{u}) = ||\\nabla \\mathbf{u}||_{2,1}$\n",
    "- Isotropic TV + Bregman iterations $ J(\\mathbf{u}) = ||\\nabla \\mathbf{u}||_{2,1} - \\mathbf{p}_k^T \\mathbf{u}$"
   ]
  },
  {
   "cell_type": "code",
   "execution_count": 1,
   "metadata": {},
   "outputs": [],
   "source": [
    "%load_ext autoreload\n",
    "%autoreload 2\n",
    "%matplotlib inline\n",
    "\n",
    "import warnings\n",
    "warnings.filterwarnings('ignore')\n",
    "\n",
    "import numpy as np\n",
    "import matplotlib.pyplot as plt\n",
    "\n",
    "from scipy import datasets\n",
    "from scipy.signal import filtfilt\n",
    "from scipy.linalg import solve\n",
    "from scipy.sparse.linalg import lsqr\n",
    "from pylops.basicoperators import *\n",
    "from pylops.signalprocessing import *\n",
    "from pylops.utils.wavelets import *\n",
    "from pylops.avo.poststack import *\n",
    "from pylops.optimization.sparsity import *\n",
    "\n",
    "from pyproximal.proximal import *\n",
    "from pyproximal import ProxOperator\n",
    "from pyproximal.optimization.primal import *\n",
    "from pyproximal.optimization.primaldual import *\n",
    "from pyproximal.optimization.bregman import *\n",
    "\n",
    "np.random.seed(0)"
   ]
  },
  {
   "cell_type": "markdown",
   "metadata": {},
   "source": [
    "Data and operators preparation"
   ]
  },
  {
   "cell_type": "code",
   "execution_count": 2,
   "metadata": {},
   "outputs": [],
   "source": [
    "# Load image\n",
    "img = datasets.ascent()\n",
    "img = img/np.max(img)\n",
    "ny, nx = img.shape\n",
    "\n",
    "# Add noise\n",
    "sigman = 0.2\n",
    "n = sigman*np.max(abs(img.ravel()))*np.random.uniform(-1,1, img.shape)\n",
    "#n = np.random.normal(0, sigman, img.shape)\n",
    "noise_img = img + n"
   ]
  },
  {
   "cell_type": "code",
   "execution_count": 3,
   "metadata": {},
   "outputs": [],
   "source": [
    "# Gradient operator\n",
    "sampling = 1.\n",
    "Gop = Gradient(dims=(ny, nx), sampling=sampling, edge=False, \n",
    "               kind='forward', dtype='float64')"
   ]
  },
  {
   "cell_type": "markdown",
   "metadata": {},
   "source": [
    "### L2 on Gradient"
   ]
  },
  {
   "cell_type": "code",
   "execution_count": 4,
   "metadata": {},
   "outputs": [],
   "source": [
    "# L2 data term\n",
    "l2 = L2(b=noise_img.ravel())\n",
    "\n",
    "# L2 regularization\n",
    "sigma = 2.\n",
    "thik = L2(sigma=sigma)\n",
    "\n",
    "L = 8. / sampling**2 # maxeig(Grad^H Grad)\n",
    "tau = 1.\n",
    "mu = 1. / (tau*L)\n",
    "\n",
    "iml2 = LinearizedADMM(l2, thik, Gop, tau=tau, mu=mu, \n",
    "                      x0=np.zeros_like(img.ravel()), \n",
    "                      niter=100)[0]\n",
    "iml2 = iml2.reshape(img.shape)"
   ]
  },
  {
   "cell_type": "markdown",
   "metadata": {},
   "source": [
    "### L1 on Wavelet"
   ]
  },
  {
   "cell_type": "code",
   "execution_count": 5,
   "metadata": {},
   "outputs": [
    {
     "name": "stdout",
     "output_type": "stream",
     "text": [
      "Accelerated Proximal Gradient\n",
      "---------------------------------------------------------\n",
      "Proximal operator (f): <class 'pyproximal.proximal.L2.L2'>\n",
      "Proximal operator (g): <class 'pyproximal.proximal.Orthogonal.Orthogonal'>\n",
      "tau = 1.0\tbacktrack = False\tbeta = 5.000000e-01\n",
      "epsg = 1.0\tniter = 1\ttol = None\n",
      "niterback = 100\tacceleration = None\n",
      "\n",
      "   Itn       x[0]          f           g       J=f+eps*g       tau\n",
      "     1   3.49085e-01   8.074e+02   1.654e+03   2.462e+03   1.000e+00\n",
      "\n",
      "Total time (s) = 0.01\n",
      "---------------------------------------------------------\n",
      "\n",
      "Accelerated Proximal Gradient\n",
      "---------------------------------------------------------\n",
      "Proximal operator (f): <class 'pyproximal.proximal.L2.L2'>\n",
      "Proximal operator (g): <class 'pyproximal.proximal.Orthogonal.Orthogonal'>\n",
      "tau = 1.0\tbacktrack = False\tbeta = 5.000000e-01\n",
      "epsg = 1.0\tniter = 5\ttol = None\n",
      "niterback = 100\tacceleration = None\n",
      "\n",
      "   Itn       x[0]          f           g       J=f+eps*g       tau\n",
      "     1   3.49085e-01   8.074e+02   1.654e+03   2.462e+03   1.000e+00\n",
      "     2   3.49085e-01   8.074e+02   1.654e+03   2.462e+03   1.000e+00\n",
      "     3   3.49085e-01   8.074e+02   1.654e+03   2.462e+03   1.000e+00\n",
      "     4   3.49085e-01   8.074e+02   1.654e+03   2.462e+03   1.000e+00\n",
      "     5   3.49085e-01   8.074e+02   1.654e+03   2.462e+03   1.000e+00\n",
      "\n",
      "Total time (s) = 0.07\n",
      "---------------------------------------------------------\n",
      "\n",
      "True\n"
     ]
    }
   ],
   "source": [
    "# L2 data term\n",
    "l2 = L2(b=noise_img.ravel())\n",
    "\n",
    "# L1 Norm of Wavelet\n",
    "sigma = .1\n",
    "Qop = DWT2D(img.shape, wavelet='haar', level=4)\n",
    "l1 = L1(sigma=sigma)\n",
    "orth = Orthogonal(l1, Qop)\n",
    "\n",
    "tau = 1. # eigs(Identity) as Identity is the operator of f\n",
    "\n",
    "# This converges in one iteration\n",
    "imq = ProximalGradient(l2, orth, x0=np.zeros_like(img.ravel()), tau=1., niter=1, show=True)\n",
    "imq = imq.reshape(img.shape)\n",
    "\n",
    "imq1 = ProximalGradient(l2, orth, x0=np.zeros_like(img.ravel()), tau=1., niter=5, show=True)\n",
    "imq1 = imq1.reshape(img.shape)\n",
    "\n",
    "print(np.allclose(imq, imq1))"
   ]
  },
  {
   "cell_type": "markdown",
   "metadata": {},
   "source": [
    "### Anisotropic TV"
   ]
  },
  {
   "cell_type": "code",
   "execution_count": 6,
   "metadata": {},
   "outputs": [
    {
     "name": "stdout",
     "output_type": "stream",
     "text": [
      "Linearized-ADMM\n",
      "---------------------------------------------------------\n",
      "Proximal operator (f): <class 'pyproximal.proximal.L2.L2'>\n",
      "Proximal operator (g): <class 'pyproximal.proximal.L1.L1'>\n",
      "Linear operator (A): <class 'pylops.basicoperators.gradient.Gradient'>\n",
      "tau = 1.000000e+00\tmu = 1.250000e-01\tniter = 100\n",
      "\n",
      "   Itn       x[0]          f           g       J = f + g\n",
      "     1   3.83351e-02   1.736e+04   8.264e+02   1.819e+04\n",
      "     2   7.58463e-02   1.406e+04   7.727e+02   1.483e+04\n",
      "     3   1.11237e-01   1.156e+04   6.383e+02   1.220e+04\n",
      "     4   1.43698e-01   9.595e+03   5.660e+02   1.016e+04\n",
      "     5   1.72849e-01   8.015e+03   5.504e+02   8.565e+03\n",
      "     6   1.98420e-01   6.746e+03   5.541e+02   7.300e+03\n",
      "     7   2.20306e-01   5.730e+03   5.631e+02   6.293e+03\n",
      "     8   2.38615e-01   4.920e+03   5.749e+02   5.495e+03\n",
      "     9   2.53645e-01   4.275e+03   5.882e+02   4.863e+03\n",
      "    10   2.65812e-01   3.762e+03   6.015e+02   4.363e+03\n",
      "    11   2.75586e-01   3.354e+03   6.137e+02   3.968e+03\n",
      "    21   3.22257e-01   1.923e+03   6.783e+02   2.602e+03\n",
      "    31   3.40198e-01   1.764e+03   6.949e+02   2.459e+03\n",
      "    41   3.46074e-01   1.742e+03   6.984e+02   2.440e+03\n",
      "    51   3.48449e-01   1.737e+03   6.985e+02   2.436e+03\n",
      "    61   3.48802e-01   1.736e+03   6.980e+02   2.434e+03\n",
      "    71   3.48870e-01   1.735e+03   6.975e+02   2.433e+03\n",
      "    81   3.48972e-01   1.735e+03   6.971e+02   2.432e+03\n",
      "    91   3.49003e-01   1.735e+03   6.968e+02   2.432e+03\n",
      "    92   3.49003e-01   1.735e+03   6.968e+02   2.432e+03\n",
      "    93   3.49003e-01   1.735e+03   6.968e+02   2.432e+03\n",
      "    94   3.49002e-01   1.735e+03   6.967e+02   2.432e+03\n",
      "    95   3.49001e-01   1.735e+03   6.967e+02   2.432e+03\n",
      "    96   3.49000e-01   1.735e+03   6.967e+02   2.432e+03\n",
      "    97   3.48999e-01   1.735e+03   6.967e+02   2.432e+03\n",
      "    98   3.48998e-01   1.735e+03   6.967e+02   2.432e+03\n",
      "    99   3.48997e-01   1.735e+03   6.966e+02   2.431e+03\n",
      "   100   3.48996e-01   1.735e+03   6.966e+02   2.431e+03\n",
      "\n",
      "Total time (s) = 1.29\n",
      "---------------------------------------------------------\n",
      "\n"
     ]
    }
   ],
   "source": [
    "# L2 data term\n",
    "l2 = L2(b=noise_img.ravel())\n",
    "\n",
    "# Anisotropic TV\n",
    "sigma = .1\n",
    "l1 = L1(sigma=sigma)\n",
    "\n",
    "L = 8. / sampling**2 # maxeig(Grad^H Grad)\n",
    "tau = 1.\n",
    "mu = tau / L\n",
    "\n",
    "iml1 = LinearizedADMM(l2, l1, Gop, tau=tau, mu=mu, \n",
    "                      x0=np.zeros_like(img.ravel()), \n",
    "                      niter=100, show=True)[0]\n",
    "iml1 = iml1.reshape(img.shape)"
   ]
  },
  {
   "cell_type": "markdown",
   "metadata": {},
   "source": [
    "### Anisotropic TV + Bregman iterations"
   ]
  },
  {
   "cell_type": "code",
   "execution_count": 7,
   "metadata": {},
   "outputs": [
    {
     "name": "stdout",
     "output_type": "stream",
     "text": [
      "Bregman\n",
      "---------------------------------------------------------\n",
      "Proximal operator (f): <class 'pyproximal.proximal.L2.L2'>\n",
      "Proximal operator (g): <class 'pyproximal.proximal.L1.L1'>\n",
      "Linear operator (A): <class 'pylops.basicoperators.gradient.Gradient'>\n",
      "Inner Solver: <function LinearizedADMM at 0x16811a660>\n",
      "alpha = 1.500000e+00\ttolf = 1.000000e-10\ttolx = 1.000000e-10\n",
      "niter = 10\n",
      "\n",
      "   Itn       x[0]          f           g       J = f + g\n",
      "     1   3.19919e-01   3.569e+03   2.551e+03   6.121e+03\n",
      "     2   3.16910e-01   3.071e+03   3.786e+03   6.856e+03\n",
      "     3   3.14483e-01   2.511e+03   5.924e+03   8.435e+03\n",
      "     4   3.12194e-01   2.245e+03   7.569e+03   9.814e+03\n",
      "     5   3.09848e-01   2.104e+03   8.668e+03   1.077e+04\n",
      "     6   3.07416e-01   2.003e+03   9.608e+03   1.161e+04\n",
      "     7   3.04913e-01   1.921e+03   1.053e+04   1.245e+04\n",
      "     8   3.06308e-01   1.852e+03   1.145e+04   1.330e+04\n",
      "     9   3.28754e-01   1.780e+03   1.253e+04   1.431e+04\n",
      "    10   4.01893e-01   1.716e+03   1.366e+04   1.538e+04\n",
      "\n",
      "Total time (s) = 4.93\n",
      "---------------------------------------------------------\n",
      "\n"
     ]
    }
   ],
   "source": [
    "# L2 data term\n",
    "sigma = 1.5\n",
    "l2 = L2(b=noise_img.ravel())\n",
    "\n",
    "# Anisotropic TV\n",
    "l1 = L1()\n",
    "\n",
    "L = 8. / sampling**2 # maxeig(Grad^H Grad)\n",
    "tau = 1.\n",
    "mu = tau / L\n",
    "\n",
    "iml1b = Bregman(l2, l1, x0=np.zeros_like(img.ravel()), A=Gop, \n",
    "                 solver=LinearizedADMM, alpha=sigma, niterouter=10, show=True,\n",
    "                 **dict(tau=tau, mu=mu, niter=50))\n",
    "iml1b = iml1b.reshape(img.shape)"
   ]
  },
  {
   "cell_type": "markdown",
   "metadata": {},
   "source": [
    "### Isotropic TV (with Primal-Dual)"
   ]
  },
  {
   "cell_type": "code",
   "execution_count": 8,
   "metadata": {},
   "outputs": [
    {
     "name": "stdout",
     "output_type": "stream",
     "text": [
      "Primal-dual: min_x f(Ax) + x^T z + g(x)\n",
      "---------------------------------------------------------\n",
      "Proximal operator (f): <class 'pyproximal.proximal.L2.L2'>\n",
      "Proximal operator (g): <class 'pyproximal.proximal.L21.L21'>\n",
      "Linear operator (A): <class 'pylops.basicoperators.gradient.Gradient'>\n",
      "Additional vector (z): None\n",
      "tau = 0.35355339059327373\t\tmu = 0.3535533905932738\n",
      "theta = 1.00\t\tniter = 400\n",
      "\n",
      "   Itn       x[0]          f           g          z^x       J = f + g + z^x\n",
      "     1   9.01194e-02   1.199e+04   1.515e+03   0.000e+00       1.351e+04\n",
      "     2   1.63412e-01   7.059e+03   1.432e+03   0.000e+00       8.490e+03\n",
      "     3   2.21451e-01   4.538e+03   1.175e+03   0.000e+00       5.713e+03\n",
      "     4   2.66395e-01   3.221e+03   9.936e+02   0.000e+00       4.215e+03\n",
      "     5   3.00515e-01   2.518e+03   8.961e+02   0.000e+00       3.414e+03\n",
      "     6   3.25770e-01   2.133e+03   8.456e+02   0.000e+00       2.979e+03\n",
      "     7   3.43842e-01   1.917e+03   8.158e+02   0.000e+00       2.733e+03\n",
      "     8   3.56216e-01   1.793e+03   7.961e+02   0.000e+00       2.589e+03\n",
      "     9   3.64190e-01   1.721e+03   7.824e+02   0.000e+00       2.504e+03\n",
      "    10   3.68878e-01   1.679e+03   7.728e+02   0.000e+00       2.451e+03\n",
      "    41   3.57563e-01   1.610e+03   7.239e+02   0.000e+00       2.334e+03\n",
      "    81   3.58047e-01   1.610e+03   7.196e+02   0.000e+00       2.329e+03\n",
      "   121   3.58150e-01   1.610e+03   7.184e+02   0.000e+00       2.328e+03\n",
      "   161   3.58172e-01   1.610e+03   7.178e+02   0.000e+00       2.328e+03\n",
      "   201   3.58183e-01   1.610e+03   7.175e+02   0.000e+00       2.327e+03\n",
      "   241   3.58189e-01   1.610e+03   7.173e+02   0.000e+00       2.327e+03\n",
      "   281   3.58192e-01   1.610e+03   7.172e+02   0.000e+00       2.327e+03\n",
      "   321   3.58194e-01   1.610e+03   7.171e+02   0.000e+00       2.327e+03\n",
      "   361   3.58195e-01   1.610e+03   7.170e+02   0.000e+00       2.327e+03\n",
      "   392   3.58196e-01   1.610e+03   7.170e+02   0.000e+00       2.327e+03\n",
      "   393   3.58196e-01   1.610e+03   7.170e+02   0.000e+00       2.327e+03\n",
      "   394   3.58196e-01   1.610e+03   7.169e+02   0.000e+00       2.327e+03\n",
      "   395   3.58196e-01   1.610e+03   7.169e+02   0.000e+00       2.327e+03\n",
      "   396   3.58196e-01   1.610e+03   7.169e+02   0.000e+00       2.327e+03\n",
      "   397   3.58196e-01   1.610e+03   7.169e+02   0.000e+00       2.327e+03\n",
      "   398   3.58196e-01   1.610e+03   7.169e+02   0.000e+00       2.327e+03\n",
      "   399   3.58196e-01   1.610e+03   7.169e+02   0.000e+00       2.327e+03\n",
      "   400   3.58196e-01   1.610e+03   7.169e+02   0.000e+00       2.327e+03\n",
      "\n",
      "Total time (s) = 4.12\n",
      "---------------------------------------------------------\n",
      "\n"
     ]
    }
   ],
   "source": [
    "# L2 data term\n",
    "l2 = L2(b=noise_img.ravel())\n",
    "\n",
    "# Isotropic TV\n",
    "sigma= 0.1\n",
    "l1iso = L21(ndim=2, sigma=sigma)\n",
    "\n",
    "# Primal-dual\n",
    "L =  8. / sampling**2 # maxeig(Grad^H Grad)\n",
    "tau = 1 / np.sqrt(L)\n",
    "mu = 1. / (tau*L)\n",
    "\n",
    "iml12 = PrimalDual(l2, l1iso, Gop, tau=tau, mu=mu, theta=1., \n",
    "                   x0=np.zeros_like(img.ravel()), \n",
    "                   niter=400, show=True)\n",
    "iml12 = iml12.reshape(img.shape)"
   ]
  },
  {
   "cell_type": "markdown",
   "metadata": {},
   "source": [
    "### Isotropic TV + Bregman iterations"
   ]
  },
  {
   "cell_type": "code",
   "execution_count": 9,
   "metadata": {},
   "outputs": [
    {
     "name": "stdout",
     "output_type": "stream",
     "text": [
      "Bregman\n",
      "---------------------------------------------------------\n",
      "Proximal operator (f): <class 'pyproximal.proximal.L2.L2'>\n",
      "Proximal operator (g): <class 'pyproximal.proximal.L21.L21'>\n",
      "Linear operator (A): <class 'pylops.basicoperators.gradient.Gradient'>\n",
      "Inner Solver: <function PrimalDual at 0x16811a980>\n",
      "alpha = 2.000000e+00\ttolf = 1.000000e-10\ttolx = 1.000000e-10\n",
      "niter = 10\n",
      "\n",
      "   Itn       x[0]          f           g       J = f + g\n",
      "     1   3.30472e-01   3.176e+03   3.732e+03   6.908e+03\n",
      "     2   3.36947e-01   2.979e+03   4.912e+03   7.892e+03\n",
      "     3   3.43091e-01   2.691e+03   6.171e+03   8.862e+03\n",
      "     4   3.48271e-01   2.373e+03   8.013e+03   1.039e+04\n",
      "     5   3.52603e-01   2.196e+03   9.465e+03   1.166e+04\n",
      "     6   3.56232e-01   2.088e+03   1.055e+04   1.264e+04\n",
      "     7   3.59286e-01   2.008e+03   1.144e+04   1.344e+04\n",
      "     8   3.61871e-01   1.943e+03   1.226e+04   1.420e+04\n",
      "     9   3.64071e-01   1.877e+03   1.318e+04   1.506e+04\n",
      "    10   3.65959e-01   1.809e+03   1.429e+04   1.610e+04\n",
      "\n",
      "Total time (s) = 4.97\n",
      "---------------------------------------------------------\n",
      "\n"
     ]
    }
   ],
   "source": [
    "sigma= 2.\n",
    "l2 = L2(b=noise_img.ravel())\n",
    "\n",
    "# Isotropic TV\n",
    "l1iso = L21(ndim=2)\n",
    "\n",
    "# Primal-dual\n",
    "L =  8. / sampling**2 # maxeig(Grad^H Grad)\n",
    "tau = 1 / np.sqrt(L)\n",
    "mu = 1. / (tau*L)\n",
    "\n",
    "iml12b = Bregman(l2, l1iso, x0=np.zeros_like(img.ravel()), \n",
    "                  solver=PrimalDual, A=Gop, alpha=sigma, \n",
    "                  niterouter=10, show=True,\n",
    "                  **dict(tau=tau, mu=mu, theta=1., niter=50))\n",
    "iml12b = iml12b.reshape(img.shape)"
   ]
  },
  {
   "cell_type": "code",
   "execution_count": 10,
   "metadata": {
    "scrolled": false
   },
   "outputs": [],
   "source": [
    "fig, axs = plt.subplots(3, 2, figsize=(14, 14))\n",
    "axs[0][0].imshow(img, cmap='gray', vmin=0, vmax=1)\n",
    "axs[0][0].set_title('Original')\n",
    "axs[0][0].axis('off')\n",
    "axs[0][0].axis('tight')\n",
    "axs[0][1].imshow(noise_img, cmap='gray', vmin=0, vmax=1)\n",
    "axs[0][1].set_title('Noisy')\n",
    "axs[0][1].axis('off')\n",
    "axs[0][1].axis('tight')\n",
    "axs[1][0].imshow(iml1, cmap='gray', vmin=0, vmax=1)\n",
    "axs[1][0].set_title('TVaniso')\n",
    "axs[1][0].axis('off')\n",
    "axs[1][0].axis('tight')\n",
    "axs[1][1].imshow(iml12, cmap='gray', vmin=0, vmax=1)\n",
    "axs[1][1].set_title('TViso')\n",
    "axs[1][1].axis('off')\n",
    "axs[1][1].axis('tight');\n",
    "axs[2][0].imshow(iml1b, cmap='gray', vmin=0, vmax=1)\n",
    "axs[2][0].set_title('Breg+TVaniso')\n",
    "axs[2][0].axis('off')\n",
    "axs[2][0].axis('tight')\n",
    "axs[2][1].imshow(iml12b, cmap='gray', vmin=0, vmax=1)\n",
    "axs[2][1].set_title('Breg+TViso')\n",
    "axs[2][1].axis('off')\n",
    "axs[2][1].axis('tight')\n",
    "\n",
    "ix_min = 84\n",
    "ix_max = 155\n",
    "iy = 20\n",
    "plt.figure(figsize=(9, 6))\n",
    "plt.plot(img[ix_min:ix_max, iy], 'k', label='True')\n",
    "plt.plot(noise_img[ix_min:ix_max, iy], 'k', lw=0.5, label='Noisy')\n",
    "plt.plot(iml2[ix_min:ix_max, iy], 'b', label='L2reg')\n",
    "plt.plot(iml1[ix_min:ix_max, iy], 'g', label='TVaniso')\n",
    "plt.plot(iml1b[ix_min:ix_max, iy], 'm', label='Breg+TVaniso')\n",
    "plt.plot(iml12[ix_min:ix_max, iy], 'r', label='TViso')\n",
    "plt.plot(iml12b[ix_min:ix_max, iy], 'y', label='Breg+TViso')\n",
    "plt.legend();\n",
    "\n",
    "ix = 50\n",
    "iy_min = 250\n",
    "iy_max = 350\n",
    "plt.figure(figsize=(9, 6))\n",
    "plt.plot(img[ix, iy_min:iy_max], 'k', label='True')\n",
    "plt.plot(noise_img[ix, iy_min:iy_max], 'k', lw=0.5, label='Noisy')\n",
    "plt.plot(iml2[ix, iy_min:iy_max], 'b', label='L2reg')\n",
    "plt.plot(iml1[ix, iy_min:iy_max], 'g', label='TVaniso')\n",
    "plt.plot(iml1b[ix, iy_min:iy_max], 'm', label='Breg+TVaniso')\n",
    "plt.plot(iml12[ix, iy_min:iy_max], 'r', label='TViso')\n",
    "plt.plot(iml12b[ix, iy_min:iy_max], 'y', label='Breg+TViso')\n",
    "plt.legend();"
   ]
  },
  {
   "cell_type": "markdown",
   "metadata": {},
   "source": [
    "## Salt and Pepper noise"
   ]
  },
  {
   "cell_type": "markdown",
   "metadata": {},
   "source": [
    "At this point we have considered random noise. We will deal now with salt and pepper noise (which is 0 and 1 spikes added randomly to the image.\n",
    "\n",
    "It turns out that in this case switching from a L2 norm to a L1 norm on the data term can be used to further improve our denoising capabilities:\n",
    "\n",
    "\n",
    "$$\n",
    "arg \\;  min_\\mathbf{u} ||\\mathbf{u-f}||_1 + \\sigma J(\\mathbf{u})\n",
    "$$"
   ]
  },
  {
   "cell_type": "code",
   "execution_count": 11,
   "metadata": {},
   "outputs": [
    {
     "ename": "NameError",
     "evalue": "name 'misc' is not defined",
     "output_type": "error",
     "traceback": [
      "\u001b[31m---------------------------------------------------------------------------\u001b[39m",
      "\u001b[31mNameError\u001b[39m                                 Traceback (most recent call last)",
      "\u001b[36mCell\u001b[39m\u001b[36m \u001b[39m\u001b[32mIn[11]\u001b[39m\u001b[32m, line 2\u001b[39m\n\u001b[32m      1\u001b[39m \u001b[38;5;66;03m# Load image\u001b[39;00m\n\u001b[32m----> \u001b[39m\u001b[32m2\u001b[39m img = misc.ascent()\n\u001b[32m      3\u001b[39m \u001b[38;5;66;03m#img = 2*img/np.max(img) - 1.\u001b[39;00m\n\u001b[32m      4\u001b[39m img = img/np.max(img)\n",
      "\u001b[31mNameError\u001b[39m: name 'misc' is not defined"
     ]
    }
   ],
   "source": [
    "# Load image\n",
    "img = misc.ascent()\n",
    "#img = 2*img/np.max(img) - 1.\n",
    "img = img/np.max(img)\n",
    "ny, nx = img.shape\n",
    "\n",
    "# Add salt and pepper noise\n",
    "noiseperc = 0.1\n",
    "\n",
    "isalt = np.random.permutation(np.arange(ny*nx))[:int(noiseperc*ny*nx)]\n",
    "ipepper = np.random.permutation(np.arange(ny*nx))[:int(noiseperc*ny*nx)]\n",
    "noise_img = img.copy().ravel()\n",
    "noise_img[isalt] = img.max()\n",
    "noise_img[ipepper] = img.min()\n",
    "noise_img = noise_img.reshape(ny,nx)"
   ]
  },
  {
   "cell_type": "code",
   "execution_count": null,
   "metadata": {},
   "outputs": [],
   "source": [
    "# Gradient operator\n",
    "sampling = 1.\n",
    "Gop = Gradient(dims=(ny, nx), sampling=sampling, edge=False, \n",
    "               kind='forward', dtype='float64')"
   ]
  },
  {
   "cell_type": "markdown",
   "metadata": {},
   "source": [
    "### L2 data norm with Isotropic TV"
   ]
  },
  {
   "cell_type": "code",
   "execution_count": null,
   "metadata": {},
   "outputs": [],
   "source": [
    "# L2 data term\n",
    "l2 = L2(b=noise_img.ravel())\n",
    "\n",
    "# L1 regularization (isotropic TV)\n",
    "sigma = .2\n",
    "l1iso = L21(ndim=2, sigma=sigma)\n",
    "\n",
    "# Primal-dual\n",
    "L = 8. / sampling**2 # maxeig(Grad^H Grad)\n",
    "tau = .1\n",
    "mu = 1. / (tau*L)\n",
    "\n",
    "iml12_l2 = PrimalDual(l2, l1iso, Gop, tau=tau, mu=mu, theta=1., x0=np.zeros_like(noise_img).ravel(), \n",
    "                      niter=400, show=True)\n",
    "iml12_l2 = iml12_l2.reshape(img.shape)"
   ]
  },
  {
   "cell_type": "markdown",
   "metadata": {},
   "source": [
    "### L1 data norm with Isotropic TV"
   ]
  },
  {
   "cell_type": "code",
   "execution_count": null,
   "metadata": {},
   "outputs": [],
   "source": [
    "# L1 data term\n",
    "l1 = L1(g=noise_img.ravel())\n",
    "\n",
    "# L1 regularization (isotropic TV)\n",
    "sigma = 0.7\n",
    "l1iso = L21(ndim=2, sigma=sigma)\n",
    "\n",
    "# Primal-dual\n",
    "L =  8. / sampling**2 # maxeig(Grad^H Grad)\n",
    "tau = 1.\n",
    "mu = 1. / (tau*L)\n",
    "\n",
    "iml12_l1 = PrimalDual(l1, l1iso, Gop, tau=tau, mu=mu, theta=1., \n",
    "                      x0=np.zeros_like(noise_img).ravel(), #x0=noise_img.ravel(), \n",
    "                      niter=100, show=True)\n",
    "iml12_l1 = iml12_l1.reshape(img.shape)"
   ]
  },
  {
   "cell_type": "code",
   "execution_count": null,
   "metadata": {},
   "outputs": [],
   "source": [
    "fig, axs = plt.subplots(2, 2, figsize=(14, 8))\n",
    "axs[0][0].imshow(img, cmap='gray', vmin=0, vmax=1)\n",
    "axs[0][0].set_title('Original')\n",
    "axs[0][0].axis('off')\n",
    "axs[0][0].axis('tight')\n",
    "axs[0][1].imshow(noise_img, cmap='gray', vmin=0, vmax=1)\n",
    "axs[0][1].set_title('Noisy')\n",
    "axs[0][1].axis('off')\n",
    "axs[0][1].axis('tight')\n",
    "axs[1][0].imshow(iml12_l2, cmap='gray', vmin=0, vmax=1)\n",
    "axs[1][0].set_title('L2data + TViso')\n",
    "axs[1][0].axis('off')\n",
    "axs[1][0].axis('tight')\n",
    "axs[1][1].imshow(iml12_l1, cmap='gray', vmin=0, vmax=1)\n",
    "axs[1][1].set_title('L1data + TViso')\n",
    "axs[1][1].axis('off')\n",
    "axs[1][1].axis('tight');"
   ]
  }
 ],
 "metadata": {
  "kernelspec": {
   "display_name": "pylops",
   "language": "python",
   "name": "python3"
  },
  "language_info": {
   "codemirror_mode": {
    "name": "ipython",
    "version": 3
   },
   "file_extension": ".py",
   "mimetype": "text/x-python",
   "name": "python",
   "nbconvert_exporter": "python",
   "pygments_lexer": "ipython3",
   "version": "3.13.5"
  },
  "toc": {
   "base_numbering": 1,
   "nav_menu": {},
   "number_sections": true,
   "sideBar": true,
   "skip_h1_title": false,
   "title_cell": "Table of Contents",
   "title_sidebar": "Contents",
   "toc_cell": false,
   "toc_position": {},
   "toc_section_display": true,
   "toc_window_display": false
  }
 },
 "nbformat": 4,
 "nbformat_minor": 2
}
