{
 "cells": [
  {
   "cell_type": "markdown",
   "id": "db7622ae",
   "metadata": {},
   "source": [
    "# Simplex and Segmentation on GPU\n",
    "\n",
    "This notebooks tests the GPU implementation of the Simplex operator against its numba-cpu version. \n",
    "\n",
    "Similarly, an example of segmentation is performed for both cases."
   ]
  },
  {
   "cell_type": "code",
   "execution_count": 1,
   "id": "ada50576",
   "metadata": {},
   "outputs": [],
   "source": [
    "%load_ext autoreload\n",
    "%autoreload 2\n",
    "%matplotlib inline\n",
    "\n",
    "import os\n",
    "import warnings\n",
    "warnings.filterwarnings('ignore')\n",
    "import collections\n",
    "\n",
    "import numpy as np\n",
    "import cupy as cp\n",
    "import scipy as sp\n",
    "import matplotlib\n",
    "import matplotlib.pyplot as plt\n",
    "import matplotlib.cm as cm\n",
    "import segyio\n",
    "\n",
    "from scipy.signal import filtfilt\n",
    "from scipy.linalg import solve\n",
    "from scipy.sparse.linalg import lsqr\n",
    "from scipy.ndimage import gaussian_filter\n",
    "from matplotlib.colors import LinearSegmentedColormap\n",
    "from matplotlib.colors import Normalize\n",
    "\n",
    "from pyproximal.proximal import *\n",
    "from pyproximal import ProxOperator\n",
    "from pyproximal.optimization.primal import *\n",
    "from pyproximal.optimization.primaldual import *\n",
    "from pyproximal.optimization.bregman import *\n",
    "from pyproximal.optimization.segmentation import *\n",
    "\n",
    "cp.cuda.Device(device=0).use();"
   ]
  },
  {
   "cell_type": "markdown",
   "id": "03231901-2850-44aa-91d2-34d4f80cc96e",
   "metadata": {},
   "source": [
    "## Create dataset"
   ]
  },
  {
   "cell_type": "code",
   "execution_count": 2,
   "id": "7210bc91-ee98-4163-997a-ef3cf9cebacd",
   "metadata": {},
   "outputs": [
    {
     "name": "stdout",
     "output_type": "stream",
     "text": [
      "12 11\n"
     ]
    },
    {
     "data": {
      "image/png": "[encoded data removed]",
      "text/plain": [
       "<Figure size 640x480 with 2 Axes>"
      ]
     },
     "metadata": {},
     "output_type": "display_data"
    }
   ],
   "source": [
    "# Raw model\n",
    "f = segyio.open('../data/seismicinversion/timodel_vp.segy', ignore_geometry=True)\n",
    "vel = segyio.collect(f.trace[:]).T \n",
    "\n",
    "# Velocity model [m/s]\n",
    "vel = np.pad(vel, ((80, 0), (0, 0)), constant_values=vel[0, 0])\n",
    "vel = vel[::4, ::4] * 0.3048\n",
    "\n",
    "# Density model [g/cc]\n",
    "den = 2.\n",
    "\n",
    "# Log impedance\n",
    "m = np.log(vel * den)\n",
    "m_max = m.max()\n",
    "m_min = m.min()\n",
    "\n",
    "# Model parameters\n",
    "nt0, nx = m.shape\n",
    "dt0 = 0.008\n",
    "t0  = np.arange(nt0)*dt0\n",
    "dx = 4\n",
    "x = np.arange(nx)*dx\n",
    "\n",
    "# extract classes\n",
    "allcl = np.unique(m)\n",
    "nclmin = 3000\n",
    "cl = np.array(list(filter(lambda x: np.count_nonzero(m.ravel() == x) > nclmin, allcl)))\n",
    "ncl = len(cl)\n",
    "print(len(allcl), ncl)\n",
    "\n",
    "# segmented model\n",
    "vcl_true = np.zeros_like(m)\n",
    "\n",
    "for icl in range(ncl):\n",
    "    vcl_true[m == cl[icl]] = icl\n",
    "    \n",
    "plt.figure()\n",
    "plt.imshow(vcl_true.reshape(nt0, nx),\n",
    "           cmap=cm.get_cmap('tab20', ncl), \n",
    "           vmin=-0.5, vmax=ncl-0.5, alpha=0.4)\n",
    "plt.axis('tight')\n",
    "plt.colorbar();"
   ]
  },
  {
   "cell_type": "code",
   "execution_count": 3,
   "id": "dd9cd720",
   "metadata": {},
   "outputs": [
    {
     "name": "stdout",
     "output_type": "stream",
     "text": [
      "13.7 s ± 0 ns per loop (mean ± std. dev. of 1 run, 1 loop each)\n"
     ]
    }
   ],
   "source": [
    "Sop = Simplex(nt0 * nx * ncl, radius=1, dims=(ncl, nt0 * nx), axis=0,\n",
    "              **dict(engine='numba', maxiter=10, call=False))\n",
    "\n",
    "%timeit -n1 -r1 Sop.prox(np.ones(nt0 * nx * ncl), 1.)"
   ]
  },
  {
   "cell_type": "code",
   "execution_count": 4,
   "id": "4810bd01-1fed-4a9b-9eab-71334c6abcf9",
   "metadata": {},
   "outputs": [
    {
     "name": "stdout",
     "output_type": "stream",
     "text": [
      "644 ms ± 0 ns per loop (mean ± std. dev. of 1 run, 1 loop each)\n"
     ]
    }
   ],
   "source": [
    "Sop_cp = Simplex(nt0 * nx * ncl, radius=1, dims=(ncl, nt0 * nx), axis=0,\n",
    "                 **dict(engine='cuda', maxiter=10, call=False))\n",
    "\n",
    "%timeit -n1 -r1 Sop_cp.prox(np.ones(nt0 * nx * ncl), 1.)"
   ]
  },
  {
   "cell_type": "code",
   "execution_count": 5,
   "id": "1a7f1368-881e-49f2-aa03-5f63dddb00c4",
   "metadata": {},
   "outputs": [
    {
     "name": "stdout",
     "output_type": "stream",
     "text": [
      "165 ms ± 0 ns per loop (mean ± std. dev. of 1 run, 1 loop each)\n"
     ]
    }
   ],
   "source": [
    "Sop_cp = Simplex(nt0 * nx * ncl, radius=1, dims=(ncl, nt0 * nx), axis=0,\n",
    "                 **dict(engine='cuda', maxiter=10, call=False))\n",
    "\n",
    "%timeit -n1 -r1 Sop_cp.prox(cp.ones(nt0 * nx * ncl), 1.)"
   ]
  },
  {
   "cell_type": "code",
   "execution_count": 6,
   "id": "d9cee349-b82a-42be-88b0-4cacda36cb56",
   "metadata": {},
   "outputs": [
    {
     "name": "stdout",
     "output_type": "stream",
     "text": [
      "Primal-dual: min_x f(Ax) + x^T z + g(x)\n",
      "---------------------------------------------------------\n",
      "Proximal operator (f): <class 'pyproximal.proximal.Simplex._Simplex_numba'>\n",
      "Proximal operator (g): <class 'pyproximal.proximal.VStack.VStack'>\n",
      "Linear operator (A): <class 'pylops.basicoperators.blockdiag.BlockDiag'>\n",
      "Additional vector (z): vector\n",
      "tau = 1.0\t\tmu = 0.125\n",
      "theta = 1.00\t\tniter = 5\n",
      "\n",
      "   Itn       x[0]          f           g          z^x       J = f + g + z^x\n",
      "     1   5.33203e-01   0.000e+00   8.226e+02   2.528e+04       2.610e+04\n",
      "     2   5.62500e-01   0.000e+00   9.793e+02   1.202e+04       1.300e+04\n",
      "     3   5.95703e-01   0.000e+00   1.057e+03   8.871e+03       9.929e+03\n",
      "     4   6.28906e-01   0.000e+00   1.111e+03   7.831e+03       8.941e+03\n",
      "     5   6.58203e-01   0.000e+00   1.166e+03   7.047e+03       8.212e+03\n",
      "\n",
      "Total time (s) = 38.27\n",
      "---------------------------------------------------------\n",
      "\n",
      "38.30572152137756\n"
     ]
    }
   ],
   "source": [
    "start = time.time()\n",
    "segls, segls_classes = \\\n",
    "    Segment(m, cl, 20., 0.2, niter=5, show=True, \n",
    "            kwargs_simplex=dict(engine='numba', maxiter=10, call=False))\n",
    "end = time.time()\n",
    "print(end-start)"
   ]
  },
  {
   "cell_type": "code",
   "execution_count": 7,
   "id": "4f2f4f65-091a-45f4-9b0a-4f740d8f1aee",
   "metadata": {},
   "outputs": [
    {
     "name": "stdout",
     "output_type": "stream",
     "text": [
      "Primal-dual: min_x f(Ax) + x^T z + g(x)\n",
      "---------------------------------------------------------\n",
      "Proximal operator (f): <class 'pyproximal.proximal.Simplex._Simplex_cuda'>\n",
      "Proximal operator (g): <class 'pyproximal.proximal.VStack.VStack'>\n",
      "Linear operator (A): <class 'pylops.basicoperators.blockdiag.BlockDiag'>\n",
      "Additional vector (z): vector\n",
      "tau = 1.0\t\tmu = 0.125\n",
      "theta = 1.00\t\tniter = 5\n",
      "\n",
      "   Itn       x[0]          f           g          z^x       J = f + g + z^x\n",
      "     1   5.33203e-01   0.000e+00   8.226e+02   2.528e+04       2.610e+04\n",
      "     2   5.62500e-01   0.000e+00   9.793e+02   1.202e+04       1.300e+04\n",
      "     3   5.95703e-01   0.000e+00   1.057e+03   8.871e+03       9.929e+03\n",
      "     4   6.28906e-01   0.000e+00   1.111e+03   7.831e+03       8.941e+03\n",
      "     5   6.58203e-01   0.000e+00   1.166e+03   7.047e+03       8.212e+03\n",
      "\n",
      "Total time (s) = 0.14\n",
      "---------------------------------------------------------\n",
      "\n",
      "0.16408634185791016\n"
     ]
    }
   ],
   "source": [
    "start = time.time()\n",
    "segls1, segls1_classes = \\\n",
    "    Segment(cp.asarray(m), cp.asarray(cl), 20., 0.2, niter=5, show=True, \n",
    "            kwargs_simplex=dict(engine='cuda', maxiter=10, call=False))\n",
    "end = time.time()\n",
    "print(end-start)"
   ]
  },
  {
   "cell_type": "code",
   "execution_count": 8,
   "id": "4bfe2027-6e10-4865-910c-8332dfde3739",
   "metadata": {},
   "outputs": [
    {
     "data": {
      "image/png": "[encoded data removed]",
      "text/plain": [
       "<Figure size 640x480 with 2 Axes>"
      ]
     },
     "metadata": {},
     "output_type": "display_data"
    }
   ],
   "source": [
    "plt.figure()\n",
    "plt.imshow(segls_classes.reshape(nt0, nx),\n",
    "           cmap=cm.get_cmap('tab20', ncl), \n",
    "           vmin=-0.5, vmax=ncl-0.5, alpha=0.4)\n",
    "plt.axis('tight')\n",
    "plt.colorbar();"
   ]
  },
  {
   "cell_type": "code",
   "execution_count": 9,
   "id": "be134841-ba2b-4e27-b3e9-37d1dc3edb42",
   "metadata": {},
   "outputs": [
    {
     "name": "stdout",
     "output_type": "stream",
     "text": [
      "1.2611478338216922e-08\n",
      "0.0\n"
     ]
    }
   ],
   "source": [
    "print(np.linalg.norm(cp.asnumpy(segls1)-segls)/np.linalg.norm(segls))\n",
    "print(np.linalg.norm(cp.asnumpy(segls1_classes)-segls_classes)/np.linalg.norm(segls_classes))"
   ]
  }
 ],
 "metadata": {
  "kernelspec": {
   "display_name": "Python 3 (ipykernel)",
   "language": "python",
   "name": "python3"
  },
  "language_info": {
   "codemirror_mode": {
    "name": "ipython",
    "version": 3
   },
   "file_extension": ".py",
   "mimetype": "text/x-python",
   "name": "python",
   "nbconvert_exporter": "python",
   "pygments_lexer": "ipython3",
   "version": "3.9.18"
  },
  "toc": {
   "base_numbering": 1,
   "nav_menu": {},
   "number_sections": true,
   "sideBar": true,
   "skip_h1_title": false,
   "title_cell": "Table of Contents",
   "title_sidebar": "Contents",
   "toc_cell": false,
   "toc_position": {},
   "toc_section_display": true,
   "toc_window_display": false
  }
 },
 "nbformat": 4,
 "nbformat_minor": 5
}
