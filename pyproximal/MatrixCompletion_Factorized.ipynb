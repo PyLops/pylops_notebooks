{
 "cells": [
  {
   "cell_type": "markdown",
   "id": "86423c05",
   "metadata": {},
   "source": [
    "# Interpolation by factorized matrix completion"
   ]
  },
  {
   "cell_type": "markdown",
   "id": "394d9b5a",
   "metadata": {},
   "source": [
    "We try to solve the following problem:\n",
    "\n",
    "$$\n",
    "arg \\;  min_\\mathbf{X} \\frac{1}{2}||\\mathbf{y}-\\mathbf{RX}||_2^2 + \\mu ||\\mathbf{X}||_*\n",
    "$$\n",
    "\n",
    "where $||\\mathbf{X}||_*=\\sum_i \\sigma_i$ is the nuclear norm of $\\mathbf{X}$ (i.e., sum of eigenvalues). We use the relaxed version:\n",
    "\n",
    "$$\n",
    "arg \\;  min_\\mathbf{X} \\frac{1}{2}||\\mathbf{y}-\\mathbf{R}(\\mathbf{U}\\mathbf{V}^T)||_2^2 + \\mu ||\\mathbf{U}||_F^2+ \\mu ||\\mathbf{V}||_F^2\n",
    "$$"
   ]
  },
  {
   "cell_type": "code",
   "execution_count": 34,
   "id": "87e07fc0",
   "metadata": {},
   "outputs": [
    {
     "name": "stdout",
     "output_type": "stream",
     "text": [
      "The autoreload extension is already loaded. To reload it, use:\n",
      "  %reload_ext autoreload\n"
     ]
    }
   ],
   "source": [
    "%load_ext autoreload\n",
    "%autoreload 2\n",
    "%matplotlib inline\n",
    "\n",
    "import warnings\n",
    "warnings.filterwarnings('ignore')\n",
    "\n",
    "import numpy as np\n",
    "import matplotlib.pyplot as plt\n",
    "\n",
    "from scipy import misc\n",
    "from scipy.signal import filtfilt\n",
    "from scipy.linalg import solve\n",
    "from scipy.sparse.linalg import lsqr\n",
    "from pylops.basicoperators import *\n",
    "from pylops.signalprocessing import *\n",
    "from pylops.utils.wavelets import *\n",
    "from pylops.avo.poststack import *\n",
    "from pylops.optimization.sparsity import *\n",
    "\n",
    "from pyproximal.proximal import *\n",
    "from pyproximal import ProxOperator\n",
    "from pyproximal.optimization.primal import *\n",
    "from pyproximal.optimization.primaldual import *\n",
    "from pyproximal.optimization.bregman import *"
   ]
  },
  {
   "cell_type": "code",
   "execution_count": 35,
   "id": "2ecc34f0",
   "metadata": {},
   "outputs": [],
   "source": [
    "# Restriction operator\n",
    "n, m, k = 200, 100, 10\n",
    "sub = 0.4\n",
    "nsub = int(n*m*sub)\n",
    "iava = np.random.permutation(np.arange(n*m))[:nsub]\n",
    "\n",
    "Rop = Restriction(n*m, iava)"
   ]
  },
  {
   "cell_type": "code",
   "execution_count": 36,
   "id": "060dc28d",
   "metadata": {},
   "outputs": [],
   "source": [
    "# model\n",
    "U = np.random.normal(0., 1., (n, k))\n",
    "V = np.random.normal(0., 1., (m, k))\n",
    "\n",
    "X = U @ V.T\n",
    "\n",
    "# data\n",
    "y = Rop * X.ravel()\n",
    "\n",
    "# Masked data\n",
    "Y = (Rop.H * Rop * X.ravel()).reshape(n, m)"
   ]
  },
  {
   "cell_type": "code",
   "execution_count": 37,
   "id": "068a8307",
   "metadata": {},
   "outputs": [],
   "source": [
    "X = U @ V.T\n",
    "X1 = (V @ U.T).T"
   ]
  },
  {
   "cell_type": "markdown",
   "id": "fcf83c94",
   "metadata": {},
   "source": [
    "## U V^T as linear operator (with V as model)\n",
    "\n",
    "$$\n",
    "\\mathbf{y}=\\mathbf{R}\\mathbf{U}\\mathbf{V}^T = R_u(\\mathbf{v})\n",
    "$$"
   ]
  },
  {
   "cell_type": "code",
   "execution_count": 38,
   "id": "a12681e4",
   "metadata": {},
   "outputs": [
    {
     "name": "stdout",
     "output_type": "stream",
     "text": [
      "<20000x1000 MatrixMult with dtype=float64> <1000x1000 Transpose with dtype=float64>\n",
      "[[0. 0. 0. ... 0. 0. 0.]\n",
      " [0. 0. 0. ... 0. 0. 0.]\n",
      " [0. 0. 0. ... 0. 0. 0.]\n",
      " ...\n",
      " [0. 0. 0. ... 0. 0. 0.]\n",
      " [0. 0. 0. ... 0. 0. 0.]\n",
      " [0. 0. 0. ... 0. 0. 0.]]\n",
      "[0. 0. 0. ... 0. 0. 0.]\n"
     ]
    }
   ],
   "source": [
    "Uop = MatrixMult(U, dims=(m,))\n",
    "Top = Transpose((m,k), (1,0))\n",
    "print(Uop, Top)\n",
    "X1 = (Uop * Top) * V.ravel()\n",
    "X1 = X1.reshape(n,m)\n",
    "print(X-X1)\n",
    "\n",
    "# data\n",
    "Ruop = Rop * Uop * Top\n",
    "y1 = Ruop * V.ravel()\n",
    "print(y-y1)"
   ]
  },
  {
   "cell_type": "markdown",
   "id": "bdeee9e7",
   "metadata": {},
   "source": [
    "## U V^T as linear operator (with U as model\n",
    "\n",
    "$$\n",
    "\\mathbf{y}=\\mathbf{R}\\mathbf{U}\\mathbf{V}^T = R_v(\\mathbf{u})\n",
    "$$"
   ]
  },
  {
   "cell_type": "code",
   "execution_count": 39,
   "id": "15061bb3",
   "metadata": {},
   "outputs": [
    {
     "name": "stdout",
     "output_type": "stream",
     "text": [
      "[[ 0.00000000e+00  0.00000000e+00  0.00000000e+00 ...  0.00000000e+00\n",
      "   0.00000000e+00 -2.22044605e-16]\n",
      " [ 0.00000000e+00  0.00000000e+00  0.00000000e+00 ... -1.77635684e-15\n",
      "   0.00000000e+00  4.44089210e-16]\n",
      " [ 0.00000000e+00  0.00000000e+00  0.00000000e+00 ...  0.00000000e+00\n",
      "  -2.22044605e-16  0.00000000e+00]\n",
      " ...\n",
      " [ 0.00000000e+00  0.00000000e+00  0.00000000e+00 ...  0.00000000e+00\n",
      "  -2.22044605e-16  0.00000000e+00]\n",
      " [ 0.00000000e+00  0.00000000e+00  0.00000000e+00 ...  0.00000000e+00\n",
      "   0.00000000e+00  0.00000000e+00]\n",
      " [ 0.00000000e+00  0.00000000e+00  0.00000000e+00 ...  0.00000000e+00\n",
      "   0.00000000e+00  0.00000000e+00]]\n",
      "[0. 0. 0. ... 0. 0. 0.]\n"
     ]
    }
   ],
   "source": [
    "Vop = MatrixMult(V, dims=(n,))\n",
    "Top = Transpose((n,k), (1,0))\n",
    "T1op = Transpose((n,m), (1,0))\n",
    "\n",
    "X1 = (T1op.T * Vop * Top) * U.ravel()\n",
    "X1 = X1.reshape(n,m)\n",
    "print(X-X1)\n",
    "\n",
    "# data\n",
    "Ruop = Rop * T1op.T * Vop * Top\n",
    "y1 = Ruop * U.ravel()\n",
    "print(y-y1)"
   ]
  },
  {
   "cell_type": "markdown",
   "id": "c8d76be1",
   "metadata": {},
   "source": [
    "## Factorized Matrix completion with a proximal solver\n",
    "\n",
    "Adapted from *Alg2 in Practical Large-Scale Optimization for Max-Norm Regularization*.\n",
    "\n",
    "Let's consider the following functional composed of a sum of a smooth term f(x) and a non-smooth one g(x)\n",
    "\n",
    "$$\n",
    "arg \\;  min_\\mathbf{X} f(x)+g(x)\n",
    "$$\n",
    "\n",
    "we define the overall model vector $x = [u, v]$, $f=\\frac{1}{2}||\\mathbf{y}-\\mathbf{R}(\\mathbf{U}\\mathbf{V}^T)||_2^2$  and $g= \\mu ||\\mathbf{U}||_F^2+ \\mu ||\\mathbf{V}||_F^2$ (which is the sum of partial elements of x so the proximal is just the vertical stack of their proximals.\n",
    "\n",
    "Now we can write our iteration as:\n",
    "\n",
    "$$\n",
    "x^{k+1} = prox_{\\mu\\tau^kg} (x^{k} - \\tau^k \\nabla f)\n",
    "$$\n",
    "\n",
    "where $\\nabla f = [\\nabla f_u, \\nabla f_v] = [R_v^T(R_v u^k -y), R_u^T(R_u v^k -y)]$ ans the proximal of the Frobenious norm ($prox_g$)is as simple as that of the L2 squared norm of the vector x."
   ]
  },
  {
   "cell_type": "code",
   "execution_count": 42,
   "id": "2fcc8302",
   "metadata": {},
   "outputs": [],
   "source": [
    "import numpy as np\n",
    "from pylops import LinearOperator\n",
    "from pylops.utils.backend import get_array_module, to_cupy_conditional\n",
    "\n",
    "\n",
    "class FactorizedSVD(LinearOperator):\n",
    "    r\"\"\"Factorized SVD operator.\n",
    "    \n",
    "    Given a matrix X=U V^T creates X from vectorized V and U\n",
    "\n",
    "    \"\"\"\n",
    "    def __init__(self, U, V, dtype='float64'):\n",
    "        n, k = U.shape\n",
    "        m = V.shape[0]\n",
    "        \n",
    "        # V as model\n",
    "        self.Uop = MatrixMult(U, dims=(m,))\n",
    "        self.VTop = Transpose((m,k), (1,0))\n",
    "        self.Utotop = self.Uop * self.VTop\n",
    "        \n",
    "        # U as model\n",
    "        self.Vop = MatrixMult(V, dims=(n,))\n",
    "        self.UTop = Transpose((n,k), (1,0))\n",
    "        self.XTop = Transpose((n,m), (1,0))\n",
    "        self.Vtotop = (self.XTop.T * self.Vop * self.UTop)\n",
    "        \n",
    "        # stacked\n",
    "        self.Op = BlockDiag([self.Utotop, self.Vtotop])\n",
    "        self.shape = (2*n*m, k*(n+m))\n",
    "        self.dtype = np.dtype(dtype)\n",
    "        self.explicit = False\n",
    "        \n",
    "    def update(self, U, V):\n",
    "        self.Uop.A = U\n",
    "        self.Vop.A = V\n",
    "        \n",
    "    def _matvec(self, x):\n",
    "        return self.Op.matvec(x)\n",
    "\n",
    "    def _rmatvec(self, x):\n",
    "        return self.Op.rmatvec(x)"
   ]
  },
  {
   "cell_type": "code",
   "execution_count": 43,
   "id": "2e0b774b",
   "metadata": {},
   "outputs": [],
   "source": [
    "Fop = FactorizedSVD(U,V)\n",
    "uv = np.hstack([V.ravel(), U.ravel()])\n",
    "\n",
    "X2 = Fop * uv"
   ]
  },
  {
   "cell_type": "code",
   "execution_count": 44,
   "id": "49c13c72",
   "metadata": {},
   "outputs": [
    {
     "data": {
      "text/plain": [
       "(array([[0., 0., 0., ..., 0., 0., 0.],\n",
       "        [0., 0., 0., ..., 0., 0., 0.],\n",
       "        [0., 0., 0., ..., 0., 0., 0.],\n",
       "        ...,\n",
       "        [0., 0., 0., ..., 0., 0., 0.],\n",
       "        [0., 0., 0., ..., 0., 0., 0.],\n",
       "        [0., 0., 0., ..., 0., 0., 0.]]),\n",
       " array([[ 0.00000000e+00,  0.00000000e+00,  0.00000000e+00, ...,\n",
       "          0.00000000e+00,  0.00000000e+00,  2.22044605e-16],\n",
       "        [ 0.00000000e+00,  0.00000000e+00,  0.00000000e+00, ...,\n",
       "          1.77635684e-15,  0.00000000e+00, -4.44089210e-16],\n",
       "        [ 0.00000000e+00,  0.00000000e+00,  0.00000000e+00, ...,\n",
       "          0.00000000e+00,  2.22044605e-16,  0.00000000e+00],\n",
       "        ...,\n",
       "        [ 0.00000000e+00,  0.00000000e+00,  0.00000000e+00, ...,\n",
       "          0.00000000e+00,  2.22044605e-16,  0.00000000e+00],\n",
       "        [ 0.00000000e+00,  0.00000000e+00,  0.00000000e+00, ...,\n",
       "          0.00000000e+00,  0.00000000e+00,  0.00000000e+00],\n",
       "        [ 0.00000000e+00,  0.00000000e+00,  0.00000000e+00, ...,\n",
       "          0.00000000e+00,  0.00000000e+00,  0.00000000e+00]]))"
      ]
     },
     "execution_count": 44,
     "metadata": {},
     "output_type": "execute_result"
    }
   ],
   "source": [
    "X2[:n*m].reshape(n, m)-X, X2[n*m:].reshape(n, m)-X"
   ]
  },
  {
   "cell_type": "code",
   "execution_count": 70,
   "id": "193faba4",
   "metadata": {},
   "outputs": [],
   "source": [
    "# check gradients with formulas in https://link.springer.com/content/pdf/10.1007/s10107-013-0701-9.pdf p.486\n",
    "Y = np.random.normal(0, 1, (n, m))\n",
    "y = Y.flatten()\n",
    "\n",
    "grad_U = (U @ V.T - Y) @ V\n",
    "grad_V = U.T @ (U @ V.T - Y)\n",
    "\n",
    "grad_VU = - Fop.H @ (np.hstack([y,y]) - Fop @ uv)"
   ]
  },
  {
   "cell_type": "code",
   "execution_count": 71,
   "id": "ab14de22",
   "metadata": {},
   "outputs": [
    {
     "data": {
      "text/plain": [
       "array([  0.        , 296.13025151, 227.17868518, ...,   0.        ,\n",
       "         0.        ,   0.        ])"
      ]
     },
     "execution_count": 71,
     "metadata": {},
     "output_type": "execute_result"
    }
   ],
   "source": [
    "np.hstack([grad_V.ravel(), grad_U.ravel()]) - grad_VU"
   ]
  },
  {
   "cell_type": "code",
   "execution_count": 82,
   "id": "86f43936",
   "metadata": {},
   "outputs": [
    {
     "data": {
      "text/plain": [
       "[<matplotlib.lines.Line2D at 0x7fc38f029ac0>]"
      ]
     },
     "execution_count": 82,
     "metadata": {},
     "output_type": "execute_result"
    },
    {
     "data": {
      "image/png": "[encoded data removed]",
      "text/plain": [
       "<Figure size 432x288 with 1 Axes>"
      ]
     },
     "metadata": {
      "needs_background": "light"
     },
     "output_type": "display_data"
    }
   ],
   "source": [
    "plt.plot(grad_V.ravel()) \n",
    "plt.plot(grad_VU[:m*k], '--r')\n",
    "plt.plot(grad_V.ravel()+grad_VU[:m*k], '--k')"
   ]
  },
  {
   "cell_type": "code",
   "execution_count": 12,
   "id": "778024ad",
   "metadata": {},
   "outputs": [
    {
     "data": {
      "text/plain": [
       "(array([0., 0., 0., ..., 0., 0., 0.]), array([0., 0., 0., ..., 0., 0., 0.]))"
      ]
     },
     "execution_count": 12,
     "metadata": {},
     "output_type": "execute_result"
    }
   ],
   "source": [
    "Op = BlockDiag([Rop, Rop]) * Fop\n",
    "\n",
    "y2 = Op * uv\n",
    "y2[:nsub]- y, y2[nsub:]- y"
   ]
  },
  {
   "cell_type": "code",
   "execution_count": 15,
   "id": "bca0c3f9",
   "metadata": {},
   "outputs": [],
   "source": [
    "Uest = np.random.normal(0., 1., (n, k))\n",
    "Vest = np.random.normal(0., 1., (m, k))\n",
    "\n",
    "uvest = np.hstack([Vest.ravel(), Uest.ravel()])\n",
    "\n",
    "grad = Op.H * (np.hstack([y,y])-Op*uvest)"
   ]
  },
  {
   "cell_type": "code",
   "execution_count": null,
   "id": "92ebdc35",
   "metadata": {},
   "outputs": [],
   "source": []
  },
  {
   "cell_type": "code",
   "execution_count": 14,
   "id": "5eb85954",
   "metadata": {},
   "outputs": [
    {
     "name": "stdout",
     "output_type": "stream",
     "text": [
      "<20000x1000 LinearOperator with dtype=float64> <20000x2000 LinearOperator with dtype=float64>\n"
     ]
    },
    {
     "data": {
      "text/plain": [
       "(array([ 0.54680969,  2.50202984,  2.36774743, ..., -2.2650825 ,\n",
       "         6.11961994, -0.43279361]),\n",
       " array([0., 0., 0., ..., 0., 0., 0.]),\n",
       " array([ 0.54680969,  2.50202984,  2.36774743, ..., -2.2650825 ,\n",
       "         6.11961994, -0.43279361]),\n",
       " array([-0.54680969, -2.50202984, -2.36774743, ...,  2.2650825 ,\n",
       "        -6.11961994,  0.43279361]))"
      ]
     },
     "execution_count": 14,
     "metadata": {},
     "output_type": "execute_result"
    }
   ],
   "source": [
    "# Check update\n",
    "Fop = FactorizedSVD(U,V)\n",
    "uv = np.hstack([V.ravel(), U.ravel()])\n",
    "X2 = Fop * uv\n",
    "\n",
    "Fop.update(U*0, -V)\n",
    "X2_ = Fop * uv\n",
    "X2[:m*n], X2_[:m*n], X2[m*n:], X2_[m*n:]"
   ]
  },
  {
   "cell_type": "code",
   "execution_count": 13,
   "id": "ed5bb56e",
   "metadata": {},
   "outputs": [],
   "source": [
    "# model\n",
    "U = np.random.normal(0., 1., (n, k))\n",
    "V = np.random.normal(0., 1., (m, k))\n",
    "\n",
    "X = U @ V.T\n",
    "\n",
    "# data\n",
    "y = Rop * X.ravel()\n",
    "\n",
    "# Masked data\n",
    "Y = (Rop.H * Rop * X.ravel()).reshape(n, m)"
   ]
  },
  {
   "cell_type": "code",
   "execution_count": null,
   "id": "717ad1a5",
   "metadata": {},
   "outputs": [],
   "source": []
  },
  {
   "cell_type": "code",
   "execution_count": 14,
   "id": "61b5bd2b",
   "metadata": {},
   "outputs": [
    {
     "ename": "NameError",
     "evalue": "name 'l' is not defined",
     "output_type": "error",
     "traceback": [
      "\u001b[0;31m---------------------------------------------------------------------------\u001b[0m",
      "\u001b[0;31mNameError\u001b[0m                                 Traceback (most recent call last)",
      "\u001b[0;32m<ipython-input-14-bf7c485b6266>\u001b[0m in \u001b[0;36m<module>\u001b[0;34m\u001b[0m\n\u001b[1;32m     20\u001b[0m     \u001b[0;31m# TO DO!\u001b[0m\u001b[0;34m\u001b[0m\u001b[0;34m\u001b[0m\u001b[0;34m\u001b[0m\u001b[0m\n\u001b[1;32m     21\u001b[0m     \u001b[0;31m# Update\u001b[0m\u001b[0;34m\u001b[0m\u001b[0;34m\u001b[0m\u001b[0;34m\u001b[0m\u001b[0m\n\u001b[0;32m---> 22\u001b[0;31m     \u001b[0mx\u001b[0m \u001b[0;34m=\u001b[0m \u001b[0;34m(\u001b[0m\u001b[0;36m1\u001b[0m\u001b[0;34m-\u001b[0m\u001b[0mgamma\u001b[0m\u001b[0;34m**\u001b[0m\u001b[0ml\u001b[0m\u001b[0;34m)\u001b[0m\u001b[0;34m*\u001b[0m\u001b[0mx\u001b[0m \u001b[0;34m+\u001b[0m \u001b[0mgamma\u001b[0m\u001b[0;34m**\u001b[0m\u001b[0ml\u001b[0m \u001b[0;34m*\u001b[0m \u001b[0mxnew\u001b[0m\u001b[0;34m\u001b[0m\u001b[0;34m\u001b[0m\u001b[0m\n\u001b[0m",
      "\u001b[0;31mNameError\u001b[0m: name 'l' is not defined"
     ]
    }
   ],
   "source": [
    "niter=1\n",
    "\n",
    "mu = 0.2\n",
    "l2 = L2(sigma=mu)\n",
    "Uest0 = U+np.random.normal(0., .3, (n, k))\n",
    "Vest0 = V+np.random.normal(0., .3, (m, k))\n",
    "uest, vest = Uest0.flatten(), Vest0.flatten()\n",
    "x = np.hstack([vest, uest])\n",
    "\n",
    "gamma=0.5\n",
    "tau = 1e-3\n",
    "for i in range(niter):\n",
    "    # compute gradient\n",
    "    Vest, Uest = x[:m*k].reshape(m,k), x[m*k:].reshape(n,k)\n",
    "    Fop.update(Uest, Vest)\n",
    "    xnew = x + tau * Op.H * (np.hstack([y,y])-Op*uvest)\n",
    "    # compute proximal of frobenious \n",
    "    xnew = l2.prox(xnew, tau)\n",
    "    # Armijio\n",
    "    # TO DO!\n",
    "    # Update\n",
    "    x = (1-gamma**l)*x + gamma**l * xnew"
   ]
  },
  {
   "cell_type": "code",
   "execution_count": null,
   "id": "0f581dbf",
   "metadata": {},
   "outputs": [],
   "source": [
    "Vest, Uest = x[:m*k].reshape(m,k), x[m*k:].reshape(n,k)\n",
    "Xest = Uest @ Vest.T"
   ]
  },
  {
   "cell_type": "code",
   "execution_count": null,
   "id": "47a84c46",
   "metadata": {},
   "outputs": [],
   "source": [
    "plt.figure(figsize=(10,10))\n",
    "plt.imshow(X, vmin=-5, vmax=5)\n",
    "plt.axis('tight')\n",
    "\n",
    "plt.figure(figsize=(10,10))\n",
    "plt.imshow(Xest, vmin=-5, vmax=5)\n",
    "plt.axis('tight')\n",
    "\n",
    "plt.figure(figsize=(10,10))\n",
    "plt.imshow(X-Xest, vmin=-5, vmax=5)\n",
    "plt.axis('tight')"
   ]
  },
  {
   "cell_type": "code",
   "execution_count": null,
   "id": "c9580e89",
   "metadata": {
    "scrolled": false
   },
   "outputs": [],
   "source": [
    "plt.figure(figsize=(3,10))\n",
    "plt.imshow(U, vmin=-5, vmax=5)\n",
    "plt.axis('tight')\n",
    "\n",
    "plt.figure(figsize=(3,10))\n",
    "plt.imshow(Uest, vmin=-5, vmax=5)\n",
    "plt.axis('tight')\n",
    "\n",
    "plt.figure(figsize=(3,10))\n",
    "plt.imshow(U-Uest, vmin=-5, vmax=5)\n",
    "plt.axis('tight')\n",
    "\n",
    "plt.figure(figsize=(3,10))\n",
    "plt.imshow(V, vmin=-5, vmax=5)\n",
    "plt.axis('tight')\n",
    "\n",
    "plt.figure(figsize=(3,10))\n",
    "plt.imshow(Vest, vmin=-5, vmax=5)\n",
    "plt.axis('tight')\n",
    "\n",
    "plt.figure(figsize=(3,10))\n",
    "plt.imshow(V-Vest, vmin=-5, vmax=5)\n",
    "plt.axis('tight')"
   ]
  },
  {
   "cell_type": "raw",
   "id": "42f890ce",
   "metadata": {},
   "source": [
    "plt.figure(figsize=(3,10))\n",
    "plt.imshow(U, vmin=-5, vmax=5)\n",
    "plt.axis('tight')\n",
    "\n",
    "plt.figure(figsize=(3,10))\n",
    "plt.imshow(Uest0, vmin=-5, vmax=5)\n",
    "plt.axis('tight')\n",
    "\n",
    "plt.figure(figsize=(3,10))\n",
    "plt.imshow(U-Uest0, vmin=-5, vmax=5)\n",
    "plt.axis('tight')\n",
    "\n",
    "plt.figure(figsize=(3,10))\n",
    "plt.imshow(V, vmin=-5, vmax=5)\n",
    "plt.axis('tight')\n",
    "\n",
    "plt.figure(figsize=(3,10))\n",
    "plt.imshow(Vest0, vmin=-5, vmax=5)\n",
    "plt.axis('tight')\n",
    "\n",
    "plt.figure(figsize=(3,10))\n",
    "plt.imshow(V-Vest0, vmin=-5, vmax=5)\n",
    "plt.axis('tight')"
   ]
  },
  {
   "cell_type": "markdown",
   "id": "8b3c4c64",
   "metadata": {},
   "source": [
    "## TO DO:\n",
    "\n",
    "- Check if update function in FactorizedSVD works\n",
    "- Need to finalize Alg2 by finding gamma..."
   ]
  }
 ],
 "metadata": {
  "kernelspec": {
   "display_name": "Python 3",
   "language": "python",
   "name": "python3"
  },
  "language_info": {
   "codemirror_mode": {
    "name": "ipython",
    "version": 3
   },
   "file_extension": ".py",
   "mimetype": "text/x-python",
   "name": "python",
   "nbconvert_exporter": "python",
   "pygments_lexer": "ipython3",
   "version": "3.8.5"
  },
  "toc": {
   "base_numbering": 1,
   "nav_menu": {},
   "number_sections": true,
   "sideBar": true,
   "skip_h1_title": false,
   "title_cell": "Table of Contents",
   "title_sidebar": "Contents",
   "toc_cell": false,
   "toc_position": {},
   "toc_section_display": true,
   "toc_window_display": true
  }
 },
 "nbformat": 4,
 "nbformat_minor": 5
}
