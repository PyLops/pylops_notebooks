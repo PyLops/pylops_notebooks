{
 "cells": [
  {
   "cell_type": "markdown",
   "id": "grave-membership",
   "metadata": {},
   "source": [
    "# Basis pursuit\n",
    "\n",
    "$$\n",
    "J = ||x||_1 s.t. Ax=b\n",
    "$$"
   ]
  },
  {
   "cell_type": "code",
   "execution_count": 1,
   "id": "nasty-florist",
   "metadata": {},
   "outputs": [],
   "source": [
    "import numpy as np\n",
    "import matplotlib.pyplot as plt\n",
    "import pylops\n",
    "import pyproximal"
   ]
  },
  {
   "cell_type": "code",
   "execution_count": 5,
   "id": "blank-formation",
   "metadata": {},
   "outputs": [],
   "source": [
    "n, m = 100, 40\n",
    "nava = 10\n",
    "\n",
    "x = np.zeros(100)\n",
    "iava = np.random.permutation(np.arange(n))[:nava]\n",
    "x[iava] = np.random.normal(0, 1, nava)"
   ]
  },
  {
   "cell_type": "code",
   "execution_count": 6,
   "id": "stopped-sleeping",
   "metadata": {},
   "outputs": [],
   "source": [
    "A = np.random.normal(0, 1, (m, n))\n",
    "Aop = pylops.MatrixMult(A)\n",
    "b = Aop * x"
   ]
  },
  {
   "cell_type": "code",
   "execution_count": 17,
   "id": "purple-sleep",
   "metadata": {},
   "outputs": [
    {
     "data": {
      "text/plain": [
       "[<matplotlib.lines.Line2D at 0x7fbfca52e5b0>]"
      ]
     },
     "execution_count": 17,
     "metadata": {},
     "output_type": "execute_result"
    },
    {
     "data": {
      "image/png": "[encoded data removed]",
      "text/plain": [
       "<Figure size 432x288 with 1 Axes>"
      ]
     },
     "metadata": {
      "needs_background": "light"
     },
     "output_type": "display_data"
    }
   ],
   "source": [
    "f = pyproximal.AffineSet(Aop, b, 20)\n",
    "g = pyproximal.L1()\n",
    "\n",
    "xinv = pyproximal.optimization.primal.ADMM(f, g, np.zeros_like(x), 0.1, niter=200)[0]\n",
    "\n",
    "plt.figure()\n",
    "plt.plot(x, 'k')\n",
    "plt.plot(xinv, 'r')"
   ]
  },
  {
   "cell_type": "code",
   "execution_count": null,
   "id": "lonely-momentum",
   "metadata": {},
   "outputs": [],
   "source": []
  }
 ],
 "metadata": {
  "kernelspec": {
   "display_name": "Python 3",
   "language": "python",
   "name": "python3"
  },
  "language_info": {
   "codemirror_mode": {
    "name": "ipython",
    "version": 3
   },
   "file_extension": ".py",
   "mimetype": "text/x-python",
   "name": "python",
   "nbconvert_exporter": "python",
   "pygments_lexer": "ipython3",
   "version": "3.8.5"
  }
 },
 "nbformat": 4,
 "nbformat_minor": 5
}
