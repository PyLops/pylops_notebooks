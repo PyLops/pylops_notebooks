{
 "cells": [
  {
   "cell_type": "markdown",
   "id": "assigned-migration",
   "metadata": {},
   "source": [
    "# Pylops - LSQR"
   ]
  },
  {
   "cell_type": "markdown",
   "id": "comic-general",
   "metadata": {},
   "source": [
    "### Author: M.Ravasi"
   ]
  },
  {
   "cell_type": "markdown",
   "id": "detected-shield",
   "metadata": {},
   "source": [
    "In this notebook I compare scipy and pylops LSQR"
   ]
  },
  {
   "cell_type": "code",
   "execution_count": 1,
   "id": "joined-wilson",
   "metadata": {},
   "outputs": [],
   "source": [
    "%load_ext autoreload\n",
    "%autoreload 2\n",
    "%matplotlib inline\n",
    "\n",
    "#import warnings\n",
    "#warnings.filterwarnings('ignore')\n",
    "\n",
    "import numpy as np\n",
    "import matplotlib.pyplot as plt\n",
    "import scipy as sp\n",
    "\n",
    "from scipy.sparse.linalg import lsqr as sp_lsqr\n",
    "from pylops.basicoperators import *\n",
    "from pylops.optimization.solver import lsqr, cgls"
   ]
  },
  {
   "cell_type": "markdown",
   "id": "agreed-quilt",
   "metadata": {},
   "source": [
    "## LSQR with zero initial guess"
   ]
  },
  {
   "cell_type": "code",
   "execution_count": 2,
   "id": "democratic-lecture",
   "metadata": {
    "scrolled": false
   },
   "outputs": [
    {
     "name": "stdout",
     "output_type": "stream",
     "text": [
      " \n",
      "LSQR            Least-squares solution of  Ax = b\n",
      "The matrix A has 50 rows and 50 columns\n",
      "damp = 1.00000000000000e-10   calc_var =        0\n",
      "atol = 1.00e-10                 conlim = 1.00e+12\n",
      "btol = 1.00e-10               iter_lim =       50\n",
      " \n",
      "   Itn      x[0]       r1norm     r2norm   Compatible    LS      Norm A   Cond A\n",
      "     0  0.00000e+00   5.230e+01  5.230e+01    1.0e+00  1.8e-01\n",
      "     1 -6.21093e-02   1.782e+01  1.782e+01    3.4e-01  7.6e-01   1.0e+01  1.0e+00\n",
      "     2 -1.28763e-01   1.173e+01  1.173e+01    2.2e-01  4.1e-01   1.5e+01  2.1e+00\n",
      "     3 -7.10023e-02   7.890e+00  7.890e+00    1.5e-01  3.3e-01   1.7e+01  3.5e+00\n",
      "     4 -1.69290e-01   5.774e+00  5.774e+00    1.1e-01  2.7e-01   2.0e+01  5.0e+00\n",
      "     5 -2.09896e-01   4.202e+00  4.202e+00    8.0e-02  2.0e-01   2.2e+01  6.7e+00\n",
      "     6 -1.95727e-01   3.119e+00  3.119e+00    6.0e-02  1.8e-01   2.4e+01  8.4e+00\n",
      "     7 -1.86787e-01   2.377e+00  2.377e+00    4.5e-02  1.7e-01   2.5e+01  1.0e+01\n",
      "     8 -1.04244e-01   1.973e+00  1.973e+00    3.8e-02  1.4e-01   2.7e+01  1.2e+01\n",
      "     9 -6.85874e-02   1.596e+00  1.596e+00    3.1e-02  1.2e-01   2.8e+01  1.4e+01\n",
      "    10 -3.70122e-02   1.421e+00  1.421e+00    2.7e-02  9.6e-02   2.9e+01  1.6e+01\n",
      "    40  9.50861e-01   1.498e-01  1.498e-01    2.9e-03  3.5e-02   5.1e+01  1.6e+02\n",
      "    41  9.55190e-01   1.333e-01  1.333e-01    2.5e-03  2.1e-02   5.2e+01  1.6e+02\n",
      "    42  9.56179e-01   1.282e-01  1.282e-01    2.5e-03  2.2e-02   5.2e+01  1.7e+02\n",
      "    43  9.56673e-01   1.268e-01  1.268e-01    2.4e-03  2.2e-02   5.3e+01  1.7e+02\n",
      "    44  9.57049e-01   1.245e-01  1.245e-01    2.4e-03  1.5e-02   5.4e+01  1.7e+02\n",
      "    45  9.57812e-01   1.183e-01  1.183e-01    2.3e-03  1.3e-02   5.4e+01  1.8e+02\n",
      "    46  9.60135e-01   1.148e-01  1.148e-01    2.2e-03  2.9e-02   5.4e+01  1.8e+02\n",
      "    47  9.60491e-01   1.130e-01  1.130e-01    2.2e-03  1.5e-02   5.5e+01  1.9e+02\n",
      "    48  9.69469e-01   9.848e-02  9.848e-02    1.9e-03  3.9e-02   5.5e+01  2.0e+02\n",
      "    49  9.70934e-01   9.586e-02  9.586e-02    1.8e-03  2.3e-02   5.6e+01  2.1e+02\n",
      "    50  9.74894e-01   7.749e-02  7.749e-02    1.5e-03  1.3e-02   5.6e+01  2.3e+02\n",
      " \n",
      "LSQR finished\n",
      "The iteration limit has been reached                      \n",
      " \n",
      "istop =       7   r1norm = 7.7e-02   anorm = 5.6e+01   arnorm = 5.8e-02\n",
      "itn   =      50   r2norm = 7.7e-02   acond = 2.3e+02   xnorm  = 7.0e+00\n",
      " \n",
      "LSQR\n",
      "-------------------------------------------------\n",
      "The Operator Op has 50 rows and 50 cols\n",
      "damp = 1.00000000000000e-10     calc_var =      1\n",
      "atol = 1.00e-10                 conlim = 1.00e+12\n",
      "btol = 1.00e-10                 niter =       50\n",
      "-------------------------------------------------\n",
      " \n",
      "   Itn      x[0]       r1norm     r2norm  Compatible   LS      Norm A   Cond A\n",
      "     0  0.00000e+00  5.230e+01  5.230e+01   1.0e+00  1.8e-01\n",
      "     1 -6.21093e-02  1.782e+01  1.782e+01   3.4e-01  2.7e-01  1.0e+01  1.0e+00\n",
      "     2 -1.28763e-01  1.173e+01  1.173e+01   2.2e-01  1.4e-01  1.5e+01  2.1e+00\n",
      "     3 -7.10023e-02  7.890e+00  7.890e+00   1.5e-01  9.1e-02  1.7e+01  3.5e+00\n",
      "     4 -1.69290e-01  5.774e+00  5.774e+00   1.1e-01  6.4e-02  2.0e+01  5.0e+00\n",
      "     5 -2.09896e-01  4.202e+00  4.202e+00   8.0e-02  3.9e-02  2.2e+01  6.7e+00\n",
      "     6 -1.95727e-01  3.119e+00  3.119e+00   6.0e-02  2.8e-02  2.4e+01  8.4e+00\n",
      "     7 -1.86787e-01  2.377e+00  2.377e+00   4.5e-02  2.0e-02  2.5e+01  1.0e+01\n",
      "     8 -1.04244e-01  1.973e+00  1.973e+00   3.8e-02  1.5e-02  2.7e+01  1.2e+01\n",
      "     9 -6.85874e-02  1.596e+00  1.596e+00   3.1e-02  1.1e-02  2.8e+01  1.4e+01\n",
      "    10 -3.70122e-02  1.421e+00  1.421e+00   2.7e-02  8.1e-03  2.9e+01  1.6e+01\n",
      "    20  3.06006e-01  7.259e-01  7.259e-01   1.4e-02  1.8e-03  3.9e+01  4.3e+01\n",
      "    30  8.67310e-01  3.394e-01  3.394e-01   6.5e-03  9.3e-04  4.5e+01  1.1e+02\n",
      "    40  9.50885e-01  1.496e-01  1.496e-01   2.9e-03  5.8e-04  5.1e+01  1.6e+02\n",
      "    41  9.55186e-01  1.333e-01  1.333e-01   2.5e-03  3.0e-04  5.2e+01  1.6e+02\n",
      "    42  9.56275e-01  1.280e-01  1.280e-01   2.4e-03  2.5e-04  5.2e+01  1.7e+02\n",
      "    43  9.56866e-01  1.260e-01  1.260e-01   2.4e-03  3.2e-04  5.2e+01  1.7e+02\n",
      "    44  9.57034e-01  1.245e-01  1.245e-01   2.4e-03  2.0e-04  5.3e+01  1.7e+02\n",
      "    45  9.57885e-01  1.183e-01  1.183e-01   2.3e-03  1.6e-04  5.4e+01  1.8e+02\n",
      "    46  9.58827e-01  1.154e-01  1.154e-01   2.2e-03  3.9e-04  5.4e+01  1.8e+02\n",
      "    47  9.60651e-01  1.131e-01  1.131e-01   2.2e-03  1.9e-04  5.5e+01  1.9e+02\n",
      "    48  9.70462e-01  9.700e-02  9.700e-02   1.9e-03  2.2e-04  5.5e+01  2.0e+02\n",
      "    49  9.74080e-01  7.991e-02  7.991e-02   1.5e-03  4.1e-04  5.5e+01  2.2e+02\n",
      "    50  9.74922e-01  7.748e-02  7.748e-02   1.5e-03  1.2e-04  5.6e+01  2.3e+02\n",
      " \n",
      "LSQR finished, The iteration limit has been reached                      \n",
      " \n",
      "istop =       7   r1norm = 7.7e-02   anorm = 5.6e+01   arnorm = 6.0e-02\n",
      "itn   =      50   r2norm = 7.7e-02   acond = 2.3e+02   xnorm  = 7.0e+00\n",
      "Total time (s) = 0.01\n",
      "-----------------------------------------------------------------------\n"
     ]
    },
    {
     "data": {
      "image/png": "[encoded data removed]",
      "text/plain": [
       "<Figure size 432x288 with 1 Axes>"
      ]
     },
     "metadata": {
      "needs_background": "light"
     },
     "output_type": "display_data"
    }
   ],
   "source": [
    "par = {'n': 50, 'm': 50, 'k': 14,\n",
    "        'dtype': np.float64, 'sparse': False} # square\n",
    "\n",
    "# Create random m-by-n encoding matrix\n",
    "m = par['m']\n",
    "n = par['n']\n",
    "A = np.random.normal(0, 1, (m, n))\n",
    "Aop = MatrixMult(A)\n",
    "x = np.ones(n)\n",
    "y = A.dot(x)\n",
    "\n",
    "damp = 1e-10\n",
    "atol = 1e-10\n",
    "btol = 1e-10\n",
    "conlim = 1e12\n",
    "itn_max = 50\n",
    "show = True\n",
    "\n",
    "# Without initial guess\n",
    "xinv_sp, istop_sp, itn_sp, r1norm_sp, r2norm_sp, anorm_sp, \\\n",
    "acond_sp, arnorm_sp, xnorm_sp, var_sp = \\\n",
    "    sp_lsqr(Aop, y, damp, atol, btol, conlim, itn_max, show)\n",
    "\n",
    "xinv, istop, itn, r1norm, r2norm, anorm, acond, arnorm, xnorm, var, cost = \\\n",
    "    lsqr(Aop, y, np.zeros(n), damp, atol, btol, conlim, itn_max, True, show)\n",
    "\n",
    "plt.figure()\n",
    "plt.plot(xinv)\n",
    "plt.plot(xinv_sp, '--')\n",
    "plt.ylim(2, 0);"
   ]
  },
  {
   "cell_type": "markdown",
   "id": "christian-pattern",
   "metadata": {},
   "source": [
    "## LSQR with non-zero initial guess"
   ]
  },
  {
   "cell_type": "code",
   "execution_count": 3,
   "id": "thermal-equilibrium",
   "metadata": {
    "scrolled": false
   },
   "outputs": [
    {
     "name": "stdout",
     "output_type": "stream",
     "text": [
      " \n",
      "LSQR            Least-squares solution of  Ax = b\n",
      "The matrix A has 50 rows and 50 columns\n",
      "damp = 1.00000000000000e-10   calc_var =        0\n",
      "atol = 1.00e-10                 conlim = 1.00e+12\n",
      "btol = 1.00e-10               iter_lim =      100\n",
      " \n",
      "   Itn      x[0]       r1norm     r2norm   Compatible    LS      Norm A   Cond A\n",
      "     0 -1.45816e-01   5.055e+01  5.055e+01    1.0e+00  1.7e-01\n",
      "     1  1.98691e-01   2.673e+01  2.673e+01    5.2e-01  6.8e-01   1.0e+01  1.0e+00\n",
      "     2  6.29537e-01   1.751e+01  1.751e+01    3.4e-01  4.3e-01   1.5e+01  2.2e+00\n",
      "     3  1.18888e+00   1.201e+01  1.201e+01    2.3e-01  3.3e-01   1.8e+01  3.6e+00\n",
      "     4  1.41303e+00   8.407e+00  8.407e+00    1.6e-01  2.8e-01   2.0e+01  5.2e+00\n",
      "     5  1.43795e+00   6.359e+00  6.359e+00    1.2e-01  2.0e-01   2.3e+01  6.8e+00\n",
      "     6  1.26251e+00   4.877e+00  4.877e+00    9.4e-02  1.7e-01   2.4e+01  8.5e+00\n",
      "     7  1.27707e+00   4.145e+00  4.145e+00    8.0e-02  1.2e-01   2.6e+01  1.0e+01\n",
      "     8  1.28547e+00   3.800e+00  3.800e+00    7.3e-02  9.0e-02   2.8e+01  1.2e+01\n",
      "     9  1.25101e+00   3.460e+00  3.460e+00    6.7e-02  7.5e-02   2.9e+01  1.4e+01\n",
      "    10  1.22433e+00   3.215e+00  3.215e+00    6.2e-02  1.0e-01   3.0e+01  1.6e+01\n",
      "    68  1.00000e+00   6.618e-07  6.618e-07    1.3e-08  9.7e-02   6.9e+01  8.0e+02\n",
      "    69  1.00000e+00   1.195e-07  1.195e-07    2.3e-09  9.9e-02   6.9e+01  8.0e+02\n",
      "    70  1.00000e+00   2.178e-08  2.180e-08    4.2e-10  1.0e-01   7.0e+01  8.0e+02\n",
      " \n",
      "LSQR finished\n",
      "Ax - b is small enough, given atol, btol                  \n",
      " \n",
      "istop =       1   r1norm = 2.2e-08   anorm = 7.0e+01   arnorm = 1.6e-07\n",
      "itn   =      70   r2norm = 2.2e-08   acond = 8.0e+02   xnorm  = 9.1e+00\n",
      " \n",
      "LSQR\n",
      "-------------------------------------------------\n",
      "The Operator Op has 50 rows and 50 cols\n",
      "damp = 1.00000000000000e-10     calc_var =      1\n",
      "atol = 1.00e-10                 conlim = 1.00e+12\n",
      "btol = 1.00e-10                 niter =      100\n",
      "-------------------------------------------------\n",
      " \n",
      "   Itn      x[0]       r1norm     r2norm  Compatible   LS      Norm A   Cond A\n",
      "     0 -1.45816e-01  5.055e+01  5.055e+01   1.0e+00  1.7e-01\n",
      "     1  1.98691e-01  2.673e+01  2.673e+01   5.3e-01  4.2e-01  1.0e+01  1.0e+00\n",
      "     2  6.29537e-01  1.751e+01  1.751e+01   3.5e-01  2.5e-01  1.5e+01  2.2e+00\n",
      "     3  1.18888e+00  1.201e+01  1.201e+01   2.4e-01  1.6e-01  1.8e+01  3.6e+00\n",
      "     4  1.41303e+00  8.407e+00  8.407e+00   1.7e-01  1.1e-01  2.0e+01  5.2e+00\n",
      "     5  1.43795e+00  6.359e+00  6.359e+00   1.3e-01  6.4e-02  2.3e+01  6.8e+00\n",
      "     6  1.26251e+00  4.877e+00  4.877e+00   9.6e-02  4.5e-02  2.4e+01  8.5e+00\n",
      "     7  1.27707e+00  4.145e+00  4.145e+00   8.2e-02  2.8e-02  2.6e+01  1.0e+01\n",
      "     8  1.28547e+00  3.800e+00  3.800e+00   7.5e-02  2.1e-02  2.8e+01  1.2e+01\n",
      "     9  1.25101e+00  3.460e+00  3.460e+00   6.8e-02  1.7e-02  2.9e+01  1.4e+01\n",
      "    10  1.22433e+00  3.215e+00  3.215e+00   6.4e-02  2.1e-02  3.0e+01  1.6e+01\n",
      "    20  1.44458e+00  1.009e+00  1.009e+00   2.0e-02  5.7e-03  4.0e+01  4.9e+01\n",
      "    30  1.50744e+00  5.848e-01  5.848e-01   1.2e-02  1.6e-03  4.6e+01  8.5e+01\n",
      "    40  1.30214e+00  2.106e-01  2.106e-01   4.2e-03  1.1e-03  5.2e+01  1.6e+02\n",
      "    50  1.27106e+00  1.534e-01  1.534e-01   3.0e-03  2.5e-04  5.7e+01  1.9e+02\n",
      "    60  1.19039e+00  8.668e-02  8.668e-02   1.7e-03  8.9e-05  6.4e+01  5.3e+02\n",
      "    68  1.00000e+00  4.235e-07  4.235e-07   8.4e-09  8.6e-09  6.8e+01  7.9e+02\n",
      "    69  1.00000e+00  1.141e-07  1.141e-07   2.3e-09  2.0e-09  6.9e+01  8.0e+02\n",
      "    70  1.00000e+00  9.942e-09  9.984e-09   2.0e-10  1.7e-10  7.0e+01  8.1e+02\n",
      " \n",
      "LSQR finished, Opx - b is small enough, given atol, btol                  \n",
      " \n",
      "istop =       1   r1norm = 9.9e-09   anorm = 7.0e+01   arnorm = 7.5e-08\n",
      "itn   =      70   r2norm = 1.0e-08   acond = 8.1e+02   xnorm  = 9.1e+00\n",
      "Total time (s) = 0.01\n",
      "-----------------------------------------------------------------------\n"
     ]
    },
    {
     "data": {
      "image/png": "[encoded data removed]",
      "text/plain": [
       "<Figure size 432x288 with 1 Axes>"
      ]
     },
     "metadata": {
      "needs_background": "light"
     },
     "output_type": "display_data"
    }
   ],
   "source": [
    "par = {'n': 50, 'm': 50, 'k': 14,\n",
    "        'dtype': np.float64, 'sparse': False} # square\n",
    "\n",
    "# Create random m-by-n encoding matrix\n",
    "m = par['m']\n",
    "n = par['n']\n",
    "A = np.random.normal(0, 1, (m, n))\n",
    "Aop = MatrixMult(A)\n",
    "x = np.ones(n)\n",
    "y = A.dot(x)\n",
    "\n",
    "damp = 1e-10\n",
    "atol = 1e-10\n",
    "btol = 1e-10\n",
    "conlim = 1e12\n",
    "itn_max = 100\n",
    "show = True\n",
    "\n",
    "x0 = np.random.normal(0, 1, n)\n",
    "\n",
    "# With initial guess\n",
    "xinv_sp, istop_sp, itn_sp, r1norm_sp, r2norm_sp, anorm_sp, \\\n",
    "acond_sp, arnorm_sp, xnorm_sp, var_sp = \\\n",
    "sp_lsqr(Aop, y, damp, atol, btol, conlim, itn_max, show, x0=x0)\n",
    "#    sp_lsqr(Aop, y - Aop * x0, damp, atol, btol, conlim, itn_max, show)\n",
    "#xinv_sp += x0\n",
    "xinv, istop, itn, r1norm, r2norm, anorm, acond, arnorm, xnorm, var, cost = \\\n",
    "    lsqr(Aop, y, x0, damp, atol, btol, conlim, itn_max, True, show)\n",
    "\n",
    "plt.figure()\n",
    "plt.plot(xinv)\n",
    "plt.plot(xinv_sp, '--')\n",
    "plt.ylim(2, 0);"
   ]
  },
  {
   "cell_type": "markdown",
   "id": "matched-prompt",
   "metadata": {},
   "source": [
    "## LSQR on gpu"
   ]
  },
  {
   "cell_type": "code",
   "execution_count": 6,
   "id": "foster-mainland",
   "metadata": {
    "scrolled": false
   },
   "outputs": [
    {
     "name": "stdout",
     "output_type": "stream",
     "text": [
      "LSQR\n",
      "-------------------------------------------------\n",
      "The Operator Op has 7000 rows and 7000 cols\n",
      "damp = 1.00000000000000e-10     calc_var =      1\n",
      "atol = 1.00e-10                 conlim = 1.00e+12\n",
      "btol = 1.00e-10                 niter =      300\n",
      "-------------------------------------------------\n",
      " \n",
      "   Itn      x[0]       r1norm     r2norm  Compatible   LS      Norm A   Cond A\n",
      "     0 -1.14240e+00  9.804e+03  9.804e+03   1.0e+00  1.2e-02\n",
      "     1 -2.92383e-01  4.400e+03  4.400e+03   4.5e-01  3.5e-01  1.3e+02  1.0e+00\n",
      "     2  3.47736e-01  2.616e+03  2.616e+03   2.7e-01  1.7e-01  1.8e+02  2.2e+00\n",
      "     3  6.76725e-01  1.799e+03  1.799e+03   1.8e-01  1.1e-01  2.2e+02  3.5e+00\n",
      "     4  7.58745e-01  1.324e+03  1.324e+03   1.4e-01  7.1e-02  2.5e+02  5.0e+00\n",
      "     5  6.38949e-01  1.020e+03  1.020e+03   1.0e-01  5.1e-02  2.8e+02  6.6e+00\n",
      "     6  6.99081e-01  8.166e+02  8.166e+02   8.3e-02  3.8e-02  3.0e+02  8.3e+00\n",
      "     7  7.61811e-01  6.752e+02  6.752e+02   6.9e-02  2.9e-02  3.2e+02  1.0e+01\n",
      "     8  7.74849e-01  5.712e+02  5.712e+02   5.8e-02  2.4e-02  3.4e+02  1.2e+01\n",
      "     9  7.71327e-01  4.889e+02  4.889e+02   5.0e-02  1.9e-02  3.6e+02  1.4e+01\n",
      "    10  8.17010e-01  4.255e+02  4.255e+02   4.3e-02  1.6e-02  3.8e+02  1.6e+01\n",
      "    20  1.05231e+00  1.665e+02  1.665e+02   1.7e-02  4.5e-03  5.4e+02  4.3e+01\n",
      "    30  1.12870e+00  9.407e+01  9.407e+01   9.6e-03  2.1e-03  6.5e+02  7.8e+01\n",
      "    40  1.21376e+00  6.161e+01  6.161e+01   6.3e-03  1.2e-03  7.5e+02  1.2e+02\n",
      "    50  1.20630e+00  4.375e+01  4.375e+01   4.5e-03  7.8e-04  8.4e+02  1.6e+02\n",
      "    60  1.15799e+00  3.352e+01  3.352e+01   3.4e-03  5.2e-04  9.2e+02  2.1e+02\n",
      "    70  1.13014e+00  2.706e+01  2.706e+01   2.8e-03  3.8e-04  9.9e+02  2.7e+02\n",
      "    80  1.13089e+00  2.250e+01  2.250e+01   2.3e-03  3.0e-04  1.1e+03  3.2e+02\n",
      "    90  1.13117e+00  1.910e+01  1.910e+01   1.9e-03  2.4e-04  1.1e+03  3.9e+02\n",
      "   100  1.13409e+00  1.662e+01  1.662e+01   1.7e-03  1.9e-04  1.2e+03  4.5e+02\n",
      "   110  1.13858e+00  1.457e+01  1.457e+01   1.5e-03  1.6e-04  1.2e+03  5.2e+02\n",
      "   120  1.15385e+00  1.296e+01  1.296e+01   1.3e-03  1.4e-04  1.3e+03  6.0e+02\n",
      "   130  1.15623e+00  1.164e+01  1.164e+01   1.2e-03  1.2e-04  1.3e+03  6.7e+02\n",
      "   140  1.14758e+00  1.056e+01  1.056e+01   1.1e-03  1.1e-04  1.4e+03  7.5e+02\n",
      "   150  1.13517e+00  9.587e+00  9.587e+00   9.8e-04  9.2e-05  1.4e+03  8.4e+02\n",
      "   160  1.12291e+00  8.765e+00  8.765e+00   8.9e-04  8.8e-05  1.5e+03  9.3e+02\n",
      "   170  1.10857e+00  7.994e+00  7.994e+00   8.2e-04  7.6e-05  1.5e+03  1.0e+03\n",
      "   180  1.09021e+00  7.350e+00  7.350e+00   7.5e-04  6.7e-05  1.6e+03  1.1e+03\n",
      "   190  1.07724e+00  6.778e+00  6.778e+00   6.9e-04  6.3e-05  1.6e+03  1.2e+03\n",
      "   200  1.06977e+00  6.254e+00  6.254e+00   6.4e-04  5.5e-05  1.7e+03  1.3e+03\n",
      "   210  1.06056e+00  5.834e+00  5.834e+00   6.0e-04  4.9e-05  1.7e+03  1.4e+03\n",
      "   220  1.05428e+00  5.455e+00  5.455e+00   5.6e-04  4.5e-05  1.7e+03  1.5e+03\n",
      "   230  1.04841e+00  5.106e+00  5.106e+00   5.2e-04  4.0e-05  1.8e+03  1.6e+03\n",
      "   240  1.04128e+00  4.811e+00  4.811e+00   4.9e-04  3.7e-05  1.8e+03  1.7e+03\n",
      "   250  1.03384e+00  4.545e+00  4.545e+00   4.6e-04  3.5e-05  1.9e+03  1.8e+03\n",
      "   260  1.02572e+00  4.275e+00  4.275e+00   4.4e-04  3.4e-05  1.9e+03  1.9e+03\n",
      "   270  1.02121e+00  4.019e+00  4.019e+00   4.1e-04  3.1e-05  1.9e+03  2.0e+03\n",
      "   280  1.01841e+00  3.793e+00  3.793e+00   3.9e-04  2.9e-05  2.0e+03  2.2e+03\n",
      "   290  1.01646e+00  3.586e+00  3.586e+00   3.7e-04  2.7e-05  2.0e+03  2.3e+03\n",
      "   291  1.01627e+00  3.566e+00  3.566e+00   3.6e-04  2.7e-05  2.0e+03  2.3e+03\n",
      "   292  1.01607e+00  3.546e+00  3.546e+00   3.6e-04  2.7e-05  2.0e+03  2.3e+03\n",
      "   293  1.01586e+00  3.528e+00  3.528e+00   3.6e-04  2.6e-05  2.0e+03  2.3e+03\n",
      "   294  1.01564e+00  3.509e+00  3.509e+00   3.6e-04  2.6e-05  2.0e+03  2.3e+03\n",
      "   295  1.01536e+00  3.490e+00  3.490e+00   3.6e-04  2.6e-05  2.0e+03  2.3e+03\n",
      "   296  1.01492e+00  3.472e+00  3.472e+00   3.5e-04  2.5e-05  2.0e+03  2.3e+03\n",
      "   297  1.01446e+00  3.454e+00  3.454e+00   3.5e-04  2.5e-05  2.0e+03  2.4e+03\n",
      "   298  1.01408e+00  3.437e+00  3.437e+00   3.5e-04  2.4e-05  2.0e+03  2.4e+03\n",
      "   299  1.01369e+00  3.420e+00  3.420e+00   3.5e-04  2.4e-05  2.0e+03  2.4e+03\n",
      "   300  1.01331e+00  3.403e+00  3.403e+00   3.5e-04  2.4e-05  2.0e+03  2.4e+03\n",
      " \n",
      "LSQR finished, The iteration limit has been reached                      \n",
      " \n",
      "istop =       7   r1norm = 3.4e+00   anorm = 2.0e+03   arnorm = 2.8e+01\n",
      "itn   =     300   r2norm = 3.4e+00   acond = 2.4e+03   xnorm  = 1.2e+02\n",
      "Total time (s) = 4.19\n",
      "-----------------------------------------------------------------------\n",
      "LSQR\n",
      "-------------------------------------------------\n",
      "The Operator Op has 7000 rows and 7000 cols\n",
      "damp = 1.00000000000000e-10     calc_var =      1\n",
      "atol = 1.00e-10                 conlim = 1.00e+12\n",
      "btol = 1.00e-10                 niter =      300\n",
      "-------------------------------------------------\n",
      " \n",
      "   Itn      x[0]       r1norm     r2norm  Compatible   LS      Norm A   Cond A\n",
      "     0 -1.14240e+00  9.804e+03  9.804e+03   1.0e+00  1.2e-02\n",
      "     1 -2.92383e-01  4.400e+03  4.400e+03   4.5e-01  3.5e-01  1.3e+02  1.0e+00\n",
      "     2  3.47736e-01  2.616e+03  2.616e+03   2.7e-01  1.7e-01  1.8e+02  2.2e+00\n",
      "     3  6.76725e-01  1.799e+03  1.799e+03   1.8e-01  1.1e-01  2.2e+02  3.5e+00\n",
      "     4  7.58745e-01  1.324e+03  1.324e+03   1.4e-01  7.1e-02  2.5e+02  5.0e+00\n",
      "     5  6.38949e-01  1.020e+03  1.020e+03   1.0e-01  5.1e-02  2.8e+02  6.6e+00\n",
      "     6  6.99081e-01  8.166e+02  8.166e+02   8.3e-02  3.8e-02  3.0e+02  8.3e+00\n",
      "     7  7.61811e-01  6.752e+02  6.752e+02   6.9e-02  2.9e-02  3.2e+02  1.0e+01\n",
      "     8  7.74849e-01  5.712e+02  5.712e+02   5.8e-02  2.4e-02  3.4e+02  1.2e+01\n",
      "     9  7.71327e-01  4.889e+02  4.889e+02   5.0e-02  1.9e-02  3.6e+02  1.4e+01\n",
      "    10  8.17010e-01  4.255e+02  4.255e+02   4.3e-02  1.6e-02  3.8e+02  1.6e+01\n",
      "    20  1.05231e+00  1.665e+02  1.665e+02   1.7e-02  4.5e-03  5.4e+02  4.3e+01\n",
      "    30  1.12870e+00  9.407e+01  9.407e+01   9.6e-03  2.1e-03  6.5e+02  7.8e+01\n",
      "    40  1.21376e+00  6.161e+01  6.161e+01   6.3e-03  1.2e-03  7.5e+02  1.2e+02\n",
      "    50  1.20630e+00  4.375e+01  4.375e+01   4.5e-03  7.8e-04  8.4e+02  1.6e+02\n",
      "    60  1.15799e+00  3.352e+01  3.352e+01   3.4e-03  5.2e-04  9.2e+02  2.1e+02\n",
      "    70  1.13014e+00  2.706e+01  2.706e+01   2.8e-03  3.8e-04  9.9e+02  2.7e+02\n",
      "    80  1.13089e+00  2.250e+01  2.250e+01   2.3e-03  3.0e-04  1.1e+03  3.2e+02\n",
      "    90  1.13117e+00  1.910e+01  1.910e+01   1.9e-03  2.4e-04  1.1e+03  3.9e+02\n",
      "   100  1.13409e+00  1.662e+01  1.662e+01   1.7e-03  1.9e-04  1.2e+03  4.5e+02\n",
      "   110  1.13858e+00  1.457e+01  1.457e+01   1.5e-03  1.6e-04  1.2e+03  5.2e+02\n",
      "   120  1.15385e+00  1.296e+01  1.296e+01   1.3e-03  1.4e-04  1.3e+03  6.0e+02\n",
      "   130  1.15623e+00  1.164e+01  1.164e+01   1.2e-03  1.2e-04  1.3e+03  6.7e+02\n",
      "   140  1.14758e+00  1.056e+01  1.056e+01   1.1e-03  1.1e-04  1.4e+03  7.5e+02\n",
      "   150  1.13517e+00  9.587e+00  9.587e+00   9.8e-04  9.2e-05  1.4e+03  8.4e+02\n",
      "   160  1.12291e+00  8.765e+00  8.765e+00   8.9e-04  8.8e-05  1.5e+03  9.3e+02\n",
      "   170  1.10857e+00  7.994e+00  7.994e+00   8.2e-04  7.6e-05  1.5e+03  1.0e+03\n",
      "   180  1.09020e+00  7.350e+00  7.350e+00   7.5e-04  6.7e-05  1.6e+03  1.1e+03\n",
      "   190  1.07711e+00  6.769e+00  6.769e+00   6.9e-04  6.2e-05  1.6e+03  1.2e+03\n",
      "   200  1.06976e+00  6.253e+00  6.253e+00   6.4e-04  5.5e-05  1.7e+03  1.3e+03\n",
      "   210  1.06044e+00  5.829e+00  5.829e+00   5.9e-04  4.9e-05  1.7e+03  1.4e+03\n",
      "   220  1.05428e+00  5.455e+00  5.455e+00   5.6e-04  4.5e-05  1.7e+03  1.5e+03\n",
      "   230  1.04841e+00  5.106e+00  5.106e+00   5.2e-04  4.0e-05  1.8e+03  1.6e+03\n",
      "   240  1.04128e+00  4.811e+00  4.811e+00   4.9e-04  3.7e-05  1.8e+03  1.7e+03\n",
      "   250  1.03372e+00  4.542e+00  4.542e+00   4.6e-04  3.5e-05  1.9e+03  1.8e+03\n",
      "   260  1.02572e+00  4.275e+00  4.275e+00   4.4e-04  3.4e-05  1.9e+03  1.9e+03\n",
      "   270  1.02120e+00  4.019e+00  4.019e+00   4.1e-04  3.1e-05  1.9e+03  2.0e+03\n",
      "   280  1.01839e+00  3.792e+00  3.792e+00   3.9e-04  2.9e-05  2.0e+03  2.2e+03\n",
      "   290  1.01646e+00  3.585e+00  3.585e+00   3.7e-04  2.7e-05  2.0e+03  2.3e+03\n",
      "   291  1.01626e+00  3.565e+00  3.565e+00   3.6e-04  2.7e-05  2.0e+03  2.3e+03\n",
      "   292  1.01606e+00  3.545e+00  3.545e+00   3.6e-04  2.6e-05  2.0e+03  2.3e+03\n",
      "   293  1.01584e+00  3.526e+00  3.526e+00   3.6e-04  2.6e-05  2.0e+03  2.3e+03\n"
     ]
    },
    {
     "name": "stdout",
     "output_type": "stream",
     "text": [
      "   294  1.01561e+00  3.507e+00  3.507e+00   3.6e-04  2.6e-05  2.0e+03  2.3e+03\n",
      "   295  1.01531e+00  3.488e+00  3.488e+00   3.6e-04  2.6e-05  2.0e+03  2.3e+03\n",
      "   296  1.01484e+00  3.469e+00  3.469e+00   3.5e-04  2.5e-05  2.0e+03  2.3e+03\n",
      "   297  1.01441e+00  3.451e+00  3.451e+00   3.5e-04  2.5e-05  2.0e+03  2.4e+03\n",
      "   298  1.01401e+00  3.434e+00  3.434e+00   3.5e-04  2.4e-05  2.0e+03  2.4e+03\n",
      "   299  1.01365e+00  3.418e+00  3.418e+00   3.5e-04  2.4e-05  2.0e+03  2.4e+03\n",
      "   300  1.01326e+00  3.401e+00  3.401e+00   3.5e-04  2.4e-05  2.0e+03  2.4e+03\n",
      " \n",
      "LSQR finished, The iteration limit has been reached                      \n",
      " \n",
      "istop =       7   r1norm = 3.4e+00   anorm = 2.0e+03   arnorm = 2.8e+01\n",
      "itn   =     300   r2norm = 3.4e+00   acond = 2.4e+03   xnorm  = 1.2e+02\n",
      "Total time (s) = 0.79\n",
      "-----------------------------------------------------------------------\n"
     ]
    },
    {
     "data": {
      "text/plain": [
       "[<matplotlib.lines.Line2D at 0x14f4403265b0>]"
      ]
     },
     "execution_count": 6,
     "metadata": {},
     "output_type": "execute_result"
    },
    {
     "data": {
      "image/png": "[encoded data removed]",
      "text/plain": [
       "<Figure size 432x288 with 1 Axes>"
      ]
     },
     "metadata": {
      "needs_background": "light"
     },
     "output_type": "display_data"
    },
    {
     "data": {
      "image/png": "[encoded data removed]",
      "text/plain": [
       "<Figure size 432x288 with 1 Axes>"
      ]
     },
     "metadata": {
      "needs_background": "light"
     },
     "output_type": "display_data"
    },
    {
     "data": {
      "image/png": "[encoded data removed]",
      "text/plain": [
       "<Figure size 432x288 with 1 Axes>"
      ]
     },
     "metadata": {
      "needs_background": "light"
     },
     "output_type": "display_data"
    }
   ],
   "source": [
    "import cupy as cp\n",
    "cp.cuda.Device(device=0).use()\n",
    "\n",
    "# Create random m-by-n encoding matrix\n",
    "m, n = 7000, 7000\n",
    "A = np.random.normal(0, 1, (m, n))\n",
    "Aop = MatrixMult(A)\n",
    "x = np.ones(n)\n",
    "y = A.dot(x)\n",
    "\n",
    "damp = 1e-10\n",
    "atol = 1e-10\n",
    "btol = 1e-10\n",
    "conlim = 1e12\n",
    "itn_max = 300\n",
    "show = True\n",
    "x0 = np.random.normal(0, 1, n)\n",
    "Aop = MatrixMult(A)\n",
    "Aop_cp = MatrixMult(cp.asarray(A))\n",
    "\n",
    "xinv, istop, itn, r1norm, r2norm, anorm, acond, arnorm, xnorm, var, cost = \\\n",
    "    lsqr(Aop, y, x0, damp, atol, btol, conlim, itn_max, True, show)\n",
    "\n",
    "xinv_cp, istop_cp, itn_cp, r1norm_cp, r2norm_cp, anorm_cp, acond_cp, arnorm_cp, xnorm_cp, var_cp, cost_cp = \\\n",
    "    lsqr(Aop_cp, cp.asarray(y), cp.asarray(x0), damp, atol, btol, conlim, itn_max, True, show)\n",
    "\n",
    "plt.figure()\n",
    "plt.plot(xinv)\n",
    "plt.plot(cp.asnumpy(xinv_cp), '--')\n",
    "plt.ylim(2, 0)\n",
    "\n",
    "plt.figure()\n",
    "plt.plot(xinv - cp.asnumpy(xinv_cp))\n",
    "plt.ylim(1, -1);\n",
    "\n",
    "plt.figure()\n",
    "plt.plot(cost)\n",
    "plt.plot(cost_cp, '--')"
   ]
  },
  {
   "cell_type": "code",
   "execution_count": null,
   "id": "possible-thermal",
   "metadata": {},
   "outputs": [],
   "source": []
  }
 ],
 "metadata": {
  "kernelspec": {
   "display_name": "Python 3",
   "language": "python",
   "name": "python3"
  },
  "language_info": {
   "codemirror_mode": {
    "name": "ipython",
    "version": 3
   },
   "file_extension": ".py",
   "mimetype": "text/x-python",
   "name": "python",
   "nbconvert_exporter": "python",
   "pygments_lexer": "ipython3",
   "version": "3.8.5"
  }
 },
 "nbformat": 4,
 "nbformat_minor": 5
}
