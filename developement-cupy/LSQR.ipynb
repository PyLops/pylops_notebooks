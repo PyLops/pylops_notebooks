{
 "cells": [
  {
   "cell_type": "markdown",
   "id": "assigned-migration",
   "metadata": {},
   "source": [
    "# Pylops - LSQR"
   ]
  },
  {
   "cell_type": "markdown",
   "id": "comic-general",
   "metadata": {},
   "source": [
    "### Author: M.Ravasi"
   ]
  },
  {
   "cell_type": "markdown",
   "id": "detected-shield",
   "metadata": {},
   "source": [
    "In this notebook I compare scipy and pylops LSQR"
   ]
  },
  {
   "cell_type": "code",
   "execution_count": 1,
   "id": "joined-wilson",
   "metadata": {},
   "outputs": [],
   "source": [
    "%load_ext autoreload\n",
    "%autoreload 2\n",
    "%matplotlib inline\n",
    "\n",
    "#import warnings\n",
    "#warnings.filterwarnings('ignore')\n",
    "\n",
    "import numpy as np\n",
    "import cupy as cp\n",
    "import matplotlib.pyplot as plt\n",
    "import scipy as sp\n",
    "\n",
    "from scipy.sparse.linalg import lsqr as sp_lsqr\n",
    "from pylops.basicoperators import *\n",
    "from pylops.optimization.basic import lsqr, cgls"
   ]
  },
  {
   "cell_type": "code",
   "execution_count": 2,
   "id": "d1752fc6",
   "metadata": {
    "scrolled": true
   },
   "outputs": [
    {
     "name": "stdout",
     "output_type": "stream",
     "text": [
      "b'NVIDIA GeForce RTX 3090'\n",
      "b'Quadro RTX 4000'\n"
     ]
    }
   ],
   "source": [
    "for idev in range(cp.cuda.runtime.getDeviceCount()):\n",
    "    print(cp.cuda.runtime.getDeviceProperties(idev)['name'])\n",
    "\n",
    "cp.cuda.Device(device=0).use()"
   ]
  },
  {
   "cell_type": "markdown",
   "id": "agreed-quilt",
   "metadata": {},
   "source": [
    "## LSQR with zero initial guess"
   ]
  },
  {
   "cell_type": "code",
   "execution_count": 3,
   "id": "democratic-lecture",
   "metadata": {
    "scrolled": false
   },
   "outputs": [
    {
     "name": "stdout",
     "output_type": "stream",
     "text": [
      " \n",
      "LSQR            Least-squares solution of  Ax = b\n",
      "The matrix A has 50 rows and 50 columns\n",
      "damp = 1.00000000000000e-10   calc_var =        0\n",
      "atol = 1.00e-10                 conlim = 1.00e+12\n",
      "btol = 1.00e-10               iter_lim =       50\n",
      " \n",
      "   Itn      x[0]       r1norm     r2norm   Compatible    LS      Norm A   Cond A\n",
      "     0  0.00000e+00   4.504e+01  4.504e+01    1.0e+00  2.0e-01\n",
      "     1 -7.54121e-01   2.011e+01  2.011e+01    4.5e-01  7.6e-01   1.0e+01  1.0e+00\n",
      "     2 -3.96675e-01   1.255e+01  1.255e+01    2.8e-01  4.2e-01   1.5e+01  2.1e+00\n",
      "     3 -1.98663e-01   8.690e+00  8.690e+00    1.9e-01  3.5e-01   1.8e+01  3.5e+00\n",
      "     4 -1.02428e-01   6.237e+00  6.237e+00    1.4e-01  2.3e-01   2.1e+01  5.0e+00\n",
      "     5  1.68220e-02   5.085e+00  5.085e+00    1.1e-01  2.0e-01   2.3e+01  6.5e+00\n",
      "     6  1.76055e-01   3.932e+00  3.932e+00    8.7e-02  1.5e-01   2.5e+01  8.5e+00\n",
      "     7  3.18872e-01   3.162e+00  3.162e+00    7.0e-02  1.7e-01   2.6e+01  1.0e+01\n",
      "     8  4.34752e-01   2.493e+00  2.493e+00    5.5e-02  1.5e-01   2.7e+01  1.3e+01\n",
      "     9  5.00702e-01   2.136e+00  2.136e+00    4.7e-02  9.7e-02   2.9e+01  1.5e+01\n",
      "    10  5.40626e-01   1.904e+00  1.904e+00    4.2e-02  9.5e-02   3.0e+01  1.7e+01\n",
      "    40  7.93429e-01   2.294e-01  2.294e-01    5.1e-03  7.7e-03   5.2e+01  1.3e+02\n",
      "    41  7.94251e-01   2.281e-01  2.281e-01    5.1e-03  7.0e-03   5.2e+01  1.4e+02\n",
      "    42  7.96433e-01   2.261e-01  2.261e-01    5.0e-03  7.8e-03   5.2e+01  1.5e+02\n",
      "    43  7.97188e-01   2.258e-01  2.258e-01    5.0e-03  9.0e-03   5.3e+01  1.5e+02\n",
      "    44  8.03486e-01   2.238e-01  2.238e-01    5.0e-03  8.1e-03   5.4e+01  1.7e+02\n",
      "    45  8.06502e-01   2.227e-01  2.227e-01    4.9e-03  1.7e-02   5.4e+01  1.7e+02\n",
      "    46  8.15056e-01   2.196e-01  2.196e-01    4.9e-03  1.1e-02   5.5e+01  1.9e+02\n",
      "    47  8.18430e-01   2.186e-01  2.186e-01    4.9e-03  1.5e-02   5.6e+01  2.0e+02\n",
      "    48  8.35817e-01   2.131e-01  2.131e-01    4.7e-03  9.6e-03   5.6e+01  2.3e+02\n",
      "    49  8.49971e-01   2.070e-01  2.070e-01    4.6e-03  1.3e-02   5.7e+01  2.6e+02\n",
      "    50  8.52875e-01   2.058e-01  2.058e-01    4.6e-03  1.6e-02   5.7e+01  2.6e+02\n",
      " \n",
      "LSQR finished\n",
      "The iteration limit has been reached                      \n",
      " \n",
      "istop =       7   r1norm = 2.1e-01   anorm = 5.7e+01   arnorm = 1.8e-01\n",
      "itn   =      50   r2norm = 2.1e-01   acond = 2.6e+02   xnorm  = 6.7e+00\n",
      " \n",
      "LSQR\n",
      "------------------------------------------------------------------------------------------\n",
      "The Operator Op has 50 rows and 50 cols\n",
      "damp = 1.00000000000000e-10     calc_var =      1\n",
      "atol = 1.00e-10                 conlim = 1.00e+12\n",
      "btol = 1.00e-10                 niter =       50\n",
      "------------------------------------------------------------------------------------------\n",
      "   Itn     x[0]      r1norm     r2norm   Compatible   LS     Norm A   Cond A\n",
      "     0  0.0000e+00  4.504e+01  4.504e+01   1.0e+00  2.0e-01\n",
      "     1 -7.5412e-01  2.011e+01  2.011e+01   4.5e-01  3.8e-01  1.0e+01  1.0e+00\n",
      "     2 -3.9667e-01  1.255e+01  1.255e+01   2.8e-01  1.9e-01  1.5e+01  2.1e+00\n",
      "     3 -1.9866e-01  8.690e+00  8.690e+00   1.9e-01  1.3e-01  1.8e+01  3.5e+00\n",
      "     4 -1.0243e-01  6.237e+00  6.237e+00   1.4e-01  7.3e-02  2.1e+01  5.0e+00\n",
      "     5  1.6822e-02  5.085e+00  5.085e+00   1.1e-01  5.6e-02  2.3e+01  6.5e+00\n",
      "     6  1.7605e-01  3.932e+00  3.932e+00   8.7e-02  3.5e-02  2.5e+01  8.5e+00\n",
      "     7  3.1887e-01  3.162e+00  3.162e+00   7.0e-02  3.3e-02  2.6e+01  1.0e+01\n",
      "     8  4.3475e-01  2.493e+00  2.493e+00   5.5e-02  2.5e-02  2.7e+01  1.3e+01\n",
      "     9  5.0070e-01  2.136e+00  2.136e+00   4.7e-02  1.5e-02  2.9e+01  1.5e+01\n",
      "    10  5.4063e-01  1.904e+00  1.904e+00   4.2e-02  1.3e-02  3.0e+01  1.7e+01\n",
      "    11  5.4377e-01  1.644e+00  1.644e+00   3.7e-02  1.4e-02  3.1e+01  1.9e+01\n",
      "    21  7.6212e-01  4.805e-01  4.805e-01   1.1e-02  2.9e-03  4.0e+01  4.8e+01\n",
      "    31  7.8172e-01  2.423e-01  2.423e-01   5.4e-03  5.3e-04  4.6e+01  7.9e+01\n",
      "    41  7.9425e-01  2.282e-01  2.282e-01   5.1e-03  2.1e-04  5.2e+01  1.4e+02\n",
      "    42  7.9516e-01  2.272e-01  2.272e-01   5.0e-03  4.3e-04  5.2e+01  1.4e+02\n",
      "    43  7.9684e-01  2.259e-01  2.259e-01   5.0e-03  1.8e-04  5.4e+01  1.5e+02\n",
      "    44  8.0185e-01  2.244e-01  2.244e-01   5.0e-03  4.4e-04  5.4e+01  1.6e+02\n",
      "    45  8.0435e-01  2.235e-01  2.235e-01   5.0e-03  2.4e-04  5.5e+01  1.7e+02\n",
      "    46  8.1509e-01  2.196e-01  2.196e-01   4.9e-03  3.1e-04  5.5e+01  1.9e+02\n",
      "    47  8.1922e-01  2.184e-01  2.184e-01   4.8e-03  5.1e-04  5.6e+01  2.0e+02\n",
      "    48  8.3582e-01  2.131e-01  2.131e-01   4.7e-03  2.8e-04  5.6e+01  2.3e+02\n",
      "    49  8.5043e-01  2.069e-01  2.069e-01   4.6e-03  3.1e-04  5.6e+01  2.6e+02\n",
      "    50  8.5585e-01  2.042e-01  2.042e-01   4.5e-03  6.8e-04  5.7e+01  2.7e+02\n",
      " \n",
      "LSQR finished, The exact solution is x = 0                               \n",
      " \n",
      "istop =       0   r1norm = 2.0e-01   anorm = 5.7e+01   arnorm = 2.8e-01\n",
      "itn   =      50   r2norm = 2.0e-01   acond = 2.7e+02   xnorm  = 6.7e+00\n",
      "Total time (s) = 0.02\n",
      "------------------------------------------------------------------------------------------\n",
      "\n"
     ]
    },
    {
     "data": {
      "image/png": "[encoded data removed]",
      "text/plain": [
       "<Figure size 432x288 with 1 Axes>"
      ]
     },
     "metadata": {
      "needs_background": "light"
     },
     "output_type": "display_data"
    }
   ],
   "source": [
    "par = {'n': 50, 'm': 50, 'k': 14,\n",
    "        'dtype': np.float64, 'sparse': False} # square\n",
    "\n",
    "# Create random m-by-n encoding matrix\n",
    "m = par['m']\n",
    "n = par['n']\n",
    "A = np.random.normal(0, 1, (m, n))\n",
    "Aop = MatrixMult(A)\n",
    "x = np.ones(n)\n",
    "y = A.dot(x)\n",
    "\n",
    "damp = 1e-10\n",
    "atol = 1e-10\n",
    "btol = 1e-10\n",
    "conlim = 1e12\n",
    "itn_max = 50\n",
    "show = True\n",
    "\n",
    "# Without initial guess\n",
    "xinv_sp, istop_sp, itn_sp, r1norm_sp, r2norm_sp, anorm_sp, \\\n",
    "acond_sp, arnorm_sp, xnorm_sp, var_sp = \\\n",
    "    sp_lsqr(Aop, y, damp, atol, btol, conlim, itn_max, show)\n",
    "\n",
    "xinv, istop, itn, r1norm, r2norm, anorm, acond, arnorm, xnorm, var, cost = \\\n",
    "    lsqr(Aop, y, np.zeros(n), damp, atol, btol, conlim, itn_max, True, show)\n",
    "\n",
    "plt.figure()\n",
    "plt.plot(xinv)\n",
    "plt.plot(xinv_sp, '--')\n",
    "plt.ylim(2, 0);"
   ]
  },
  {
   "cell_type": "markdown",
   "id": "christian-pattern",
   "metadata": {},
   "source": [
    "## LSQR with non-zero initial guess"
   ]
  },
  {
   "cell_type": "code",
   "execution_count": 4,
   "id": "thermal-equilibrium",
   "metadata": {
    "scrolled": false
   },
   "outputs": [
    {
     "name": "stdout",
     "output_type": "stream",
     "text": [
      " \n",
      "LSQR            Least-squares solution of  Ax = b\n",
      "The matrix A has 50 rows and 50 columns\n",
      "damp = 1.00000000000000e-10   calc_var =        0\n",
      "atol = 1.00e-10                 conlim = 1.00e+12\n",
      "btol = 1.00e-10               iter_lim =      100\n",
      " \n",
      "   Itn      x[0]       r1norm     r2norm   Compatible    LS      Norm A   Cond A\n",
      "     0  9.86181e-01   7.348e+01  7.348e+01    1.0e+00  1.2e-01\n",
      "     1  2.47825e+00   3.644e+01  3.644e+01    6.8e-01  7.5e-01   1.0e+01  1.0e+00\n",
      "     2  1.79121e+00   2.236e+01  2.236e+01    4.2e-01  4.7e-01   1.5e+01  2.2e+00\n",
      "     3  1.17357e+00   1.227e+01  1.227e+01    2.3e-01  3.6e-01   1.8e+01  3.6e+00\n",
      "     4  1.27131e+00   8.141e+00  8.141e+00    1.5e-01  3.1e-01   2.0e+01  5.0e+00\n",
      "     5  1.42680e+00   6.164e+00  6.164e+00    1.2e-01  2.1e-01   2.3e+01  6.4e+00\n",
      "     6  1.46220e+00   4.918e+00  4.918e+00    9.2e-02  1.6e-01   2.5e+01  8.0e+00\n",
      "     7  1.39463e+00   4.289e+00  4.289e+00    8.0e-02  1.4e-01   2.7e+01  9.5e+00\n",
      "     8  1.25934e+00   3.566e+00  3.566e+00    6.7e-02  1.5e-01   2.9e+01  1.2e+01\n",
      "     9  1.16759e+00   2.949e+00  2.949e+00    5.5e-02  1.4e-01   3.0e+01  1.4e+01\n",
      "    10  1.10493e+00   2.435e+00  2.435e+00    4.5e-02  1.1e-01   3.2e+01  1.7e+01\n",
      "    71  1.00000e+00   2.815e-07  2.815e-07    5.3e-09  1.7e-01   7.1e+01  3.0e+03\n",
      "    72  1.00000e+00   8.786e-08  8.787e-08    1.6e-09  8.9e-02   7.2e+01  3.0e+03\n",
      "    73  1.00000e+00   2.377e-08  2.380e-08    4.4e-10  8.1e-02   7.3e+01  3.1e+03\n",
      " \n",
      "LSQR finished\n",
      "Ax - b is small enough, given atol, btol                  \n",
      " \n",
      "istop =       1   r1norm = 2.4e-08   anorm = 7.3e+01   arnorm = 1.4e-07\n",
      "itn   =      73   r2norm = 2.4e-08   acond = 3.1e+03   xnorm  = 1.1e+01\n",
      " \n",
      "LSQR\n",
      "------------------------------------------------------------------------------------------\n",
      "The Operator Op has 50 rows and 50 cols\n",
      "damp = 1.00000000000000e-10     calc_var =      1\n",
      "atol = 1.00e-10                 conlim = 1.00e+12\n",
      "btol = 1.00e-10                 niter =      100\n",
      "------------------------------------------------------------------------------------------\n",
      "   Itn     x[0]      r1norm     r2norm   Compatible   LS     Norm A   Cond A\n",
      "     0  9.8618e-01  7.348e+01  7.348e+01   1.0e+00  1.2e-01\n",
      "     1  2.4782e+00  3.644e+01  3.644e+01   5.0e-01  4.3e-01  1.0e+01  1.0e+00\n",
      "     2  1.7912e+00  2.236e+01  2.236e+01   3.0e-01  2.4e-01  1.5e+01  2.2e+00\n",
      "     3  1.1736e+00  1.227e+01  1.227e+01   1.7e-01  1.2e-01  1.8e+01  3.6e+00\n",
      "     4  1.2713e+00  8.141e+00  8.141e+00   1.1e-01  7.7e-02  2.0e+01  5.0e+00\n",
      "     5  1.4268e+00  6.164e+00  6.164e+00   8.4e-02  4.6e-02  2.3e+01  6.4e+00\n",
      "     6  1.4622e+00  4.918e+00  4.918e+00   6.7e-02  2.9e-02  2.5e+01  8.0e+00\n",
      "     7  1.3946e+00  4.289e+00  4.289e+00   5.8e-02  2.5e-02  2.7e+01  9.5e+00\n",
      "     8  1.2593e+00  3.566e+00  3.566e+00   4.9e-02  2.3e-02  2.9e+01  1.2e+01\n",
      "     9  1.1676e+00  2.949e+00  2.949e+00   4.0e-02  1.9e-02  3.0e+01  1.4e+01\n",
      "    10  1.1049e+00  2.435e+00  2.435e+00   3.3e-02  1.3e-02  3.2e+01  1.7e+01\n",
      "    11  1.0794e+00  2.078e+00  2.078e+00   2.8e-02  9.6e-03  3.3e+01  1.9e+01\n",
      "    21  1.1495e+00  5.516e-01  5.516e-01   7.5e-03  2.0e-03  4.1e+01  4.7e+01\n",
      "    31  1.1335e+00  3.221e-01  3.221e-01   4.4e-03  4.2e-04  4.6e+01  8.1e+01\n",
      "    41  1.1127e+00  2.660e-01  2.660e-01   3.6e-03  3.9e-04  5.4e+01  1.4e+02\n",
      "    51  1.1842e+00  1.041e-01  1.041e-01   1.4e-03  7.3e-04  5.8e+01  2.9e+02\n",
      "    61  1.2095e+00  5.278e-02  5.278e-02   7.2e-04  2.5e-05  6.5e+01  3.7e+02\n",
      "    71  1.0000e+00  1.648e-07  1.648e-07   2.2e-09  1.6e-09  7.1e+01  3.0e+03\n",
      "    72  1.0000e+00  2.859e-08  2.861e-08   3.9e-10  2.9e-10  7.1e+01  3.0e+03\n",
      " \n",
      "LSQR finished, Op x - b is small enough, given atol, btol                 \n",
      " \n",
      "istop =       1   r1norm = 2.9e-08   anorm = 7.1e+01   arnorm = 1.9e-07\n",
      "itn   =      72   r2norm = 2.9e-08   acond = 3.0e+03   xnorm  = 1.1e+01\n",
      "Total time (s) = 0.01\n",
      "------------------------------------------------------------------------------------------\n",
      "\n"
     ]
    },
    {
     "data": {
      "image/png": "[encoded data removed]",
      "text/plain": [
       "<Figure size 432x288 with 1 Axes>"
      ]
     },
     "metadata": {
      "needs_background": "light"
     },
     "output_type": "display_data"
    }
   ],
   "source": [
    "par = {'n': 50, 'm': 50, 'k': 14,\n",
    "        'dtype': np.float64, 'sparse': False} # square\n",
    "\n",
    "# Create random m-by-n encoding matrix\n",
    "m = par['m']\n",
    "n = par['n']\n",
    "A = np.random.normal(0, 1, (m, n))\n",
    "Aop = MatrixMult(A)\n",
    "x = np.ones(n)\n",
    "y = A.dot(x)\n",
    "\n",
    "damp = 1e-10\n",
    "atol = 1e-10\n",
    "btol = 1e-10\n",
    "conlim = 1e12\n",
    "itn_max = 100\n",
    "show = True\n",
    "\n",
    "x0 = np.random.normal(0, 1, n)\n",
    "\n",
    "# With initial guess\n",
    "xinv_sp, istop_sp, itn_sp, r1norm_sp, r2norm_sp, anorm_sp, \\\n",
    "acond_sp, arnorm_sp, xnorm_sp, var_sp = \\\n",
    "sp_lsqr(Aop, y, damp, atol, btol, conlim, itn_max, show, x0=x0)\n",
    "#    sp_lsqr(Aop, y - Aop * x0, damp, atol, btol, conlim, itn_max, show)\n",
    "#xinv_sp += x0\n",
    "xinv, istop, itn, r1norm, r2norm, anorm, acond, arnorm, xnorm, var, cost = \\\n",
    "    lsqr(Aop, y, x0, damp, atol, btol, conlim, itn_max, True, show)\n",
    "\n",
    "plt.figure()\n",
    "plt.plot(xinv)\n",
    "plt.plot(xinv_sp, '--')\n",
    "plt.ylim(2, 0);"
   ]
  },
  {
   "cell_type": "markdown",
   "id": "matched-prompt",
   "metadata": {},
   "source": [
    "## LSQR on gpu"
   ]
  },
  {
   "cell_type": "code",
   "execution_count": 5,
   "id": "foster-mainland",
   "metadata": {
    "scrolled": false
   },
   "outputs": [
    {
     "name": "stdout",
     "output_type": "stream",
     "text": [
      "LSQR\n",
      "------------------------------------------------------------------------------------------\n",
      "The Operator Op has 7000 rows and 7000 cols\n",
      "damp = 1.00000000000000e-10     calc_var =      1\n",
      "atol = 1.00e-10                 conlim = 1.00e+12\n",
      "btol = 1.00e-10                 niter =      300\n",
      "------------------------------------------------------------------------------------------\n",
      "   Itn     x[0]      r1norm     r2norm   Compatible   LS     Norm A   Cond A\n",
      "     0  1.0358e+00  9.890e+03  9.890e+03   1.0e+00  1.2e-02\n",
      "     1  1.3390e+00  4.437e+03  4.437e+03   4.5e-01  3.5e-01  1.3e+02  1.0e+00\n",
      "     2  1.0556e+00  2.641e+03  2.641e+03   2.7e-01  1.7e-01  1.8e+02  2.2e+00\n",
      "     3  6.8208e-01  1.809e+03  1.809e+03   1.8e-01  1.0e-01  2.2e+02  3.5e+00\n",
      "     4  5.5841e-01  1.350e+03  1.350e+03   1.4e-01  7.1e-02  2.5e+02  5.0e+00\n",
      "     5  6.3365e-01  1.053e+03  1.053e+03   1.1e-01  5.1e-02  2.7e+02  6.6e+00\n",
      "     6  6.1827e-01  8.553e+02  8.553e+02   8.6e-02  3.8e-02  3.0e+02  8.3e+00\n",
      "     7  5.7508e-01  7.079e+02  7.079e+02   7.2e-02  3.0e-02  3.2e+02  1.0e+01\n",
      "     8  6.1298e-01  5.973e+02  5.973e+02   6.0e-02  2.4e-02  3.4e+02  1.2e+01\n",
      "     9  6.3396e-01  5.149e+02  5.149e+02   5.2e-02  2.0e-02  3.6e+02  1.4e+01\n",
      "    10  6.2405e-01  4.484e+02  4.484e+02   4.5e-02  1.7e-02  3.8e+02  1.7e+01\n",
      "    11  5.9420e-01  3.959e+02  3.959e+02   4.0e-02  1.4e-02  4.0e+02  1.9e+01\n",
      "    21  5.6692e-01  1.663e+02  1.663e+02   1.7e-02  4.3e-03  5.5e+02  4.7e+01\n",
      "    31  6.8327e-01  9.675e+01  9.675e+01   9.8e-03  2.1e-03  6.6e+02  8.2e+01\n",
      "    41  7.0210e-01  6.379e+01  6.379e+01   6.4e-03  1.3e-03  7.6e+02  1.2e+02\n",
      "    51  7.2306e-01  4.621e+01  4.621e+01   4.7e-03  8.0e-04  8.5e+02  1.7e+02\n",
      "    61  7.2573e-01  3.468e+01  3.468e+01   3.5e-03  5.7e-04  9.2e+02  2.2e+02\n",
      "    71  7.6980e-01  2.726e+01  2.726e+01   2.8e-03  4.0e-04  1.0e+03  2.7e+02\n",
      "    81  8.0632e-01  2.224e+01  2.224e+01   2.2e-03  3.1e-04  1.1e+03  3.3e+02\n",
      "    91  8.4121e-01  1.839e+01  1.839e+01   1.9e-03  2.6e-04  1.1e+03  3.9e+02\n",
      "   101  8.7330e-01  1.524e+01  1.524e+01   1.5e-03  2.0e-04  1.2e+03  4.6e+02\n",
      "   111  8.8352e-01  1.297e+01  1.297e+01   1.3e-03  1.6e-04  1.2e+03  5.3e+02\n",
      "   121  8.9365e-01  1.130e+01  1.130e+01   1.1e-03  1.3e-04  1.3e+03  5.9e+02\n",
      "   131  8.9514e-01  9.917e+00  9.917e+00   1.0e-03  1.1e-04  1.3e+03  6.7e+02\n",
      "   141  9.0729e-01  8.852e+00  8.852e+00   9.0e-04  9.5e-05  1.4e+03  7.4e+02\n",
      "   151  9.1414e-01  7.901e+00  7.901e+00   8.0e-04  8.5e-05  1.4e+03  8.2e+02\n",
      "   161  9.1343e-01  7.101e+00  7.101e+00   7.2e-04  7.0e-05  1.5e+03  9.0e+02\n",
      "   171  9.1019e-01  6.458e+00  6.458e+00   6.5e-04  6.0e-05  1.5e+03  9.8e+02\n",
      "   181  9.0763e-01  5.914e+00  5.914e+00   6.0e-04  5.5e-05  1.6e+03  1.1e+03\n",
      "   191  9.0904e-01  5.464e+00  5.464e+00   5.5e-04  4.7e-05  1.6e+03  1.2e+03\n",
      "   201  9.0898e-01  5.103e+00  5.103e+00   5.2e-04  4.1e-05  1.7e+03  1.2e+03\n",
      "   211  9.0949e-01  4.817e+00  4.817e+00   4.9e-04  3.6e-05  1.7e+03  1.3e+03\n",
      "   221  9.0908e-01  4.546e+00  4.546e+00   4.6e-04  3.5e-05  1.7e+03  1.4e+03\n",
      "   231  9.0923e-01  4.293e+00  4.293e+00   4.3e-04  3.2e-05  1.8e+03  1.5e+03\n",
      "   241  9.1090e-01  4.068e+00  4.068e+00   4.1e-04  3.0e-05  1.8e+03  1.6e+03\n",
      "   251  9.1344e-01  3.863e+00  3.863e+00   3.9e-04  2.7e-05  1.9e+03  1.7e+03\n",
      "   261  9.1530e-01  3.683e+00  3.683e+00   3.7e-04  2.7e-05  1.9e+03  1.8e+03\n",
      "   271  9.1790e-01  3.490e+00  3.490e+00   3.5e-04  2.6e-05  1.9e+03  2.0e+03\n",
      "   281  9.2323e-01  3.310e+00  3.310e+00   3.3e-04  2.4e-05  2.0e+03  2.1e+03\n",
      "   291  9.2951e-01  3.150e+00  3.150e+00   3.2e-04  2.2e-05  2.0e+03  2.2e+03\n",
      "   292  9.3020e-01  3.135e+00  3.135e+00   3.2e-04  2.1e-05  2.0e+03  2.2e+03\n",
      "   293  9.3087e-01  3.121e+00  3.121e+00   3.2e-04  2.1e-05  2.0e+03  2.2e+03\n",
      "   294  9.3159e-01  3.106e+00  3.106e+00   3.1e-04  2.1e-05  2.0e+03  2.2e+03\n",
      "   295  9.3230e-01  3.092e+00  3.092e+00   3.1e-04  2.1e-05  2.0e+03  2.3e+03\n",
      "   296  9.3295e-01  3.078e+00  3.078e+00   3.1e-04  2.1e-05  2.0e+03  2.3e+03\n",
      "   297  9.3361e-01  3.065e+00  3.065e+00   3.1e-04  2.0e-05  2.0e+03  2.3e+03\n",
      "   298  9.3428e-01  3.051e+00  3.051e+00   3.1e-04  2.1e-05  2.0e+03  2.3e+03\n",
      "   299  9.3496e-01  3.038e+00  3.038e+00   3.1e-04  2.0e-05  2.0e+03  2.3e+03\n",
      "   300  9.3567e-01  3.024e+00  3.024e+00   3.1e-04  2.0e-05  2.0e+03  2.3e+03\n",
      " \n",
      "LSQR finished, The exact solution is x = 0                               \n",
      " \n",
      "istop =       0   r1norm = 3.0e+00   anorm = 2.0e+03   arnorm = 2.4e+01\n",
      "itn   =     300   r2norm = 3.0e+00   acond = 2.3e+03   xnorm  = 1.2e+02\n",
      "Total time (s) = 5.27\n",
      "------------------------------------------------------------------------------------------\n",
      "\n",
      "LSQR\n",
      "------------------------------------------------------------------------------------------\n",
      "The Operator Op has 7000 rows and 7000 cols\n",
      "damp = 1.00000000000000e-10     calc_var =      1\n",
      "atol = 1.00e-10                 conlim = 1.00e+12\n",
      "btol = 1.00e-10                 niter =      300\n",
      "------------------------------------------------------------------------------------------\n",
      "   Itn     x[0]      r1norm     r2norm   Compatible   LS     Norm A   Cond A\n",
      "     0  1.0358e+00  9.890e+03  9.890e+03   1.0e+00  1.2e-02\n",
      "     1  1.3390e+00  4.437e+03  4.437e+03   4.5e-01  3.5e-01  1.3e+02  1.0e+00\n",
      "     2  1.0556e+00  2.641e+03  2.641e+03   2.7e-01  1.7e-01  1.8e+02  2.2e+00\n",
      "     3  6.8208e-01  1.809e+03  1.809e+03   1.8e-01  1.0e-01  2.2e+02  3.5e+00\n",
      "     4  5.5841e-01  1.350e+03  1.350e+03   1.4e-01  7.1e-02  2.5e+02  5.0e+00\n",
      "     5  6.3365e-01  1.053e+03  1.053e+03   1.1e-01  5.1e-02  2.7e+02  6.6e+00\n",
      "     6  6.1827e-01  8.553e+02  8.553e+02   8.6e-02  3.8e-02  3.0e+02  8.3e+00\n",
      "     7  5.7508e-01  7.079e+02  7.079e+02   7.2e-02  3.0e-02  3.2e+02  1.0e+01\n",
      "     8  6.1298e-01  5.973e+02  5.973e+02   6.0e-02  2.4e-02  3.4e+02  1.2e+01\n",
      "     9  6.3396e-01  5.149e+02  5.149e+02   5.2e-02  2.0e-02  3.6e+02  1.4e+01\n",
      "    10  6.2405e-01  4.484e+02  4.484e+02   4.5e-02  1.7e-02  3.8e+02  1.7e+01\n",
      "    11  5.9420e-01  3.959e+02  3.959e+02   4.0e-02  1.4e-02  4.0e+02  1.9e+01\n",
      "    21  5.6692e-01  1.663e+02  1.663e+02   1.7e-02  4.3e-03  5.5e+02  4.7e+01\n",
      "    31  6.8327e-01  9.675e+01  9.675e+01   9.8e-03  2.1e-03  6.6e+02  8.2e+01\n",
      "    41  7.0210e-01  6.379e+01  6.379e+01   6.4e-03  1.3e-03  7.6e+02  1.2e+02\n",
      "    51  7.2306e-01  4.621e+01  4.621e+01   4.7e-03  8.0e-04  8.5e+02  1.7e+02\n",
      "    61  7.2573e-01  3.468e+01  3.468e+01   3.5e-03  5.7e-04  9.2e+02  2.2e+02\n",
      "    71  7.6980e-01  2.726e+01  2.726e+01   2.8e-03  4.0e-04  1.0e+03  2.7e+02\n",
      "    81  8.0632e-01  2.224e+01  2.224e+01   2.2e-03  3.1e-04  1.1e+03  3.3e+02\n",
      "    91  8.4121e-01  1.839e+01  1.839e+01   1.9e-03  2.6e-04  1.1e+03  3.9e+02\n",
      "   101  8.7330e-01  1.524e+01  1.524e+01   1.5e-03  2.0e-04  1.2e+03  4.6e+02\n",
      "   111  8.8352e-01  1.297e+01  1.297e+01   1.3e-03  1.6e-04  1.2e+03  5.3e+02\n",
      "   121  8.9365e-01  1.130e+01  1.130e+01   1.1e-03  1.3e-04  1.3e+03  5.9e+02\n",
      "   131  8.9514e-01  9.917e+00  9.917e+00   1.0e-03  1.1e-04  1.3e+03  6.7e+02\n",
      "   141  9.0729e-01  8.852e+00  8.852e+00   9.0e-04  9.5e-05  1.4e+03  7.4e+02\n",
      "   151  9.1414e-01  7.901e+00  7.901e+00   8.0e-04  8.5e-05  1.4e+03  8.2e+02\n",
      "   161  9.1343e-01  7.101e+00  7.101e+00   7.2e-04  7.0e-05  1.5e+03  9.0e+02\n",
      "   171  9.1019e-01  6.458e+00  6.458e+00   6.5e-04  6.0e-05  1.5e+03  9.8e+02\n",
      "   181  9.0763e-01  5.914e+00  5.914e+00   6.0e-04  5.5e-05  1.6e+03  1.1e+03\n",
      "   191  9.0904e-01  5.464e+00  5.464e+00   5.5e-04  4.7e-05  1.6e+03  1.2e+03\n",
      "   201  9.0898e-01  5.101e+00  5.101e+00   5.2e-04  4.1e-05  1.7e+03  1.2e+03\n",
      "   211  9.0949e-01  4.817e+00  4.817e+00   4.9e-04  3.6e-05  1.7e+03  1.3e+03\n",
      "   221  9.0908e-01  4.546e+00  4.546e+00   4.6e-04  3.5e-05  1.7e+03  1.4e+03\n",
      "   231  9.0923e-01  4.293e+00  4.293e+00   4.3e-04  3.2e-05  1.8e+03  1.5e+03\n",
      "   241  9.1090e-01  4.068e+00  4.068e+00   4.1e-04  3.0e-05  1.8e+03  1.6e+03\n",
      "   251  9.1344e-01  3.863e+00  3.863e+00   3.9e-04  2.7e-05  1.9e+03  1.7e+03\n",
      "   261  9.1531e-01  3.682e+00  3.682e+00   3.7e-04  2.7e-05  1.9e+03  1.8e+03\n",
      "   271  9.1790e-01  3.490e+00  3.490e+00   3.5e-04  2.6e-05  1.9e+03  2.0e+03\n",
      "   281  9.2323e-01  3.310e+00  3.310e+00   3.3e-04  2.4e-05  2.0e+03  2.1e+03\n",
      "   291  9.2952e-01  3.150e+00  3.150e+00   3.2e-04  2.2e-05  2.0e+03  2.2e+03\n",
      "   292  9.3020e-01  3.135e+00  3.135e+00   3.2e-04  2.1e-05  2.0e+03  2.2e+03\n",
      "   293  9.3087e-01  3.120e+00  3.120e+00   3.2e-04  2.1e-05  2.0e+03  2.2e+03\n",
      "   294  9.3161e-01  3.106e+00  3.106e+00   3.1e-04  2.1e-05  2.0e+03  2.2e+03\n",
      "   295  9.3233e-01  3.091e+00  3.091e+00   3.1e-04  2.1e-05  2.0e+03  2.3e+03\n",
      "   296  9.3299e-01  3.077e+00  3.077e+00   3.1e-04  2.1e-05  2.0e+03  2.3e+03\n",
      "   297  9.3365e-01  3.064e+00  3.064e+00   3.1e-04  2.0e-05  2.0e+03  2.3e+03\n",
      "   298  9.3433e-01  3.051e+00  3.051e+00   3.1e-04  2.1e-05  2.0e+03  2.3e+03\n",
      "   299  9.3499e-01  3.037e+00  3.037e+00   3.1e-04  2.1e-05  2.0e+03  2.3e+03\n",
      "   300  9.3569e-01  3.024e+00  3.024e+00   3.1e-04  2.1e-05  2.0e+03  2.3e+03\n",
      " \n",
      "LSQR finished, The exact solution is x = 0                               \n",
      " \n",
      "istop =       0   r1norm = 3.0e+00   anorm = 2.0e+03   arnorm = 2.4e+01\n",
      "itn   =     300   r2norm = 3.0e+00   acond = 2.3e+03   xnorm  = 1.2e+02\n",
      "Total time (s) = 1.67\n",
      "------------------------------------------------------------------------------------------\n",
      "\n"
     ]
    },
    {
     "data": {
      "image/png": "[encoded data removed]",
      "text/plain": [
       "<Figure size 432x288 with 1 Axes>"
      ]
     },
     "metadata": {
      "needs_background": "light"
     },
     "output_type": "display_data"
    },
    {
     "data": {
      "image/png": "[encoded data removed]",
      "text/plain": [
       "<Figure size 432x288 with 1 Axes>"
      ]
     },
     "metadata": {
      "needs_background": "light"
     },
     "output_type": "display_data"
    },
    {
     "data": {
      "image/png": "[encoded data removed]",
      "text/plain": [
       "<Figure size 432x288 with 1 Axes>"
      ]
     },
     "metadata": {
      "needs_background": "light"
     },
     "output_type": "display_data"
    }
   ],
   "source": [
    "# Create random m-by-n encoding matrix\n",
    "m, n = 7000, 7000\n",
    "A = np.random.normal(0, 1, (m, n))\n",
    "Aop = MatrixMult(A)\n",
    "x = np.ones(n)\n",
    "y = A.dot(x)\n",
    "\n",
    "damp = 1e-10\n",
    "atol = 1e-10\n",
    "btol = 1e-10\n",
    "conlim = 1e12\n",
    "itn_max = 300\n",
    "show = True\n",
    "x0 = np.random.normal(0, 1, n)\n",
    "Aop = MatrixMult(A)\n",
    "Aop_cp = MatrixMult(cp.asarray(A))\n",
    "\n",
    "xinv, istop, itn, r1norm, r2norm, anorm, acond, arnorm, xnorm, var, cost = \\\n",
    "    lsqr(Aop, y, x0, damp, atol, btol, conlim, itn_max, True, show)\n",
    "\n",
    "xinv_cp, istop_cp, itn_cp, r1norm_cp, r2norm_cp, anorm_cp, acond_cp, arnorm_cp, xnorm_cp, var_cp, cost_cp = \\\n",
    "    lsqr(Aop_cp, cp.asarray(y), cp.asarray(x0), damp, atol, btol, conlim, itn_max, True, show)\n",
    "\n",
    "plt.figure()\n",
    "plt.plot(xinv)\n",
    "plt.plot(cp.asnumpy(xinv_cp), '--')\n",
    "plt.ylim(2, 0)\n",
    "\n",
    "plt.figure()\n",
    "plt.plot(xinv - cp.asnumpy(xinv_cp))\n",
    "plt.ylim(1, -1);\n",
    "\n",
    "plt.figure()\n",
    "plt.plot(cost)\n",
    "plt.plot(cp.asnumpy(cost_cp), '--');"
   ]
  }
 ],
 "metadata": {
  "kernelspec": {
   "display_name": "Python 3.9.12 ('pylops_cupy_cusignal_3090': conda)",
   "language": "python",
   "name": "python3"
  },
  "language_info": {
   "codemirror_mode": {
    "name": "ipython",
    "version": 3
   },
   "file_extension": ".py",
   "mimetype": "text/x-python",
   "name": "python",
   "nbconvert_exporter": "python",
   "pygments_lexer": "ipython3",
   "version": "3.9.12"
  },
  "toc": {
   "base_numbering": 1,
   "nav_menu": {},
   "number_sections": true,
   "sideBar": true,
   "skip_h1_title": false,
   "title_cell": "Table of Contents",
   "title_sidebar": "Contents",
   "toc_cell": false,
   "toc_position": {
    "height": "calc(100% - 180px)",
    "left": "10px",
    "top": "150px",
    "width": "382px"
   },
   "toc_section_display": true,
   "toc_window_display": true
  },
  "vscode": {
   "interpreter": {
    "hash": "c27fe88b23d484518624eca1cce745dae2db0a60686a425eb41df47c725cd0a4"
   }
  }
 },
 "nbformat": 4,
 "nbformat_minor": 5
}
