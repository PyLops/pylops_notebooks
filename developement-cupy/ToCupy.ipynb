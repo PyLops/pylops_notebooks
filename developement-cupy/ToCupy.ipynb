{
 "cells": [
  {
   "cell_type": "markdown",
   "metadata": {},
   "source": [
    "## ToCupy\n",
    "\n",
    "This notebook is used to showcase the ``ToCupy`` in a variety of scenarios, and validate the changes introduced in the stacking operators and solvers to work with mixed CPU/GPU scenarios (e.g. model on GPU and data on CPU) "
   ]
  },
  {
   "cell_type": "code",
   "execution_count": 1,
   "metadata": {
    "ExecuteTime": {
     "end_time": "2024-09-09T05:16:32.925025600Z",
     "start_time": "2024-09-09T05:16:28.180479800Z"
    },
    "collapsed": false,
    "tags": []
   },
   "outputs": [],
   "source": [
    "%load_ext autoreload\n",
    "%autoreload 2\n",
    "%matplotlib inline\n",
    "\n",
    "import warnings\n",
    "warnings.filterwarnings('ignore')\n",
    "\n",
    "import numpy as np\n",
    "import cupy as cp\n",
    "import matplotlib.pyplot as plt\n",
    "import scipy as sp\n",
    "\n",
    "from scipy.linalg import block_diag\n",
    "from pylops.utils                      import dottest\n",
    "from pylops.utils.wavelets             import *\n",
    "from pylops.utils.seismicevents        import *\n",
    "from pylops.utils.tapers               import *\n",
    "from pylops.basicoperators             import *\n",
    "\n",
    "from pylops.optimization.basic import cg as pylops_cg\n",
    "from pylops.optimization.basic import cgls as pylops_cgls\n",
    "from pylops.optimization.basic import lsqr as pylops_lsqr\n",
    "\n",
    "dtype = np.float32"
   ]
  },
  {
   "cell_type": "markdown",
   "metadata": {},
   "source": [
    "## VStack"
   ]
  },
  {
   "cell_type": "code",
   "execution_count": 2,
   "metadata": {},
   "outputs": [
    {
     "name": "stdout",
     "output_type": "stream",
     "text": [
      "[1. 1. 1. 1. 1.]\n"
     ]
    }
   ],
   "source": [
    "nops = 5 # number of operators\n",
    "n, m = 4, 5\n",
    "\n",
    "# Create operator\n",
    "Ms = [np.random.normal(0, 1, (n, m)) for _ in range(nops)]\n",
    "M = np.vstack(Ms)\n",
    "Mop = MatrixMult(M, dtype=dtype)\n",
    "\n",
    "# Create data\n",
    "x = np.ones(m, dtype=dtype)\n",
    "y = Mop @ x\n",
    "\n",
    "# Invert\n",
    "xinv = Mop / y\n",
    "print(xinv)"
   ]
  },
  {
   "cell_type": "markdown",
   "metadata": {},
   "source": [
    "### VStack with numpy input and numpy output"
   ]
  },
  {
   "cell_type": "code",
   "execution_count": 3,
   "metadata": {},
   "outputs": [],
   "source": [
    "Mops = []\n",
    "for iop in range(nops):\n",
    "    Mop = MatrixMult(cp.asarray(Ms[iop]), dtype=dtype)\n",
    "    Top = ToCupy(Mop.dims, dtype=dtype)\n",
    "    Top1 = ToCupy(Mop.dimsd, dtype=dtype)\n",
    "    Mop = Top1.H @ Mop @ Top\n",
    "    Mops.append(Mop)\n",
    "Mops = VStack(Mops)"
   ]
  },
  {
   "cell_type": "code",
   "execution_count": 4,
   "metadata": {},
   "outputs": [
    {
     "name": "stdout",
     "output_type": "stream",
     "text": [
      "[1.        1.0000001 0.9999999 0.9999999 1.0000001] <class 'numpy.ndarray'> <class 'numpy.ndarray'>\n",
      "[1.         1.00000002 0.99999994 0.99999991 1.00000001] <class 'numpy.ndarray'> <class 'numpy.ndarray'>\n"
     ]
    }
   ],
   "source": [
    "y = Mops * x.ravel()\n",
    "\n",
    "xinv = pylops_cgls(Mops, y)[0]\n",
    "print(xinv, type(y), type(xinv))\n",
    "\n",
    "xinv = pylops_lsqr(Mops, y)[0]\n",
    "print(xinv, type(y), type(xinv))"
   ]
  },
  {
   "cell_type": "markdown",
   "metadata": {},
   "source": [
    "### VStack with cupy input and numpy output"
   ]
  },
  {
   "cell_type": "code",
   "execution_count": 5,
   "metadata": {},
   "outputs": [],
   "source": [
    "Mops = []\n",
    "for iop in range(nops):\n",
    "    Mop = MatrixMult(cp.asarray(Ms[iop]), dtype=dtype)\n",
    "    Top1 = ToCupy(Mop.dimsd, dtype=dtype)\n",
    "    Mop = Top1.H @ Mop\n",
    "    Mops.append(Mop)\n",
    "Mops = VStack(Mops, inoutengine=(\"numpy\", \"cupy\"))"
   ]
  },
  {
   "cell_type": "code",
   "execution_count": 6,
   "metadata": {},
   "outputs": [
    {
     "name": "stdout",
     "output_type": "stream",
     "text": [
      "[1.         0.99999994 0.99999994 0.99999994 1.        ] <class 'numpy.ndarray'> <class 'cupy.ndarray'>\n",
      "[1.         0.9999999  0.99999994 0.9999998  1.        ] <class 'numpy.ndarray'> <class 'cupy.ndarray'>\n"
     ]
    }
   ],
   "source": [
    "xcp = cp.asarray(x)\n",
    "y = Mops * xcp.ravel()\n",
    "\n",
    "xinv = pylops_cgls(Mops, y, x0=cp.zeros_like(xcp))[0]\n",
    "print(xinv, type(y), type(xinv))\n",
    "\n",
    "xinv = pylops_lsqr(Mops, y, x0=cp.zeros_like(xcp))[0]\n",
    "print(xinv, type(y), type(xinv))"
   ]
  },
  {
   "cell_type": "markdown",
   "metadata": {},
   "source": [
    "## Blockdiag"
   ]
  },
  {
   "cell_type": "code",
   "execution_count": 7,
   "metadata": {},
   "outputs": [
    {
     "name": "stdout",
     "output_type": "stream",
     "text": [
      "[1.00000003 1.00000003 1.00000003 1.00000003 1.00000018 1.00000018\n",
      " 1.00000018 1.00000018 0.99999999 0.99999999 0.99999999 0.99999999\n",
      " 1.00000001 1.00000001 1.00000001 1.00000001 0.99999999 0.99999999\n",
      " 0.99999999 0.99999999]\n"
     ]
    }
   ],
   "source": [
    "nops = 5 # number of operators\n",
    "n = 4\n",
    "\n",
    "# Create operator\n",
    "Ms = [np.diag((i + 1) * np.ones(n, dtype=dtype)) for i in range(nops)]\n",
    "Ms = [M.T @ M for M in Ms]\n",
    "M = block_diag(*Ms)\n",
    "Mop = BlockDiag([MatrixMult(M, dtype=dtype) for M in Ms])\n",
    "\n",
    "# Create data\n",
    "x = np.ones(nops * n, dtype=dtype)\n",
    "y = Mop @ x\n",
    "\n",
    "# Invert\n",
    "xinv = Mop / y\n",
    "print(xinv)"
   ]
  },
  {
   "cell_type": "markdown",
   "metadata": {},
   "source": [
    "### Blockdiag with numpy input and numpy output"
   ]
  },
  {
   "cell_type": "code",
   "execution_count": 8,
   "metadata": {},
   "outputs": [],
   "source": [
    "Mops = []\n",
    "for iop in range(nops):\n",
    "    Mop = MatrixMult(cp.asarray(Ms[iop], dtype=dtype))\n",
    "    Top = ToCupy(Mop.dims, dtype=dtype)\n",
    "    Top1 = ToCupy(Mop.dimsd, dtype=dtype)\n",
    "    Mop = Top1.H @ Mop @ Top\n",
    "    Mops.append(Mop)\n",
    "Mops = BlockDiag(Mops, forceflat=True)"
   ]
  },
  {
   "cell_type": "code",
   "execution_count": 9,
   "metadata": {},
   "outputs": [
    {
     "name": "stdout",
     "output_type": "stream",
     "text": [
      "[1. 1. 1. 1. 1. 1. 1. 1. 1. 1. 1. 1. 1. 1. 1. 1. 1. 1. 1. 1.] <class 'numpy.ndarray'> <class 'numpy.ndarray'>\n",
      "[1. 1. 1. 1. 1. 1. 1. 1. 1. 1. 1. 1. 1. 1. 1. 1. 1. 1. 1. 1.] <class 'numpy.ndarray'> <class 'numpy.ndarray'>\n"
     ]
    }
   ],
   "source": [
    "y = Mops * x.ravel()\n",
    "\n",
    "xinv = pylops_cgls(Mops, y)[0]\n",
    "print(xinv, type(y), type(xinv))\n",
    "\n",
    "xinv = pylops_lsqr(Mops, y)[0]\n",
    "print(xinv, type(y), type(xinv))"
   ]
  },
  {
   "cell_type": "markdown",
   "metadata": {},
   "source": [
    "### Blockdiag with cupy input and numpy output"
   ]
  },
  {
   "cell_type": "code",
   "execution_count": 10,
   "metadata": {},
   "outputs": [],
   "source": [
    "Mops = []\n",
    "for iop in range(nops):\n",
    "    Mop = MatrixMult(cp.asarray(Ms[iop]), dtype=dtype)\n",
    "    Top1 = ToCupy(Mop.dimsd, dtype=dtype)\n",
    "    Mop = Top1.H @ Mop\n",
    "    Mops.append(Mop)\n",
    "Mops = BlockDiag(Mops, forceflat=True, inoutengine=(\"numpy\", \"cupy\"))"
   ]
  },
  {
   "cell_type": "code",
   "execution_count": 11,
   "metadata": {},
   "outputs": [
    {
     "name": "stdout",
     "output_type": "stream",
     "text": [
      "[1.         1.         1.         1.         0.99999994 0.99999994\n",
      " 0.99999994 0.99999994 1.0000001  1.0000001  1.0000001  1.0000001\n",
      " 0.9999999  0.9999999  0.9999999  0.9999999  1.000001   1.000001\n",
      " 1.000001   1.000001  ] <class 'numpy.ndarray'> <class 'cupy.ndarray'>\n",
      "[0.99999994 0.99999994 0.99999994 0.99999994 1.0000011  1.0000011\n",
      " 1.0000011  1.0000011  0.99999654 0.99999654 0.99999654 0.99999654\n",
      " 1.         1.         1.         1.         1.0000001  1.0000001\n",
      " 1.0000001  1.0000001 ] <class 'numpy.ndarray'> <class 'cupy.ndarray'>\n",
      "[0.9999999  0.9999999  0.9999999  0.9999999  0.9999987  0.9999987\n",
      " 0.9999987  0.9999987  0.9999997  0.9999997  0.9999997  0.9999997\n",
      " 0.99999994 0.99999994 0.99999994 0.99999994 1.0000002  1.0000002\n",
      " 1.0000002  1.0000002 ] <class 'numpy.ndarray'> <class 'cupy.ndarray'>\n"
     ]
    }
   ],
   "source": [
    "xcp = cp.asarray(x)\n",
    "y = Mops * xcp.ravel()\n",
    "\n",
    "xinv = pylops_cg(Mops, y, x0=cp.zeros_like(xcp))[0]\n",
    "print(xinv, type(y), type(xinv))\n",
    "\n",
    "xinv = pylops_cgls(Mops, y, x0=cp.zeros_like(xcp))[0]\n",
    "print(xinv, type(y), type(xinv))\n",
    "\n",
    "xinv = pylops_lsqr(Mops, y, x0=cp.zeros_like(xcp))[0]\n",
    "print(xinv, type(y), type(xinv))"
   ]
  },
  {
   "cell_type": "markdown",
   "metadata": {},
   "source": [
    "## HStack"
   ]
  },
  {
   "cell_type": "code",
   "execution_count": 12,
   "metadata": {},
   "outputs": [
    {
     "name": "stdout",
     "output_type": "stream",
     "text": [
      "[-0.32982478  0.04155607 -0.10366513 -0.45825968 -0.33280285  0.6957457\n",
      "  0.35038274  0.33068262  0.27927103  0.3954964  -0.07574363  0.88515874\n",
      "  0.22037246  0.06106394  0.16029213 -0.07926578  0.48143328 -0.27046805\n",
      " -0.08611529  0.4688985  -0.2990618   0.0136094   0.64654577  0.07277334\n",
      "  0.41753116]\n"
     ]
    }
   ],
   "source": [
    "nops = 5 # number of operators\n",
    "n, m = 4, 5\n",
    "\n",
    "# Create operator\n",
    "Ms = [np.random.normal(0, 1, (n, m)) for _ in range(nops)]\n",
    "M = np.hstack(Ms)\n",
    "Mop = MatrixMult(M, dtype=dtype)\n",
    "\n",
    "# Create data\n",
    "x = np.ones(m * nops, dtype=dtype)\n",
    "y = Mop @ x\n",
    "\n",
    "# Invert\n",
    "xinv = pylops_lsqr(Mop, y, niter=10)[0]\n",
    "print(xinv)"
   ]
  },
  {
   "cell_type": "markdown",
   "metadata": {},
   "source": [
    "### HStack with numpy input and numpy output"
   ]
  },
  {
   "cell_type": "code",
   "execution_count": 13,
   "metadata": {},
   "outputs": [],
   "source": [
    "Mops = []\n",
    "for iop in range(nops):\n",
    "    Mop = MatrixMult(cp.asarray(Ms[iop]), dtype=dtype)\n",
    "    Top = ToCupy(Mop.dims, dtype=dtype)\n",
    "    Top1 = ToCupy(Mop.dimsd, dtype=dtype)\n",
    "    Mop = Top1.H @ Mop @ Top\n",
    "    Mops.append(Mop)\n",
    "Mops = HStack(Mops)"
   ]
  },
  {
   "cell_type": "code",
   "execution_count": 14,
   "metadata": {},
   "outputs": [
    {
     "name": "stdout",
     "output_type": "stream",
     "text": [
      "[-0.3298248   0.04155609 -0.10366513 -0.45825967 -0.33280286  0.6957457\n",
      "  0.35038278  0.33068264  0.27927104  0.3954964  -0.07574362  0.8851588\n",
      "  0.22037247  0.06106395  0.16029215 -0.0792658   0.4814333  -0.2704681\n",
      " -0.0861153   0.4688985  -0.29906183  0.0136094   0.64654577  0.07277334\n",
      "  0.41753116] <class 'numpy.ndarray'> <class 'numpy.ndarray'>\n",
      "[-0.32982478  0.04155609 -0.10366513 -0.4582597  -0.33280286  0.69574577\n",
      "  0.35038279  0.33068263  0.27927107  0.39549641 -0.07574363  0.88515879\n",
      "  0.22037248  0.06106395  0.16029215 -0.07926579  0.48143332 -0.27046808\n",
      " -0.0861153   0.46889852 -0.29906185  0.0136094   0.64654579  0.07277333\n",
      "  0.41753117] <class 'numpy.ndarray'> <class 'numpy.ndarray'>\n"
     ]
    }
   ],
   "source": [
    "y = Mops * x.ravel()\n",
    "\n",
    "xinv = pylops_cgls(Mops, y)[0]\n",
    "print(xinv, type(y), type(xinv))\n",
    "\n",
    "xinv = pylops_lsqr(Mops, y)[0]\n",
    "print(xinv, type(y), type(xinv))"
   ]
  },
  {
   "cell_type": "markdown",
   "metadata": {},
   "source": [
    "### HStack with cupy input and numpy output"
   ]
  },
  {
   "cell_type": "code",
   "execution_count": 15,
   "metadata": {},
   "outputs": [],
   "source": [
    "Mops = []\n",
    "for iop in range(nops):\n",
    "    Mop = MatrixMult(cp.asarray(Ms[iop]), dtype=dtype)\n",
    "    Top1 = ToCupy(Mop.dimsd, dtype=dtype)\n",
    "    Mop = Top1.H @ Mop\n",
    "    Mops.append(Mop)\n",
    "Mops = HStack(Mops, inoutengine=(\"numpy\", \"cupy\"))"
   ]
  },
  {
   "cell_type": "code",
   "execution_count": 16,
   "metadata": {},
   "outputs": [
    {
     "name": "stdout",
     "output_type": "stream",
     "text": [
      "[-0.3298248   0.04155609 -0.10366514 -0.4582597  -0.33280286  0.6957457\n",
      "  0.35038278  0.33068264  0.27927104  0.3954964  -0.07574363  0.88515884\n",
      "  0.22037247  0.06106395  0.16029215 -0.0792658   0.4814333  -0.2704681\n",
      " -0.08611531  0.46889853 -0.29906183  0.01360939  0.64654577  0.07277334\n",
      "  0.41753116] <class 'numpy.ndarray'> <class 'cupy.ndarray'>\n",
      "[-0.32982475  0.04155608 -0.10366513 -0.4582597  -0.3328029   0.69574577\n",
      "  0.35038275  0.33068264  0.27927107  0.3954964  -0.07574362  0.88515884\n",
      "  0.22037248  0.06106395  0.16029213 -0.07926579  0.4814333  -0.2704681\n",
      " -0.0861153   0.4688985  -0.29906183  0.01360941  0.64654577  0.07277334\n",
      "  0.4175312 ] <class 'numpy.ndarray'> <class 'cupy.ndarray'>\n"
     ]
    }
   ],
   "source": [
    "xcp = cp.asarray(x)\n",
    "y = Mops * xcp.ravel()\n",
    "\n",
    "xinv = pylops_cgls(Mops, y, x0=cp.zeros_like(xcp))[0]\n",
    "print(xinv, type(y), type(xinv))\n",
    "\n",
    "xinv = pylops_lsqr(Mops, y, x0=cp.zeros_like(xcp))[0]\n",
    "print(xinv, type(y), type(xinv))"
   ]
  },
  {
   "cell_type": "code",
   "execution_count": null,
   "metadata": {},
   "outputs": [],
   "source": []
  },
  {
   "cell_type": "code",
   "execution_count": 12,
   "metadata": {},
   "outputs": [
    {
     "data": {
      "text/plain": [
       "array([1.       , 1.       , 1.       , 1.       , 1.0000001],\n",
       "      dtype=float32)"
      ]
     },
     "execution_count": 12,
     "metadata": {},
     "output_type": "execute_result"
    }
   ],
   "source": [
    "nops, n, m = 3, 4, 5\n",
    "Ms = [np.random.normal(0, 1, (n, m)) for _ in range(nops)]\n",
    "\n",
    "# Create operator\n",
    "Mops = []\n",
    "for iop in range(nops):\n",
    "    Mop = MatrixMult(cp.asarray(Ms[iop]), dtype=dtype)\n",
    "    Top1 = ToCupy(Mop.dimsd, dtype=dtype)\n",
    "    Mop = Top1.H @ Mop\n",
    "    Mops.append(Mop)\n",
    "Mops = VStack(Mops, inoutengine=(\"numpy\", \"cupy\"))\n",
    "\n",
    "# Create data and invert\n",
    "x = cp.ones(m, dtype=dtype)\n",
    "y = Mops @ x.ravel()\n",
    "xest = pylops_cgls(Mops, y, x0=cp.zeros_like(x))[0]\n",
    "xest"
   ]
  }
 ],
 "metadata": {
  "kernelspec": {
   "display_name": "Python 3",
   "language": "python",
   "name": "python3"
  },
  "language_info": {
   "codemirror_mode": {
    "name": "ipython",
    "version": 3
   },
   "file_extension": ".py",
   "mimetype": "text/x-python",
   "name": "python",
   "nbconvert_exporter": "python",
   "pygments_lexer": "ipython3",
   "version": "3.9.20"
  },
  "toc": {
   "base_numbering": 1,
   "nav_menu": {},
   "number_sections": true,
   "sideBar": true,
   "skip_h1_title": false,
   "title_cell": "Table of Contents",
   "title_sidebar": "Contents",
   "toc_cell": false,
   "toc_position": {
    "height": "737px",
    "left": "108px",
    "top": "110px",
    "width": "165px"
   },
   "toc_section_display": true,
   "toc_window_display": true
  }
 },
 "nbformat": 4,
 "nbformat_minor": 4
}
