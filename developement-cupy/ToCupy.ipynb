{
 "cells": [
  {
   "cell_type": "markdown",
   "metadata": {},
   "source": [
    "## ToCupy\n",
    "\n",
    "This notebook is used to showcase the ``ToCupy`` in a variety of scenarios, and validate the changes introduced in the stacking operators and solvers to work with mixed CPU/GPU scenarios (e.g. model on GPU and data on CPU) "
   ]
  },
  {
   "cell_type": "code",
   "execution_count": 1,
   "metadata": {
    "ExecuteTime": {
     "end_time": "2024-09-09T05:16:32.925025600Z",
     "start_time": "2024-09-09T05:16:28.180479800Z"
    },
    "collapsed": false,
    "tags": []
   },
   "outputs": [],
   "source": [
    "%load_ext autoreload\n",
    "%autoreload 2\n",
    "%matplotlib inline\n",
    "\n",
    "import warnings\n",
    "warnings.filterwarnings('ignore')\n",
    "\n",
    "import numpy as np\n",
    "import cupy as cp\n",
    "import matplotlib.pyplot as plt\n",
    "import scipy as sp\n",
    "\n",
    "from scipy.linalg import block_diag\n",
    "from pylops.utils                      import dottest\n",
    "from pylops.utils.wavelets             import *\n",
    "from pylops.utils.seismicevents        import *\n",
    "from pylops.utils.tapers               import *\n",
    "from pylops.basicoperators             import *\n",
    "\n",
    "from pylops.optimization.basic import cg as pylops_cg\n",
    "from pylops.optimization.basic import cgls as pylops_cgls\n",
    "from pylops.optimization.basic import lsqr as pylops_lsqr\n",
    "\n",
    "dtype = np.float32"
   ]
  },
  {
   "cell_type": "markdown",
   "metadata": {},
   "source": [
    "## VStack"
   ]
  },
  {
   "cell_type": "code",
   "execution_count": 2,
   "metadata": {},
   "outputs": [
    {
     "name": "stdout",
     "output_type": "stream",
     "text": [
      "[1. 1. 1. 1. 1.]\n"
     ]
    }
   ],
   "source": [
    "nops = 5 # number of operators\n",
    "n, m = 4, 5\n",
    "\n",
    "# Create operator\n",
    "Ms = [np.random.normal(0, 1, (n, m)) for _ in range(nops)]\n",
    "M = np.vstack(Ms)\n",
    "Mop = MatrixMult(M, dtype=dtype)\n",
    "\n",
    "# Create data\n",
    "x = np.ones(m, dtype=dtype)\n",
    "y = Mop @ x\n",
    "\n",
    "# Invert\n",
    "xinv = Mop / y\n",
    "print(xinv)"
   ]
  },
  {
   "cell_type": "markdown",
   "metadata": {},
   "source": [
    "### VStack with numpy input and numpy output"
   ]
  },
  {
   "cell_type": "code",
   "execution_count": 3,
   "metadata": {},
   "outputs": [],
   "source": [
    "Mops = []\n",
    "for iop in range(nops):\n",
    "    Mop = MatrixMult(cp.asarray(Ms[iop]), dtype=dtype)\n",
    "    Top = ToCupy(Mop.dims, dtype=dtype)\n",
    "    Top1 = ToCupy(Mop.dimsd, dtype=dtype)\n",
    "    Mop = Top1.H @ Mop @ Top\n",
    "    Mops.append(Mop)\n",
    "Mops = VStack(Mops)"
   ]
  },
  {
   "cell_type": "code",
   "execution_count": 4,
   "metadata": {},
   "outputs": [
    {
     "name": "stdout",
     "output_type": "stream",
     "text": [
      "[0.9999999 1.        1.        1.        1.       ] <class 'numpy.ndarray'> <class 'numpy.ndarray'>\n",
      "[1.00000002 1.         0.99999991 1.         1.        ] <class 'numpy.ndarray'> <class 'numpy.ndarray'>\n"
     ]
    }
   ],
   "source": [
    "y = Mops * x.ravel()\n",
    "\n",
    "xinv = pylops_cgls(Mops, y)[0]\n",
    "print(xinv, type(y), type(xinv))\n",
    "\n",
    "xinv = pylops_lsqr(Mops, y)[0]\n",
    "print(xinv, type(y), type(xinv))"
   ]
  },
  {
   "cell_type": "markdown",
   "metadata": {},
   "source": [
    "### VStack with cupy input and numpy output"
   ]
  },
  {
   "cell_type": "code",
   "execution_count": 5,
   "metadata": {},
   "outputs": [],
   "source": [
    "Mops = []\n",
    "for iop in range(nops):\n",
    "    Mop = MatrixMult(cp.asarray(Ms[iop]), dtype=dtype)\n",
    "    Top1 = ToCupy(Mop.dimsd, dtype=dtype)\n",
    "    Mop = Top1.H @ Mop\n",
    "    Mops.append(Mop)\n",
    "Mops = VStack(Mops, inoutengine=(\"numpy\", \"cupy\"))"
   ]
  },
  {
   "cell_type": "code",
   "execution_count": 6,
   "metadata": {},
   "outputs": [
    {
     "name": "stdout",
     "output_type": "stream",
     "text": [
      "[0.9999999 1.        1.        1.        1.       ] <class 'numpy.ndarray'> <class 'cupy.ndarray'>\n",
      "[1.        1.        0.9999999 1.        1.       ] <class 'numpy.ndarray'> <class 'cupy.ndarray'>\n"
     ]
    }
   ],
   "source": [
    "xcp = cp.asarray(x)\n",
    "y = Mops * xcp.ravel()\n",
    "\n",
    "xinv = pylops_cgls(Mops, y, x0=cp.zeros_like(xcp))[0]\n",
    "print(xinv, type(y), type(xinv))\n",
    "\n",
    "xinv = pylops_lsqr(Mops, y, x0=cp.zeros_like(xcp))[0]\n",
    "print(xinv, type(y), type(xinv))"
   ]
  },
  {
   "cell_type": "markdown",
   "metadata": {},
   "source": [
    "## Blockdiag"
   ]
  },
  {
   "cell_type": "code",
   "execution_count": 7,
   "metadata": {},
   "outputs": [
    {
     "name": "stdout",
     "output_type": "stream",
     "text": [
      "[1.00000003 1.00000003 1.00000003 1.00000003 1.00000018 1.00000018\n",
      " 1.00000018 1.00000018 0.99999999 0.99999999 0.99999999 0.99999999\n",
      " 1.00000001 1.00000001 1.00000001 1.00000001 0.99999999 0.99999999\n",
      " 0.99999999 0.99999999]\n"
     ]
    }
   ],
   "source": [
    "nops = 5 # number of operators\n",
    "n = 4\n",
    "\n",
    "# Create operator\n",
    "Ms = [np.diag((i + 1) * np.ones(n, dtype=dtype)) for i in range(nops)]\n",
    "Ms = [M.T @ M for M in Ms]\n",
    "M = block_diag(*Ms)\n",
    "Mop = BlockDiag([MatrixMult(M, dtype=dtype) for M in Ms])\n",
    "\n",
    "# Create data\n",
    "x = np.ones(nops * n, dtype=dtype)\n",
    "y = Mop @ x\n",
    "\n",
    "# Invert\n",
    "xinv = Mop / y\n",
    "print(xinv)"
   ]
  },
  {
   "cell_type": "markdown",
   "metadata": {},
   "source": [
    "### Blockdiag with numpy input and numpy output"
   ]
  },
  {
   "cell_type": "code",
   "execution_count": 8,
   "metadata": {},
   "outputs": [],
   "source": [
    "Mops = []\n",
    "for iop in range(nops):\n",
    "    Mop = MatrixMult(cp.asarray(Ms[iop], dtype=dtype))\n",
    "    Top = ToCupy(Mop.dims, dtype=dtype)\n",
    "    Top1 = ToCupy(Mop.dimsd, dtype=dtype)\n",
    "    Mop = Top1.H @ Mop @ Top\n",
    "    Mops.append(Mop)\n",
    "Mops = BlockDiag(Mops, forceflat=True)"
   ]
  },
  {
   "cell_type": "code",
   "execution_count": 9,
   "metadata": {},
   "outputs": [
    {
     "name": "stdout",
     "output_type": "stream",
     "text": [
      "[1. 1. 1. 1. 1. 1. 1. 1. 1. 1. 1. 1. 1. 1. 1. 1. 1. 1. 1. 1.] <class 'numpy.ndarray'> <class 'numpy.ndarray'>\n",
      "[1. 1. 1. 1. 1. 1. 1. 1. 1. 1. 1. 1. 1. 1. 1. 1. 1. 1. 1. 1.] <class 'numpy.ndarray'> <class 'numpy.ndarray'>\n"
     ]
    }
   ],
   "source": [
    "y = Mops * x.ravel()\n",
    "\n",
    "xinv = pylops_cgls(Mops, y)[0]\n",
    "print(xinv, type(y), type(xinv))\n",
    "\n",
    "xinv = pylops_lsqr(Mops, y)[0]\n",
    "print(xinv, type(y), type(xinv))"
   ]
  },
  {
   "cell_type": "markdown",
   "metadata": {},
   "source": [
    "### Blockdiag with cupy input and numpy output"
   ]
  },
  {
   "cell_type": "code",
   "execution_count": 10,
   "metadata": {},
   "outputs": [],
   "source": [
    "Mops = []\n",
    "for iop in range(nops):\n",
    "    Mop = MatrixMult(cp.asarray(Ms[iop]), dtype=dtype)\n",
    "    Top1 = ToCupy(Mop.dimsd, dtype=dtype)\n",
    "    Mop = Top1.H @ Mop\n",
    "    Mops.append(Mop)\n",
    "Mops = BlockDiag(Mops, forceflat=True, inoutengine=(\"numpy\", \"cupy\"))"
   ]
  },
  {
   "cell_type": "code",
   "execution_count": 11,
   "metadata": {},
   "outputs": [
    {
     "name": "stdout",
     "output_type": "stream",
     "text": [
      "[1.         1.         1.         1.         0.99999994 0.99999994\n",
      " 0.99999994 0.99999994 1.0000001  1.0000001  1.0000001  1.0000001\n",
      " 0.9999999  0.9999999  0.9999999  0.9999999  1.000001   1.000001\n",
      " 1.000001   1.000001  ] <class 'numpy.ndarray'> <class 'cupy.ndarray'>\n",
      "[0.99999994 0.99999994 0.99999994 0.99999994 1.0000011  1.0000011\n",
      " 1.0000011  1.0000011  0.99999654 0.99999654 0.99999654 0.99999654\n",
      " 1.         1.         1.         1.         1.0000001  1.0000001\n",
      " 1.0000001  1.0000001 ] <class 'numpy.ndarray'> <class 'cupy.ndarray'>\n",
      "[0.9999999  0.9999999  0.9999999  0.9999999  0.9999987  0.9999987\n",
      " 0.9999987  0.9999987  0.9999997  0.9999997  0.9999997  0.9999997\n",
      " 0.99999994 0.99999994 0.99999994 0.99999994 1.0000002  1.0000002\n",
      " 1.0000002  1.0000002 ] <class 'numpy.ndarray'> <class 'cupy.ndarray'>\n"
     ]
    }
   ],
   "source": [
    "xcp = cp.asarray(x)\n",
    "y = Mops * xcp.ravel()\n",
    "\n",
    "xinv = pylops_cg(Mops, y, x0=cp.zeros_like(xcp))[0]\n",
    "print(xinv, type(y), type(xinv))\n",
    "\n",
    "xinv = pylops_cgls(Mops, y, x0=cp.zeros_like(xcp))[0]\n",
    "print(xinv, type(y), type(xinv))\n",
    "\n",
    "xinv = pylops_lsqr(Mops, y, x0=cp.zeros_like(xcp))[0]\n",
    "print(xinv, type(y), type(xinv))"
   ]
  },
  {
   "cell_type": "markdown",
   "metadata": {},
   "source": [
    "## HStack"
   ]
  },
  {
   "cell_type": "code",
   "execution_count": 12,
   "metadata": {},
   "outputs": [
    {
     "name": "stdout",
     "output_type": "stream",
     "text": [
      "[-0.02132629  0.36718273 -0.51855939 -0.08249748  0.58630573  0.28503575\n",
      "  1.33158497  0.62250834  0.77536288  0.4021877  -0.02563346  0.47188322\n",
      "  0.51167144  0.20568016  0.3829824  -0.67730089  0.26081406 -0.55516757\n",
      "  0.94834444  0.65043393  0.39014753 -0.09388923  0.54119229  0.21238028\n",
      "  0.13775378]\n"
     ]
    }
   ],
   "source": [
    "nops = 5 # number of operators\n",
    "n, m = 4, 5\n",
    "\n",
    "# Create operator\n",
    "Ms = [np.random.normal(0, 1, (n, m)) for _ in range(nops)]\n",
    "M = np.hstack(Ms)\n",
    "Mop = MatrixMult(M, dtype=dtype)\n",
    "\n",
    "# Create data\n",
    "x = np.ones(m * nops, dtype=dtype)\n",
    "y = Mop @ x\n",
    "\n",
    "# Invert\n",
    "xinv = pylops_lsqr(Mop, y, niter=10)[0]\n",
    "print(xinv)"
   ]
  },
  {
   "cell_type": "markdown",
   "metadata": {},
   "source": [
    "### HStack with numpy input and numpy output"
   ]
  },
  {
   "cell_type": "code",
   "execution_count": 13,
   "metadata": {},
   "outputs": [],
   "source": [
    "Mops = []\n",
    "for iop in range(nops):\n",
    "    Mop = MatrixMult(cp.asarray(Ms[iop]), dtype=dtype)\n",
    "    Top = ToCupy(Mop.dims, dtype=dtype)\n",
    "    Top1 = ToCupy(Mop.dimsd, dtype=dtype)\n",
    "    Mop = Top1.H @ Mop @ Top\n",
    "    Mops.append(Mop)\n",
    "Mops = HStack(Mops)"
   ]
  },
  {
   "cell_type": "code",
   "execution_count": 14,
   "metadata": {},
   "outputs": [
    {
     "name": "stdout",
     "output_type": "stream",
     "text": [
      "[-0.0213263   0.36718273 -0.5185594  -0.08249746  0.5863057   0.2850358\n",
      "  1.3315849   0.6225083   0.7753629   0.4021877  -0.02563347  0.47188324\n",
      "  0.51167136  0.20568009  0.38298237 -0.67730093  0.26081407 -0.5551676\n",
      "  0.94834435  0.65043384  0.39014757 -0.09388922  0.5411923   0.21238033\n",
      "  0.13775381] <class 'numpy.ndarray'> <class 'numpy.ndarray'>\n",
      "[-0.02132629  0.36718273 -0.51855946 -0.08249752  0.58630573  0.28503569\n",
      "  1.33158502  0.62250833  0.77536282  0.40218773 -0.02563342  0.47188321\n",
      "  0.51167142  0.20568022  0.38298239 -0.6773009   0.26081407 -0.55516752\n",
      "  0.94834444  0.6504339   0.39014756 -0.09388922  0.54119229  0.21238024\n",
      "  0.13775377] <class 'numpy.ndarray'> <class 'numpy.ndarray'>\n"
     ]
    }
   ],
   "source": [
    "y = Mops * x.ravel()\n",
    "\n",
    "xinv = pylops_cgls(Mops, y)[0]\n",
    "print(xinv, type(y), type(xinv))\n",
    "\n",
    "xinv = pylops_lsqr(Mops, y)[0]\n",
    "print(xinv, type(y), type(xinv))"
   ]
  },
  {
   "cell_type": "markdown",
   "metadata": {},
   "source": [
    "### HStack with cupy input and numpy output"
   ]
  },
  {
   "cell_type": "code",
   "execution_count": 15,
   "metadata": {},
   "outputs": [],
   "source": [
    "Mops = []\n",
    "for iop in range(nops):\n",
    "    Mop = MatrixMult(cp.asarray(Ms[iop]), dtype=dtype)\n",
    "    Top1 = ToCupy(Mop.dimsd, dtype=dtype)\n",
    "    Mop = Top1.H @ Mop\n",
    "    Mops.append(Mop)\n",
    "Mops = HStack(Mops, inoutengine=(\"numpy\", \"cupy\"))"
   ]
  },
  {
   "cell_type": "code",
   "execution_count": 16,
   "metadata": {},
   "outputs": [
    {
     "name": "stdout",
     "output_type": "stream",
     "text": [
      "[-0.0213263   0.36718273 -0.5185594  -0.08249746  0.5863057   0.2850358\n",
      "  1.3315849   0.6225083   0.7753629   0.4021877  -0.02563347  0.47188324\n",
      "  0.51167136  0.20568009  0.38298237 -0.67730093  0.26081407 -0.5551676\n",
      "  0.94834435  0.65043384  0.39014757 -0.09388922  0.5411923   0.21238033\n",
      "  0.13775381] <class 'numpy.ndarray'> <class 'cupy.ndarray'>\n",
      "[-0.02132629  0.36718273 -0.5185595  -0.08249751  0.5863057   0.28503567\n",
      "  1.331585    0.6225083   0.7753628   0.40218773 -0.02563342  0.47188318\n",
      "  0.51167136  0.20568025  0.38298243 -0.6773009   0.26081407 -0.5551675\n",
      "  0.9483444   0.65043396  0.39014754 -0.09388923  0.5411923   0.21238023\n",
      "  0.13775375] <class 'numpy.ndarray'> <class 'cupy.ndarray'>\n"
     ]
    }
   ],
   "source": [
    "xcp = cp.asarray(x)\n",
    "y = Mops * xcp.ravel()\n",
    "\n",
    "xinv = pylops_cgls(Mops, y, x0=cp.zeros_like(xcp))[0]\n",
    "print(xinv, type(y), type(xinv))\n",
    "\n",
    "xinv = pylops_lsqr(Mops, y, x0=cp.zeros_like(xcp))[0]\n",
    "print(xinv, type(y), type(xinv))"
   ]
  }
 ],
 "metadata": {
  "kernelspec": {
   "display_name": "Python 3",
   "language": "python",
   "name": "python3"
  },
  "language_info": {
   "codemirror_mode": {
    "name": "ipython",
    "version": 3
   },
   "file_extension": ".py",
   "mimetype": "text/x-python",
   "name": "python",
   "nbconvert_exporter": "python",
   "pygments_lexer": "ipython3",
   "version": "3.9.20"
  },
  "toc": {
   "base_numbering": 1,
   "nav_menu": {},
   "number_sections": true,
   "sideBar": true,
   "skip_h1_title": false,
   "title_cell": "Table of Contents",
   "title_sidebar": "Contents",
   "toc_cell": false,
   "toc_position": {
    "height": "737px",
    "left": "108px",
    "top": "110px",
    "width": "165px"
   },
   "toc_section_display": true,
   "toc_window_display": true
  }
 },
 "nbformat": 4,
 "nbformat_minor": 4
}
