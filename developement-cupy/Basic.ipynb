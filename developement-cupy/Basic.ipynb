{
 "cells": [
  {
   "cell_type": "markdown",
   "metadata": {
    "id": "Zw9q0J3wPec9"
   },
   "source": [
    "# Pylops - basic linear operators on GPU with cupy"
   ]
  },
  {
   "cell_type": "markdown",
   "metadata": {
    "id": "vB2RGSN2cCs3"
   },
   "source": [
    "In this notebook I will show how to use some of the basic linear operators implemented in *Pylops* and test both their numpy and cupy backends."
   ]
  },
  {
   "cell_type": "raw",
   "metadata": {
    "colab": {
     "base_uri": "https://localhost:8080/"
    },
    "executionInfo": {
     "elapsed": 3764,
     "status": "ok",
     "timestamp": 1604254527730,
     "user": {
      "displayName": "Matteo Ravasi",
      "photoUrl": "",
      "userId": "06412456769040614383"
     },
     "user_tz": -60
    },
    "id": "BRQ0wMDU7jiS",
    "outputId": "d65296eb-4ef6-4733-9d6d-b1e10724efc3"
   },
   "source": [
    "!nvidia-smi"
   ]
  },
  {
   "cell_type": "code",
   "execution_count": 463,
   "metadata": {
    "executionInfo": {
     "elapsed": 47940,
     "status": "ok",
     "timestamp": 1604254572046,
     "user": {
      "displayName": "Matteo Ravasi",
      "photoUrl": "",
      "userId": "06412456769040614383"
     },
     "user_tz": -60
    },
    "id": "WJ3vTlJ7gHnQ"
   },
   "outputs": [
    {
     "name": "stdout",
     "output_type": "stream",
     "text": [
      "The autoreload extension is already loaded. To reload it, use:\n",
      "  %reload_ext autoreload\n"
     ]
    }
   ],
   "source": [
    "%load_ext autoreload\n",
    "%autoreload 2\n",
    "%matplotlib inline\n",
    "\n",
    "import os\n",
    "import numpy as np\n",
    "import cupy as cp\n",
    "import scipy as sp\n",
    "import matplotlib.pyplot as plt\n",
    "\n",
    "from scipy.sparse.linalg import lsqr as sp_lsqr\n",
    "from scipy.sparse import rand\n",
    "\n",
    "from pylops.utils import dottest\n",
    "from pylops import LinearOperator\n",
    "from pylops.basicoperators import *\n",
    "from pylops.optimization.basic import cgls, lsqr\n",
    "from pylops.optimization.leastsquares import *"
   ]
  },
  {
   "cell_type": "code",
   "execution_count": 464,
   "metadata": {
    "colab": {
     "base_uri": "https://localhost:8080/",
     "height": 34
    },
    "executionInfo": {
     "elapsed": 47894,
     "status": "ok",
     "timestamp": 1604254572051,
     "user": {
      "displayName": "Matteo Ravasi",
      "photoUrl": "",
      "userId": "06412456769040614383"
     },
     "user_tz": -60
    },
    "id": "NfTWAwO-7dqU",
    "outputId": "73d7a286-2458-46b0-a17c-125712b61df8"
   },
   "outputs": [
    {
     "data": {
      "text/plain": [
       "'9.6.0'"
      ]
     },
     "execution_count": 464,
     "metadata": {},
     "output_type": "execute_result"
    }
   ],
   "source": [
    "cp.__version__"
   ]
  },
  {
   "cell_type": "markdown",
   "metadata": {
    "id": "ibe5oiJjQbYx"
   },
   "source": [
    "# Matrix Multiplication\n",
    "\n",
    "Create operator simply overloading a numpy/cupy matrix $\\mathbf{A}$\n",
    "\n",
    "$$\\mathbf{y}=  \\mathbf{A} \\mathbf{x}$$"
   ]
  },
  {
   "cell_type": "code",
   "execution_count": 465,
   "metadata": {
    "colab": {
     "base_uri": "https://localhost:8080/"
    },
    "executionInfo": {
     "elapsed": 47823,
     "status": "ok",
     "timestamp": 1604254572052,
     "user": {
      "displayName": "Matteo Ravasi",
      "photoUrl": "",
      "userId": "06412456769040614383"
     },
     "user_tz": -60
    },
    "id": "gKbujW4gROnv",
    "outputId": "dcf29c8b-6992-41c2-bdcd-b42a0b55baf4"
   },
   "outputs": [
    {
     "name": "stdout",
     "output_type": "stream",
     "text": [
      "eigs= [ 3.50086419+0.j         -0.44197067+1.21234091j -0.44197067-1.21234091j\n",
      " -0.86788349+0.j        ]\n",
      "Ginv= [[-0.56061294 -0.15416586 -0.23637888 -0.52410232]\n",
      " [-0.67857617 -0.36017177 -0.09470168  0.14544656]\n",
      " [-0.26149957 -0.91848567 -0.22282794  0.14827041]\n",
      " [ 0.38245436  0.05066377 -0.63682622 -0.25383307]]\n",
      "y= [-0.98971203 -0.21534327 -2.27802558  0.24140531]\n",
      "CGLS\n",
      "-----------------------------------------------------------------\n",
      "The Operator Op has 4 rows and 4 cols\n",
      "damp = 0.000000e+00\ttol = 1.000000e-10\tniter = 100\n",
      "-----------------------------------------------------------------\n",
      "\n",
      "    Itn          x[0]              r1norm         r2norm\n",
      "     1       -9.1746e-02         1.7444e+00     1.7444e+00\n",
      "     2        7.8428e-01         6.1483e-01     6.1483e-01\n",
      "     3        9.8275e-01         3.2981e-02     3.2981e-02\n",
      "     4        1.0000e+00         3.3376e-14     3.3376e-14\n",
      "\n",
      "Iterations = 4        Total time (s) = 0.01\n",
      "-----------------------------------------------------------------\n",
      "\n",
      "x= [1. 1. 1. 1.]\n",
      "direct inversion xest= [1. 1. 1. 1.]\n",
      "lsqr solution xest= [1. 1. 1. 1.]\n",
      "cgls solution xest= [1. 1. 1. 1.]\n"
     ]
    }
   ],
   "source": [
    "ny, nx = 4, 4\n",
    "G = np.random.normal(0,1,(ny,nx))\n",
    "x = np.ones(nx)\n",
    "\n",
    "Gop = MatrixMult(G, dtype='float64')\n",
    "dottest(Gop, ny, nx)\n",
    "\n",
    "print('eigs=',Gop.eigs())\n",
    "print('Ginv=',Gop.inv())\n",
    "\n",
    "y=Gop*x\n",
    "print('y=',y)\n",
    "\n",
    "xest = Gop / y\n",
    "xlsqr, istop, itn, r1norm, r2norm = sp_lsqr(Gop, y, damp=1e-10, iter_lim=100, show=0)[0:5]\n",
    "xcgls = cgls(Gop, y, x0=np.zeros(nx), niter=100, tol=1e-10, show=True)[0]\n",
    "\n",
    "print('x=',x)\n",
    "print('direct inversion xest=', xest)\n",
    "print('lsqr solution xest=', xlsqr)\n",
    "print('cgls solution xest=', xcgls)"
   ]
  },
  {
   "cell_type": "code",
   "execution_count": 466,
   "metadata": {
    "colab": {
     "base_uri": "https://localhost:8080/"
    },
    "executionInfo": {
     "elapsed": 56203,
     "status": "ok",
     "timestamp": 1604254580480,
     "user": {
      "displayName": "Matteo Ravasi",
      "photoUrl": "",
      "userId": "06412456769040614383"
     },
     "user_tz": -60
    },
    "id": "_GZ8pNmKRQkw",
    "outputId": "03af5f4f-66c8-46a1-d8b7-032668866e28"
   },
   "outputs": [
    {
     "name": "stdout",
     "output_type": "stream",
     "text": [
      "y= [0.13132428 4.54688818 3.72005976 1.24415683]\n",
      "CGLS\n",
      "-----------------------------------------------------------------\n",
      "The Operator Op has 4 rows and 4 cols\n",
      "damp = 0.000000e+00\ttol = 1.000000e-10\tniter = 100\n",
      "-----------------------------------------------------------------\n",
      "\n",
      "    Itn          x[0]              r1norm         r2norm\n",
      "     1        9.2065e-01         8.5102e-01     8.5102e-01\n",
      "     2        1.1554e+00         8.0942e-02     8.0942e-02\n",
      "     3        1.0746e+00         8.4386e-03     8.4386e-03\n",
      "     4        1.0000e+00         2.6251e-09     2.6251e-09\n",
      "\n",
      "Iterations = 4        Total time (s) = 0.01\n",
      "-----------------------------------------------------------------\n",
      "\n",
      "x= [1. 1. 1. 1.]\n",
      "direct inversion xest= [1. 1. 1. 1.]\n",
      "cgls solution xest= [1. 1. 1. 1.]\n"
     ]
    }
   ],
   "source": [
    "ny, nx = 4, 4\n",
    "G = cp.random.normal(0,1,(ny, nx))\n",
    "x = cp.ones(nx)\n",
    "\n",
    "Gop = MatrixMult(G, dtype='float64')\n",
    "dottest(Gop, ny, nx, backend='cupy')\n",
    "\n",
    "#print('eigs=',Gop.eigs())\n",
    "#print('Ginv=',Gop.inv())\n",
    "\n",
    "y=Gop*x\n",
    "print('y=',y)\n",
    "\n",
    "xest = Gop / y\n",
    "xcgls = cgls(Gop, y, x0=cp.zeros(nx), niter=100, tol=1e-10, show=True)[0]\n",
    "\n",
    "print('x=',x)\n",
    "print('direct inversion xest=', xest)\n",
    "print('cgls solution xest=', xcgls)"
   ]
  },
  {
   "cell_type": "markdown",
   "metadata": {
    "id": "xIhGuWdV6YIf"
   },
   "source": [
    "Let's see how this compares for a large problem in terms of timing"
   ]
  },
  {
   "cell_type": "code",
   "execution_count": 467,
   "metadata": {
    "colab": {
     "base_uri": "https://localhost:8080/",
     "height": 522
    },
    "executionInfo": {
     "elapsed": 57929,
     "status": "ok",
     "timestamp": 1604254582255,
     "user": {
      "displayName": "Matteo Ravasi",
      "photoUrl": "",
      "userId": "06412456769040614383"
     },
     "user_tz": -60
    },
    "id": "DyOpFLTU6YSA",
    "outputId": "df00d05a-ecdc-49f3-a72f-84d3b04be6b3"
   },
   "outputs": [
    {
     "data": {
      "image/png": "[encoded data removed]",
      "text/plain": [
       "<Figure size 432x288 with 1 Axes>"
      ]
     },
     "metadata": {
      "needs_background": "light"
     },
     "output_type": "display_data"
    },
    {
     "data": {
      "image/png": "[encoded data removed]",
      "text/plain": [
       "<Figure size 432x288 with 1 Axes>"
      ]
     },
     "metadata": {
      "needs_background": "light"
     },
     "output_type": "display_data"
    }
   ],
   "source": [
    "ny, nx = 5000, 5000\n",
    "G = np.random.normal(0,1,(ny,nx)).astype(np.float32)\n",
    "x = np.ones(nx, dtype=np.float32)\n",
    "\n",
    "Gop = MatrixMult(G, dtype='float32')\n",
    "y = Gop * x\n",
    "\n",
    "xcgls, _, itn, _, _, cost = cgls(Gop, y, x0=np.zeros(nx, dtype=np.float32), \n",
    "                                 niter=50, tol=1e-10, show=False)\n",
    "plt.figure()\n",
    "plt.plot(x, 'k')\n",
    "plt.plot(xcgls, 'r')\n",
    "\n",
    "plt.figure()\n",
    "plt.plot(cost);"
   ]
  },
  {
   "cell_type": "code",
   "execution_count": 468,
   "metadata": {
    "colab": {
     "base_uri": "https://localhost:8080/",
     "height": 522
    },
    "executionInfo": {
     "elapsed": 60771,
     "status": "ok",
     "timestamp": 1604254585147,
     "user": {
      "displayName": "Matteo Ravasi",
      "photoUrl": "",
      "userId": "06412456769040614383"
     },
     "user_tz": -60
    },
    "id": "1VBaO9OH6nkm",
    "outputId": "5da21260-388a-4ca4-8b8b-7da4039f2e77"
   },
   "outputs": [
    {
     "data": {
      "image/png": "[encoded data removed]",
      "text/plain": [
       "<Figure size 432x288 with 1 Axes>"
      ]
     },
     "metadata": {
      "needs_background": "light"
     },
     "output_type": "display_data"
    },
    {
     "data": {
      "image/png": "[encoded data removed]",
      "text/plain": [
       "<Figure size 432x288 with 1 Axes>"
      ]
     },
     "metadata": {
      "needs_background": "light"
     },
     "output_type": "display_data"
    }
   ],
   "source": [
    "Gc = cp.asarray(G)\n",
    "xc = cp.ones(nx, dtype=np.float32)\n",
    "\n",
    "Gcop = MatrixMult(Gc, dtype='float32')\n",
    "yc = Gcop * xc\n",
    "\n",
    "xcgls, _, itn, _, _, cost = cgls(Gcop, yc, x0=cp.zeros(nx, dtype=np.float32), \n",
    "                                 niter=50, tol=1e-10, show=False)\n",
    "\n",
    "plt.figure()\n",
    "plt.plot(x, 'k')\n",
    "plt.plot(cp.asnumpy(xcgls), 'r')\n",
    "\n",
    "plt.figure()\n",
    "plt.plot(cost);"
   ]
  },
  {
   "cell_type": "code",
   "execution_count": 469,
   "metadata": {
    "colab": {
     "base_uri": "https://localhost:8080/"
    },
    "executionInfo": {
     "elapsed": 64880,
     "status": "ok",
     "timestamp": 1604254589300,
     "user": {
      "displayName": "Matteo Ravasi",
      "photoUrl": "",
      "userId": "06412456769040614383"
     },
     "user_tz": -60
    },
    "id": "SYwDR6Wb7Jje",
    "outputId": "c96b7865-b09e-4a2b-a8b1-2ce14d1bfd00"
   },
   "outputs": [
    {
     "name": "stdout",
     "output_type": "stream",
     "text": [
      "166 ms ± 22 ms per loop (mean ± std. dev. of 2 runs, 3 loops each)\n",
      "28.2 ms ± 255 µs per loop (mean ± std. dev. of 2 runs, 3 loops each)\n"
     ]
    }
   ],
   "source": [
    "%timeit -n 3 -r 2 cgls(Gop, y, x0=np.zeros(nx, dtype=np.float32), niter=50, tol=1e-10, show=False)\n",
    "%timeit -n 3 -r 2 cgls(Gcop, yc, x0=cp.zeros(nx, dtype=np.float32), niter=50, tol=1e-10, show=False)"
   ]
  },
  {
   "cell_type": "markdown",
   "metadata": {
    "id": "E56wi6r554RQ"
   },
   "source": [
    "# Identity\n",
    "\n",
    "Apply identity operator. The forward is\n",
    "$$\\mathbf{y} = \\mathbf{I}\\mathbf{x}=\\mathbf{x}$$\n",
    "\n",
    "and the adjoint is\n",
    "$$\\mathbf{x} = \\mathbf{I}\\mathbf{y}=\\mathbf{y}$$"
   ]
  },
  {
   "cell_type": "code",
   "execution_count": 470,
   "metadata": {
    "colab": {
     "base_uri": "https://localhost:8080/"
    },
    "executionInfo": {
     "elapsed": 65222,
     "status": "ok",
     "timestamp": 1604254589690,
     "user": {
      "displayName": "Matteo Ravasi",
      "photoUrl": "",
      "userId": "06412456769040614383"
     },
     "user_tz": -60
    },
    "id": "n6t8kTMpTY8P",
    "outputId": "c443b9f8-12e7-4d7e-98b6-98f7fc08cf02"
   },
   "outputs": [
    {
     "name": "stdout",
     "output_type": "stream",
     "text": [
      "Dot test passed, v^H(Opu)=-4.761406495022037 - u^H(Op^Hv)=-4.761406495022037\n",
      "x  =  [0 1 2 3 4]\n",
      "I*x  =  [0 1 2 3 4]\n",
      "I'*x =  [0 1 2 3 4]\n"
     ]
    }
   ],
   "source": [
    "ny, nx = 5, 5 \n",
    "x   = cp.arange(nx)\n",
    "Iop = Identity(ny, nx)\n",
    "dottest(Iop, ny, nx, verb=True, backend='cupy')\n",
    "\n",
    "y  = Iop*x\n",
    "y1 = Iop.H*x\n",
    "\n",
    "print('x  = ',x)\n",
    "print('I*x  = ',y)\n",
    "print('I\\'*x = ',y1)"
   ]
  },
  {
   "cell_type": "code",
   "execution_count": 471,
   "metadata": {
    "colab": {
     "base_uri": "https://localhost:8080/"
    },
    "executionInfo": {
     "elapsed": 65921,
     "status": "ok",
     "timestamp": 1604254590437,
     "user": {
      "displayName": "Matteo Ravasi",
      "photoUrl": "",
      "userId": "06412456769040614383"
     },
     "user_tz": -60
    },
    "id": "vp5V-udbTY6G",
    "outputId": "754d6b48-4ca2-4e3a-d0f9-13cd1a5926f9"
   },
   "outputs": [
    {
     "name": "stdout",
     "output_type": "stream",
     "text": [
      "Dot test passed, v^H(Opu)=-2.2529007446752685 - u^H(Op^Hv)=-2.2529007446752685\n",
      "x  =  [0 1 2 3 4 5 6]\n",
      "I*x  =  [0 1 2 3 4]\n",
      "I'*x =  [0. 1. 2. 3. 4. 0. 0.]\n"
     ]
    }
   ],
   "source": [
    "ny, nx = 5, 7\n",
    "x   = cp.arange(nx)\n",
    "Iop = Identity(ny, nx)\n",
    "dottest(Iop, ny, nx, verb=True, backend='cupy')\n",
    "\n",
    "y  = Iop*x\n",
    "y1 = Iop.H*y\n",
    "\n",
    "print('x  = ',x)\n",
    "print('I*x  = ',y)\n",
    "print('I\\'*x = ',y1)"
   ]
  },
  {
   "cell_type": "code",
   "execution_count": 472,
   "metadata": {
    "colab": {
     "base_uri": "https://localhost:8080/"
    },
    "executionInfo": {
     "elapsed": 65874,
     "status": "ok",
     "timestamp": 1604254590438,
     "user": {
      "displayName": "Matteo Ravasi",
      "photoUrl": "",
      "userId": "06412456769040614383"
     },
     "user_tz": -60
    },
    "id": "4HDYnEOY6M2r",
    "outputId": "734d9d1b-0362-43d8-d668-fc2bde6e738e"
   },
   "outputs": [
    {
     "name": "stdout",
     "output_type": "stream",
     "text": [
      "Dot test passed, v^H(Opu)=2.824075438960463 - u^H(Op^Hv)=2.824075438960463\n",
      "x  =  [0 1 2 3 4]\n",
      "I*x  =  [0. 1. 2. 3. 4. 0. 0.]\n",
      "I'*x =  [0. 1. 2. 3. 4.]\n"
     ]
    }
   ],
   "source": [
    "ny, nx = 7, 5 \n",
    "x   = cp.arange(nx)\n",
    "Iop = Identity(ny, nx)\n",
    "dottest(Iop, ny, nx, verb=True, backend='cupy')\n",
    "\n",
    "y  = Iop*x\n",
    "y1 = Iop.H*y\n",
    "\n",
    "print('x  = ',x)\n",
    "print('I*x  = ',y)\n",
    "print('I\\'*x = ',y1)"
   ]
  },
  {
   "cell_type": "markdown",
   "metadata": {
    "id": "C3iDNrkG9NGL"
   },
   "source": [
    "# Diagonal\n",
    "\n",
    "We can also perform an element wise multiplation between the input array $\\mathbf{x}$ and another array $\\mathbf{d}$:\n",
    "\n",
    "$$y_i = d_i x_i  \\quad \\forall i=1,2,...,N$$\n",
    "\n",
    "This is equivalent to a matrix-vector multiplication with a matrix containing the vector $\\mathbf{d}$ along its main diagonal."
   ]
  },
  {
   "cell_type": "code",
   "execution_count": 473,
   "metadata": {
    "colab": {
     "base_uri": "https://localhost:8080/"
    },
    "executionInfo": {
     "elapsed": 65831,
     "status": "ok",
     "timestamp": 1604254590439,
     "user": {
      "displayName": "Matteo Ravasi",
      "photoUrl": "",
      "userId": "06412456769040614383"
     },
     "user_tz": -60
    },
    "id": "5knB9gzW6Rpj",
    "outputId": "8765691c-e37e-4a07-d155-aa32e9971139"
   },
   "outputs": [
    {
     "name": "stdout",
     "output_type": "stream",
     "text": [
      "Dot test passed, v^H(Opu)=-33.173663963623106 - u^H(Op^Hv)=-33.173663963623106\n",
      "D*x  =  [0. 1. 2. 3. 4. 5. 6. 7. 8. 9.]\n",
      "D'*x =  [0. 1. 1. 1. 1. 1. 1. 1. 1. 1.]\n"
     ]
    }
   ],
   "source": [
    "x   = cp.ones(10)\n",
    "d   = cp.arange(10)\n",
    "Dop = Diagonal(d)\n",
    "dottest(Dop,10,10,verb=True, backend='cupy')\n",
    "\n",
    "y  = Dop*x\n",
    "y1 = Dop.H*x\n",
    "y1 = Dop / y\n",
    "\n",
    "print('D*x  = ',y)\n",
    "print('D\\'*x = ',y1)"
   ]
  },
  {
   "cell_type": "code",
   "execution_count": 474,
   "metadata": {
    "colab": {
     "base_uri": "https://localhost:8080/"
    },
    "executionInfo": {
     "elapsed": 66038,
     "status": "ok",
     "timestamp": 1604254590700,
     "user": {
      "displayName": "Matteo Ravasi",
      "photoUrl": "",
      "userId": "06412456769040614383"
     },
     "user_tz": -60
    },
    "id": "2sz7ZURa93wU",
    "outputId": "7047a926-f09c-4c2e-8cd4-3a9d1122c01e"
   },
   "outputs": [
    {
     "name": "stdout",
     "output_type": "stream",
     "text": [
      "Dot test passed, v^H(Opu)=-2.4468405450008337 - u^H(Op^Hv)=-2.4468405450008337\n",
      "D*x  =  [[1. 1. 1. 1. 1.]\n",
      " [0. 0. 0. 0. 0.]\n",
      " [0. 0. 0. 0. 0.]]\n",
      "D'*x =  [[1. 1. 1. 1. 1.]\n",
      " [0. 0. 0. 0. 0.]\n",
      " [0. 0. 0. 0. 0.]]\n"
     ]
    }
   ],
   "source": [
    "x   = cp.ones((3,5))\n",
    "d   = cp.ones(15).reshape(3,5)\n",
    "d[1:] = 0   \n",
    "Dop = Diagonal(d)\n",
    "dottest(Dop,15,15,verb=True, backend='cupy')\n",
    "\n",
    "y  = Dop*x.ravel()\n",
    "y1 = Dop.H*x.ravel()\n",
    "y1 = Dop / x.ravel()\n",
    "\n",
    "print('D*x  = ',y.reshape(3,5))\n",
    "print('D\\'*x = ',y1.reshape(3,5))"
   ]
  },
  {
   "cell_type": "code",
   "execution_count": 475,
   "metadata": {
    "colab": {
     "base_uri": "https://localhost:8080/"
    },
    "executionInfo": {
     "elapsed": 69612,
     "status": "ok",
     "timestamp": 1604254594319,
     "user": {
      "displayName": "Matteo Ravasi",
      "photoUrl": "",
      "userId": "06412456769040614383"
     },
     "user_tz": -60
    },
    "id": "AaeLtkdq9-XV",
    "outputId": "564efd05-34fb-45a0-e5db-5ecf7eaf1733"
   },
   "outputs": [
    {
     "name": "stdout",
     "output_type": "stream",
     "text": [
      "Dot test passed, v^H(Opu)=(-0.08847878885023452+2.653959189179502j) - u^H(Op^Hv)=(-0.08847878885023408+2.6539591891795027j)\n",
      "D*x  =  [[1.+1.j 1.+1.j 1.+1.j 1.+1.j 1.+1.j]\n",
      " [0.+0.j 0.+0.j 0.+0.j 0.+0.j 0.+0.j]\n",
      " [0.+0.j 0.+0.j 0.+0.j 0.+0.j 0.+0.j]]\n",
      "D'*x =  [[1.+0.j 1.+0.j 1.+0.j 1.+0.j 1.+0.j]\n",
      " [0.+0.j 0.+0.j 0.+0.j 0.+0.j 0.+0.j]\n",
      " [0.+0.j 0.+0.j 0.+0.j 0.+0.j 0.+0.j]]\n"
     ]
    }
   ],
   "source": [
    "# Complex numbers\n",
    "x   = cp.ones((3,5))\n",
    "d   = cp.ones(15).reshape(3,5) + 1j*cp.ones(15).reshape(3,5)\n",
    "d[1:] = 0   \n",
    "Dop = Diagonal(d)\n",
    "dottest(Dop,15,15, verb=True, complexflag=2, backend='cupy')\n",
    "\n",
    "y  = Dop*x.ravel()\n",
    "y1 = Dop.H*x.ravel()\n",
    "y1 = Dop / y\n",
    "\n",
    "print('D*x  = ',y.reshape(3,5))\n",
    "print('D\\'*x = ',y1.reshape(3,5))"
   ]
  },
  {
   "cell_type": "code",
   "execution_count": 476,
   "metadata": {
    "colab": {
     "base_uri": "https://localhost:8080/"
    },
    "executionInfo": {
     "elapsed": 69570,
     "status": "ok",
     "timestamp": 1604254594321,
     "user": {
      "displayName": "Matteo Ravasi",
      "photoUrl": "",
      "userId": "06412456769040614383"
     },
     "user_tz": -60
    },
    "id": "zpnRfvFpa4sd",
    "outputId": "5d2b0e5e-a27d-4bb1-c214-1c31703de19b"
   },
   "outputs": [
    {
     "data": {
      "text/plain": [
       "(30+0j)"
      ]
     },
     "execution_count": 476,
     "metadata": {},
     "output_type": "execute_result"
    }
   ],
   "source": [
    "x  = np.ones(15) + 1j*np.ones(15)\n",
    "x.dot(x.conj())"
   ]
  },
  {
   "cell_type": "markdown",
   "metadata": {
    "id": "PVsR_5zE_YGT"
   },
   "source": [
    "# Zero\n",
    "\n",
    "Apply zero operator. The forward is\n",
    "$$\\mathbf{y} = \\mathbf{0}\\mathbf{x}=\\mathbf{0}_{N_y}$$\n",
    "\n",
    "and the adjoint is\n",
    "$$\\mathbf{x} = \\mathbf{0}\\mathbf{y}=\\mathbf{0}_{N_x}$$"
   ]
  },
  {
   "cell_type": "code",
   "execution_count": 477,
   "metadata": {
    "colab": {
     "base_uri": "https://localhost:8080/"
    },
    "executionInfo": {
     "elapsed": 69526,
     "status": "ok",
     "timestamp": 1604254594323,
     "user": {
      "displayName": "Matteo Ravasi",
      "photoUrl": "",
      "userId": "06412456769040614383"
     },
     "user_tz": -60
    },
    "id": "CHngYniz_cHO",
    "outputId": "27b96281-1a6f-4643-f03c-901d6601e7c0"
   },
   "outputs": [
    {
     "name": "stdout",
     "output_type": "stream",
     "text": [
      "Dot test passed, v^H(Opu)=0.0 - u^H(Op^Hv)=0.0\n",
      "x  =  [0 1 2 3 4]\n",
      "I*x  =  [0. 0. 0. 0. 0.]\n",
      "I'*x =  [0. 0. 0. 0. 0.]\n"
     ]
    }
   ],
   "source": [
    "ny, nx = 5, 5\n",
    "x   = cp.arange(nx)\n",
    "Zop = Zero(ny, nx)\n",
    "dottest(Zop, ny, nx, verb=True, backend='cupy')\n",
    "\n",
    "y  = Zop*x\n",
    "y1 = Zop.H*y\n",
    "\n",
    "print('x  = ',x)\n",
    "print('I*x  = ',y)\n",
    "print('I\\'*x = ',y1)"
   ]
  },
  {
   "cell_type": "code",
   "execution_count": 478,
   "metadata": {
    "colab": {
     "base_uri": "https://localhost:8080/"
    },
    "executionInfo": {
     "elapsed": 69480,
     "status": "ok",
     "timestamp": 1604254594324,
     "user": {
      "displayName": "Matteo Ravasi",
      "photoUrl": "",
      "userId": "06412456769040614383"
     },
     "user_tz": -60
    },
    "id": "3H4FXZPp_fiF",
    "outputId": "1e67e2aa-63dd-450a-bf27-6b6d06da5b29"
   },
   "outputs": [
    {
     "name": "stdout",
     "output_type": "stream",
     "text": [
      "Dot test passed, v^H(Opu)=0.0 - u^H(Op^Hv)=0.0\n",
      "x  =  [0 1 2 3 4]\n",
      "I*x  =  [0. 0. 0. 0. 0. 0. 0.]\n",
      "I'*x =  [0. 0. 0. 0. 0.]\n"
     ]
    }
   ],
   "source": [
    "ny, nx = 7, 5\n",
    "x   = cp.arange(nx)\n",
    "Zop = Zero(ny, nx)\n",
    "dottest(Zop, ny, nx, verb=True, backend='cupy')\n",
    "\n",
    "y  = Zop*x\n",
    "y1 = Zop.H*y\n",
    "\n",
    "print('x  = ',x)\n",
    "print('I*x  = ',y)\n",
    "print('I\\'*x = ',y1)"
   ]
  },
  {
   "cell_type": "code",
   "execution_count": 479,
   "metadata": {
    "colab": {
     "base_uri": "https://localhost:8080/"
    },
    "executionInfo": {
     "elapsed": 69435,
     "status": "ok",
     "timestamp": 1604254594325,
     "user": {
      "displayName": "Matteo Ravasi",
      "photoUrl": "",
      "userId": "06412456769040614383"
     },
     "user_tz": -60
    },
    "id": "KP3QcDQ5KdjA",
    "outputId": "8b374317-4c15-4991-e0d4-380ad8cdb957"
   },
   "outputs": [
    {
     "name": "stdout",
     "output_type": "stream",
     "text": [
      "Dot test passed, v^H(Opu)=0.0 - u^H(Op^Hv)=0.0\n",
      "x  =  [0 1 2 3 4 5 6]\n",
      "I*x  =  [0. 0. 0. 0. 0.]\n",
      "I'*x =  [0. 0. 0. 0. 0. 0. 0.]\n"
     ]
    }
   ],
   "source": [
    "ny, nx = 5, 7\n",
    "x   = cp.arange(nx)\n",
    "Zop = Zero(ny, nx)\n",
    "dottest(Zop, ny, nx, verb=True, backend='cupy')\n",
    "\n",
    "y  = Zop*x\n",
    "y1 = Zop.H*y\n",
    "\n",
    "print('x  = ',x)\n",
    "print('I*x  = ',y)\n",
    "print('I\\'*x = ',y1)"
   ]
  },
  {
   "cell_type": "markdown",
   "metadata": {
    "id": "mifQHZ42TrOC"
   },
   "source": [
    "# Sum"
   ]
  },
  {
   "cell_type": "code",
   "execution_count": 480,
   "metadata": {
    "colab": {
     "base_uri": "https://localhost:8080/"
    },
    "executionInfo": {
     "elapsed": 70386,
     "status": "ok",
     "timestamp": 1604254595321,
     "user": {
      "displayName": "Matteo Ravasi",
      "photoUrl": "",
      "userId": "06412456769040614383"
     },
     "user_tz": -60
    },
    "id": "K_3hKH5yTsLg",
    "outputId": "11fa6504-d1e9-465b-a30e-8b0e74a05e81"
   },
   "outputs": [
    {
     "name": "stdout",
     "output_type": "stream",
     "text": [
      "Dot test passed, v^H(Opu)=-4.677925556202387 - u^H(Op^Hv)=-4.677925556202385\n",
      "x  =  [[ 0  1  2  3  4  5  6]\n",
      " [ 7  8  9 10 11 12 13]\n",
      " [14 15 16 17 18 19 20]\n",
      " [21 22 23 24 25 26 27]\n",
      " [28 29 30 31 32 33 34]]\n",
      "S*x  =  [ 70  75  80  85  90  95 100]\n",
      "S'*y =  [[ 70  75  80  85  90  95 100]\n",
      " [ 70  75  80  85  90  95 100]\n",
      " [ 70  75  80  85  90  95 100]\n",
      " [ 70  75  80  85  90  95 100]\n",
      " [ 70  75  80  85  90  95 100]]\n",
      "S^-1*y =  [[14. 15. 16. 17. 18. 19. 20.]\n",
      " [14. 15. 16. 17. 18. 19. 20.]\n",
      " [14. 15. 16. 17. 18. 19. 20.]\n",
      " [14. 15. 16. 17. 18. 19. 20.]\n",
      " [14. 15. 16. 17. 18. 19. 20.]]\n",
      "y-S*xadj =  [-280 -300 -320 -340 -360 -380 -400]\n",
      "y-S*xinv =  [0. 0. 0. 0. 0. 0. 0.]\n"
     ]
    }
   ],
   "source": [
    "ny, nx = 5, 7\n",
    "x   = (cp.arange(ny*nx)).reshape(ny, nx)\n",
    "Sop = Sum(dims=(ny, nx), axis=0)\n",
    "dottest(Sop, nx, ny*nx, verb=True, backend='cupy')\n",
    "\n",
    "y  = Sop*x.ravel()\n",
    "xadj = Sop.H*y\n",
    "xinv = Sop / y\n",
    "\n",
    "xadj = xadj.reshape(ny, nx)\n",
    "xinv = xinv.reshape(ny, nx)\n",
    "\n",
    "print('x  = ',x)\n",
    "print('S*x  = ',y)\n",
    "print('S\\'*y = ',xadj)\n",
    "print('S^-1*y = ',xinv)\n",
    "\n",
    "print('y-S*xadj = ',y-Sop*xadj.ravel())\n",
    "print('y-S*xinv = ',y-Sop*xinv.ravel())"
   ]
  },
  {
   "cell_type": "markdown",
   "metadata": {
    "id": "82co6QQOgbDr"
   },
   "source": [
    "# Regression"
   ]
  },
  {
   "cell_type": "code",
   "execution_count": 481,
   "metadata": {
    "colab": {
     "base_uri": "https://localhost:8080/"
    },
    "executionInfo": {
     "elapsed": 70715,
     "status": "ok",
     "timestamp": 1604254595693,
     "user": {
      "displayName": "Matteo Ravasi",
      "photoUrl": "",
      "userId": "06412456769040614383"
     },
     "user_tz": -60
    },
    "id": "smRA34vHgYUa",
    "outputId": "d87bfbca-ab6d-45b9-f223-203da1bec8c3"
   },
   "outputs": [
    {
     "name": "stdout",
     "output_type": "stream",
     "text": [
      "<30x2 Regression with dtype=float64>\n",
      "Dot test passed, v^H(Opu)=48.30394421213246 - u^H(Op^Hv)=48.30394421213246\n",
      "Just before Adjoint, <30x2 Regression with dtype=float64>\n",
      "Just after Adjoint, <30x2 Regression with dtype=float64>\n"
     ]
    }
   ],
   "source": [
    "# parameters\n",
    "N = 30\n",
    "x = cp.array([1., 2.])\n",
    "\n",
    "# set up problem\n",
    "t = cp.arange(N, dtype='float64')\n",
    "LRop = LinearRegression(t, dtype=None)\n",
    "print(LRop)\n",
    "dottest(LRop, N, 2, verb=True, backend='cupy')\n",
    "\n",
    "y = LRop*x\n",
    "print('Just before Adjoint, %s' %LRop)\n",
    "xadj = LRop.H*y\n",
    "print('Just after Adjoint, %s' %LRop)"
   ]
  },
  {
   "cell_type": "code",
   "execution_count": 482,
   "metadata": {
    "colab": {
     "base_uri": "https://localhost:8080/"
    },
    "executionInfo": {
     "elapsed": 70669,
     "status": "ok",
     "timestamp": 1604254595694,
     "user": {
      "displayName": "Matteo Ravasi",
      "photoUrl": "",
      "userId": "06412456769040614383"
     },
     "user_tz": -60
    },
    "id": "iGWQkMNKikMx",
    "outputId": "d7cb92c3-ce39-49c7-c169-7a865acf28ef"
   },
   "outputs": [
    {
     "name": "stdout",
     "output_type": "stream",
     "text": [
      "x= [1. 2.]\n",
      "adj solution xadj= [  900. 17545.]\n",
      "cgls solution xlsqr= [1. 2.]\n"
     ]
    }
   ],
   "source": [
    "# CGLS solver\n",
    "xcgls = cgls(LRop, y, cp.zeros(2), damp=1e-10, niter=10 ,show=0)[0]\n",
    "xcgls = LRop / y\n",
    "\n",
    "print('x=',x)\n",
    "print('adj solution xadj=', xadj)\n",
    "print('cgls solution xlsqr=', xcgls)"
   ]
  },
  {
   "cell_type": "code",
   "execution_count": 483,
   "metadata": {
    "colab": {
     "base_uri": "https://localhost:8080/"
    },
    "executionInfo": {
     "elapsed": 70937,
     "status": "ok",
     "timestamp": 1604254596009,
     "user": {
      "displayName": "Matteo Ravasi",
      "photoUrl": "",
      "userId": "06412456769040614383"
     },
     "user_tz": -60
    },
    "id": "I2_pEhKWi2qZ",
    "outputId": "7971a5ff-946c-4425-aa4c-ad9c4642fdee"
   },
   "outputs": [
    {
     "name": "stdout",
     "output_type": "stream",
     "text": [
      "y= [ 1.  3.  5.  7.  9. 11. 13. 15. 17. 19. 21. 23. 25. 27. 29. 31. 33. 35.\n",
      " 37. 39. 41. 43. 45. 47. 49. 51. 53. 55. 57. 59.]\n",
      "ycgls= [  1.   2.   3.   4.   5.   6.   7.   8.   9.  10.  11.  12.  13.  14.\n",
      "  15.  16.  17.  18.  19.  20.  21.  22.  23.  24.  25.  26.  27.  28.\n",
      "  29.  30.  31.  32.  33.  34.  35.  36.  37.  38.  39.  40.  41.  42.\n",
      "  43.  44.  45.  46.  47.  48.  49.  50.  51.  52.  53.  54.  55.  56.\n",
      "  57.  58.  59.  60.  61.  62.  63.  64.  65.  66.  67.  68.  69.  70.\n",
      "  71.  72.  73.  74.  75.  76.  77.  78.  79.  80.  81.  82.  83.  84.\n",
      "  85.  86.  87.  88.  89.  90.  91.  92.  93.  94.  95.  96.  97.  98.\n",
      "  99. 100. 101. 102. 103. 104. 105. 106. 107. 108. 109. 110. 111. 112.\n",
      " 113. 114. 115. 116. 117. 118. 119. 120. 121. 122. 123. 124. 125. 126.\n",
      " 127. 128. 129. 130. 131. 132. 133. 134. 135. 136. 137. 138. 139. 140.\n",
      " 141. 142. 143. 144. 145. 146. 147. 148. 149. 150.]\n"
     ]
    }
   ],
   "source": [
    "t = cp.arange(5*N, dtype='float64')\n",
    "ylsqr = LRop.apply(t, xlsqr)\n",
    "\n",
    "print('y=', y)\n",
    "print('ycgls=', ylsqr)"
   ]
  },
  {
   "cell_type": "markdown",
   "metadata": {
    "id": "6l6qCyHvjSyI"
   },
   "source": [
    "# Polynomial Regression"
   ]
  },
  {
   "cell_type": "code",
   "execution_count": 484,
   "metadata": {
    "colab": {
     "base_uri": "https://localhost:8080/",
     "height": 312
    },
    "executionInfo": {
     "elapsed": 71234,
     "status": "ok",
     "timestamp": 1604254596372,
     "user": {
      "displayName": "Matteo Ravasi",
      "photoUrl": "",
      "userId": "06412456769040614383"
     },
     "user_tz": -60
    },
    "id": "sZymfPB9jHFN",
    "outputId": "f9c09b51-610b-4859-c347-bae2dfc352ae"
   },
   "outputs": [
    {
     "name": "stdout",
     "output_type": "stream",
     "text": [
      "Dot test passed, v^H(Opu)=1910.0992663691718 - u^H(Op^Hv)=1910.0992663691732\n",
      "x= [1. 2. 2. 3.]\n",
      "cgls solution xest= [1. 2. 2. 3.]\n"
     ]
    },
    {
     "data": {
      "image/png": "[encoded data removed]",
      "text/plain": [
       "<Figure size 432x288 with 1 Axes>"
      ]
     },
     "metadata": {
      "needs_background": "light"
     },
     "output_type": "display_data"
    }
   ],
   "source": [
    "# parameters\n",
    "order = 3\n",
    "N = 30\n",
    "x = cp.array([1., 2., 2., 3.])\n",
    "\n",
    "# set up problem\n",
    "t = cp.arange(N, dtype=np.float64)-N//2\n",
    "LRop = Regression(t, order=order, dtype='float64')\n",
    "dottest(LRop, N, order+1, verb=True, backend='cupy')\n",
    "\n",
    "y = LRop*x\n",
    "\n",
    "plt.figure()\n",
    "plt.plot(cp.asnumpy(y), '.-k', ms=20, lw=2)\n",
    "\n",
    "# LSQR solver\n",
    "xcgls = cgls(LRop, y, cp.zeros(4), damp=1e-10, niter=10 ,show=0)[0]\n",
    "xcgls = LRop / y\n",
    "\n",
    "print('x=',x)\n",
    "print('cgls solution xest=', xcgls)"
   ]
  },
  {
   "cell_type": "markdown",
   "metadata": {
    "id": "J_hmcHaism_U"
   },
   "source": [
    "# First Derivative"
   ]
  },
  {
   "cell_type": "code",
   "execution_count": 485,
   "metadata": {
    "colab": {
     "base_uri": "https://localhost:8080/",
     "height": 279
    },
    "executionInfo": {
     "elapsed": 74387,
     "status": "ok",
     "timestamp": 1604254599590,
     "user": {
      "displayName": "Matteo Ravasi",
      "photoUrl": "",
      "userId": "06412456769040614383"
     },
     "user_tz": -60
    },
    "id": "2uqHAabusmWy",
    "outputId": "52cba869-1428-462a-f6cd-7901928ba920"
   },
   "outputs": [
    {
     "name": "stdout",
     "output_type": "stream",
     "text": [
      "Dot test passed, v^H(Opu)=1.7130227088928223 - u^H(Op^Hv)=1.7130228281021118\n"
     ]
    },
    {
     "data": {
      "image/png": "[encoded data removed]",
      "text/plain": [
       "<Figure size 432x288 with 1 Axes>"
      ]
     },
     "metadata": {
      "needs_background": "light"
     },
     "output_type": "display_data"
    }
   ],
   "source": [
    "nx = 11\n",
    "x = cp.arange(nx) - (nx-1)/2\n",
    "\n",
    "D1op = FirstDerivative(nx, edge=True, dtype='float32')\n",
    "dottest(D1op,nx,nx, atol=1e-3, verb=True, backend='cupy')\n",
    "\n",
    "y_lop    = D1op*x\n",
    "xadj_lop = D1op.H*y_lop\n",
    "\n",
    "xinv_lop = D1op / y_lop\n",
    "xinv_lop = cgls(D1op, y_lop, cp.zeros(nx))[0]\n",
    "\n",
    "plt.figure()\n",
    "plt.plot(cp.asnumpy(x),'r')\n",
    "plt.plot(cp.asnumpy(xinv_lop), '--b');"
   ]
  },
  {
   "cell_type": "code",
   "execution_count": 486,
   "metadata": {
    "colab": {
     "base_uri": "https://localhost:8080/",
     "height": 248
    },
    "executionInfo": {
     "elapsed": 74927,
     "status": "ok",
     "timestamp": 1604254600202,
     "user": {
      "displayName": "Matteo Ravasi",
      "photoUrl": "",
      "userId": "06412456769040614383"
     },
     "user_tz": -60
    },
    "id": "3UFVqu4Yunqv",
    "outputId": "7f33dc7f-798e-4206-ed77-0a4519e9939e"
   },
   "outputs": [
    {
     "name": "stdout",
     "output_type": "stream",
     "text": [
      "Dot test passed, v^H(Opu)=5.16544611934215 - u^H(Op^Hv)=5.165446119342149\n"
     ]
    },
    {
     "data": {
      "image/png": "[encoded data removed]",
      "text/plain": [
       "<Figure size 720x216 with 4 Axes>"
      ]
     },
     "metadata": {
      "needs_background": "light"
     },
     "output_type": "display_data"
    }
   ],
   "source": [
    "A= cp.zeros((11,21))\n",
    "A[5,10] = 1\n",
    "\n",
    "D2op = FirstDerivative(dims=[11,21], axis=0, edge=True, dtype='float64')\n",
    "dottest(D2op,11*21,11*21, verb=True, backend='cupy')\n",
    "\n",
    "B=cp.reshape(D2op*A.ravel(),(11,21))\n",
    "\n",
    "fig = plt.figure(figsize=(10,3))\n",
    "fig.suptitle('2D Second Derivative in 1st direction',fontsize=14, fontweight='bold')\n",
    "ax = plt.subplot(1,2,1)\n",
    "imh = ax.imshow(cp.asnumpy(A), interpolation='nearest')\n",
    "ax.axis('tight')\n",
    "ax.set_title('x')\n",
    "plt.colorbar(imh)\n",
    "ax = plt.subplot(1,2,2)\n",
    "imh = ax.imshow(cp.asnumpy(B), interpolation='nearest')\n",
    "ax.axis('tight')\n",
    "ax.set_title('y=D_z x')\n",
    "plt.colorbar(imh);"
   ]
  },
  {
   "cell_type": "code",
   "execution_count": 487,
   "metadata": {
    "colab": {
     "base_uri": "https://localhost:8080/",
     "height": 248
    },
    "executionInfo": {
     "elapsed": 76092,
     "status": "ok",
     "timestamp": 1604254601425,
     "user": {
      "displayName": "Matteo Ravasi",
      "photoUrl": "",
      "userId": "06412456769040614383"
     },
     "user_tz": -60
    },
    "id": "CwMpRZeH3DQO",
    "outputId": "f01440e5-16d9-4866-a490-e0775032eddc"
   },
   "outputs": [
    {
     "name": "stdout",
     "output_type": "stream",
     "text": [
      "Dot test passed, v^H(Opu)=-6.468360010797171 - u^H(Op^Hv)=-6.4683600107971735\n"
     ]
    },
    {
     "data": {
      "image/png": "[encoded data removed]",
      "text/plain": [
       "<Figure size 720x216 with 4 Axes>"
      ]
     },
     "metadata": {
      "needs_background": "light"
     },
     "output_type": "display_data"
    }
   ],
   "source": [
    "A= cp.zeros((11,21))\n",
    "A[5,10] = 1\n",
    "\n",
    "D2op = FirstDerivative(dims=[11,21], axis=-1, edge=True, dtype='float64')\n",
    "dottest(D2op,11*21,11*21, verb=True, backend='cupy')\n",
    "\n",
    "B=np.reshape(D2op*A.ravel(),(11,21))\n",
    "\n",
    "fig = plt.figure(figsize=(10,3))\n",
    "fig.suptitle('2D Second Derivative in 2nd direction',fontsize=14, fontweight='bold')\n",
    "ax = plt.subplot(1,2,1)\n",
    "imh = ax.imshow(cp.asnumpy(A), interpolation='nearest')\n",
    "ax.axis('tight')\n",
    "ax.set_title('x')\n",
    "plt.colorbar(imh)\n",
    "ax = plt.subplot(1,2,2)\n",
    "imh = ax.imshow(cp.asnumpy(B), interpolation='nearest')\n",
    "ax.axis('tight')\n",
    "ax.set_title('y=D_z x')\n",
    "plt.colorbar(imh);"
   ]
  },
  {
   "cell_type": "code",
   "execution_count": 488,
   "metadata": {
    "colab": {
     "base_uri": "https://localhost:8080/"
    },
    "executionInfo": {
     "elapsed": 76025,
     "status": "ok",
     "timestamp": 1604254601426,
     "user": {
      "displayName": "Matteo Ravasi",
      "photoUrl": "",
      "userId": "06412456769040614383"
     },
     "user_tz": -60
    },
    "id": "6UDiDt1pva8u",
    "outputId": "7115a807-cb57-4aef-ff4e-f3f81b31927b"
   },
   "outputs": [
    {
     "name": "stdout",
     "output_type": "stream",
     "text": [
      "1.6 ms ± 156 µs per loop (mean ± std. dev. of 3 runs, 10 loops each)\n",
      "155 µs ± 36.3 µs per loop (mean ± std. dev. of 3 runs, 10 loops each)\n"
     ]
    }
   ],
   "source": [
    "D2op = FirstDerivative(dims=[2001,201], axis=0, edge=True, dtype='float64')\n",
    "\n",
    "x = np.ones(2001*201)\n",
    "xc = cp.ones(2001*201)\n",
    "\n",
    "%timeit -n10 -r3 D2op * x\n",
    "%timeit -n10 -r3 D2op * xc"
   ]
  },
  {
   "cell_type": "markdown",
   "metadata": {
    "id": "ifKF5m1eKVmp"
   },
   "source": [
    "# Second Derivative"
   ]
  },
  {
   "cell_type": "code",
   "execution_count": 489,
   "metadata": {
    "colab": {
     "base_uri": "https://localhost:8080/"
    },
    "executionInfo": {
     "elapsed": 77454,
     "status": "ok",
     "timestamp": 1604254602926,
     "user": {
      "displayName": "Matteo Ravasi",
      "photoUrl": "",
      "userId": "06412456769040614383"
     },
     "user_tz": -60
    },
    "id": "oZIGXEUux3Kb",
    "outputId": "93ecc407-7e54-43d4-82a0-d84b51e236ca"
   },
   "outputs": [
    {
     "name": "stdout",
     "output_type": "stream",
     "text": [
      "Dot test passed, v^H(Opu)=0.8715014457702637 - u^H(Op^Hv)=0.8715012073516846\n",
      "[25 16  9  4  1  0  1  4  9 16 25]\n",
      "[2. 2. 2. 2. 2. 2. 2. 2. 2. 2. 2.]\n"
     ]
    }
   ],
   "source": [
    "x = (cp.arange(11)-5)**2\n",
    "\n",
    "D2op = SecondDerivative(11, edge=True, dtype='float32')\n",
    "dottest(D2op, 11,11, atol=1e-4, verb=True, backend='cupy')\n",
    "\n",
    "y = D2op*x\n",
    "print(x)\n",
    "print(y)"
   ]
  },
  {
   "cell_type": "code",
   "execution_count": 490,
   "metadata": {
    "colab": {
     "base_uri": "https://localhost:8080/",
     "height": 248
    },
    "executionInfo": {
     "elapsed": 77761,
     "status": "ok",
     "timestamp": 1604254603288,
     "user": {
      "displayName": "Matteo Ravasi",
      "photoUrl": "",
      "userId": "06412456769040614383"
     },
     "user_tz": -60
    },
    "id": "GTTL80GiIzMf",
    "outputId": "9952e5de-de80-4839-a62b-13945aab2d96"
   },
   "outputs": [
    {
     "name": "stdout",
     "output_type": "stream",
     "text": [
      "Dot test passed, v^H(Opu)=-22.45995019711026 - u^H(Op^Hv)=-22.459950197110274\n"
     ]
    },
    {
     "data": {
      "image/png": "[encoded data removed]",
      "text/plain": [
       "<Figure size 720x216 with 4 Axes>"
      ]
     },
     "metadata": {
      "needs_background": "light"
     },
     "output_type": "display_data"
    }
   ],
   "source": [
    "A= cp.zeros((11,21))\n",
    "A[5,10]=1\n",
    "\n",
    "D2op = SecondDerivative(dims=[11,21], axis=0, edge=True, dtype='float64')\n",
    "dottest(D2op,11*21,11*21, verb=True, backend='cupy')\n",
    "\n",
    "B=np.reshape(D2op*A.ravel(),(11,21))\n",
    "\n",
    "fig = plt.figure(figsize=(10,3))\n",
    "fig.suptitle('2D Second Derivative in 1st direction',fontsize=14, fontweight='bold')\n",
    "ax = plt.subplot(1,2,1)\n",
    "imh = ax.imshow(cp.asnumpy(A),interpolation='nearest')\n",
    "ax.axis('tight')\n",
    "ax.set_title('x')\n",
    "plt.colorbar(imh)\n",
    "ax = plt.subplot(1,2,2)\n",
    "imh = ax.imshow(cp.asnumpy(B),interpolation='nearest')\n",
    "ax.axis('tight')\n",
    "ax.set_title('y=D_z x')\n",
    "plt.colorbar(imh);"
   ]
  },
  {
   "cell_type": "code",
   "execution_count": 491,
   "metadata": {
    "colab": {
     "base_uri": "https://localhost:8080/"
    },
    "executionInfo": {
     "elapsed": 77694,
     "status": "ok",
     "timestamp": 1604254603290,
     "user": {
      "displayName": "Matteo Ravasi",
      "photoUrl": "",
      "userId": "06412456769040614383"
     },
     "user_tz": -60
    },
    "id": "DQPzhYXeIzU_",
    "outputId": "acd76c31-a3a9-43b8-fbcb-fe8d071654d6"
   },
   "outputs": [
    {
     "name": "stdout",
     "output_type": "stream",
     "text": [
      "2.07 ms ± 205 µs per loop (mean ± std. dev. of 3 runs, 10 loops each)\n",
      "212 µs ± 47.6 µs per loop (mean ± std. dev. of 3 runs, 10 loops each)\n"
     ]
    }
   ],
   "source": [
    "D2op = SecondDerivative(dims=[2001,201], axis=0, edge=True, dtype='float64')\n",
    "\n",
    "x = np.ones(2001*201)\n",
    "xc = cp.ones(2001*201)\n",
    "\n",
    "%timeit -n10 -r3 D2op * x\n",
    "%timeit -n10 -r3 D2op * xc"
   ]
  },
  {
   "cell_type": "markdown",
   "metadata": {
    "id": "cNh7TvsYJl27"
   },
   "source": [
    "# Laplacian"
   ]
  },
  {
   "cell_type": "code",
   "execution_count": 492,
   "metadata": {
    "colab": {
     "base_uri": "https://localhost:8080/",
     "height": 248
    },
    "executionInfo": {
     "elapsed": 79294,
     "status": "ok",
     "timestamp": 1604254604949,
     "user": {
      "displayName": "Matteo Ravasi",
      "photoUrl": "",
      "userId": "06412456769040614383"
     },
     "user_tz": -60
    },
    "id": "BOqsr1sDJiLh",
    "outputId": "c50b30f2-07cb-4116-a363-59b416ba7b23"
   },
   "outputs": [
    {
     "name": "stdout",
     "output_type": "stream",
     "text": [
      "Dot test passed, v^H(Opu)=-0.14001304777428203 - u^H(Op^Hv)=-0.14001304777427492\n"
     ]
    },
    {
     "data": {
      "image/png": "[encoded data removed]",
      "text/plain": [
       "<Figure size 720x216 with 4 Axes>"
      ]
     },
     "metadata": {
      "needs_background": "light"
     },
     "output_type": "display_data"
    }
   ],
   "source": [
    "A= cp.zeros((11,21))\n",
    "A[5,10]=1\n",
    "\n",
    "L2op = Laplacian([11,21], weights=[1,1], edge=True, dtype='float64')\n",
    "dottest(L2op,11*21,11*21, verb=True, backend='cupy')\n",
    "\n",
    "\n",
    "B=np.reshape(L2op*A.ravel(),(11,21))\n",
    "\n",
    "fig = plt.figure(figsize=(10,3))\n",
    "fig.suptitle('Laplacian',fontsize=14, fontweight='bold')\n",
    "ax = plt.subplot(1,2,1)\n",
    "imh = ax.imshow(cp.asnumpy(A),interpolation='nearest')\n",
    "ax.axis('tight')\n",
    "ax.set_title('x')\n",
    "plt.colorbar(imh)\n",
    "ax = plt.subplot(1,2,2)\n",
    "imh = ax.imshow(cp.asnumpy(B),interpolation='nearest')\n",
    "ax.axis('tight')\n",
    "ax.set_title('y=(D_x+D_y) x')\n",
    "plt.colorbar(imh);"
   ]
  },
  {
   "cell_type": "code",
   "execution_count": 493,
   "metadata": {
    "colab": {
     "base_uri": "https://localhost:8080/",
     "height": 248
    },
    "executionInfo": {
     "elapsed": 79738,
     "status": "ok",
     "timestamp": 1604254605437,
     "user": {
      "displayName": "Matteo Ravasi",
      "photoUrl": "",
      "userId": "06412456769040614383"
     },
     "user_tz": -60
    },
    "id": "jS1cn0hEKZyI",
    "outputId": "7122a9c0-f808-4386-ebd9-f9ac946683cc"
   },
   "outputs": [
    {
     "name": "stdout",
     "output_type": "stream",
     "text": [
      "Dot test passed, v^H(Opu)=191.45989990234375 - u^H(Op^Hv)=191.45986938476562\n"
     ]
    },
    {
     "data": {
      "image/png": "[encoded data removed]",
      "text/plain": [
       "<Figure size 720x216 with 4 Axes>"
      ]
     },
     "metadata": {
      "needs_background": "light"
     },
     "output_type": "display_data"
    }
   ],
   "source": [
    "L2op = Laplacian([11,21], weights=[3,1], edge=True, dtype='float32')\n",
    "dottest(L2op,11*21,11*21, atol=1e-4, verb=True, backend='cupy')\n",
    "\n",
    "B=np.reshape(L2op*A.ravel(),(11,21))\n",
    "\n",
    "fig = plt.figure(figsize=(10,3))\n",
    "fig.suptitle('Laplacian',fontsize=14, fontweight='bold')\n",
    "ax = plt.subplot(1,2,1)\n",
    "imh = ax.imshow(cp.asnumpy(A),interpolation='nearest')\n",
    "ax.axis('tight')\n",
    "ax.set_title('x')\n",
    "plt.colorbar(imh)\n",
    "ax = plt.subplot(1,2,2)\n",
    "imh = ax.imshow(cp.asnumpy(B),interpolation='nearest')\n",
    "ax.axis('tight')\n",
    "ax.set_title('y=(D_x+D_y) x')\n",
    "plt.colorbar(imh);"
   ]
  },
  {
   "cell_type": "code",
   "execution_count": 494,
   "metadata": {
    "colab": {
     "base_uri": "https://localhost:8080/"
    },
    "executionInfo": {
     "elapsed": 79946,
     "status": "ok",
     "timestamp": 1604254605691,
     "user": {
      "displayName": "Matteo Ravasi",
      "photoUrl": "",
      "userId": "06412456769040614383"
     },
     "user_tz": -60
    },
    "id": "AvI3bHXQJwD5",
    "outputId": "cfd55725-3093-460e-a71a-058a27f46635"
   },
   "outputs": [
    {
     "name": "stdout",
     "output_type": "stream",
     "text": [
      "4.78 ms ± 225 µs per loop (mean ± std. dev. of 3 runs, 10 loops each)\n",
      "242 µs ± 43.3 µs per loop (mean ± std. dev. of 3 runs, 10 loops each)\n"
     ]
    }
   ],
   "source": [
    "D2op = Laplacian([2001,201], dtype='float64')\n",
    "\n",
    "x = np.ones(2001*201)\n",
    "xc = cp.ones(2001*201)\n",
    "\n",
    "%timeit -n10 -r3 D2op * x\n",
    "%timeit -n10 -r3 D2op * xc"
   ]
  },
  {
   "cell_type": "markdown",
   "metadata": {
    "id": "Pcn2I8VUKgHQ"
   },
   "source": [
    "# Gradient"
   ]
  },
  {
   "cell_type": "code",
   "execution_count": 495,
   "metadata": {
    "colab": {
     "base_uri": "https://localhost:8080/",
     "height": 248
    },
    "executionInfo": {
     "elapsed": 80659,
     "status": "ok",
     "timestamp": 1604254606455,
     "user": {
      "displayName": "Matteo Ravasi",
      "photoUrl": "",
      "userId": "06412456769040614383"
     },
     "user_tz": -60
    },
    "id": "vTErgvuuJyzb",
    "outputId": "b3c639a0-06e6-4ec4-ad9c-97a61429fad8"
   },
   "outputs": [
    {
     "name": "stdout",
     "output_type": "stream",
     "text": [
      "Dot test passed, v^H(Opu)=-3.758450184792638 - u^H(Op^Hv)=-3.758450184792639\n"
     ]
    },
    {
     "data": {
      "image/png": "[encoded data removed]",
      "text/plain": [
       "<Figure size 1080x216 with 6 Axes>"
      ]
     },
     "metadata": {
      "needs_background": "light"
     },
     "output_type": "display_data"
    }
   ],
   "source": [
    "A= cp.zeros((11,21))\n",
    "A[5,10]=1\n",
    "\n",
    "G2op = Gradient([11,21], edge=True, dtype='float64')\n",
    "dottest(G2op,11*21*2,11*21, verb=True, backend='cupy')\n",
    "\n",
    "B=np.reshape(G2op*A.ravel(),(2*11,21))\n",
    "C=np.reshape(G2op.H*B.ravel(),(11,21))\n",
    "\n",
    "fig = plt.figure(figsize=(15,3))\n",
    "fig.suptitle('Gradient',fontsize=14, fontweight='bold')\n",
    "ax = plt.subplot(1,3,1)\n",
    "imh = ax.imshow(cp.asnumpy(A), interpolation='nearest')\n",
    "ax.axis('tight')\n",
    "ax.set_title('x')\n",
    "plt.colorbar(imh)\n",
    "ax = plt.subplot(1,3,2)\n",
    "imh = ax.imshow(cp.asnumpy(B), interpolation='nearest')\n",
    "ax.axis('tight')\n",
    "ax.set_title('y')\n",
    "plt.colorbar(imh)\n",
    "ax = plt.subplot(1,3,3)\n",
    "imh = ax.imshow(cp.asnumpy(C), interpolation='nearest')\n",
    "ax.axis('tight')\n",
    "ax.set_title('xadj')\n",
    "plt.colorbar(imh);"
   ]
  },
  {
   "cell_type": "markdown",
   "metadata": {
    "id": "QsGfWje9NLDX"
   },
   "source": [
    "# Concatenations"
   ]
  },
  {
   "cell_type": "code",
   "execution_count": 496,
   "metadata": {
    "colab": {
     "base_uri": "https://localhost:8080/",
     "height": 248
    },
    "executionInfo": {
     "elapsed": 81327,
     "status": "ok",
     "timestamp": 1604254607181,
     "user": {
      "displayName": "Matteo Ravasi",
      "photoUrl": "",
      "userId": "06412456769040614383"
     },
     "user_tz": -60
    },
    "id": "cQW4P4_IKu3_",
    "outputId": "9464005c-4f1f-46a7-b89b-70e9fd212170"
   },
   "outputs": [
    {
     "name": "stdout",
     "output_type": "stream",
     "text": [
      "Dot test passed, v^H(Opu)=-77.81356811523438 - u^H(Op^Hv)=-77.81356048583984\n"
     ]
    },
    {
     "data": {
      "image/png": "[encoded data removed]",
      "text/plain": [
       "<Figure size 720x216 with 4 Axes>"
      ]
     },
     "metadata": {
      "needs_background": "light"
     },
     "output_type": "display_data"
    }
   ],
   "source": [
    "A= cp.zeros((11,21))\n",
    "A[5,10]=1\n",
    "\n",
    "D2hop = SecondDerivative(dims=[11,21], axis=1, dtype='float32')\n",
    "D2vop = SecondDerivative(dims=[11,21], axis=0, dtype='float32')\n",
    "\n",
    "D2op = D2vop*D2hop\n",
    "dottest(D2op, 11*21, 11*21, verb=True, backend='cupy', atol=1e-3)\n",
    "\n",
    "B=np.reshape(D2op*A.ravel(),(11,21))\n",
    "\n",
    "fig = plt.figure(figsize=(10,3))\n",
    "fig.suptitle('Chain',fontsize=14, fontweight='bold')\n",
    "ax = plt.subplot(1,2,1)\n",
    "imh = ax.imshow(cp.asnumpy(A), interpolation='nearest')\n",
    "ax.axis('tight')\n",
    "ax.set_title('x')\n",
    "plt.colorbar(imh)\n",
    "ax = plt.subplot(1,2,2)\n",
    "imh = ax.imshow(cp.asnumpy(B), interpolation='nearest')\n",
    "ax.axis('tight')\n",
    "ax.set_title('y=(D_x+D_y) x')\n",
    "plt.colorbar(imh);"
   ]
  },
  {
   "cell_type": "code",
   "execution_count": 497,
   "metadata": {
    "colab": {
     "base_uri": "https://localhost:8080/",
     "height": 248
    },
    "executionInfo": {
     "elapsed": 81737,
     "status": "ok",
     "timestamp": 1604254607640,
     "user": {
      "displayName": "Matteo Ravasi",
      "photoUrl": "",
      "userId": "06412456769040614383"
     },
     "user_tz": -60
    },
    "id": "_WJN4omOLsyh",
    "outputId": "84152caf-2e72-4857-c4c0-74f6021d3e8b"
   },
   "outputs": [
    {
     "name": "stdout",
     "output_type": "stream",
     "text": [
      "Dot test passed, v^H(Opu)=-41.95457105455091 - u^H(Op^Hv)=-41.9545710545509\n"
     ]
    },
    {
     "data": {
      "image/png": "[encoded data removed]",
      "text/plain": [
       "<Figure size 720x216 with 6 Axes>"
      ]
     },
     "metadata": {
      "needs_background": "light"
     },
     "output_type": "display_data"
    }
   ],
   "source": [
    "D2hop = SecondDerivative(dims=[11,21], axis=1, dtype='float64')\n",
    "D2vop = SecondDerivative(dims=[11,21], axis=0, dtype='float64')\n",
    "\n",
    "Vstackop = VStack([D2vop,D2hop])\n",
    "dottest(Vstackop, 2*11*21, 11*21, verb=True, backend='cupy')\n",
    "\n",
    "B=np.reshape(Vstackop*A.ravel(),(11*2,21))\n",
    "B1 = B[0:11]\n",
    "B2 = B[11:]\n",
    "\n",
    "fig = plt.figure(figsize=(10,3))\n",
    "fig.suptitle('Vertical stacking',fontsize=14, fontweight='bold')\n",
    "ax = plt.subplot(1,3,1)\n",
    "imh = ax.imshow(cp.asnumpy(A),interpolation='nearest')\n",
    "ax.axis('tight')\n",
    "ax.set_title('x')\n",
    "plt.colorbar(imh)\n",
    "ax = plt.subplot(1,3,2)\n",
    "imh = ax.imshow(cp.asnumpy(B1),interpolation='nearest')\n",
    "ax.axis('tight')\n",
    "ax.set_title('y=D_y x')\n",
    "plt.colorbar(imh)\n",
    "ax = plt.subplot(1,3,3)\n",
    "imh = ax.imshow(cp.asnumpy(B2),interpolation='nearest')\n",
    "ax.axis('tight')\n",
    "ax.set_title('y=D_x x')\n",
    "plt.colorbar(imh);"
   ]
  },
  {
   "cell_type": "code",
   "execution_count": 498,
   "metadata": {
    "colab": {
     "base_uri": "https://localhost:8080/",
     "height": 248
    },
    "executionInfo": {
     "elapsed": 82154,
     "status": "ok",
     "timestamp": 1604254608109,
     "user": {
      "displayName": "Matteo Ravasi",
      "photoUrl": "",
      "userId": "06412456769040614383"
     },
     "user_tz": -60
    },
    "id": "jrteFOrwNeu-",
    "outputId": "501419fc-37d6-4d01-9095-eea6ddbc6e8b"
   },
   "outputs": [
    {
     "name": "stdout",
     "output_type": "stream",
     "text": [
      "Dot test passed, v^H(Opu)=-3.2376665476524913 - u^H(Op^Hv)=-3.2376665476525055\n"
     ]
    },
    {
     "data": {
      "image/png": "[encoded data removed]",
      "text/plain": [
       "<Figure size 720x216 with 4 Axes>"
      ]
     },
     "metadata": {
      "needs_background": "light"
     },
     "output_type": "display_data"
    }
   ],
   "source": [
    "A= cp.zeros((11*3,21))\n",
    "A[5,10]=1\n",
    "A[5+11,10]=1\n",
    "A[5+11*2,10]=1\n",
    "\n",
    "D2hop = SecondDerivative(dims =[11,21], axis=1, dtype='float64')\n",
    "D2vop = SecondDerivative(dims =[11,21], axis=0, dtype='float64')\n",
    "\n",
    "Hstackop = HStack([D2vop,0.5*D2vop,-1*D2hop])\n",
    "dottest(Hstackop,11*21,3*11*21, verb=True, backend='cupy')\n",
    "\n",
    "B=np.reshape(Hstackop*A.ravel(),(11,21))\n",
    "\n",
    "fig = plt.figure(figsize=(10,3))\n",
    "fig.suptitle('Horizonal stacking',fontsize=14, fontweight='bold')\n",
    "ax = plt.subplot(1,2,1)\n",
    "imh = ax.imshow(cp.asnumpy(A),interpolation='nearest')\n",
    "ax.axis('tight')\n",
    "ax.set_title('x')\n",
    "plt.colorbar(imh)\n",
    "ax = plt.subplot(1,2,2)\n",
    "imh = ax.imshow(cp.asnumpy(B),interpolation='nearest')\n",
    "ax.axis('tight')\n",
    "ax.set_title('y=Hstack x')\n",
    "plt.colorbar(imh);"
   ]
  },
  {
   "cell_type": "code",
   "execution_count": 499,
   "metadata": {
    "colab": {
     "base_uri": "https://localhost:8080/",
     "height": 248
    },
    "executionInfo": {
     "elapsed": 82581,
     "status": "ok",
     "timestamp": 1604254608593,
     "user": {
      "displayName": "Matteo Ravasi",
      "photoUrl": "",
      "userId": "06412456769040614383"
     },
     "user_tz": -60
    },
    "id": "DHpmrnjqNqvM",
    "outputId": "b45149cc-3609-453d-a5dd-9abc51f3fe70"
   },
   "outputs": [
    {
     "name": "stdout",
     "output_type": "stream",
     "text": [
      "Dot test passed, v^H(Opu)=-2.51107466579467 - u^H(Op^Hv)=-2.5110746657946663\n"
     ]
    },
    {
     "data": {
      "image/png": "[encoded data removed]",
      "text/plain": [
       "<Figure size 720x216 with 4 Axes>"
      ]
     },
     "metadata": {
      "needs_background": "light"
     },
     "output_type": "display_data"
    }
   ],
   "source": [
    "Bop = BlockDiag([D2vop,0.5*D2vop,-1*D2hop])\n",
    "dottest(Bop,3*11*21,3*11*21, verb=True, backend='cupy')\n",
    "\n",
    "B=np.reshape(Bop*A.ravel(),(11*3,21))\n",
    "\n",
    "fig = plt.figure(figsize=(10,3))\n",
    "fig.suptitle('Block-diagonal',fontsize=14, fontweight='bold')\n",
    "ax = plt.subplot(1,2,1)\n",
    "imh = ax.imshow(cp.asnumpy(A),interpolation='nearest')\n",
    "ax.axis('tight')\n",
    "ax.set_title('x')\n",
    "plt.colorbar(imh)\n",
    "ax = plt.subplot(1,2,2)\n",
    "imh = ax.imshow(cp.asnumpy(B),interpolation='nearest')\n",
    "ax.axis('tight')\n",
    "ax.set_title('y=BlockDiag x')\n",
    "plt.colorbar(imh);"
   ]
  },
  {
   "cell_type": "code",
   "execution_count": 500,
   "metadata": {
    "colab": {
     "base_uri": "https://localhost:8080/"
    },
    "executionInfo": {
     "elapsed": 82833,
     "status": "ok",
     "timestamp": 1604254608896,
     "user": {
      "displayName": "Matteo Ravasi",
      "photoUrl": "",
      "userId": "06412456769040614383"
     },
     "user_tz": -60
    },
    "id": "pvOMhytURu9F",
    "outputId": "2f2bc546-f439-4eb3-c941-75a74d60e89e"
   },
   "outputs": [
    {
     "name": "stdout",
     "output_type": "stream",
     "text": [
      "<15x10 VStack with dtype=float64>\n",
      "[ 3.  3.  3.  3.  3. -2. -2. -2. -2. -2. -1. -1. -1. -1. -1.]\n",
      "<15x15 VStack with dtype=float64>\n",
      "[ 1.  1.  1.  1.  1.  2.  2.  2.  2.  2. -1. -1. -1. -1. -1.]\n"
     ]
    }
   ],
   "source": [
    "bl = Block([[MatrixMult(cp.ones((5,5))), -2*Identity(5)],\n",
    "            [Zero(5),                    Diagonal(-2*cp.ones(5))],\n",
    "            [Identity(5),                Diagonal(-2*cp.ones(5), dtype=np.float64)]])\n",
    "print(bl)\n",
    "print(bl*cp.ones(10))\n",
    "\n",
    "bl = Block([[Identity(5), Zero(5),     Zero(5)],\n",
    "            [Zero(5),     2*Identity(5), Zero(5)],\n",
    "            [Zero(5),     Zero(5),     -1*Identity(5)]])\n",
    "\n",
    "print(bl)\n",
    "print(bl*cp.ones(15))"
   ]
  },
  {
   "cell_type": "markdown",
   "metadata": {
    "id": "itTxvxaK4fTu"
   },
   "source": [
    "# Causal integration"
   ]
  },
  {
   "cell_type": "code",
   "execution_count": 501,
   "metadata": {
    "colab": {
     "base_uri": "https://localhost:8080/",
     "height": 368
    },
    "executionInfo": {
     "elapsed": 83326,
     "status": "ok",
     "timestamp": 1604254609448,
     "user": {
      "displayName": "Matteo Ravasi",
      "photoUrl": "",
      "userId": "06412456769040614383"
     },
     "user_tz": -60
    },
    "id": "k5aE1YCG66ef",
    "outputId": "49dd569a-f1ea-4a80-df1f-7e23bb035eff"
   },
   "outputs": [
    {
     "name": "stdout",
     "output_type": "stream",
     "text": [
      "Dot test passed, v^H(Opu)=-0.7986635557579237 - u^H(Op^Hv)=-0.7986635557579218\n",
      "Dot test passed, v^H(Opu)=1.3934790184135282 - u^H(Op^Hv)=1.3934790184135277\n"
     ]
    },
    {
     "data": {
      "image/png": "[encoded data removed]",
      "text/plain": [
       "<Figure size 864x360 with 2 Axes>"
      ]
     },
     "metadata": {
      "needs_background": "light"
     },
     "output_type": "display_data"
    }
   ],
   "source": [
    "nt = 21\n",
    "dt = 0.5\n",
    "ot = 0\n",
    "t = np.arange(nt)*dt+ot\n",
    "x = t\n",
    "\n",
    "Cop = CausalIntegration(nt, sampling=dt, kind='full')\n",
    "dottest(Cop,nt,nt, verb=True)\n",
    "\n",
    "Cop = CausalIntegration(nt, sampling=dt, kind='half')\n",
    "dottest(Cop,nt,nt, verb=True)\n",
    "\n",
    "y    = Cop*x\n",
    "yana = t**2/2. - t[0]**2/2. + y[0]\n",
    "\n",
    "xder = np.zeros_like(x)\n",
    "xder[1:-1] = (y[2:]-y[:-2])/(2*dt)\n",
    "xinv = Cop / y\n",
    "\n",
    "# Visualize data and inversion\n",
    "fig, axs = plt.subplots(1, 2, figsize=(12, 5))\n",
    "axs[0].plot(cp.asnumpy(t), cp.asnumpy(yana), 'r', lw=5, label='analytic integration')\n",
    "axs[0].plot(cp.asnumpy(t), cp.asnumpy(y), '--g', lw=3, label='numerical integration')\n",
    "axs[0].legend()\n",
    "axs[0].set_title('Causal integration')\n",
    "\n",
    "axs[1].plot(cp.asnumpy(t), cp.asnumpy(x), 'k', lw=8, label='original')\n",
    "axs[1].plot(cp.asnumpy(t)[1:-1], cp.asnumpy(xder)[1:-1], 'r', lw=5, label='derivative')\n",
    "axs[1].plot(cp.asnumpy(t), cp.asnumpy(xinv), '--g', lw=3, label='inverted')\n",
    "axs[1].legend()\n",
    "axs[1].set_title('Inverse causal integration');"
   ]
  },
  {
   "cell_type": "code",
   "execution_count": 502,
   "metadata": {
    "colab": {
     "base_uri": "https://localhost:8080/",
     "height": 368
    },
    "executionInfo": {
     "elapsed": 84660,
     "status": "ok",
     "timestamp": 1604254610832,
     "user": {
      "displayName": "Matteo Ravasi",
      "photoUrl": "",
      "userId": "06412456769040614383"
     },
     "user_tz": -60
    },
    "id": "1jS_AKir4ijr",
    "outputId": "954f9dfc-ffd5-4382-f1ea-e7a6860988ec"
   },
   "outputs": [
    {
     "name": "stdout",
     "output_type": "stream",
     "text": [
      "Dot test passed, v^H(Opu)=3.3071935181033703 - u^H(Op^Hv)=3.3071935181033703\n",
      "Dot test passed, v^H(Opu)=-2.6198664928085202 - u^H(Op^Hv)=-2.619866492808522\n"
     ]
    },
    {
     "data": {
      "image/png": "[encoded data removed]",
      "text/plain": [
       "<Figure size 864x360 with 2 Axes>"
      ]
     },
     "metadata": {
      "needs_background": "light"
     },
     "output_type": "display_data"
    }
   ],
   "source": [
    "nt = 21\n",
    "dt = 0.5\n",
    "ot = 0\n",
    "t = cp.arange(nt)*dt+ot\n",
    "x = t\n",
    "\n",
    "Cop = CausalIntegration(nt, sampling=dt, kind='full')\n",
    "dottest(Cop,nt,nt, verb=True, backend='cupy')\n",
    "\n",
    "Cop = CausalIntegration(nt, sampling=dt, kind='half')\n",
    "dottest(Cop,nt,nt, verb=True, backend='cupy')\n",
    "\n",
    "y    = Cop*x\n",
    "yana = t**2/2. - t[0]**2/2. + y[0]\n",
    "\n",
    "xder = cp.zeros_like(x)\n",
    "xder[1:-1] = (y[2:]-y[:-2])/(2*dt)\n",
    "xinv = Cop.div(y, 20)\n",
    "\n",
    "# Visualize data and inversion\n",
    "fig, axs = plt.subplots(1, 2, figsize=(12, 5))\n",
    "axs[0].plot(cp.asnumpy(t), cp.asnumpy(yana), 'r', lw=5, label='analytic integration')\n",
    "axs[0].plot(cp.asnumpy(t), cp.asnumpy(y), '--g', lw=3, label='numerical integration')\n",
    "axs[0].legend()\n",
    "axs[0].set_title('Causal integration')\n",
    "\n",
    "axs[1].plot(cp.asnumpy(t), cp.asnumpy(x), 'k', lw=8, label='original')\n",
    "axs[1].plot(cp.asnumpy(t)[1:-1], cp.asnumpy(xder)[1:-1], 'r' , lw=5, label='derivative')\n",
    "axs[1].plot(cp.asnumpy(t), cp.asnumpy(xinv), '--g', lw=3, label='inverted')\n",
    "axs[1].legend()\n",
    "axs[1].set_title('Inverse causal integration');"
   ]
  },
  {
   "cell_type": "code",
   "execution_count": 503,
   "metadata": {
    "colab": {
     "base_uri": "https://localhost:8080/",
     "height": 368
    },
    "executionInfo": {
     "elapsed": 86084,
     "status": "ok",
     "timestamp": 1604254612309,
     "user": {
      "displayName": "Matteo Ravasi",
      "photoUrl": "",
      "userId": "06412456769040614383"
     },
     "user_tz": -60
    },
    "id": "l2dKJBrP4lp2",
    "outputId": "b8501a58-08f5-4832-c070-b73d87c9e37d"
   },
   "outputs": [
    {
     "name": "stdout",
     "output_type": "stream",
     "text": [
      "Dot test passed, v^H(Opu)=-0.6167777249162323 - u^H(Op^Hv)=-0.6167777249162292\n",
      "Dot test passed, v^H(Opu)=-26.918395588130785 - u^H(Op^Hv)=-26.918395588130785\n"
     ]
    },
    {
     "data": {
      "image/png": "[encoded data removed]",
      "text/plain": [
       "<Figure size 864x360 with 2 Axes>"
      ]
     },
     "metadata": {
      "needs_background": "light"
     },
     "output_type": "display_data"
    }
   ],
   "source": [
    "nt = 80\n",
    "dt = .6\n",
    "ot = 0\n",
    "t = cp.arange(nt)*dt+ot\n",
    "x = cp.sin(t)\n",
    "\n",
    "Cop = CausalIntegration(nt,sampling=dt, kind='full')\n",
    "dottest(Cop,nt,nt, verb=True, backend='cupy')\n",
    "\n",
    "Cop = CausalIntegration(nt,sampling=dt, kind='half')\n",
    "dottest(Cop,nt,nt, verb=True, backend='cupy')\n",
    "\n",
    "yana = -cp.cos(t) + cp.cos(t[0])\n",
    "y    = Cop*x\n",
    "\n",
    "xinv = Cop / y\n",
    "\n",
    "# Numerical derivative\n",
    "Dop = FirstDerivative(nt, sampling=dt)\n",
    "xder = Dop*y\n",
    "\n",
    "# Visualize data and inversion\n",
    "fig, axs = plt.subplots(1, 2, figsize=(12, 5))\n",
    "axs[0].plot(cp.asnumpy(t), cp.asnumpy(yana), 'r' , lw=5,   label='analytic integration')\n",
    "axs[0].plot(cp.asnumpy(t), cp.asnumpy(y), '--g' , lw=3,   label='numerical integration')\n",
    "axs[0].legend()\n",
    "axs[0].set_title('Causal integration')\n",
    "\n",
    "axs[1].plot(cp.asnumpy(t), cp.asnumpy(x), 'k' , lw=8,   label='original')\n",
    "axs[1].plot(cp.asnumpy(t)[1:-1], cp.asnumpy(xder)[1:-1], 'r' , lw=5,   label='derivative')\n",
    "axs[1].plot(cp.asnumpy(t), cp.asnumpy(xinv), '--g' , lw=3,   label='inverted')\n",
    "axs[1].legend()\n",
    "axs[1].set_title('Inverse causal integration');"
   ]
  },
  {
   "cell_type": "code",
   "execution_count": 504,
   "metadata": {
    "colab": {
     "base_uri": "https://localhost:8080/",
     "height": 312
    },
    "executionInfo": {
     "elapsed": 87274,
     "status": "ok",
     "timestamp": 1604254613553,
     "user": {
      "displayName": "Matteo Ravasi",
      "photoUrl": "",
      "userId": "06412456769040614383"
     },
     "user_tz": -60
    },
    "id": "gG-_ae0s93J2",
    "outputId": "1314a68a-d17e-4078-c956-2969b675388f"
   },
   "outputs": [
    {
     "name": "stdout",
     "output_type": "stream",
     "text": [
      "Dot test passed, v^H(Opu)=64.42756514445703 - u^H(Op^Hv)=64.42756514445706\n"
     ]
    },
    {
     "data": {
      "text/plain": [
       "(-0.5, 40.5, 79.5, -0.5)"
      ]
     },
     "execution_count": 504,
     "metadata": {},
     "output_type": "execute_result"
    },
    {
     "data": {
      "image/png": "[encoded data removed]",
      "text/plain": [
       "<Figure size 1296x288 with 4 Axes>"
      ]
     },
     "metadata": {
      "needs_background": "light"
     },
     "output_type": "display_data"
    }
   ],
   "source": [
    "nt, nx = 80, 41\n",
    "dt = .3\n",
    "ot = 0\n",
    "t = cp.arange(nt)*dt+ot\n",
    "x = cp.outer(cp.sin(t), cp.ones(nx))\n",
    "\n",
    "Cop = CausalIntegration(dims=(nt, nx), sampling=dt, axis=0, kind='half')\n",
    "dottest(Cop, nt*nx, nt*nx, verb=True, backend='cupy')\n",
    "\n",
    "# numerical integration\n",
    "y = Cop*x.flatten()\n",
    "y = y.reshape(nt, nx)\n",
    "\n",
    "#analytical integration \n",
    "yana = cp.outer(-cp.cos(t), cp.ones(nx)) + cp.cos(t[0])\n",
    "yana = yana.reshape(nt, nx)\n",
    "\n",
    "# Numerical derivative\n",
    "Dop = FirstDerivative(dims=(nt, nx), axis=0, sampling=dt)\n",
    "xder = Dop*y.flatten()\n",
    "xder = xder.reshape(nt, nx)\n",
    "\n",
    "xinv = Cop / y.flatten()\n",
    "xinv = xinv.reshape(nt, nx)\n",
    "\n",
    "# Visualize data and inversion\n",
    "vmax = 2*np.max(np.abs(x))        \n",
    "fig, axs = plt.subplots(1, 4, figsize=(18, 4))\n",
    "axs[0].imshow(cp.asnumpy(x), cmap='seismic', vmin=-vmax, vmax=vmax)\n",
    "axs[0].set_title('Model')\n",
    "axs[0].axis('tight')\n",
    "axs[1].imshow(cp.asnumpy(y), cmap='seismic', vmin=-vmax, vmax=vmax)\n",
    "axs[1].set_title('Data')\n",
    "axs[1].axis('tight')\n",
    "axs[2].imshow(cp.asnumpy(xder), cmap='seismic', vmin=-vmax, vmax=vmax)\n",
    "axs[2].set_title('Numerical derivative')\n",
    "axs[2].axis('tight')\n",
    "axs[3].imshow(cp.asnumpy(xinv), cmap='seismic', vmin=-vmax, vmax=vmax)\n",
    "axs[3].set_title('Inverse')\n",
    "axs[3].axis('tight')"
   ]
  },
  {
   "cell_type": "markdown",
   "metadata": {
    "id": "sMwInCAx_OhT"
   },
   "source": [
    "# Flip"
   ]
  },
  {
   "cell_type": "code",
   "execution_count": 505,
   "metadata": {
    "colab": {
     "base_uri": "https://localhost:8080/",
     "height": 369
    },
    "executionInfo": {
     "elapsed": 87919,
     "status": "ok",
     "timestamp": 1604254614248,
     "user": {
      "displayName": "Matteo Ravasi",
      "photoUrl": "",
      "userId": "06412456769040614383"
     },
     "user_tz": -60
    },
    "id": "2AuZLjS4--xq",
    "outputId": "33c875d1-7050-421f-a132-220a04e6311d"
   },
   "outputs": [
    {
     "name": "stdout",
     "output_type": "stream",
     "text": [
      "Dot test passed, v^H(Opu)=-1.4885207981178241 - u^H(Op^Hv)=-1.4885207981178241\n"
     ]
    },
    {
     "data": {
      "text/plain": [
       "<matplotlib.legend.Legend at 0x14c779f01730>"
      ]
     },
     "execution_count": 505,
     "metadata": {},
     "output_type": "execute_result"
    },
    {
     "data": {
      "image/png": "[encoded data removed]",
      "text/plain": [
       "<Figure size 720x360 with 1 Axes>"
      ]
     },
     "metadata": {
      "needs_background": "light"
     },
     "output_type": "display_data"
    }
   ],
   "source": [
    "nt = 10\n",
    "x = cp.arange(nt)\n",
    "\n",
    "Fop = Flip(nt)\n",
    "dottest(Fop, nt, nt, verb=True, backend='cupy')\n",
    "\n",
    "y = Fop*x\n",
    "xadj = Fop.H*y\n",
    "\n",
    "plt.figure(figsize=(10, 5))\n",
    "plt.plot(cp.asnumpy(x), 'k', lw=3, label=r'$x$')\n",
    "plt.plot(cp.asnumpy(y), 'r', lw=3, label=r'$y=Fx$')\n",
    "plt.plot(cp.asnumpy(xadj), '--g', lw=3, label=r'$x_{adj} = F^H x$')\n",
    "plt.title('Flip in 1st direction', fontsize=14, fontweight='bold')\n",
    "plt.legend()"
   ]
  },
  {
   "cell_type": "code",
   "execution_count": 506,
   "metadata": {
    "colab": {
     "base_uri": "https://localhost:8080/",
     "height": 352
    },
    "executionInfo": {
     "elapsed": 88268,
     "status": "ok",
     "timestamp": 1604254614640,
     "user": {
      "displayName": "Matteo Ravasi",
      "photoUrl": "",
      "userId": "06412456769040614383"
     },
     "user_tz": -60
    },
    "id": "pks8_NJuA1ue",
    "outputId": "4bac8d1d-485a-4599-9ba9-2d436cb3f432"
   },
   "outputs": [
    {
     "name": "stdout",
     "output_type": "stream",
     "text": [
      "Dot test passed, v^H(Opu)=11.754209856569112 - u^H(Op^Hv)=11.754209856569112\n"
     ]
    },
    {
     "data": {
      "image/png": "[encoded data removed]",
      "text/plain": [
       "<Figure size 720x360 with 1 Axes>"
      ]
     },
     "metadata": {
      "needs_background": "light"
     },
     "output_type": "display_data"
    }
   ],
   "source": [
    "nt, nx = 10, 5\n",
    "x = cp.outer(cp.arange(nt), cp.ones(nx))\n",
    "\n",
    "Fop = Flip(dims=(nt, nx), axis=0)\n",
    "dottest(Fop, nt*nx, nt*nx, verb=True, backend='cupy')\n",
    "\n",
    "y = Fop*x.flatten()\n",
    "xadj = Fop.H*y.flatten()\n",
    "y = y.reshape(nt, nx)\n",
    "xadj = xadj.reshape(nt, nx)\n",
    "\n",
    "plt.figure(figsize=(10, 5))\n",
    "plt.plot(cp.asnumpy(x)[:, nx//2], 'k', lw=3, label=r'$x$')\n",
    "plt.plot(cp.asnumpy(y)[:, nx//2], 'r', lw=3, label=r'$y=Fx$')\n",
    "plt.plot(cp.asnumpy(xadj)[:, nx//2], '--g', lw=3, label=r'$x_{adj} = F^H y$')\n",
    "plt.title('Flip in 1st direction for 2d data', fontsize=14, fontweight='bold')\n",
    "plt.legend();"
   ]
  },
  {
   "cell_type": "code",
   "execution_count": 507,
   "metadata": {
    "colab": {
     "base_uri": "https://localhost:8080/",
     "height": 228
    },
    "executionInfo": {
     "elapsed": 88562,
     "status": "ok",
     "timestamp": 1604254614978,
     "user": {
      "displayName": "Matteo Ravasi",
      "photoUrl": "",
      "userId": "06412456769040614383"
     },
     "user_tz": -60
    },
    "id": "d3ik_UzfBZns",
    "outputId": "8abf1ccc-aa39-4027-a600-18433de2d03f"
   },
   "outputs": [
    {
     "name": "stdout",
     "output_type": "stream",
     "text": [
      "Dot test passed, v^H(Opu)=4.171439891447479 - u^H(Op^Hv)=4.171439891447479\n"
     ]
    },
    {
     "data": {
      "text/plain": [
       "(-0.5, 4.5, 9.5, -0.5)"
      ]
     },
     "execution_count": 507,
     "metadata": {},
     "output_type": "execute_result"
    },
    {
     "data": {
      "image/png": "[encoded data removed]",
      "text/plain": [
       "<Figure size 720x144 with 3 Axes>"
      ]
     },
     "metadata": {
      "needs_background": "light"
     },
     "output_type": "display_data"
    }
   ],
   "source": [
    "nt, nx = 10, 5\n",
    "x = cp.outer(cp.ones(nt), cp.arange(nx))\n",
    "\n",
    "Fop = Flip(dims=(nt, nx), axis=1)\n",
    "dottest(Fop, nt*nx, nt*nx, verb=True, backend='cupy')\n",
    "\n",
    "y = Fop*x.flatten()\n",
    "xadj = Fop.H*y.flatten()\n",
    "y = y.reshape(nt, nx)\n",
    "xadj = xadj.reshape(nt, nx)\n",
    "\n",
    "fig, axs = plt.subplots(1, 3, figsize=(10, 2))\n",
    "fig.suptitle('Flip in 2nd direction for 2d data', fontsize=14, fontweight='bold', y=1.15)\n",
    "axs[0].imshow(cp.asnumpy(x), cmap='rainbow')\n",
    "axs[0].set_title(r'$x$')\n",
    "axs[0].axis('tight')\n",
    "axs[1].imshow(cp.asnumpy(y), cmap='rainbow')\n",
    "axs[1].set_title(r'$y = F x$')\n",
    "axs[1].axis('tight')\n",
    "axs[2].imshow(cp.asnumpy(xadj), cmap='rainbow')\n",
    "axs[2].set_title(r'$x_{adj} = F^H y$')\n",
    "axs[2].axis('tight')"
   ]
  },
  {
   "cell_type": "code",
   "execution_count": 508,
   "metadata": {
    "colab": {
     "base_uri": "https://localhost:8080/",
     "height": 228
    },
    "executionInfo": {
     "elapsed": 89133,
     "status": "ok",
     "timestamp": 1604254615592,
     "user": {
      "displayName": "Matteo Ravasi",
      "photoUrl": "",
      "userId": "06412456769040614383"
     },
     "user_tz": -60
    },
    "id": "UGv4xvsIB096",
    "outputId": "7459311b-4d85-4c0a-f623-ceb03372d952"
   },
   "outputs": [
    {
     "name": "stdout",
     "output_type": "stream",
     "text": [
      "Dot test passed, v^H(Opu)=-0.4281999873274982 - u^H(Op^Hv)=-0.4281999873274982\n"
     ]
    },
    {
     "data": {
      "text/plain": [
       "(-0.5, 3.5, 2.5, -0.5)"
      ]
     },
     "execution_count": 508,
     "metadata": {},
     "output_type": "execute_result"
    },
    {
     "data": {
      "image/png": "[encoded data removed]",
      "text/plain": [
       "<Figure size 720x144 with 3 Axes>"
      ]
     },
     "metadata": {
      "needs_background": "light"
     },
     "output_type": "display_data"
    }
   ],
   "source": [
    "nt, nx, ny = 2, 3, 4\n",
    "x = cp.outer(cp.ones(nt), cp.ones(nx))[:, :, np.newaxis] * cp.arange(ny)\n",
    "\n",
    "Fop = Flip(dims=(nt, nx, ny), axis=2)\n",
    "dottest(Fop, nt*nx*ny, nt*nx*ny, verb=True, backend='cupy')\n",
    "\n",
    "y = Fop*x.flatten()\n",
    "xadj = Fop.H*y.flatten()\n",
    "y = y.reshape(nt, nx, ny)\n",
    "xadj = xadj.reshape(nt, nx, ny)\n",
    "\n",
    "fig, axs = plt.subplots(1, 3, figsize=(10, 2))\n",
    "fig.suptitle('Flip in 3rd direction for 3d data', fontsize=14, fontweight='bold', y=1.15)\n",
    "axs[0].imshow(cp.asnumpy(x)[nt//2], cmap='rainbow')\n",
    "axs[0].set_title(r'$x$')\n",
    "axs[0].axis('tight')\n",
    "axs[1].imshow(cp.asnumpy(y)[nt//2], cmap='rainbow')\n",
    "axs[1].set_title(r'$y = F x$')\n",
    "axs[1].axis('tight')\n",
    "axs[2].imshow(cp.asnumpy(xadj)[nt//2], cmap='rainbow')\n",
    "axs[2].set_title(r'$x_{adj} = F^H y$')\n",
    "axs[2].axis('tight')"
   ]
  },
  {
   "cell_type": "markdown",
   "metadata": {
    "id": "mUKkj9VyDW_v"
   },
   "source": [
    "# Pad"
   ]
  },
  {
   "cell_type": "code",
   "execution_count": 509,
   "metadata": {
    "colab": {
     "base_uri": "https://localhost:8080/"
    },
    "executionInfo": {
     "elapsed": 89478,
     "status": "ok",
     "timestamp": 1604254615984,
     "user": {
      "displayName": "Matteo Ravasi",
      "photoUrl": "",
      "userId": "06412456769040614383"
     },
     "user_tz": -60
    },
    "id": "9dAnkll4DOJt",
    "outputId": "c6033b33-b56c-417e-aaa3-c432c4354f2f"
   },
   "outputs": [
    {
     "name": "stdout",
     "output_type": "stream",
     "text": [
      "Dot test passed, v^H(Opu)=0.856348701711777 - u^H(Op^Hv)=0.856348701711777\n",
      "[ 1.  2.  3.  4.  5.  6.  7.  8.  9. 10.]\n",
      "[ 0.  0.  0.  0.  0.  0.  0.  0.  0.  0.  1.  2.  3.  4.  5.  6.  7.  8.\n",
      "  9. 10.  0.  0.  0.]\n",
      "[ 1.  2.  3.  4.  5.  6.  7.  8.  9. 10.]\n",
      "[ 1.  2.  3.  4.  5.  6.  7.  8.  9. 10.]\n"
     ]
    }
   ],
   "source": [
    "dims = 10\n",
    "pad = (10, 3)\n",
    "\n",
    "Pop = Pad(dims, pad)\n",
    "dottest(Pop, dims+pad[0]+pad[1], dims, verb=True, backend='cupy')\n",
    "\n",
    "x = cp.arange(dims)+1.\n",
    "\n",
    "y = Pop*x\n",
    "xadj = Pop.H*y\n",
    "xinv = Pop / y\n",
    "\n",
    "print(x)\n",
    "print(y)\n",
    "print(xadj)\n",
    "print(xinv)"
   ]
  },
  {
   "cell_type": "code",
   "execution_count": 510,
   "metadata": {
    "colab": {
     "base_uri": "https://localhost:8080/",
     "height": 211
    },
    "executionInfo": {
     "elapsed": 91071,
     "status": "ok",
     "timestamp": 1604254617623,
     "user": {
      "displayName": "Matteo Ravasi",
      "photoUrl": "",
      "userId": "06412456769040614383"
     },
     "user_tz": -60
    },
    "id": "Qfqt9y3yDuSs",
    "outputId": "a435bccc-ce04-42b0-e84a-159c0401f09a"
   },
   "outputs": [
    {
     "name": "stdout",
     "output_type": "stream",
     "text": [
      "Dot test passed, v^H(Opu)=1.9438872312932411 - u^H(Op^Hv)=1.9438872312932405\n"
     ]
    },
    {
     "data": {
      "image/png": "[encoded data removed]",
      "text/plain": [
       "<Figure size 720x144 with 3 Axes>"
      ]
     },
     "metadata": {
      "needs_background": "light"
     },
     "output_type": "display_data"
    }
   ],
   "source": [
    "dims = (5, 4)\n",
    "pad = ((1, 0), (3, 4))\n",
    "\n",
    "Pop = Pad(dims, pad)\n",
    "dottest(Pop, Pop.shape[0], Pop.shape[1], verb=True, backend='cupy')\n",
    "\n",
    "x = (cp.arange(cp.prod(cp.array(dims)))+1.).reshape(dims)\n",
    "\n",
    "y = Pop*x.ravel()\n",
    "xadj = Pop.H*y\n",
    "xinv = Pop / y\n",
    "\n",
    "y = y.reshape(Pop.dimsd)\n",
    "xadj = xadj.reshape(dims)\n",
    "xinv = xinv.reshape(dims)\n",
    "\n",
    "fig, axs = plt.subplots(1, 3, figsize=(10, 2))\n",
    "fig.suptitle('Pad for 2d data', fontsize=14, fontweight='bold', y=1.15)\n",
    "axs[0].imshow(cp.asnumpy(x), cmap='rainbow', vmin=0, vmax=np.prod(np.array(dims))+1)\n",
    "axs[0].set_title(r'$x$')\n",
    "axs[0].axis('tight')\n",
    "axs[1].imshow(cp.asnumpy(y), cmap='rainbow', vmin=0, vmax=np.prod(np.array(dims))+1)\n",
    "axs[1].set_title(r'$y = F x$')\n",
    "axs[1].axis('tight')\n",
    "axs[2].imshow(cp.asnumpy(xadj), cmap='rainbow', vmin=0, vmax=np.prod(np.array(dims))+1)\n",
    "axs[2].set_title(r'$x_{adj} = F^{-1} y$')\n",
    "axs[2].axis('tight');"
   ]
  },
  {
   "cell_type": "markdown",
   "metadata": {
    "id": "HtI8-xrqE4Fp"
   },
   "source": [
    "# Roll"
   ]
  },
  {
   "cell_type": "code",
   "execution_count": 511,
   "metadata": {
    "colab": {
     "base_uri": "https://localhost:8080/"
    },
    "executionInfo": {
     "elapsed": 91556,
     "status": "ok",
     "timestamp": 1604254618161,
     "user": {
      "displayName": "Matteo Ravasi",
      "photoUrl": "",
      "userId": "06412456769040614383"
     },
     "user_tz": -60
    },
    "id": "7my8BfkQFFQm",
    "outputId": "10b1f011-bec6-4331-98fd-896535fd7d23"
   },
   "outputs": [
    {
     "name": "stdout",
     "output_type": "stream",
     "text": [
      "Dot test passed, v^H(Opu)=-2.7842185497283936 - u^H(Op^Hv)=-2.7842185497283936\n",
      "[0.+0.j 1.+1.j 2.+2.j 3.+3.j 4.+4.j 5.+5.j 6.+6.j 7.+7.j 8.+8.j 9.+9.j]\n",
      "[8.+8.j 9.+9.j 0.+0.j 1.+1.j 2.+2.j 3.+3.j 4.+4.j 5.+5.j 6.+6.j 7.+7.j]\n",
      "[0.+0.j 1.+1.j 2.+2.j 3.+3.j 4.+4.j 5.+5.j 6.+6.j 7.+7.j 8.+8.j 9.+9.j]\n"
     ]
    }
   ],
   "source": [
    "n = 10\n",
    "x = cp.arange(n) + 1j * cp.arange(n)\n",
    "\n",
    "Rop = Roll(n, shift=2, dtype='float32')\n",
    "dottest(Rop, n, n, verb=True, backend='cupy')\n",
    "\n",
    "y = Rop * x\n",
    "xadj = Rop.H * y\n",
    "print(x)\n",
    "print(y)\n",
    "print(xadj)"
   ]
  },
  {
   "cell_type": "code",
   "execution_count": 512,
   "metadata": {
    "colab": {
     "base_uri": "https://localhost:8080/"
    },
    "executionInfo": {
     "elapsed": 91504,
     "status": "ok",
     "timestamp": 1604254618163,
     "user": {
      "displayName": "Matteo Ravasi",
      "photoUrl": "",
      "userId": "06412456769040614383"
     },
     "user_tz": -60
    },
    "id": "f_F-J69aFdiw",
    "outputId": "114f58a3-089d-409e-f3a8-4955850f30f6"
   },
   "outputs": [
    {
     "name": "stdout",
     "output_type": "stream",
     "text": [
      "Dot test passed, v^H(Opu)=-2.0827956199645996 - u^H(Op^Hv)=-2.0827956199645996\n",
      "[[0. 0. 0. 0. 0.]\n",
      " [1. 1. 1. 1. 1.]\n",
      " [2. 2. 2. 2. 2.]\n",
      " [3. 3. 3. 3. 3.]\n",
      " [4. 4. 4. 4. 4.]\n",
      " [5. 5. 5. 5. 5.]\n",
      " [6. 6. 6. 6. 6.]\n",
      " [7. 7. 7. 7. 7.]\n",
      " [8. 8. 8. 8. 8.]\n",
      " [9. 9. 9. 9. 9.]]\n",
      "[[2. 2. 2. 2. 2.]\n",
      " [3. 3. 3. 3. 3.]\n",
      " [4. 4. 4. 4. 4.]\n",
      " [5. 5. 5. 5. 5.]\n",
      " [6. 6. 6. 6. 6.]\n",
      " [7. 7. 7. 7. 7.]\n",
      " [8. 8. 8. 8. 8.]\n",
      " [9. 9. 9. 9. 9.]\n",
      " [0. 0. 0. 0. 0.]\n",
      " [1. 1. 1. 1. 1.]]\n",
      "[[0. 0. 0. 0. 0.]\n",
      " [1. 1. 1. 1. 1.]\n",
      " [2. 2. 2. 2. 2.]\n",
      " [3. 3. 3. 3. 3.]\n",
      " [4. 4. 4. 4. 4.]\n",
      " [5. 5. 5. 5. 5.]\n",
      " [6. 6. 6. 6. 6.]\n",
      " [7. 7. 7. 7. 7.]\n",
      " [8. 8. 8. 8. 8.]\n",
      " [9. 9. 9. 9. 9.]]\n"
     ]
    }
   ],
   "source": [
    "ny, nx = 10, 5\n",
    "x = cp.outer(cp.arange(ny), cp.ones(nx)) \n",
    "Rop = Roll(dims=(ny, nx), axis=0, shift=-2, dtype='float32')\n",
    "dottest(Rop, ny * nx, ny * nx, atol=1e-4, verb=True)\n",
    "\n",
    "y = Rop * x.flatten()\n",
    "xadj = Rop.H * y\n",
    "print(x)\n",
    "print(y.reshape(ny, nx))\n",
    "print(xadj.reshape(ny, nx))"
   ]
  },
  {
   "cell_type": "markdown",
   "metadata": {
    "id": "nBr9KTG_Jcku"
   },
   "source": [
    "# Symmetrize"
   ]
  },
  {
   "cell_type": "code",
   "execution_count": 513,
   "metadata": {
    "colab": {
     "base_uri": "https://localhost:8080/",
     "height": 352
    },
    "executionInfo": {
     "elapsed": 91452,
     "status": "ok",
     "timestamp": 1604254618164,
     "user": {
      "displayName": "Matteo Ravasi",
      "photoUrl": "",
      "userId": "06412456769040614383"
     },
     "user_tz": -60
    },
    "id": "Xd94MpocGMgn",
    "outputId": "4b09e4f1-d3ed-43e0-93d7-a1d5bf5f3f3a"
   },
   "outputs": [
    {
     "name": "stdout",
     "output_type": "stream",
     "text": [
      "Dot test passed, v^H(Opu)=13.82422664138463 - u^H(Op^Hv)=13.824226641384632\n"
     ]
    },
    {
     "data": {
      "image/png": "[encoded data removed]",
      "text/plain": [
       "<Figure size 720x360 with 1 Axes>"
      ]
     },
     "metadata": {
      "needs_background": "light"
     },
     "output_type": "display_data"
    }
   ],
   "source": [
    "nt = 10\n",
    "x = cp.arange(nt)+1.\n",
    "\n",
    "Sop = Symmetrize(nt)\n",
    "dottest(Sop, nt*2-1, nt, verb=True, backend='cupy')\n",
    "\n",
    "y = Sop*x\n",
    "xadj = Sop.H*y\n",
    "xinv = Sop / y\n",
    "\n",
    "plt.figure(figsize=(10, 5))\n",
    "plt.plot(cp.asnumpy(x), 'k', lw=3, label=r'$x$')\n",
    "plt.plot(cp.asnumpy(y), 'r', lw=3, label=r'$y=Fx$')\n",
    "plt.plot(cp.asnumpy(xadj), '--g', lw=3, label=r'$x_{adj} = F^H y$')\n",
    "plt.plot(cp.asnumpy(xinv), '--m', lw=3, label=r'$x_{inv} = F^{-1} y$')\n",
    "plt.title('Symmeetrize in 1st direction', fontsize=14, fontweight='bold')\n",
    "plt.legend();"
   ]
  },
  {
   "cell_type": "code",
   "execution_count": 514,
   "metadata": {
    "colab": {
     "base_uri": "https://localhost:8080/",
     "height": 228
    },
    "executionInfo": {
     "elapsed": 91714,
     "status": "ok",
     "timestamp": 1604254618470,
     "user": {
      "displayName": "Matteo Ravasi",
      "photoUrl": "",
      "userId": "06412456769040614383"
     },
     "user_tz": -60
    },
    "id": "RRGOVPbkJefo",
    "outputId": "8c4f5f30-e5c3-4943-b44e-86e1dce467fe"
   },
   "outputs": [
    {
     "name": "stdout",
     "output_type": "stream",
     "text": [
      "Dot test passed, v^H(Opu)=9.39974604315718 - u^H(Op^Hv)=9.39974604315718\n"
     ]
    },
    {
     "data": {
      "text/plain": [
       "(-0.5, 5.5, 9.5, -0.5)"
      ]
     },
     "execution_count": 514,
     "metadata": {},
     "output_type": "execute_result"
    },
    {
     "data": {
      "image/png": "[encoded data removed]",
      "text/plain": [
       "<Figure size 720x144 with 3 Axes>"
      ]
     },
     "metadata": {
      "needs_background": "light"
     },
     "output_type": "display_data"
    }
   ],
   "source": [
    "nt, nx = 10, 6\n",
    "x = cp.outer(cp.arange(nt), cp.ones(nx))\n",
    "\n",
    "Sop = Symmetrize(dims=(nt, nx), axis=0)\n",
    "dottest(Sop, (nt*2-1)*nx, nt*nx, verb=True, backend='cupy')\n",
    "\n",
    "y = Sop*x.flatten()\n",
    "xadj = Sop.H*y.flatten()\n",
    "xinv = Sop / y\n",
    "y = y.reshape(2*nt-1, nx)\n",
    "xadj = xadj.reshape(nt, nx)\n",
    "xinv = xinv.reshape(nt, nx)\n",
    "\n",
    "fig, axs = plt.subplots(1, 3, figsize=(10, 2))\n",
    "fig.suptitle('Symmetrize in 2nd direction for 2d data', fontsize=14, fontweight='bold', y=1.15)\n",
    "axs[0].imshow(cp.asnumpy(x), cmap='rainbow', vmin=0, vmax=9)\n",
    "axs[0].set_title(r'$x$')\n",
    "axs[0].axis('tight')\n",
    "axs[1].imshow(cp.asnumpy(y), cmap='rainbow', vmin=0, vmax=9)\n",
    "axs[1].set_title(r'$y = F x$')\n",
    "axs[1].axis('tight')\n",
    "axs[2].imshow(cp.asnumpy(xinv), cmap='rainbow', vmin=0, vmax=9)\n",
    "axs[2].set_title(r'$x_{inv} = F^{-1} y$')\n",
    "axs[2].axis('tight')"
   ]
  },
  {
   "cell_type": "markdown",
   "metadata": {
    "id": "_yDZb3h0L8JM"
   },
   "source": [
    "# Kronecker Product"
   ]
  },
  {
   "cell_type": "code",
   "execution_count": 515,
   "metadata": {
    "colab": {
     "base_uri": "https://localhost:8080/"
    },
    "executionInfo": {
     "elapsed": 91936,
     "status": "ok",
     "timestamp": 1604254618734,
     "user": {
      "displayName": "Matteo Ravasi",
      "photoUrl": "",
      "userId": "06412456769040614383"
     },
     "user_tz": -60
    },
    "id": "Ma0KmP-eKy-X",
    "outputId": "e18fb80e-2427-43a9-d6c0-1984b401d99b"
   },
   "outputs": [
    {
     "name": "stdout",
     "output_type": "stream",
     "text": [
      "Dot test passed, v^H(Opu)=-204.58037970927506 - u^H(Op^Hv)=-204.58037970927518\n",
      "[1. 1. 1. 1. 1. 1. 1. 1. 1. 1. 1. 1. 1. 1. 1.]\n",
      "[1. 1. 1. 1. 1. 1. 1. 1. 1. 1. 1. 1. 1. 1. 1.]\n",
      "[1. 1. 1. 1. 1. 1. 1. 1. 1. 1. 1. 1. 1. 1. 1.]\n"
     ]
    }
   ],
   "source": [
    "n1, m1 = 10, 5\n",
    "n2, m2 = 20, 3\n",
    "A = cp.random.normal(0, 1, (n1, m1))\n",
    "B = 5*cp.ones((n2, m2))\n",
    "x = cp.ones(m1*m2)\n",
    "\n",
    "AB = cp.kron(A, B)\n",
    "y = cp.dot(AB, x)\n",
    "xadj = cp.dot(AB.T, y)\n",
    "\n",
    "Aop = MatrixMult(A)\n",
    "Bop = MatrixMult(B)\n",
    "\n",
    "ABop = Kronecker(Aop, Bop)\n",
    "dottest(ABop, n1*n2, m1*m2, verb=True, backend='cupy')\n",
    "\n",
    "yop = ABop*x\n",
    "xadjop = ABop.H*yop\n",
    "\n",
    "xinv = sp_lsqr(cp.asnumpy(AB), cp.asnumpy(y))[0]\n",
    "xinvop = ABop / yop\n",
    "\n",
    "print(x)\n",
    "print(xinv)\n",
    "print(xinvop)"
   ]
  },
  {
   "cell_type": "code",
   "execution_count": 516,
   "metadata": {
    "colab": {
     "base_uri": "https://localhost:8080/",
     "height": 239
    },
    "executionInfo": {
     "elapsed": 92885,
     "status": "ok",
     "timestamp": 1604254619724,
     "user": {
      "displayName": "Matteo Ravasi",
      "photoUrl": "",
      "userId": "06412456769040614383"
     },
     "user_tz": -60
    },
    "id": "YFqpKK3oMPL5",
    "outputId": "8c3f1c55-5506-4570-c5fe-bcdcd59a9a85"
   },
   "outputs": [
    {
     "name": "stdout",
     "output_type": "stream",
     "text": [
      "<231x231 Kronecker with dtype=float64>\n"
     ]
    },
    {
     "data": {
      "image/png": "[encoded data removed]",
      "text/plain": [
       "<Figure size 720x216 with 4 Axes>"
      ]
     },
     "metadata": {
      "needs_background": "light"
     },
     "output_type": "display_data"
    }
   ],
   "source": [
    "Nv, Nh = 11, 21\n",
    "\n",
    "Iop = Identity(Nv, dtype='float32')\n",
    "D2hop = FirstDerivative(Nh, dtype='float32')\n",
    "\n",
    "X = cp.zeros((Nv, Nh))\n",
    "X[Nv//2, Nh//2] = 1\n",
    "D2hop = Kronecker(Iop, D2hop)\n",
    "print(D2hop)\n",
    "\n",
    "Y = D2hop * X.ravel()\n",
    "Y = Y.reshape(Nv, Nh)\n",
    "\n",
    "fig, axs = plt.subplots(1, 2, figsize=(10, 3))\n",
    "fig.suptitle('Kronecker', fontsize=14,\n",
    "             fontweight='bold', y=0.95)\n",
    "im = axs[0].imshow(cp.asnumpy(X), interpolation='nearest')\n",
    "axs[0].axis('tight')\n",
    "axs[0].set_title(r'$x$')\n",
    "plt.colorbar(im, ax=axs[0])\n",
    "im = axs[1].imshow(cp.asnumpy(Y), interpolation='nearest')\n",
    "axs[1].axis('tight')\n",
    "axs[1].set_title(r'$y$')\n",
    "plt.colorbar(im, ax=axs[1])\n",
    "plt.tight_layout()\n",
    "plt.subplots_adjust(top=0.8);"
   ]
  },
  {
   "cell_type": "code",
   "execution_count": 517,
   "metadata": {
    "colab": {
     "base_uri": "https://localhost:8080/",
     "height": 239
    },
    "executionInfo": {
     "elapsed": 93188,
     "status": "ok",
     "timestamp": 1604254620070,
     "user": {
      "displayName": "Matteo Ravasi",
      "photoUrl": "",
      "userId": "06412456769040614383"
     },
     "user_tz": -60
    },
    "id": "S8J5haO2Mia9",
    "outputId": "f001de6f-322b-4d91-d9c9-d092185f7cfa"
   },
   "outputs": [
    {
     "name": "stdout",
     "output_type": "stream",
     "text": [
      "<231x231 Kronecker with dtype=float64>\n"
     ]
    },
    {
     "data": {
      "image/png": "[encoded data removed]",
      "text/plain": [
       "<Figure size 720x216 with 4 Axes>"
      ]
     },
     "metadata": {
      "needs_background": "light"
     },
     "output_type": "display_data"
    }
   ],
   "source": [
    "Nv, Nh = 11, 21\n",
    "\n",
    "Iop = Identity(Nh, dtype='float32')\n",
    "D2hop = FirstDerivative(Nv, dtype='float32')\n",
    "\n",
    "X = cp.zeros((Nv, Nh))\n",
    "X[Nv//2, Nh//2] = 1\n",
    "D2hop = Kronecker(D2hop, Iop)\n",
    "print(D2hop)\n",
    "\n",
    "Y = D2hop*X.ravel()\n",
    "Y = Y.reshape(Nv, Nh)\n",
    "\n",
    "fig, axs = plt.subplots(1, 2, figsize=(10, 3))\n",
    "fig.suptitle('Kronecker', fontsize=14,\n",
    "             fontweight='bold', y=0.95)\n",
    "im = axs[0].imshow(cp.asnumpy(X), interpolation='nearest')\n",
    "axs[0].axis('tight')\n",
    "axs[0].set_title(r'$x$')\n",
    "plt.colorbar(im, ax=axs[0])\n",
    "im = axs[1].imshow(cp.asnumpy(Y), interpolation='nearest')\n",
    "axs[1].axis('tight')\n",
    "axs[1].set_title(r'$y$')\n",
    "plt.colorbar(im, ax=axs[1])\n",
    "plt.tight_layout()\n",
    "plt.subplots_adjust(top=0.8);"
   ]
  },
  {
   "cell_type": "markdown",
   "metadata": {
    "id": "GWQQDjEKOXUp"
   },
   "source": [
    "# Restriction"
   ]
  },
  {
   "cell_type": "code",
   "execution_count": 518,
   "metadata": {
    "colab": {
     "base_uri": "https://localhost:8080/",
     "height": 351
    },
    "executionInfo": {
     "elapsed": 94199,
     "status": "ok",
     "timestamp": 1604254621138,
     "user": {
      "displayName": "Matteo Ravasi",
      "photoUrl": "",
      "userId": "06412456769040614383"
     },
     "user_tz": -60
    },
    "id": "MfL7a56fOM_4",
    "outputId": "3197d90a-5221-4cdb-8dfb-e217c8cfc4d8"
   },
   "outputs": [
    {
     "name": "stdout",
     "output_type": "stream",
     "text": [
      "Dot test passed, v^H(Opu)=4.27288110110596 - u^H(Op^Hv)=4.272881101105959\n"
     ]
    },
    {
     "data": {
      "image/png": "[encoded data removed]",
      "text/plain": [
       "<Figure size 1080x360 with 1 Axes>"
      ]
     },
     "metadata": {
      "needs_background": "light"
     },
     "output_type": "display_data"
    }
   ],
   "source": [
    "# Signal creation\n",
    "freqs = [ 5., 3., 8.]\n",
    "\n",
    "N=200\n",
    "dt=0.004\n",
    "t = cp.arange(N)*dt\n",
    "x = cp.zeros(N)\n",
    "\n",
    "for freq in freqs:\n",
    "    x = x + cp.sin(2*np.pi*freq*t)\n",
    "    \n",
    "# subsampling locations\n",
    "perc_subsampling=0.4\n",
    "Nsub=int(N*perc_subsampling)\n",
    "\n",
    "iava = np.sort(np.random.permutation(np.arange(N))[:Nsub])\n",
    "\n",
    "# Create restriction operator\n",
    "Rop = Restriction(N, iava, dtype='float64')\n",
    "dottest(Rop, Nsub, N, verb=True, backend='cupy')\n",
    "\n",
    "y = Rop*x\n",
    "ymask = Rop.mask(x)\n",
    "\n",
    "# Visualize data\n",
    "fig = plt.figure(figsize=(15,5))\n",
    "plt.plot(cp.asnumpy(t), cp.asnumpy(x), 'k' , lw=2,   label='original')\n",
    "plt.plot(cp.asnumpy(t)[iava], cp.asnumpy(x)[iava], '.k', ms=20)\n",
    "plt.plot(cp.asnumpy(t)[iava], cp.asnumpy(y), '.r', ms=10, label='available samples')\n",
    "plt.plot(cp.asnumpy(t), ymask, '.g', ms=10, label='all samples')\n",
    "plt.legend()\n",
    "plt.title('Data restriction');"
   ]
  },
  {
   "cell_type": "code",
   "execution_count": 519,
   "metadata": {
    "colab": {
     "base_uri": "https://localhost:8080/"
    },
    "executionInfo": {
     "elapsed": 95704,
     "status": "ok",
     "timestamp": 1604254622679,
     "user": {
      "displayName": "Matteo Ravasi",
      "photoUrl": "",
      "userId": "06412456769040614383"
     },
     "user_tz": -60
    },
    "id": "XR5EUBTuJt4V",
    "outputId": "f0c699bb-ddf9-4466-8407-00df8e0be41d"
   },
   "outputs": [
    {
     "name": "stdout",
     "output_type": "stream",
     "text": [
      "Dot test passed, v^H(Opu)=110.34511342655523 - u^H(Op^Hv)=110.34511342655526\n",
      "Dot test passed, v^H(Opu)=-62.5845165622634 - u^H(Op^Hv)=-62.5845165622634\n",
      "[[0. 0. 0. ... 0. 0. 0.]\n",
      " [0. 0. 0. ... 0. 0. 0.]\n",
      " [0. 0. 0. ... 0. 0. 0.]\n",
      " ...\n",
      " [0. 0. 0. ... 0. 0. 0.]\n",
      " [0. 0. 0. ... 0. 0. 0.]\n",
      " [0. 0. 0. ... 0. 0. 0.]]\n"
     ]
    }
   ],
   "source": [
    "nx, nt = 100, 50\n",
    "x = np.arange(nx*nt).reshape(nx, nt)\n",
    "\n",
    "perc_subsampling = 0.6\n",
    "nxsub = int(np.round(nx*perc_subsampling))\n",
    "\n",
    "iava = np.sort(np.random.permutation(np.arange(nx))[:nxsub])\n",
    "\n",
    "# restriction operator\n",
    "Rop = Restriction(iava=iava, dims=(nx, nt), axis=0, dtype='float64')\n",
    "dottest(Rop, nxsub*nt, nx*nt, verb=True)\n",
    "\n",
    "# data\n",
    "y = Rop*x.ravel()\n",
    "y = y.reshape(nxsub, nt)\n",
    "\n",
    "# adj\n",
    "xadj = Rop.H * y.ravel()\n",
    "xadj = xadj.reshape(nx, nt)\n",
    "\n",
    "# mask\n",
    "ymask = Rop.mask(x.flatten())\n",
    "\n",
    "xc = cp.array(x)\n",
    "\n",
    "# restriction operator\n",
    "Rop = Restriction(iava=cp.array(iava), dims=(nx, nt), axis=0, dtype='float64')\n",
    "dottest(Rop, nxsub*nt, nx*nt, verb=True, backend='cupy')\n",
    "\n",
    "# data\n",
    "yc = Rop*xc.ravel()\n",
    "yc = yc.reshape(nxsub, nt)\n",
    "\n",
    "# adj\n",
    "xadjc = Rop.H * yc.ravel()\n",
    "xadjc = xadjc.reshape(nx, nt)\n",
    "\n",
    "# mask\n",
    "ymask = Rop.mask(xc.flatten())\n",
    "\n",
    "print(xadj-cp.asnumpy(xadjc))"
   ]
  },
  {
   "cell_type": "code",
   "execution_count": 520,
   "metadata": {
    "colab": {
     "base_uri": "https://localhost:8080/"
    },
    "executionInfo": {
     "elapsed": 95673,
     "status": "ok",
     "timestamp": 1604254622683,
     "user": {
      "displayName": "Matteo Ravasi",
      "photoUrl": "",
      "userId": "06412456769040614383"
     },
     "user_tz": -60
    },
    "id": "YyeSSr0WQd-l",
    "outputId": "2b666b43-31da-4fe6-9e0c-2982afd7e8bb"
   },
   "outputs": [
    {
     "name": "stdout",
     "output_type": "stream",
     "text": [
      "Dot test passed, v^H(Opu)=85.44410169798101 - u^H(Op^Hv)=85.44410169798103\n",
      "Dot test passed, v^H(Opu)=-29.114941147839602 - u^H(Op^Hv)=-29.114941147839616\n",
      "[[0. 0. 0. ... 0. 0. 0.]\n",
      " [0. 0. 0. ... 0. 0. 0.]\n",
      " [0. 0. 0. ... 0. 0. 0.]\n",
      " ...\n",
      " [0. 0. 0. ... 0. 0. 0.]\n",
      " [0. 0. 0. ... 0. 0. 0.]\n",
      " [0. 0. 0. ... 0. 0. 0.]]\n"
     ]
    }
   ],
   "source": [
    "nx, nt = 100, 50\n",
    "x = np.arange(nx*nt).reshape(nx, nt)\n",
    "\n",
    "perc_subsampling = 0.6\n",
    "ntsub = int(np.round(nt*perc_subsampling))\n",
    "\n",
    "iava = np.sort(np.random.permutation(np.arange(nt))[:ntsub])\n",
    "\n",
    "# restriction operator\n",
    "Rop = Restriction(iava=iava, dims=(nx, nt), axis=1, dtype='float64')\n",
    "dottest(Rop, nx*ntsub, nx*nt, verb=True)\n",
    "\n",
    "# data\n",
    "y = Rop*x.ravel()\n",
    "y = y.reshape(nx, ntsub)\n",
    "\n",
    "# adj\n",
    "xadj = Rop.H * y.ravel()\n",
    "xadj = xadj.reshape(nx, nt)\n",
    "\n",
    "# mask\n",
    "ymask = Rop.mask(x.flatten())\n",
    "\n",
    "xc = cp.array(x)\n",
    "\n",
    "# restriction operator\n",
    "Rop = Restriction(iava=cp.array(iava), dims=(nx, nt), axis=1, dtype='float64')\n",
    "dottest(Rop, nx*ntsub, nx*nt, verb=True, backend='cupy')\n",
    "\n",
    "# data\n",
    "yc = Rop*xc.ravel()\n",
    "yc = yc.reshape(nx, ntsub)\n",
    "\n",
    "# adj\n",
    "xadjc = Rop.H * yc.ravel()\n",
    "xadjc = xadjc.reshape(nx, nt)\n",
    "\n",
    "# mask\n",
    "ymask = Rop.mask(xc.flatten())\n",
    "\n",
    "print(xadj-cp.asnumpy(xadjc))"
   ]
  },
  {
   "cell_type": "code",
   "execution_count": 521,
   "metadata": {
    "colab": {
     "base_uri": "https://localhost:8080/"
    },
    "executionInfo": {
     "elapsed": 96121,
     "status": "ok",
     "timestamp": 1604254623165,
     "user": {
      "displayName": "Matteo Ravasi",
      "photoUrl": "",
      "userId": "06412456769040614383"
     },
     "user_tz": -60
    },
    "id": "MSxEQz6g87nt",
    "outputId": "6f7ecdce-a4cd-4e4f-99ee-cc604bff8d70"
   },
   "outputs": [
    {
     "name": "stdout",
     "output_type": "stream",
     "text": [
      "Dot test passed, v^H(Opu)=197.39214944750762 - u^H(Op^Hv)=197.39214944750773\n",
      "Dot test passed, v^H(Opu)=-369.3146379428204 - u^H(Op^Hv)=-369.31463794282035\n",
      "[[[0. 0. 0. ... 0. 0. 0.]\n",
      "  [0. 0. 0. ... 0. 0. 0.]\n",
      "  [0. 0. 0. ... 0. 0. 0.]\n",
      "  ...\n",
      "  [0. 0. 0. ... 0. 0. 0.]\n",
      "  [0. 0. 0. ... 0. 0. 0.]\n",
      "  [0. 0. 0. ... 0. 0. 0.]]\n",
      "\n",
      " [[0. 0. 0. ... 0. 0. 0.]\n",
      "  [0. 0. 0. ... 0. 0. 0.]\n",
      "  [0. 0. 0. ... 0. 0. 0.]\n",
      "  ...\n",
      "  [0. 0. 0. ... 0. 0. 0.]\n",
      "  [0. 0. 0. ... 0. 0. 0.]\n",
      "  [0. 0. 0. ... 0. 0. 0.]]\n",
      "\n",
      " [[0. 0. 0. ... 0. 0. 0.]\n",
      "  [0. 0. 0. ... 0. 0. 0.]\n",
      "  [0. 0. 0. ... 0. 0. 0.]\n",
      "  ...\n",
      "  [0. 0. 0. ... 0. 0. 0.]\n",
      "  [0. 0. 0. ... 0. 0. 0.]\n",
      "  [0. 0. 0. ... 0. 0. 0.]]\n",
      "\n",
      " ...\n",
      "\n",
      " [[0. 0. 0. ... 0. 0. 0.]\n",
      "  [0. 0. 0. ... 0. 0. 0.]\n",
      "  [0. 0. 0. ... 0. 0. 0.]\n",
      "  ...\n",
      "  [0. 0. 0. ... 0. 0. 0.]\n",
      "  [0. 0. 0. ... 0. 0. 0.]\n",
      "  [0. 0. 0. ... 0. 0. 0.]]\n",
      "\n",
      " [[0. 0. 0. ... 0. 0. 0.]\n",
      "  [0. 0. 0. ... 0. 0. 0.]\n",
      "  [0. 0. 0. ... 0. 0. 0.]\n",
      "  ...\n",
      "  [0. 0. 0. ... 0. 0. 0.]\n",
      "  [0. 0. 0. ... 0. 0. 0.]\n",
      "  [0. 0. 0. ... 0. 0. 0.]]\n",
      "\n",
      " [[0. 0. 0. ... 0. 0. 0.]\n",
      "  [0. 0. 0. ... 0. 0. 0.]\n",
      "  [0. 0. 0. ... 0. 0. 0.]\n",
      "  ...\n",
      "  [0. 0. 0. ... 0. 0. 0.]\n",
      "  [0. 0. 0. ... 0. 0. 0.]\n",
      "  [0. 0. 0. ... 0. 0. 0.]]]\n"
     ]
    }
   ],
   "source": [
    "ny, nx, nt = 30, 100, 50\n",
    "x = np.arange(ny*nx*nt).reshape(ny, nx, nt)\n",
    "\n",
    "perc_subsampling = 0.6\n",
    "nysub = int(np.round(nx*perc_subsampling))\n",
    "\n",
    "iava = np.sort(np.random.permutation(np.arange(nx))[:nxsub])\n",
    "\n",
    "# restriction operator\n",
    "Rop = Restriction(iava=iava, dims=(ny, nx, nt), axis=1, dtype='float64')\n",
    "dottest(Rop, ny*nxsub*nt, ny*nx*nt, verb=True)\n",
    "\n",
    "# data\n",
    "y = Rop*x.ravel()\n",
    "y = y.reshape(ny, nxsub, nt)\n",
    "\n",
    "# adj\n",
    "xadj = Rop.H * y.ravel()\n",
    "xadj = xadj.reshape(ny, nx, nt)\n",
    "\n",
    "# mask\n",
    "ymask = Rop.mask(x.flatten())\n",
    "\n",
    "xc = cp.array(x)\n",
    "\n",
    "# restriction operator\n",
    "Rop = Restriction(iava=cp.array(iava), dims=(ny, nx, nt), axis=1, dtype='float64')\n",
    "dottest(Rop, ny*nxsub*nt, ny*nx*nt, verb=True, backend='cupy')\n",
    "\n",
    "# data\n",
    "yc = Rop*xc.ravel()\n",
    "yc = yc.reshape(ny, nxsub, nt)\n",
    "\n",
    "# adj\n",
    "xadjc = Rop.H * yc.ravel()\n",
    "xadjc = xadjc.reshape(ny, nx, nt)\n",
    "\n",
    "# mask\n",
    "ymask = Rop.mask(xc.flatten())\n",
    "\n",
    "print(xadj-cp.asnumpy(xadjc))"
   ]
  },
  {
   "cell_type": "markdown",
   "metadata": {
    "id": "RNUUyK1NkLKz"
   },
   "source": [
    "# Transpose"
   ]
  },
  {
   "cell_type": "code",
   "execution_count": 522,
   "metadata": {
    "colab": {
     "base_uri": "https://localhost:8080/",
     "height": 211
    },
    "executionInfo": {
     "elapsed": 96822,
     "status": "ok",
     "timestamp": 1604254623898,
     "user": {
      "displayName": "Matteo Ravasi",
      "photoUrl": "",
      "userId": "06412456769040614383"
     },
     "user_tz": -60
    },
    "id": "JzrPiSR0jf49",
    "outputId": "5a47dc3f-904f-40c4-f961-6ee302a1e9b9"
   },
   "outputs": [
    {
     "name": "stdout",
     "output_type": "stream",
     "text": [
      "Dot test passed, v^H(Opu)=-63.72518447121016 - u^H(Op^Hv)=-63.72518447121017\n"
     ]
    },
    {
     "data": {
      "image/png": "[encoded data removed]",
      "text/plain": [
       "<Figure size 720x144 with 3 Axes>"
      ]
     },
     "metadata": {
      "needs_background": "light"
     },
     "output_type": "display_data"
    }
   ],
   "source": [
    "dims = (20, 40)\n",
    "x = cp.arange(800).reshape(dims)\n",
    "\n",
    "Top = Transpose(dims=dims, axes=(1,0))\n",
    "dottest(Top, np.prod(dims), np.prod(dims), verb=True, backend='cupy')\n",
    "\n",
    "y = Top * x.ravel()\n",
    "xadj = Top.H * y\n",
    "y = y.reshape(Top.dimsd)\n",
    "xadj = xadj.reshape(Top.dims)\n",
    "\n",
    "fig, axs = plt.subplots(1, 3, figsize=(10, 2))\n",
    "fig.suptitle('Transpose for 2d data', fontsize=14, fontweight='bold', y=1.15)\n",
    "axs[0].imshow(cp.asnumpy(x), cmap='rainbow', vmin=0, vmax=800)\n",
    "axs[0].set_title(r'$x$')\n",
    "axs[0].axis('tight')\n",
    "axs[1].imshow(cp.asnumpy(y), cmap='rainbow', vmin=0, vmax=800)\n",
    "axs[1].set_title(r'$y = F x$')\n",
    "axs[1].axis('tight')\n",
    "axs[2].imshow(cp.asnumpy(xadj), cmap='rainbow', vmin=0, vmax=800)\n",
    "axs[2].set_title(r'$x_{adj} = F^{-1} y$')\n",
    "axs[2].axis('tight');"
   ]
  },
  {
   "cell_type": "code",
   "execution_count": 523,
   "metadata": {
    "colab": {
     "base_uri": "https://localhost:8080/"
    },
    "executionInfo": {
     "elapsed": 97347,
     "status": "ok",
     "timestamp": 1604254624428,
     "user": {
      "displayName": "Matteo Ravasi",
      "photoUrl": "",
      "userId": "06412456769040614383"
     },
     "user_tz": -60
    },
    "id": "J95Tf_CXkQ-I",
    "outputId": "3bedc4e3-ad62-4b26-f400-91118fc99cb3"
   },
   "outputs": [
    {
     "name": "stdout",
     "output_type": "stream",
     "text": [
      "Dot test passed, v^H(Opu)=-7.953280274832627 - u^H(Op^Hv)=-7.953280274832629\n",
      "True\n"
     ]
    }
   ],
   "source": [
    "dims = (10, 5, 4)\n",
    "x = cp.arange(np.prod(dims)).reshape(dims)\n",
    "\n",
    "Top = Transpose(dims=dims, axes=(2, 1, 0))\n",
    "dottest(Top, np.prod(dims), np.prod(dims), verb=True, backend='cupy')\n",
    "\n",
    "y = Top * x.ravel()\n",
    "xadj = Top.H * y\n",
    "y = y.reshape(Top.dimsd)\n",
    "xadj = xadj.reshape(Top.dims)\n",
    "\n",
    "print(cp.allclose(x, xadj))"
   ]
  },
  {
   "cell_type": "markdown",
   "metadata": {
    "id": "7QuMuX4OnzkS"
   },
   "source": [
    "# Function operator"
   ]
  },
  {
   "cell_type": "code",
   "execution_count": 524,
   "metadata": {
    "colab": {
     "base_uri": "https://localhost:8080/"
    },
    "executionInfo": {
     "elapsed": 97354,
     "status": "ok",
     "timestamp": 1604254624442,
     "user": {
      "displayName": "Matteo Ravasi",
      "photoUrl": "",
      "userId": "06412456769040614383"
     },
     "user_tz": -60
    },
    "id": "pu1VqzHznz7a",
    "outputId": "634597d5-a00e-4311-87b2-b110eb06cb42"
   },
   "outputs": [
    {
     "data": {
      "text/plain": [
       "array([21.57543562,  8.55017775, 27.51214563, 23.21368287,  7.63078282])"
      ]
     },
     "execution_count": 524,
     "metadata": {},
     "output_type": "execute_result"
    }
   ],
   "source": [
    "G = cp.random.normal(0, 1, (10, 5))\n",
    "\n",
    "def forward_f(x):\n",
    "    return G @ x\n",
    "def adjoint_f(x):\n",
    "    return G.T @ x\n",
    "Fop = FunctionOperator(forward_f, adjoint_f, 10, 5)\n",
    "\n",
    "x = cp.ones(5)\n",
    "y = Fop @ x\n",
    "Fop.H @ y"
   ]
  },
  {
   "cell_type": "markdown",
   "metadata": {
    "id": "2z0H1wjppLq1"
   },
   "source": [
    "Directional derivatives"
   ]
  },
  {
   "cell_type": "code",
   "execution_count": 525,
   "metadata": {
    "colab": {
     "base_uri": "https://localhost:8080/"
    },
    "executionInfo": {
     "elapsed": 98286,
     "status": "ok",
     "timestamp": 1604254625380,
     "user": {
      "displayName": "Matteo Ravasi",
      "photoUrl": "",
      "userId": "06412456769040614383"
     },
     "user_tz": -60
    },
    "id": "ffxlhixfoX8x",
    "outputId": "7f5fbe55-1432-45a2-90bf-c7118620eea8"
   },
   "outputs": [
    {
     "name": "stdout",
     "output_type": "stream",
     "text": [
      "Dot test passed, v^H(Opu)=0.9730084387995337 - u^H(Op^Hv)=0.9730081558227539\n",
      "Dot test passed, v^H(Opu)=2.3505709171295166 - u^H(Op^Hv)=2.350569725036621\n"
     ]
    },
    {
     "data": {
      "text/plain": [
       "True"
      ]
     },
     "execution_count": 525,
     "metadata": {},
     "output_type": "execute_result"
    }
   ],
   "source": [
    "Fdop = FirstDirectionalDerivative((20, 10),\n",
    "                                  v=cp.sqrt(2.)/2. * cp.ones(2),\n",
    "                                  sampling=(1., 1.), kind='centered',\n",
    "                                  dtype='float32')\n",
    "dottest(Fdop, 200, 200, atol=1e-3, verb=True, backend='cupy')\n",
    "\n",
    "Fdop = SecondDirectionalDerivative((20, 10),\n",
    "                                   v=cp.sqrt(2.)/2. * cp.ones(2),\n",
    "                                   sampling=(1., 1.), dtype='float32')\n",
    "dottest(Fdop, 200, 200, atol=1e-3, verb=True, backend='cupy')"
   ]
  }
 ],
 "metadata": {
  "accelerator": "GPU",
  "colab": {
   "authorship_tag": "ABX9TyO5r9+OYLc1T9H1iCk7sseB",
   "collapsed_sections": [],
   "name": "Cupy_PYLOPS_basic.ipynb",
   "provenance": [
    {
     "file_id": "1nG9iDz8wwc_8Sa7fxwSFU338xlmDdbRJ",
     "timestamp": 1597609674038
    }
   ],
   "toc_visible": true
  },
  "kernelspec": {
   "display_name": "Python 3.9.12 ('pylops_cupy_cusignal_3090': conda)",
   "language": "python",
   "name": "python3"
  },
  "language_info": {
   "codemirror_mode": {
    "name": "ipython",
    "version": 3
   },
   "file_extension": ".py",
   "mimetype": "text/x-python",
   "name": "python",
   "nbconvert_exporter": "python",
   "pygments_lexer": "ipython3",
   "version": "3.9.12"
  },
  "toc": {
   "base_numbering": 1,
   "nav_menu": {},
   "number_sections": true,
   "sideBar": true,
   "skip_h1_title": false,
   "title_cell": "Table of Contents",
   "title_sidebar": "Contents",
   "toc_cell": false,
   "toc_position": {},
   "toc_section_display": true,
   "toc_window_display": false
  },
  "vscode": {
   "interpreter": {
    "hash": "c27fe88b23d484518624eca1cce745dae2db0a60686a425eb41df47c725cd0a4"
   }
  }
 },
 "nbformat": 4,
 "nbformat_minor": 1
}
