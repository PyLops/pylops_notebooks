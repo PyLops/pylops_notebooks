{
 "cells": [
  {
   "cell_type": "markdown",
   "metadata": {},
   "source": [
    "# Pylops - Non-stationary convolution"
   ]
  },
  {
   "cell_type": "markdown",
   "metadata": {},
   "source": [
    "### Author: M.Ravasi"
   ]
  },
  {
   "cell_type": "markdown",
   "metadata": {},
   "source": [
    "In this notebook we show how to use the ``NonStationaryConvolve2D`` operators to perform non-stationary convolution with on-the-fly interpolation between the available filters (which are provided at a coarser grid then the grid of computation"
   ]
  },
  {
   "cell_type": "code",
   "execution_count": 1,
   "metadata": {},
   "outputs": [],
   "source": [
    "%load_ext autoreload\n",
    "%autoreload 2\n",
    "%matplotlib inline\n",
    "\n",
    "#import warnings\n",
    "#warnings.filterwarnings('ignore')\n",
    "\n",
    "import numpy as np\n",
    "import cupy as cp\n",
    "import matplotlib.pyplot as plt\n",
    "import scipy as sp\n",
    "from scipy.signal import filtfilt\n",
    "from scipy.sparse.linalg import lsqr\n",
    "from numba import jit\n",
    "\n",
    "from pylops                            import LinearOperator\n",
    "from pylops.utils                      import dottest\n",
    "from pylops.utils.wavelets             import *\n",
    "from pylops.utils.seismicevents        import *\n",
    "from pylops.utils.tapers               import *\n",
    "from pylops.basicoperators             import *\n",
    "from pylops.signalprocessing           import *\n",
    "\n",
    "from pylops.optimization.leastsquares  import *\n",
    "from pylops.optimization.sparsity      import *"
   ]
  },
  {
   "cell_type": "code",
   "execution_count": 2,
   "metadata": {},
   "outputs": [
    {
     "data": {
      "image/png": "[encoded data removed]",
      "text/plain": [
       "<Figure size 1500x600 with 4 Axes>"
      ]
     },
     "metadata": {},
     "output_type": "display_data"
    }
   ],
   "source": [
    "nt = 601\n",
    "dt = 0.004\n",
    "t = np.arange(nt)*dt\n",
    "\n",
    "nx, nz = 601, 501\n",
    "\n",
    "wav1a, _, wav1c = ricker(t[:11], f0=15)\n",
    "wav1b = ricker(t[:11], f0=40)[0]\n",
    "wav2 = sp.signal.windows.gaussian(21, 2.)\n",
    "\n",
    "wav11 = np.outer(wav1a, wav2[np.newaxis]).T\n",
    "wav12 = np.outer(wav1b, wav2[np.newaxis]).T\n",
    "wav21 = np.outer(wav1b, wav2[np.newaxis]).T\n",
    "wav22 = np.outer(wav1b, wav2[np.newaxis]).T\n",
    "wavsize = wav11.shape\n",
    "\n",
    "fig, axs = plt.subplots(2, 2, figsize=(15, 6))\n",
    "axs[0,0].imshow(wav11, 'gray')\n",
    "axs[0,0].axis('tight')\n",
    "axs[0,1].imshow(wav12, 'gray')\n",
    "axs[0,1].axis('tight')\n",
    "axs[1,0].imshow(wav21, 'gray')\n",
    "axs[1,0].axis('tight')\n",
    "axs[1,1].imshow(wav22, 'gray')\n",
    "axs[1,1].axis('tight');"
   ]
  },
  {
   "cell_type": "code",
   "execution_count": 3,
   "metadata": {},
   "outputs": [
    {
     "name": "stdout",
     "output_type": "stream",
     "text": [
      "Dot test passed, v^H(Opu)=618.8197370095179 - u^H(Op^Hv)=618.8197370095145\n",
      "Dot test passed, v^H(Opu)=-743.5627195103855 - u^H(Op^Hv)=-743.5627195103825\n",
      "Dot test passed, v^H(Opu)=589.9439845684446 - u^H(Op^Hv)=589.9439845684467\n"
     ]
    }
   ],
   "source": [
    "hs = np.zeros((2, 2, *wavsize))\n",
    "hs[0, 0] = wav11\n",
    "hs[0, 1] = wav12\n",
    "hs[1, 0] = wav21\n",
    "hs[1, 1] = wav22\n",
    "\n",
    "Copnp = NonStationaryConvolve2D(hs=hs, ihx=(201, 401), ihz=(201, 401), dims=(nx, nz), engine=\"numpy\")\n",
    "Cop = NonStationaryConvolve2D(hs=hs, ihx=(201, 401), ihz=(201, 401), dims=(nx, nz), engine=\"numba\")\n",
    "Copcp = NonStationaryConvolve2D(hs=cp.asarray(hs), ihx=(201, 401), ihz=(201, 401), dims=(nx, nz), engine=\"cuda\")\n",
    "\n",
    "dottest(Copnp, verb=True), dottest(Cop, verb=True), dottest(Copcp, verb=True, backend='cupy');"
   ]
  },
  {
   "cell_type": "code",
   "execution_count": 4,
   "metadata": {},
   "outputs": [
    {
     "name": "stdout",
     "output_type": "stream",
     "text": [
      "4.29 s ± 0 ns per loop (mean ± std. dev. of 1 run, 1 loop each)\n",
      "115 ms ± 0 ns per loop (mean ± std. dev. of 1 run, 1 loop each)\n",
      "1.28 ms ± 0 ns per loop (mean ± std. dev. of 1 run, 1 loop each)\n"
     ]
    }
   ],
   "source": [
    "# Forward\n",
    "x = np.zeros((nx, nz))\n",
    "x[:, 201] = 1.\n",
    "x[:, 401] = -1.\n",
    "xcp = cp.asarray(x)\n",
    "\n",
    "Cop * x #dry-run\n",
    "Copcp * xcp #dry-run\n",
    "%timeit -n1 -r1 Copnp * x\n",
    "%timeit -n1 -r1 Cop * x\n",
    "%timeit -n1 -r1 Copcp * xcp"
   ]
  },
  {
   "cell_type": "code",
   "execution_count": 5,
   "metadata": {},
   "outputs": [
    {
     "name": "stdout",
     "output_type": "stream",
     "text": [
      "5.07 s ± 0 ns per loop (mean ± std. dev. of 1 run, 1 loop each)\n",
      "109 ms ± 0 ns per loop (mean ± std. dev. of 1 run, 1 loop each)\n",
      "1.97 ms ± 0 ns per loop (mean ± std. dev. of 1 run, 1 loop each)\n"
     ]
    }
   ],
   "source": [
    "# Adjoint\n",
    "Cop.H * x #dry-run\n",
    "Copcp.H * xcp #dry-run\n",
    "%timeit -n1 -r1 Copnp.H * x\n",
    "%timeit -n1 -r1 Cop.H * x\n",
    "%timeit -n1 -r1 Copcp.H * xcp"
   ]
  }
 ],
 "metadata": {
  "kernelspec": {
   "display_name": "Python 3 (ipykernel)",
   "language": "python",
   "name": "python3"
  },
  "language_info": {
   "codemirror_mode": {
    "name": "ipython",
    "version": 3
   },
   "file_extension": ".py",
   "mimetype": "text/x-python",
   "name": "python",
   "nbconvert_exporter": "python",
   "pygments_lexer": "ipython3",
   "version": "3.10.6"
  },
  "toc": {
   "base_numbering": 1,
   "nav_menu": {},
   "number_sections": true,
   "sideBar": true,
   "skip_h1_title": false,
   "title_cell": "Table of Contents",
   "title_sidebar": "Contents",
   "toc_cell": false,
   "toc_position": {
    "height": "calc(100% - 180px)",
    "left": "10px",
    "top": "150px",
    "width": "343.59375px"
   },
   "toc_section_display": true,
   "toc_window_display": true
  }
 },
 "nbformat": 4,
 "nbformat_minor": 1
}
