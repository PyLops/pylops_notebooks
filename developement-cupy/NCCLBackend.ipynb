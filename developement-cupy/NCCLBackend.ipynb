{
 "cells": [
  {
   "cell_type": "markdown",
   "id": "assigned-migration",
   "metadata": {},
   "source": [
    "# Pylops - NCCLBackend"
   ]
  },
  {
   "cell_type": "markdown",
   "id": "comic-general",
   "metadata": {},
   "source": [
    "### Author: M.Ravasi"
   ]
  },
  {
   "cell_type": "code",
   "execution_count": 1,
   "id": "51a6ed0a",
   "metadata": {},
   "outputs": [],
   "source": [
    "# !conda install -c conda-forge nccl"
   ]
  },
  {
   "cell_type": "code",
   "execution_count": 2,
   "id": "875d00c0",
   "metadata": {},
   "outputs": [],
   "source": [
    "%load_ext autoreload\n",
    "%autoreload 2\n",
    "%matplotlib inline\n",
    "\n",
    "import cupy as cp\n",
    "import cupy.cuda.nccl as nccl\n",
    "import multiprocessing\n",
    "\n",
    "from cupy import testing\n"
   ]
  },
  {
   "cell_type": "markdown",
   "id": "8f1e4333",
   "metadata": {},
   "source": [
    "## nccl.NcclCommunicator.initAll\n",
    "\n",
    "Works on single process"
   ]
  },
  {
   "cell_type": "code",
   "execution_count": 3,
   "id": "e8f18681",
   "metadata": {},
   "outputs": [
    {
     "data": {
      "text/plain": [
       "'\\n# Number of GPUs to use\\nn_gpus = 2  # Modify this based on your setup\\n\\n# Initialize CUDA devices\\ndevices = [cp.cuda.Device(i) for i in range(n_gpus)]\\n\\n# Initialize arrays on each device\\narrays = []\\nfor i, d in enumerate(devices):\\n    with cp.cuda.Device(d):\\n        array = (i + 1) * cp.array([1, 2, 3, 4], dtype=cp.float32)\\n        print(array, array.device, array + array)\\n        arrays.append(array)\\n\\n# Create a list of device IDs\\ndevice_ids = [d.id for d in devices]\\n\\n# Initialize NCCL communicators for all devices\\ncomms = nccl.NcclCommunicator.initAll(n_gpus)\\n\\n# Perform all-reduce operation\\nfor i, d in enumerate(devices):\\n    with d:\\n        comms[i].allReduce(arrays[i].data.ptr, arrays[i].data.ptr, arrays[i].size, nccl.NCCL_FLOAT32, nccl.NCCL_SUM, cp.cuda.Stream.null.ptr)\\n\\n# Synchronize to ensure all operations are complete\\nfor d in devices:\\n    with d:\\n        cp.cuda.Stream.null.synchronize()\\n\\n# Verify the result\\nfor i, d in enumerate(devices):\\n    with d:\\n        print(f\"Device {i}: {arrays[i]}\")\\n'"
      ]
     },
     "execution_count": 3,
     "metadata": {},
     "output_type": "execute_result"
    }
   ],
   "source": [
    "\"\"\"\n",
    "# Number of GPUs to use\n",
    "n_gpus = 2  # Modify this based on your setup\n",
    "\n",
    "# Initialize CUDA devices\n",
    "devices = [cp.cuda.Device(i) for i in range(n_gpus)]\n",
    "\n",
    "# Initialize arrays on each device\n",
    "arrays = []\n",
    "for i, d in enumerate(devices):\n",
    "    with cp.cuda.Device(d):\n",
    "        array = (i + 1) * cp.array([1, 2, 3, 4], dtype=cp.float32)\n",
    "        print(array, array.device, array + array)\n",
    "        arrays.append(array)\n",
    "\n",
    "# Create a list of device IDs\n",
    "device_ids = [d.id for d in devices]\n",
    "\n",
    "# Initialize NCCL communicators for all devices\n",
    "comms = nccl.NcclCommunicator.initAll(n_gpus)\n",
    "\n",
    "# Perform all-reduce operation\n",
    "for i, d in enumerate(devices):\n",
    "    with d:\n",
    "        comms[i].allReduce(arrays[i].data.ptr, arrays[i].data.ptr, arrays[i].size, nccl.NCCL_FLOAT32, nccl.NCCL_SUM, cp.cuda.Stream.null.ptr)\n",
    "\n",
    "# Synchronize to ensure all operations are complete\n",
    "for d in devices:\n",
    "    with d:\n",
    "        cp.cuda.Stream.null.synchronize()\n",
    "\n",
    "# Verify the result\n",
    "for i, d in enumerate(devices):\n",
    "    with d:\n",
    "        print(f\"Device {i}: {arrays[i]}\")\n",
    "\"\"\""
   ]
  },
  {
   "cell_type": "markdown",
   "id": "702f8246",
   "metadata": {},
   "source": [
    "## nccl.NcclCommunicator\n",
    "\n",
    "Does not work, may need MPI/Multiprocess"
   ]
  },
  {
   "cell_type": "code",
   "execution_count": 4,
   "id": "1c747a37",
   "metadata": {},
   "outputs": [
    {
     "data": {
      "text/plain": [
       "'\\n# Number of GPUs to use\\nn_gpus = 2  # Modify this based on your setup\\n\\n# Initialize CUDA devices\\ndevices = [cp.cuda.Device(i) for i in range(n_gpus)]\\nprint(devices)\\n\\n# Initialize arrays on each device\\narrays = []\\nfor d in devices:\\n    with cp.cuda.Device(d):\\n        array = cp.array([1, 2, 3, 4], dtype=cp.float32)\\n        print(array, array.device, array + array)\\n        arrays.append(array)\\n\\n# Generate a unique NCCL ID\\ncomm_id = nccl.get_unique_id()\\n\\n# Initialize NCCL communicators\\ncomms = []\\nfor i, d in enumerate(devices):\\n    with d:\\n        print(d)\\n        comms.append(nccl.NcclCommunicator(n_gpus, comm_id, i))\\n\\n# Synchronize all devices before starting the operation\\nfor d in devices:\\n    with d:\\n        cp.cuda.Stream.null.synchronize()\\n\\n        \\n# Perform all-reduce operation\\nfor i, d in enumerate(devices):\\n    with d:\\n        comms[i].allReduce(arrays[i].data.ptr, arrays[i].data.ptr, arrays[i].size, nccl.NCCL_FLOAT32, nccl.NCCL_SUM, cp.cuda.Stream.null.ptr)\\n\\n# Verify the result\\nfor i, d in enumerate(devices):\\n    with d:\\n        print(f\"Device {i}: {arrays[i]}\")\\n\\n'"
      ]
     },
     "execution_count": 4,
     "metadata": {},
     "output_type": "execute_result"
    }
   ],
   "source": [
    "\"\"\"\n",
    "# Number of GPUs to use\n",
    "n_gpus = 2  # Modify this based on your setup\n",
    "\n",
    "# Initialize CUDA devices\n",
    "devices = [cp.cuda.Device(i) for i in range(n_gpus)]\n",
    "print(devices)\n",
    "\n",
    "# Initialize arrays on each device\n",
    "arrays = []\n",
    "for d in devices:\n",
    "    with cp.cuda.Device(d):\n",
    "        array = cp.array([1, 2, 3, 4], dtype=cp.float32)\n",
    "        print(array, array.device, array + array)\n",
    "        arrays.append(array)\n",
    "\n",
    "# Generate a unique NCCL ID\n",
    "comm_id = nccl.get_unique_id()\n",
    "\n",
    "# Initialize NCCL communicators\n",
    "comms = []\n",
    "for i, d in enumerate(devices):\n",
    "    with d:\n",
    "        print(d)\n",
    "        comms.append(nccl.NcclCommunicator(n_gpus, comm_id, i))\n",
    "\n",
    "# Synchronize all devices before starting the operation\n",
    "for d in devices:\n",
    "    with d:\n",
    "        cp.cuda.Stream.null.synchronize()\n",
    "\n",
    "        \n",
    "# Perform all-reduce operation\n",
    "for i, d in enumerate(devices):\n",
    "    with d:\n",
    "        comms[i].allReduce(arrays[i].data.ptr, arrays[i].data.ptr, arrays[i].size, nccl.NCCL_FLOAT32, nccl.NCCL_SUM, cp.cuda.Stream.null.ptr)\n",
    "\n",
    "# Verify the result\n",
    "for i, d in enumerate(devices):\n",
    "    with d:\n",
    "        print(f\"Device {i}: {arrays[i]}\")\n",
    "\n",
    "\"\"\""
   ]
  },
  {
   "cell_type": "code",
   "execution_count": 5,
   "id": "df0a6b9c",
   "metadata": {},
   "outputs": [
    {
     "name": "stderr",
     "output_type": "stream",
     "text": [
      "Traceback (most recent call last):\n",
      "  File \"<string>\", line 1, in <module>\n",
      "  File \"/home/ravasim/miniconda3_v23/envs/pylops_cupy_mpi4py_3090/lib/python3.9/multiprocessing/spawn.py\", line 116, in spawn_main\n",
      "    exitcode = _main(fd, parent_sentinel)\n",
      "  File \"/home/ravasim/miniconda3_v23/envs/pylops_cupy_mpi4py_3090/lib/python3.9/multiprocessing/spawn.py\", line 126, in _main\n",
      "    self = reduction.pickle.load(from_parent)\n",
      "AttributeError: Can't get attribute 'f' on <module '__main__' (built-in)>\n"
     ]
    }
   ],
   "source": [
    "def f(n_devices, device, comm_id, rank):\n",
    "    device.use()\n",
    "    comm = nccl.NcclCommunicator(n_devices, comm_id, rank)\n",
    "    x = cp.zeros((2, 3, 4), dtype='float32')\n",
    "    comm.broadcast(\n",
    "        x.data.ptr, x.data.ptr, x.size, nccl.NCCL_FLOAT, 0,\n",
    "        cp.cuda.Stream.null.ptr)\n",
    "\n",
    "    e = cp.ones((2, 3, 4), dtype='float32')\n",
    "    testing.assert_allclose(x, e)\n",
    "    device.synchronize()\n",
    "\n",
    "    print('Rank {} successfully finished.'.format(rank))\n",
    "\n",
    "multiprocessing.set_start_method('spawn', force=True)\n",
    "\n",
    "n_devices = 2\n",
    "devices = [cp.cuda.Device(i) for i in range(n_devices)]\n",
    "\n",
    "comm_id = nccl.get_unique_id()\n",
    "\n",
    "ps = []\n",
    "for i in range(1, n_devices):\n",
    "    p = multiprocessing.Process(\n",
    "        target=f, args=(n_devices, devices[i], comm_id, i))\n",
    "    p.start()\n",
    "    ps.append(p)\n",
    "\n",
    "device = devices[0]\n",
    "device.use()\n",
    "comm = nccl.NcclCommunicator(n_devices, comm_id, 0)\n",
    "x = cp.ones((2, 3, 4), dtype='float32')\n",
    "comm.broadcast(\n",
    "    x.data.ptr, x.data.ptr, x.size, nccl.NCCL_FLOAT, 0,\n",
    "    cp.cuda.Stream.null.ptr)\n",
    "\n",
    "for p in ps:\n",
    "    p.join()\n",
    "\n",
    "print('Rank 0 successfully finished.')"
   ]
  }
 ],
 "metadata": {
  "kernelspec": {
   "display_name": "Python 3.9.12 ('pylops_cupy_cusignal_3090': conda)",
   "language": "python",
   "name": "python3"
  },
  "language_info": {
   "codemirror_mode": {
    "name": "ipython",
    "version": 3
   },
   "file_extension": ".py",
   "mimetype": "text/x-python",
   "name": "python",
   "nbconvert_exporter": "python",
   "pygments_lexer": "ipython3",
   "version": "3.9.19"
  },
  "toc": {
   "base_numbering": 1,
   "nav_menu": {},
   "number_sections": true,
   "sideBar": true,
   "skip_h1_title": false,
   "title_cell": "Table of Contents",
   "title_sidebar": "Contents",
   "toc_cell": false,
   "toc_position": {
    "height": "calc(100% - 180px)",
    "left": "10px",
    "top": "150px",
    "width": "382px"
   },
   "toc_section_display": true,
   "toc_window_display": true
  },
  "vscode": {
   "interpreter": {
    "hash": "c27fe88b23d484518624eca1cce745dae2db0a60686a425eb41df47c725cd0a4"
   }
  }
 },
 "nbformat": 4,
 "nbformat_minor": 5
}
