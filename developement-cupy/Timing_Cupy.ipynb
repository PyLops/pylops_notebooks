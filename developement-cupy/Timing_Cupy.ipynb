{
 "cells": [
  {
   "cell_type": "markdown",
   "metadata": {
    "id": "Zw9q0J3wPec9"
   },
   "source": [
    "# Pylops - basic linear operators on GPU with cupy"
   ]
  },
  {
   "cell_type": "markdown",
   "metadata": {
    "id": "vB2RGSN2cCs3"
   },
   "source": [
    "In this notebook I will show how to use some of the basic linear operators implemented in *Pylops* and test both their numpy and cupy backends."
   ]
  },
  {
   "cell_type": "code",
   "execution_count": 1,
   "metadata": {
    "colab": {
     "base_uri": "https://localhost:8080/"
    },
    "executionInfo": {
     "elapsed": 1076,
     "status": "ok",
     "timestamp": 1604089050531,
     "user": {
      "displayName": "Matteo Ravasi",
      "photoUrl": "",
      "userId": "06412456769040614383"
     },
     "user_tz": -60
    },
    "id": "BRQ0wMDU7jiS",
    "outputId": "c81dd60c-d88e-43e9-c3c8-578bf8cee9e0"
   },
   "outputs": [
    {
     "name": "stdout",
     "output_type": "stream",
     "text": [
      "Sun Oct  9 17:00:31 2022       \r\n",
      "+-----------------------------------------------------------------------------+\r\n",
      "| NVIDIA-SMI 470.141.03   Driver Version: 470.141.03   CUDA Version: 11.4     |\r\n",
      "|-------------------------------+----------------------+----------------------+\r\n",
      "| GPU  Name        Persistence-M| Bus-Id        Disp.A | Volatile Uncorr. ECC |\r\n",
      "| Fan  Temp  Perf  Pwr:Usage/Cap|         Memory-Usage | GPU-Util  Compute M. |\r\n",
      "|                               |                      |               MIG M. |\r\n",
      "|===============================+======================+======================|\r\n",
      "|   0  Quadro RTX 4000     Off  | 00000000:73:00.0 Off |                  N/A |\r\n",
      "| 30%   31C    P8     8W / 125W |   1037MiB /  7982MiB |      0%      Default |\r\n",
      "|                               |                      |                  N/A |\r\n",
      "+-------------------------------+----------------------+----------------------+\r\n",
      "|   1  NVIDIA GeForce ...  Off  | 00000000:A6:00.0  On |                  N/A |\r\n",
      "| 51%   57C    P2   121W / 350W |   8472MiB / 24265MiB |      3%      Default |\r\n",
      "|                               |                      |                  N/A |\r\n",
      "+-------------------------------+----------------------+----------------------+\r\n",
      "                                                                               \r\n",
      "+-----------------------------------------------------------------------------+\r\n",
      "| Processes:                                                                  |\r\n",
      "|  GPU   GI   CI        PID   Type   Process name                  GPU Memory |\r\n",
      "|        ID   ID                                                   Usage      |\r\n",
      "|=============================================================================|\r\n",
      "|    0   N/A  N/A     17468      C   ..._cusignal_3090/bin/python     1033MiB |\r\n",
      "|    1   N/A  N/A      5226      G   /usr/lib/xorg/Xorg                 51MiB |\r\n",
      "|    1   N/A  N/A      7042      G   /usr/bin/gnome-shell              138MiB |\r\n",
      "|    1   N/A  N/A     11913      G   /usr/lib/xorg/Xorg                881MiB |\r\n",
      "|    1   N/A  N/A     12097      G   /usr/bin/gnome-shell               65MiB |\r\n",
      "|    1   N/A  N/A     12494      G   ...AAAAAAAA== --shared-files       13MiB |\r\n",
      "|    1   N/A  N/A     13192      G   ...AAAAAAAAA= --shared-files      178MiB |\r\n",
      "|    1   N/A  N/A     15815      C   ..._cusignal_3090/bin/python      605MiB |\r\n",
      "|    1   N/A  N/A     18041      G   ..._17597.log --shared-files       17MiB |\r\n",
      "|    1   N/A  N/A     25464      C   ..._cusignal_3090/bin/python     4485MiB |\r\n",
      "|    1   N/A  N/A     28770      C   ..._cusignal_3090/bin/python     1185MiB |\r\n",
      "|    1   N/A  N/A     28900      G   ...AAAAAAAAA= --shared-files       31MiB |\r\n",
      "|    1   N/A  N/A     33407      C   ..._cusignal_3090/bin/python      813MiB |\r\n",
      "+-----------------------------------------------------------------------------+\r\n"
     ]
    }
   ],
   "source": [
    "!nvidia-smi"
   ]
  },
  {
   "cell_type": "code",
   "execution_count": 2,
   "metadata": {
    "colab": {
     "base_uri": "https://localhost:8080/"
    },
    "executionInfo": {
     "elapsed": 1794,
     "status": "ok",
     "timestamp": 1604089558196,
     "user": {
      "displayName": "Matteo Ravasi",
      "photoUrl": "",
      "userId": "06412456769040614383"
     },
     "user_tz": -60
    },
    "id": "WJ3vTlJ7gHnQ",
    "outputId": "f9c26193-7039-425b-9633-158371fda694"
   },
   "outputs": [],
   "source": [
    "%load_ext autoreload\n",
    "%autoreload 2\n",
    "%matplotlib inline\n",
    "\n",
    "import timeit\n",
    "import os\n",
    "import numpy as np\n",
    "import cupy as cp\n",
    "import scipy as sp\n",
    "import matplotlib.pyplot as plt\n",
    "import pandas as pd\n",
    "import seaborn as sns\n",
    "\n",
    "from scipy.sparse.linalg import inv, lsqr\n",
    "from scipy.sparse import rand\n",
    "\n",
    "from pylops.utils import dottest\n",
    "from pylops import LinearOperator\n",
    "from pylops.basicoperators import *\n",
    "from pylops.optimization.basic import cgls\n",
    "from pylops.optimization.leastsquares import *"
   ]
  },
  {
   "cell_type": "code",
   "execution_count": 3,
   "metadata": {
    "colab": {
     "base_uri": "https://localhost:8080/",
     "height": 37
    },
    "executionInfo": {
     "elapsed": 1776,
     "status": "ok",
     "timestamp": 1604089558198,
     "user": {
      "displayName": "Matteo Ravasi",
      "photoUrl": "",
      "userId": "06412456769040614383"
     },
     "user_tz": -60
    },
    "id": "NfTWAwO-7dqU",
    "outputId": "2bd1dc73-6a25-44f5-8347-728fde15680c"
   },
   "outputs": [
    {
     "data": {
      "text/plain": [
       "'9.6.0'"
      ]
     },
     "execution_count": 3,
     "metadata": {},
     "output_type": "execute_result"
    }
   ],
   "source": [
    "cp.__version__"
   ]
  },
  {
   "cell_type": "code",
   "execution_count": 4,
   "metadata": {
    "executionInfo": {
     "elapsed": 1752,
     "status": "ok",
     "timestamp": 1604089558200,
     "user": {
      "displayName": "Matteo Ravasi",
      "photoUrl": "",
      "userId": "06412456769040614383"
     },
     "user_tz": -60
    },
    "id": "D6SqvAFwGZs6"
   },
   "outputs": [],
   "source": [
    "def timing(cmd_setup, df, method):\n",
    "    # _matvec\n",
    "    mat_np = 'Op._matvec(x)'\n",
    "    mat_cp = 'cOp._matvec(xc)'\n",
    "\n",
    "    # _matvec\n",
    "    rmat_np = 'Op._rmatvec(y)'\n",
    "    rmat_cp = 'cOp._rmatvec(yc)'\n",
    "\n",
    "    # dry run\n",
    "    timeit.repeat(mat_cp, setup=cmd_setup, number=1, repeat=1)\n",
    "    timeit.repeat(rmat_cp, setup=cmd_setup, number=1, repeat=1)\n",
    "\n",
    "    # timing\n",
    "    tm_ = 1.e3 * np.array(timeit.repeat(mat_np, setup=cmd_setup,\n",
    "                                      number=10, repeat=5))\n",
    "    trm_ = 1.e3 * np.array(timeit.repeat(rmat_np, setup=cmd_setup,\n",
    "                                      number=10, repeat=5))\n",
    "    for i in range(5):\n",
    "        df.loc[len(df)] = [method, True, 'np', tm_[i]]\n",
    "    for i in range(5):\n",
    "        df.loc[len(df)] = [method, False, 'np', + trm_[i]]\n",
    "\n",
    "    tm_ = 1.e3 * np.array(timeit.repeat(mat_cp, setup=cmd_setup,\n",
    "                                      number=20, repeat=5))\n",
    "    trm_ = 1.e3 * np.array(timeit.repeat(rmat_cp, setup=cmd_setup,\n",
    "                                      number=20, repeat=5))\n",
    "    for i in range(5):\n",
    "        df.loc[len(df)] = [method, True, 'cp', tm_[i]]\n",
    "    for i in range(5):\n",
    "        df.loc[len(df)] = [method, False, 'cp', trm_[i]]\n",
    "    return df"
   ]
  },
  {
   "cell_type": "code",
   "execution_count": 5,
   "metadata": {
    "executionInfo": {
     "elapsed": 642,
     "status": "ok",
     "timestamp": 1604090812156,
     "user": {
      "displayName": "Matteo Ravasi",
      "photoUrl": "",
      "userId": "06412456769040614383"
     },
     "user_tz": -60
    },
    "id": "fH1ohMVv8Cs9"
   },
   "outputs": [],
   "source": [
    "df = pd.DataFrame(columns=['Method', 'Forw', 'Backend', 'Time'])"
   ]
  },
  {
   "cell_type": "markdown",
   "metadata": {
    "id": "uZIXTxF-GNp2"
   },
   "source": [
    "## Diagonal"
   ]
  },
  {
   "cell_type": "code",
   "execution_count": 6,
   "metadata": {
    "executionInfo": {
     "elapsed": 1766,
     "status": "ok",
     "timestamp": 1604089560792,
     "user": {
      "displayName": "Matteo Ravasi",
      "photoUrl": "",
      "userId": "06412456769040614383"
     },
     "user_tz": -60
    },
    "id": "aXWgRcxHGxaE"
   },
   "outputs": [],
   "source": [
    "# setup command\n",
    "cmd_setup =\"\"\"\\\n",
    "import numpy as np\n",
    "import cupy as cp\n",
    "import pylops\n",
    "n = 250000\n",
    "d = np.arange(n) + 1.\n",
    "y = x = np.ones(n)\n",
    "yc = xc = cp.ones(n)\n",
    "Op = pylops.Diagonal(d)\n",
    "cOp = pylops.Diagonal(cp.array(d))\n",
    "\"\"\"\n",
    "\n",
    "df = timing(cmd_setup, df, 'Diagonal')"
   ]
  },
  {
   "cell_type": "markdown",
   "metadata": {
    "id": "ibe5oiJjQbYx"
   },
   "source": [
    "## Matrix Multiplication"
   ]
  },
  {
   "cell_type": "code",
   "execution_count": 7,
   "metadata": {
    "executionInfo": {
     "elapsed": 1855,
     "status": "ok",
     "timestamp": 1604089562602,
     "user": {
      "displayName": "Matteo Ravasi",
      "photoUrl": "",
      "userId": "06412456769040614383"
     },
     "user_tz": -60
    },
    "id": "zLcsPQuSKREi"
   },
   "outputs": [],
   "source": [
    "# setup command\n",
    "cmd_setup =\"\"\"\\\n",
    "import numpy as np\n",
    "import cupy as cp\n",
    "import pylops\n",
    "n = 500\n",
    "D = np.ones((n, n))\n",
    "y = x = np.ones(n)\n",
    "yc = xc = cp.ones(n)\n",
    "Op = pylops.MatrixMult(D)\n",
    "cOp = pylops.MatrixMult(cp.array(D))\n",
    "\"\"\"\n",
    "\n",
    "df = timing(cmd_setup, df, 'MatrixMult')"
   ]
  },
  {
   "cell_type": "markdown",
   "metadata": {
    "id": "ArXNiAVEGn0W"
   },
   "source": [
    "## Identity"
   ]
  },
  {
   "cell_type": "code",
   "execution_count": 8,
   "metadata": {
    "executionInfo": {
     "elapsed": 950,
     "status": "ok",
     "timestamp": 1604089563481,
     "user": {
      "displayName": "Matteo Ravasi",
      "photoUrl": "",
      "userId": "06412456769040614383"
     },
     "user_tz": -60
    },
    "id": "5AKKVy6vGlw8"
   },
   "outputs": [],
   "source": [
    "# setup command\n",
    "cmd_setup =\"\"\"\\\n",
    "import numpy as np\n",
    "import cupy as cp\n",
    "import pylops\n",
    "n = 250000\n",
    "y = x = np.ones(n)\n",
    "yc = xc = cp.ones(n)\n",
    "Op = pylops.Identity(n)\n",
    "cOp = pylops.Identity(n)\n",
    "\"\"\"\n",
    "\n",
    "df = timing(cmd_setup, df, 'Identity')"
   ]
  },
  {
   "cell_type": "markdown",
   "metadata": {
    "id": "duzvLYbhKutX"
   },
   "source": [
    "## Zero"
   ]
  },
  {
   "cell_type": "code",
   "execution_count": 9,
   "metadata": {
    "executionInfo": {
     "elapsed": 1177,
     "status": "ok",
     "timestamp": 1604089565471,
     "user": {
      "displayName": "Matteo Ravasi",
      "photoUrl": "",
      "userId": "06412456769040614383"
     },
     "user_tz": -60
    },
    "id": "NvS0uZJGKuCU"
   },
   "outputs": [],
   "source": [
    "# setup command\n",
    "cmd_setup =\"\"\"\\\n",
    "import numpy as np\n",
    "import cupy as cp\n",
    "import pylops\n",
    "ny, nx = 500, 500\n",
    "y = x   = cp.arange(nx)\n",
    "yc = xc = cp.ones(nx)\n",
    "Op = pylops.Zero(ny, nx)\n",
    "cOp = pylops.Zero(ny, nx)\n",
    "\"\"\"\n",
    "\n",
    "df = timing(cmd_setup, df, 'Zero')"
   ]
  },
  {
   "cell_type": "markdown",
   "metadata": {
    "id": "HFjgyviFPo0p"
   },
   "source": [
    "## Sum"
   ]
  },
  {
   "cell_type": "code",
   "execution_count": 10,
   "metadata": {
    "executionInfo": {
     "elapsed": 1728,
     "status": "ok",
     "timestamp": 1604089567957,
     "user": {
      "displayName": "Matteo Ravasi",
      "photoUrl": "",
      "userId": "06412456769040614383"
     },
     "user_tz": -60
    },
    "id": "zIzjLLvZKuAl"
   },
   "outputs": [],
   "source": [
    "# setup command\n",
    "cmd_setup =\"\"\"\\\n",
    "import numpy as np\n",
    "import cupy as cp\n",
    "import pylops\n",
    "ny, nx = 500, 500\n",
    "x = np.ones(nx*ny)\n",
    "xc = cp.ones(nx*ny)\n",
    "y = np.ones(nx)\n",
    "yc = cp.ones(nx)\n",
    "Op = pylops.Sum(dims=(ny, nx), axis=0)\n",
    "cOp = pylops.Sum(dims=(ny, nx), axis=0)\n",
    "\"\"\"\n",
    "df = timing(cmd_setup, df, 'Sum')"
   ]
  },
  {
   "cell_type": "markdown",
   "metadata": {
    "id": "nljZK0xESzTt"
   },
   "source": [
    "## First Derivative"
   ]
  },
  {
   "cell_type": "code",
   "execution_count": 11,
   "metadata": {
    "executionInfo": {
     "elapsed": 1803,
     "status": "ok",
     "timestamp": 1604089569728,
     "user": {
      "displayName": "Matteo Ravasi",
      "photoUrl": "",
      "userId": "06412456769040614383"
     },
     "user_tz": -60
    },
    "id": "M4-NfcOaSzwD"
   },
   "outputs": [],
   "source": [
    "# setup command\n",
    "cmd_setup =\"\"\"\\\n",
    "import numpy as np\n",
    "import cupy as cp\n",
    "import pylops\n",
    "ny, nx = 500, 500\n",
    "x = np.ones(nx*ny)\n",
    "xc = cp.ones(nx*ny)\n",
    "y = np.ones(nx*ny)\n",
    "yc = cp.ones(nx*ny)\n",
    "Op = pylops.FirstDerivative((ny, nx), axis=0, edge=True)\n",
    "cOp = pylops.FirstDerivative((ny, nx), axis=0, edge=True)\n",
    "\"\"\"\n",
    "df = timing(cmd_setup, df, 'FirstDerivative')"
   ]
  },
  {
   "cell_type": "markdown",
   "metadata": {
    "id": "RGSUZAwQUlxH"
   },
   "source": [
    "## Second Derivative"
   ]
  },
  {
   "cell_type": "code",
   "execution_count": 12,
   "metadata": {
    "executionInfo": {
     "elapsed": 1890,
     "status": "ok",
     "timestamp": 1604089571534,
     "user": {
      "displayName": "Matteo Ravasi",
      "photoUrl": "",
      "userId": "06412456769040614383"
     },
     "user_tz": -60
    },
    "id": "1YYLU1zaUlZj"
   },
   "outputs": [],
   "source": [
    "# setup command\n",
    "cmd_setup =\"\"\"\\\n",
    "import numpy as np\n",
    "import cupy as cp\n",
    "import pylops\n",
    "ny, nx = 500, 500\n",
    "x = np.ones(nx*ny)\n",
    "xc = cp.ones(nx*ny)\n",
    "y = np.ones(nx*ny)\n",
    "yc = cp.ones(nx*ny)\n",
    "Op = pylops.SecondDerivative((ny, nx), axis=0, edge=True)\n",
    "cOp = pylops.SecondDerivative((ny, nx), axis=0, edge=True)\n",
    "\"\"\"\n",
    "df = timing(cmd_setup, df, 'SecondDerivative')"
   ]
  },
  {
   "cell_type": "markdown",
   "metadata": {
    "id": "Jm0s1WeXUlB2"
   },
   "source": [
    "## Laplacian"
   ]
  },
  {
   "cell_type": "code",
   "execution_count": 13,
   "metadata": {
    "executionInfo": {
     "elapsed": 1701,
     "status": "ok",
     "timestamp": 1604089573205,
     "user": {
      "displayName": "Matteo Ravasi",
      "photoUrl": "",
      "userId": "06412456769040614383"
     },
     "user_tz": -60
    },
    "id": "wmfnD1vWUyKR"
   },
   "outputs": [],
   "source": [
    "# setup command\n",
    "cmd_setup =\"\"\"\\\n",
    "import numpy as np\n",
    "import cupy as cp\n",
    "import pylops\n",
    "ny, nx = 500, 500\n",
    "x = np.ones(nx*ny)\n",
    "xc = cp.ones(nx*ny)\n",
    "y = np.ones(nx*ny)\n",
    "yc = cp.ones(nx*ny)\n",
    "Op = pylops.Laplacian((ny, nx), edge=True)\n",
    "cOp = pylops.Laplacian((ny, nx), edge=True)\n",
    "\"\"\"\n",
    "df = timing(cmd_setup, df, 'Laplacian')"
   ]
  },
  {
   "cell_type": "markdown",
   "metadata": {
    "id": "Ai_p16-fUk3Z"
   },
   "source": [
    "## Gradient"
   ]
  },
  {
   "cell_type": "code",
   "execution_count": 14,
   "metadata": {
    "executionInfo": {
     "elapsed": 1689,
     "status": "ok",
     "timestamp": 1604089574863,
     "user": {
      "displayName": "Matteo Ravasi",
      "photoUrl": "",
      "userId": "06412456769040614383"
     },
     "user_tz": -60
    },
    "id": "Md2WUqaCVwch"
   },
   "outputs": [],
   "source": [
    "# setup command\n",
    "cmd_setup =\"\"\"\\\n",
    "import numpy as np\n",
    "import cupy as cp\n",
    "import pylops\n",
    "ny, nx = 500, 500\n",
    "x = np.ones(nx*ny)\n",
    "xc = cp.ones(nx*ny)\n",
    "y = np.ones(nx*ny)\n",
    "yc = cp.ones(nx*ny)\n",
    "Op = pylops.Laplacian((ny, nx), edge=True)\n",
    "cOp = pylops.Laplacian((ny, nx), edge=True)\n",
    "\"\"\"\n",
    "df = timing(cmd_setup, df, 'Gradient')"
   ]
  },
  {
   "cell_type": "markdown",
   "metadata": {
    "id": "LhV7dzXWV_h5"
   },
   "source": [
    "## Causal Integration"
   ]
  },
  {
   "cell_type": "code",
   "execution_count": 15,
   "metadata": {
    "executionInfo": {
     "elapsed": 1813,
     "status": "ok",
     "timestamp": 1604089576645,
     "user": {
      "displayName": "Matteo Ravasi",
      "photoUrl": "",
      "userId": "06412456769040614383"
     },
     "user_tz": -60
    },
    "id": "1LN5uCZuWFQi"
   },
   "outputs": [],
   "source": [
    "# setup command\n",
    "cmd_setup =\"\"\"\\\n",
    "import numpy as np\n",
    "import cupy as cp\n",
    "import pylops\n",
    "ny, nx = 500, 500\n",
    "x = np.ones(nx*ny)\n",
    "xc = cp.ones(nx*ny)\n",
    "y = np.ones(nx*ny)\n",
    "yc = cp.ones(nx*ny)\n",
    "Op = pylops.CausalIntegration((ny, nx), axis=1)\n",
    "cOp = pylops.CausalIntegration((ny, nx), axis=1)\n",
    "\"\"\"\n",
    "df = timing(cmd_setup, df, 'CausalIntegration')"
   ]
  },
  {
   "cell_type": "markdown",
   "metadata": {
    "id": "y2N7wZjSV_eb"
   },
   "source": [
    "## Flip"
   ]
  },
  {
   "cell_type": "code",
   "execution_count": 16,
   "metadata": {
    "executionInfo": {
     "elapsed": 1712,
     "status": "ok",
     "timestamp": 1604089578328,
     "user": {
      "displayName": "Matteo Ravasi",
      "photoUrl": "",
      "userId": "06412456769040614383"
     },
     "user_tz": -60
    },
    "id": "eS4SXDlZXXkz"
   },
   "outputs": [],
   "source": [
    "# setup command\n",
    "cmd_setup =\"\"\"\\\n",
    "import numpy as np\n",
    "import cupy as cp\n",
    "import pylops\n",
    "ny, nx = 500, 500\n",
    "x = np.ones(nx*ny)\n",
    "xc = cp.ones(nx*ny)\n",
    "y = np.ones(nx*ny)\n",
    "yc = cp.ones(nx*ny)\n",
    "Op = pylops.Flip((ny, nx), axis=1)\n",
    "cOp = pylops.Flip((ny, nx), axis=1)\n",
    "\"\"\"\n",
    "df = timing(cmd_setup, df, 'Flip')"
   ]
  },
  {
   "cell_type": "markdown",
   "metadata": {
    "id": "sl0SCAfQV_Zc"
   },
   "source": [
    "## Pad"
   ]
  },
  {
   "cell_type": "code",
   "execution_count": 17,
   "metadata": {
    "executionInfo": {
     "elapsed": 1927,
     "status": "ok",
     "timestamp": 1604089580206,
     "user": {
      "displayName": "Matteo Ravasi",
      "photoUrl": "",
      "userId": "06412456769040614383"
     },
     "user_tz": -60
    },
    "id": "YrzNIQTOY4tx"
   },
   "outputs": [],
   "source": [
    "# setup command\n",
    "cmd_setup =\"\"\"\\\n",
    "import numpy as np\n",
    "import cupy as cp\n",
    "import pylops\n",
    "n = 250000\n",
    "pad = (200, 200)\n",
    "x = np.ones(n)\n",
    "xc = cp.ones(n)\n",
    "y = np.ones(n + 400)\n",
    "yc = cp.ones(n + 400)\n",
    "Op = pylops.Pad(n, pad)\n",
    "cOp = pylops.Pad(n, pad)\n",
    "\"\"\"\n",
    "df = timing(cmd_setup, df, 'Pad')"
   ]
  },
  {
   "cell_type": "markdown",
   "metadata": {
    "id": "ONLcerOaaYsQ"
   },
   "source": [
    "## Pad"
   ]
  },
  {
   "cell_type": "code",
   "execution_count": 18,
   "metadata": {
    "executionInfo": {
     "elapsed": 2660,
     "status": "ok",
     "timestamp": 1604089582832,
     "user": {
      "displayName": "Matteo Ravasi",
      "photoUrl": "",
      "userId": "06412456769040614383"
     },
     "user_tz": -60
    },
    "id": "uWDPIb05aZJq"
   },
   "outputs": [],
   "source": [
    "# setup command\n",
    "cmd_setup =\"\"\"\\\n",
    "import numpy as np\n",
    "import cupy as cp\n",
    "import pylops\n",
    "n = 250000\n",
    "x = np.ones(n)\n",
    "xc = cp.ones(n)\n",
    "y = np.ones(n)\n",
    "yc = cp.ones(n)\n",
    "Op = pylops.Roll(n, shift=20)\n",
    "cOp = pylops.Roll(n, shift=20)\n",
    "\"\"\"\n",
    "df = timing(cmd_setup, df, 'Roll')"
   ]
  },
  {
   "cell_type": "markdown",
   "metadata": {
    "id": "eAWELYq3asum"
   },
   "source": [
    "## Symmetrize\n"
   ]
  },
  {
   "cell_type": "code",
   "execution_count": 19,
   "metadata": {
    "executionInfo": {
     "elapsed": 1935,
     "status": "ok",
     "timestamp": 1604089584689,
     "user": {
      "displayName": "Matteo Ravasi",
      "photoUrl": "",
      "userId": "06412456769040614383"
     },
     "user_tz": -60
    },
    "id": "BObcCFDVatoP"
   },
   "outputs": [],
   "source": [
    "# setup command\n",
    "cmd_setup =\"\"\"\\\n",
    "import numpy as np\n",
    "import cupy as cp\n",
    "import pylops\n",
    "n = 250000\n",
    "x = np.ones(n)\n",
    "xc = cp.ones(n)\n",
    "y = np.ones(n*2-1)\n",
    "yc = cp.ones(n*2-1)\n",
    "Op = pylops.Symmetrize(n)\n",
    "cOp = pylops.Symmetrize(n)\n",
    "\"\"\"\n",
    "df = timing(cmd_setup, df, 'Symmetrize')"
   ]
  },
  {
   "cell_type": "markdown",
   "metadata": {
    "id": "zkVlMj9SasfC"
   },
   "source": [
    "## Restriction"
   ]
  },
  {
   "cell_type": "code",
   "execution_count": 20,
   "metadata": {
    "executionInfo": {
     "elapsed": 1687,
     "status": "ok",
     "timestamp": 1604089586367,
     "user": {
      "displayName": "Matteo Ravasi",
      "photoUrl": "",
      "userId": "06412456769040614383"
     },
     "user_tz": -60
    },
    "id": "s6-Ffu1Wat1S"
   },
   "outputs": [],
   "source": [
    "# setup command\n",
    "cmd_setup =\"\"\"\\\n",
    "import numpy as np\n",
    "import cupy as cp\n",
    "import pylops\n",
    "n = 250000\n",
    "iava = np.arange(0,n,100)\n",
    "x = np.ones(n)\n",
    "xc = cp.ones(n)\n",
    "y = np.ones(n//100)\n",
    "yc = cp.ones(n//100)\n",
    "Op = pylops.Restriction(n, iava)\n",
    "cOp = pylops.Restriction(n, iava)\n",
    "\"\"\"\n",
    "df = timing(cmd_setup, df, 'Restriction')"
   ]
  },
  {
   "cell_type": "markdown",
   "metadata": {
    "id": "3q-Rb7MmasO9"
   },
   "source": [
    "## Transpose"
   ]
  },
  {
   "cell_type": "code",
   "execution_count": 21,
   "metadata": {
    "executionInfo": {
     "elapsed": 1667,
     "status": "ok",
     "timestamp": 1604089588023,
     "user": {
      "displayName": "Matteo Ravasi",
      "photoUrl": "",
      "userId": "06412456769040614383"
     },
     "user_tz": -60
    },
    "id": "-gLKFbUscj0r"
   },
   "outputs": [],
   "source": [
    "# setup command\n",
    "cmd_setup =\"\"\"\\\n",
    "import numpy as np\n",
    "import cupy as cp\n",
    "import pylops\n",
    "ny, nx = 500, 500\n",
    "x = np.ones(nx*ny)\n",
    "xc = cp.ones(nx*ny)\n",
    "y = np.ones(nx*ny)\n",
    "yc = cp.ones(nx*ny)\n",
    "Op = pylops.Transpose((ny, nx), axes=(1,0))\n",
    "cOp = pylops.Transpose((ny, nx), axes=(1,0))\n",
    "\"\"\"\n",
    "df = timing(cmd_setup, df, 'Transpose')"
   ]
  },
  {
   "cell_type": "markdown",
   "metadata": {
    "id": "Nj9Zru8SfT9B"
   },
   "source": [
    "## FFT"
   ]
  },
  {
   "cell_type": "code",
   "execution_count": 22,
   "metadata": {
    "executionInfo": {
     "elapsed": 2539,
     "status": "ok",
     "timestamp": 1604090768011,
     "user": {
      "displayName": "Matteo Ravasi",
      "photoUrl": "",
      "userId": "06412456769040614383"
     },
     "user_tz": -60
    },
    "id": "3rpDS-YEfYB4"
   },
   "outputs": [],
   "source": [
    "# setup command\n",
    "cmd_setup =\"\"\"\\\n",
    "import numpy as np\n",
    "import cupy as cp\n",
    "import pylops\n",
    "n = 250000\n",
    "x = np.ones(n)\n",
    "xc = cp.ones(n)\n",
    "y = np.ones(n)\n",
    "yc = cp.ones(n)\n",
    "Op = pylops.signalprocessing.FFT(dims=[n], nfft=n)\n",
    "cOp = pylops.signalprocessing.FFT(dims=[n], nfft=n)\n",
    "\"\"\"\n",
    "df = timing(cmd_setup, df, 'FFT')"
   ]
  },
  {
   "cell_type": "markdown",
   "metadata": {
    "id": "gn4-QSi784RL"
   },
   "source": [
    "## FFT2D"
   ]
  },
  {
   "cell_type": "code",
   "execution_count": 23,
   "metadata": {
    "executionInfo": {
     "elapsed": 3371,
     "status": "ok",
     "timestamp": 1604090770525,
     "user": {
      "displayName": "Matteo Ravasi",
      "photoUrl": "",
      "userId": "06412456769040614383"
     },
     "user_tz": -60
    },
    "id": "ufrzvDrJ85Pk"
   },
   "outputs": [],
   "source": [
    "# setup command\n",
    "cmd_setup =\"\"\"\\\n",
    "import numpy as np\n",
    "import cupy as cp\n",
    "import pylops\n",
    "ny, nx = 500, 500\n",
    "x = np.ones(nx*ny)\n",
    "xc = cp.ones(nx*ny)\n",
    "y = np.ones(nx*ny)\n",
    "yc = cp.ones(nx*ny)\n",
    "Op = pylops.signalprocessing.FFT2D(dims=[ny, nx])\n",
    "cOp = pylops.signalprocessing.FFT2D(dims=[ny, nx])\n",
    "\"\"\"\n",
    "df = timing(cmd_setup, df, 'FFT2D')"
   ]
  },
  {
   "cell_type": "markdown",
   "metadata": {
    "id": "i4TWbT4kDLVe"
   },
   "source": [
    "## FFTND"
   ]
  },
  {
   "cell_type": "code",
   "execution_count": 24,
   "metadata": {
    "executionInfo": {
     "elapsed": 3698,
     "status": "ok",
     "timestamp": 1604090820397,
     "user": {
      "displayName": "Matteo Ravasi",
      "photoUrl": "",
      "userId": "06412456769040614383"
     },
     "user_tz": -60
    },
    "id": "gG1KBIspB4fy"
   },
   "outputs": [],
   "source": [
    "# setup command\n",
    "cmd_setup =\"\"\"\\\n",
    "import numpy as np\n",
    "import cupy as cp\n",
    "import pylops\n",
    "nz, ny, nx = 50, 100, 100\n",
    "x = np.ones(nz*nx*ny)\n",
    "xc = cp.ones(nz*nx*ny)\n",
    "y = np.ones(nz*nx*ny)\n",
    "yc = cp.ones(nz*nx*ny)\n",
    "Op = pylops.signalprocessing.FFTND(dims=[nz, ny, nx])\n",
    "cOp = pylops.signalprocessing.FFTND(dims=[nz, ny, nx])\n",
    "\"\"\"\n",
    "df = timing(cmd_setup, df, 'FFTND')"
   ]
  },
  {
   "cell_type": "markdown",
   "metadata": {
    "id": "nUZPKkGWDKsh"
   },
   "source": [
    "## Convolve 1D"
   ]
  },
  {
   "cell_type": "code",
   "execution_count": 25,
   "metadata": {
    "executionInfo": {
     "elapsed": 3076,
     "status": "ok",
     "timestamp": 1604090821465,
     "user": {
      "displayName": "Matteo Ravasi",
      "photoUrl": "",
      "userId": "06412456769040614383"
     },
     "user_tz": -60
    },
    "id": "XL2kapI0B5gc"
   },
   "outputs": [],
   "source": [
    "# setup command\n",
    "cmd_setup =\"\"\"\\\n",
    "import numpy as np\n",
    "import cupy as cp\n",
    "import pylops\n",
    "n = 250000\n",
    "x = np.ones(n)\n",
    "xc = cp.ones(n)\n",
    "y = np.ones(n)\n",
    "yc = cp.ones(n)\n",
    "h = np.ones(40)\n",
    "hc = cp.ones(40)\n",
    "Op = pylops.signalprocessing.Convolve1D(n, h)\n",
    "cOp = pylops.signalprocessing.Convolve1D(n, h)\n",
    "\"\"\"\n",
    "df = timing(cmd_setup, df, 'Convolve1D')"
   ]
  },
  {
   "cell_type": "markdown",
   "metadata": {
    "id": "OEF5FBkbD8yV"
   },
   "source": [
    "## ChirpRadon2D"
   ]
  },
  {
   "cell_type": "code",
   "execution_count": 26,
   "metadata": {
    "executionInfo": {
     "elapsed": 9086,
     "status": "ok",
     "timestamp": 1604090828588,
     "user": {
      "displayName": "Matteo Ravasi",
      "photoUrl": "",
      "userId": "06412456769040614383"
     },
     "user_tz": -60
    },
    "id": "k1Z8uhXvD7QU"
   },
   "outputs": [],
   "source": [
    "# setup command\n",
    "cmd_setup =\"\"\"\\\n",
    "import numpy as np\n",
    "import cupy as cp\n",
    "import pylops\n",
    "nt, nh = 500, 500\n",
    "t = np.arange(nt)\n",
    "h = np.arange(nh)\n",
    "x = np.ones(nt*nh)\n",
    "xc = cp.ones(nt*nh)\n",
    "y = np.ones(nt*nh)\n",
    "yc = cp.ones(nt*nh)\n",
    "Op = pylops.signalprocessing.ChirpRadon2D(t, h, 0.001)\n",
    "cOp = pylops.signalprocessing.ChirpRadon2D(t, h, 0.001)\n",
    "\n",
    "\"\"\"\n",
    "df = timing(cmd_setup, df, 'ChirpRadon2D')"
   ]
  },
  {
   "cell_type": "code",
   "execution_count": 27,
   "metadata": {
    "executionInfo": {
     "elapsed": 40678,
     "status": "ok",
     "timestamp": 1604090860383,
     "user": {
      "displayName": "Matteo Ravasi",
      "photoUrl": "",
      "userId": "06412456769040614383"
     },
     "user_tz": -60
    },
    "id": "I9GSSGtJFr76"
   },
   "outputs": [],
   "source": [
    "# setup command\n",
    "cmd_setup =\"\"\"\\\n",
    "import numpy as np\n",
    "import cupy as cp\n",
    "import pylops\n",
    "nt, nh1, nh2 = 100, 50, 50\n",
    "t = np.arange(nt)\n",
    "h1 = np.arange(nh1)\n",
    "h2 = np.arange(nh2)\n",
    "x = np.ones(nt*nh1*nh2)\n",
    "xc = cp.ones(nt*nh1*nh2)\n",
    "y = np.ones(nt*nh1*nh2)\n",
    "yc = cp.ones(nt*nh1*nh2)\n",
    "Op = pylops.signalprocessing.ChirpRadon3D(t, h1, h2, (0.001, 0.001), engine='fftw')\n",
    "cOp = pylops.signalprocessing.ChirpRadon3D(t, h1, h2, (0.001, 0.001))\n",
    "\n",
    "\"\"\"\n",
    "df = timing(cmd_setup, df, 'ChirpRadon3D')"
   ]
  },
  {
   "cell_type": "code",
   "execution_count": 28,
   "metadata": {
    "colab": {
     "base_uri": "https://localhost:8080/",
     "height": 631
    },
    "executionInfo": {
     "elapsed": 41204,
     "status": "ok",
     "timestamp": 1604090861107,
     "user": {
      "displayName": "Matteo Ravasi",
      "photoUrl": "",
      "userId": "06412456769040614383"
     },
     "user_tz": -60
    },
    "id": "9PHJ10Yx8MUw",
    "outputId": "ee4ebbd9-15ef-4751-92e0-281e2daa4121"
   },
   "outputs": [
    {
     "data": {
      "image/png": "[encoded data removed]",
      "text/plain": [
       "<Figure size 864x288 with 1 Axes>"
      ]
     },
     "metadata": {
      "needs_background": "light"
     },
     "output_type": "display_data"
    },
    {
     "data": {
      "image/png": "[encoded data removed]",
      "text/plain": [
       "<Figure size 864x288 with 1 Axes>"
      ]
     },
     "metadata": {
      "needs_background": "light"
     },
     "output_type": "display_data"
    }
   ],
   "source": [
    "fig, ax = plt.subplots(figsize=(12, 4))\n",
    "sns.barplot(x='Method', y='Time', hue='Backend', data=df[df['Forw']==True])\n",
    "ax.set_xlabel('');\n",
    "ax.set_ylabel('Time (ms)')\n",
    "ax.set_title('Forward')\n",
    "ax.set_xticklabels(df['Method'].unique(),rotation=45, fontsize=9)\n",
    "\n",
    "fig, ax = plt.subplots(figsize=(12, 4))\n",
    "sns.barplot(x='Method', y='Time', hue='Backend', data=df[df['Forw']==False])\n",
    "ax.set_xlabel('');\n",
    "ax.set_ylabel('Time (ms)')\n",
    "ax.set_title('Adjoint')\n",
    "ax.set_xticklabels(df['Method'].unique(),rotation=45, fontsize=9);"
   ]
  }
 ],
 "metadata": {
  "accelerator": "GPU",
  "colab": {
   "authorship_tag": "ABX9TyO3CSEnfXl9AtI3TyzxEBMe",
   "collapsed_sections": [],
   "name": "Cupy_PYLOPS_timing.ipynb",
   "provenance": [
    {
     "file_id": "1maQoZwDzuMc7oBWegIIopStW_G9bLAuH",
     "timestamp": 1604001263422
    },
    {
     "file_id": "1nG9iDz8wwc_8Sa7fxwSFU338xlmDdbRJ",
     "timestamp": 1597609674038
    }
   ],
   "toc_visible": true
  },
  "kernelspec": {
   "display_name": "Python 3 (ipykernel)",
   "language": "python",
   "name": "python3"
  },
  "language_info": {
   "codemirror_mode": {
    "name": "ipython",
    "version": 3
   },
   "file_extension": ".py",
   "mimetype": "text/x-python",
   "name": "python",
   "nbconvert_exporter": "python",
   "pygments_lexer": "ipython3",
   "version": "3.9.12"
  },
  "toc": {
   "base_numbering": 1,
   "nav_menu": {},
   "number_sections": true,
   "sideBar": true,
   "skip_h1_title": false,
   "title_cell": "Table of Contents",
   "title_sidebar": "Contents",
   "toc_cell": false,
   "toc_position": {},
   "toc_section_display": true,
   "toc_window_display": true
  }
 },
 "nbformat": 4,
 "nbformat_minor": 1
}
