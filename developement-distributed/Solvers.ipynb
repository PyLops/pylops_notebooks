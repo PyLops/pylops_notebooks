{
 "cells": [
  {
   "cell_type": "markdown",
   "metadata": {},
   "source": [
    "# Pylops-distributed - Solvers"
   ]
  },
  {
   "cell_type": "markdown",
   "metadata": {},
   "source": [
    "In this notebook we investigate the use of scipy solvers with distributed operators. \n",
    "We will also create a simple CG solver to compare the results and performance"
   ]
  },
  {
   "cell_type": "code",
   "execution_count": 1,
   "metadata": {},
   "outputs": [],
   "source": [
    "%load_ext autoreload\n",
    "%autoreload 2\n",
    "%matplotlib inline\n",
    "\n",
    "import warnings\n",
    "warnings.filterwarnings('ignore')\n",
    "\n",
    "import numpy as np\n",
    "import matplotlib.pyplot as plt\n",
    "import scipy as sp\n",
    "import skfmm\n",
    "import dask.array as da\n",
    "import pylops\n",
    "import pylops_distributed\n",
    "\n",
    "from scipy.sparse.linalg.interface import MatrixLinearOperator, aslinearoperator \n",
    "from scipy.sparse import csr_matrix, vstack\n",
    "from scipy.linalg import lstsq, solve\n",
    "from scipy.sparse.linalg import LinearOperator, cg, lsqr, gmres\n",
    "#\n",
    "from scipy.signal import convolve, filtfilt"
   ]
  },
  {
   "cell_type": "code",
   "execution_count": 2,
   "metadata": {},
   "outputs": [
    {
     "data": {
      "text/html": [
       "<table style=\"border: 2px solid white;\">\n",
       "<tr>\n",
       "<td style=\"vertical-align: top; border: 0px solid white\">\n",
       "<h3>Client</h3>\n",
       "<ul>\n",
       "  <li><b>Scheduler: </b>inproc://10.10.154.93/3745/1\n",
       "  <li><b>Dashboard: </b><a href='http://localhost:54702/status' target='_blank'>http://localhost:54702/status</a>\n",
       "</ul>\n",
       "</td>\n",
       "<td style=\"vertical-align: top; border: 0px solid white\">\n",
       "<h3>Cluster</h3>\n",
       "<ul>\n",
       "  <li><b>Workers: </b>1</li>\n",
       "  <li><b>Cores: </b>1</li>\n",
       "  <li><b>Memory: </b>8.59 GB</li>\n",
       "</ul>\n",
       "</td>\n",
       "</tr>\n",
       "</table>"
      ],
      "text/plain": [
       "<Client: scheduler='inproc://10.10.154.93/3745/1' processes=1 cores=1>"
      ]
     },
     "execution_count": 2,
     "metadata": {},
     "output_type": "execute_result"
    }
   ],
   "source": [
    "client = pylops_distributed.utils.backend.dask()\n",
    "client"
   ]
  },
  {
   "cell_type": "markdown",
   "metadata": {},
   "source": [
    "## CG solver"
   ]
  },
  {
   "cell_type": "code",
   "execution_count": 3,
   "metadata": {},
   "outputs": [],
   "source": [
    "def conjgrad(A, b, x0, niter):\n",
    "    'Conjugate-gradient algorithm for minimizing |A x - dat|^2'\n",
    "    x = x0\n",
    "    r = b-A._matvec(x).ravel()\n",
    "    d = r.copy()\n",
    "    k = r.dot(r)\n",
    "    k0 = k\n",
    "    for iter in range(niter):\n",
    "        a = r.dot(r) / d.dot(A._matvec(d).ravel())\n",
    "        x = x + a*d\n",
    "        rnew = r - a*A._matvec(d).ravel()\n",
    "        k = rnew.dot(rnew)\n",
    "        b = rnew.dot(rnew) / r.dot(r)\n",
    "        d = rnew + b*d;\n",
    "        r = rnew.copy()\n",
    "    return x"
   ]
  },
  {
   "cell_type": "markdown",
   "metadata": {},
   "source": [
    "Let's just try out the solver with a matrix "
   ]
  },
  {
   "cell_type": "code",
   "execution_count": 4,
   "metadata": {},
   "outputs": [
    {
     "name": "stdout",
     "output_type": "stream",
     "text": [
      "eigs [2.66828020e+01 2.11109110e+01 1.63380312e+01 1.23872079e+01\n",
      " 9.13557102e+00 6.63534001e+00 3.13656650e+00 1.86068746e+00\n",
      " 1.08849168e-03 2.69793992e-01]\n",
      "[1. 1. 1. 1. 1. 1. 1. 1. 1. 1.]\n",
      "[1. 1. 1. 1. 1. 1. 1. 1. 1. 1.]\n"
     ]
    }
   ],
   "source": [
    "n = 10\n",
    "x = np.ones(n)\n",
    "\n",
    "A = np.random.randn(n, n)\n",
    "A = np.dot(A.T, A)\n",
    "print('eigs', np.linalg.eig(A)[0])\n",
    "\n",
    "#A = MatrixLinearOperator(A)\n",
    "Aop = aslinearoperator(A)\n",
    "\n",
    "y = Aop.matvec(x)\n",
    "xinv_sp = cg(Aop, y, maxiter=n)[0]\n",
    "xinv = conjgrad(Aop, y, np.zeros_like(x), n)\n",
    "print(xinv_sp)\n",
    "print(xinv)"
   ]
  },
  {
   "cell_type": "markdown",
   "metadata": {},
   "source": [
    "And with the LinearOperator"
   ]
  },
  {
   "cell_type": "code",
   "execution_count": 5,
   "metadata": {},
   "outputs": [
    {
     "name": "stdout",
     "output_type": "stream",
     "text": [
      "[1.         0.99999999 1.00000001 1.         1.         1.\n",
      " 1.         1.00000001 1.         1.        ]\n",
      "dask.array<add, shape=(10,), dtype=float64, chunksize=(5,)>\n",
      "[1. 1. 1. 1. 1. 1. 1. 1. 1. 1.]\n"
     ]
    }
   ],
   "source": [
    "Ada = da.from_array(A, chunks=(n//2, n//2))\n",
    "Aop = pylops_distributed.MatrixMult(Ada, compute=(True, True))\n",
    "yy = Aop * da.ones(n, chunks=(n//2,))\n",
    "\n",
    "xinv_sp = cg(Aop, yy, maxiter=n)[0]\n",
    "xinv = conjgrad(Aop, yy, np.zeros_like(x), n)\n",
    "print(xinv_sp)\n",
    "print(xinv)\n",
    "print(xinv.compute())"
   ]
  },
  {
   "cell_type": "code",
   "execution_count": 6,
   "metadata": {},
   "outputs": [
    {
     "name": "stdout",
     "output_type": "stream",
     "text": [
      "658 ms ± 0 ns per loop (mean ± std. dev. of 1 run, 3 loops each)\n",
      "1.03 s ± 0 ns per loop (mean ± std. dev. of 1 run, 3 loops each)\n"
     ]
    }
   ],
   "source": [
    "%timeit -n 3 -r 1 cg(Aop, y, maxiter=n)[0]\n",
    "%timeit -n 3 -r 1 conjgrad(Aop, y, np.zeros_like(x), n).compute()"
   ]
  },
  {
   "cell_type": "markdown",
   "metadata": {},
   "source": [
    "**Note:** in order to allow lazy evaluation of mat-vec products in a solver (leading to a dask array ``xinv``), it is required to use ``_matvec`` and  ``_rmatvec`` instead of \n",
    "``matvec`` and  ``rmatvec``. However scipy solvers use the latter... \n",
    "\n",
    "Moreover the graph creation when allowing lazy evaluation seem to be the bottleneck...\n",
    "\n",
    "what is the best way forward?"
   ]
  }
 ],
 "metadata": {
  "kernelspec": {
   "display_name": "Python 3",
   "language": "python",
   "name": "python3"
  },
  "language_info": {
   "codemirror_mode": {
    "name": "ipython",
    "version": 3
   },
   "file_extension": ".py",
   "mimetype": "text/x-python",
   "name": "python",
   "nbconvert_exporter": "python",
   "pygments_lexer": "ipython3",
   "version": "3.7.3"
  }
 },
 "nbformat": 4,
 "nbformat_minor": 2
}
