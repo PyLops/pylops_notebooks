{
 "cells": [
  {
   "cell_type": "markdown",
   "metadata": {},
   "source": [
    "# Pylops-distributed - Solvers"
   ]
  },
  {
   "cell_type": "markdown",
   "metadata": {},
   "source": [
    "In this notebook we investigate the use of pylops-distributed CG and CGLS solvers with distributed operators."
   ]
  },
  {
   "cell_type": "code",
   "execution_count": 1,
   "metadata": {},
   "outputs": [],
   "source": [
    "%load_ext autoreload\n",
    "%autoreload 2\n",
    "%matplotlib inline\n",
    "\n",
    "import warnings\n",
    "warnings.filterwarnings('ignore')\n",
    "\n",
    "import numpy as np\n",
    "import matplotlib.pyplot as plt\n",
    "import scipy as sp\n",
    "import skfmm\n",
    "import dask.array as da\n",
    "import pylops\n",
    "import pylops_distributed\n",
    "\n",
    "from scipy.sparse.linalg.interface import MatrixLinearOperator, aslinearoperator \n",
    "from scipy.sparse import csr_matrix, vstack\n",
    "from scipy.linalg import lstsq, solve\n",
    "from scipy.sparse.linalg import LinearOperator, cg, lsqr, gmres\n",
    "from scipy.signal import convolve, filtfilt\n",
    "from dask.distributed import performance_report"
   ]
  },
  {
   "cell_type": "code",
   "execution_count": 2,
   "metadata": {},
   "outputs": [
    {
     "data": {
      "text/html": [
       "<table style=\"border: 2px solid white;\">\n",
       "<tr>\n",
       "<td style=\"vertical-align: top; border: 0px solid white\">\n",
       "<h3 style=\"text-align: left;\">Client</h3>\n",
       "<ul style=\"text-align: left; list-style: none; margin: 0; padding: 0;\">\n",
       "  <li><b>Scheduler: </b>inproc://10.0.0.156/3852/1</li>\n",
       "  <li><b>Dashboard: </b><a href='http://10.0.0.156:8787/status' target='_blank'>http://10.0.0.156:8787/status</a>\n",
       "</ul>\n",
       "</td>\n",
       "<td style=\"vertical-align: top; border: 0px solid white\">\n",
       "<h3 style=\"text-align: left;\">Cluster</h3>\n",
       "<ul style=\"text-align: left; list-style:none; margin: 0; padding: 0;\">\n",
       "  <li><b>Workers: </b>4</li>\n",
       "  <li><b>Cores: </b>4</li>\n",
       "  <li><b>Memory: </b>8.59 GB</li>\n",
       "</ul>\n",
       "</td>\n",
       "</tr>\n",
       "</table>"
      ],
      "text/plain": [
       "<Client: 'inproc://10.0.0.156/3852/1' processes=4 threads=4, memory=8.59 GB>"
      ]
     },
     "execution_count": 2,
     "metadata": {},
     "output_type": "execute_result"
    }
   ],
   "source": [
    "client = pylops_distributed.utils.backend.dask(processes=False, threads_per_worker=1, n_workers=4)\n",
    "client"
   ]
  },
  {
   "cell_type": "markdown",
   "metadata": {},
   "source": [
    "### CG for square systems"
   ]
  },
  {
   "cell_type": "markdown",
   "metadata": {},
   "source": [
    "Let's just try out the solver with a matrix "
   ]
  },
  {
   "cell_type": "code",
   "execution_count": 3,
   "metadata": {},
   "outputs": [
    {
     "name": "stdout",
     "output_type": "stream",
     "text": [
      "eigs [1.40915640e+02 1.23483320e+02 1.15751612e+02 1.09010781e+02\n",
      " 9.08256000e+01 8.84139287e+01 8.49593751e+01 7.77661808e+01\n",
      " 7.62261030e+01 6.57976596e+01 5.93522575e+01 5.54187091e+01\n",
      " 5.19310520e+01 4.84624657e+01 4.50222991e+01 4.31437028e+01\n",
      " 3.91054773e+01 3.59360315e+01 3.36481017e+01 2.86192343e+01\n",
      " 2.65111081e+01 2.19851755e+01 2.00639186e+01 1.75290492e+01\n",
      " 1.65609945e+01 1.42031371e+01 1.32386635e+01 1.07937980e+01\n",
      " 9.20401543e+00 7.77064048e+00 4.51521148e+00 3.88061301e+00\n",
      " 2.58533338e+00 1.90878406e+00 1.35536229e+00 9.47319106e-01\n",
      " 4.89201581e-01 5.52959134e-02 1.17057847e-01 2.06406408e-01]\n",
      "[1. 1. 1. 1. 1. 1. 1. 1. 1. 1. 1. 1. 1. 1. 1. 1. 1. 1. 1. 1. 1. 1. 1. 1.\n",
      " 1. 1. 1. 1. 1. 1. 1. 1. 1. 1. 1. 1. 1. 1. 1. 1.]\n",
      "[1. 1. 1. 1. 1. 1. 1. 1. 1. 1. 1. 1. 1. 1. 1. 1. 1. 1. 1. 1. 1. 1. 1. 1.\n",
      " 1. 1. 1. 1. 1. 1. 1. 1. 1. 1. 1. 1. 1. 1. 1. 1.]\n"
     ]
    },
    {
     "data": {
      "text/plain": [
       "(0.9, 1.1)"
      ]
     },
     "execution_count": 3,
     "metadata": {},
     "output_type": "execute_result"
    },
    {
     "data": {
      "image/png": "[encoded data removed]",
      "text/plain": [
       "<Figure size 432x288 with 1 Axes>"
      ]
     },
     "metadata": {
      "needs_background": "light"
     },
     "output_type": "display_data"
    }
   ],
   "source": [
    "n = 40\n",
    "niter = n * 2\n",
    "x = np.ones(n)\n",
    "\n",
    "A = np.random.randn(n, n)\n",
    "A = np.dot(A.T, A)\n",
    "print('eigs', np.linalg.eig(A)[0])\n",
    "\n",
    "Aop = MatrixLinearOperator(A)\n",
    "#Aop = aslinearoperator(A)\n",
    "\n",
    "y = Aop.matvec(x)\n",
    "xinv_sp = cg(Aop, y, tol=0, maxiter=niter)[0]\n",
    "xinv = pylops_distributed.optimization.cg.cg(Aop, y, np.zeros_like(x), tol=0, niter=niter)[0]\n",
    "print(xinv_sp)\n",
    "print(xinv)\n",
    "\n",
    "plt.figure()\n",
    "plt.plot(x,'b', xinv_sp,'r', xinv, '--g')\n",
    "plt.ylim(0.9, 1.1)"
   ]
  },
  {
   "cell_type": "markdown",
   "metadata": {},
   "source": [
    "And with the LinearOperator"
   ]
  },
  {
   "cell_type": "code",
   "execution_count": 4,
   "metadata": {},
   "outputs": [
    {
     "name": "stdout",
     "output_type": "stream",
     "text": [
      "[0.94033047 1.00733541 1.02155122 1.03570144 0.97204653 0.96998104\n",
      " 0.92759964 1.01767323 0.98687269 0.97509681 1.02688219 1.00587473\n",
      " 0.91358055 0.93297877 1.02068345 1.01352795 1.03423851 0.96062992\n",
      " 1.02038245 1.0035857  0.977226   1.05548331 0.99029724 0.99189707\n",
      " 1.03276037 0.97920542 1.08121494 0.99698102 0.96226755 0.97463722\n",
      " 0.9759277  1.03736988 0.97152664 1.06127016 0.98358446 1.03304261\n",
      " 0.97594625 0.98662887 0.97912944 1.00223848]\n",
      "dask.array<add, shape=(40,), dtype=float64, chunksize=(20,), chunktype=numpy.ndarray>\n",
      "[1. 1. 1. 1. 1. 1. 1. 1. 1. 1. 1. 1. 1. 1. 1. 1. 1. 1. 1. 1. 1. 1. 1. 1.\n",
      " 1. 1. 1. 1. 1. 1. 1. 1. 1. 1. 1. 1. 1. 1. 1. 1.]\n",
      "[1. 1. 1. 1. 1. 1. 1. 1. 1. 1. 1. 1. 1. 1. 1. 1. 1. 1. 1. 1. 1. 1. 1. 1.\n",
      " 1. 1. 1. 1. 1. 1. 1. 1. 1. 1. 1. 1. 1. 1. 1. 1.]\n"
     ]
    }
   ],
   "source": [
    "Ada = da.from_array(A, chunks=(n//2, n))\n",
    "Adaop = pylops_distributed.MatrixMult(Ada, compute=(False, False))\n",
    "\n",
    "y = Aop * np.ones(n)\n",
    "yy = Adaop * da.ones(n, chunks=(n//2,))\n",
    "\n",
    "xinv_sp = cg(Aop, yy, maxiter=n)[0]\n",
    "xinv = pylops_distributed.optimization.cg.cg(Adaop, yy, da.zeros(n), tol=0, niter=niter)[0]\n",
    "xinv1 = pylops_distributed.optimization.cg.cg(Adaop, yy, da.zeros(n), tol=0, niter=niter, client=client)[0]\n",
    "\n",
    "print(xinv_sp)\n",
    "print(xinv)\n",
    "print(xinv.compute())\n",
    "print(xinv1.compute())"
   ]
  },
  {
   "cell_type": "code",
   "execution_count": 6,
   "metadata": {},
   "outputs": [
    {
     "name": "stdout",
     "output_type": "stream",
     "text": [
      "2.41 ms ± 0 ns per loop (mean ± std. dev. of 1 run, 3 loops each)\n",
      "8.77 s ± 0 ns per loop (mean ± std. dev. of 1 run, 3 loops each)\n",
      "15.2 s ± 0 ns per loop (mean ± std. dev. of 1 run, 3 loops each)\n",
      "9.39 s ± 0 ns per loop (mean ± std. dev. of 1 run, 3 loops each)\n"
     ]
    }
   ],
   "source": [
    "%timeit -n 3 -r 1 cg(Aop, y, maxiter=n)[0]\n",
    "%timeit -n 3 -r 1 pylops_distributed.optimization.cg.cg(Adaop, y, da.zeros(n), tol=0, niter=niter)[0].compute()\n",
    "%timeit -n 3 -r 1 pylops_distributed.optimization.cg.cg(Adaop, yy, da.zeros(n), tol=0, niter=niter, compute=True)[0]\n",
    "%timeit -n 3 -r 1 pylops_distributed.optimization.cg.cg(Adaop, yy, da.zeros(n), tol=0, niter=niter, client=client)[0].compute()"
   ]
  },
  {
   "cell_type": "code",
   "execution_count": 7,
   "metadata": {},
   "outputs": [],
   "source": [
    "with performance_report(filename=\"/Users/matteoravasi/Desktop/dask-report-cg_postponed.html\"):\n",
    "    pylops_distributed.optimization.cg.cg(Adaop, y, da.zeros(n), tol=0, niter=niter)[0].compute()"
   ]
  },
  {
   "cell_type": "code",
   "execution_count": 8,
   "metadata": {},
   "outputs": [],
   "source": [
    "with performance_report(filename=\"/Users/matteoravasi/Desktop/dask-report-cg_compute.html\"):\n",
    "    pylops_distributed.optimization.cg.cg(Adaop, yy, da.zeros(n), tol=0, niter=niter, compute=True)[0]"
   ]
  },
  {
   "cell_type": "code",
   "execution_count": 9,
   "metadata": {},
   "outputs": [],
   "source": [
    "with performance_report(filename=\"/Users/matteoravasi/Desktop/dask-report-cg_persist.html\"):\n",
    "    pylops_distributed.optimization.cg.cg(Adaop, yy, da.zeros(n), tol=0, niter=niter, client=client)[0].compute()"
   ]
  },
  {
   "cell_type": "markdown",
   "metadata": {},
   "source": [
    "### CGLS for rectangular systems"
   ]
  },
  {
   "cell_type": "code",
   "execution_count": 10,
   "metadata": {},
   "outputs": [],
   "source": [
    "n, m = 100, 6\n",
    "x = np.ones(m)\n",
    "\n",
    "A = np.random.randn(n, m)\n",
    "Ada = da.from_array(A, chunks=(n//2, m), name='Aop')\n",
    "Aop = pylops_distributed.MatrixMult(Ada, compute=(False, False))\n",
    "y = Aop * da.ones(m, name='x')\n",
    "\n",
    "xinv = pylops_distributed.optimization.cg.cgls(Aop, y, da.zeros(m, name='x0'), m)[0]"
   ]
  },
  {
   "cell_type": "code",
   "execution_count": 11,
   "metadata": {},
   "outputs": [],
   "source": [
    "#y.visualize(rankdir=\"LR\")\n",
    "#xinv.visualize(rankdir=\"LR\")"
   ]
  },
  {
   "cell_type": "code",
   "execution_count": 12,
   "metadata": {},
   "outputs": [
    {
     "name": "stdout",
     "output_type": "stream",
     "text": [
      "[1. 1. 1. 1. 1. 1.]\n"
     ]
    }
   ],
   "source": [
    "print(xinv.compute())"
   ]
  },
  {
   "cell_type": "code",
   "execution_count": 13,
   "metadata": {},
   "outputs": [
    {
     "name": "stdout",
     "output_type": "stream",
     "text": [
      "2.39 s ± 0 ns per loop (mean ± std. dev. of 1 run, 3 loops each)\n",
      "2.36 s ± 0 ns per loop (mean ± std. dev. of 1 run, 3 loops each)\n",
      "2.35 s ± 0 ns per loop (mean ± std. dev. of 1 run, 3 loops each)\n"
     ]
    }
   ],
   "source": [
    "%timeit -n 3 -r 1 pylops_distributed.optimization.cg.cgls(Aop, y, da.zeros(m), tol=0, niter=20)[0].compute()\n",
    "%timeit -n 3 -r 1 pylops_distributed.optimization.cg.cgls(Aop, y, da.zeros(m), tol=0, niter=20, compute=True)\n",
    "%timeit -n 3 -r 1 pylops_distributed.optimization.cg.cgls(Aop, y, da.zeros(m), tol=0, niter=20, client=client)[0].compute()"
   ]
  }
 ],
 "metadata": {
  "kernelspec": {
   "display_name": "Python 3",
   "language": "python",
   "name": "python3"
  },
  "language_info": {
   "codemirror_mode": {
    "name": "ipython",
    "version": 3
   },
   "file_extension": ".py",
   "mimetype": "text/x-python",
   "name": "python",
   "nbconvert_exporter": "python",
   "pygments_lexer": "ipython3",
   "version": "3.7.3"
  },
  "toc": {
   "base_numbering": 1,
   "nav_menu": {},
   "number_sections": true,
   "sideBar": true,
   "skip_h1_title": false,
   "title_cell": "Table of Contents",
   "title_sidebar": "Contents",
   "toc_cell": false,
   "toc_position": {},
   "toc_section_display": true,
   "toc_window_display": false
  }
 },
 "nbformat": 4,
 "nbformat_minor": 2
}
