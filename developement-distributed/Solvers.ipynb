{
 "cells": [
  {
   "cell_type": "markdown",
   "metadata": {},
   "source": [
    "# Pylops-distributed - Solvers"
   ]
  },
  {
   "cell_type": "markdown",
   "metadata": {},
   "source": [
    "In this notebook we investigate the use of pylops-distributed CG and CGLS solvers with distributed operators."
   ]
  },
  {
   "cell_type": "code",
   "execution_count": 1,
   "metadata": {},
   "outputs": [],
   "source": [
    "%load_ext autoreload\n",
    "%autoreload 2\n",
    "%matplotlib inline\n",
    "\n",
    "import warnings\n",
    "warnings.filterwarnings('ignore')\n",
    "\n",
    "import numpy as np\n",
    "import matplotlib.pyplot as plt\n",
    "import scipy as sp\n",
    "import skfmm\n",
    "import dask\n",
    "import dask.array as da\n",
    "import pylops\n",
    "import pylops_distributed\n",
    "\n",
    "from scipy.sparse.linalg.interface import MatrixLinearOperator, aslinearoperator \n",
    "from scipy.linalg import lstsq, solve\n",
    "from scipy.sparse.linalg import cg, lsqr\n",
    "from dask import persist\n",
    "from dask.distributed import performance_report"
   ]
  },
  {
   "cell_type": "code",
   "execution_count": 2,
   "metadata": {},
   "outputs": [
    {
     "data": {
      "text/html": [
       "<table style=\"border: 2px solid white;\">\n",
       "<tr>\n",
       "<td style=\"vertical-align: top; border: 0px solid white\">\n",
       "<h3 style=\"text-align: left;\">Client</h3>\n",
       "<ul style=\"text-align: left; list-style: none; margin: 0; padding: 0;\">\n",
       "  <li><b>Scheduler: </b>inproc://10.0.0.156/5625/1</li>\n",
       "  <li><b>Dashboard: </b><a href='http://10.0.0.156:8787/status' target='_blank'>http://10.0.0.156:8787/status</a>\n",
       "</ul>\n",
       "</td>\n",
       "<td style=\"vertical-align: top; border: 0px solid white\">\n",
       "<h3 style=\"text-align: left;\">Cluster</h3>\n",
       "<ul style=\"text-align: left; list-style:none; margin: 0; padding: 0;\">\n",
       "  <li><b>Workers: </b>4</li>\n",
       "  <li><b>Cores: </b>4</li>\n",
       "  <li><b>Memory: </b>8.59 GB</li>\n",
       "</ul>\n",
       "</td>\n",
       "</tr>\n",
       "</table>"
      ],
      "text/plain": [
       "<Client: 'inproc://10.0.0.156/5625/1' processes=4 threads=4, memory=8.59 GB>"
      ]
     },
     "execution_count": 2,
     "metadata": {},
     "output_type": "execute_result"
    }
   ],
   "source": [
    "client = pylops_distributed.utils.backend.dask(processes=False, threads_per_worker=1, n_workers=4)\n",
    "client"
   ]
  },
  {
   "cell_type": "markdown",
   "metadata": {},
   "source": [
    "### CG for square systems"
   ]
  },
  {
   "cell_type": "markdown",
   "metadata": {},
   "source": [
    "Let's just try out the solver using numpy inputs (matrix and vector). As da.xx is never explicitely invoked when ``compute=False`` and ``client=None`` the solver will simply operate on numpy arrays"
   ]
  },
  {
   "cell_type": "code",
   "execution_count": 3,
   "metadata": {
    "scrolled": true
   },
   "outputs": [
    {
     "data": {
      "image/png": "[encoded data removed]",
      "text/plain": [
       "<Figure size 432x288 with 1 Axes>"
      ]
     },
     "metadata": {
      "needs_background": "light"
     },
     "output_type": "display_data"
    }
   ],
   "source": [
    "n = 3000\n",
    "niter = 100 # n * 2\n",
    "x = np.ones(n)\n",
    "\n",
    "A = np.random.randn(n, n)\n",
    "A = np.dot(A.T, A)\n",
    "#print('eigs', np.linalg.eig(A)[0])\n",
    "\n",
    "Aop = MatrixLinearOperator(A)\n",
    "#Aop = aslinearoperator(A)\n",
    "\n",
    "y = Aop.matvec(x)\n",
    "xinv_sp = cg(Aop, y, tol=0, maxiter=niter)[0]\n",
    "xinv = pylops_distributed.optimization.cg.cg(Aop, y, np.zeros_like(x), tol=0, niter=niter)[0]\n",
    "#print(xinv_sp)\n",
    "#print(xinv)\n",
    "\n",
    "plt.figure()\n",
    "plt.plot(xinv_sp,'r', xinv, '--g', x,'b')\n",
    "plt.ylim(0.9, 1.1);"
   ]
  },
  {
   "cell_type": "markdown",
   "metadata": {},
   "source": [
    "And with the LinearOperator"
   ]
  },
  {
   "cell_type": "code",
   "execution_count": 4,
   "metadata": {},
   "outputs": [
    {
     "name": "stdout",
     "output_type": "stream",
     "text": [
      "[0.95852157 0.95237038 1.03109532 ... 1.06702117 1.12299406 1.01216217]\n",
      "dask.array<add, shape=(3000,), dtype=float64, chunksize=(1500,), chunktype=numpy.ndarray>\n",
      "[0.97012921 0.93085739 1.07994823 ... 1.19309894 1.21262186 1.06240127]\n",
      "[0.97012921 0.93085739 1.07994823 ... 1.19309894 1.21262186 1.06240127]\n"
     ]
    }
   ],
   "source": [
    "niter = 100\n",
    "\n",
    "Ada = da.from_array(A, chunks=(n//2, n))\n",
    "Adaop = pylops_distributed.MatrixMult(Ada, compute=(False, False))\n",
    "\n",
    "y = Aop * np.ones(n)\n",
    "yy = Adaop * da.ones(n)\n",
    "\n",
    "xinv_sp = cg(Aop, y, maxiter=n)[0]\n",
    "xinv = pylops_distributed.optimization.cg.cg(Adaop, yy, da.zeros(n), tol=0, niter=niter)[0]\n",
    "xinv1 = pylops_distributed.optimization.cg.cg(Adaop, yy, da.zeros(n), tol=0, niter=niter, client=client)[0]\n",
    "\n",
    "print(xinv_sp)\n",
    "print(xinv)\n",
    "print(xinv.compute())\n",
    "print(xinv1.compute())"
   ]
  },
  {
   "cell_type": "code",
   "execution_count": 5,
   "metadata": {},
   "outputs": [
    {
     "name": "stdout",
     "output_type": "stream",
     "text": [
      "2.16 s ± 0 ns per loop (mean ± std. dev. of 1 run, 3 loops each)\n"
     ]
    }
   ],
   "source": [
    "%timeit -n 3 -r 1 cg(Aop, y, maxiter=n)[0]"
   ]
  },
  {
   "cell_type": "code",
   "execution_count": 6,
   "metadata": {},
   "outputs": [
    {
     "name": "stdout",
     "output_type": "stream",
     "text": [
      "19.2 s ± 0 ns per loop (mean ± std. dev. of 1 run, 3 loops each)\n"
     ]
    }
   ],
   "source": [
    "%timeit -n 3 -r 1 pylops_distributed.optimization.cg.cg(Adaop, yy, da.zeros(n), tol=0, niter=niter, compute=True)[0]"
   ]
  },
  {
   "cell_type": "code",
   "execution_count": 7,
   "metadata": {},
   "outputs": [
    {
     "name": "stdout",
     "output_type": "stream",
     "text": [
      "19.1 s ± 0 ns per loop (mean ± std. dev. of 1 run, 3 loops each)\n"
     ]
    }
   ],
   "source": [
    "%timeit -n 3 -r 1 pylops_distributed.optimization.cg.cg(Adaop, yy, da.zeros(n), tol=0, niter=niter, client=client)[0].compute()"
   ]
  },
  {
   "cell_type": "code",
   "execution_count": 8,
   "metadata": {},
   "outputs": [
    {
     "name": "stdout",
     "output_type": "stream",
     "text": [
      "16.7 s ± 0 ns per loop (mean ± std. dev. of 1 run, 3 loops each)\n"
     ]
    }
   ],
   "source": [
    "%timeit -n 3 -r 1 pylops_distributed.optimization.cg.cg(Adaop, y, da.zeros(n), tol=0, niter=niter)[0].compute()"
   ]
  },
  {
   "cell_type": "code",
   "execution_count": 9,
   "metadata": {},
   "outputs": [],
   "source": [
    "with performance_report(filename=\"dask-report-cg_compute.html\"):\n",
    "    pylops_distributed.optimization.cg.cg(Adaop, yy, da.zeros(n), tol=0, niter=niter, compute=True)[0]"
   ]
  },
  {
   "cell_type": "code",
   "execution_count": 10,
   "metadata": {},
   "outputs": [],
   "source": [
    "with performance_report(filename=\"dask-report-cg_persist.html\"):\n",
    "    pylops_distributed.optimization.cg.cg(Adaop, yy, da.zeros(n), tol=0, niter=niter, client=client)[0].compute()"
   ]
  },
  {
   "cell_type": "code",
   "execution_count": 11,
   "metadata": {},
   "outputs": [],
   "source": [
    "with performance_report(filename=\"dask-report-cg_postponed.html\"):\n",
    "    pylops_distributed.optimization.cg.cg(Adaop, y, da.zeros(n), tol=0, niter=niter)[0].compute()"
   ]
  },
  {
   "cell_type": "markdown",
   "metadata": {},
   "source": [
    "Let's now persist the data and matrix before running the inversion"
   ]
  },
  {
   "cell_type": "code",
   "execution_count": 12,
   "metadata": {},
   "outputs": [],
   "source": [
    "Ada = da.from_array(A, chunks=(n//2, n))\n",
    "yy = Adaop * da.ones(n)\n",
    "\n",
    "Ada, yy = persist(Ada, yy)\n",
    "Adaop = pylops_distributed.MatrixMult(Ada, compute=(False, False))"
   ]
  },
  {
   "cell_type": "code",
   "execution_count": 13,
   "metadata": {},
   "outputs": [
    {
     "name": "stdout",
     "output_type": "stream",
     "text": [
      "16.2 s ± 0 ns per loop (mean ± std. dev. of 1 run, 3 loops each)\n"
     ]
    }
   ],
   "source": [
    "%timeit -n 3 -r 1 pylops_distributed.optimization.cg.cg(Adaop, y, da.zeros(n), tol=0, niter=niter)[0].compute()"
   ]
  },
  {
   "cell_type": "markdown",
   "metadata": {},
   "source": [
    "### CGLS for rectangular systems"
   ]
  },
  {
   "cell_type": "code",
   "execution_count": 14,
   "metadata": {},
   "outputs": [
    {
     "data": {
      "text/plain": [
       "array([1., 1., 1., 1., 1., 1., 1., 1., 1., 1., 1., 1., 1., 1., 1., 1., 1.,\n",
       "       1., 1., 1., 1., 1., 1., 1., 1., 1., 1., 1., 1., 1., 1., 1., 1., 1.,\n",
       "       1., 1., 1., 1., 1., 1., 1., 1., 1., 1., 1., 1., 1., 1., 1., 1.])"
      ]
     },
     "execution_count": 14,
     "metadata": {},
     "output_type": "execute_result"
    }
   ],
   "source": [
    "n, m = 1000, 50\n",
    "x = np.ones(m)\n",
    "\n",
    "A = np.random.randn(n, m)\n",
    "Ada = da.from_array(A, chunks=(n//2, m), name='Aop')\n",
    "Aop = pylops_distributed.MatrixMult(Ada, compute=(False, False))\n",
    "y = Aop * da.ones(m, name='x')\n",
    "\n",
    "xinv = pylops_distributed.optimization.cg.cgls(Aop, y, da.zeros(m, name='x0'), m)[0]\n",
    "xinv.compute()"
   ]
  },
  {
   "cell_type": "code",
   "execution_count": 15,
   "metadata": {},
   "outputs": [],
   "source": [
    "#y.visualize(rankdir=\"LR\")\n",
    "#xinv.visualize(rankdir=\"LR\")"
   ]
  },
  {
   "cell_type": "code",
   "execution_count": 16,
   "metadata": {},
   "outputs": [
    {
     "name": "stdout",
     "output_type": "stream",
     "text": [
      "3.36 s ± 0 ns per loop (mean ± std. dev. of 1 run, 3 loops each)\n"
     ]
    }
   ],
   "source": [
    "%timeit -n 3 -r 1 pylops_distributed.optimization.cg.cgls(Aop, y, da.zeros(m), tol=0, niter=20, compute=True)"
   ]
  },
  {
   "cell_type": "code",
   "execution_count": 17,
   "metadata": {},
   "outputs": [
    {
     "name": "stdout",
     "output_type": "stream",
     "text": [
      "3.31 s ± 0 ns per loop (mean ± std. dev. of 1 run, 3 loops each)\n"
     ]
    }
   ],
   "source": [
    "%timeit -n 3 -r 1 pylops_distributed.optimization.cg.cgls(Aop, y, da.zeros(m), tol=0, niter=20, client=client)[0].compute()"
   ]
  },
  {
   "cell_type": "code",
   "execution_count": 18,
   "metadata": {},
   "outputs": [
    {
     "name": "stdout",
     "output_type": "stream",
     "text": [
      "3.12 s ± 0 ns per loop (mean ± std. dev. of 1 run, 3 loops each)\n"
     ]
    }
   ],
   "source": [
    "%timeit -n 3 -r 1 pylops_distributed.optimization.cg.cgls(Aop, y, da.zeros(m), tol=0, niter=20)[0].compute()"
   ]
  },
  {
   "cell_type": "markdown",
   "metadata": {},
   "source": [
    "## LSQR scipy (suboptimal)"
   ]
  },
  {
   "cell_type": "code",
   "execution_count": 19,
   "metadata": {},
   "outputs": [
    {
     "data": {
      "text/plain": [
       "(dask.array<sum-aggregate, shape=(100,), dtype=float64, chunksize=(10,), chunktype=numpy.ndarray>,\n",
       " dask.array<add, shape=(100,), dtype=float64, chunksize=(10,), chunktype=numpy.ndarray>)"
      ]
     },
     "execution_count": 19,
     "metadata": {},
     "output_type": "execute_result"
    }
   ],
   "source": [
    "import numpy as np\n",
    "import dask.array as da\n",
    "import pylops_distributed\n",
    "from scipy.sparse.linalg import lsqr\n",
    "from scipy.sparse.linalg.interface import MatrixLinearOperator\n",
    "\n",
    "n, m = 100, 100\n",
    "A = da.random.random((n, m), chunks=(n//10, m//10))\n",
    "#Aop = MatrixLinearOperator(A)\n",
    "Aop = pylops_distributed.MatrixMult(A)#, compute=(True, True), todask=(True, True))\n",
    "y = Aop * da.ones(m)\n",
    "\n",
    "xinv = lsqr(Aop, y, iter_lim=2)[0]\n",
    "y, xinv"
   ]
  },
  {
   "cell_type": "code",
   "execution_count": 20,
   "metadata": {},
   "outputs": [
    {
     "name": "stdout",
     "output_type": "stream",
     "text": [
      "CPU times: user 2min 21s, sys: 7.32 s, total: 2min 29s\n",
      "Wall time: 2min 28s\n"
     ]
    }
   ],
   "source": [
    "%%time \n",
    "xinv = lsqr(Aop, y, iter_lim=2)[0]"
   ]
  },
  {
   "cell_type": "code",
   "execution_count": 21,
   "metadata": {},
   "outputs": [],
   "source": [
    "with performance_report(filename=\"dask-report-lsqr.html\"):\n",
    "    lsqr(Aop, y, iter_lim=2)[0].compute()"
   ]
  },
  {
   "cell_type": "code",
   "execution_count": 22,
   "metadata": {},
   "outputs": [],
   "source": [
    "client.close()"
   ]
  },
  {
   "cell_type": "code",
   "execution_count": null,
   "metadata": {},
   "outputs": [],
   "source": []
  }
 ],
 "metadata": {
  "kernelspec": {
   "display_name": "Python 3",
   "language": "python",
   "name": "python3"
  },
  "language_info": {
   "codemirror_mode": {
    "name": "ipython",
    "version": 3
   },
   "file_extension": ".py",
   "mimetype": "text/x-python",
   "name": "python",
   "nbconvert_exporter": "python",
   "pygments_lexer": "ipython3",
   "version": "3.7.3"
  },
  "toc": {
   "base_numbering": 1,
   "nav_menu": {},
   "number_sections": true,
   "sideBar": true,
   "skip_h1_title": false,
   "title_cell": "Table of Contents",
   "title_sidebar": "Contents",
   "toc_cell": false,
   "toc_position": {},
   "toc_section_display": true,
   "toc_window_display": false
  }
 },
 "nbformat": 4,
 "nbformat_minor": 2
}
