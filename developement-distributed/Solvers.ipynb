{
 "cells": [
  {
   "cell_type": "markdown",
   "metadata": {},
   "source": [
    "# Pylops-distributed - Solvers"
   ]
  },
  {
   "cell_type": "markdown",
   "metadata": {},
   "source": [
    "In this notebook we investigate the use of scipy solvers with distributed operators. \n",
    "We will also create a simple CG solver to compare the results and performance"
   ]
  },
  {
   "cell_type": "code",
   "execution_count": 1,
   "metadata": {},
   "outputs": [],
   "source": [
    "%load_ext autoreload\n",
    "%autoreload 2\n",
    "%matplotlib inline\n",
    "\n",
    "import warnings\n",
    "warnings.filterwarnings('ignore')\n",
    "\n",
    "import numpy as np\n",
    "import matplotlib.pyplot as plt\n",
    "import scipy as sp\n",
    "import skfmm\n",
    "import dask.array as da\n",
    "import pylops\n",
    "import pylops_distributed\n",
    "\n",
    "from scipy.sparse.linalg.interface import MatrixLinearOperator, aslinearoperator \n",
    "from scipy.sparse import csr_matrix, vstack\n",
    "from scipy.linalg import lstsq, solve\n",
    "from scipy.sparse.linalg import LinearOperator, cg, lsqr, gmres\n",
    "#\n",
    "from scipy.signal import convolve, filtfilt"
   ]
  },
  {
   "cell_type": "code",
   "execution_count": 2,
   "metadata": {},
   "outputs": [
    {
     "data": {
      "text/html": [
       "<table style=\"border: 2px solid white;\">\n",
       "<tr>\n",
       "<td style=\"vertical-align: top; border: 0px solid white\">\n",
       "<h3>Client</h3>\n",
       "<ul>\n",
       "  <li><b>Scheduler: </b>inproc://10.0.0.15/2801/1\n",
       "  <li><b>Dashboard: </b><a href='http://localhost:8787/status' target='_blank'>http://localhost:8787/status</a>\n",
       "</ul>\n",
       "</td>\n",
       "<td style=\"vertical-align: top; border: 0px solid white\">\n",
       "<h3>Cluster</h3>\n",
       "<ul>\n",
       "  <li><b>Workers: </b>1</li>\n",
       "  <li><b>Cores: </b>1</li>\n",
       "  <li><b>Memory: </b>8.59 GB</li>\n",
       "</ul>\n",
       "</td>\n",
       "</tr>\n",
       "</table>"
      ],
      "text/plain": [
       "<Client: scheduler='inproc://10.0.0.15/2801/1' processes=1 cores=1>"
      ]
     },
     "execution_count": 2,
     "metadata": {},
     "output_type": "execute_result"
    }
   ],
   "source": [
    "client = pylops_distributed.utils.backend.dask()\n",
    "client"
   ]
  },
  {
   "cell_type": "markdown",
   "metadata": {},
   "source": [
    "Let's just try out the solver with a matrix "
   ]
  },
  {
   "cell_type": "code",
   "execution_count": 3,
   "metadata": {},
   "outputs": [
    {
     "name": "stdout",
     "output_type": "stream",
     "text": [
      "eigs [33.65686494 21.07652073 18.02672081 14.20569459  2.80215499  0.09772934\n",
      "  1.76915307  0.60114319  1.04114368  1.47055489]\n",
      "[0.99999997 0.99999997 1.00000004 0.99999997 1.00000001 1.\n",
      " 0.99999994 1.00000002 0.99999998 0.99999997]\n",
      "[0.99999993 0.99999995 1.00000008 0.99999994 1.00000002 0.99999999\n",
      " 0.99999988 1.00000005 0.99999996 0.99999994]\n"
     ]
    }
   ],
   "source": [
    "n = 10\n",
    "x = np.ones(n)\n",
    "\n",
    "A = np.random.randn(n, n)\n",
    "A = np.dot(A.T, A)\n",
    "print('eigs', np.linalg.eig(A)[0])\n",
    "\n",
    "#A = MatrixLinearOperator(A)\n",
    "Aop = aslinearoperator(A)\n",
    "\n",
    "y = Aop.matvec(x)\n",
    "xinv_sp = cg(Aop, y, maxiter=n)[0]\n",
    "xinv = pylops_distributed.optimization.cg.cg(Aop, y, np.zeros_like(x), n)\n",
    "print(xinv_sp)\n",
    "print(xinv)"
   ]
  },
  {
   "cell_type": "markdown",
   "metadata": {},
   "source": [
    "And with the LinearOperator"
   ]
  },
  {
   "cell_type": "code",
   "execution_count": 4,
   "metadata": {},
   "outputs": [
    {
     "name": "stdout",
     "output_type": "stream",
     "text": [
      "[0.9999999  0.99999992 1.00000012 0.99999991 1.00000003 0.99999999\n",
      " 0.99999983 1.00000007 0.99999994 0.99999992]\n",
      "dask.array<add, shape=(10,), dtype=float64, chunksize=(10,)>\n",
      "[0.9999999  0.99999992 1.00000011 0.99999991 1.00000003 0.99999999\n",
      " 0.99999983 1.00000007 0.99999994 0.99999992]\n"
     ]
    }
   ],
   "source": [
    "Ada = da.from_array(A, chunks=(n//2, n//2))\n",
    "Aop = pylops_distributed.MatrixMult(Ada, compute=(True, True))\n",
    "yy = Aop * da.ones(n, chunks=(n//2,))\n",
    "\n",
    "xinv_sp = cg(Aop, yy, maxiter=n)[0]\n",
    "xinv = pylops_distributed.optimization.cg.cg(Aop, yy, da.zeros(n), n)\n",
    "print(xinv_sp)\n",
    "print(xinv)\n",
    "print(xinv.compute())"
   ]
  },
  {
   "cell_type": "code",
   "execution_count": 5,
   "metadata": {},
   "outputs": [
    {
     "name": "stdout",
     "output_type": "stream",
     "text": [
      "603 ms ± 0 ns per loop (mean ± std. dev. of 1 run, 3 loops each)\n",
      "1.09 s ± 0 ns per loop (mean ± std. dev. of 1 run, 3 loops each)\n",
      "1.02 s ± 0 ns per loop (mean ± std. dev. of 1 run, 3 loops each)\n"
     ]
    }
   ],
   "source": [
    "%timeit -n 3 -r 1 cg(Aop, y, maxiter=n)[0]\n",
    "%timeit -n 3 -r 1 pylops_distributed.optimization.cg.cg(Aop, y, da.zeros(n), n).compute()\n",
    "%timeit -n 3 -r 1 pylops_distributed.optimization.cg.cg(Aop, y, da.zeros(n), n, compute=True)"
   ]
  }
 ],
 "metadata": {
  "kernelspec": {
   "display_name": "Python 3",
   "language": "python",
   "name": "python3"
  },
  "language_info": {
   "codemirror_mode": {
    "name": "ipython",
    "version": 3
   },
   "file_extension": ".py",
   "mimetype": "text/x-python",
   "name": "python",
   "nbconvert_exporter": "python",
   "pygments_lexer": "ipython3",
   "version": "3.7.3"
  }
 },
 "nbformat": 4,
 "nbformat_minor": 2
}
