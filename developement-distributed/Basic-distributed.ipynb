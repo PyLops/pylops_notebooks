{
 "cells": [
  {
   "cell_type": "markdown",
   "metadata": {},
   "source": [
    "# Pylops-distributed - basic linear operators"
   ]
  },
  {
   "cell_type": "markdown",
   "metadata": {},
   "source": [
    "In this notebook I will show how to use some of the basic linear operators implemented in *Pylops-distributed*."
   ]
  },
  {
   "cell_type": "code",
   "execution_count": 1,
   "metadata": {},
   "outputs": [],
   "source": [
    "%load_ext autoreload\n",
    "%autoreload 2\n",
    "%matplotlib inline\n",
    "\n",
    "import warnings\n",
    "warnings.filterwarnings('ignore')\n",
    "\n",
    "import numpy as np\n",
    "import matplotlib.pyplot as plt\n",
    "import scipy as sp\n",
    "import dask.array as da\n",
    "import pylops\n",
    "import pylops_distributed\n",
    "\n",
    "from pylops.utils import dottest"
   ]
  },
  {
   "cell_type": "markdown",
   "metadata": {},
   "source": [
    "Local cluster"
   ]
  },
  {
   "cell_type": "code",
   "execution_count": null,
   "metadata": {},
   "outputs": [],
   "source": [
    "client = pylops_distributed.utils.backend.dask(processes=False, threads_per_worker=2,\n",
    "                                               n_workers=2)\n",
    "client"
   ]
  },
  {
   "cell_type": "markdown",
   "metadata": {},
   "source": [
    "SSH cluster"
   ]
  },
  {
   "cell_type": "code",
   "execution_count": 2,
   "metadata": {},
   "outputs": [],
   "source": [
    "from dask.distributed import Scheduler, Client\n",
    "\n",
    "client = Client('be-linrgsn045:8786')"
   ]
  },
  {
   "cell_type": "code",
   "execution_count": 3,
   "metadata": {},
   "outputs": [
    {
     "data": {
      "text/html": [
       "<table style=\"border: 2px solid white;\">\n",
       "<tr>\n",
       "<td style=\"vertical-align: top; border: 0px solid white\">\n",
       "<h3>Client</h3>\n",
       "<ul>\n",
       "  <li><b>Scheduler: </b>tcp://be-linrgsn045:8786\n",
       "  <li><b>Dashboard: </b><a href='http://be-linrgsn045:8787/status' target='_blank'>http://be-linrgsn045:8787/status</a>\n",
       "</ul>\n",
       "</td>\n",
       "<td style=\"vertical-align: top; border: 0px solid white\">\n",
       "<h3>Cluster</h3>\n",
       "<ul>\n",
       "  <li><b>Workers: </b>4</li>\n",
       "  <li><b>Cores: </b>60</li>\n",
       "  <li><b>Memory: </b>541.16 GB</li>\n",
       "</ul>\n",
       "</td>\n",
       "</tr>\n",
       "</table>"
      ],
      "text/plain": [
       "<Client: scheduler='tcp://10.224.36.68:8786' processes=4 cores=60>"
      ]
     },
     "execution_count": 3,
     "metadata": {},
     "output_type": "execute_result"
    }
   ],
   "source": [
    "client"
   ]
  },
  {
   "cell_type": "markdown",
   "metadata": {},
   "source": [
    "## Diagonal"
   ]
  },
  {
   "cell_type": "markdown",
   "metadata": {},
   "source": [
    "Pylops"
   ]
  },
  {
   "cell_type": "code",
   "execution_count": 4,
   "metadata": {},
   "outputs": [
    {
     "name": "stdout",
     "output_type": "stream",
     "text": [
      "Dot test passed, v^T(Opu)=-7207423.445539 - u^T(Op^Tv)=-7207423.445539\n",
      "D*x  =  [1.0000e+00 2.0000e+00 3.0000e+00 ... 9.9998e+04 9.9999e+04 1.0000e+05]\n",
      "D'*x =  [1.0000e+00 4.0000e+00 9.0000e+00 ... 9.9996e+09 9.9998e+09 1.0000e+10]\n",
      "D / y =  [4.09995980e-07 1.63998320e-06 3.68995950e-06 ... 9.99280430e-01\n",
      " 9.99063740e-01 9.98822308e-01]\n"
     ]
    }
   ],
   "source": [
    "n = 100000\n",
    "x = np.ones(n)\n",
    "d = np.arange(n) + 1\n",
    "Dop = pylops.Diagonal(d)\n",
    "dottest(Dop, n, n, verb=True)\n",
    "\n",
    "y  = Dop*x\n",
    "y1 = Dop.H*y\n",
    "xinv = Dop / y\n",
    "\n",
    "print('D*x  = ',y)\n",
    "print('D\\'*x = ',y1)\n",
    "print('D / y = ',xinv)"
   ]
  },
  {
   "cell_type": "markdown",
   "metadata": {},
   "source": [
    "Pylops-distributed with lazy evaluation for forward and adjoint"
   ]
  },
  {
   "cell_type": "code",
   "execution_count": 10,
   "metadata": {},
   "outputs": [
    {
     "name": "stdout",
     "output_type": "stream",
     "text": [
      "<100000x100000 Diagonal with dtype=float64>\n",
      "Dot test passed, v^T(Opu)=-1009233.675054 - u^T(Op^Tv)=-1009233.675054\n",
      "Diagonal >  dask.array<array, shape=(100000,), dtype=int64, chunksize=(25000,)>\n",
      "D*x  =  dask.array<mul, shape=(100000,), dtype=float64, chunksize=(25000,)> [1.0000e+00 2.0000e+00 3.0000e+00 ... 9.9998e+04 9.9999e+04 1.0000e+05]\n",
      "D'*x =  dask.array<mul, shape=(100000,), dtype=float64, chunksize=(25000,)> [1.0000e+00 4.0000e+00 9.0000e+00 ... 9.9996e+09 9.9998e+09 1.0000e+10]\n",
      "D / y =  dask.array<add, shape=(100000,), dtype=float64, chunksize=(25000,)> [1.49998500e-09 5.99994000e-09 1.34998650e-08 ... 1.08508832e+00\n",
      " 1.08515221e+00 1.08521612e+00]\n"
     ]
    }
   ],
   "source": [
    "xda = da.ones(n, chunks=(n//4,))\n",
    "dda = da.from_array(d, chunks=(n//4,))\n",
    "\n",
    "Ddaop = pylops_distributed.Diagonal(dda, compute=(False, False))\n",
    "dottest(Ddaop, n, n, verb=True)\n",
    "\n",
    "yda  = Ddaop.matvec(xda)\n",
    "y1da = Ddaop.rmatvec(yda)\n",
    "xinvda = Ddaop.div(yda, niter=5)\n",
    "\n",
    "print('Diagonal > ', Ddaop.Op.diag)\n",
    "print('D*x  = ',yda, yda.compute())\n",
    "print('D\\'*x = ',y1da, y1da.compute())\n",
    "print('D / y = ',xinvda, xinvda.compute())"
   ]
  },
  {
   "cell_type": "code",
   "execution_count": 12,
   "metadata": {},
   "outputs": [
    {
     "data": {
      "text/html": [
       "<table>\n",
       "<tr>\n",
       "<td>\n",
       "<table>  <thead>    <tr><td> </td><th> Array </th><th> Chunk </th></tr>\n",
       "  </thead>\n",
       "  <tbody>\n",
       "    <tr><th> Bytes </th><td> 800.00 kB </td> <td> 200.00 kB </td></tr>\n",
       "    <tr><th> Shape </th><td> (100000,) </td> <td> (25000,) </td></tr>\n",
       "    <tr><th> Count </th><td> 4 Tasks </td><td> 4 Chunks </td></tr>\n",
       "    <tr><th> Type </th><td> float64 </td><td> numpy.ndarray </td></tr>\n",
       "  </tbody></table>\n",
       "</td>\n",
       "<td>\n",
       "<svg width=\"170\" height=\"75\" style=\"stroke:rgb(0,0,0);stroke-width:1\" >\n",
       "\n",
       "  <!-- Horizontal lines -->\n",
       "  <line x1=\"0\" y1=\"0\" x2=\"120\" y2=\"0\" style=\"stroke-width:2\" />\n",
       "  <line x1=\"0\" y1=\"25\" x2=\"120\" y2=\"25\" style=\"stroke-width:2\" />\n",
       "\n",
       "  <!-- Vertical lines -->\n",
       "  <line x1=\"0\" y1=\"0\" x2=\"0\" y2=\"25\" style=\"stroke-width:2\" />\n",
       "  <line x1=\"30\" y1=\"0\" x2=\"30\" y2=\"25\" />\n",
       "  <line x1=\"60\" y1=\"0\" x2=\"60\" y2=\"25\" />\n",
       "  <line x1=\"90\" y1=\"0\" x2=\"90\" y2=\"25\" />\n",
       "  <line x1=\"120\" y1=\"0\" x2=\"120\" y2=\"25\" style=\"stroke-width:2\" />\n",
       "\n",
       "  <!-- Colored Rectangle -->\n",
       "  <polygon points=\"0.000000,0.000000 120.000000,0.000000 120.000000,25.412617 0.000000,25.412617\" style=\"fill:#ECB172A0;stroke-width:0\"/>\n",
       "\n",
       "  <!-- Text -->\n",
       "  <text x=\"60.000000\" y=\"45.412617\" font-size=\"1.0rem\" font-weight=\"100\" text-anchor=\"middle\" >100000</text>\n",
       "  <text x=\"140.000000\" y=\"12.706308\" font-size=\"1.0rem\" font-weight=\"100\" text-anchor=\"middle\" transform=\"rotate(0,140.000000,12.706308)\">1</text>\n",
       "</svg>\n",
       "</td>\n",
       "</tr>\n",
       "</table>"
      ],
      "text/plain": [
       "dask.array<ones, shape=(100000,), dtype=float64, chunksize=(25000,)>"
      ]
     },
     "execution_count": 12,
     "metadata": {},
     "output_type": "execute_result"
    }
   ],
   "source": [
    "xda"
   ]
  },
  {
   "cell_type": "code",
   "execution_count": 13,
   "metadata": {},
   "outputs": [
    {
     "data": {
      "text/html": [
       "<table>\n",
       "<tr>\n",
       "<td>\n",
       "<table>  <thead>    <tr><td> </td><th> Array </th><th> Chunk </th></tr>\n",
       "  </thead>\n",
       "  <tbody>\n",
       "    <tr><th> Bytes </th><td> 800.00 kB </td> <td> 200.00 kB </td></tr>\n",
       "    <tr><th> Shape </th><td> (100000,) </td> <td> (25000,) </td></tr>\n",
       "    <tr><th> Count </th><td> 4 Tasks </td><td> 4 Chunks </td></tr>\n",
       "    <tr><th> Type </th><td> float64 </td><td> numpy.ndarray </td></tr>\n",
       "  </tbody></table>\n",
       "</td>\n",
       "<td>\n",
       "<svg width=\"170\" height=\"75\" style=\"stroke:rgb(0,0,0);stroke-width:1\" >\n",
       "\n",
       "  <!-- Horizontal lines -->\n",
       "  <line x1=\"0\" y1=\"0\" x2=\"120\" y2=\"0\" style=\"stroke-width:2\" />\n",
       "  <line x1=\"0\" y1=\"25\" x2=\"120\" y2=\"25\" style=\"stroke-width:2\" />\n",
       "\n",
       "  <!-- Vertical lines -->\n",
       "  <line x1=\"0\" y1=\"0\" x2=\"0\" y2=\"25\" style=\"stroke-width:2\" />\n",
       "  <line x1=\"30\" y1=\"0\" x2=\"30\" y2=\"25\" />\n",
       "  <line x1=\"60\" y1=\"0\" x2=\"60\" y2=\"25\" />\n",
       "  <line x1=\"90\" y1=\"0\" x2=\"90\" y2=\"25\" />\n",
       "  <line x1=\"120\" y1=\"0\" x2=\"120\" y2=\"25\" style=\"stroke-width:2\" />\n",
       "\n",
       "  <!-- Colored Rectangle -->\n",
       "  <polygon points=\"0.000000,0.000000 120.000000,0.000000 120.000000,25.412617 0.000000,25.412617\" style=\"fill:#ECB172A0;stroke-width:0\"/>\n",
       "\n",
       "  <!-- Text -->\n",
       "  <text x=\"60.000000\" y=\"45.412617\" font-size=\"1.0rem\" font-weight=\"100\" text-anchor=\"middle\" >100000</text>\n",
       "  <text x=\"140.000000\" y=\"12.706308\" font-size=\"1.0rem\" font-weight=\"100\" text-anchor=\"middle\" transform=\"rotate(0,140.000000,12.706308)\">1</text>\n",
       "</svg>\n",
       "</td>\n",
       "</tr>\n",
       "</table>"
      ],
      "text/plain": [
       "dask.array<mul, shape=(100000,), dtype=float64, chunksize=(25000,)>"
      ]
     },
     "execution_count": 13,
     "metadata": {},
     "output_type": "execute_result"
    }
   ],
   "source": [
    "yda.persist()"
   ]
  },
  {
   "cell_type": "code",
   "execution_count": 14,
   "metadata": {},
   "outputs": [
    {
     "data": {
      "image/png": "[encoded data removed]",
      "text/plain": [
       "<IPython.core.display.Image object>"
      ]
     },
     "execution_count": 14,
     "metadata": {},
     "output_type": "execute_result"
    }
   ],
   "source": [
    "yda.visualize()"
   ]
  },
  {
   "cell_type": "code",
   "execution_count": null,
   "metadata": {
    "scrolled": true
   },
   "outputs": [],
   "source": [
    "# invda.visualize()"
   ]
  },
  {
   "cell_type": "markdown",
   "metadata": {},
   "source": [
    "Pylops-distributed with compute for forward and adjoint"
   ]
  },
  {
   "cell_type": "code",
   "execution_count": 22,
   "metadata": {},
   "outputs": [
    {
     "name": "stdout",
     "output_type": "stream",
     "text": [
      "<100000x100000 Diagonal with dtype=float64>\n",
      "Dot test passed, v^T(Opu)=10510634.116087 - u^T(Op^Tv)=10510634.116087\n",
      "Diagonal >  dask.array<array, shape=(100000,), dtype=int64, chunksize=(25000,)>\n",
      "D*x  =  [1.0000e+00 2.0000e+00 3.0000e+00 ... 9.9998e+04 9.9999e+04 1.0000e+05]\n",
      "D'*x =  [1.0000e+00 4.0000e+00 9.0000e+00 ... 9.9996e+09 9.9998e+09 1.0000e+10]\n",
      "D / y =  [4.99995001e-09 1.99997999e-08 4.49995495e-08 ... 9.64968641e-01\n",
      " 9.64880728e-01 9.64792708e-01]\n"
     ]
    }
   ],
   "source": [
    "xda = da.ones(n, chunks=(n//4,))\n",
    "dda = da.from_array(d, chunks=(n//4,))\n",
    "True\n",
    "Ddaop = pylops_distributed.Diagonal(dda, compute=(True, True))\n",
    "dottest(Ddaop, n, n, verb=True)\n",
    "\n",
    "yda  = Ddaop.matvec(xda)\n",
    "y1da = Ddaop.rmatvec(yda)\n",
    "xinvda = Ddaop.div(yda, niter=10)\n",
    "\n",
    "print('Diagonal > ', Ddaop.Op.diag)\n",
    "print('D*x  = ',yda)\n",
    "print('D\\'*x = ',y1da)\n",
    "print('D / y = ',xinvda)"
   ]
  },
  {
   "cell_type": "markdown",
   "metadata": {},
   "source": [
    "Comparision"
   ]
  },
  {
   "cell_type": "code",
   "execution_count": 25,
   "metadata": {},
   "outputs": [
    {
     "name": "stdout",
     "output_type": "stream",
     "text": [
      "445 µs ± 12.1 µs per loop (mean ± std. dev. of 3 runs, 10 loops each)\n",
      "32.7 ms ± 1.82 ms per loop (mean ± std. dev. of 3 runs, 10 loops each)\n"
     ]
    }
   ],
   "source": [
    "%timeit -n 10 -r 3 Dop.matvec(x)\n",
    "%timeit -n 10 -r 3 Ddaop.matvec(xda)"
   ]
  },
  {
   "cell_type": "markdown",
   "metadata": {},
   "source": [
    "Finally we do the same with multiple dimensions"
   ]
  },
  {
   "cell_type": "code",
   "execution_count": 32,
   "metadata": {},
   "outputs": [
    {
     "name": "stdout",
     "output_type": "stream",
     "text": [
      "Diagonal >  [[     1      2      3 ...  99998  99999 100000]]\n",
      "D*x  = \n",
      " [[1.0000e+00 2.0000e+00 3.0000e+00 ... 9.9998e+04 9.9999e+04 1.0000e+05]\n",
      " [1.0000e+00 2.0000e+00 3.0000e+00 ... 9.9998e+04 9.9999e+04 1.0000e+05]\n",
      " [1.0000e+00 2.0000e+00 3.0000e+00 ... 9.9998e+04 9.9999e+04 1.0000e+05]\n",
      " ...\n",
      " [1.0000e+00 2.0000e+00 3.0000e+00 ... 9.9998e+04 9.9999e+04 1.0000e+05]\n",
      " [1.0000e+00 2.0000e+00 3.0000e+00 ... 9.9998e+04 9.9999e+04 1.0000e+05]\n",
      " [1.0000e+00 2.0000e+00 3.0000e+00 ... 9.9998e+04 9.9999e+04 1.0000e+05]]\n",
      "<50000000x50000000 Diagonal with dtype=float64>\n",
      "Diagonal >  dask.array<reshape, shape=(1, 100000), dtype=int64, chunksize=(1, 25000)>\n",
      "D*x  =  [[1.0000e+00 2.0000e+00 3.0000e+00 ... 9.9998e+04 9.9999e+04 1.0000e+05]\n",
      " [1.0000e+00 2.0000e+00 3.0000e+00 ... 9.9998e+04 9.9999e+04 1.0000e+05]\n",
      " [1.0000e+00 2.0000e+00 3.0000e+00 ... 9.9998e+04 9.9999e+04 1.0000e+05]\n",
      " ...\n",
      " [1.0000e+00 2.0000e+00 3.0000e+00 ... 9.9998e+04 9.9999e+04 1.0000e+05]\n",
      " [1.0000e+00 2.0000e+00 3.0000e+00 ... 9.9998e+04 9.9999e+04 1.0000e+05]\n",
      " [1.0000e+00 2.0000e+00 3.0000e+00 ... 9.9998e+04 9.9999e+04 1.0000e+05]] \n",
      " [[1.0000e+00 2.0000e+00 3.0000e+00 ... 9.9998e+04 9.9999e+04 1.0000e+05]\n",
      " [1.0000e+00 2.0000e+00 3.0000e+00 ... 9.9998e+04 9.9999e+04 1.0000e+05]\n",
      " [1.0000e+00 2.0000e+00 3.0000e+00 ... 9.9998e+04 9.9999e+04 1.0000e+05]\n",
      " ...\n",
      " [1.0000e+00 2.0000e+00 3.0000e+00 ... 9.9998e+04 9.9999e+04 1.0000e+05]\n",
      " [1.0000e+00 2.0000e+00 3.0000e+00 ... 9.9998e+04 9.9999e+04 1.0000e+05]\n",
      " [1.0000e+00 2.0000e+00 3.0000e+00 ... 9.9998e+04 9.9999e+04 1.0000e+05]]\n"
     ]
    }
   ],
   "source": [
    "nother = 500\n",
    "\n",
    "# serial\n",
    "Dop = pylops.Diagonal(d, dir=1, dims=(nother, n))\n",
    "print('Diagonal > ', Dop.diag)\n",
    "\n",
    "x = np.ones((nother, n))\n",
    "y = (Dop*x.flatten()).reshape(nother, n)\n",
    "print('D*x  = \\n',y)\n",
    "\n",
    "# distributed\n",
    "Ddaop = pylops_distributed.Diagonal(dda, dir=1, dims=(nother, n))\n",
    "print('Diagonal > ', Ddaop.Op.diag)\n",
    "\n",
    "xda = da.ones((nother, n), chunks=(nother, n//4))\n",
    "yda = Ddaop.matvec(xda.flatten())\n",
    "print('D*x  = ',y,'\\n', yda.compute().reshape(nother, n))"
   ]
  },
  {
   "cell_type": "code",
   "execution_count": 35,
   "metadata": {},
   "outputs": [
    {
     "data": {
      "text/html": [
       "<table>\n",
       "<tr>\n",
       "<td>\n",
       "<table>  <thead>    <tr><td> </td><th> Array </th><th> Chunk </th></tr>\n",
       "  </thead>\n",
       "  <tbody>\n",
       "    <tr><th> Bytes </th><td> 400.00 MB </td> <td> 100.00 MB </td></tr>\n",
       "    <tr><th> Shape </th><td> (500, 100000) </td> <td> (500, 25000) </td></tr>\n",
       "    <tr><th> Count </th><td> 4 Tasks </td><td> 4 Chunks </td></tr>\n",
       "    <tr><th> Type </th><td> float64 </td><td> numpy.ndarray </td></tr>\n",
       "  </tbody></table>\n",
       "</td>\n",
       "<td>\n",
       "<svg width=\"170\" height=\"75\" style=\"stroke:rgb(0,0,0);stroke-width:1\" >\n",
       "\n",
       "  <!-- Horizontal lines -->\n",
       "  <line x1=\"0\" y1=\"0\" x2=\"120\" y2=\"0\" style=\"stroke-width:2\" />\n",
       "  <line x1=\"0\" y1=\"25\" x2=\"120\" y2=\"25\" style=\"stroke-width:2\" />\n",
       "\n",
       "  <!-- Vertical lines -->\n",
       "  <line x1=\"0\" y1=\"0\" x2=\"0\" y2=\"25\" style=\"stroke-width:2\" />\n",
       "  <line x1=\"30\" y1=\"0\" x2=\"30\" y2=\"25\" />\n",
       "  <line x1=\"60\" y1=\"0\" x2=\"60\" y2=\"25\" />\n",
       "  <line x1=\"90\" y1=\"0\" x2=\"90\" y2=\"25\" />\n",
       "  <line x1=\"120\" y1=\"0\" x2=\"120\" y2=\"25\" style=\"stroke-width:2\" />\n",
       "\n",
       "  <!-- Colored Rectangle -->\n",
       "  <polygon points=\"0.000000,0.000000 120.000000,0.000000 120.000000,25.412617 0.000000,25.412617\" style=\"fill:#ECB172A0;stroke-width:0\"/>\n",
       "\n",
       "  <!-- Text -->\n",
       "  <text x=\"60.000000\" y=\"45.412617\" font-size=\"1.0rem\" font-weight=\"100\" text-anchor=\"middle\" >100000</text>\n",
       "  <text x=\"140.000000\" y=\"12.706308\" font-size=\"1.0rem\" font-weight=\"100\" text-anchor=\"middle\" transform=\"rotate(-90,140.000000,12.706308)\">500</text>\n",
       "</svg>\n",
       "</td>\n",
       "</tr>\n",
       "</table>"
      ],
      "text/plain": [
       "dask.array<ones, shape=(500, 100000), dtype=float64, chunksize=(500, 25000)>"
      ]
     },
     "execution_count": 35,
     "metadata": {},
     "output_type": "execute_result"
    }
   ],
   "source": [
    "xda"
   ]
  },
  {
   "cell_type": "code",
   "execution_count": 34,
   "metadata": {},
   "outputs": [
    {
     "name": "stdout",
     "output_type": "stream",
     "text": [
      "218 ms ± 3.71 ms per loop (mean ± std. dev. of 3 runs, 10 loops each)\n",
      "4.91 s ± 212 ms per loop (mean ± std. dev. of 3 runs, 10 loops each)\n"
     ]
    }
   ],
   "source": [
    "%timeit -n 10 -r 3 Dop.matvec(x.flatten())\n",
    "%timeit -n 10 -r 3 Ddaop.matvec(xda.flatten()).compute()"
   ]
  },
  {
   "cell_type": "code",
   "execution_count": 36,
   "metadata": {},
   "outputs": [],
   "source": [
    "client.close()"
   ]
  },
  {
   "cell_type": "code",
   "execution_count": null,
   "metadata": {},
   "outputs": [],
   "source": []
  }
 ],
 "metadata": {
  "kernelspec": {
   "display_name": "Python 3",
   "language": "python",
   "name": "python3"
  },
  "language_info": {
   "codemirror_mode": {
    "name": "ipython",
    "version": 3
   },
   "file_extension": ".py",
   "mimetype": "text/x-python",
   "name": "python",
   "nbconvert_exporter": "python",
   "pygments_lexer": "ipython3",
   "version": "3.7.2"
  },
  "toc": {
   "base_numbering": 1,
   "nav_menu": {},
   "number_sections": true,
   "sideBar": true,
   "skip_h1_title": false,
   "title_cell": "Table of Contents",
   "title_sidebar": "Contents",
   "toc_cell": false,
   "toc_position": {},
   "toc_section_display": true,
   "toc_window_display": false
  }
 },
 "nbformat": 4,
 "nbformat_minor": 2
}
