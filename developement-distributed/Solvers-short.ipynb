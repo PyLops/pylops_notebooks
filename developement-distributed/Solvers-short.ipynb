{
 "cells": [
  {
   "cell_type": "markdown",
   "metadata": {},
   "source": [
    "# Pylops-distributed - Solvers"
   ]
  },
  {
   "cell_type": "markdown",
   "metadata": {},
   "source": [
    "In this notebook we investigate the use of pylops-distributed CG and CGLS solvers with distributed operators."
   ]
  },
  {
   "cell_type": "code",
   "execution_count": 1,
   "metadata": {},
   "outputs": [],
   "source": [
    "%load_ext autoreload\n",
    "%autoreload 2\n",
    "%matplotlib inline\n",
    "\n",
    "import os\n",
    "import warnings\n",
    "warnings.filterwarnings('ignore')\n",
    "\n",
    "import numpy as np\n",
    "import matplotlib.pyplot as plt\n",
    "import scipy as sp\n",
    "import skfmm\n",
    "import dask\n",
    "import dask.array as da\n",
    "import pylops\n",
    "import pylops_distributed\n",
    "\n",
    "from scipy.sparse.linalg.interface import MatrixLinearOperator, aslinearoperator \n",
    "from scipy.linalg import lstsq, solve\n",
    "from scipy.sparse.linalg import cg, lsqr\n",
    "from dask import persist\n",
    "from dask.distributed import Client, LocalCluster, performance_report"
   ]
  },
  {
   "cell_type": "code",
   "execution_count": 2,
   "metadata": {},
   "outputs": [
    {
     "data": {
      "text/plain": [
       "('1', '1', '1')"
      ]
     },
     "execution_count": 2,
     "metadata": {},
     "output_type": "execute_result"
    }
   ],
   "source": [
    "os.getenv('OMP_NUM_THREADS'), os.getenv('MKL_NUM_THREADS'), os.getenv('OPENBLAS_NUM_THREADS')"
   ]
  },
  {
   "cell_type": "code",
   "execution_count": 3,
   "metadata": {},
   "outputs": [],
   "source": [
    "#nchunks = [2, 1]\n",
    "#nchunks = [2, 2]\n",
    "nchunks = [4, 4]\n",
    "\n",
    "kind = 'persist' # persist or postponed\n",
    "\n",
    "# Use threads (works fine)\n",
    "client, cluster = pylops_distributed.utils.backend.dask(processes=False, threads_per_worker=1, n_workers=4)\n",
    "# Use processes (very slow)\n",
    "#client, cluster = pylops_distributed.utils.backend.dask(processes=True, threads_per_worker=1, n_workers=4)"
   ]
  },
  {
   "cell_type": "code",
   "execution_count": 4,
   "metadata": {},
   "outputs": [
    {
     "data": {
      "text/html": [
       "<table style=\"border: 2px solid white;\">\n",
       "<tr>\n",
       "<td style=\"vertical-align: top; border: 0px solid white\">\n",
       "<h3 style=\"text-align: left;\">Client</h3>\n",
       "<ul style=\"text-align: left; list-style: none; margin: 0; padding: 0;\">\n",
       "  <li><b>Scheduler: </b>inproc://10.0.0.12/4333/1</li>\n",
       "  <li><b>Dashboard: </b><a href='http://10.0.0.12:8787/status' target='_blank'>http://10.0.0.12:8787/status</a>\n",
       "</ul>\n",
       "</td>\n",
       "<td style=\"vertical-align: top; border: 0px solid white\">\n",
       "<h3 style=\"text-align: left;\">Cluster</h3>\n",
       "<ul style=\"text-align: left; list-style:none; margin: 0; padding: 0;\">\n",
       "  <li><b>Workers: </b>4</li>\n",
       "  <li><b>Cores: </b>4</li>\n",
       "  <li><b>Memory: </b>8.59 GB</li>\n",
       "</ul>\n",
       "</td>\n",
       "</tr>\n",
       "</table>"
      ],
      "text/plain": [
       "<Client: 'inproc://10.0.0.12/4333/1' processes=4 threads=4, memory=8.59 GB>"
      ]
     },
     "execution_count": 4,
     "metadata": {},
     "output_type": "execute_result"
    }
   ],
   "source": [
    "client"
   ]
  },
  {
   "cell_type": "markdown",
   "metadata": {},
   "source": [
    "### CG for square systems"
   ]
  },
  {
   "cell_type": "markdown",
   "metadata": {},
   "source": [
    "Let's just try out the solver using numpy inputs (matrix and vector). As da.xx is never explicitely invoked when ``compute=False`` and ``client=None`` the solver will simply operate on numpy arrays"
   ]
  },
  {
   "cell_type": "code",
   "execution_count": 5,
   "metadata": {
    "scrolled": false
   },
   "outputs": [],
   "source": [
    "n = 8000\n",
    "\n",
    "np.random.seed(0)\n",
    "A = np.random.randn(n, n)\n",
    "A = np.dot(A.T, A)"
   ]
  },
  {
   "cell_type": "markdown",
   "metadata": {},
   "source": [
    "Let's now apply the forward using the LinearOperator interface"
   ]
  },
  {
   "cell_type": "code",
   "execution_count": 6,
   "metadata": {},
   "outputs": [
    {
     "name": "stdout",
     "output_type": "stream",
     "text": [
      "[-3449.71567852  9007.96728277 16675.82965137 ... 13483.71530641\n",
      " 23533.53556349  7352.24843242]\n",
      "dask.array<sum-aggregate, shape=(8000,), dtype=float64, chunksize=(2000,), chunktype=numpy.ndarray>\n"
     ]
    }
   ],
   "source": [
    "Ada = da.from_array(A, chunks=(n//nchunks[0], n//nchunks[1])).persist()  # move the data to the workers once\n",
    "x = da.ones(n) #, chunks=(n//nchunks[1]))\n",
    "x0 = da.zeros(n) #, chunks=(n//nchunks[1]))\n",
    "\n",
    "Aop = MatrixLinearOperator(A)\n",
    "Adaop = pylops_distributed.MatrixMult(Ada, compute=(False, False))\n",
    "\n",
    "# takes and returns a numpy array\n",
    "print(Aop.matvec(np.ones(n)))\n",
    "\n",
    "# takes and returns a dask array\n",
    "print(Adaop.matvec(np.ones(n)))"
   ]
  },
  {
   "cell_type": "code",
   "execution_count": 7,
   "metadata": {},
   "outputs": [
    {
     "data": {
      "text/html": [
       "<table>\n",
       "<tr>\n",
       "<td>\n",
       "<table>\n",
       "  <thead>\n",
       "    <tr><td> </td><th> Array </th><th> Chunk </th></tr>\n",
       "  </thead>\n",
       "  <tbody>\n",
       "    <tr><th> Bytes </th><td> 512.00 MB </td> <td> 32.00 MB </td></tr>\n",
       "    <tr><th> Shape </th><td> (8000, 8000) </td> <td> (2000, 2000) </td></tr>\n",
       "    <tr><th> Count </th><td> 16 Tasks </td><td> 16 Chunks </td></tr>\n",
       "    <tr><th> Type </th><td> float64 </td><td> numpy.ndarray </td></tr>\n",
       "  </tbody>\n",
       "</table>\n",
       "</td>\n",
       "<td>\n",
       "<svg width=\"170\" height=\"170\" style=\"stroke:rgb(0,0,0);stroke-width:1\" >\n",
       "\n",
       "  <!-- Horizontal lines -->\n",
       "  <line x1=\"0\" y1=\"0\" x2=\"120\" y2=\"0\" style=\"stroke-width:2\" />\n",
       "  <line x1=\"0\" y1=\"30\" x2=\"120\" y2=\"30\" />\n",
       "  <line x1=\"0\" y1=\"60\" x2=\"120\" y2=\"60\" />\n",
       "  <line x1=\"0\" y1=\"90\" x2=\"120\" y2=\"90\" />\n",
       "  <line x1=\"0\" y1=\"120\" x2=\"120\" y2=\"120\" style=\"stroke-width:2\" />\n",
       "\n",
       "  <!-- Vertical lines -->\n",
       "  <line x1=\"0\" y1=\"0\" x2=\"0\" y2=\"120\" style=\"stroke-width:2\" />\n",
       "  <line x1=\"30\" y1=\"0\" x2=\"30\" y2=\"120\" />\n",
       "  <line x1=\"60\" y1=\"0\" x2=\"60\" y2=\"120\" />\n",
       "  <line x1=\"90\" y1=\"0\" x2=\"90\" y2=\"120\" />\n",
       "  <line x1=\"120\" y1=\"0\" x2=\"120\" y2=\"120\" style=\"stroke-width:2\" />\n",
       "\n",
       "  <!-- Colored Rectangle -->\n",
       "  <polygon points=\"0.000000,0.000000 120.000000,0.000000 120.000000,120.000000 0.000000,120.000000\" style=\"fill:#ECB172A0;stroke-width:0\"/>\n",
       "\n",
       "  <!-- Text -->\n",
       "  <text x=\"60.000000\" y=\"140.000000\" font-size=\"1.0rem\" font-weight=\"100\" text-anchor=\"middle\" >8000</text>\n",
       "  <text x=\"140.000000\" y=\"60.000000\" font-size=\"1.0rem\" font-weight=\"100\" text-anchor=\"middle\" transform=\"rotate(-90,140.000000,60.000000)\">8000</text>\n",
       "</svg>\n",
       "</td>\n",
       "</tr>\n",
       "</table>"
      ],
      "text/plain": [
       "dask.array<array, shape=(8000, 8000), dtype=float64, chunksize=(2000, 2000), chunktype=numpy.ndarray>"
      ]
     },
     "execution_count": 7,
     "metadata": {},
     "output_type": "execute_result"
    }
   ],
   "source": [
    "Ada"
   ]
  },
  {
   "cell_type": "markdown",
   "metadata": {},
   "source": [
    "And the inverse problem with different approches when it comes to the use of dask"
   ]
  },
  {
   "cell_type": "code",
   "execution_count": 8,
   "metadata": {},
   "outputs": [
    {
     "name": "stdout",
     "output_type": "stream",
     "text": [
      "[0.85871839 1.27163427 1.06899494 ... 0.71259363 0.97728159 1.11484963]\n"
     ]
    }
   ],
   "source": [
    "niter = 10\n",
    "\n",
    "y = Aop * np.ones(n)\n",
    "yy = Adaop * da.ones(n)\n",
    "\n",
    "# scipy\n",
    "xinv_sp = cg(Aop, y, maxiter=niter)[0]\n",
    "print(xinv_sp)"
   ]
  },
  {
   "cell_type": "markdown",
   "metadata": {},
   "source": [
    "if kind == 'persist':\n",
    "    # dask with persist at each iter\n",
    "    xinv = pylops_distributed.optimization.cg.cg(Adaop, yy, x0, tol=0, niter=niter, client=client)[0]\n",
    "else:\n",
    "    # dask with all graph computed in one go\n",
    "    xinv = pylops_distributed.optimization.cg.cg(Adaop, yy, x0, tol=0, niter=niter)[0]\n",
    "  \n",
    "print(xinv.compute())"
   ]
  },
  {
   "cell_type": "code",
   "execution_count": 9,
   "metadata": {},
   "outputs": [
    {
     "name": "stdout",
     "output_type": "stream",
     "text": [
      "time 0.01778888702392578\n",
      "time 0.01585984230041504\n",
      "time 0.015965938568115234\n",
      "time 0.01790022850036621\n",
      "time 0.020157337188720703\n",
      "time 0.1002042293548584\n",
      "time 0.05542802810668945\n",
      "time 0.027637958526611328\n",
      "time 0.08151817321777344\n",
      "time 0.026092052459716797\n"
     ]
    }
   ],
   "source": [
    "if kind == 'persist':\n",
    "    with performance_report(filename=\"dask-report-cg_persist.html\"):\n",
    "        pylops_distributed.optimization.cg.cg(Adaop, yy, x0, tol=0, niter=niter, client=client)[0].compute()\n",
    "else:\n",
    "    with performance_report(filename=\"dask-report-cg_postponed.html\"):\n",
    "        pylops_distributed.optimization.cg.cg(Adaop, yy, x0, tol=0, niter=niter)[0].compute()\n"
   ]
  },
  {
   "cell_type": "code",
   "execution_count": 10,
   "metadata": {},
   "outputs": [],
   "source": [
    "client.close()"
   ]
  }
 ],
 "metadata": {
  "kernelspec": {
   "display_name": "Python 3",
   "language": "python",
   "name": "python3"
  },
  "language_info": {
   "codemirror_mode": {
    "name": "ipython",
    "version": 3
   },
   "file_extension": ".py",
   "mimetype": "text/x-python",
   "name": "python",
   "nbconvert_exporter": "python",
   "pygments_lexer": "ipython3",
   "version": "3.7.3"
  },
  "toc": {
   "base_numbering": 1,
   "nav_menu": {},
   "number_sections": true,
   "sideBar": true,
   "skip_h1_title": false,
   "title_cell": "Table of Contents",
   "title_sidebar": "Contents",
   "toc_cell": false,
   "toc_position": {},
   "toc_section_display": true,
   "toc_window_display": false
  }
 },
 "nbformat": 4,
 "nbformat_minor": 2
}
