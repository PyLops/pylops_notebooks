{
 "cells": [
  {
   "cell_type": "markdown",
   "metadata": {},
   "source": [
    "# Pylops-distributed - wave equation processing"
   ]
  },
  {
   "cell_type": "markdown",
   "metadata": {},
   "source": [
    "### Author: M.Ravasi"
   ]
  },
  {
   "cell_type": "markdown",
   "metadata": {},
   "source": [
    "This notebook extends the standard Multi-dimensional convolution (MDC) and Multi-dimensional deconvolution (MDD) algorithms in PyLops to distibuted computing with dask"
   ]
  },
  {
   "cell_type": "code",
   "execution_count": 1,
   "metadata": {},
   "outputs": [],
   "source": [
    "%load_ext autoreload\n",
    "%autoreload 2\n",
    "%matplotlib inline\n",
    "\n",
    "import warnings\n",
    "warnings.filterwarnings('ignore')\n",
    "import numpy as np\n",
    "import matplotlib.pyplot as plt\n",
    "import scipy as sp\n",
    "import dask.array as da\n",
    "import pylops\n",
    "import pylops_distributed\n",
    "\n",
    "from scipy.sparse import csr_matrix, vstack\n",
    "from scipy.linalg import lstsq, solve\n",
    "from scipy.sparse.linalg import LinearOperator, cg, lsqr\n",
    "from scipy import misc\n",
    "\n",
    "from pylops.utils.wavelets             import *\n",
    "from pylops.utils.seismicevents        import *\n",
    "from pylops.utils.tapers               import *\n",
    "\n",
    "from pylops.utils import dottest\n",
    "from pylops_distributed.utils import dottest as ddottest\n",
    "from pylops_distributed.optimization.cg import cg as dcg\n",
    "from pylops_distributed.optimization.cg import cgls as dcgls"
   ]
  },
  {
   "cell_type": "code",
   "execution_count": 2,
   "metadata": {},
   "outputs": [
    {
     "data": {
      "text/html": [
       "<table style=\"border: 2px solid white;\">\n",
       "<tr>\n",
       "<td style=\"vertical-align: top; border: 0px solid white\">\n",
       "<h3 style=\"text-align: left;\">Client</h3>\n",
       "<ul style=\"text-align: left; list-style: none; margin: 0; padding: 0;\">\n",
       "  <li><b>Scheduler: </b>inproc://10.0.0.37/4324/1</li>\n",
       "  <li><b>Dashboard: </b><a href='http://localhost:52753/status' target='_blank'>http://localhost:52753/status</a>\n",
       "</ul>\n",
       "</td>\n",
       "<td style=\"vertical-align: top; border: 0px solid white\">\n",
       "<h3 style=\"text-align: left;\">Cluster</h3>\n",
       "<ul style=\"text-align: left; list-style:none; margin: 0; padding: 0;\">\n",
       "  <li><b>Workers: </b>4</li>\n",
       "  <li><b>Cores: </b>4</li>\n",
       "  <li><b>Memory: </b>8.59 GB</li>\n",
       "</ul>\n",
       "</td>\n",
       "</tr>\n",
       "</table>"
      ],
      "text/plain": [
       "<Client: scheduler='inproc://10.0.0.37/4324/1' processes=4 cores=4>"
      ]
     },
     "execution_count": 2,
     "metadata": {},
     "output_type": "execute_result"
    }
   ],
   "source": [
    "n_workers = 4\n",
    "client = pylops_distributed.utils.backend.dask(processes=False, threads_per_worker=1,\n",
    "                                               n_workers=n_workers)\n",
    "client"
   ]
  },
  {
   "cell_type": "markdown",
   "metadata": {},
   "source": [
    "# Multi-dimensional convolution (MDC)"
   ]
  },
  {
   "cell_type": "markdown",
   "metadata": {},
   "source": [
    "The so-called multi-dimensional convolution (MDC) is a chained operator. It is composed of a forward Fourier transform a multi-dimensional integration (as shown in equation below) and an inverse Fourier transform:\n",
    "    \n",
    "$$ y(s,v,f) = \\int_S R(s,v,f) x(r,v,f) dr$$\n",
    "\n",
    "This operation can be discretized and performed by means of a linear operator\n",
    "\n",
    "$$\\mathbf{D}= \\mathbf{F}^H  \\mathbf{R} \\mathbf{F}$$\n",
    "\n",
    "where $\\mathbf{F}$ is the Fourier transform applied along the time axis  and $\\mathbf{R}$ is multi-dimensional convolution kernel espressed in the equation above."
   ]
  },
  {
   "cell_type": "markdown",
   "metadata": {},
   "source": [
    "Let's start considering a single virtual source"
   ]
  },
  {
   "cell_type": "code",
   "execution_count": 3,
   "metadata": {},
   "outputs": [],
   "source": [
    "###### Input parameters\n",
    "par = {'ox':0,'dx':2,    'nx':60,\n",
    "       'oy':0,'dy':2,    'ny':100,\n",
    "       'ot':0,'dt':0.004,'nt':400,\n",
    "       'f0': 20, 'nfmax': 210}\n",
    "\n",
    "v       = 1500\n",
    "t0_m    = [0.1]\n",
    "theta_m = [0]\n",
    "phi_m   = [0]\n",
    "amp_m   = [1.]\n",
    "\n",
    "t0_G    = [0.05,0.2,0.3]\n",
    "theta_G = [0,0,0]\n",
    "phi_G   = [0,0,0]\n",
    "amp_G   = [1.,0.6,2.]\n",
    "\n",
    "\n",
    "# Create axis\n",
    "t,t2,x,y = makeaxis(par)\n",
    "\n",
    "# Create wavelet\n",
    "wav = ricker(t[:41], f0=par['f0'])[0]\n",
    "\n",
    "# Generate model\n",
    "m, mwav =  linear2d(x,t,v,t0_m,theta_m,amp_m,wav)\n",
    "\n",
    "# Generate operator\n",
    "G,Gwav = linear3d(x,y,t,v,t0_G,theta_G,phi_G,amp_G,wav)\n",
    "\n",
    "# Add negative part to data and model\n",
    "m     = np.concatenate((np.zeros((par['nx'], par['nt']-1)), m), axis=-1)\n",
    "mwav  = np.concatenate((np.zeros((par['nx'], par['nt']-1)), mwav), axis=-1)\n",
    "Gwav2 = np.concatenate((np.zeros((par['ny'], par['nx'], par['nt']-1)), Gwav), axis=-1)"
   ]
  },
  {
   "cell_type": "code",
   "execution_count": 4,
   "metadata": {},
   "outputs": [
    {
     "data": {
      "text/html": [
       "<table>\n",
       "<tr>\n",
       "<td>\n",
       "<table>\n",
       "  <thead>\n",
       "    <tr><td> </td><th> Array </th><th> Chunk </th></tr>\n",
       "  </thead>\n",
       "  <tbody>\n",
       "    <tr><th> Bytes </th><td> 20.16 MB </td> <td> 4.99 MB </td></tr>\n",
       "    <tr><th> Shape </th><td> (210, 100, 60) </td> <td> (52, 100, 60) </td></tr>\n",
       "    <tr><th> Count </th><td> 6 Tasks </td><td> 5 Chunks </td></tr>\n",
       "    <tr><th> Type </th><td> complex128 </td><td> numpy.ndarray </td></tr>\n",
       "  </tbody>\n",
       "</table>\n",
       "</td>\n",
       "<td>\n",
       "<svg width=\"173\" height=\"177\" style=\"stroke:rgb(0,0,0);stroke-width:1\" >\n",
       "\n",
       "  <!-- Horizontal lines -->\n",
       "  <line x1=\"10\" y1=\"0\" x2=\"80\" y2=\"70\" style=\"stroke-width:2\" />\n",
       "  <line x1=\"10\" y1=\"57\" x2=\"80\" y2=\"127\" style=\"stroke-width:2\" />\n",
       "\n",
       "  <!-- Vertical lines -->\n",
       "  <line x1=\"10\" y1=\"0\" x2=\"10\" y2=\"57\" style=\"stroke-width:2\" />\n",
       "  <line x1=\"27\" y1=\"17\" x2=\"27\" y2=\"74\" />\n",
       "  <line x1=\"44\" y1=\"34\" x2=\"44\" y2=\"92\" />\n",
       "  <line x1=\"62\" y1=\"52\" x2=\"62\" y2=\"109\" />\n",
       "  <line x1=\"79\" y1=\"69\" x2=\"79\" y2=\"127\" />\n",
       "  <line x1=\"80\" y1=\"70\" x2=\"80\" y2=\"127\" style=\"stroke-width:2\" />\n",
       "\n",
       "  <!-- Colored Rectangle -->\n",
       "  <polygon points=\"10.000000,0.000000 80.588235,70.588235 80.588235,127.731092 10.000000,57.142857\" style=\"fill:#ECB172A0;stroke-width:0\"/>\n",
       "\n",
       "  <!-- Horizontal lines -->\n",
       "  <line x1=\"10\" y1=\"0\" x2=\"53\" y2=\"0\" style=\"stroke-width:2\" />\n",
       "  <line x1=\"27\" y1=\"17\" x2=\"70\" y2=\"17\" />\n",
       "  <line x1=\"44\" y1=\"34\" x2=\"88\" y2=\"34\" />\n",
       "  <line x1=\"62\" y1=\"52\" x2=\"105\" y2=\"52\" />\n",
       "  <line x1=\"79\" y1=\"69\" x2=\"123\" y2=\"69\" />\n",
       "  <line x1=\"80\" y1=\"70\" x2=\"123\" y2=\"70\" style=\"stroke-width:2\" />\n",
       "\n",
       "  <!-- Vertical lines -->\n",
       "  <line x1=\"10\" y1=\"0\" x2=\"80\" y2=\"70\" style=\"stroke-width:2\" />\n",
       "  <line x1=\"53\" y1=\"0\" x2=\"123\" y2=\"70\" style=\"stroke-width:2\" />\n",
       "\n",
       "  <!-- Colored Rectangle -->\n",
       "  <polygon points=\"10.000000,0.000000 53.378943,0.000000 123.967179,70.588235 80.588235,70.588235\" style=\"fill:#ECB172A0;stroke-width:0\"/>\n",
       "\n",
       "  <!-- Horizontal lines -->\n",
       "  <line x1=\"80\" y1=\"70\" x2=\"123\" y2=\"70\" style=\"stroke-width:2\" />\n",
       "  <line x1=\"80\" y1=\"127\" x2=\"123\" y2=\"127\" style=\"stroke-width:2\" />\n",
       "\n",
       "  <!-- Vertical lines -->\n",
       "  <line x1=\"80\" y1=\"70\" x2=\"80\" y2=\"127\" style=\"stroke-width:2\" />\n",
       "  <line x1=\"123\" y1=\"70\" x2=\"123\" y2=\"127\" style=\"stroke-width:2\" />\n",
       "\n",
       "  <!-- Colored Rectangle -->\n",
       "  <polygon points=\"80.588235,70.588235 123.967179,70.588235 123.967179,127.731092 80.588235,127.731092\" style=\"fill:#ECB172A0;stroke-width:0\"/>\n",
       "\n",
       "  <!-- Text -->\n",
       "  <text x=\"102.277707\" y=\"147.731092\" font-size=\"1.0rem\" font-weight=\"100\" text-anchor=\"middle\" >60</text>\n",
       "  <text x=\"143.967179\" y=\"99.159664\" font-size=\"1.0rem\" font-weight=\"100\" text-anchor=\"middle\" transform=\"rotate(-90,143.967179,99.159664)\">100</text>\n",
       "  <text x=\"35.294118\" y=\"112.436975\" font-size=\"1.0rem\" font-weight=\"100\" text-anchor=\"middle\" transform=\"rotate(45,35.294118,112.436975)\">210</text>\n",
       "</svg>\n",
       "</td>\n",
       "</tr>\n",
       "</table>"
      ],
      "text/plain": [
       "dask.array<array, shape=(210, 100, 60), dtype=complex128, chunksize=(52, 100, 60)>"
      ]
     },
     "execution_count": 4,
     "metadata": {},
     "output_type": "execute_result"
    }
   ],
   "source": [
    "Gwav_fft = np.fft.rfft(Gwav2, 2*par['nt']-1, axis=-1)\n",
    "Gwav_fft = Gwav_fft[...,:par['nfmax']]\n",
    "Gwav_fft = Gwav_fft.transpose(2,0,1)\n",
    "\n",
    "Gwav_fft_d = da.from_array(Gwav_fft, chunks=(par['nfmax'] // n_workers, par['ny'], par['nx']))\n",
    "Gwav_fft_d"
   ]
  },
  {
   "cell_type": "code",
   "execution_count": 5,
   "metadata": {},
   "outputs": [
    {
     "name": "stdout",
     "output_type": "stream",
     "text": [
      "Dot test passed, v^T(Opu)=880.243329 - u^T(Op^Tv)=880.243329\n"
     ]
    },
    {
     "data": {
      "text/plain": [
       "True"
      ]
     },
     "execution_count": 5,
     "metadata": {},
     "output_type": "execute_result"
    }
   ],
   "source": [
    "# PyLops\n",
    "MDCop = \\\n",
    "    pylops.waveeqprocessing.MDC(Gwav_fft, nt=2*par['nt']-1, \n",
    "                                nv=1, dt=par['dt'], dr=par['dx'], \n",
    "                                twosided=True, transpose=False)\n",
    "\n",
    "dottest(MDCop, (2*par['nt']-1) *par['ny'], \n",
    "        (2*par['nt']-1) *par['nx'], complexflag=3, verb=True)"
   ]
  },
  {
   "cell_type": "code",
   "execution_count": 6,
   "metadata": {
    "scrolled": false
   },
   "outputs": [
    {
     "name": "stdout",
     "output_type": "stream",
     "text": [
      "Dot test passed, v^T(Opu)=177.592316 - u^T(Op^Tv)=177.592316\n"
     ]
    }
   ],
   "source": [
    "# PyLops-dist\n",
    "dMDCop = \\\n",
    "    pylops_distributed.waveeqprocessing.MDC(Gwav_fft_d, nt=2*par['nt']-1, \n",
    "                                            nv=1, dt=par['dt'], dr=par['dx'], \n",
    "                                            twosided=True)\n",
    "ddottest(dMDCop, (2*par['nt']-1) *par['ny'], \n",
    "         (2*par['nt']-1) * par['nx'], \n",
    "         chunks=(dMDCop.shape[0], dMDCop.shape[1]),\n",
    "         complexflag=3, verb=True);"
   ]
  },
  {
   "cell_type": "markdown",
   "metadata": {},
   "source": [
    "Forward"
   ]
  },
  {
   "cell_type": "code",
   "execution_count": 7,
   "metadata": {},
   "outputs": [],
   "source": [
    "d = MDCop*m.T.ravel()\n",
    "d = d.reshape(2*par['nt']-1, par['ny'])"
   ]
  },
  {
   "cell_type": "code",
   "execution_count": 8,
   "metadata": {},
   "outputs": [
    {
     "data": {
      "text/html": [
       "<table>\n",
       "<tr>\n",
       "<td>\n",
       "<table>\n",
       "  <thead>\n",
       "    <tr><td> </td><th> Array </th><th> Chunk </th></tr>\n",
       "  </thead>\n",
       "  <tbody>\n",
       "    <tr><th> Bytes </th><td> 639.20 kB </td> <td> 639.20 kB </td></tr>\n",
       "    <tr><th> Shape </th><td> (799, 100) </td> <td> (799, 100) </td></tr>\n",
       "    <tr><th> Count </th><td> 72 Tasks </td><td> 1 Chunks </td></tr>\n",
       "    <tr><th> Type </th><td> float64 </td><td> numpy.ndarray </td></tr>\n",
       "  </tbody>\n",
       "</table>\n",
       "</td>\n",
       "<td>\n",
       "<svg width=\"89\" height=\"170\" style=\"stroke:rgb(0,0,0);stroke-width:1\" >\n",
       "\n",
       "  <!-- Horizontal lines -->\n",
       "  <line x1=\"0\" y1=\"0\" x2=\"39\" y2=\"0\" style=\"stroke-width:2\" />\n",
       "  <line x1=\"0\" y1=\"120\" x2=\"39\" y2=\"120\" style=\"stroke-width:2\" />\n",
       "\n",
       "  <!-- Vertical lines -->\n",
       "  <line x1=\"0\" y1=\"0\" x2=\"0\" y2=\"120\" style=\"stroke-width:2\" />\n",
       "  <line x1=\"39\" y1=\"0\" x2=\"39\" y2=\"120\" style=\"stroke-width:2\" />\n",
       "\n",
       "  <!-- Colored Rectangle -->\n",
       "  <polygon points=\"0.000000,0.000000 39.800406,0.000000 39.800406,120.000000 0.000000,120.000000\" style=\"fill:#ECB172A0;stroke-width:0\"/>\n",
       "\n",
       "  <!-- Text -->\n",
       "  <text x=\"19.900203\" y=\"140.000000\" font-size=\"1.0rem\" font-weight=\"100\" text-anchor=\"middle\" >100</text>\n",
       "  <text x=\"59.800406\" y=\"60.000000\" font-size=\"1.0rem\" font-weight=\"100\" text-anchor=\"middle\" transform=\"rotate(-90,59.800406,60.000000)\">799</text>\n",
       "</svg>\n",
       "</td>\n",
       "</tr>\n",
       "</table>"
      ],
      "text/plain": [
       "dask.array<reshape, shape=(799, 100), dtype=float64, chunksize=(799, 100)>"
      ]
     },
     "execution_count": 8,
     "metadata": {},
     "output_type": "execute_result"
    }
   ],
   "source": [
    "dd = dMDCop * (da.from_array(m.T, chunks=(2*par['nt']-1, par['nx']))).ravel()\n",
    "dd = dd.reshape(2*par['nt']-1, par['ny'])\n",
    "dd"
   ]
  },
  {
   "cell_type": "markdown",
   "metadata": {},
   "source": [
    "Adjoint"
   ]
  },
  {
   "cell_type": "code",
   "execution_count": 9,
   "metadata": {},
   "outputs": [],
   "source": [
    "madj = MDCop.H*d.ravel()\n",
    "madj = madj.reshape(2*par['nt']-1, par['nx'])"
   ]
  },
  {
   "cell_type": "code",
   "execution_count": 10,
   "metadata": {},
   "outputs": [],
   "source": [
    "dmadj = dMDCop.H*dd.ravel()\n",
    "dmadj = dmadj.reshape(2*par['nt']-1, par['nx'])"
   ]
  },
  {
   "cell_type": "code",
   "execution_count": 11,
   "metadata": {},
   "outputs": [
    {
     "data": {
      "image/png": "[encoded data removed]",
      "text/plain": [
       "<Figure size 432x288 with 1 Axes>"
      ]
     },
     "metadata": {
      "needs_background": "light"
     },
     "output_type": "display_data"
    },
    {
     "data": {
      "image/png": "[encoded data removed]",
      "text/plain": [
       "<Figure size 432x288 with 2 Axes>"
      ]
     },
     "metadata": {
      "needs_background": "light"
     },
     "output_type": "display_data"
    },
    {
     "data": {
      "image/png": "[encoded data removed]",
      "text/plain": [
       "<Figure size 432x288 with 1 Axes>"
      ]
     },
     "metadata": {
      "needs_background": "light"
     },
     "output_type": "display_data"
    },
    {
     "data": {
      "image/png": "[encoded data removed]",
      "text/plain": [
       "<Figure size 432x288 with 1 Axes>"
      ]
     },
     "metadata": {
      "needs_background": "light"
     },
     "output_type": "display_data"
    },
    {
     "data": {
      "image/png": "[encoded data removed]",
      "text/plain": [
       "<Figure size 432x288 with 1 Axes>"
      ]
     },
     "metadata": {
      "needs_background": "light"
     },
     "output_type": "display_data"
    },
    {
     "data": {
      "image/png": "[encoded data removed]",
      "text/plain": [
       "<Figure size 432x288 with 1 Axes>"
      ]
     },
     "metadata": {
      "needs_background": "light"
     },
     "output_type": "display_data"
    }
   ],
   "source": [
    "# Plotting\n",
    "plt.figure()\n",
    "plt.imshow(mwav.T,aspect='auto',interpolation='nearest', vmin=-2, vmax=2, cmap='gray',\n",
    "           extent=(x.min(),x.max(),t2.max(),t2.min()))\n",
    "plt.title('m ', fontsize=15)\n",
    "plt.xlabel('x')\n",
    "plt.ylabel('t')\n",
    "plt.tight_layout()\n",
    "\n",
    "plt.figure()\n",
    "plt.subplot(121)\n",
    "plt.imshow(Gwav2[int(par['ny']/2)].T, aspect='auto',interpolation='nearest', vmin=-2, vmax=2, cmap='gray',\n",
    "           extent=(x.min(),x.max(),t2.max(),t2.min()))\n",
    "plt.title('G - inline view', fontsize=15)\n",
    "plt.xlabel('x'),plt.ylabel('t')\n",
    "\n",
    "plt.subplot(122)\n",
    "plt.imshow(Gwav2[:,int(par['nx']/2)].T, aspect='auto',interpolation='nearest', vmin=-2, vmax=2, cmap='gray',\n",
    "           extent=(y.min(),y.max(),t2.max(),t2.min()))\n",
    "plt.title('G - xline view', fontsize=15)\n",
    "plt.xlabel('y'),plt.ylabel('t')\n",
    "plt.tight_layout()\n",
    "\n",
    "plt.figure()\n",
    "plt.imshow(d, aspect='auto',interpolation='nearest', vmin=-20, vmax=20, cmap='gray',\n",
    "           extent=(x.min(),x.max(),t2.max(),t2.min()))\n",
    "plt.title('d', fontsize=15)\n",
    "plt.xlabel('x'),plt.ylabel('t')\n",
    "plt.tight_layout()\n",
    "\n",
    "plt.figure()\n",
    "plt.imshow(dd.compute(), aspect='auto',interpolation='nearest', vmin=-20, vmax=20, cmap='gray',\n",
    "           extent=(x.min(),x.max(),t2.max(),t2.min()))\n",
    "plt.title('d dask', fontsize=15)\n",
    "plt.xlabel('x'),plt.ylabel('t')\n",
    "plt.tight_layout()\n",
    "\n",
    "\n",
    "plt.figure()\n",
    "plt.imshow(madj, aspect='auto',interpolation='nearest', vmin=-20, vmax=20, cmap='gray',\n",
    "           extent=(x.min(),x.max(),t2.max(),t2.min()))\n",
    "plt.title('madj', fontsize=15)\n",
    "plt.xlabel('x'),plt.ylabel('t')\n",
    "plt.tight_layout()\n",
    "\n",
    "plt.figure()\n",
    "plt.imshow(dmadj.compute(), aspect='auto',interpolation='nearest', vmin=-20, vmax=20, cmap='gray',\n",
    "           extent=(x.min(),x.max(),t2.max(),t2.min()))\n",
    "plt.title('madj dask', fontsize=15)\n",
    "plt.xlabel('x'),plt.ylabel('t')\n",
    "plt.tight_layout()"
   ]
  },
  {
   "cell_type": "code",
   "execution_count": 12,
   "metadata": {},
   "outputs": [
    {
     "data": {
      "text/plain": [
       "True"
      ]
     },
     "execution_count": 12,
     "metadata": {},
     "output_type": "execute_result"
    }
   ],
   "source": [
    "np.allclose(d, dd.compute())"
   ]
  },
  {
   "cell_type": "code",
   "execution_count": 13,
   "metadata": {},
   "outputs": [
    {
     "data": {
      "text/plain": [
       "True"
      ]
     },
     "execution_count": 13,
     "metadata": {},
     "output_type": "execute_result"
    }
   ],
   "source": [
    "np.allclose(madj, dmadj.compute())"
   ]
  },
  {
   "cell_type": "markdown",
   "metadata": {},
   "source": [
    "## Application 1: Multi-dimensional deconvolution (MDD)"
   ]
  },
  {
   "cell_type": "markdown",
   "metadata": {},
   "source": [
    "MDD is an ill-solved problem, well-known in the image processing and geophysical community. It aims to remove the effect of the multidimensional convolution kernel or the so-called point-spread function (PSF). It can be written as\n",
    "\n",
    "$$\\mathbf{d}= \\mathbf{D} \\mathbf{m}$$\n",
    "\n",
    "or, equivalently, by means of its normal equation\n",
    "\n",
    "$$\\mathbf{m}= (\\mathbf{D}^H\\mathbf{D})^{-1} \\mathbf{D}^H\\mathbf{d}$$\n",
    "\n",
    "where $\\mathbf{D}^H\\mathbf{D}$ is generally referred to as blurring operator or PSF."
   ]
  },
  {
   "cell_type": "markdown",
   "metadata": {},
   "source": [
    "### Single virtual source"
   ]
  },
  {
   "cell_type": "markdown",
   "metadata": {},
   "source": [
    "Let's take from where we left and invert our MDC operator"
   ]
  },
  {
   "cell_type": "code",
   "execution_count": 14,
   "metadata": {},
   "outputs": [
    {
     "name": "stdout",
     "output_type": "stream",
     "text": [
      " \n",
      "LSQR            Least-squares solution of  Ax = b\n",
      "The matrix A has    79900 rows  and    47940 cols\n",
      "damp = 1.00000000000000e-10   calc_var =        0\n",
      "atol = 1.00e-08                 conlim = 1.00e+08\n",
      "btol = 1.00e-08               iter_lim =       10\n",
      " \n",
      "   Itn      x[0]       r1norm     r2norm   Compatible    LS      Norm A   Cond A\n",
      "     0  0.00000e+00   6.075e+02  6.075e+02    1.0e+00  3.5e-01\n",
      "     1  2.05408e-11   3.382e+02  3.382e+02    5.6e-01  7.1e-01   2.6e+02  1.0e+00\n",
      "     2  5.35323e-11   1.981e+02  1.981e+02    3.3e-01  3.7e-01   3.6e+02  2.3e+00\n",
      "     3  9.55186e-11   1.457e+02  1.457e+02    2.4e-01  3.1e-01   4.2e+02  3.6e+00\n",
      "     4  1.52563e-10   1.086e+02  1.086e+02    1.8e-01  2.3e-01   4.9e+02  5.2e+00\n",
      "     5 -3.91262e-09   8.804e+01  8.804e+01    1.4e-01  2.0e-01   5.4e+02  6.8e+00\n",
      "     6 -1.73238e-05   7.267e+01  7.267e+01    1.2e-01  1.5e-01   5.9e+02  8.6e+00\n",
      "     7  3.59669e-05   6.147e+01  6.147e+01    1.0e-01  1.2e-01   6.3e+02  1.1e+01\n",
      "     8  9.59186e-04   5.281e+01  5.281e+01    8.7e-02  1.3e-01   6.6e+02  1.3e+01\n",
      "     9  2.60007e-04   4.798e+01  4.798e+01    7.9e-02  1.1e-01   7.0e+02  1.5e+01\n",
      "    10  4.54062e-04   4.347e+01  4.347e+01    7.2e-02  7.9e-02   7.4e+02  1.7e+01\n",
      " \n",
      "LSQR finished\n",
      "The iteration limit has been reached                      \n",
      " \n",
      "istop =       7   r1norm = 4.3e+01   anorm = 7.4e+02   arnorm = 2.5e+03\n",
      "itn   =      10   r2norm = 4.3e+01   acond = 1.7e+01   xnorm  = 4.0e+00\n",
      " \n"
     ]
    }
   ],
   "source": [
    "madj = MDCop.H*d.flatten()\n",
    "minv, istop, itn, r1norm, r2norm = \\\n",
    "    lsqr(MDCop, d.flatten(), damp=1e-10, iter_lim=10, show=1)[0:5]\n",
    "\n",
    "madj = madj.reshape(2*par['nt']-1, par['nx'])\n",
    "minv = minv.reshape(2*par['nt']-1, par['nx'])"
   ]
  },
  {
   "cell_type": "code",
   "execution_count": 15,
   "metadata": {
    "scrolled": false
   },
   "outputs": [
    {
     "data": {
      "image/png": "[encoded data removed]",
      "text/plain": [
       "<Figure size 432x288 with 1 Axes>"
      ]
     },
     "metadata": {
      "needs_background": "light"
     },
     "output_type": "display_data"
    },
    {
     "data": {
      "image/png": "[encoded data removed]",
      "text/plain": [
       "<Figure size 1080x432 with 3 Axes>"
      ]
     },
     "metadata": {
      "needs_background": "light"
     },
     "output_type": "display_data"
    }
   ],
   "source": [
    "# Plotting\n",
    "plt.figure()\n",
    "plt.imshow(mwav.T,aspect='auto',interpolation='nearest', cmap='gray',\n",
    "           vmin=-mwav.max(), vmax=mwav.max(),\n",
    "           extent=(x.min(),x.max(),t2.max(),t2.min()))\n",
    "plt.title('m ', fontsize=15)\n",
    "plt.xlabel('x'),plt.ylabel('t')\n",
    "plt.tight_layout()\n",
    "\n",
    "fig = plt.figure(figsize=(15,6))\n",
    "ax1 = plt.subplot2grid((1, 5), (0, 0), colspan=2)\n",
    "ax2 = plt.subplot2grid((1, 5), (0, 2), colspan=2)\n",
    "ax3 = plt.subplot2grid((1, 5), (0, 4))\n",
    "\n",
    "ax1.imshow(madj, aspect='auto',interpolation='nearest', cmap='gray', \n",
    "           vmin=-madj.max(), vmax=madj.max(),\n",
    "           extent=(x.min(),x.max(),t2.max(),t2.min()))\n",
    "ax1.set_title('adjoint m', fontsize=15)\n",
    "ax1.set_xlabel('x'),ax1.set_ylabel('t')\n",
    "\n",
    "ax2.imshow(minv, aspect='auto', interpolation='nearest', cmap='gray',\n",
    "           vmin=-minv.max(), vmax=minv.max(),\n",
    "           extent=(x.min(),x.max(),t2.max(),t2.min()))\n",
    "ax2.set_title('inverted m', fontsize=15)\n",
    "ax2.set_xlabel('x'),ax1.set_ylabel('t')\n",
    "\n",
    "ax3.plot(madj[:, int(par['nx']/2)]/np.abs(madj[:, int(par['nx']/2)]).max(), t2, 'r', lw=5)\n",
    "ax3.plot(minv[:, int(par['nx']/2)]/np.abs(minv[:, int(par['nx']/2)]).max(), t2, '--k', lw=3)\n",
    "ax3.set_ylim([t2[-1],t2[0]])\n",
    "fig.tight_layout()"
   ]
  },
  {
   "cell_type": "markdown",
   "metadata": {},
   "source": [
    "We solve now the same problem with distributed operators"
   ]
  },
  {
   "cell_type": "code",
   "execution_count": 16,
   "metadata": {},
   "outputs": [
    {
     "name": "stdout",
     "output_type": "stream",
     "text": [
      "Dot test passed, v^T(Opu)=-0.616991 - u^T(Op^Tv)=-0.616991\n"
     ]
    }
   ],
   "source": [
    "dMDCop = \\\n",
    "    pylops_distributed.waveeqprocessing.MDC(Gwav_fft_d, nt=2*par['nt']-1, \n",
    "                                            nv=1, dt=par['dt'], dr=par['dx'], \n",
    "                                            twosided=True, todask=(True, True))\n",
    "ddottest(dMDCop, (2*par['nt']-1) *par['ny'], \n",
    "         (2*par['nt']-1) * par['nx'], \n",
    "         chunks=(dMDCop.shape[0], dMDCop.shape[1]),\n",
    "         complexflag=3, verb=True);"
   ]
  },
  {
   "cell_type": "code",
   "execution_count": 17,
   "metadata": {},
   "outputs": [],
   "source": [
    "dmadj = dMDCop.H*dd.flatten()\n",
    "dmadj = dmadj.reshape(2*par['nt']-1, par['nx'])\n",
    "dmadj = dmadj.compute()"
   ]
  },
  {
   "cell_type": "code",
   "execution_count": 18,
   "metadata": {},
   "outputs": [
    {
     "data": {
      "text/html": [
       "<table>\n",
       "<tr>\n",
       "<td>\n",
       "<table>\n",
       "  <thead>\n",
       "    <tr><td> </td><th> Array </th><th> Chunk </th></tr>\n",
       "  </thead>\n",
       "  <tbody>\n",
       "    <tr><th> Bytes </th><td> 383.52 kB </td> <td> 383.52 kB </td></tr>\n",
       "    <tr><th> Shape </th><td> (47940,) </td> <td> (47940,) </td></tr>\n",
       "    <tr><th> Count </th><td> 120 Tasks </td><td> 1 Chunks </td></tr>\n",
       "    <tr><th> Type </th><td> float64 </td><td> numpy.ndarray </td></tr>\n",
       "  </tbody>\n",
       "</table>\n",
       "</td>\n",
       "<td>\n",
       "<svg width=\"170\" height=\"75\" style=\"stroke:rgb(0,0,0);stroke-width:1\" >\n",
       "\n",
       "  <!-- Horizontal lines -->\n",
       "  <line x1=\"0\" y1=\"0\" x2=\"120\" y2=\"0\" style=\"stroke-width:2\" />\n",
       "  <line x1=\"0\" y1=\"25\" x2=\"120\" y2=\"25\" style=\"stroke-width:2\" />\n",
       "\n",
       "  <!-- Vertical lines -->\n",
       "  <line x1=\"0\" y1=\"0\" x2=\"0\" y2=\"25\" style=\"stroke-width:2\" />\n",
       "  <line x1=\"120\" y1=\"0\" x2=\"120\" y2=\"25\" style=\"stroke-width:2\" />\n",
       "\n",
       "  <!-- Colored Rectangle -->\n",
       "  <polygon points=\"0.000000,0.000000 120.000000,0.000000 120.000000,25.412617 0.000000,25.412617\" style=\"fill:#ECB172A0;stroke-width:0\"/>\n",
       "\n",
       "  <!-- Text -->\n",
       "  <text x=\"60.000000\" y=\"45.412617\" font-size=\"1.0rem\" font-weight=\"100\" text-anchor=\"middle\" >47940</text>\n",
       "  <text x=\"140.000000\" y=\"12.706308\" font-size=\"1.0rem\" font-weight=\"100\" text-anchor=\"middle\" transform=\"rotate(0,140.000000,12.706308)\">1</text>\n",
       "</svg>\n",
       "</td>\n",
       "</tr>\n",
       "</table>"
      ],
      "text/plain": [
       "dask.array<reshape, shape=(47940,), dtype=float64, chunksize=(47940,)>"
      ]
     },
     "execution_count": 18,
     "metadata": {},
     "output_type": "execute_result"
    }
   ],
   "source": [
    "dMDCop.rmatvec(np.ones(79900))"
   ]
  },
  {
   "cell_type": "code",
   "execution_count": 19,
   "metadata": {
    "scrolled": false
   },
   "outputs": [
    {
     "name": "stdout",
     "output_type": "stream",
     "text": [
      "dminv dask.array<reshape, shape=(799, 60), dtype=float64, chunksize=(799, 60)>\n"
     ]
    }
   ],
   "source": [
    "#dminv = dcg(dMDCop.H * dMDCop, dMDCop.H * dd.ravel(), \n",
    "#            niter=10, compute=False)\n",
    "dminv = dcgls(dMDCop, dd.ravel(), niter=10, compute=False)\n",
    "\n",
    "dminv = dminv.reshape(2*par['nt']-1, par['nx'])\n",
    "print('dminv', dminv)\n",
    "dminv = dminv.compute()"
   ]
  },
  {
   "cell_type": "code",
   "execution_count": 20,
   "metadata": {},
   "outputs": [],
   "source": [
    "#dminv = dcg(dMDCop.H * dMDCop, dMDCop.H * dd.ravel(), \n",
    "#            niter=10, compute=True)\n",
    "dminv = dcgls(dMDCop, dd.ravel(), niter=10, compute=True)\n",
    "\n",
    "dminv = dminv.reshape(2*par['nt']-1, par['nx'])"
   ]
  },
  {
   "cell_type": "code",
   "execution_count": 21,
   "metadata": {},
   "outputs": [
    {
     "data": {
      "image/png": "[encoded data removed]",
      "text/plain": [
       "<Figure size 432x288 with 1 Axes>"
      ]
     },
     "metadata": {
      "needs_background": "light"
     },
     "output_type": "display_data"
    },
    {
     "data": {
      "image/png": "[encoded data removed]",
      "text/plain": [
       "<Figure size 1080x432 with 3 Axes>"
      ]
     },
     "metadata": {
      "needs_background": "light"
     },
     "output_type": "display_data"
    }
   ],
   "source": [
    "# Plotting\n",
    "plt.figure()\n",
    "plt.imshow(mwav.T,aspect='auto',interpolation='nearest', cmap='gray',\n",
    "           vmin=-mwav.max(), vmax=mwav.max(),\n",
    "           extent=(x.min(),x.max(),t2.max(),t2.min()))\n",
    "plt.title('m ', fontsize=15)\n",
    "plt.xlabel('x'),plt.ylabel('t')\n",
    "plt.tight_layout()\n",
    "\n",
    "fig = plt.figure(figsize=(15,6))\n",
    "ax1 = plt.subplot2grid((1, 5), (0, 0), colspan=2)\n",
    "ax2 = plt.subplot2grid((1, 5), (0, 2), colspan=2)\n",
    "ax3 = plt.subplot2grid((1, 5), (0, 4))\n",
    "\n",
    "ax1.imshow(dmadj, aspect='auto',interpolation='nearest', cmap='gray', \n",
    "           vmin=-dmadj.max(), vmax=dmadj.max(),\n",
    "           extent=(x.min(),x.max(),t2.max(),t2.min()))\n",
    "ax1.set_title('adjoint m', fontsize=15)\n",
    "ax1.set_xlabel('x'),ax1.set_ylabel('t')\n",
    "\n",
    "ax2.imshow(dminv, aspect='auto', interpolation='nearest', cmap='gray',\n",
    "           vmin=-dminv.max(), vmax=dminv.max(),\n",
    "           extent=(x.min(),x.max(),t2.max(),t2.min()))\n",
    "ax2.set_title('inverted m', fontsize=15)\n",
    "ax2.set_xlabel('x'),ax1.set_ylabel('t')\n",
    "\n",
    "ax3.plot(dmadj[:, int(par['nx']/2)]/np.abs(dmadj[:, int(par['nx']/2)]).max(), t2, 'r', lw=5)\n",
    "ax3.plot(dminv[:, int(par['nx']/2)]/np.abs(dminv[:, int(par['nx']/2)]).max(), t2, '--k', lw=3)\n",
    "ax3.set_ylim([t2[-1],t2[0]])\n",
    "fig.tight_layout()"
   ]
  },
  {
   "cell_type": "code",
   "execution_count": null,
   "metadata": {},
   "outputs": [
    {
     "name": "stdout",
     "output_type": "stream",
     "text": [
      "3.44 s ± 46.5 ms per loop (mean ± std. dev. of 2 runs, 2 loops each)\n"
     ]
    }
   ],
   "source": [
    "%timeit -n 2 -r 2 dcg(dMDCop.H * dMDCop, dMDCop.H * dd.ravel(), niter=5, compute=False).compute()\n",
    "%timeit -n 2 -r 2 dcg(dMDCop.H * dMDCop, dMDCop.H * dd.ravel(), niter=5, compute=True)"
   ]
  }
 ],
 "metadata": {
  "kernelspec": {
   "display_name": "Python 3",
   "language": "python",
   "name": "python3"
  },
  "language_info": {
   "codemirror_mode": {
    "name": "ipython",
    "version": 3
   },
   "file_extension": ".py",
   "mimetype": "text/x-python",
   "name": "python",
   "nbconvert_exporter": "python",
   "pygments_lexer": "ipython3",
   "version": "3.7.3"
  }
 },
 "nbformat": 4,
 "nbformat_minor": 1
}
