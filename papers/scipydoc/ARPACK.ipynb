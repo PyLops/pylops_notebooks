{
 "cells": [
  {
   "cell_type": "markdown",
   "metadata": {},
   "source": [
    "# ARPACK with PyLops"
   ]
  },
  {
   "cell_type": "markdown",
   "metadata": {},
   "source": [
    "This notebook contains code written to showcase how to use ARPACK wrappers in scipy on PyLops linear operators to estimate eigenvalues. This code is now part of the scipy official documentation at http://scipy.github.io/devdocs/tutorial/arpack.html"
   ]
  },
  {
   "cell_type": "code",
   "execution_count": 5,
   "metadata": {},
   "outputs": [],
   "source": [
    "import numpy as np\n",
    "from scipy.linalg import eig, eigh\n",
    "from scipy.sparse.linalg import eigs, eigsh\n",
    "\n",
    "from pylops import MatrixMult, Diagonal, FirstDerivative\n",
    "from pylops.signalprocessing import FFT"
   ]
  },
  {
   "cell_type": "markdown",
   "metadata": {},
   "source": [
    "## Symmetric matrix"
   ]
  },
  {
   "cell_type": "code",
   "execution_count": 2,
   "metadata": {},
   "outputs": [],
   "source": [
    "np.random.seed(0)\n",
    "X = np.random.random((100,100)) - 0.5\n",
    "X = np.dot(X, X.T) #create a symmetric matrix"
   ]
  },
  {
   "cell_type": "code",
   "execution_count": 3,
   "metadata": {},
   "outputs": [],
   "source": [
    "evals_all, evecs_all = eigh(X)\n",
    "evals_large, evecs_large = eigsh(X, 3, which='LM')"
   ]
  },
  {
   "cell_type": "code",
   "execution_count": 6,
   "metadata": {},
   "outputs": [
    {
     "name": "stdout",
     "output_type": "stream",
     "text": [
      "[29.1446102  30.05821805 31.19467646]\n",
      "[29.1446102  30.05821805 31.19467646]\n",
      "[-4.26325641e-14 -4.97379915e-14 -3.55271368e-14]\n"
     ]
    }
   ],
   "source": [
    "print(evals_all[-3:])\n",
    "print(evals_large)\n",
    "print(evals_all[-3:]-evals_large)"
   ]
  },
  {
   "cell_type": "markdown",
   "metadata": {},
   "source": [
    "Let's now use MatrixMult pylops operators (symmetric so we can use eigsh)"
   ]
  },
  {
   "cell_type": "code",
   "execution_count": 7,
   "metadata": {},
   "outputs": [],
   "source": [
    "N = 100\n",
    "M = np.random.normal(0, 1, (N, N))\n",
    "M = np.dot(M, M.T) #create a symmetric \n",
    "Mop = MatrixMult(M, dtype=np.float64)\n",
    "\n",
    "evals_all, evecs_all = eigh(M)\n",
    "evals_large, evecs_large = eigsh(Mop, 3, which='LM')"
   ]
  },
  {
   "cell_type": "code",
   "execution_count": 8,
   "metadata": {},
   "outputs": [
    {
     "name": "stdout",
     "output_type": "stream",
     "text": [
      "[328.15561917 345.39453702 360.63807832]\n",
      "[328.15561917 345.39453702 360.63807832]\n",
      "[ 9.09494702e-13 -2.27373675e-13  4.54747351e-13]\n"
     ]
    }
   ],
   "source": [
    "print(evals_all[-3:])\n",
    "print(evals_large)\n",
    "print(evals_all[-3:]-evals_large)"
   ]
  },
  {
   "cell_type": "markdown",
   "metadata": {},
   "source": [
    "## Diagonal"
   ]
  },
  {
   "cell_type": "markdown",
   "metadata": {},
   "source": [
    "Let's now use Diagonal pylops operators (still symmetric so we can use eigsh)"
   ]
  },
  {
   "cell_type": "code",
   "execution_count": 9,
   "metadata": {},
   "outputs": [],
   "source": [
    "N = 10\n",
    "d = (np.arange(N)+1.).astype(np.float64)\n",
    "D = np.diag(d) \n",
    "Dop = Diagonal(d, dtype=np.float64)\n",
    "\n",
    "evals_all, evecs_all = eigh(D)\n",
    "evals_large, evecs_large = eigsh(Dop, 5, which='LA', maxiter=1e4)"
   ]
  },
  {
   "cell_type": "code",
   "execution_count": 10,
   "metadata": {},
   "outputs": [
    {
     "name": "stdout",
     "output_type": "stream",
     "text": [
      "[ 6.  7.  8.  9. 10.]\n",
      "[ 6.  7.  8.  9. 10.]\n",
      "[ 8.88178420e-16  0.00000000e+00 -1.77635684e-15 -1.77635684e-15\n",
      "  0.00000000e+00]\n"
     ]
    }
   ],
   "source": [
    "print(evals_all[-5:])\n",
    "print(evals_large)\n",
    "print(evals_all[-5:]-evals_large)"
   ]
  },
  {
   "cell_type": "code",
   "execution_count": 11,
   "metadata": {},
   "outputs": [
    {
     "name": "stdout",
     "output_type": "stream",
     "text": [
      "[ 6.  7.  8.  9. 10.]\n",
      "[ 7.  6.  8.  9. 10.]\n",
      "[-1.00000000e+00  1.00000000e+00  6.21724894e-15 -1.77635684e-15\n",
      "  0.00000000e+00]\n"
     ]
    }
   ],
   "source": [
    "evals_all, evecs_all = eigh(D)\n",
    "evals_large, evecs_large = eigs(Dop, 5, which='LM', maxiter=1e4)\n",
    "\n",
    "print(evals_all[-5:])\n",
    "print(np.flipud(evals_large.real))\n",
    "print(evals_all[-5:]-np.flipud(evals_large.real))"
   ]
  },
  {
   "cell_type": "code",
   "execution_count": 12,
   "metadata": {},
   "outputs": [],
   "source": [
    "np.random.seed(0)\n",
    "\n",
    "N = 100\n",
    "d = np.random.normal(0, 1, N).astype(np.float64)\n",
    "D = np.diag(d) \n",
    "Dop = Diagonal(d, dtype=np.float64)\n",
    "\n",
    "evals_all, evecs_all = eigh(D)\n",
    "evals_large, evecs_large = eigsh(Dop, 3, which='LA', maxiter=1e3)"
   ]
  },
  {
   "cell_type": "code",
   "execution_count": 13,
   "metadata": {
    "scrolled": true
   },
   "outputs": [
    {
     "name": "stdout",
     "output_type": "stream",
     "text": [
      "[1.9507754  2.2408932  2.26975462]\n",
      "[1.9507754  2.2408932  2.26975462]\n",
      "[ 6.66133815e-16  0.00000000e+00 -3.10862447e-15]\n",
      "[[-1.00000000e+00 -1.08878742e-15  2.27332283e-16]\n",
      " [ 9.85498572e-16 -1.00000000e+00 -2.83515622e-14]\n",
      " [ 2.46314334e-16 -2.77019543e-14  1.00000000e+00]]\n"
     ]
    }
   ],
   "source": [
    "print(evals_all[-3:])\n",
    "print(evals_large)\n",
    "print(evals_all[-3:]-evals_large)\n",
    "\n",
    "print(np.dot(evecs_large.T, evecs_all[:,-3:]))"
   ]
  },
  {
   "cell_type": "markdown",
   "metadata": {},
   "source": [
    "We can now create **an operator from scratch without Pylops for scipy doc**"
   ]
  },
  {
   "cell_type": "code",
   "execution_count": 14,
   "metadata": {},
   "outputs": [
    {
     "name": "stdout",
     "output_type": "stream",
     "text": [
      "[1.9507754  2.2408932  2.26975462]\n",
      "[1.9507754  2.2408932  2.26975462]\n",
      "[6.66133815e-15 4.44089210e-15 4.44089210e-15]\n",
      "[[-1.00000000e+00 -6.97479747e-16 -2.23452765e-16]\n",
      " [ 3.00600573e-16 -1.00000000e+00 -1.06719922e-14]\n",
      " [ 2.12381552e-16  1.05593224e-14 -1.00000000e+00]]\n"
     ]
    }
   ],
   "source": [
    "import numpy as np\n",
    "from scipy.sparse.linalg import LinearOperator\n",
    "\n",
    "class Diagonal(LinearOperator):\n",
    "    def __init__(self, diag, dtype='float32'):\n",
    "        self.diag = diag\n",
    "        self.shape = (len(self.diag), len(self.diag))\n",
    "        self.dtype = np.dtype(dtype)\n",
    "\n",
    "    def _matvec(self, x):\n",
    "        return self.diag*x\n",
    "\n",
    "    def _rmatvec(self, x):\n",
    "        return self.diag*x\n",
    "    \n",
    "np.random.seed(0)\n",
    "N = 100\n",
    "d = np.random.normal(0, 1, N).astype(np.float64)\n",
    "D = np.diag(d) \n",
    "Dop = Diagonal(d, dtype=np.float64)\n",
    "\n",
    "evals_all, evecs_all = eigh(D)\n",
    "evals_large, evecs_large = eigsh(Dop, 3, which='LA', maxiter=1e3)\n",
    "\n",
    "print(evals_all[-3:])\n",
    "print(evals_large)\n",
    "print(evals_all[-3:]-evals_large)\n",
    "\n",
    "print(np.dot(evecs_large.T, evecs_all[:,-3:]))"
   ]
  },
  {
   "cell_type": "markdown",
   "metadata": {},
   "source": [
    "## Non-Symmetric matrix"
   ]
  },
  {
   "cell_type": "markdown",
   "metadata": {},
   "source": [
    "Let's repeat the same exercise with a non-symettric MatrixMult"
   ]
  },
  {
   "cell_type": "code",
   "execution_count": 16,
   "metadata": {},
   "outputs": [],
   "source": [
    "N = 100\n",
    "M = np.random.normal(0, 1, (N, N)).astype(np.float64)\n",
    "Mop = MatrixMult(M, dtype=np.float64)\n",
    "\n",
    "evals_all, evecs_all = eig(M)\n",
    "evals_large, evecs_large = eigs(Mop, 5, which='LR')\n",
    "\n",
    "# as i find largest real need to extract largest real from evals_all\n",
    "evals_all_real = evals_all.real\n",
    "evals_all_real = np.sort(evals_all_real)"
   ]
  },
  {
   "cell_type": "code",
   "execution_count": 17,
   "metadata": {},
   "outputs": [
    {
     "name": "stdout",
     "output_type": "stream",
     "text": [
      "[7.68587676 7.72915784 7.72915784 9.37791307 9.37791307]\n",
      "[7.68587676 7.72915784 7.72915784 9.37791307 9.37791307]\n",
      "[-3.55271368e-15 -2.30926389e-14 -2.30926389e-14  3.01980663e-14\n",
      "  3.01980663e-14]\n"
     ]
    }
   ],
   "source": [
    "print(evals_all_real[-5:])\n",
    "print(np.sort(evals_large.real))\n",
    "print(evals_all_real[-5:]-np.sort(evals_large.real))"
   ]
  },
  {
   "cell_type": "markdown",
   "metadata": {},
   "source": [
    "## FirstDerivative"
   ]
  },
  {
   "cell_type": "markdown",
   "metadata": {},
   "source": [
    "We now use a more complicated operator, the FirstDerivative which is not symmetric"
   ]
  },
  {
   "cell_type": "code",
   "execution_count": 18,
   "metadata": {},
   "outputs": [],
   "source": [
    "N = 21\n",
    "x = np.arange(N)\n",
    "\n",
    "# dense\n",
    "D = np.diag(0.5*np.ones(N-1),k=1) - np.diag(0.5*np.ones(N-1),-1)\n",
    "D[0] = D[-1] = 0 # take away edge effects\n",
    "\n",
    "# linear operator\n",
    "Dop = FirstDerivative(N, dtype=np.float64)\n",
    "\n",
    "# y = Dx\n",
    "#y = np.dot(D,x)\n",
    "#ylop = Dop*x\n",
    "#print(y-ylop)\n",
    "\n",
    "evals_all, evecs_all = eig(D)\n",
    "evals_large, evecs_large = eigs(Dop, 4, which='LI')\n",
    "\n",
    "# as i find largest real need to extract largest real from evals_all\n",
    "evals_all_imag = evals_all.imag\n",
    "isort_imag = np.argsort(np.abs(evals_all_imag))\n",
    "evals_all_imag = evals_all_imag[isort_imag]\n",
    "evals_large_imag = evals_large.imag\n",
    "isort_imag = np.argsort(np.abs(evals_large_imag))\n",
    "evals_large_imag = evals_large_imag[isort_imag]"
   ]
  },
  {
   "cell_type": "code",
   "execution_count": 19,
   "metadata": {},
   "outputs": [
    {
     "name": "stdout",
     "output_type": "stream",
     "text": [
      "[-0.95105652  0.95105652 -0.98768834  0.98768834]\n",
      "[ 0.95105652 -0.95105652  0.98768834 -0.98768834]\n",
      "[-1.90211303  1.90211303 -1.97537668  1.97537668]\n"
     ]
    }
   ],
   "source": [
    "print(evals_all_imag[-4:])\n",
    "print(evals_large_imag)\n",
    "print(evals_all_imag[-4:]-evals_large_imag)"
   ]
  },
  {
   "cell_type": "code",
   "execution_count": 20,
   "metadata": {},
   "outputs": [
    {
     "data": {
      "text/plain": [
       "array([ 0.95105652, -0.95105652,  0.98768834, -0.98768834])"
      ]
     },
     "execution_count": 20,
     "metadata": {},
     "output_type": "execute_result"
    }
   ],
   "source": [
    "class FirstDerivative(LinearOperator):\n",
    "    def __init__(self, N, dtype='float32'):\n",
    "        self.N = N\n",
    "        self.shape = (self.N, self.N)\n",
    "        self.dtype = np.dtype(dtype)\n",
    "    def _matvec(self, x):\n",
    "        y = np.zeros(self.N, self.dtype)\n",
    "        y[1:-1] = (0.5*x[2:]-0.5*x[0:-2])\n",
    "        return y\n",
    "    def _rmatvec(self, x):\n",
    "        y = np.zeros(self.N, self.dtype)\n",
    "        y[0:-2] = y[0:-2] - (0.5*x[1:-1])\n",
    "        y[2:] = y[2:] + (0.5*x[1:-1])\n",
    "        return y\n",
    "\n",
    "N = 21\n",
    "D = np.diag(0.5*np.ones(N-1),k=1) - np.diag(0.5*np.ones(N-1),k=-1)\n",
    "D[0] = D[-1] = 0 # take away edge effects\n",
    "Dop = FirstDerivative(N, dtype=np.float64)\n",
    "\n",
    "evals_all, evecs_all = eig(D)\n",
    "evals_large, evecs_large = eigs(Dop, 4, which='LI')\n",
    "evals_all_imag = evals_all.imag\n",
    "isort_imag = np.argsort(np.abs(evals_all_imag))\n",
    "evals_all_imag = evals_all_imag[isort_imag]\n",
    "evals_large_imag = evals_large.imag\n",
    "isort_imag = np.argsort(np.abs(evals_large_imag))\n",
    "evals_large_imag = evals_large_imag[isort_imag]\n",
    "evals_all_imag[-4:]\n",
    "#array([-0.95105652  0.95105652 -0.98768834  0.98768834])\n",
    "evals_large_imag\n",
    "#array([0.95105652 -0.95105652  0.98768834 -0.98768834])"
   ]
  },
  {
   "cell_type": "code",
   "execution_count": 22,
   "metadata": {},
   "outputs": [
    {
     "data": {
      "text/plain": [
       "array([-0.95105652,  0.95105652, -0.98768834,  0.98768834])"
      ]
     },
     "execution_count": 22,
     "metadata": {},
     "output_type": "execute_result"
    }
   ],
   "source": [
    "N = 21\n",
    "D = np.diag(0.5*np.ones(N-1), k=1) - np.diag(0.5*np.ones(N-1), k=-1)\n",
    "D[0] = D[-1] = 0 # take away edge effects\n",
    "evals_all, evecs_all = eig(D)\n",
    "evals_all_imag = evals_all.imag\n",
    "isort_imag = np.argsort(np.abs(evals_all_imag))\n",
    "evals_all_imag = evals_all_imag[isort_imag]\n",
    "evals_all_imag[-4:]"
   ]
  }
 ],
 "metadata": {
  "kernelspec": {
   "display_name": "Python 3",
   "language": "python",
   "name": "python3"
  },
  "language_info": {
   "codemirror_mode": {
    "name": "ipython",
    "version": 3
   },
   "file_extension": ".py",
   "mimetype": "text/x-python",
   "name": "python",
   "nbconvert_exporter": "python",
   "pygments_lexer": "ipython3",
   "version": "3.7.1"
  }
 },
 "nbformat": 4,
 "nbformat_minor": 2
}
