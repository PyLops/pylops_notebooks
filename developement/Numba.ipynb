{
 "cells": [
  {
   "cell_type": "markdown",
   "metadata": {},
   "source": [
    "# Pylops - numba"
   ]
  },
  {
   "cell_type": "markdown",
   "metadata": {},
   "source": [
    "### Author: M.Ravasi"
   ]
  },
  {
   "cell_type": "markdown",
   "metadata": {},
   "source": [
    "In this notebook I will investigate the benifit of adding numba to various operators"
   ]
  },
  {
   "cell_type": "code",
   "execution_count": 1,
   "metadata": {},
   "outputs": [],
   "source": [
    "%load_ext autoreload\n",
    "%autoreload 2\n",
    "%matplotlib inline\n",
    "\n",
    "import warnings\n",
    "warnings.filterwarnings('ignore')\n",
    "\n",
    "import os\n",
    "import numpy as np\n",
    "import matplotlib.pyplot as plt\n",
    "import scipy as sp\n",
    "\n",
    "import pylops\n",
    "\n",
    "from scipy.sparse import csr_matrix, vstack, rand\n",
    "from scipy.linalg import lstsq, solve, pinv\n",
    "from scipy.sparse.linalg import LinearOperator as spLinearOperator\n",
    "from scipy.sparse.linalg import LinearOperator, cg, lsqr\n",
    "\n",
    "from pylops.utils                      import dottest\n",
    "from pylops.utils.wavelets             import *\n",
    "from pylops.utils.seismicevents        import *\n",
    "from pylops.basicoperators             import *\n",
    "from pylops.signalprocessing             import *\n",
    "from pylops.waveeqprocessing.mdd       import *\n",
    "from pylops.optimization.leastsquares  import *\n",
    "from pylops.optimization.sparsity  import IRLS as IRLSpylops\n",
    "from pylops.optimization.sparsity  import FISTA\n",
    "\n",
    "from numba import jit"
   ]
  },
  {
   "cell_type": "code",
   "execution_count": 2,
   "metadata": {},
   "outputs": [],
   "source": [
    "os.environ['NUMBA_NUM_THREADS'] = '4'\n",
    "os.environ['NUMBA_DEVELOPER_MODE'] = '1'"
   ]
  },
  {
   "cell_type": "markdown",
   "metadata": {},
   "source": [
    "## Slant stack 2d"
   ]
  },
  {
   "cell_type": "markdown",
   "metadata": {},
   "source": [
    "Initialization"
   ]
  },
  {
   "cell_type": "code",
   "execution_count": 3,
   "metadata": {
    "scrolled": false
   },
   "outputs": [
    {
     "name": "stdout",
     "output_type": "stream",
     "text": [
      "7.3 ms ± 1.64 ms per loop (mean ± std. dev. of 7 runs, 10 loops each)\n",
      "347 µs ± 3.66 µs per loop (mean ± std. dev. of 7 runs, 10 loops each)\n"
     ]
    }
   ],
   "source": [
    "par = {'nt': 11, 'nhx': 21, 'nhy': 10, 'npx':31, 'npy':21, 'pxmax':1e-2,\n",
    "       'centeredh': True, 'kind': 'linear'} # linear, centered, linear interp\n",
    "\n",
    "dt, dh = 0.005, 1\n",
    "t = np.arange(par['nt']) * dt\n",
    "h = np.arange(par['nhx']) * dh\n",
    "px = np.linspace(0, par['pxmax'], par['npx'])\n",
    "x = np.zeros((par['npx'], par['nt']))\n",
    "x[2, par['nt']//2] = 1\n",
    " \n",
    "# numpy\n",
    "%timeit -n 10  Radon2D(t, h, px, centeredh=par['centeredh'], interp=False, kind=par['kind'], engine='numpy', dtype='float64')\n",
    "# numba\n",
    "Radon2D(t, h, px, centeredh=par['centeredh'], interp=False, \n",
    "        kind=par['kind'], engine='numba', dtype='float64')\n",
    "%timeit -n 10  Radon2D(t, h, px, centeredh=par['centeredh'], interp=False, kind=par['kind'], engine='numba', dtype='float64')"
   ]
  },
  {
   "cell_type": "markdown",
   "metadata": {},
   "source": [
    "Numpy vs numba with pre-computed table"
   ]
  },
  {
   "cell_type": "code",
   "execution_count": 4,
   "metadata": {},
   "outputs": [
    {
     "name": "stdout",
     "output_type": "stream",
     "text": [
      "11.1 ms ± 2.49 ms per loop (mean ± std. dev. of 7 runs, 10 loops each)\n",
      "10.2 ms ± 49.5 µs per loop (mean ± std. dev. of 7 runs, 10 loops each)\n"
     ]
    }
   ],
   "source": [
    "Rop = Radon2D(t, h, px, centeredh=par['centeredh'],\n",
    "              interp=False, kind=par['kind'], engine='numpy',\n",
    "              dtype='float64')\n",
    "dottest(Rop, par['nhx']*par['nt'], par['npx']*par['nt'],\n",
    "        complexflag=0)\n",
    "\n",
    "y = Rop * x.flatten()\n",
    "Rop1 = Rop.H\n",
    "xadj = Rop1 * y.flatten()\n",
    "\n",
    "%timeit -n 10 Rop * x.flatten()\n",
    "%timeit -n 10 Rop1 * y.flatten()"
   ]
  },
  {
   "cell_type": "code",
   "execution_count": 5,
   "metadata": {
    "scrolled": true
   },
   "outputs": [
    {
     "name": "stdout",
     "output_type": "stream",
     "text": [
      "91 µs ± 3.77 µs per loop (mean ± std. dev. of 7 runs, 10 loops each)\n",
      "95.6 µs ± 4.37 µs per loop (mean ± std. dev. of 7 runs, 10 loops each)\n"
     ]
    }
   ],
   "source": [
    "Rop = Radon2D(t, h, px, centeredh=par['centeredh'],\n",
    "              interp=False, kind=par['kind'], engine='numba',\n",
    "              dtype='float64')\n",
    "dottest(Rop, par['nhx']*par['nt'], par['npx']*par['nt'],\n",
    "        complexflag=0)\n",
    "\n",
    "ynb = Rop * x.flatten()\n",
    "Rop1 = Rop.H\n",
    "xadjnb = Rop1 * y.flatten()\n",
    "\n",
    "%timeit -n 10 Rop * x.flatten()\n",
    "%timeit -n 10 Rop1 * y.flatten()"
   ]
  },
  {
   "cell_type": "code",
   "execution_count": 6,
   "metadata": {},
   "outputs": [
    {
     "name": "stdout",
     "output_type": "stream",
     "text": [
      "0.0\n",
      "0.0\n"
     ]
    }
   ],
   "source": [
    "print(np.linalg.norm(y-ynb))\n",
    "print(np.linalg.norm(xadj-xadjnb))"
   ]
  },
  {
   "cell_type": "code",
   "execution_count": 7,
   "metadata": {},
   "outputs": [
    {
     "name": "stdout",
     "output_type": "stream",
     "text": [
      "16.4 ms ± 23.5 µs per loop (mean ± std. dev. of 7 runs, 10 loops each)\n",
      "18.2 ms ± 230 µs per loop (mean ± std. dev. of 7 runs, 10 loops each)\n"
     ]
    }
   ],
   "source": [
    "Rop = Radon2D(t, h, px, centeredh=par['centeredh'],\n",
    "              interp=True, kind=par['kind'], engine='numpy',\n",
    "              dtype='float64')\n",
    "dottest(Rop, par['nhx']*par['nt'], par['npx']*par['nt'],\n",
    "        complexflag=0)\n",
    "\n",
    "y = Rop * x.flatten()\n",
    "Rop1 = Rop.H\n",
    "xadj = Rop1 * y.flatten()\n",
    "\n",
    "%timeit -n 10 Rop * x.flatten()\n",
    "%timeit -n 10 Rop1 * y.flatten()"
   ]
  },
  {
   "cell_type": "code",
   "execution_count": 8,
   "metadata": {},
   "outputs": [
    {
     "name": "stdout",
     "output_type": "stream",
     "text": [
      "40.3 µs ± 1.22 µs per loop (mean ± std. dev. of 7 runs, 10 loops each)\n",
      "47.4 µs ± 1.08 µs per loop (mean ± std. dev. of 7 runs, 10 loops each)\n"
     ]
    }
   ],
   "source": [
    "Rop = Radon2D(t, h, px, centeredh=par['centeredh'],\n",
    "              interp=True, kind=par['kind'], engine='numba',\n",
    "              dtype='float64')\n",
    "dottest(Rop, par['nhx']*par['nt'], par['npx']*par['nt'],\n",
    "        complexflag=0)\n",
    "\n",
    "ynb = Rop * x.flatten()\n",
    "Rop1 = Rop.H\n",
    "xadjnb = Rop1 * y.flatten()\n",
    "\n",
    "%timeit -n 10 Rop * x.flatten()\n",
    "%timeit -n 10 Rop1 * y.flatten()"
   ]
  },
  {
   "cell_type": "code",
   "execution_count": 9,
   "metadata": {},
   "outputs": [
    {
     "name": "stdout",
     "output_type": "stream",
     "text": [
      "0.0\n",
      "4.821487820240936e-15\n"
     ]
    }
   ],
   "source": [
    "print(np.linalg.norm(y-ynb))\n",
    "print(np.linalg.norm(xadj-xadjnb))"
   ]
  },
  {
   "cell_type": "markdown",
   "metadata": {},
   "source": [
    "Numpy vs numba with on-the-fly computation"
   ]
  },
  {
   "cell_type": "code",
   "execution_count": 32,
   "metadata": {},
   "outputs": [
    {
     "ename": "AttributeError",
     "evalue": "'float' object has no attribute 'size'",
     "output_type": "error",
     "traceback": [
      "\u001b[0;31m---------------------------------------------------------------------------\u001b[0m",
      "\u001b[0;31mAttributeError\u001b[0m                            Traceback (most recent call last)",
      "\u001b[0;32m<ipython-input-32-2e5bd02cd756>\u001b[0m in \u001b[0;36m<module>\u001b[0;34m\u001b[0m\n\u001b[1;32m      1\u001b[0m Rop = Radon2D(t, h, px, centeredh=par['centeredh'],\n\u001b[1;32m      2\u001b[0m               \u001b[0minterp\u001b[0m\u001b[0;34m=\u001b[0m\u001b[0;32mFalse\u001b[0m\u001b[0;34m,\u001b[0m \u001b[0mkind\u001b[0m\u001b[0;34m=\u001b[0m\u001b[0mpar\u001b[0m\u001b[0;34m[\u001b[0m\u001b[0;34m'kind'\u001b[0m\u001b[0;34m]\u001b[0m\u001b[0;34m,\u001b[0m \u001b[0mengine\u001b[0m\u001b[0;34m=\u001b[0m\u001b[0;34m'numpy'\u001b[0m\u001b[0;34m,\u001b[0m \u001b[0monthefly\u001b[0m\u001b[0;34m=\u001b[0m\u001b[0;32mTrue\u001b[0m\u001b[0;34m,\u001b[0m\u001b[0;34m\u001b[0m\u001b[0;34m\u001b[0m\u001b[0m\n\u001b[0;32m----> 3\u001b[0;31m               dtype='float64')\n\u001b[0m\u001b[1;32m      4\u001b[0m dottest(Rop, par['nhx']*par['nt'], par['npx']*par['nt'],\n\u001b[1;32m      5\u001b[0m         complexflag=0)\n",
      "\u001b[0;32m~/Documents/Statoil_2019/PyLops/pylops/pylops/signalprocessing/Radon2D.py\u001b[0m in \u001b[0;36mRadon2D\u001b[0;34m(taxis, haxis, pxaxis, kind, centeredh, interp, onthefly, engine, dtype)\u001b[0m\n\u001b[1;32m    229\u001b[0m         \u001b[0mengine\u001b[0m \u001b[0;34m=\u001b[0m \u001b[0;34m'numpy'\u001b[0m\u001b[0;34m\u001b[0m\u001b[0;34m\u001b[0m\u001b[0m\n\u001b[1;32m    230\u001b[0m     \u001b[0;31m# axes\u001b[0m\u001b[0;34m\u001b[0m\u001b[0;34m\u001b[0m\u001b[0;34m\u001b[0m\u001b[0m\n\u001b[0;32m--> 231\u001b[0;31m     \u001b[0mnt\u001b[0m\u001b[0;34m,\u001b[0m \u001b[0mnh\u001b[0m\u001b[0;34m,\u001b[0m \u001b[0mnpx\u001b[0m \u001b[0;34m=\u001b[0m \u001b[0mtaxis\u001b[0m\u001b[0;34m.\u001b[0m\u001b[0msize\u001b[0m\u001b[0;34m,\u001b[0m \u001b[0mhaxis\u001b[0m\u001b[0;34m.\u001b[0m\u001b[0msize\u001b[0m\u001b[0;34m,\u001b[0m \u001b[0mpxaxis\u001b[0m\u001b[0;34m.\u001b[0m\u001b[0msize\u001b[0m\u001b[0;34m\u001b[0m\u001b[0;34m\u001b[0m\u001b[0m\n\u001b[0m\u001b[1;32m    232\u001b[0m     \u001b[0;32mif\u001b[0m \u001b[0mkind\u001b[0m \u001b[0;34m==\u001b[0m \u001b[0;34m'linear'\u001b[0m\u001b[0;34m:\u001b[0m\u001b[0;34m\u001b[0m\u001b[0;34m\u001b[0m\u001b[0m\n\u001b[1;32m    233\u001b[0m         \u001b[0mf\u001b[0m \u001b[0;34m=\u001b[0m \u001b[0m_linear\u001b[0m \u001b[0;32mif\u001b[0m \u001b[0mengine\u001b[0m \u001b[0;34m==\u001b[0m \u001b[0;34m'numpy'\u001b[0m \u001b[0;32melse\u001b[0m \u001b[0m_linear_numba\u001b[0m\u001b[0;34m\u001b[0m\u001b[0;34m\u001b[0m\u001b[0m\n",
      "\u001b[0;31mAttributeError\u001b[0m: 'float' object has no attribute 'size'"
     ]
    }
   ],
   "source": [
    "Rop = Radon2D(t, h, px, centeredh=par['centeredh'],\n",
    "              interp=False, kind=par['kind'], engine='numpy', onthefly=True,\n",
    "              dtype='float64')\n",
    "dottest(Rop, par['nhx']*par['nt'], par['npx']*par['nt'],\n",
    "        complexflag=0)\n",
    "\n",
    "y = Rop * x.flatten()\n",
    "Rop1 = Rop.H\n",
    "xadj = Rop1 * y.flatten()\n",
    "\n",
    "%timeit -n 10 Rop * x.flatten()\n",
    "%timeit -n 10 Rop1 * y.flatten()"
   ]
  },
  {
   "cell_type": "code",
   "execution_count": null,
   "metadata": {
    "scrolled": false
   },
   "outputs": [],
   "source": [
    "Rop = Radon2D(t, h, px, centeredh=par['centeredh'],\n",
    "              interp=False, kind=par['kind'], engine='numba', onthefly=True,\n",
    "              dtype='float64')\n",
    "dottest(Rop, par['nhx']*par['nt'], par['npx']*par['nt'],\n",
    "        complexflag=0)\n",
    "\n",
    "ynb = Rop * x.flatten()\n",
    "Rop1 = Rop.H\n",
    "xadjnb = Rop1 * y.flatten()\n",
    "\n",
    "%timeit -n 10 Rop * x.flatten()\n",
    "%timeit -n 10 Rop1 * y.flatten()"
   ]
  },
  {
   "cell_type": "code",
   "execution_count": null,
   "metadata": {},
   "outputs": [],
   "source": [
    "print(np.linalg.norm(y-ynb))\n",
    "print(np.linalg.norm(xadj-xadjnb))"
   ]
  },
  {
   "cell_type": "code",
   "execution_count": 12,
   "metadata": {},
   "outputs": [
    {
     "name": "stdout",
     "output_type": "stream",
     "text": [
      "24.9 ms ± 191 µs per loop (mean ± std. dev. of 7 runs, 10 loops each)\n",
      "27.4 ms ± 548 µs per loop (mean ± std. dev. of 7 runs, 10 loops each)\n"
     ]
    }
   ],
   "source": [
    "Rop = Radon2D(t, h, px, centeredh=par['centeredh'],\n",
    "              interp=True, kind=par['kind'], engine='numpy', onthefly=True,\n",
    "              dtype='float64')\n",
    "dottest(Rop, par['nhx']*par['nt'], par['npx']*par['nt'],\n",
    "        complexflag=0)\n",
    "\n",
    "y = Rop * x.flatten()\n",
    "Rop1 = Rop.H\n",
    "xadj = Rop1 * y.flatten()\n",
    "\n",
    "%timeit -n 10 Rop * x.flatten()\n",
    "%timeit -n 10 Rop1 * y.flatten()"
   ]
  },
  {
   "cell_type": "code",
   "execution_count": 13,
   "metadata": {},
   "outputs": [
    {
     "name": "stdout",
     "output_type": "stream",
     "text": [
      "254 µs ± 1.66 µs per loop (mean ± std. dev. of 7 runs, 10 loops each)\n",
      "786 µs ± 15.3 µs per loop (mean ± std. dev. of 7 runs, 10 loops each)\n"
     ]
    }
   ],
   "source": [
    "Rop = Radon2D(t, h, px, centeredh=par['centeredh'],\n",
    "              interp=True, kind=par['kind'], engine='numba', onthefly=True,\n",
    "              dtype='float64')\n",
    "dottest(Rop, par['nhx']*par['nt'], par['npx']*par['nt'],\n",
    "        complexflag=0)\n",
    "\n",
    "ynb = Rop * x.flatten()\n",
    "Rop1 = Rop.H\n",
    "xadjnb = Rop1 * y.flatten()\n",
    "\n",
    "%timeit -n 10 Rop * x.flatten()\n",
    "%timeit -n 10 Rop1 * y.flatten()"
   ]
  },
  {
   "cell_type": "code",
   "execution_count": 14,
   "metadata": {},
   "outputs": [
    {
     "name": "stdout",
     "output_type": "stream",
     "text": [
      "3.6392917503883147\n",
      "13.895252586565116\n"
     ]
    }
   ],
   "source": [
    "print(np.linalg.norm(y-ynb))\n",
    "print(np.linalg.norm(xadj-xadjnb))"
   ]
  },
  {
   "cell_type": "markdown",
   "metadata": {},
   "source": [
    "## Slant stack 3d"
   ]
  },
  {
   "cell_type": "markdown",
   "metadata": {},
   "source": [
    "Initialization"
   ]
  },
  {
   "cell_type": "code",
   "execution_count": 15,
   "metadata": {},
   "outputs": [
    {
     "name": "stdout",
     "output_type": "stream",
     "text": [
      "220 ms ± 3.59 ms per loop (mean ± std. dev. of 7 runs, 3 loops each)\n",
      "86.3 ms ± 14.2 ms per loop (mean ± std. dev. of 7 runs, 3 loops each)\n"
     ]
    }
   ],
   "source": [
    "hx = np.arange(par['nhx']) * dh\n",
    "hy = np.arange(par['nhy']) * dh\n",
    "px = np.linspace(0, par['pxmax'], par['npx'])\n",
    "py = np.linspace(0, par['pxmax'], par['npy'])\n",
    "x = np.zeros((par['npy'], par['npx'], par['nt']))\n",
    "x[2, 2, par['nt']//2] = 1\n",
    " \n",
    "# numpy\n",
    "%timeit -n 3  Radon3D(t, hy, hx, py, px, centeredh=par['centeredh'], interp=False, kind=par['kind'], dtype='float64')\n",
    "# numba\n",
    "Radon3D(t, hy, hx, py, px, centeredh=par['centeredh'], interp=False, \n",
    "        kind=par['kind'], engine='numba', dtype='float64')\n",
    "%timeit -n 3  Radon3D(t, hy, hx, py, px, centeredh=par['centeredh'], interp=False, kind=par['kind'], engine='numba', dtype='float64')"
   ]
  },
  {
   "cell_type": "markdown",
   "metadata": {},
   "source": [
    "Numpy vs numba with pre-computed table"
   ]
  },
  {
   "cell_type": "code",
   "execution_count": 16,
   "metadata": {},
   "outputs": [
    {
     "name": "stdout",
     "output_type": "stream",
     "text": [
      "225 ms ± 4.55 ms per loop (mean ± std. dev. of 7 runs, 10 loops each)\n",
      "226 ms ± 2.23 ms per loop (mean ± std. dev. of 7 runs, 10 loops each)\n"
     ]
    }
   ],
   "source": [
    "Rop = Radon3D(t, hy, hx, py, px, centeredh=par['centeredh'],\n",
    "              interp=False, kind=par['kind'],\n",
    "              dtype='float64')\n",
    "dottest(Rop, par['nhy']*par['nhx']*par['nt'], par['npy']*par['npx']*par['nt'],\n",
    "        complexflag=0)\n",
    "\n",
    "y = Rop * x.flatten()\n",
    "Rop1 = Rop.H\n",
    "xadj = Rop1 * y.flatten()\n",
    "\n",
    "%timeit -n 10 Rop * x.flatten()\n",
    "%timeit -n 10 Rop1 * y.flatten()"
   ]
  },
  {
   "cell_type": "code",
   "execution_count": 17,
   "metadata": {},
   "outputs": [
    {
     "name": "stdout",
     "output_type": "stream",
     "text": [
      "2.44 ms ± 13.2 µs per loop (mean ± std. dev. of 7 runs, 10 loops each)\n",
      "742 µs ± 11.5 µs per loop (mean ± std. dev. of 7 runs, 10 loops each)\n"
     ]
    }
   ],
   "source": [
    "Rop = Radon3D(t, hy, hx, py, px, centeredh=par['centeredh'],\n",
    "              interp=False, kind=par['kind'], engine='numba',\n",
    "              dtype='float64')\n",
    "dottest(Rop, par['nhy']*par['nhx']*par['nt'], par['npy']*par['npx']*par['nt'],\n",
    "        complexflag=0)\n",
    "\n",
    "ynb = Rop * x.flatten()\n",
    "Rop1 = Rop.H\n",
    "xadjnb = Rop1 * y.flatten()\n",
    "\n",
    "%timeit -n 10 Rop * x.flatten()\n",
    "%timeit -n 10 Rop1 * y.flatten()"
   ]
  },
  {
   "cell_type": "code",
   "execution_count": 18,
   "metadata": {},
   "outputs": [
    {
     "name": "stdout",
     "output_type": "stream",
     "text": [
      "0.0\n",
      "0.0\n"
     ]
    }
   ],
   "source": [
    "print(np.linalg.norm(y-ynb))\n",
    "print(np.linalg.norm(xadj-xadjnb))"
   ]
  },
  {
   "cell_type": "code",
   "execution_count": 19,
   "metadata": {},
   "outputs": [
    {
     "name": "stdout",
     "output_type": "stream",
     "text": [
      "406 ms ± 564 µs per loop (mean ± std. dev. of 7 runs, 10 loops each)\n",
      "428 ms ± 4.9 ms per loop (mean ± std. dev. of 7 runs, 10 loops each)\n"
     ]
    }
   ],
   "source": [
    "Rop = Radon3D(t, hy, hx, py, px, centeredh=par['centeredh'],\n",
    "              interp=True, kind=par['kind'],\n",
    "              dtype='float64')\n",
    "dottest(Rop, par['nhy']*par['nhx']*par['nt'], par['npy']*par['npx']*par['nt'],\n",
    "        complexflag=0)\n",
    "\n",
    "y = Rop * x.flatten()\n",
    "Rop1 = Rop.H\n",
    "xadj = Rop1 * y.flatten()\n",
    "\n",
    "%timeit -n 10 Rop * x.flatten()\n",
    "%timeit -n 10 Rop1 * y.flatten()"
   ]
  },
  {
   "cell_type": "code",
   "execution_count": 20,
   "metadata": {},
   "outputs": [
    {
     "name": "stdout",
     "output_type": "stream",
     "text": [
      "3.42 ms ± 69.4 µs per loop (mean ± std. dev. of 7 runs, 10 loops each)\n",
      "1.09 ms ± 12 µs per loop (mean ± std. dev. of 7 runs, 10 loops each)\n"
     ]
    }
   ],
   "source": [
    "Rop = Radon3D(t, hy, hx, py, px, centeredh=par['centeredh'],\n",
    "              interp=True, kind=par['kind'], engine='numba',\n",
    "              dtype='float64')\n",
    "dottest(Rop, par['nhy']*par['nhx']*par['nt'], par['npy']*par['npx']*par['nt'],\n",
    "        complexflag=0)\n",
    "\n",
    "ynb = Rop * x.flatten()\n",
    "Rop1 = Rop.H\n",
    "xadjnb = Rop1 * y.flatten()\n",
    "\n",
    "%timeit -n 10 Rop * x.flatten()\n",
    "%timeit -n 10 Rop1 * y.flatten()"
   ]
  },
  {
   "cell_type": "code",
   "execution_count": 21,
   "metadata": {},
   "outputs": [
    {
     "name": "stdout",
     "output_type": "stream",
     "text": [
      "0.0\n",
      "4.146737221823692e-13\n"
     ]
    }
   ],
   "source": [
    "print(np.linalg.norm(y-ynb))\n",
    "print(np.linalg.norm(xadj-xadjnb))"
   ]
  },
  {
   "cell_type": "markdown",
   "metadata": {},
   "source": [
    "Numpy vs numba with on-the-fly computation"
   ]
  },
  {
   "cell_type": "code",
   "execution_count": 22,
   "metadata": {},
   "outputs": [
    {
     "name": "stdout",
     "output_type": "stream",
     "text": [
      "471 ms ± 247 µs per loop (mean ± std. dev. of 7 runs, 10 loops each)\n",
      "476 ms ± 814 µs per loop (mean ± std. dev. of 7 runs, 10 loops each)\n"
     ]
    }
   ],
   "source": [
    "Rop = Radon3D(t, hy, hx, py, px, centeredh=par['centeredh'],\n",
    "              interp=False, kind=par['kind'], onthefly=True,\n",
    "              dtype='float64')\n",
    "dottest(Rop, par['nhy']*par['nhx']*par['nt'], par['npy']*par['npx']*par['nt'],\n",
    "        complexflag=0)\n",
    "\n",
    "y = Rop * x.flatten()\n",
    "Rop1 = Rop.H\n",
    "xadj = Rop1 * y.flatten()\n",
    "\n",
    "%timeit -n 10 Rop * x.flatten()\n",
    "%timeit -n 10 Rop1 * y.flatten()"
   ]
  },
  {
   "cell_type": "code",
   "execution_count": 23,
   "metadata": {},
   "outputs": [
    {
     "name": "stdout",
     "output_type": "stream",
     "text": [
      "80.7 ms ± 1.27 ms per loop (mean ± std. dev. of 7 runs, 10 loops each)\n",
      "67.5 ms ± 7.07 ms per loop (mean ± std. dev. of 7 runs, 10 loops each)\n"
     ]
    }
   ],
   "source": [
    "Rop = Radon3D(t, hy, hx, py, px, centeredh=par['centeredh'],\n",
    "              interp=False, kind=par['kind'], engine='numba', onthefly=True,\n",
    "              dtype='float64')\n",
    "dottest(Rop, par['nhy']*par['nhx']*par['nt'], par['npy']*par['npx']*par['nt'],\n",
    "        complexflag=0)\n",
    "\n",
    "ynb = Rop * x.flatten()\n",
    "Rop1 = Rop.H\n",
    "xadjnb = Rop1 * y.flatten()\n",
    "\n",
    "%timeit -n 10 Rop * x.flatten()\n",
    "%timeit -n 10 Rop1 * y.flatten()"
   ]
  },
  {
   "cell_type": "code",
   "execution_count": 24,
   "metadata": {},
   "outputs": [
    {
     "name": "stdout",
     "output_type": "stream",
     "text": [
      "0.0\n",
      "0.0\n"
     ]
    }
   ],
   "source": [
    "print(np.linalg.norm(y-ynb))\n",
    "print(np.linalg.norm(xadj-xadjnb))"
   ]
  },
  {
   "cell_type": "code",
   "execution_count": 25,
   "metadata": {},
   "outputs": [
    {
     "name": "stdout",
     "output_type": "stream",
     "text": [
      "616 ms ± 1.43 ms per loop (mean ± std. dev. of 7 runs, 10 loops each)\n",
      "642 ms ± 2.29 ms per loop (mean ± std. dev. of 7 runs, 10 loops each)\n"
     ]
    }
   ],
   "source": [
    "Rop = Radon3D(t, hy, hx, py, px, centeredh=par['centeredh'],\n",
    "              interp=True, kind=par['kind'], onthefly=True,\n",
    "              dtype='float64')\n",
    "dottest(Rop, par['nhy']*par['nhx']*par['nt'], par['npy']*par['npx']*par['nt'],\n",
    "        complexflag=0)\n",
    "\n",
    "y = Rop * x.flatten()\n",
    "Rop1 = Rop.H\n",
    "xadj = Rop1 * y.flatten()\n",
    "\n",
    "%timeit -n 10 Rop * x.flatten()\n",
    "%timeit -n 10 Rop1 * y.flatten()"
   ]
  },
  {
   "cell_type": "code",
   "execution_count": 26,
   "metadata": {},
   "outputs": [
    {
     "name": "stdout",
     "output_type": "stream",
     "text": [
      "80 ms ± 1.32 ms per loop (mean ± std. dev. of 7 runs, 10 loops each)\n",
      "98.3 ms ± 6.49 ms per loop (mean ± std. dev. of 7 runs, 10 loops each)\n"
     ]
    }
   ],
   "source": [
    "Rop = Radon3D(t, hy, hx, py, px, centeredh=par['centeredh'],\n",
    "              interp=True, kind=par['kind'], engine='numba', onthefly=True,\n",
    "              dtype='float64')\n",
    "dottest(Rop, par['nhy']*par['nhx']*par['nt'], par['npy']*par['npx']*par['nt'],\n",
    "        complexflag=0)\n",
    "\n",
    "ynb = Rop * x.flatten()\n",
    "Rop1 = Rop.H\n",
    "xadjnb = Rop1 * y.flatten()\n",
    "\n",
    "%timeit -n 10 Rop * x.flatten()\n",
    "%timeit -n 10 Rop1 * y.flatten()"
   ]
  },
  {
   "cell_type": "code",
   "execution_count": 27,
   "metadata": {},
   "outputs": [
    {
     "name": "stdout",
     "output_type": "stream",
     "text": [
      "11.327449453037127\n",
      "280.2292252363112\n"
     ]
    }
   ],
   "source": [
    "print(np.linalg.norm(y-ynb))\n",
    "print(np.linalg.norm(xadj-xadjnb))"
   ]
  },
  {
   "cell_type": "markdown",
   "metadata": {},
   "source": [
    "Other stuff, work in progress"
   ]
  },
  {
   "cell_type": "code",
   "execution_count": 28,
   "metadata": {},
   "outputs": [
    {
     "name": "stdout",
     "output_type": "stream",
     "text": [
      "[ 0  1  4  9 16 25 36 49 64 81]\n"
     ]
    }
   ],
   "source": [
    "import numpy as np\n",
    "\n",
    "from numba import vectorize, float64\n",
    "\n",
    "@jit(nopython=True, nogil=True)\n",
    "def fdouble(x):\n",
    "    return x**2\n",
    "@jit(nopython=True, nogil=True)\n",
    "def passfunction(a, f, out):\n",
    "    out = f(a)\n",
    "    return out\n",
    "\n",
    "arr = np.arange(10)\n",
    "out = np.zeros(10)\n",
    "print(passfunction(arr, fdouble, out))"
   ]
  },
  {
   "cell_type": "code",
   "execution_count": 29,
   "metadata": {},
   "outputs": [
    {
     "name": "stdout",
     "output_type": "stream",
     "text": [
      "18.4 µs ± 1.57 µs per loop (mean ± std. dev. of 7 runs, 10 loops each)\n",
      "17.2 µs ± 11.3 µs per loop (mean ± std. dev. of 7 runs, 10 loops each)\n",
      "21.3 µs ± 7.34 µs per loop (mean ± std. dev. of 7 runs, 10 loops each)\n"
     ]
    }
   ],
   "source": [
    "from numba import vectorize, guvectorize, float64, int64, float32, int32\n",
    "\n",
    "def _hyperbolic(x, t, px):\n",
    "    return np.sqrt(t**2 + (x/px)**2)\n",
    "\n",
    "@vectorize([float64(float64, float64, float64),\n",
    "            float64(float64, int64, float64),\n",
    "            float64(float64, int32, float64),\n",
    "            float32(float32, float32, float32),\n",
    "            float32(float32, int32, float32)], \n",
    "           nopython=True, target='cpu')\n",
    "def _hyperbolic_numba(x, t, px):\n",
    "    return np.sqrt(t**2 + (x/px)**2)\n",
    "\n",
    "@vectorize([float64(float64, float64, float64),\n",
    "            float64(float64, int64, float64),\n",
    "            float64(float64, int32, float64),\n",
    "            float32(float32, float32, float32),\n",
    "            float32(float32, int32, float32)], \n",
    "           nopython=True, target='parallel')\n",
    "def _hyperbolic_numba1(x, t, px):\n",
    "    return np.sqrt(t**2 + (x/px)**2)\n",
    "\n",
    "x=np.arange(1000)\n",
    "t0=10\n",
    "px=0.1\n",
    "\n",
    "%timeit -n 10 _hyperbolic(x, t0, px)\n",
    "%timeit -n 10 _hyperbolic_numba(x, t0, px)\n",
    "%timeit -n 10 _hyperbolic_numba1(x, t0, px)"
   ]
  },
  {
   "cell_type": "code",
   "execution_count": 30,
   "metadata": {},
   "outputs": [
    {
     "data": {
      "text/plain": [
       "array([3.2, 3.2, 3.2, 3.2, 3.2])"
      ]
     },
     "execution_count": 30,
     "metadata": {},
     "output_type": "execute_result"
    }
   ],
   "source": [
    "@guvectorize([(float64[:], float64, float64[:])], '(n),()->(n)')\n",
    "def g(x, y, res):\n",
    "    for i in range(x.shape[0]):\n",
    "        res[i] = x[i] + y\n",
    "        \n",
    "a = np.ones(5, np.float64)\n",
    "g(a, 2.2)"
   ]
  },
  {
   "cell_type": "code",
   "execution_count": 31,
   "metadata": {},
   "outputs": [
    {
     "name": "stdout",
     "output_type": "stream",
     "text": [
      "10.2 µs ± 3.92 µs per loop (mean ± std. dev. of 7 runs, 2 loops each)\n",
      "172 ms ± 6.66 ms per loop (mean ± std. dev. of 7 runs, 2 loops each)\n"
     ]
    }
   ],
   "source": [
    "from numba import stencil\n",
    "\n",
    "def kernel(a):\n",
    "    return 0.5 * (a[:, 2:] - a[:, 0:-2])\n",
    "\n",
    "@stencil\n",
    "def kernel1(a):\n",
    "    return 0.5 * (a[0, 1] - a[0, -1])\n",
    "\n",
    "input_arr = np.arange(100).reshape(10, 10)\n",
    "%timeit -n 2 kernel(input_arr)\n",
    "%timeit -n 2 kernel1(input_arr)"
   ]
  }
 ],
 "metadata": {
  "kernelspec": {
   "display_name": "Python 3",
   "language": "python",
   "name": "python3"
  },
  "language_info": {
   "codemirror_mode": {
    "name": "ipython",
    "version": 3
   },
   "file_extension": ".py",
   "mimetype": "text/x-python",
   "name": "python",
   "nbconvert_exporter": "python",
   "pygments_lexer": "ipython3",
   "version": "3.7.2"
  }
 },
 "nbformat": 4,
 "nbformat_minor": 1
}
