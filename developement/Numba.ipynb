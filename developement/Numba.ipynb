{
 "cells": [
  {
   "cell_type": "markdown",
   "metadata": {},
   "source": [
    "# Pylops - numba"
   ]
  },
  {
   "cell_type": "markdown",
   "metadata": {},
   "source": [
    "### Author: M.Ravasi"
   ]
  },
  {
   "cell_type": "markdown",
   "metadata": {},
   "source": [
    "In this notebook I will investigate the benifit of adding numba to various operators"
   ]
  },
  {
   "cell_type": "code",
   "execution_count": 1,
   "metadata": {},
   "outputs": [],
   "source": [
    "%load_ext autoreload\n",
    "%autoreload 2\n",
    "%matplotlib inline\n",
    "\n",
    "import warnings\n",
    "warnings.filterwarnings('ignore')\n",
    "\n",
    "import os\n",
    "import numpy as np\n",
    "import matplotlib.pyplot as plt\n",
    "import scipy as sp\n",
    "\n",
    "import pylops\n",
    "\n",
    "from scipy.sparse import csr_matrix, vstack, rand\n",
    "from scipy.linalg import lstsq, solve, pinv\n",
    "from scipy.sparse.linalg import LinearOperator as spLinearOperator\n",
    "from scipy.sparse.linalg import LinearOperator, cg, lsqr\n",
    "\n",
    "from pylops.utils                      import dottest\n",
    "from pylops.utils.wavelets             import *\n",
    "from pylops.utils.seismicevents        import *\n",
    "from pylops.basicoperators             import *\n",
    "from pylops.signalprocessing             import *\n",
    "from pylops.waveeqprocessing.mdd       import *\n",
    "from pylops.optimization.leastsquares  import *\n",
    "from pylops.optimization.sparsity  import IRLS as IRLSpylops\n",
    "from pylops.optimization.sparsity  import FISTA\n",
    "\n",
    "from numba import jit"
   ]
  },
  {
   "cell_type": "code",
   "execution_count": 2,
   "metadata": {},
   "outputs": [],
   "source": [
    "os.environ['NUMBA_NUM_THREADS'] = '4'\n",
    "os.environ['NUMBA_DEVELOPER_MODE'] = '0'"
   ]
  },
  {
   "cell_type": "markdown",
   "metadata": {},
   "source": [
    "## Slant stack 2d"
   ]
  },
  {
   "cell_type": "markdown",
   "metadata": {},
   "source": [
    "Initialization"
   ]
  },
  {
   "cell_type": "code",
   "execution_count": 3,
   "metadata": {
    "scrolled": false
   },
   "outputs": [
    {
     "name": "stdout",
     "output_type": "stream",
     "text": [
      "5.1 ms ± 513 µs per loop (mean ± std. dev. of 7 runs, 10 loops each)\n",
      "The slowest run took 11.56 times longer than the fastest. This could mean that an intermediate result is being cached.\n",
      "78.1 ms ± 102 ms per loop (mean ± std. dev. of 7 runs, 10 loops each)\n"
     ]
    }
   ],
   "source": [
    "par = {'nt': 11, 'nhx': 21, 'nhy': 10, 'npx':31, 'npy':21, 'pxmax':1e-2,\n",
    "       'centeredh': True, 'kind': 'linear'} # linear, centered, linear interp\n",
    "\n",
    "dt, dh = 0.005, 1\n",
    "t = np.arange(par['nt']) * dt\n",
    "h = np.arange(par['nhx']) * dh\n",
    "px = np.linspace(0, par['pxmax'], par['npx'])\n",
    "x = np.zeros((par['npx'], par['nt']))\n",
    "x[2, par['nt']//2] = 1\n",
    " \n",
    "# numpy\n",
    "%timeit -n 10  Radon2D(t, h, px, centeredh=par['centeredh'], interp=False, kind=par['kind'], engine='numpy', dtype='float64')\n",
    "# numba\n",
    "%timeit -n 10  Radon2D(t, h, px, centeredh=par['centeredh'], interp=False, kind=par['kind'], engine='numba', dtype='float64')"
   ]
  },
  {
   "cell_type": "markdown",
   "metadata": {},
   "source": [
    "Numpy vs numba with pre-computed table"
   ]
  },
  {
   "cell_type": "code",
   "execution_count": 4,
   "metadata": {},
   "outputs": [
    {
     "name": "stdout",
     "output_type": "stream",
     "text": [
      "14.9 ms ± 1.81 ms per loop (mean ± std. dev. of 7 runs, 10 loops each)\n",
      "13.8 ms ± 1.64 ms per loop (mean ± std. dev. of 7 runs, 10 loops each)\n"
     ]
    }
   ],
   "source": [
    "Rop = Radon2D(t, h, px, centeredh=par['centeredh'],\n",
    "              interp=True, kind=par['kind'],\n",
    "              dtype='float64')\n",
    "dottest(Rop, par['nhx']*par['nt'], par['npx']*par['nt'],\n",
    "        complexflag=0)\n",
    "\n",
    "\n",
    "y = Rop * x.flatten()\n",
    "xadj = Rop.H * y.flatten()\n",
    "\n",
    "%timeit -n 10 Rop * x.flatten()\n",
    "%timeit -n 10 Rop.H * y.flatten()"
   ]
  },
  {
   "cell_type": "code",
   "execution_count": 5,
   "metadata": {
    "scrolled": false
   },
   "outputs": [
    {
     "name": "stdout",
     "output_type": "stream",
     "text": [
      "95.2 µs ± 48.3 µs per loop (mean ± std. dev. of 7 runs, 10 loops each)\n",
      "95.4 µs ± 13.5 µs per loop (mean ± std. dev. of 7 runs, 10 loops each)\n"
     ]
    }
   ],
   "source": [
    "Rop = Radon2D(t, h, px, centeredh=par['centeredh'],\n",
    "              interp=True, kind=par['kind'], engine='numba',\n",
    "              dtype='float64')\n",
    "dottest(Rop, par['nhx']*par['nt'], par['npx']*par['nt'],\n",
    "        complexflag=0)\n",
    "\n",
    "y1 = Rop * x.flatten()\n",
    "xadj1 = Rop.H * y1.flatten()\n",
    "\n",
    "%timeit -n 10 Rop * x.flatten()\n",
    "%timeit -n 10 Rop.H * y.flatten()"
   ]
  },
  {
   "cell_type": "markdown",
   "metadata": {},
   "source": [
    "Numpy vs numba with on-the-fly computation"
   ]
  },
  {
   "cell_type": "code",
   "execution_count": 6,
   "metadata": {},
   "outputs": [
    {
     "name": "stdout",
     "output_type": "stream",
     "text": [
      "12.4 ms ± 819 µs per loop (mean ± std. dev. of 7 runs, 3 loops each)\n",
      "13.2 ms ± 1.22 ms per loop (mean ± std. dev. of 7 runs, 3 loops each)\n"
     ]
    }
   ],
   "source": [
    "Rop = Radon2D(t, h, px, centeredh=par['centeredh'],\n",
    "              interp=False, kind=par['kind'], onthefly=True,\n",
    "              dtype='float64')\n",
    "dottest(Rop, par['nhx']*par['nt'], par['npx']*par['nt'],\n",
    "        complexflag=0)\n",
    "\n",
    "\n",
    "y = Rop * x.flatten()\n",
    "xadj = Rop.H * y.flatten()\n",
    "\n",
    "%timeit -n 3 Rop * x.flatten()\n",
    "%timeit -n 3 Rop.H * y.flatten()"
   ]
  },
  {
   "cell_type": "code",
   "execution_count": 7,
   "metadata": {},
   "outputs": [
    {
     "name": "stdout",
     "output_type": "stream",
     "text": [
      "The slowest run took 5.30 times longer than the fastest. This could mean that an intermediate result is being cached.\n",
      "73.9 ms ± 65 ms per loop (mean ± std. dev. of 7 runs, 3 loops each)\n",
      "79.1 ms ± 42.1 ms per loop (mean ± std. dev. of 7 runs, 3 loops each)\n"
     ]
    }
   ],
   "source": [
    "Rop = Radon2D(t, h, px, centeredh=par['centeredh'],\n",
    "              interp=False, kind=par['kind'], engine='numba', onthefly=True,\n",
    "              dtype='float64')\n",
    "dottest(Rop, par['nhx']*par['nt'], par['npx']*par['nt'],\n",
    "        complexflag=0)\n",
    "\n",
    "y = Rop * x.flatten()\n",
    "xadj = Rop.H * y.flatten()\n",
    "\n",
    "%timeit -n 3 Rop * x.flatten()\n",
    "%timeit -n 3 Rop.H * y.flatten()"
   ]
  },
  {
   "cell_type": "markdown",
   "metadata": {},
   "source": [
    "## Slant stack 3d"
   ]
  },
  {
   "cell_type": "markdown",
   "metadata": {},
   "source": [
    "Initialization"
   ]
  },
  {
   "cell_type": "code",
   "execution_count": 8,
   "metadata": {},
   "outputs": [
    {
     "name": "stdout",
     "output_type": "stream",
     "text": [
      "168 ms ± 10 ms per loop (mean ± std. dev. of 7 runs, 3 loops each)\n",
      "823 ms ± 283 ms per loop (mean ± std. dev. of 7 runs, 3 loops each)\n"
     ]
    }
   ],
   "source": [
    "hx = np.arange(par['nhx']) * dh\n",
    "hy = np.arange(par['nhy']) * dh\n",
    "px = np.linspace(0, par['pxmax'], par['npx'])\n",
    "py = np.linspace(0, par['pxmax'], par['npy'])\n",
    "x = np.zeros((par['npy'], par['npx'], par['nt']))\n",
    "x[2, 2, par['nt']//2] = 1\n",
    " \n",
    "# numpy\n",
    "%timeit -n 3  Radon3D(t, hy, hx, py, px, centeredh=par['centeredh'], interp=False, kind=par['kind'], dtype='float64')\n",
    "# numba\n",
    "%timeit -n 3  Radon3D(t, hy, hx, py, px, centeredh=par['centeredh'], interp=False, kind=par['kind'], engine='numba', dtype='float64')"
   ]
  },
  {
   "cell_type": "markdown",
   "metadata": {},
   "source": [
    "Numpy vs numba with pre-computed table"
   ]
  },
  {
   "cell_type": "code",
   "execution_count": 9,
   "metadata": {},
   "outputs": [
    {
     "name": "stdout",
     "output_type": "stream",
     "text": [
      "180 ms ± 7.61 ms per loop (mean ± std. dev. of 7 runs, 3 loops each)\n",
      "189 ms ± 13.5 ms per loop (mean ± std. dev. of 7 runs, 3 loops each)\n"
     ]
    }
   ],
   "source": [
    "Rop = Radon3D(t, hy, hx, py, px, centeredh=par['centeredh'],\n",
    "              interp=False, kind=par['kind'],\n",
    "              dtype='float64')\n",
    "dottest(Rop, par['nhy']*par['nhx']*par['nt'], par['npy']*par['npx']*par['nt'],\n",
    "        complexflag=0)\n",
    "\n",
    "y = Rop * x.flatten()\n",
    "xadj = Rop.H * y.flatten()\n",
    "\n",
    "%timeit -n 3 Rop * x.flatten()\n",
    "%timeit -n 3 Rop.H * y.flatten()"
   ]
  },
  {
   "cell_type": "code",
   "execution_count": 10,
   "metadata": {},
   "outputs": [
    {
     "name": "stdout",
     "output_type": "stream",
     "text": [
      "7.09 ms ± 2.22 ms per loop (mean ± std. dev. of 7 runs, 3 loops each)\n",
      "The slowest run took 13.42 times longer than the fastest. This could mean that an intermediate result is being cached.\n",
      "6.68 ms ± 6.95 ms per loop (mean ± std. dev. of 7 runs, 3 loops each)\n"
     ]
    }
   ],
   "source": [
    "Rop = Radon3D(t, hy, hx, py, px, centeredh=par['centeredh'],\n",
    "              interp=False, kind=par['kind'], engine='numba',\n",
    "              dtype='float64')\n",
    "dottest(Rop, par['nhy']*par['nhx']*par['nt'], par['npy']*par['npx']*par['nt'],\n",
    "        complexflag=0)\n",
    "\n",
    "y = Rop * x.flatten()\n",
    "xadj = Rop.H * y.flatten()\n",
    "\n",
    "%timeit -n 3 Rop * x.flatten()\n",
    "%timeit -n 3 Rop.H * y.flatten()"
   ]
  },
  {
   "cell_type": "markdown",
   "metadata": {},
   "source": [
    "Numpy vs numba with on-the-fly computation"
   ]
  },
  {
   "cell_type": "code",
   "execution_count": 11,
   "metadata": {},
   "outputs": [
    {
     "name": "stdout",
     "output_type": "stream",
     "text": [
      "363 ms ± 34.2 ms per loop (mean ± std. dev. of 7 runs, 3 loops each)\n",
      "389 ms ± 43.1 ms per loop (mean ± std. dev. of 7 runs, 3 loops each)\n"
     ]
    }
   ],
   "source": [
    "Rop = Radon3D(t, hy, hx, py, px, centeredh=par['centeredh'],\n",
    "              interp=False, kind=par['kind'], onthefly=True,\n",
    "              dtype='float64')\n",
    "dottest(Rop, par['nhy']*par['nhx']*par['nt'], par['npy']*par['npx']*par['nt'],\n",
    "        complexflag=0)\n",
    "\n",
    "y = Rop * x.flatten()\n",
    "xadj = Rop.H * y.flatten()\n",
    "\n",
    "%timeit -n 3 Rop * x.flatten()\n",
    "%timeit -n 3 Rop.H * y.flatten()"
   ]
  },
  {
   "cell_type": "code",
   "execution_count": 12,
   "metadata": {},
   "outputs": [
    {
     "name": "stdout",
     "output_type": "stream",
     "text": [
      "1.92 s ± 874 ms per loop (mean ± std. dev. of 7 runs, 3 loops each)\n",
      "1.23 s ± 72.1 ms per loop (mean ± std. dev. of 7 runs, 3 loops each)\n"
     ]
    }
   ],
   "source": [
    "Rop = Radon3D(t, hy, hx, py, px, centeredh=par['centeredh'],\n",
    "              interp=False, kind=par['kind'], engine='numba', onthefly=True,\n",
    "              dtype='float64')\n",
    "dottest(Rop, par['nhy']*par['nhx']*par['nt'], par['npy']*par['npx']*par['nt'],\n",
    "        complexflag=0)\n",
    "\n",
    "y = Rop * x.flatten()\n",
    "xadj = Rop.H * y.flatten()\n",
    "\n",
    "%timeit -n 3 Rop * x.flatten()\n",
    "%timeit -n 3 Rop.H * y.flatten()"
   ]
  },
  {
   "cell_type": "code",
   "execution_count": null,
   "metadata": {},
   "outputs": [],
   "source": []
  },
  {
   "cell_type": "markdown",
   "metadata": {},
   "source": [
    "Other stuff, work in progress"
   ]
  },
  {
   "cell_type": "code",
   "execution_count": null,
   "metadata": {},
   "outputs": [],
   "source": []
  },
  {
   "cell_type": "code",
   "execution_count": 13,
   "metadata": {},
   "outputs": [
    {
     "name": "stdout",
     "output_type": "stream",
     "text": [
      "[ 0  1  4  9 16 25 36 49 64 81]\n"
     ]
    }
   ],
   "source": [
    "import numpy as np\n",
    "\n",
    "from numba import vectorize, float64\n",
    "\n",
    "@jit(nopython=True, nogil=True)\n",
    "def fdouble(x):\n",
    "    return x**2\n",
    "@jit(nopython=True, nogil=True)\n",
    "def passfunction(a, f, out):\n",
    "    out = f(a)\n",
    "    return out\n",
    "\n",
    "arr = np.arange(10)\n",
    "out = np.zeros(10)\n",
    "print(passfunction(arr, fdouble, out))"
   ]
  },
  {
   "cell_type": "code",
   "execution_count": 14,
   "metadata": {},
   "outputs": [
    {
     "name": "stdout",
     "output_type": "stream",
     "text": [
      "17 µs ± 1.86 µs per loop (mean ± std. dev. of 7 runs, 10 loops each)\n",
      "The slowest run took 5.82 times longer than the fastest. This could mean that an intermediate result is being cached.\n",
      "25.4 µs ± 24.3 µs per loop (mean ± std. dev. of 7 runs, 10 loops each)\n",
      "30.9 µs ± 19.8 µs per loop (mean ± std. dev. of 7 runs, 10 loops each)\n"
     ]
    }
   ],
   "source": [
    "from numba import vectorize, float64, int64, float32, int32\n",
    "\n",
    "def _hyperbolic(x, t, px):\n",
    "    return np.sqrt(t**2 + (x/px)**2)\n",
    "\n",
    "@vectorize([float64(float64, float64, float64),\n",
    "            float64(float64, int64, float64),\n",
    "            float64(float64, int32, float64),\n",
    "            float32(float32, float32, float32),\n",
    "            float32(float32, int32, float32)], \n",
    "           nopython=True, target='cpu')\n",
    "def _hyperbolic_numba(x, t, px):\n",
    "    return np.sqrt(t**2 + (x/px)**2)\n",
    "\n",
    "@vectorize([float64(float64, float64, float64),\n",
    "            float64(float64, int64, float64),\n",
    "            float64(float64, int32, float64),\n",
    "            float32(float32, float32, float32),\n",
    "            float32(float32, int32, float32)], \n",
    "           nopython=True, target='parallel')\n",
    "def _hyperbolic_numba1(x, t, px):\n",
    "    return np.sqrt(t**2 + (x/px)**2)\n",
    "\n",
    "x=np.arange(1000)\n",
    "t0=10\n",
    "px=0.1\n",
    "\n",
    "%timeit -n 10 _hyperbolic(x, t0, px)\n",
    "%timeit -n 10 _hyperbolic_numba(x, t0, px)\n",
    "%timeit -n 10 _hyperbolic_numba1(x, t0, px)"
   ]
  },
  {
   "cell_type": "code",
   "execution_count": 15,
   "metadata": {},
   "outputs": [
    {
     "ename": "NameError",
     "evalue": "name 'guvectorize' is not defined",
     "output_type": "error",
     "traceback": [
      "\u001b[0;31m---------------------------------------------------------------------------\u001b[0m",
      "\u001b[0;31mNameError\u001b[0m                                 Traceback (most recent call last)",
      "\u001b[0;32m<ipython-input-15-2680ce03c50a>\u001b[0m in \u001b[0;36m<module>\u001b[0;34m\u001b[0m\n\u001b[0;32m----> 1\u001b[0;31m \u001b[0;34m@\u001b[0m\u001b[0mguvectorize\u001b[0m\u001b[0;34m(\u001b[0m\u001b[0;34m[\u001b[0m\u001b[0;34m(\u001b[0m\u001b[0mfloat64\u001b[0m\u001b[0;34m[\u001b[0m\u001b[0;34m:\u001b[0m\u001b[0;34m]\u001b[0m\u001b[0;34m,\u001b[0m \u001b[0mfloat64\u001b[0m\u001b[0;34m,\u001b[0m \u001b[0mfloat64\u001b[0m\u001b[0;34m[\u001b[0m\u001b[0;34m:\u001b[0m\u001b[0;34m]\u001b[0m\u001b[0;34m)\u001b[0m\u001b[0;34m]\u001b[0m\u001b[0;34m,\u001b[0m \u001b[0;34m'(n),()->(n)'\u001b[0m\u001b[0;34m)\u001b[0m\u001b[0;34m\u001b[0m\u001b[0;34m\u001b[0m\u001b[0m\n\u001b[0m\u001b[1;32m      2\u001b[0m \u001b[0;32mdef\u001b[0m \u001b[0mg\u001b[0m\u001b[0;34m(\u001b[0m\u001b[0mx\u001b[0m\u001b[0;34m,\u001b[0m \u001b[0my\u001b[0m\u001b[0;34m,\u001b[0m \u001b[0mres\u001b[0m\u001b[0;34m)\u001b[0m\u001b[0;34m:\u001b[0m\u001b[0;34m\u001b[0m\u001b[0;34m\u001b[0m\u001b[0m\n\u001b[1;32m      3\u001b[0m     \u001b[0;32mfor\u001b[0m \u001b[0mi\u001b[0m \u001b[0;32min\u001b[0m \u001b[0mrange\u001b[0m\u001b[0;34m(\u001b[0m\u001b[0mx\u001b[0m\u001b[0;34m.\u001b[0m\u001b[0mshape\u001b[0m\u001b[0;34m[\u001b[0m\u001b[0;36m0\u001b[0m\u001b[0;34m]\u001b[0m\u001b[0;34m)\u001b[0m\u001b[0;34m:\u001b[0m\u001b[0;34m\u001b[0m\u001b[0;34m\u001b[0m\u001b[0m\n\u001b[1;32m      4\u001b[0m         \u001b[0mres\u001b[0m\u001b[0;34m[\u001b[0m\u001b[0mi\u001b[0m\u001b[0;34m]\u001b[0m \u001b[0;34m=\u001b[0m \u001b[0mx\u001b[0m\u001b[0;34m[\u001b[0m\u001b[0mi\u001b[0m\u001b[0;34m]\u001b[0m \u001b[0;34m+\u001b[0m \u001b[0my\u001b[0m\u001b[0;34m\u001b[0m\u001b[0;34m\u001b[0m\u001b[0m\n\u001b[1;32m      5\u001b[0m \u001b[0;34m\u001b[0m\u001b[0m\n",
      "\u001b[0;31mNameError\u001b[0m: name 'guvectorize' is not defined"
     ]
    }
   ],
   "source": [
    "@guvectorize([(float64[:], float64, float64[:])], '(n),()->(n)')\n",
    "def g(x, y, res):\n",
    "    for i in range(x.shape[0]):\n",
    "        res[i] = x[i] + y\n",
    "        \n",
    "a = np.ones(5, np.float64)\n",
    "g(a, 2.2)"
   ]
  },
  {
   "cell_type": "code",
   "execution_count": null,
   "metadata": {},
   "outputs": [],
   "source": [
    "from numba import stencil\n",
    "\n",
    "def kernel(a):\n",
    "    return 0.5 * (a[:, 2:] - a[:, 0:-2])\n",
    "\n",
    "@stencil\n",
    "def kernel1(a):\n",
    "    return 0.5 * (a[0, 1] - a[0, -1])\n",
    "\n",
    "input_arr = np.arange(100).reshape(10, 10)\n",
    "%timeit -n 2 kernel(input_arr)\n",
    "%timeit -n 2 kernel1(input_arr)"
   ]
  },
  {
   "cell_type": "code",
   "execution_count": null,
   "metadata": {},
   "outputs": [],
   "source": []
  }
 ],
 "metadata": {
  "kernelspec": {
   "display_name": "Python 3",
   "language": "python",
   "name": "python3"
  },
  "language_info": {
   "codemirror_mode": {
    "name": "ipython",
    "version": 3
   },
   "file_extension": ".py",
   "mimetype": "text/x-python",
   "name": "python",
   "nbconvert_exporter": "python",
   "pygments_lexer": "ipython3",
   "version": "3.7.2"
  }
 },
 "nbformat": 4,
 "nbformat_minor": 1
}
