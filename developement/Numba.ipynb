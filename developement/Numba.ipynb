{
 "cells": [
  {
   "cell_type": "markdown",
   "metadata": {},
   "source": [
    "# Pylops - numba"
   ]
  },
  {
   "cell_type": "markdown",
   "metadata": {},
   "source": [
    "### Author: M.Ravasi"
   ]
  },
  {
   "cell_type": "markdown",
   "metadata": {},
   "source": [
    "In this notebook I will investigate the benifit of adding numba to various operators"
   ]
  },
  {
   "cell_type": "code",
   "execution_count": 1,
   "metadata": {},
   "outputs": [],
   "source": [
    "%load_ext autoreload\n",
    "%autoreload 2\n",
    "%matplotlib inline\n",
    "\n",
    "import warnings\n",
    "warnings.filterwarnings('ignore')\n",
    "\n",
    "import os\n",
    "import numpy as np\n",
    "import matplotlib.pyplot as plt\n",
    "import scipy as sp\n",
    "\n",
    "import pylops\n",
    "\n",
    "from scipy.sparse import csr_matrix, vstack, rand\n",
    "from scipy.linalg import lstsq, solve, pinv\n",
    "from scipy.sparse.linalg import LinearOperator as spLinearOperator\n",
    "from scipy.sparse.linalg import LinearOperator, cg, lsqr\n",
    "\n",
    "from pylops.utils                      import dottest\n",
    "from pylops.utils.wavelets             import *\n",
    "from pylops.utils.seismicevents        import *\n",
    "from pylops.basicoperators             import *\n",
    "from pylops.signalprocessing             import *\n",
    "from pylops.waveeqprocessing.mdd       import *\n",
    "from pylops.optimization.leastsquares  import *\n",
    "from pylops.optimization.sparsity  import IRLS as IRLSpylops\n",
    "from pylops.optimization.sparsity  import FISTA\n",
    "\n",
    "from numba import jit"
   ]
  },
  {
   "cell_type": "code",
   "execution_count": 2,
   "metadata": {},
   "outputs": [],
   "source": [
    "os.environ['OMP_NUM_THREADS'] = '10'\n",
    "os.environ['MKL_NUM_THREADS'] = '10'\n",
    "os.environ['NUMBA_NUM_THREADS'] = '10'\n",
    "os.environ['NUMBA_DEVELOPER_MODE'] = '0'"
   ]
  },
  {
   "cell_type": "markdown",
   "metadata": {},
   "source": [
    "## Slant stack 2d"
   ]
  },
  {
   "cell_type": "markdown",
   "metadata": {},
   "source": [
    "Initialization"
   ]
  },
  {
   "cell_type": "code",
   "execution_count": 3,
   "metadata": {
    "scrolled": false
   },
   "outputs": [
    {
     "name": "stdout",
     "output_type": "stream",
     "text": [
      "12.1 ms ± 4.2 ms per loop (mean ± std. dev. of 7 runs, 10 loops each)\n",
      "343 µs ± 4.38 µs per loop (mean ± std. dev. of 7 runs, 10 loops each)\n"
     ]
    }
   ],
   "source": [
    "par = {'nt': 11, 'nhx': 21, 'nhy': 10, 'npx':31, 'npy':21, 'pxmax':1e-2,\n",
    "       'centeredh': True, 'kind': 'linear'} # linear, centered, linear interp\n",
    "\n",
    "dt, dh = 0.005, 1\n",
    "t = np.arange(par['nt']) * dt\n",
    "h = np.arange(par['nhx']) * dh\n",
    "px = np.linspace(0, par['pxmax'], par['npx'])\n",
    "x = np.zeros((par['npx'], par['nt']))\n",
    "x[2, par['nt']//2] = 1\n",
    " \n",
    "# numpy\n",
    "%timeit -n 10  Radon2D(t, h, px, centeredh=par['centeredh'], interp=False, kind=par['kind'], engine='numpy', dtype='float64')\n",
    "# numba\n",
    "Radon2D(t, h, px, centeredh=par['centeredh'], interp=False, \n",
    "        kind=par['kind'], engine='numba', dtype='float64')\n",
    "%timeit -n 10  Radon2D(t, h, px, centeredh=par['centeredh'], interp=False, kind=par['kind'], engine='numba', dtype='float64')"
   ]
  },
  {
   "cell_type": "markdown",
   "metadata": {},
   "source": [
    "Numpy vs numba with pre-computed table"
   ]
  },
  {
   "cell_type": "code",
   "execution_count": 4,
   "metadata": {},
   "outputs": [
    {
     "name": "stdout",
     "output_type": "stream",
     "text": [
      "10.8 ms ± 2.29 ms per loop (mean ± std. dev. of 7 runs, 10 loops each)\n",
      "10.2 ms ± 101 µs per loop (mean ± std. dev. of 7 runs, 10 loops each)\n"
     ]
    }
   ],
   "source": [
    "Rop = Radon2D(t, h, px, centeredh=par['centeredh'],\n",
    "              interp=False, kind=par['kind'], engine='numpy',\n",
    "              dtype='float64')\n",
    "dottest(Rop, par['nhx']*par['nt'], par['npx']*par['nt'],\n",
    "        complexflag=0)\n",
    "\n",
    "y = Rop * x.flatten()\n",
    "Rop1 = Rop.H\n",
    "xadj = Rop1 * y.flatten()\n",
    "\n",
    "%timeit -n 10 Rop * x.flatten()\n",
    "%timeit -n 10 Rop1 * y.flatten()"
   ]
  },
  {
   "cell_type": "code",
   "execution_count": 5,
   "metadata": {
    "scrolled": true
   },
   "outputs": [
    {
     "name": "stdout",
     "output_type": "stream",
     "text": [
      "90.9 µs ± 3.76 µs per loop (mean ± std. dev. of 7 runs, 10 loops each)\n",
      "115 µs ± 35.1 µs per loop (mean ± std. dev. of 7 runs, 10 loops each)\n"
     ]
    }
   ],
   "source": [
    "Rop = Radon2D(t, h, px, centeredh=par['centeredh'],\n",
    "              interp=False, kind=par['kind'], engine='numba',\n",
    "              dtype='float64')\n",
    "dottest(Rop, par['nhx']*par['nt'], par['npx']*par['nt'],\n",
    "        complexflag=0)\n",
    "\n",
    "ynb = Rop * x.flatten()\n",
    "Rop1 = Rop.H\n",
    "xadjnb = Rop1 * y.flatten()\n",
    "\n",
    "%timeit -n 10 Rop * x.flatten()\n",
    "%timeit -n 10 Rop1 * y.flatten()"
   ]
  },
  {
   "cell_type": "code",
   "execution_count": 6,
   "metadata": {},
   "outputs": [
    {
     "name": "stdout",
     "output_type": "stream",
     "text": [
      "0.0\n",
      "0.0\n"
     ]
    }
   ],
   "source": [
    "print(np.linalg.norm(y-ynb))\n",
    "print(np.linalg.norm(xadj-xadjnb))"
   ]
  },
  {
   "cell_type": "code",
   "execution_count": 7,
   "metadata": {},
   "outputs": [
    {
     "name": "stdout",
     "output_type": "stream",
     "text": [
      "16.3 ms ± 155 µs per loop (mean ± std. dev. of 7 runs, 10 loops each)\n",
      "18.1 ms ± 480 µs per loop (mean ± std. dev. of 7 runs, 10 loops each)\n"
     ]
    }
   ],
   "source": [
    "Rop = Radon2D(t, h, px, centeredh=par['centeredh'],\n",
    "              interp=True, kind=par['kind'], engine='numpy',\n",
    "              dtype='float64')\n",
    "dottest(Rop, par['nhx']*par['nt'], par['npx']*par['nt'],\n",
    "        complexflag=0)\n",
    "\n",
    "y = Rop * x.flatten()\n",
    "Rop1 = Rop.H\n",
    "xadj = Rop1 * y.flatten()\n",
    "\n",
    "%timeit -n 10 Rop * x.flatten()\n",
    "%timeit -n 10 Rop1 * y.flatten()"
   ]
  },
  {
   "cell_type": "code",
   "execution_count": 8,
   "metadata": {},
   "outputs": [
    {
     "name": "stdout",
     "output_type": "stream",
     "text": [
      "40.5 µs ± 1.24 µs per loop (mean ± std. dev. of 7 runs, 10 loops each)\n",
      "46.1 µs ± 9.87 µs per loop (mean ± std. dev. of 7 runs, 10 loops each)\n"
     ]
    }
   ],
   "source": [
    "Rop = Radon2D(t, h, px, centeredh=par['centeredh'],\n",
    "              interp=True, kind=par['kind'], engine='numba',\n",
    "              dtype='float64')\n",
    "dottest(Rop, par['nhx']*par['nt'], par['npx']*par['nt'],\n",
    "        complexflag=0)\n",
    "\n",
    "ynb = Rop * x.flatten()\n",
    "Rop1 = Rop.H\n",
    "xadjnb = Rop1 * y.flatten()\n",
    "\n",
    "%timeit -n 10 Rop * x.flatten()\n",
    "%timeit -n 10 Rop1 * y.flatten()"
   ]
  },
  {
   "cell_type": "code",
   "execution_count": 9,
   "metadata": {},
   "outputs": [
    {
     "name": "stdout",
     "output_type": "stream",
     "text": [
      "0.0\n",
      "4.821487820240936e-15\n"
     ]
    }
   ],
   "source": [
    "print(np.linalg.norm(y-ynb))\n",
    "print(np.linalg.norm(xadj-xadjnb))"
   ]
  },
  {
   "cell_type": "markdown",
   "metadata": {},
   "source": [
    "Numpy vs numba with on-the-fly computation"
   ]
  },
  {
   "cell_type": "code",
   "execution_count": 10,
   "metadata": {},
   "outputs": [
    {
     "name": "stdout",
     "output_type": "stream",
     "text": [
      "16.4 ms ± 206 µs per loop (mean ± std. dev. of 7 runs, 10 loops each)\n",
      "17.6 ms ± 797 µs per loop (mean ± std. dev. of 7 runs, 10 loops each)\n"
     ]
    }
   ],
   "source": [
    "Rop = Radon2D(t, h, px, centeredh=par['centeredh'],\n",
    "              interp=False, kind=par['kind'], engine='numpy', onthefly=True,\n",
    "              dtype='float64')\n",
    "dottest(Rop, par['nhx']*par['nt'], par['npx']*par['nt'],\n",
    "        complexflag=0)\n",
    "\n",
    "y = Rop * x.flatten()\n",
    "Rop1 = Rop.H\n",
    "xadj = Rop1 * y.flatten()\n",
    "\n",
    "%timeit -n 10 Rop * x.flatten()\n",
    "%timeit -n 10 Rop1 * y.flatten()"
   ]
  },
  {
   "cell_type": "code",
   "execution_count": 11,
   "metadata": {
    "scrolled": false
   },
   "outputs": [
    {
     "name": "stdout",
     "output_type": "stream",
     "text": [
      "253 µs ± 1.5 µs per loop (mean ± std. dev. of 7 runs, 10 loops each)\n",
      "787 µs ± 20.3 µs per loop (mean ± std. dev. of 7 runs, 10 loops each)\n"
     ]
    }
   ],
   "source": [
    "Rop = Radon2D(t, h, px, centeredh=par['centeredh'],\n",
    "              interp=False, kind=par['kind'], engine='numba', onthefly=True,\n",
    "              dtype='float64')\n",
    "dottest(Rop, par['nhx']*par['nt'], par['npx']*par['nt'],\n",
    "        complexflag=0)\n",
    "\n",
    "ynb = Rop * x.flatten()\n",
    "Rop1 = Rop.H\n",
    "xadjnb = Rop1 * y.flatten()\n",
    "\n",
    "%timeit -n 10 Rop * x.flatten()\n",
    "%timeit -n 10 Rop1 * y.flatten()"
   ]
  },
  {
   "cell_type": "code",
   "execution_count": 12,
   "metadata": {},
   "outputs": [
    {
     "name": "stdout",
     "output_type": "stream",
     "text": [
      "0.0\n",
      "0.0\n"
     ]
    }
   ],
   "source": [
    "print(np.linalg.norm(y-ynb))\n",
    "print(np.linalg.norm(xadj-xadjnb))"
   ]
  },
  {
   "cell_type": "code",
   "execution_count": 13,
   "metadata": {},
   "outputs": [
    {
     "name": "stdout",
     "output_type": "stream",
     "text": [
      "24.9 ms ± 114 µs per loop (mean ± std. dev. of 7 runs, 10 loops each)\n",
      "27.3 ms ± 309 µs per loop (mean ± std. dev. of 7 runs, 10 loops each)\n"
     ]
    }
   ],
   "source": [
    "Rop = Radon2D(t, h, px, centeredh=par['centeredh'],\n",
    "              interp=True, kind=par['kind'], engine='numpy', onthefly=True,\n",
    "              dtype='float64')\n",
    "dottest(Rop, par['nhx']*par['nt'], par['npx']*par['nt'],\n",
    "        complexflag=0)\n",
    "\n",
    "y = Rop * x.flatten()\n",
    "Rop1 = Rop.H\n",
    "xadj = Rop1 * y.flatten()\n",
    "\n",
    "%timeit -n 10 Rop * x.flatten()\n",
    "%timeit -n 10 Rop1 * y.flatten()"
   ]
  },
  {
   "cell_type": "code",
   "execution_count": 14,
   "metadata": {},
   "outputs": [
    {
     "name": "stdout",
     "output_type": "stream",
     "text": [
      "258 µs ± 1.92 µs per loop (mean ± std. dev. of 7 runs, 10 loops each)\n",
      "779 µs ± 11.2 µs per loop (mean ± std. dev. of 7 runs, 10 loops each)\n"
     ]
    }
   ],
   "source": [
    "Rop = Radon2D(t, h, px, centeredh=par['centeredh'],\n",
    "              interp=True, kind=par['kind'], engine='numba', onthefly=True,\n",
    "              dtype='float64')\n",
    "dottest(Rop, par['nhx']*par['nt'], par['npx']*par['nt'],\n",
    "        complexflag=0)\n",
    "\n",
    "ynb = Rop * x.flatten()\n",
    "Rop1 = Rop.H\n",
    "xadjnb = Rop1 * y.flatten()\n",
    "\n",
    "%timeit -n 10 Rop * x.flatten()\n",
    "%timeit -n 10 Rop1 * y.flatten()"
   ]
  },
  {
   "cell_type": "code",
   "execution_count": 15,
   "metadata": {},
   "outputs": [
    {
     "name": "stdout",
     "output_type": "stream",
     "text": [
      "0.0\n",
      "4.932377424477932e-15\n"
     ]
    }
   ],
   "source": [
    "print(np.linalg.norm(y-ynb))\n",
    "print(np.linalg.norm(xadj-xadjnb))"
   ]
  },
  {
   "cell_type": "markdown",
   "metadata": {},
   "source": [
    "## Slant stack 3d"
   ]
  },
  {
   "cell_type": "markdown",
   "metadata": {},
   "source": [
    "Initialization"
   ]
  },
  {
   "cell_type": "code",
   "execution_count": 16,
   "metadata": {},
   "outputs": [
    {
     "name": "stdout",
     "output_type": "stream",
     "text": [
      "212 ms ± 921 µs per loop (mean ± std. dev. of 7 runs, 3 loops each)\n",
      "109 ms ± 5.14 ms per loop (mean ± std. dev. of 7 runs, 3 loops each)\n"
     ]
    }
   ],
   "source": [
    "dt, dh = 0.005, 1\n",
    "t = np.arange(par['nt']) * dt \n",
    "hx = np.arange(par['nhx']) * dh\n",
    "hy = np.arange(par['nhy']) * dh\n",
    "px = np.linspace(0, par['pxmax'], par['npx'])\n",
    "py = np.linspace(0, par['pxmax'], par['npy'])\n",
    "x = np.zeros((par['npy'], par['npx'], par['nt']))\n",
    "x[2, 2, par['nt']//2] = 1\n",
    " \n",
    "# numpy\n",
    "%timeit -n 3  Radon3D(t, hy, hx, py, px, centeredh=par['centeredh'], interp=False, kind=par['kind'], dtype='float64')\n",
    "# numba\n",
    "Radon3D(t, hy, hx, py, px, centeredh=par['centeredh'], interp=False, \n",
    "        kind=par['kind'], engine='numba', dtype='float64')\n",
    "%timeit -n 3  Radon3D(t, hy, hx, py, px, centeredh=par['centeredh'], interp=False, kind=par['kind'], engine='numba', dtype='float64')"
   ]
  },
  {
   "cell_type": "markdown",
   "metadata": {},
   "source": [
    "Numpy vs numba with pre-computed table"
   ]
  },
  {
   "cell_type": "code",
   "execution_count": 18,
   "metadata": {},
   "outputs": [
    {
     "name": "stdout",
     "output_type": "stream",
     "text": [
      "238 ms ± 491 µs per loop (mean ± std. dev. of 7 runs, 10 loops each)\n",
      "240 ms ± 267 µs per loop (mean ± std. dev. of 7 runs, 10 loops each)\n"
     ]
    }
   ],
   "source": [
    "Rop = Radon3D(t, hy, hx, py, px, centeredh=par['centeredh'],\n",
    "              interp=False, kind=par['kind'],\n",
    "              dtype='float64')\n",
    "dottest(Rop, par['nhy']*par['nhx']*par['nt'], par['npy']*par['npx']*par['nt'],\n",
    "        complexflag=0)\n",
    "\n",
    "y = Rop * x.flatten()\n",
    "Rop1 = Rop.H\n",
    "xadj = Rop1 * y.flatten()\n",
    "\n",
    "%timeit -n 10 Rop * x.flatten()\n",
    "%timeit -n 10 Rop1 * y.flatten()"
   ]
  },
  {
   "cell_type": "code",
   "execution_count": 19,
   "metadata": {},
   "outputs": [
    {
     "name": "stdout",
     "output_type": "stream",
     "text": [
      "2.42 ms ± 21.2 µs per loop (mean ± std. dev. of 7 runs, 10 loops each)\n",
      "The slowest run took 5.10 times longer than the fastest. This could mean that an intermediate result is being cached.\n",
      "796 µs ± 447 µs per loop (mean ± std. dev. of 7 runs, 10 loops each)\n"
     ]
    }
   ],
   "source": [
    "Rop = Radon3D(t, hy, hx, py, px, centeredh=par['centeredh'],\n",
    "              interp=False, kind=par['kind'], engine='numba',\n",
    "              dtype='float64')\n",
    "dottest(Rop, par['nhy']*par['nhx']*par['nt'], par['npy']*par['npx']*par['nt'],\n",
    "        complexflag=0)\n",
    "\n",
    "ynb = Rop * x.flatten()\n",
    "Rop1 = Rop.H\n",
    "xadjnb = Rop1 * y.flatten()\n",
    "\n",
    "%timeit -n 10 Rop * x.flatten()\n",
    "%timeit -n 10 Rop1 * y.flatten()"
   ]
  },
  {
   "cell_type": "code",
   "execution_count": 20,
   "metadata": {},
   "outputs": [
    {
     "name": "stdout",
     "output_type": "stream",
     "text": [
      "0.0\n",
      "0.0\n"
     ]
    }
   ],
   "source": [
    "print(np.linalg.norm(y-ynb))\n",
    "print(np.linalg.norm(xadj-xadjnb))"
   ]
  },
  {
   "cell_type": "code",
   "execution_count": 21,
   "metadata": {},
   "outputs": [
    {
     "name": "stdout",
     "output_type": "stream",
     "text": [
      "401 ms ± 348 µs per loop (mean ± std. dev. of 7 runs, 10 loops each)\n",
      "422 ms ± 355 µs per loop (mean ± std. dev. of 7 runs, 10 loops each)\n"
     ]
    }
   ],
   "source": [
    "Rop = Radon3D(t, hy, hx, py, px, centeredh=par['centeredh'],\n",
    "              interp=True, kind=par['kind'],\n",
    "              dtype='float64')\n",
    "dottest(Rop, par['nhy']*par['nhx']*par['nt'], par['npy']*par['npx']*par['nt'],\n",
    "        complexflag=0)\n",
    "\n",
    "y = Rop * x.flatten()\n",
    "Rop1 = Rop.H\n",
    "xadj = Rop1 * y.flatten()\n",
    "\n",
    "%timeit -n 10 Rop * x.flatten()\n",
    "%timeit -n 10 Rop1 * y.flatten()"
   ]
  },
  {
   "cell_type": "code",
   "execution_count": 22,
   "metadata": {},
   "outputs": [
    {
     "name": "stdout",
     "output_type": "stream",
     "text": [
      "3.4 ms ± 17.6 µs per loop (mean ± std. dev. of 7 runs, 10 loops each)\n",
      "393 µs ± 35.8 µs per loop (mean ± std. dev. of 7 runs, 10 loops each)\n"
     ]
    }
   ],
   "source": [
    "Rop = Radon3D(t, hy, hx, py, px, centeredh=par['centeredh'],\n",
    "              interp=True, kind=par['kind'], engine='numba',\n",
    "              dtype='float64')\n",
    "dottest(Rop, par['nhy']*par['nhx']*par['nt'], par['npy']*par['npx']*par['nt'],\n",
    "        complexflag=0)\n",
    "\n",
    "ynb = Rop * x.flatten()\n",
    "Rop1 = Rop.H\n",
    "xadjnb = Rop1 * y.flatten()\n",
    "\n",
    "%timeit -n 10 Rop * x.flatten()\n",
    "%timeit -n 10 Rop1 * y.flatten()"
   ]
  },
  {
   "cell_type": "code",
   "execution_count": 23,
   "metadata": {},
   "outputs": [
    {
     "name": "stdout",
     "output_type": "stream",
     "text": [
      "0.0\n",
      "4.146737221823692e-13\n"
     ]
    }
   ],
   "source": [
    "print(np.linalg.norm(y-ynb))\n",
    "print(np.linalg.norm(xadj-xadjnb))"
   ]
  },
  {
   "cell_type": "markdown",
   "metadata": {},
   "source": [
    "Numpy vs numba with on-the-fly computation"
   ]
  },
  {
   "cell_type": "code",
   "execution_count": 24,
   "metadata": {},
   "outputs": [
    {
     "name": "stdout",
     "output_type": "stream",
     "text": [
      "462 ms ± 251 µs per loop (mean ± std. dev. of 7 runs, 10 loops each)\n",
      "478 ms ± 656 µs per loop (mean ± std. dev. of 7 runs, 10 loops each)\n"
     ]
    }
   ],
   "source": [
    "Rop = Radon3D(t, hy, hx, py, px, centeredh=par['centeredh'],\n",
    "              interp=False, kind=par['kind'], onthefly=True,\n",
    "              dtype='float64')\n",
    "dottest(Rop, par['nhy']*par['nhx']*par['nt'], par['npy']*par['npx']*par['nt'],\n",
    "        complexflag=0)\n",
    "\n",
    "y = Rop * x.flatten()\n",
    "Rop1 = Rop.H\n",
    "xadj = Rop1 * y.flatten()\n",
    "\n",
    "%timeit -n 10 Rop * x.flatten()\n",
    "%timeit -n 10 Rop1 * y.flatten()"
   ]
  },
  {
   "cell_type": "code",
   "execution_count": 25,
   "metadata": {},
   "outputs": [
    {
     "name": "stdout",
     "output_type": "stream",
     "text": [
      "103 ms ± 2.24 ms per loop (mean ± std. dev. of 7 runs, 10 loops each)\n",
      "419 ms ± 13.2 ms per loop (mean ± std. dev. of 7 runs, 10 loops each)\n"
     ]
    }
   ],
   "source": [
    "Rop = Radon3D(t, hy, hx, py, px, centeredh=par['centeredh'],\n",
    "              interp=False, kind=par['kind'], engine='numba', onthefly=True,\n",
    "              dtype='float64')\n",
    "dottest(Rop, par['nhy']*par['nhx']*par['nt'], par['npy']*par['npx']*par['nt'],\n",
    "        complexflag=0)\n",
    "\n",
    "ynb = Rop * x.flatten()\n",
    "Rop1 = Rop.H\n",
    "xadjnb = Rop1 * y.flatten()\n",
    "\n",
    "%timeit -n 10 Rop * x.flatten()\n",
    "%timeit -n 10 Rop1 * y.flatten()"
   ]
  },
  {
   "cell_type": "code",
   "execution_count": 26,
   "metadata": {},
   "outputs": [
    {
     "name": "stdout",
     "output_type": "stream",
     "text": [
      "0.0\n",
      "0.0\n"
     ]
    }
   ],
   "source": [
    "print(np.linalg.norm(y-ynb))\n",
    "print(np.linalg.norm(xadj-xadjnb))"
   ]
  },
  {
   "cell_type": "code",
   "execution_count": 27,
   "metadata": {},
   "outputs": [
    {
     "name": "stdout",
     "output_type": "stream",
     "text": [
      "651 ms ± 557 µs per loop (mean ± std. dev. of 7 runs, 10 loops each)\n",
      "694 ms ± 11.7 ms per loop (mean ± std. dev. of 7 runs, 10 loops each)\n"
     ]
    }
   ],
   "source": [
    "Rop = Radon3D(t, hy, hx, py, px, centeredh=par['centeredh'],\n",
    "              interp=True, kind=par['kind'], onthefly=True,\n",
    "              dtype='float64')\n",
    "dottest(Rop, par['nhy']*par['nhx']*par['nt'], par['npy']*par['npx']*par['nt'],\n",
    "        complexflag=0)\n",
    "\n",
    "y = Rop * x.flatten()\n",
    "Rop1 = Rop.H\n",
    "xadj = Rop1 * y.flatten()\n",
    "\n",
    "%timeit -n 10 Rop * x.flatten()\n",
    "%timeit -n 10 Rop1 * y.flatten()"
   ]
  },
  {
   "cell_type": "code",
   "execution_count": 28,
   "metadata": {},
   "outputs": [
    {
     "name": "stdout",
     "output_type": "stream",
     "text": [
      "115 ms ± 10.9 ms per loop (mean ± std. dev. of 7 runs, 10 loops each)\n",
      "217 ms ± 24.8 ms per loop (mean ± std. dev. of 7 runs, 10 loops each)\n"
     ]
    }
   ],
   "source": [
    "Rop = Radon3D(t, hy, hx, py, px, centeredh=par['centeredh'],\n",
    "              interp=True, kind=par['kind'], engine='numba', onthefly=True,\n",
    "              dtype='float64')\n",
    "dottest(Rop, par['nhy']*par['nhx']*par['nt'], par['npy']*par['npx']*par['nt'],\n",
    "        complexflag=0)\n",
    "\n",
    "ynb = Rop * x.flatten()\n",
    "Rop1 = Rop.H\n",
    "xadjnb = Rop1 * y.flatten()\n",
    "\n",
    "%timeit -n 10 Rop * x.flatten()\n",
    "%timeit -n 10 Rop1 * y.flatten()"
   ]
  },
  {
   "cell_type": "code",
   "execution_count": 29,
   "metadata": {},
   "outputs": [
    {
     "name": "stdout",
     "output_type": "stream",
     "text": [
      "0.0\n",
      "3.9911132851821105e-13\n"
     ]
    }
   ],
   "source": [
    "print(np.linalg.norm(y-ynb))\n",
    "print(np.linalg.norm(xadj-xadjnb))"
   ]
  },
  {
   "cell_type": "markdown",
   "metadata": {},
   "source": [
    "Other stuff, work in progress"
   ]
  },
  {
   "cell_type": "code",
   "execution_count": 30,
   "metadata": {},
   "outputs": [
    {
     "name": "stdout",
     "output_type": "stream",
     "text": [
      "[ 0  1  4  9 16 25 36 49 64 81]\n"
     ]
    }
   ],
   "source": [
    "import numpy as np\n",
    "\n",
    "from numba import vectorize, float64\n",
    "\n",
    "@jit(nopython=True, nogil=True)\n",
    "def fdouble(x):\n",
    "    return x**2\n",
    "@jit(nopython=True, nogil=True)\n",
    "def passfunction(a, f, out):\n",
    "    out = f(a)\n",
    "    return out\n",
    "\n",
    "arr = np.arange(10)\n",
    "out = np.zeros(10)\n",
    "print(passfunction(arr, fdouble, out))"
   ]
  },
  {
   "cell_type": "code",
   "execution_count": 31,
   "metadata": {},
   "outputs": [
    {
     "name": "stdout",
     "output_type": "stream",
     "text": [
      "19.6 µs ± 1.51 µs per loop (mean ± std. dev. of 7 runs, 10 loops each)\n",
      "The slowest run took 6.45 times longer than the fastest. This could mean that an intermediate result is being cached.\n",
      "23.9 µs ± 25.4 µs per loop (mean ± std. dev. of 7 runs, 10 loops each)\n",
      "The slowest run took 4.80 times longer than the fastest. This could mean that an intermediate result is being cached.\n",
      "26.8 µs ± 22.6 µs per loop (mean ± std. dev. of 7 runs, 10 loops each)\n"
     ]
    }
   ],
   "source": [
    "from numba import vectorize, guvectorize, float64, int64, float32, int32\n",
    "\n",
    "def _hyperbolic(x, t, px):\n",
    "    return np.sqrt(t**2 + (x/px)**2)\n",
    "\n",
    "@vectorize([float64(float64, float64, float64),\n",
    "            float64(float64, int64, float64),\n",
    "            float64(float64, int32, float64),\n",
    "            float32(float32, float32, float32),\n",
    "            float32(float32, int32, float32)], \n",
    "           nopython=True, target='cpu')\n",
    "def _hyperbolic_numba(x, t, px):\n",
    "    return np.sqrt(t**2 + (x/px)**2)\n",
    "\n",
    "@vectorize([float64(float64, float64, float64),\n",
    "            float64(float64, int64, float64),\n",
    "            float64(float64, int32, float64),\n",
    "            float32(float32, float32, float32),\n",
    "            float32(float32, int32, float32)], \n",
    "           nopython=True, target='parallel')\n",
    "def _hyperbolic_numba1(x, t, px):\n",
    "    return np.sqrt(t**2 + (x/px)**2)\n",
    "\n",
    "x=np.arange(1000)\n",
    "t0=10\n",
    "px=0.1\n",
    "\n",
    "%timeit -n 10 _hyperbolic(x, t0, px)\n",
    "%timeit -n 10 _hyperbolic_numba(x, t0, px)\n",
    "%timeit -n 10 _hyperbolic_numba1(x, t0, px)"
   ]
  },
  {
   "cell_type": "code",
   "execution_count": 32,
   "metadata": {},
   "outputs": [
    {
     "data": {
      "text/plain": [
       "array([3.2, 3.2, 3.2, 3.2, 3.2])"
      ]
     },
     "execution_count": 32,
     "metadata": {},
     "output_type": "execute_result"
    }
   ],
   "source": [
    "@guvectorize([(float64[:], float64, float64[:])], '(n),()->(n)')\n",
    "def g(x, y, res):\n",
    "    for i in range(x.shape[0]):\n",
    "        res[i] = x[i] + y\n",
    "        \n",
    "a = np.ones(5, np.float64)\n",
    "g(a, 2.2)"
   ]
  },
  {
   "cell_type": "code",
   "execution_count": 33,
   "metadata": {},
   "outputs": [
    {
     "name": "stdout",
     "output_type": "stream",
     "text": [
      "13.5 µs ± 5.71 µs per loop (mean ± std. dev. of 7 runs, 2 loops each)\n",
      "177 ms ± 1.89 ms per loop (mean ± std. dev. of 7 runs, 2 loops each)\n"
     ]
    }
   ],
   "source": [
    "from numba import stencil\n",
    "\n",
    "def kernel(a):\n",
    "    return 0.5 * (a[:, 2:] - a[:, 0:-2])\n",
    "\n",
    "@stencil\n",
    "def kernel1(a):\n",
    "    return 0.5 * (a[0, 1] - a[0, -1])\n",
    "\n",
    "input_arr = np.arange(100).reshape(10, 10)\n",
    "%timeit -n 2 kernel(input_arr)\n",
    "%timeit -n 2 kernel1(input_arr)"
   ]
  }
 ],
 "metadata": {
  "kernelspec": {
   "display_name": "Python 3",
   "language": "python",
   "name": "python3"
  },
  "language_info": {
   "codemirror_mode": {
    "name": "ipython",
    "version": 3
   },
   "file_extension": ".py",
   "mimetype": "text/x-python",
   "name": "python",
   "nbconvert_exporter": "python",
   "pygments_lexer": "ipython3",
   "version": "3.7.2"
  }
 },
 "nbformat": 4,
 "nbformat_minor": 1
}
