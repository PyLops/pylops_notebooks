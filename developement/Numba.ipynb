{
 "cells": [
  {
   "cell_type": "markdown",
   "metadata": {},
   "source": [
    "# Pylops - numba"
   ]
  },
  {
   "cell_type": "markdown",
   "metadata": {},
   "source": [
    "### Author: M.Ravasi"
   ]
  },
  {
   "cell_type": "markdown",
   "metadata": {},
   "source": [
    "In this notebook I will investigate the benifit of adding numba to various operators"
   ]
  },
  {
   "cell_type": "code",
   "execution_count": 21,
   "metadata": {},
   "outputs": [
    {
     "name": "stdout",
     "output_type": "stream",
     "text": [
      "The autoreload extension is already loaded. To reload it, use:\n",
      "  %reload_ext autoreload\n"
     ]
    }
   ],
   "source": [
    "%load_ext autoreload\n",
    "%autoreload 2\n",
    "%matplotlib inline\n",
    "\n",
    "import warnings\n",
    "warnings.filterwarnings('ignore')\n",
    "\n",
    "import os\n",
    "import numpy as np\n",
    "import matplotlib.pyplot as plt\n",
    "import scipy as sp\n",
    "\n",
    "import pylops\n",
    "\n",
    "from scipy.sparse import csr_matrix, vstack, rand\n",
    "from scipy.linalg import lstsq, solve, pinv\n",
    "from scipy.sparse.linalg import LinearOperator as spLinearOperator\n",
    "from scipy.sparse.linalg import LinearOperator, cg, lsqr\n",
    "\n",
    "from pylops.utils                      import dottest\n",
    "from pylops.utils.wavelets             import *\n",
    "from pylops.utils.seismicevents        import *\n",
    "from pylops.basicoperators             import *\n",
    "from pylops.signalprocessing             import *\n",
    "from pylops.waveeqprocessing.mdd       import *\n",
    "from pylops.optimization.leastsquares  import *\n",
    "from pylops.optimization.sparsity  import IRLS as IRLSpylops\n",
    "from pylops.optimization.sparsity  import FISTA\n",
    "\n",
    "import numba\n",
    "from numba import stencil\n",
    "from numba import jit"
   ]
  },
  {
   "cell_type": "code",
   "execution_count": 2,
   "metadata": {},
   "outputs": [],
   "source": [
    "os.environ['OMP_NUM_THREADS'] = '10'\n",
    "os.environ['MKL_NUM_THREADS'] = '10'\n",
    "os.environ['NUMBA_NUM_THREADS'] = '10'\n",
    "os.environ['NUMBA_DEVELOPER_MODE'] = '0'"
   ]
  },
  {
   "cell_type": "markdown",
   "metadata": {},
   "source": [
    "## Slant stack 2d"
   ]
  },
  {
   "cell_type": "markdown",
   "metadata": {},
   "source": [
    "Initialization"
   ]
  },
  {
   "cell_type": "code",
   "execution_count": 3,
   "metadata": {
    "scrolled": false
   },
   "outputs": [
    {
     "name": "stdout",
     "output_type": "stream",
     "text": [
      "12.1 ms ± 4.2 ms per loop (mean ± std. dev. of 7 runs, 10 loops each)\n",
      "343 µs ± 4.38 µs per loop (mean ± std. dev. of 7 runs, 10 loops each)\n"
     ]
    }
   ],
   "source": [
    "par = {'nt': 11, 'nhx': 21, 'nhy': 10, 'npx':31, 'npy':21, 'pxmax':1e-2,\n",
    "       'centeredh': True, 'kind': 'linear'} # linear, centered, linear interp\n",
    "\n",
    "dt, dh = 0.005, 1\n",
    "t = np.arange(par['nt']) * dt\n",
    "h = np.arange(par['nhx']) * dh\n",
    "px = np.linspace(0, par['pxmax'], par['npx'])\n",
    "x = np.zeros((par['npx'], par['nt']))\n",
    "x[2, par['nt']//2] = 1\n",
    " \n",
    "# numpy\n",
    "%timeit -n 10  Radon2D(t, h, px, centeredh=par['centeredh'], interp=False, kind=par['kind'], engine='numpy', dtype='float64')\n",
    "# numba\n",
    "Radon2D(t, h, px, centeredh=par['centeredh'], interp=False, \n",
    "        kind=par['kind'], engine='numba', dtype='float64')\n",
    "%timeit -n 10  Radon2D(t, h, px, centeredh=par['centeredh'], interp=False, kind=par['kind'], engine='numba', dtype='float64')"
   ]
  },
  {
   "cell_type": "markdown",
   "metadata": {},
   "source": [
    "Numpy vs numba with pre-computed table"
   ]
  },
  {
   "cell_type": "code",
   "execution_count": 4,
   "metadata": {},
   "outputs": [
    {
     "name": "stdout",
     "output_type": "stream",
     "text": [
      "10.8 ms ± 2.29 ms per loop (mean ± std. dev. of 7 runs, 10 loops each)\n",
      "10.2 ms ± 101 µs per loop (mean ± std. dev. of 7 runs, 10 loops each)\n"
     ]
    }
   ],
   "source": [
    "Rop = Radon2D(t, h, px, centeredh=par['centeredh'],\n",
    "              interp=False, kind=par['kind'], engine='numpy',\n",
    "              dtype='float64')\n",
    "dottest(Rop, par['nhx']*par['nt'], par['npx']*par['nt'],\n",
    "        complexflag=0)\n",
    "\n",
    "y = Rop * x.flatten()\n",
    "Rop1 = Rop.H\n",
    "xadj = Rop1 * y.flatten()\n",
    "\n",
    "%timeit -n 10 Rop * x.flatten()\n",
    "%timeit -n 10 Rop1 * y.flatten()"
   ]
  },
  {
   "cell_type": "code",
   "execution_count": 5,
   "metadata": {
    "scrolled": true
   },
   "outputs": [
    {
     "name": "stdout",
     "output_type": "stream",
     "text": [
      "90.9 µs ± 3.76 µs per loop (mean ± std. dev. of 7 runs, 10 loops each)\n",
      "115 µs ± 35.1 µs per loop (mean ± std. dev. of 7 runs, 10 loops each)\n"
     ]
    }
   ],
   "source": [
    "Rop = Radon2D(t, h, px, centeredh=par['centeredh'],\n",
    "              interp=False, kind=par['kind'], engine='numba',\n",
    "              dtype='float64')\n",
    "dottest(Rop, par['nhx']*par['nt'], par['npx']*par['nt'],\n",
    "        complexflag=0)\n",
    "\n",
    "ynb = Rop * x.flatten()\n",
    "Rop1 = Rop.H\n",
    "xadjnb = Rop1 * y.flatten()\n",
    "\n",
    "%timeit -n 10 Rop * x.flatten()\n",
    "%timeit -n 10 Rop1 * y.flatten()"
   ]
  },
  {
   "cell_type": "code",
   "execution_count": 6,
   "metadata": {},
   "outputs": [
    {
     "name": "stdout",
     "output_type": "stream",
     "text": [
      "0.0\n",
      "0.0\n"
     ]
    }
   ],
   "source": [
    "print(np.linalg.norm(y-ynb))\n",
    "print(np.linalg.norm(xadj-xadjnb))"
   ]
  },
  {
   "cell_type": "code",
   "execution_count": 7,
   "metadata": {},
   "outputs": [
    {
     "name": "stdout",
     "output_type": "stream",
     "text": [
      "16.3 ms ± 155 µs per loop (mean ± std. dev. of 7 runs, 10 loops each)\n",
      "18.1 ms ± 480 µs per loop (mean ± std. dev. of 7 runs, 10 loops each)\n"
     ]
    }
   ],
   "source": [
    "Rop = Radon2D(t, h, px, centeredh=par['centeredh'],\n",
    "              interp=True, kind=par['kind'], engine='numpy',\n",
    "              dtype='float64')\n",
    "dottest(Rop, par['nhx']*par['nt'], par['npx']*par['nt'],\n",
    "        complexflag=0)\n",
    "\n",
    "y = Rop * x.flatten()\n",
    "Rop1 = Rop.H\n",
    "xadj = Rop1 * y.flatten()\n",
    "\n",
    "%timeit -n 10 Rop * x.flatten()\n",
    "%timeit -n 10 Rop1 * y.flatten()"
   ]
  },
  {
   "cell_type": "code",
   "execution_count": 8,
   "metadata": {},
   "outputs": [
    {
     "name": "stdout",
     "output_type": "stream",
     "text": [
      "40.5 µs ± 1.24 µs per loop (mean ± std. dev. of 7 runs, 10 loops each)\n",
      "46.1 µs ± 9.87 µs per loop (mean ± std. dev. of 7 runs, 10 loops each)\n"
     ]
    }
   ],
   "source": [
    "Rop = Radon2D(t, h, px, centeredh=par['centeredh'],\n",
    "              interp=True, kind=par['kind'], engine='numba',\n",
    "              dtype='float64')\n",
    "dottest(Rop, par['nhx']*par['nt'], par['npx']*par['nt'],\n",
    "        complexflag=0)\n",
    "\n",
    "ynb = Rop * x.flatten()\n",
    "Rop1 = Rop.H\n",
    "xadjnb = Rop1 * y.flatten()\n",
    "\n",
    "%timeit -n 10 Rop * x.flatten()\n",
    "%timeit -n 10 Rop1 * y.flatten()"
   ]
  },
  {
   "cell_type": "code",
   "execution_count": 9,
   "metadata": {},
   "outputs": [
    {
     "name": "stdout",
     "output_type": "stream",
     "text": [
      "0.0\n",
      "4.821487820240936e-15\n"
     ]
    }
   ],
   "source": [
    "print(np.linalg.norm(y-ynb))\n",
    "print(np.linalg.norm(xadj-xadjnb))"
   ]
  },
  {
   "cell_type": "markdown",
   "metadata": {},
   "source": [
    "Numpy vs numba with on-the-fly computation"
   ]
  },
  {
   "cell_type": "code",
   "execution_count": 10,
   "metadata": {},
   "outputs": [
    {
     "name": "stdout",
     "output_type": "stream",
     "text": [
      "16.4 ms ± 206 µs per loop (mean ± std. dev. of 7 runs, 10 loops each)\n",
      "17.6 ms ± 797 µs per loop (mean ± std. dev. of 7 runs, 10 loops each)\n"
     ]
    }
   ],
   "source": [
    "Rop = Radon2D(t, h, px, centeredh=par['centeredh'],\n",
    "              interp=False, kind=par['kind'], engine='numpy', onthefly=True,\n",
    "              dtype='float64')\n",
    "dottest(Rop, par['nhx']*par['nt'], par['npx']*par['nt'],\n",
    "        complexflag=0)\n",
    "\n",
    "y = Rop * x.flatten()\n",
    "Rop1 = Rop.H\n",
    "xadj = Rop1 * y.flatten()\n",
    "\n",
    "%timeit -n 10 Rop * x.flatten()\n",
    "%timeit -n 10 Rop1 * y.flatten()"
   ]
  },
  {
   "cell_type": "code",
   "execution_count": 11,
   "metadata": {
    "scrolled": false
   },
   "outputs": [
    {
     "name": "stdout",
     "output_type": "stream",
     "text": [
      "253 µs ± 1.5 µs per loop (mean ± std. dev. of 7 runs, 10 loops each)\n",
      "787 µs ± 20.3 µs per loop (mean ± std. dev. of 7 runs, 10 loops each)\n"
     ]
    }
   ],
   "source": [
    "Rop = Radon2D(t, h, px, centeredh=par['centeredh'],\n",
    "              interp=False, kind=par['kind'], engine='numba', onthefly=True,\n",
    "              dtype='float64')\n",
    "dottest(Rop, par['nhx']*par['nt'], par['npx']*par['nt'],\n",
    "        complexflag=0)\n",
    "\n",
    "ynb = Rop * x.flatten()\n",
    "Rop1 = Rop.H\n",
    "xadjnb = Rop1 * y.flatten()\n",
    "\n",
    "%timeit -n 10 Rop * x.flatten()\n",
    "%timeit -n 10 Rop1 * y.flatten()"
   ]
  },
  {
   "cell_type": "code",
   "execution_count": 12,
   "metadata": {},
   "outputs": [
    {
     "name": "stdout",
     "output_type": "stream",
     "text": [
      "0.0\n",
      "0.0\n"
     ]
    }
   ],
   "source": [
    "print(np.linalg.norm(y-ynb))\n",
    "print(np.linalg.norm(xadj-xadjnb))"
   ]
  },
  {
   "cell_type": "code",
   "execution_count": 13,
   "metadata": {},
   "outputs": [
    {
     "name": "stdout",
     "output_type": "stream",
     "text": [
      "24.9 ms ± 114 µs per loop (mean ± std. dev. of 7 runs, 10 loops each)\n",
      "27.3 ms ± 309 µs per loop (mean ± std. dev. of 7 runs, 10 loops each)\n"
     ]
    }
   ],
   "source": [
    "Rop = Radon2D(t, h, px, centeredh=par['centeredh'],\n",
    "              interp=True, kind=par['kind'], engine='numpy', onthefly=True,\n",
    "              dtype='float64')\n",
    "dottest(Rop, par['nhx']*par['nt'], par['npx']*par['nt'],\n",
    "        complexflag=0)\n",
    "\n",
    "y = Rop * x.flatten()\n",
    "Rop1 = Rop.H\n",
    "xadj = Rop1 * y.flatten()\n",
    "\n",
    "%timeit -n 10 Rop * x.flatten()\n",
    "%timeit -n 10 Rop1 * y.flatten()"
   ]
  },
  {
   "cell_type": "code",
   "execution_count": 14,
   "metadata": {},
   "outputs": [
    {
     "name": "stdout",
     "output_type": "stream",
     "text": [
      "258 µs ± 1.92 µs per loop (mean ± std. dev. of 7 runs, 10 loops each)\n",
      "779 µs ± 11.2 µs per loop (mean ± std. dev. of 7 runs, 10 loops each)\n"
     ]
    }
   ],
   "source": [
    "Rop = Radon2D(t, h, px, centeredh=par['centeredh'],\n",
    "              interp=True, kind=par['kind'], engine='numba', onthefly=True,\n",
    "              dtype='float64')\n",
    "dottest(Rop, par['nhx']*par['nt'], par['npx']*par['nt'],\n",
    "        complexflag=0)\n",
    "\n",
    "ynb = Rop * x.flatten()\n",
    "Rop1 = Rop.H\n",
    "xadjnb = Rop1 * y.flatten()\n",
    "\n",
    "%timeit -n 10 Rop * x.flatten()\n",
    "%timeit -n 10 Rop1 * y.flatten()"
   ]
  },
  {
   "cell_type": "code",
   "execution_count": 15,
   "metadata": {},
   "outputs": [
    {
     "name": "stdout",
     "output_type": "stream",
     "text": [
      "0.0\n",
      "4.932377424477932e-15\n"
     ]
    }
   ],
   "source": [
    "print(np.linalg.norm(y-ynb))\n",
    "print(np.linalg.norm(xadj-xadjnb))"
   ]
  },
  {
   "cell_type": "markdown",
   "metadata": {},
   "source": [
    "## Slant stack 3d"
   ]
  },
  {
   "cell_type": "markdown",
   "metadata": {},
   "source": [
    "Initialization"
   ]
  },
  {
   "cell_type": "code",
   "execution_count": 16,
   "metadata": {},
   "outputs": [
    {
     "name": "stdout",
     "output_type": "stream",
     "text": [
      "212 ms ± 921 µs per loop (mean ± std. dev. of 7 runs, 3 loops each)\n",
      "109 ms ± 5.14 ms per loop (mean ± std. dev. of 7 runs, 3 loops each)\n"
     ]
    }
   ],
   "source": [
    "dt, dh = 0.005, 1\n",
    "t = np.arange(par['nt']) * dt \n",
    "hx = np.arange(par['nhx']) * dh\n",
    "hy = np.arange(par['nhy']) * dh\n",
    "px = np.linspace(0, par['pxmax'], par['npx'])\n",
    "py = np.linspace(0, par['pxmax'], par['npy'])\n",
    "x = np.zeros((par['npy'], par['npx'], par['nt']))\n",
    "x[2, 2, par['nt']//2] = 1\n",
    " \n",
    "# numpy\n",
    "%timeit -n 3  Radon3D(t, hy, hx, py, px, centeredh=par['centeredh'], interp=False, kind=par['kind'], dtype='float64')\n",
    "# numba\n",
    "Radon3D(t, hy, hx, py, px, centeredh=par['centeredh'], interp=False, \n",
    "        kind=par['kind'], engine='numba', dtype='float64')\n",
    "%timeit -n 3  Radon3D(t, hy, hx, py, px, centeredh=par['centeredh'], interp=False, kind=par['kind'], engine='numba', dtype='float64')"
   ]
  },
  {
   "cell_type": "markdown",
   "metadata": {},
   "source": [
    "Numpy vs numba with pre-computed table"
   ]
  },
  {
   "cell_type": "code",
   "execution_count": 18,
   "metadata": {},
   "outputs": [
    {
     "name": "stdout",
     "output_type": "stream",
     "text": [
      "238 ms ± 491 µs per loop (mean ± std. dev. of 7 runs, 10 loops each)\n",
      "240 ms ± 267 µs per loop (mean ± std. dev. of 7 runs, 10 loops each)\n"
     ]
    }
   ],
   "source": [
    "Rop = Radon3D(t, hy, hx, py, px, centeredh=par['centeredh'],\n",
    "              interp=False, kind=par['kind'],\n",
    "              dtype='float64')\n",
    "dottest(Rop, par['nhy']*par['nhx']*par['nt'], par['npy']*par['npx']*par['nt'],\n",
    "        complexflag=0)\n",
    "\n",
    "y = Rop * x.flatten()\n",
    "Rop1 = Rop.H\n",
    "xadj = Rop1 * y.flatten()\n",
    "\n",
    "%timeit -n 10 Rop * x.flatten()\n",
    "%timeit -n 10 Rop1 * y.flatten()"
   ]
  },
  {
   "cell_type": "code",
   "execution_count": 19,
   "metadata": {},
   "outputs": [
    {
     "name": "stdout",
     "output_type": "stream",
     "text": [
      "2.42 ms ± 21.2 µs per loop (mean ± std. dev. of 7 runs, 10 loops each)\n",
      "The slowest run took 5.10 times longer than the fastest. This could mean that an intermediate result is being cached.\n",
      "796 µs ± 447 µs per loop (mean ± std. dev. of 7 runs, 10 loops each)\n"
     ]
    }
   ],
   "source": [
    "Rop = Radon3D(t, hy, hx, py, px, centeredh=par['centeredh'],\n",
    "              interp=False, kind=par['kind'], engine='numba',\n",
    "              dtype='float64')\n",
    "dottest(Rop, par['nhy']*par['nhx']*par['nt'], par['npy']*par['npx']*par['nt'],\n",
    "        complexflag=0)\n",
    "\n",
    "ynb = Rop * x.flatten()\n",
    "Rop1 = Rop.H\n",
    "xadjnb = Rop1 * y.flatten()\n",
    "\n",
    "%timeit -n 10 Rop * x.flatten()\n",
    "%timeit -n 10 Rop1 * y.flatten()"
   ]
  },
  {
   "cell_type": "code",
   "execution_count": 20,
   "metadata": {},
   "outputs": [
    {
     "name": "stdout",
     "output_type": "stream",
     "text": [
      "0.0\n",
      "0.0\n"
     ]
    }
   ],
   "source": [
    "print(np.linalg.norm(y-ynb))\n",
    "print(np.linalg.norm(xadj-xadjnb))"
   ]
  },
  {
   "cell_type": "code",
   "execution_count": 21,
   "metadata": {},
   "outputs": [
    {
     "name": "stdout",
     "output_type": "stream",
     "text": [
      "401 ms ± 348 µs per loop (mean ± std. dev. of 7 runs, 10 loops each)\n",
      "422 ms ± 355 µs per loop (mean ± std. dev. of 7 runs, 10 loops each)\n"
     ]
    }
   ],
   "source": [
    "Rop = Radon3D(t, hy, hx, py, px, centeredh=par['centeredh'],\n",
    "              interp=True, kind=par['kind'],\n",
    "              dtype='float64')\n",
    "dottest(Rop, par['nhy']*par['nhx']*par['nt'], par['npy']*par['npx']*par['nt'],\n",
    "        complexflag=0)\n",
    "\n",
    "y = Rop * x.flatten()\n",
    "Rop1 = Rop.H\n",
    "xadj = Rop1 * y.flatten()\n",
    "\n",
    "%timeit -n 10 Rop * x.flatten()\n",
    "%timeit -n 10 Rop1 * y.flatten()"
   ]
  },
  {
   "cell_type": "code",
   "execution_count": 22,
   "metadata": {},
   "outputs": [
    {
     "name": "stdout",
     "output_type": "stream",
     "text": [
      "3.4 ms ± 17.6 µs per loop (mean ± std. dev. of 7 runs, 10 loops each)\n",
      "393 µs ± 35.8 µs per loop (mean ± std. dev. of 7 runs, 10 loops each)\n"
     ]
    }
   ],
   "source": [
    "Rop = Radon3D(t, hy, hx, py, px, centeredh=par['centeredh'],\n",
    "              interp=True, kind=par['kind'], engine='numba',\n",
    "              dtype='float64')\n",
    "dottest(Rop, par['nhy']*par['nhx']*par['nt'], par['npy']*par['npx']*par['nt'],\n",
    "        complexflag=0)\n",
    "\n",
    "ynb = Rop * x.flatten()\n",
    "Rop1 = Rop.H\n",
    "xadjnb = Rop1 * y.flatten()\n",
    "\n",
    "%timeit -n 10 Rop * x.flatten()\n",
    "%timeit -n 10 Rop1 * y.flatten()"
   ]
  },
  {
   "cell_type": "code",
   "execution_count": 23,
   "metadata": {},
   "outputs": [
    {
     "name": "stdout",
     "output_type": "stream",
     "text": [
      "0.0\n",
      "4.146737221823692e-13\n"
     ]
    }
   ],
   "source": [
    "print(np.linalg.norm(y-ynb))\n",
    "print(np.linalg.norm(xadj-xadjnb))"
   ]
  },
  {
   "cell_type": "markdown",
   "metadata": {},
   "source": [
    "Numpy vs numba with on-the-fly computation"
   ]
  },
  {
   "cell_type": "code",
   "execution_count": 24,
   "metadata": {},
   "outputs": [
    {
     "name": "stdout",
     "output_type": "stream",
     "text": [
      "462 ms ± 251 µs per loop (mean ± std. dev. of 7 runs, 10 loops each)\n",
      "478 ms ± 656 µs per loop (mean ± std. dev. of 7 runs, 10 loops each)\n"
     ]
    }
   ],
   "source": [
    "Rop = Radon3D(t, hy, hx, py, px, centeredh=par['centeredh'],\n",
    "              interp=False, kind=par['kind'], onthefly=True,\n",
    "              dtype='float64')\n",
    "dottest(Rop, par['nhy']*par['nhx']*par['nt'], par['npy']*par['npx']*par['nt'],\n",
    "        complexflag=0)\n",
    "\n",
    "y = Rop * x.flatten()\n",
    "Rop1 = Rop.H\n",
    "xadj = Rop1 * y.flatten()\n",
    "\n",
    "%timeit -n 10 Rop * x.flatten()\n",
    "%timeit -n 10 Rop1 * y.flatten()"
   ]
  },
  {
   "cell_type": "code",
   "execution_count": 25,
   "metadata": {},
   "outputs": [
    {
     "name": "stdout",
     "output_type": "stream",
     "text": [
      "103 ms ± 2.24 ms per loop (mean ± std. dev. of 7 runs, 10 loops each)\n",
      "419 ms ± 13.2 ms per loop (mean ± std. dev. of 7 runs, 10 loops each)\n"
     ]
    }
   ],
   "source": [
    "Rop = Radon3D(t, hy, hx, py, px, centeredh=par['centeredh'],\n",
    "              interp=False, kind=par['kind'], engine='numba', onthefly=True,\n",
    "              dtype='float64')\n",
    "dottest(Rop, par['nhy']*par['nhx']*par['nt'], par['npy']*par['npx']*par['nt'],\n",
    "        complexflag=0)\n",
    "\n",
    "ynb = Rop * x.flatten()\n",
    "Rop1 = Rop.H\n",
    "xadjnb = Rop1 * y.flatten()\n",
    "\n",
    "%timeit -n 10 Rop * x.flatten()\n",
    "%timeit -n 10 Rop1 * y.flatten()"
   ]
  },
  {
   "cell_type": "code",
   "execution_count": 26,
   "metadata": {},
   "outputs": [
    {
     "name": "stdout",
     "output_type": "stream",
     "text": [
      "0.0\n",
      "0.0\n"
     ]
    }
   ],
   "source": [
    "print(np.linalg.norm(y-ynb))\n",
    "print(np.linalg.norm(xadj-xadjnb))"
   ]
  },
  {
   "cell_type": "code",
   "execution_count": 27,
   "metadata": {},
   "outputs": [
    {
     "name": "stdout",
     "output_type": "stream",
     "text": [
      "651 ms ± 557 µs per loop (mean ± std. dev. of 7 runs, 10 loops each)\n",
      "694 ms ± 11.7 ms per loop (mean ± std. dev. of 7 runs, 10 loops each)\n"
     ]
    }
   ],
   "source": [
    "Rop = Radon3D(t, hy, hx, py, px, centeredh=par['centeredh'],\n",
    "              interp=True, kind=par['kind'], onthefly=True,\n",
    "              dtype='float64')\n",
    "dottest(Rop, par['nhy']*par['nhx']*par['nt'], par['npy']*par['npx']*par['nt'],\n",
    "        complexflag=0)\n",
    "\n",
    "y = Rop * x.flatten()\n",
    "Rop1 = Rop.H\n",
    "xadj = Rop1 * y.flatten()\n",
    "\n",
    "%timeit -n 10 Rop * x.flatten()\n",
    "%timeit -n 10 Rop1 * y.flatten()"
   ]
  },
  {
   "cell_type": "code",
   "execution_count": 28,
   "metadata": {},
   "outputs": [
    {
     "name": "stdout",
     "output_type": "stream",
     "text": [
      "115 ms ± 10.9 ms per loop (mean ± std. dev. of 7 runs, 10 loops each)\n",
      "217 ms ± 24.8 ms per loop (mean ± std. dev. of 7 runs, 10 loops each)\n"
     ]
    }
   ],
   "source": [
    "Rop = Radon3D(t, hy, hx, py, px, centeredh=par['centeredh'],\n",
    "              interp=True, kind=par['kind'], engine='numba', onthefly=True,\n",
    "              dtype='float64')\n",
    "dottest(Rop, par['nhy']*par['nhx']*par['nt'], par['npy']*par['npx']*par['nt'],\n",
    "        complexflag=0)\n",
    "\n",
    "ynb = Rop * x.flatten()\n",
    "Rop1 = Rop.H\n",
    "xadjnb = Rop1 * y.flatten()\n",
    "\n",
    "%timeit -n 10 Rop * x.flatten()\n",
    "%timeit -n 10 Rop1 * y.flatten()"
   ]
  },
  {
   "cell_type": "code",
   "execution_count": 29,
   "metadata": {},
   "outputs": [
    {
     "name": "stdout",
     "output_type": "stream",
     "text": [
      "0.0\n",
      "3.9911132851821105e-13\n"
     ]
    }
   ],
   "source": [
    "print(np.linalg.norm(y-ynb))\n",
    "print(np.linalg.norm(xadj-xadjnb))"
   ]
  },
  {
   "cell_type": "markdown",
   "metadata": {},
   "source": [
    "## 2. Vectorize ufunc "
   ]
  },
  {
   "cell_type": "markdown",
   "metadata": {},
   "source": [
    "Let's investigate if vectorizing ufunc like *_hyperbolic* bring any improvement"
   ]
  },
  {
   "cell_type": "code",
   "execution_count": 3,
   "metadata": {},
   "outputs": [
    {
     "name": "stdout",
     "output_type": "stream",
     "text": [
      "[ 0  1  4  9 16 25 36 49 64 81]\n",
      "[ 0  1  4  9 16 25 36 49 64 81]\n"
     ]
    }
   ],
   "source": [
    "import numpy as np\n",
    "\n",
    "from numba import vectorize, float64\n",
    "\n",
    "@jit(nopython=True, nogil=True)\n",
    "def fsquare(x):\n",
    "    return x**2\n",
    "@jit(nopython=True, nogil=True)\n",
    "def passfunction(a, f, out):\n",
    "    out = f(a)\n",
    "    return out\n",
    "\n",
    "arr = np.arange(10)\n",
    "out = np.zeros(10)\n",
    "print(fsquare(arr))\n",
    "print(passfunction(arr, fdouble, out))"
   ]
  },
  {
   "cell_type": "code",
   "execution_count": 5,
   "metadata": {},
   "outputs": [
    {
     "name": "stdout",
     "output_type": "stream",
     "text": [
      "21.6 µs ± 5.3 µs per loop (mean ± std. dev. of 7 runs, 10 loops each)\n",
      "The slowest run took 5.05 times longer than the fastest. This could mean that an intermediate result is being cached.\n",
      "27.1 µs ± 23 µs per loop (mean ± std. dev. of 7 runs, 10 loops each)\n",
      "The slowest run took 910.32 times longer than the fastest. This could mean that an intermediate result is being cached.\n",
      "4.84 ms ± 8.02 ms per loop (mean ± std. dev. of 7 runs, 10 loops each)\n"
     ]
    }
   ],
   "source": [
    "from numba import vectorize, guvectorize, float64, int64, float32, int32\n",
    "\n",
    "def _hyperbolic(x, t, px):\n",
    "    return np.sqrt(t**2 + (x/px)**2)\n",
    "\n",
    "@vectorize([float64(float64, float64, float64),\n",
    "            float64(float64, int64, float64),\n",
    "            float64(float64, int32, float64),\n",
    "            float32(float32, float32, float32),\n",
    "            float32(float32, int32, float32)], \n",
    "            nopython=True, target='cpu')\n",
    "def _hyperbolic_numba(x, t, px):\n",
    "    return np.sqrt(t**2 + (x/px)**2)\n",
    "\n",
    "@vectorize([float64(float64, float64, float64),\n",
    "            float64(float64, int64, float64),\n",
    "            float64(float64, int32, float64),\n",
    "            float32(float32, float32, float32),\n",
    "            float32(float32, int32, float32)], \n",
    "            nopython=True, target='parallel')\n",
    "def _hyperbolic_numba1(x, t, px):\n",
    "    return np.sqrt(t**2 + (x/px)**2)\n",
    "\n",
    "x=np.arange(1000)\n",
    "t0=10\n",
    "px=0.1\n",
    "\n",
    "%timeit -n 10 _hyperbolic(x, t0, px)\n",
    "%timeit -n 10 _hyperbolic_numba(x, t0, px)\n",
    "%timeit -n 10 _hyperbolic_numba1(x, t0, px)"
   ]
  },
  {
   "cell_type": "markdown",
   "metadata": {},
   "source": [
    "## 3. Guvectorize ufunc "
   ]
  },
  {
   "cell_type": "code",
   "execution_count": 32,
   "metadata": {},
   "outputs": [
    {
     "data": {
      "text/plain": [
       "array([3.2, 3.2, 3.2, 3.2, 3.2])"
      ]
     },
     "execution_count": 32,
     "metadata": {},
     "output_type": "execute_result"
    }
   ],
   "source": [
    "@guvectorize([(float64[:], float64, float64[:])], '(n),()->(n)')\n",
    "def g(x, y, res):\n",
    "    for i in range(x.shape[0]):\n",
    "        res[i] = x[i] + y\n",
    "        \n",
    "a = np.ones(5, np.float64)\n",
    "g(a, 2.2)"
   ]
  },
  {
   "cell_type": "markdown",
   "metadata": {},
   "source": [
    "## 4. Kernels"
   ]
  },
  {
   "cell_type": "code",
   "execution_count": 12,
   "metadata": {},
   "outputs": [
    {
     "name": "stdout",
     "output_type": "stream",
     "text": [
      "[[ 0  1  2  3]\n",
      " [ 4  5  6  7]\n",
      " [ 8  9 10 11]\n",
      " [12 13 14 15]]\n",
      "[[0 1 1 0]\n",
      " [0 1 1 0]\n",
      " [0 1 1 0]\n",
      " [0 1 1 0]]\n",
      "[[0. 0. 0. 0.]\n",
      " [0. 0. 0. 0.]\n",
      " [0. 0. 0. 0.]\n",
      " [0. 0. 0. 0.]]\n"
     ]
    }
   ],
   "source": [
    "def deriv(a):\n",
    "    a1 = np.zeros_like(a)\n",
    "    a1[:, 1:-1] = 0.5 * (a[:, 2:] - a[:, 0:-2])\n",
    "    return a1\n",
    "\n",
    "@stencil\n",
    "def _deriv1(a):\n",
    "    return 0.5 * (a[0, 1] - a[0, -1])\n",
    "\n",
    "@numba.guvectorize(\n",
    "    [(numba.float64[:, :], numba.float64[:, :])],\n",
    "    '(n, n) -> (n, n)', nopython=True, target='parallel')\n",
    "def deriv1(x, out):\n",
    "    out[:] = _deriv1(x)  \n",
    "\n",
    "n=4\n",
    "input_arr = np.arange(n*n).reshape(n, n)\n",
    "output_arr = np.full_like(input_arr, 0)\n",
    "\n",
    "print(input_arr)\n",
    "print(deriv(input_arr))\n",
    "print(deriv(input_arr) - deriv1(input_arr))"
   ]
  },
  {
   "cell_type": "code",
   "execution_count": 13,
   "metadata": {},
   "outputs": [
    {
     "name": "stdout",
     "output_type": "stream",
     "text": [
      "788 ms ± 133 ms per loop (mean ± std. dev. of 7 runs, 2 loops each)\n",
      "881 ms ± 155 ms per loop (mean ± std. dev. of 7 runs, 2 loops each)\n"
     ]
    }
   ],
   "source": [
    "n = 5000\n",
    "input_arr = np.arange(n*n).reshape(n, n)\n",
    "output_arr = np.full_like(input_arr, 0)\n",
    "\n",
    "%timeit -n 2 deriv(input_arr)\n",
    "%timeit -n 2 deriv1(input_arr)"
   ]
  },
  {
   "cell_type": "markdown",
   "metadata": {},
   "source": [
    "Let's make a first order derivative operator with stencils"
   ]
  },
  {
   "cell_type": "code",
   "execution_count": 84,
   "metadata": {},
   "outputs": [
    {
     "name": "stdout",
     "output_type": "stream",
     "text": [
      "[[ 0.   0.5  0.   0.   0.   0.   0.   0.   0.   0. ]\n",
      " [-0.5  0.   0.5  0.   0.   0.   0.   0.   0.   0. ]\n",
      " [ 0.  -0.5  0.   0.5  0.   0.   0.   0.   0.   0. ]\n",
      " [ 0.   0.  -0.5  0.   0.5  0.   0.   0.   0.   0. ]\n",
      " [ 0.   0.   0.  -0.5  0.   0.5  0.   0.   0.   0. ]\n",
      " [ 0.   0.   0.   0.  -0.5  0.   0.5  0.   0.   0. ]\n",
      " [ 0.   0.   0.   0.   0.  -0.5  0.   0.5  0.   0. ]\n",
      " [ 0.   0.   0.   0.   0.   0.  -0.5  0.   0.5  0. ]\n",
      " [ 0.   0.   0.   0.   0.   0.   0.  -0.5  0.   0.5]\n",
      " [ 0.   0.   0.   0.   0.   0.   0.   0.  -0.5  0. ]]\n",
      "[[ 0.  -0.5  0.   0.   0.   0.   0.   0.   0.   0. ]\n",
      " [ 0.5  0.  -0.5  0.   0.   0.   0.   0.   0.   0. ]\n",
      " [ 0.   0.5  0.  -0.5  0.   0.   0.   0.   0.   0. ]\n",
      " [ 0.   0.   0.5  0.  -0.5  0.   0.   0.   0.   0. ]\n",
      " [ 0.   0.   0.   0.5  0.  -0.5  0.   0.   0.   0. ]\n",
      " [ 0.   0.   0.   0.   0.5  0.  -0.5  0.   0.   0. ]\n",
      " [ 0.   0.   0.   0.   0.   0.5  0.  -0.5  0.   0. ]\n",
      " [ 0.   0.   0.   0.   0.   0.   0.5  0.  -0.5  0. ]\n",
      " [ 0.   0.   0.   0.   0.   0.   0.   0.5  0.  -0.5]\n",
      " [ 0.   0.   0.   0.   0.   0.   0.   0.   0.5  0. ]]\n"
     ]
    }
   ],
   "source": [
    "n=10\n",
    "D = 0.5*np.eye(n, n, 1) -0.5*np.eye(n, n, -1)\n",
    "x = np.ones(n)\n",
    "print(D)\n",
    "print(D.T)"
   ]
  },
  {
   "cell_type": "markdown",
   "metadata": {},
   "source": [
    "We start with pure numpy but here instead of doing like in real implementation we always try to do things that would fit stencil... it actually turns out that this implementation works as well (although stencils are not an option, they need to be implemented)"
   ]
  },
  {
   "cell_type": "code",
   "execution_count": 109,
   "metadata": {},
   "outputs": [],
   "source": [
    "class FirstDerivative1(LinearOperator):\n",
    "    def __init__(self, N, sampling=1., dims=None, dir=0, dtype='float64'):\n",
    "        self.N = N\n",
    "        self.sampling = sampling\n",
    "        self.shape = (self.N, self.N)\n",
    "        self.dims = dims if dims is not None else (self.N, )\n",
    "        self.dir = dir\n",
    "        self.dtype = np.dtype(dtype)\n",
    "        self.explicit = False\n",
    "\n",
    "    def _matvec(self, x):\n",
    "        x = x.reshape(self.dims)\n",
    "        y = np.zeros(self.dims, self.dtype)\n",
    "        y[1:-1] = (0.5*x[2:]-0.5*x[0:-2])/self.sampling\n",
    "        y[0] = 0.5*x[1] / self.sampling\n",
    "        y[-1] = -0.5*x[-2] / self.sampling\n",
    "        return y.ravel()\n",
    "\n",
    "    def _rmatvec(self, x):\n",
    "        x = x.reshape(self.dims)\n",
    "        y = np.zeros(self.dims, self.dtype)\n",
    "        y[1:-1] = (-0.5*x[2:]+0.5*x[0:-2])/self.sampling\n",
    "        y[0] = -0.5*x[1] / self.sampling\n",
    "        y[-1] = 0.5*x[-2] / self.sampling\n",
    "        return y.ravel()"
   ]
  },
  {
   "cell_type": "code",
   "execution_count": 211,
   "metadata": {},
   "outputs": [],
   "source": [
    "@stencil\n",
    "def _deriv1(a):\n",
    "    return 0.5*a[1] - 0.5*a[-1]\n",
    "\n",
    "@numba.guvectorize(\n",
    "    [(numba.float64[:], numba.float64[:])],\n",
    "    '(n) -> (n)', nopython=True, target='cpu')\n",
    "def deriv1(x, out):\n",
    "    out[:] = _deriv1(x)  \n",
    "    out[0] = 0.5*x[1]\n",
    "    out[-1] = -0.5*x[-2]\n",
    "        \n",
    "@stencil\n",
    "def _rderiv1(a):\n",
    "    return -0.5*a[1] + 0.5*a[-1]\n",
    "\n",
    "@numba.guvectorize(\n",
    "    [(numba.float64[:], numba.float64[:])],\n",
    "    '(n) -> (n)', nopython=True, target='cpu')\n",
    "def rderiv1(x, out):\n",
    "    out[:] = _rderiv1(x) \n",
    "    out[0] = -0.5*x[1]\n",
    "    out[-1] = 0.5*x[-2]\n",
    "\n",
    "class FirstDerivative_numba(LinearOperator):\n",
    "    def __init__(self, N, sampling=1., dims=None, dir=0, dtype='float64'):\n",
    "        self.N = N\n",
    "        self.sampling = sampling\n",
    "        self.shape = (self.N, self.N)\n",
    "        self.dims = dims if dims is not None else (self.N, )\n",
    "        self.dir = dir\n",
    "        self.dtype = np.dtype(dtype)\n",
    "        self.explicit = False\n",
    "\n",
    "    def _matvec(self, x):\n",
    "        x = x.reshape(self.dims)\n",
    "        y = deriv1(x)\n",
    "        print(y.shape)\n",
    "        return y.ravel()\n",
    "\n",
    "    def _rmatvec(self, x):\n",
    "        x = x.reshape(self.dims)\n",
    "        y = rderiv1(x)\n",
    "        return y.ravel()"
   ]
  },
  {
   "cell_type": "code",
   "execution_count": 212,
   "metadata": {},
   "outputs": [
    {
     "name": "stdout",
     "output_type": "stream",
     "text": [
      "(3000,)\n"
     ]
    },
    {
     "data": {
      "text/plain": [
       "True"
      ]
     },
     "execution_count": 212,
     "metadata": {},
     "output_type": "execute_result"
    }
   ],
   "source": [
    "from scipy.sparse import csc_matrix\n",
    "\n",
    "n = 3000\n",
    "D = 0.5*np.eye(n, n, 1) -0.5*np.eye(n, n, -1)\n",
    "D = csc_matrix(D)\n",
    "\n",
    "Dop = FirstDerivative(n, edge=True)\n",
    "Dop1 = FirstDerivative1(n)\n",
    "Dop1_numba = FirstDerivative_numba(n)\n",
    "Dop2 = MatrixMult(D)\n",
    "\n",
    "x = np.arange(n)\n",
    "dottest(Dop, n, n)\n",
    "dottest(Dop1, n, n)\n",
    "dottest(Dop1_numba, n, n)\n",
    "dottest(Dop2, n, n)"
   ]
  },
  {
   "cell_type": "code",
   "execution_count": 213,
   "metadata": {},
   "outputs": [
    {
     "name": "stdout",
     "output_type": "stream",
     "text": [
      "400 µs ± 44.1 µs per loop (mean ± std. dev. of 4 runs, 10 loops each)\n",
      "360 µs ± 25.6 µs per loop (mean ± std. dev. of 4 runs, 10 loops each)\n",
      "(3000,)\n",
      "(3000,)\n",
      "(3000,)\n",
      "(3000,)\n",
      "(3000,)\n",
      "(3000,)\n",
      "(3000,)\n",
      "(3000,)\n",
      "(3000,)\n",
      "(3000,)\n",
      "(3000,)\n",
      "(3000,)\n",
      "(3000,)\n",
      "(3000,)\n",
      "(3000,)\n",
      "(3000,)\n",
      "(3000,)\n",
      "(3000,)\n",
      "(3000,)\n",
      "(3000,)\n",
      "(3000,)\n",
      "(3000,)\n",
      "(3000,)\n",
      "(3000,)\n",
      "(3000,)\n",
      "(3000,)\n",
      "(3000,)\n",
      "(3000,)\n",
      "(3000,)\n",
      "(3000,)\n",
      "(3000,)\n",
      "(3000,)\n",
      "(3000,)\n",
      "(3000,)\n",
      "(3000,)\n",
      "(3000,)\n",
      "(3000,)\n",
      "(3000,)\n",
      "(3000,)\n",
      "(3000,)\n",
      "630 µs ± 21.2 µs per loop (mean ± std. dev. of 4 runs, 10 loops each)\n",
      "613 µs ± 114 µs per loop (mean ± std. dev. of 4 runs, 10 loops each)\n"
     ]
    }
   ],
   "source": [
    "%timeit -n 10 -r 4 dottest(Dop, n, n)\n",
    "%timeit -n 10 -r 4 dottest(Dop1, n, n)\n",
    "%timeit -n 10 -r 4 dottest(Dop1_numba, n, n)\n",
    "%timeit -n 10 -r 4 dottest(Dop2, n, n)"
   ]
  },
  {
   "cell_type": "code",
   "execution_count": 214,
   "metadata": {},
   "outputs": [
    {
     "ename": "ValueError",
     "evalue": "dimension mismatch",
     "output_type": "error",
     "traceback": [
      "\u001b[0;31m---------------------------------------------------------------------------\u001b[0m",
      "\u001b[0;31mValueError\u001b[0m                                Traceback (most recent call last)",
      "\u001b[0;32m<ipython-input-214-32781eb8da02>\u001b[0m in \u001b[0;36m<module>\u001b[0;34m\u001b[0m\n\u001b[1;32m     13\u001b[0m \u001b[0mdottest\u001b[0m\u001b[0;34m(\u001b[0m\u001b[0mDop\u001b[0m\u001b[0;34m,\u001b[0m \u001b[0mn\u001b[0m\u001b[0;34m*\u001b[0m\u001b[0mm\u001b[0m\u001b[0;34m*\u001b[0m\u001b[0mp\u001b[0m\u001b[0;34m,\u001b[0m \u001b[0mn\u001b[0m\u001b[0;34m*\u001b[0m\u001b[0mm\u001b[0m\u001b[0;34m*\u001b[0m\u001b[0mp\u001b[0m\u001b[0;34m)\u001b[0m\u001b[0;34m\u001b[0m\u001b[0;34m\u001b[0m\u001b[0m\n\u001b[1;32m     14\u001b[0m \u001b[0mdottest\u001b[0m\u001b[0;34m(\u001b[0m\u001b[0mDop1\u001b[0m\u001b[0;34m,\u001b[0m \u001b[0mn\u001b[0m\u001b[0;34m*\u001b[0m\u001b[0mm\u001b[0m\u001b[0;34m*\u001b[0m\u001b[0mp\u001b[0m\u001b[0;34m,\u001b[0m \u001b[0mn\u001b[0m\u001b[0;34m*\u001b[0m\u001b[0mm\u001b[0m\u001b[0;34m*\u001b[0m\u001b[0mp\u001b[0m\u001b[0;34m)\u001b[0m\u001b[0;34m\u001b[0m\u001b[0;34m\u001b[0m\u001b[0m\n\u001b[0;32m---> 15\u001b[0;31m \u001b[0mdottest\u001b[0m\u001b[0;34m(\u001b[0m\u001b[0mDop1_numba\u001b[0m\u001b[0;34m,\u001b[0m \u001b[0mn\u001b[0m\u001b[0;34m*\u001b[0m\u001b[0mm\u001b[0m\u001b[0;34m*\u001b[0m\u001b[0mp\u001b[0m\u001b[0;34m,\u001b[0m \u001b[0mn\u001b[0m\u001b[0;34m*\u001b[0m\u001b[0mm\u001b[0m\u001b[0;34m*\u001b[0m\u001b[0mp\u001b[0m\u001b[0;34m)\u001b[0m\u001b[0;34m\u001b[0m\u001b[0;34m\u001b[0m\u001b[0m\n\u001b[0m\u001b[1;32m     16\u001b[0m \u001b[0mdottest\u001b[0m\u001b[0;34m(\u001b[0m\u001b[0mDop2\u001b[0m\u001b[0;34m,\u001b[0m \u001b[0mn\u001b[0m\u001b[0;34m*\u001b[0m\u001b[0mm\u001b[0m\u001b[0;34m*\u001b[0m\u001b[0mp\u001b[0m\u001b[0;34m,\u001b[0m \u001b[0mn\u001b[0m\u001b[0;34m*\u001b[0m\u001b[0mm\u001b[0m\u001b[0;34m*\u001b[0m\u001b[0mp\u001b[0m\u001b[0;34m)\u001b[0m\u001b[0;34m\u001b[0m\u001b[0;34m\u001b[0m\u001b[0m\n",
      "\u001b[0;32m~/Desktop/Statoil/2018/Project/Pylops_Forkedmrava/pylops/pylops/utils/dottest.py\u001b[0m in \u001b[0;36mdottest\u001b[0;34m(Op, nr, nc, tol, complexflag, raiseerror, verb)\u001b[0m\n\u001b[1;32m     54\u001b[0m         \u001b[0mv\u001b[0m \u001b[0;34m=\u001b[0m \u001b[0mnp\u001b[0m\u001b[0;34m.\u001b[0m\u001b[0mrandom\u001b[0m\u001b[0;34m.\u001b[0m\u001b[0mrandn\u001b[0m\u001b[0;34m(\u001b[0m\u001b[0mnr\u001b[0m\u001b[0;34m)\u001b[0m\u001b[0;34m+\u001b[0m\u001b[0;36m1j\u001b[0m\u001b[0;34m*\u001b[0m\u001b[0mnp\u001b[0m\u001b[0;34m.\u001b[0m\u001b[0mrandom\u001b[0m\u001b[0;34m.\u001b[0m\u001b[0mrandn\u001b[0m\u001b[0;34m(\u001b[0m\u001b[0mnr\u001b[0m\u001b[0;34m)\u001b[0m\u001b[0;34m\u001b[0m\u001b[0;34m\u001b[0m\u001b[0m\n\u001b[1;32m     55\u001b[0m \u001b[0;34m\u001b[0m\u001b[0m\n\u001b[0;32m---> 56\u001b[0;31m     \u001b[0my\u001b[0m \u001b[0;34m=\u001b[0m \u001b[0mOp\u001b[0m\u001b[0;34m.\u001b[0m\u001b[0mmatvec\u001b[0m\u001b[0;34m(\u001b[0m\u001b[0mu\u001b[0m\u001b[0;34m)\u001b[0m   \u001b[0;31m# Op * u\u001b[0m\u001b[0;34m\u001b[0m\u001b[0;34m\u001b[0m\u001b[0m\n\u001b[0m\u001b[1;32m     57\u001b[0m     \u001b[0mx\u001b[0m \u001b[0;34m=\u001b[0m \u001b[0mOp\u001b[0m\u001b[0;34m.\u001b[0m\u001b[0mrmatvec\u001b[0m\u001b[0;34m(\u001b[0m\u001b[0mv\u001b[0m\u001b[0;34m)\u001b[0m  \u001b[0;31m# Op'* v\u001b[0m\u001b[0;34m\u001b[0m\u001b[0;34m\u001b[0m\u001b[0m\n\u001b[1;32m     58\u001b[0m \u001b[0;34m\u001b[0m\u001b[0m\n",
      "\u001b[0;32m~/anaconda/envs/pylops/lib/python3.7/site-packages/scipy/sparse/linalg/interface.py\u001b[0m in \u001b[0;36mmatvec\u001b[0;34m(self, x)\u001b[0m\n\u001b[1;32m    218\u001b[0m \u001b[0;34m\u001b[0m\u001b[0m\n\u001b[1;32m    219\u001b[0m         \u001b[0;32mif\u001b[0m \u001b[0mx\u001b[0m\u001b[0;34m.\u001b[0m\u001b[0mshape\u001b[0m \u001b[0;34m!=\u001b[0m \u001b[0;34m(\u001b[0m\u001b[0mN\u001b[0m\u001b[0;34m,\u001b[0m\u001b[0;34m)\u001b[0m \u001b[0;32mand\u001b[0m \u001b[0mx\u001b[0m\u001b[0;34m.\u001b[0m\u001b[0mshape\u001b[0m \u001b[0;34m!=\u001b[0m \u001b[0;34m(\u001b[0m\u001b[0mN\u001b[0m\u001b[0;34m,\u001b[0m\u001b[0;36m1\u001b[0m\u001b[0;34m)\u001b[0m\u001b[0;34m:\u001b[0m\u001b[0;34m\u001b[0m\u001b[0;34m\u001b[0m\u001b[0m\n\u001b[0;32m--> 220\u001b[0;31m             \u001b[0;32mraise\u001b[0m \u001b[0mValueError\u001b[0m\u001b[0;34m(\u001b[0m\u001b[0;34m'dimension mismatch'\u001b[0m\u001b[0;34m)\u001b[0m\u001b[0;34m\u001b[0m\u001b[0;34m\u001b[0m\u001b[0m\n\u001b[0m\u001b[1;32m    221\u001b[0m \u001b[0;34m\u001b[0m\u001b[0m\n\u001b[1;32m    222\u001b[0m         \u001b[0my\u001b[0m \u001b[0;34m=\u001b[0m \u001b[0mself\u001b[0m\u001b[0;34m.\u001b[0m\u001b[0m_matvec\u001b[0m\u001b[0;34m(\u001b[0m\u001b[0mx\u001b[0m\u001b[0;34m)\u001b[0m\u001b[0;34m\u001b[0m\u001b[0;34m\u001b[0m\u001b[0m\n",
      "\u001b[0;31mValueError\u001b[0m: dimension mismatch"
     ]
    }
   ],
   "source": [
    "from scipy.sparse import csc_matrix\n",
    "\n",
    "n, m, p = 1000, 100, 10\n",
    "D = 0.5*np.eye(n, n, 1) -0.5*np.eye(n, n, -1)\n",
    "D = csc_matrix(D)\n",
    "\n",
    "Dop = FirstDerivative(n*m*p, dims=(n, m, p), dir=0, edge=True)\n",
    "Dop1 = FirstDerivative1(n*m*p, dims=(n, m, p), dir=0)\n",
    "Dop1_numba = FirstDerivative_numba(n, dims=(n, m, p), dir=0)\n",
    "Dop2 = MatrixMult(D, dims=(m, p))\n",
    "\n",
    "x = np.ones((n, m, p))\n",
    "dottest(Dop, n*m*p, n*m*p)\n",
    "dottest(Dop1, n*m*p, n*m*p)\n",
    "dottest(Dop1_numba, n*m*p, n*m*p)\n",
    "dottest(Dop2, n*m*p, n*m*p)"
   ]
  },
  {
   "cell_type": "code",
   "execution_count": 216,
   "metadata": {},
   "outputs": [
    {
     "data": {
      "text/plain": [
       "array([-0.5,  0. ,  0. , ...,  0. ,  0. ,  0.5])"
      ]
     },
     "execution_count": 216,
     "metadata": {},
     "output_type": "execute_result"
    }
   ],
   "source": [
    "Dop1_numba._rmatvec(x.ravel())"
   ]
  },
  {
   "cell_type": "code",
   "execution_count": 138,
   "metadata": {},
   "outputs": [
    {
     "name": "stdout",
     "output_type": "stream",
     "text": [
      "143 ms ± 6 ms per loop (mean ± std. dev. of 4 runs, 10 loops each)\n",
      "136 ms ± 3.11 ms per loop (mean ± std. dev. of 4 runs, 10 loops each)\n",
      "105 ms ± 2.33 ms per loop (mean ± std. dev. of 4 runs, 10 loops each)\n"
     ]
    }
   ],
   "source": [
    "%timeit -n 10 -r 4 dottest(Dop, n*m*p, n*m*p)\n",
    "%timeit -n 10 -r 4 dottest(Dop1, n*m*p, n*m*p)\n",
    "%timeit -n 10 -r 4 dottest(Dop2, n*m*p, n*m*p)"
   ]
  },
  {
   "cell_type": "code",
   "execution_count": null,
   "metadata": {},
   "outputs": [],
   "source": []
  }
 ],
 "metadata": {
  "kernelspec": {
   "display_name": "Python 3",
   "language": "python",
   "name": "python3"
  },
  "language_info": {
   "codemirror_mode": {
    "name": "ipython",
    "version": 3
   },
   "file_extension": ".py",
   "mimetype": "text/x-python",
   "name": "python",
   "nbconvert_exporter": "python",
   "pygments_lexer": "ipython3",
   "version": "3.7.2"
  },
  "toc": {
   "base_numbering": 1,
   "nav_menu": {},
   "number_sections": true,
   "sideBar": true,
   "skip_h1_title": false,
   "title_cell": "Table of Contents",
   "title_sidebar": "Contents",
   "toc_cell": false,
   "toc_position": {},
   "toc_section_display": true,
   "toc_window_display": false
  }
 },
 "nbformat": 4,
 "nbformat_minor": 1
}
