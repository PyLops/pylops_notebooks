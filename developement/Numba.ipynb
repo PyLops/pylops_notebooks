{
 "cells": [
  {
   "cell_type": "markdown",
   "metadata": {},
   "source": [
    "# Pylops - numba"
   ]
  },
  {
   "cell_type": "markdown",
   "metadata": {},
   "source": [
    "### Author: M.Ravasi"
   ]
  },
  {
   "cell_type": "markdown",
   "metadata": {},
   "source": [
    "In this notebook I will investigate the benifit of adding numba to various operators"
   ]
  },
  {
   "cell_type": "code",
   "execution_count": 1,
   "metadata": {},
   "outputs": [],
   "source": [
    "%load_ext autoreload\n",
    "%autoreload 2\n",
    "%matplotlib inline\n",
    "\n",
    "import warnings\n",
    "warnings.filterwarnings('ignore')\n",
    "\n",
    "import numpy as np\n",
    "import matplotlib.pyplot as plt\n",
    "import scipy as sp\n",
    "\n",
    "import pylops\n",
    "\n",
    "from scipy.sparse import csr_matrix, vstack, rand\n",
    "from scipy.linalg import lstsq, solve, pinv\n",
    "from scipy.sparse.linalg import LinearOperator as spLinearOperator\n",
    "from scipy.sparse.linalg import LinearOperator, cg, lsqr\n",
    "\n",
    "from pylops.utils                      import dottest\n",
    "from pylops.utils.wavelets             import *\n",
    "from pylops.utils.seismicevents        import *\n",
    "from pylops.basicoperators             import *\n",
    "from pylops.signalprocessing             import *\n",
    "from pylops.waveeqprocessing.mdd       import *\n",
    "from pylops.optimization.leastsquares  import *\n",
    "from pylops.optimization.sparsity  import IRLS as IRLSpylops\n",
    "from pylops.optimization.sparsity  import FISTA\n",
    "\n",
    "from numba import jit"
   ]
  },
  {
   "cell_type": "markdown",
   "metadata": {},
   "source": [
    "## Slant stack"
   ]
  },
  {
   "cell_type": "code",
   "execution_count": 12,
   "metadata": {},
   "outputs": [
    {
     "name": "stdout",
     "output_type": "stream",
     "text": [
      "7.54 ms ± 660 µs per loop (mean ± std. dev. of 7 runs, 10 loops each)\n",
      "9.91 ms ± 1.28 ms per loop (mean ± std. dev. of 7 runs, 10 loops each)\n"
     ]
    }
   ],
   "source": [
    "par = {'nt': 11, 'nhx': 21, 'ny': 10, 'npx':31, 'pxmax':1e-2,\n",
    "       'centeredh': True, 'kind': 'linear',\n",
    "       'interp':True, 'onthefly':True} # linear, centered, linear interp\n",
    "\n",
    "dt, dh = 0.005, 1\n",
    "t = np.arange(par['nt']) * dt\n",
    "h = np.arange(par['nhx']) * dh\n",
    "px = np.linspace(0, par['pxmax'], par['npx'])\n",
    "x = np.zeros((par['npx'], par['nt']))\n",
    "x[2, par['nt']//2] = 1\n",
    "Rop = Radon2D(t, h, px, centeredh=par['centeredh'],\n",
    "              interp=False, kind=par['kind'],\n",
    "              dtype='float64')\n",
    "dottest(Rop, par['nhx']*par['nt'], par['npx']*par['nt'],\n",
    "        complexflag=0)\n",
    " \n",
    "y = Rop * x.flatten()\n",
    "xadj = Rop.H * y.flatten()\n",
    "\n",
    "%timeit -n 10 Rop * x.flatten()\n",
    "%timeit -n 10 Rop.H * y.flatten()"
   ]
  },
  {
   "cell_type": "code",
   "execution_count": 13,
   "metadata": {},
   "outputs": [
    {
     "name": "stdout",
     "output_type": "stream",
     "text": [
      "70.5 µs ± 12.2 µs per loop (mean ± std. dev. of 7 runs, 10 loops each)\n",
      "101 µs ± 24.3 µs per loop (mean ± std. dev. of 7 runs, 10 loops each)\n"
     ]
    }
   ],
   "source": [
    "Rop = Radon2D(t, h, px, centeredh=par['centeredh'],\n",
    "              interp=False, kind=par['kind'], engine='numba',\n",
    "              dtype='float64')\n",
    "dottest(Rop, par['nhx']*par['nt'], par['npx']*par['nt'],\n",
    "        complexflag=0)\n",
    "\n",
    "y1 = Rop * x.flatten()\n",
    "xadj1 = Rop.H * y1.flatten()\n",
    "\n",
    "%timeit -n 10 Rop * x.flatten()\n",
    "%timeit -n 10 Rop.H * y.flatten()"
   ]
  }
 ],
 "metadata": {
  "kernelspec": {
   "display_name": "Python 3",
   "language": "python",
   "name": "python3"
  },
  "language_info": {
   "codemirror_mode": {
    "name": "ipython",
    "version": 3
   },
   "file_extension": ".py",
   "mimetype": "text/x-python",
   "name": "python",
   "nbconvert_exporter": "python",
   "pygments_lexer": "ipython3",
   "version": "3.7.2"
  }
 },
 "nbformat": 4,
 "nbformat_minor": 1
}
