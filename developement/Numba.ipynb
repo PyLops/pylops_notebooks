{
 "cells": [
  {
   "cell_type": "markdown",
   "metadata": {},
   "source": [
    "# Pylops - numba"
   ]
  },
  {
   "cell_type": "markdown",
   "metadata": {},
   "source": [
    "### Author: M.Ravasi"
   ]
  },
  {
   "cell_type": "markdown",
   "metadata": {},
   "source": [
    "In this notebook I will investigate the benifit of adding numba to various operators"
   ]
  },
  {
   "cell_type": "code",
   "execution_count": 1,
   "metadata": {},
   "outputs": [],
   "source": [
    "%load_ext autoreload\n",
    "%autoreload 2\n",
    "%matplotlib inline\n",
    "\n",
    "import warnings\n",
    "warnings.filterwarnings('ignore')\n",
    "\n",
    "import os\n",
    "import numpy as np\n",
    "import matplotlib.pyplot as plt\n",
    "import scipy as sp\n",
    "\n",
    "import pylops\n",
    "\n",
    "from scipy.sparse import csr_matrix, vstack, rand\n",
    "from scipy.linalg import lstsq, solve, pinv\n",
    "from scipy.sparse.linalg import LinearOperator as spLinearOperator\n",
    "from scipy.sparse.linalg import LinearOperator, cg, lsqr\n",
    "\n",
    "from pylops.utils                      import dottest\n",
    "from pylops.utils.wavelets             import *\n",
    "from pylops.utils.seismicevents        import *\n",
    "from pylops.basicoperators             import *\n",
    "from pylops.signalprocessing             import *\n",
    "from pylops.waveeqprocessing.mdd       import *\n",
    "from pylops.optimization.leastsquares  import *\n",
    "from pylops.optimization.sparsity  import IRLS as IRLSpylops\n",
    "from pylops.optimization.sparsity  import FISTA\n",
    "\n",
    "from numba import jit"
   ]
  },
  {
   "cell_type": "code",
   "execution_count": 2,
   "metadata": {},
   "outputs": [],
   "source": [
    "os.environ['NUMBA_NUM_THREADS'] = '4'\n",
    "os.environ['NUMBA_DEVELOPER_MODE'] = '1'"
   ]
  },
  {
   "cell_type": "markdown",
   "metadata": {},
   "source": [
    "## Slant stack 2d"
   ]
  },
  {
   "cell_type": "markdown",
   "metadata": {},
   "source": [
    "Initialization"
   ]
  },
  {
   "cell_type": "code",
   "execution_count": 3,
   "metadata": {
    "scrolled": false
   },
   "outputs": [
    {
     "name": "stdout",
     "output_type": "stream",
     "text": [
      "5.61 ms ± 298 µs per loop (mean ± std. dev. of 7 runs, 10 loops each)\n",
      "642 µs ± 40.5 µs per loop (mean ± std. dev. of 7 runs, 10 loops each)\n"
     ]
    }
   ],
   "source": [
    "par = {'nt': 11, 'nhx': 21, 'nhy': 10, 'npx':31, 'npy':21, 'pxmax':1e-2,\n",
    "       'centeredh': True, 'kind': 'linear'} # linear, centered, linear interp\n",
    "\n",
    "dt, dh = 0.005, 1\n",
    "t = np.arange(par['nt']) * dt\n",
    "h = np.arange(par['nhx']) * dh\n",
    "px = np.linspace(0, par['pxmax'], par['npx'])\n",
    "x = np.zeros((par['npx'], par['nt']))\n",
    "x[2, par['nt']//2] = 1\n",
    " \n",
    "# numpy\n",
    "%timeit -n 10  Radon2D(t, h, px, centeredh=par['centeredh'], interp=False, kind=par['kind'], engine='numpy', dtype='float64')\n",
    "# numba\n",
    "Radon2D(t, h, px, centeredh=par['centeredh'], interp=False, \n",
    "        kind=par['kind'], engine='numba', dtype='float64')\n",
    "%timeit -n 10  Radon2D(t, h, px, centeredh=par['centeredh'], interp=False, kind=par['kind'], engine='numba', dtype='float64')"
   ]
  },
  {
   "cell_type": "markdown",
   "metadata": {},
   "source": [
    "Numpy vs numba with pre-computed table"
   ]
  },
  {
   "cell_type": "code",
   "execution_count": 4,
   "metadata": {},
   "outputs": [
    {
     "name": "stdout",
     "output_type": "stream",
     "text": [
      "8.59 ms ± 246 µs per loop (mean ± std. dev. of 7 runs, 10 loops each)\n",
      "9.46 ms ± 970 µs per loop (mean ± std. dev. of 7 runs, 10 loops each)\n"
     ]
    }
   ],
   "source": [
    "Rop = Radon2D(t, h, px, centeredh=par['centeredh'],\n",
    "              interp=False, kind=par['kind'], engine='numpy',\n",
    "              dtype='float64')\n",
    "dottest(Rop, par['nhx']*par['nt'], par['npx']*par['nt'],\n",
    "        complexflag=0)\n",
    "\n",
    "y = Rop * x.flatten()\n",
    "xadj = Rop.H * y.flatten()\n",
    "\n",
    "%timeit -n 10 Rop * x.flatten()\n",
    "%timeit -n 10 Rop.H * y.flatten()"
   ]
  },
  {
   "cell_type": "code",
   "execution_count": 5,
   "metadata": {
    "scrolled": true
   },
   "outputs": [
    {
     "name": "stdout",
     "output_type": "stream",
     "text": [
      "57.8 µs ± 10.1 µs per loop (mean ± std. dev. of 7 runs, 10 loops each)\n",
      "The slowest run took 4.12 times longer than the fastest. This could mean that an intermediate result is being cached.\n",
      "138 µs ± 90.4 µs per loop (mean ± std. dev. of 7 runs, 10 loops each)\n"
     ]
    }
   ],
   "source": [
    "Rop = Radon2D(t, h, px, centeredh=par['centeredh'],\n",
    "              interp=False, kind=par['kind'], engine='numba',\n",
    "              dtype='float64')\n",
    "dottest(Rop, par['nhx']*par['nt'], par['npx']*par['nt'],\n",
    "        complexflag=0)\n",
    "\n",
    "y = Rop * x.flatten()\n",
    "xadj = Rop.H * y.flatten()\n",
    "\n",
    "%timeit -n 10 Rop * x.flatten()\n",
    "%timeit -n 10 Rop.H * y.flatten()"
   ]
  },
  {
   "cell_type": "code",
   "execution_count": 6,
   "metadata": {},
   "outputs": [
    {
     "name": "stdout",
     "output_type": "stream",
     "text": [
      "14.6 ms ± 355 µs per loop (mean ± std. dev. of 7 runs, 10 loops each)\n",
      "17.6 ms ± 1.23 ms per loop (mean ± std. dev. of 7 runs, 10 loops each)\n"
     ]
    }
   ],
   "source": [
    "Rop = Radon2D(t, h, px, centeredh=par['centeredh'],\n",
    "              interp=True, kind=par['kind'], engine='numpy',\n",
    "              dtype='float64')\n",
    "dottest(Rop, par['nhx']*par['nt'], par['npx']*par['nt'],\n",
    "        complexflag=0)\n",
    "\n",
    "y = Rop * x.flatten()\n",
    "xadj = Rop.H * y.flatten()\n",
    "\n",
    "%timeit -n 10 Rop * x.flatten()\n",
    "%timeit -n 10 Rop.H * y.flatten()"
   ]
  },
  {
   "cell_type": "code",
   "execution_count": 7,
   "metadata": {},
   "outputs": [
    {
     "name": "stdout",
     "output_type": "stream",
     "text": [
      "76.8 µs ± 4.16 µs per loop (mean ± std. dev. of 7 runs, 10 loops each)\n",
      "131 µs ± 84.5 µs per loop (mean ± std. dev. of 7 runs, 10 loops each)\n"
     ]
    }
   ],
   "source": [
    "Rop = Radon2D(t, h, px, centeredh=par['centeredh'],\n",
    "              interp=True, kind=par['kind'], engine='numba',\n",
    "              dtype='float64')\n",
    "dottest(Rop, par['nhx']*par['nt'], par['npx']*par['nt'],\n",
    "        complexflag=0)\n",
    "\n",
    "y = Rop * x.flatten()\n",
    "xadj = Rop.H * y.flatten()\n",
    "\n",
    "%timeit -n 10 Rop * x.flatten()\n",
    "%timeit -n 10 Rop.H * y.flatten()"
   ]
  },
  {
   "cell_type": "markdown",
   "metadata": {},
   "source": [
    "Numpy vs numba with on-the-fly computation"
   ]
  },
  {
   "cell_type": "code",
   "execution_count": 8,
   "metadata": {},
   "outputs": [
    {
     "name": "stdout",
     "output_type": "stream",
     "text": [
      "16.4 ms ± 1.19 ms per loop (mean ± std. dev. of 7 runs, 3 loops each)\n",
      "17.5 ms ± 1.7 ms per loop (mean ± std. dev. of 7 runs, 3 loops each)\n"
     ]
    }
   ],
   "source": [
    "Rop = Radon2D(t, h, px, centeredh=par['centeredh'],\n",
    "              interp=False, kind=par['kind'], engine='numpy', onthefly=True,\n",
    "              dtype='float64')\n",
    "dottest(Rop, par['nhx']*par['nt'], par['npx']*par['nt'],\n",
    "        complexflag=0)\n",
    "\n",
    "y = Rop * x.flatten()\n",
    "xadj = Rop.H * y.flatten()\n",
    "\n",
    "%timeit -n 3 Rop * x.flatten()\n",
    "%timeit -n 3 Rop.H * y.flatten()"
   ]
  },
  {
   "cell_type": "code",
   "execution_count": 9,
   "metadata": {
    "scrolled": false
   },
   "outputs": [
    {
     "name": "stdout",
     "output_type": "stream",
     "text": [
      "988 µs ± 83.5 µs per loop (mean ± std. dev. of 7 runs, 3 loops each)\n",
      "1.06 ms ± 514 µs per loop (mean ± std. dev. of 7 runs, 3 loops each)\n"
     ]
    }
   ],
   "source": [
    "Rop = Radon2D(t, h, px, centeredh=par['centeredh'],\n",
    "              interp=False, kind=par['kind'], engine='numba', onthefly=True,\n",
    "              dtype='float64')\n",
    "dottest(Rop, par['nhx']*par['nt'], par['npx']*par['nt'],\n",
    "        complexflag=0)\n",
    "\n",
    "y = Rop * x.flatten()\n",
    "xadj = Rop.H * y.flatten()\n",
    "\n",
    "%timeit -n 3 Rop * x.flatten()\n",
    "%timeit -n 3 Rop.H * y.flatten()"
   ]
  },
  {
   "cell_type": "code",
   "execution_count": 10,
   "metadata": {},
   "outputs": [
    {
     "name": "stdout",
     "output_type": "stream",
     "text": [
      "The slowest run took 5.84 times longer than the fastest. This could mean that an intermediate result is being cached.\n",
      "52.6 ms ± 39.5 ms per loop (mean ± std. dev. of 7 runs, 3 loops each)\n",
      "41.5 ms ± 7.04 ms per loop (mean ± std. dev. of 7 runs, 3 loops each)\n"
     ]
    }
   ],
   "source": [
    "Rop = Radon2D(t, h, px, centeredh=par['centeredh'],\n",
    "              interp=True, kind=par['kind'], engine='numpy', onthefly=True,\n",
    "              dtype='float64')\n",
    "dottest(Rop, par['nhx']*par['nt'], par['npx']*par['nt'],\n",
    "        complexflag=0)\n",
    "\n",
    "\n",
    "y = Rop * x.flatten()\n",
    "xadj = Rop.H * y.flatten()\n",
    "\n",
    "%timeit -n 3 Rop * x.flatten()\n",
    "%timeit -n 3 Rop.H * y.flatten()"
   ]
  },
  {
   "cell_type": "code",
   "execution_count": 11,
   "metadata": {},
   "outputs": [
    {
     "name": "stdout",
     "output_type": "stream",
     "text": [
      "The slowest run took 11.35 times longer than the fastest. This could mean that an intermediate result is being cached.\n",
      "4.48 ms ± 4.08 ms per loop (mean ± std. dev. of 7 runs, 3 loops each)\n",
      "The slowest run took 86.83 times longer than the fastest. This could mean that an intermediate result is being cached.\n",
      "8.56 ms ± 13.9 ms per loop (mean ± std. dev. of 7 runs, 3 loops each)\n"
     ]
    }
   ],
   "source": [
    "Rop = Radon2D(t, h, px, centeredh=par['centeredh'],\n",
    "              interp=True, kind=par['kind'], engine='numba', onthefly=True,\n",
    "              dtype='float64')\n",
    "dottest(Rop, par['nhx']*par['nt'], par['npx']*par['nt'],\n",
    "        complexflag=0)\n",
    "\n",
    "y = Rop * x.flatten()\n",
    "xadj = Rop.H * y.flatten()\n",
    "\n",
    "%timeit -n 3 Rop * x.flatten()\n",
    "%timeit -n 3 Rop.H * y.flatten()"
   ]
  },
  {
   "cell_type": "markdown",
   "metadata": {},
   "source": [
    "## Slant stack 3d"
   ]
  },
  {
   "cell_type": "markdown",
   "metadata": {},
   "source": [
    "Initialization"
   ]
  },
  {
   "cell_type": "code",
   "execution_count": 12,
   "metadata": {},
   "outputs": [
    {
     "name": "stdout",
     "output_type": "stream",
     "text": [
      "235 ms ± 41.8 ms per loop (mean ± std. dev. of 7 runs, 3 loops each)\n",
      "490 ms ± 30.1 ms per loop (mean ± std. dev. of 7 runs, 3 loops each)\n"
     ]
    }
   ],
   "source": [
    "hx = np.arange(par['nhx']) * dh\n",
    "hy = np.arange(par['nhy']) * dh\n",
    "px = np.linspace(0, par['pxmax'], par['npx'])\n",
    "py = np.linspace(0, par['pxmax'], par['npy'])\n",
    "x = np.zeros((par['npy'], par['npx'], par['nt']))\n",
    "x[2, 2, par['nt']//2] = 1\n",
    " \n",
    "# numpy\n",
    "%timeit -n 3  Radon3D(t, hy, hx, py, px, centeredh=par['centeredh'], interp=False, kind=par['kind'], dtype='float64')\n",
    "# numba\n",
    "Radon3D(t, hy, hx, py, px, centeredh=par['centeredh'], interp=False, \n",
    "        kind=par['kind'], engine='numba', dtype='float64')\n",
    "%timeit -n 3  Radon3D(t, hy, hx, py, px, centeredh=par['centeredh'], interp=False, kind=par['kind'], engine='numba', dtype='float64')"
   ]
  },
  {
   "cell_type": "markdown",
   "metadata": {},
   "source": [
    "Numpy vs numba with pre-computed table"
   ]
  },
  {
   "cell_type": "code",
   "execution_count": 13,
   "metadata": {},
   "outputs": [
    {
     "name": "stdout",
     "output_type": "stream",
     "text": [
      "228 ms ± 11.5 ms per loop (mean ± std. dev. of 7 runs, 3 loops each)\n",
      "224 ms ± 14 ms per loop (mean ± std. dev. of 7 runs, 3 loops each)\n"
     ]
    }
   ],
   "source": [
    "Rop = Radon3D(t, hy, hx, py, px, centeredh=par['centeredh'],\n",
    "              interp=False, kind=par['kind'],\n",
    "              dtype='float64')\n",
    "dottest(Rop, par['nhy']*par['nhx']*par['nt'], par['npy']*par['npx']*par['nt'],\n",
    "        complexflag=0)\n",
    "\n",
    "y = Rop * x.flatten()\n",
    "xadj = Rop.H * y.flatten()\n",
    "\n",
    "%timeit -n 3 Rop * x.flatten()\n",
    "%timeit -n 3 Rop.H * y.flatten()"
   ]
  },
  {
   "cell_type": "code",
   "execution_count": 14,
   "metadata": {},
   "outputs": [
    {
     "name": "stdout",
     "output_type": "stream",
     "text": [
      "4.86 ms ± 421 µs per loop (mean ± std. dev. of 7 runs, 3 loops each)\n",
      "1.7 ms ± 111 µs per loop (mean ± std. dev. of 7 runs, 3 loops each)\n"
     ]
    }
   ],
   "source": [
    "Rop = Radon3D(t, hy, hx, py, px, centeredh=par['centeredh'],\n",
    "              interp=False, kind=par['kind'], engine='numba',\n",
    "              dtype='float64')\n",
    "dottest(Rop, par['nhy']*par['nhx']*par['nt'], par['npy']*par['npx']*par['nt'],\n",
    "        complexflag=0)\n",
    "\n",
    "y = Rop * x.flatten()\n",
    "xadj = Rop.H * y.flatten()\n",
    "\n",
    "%timeit -n 3 Rop * x.flatten()\n",
    "%timeit -n 3 Rop.H * y.flatten()"
   ]
  },
  {
   "cell_type": "code",
   "execution_count": 16,
   "metadata": {},
   "outputs": [
    {
     "name": "stdout",
     "output_type": "stream",
     "text": [
      "424 ms ± 20 ms per loop (mean ± std. dev. of 7 runs, 3 loops each)\n",
      "433 ms ± 52.9 ms per loop (mean ± std. dev. of 7 runs, 3 loops each)\n"
     ]
    }
   ],
   "source": [
    "Rop = Radon3D(t, hy, hx, py, px, centeredh=par['centeredh'],\n",
    "              interp=True, kind=par['kind'],\n",
    "              dtype='float64')\n",
    "dottest(Rop, par['nhy']*par['nhx']*par['nt'], par['npy']*par['npx']*par['nt'],\n",
    "        complexflag=0)\n",
    "\n",
    "y = Rop * x.flatten()\n",
    "xadj = Rop.H * y.flatten()\n",
    "\n",
    "%timeit -n 3 Rop * x.flatten()\n",
    "%timeit -n 3 Rop.H * y.flatten()"
   ]
  },
  {
   "cell_type": "code",
   "execution_count": 17,
   "metadata": {},
   "outputs": [
    {
     "name": "stdout",
     "output_type": "stream",
     "text": [
      "8.21 ms ± 256 µs per loop (mean ± std. dev. of 7 runs, 3 loops each)\n",
      "3.54 ms ± 405 µs per loop (mean ± std. dev. of 7 runs, 3 loops each)\n"
     ]
    }
   ],
   "source": [
    "Rop = Radon3D(t, hy, hx, py, px, centeredh=par['centeredh'],\n",
    "              interp=True, kind=par['kind'], engine='numba',\n",
    "              dtype='float64')\n",
    "dottest(Rop, par['nhy']*par['nhx']*par['nt'], par['npy']*par['npx']*par['nt'],\n",
    "        complexflag=0)\n",
    "\n",
    "y = Rop * x.flatten()\n",
    "xadj = Rop.H * y.flatten()\n",
    "\n",
    "%timeit -n 3 Rop * x.flatten()\n",
    "%timeit -n 3 Rop.H * y.flatten()"
   ]
  },
  {
   "cell_type": "markdown",
   "metadata": {},
   "source": [
    "Numpy vs numba with on-the-fly computation"
   ]
  },
  {
   "cell_type": "code",
   "execution_count": 18,
   "metadata": {},
   "outputs": [
    {
     "name": "stdout",
     "output_type": "stream",
     "text": [
      "460 ms ± 35 ms per loop (mean ± std. dev. of 7 runs, 3 loops each)\n",
      "469 ms ± 44.2 ms per loop (mean ± std. dev. of 7 runs, 3 loops each)\n"
     ]
    }
   ],
   "source": [
    "Rop = Radon3D(t, hy, hx, py, px, centeredh=par['centeredh'],\n",
    "              interp=False, kind=par['kind'], onthefly=True,\n",
    "              dtype='float64')\n",
    "dottest(Rop, par['nhy']*par['nhx']*par['nt'], par['npy']*par['npx']*par['nt'],\n",
    "        complexflag=0)\n",
    "\n",
    "y = Rop * x.flatten()\n",
    "xadj = Rop.H * y.flatten()\n",
    "\n",
    "%timeit -n 3 Rop * x.flatten()\n",
    "%timeit -n 3 Rop.H * y.flatten()"
   ]
  },
  {
   "cell_type": "code",
   "execution_count": 19,
   "metadata": {},
   "outputs": [
    {
     "name": "stdout",
     "output_type": "stream",
     "text": [
      "287 ms ± 86.3 ms per loop (mean ± std. dev. of 7 runs, 3 loops each)\n",
      "552 ms ± 39 ms per loop (mean ± std. dev. of 7 runs, 3 loops each)\n"
     ]
    }
   ],
   "source": [
    "Rop = Radon3D(t, hy, hx, py, px, centeredh=par['centeredh'],\n",
    "              interp=False, kind=par['kind'], engine='numba', onthefly=True,\n",
    "              dtype='float64')\n",
    "dottest(Rop, par['nhy']*par['nhx']*par['nt'], par['npy']*par['npx']*par['nt'],\n",
    "        complexflag=0)\n",
    "\n",
    "y = Rop * x.flatten()\n",
    "xadj = Rop.H * y.flatten()\n",
    "\n",
    "%timeit -n 3 Rop * x.flatten()\n",
    "%timeit -n 3 Rop.H * y.flatten()"
   ]
  },
  {
   "cell_type": "code",
   "execution_count": 20,
   "metadata": {},
   "outputs": [
    {
     "name": "stdout",
     "output_type": "stream",
     "text": [
      "652 ms ± 10.4 ms per loop (mean ± std. dev. of 7 runs, 3 loops each)\n",
      "720 ms ± 23.2 ms per loop (mean ± std. dev. of 7 runs, 3 loops each)\n"
     ]
    }
   ],
   "source": [
    "Rop = Radon3D(t, hy, hx, py, px, centeredh=par['centeredh'],\n",
    "              interp=True, kind=par['kind'], onthefly=True,\n",
    "              dtype='float64')\n",
    "dottest(Rop, par['nhy']*par['nhx']*par['nt'], par['npy']*par['npx']*par['nt'],\n",
    "        complexflag=0)\n",
    "\n",
    "y = Rop * x.flatten()\n",
    "xadj = Rop.H * y.flatten()\n",
    "\n",
    "%timeit -n 3 Rop * x.flatten()\n",
    "%timeit -n 3 Rop.H * y.flatten()"
   ]
  },
  {
   "cell_type": "code",
   "execution_count": 21,
   "metadata": {},
   "outputs": [
    {
     "name": "stdout",
     "output_type": "stream",
     "text": [
      "297 ms ± 114 ms per loop (mean ± std. dev. of 7 runs, 3 loops each)\n",
      "346 ms ± 97.2 ms per loop (mean ± std. dev. of 7 runs, 3 loops each)\n"
     ]
    }
   ],
   "source": [
    "Rop = Radon3D(t, hy, hx, py, px, centeredh=par['centeredh'],\n",
    "              interp=True, kind=par['kind'], engine='numba', onthefly=True,\n",
    "              dtype='float64')\n",
    "dottest(Rop, par['nhy']*par['nhx']*par['nt'], par['npy']*par['npx']*par['nt'],\n",
    "        complexflag=0)\n",
    "\n",
    "y = Rop * x.flatten()\n",
    "xadj = Rop.H * y.flatten()\n",
    "\n",
    "%timeit -n 3 Rop * x.flatten()\n",
    "%timeit -n 3 Rop.H * y.flatten()"
   ]
  },
  {
   "cell_type": "code",
   "execution_count": null,
   "metadata": {},
   "outputs": [],
   "source": []
  },
  {
   "cell_type": "markdown",
   "metadata": {},
   "source": [
    "Other stuff, work in progress"
   ]
  },
  {
   "cell_type": "code",
   "execution_count": null,
   "metadata": {},
   "outputs": [],
   "source": [
    "import numpy as np\n",
    "\n",
    "from numba import vectorize, float64\n",
    "\n",
    "@jit(nopython=True, nogil=True)\n",
    "def fdouble(x):\n",
    "    return x**2\n",
    "@jit(nopython=True, nogil=True)\n",
    "def passfunction(a, f, out):\n",
    "    out = f(a)\n",
    "    return out\n",
    "\n",
    "arr = np.arange(10)\n",
    "out = np.zeros(10)\n",
    "print(passfunction(arr, fdouble, out))"
   ]
  },
  {
   "cell_type": "code",
   "execution_count": null,
   "metadata": {},
   "outputs": [],
   "source": [
    "from numba import vectorize, guvectorize, float64, int64, float32, int32\n",
    "\n",
    "def _hyperbolic(x, t, px):\n",
    "    return np.sqrt(t**2 + (x/px)**2)\n",
    "\n",
    "@vectorize([float64(float64, float64, float64),\n",
    "            float64(float64, int64, float64),\n",
    "            float64(float64, int32, float64),\n",
    "            float32(float32, float32, float32),\n",
    "            float32(float32, int32, float32)], \n",
    "           nopython=True, target='cpu')\n",
    "def _hyperbolic_numba(x, t, px):\n",
    "    return np.sqrt(t**2 + (x/px)**2)\n",
    "\n",
    "@vectorize([float64(float64, float64, float64),\n",
    "            float64(float64, int64, float64),\n",
    "            float64(float64, int32, float64),\n",
    "            float32(float32, float32, float32),\n",
    "            float32(float32, int32, float32)], \n",
    "           nopython=True, target='parallel')\n",
    "def _hyperbolic_numba1(x, t, px):\n",
    "    return np.sqrt(t**2 + (x/px)**2)\n",
    "\n",
    "x=np.arange(1000)\n",
    "t0=10\n",
    "px=0.1\n",
    "\n",
    "%timeit -n 10 _hyperbolic(x, t0, px)\n",
    "%timeit -n 10 _hyperbolic_numba(x, t0, px)\n",
    "%timeit -n 10 _hyperbolic_numba1(x, t0, px)"
   ]
  },
  {
   "cell_type": "code",
   "execution_count": null,
   "metadata": {},
   "outputs": [],
   "source": [
    "@guvectorize([(float64[:], float64, float64[:])], '(n),()->(n)')\n",
    "def g(x, y, res):\n",
    "    for i in range(x.shape[0]):\n",
    "        res[i] = x[i] + y\n",
    "        \n",
    "a = np.ones(5, np.float64)\n",
    "g(a, 2.2)"
   ]
  },
  {
   "cell_type": "code",
   "execution_count": null,
   "metadata": {},
   "outputs": [],
   "source": [
    "from numba import stencil\n",
    "\n",
    "def kernel(a):\n",
    "    return 0.5 * (a[:, 2:] - a[:, 0:-2])\n",
    "\n",
    "@stencil\n",
    "def kernel1(a):\n",
    "    return 0.5 * (a[0, 1] - a[0, -1])\n",
    "\n",
    "input_arr = np.arange(100).reshape(10, 10)\n",
    "%timeit -n 2 kernel(input_arr)\n",
    "%timeit -n 2 kernel1(input_arr)"
   ]
  }
 ],
 "metadata": {
  "kernelspec": {
   "display_name": "Python 3",
   "language": "python",
   "name": "python3"
  },
  "language_info": {
   "codemirror_mode": {
    "name": "ipython",
    "version": 3
   },
   "file_extension": ".py",
   "mimetype": "text/x-python",
   "name": "python",
   "nbconvert_exporter": "python",
   "pygments_lexer": "ipython3",
   "version": "3.7.2"
  }
 },
 "nbformat": 4,
 "nbformat_minor": 1
}
