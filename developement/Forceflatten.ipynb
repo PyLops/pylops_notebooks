{
 "cells": [
  {
   "cell_type": "markdown",
   "id": "7f50d31a",
   "metadata": {},
   "source": [
    "## ND-vs-1D behaviour for ambiguous operators\n",
    "\n",
    "This notebooks has been used to verify the development of this PR: https://github.com/PyLops/pylops/pull/502.\n",
    "        \n",
    "Here, an operator is defined ambiguous is the output of either matvec or rmatvec is a 1d array (aka if dims or dimsd have len=1) . In this case pylops cannot tell whether a user would like a nd array or a 1d array when either rmatvec or matvec is performed on the 1d array from the other method."
   ]
  },
  {
   "cell_type": "code",
   "execution_count": 1,
   "id": "6cb0bf08",
   "metadata": {},
   "outputs": [],
   "source": [
    "%load_ext autoreload\n",
    "%autoreload 2\n",
    "%matplotlib inline\n",
    "\n",
    "import numpy as np\n",
    "import pylops\n",
    "import matplotlib.pyplot as plt\n",
    "\n",
    "from scipy.sparse.linalg import lsqr as sp_lsqr\n",
    "from pylops.optimization.basic import cgls, lsqr\n",
    "from pylops.optimization.sparsity import fista"
   ]
  },
  {
   "cell_type": "markdown",
   "id": "5ef2c611",
   "metadata": {},
   "source": [
    "## Sum"
   ]
  },
  {
   "cell_type": "markdown",
   "id": "23283b37",
   "metadata": {},
   "source": [
    "### Sum: 2D -> 1D"
   ]
  },
  {
   "cell_type": "code",
   "execution_count": 2,
   "id": "47456e59",
   "metadata": {},
   "outputs": [
    {
     "name": "stdout",
     "output_type": "stream",
     "text": [
      "(10,) None\n",
      "(10,)\n",
      "(50,)\n",
      "(10, 5)\n",
      "(10, 5)\n"
     ]
    }
   ],
   "source": [
    "# Adjoint returns 2D\n",
    "S = pylops.Sum((10, 5), axis=-1)\n",
    "print(S.dimsd, S.forceflat)\n",
    "SH = S.H\n",
    "\n",
    "x = np.ones(50)\n",
    "y = S @ x\n",
    "xadj = S.H @ y\n",
    "\n",
    "print(y.shape)\n",
    "print((S.rmatvec(y)).shape)\n",
    "print((SH @ y).shape)\n",
    "print(xadj.shape)"
   ]
  },
  {
   "cell_type": "code",
   "execution_count": 3,
   "id": "602bebb4",
   "metadata": {},
   "outputs": [
    {
     "name": "stderr",
     "output_type": "stream",
     "text": [
      "WARNING: update smaller that tolerance for iteration 2\n"
     ]
    },
    {
     "data": {
      "text/plain": [
       "(array([0.99, 0.99, 0.99, 0.99, 0.99, 0.99, 0.99, 0.99, 0.99, 0.99, 0.99,\n",
       "        0.99, 0.99, 0.99, 0.99, 0.99, 0.99, 0.99, 0.99, 0.99, 0.99, 0.99,\n",
       "        0.99, 0.99, 0.99, 0.99, 0.99, 0.99, 0.99, 0.99, 0.99, 0.99, 0.99,\n",
       "        0.99, 0.99, 0.99, 0.99, 0.99, 0.99, 0.99, 0.99, 0.99, 0.99, 0.99,\n",
       "        0.99, 0.99, 0.99, 0.99, 0.99, 0.99]),\n",
       " 2,\n",
       " array([4.9625, 4.9625]))"
      ]
     },
     "execution_count": 3,
     "metadata": {},
     "output_type": "execute_result"
    }
   ],
   "source": [
    "sp_lsqr(S, y), cgls(S, y), lsqr(S, y)\n",
    "fista(S, y, niter=10, eps=1e-1)"
   ]
  },
  {
   "cell_type": "code",
   "execution_count": 4,
   "id": "971ec902",
   "metadata": {},
   "outputs": [
    {
     "name": "stdout",
     "output_type": "stream",
     "text": [
      "(10,) True\n",
      "(10,)\n",
      "(50,)\n",
      "(50,)\n",
      "(50,)\n"
     ]
    }
   ],
   "source": [
    "# Adjoint returns 1D by adding forceflat\n",
    "S = pylops.Sum((10, 5), axis=-1, forceflat=True)\n",
    "print(S.dimsd, S.forceflat)\n",
    "SH = S.H\n",
    "\n",
    "x = np.ones(50)\n",
    "y = S @ x\n",
    "xadj = S.H @ y\n",
    "\n",
    "print(y.shape)\n",
    "print((S.rmatvec(y)).shape)\n",
    "print((SH @ y).shape)\n",
    "print(xadj.shape)"
   ]
  },
  {
   "cell_type": "code",
   "execution_count": 5,
   "id": "33ef26fb",
   "metadata": {},
   "outputs": [
    {
     "name": "stderr",
     "output_type": "stream",
     "text": [
      "WARNING: update smaller that tolerance for iteration 2\n"
     ]
    },
    {
     "data": {
      "text/plain": [
       "(array([0.99, 0.99, 0.99, 0.99, 0.99, 0.99, 0.99, 0.99, 0.99, 0.99, 0.99,\n",
       "        0.99, 0.99, 0.99, 0.99, 0.99, 0.99, 0.99, 0.99, 0.99, 0.99, 0.99,\n",
       "        0.99, 0.99, 0.99, 0.99, 0.99, 0.99, 0.99, 0.99, 0.99, 0.99, 0.99,\n",
       "        0.99, 0.99, 0.99, 0.99, 0.99, 0.99, 0.99, 0.99, 0.99, 0.99, 0.99,\n",
       "        0.99, 0.99, 0.99, 0.99, 0.99, 0.99]),\n",
       " 2,\n",
       " array([4.9625, 4.9625]))"
      ]
     },
     "execution_count": 5,
     "metadata": {},
     "output_type": "execute_result"
    }
   ],
   "source": [
    "sp_lsqr(S, y), cgls(S, y), lsqr(S, y)\n",
    "fista(S, y, niter=10, eps=1e-1)"
   ]
  },
  {
   "cell_type": "markdown",
   "id": "f3067f01",
   "metadata": {},
   "source": [
    "### Sum: 3D -> 2D\n",
    "\n",
    "No need for forceflatten, the operator is not ambiguos"
   ]
  },
  {
   "cell_type": "code",
   "execution_count": 6,
   "id": "fb61e4c7",
   "metadata": {},
   "outputs": [
    {
     "name": "stdout",
     "output_type": "stream",
     "text": [
      "(80,)\n",
      "(400,)\n",
      "(400,)\n",
      "(400,)\n"
     ]
    }
   ],
   "source": [
    "S = pylops.Sum((10, 8, 5), axis=-1)\n",
    "SH = S.H\n",
    "\n",
    "x = np.ones(400)\n",
    "y = S @ x\n",
    "xadj = S.H @ y\n",
    "\n",
    "print(y.shape)\n",
    "print((S.rmatvec(y)).shape)\n",
    "print((SH @ y).shape)\n",
    "print(xadj.shape)"
   ]
  },
  {
   "cell_type": "code",
   "execution_count": 7,
   "id": "700a95ca",
   "metadata": {},
   "outputs": [
    {
     "name": "stderr",
     "output_type": "stream",
     "text": [
      "WARNING: setting forceflat=None since len(dims)=3>2. PyLops will automatically detect whether to return a 1d or nd array based on the shape of the inputarray.\n"
     ]
    },
    {
     "name": "stdout",
     "output_type": "stream",
     "text": [
      "(10, 8) None\n",
      "(80,)\n",
      "(400,)\n",
      "(400,)\n",
      "(400,)\n"
     ]
    }
   ],
   "source": [
    "S = pylops.Sum((10, 8, 5), axis=-1, forceflat=False)\n",
    "print(S.dimsd, S.forceflat)\n",
    "SH = S.H\n",
    "\n",
    "x = np.ones(400)\n",
    "y = S @ x\n",
    "xadj = S.H @ y\n",
    "\n",
    "print(y.shape)\n",
    "print((S.rmatvec(y)).shape)\n",
    "print((SH @ y).shape)\n",
    "print(xadj.shape)"
   ]
  },
  {
   "cell_type": "code",
   "execution_count": 8,
   "id": "147e9fa9",
   "metadata": {},
   "outputs": [
    {
     "name": "stderr",
     "output_type": "stream",
     "text": [
      "WARNING: update smaller that tolerance for iteration 2\n"
     ]
    },
    {
     "data": {
      "text/plain": [
       "(array([0.99, 0.99, 0.99, 0.99, 0.99, 0.99, 0.99, 0.99, 0.99, 0.99, 0.99,\n",
       "        0.99, 0.99, 0.99, 0.99, 0.99, 0.99, 0.99, 0.99, 0.99, 0.99, 0.99,\n",
       "        0.99, 0.99, 0.99, 0.99, 0.99, 0.99, 0.99, 0.99, 0.99, 0.99, 0.99,\n",
       "        0.99, 0.99, 0.99, 0.99, 0.99, 0.99, 0.99, 0.99, 0.99, 0.99, 0.99,\n",
       "        0.99, 0.99, 0.99, 0.99, 0.99, 0.99, 0.99, 0.99, 0.99, 0.99, 0.99,\n",
       "        0.99, 0.99, 0.99, 0.99, 0.99, 0.99, 0.99, 0.99, 0.99, 0.99, 0.99,\n",
       "        0.99, 0.99, 0.99, 0.99, 0.99, 0.99, 0.99, 0.99, 0.99, 0.99, 0.99,\n",
       "        0.99, 0.99, 0.99, 0.99, 0.99, 0.99, 0.99, 0.99, 0.99, 0.99, 0.99,\n",
       "        0.99, 0.99, 0.99, 0.99, 0.99, 0.99, 0.99, 0.99, 0.99, 0.99, 0.99,\n",
       "        0.99, 0.99, 0.99, 0.99, 0.99, 0.99, 0.99, 0.99, 0.99, 0.99, 0.99,\n",
       "        0.99, 0.99, 0.99, 0.99, 0.99, 0.99, 0.99, 0.99, 0.99, 0.99, 0.99,\n",
       "        0.99, 0.99, 0.99, 0.99, 0.99, 0.99, 0.99, 0.99, 0.99, 0.99, 0.99,\n",
       "        0.99, 0.99, 0.99, 0.99, 0.99, 0.99, 0.99, 0.99, 0.99, 0.99, 0.99,\n",
       "        0.99, 0.99, 0.99, 0.99, 0.99, 0.99, 0.99, 0.99, 0.99, 0.99, 0.99,\n",
       "        0.99, 0.99, 0.99, 0.99, 0.99, 0.99, 0.99, 0.99, 0.99, 0.99, 0.99,\n",
       "        0.99, 0.99, 0.99, 0.99, 0.99, 0.99, 0.99, 0.99, 0.99, 0.99, 0.99,\n",
       "        0.99, 0.99, 0.99, 0.99, 0.99, 0.99, 0.99, 0.99, 0.99, 0.99, 0.99,\n",
       "        0.99, 0.99, 0.99, 0.99, 0.99, 0.99, 0.99, 0.99, 0.99, 0.99, 0.99,\n",
       "        0.99, 0.99, 0.99, 0.99, 0.99, 0.99, 0.99, 0.99, 0.99, 0.99, 0.99,\n",
       "        0.99, 0.99, 0.99, 0.99, 0.99, 0.99, 0.99, 0.99, 0.99, 0.99, 0.99,\n",
       "        0.99, 0.99, 0.99, 0.99, 0.99, 0.99, 0.99, 0.99, 0.99, 0.99, 0.99,\n",
       "        0.99, 0.99, 0.99, 0.99, 0.99, 0.99, 0.99, 0.99, 0.99, 0.99, 0.99,\n",
       "        0.99, 0.99, 0.99, 0.99, 0.99, 0.99, 0.99, 0.99, 0.99, 0.99, 0.99,\n",
       "        0.99, 0.99, 0.99, 0.99, 0.99, 0.99, 0.99, 0.99, 0.99, 0.99, 0.99,\n",
       "        0.99, 0.99, 0.99, 0.99, 0.99, 0.99, 0.99, 0.99, 0.99, 0.99, 0.99,\n",
       "        0.99, 0.99, 0.99, 0.99, 0.99, 0.99, 0.99, 0.99, 0.99, 0.99, 0.99,\n",
       "        0.99, 0.99, 0.99, 0.99, 0.99, 0.99, 0.99, 0.99, 0.99, 0.99, 0.99,\n",
       "        0.99, 0.99, 0.99, 0.99, 0.99, 0.99, 0.99, 0.99, 0.99, 0.99, 0.99,\n",
       "        0.99, 0.99, 0.99, 0.99, 0.99, 0.99, 0.99, 0.99, 0.99, 0.99, 0.99,\n",
       "        0.99, 0.99, 0.99, 0.99, 0.99, 0.99, 0.99, 0.99, 0.99, 0.99, 0.99,\n",
       "        0.99, 0.99, 0.99, 0.99, 0.99, 0.99, 0.99, 0.99, 0.99, 0.99, 0.99,\n",
       "        0.99, 0.99, 0.99, 0.99, 0.99, 0.99, 0.99, 0.99, 0.99, 0.99, 0.99,\n",
       "        0.99, 0.99, 0.99, 0.99, 0.99, 0.99, 0.99, 0.99, 0.99, 0.99, 0.99,\n",
       "        0.99, 0.99, 0.99, 0.99, 0.99, 0.99, 0.99, 0.99, 0.99, 0.99, 0.99,\n",
       "        0.99, 0.99, 0.99, 0.99, 0.99, 0.99, 0.99, 0.99, 0.99, 0.99, 0.99,\n",
       "        0.99, 0.99, 0.99, 0.99, 0.99, 0.99, 0.99, 0.99, 0.99, 0.99, 0.99,\n",
       "        0.99, 0.99, 0.99, 0.99]),\n",
       " 2,\n",
       " array([39.7, 39.7]))"
      ]
     },
     "execution_count": 8,
     "metadata": {},
     "output_type": "execute_result"
    }
   ],
   "source": [
    "sp_lsqr(S, y), cgls(S, y), lsqr(S, y)\n",
    "fista(S, y, niter=10, eps=1e-1)"
   ]
  },
  {
   "cell_type": "markdown",
   "id": "c2063292",
   "metadata": {},
   "source": [
    "## Bilinear"
   ]
  },
  {
   "cell_type": "markdown",
   "id": "2176ac56",
   "metadata": {},
   "source": [
    "### Bilinear: 2D -> 1D"
   ]
  },
  {
   "cell_type": "code",
   "execution_count": 9,
   "id": "c582773a",
   "metadata": {},
   "outputs": [],
   "source": [
    "# 2D array - Bilinear ambiguous\n",
    "nz, nx = 50, 40\n",
    "\n",
    "nsamples = 200\n",
    "iava = np.vstack(\n",
    "    (np.random.uniform(0, nz - 1, nsamples), np.random.uniform(0, nx - 1, nsamples))\n",
    ")\n",
    "\n",
    "B = pylops.signalprocessing.Bilinear(iava, (nz, nx))\n",
    "x = np.arange(nz*nx).reshape(nz, nx)\n",
    "y = B * x\n",
    "xadj = B.H * y"
   ]
  },
  {
   "cell_type": "code",
   "execution_count": 10,
   "id": "792e413a",
   "metadata": {},
   "outputs": [
    {
     "data": {
      "text/plain": [
       "((200,), (200,), (50, 40))"
      ]
     },
     "execution_count": 10,
     "metadata": {},
     "output_type": "execute_result"
    }
   ],
   "source": [
    "B.dimsd, y.shape, xadj.shape, #fista(Bop, y, niter=10, eps=1e-1)"
   ]
  },
  {
   "cell_type": "code",
   "execution_count": 11,
   "id": "4f3e938a",
   "metadata": {},
   "outputs": [],
   "source": [
    "# 2D array - Bilinear ambiguous (forceflat to have 1d vectors)\n",
    "nz, nx = 50, 40\n",
    "\n",
    "nsamples = 200\n",
    "iava = np.vstack(\n",
    "    (np.random.uniform(0, nz - 1, nsamples), np.random.uniform(0, nx - 1, nsamples))\n",
    ")\n",
    "\n",
    "B = pylops.signalprocessing.Bilinear(iava, (nz, nx), forceflat=True)\n",
    "x = np.arange(nz*nx).reshape(nz, nx)\n",
    "y = B * x\n",
    "xadj = B.H * y"
   ]
  },
  {
   "cell_type": "code",
   "execution_count": 12,
   "id": "11490128",
   "metadata": {},
   "outputs": [
    {
     "data": {
      "text/plain": [
       "((200,),\n",
       " (200,),\n",
       " (2000,),\n",
       " (array([   0.        ,    0.        ,    0.        , ..., 2750.67307624,\n",
       "            0.        ,    0.        ]),\n",
       "  100,\n",
       "  array([4.89576169e+07, 2.04237564e+07, 7.24562902e+06, 2.14386724e+06,\n",
       "         5.18177237e+05, 1.30386103e+05, 8.19103975e+04, 8.03020584e+04,\n",
       "         6.42364151e+04, 4.04320816e+04, 2.20524268e+04, 1.29585251e+04,\n",
       "         1.00836363e+04, 9.21472082e+03, 8.08290637e+03, 6.40191679e+03,\n",
       "         4.69366557e+03, 3.37781932e+03, 2.51894946e+03, 1.96955922e+03,\n",
       "         1.56739368e+03, 1.22714082e+03, 9.32371372e+02, 6.92320244e+02,\n",
       "         5.11003583e+02, 3.80213157e+02, 2.86303659e+02, 2.17976481e+02,\n",
       "         1.69040416e+02, 1.36799881e+02, 1.19267570e+02, 1.13546779e+02,\n",
       "         1.15841962e+02, 1.22336128e+02, 1.30018347e+02, 1.37006484e+02,\n",
       "         1.42402879e+02, 1.45941173e+02, 1.47648157e+02, 1.47616659e+02,\n",
       "         1.45891716e+02, 1.42442980e+02, 1.37199093e+02, 1.30120430e+02,\n",
       "         1.21278761e+02, 1.10909210e+02, 9.94117159e+01, 8.73022065e+01,\n",
       "         7.51347069e+01, 6.34236132e+01, 5.25889568e+01, 4.29332079e+01,\n",
       "         3.46447653e+01, 2.78162230e+01, 2.24654492e+01, 1.85518888e+01,\n",
       "         1.59859427e+01, 1.46334167e+01, 1.43189054e+01, 1.48317403e+01,\n",
       "         1.59365123e+01, 1.73880592e+01, 1.89490108e+01, 2.04070082e+01,\n",
       "         2.15887644e+01, 2.23690007e+01, 2.26735775e+01, 2.24773633e+01,\n",
       "         2.17982004e+01, 2.06886013e+01, 1.92266229e+01, 1.75069122e+01,\n",
       "         1.56324345e+01, 1.37070455e+01, 1.18289157e+01, 1.00848393e+01,\n",
       "         8.54556209e+00, 7.26235918e+00, 6.26510913e+00, 5.56202110e+00,\n",
       "         5.14100930e+00, 4.97251489e+00, 5.01341258e+00, 5.21154345e+00,\n",
       "         5.51040323e+00, 5.85357434e+00, 6.18859323e+00, 6.47006011e+00,\n",
       "         6.66190087e+00, 6.73876755e+00, 6.68661320e+00, 6.50250664e+00,\n",
       "         6.19377320e+00, 5.77656570e+00, 5.27399084e+00, 4.71393549e+00,\n",
       "         4.12675295e+00, 3.54297356e+00, 2.99119516e+00, 2.49628575e+00])))"
      ]
     },
     "execution_count": 12,
     "metadata": {},
     "output_type": "execute_result"
    }
   ],
   "source": [
    "B.dimsd, y.shape, xadj.shape, fista(B, y, niter=100, eps=1e-10)"
   ]
  },
  {
   "cell_type": "markdown",
   "id": "f0cca01c",
   "metadata": {},
   "source": [
    "### Bilinear: 3D -> 2D"
   ]
  },
  {
   "cell_type": "code",
   "execution_count": 13,
   "id": "ac44cc64",
   "metadata": {},
   "outputs": [],
   "source": [
    "# 3D array - bilinear not ambiguous\n",
    "nz, nx, nt = 50, 40, 10\n",
    "\n",
    "nsamples = 200\n",
    "iava = np.vstack(\n",
    "    (np.random.uniform(0, nz - 1, nsamples), np.random.uniform(0, nx - 1, nsamples))\n",
    ")\n",
    "\n",
    "B = pylops.signalprocessing.Bilinear(iava, (nz, nx, nt))#, forceflat=True)\n",
    "x = np.arange(nz*nx*nt).reshape(nz, nx, nt)\n",
    "y = B * x\n",
    "xadj = B.H * y"
   ]
  },
  {
   "cell_type": "code",
   "execution_count": 14,
   "id": "661c3d37",
   "metadata": {},
   "outputs": [
    {
     "data": {
      "text/plain": [
       "((200, 10),\n",
       " (50, 40, 10),\n",
       " (array([0., 0., 0., ..., 0., 0., 0.]),\n",
       "  100,\n",
       "  array([3.98890113e+10, 1.58975605e+10, 5.47749002e+09, 1.57168876e+09,\n",
       "         3.77655381e+08, 1.15226048e+08, 8.33261661e+07, 7.32098714e+07,\n",
       "         5.34490838e+07, 3.34845937e+07, 2.05694936e+07, 1.44901021e+07,\n",
       "         1.20519745e+07, 1.06909779e+07, 9.36741423e+06, 7.99635462e+06,\n",
       "         6.74129044e+06, 5.68333607e+06, 4.79738691e+06, 4.02666082e+06,\n",
       "         3.33444433e+06, 2.71294509e+06, 2.17021831e+06, 1.71505645e+06,\n",
       "         1.34835346e+06, 1.06177131e+06, 8.41224517e+05, 6.71804146e+05,\n",
       "         5.41409219e+05, 4.41944171e+05, 3.68521796e+05, 3.17879252e+05,\n",
       "         2.87058572e+05, 2.72786024e+05, 2.71445025e+05, 2.79326238e+05,\n",
       "         2.92899031e+05, 3.08998962e+05, 3.24933004e+05, 3.38535931e+05,\n",
       "         3.48199440e+05, 3.52877790e+05, 3.52066438e+05, 3.45751383e+05,\n",
       "         3.34330793e+05, 3.18514219e+05, 2.99208633e+05, 2.77404352e+05,\n",
       "         2.54075699e+05, 2.30109043e+05, 2.06264312e+05, 1.83167530e+05,\n",
       "         1.61324549e+05, 1.41142835e+05, 1.22949527e+05, 1.06998889e+05,\n",
       "         9.34683762e+04, 8.24474905e+04, 7.39260493e+04, 6.77882498e+04,\n",
       "         6.38166650e+04, 6.17071954e+04, 6.10931067e+04, 6.15743185e+04,\n",
       "         6.27473937e+04, 6.42321183e+04, 6.56918301e+04, 6.68462842e+04,\n",
       "         6.74773942e+04, 6.74292979e+04, 6.66047134e+04, 6.49594715e+04,\n",
       "         6.24966064e+04, 5.92606866e+04, 5.53324304e+04, 5.08232291e+04,\n",
       "         4.58690854e+04, 4.06236258e+04, 3.52501623e+04, 2.99131326e+04,\n",
       "         2.47695190e+04, 1.99609619e+04, 1.56072354e+04, 1.18015626e+04,\n",
       "         8.60799103e+03, 6.06078257e+03, 4.16556329e+03, 2.90184998e+03,\n",
       "         2.22653445e+03, 2.07794033e+03, 2.38014641e+03, 3.04735999e+03,\n",
       "         3.98820134e+03, 5.10980874e+03, 6.32169219e+03, 7.53925856e+03,\n",
       "         8.68691458e+03, 9.70064085e+03, 1.05299295e+04, 1.11389972e+04])))"
      ]
     },
     "execution_count": 14,
     "metadata": {},
     "output_type": "execute_result"
    }
   ],
   "source": [
    "y.shape, xadj.shape, fista(B, y.ravel(), niter=100, eps=1e-10)"
   ]
  },
  {
   "cell_type": "markdown",
   "id": "8af41cca",
   "metadata": {},
   "source": [
    "## VStack"
   ]
  },
  {
   "cell_type": "code",
   "execution_count": 15,
   "id": "c3c1cad0",
   "metadata": {},
   "outputs": [
    {
     "name": "stdout",
     "output_type": "stream",
     "text": [
      "None\n",
      "(2000,) (2000,)\n",
      "(20, 10, 5) (1000,)\n",
      "(2000,) (2000,)\n",
      "(20, 10, 5) (1000,)\n"
     ]
    }
   ],
   "source": [
    "# VStack with Sum (the output of adjoint is a ndarray if not forced)\n",
    "nz, nx, nt = 20, 10, 5\n",
    "Szop = pylops.Sum((nz, nx, nt), axis=0)\n",
    "Sxop = pylops.Sum((nz, nx, nt), axis=1)\n",
    "Szop1 = Szop.H @ Szop\n",
    "Sxop1 = Sxop.H @ Sxop\n",
    "\n",
    "Vop = pylops.VStack([Sxop1, Szop1])\n",
    "Vop1 = pylops.VStack([Sxop1, Szop1], forceflat=True)\n",
    "print(Vop.forceflat)\n",
    "\n",
    "print((Vop @ np.ones(Vop.dims)).shape, (Vop1 @ np.ones(Vop.dims)).shape)\n",
    "print((Vop.H @ np.ones(Vop.dimsd)).shape, (Vop1.H @ np.ones(Vop.dimsd)).shape)\n",
    "\n",
    "print((Vop @ np.ones(Vop.shape[1])).shape, (Vop1 @ np.ones(Vop.shape[1])).shape)\n",
    "print((Vop.H @ np.ones(Vop.shape[0])).shape, (Vop1.H @ np.ones(Vop.shape[0])).shape)"
   ]
  },
  {
   "cell_type": "code",
   "execution_count": 16,
   "id": "c9396ee1",
   "metadata": {},
   "outputs": [
    {
     "name": "stdout",
     "output_type": "stream",
     "text": [
      "None\n",
      "(400,) (400,)\n",
      "(20, 10) (200,)\n",
      "(400,) (400,)\n",
      "(20, 10) (200,)\n"
     ]
    }
   ],
   "source": [
    "# VStack with Diagonal (the output of adjoint is a ndarray if not forced)\n",
    "D1 = pylops.Diagonal(np.ones(10), dims=(20, 10), axis=-1)\n",
    "D2 = pylops.Diagonal(np.arange(10), dims=(20, 10), axis=-1)\n",
    "\n",
    "Vop = pylops.VStack([D1, D2])\n",
    "Vop1 = pylops.VStack([D1, D2], forceflat=True)\n",
    "print(Vop.forceflat)\n",
    "\n",
    "print((Vop @ np.ones(Vop.dims)).shape, (Vop1 @ np.ones(Vop.dims)).shape)\n",
    "print((Vop.H @ np.ones(Vop.dimsd)).shape, (Vop1.H @ np.ones(Vop.dimsd)).shape)\n",
    "\n",
    "print((Vop @ np.ones(Vop.shape[1])).shape, (Vop1 @ np.ones(Vop.shape[1])).shape)\n",
    "print((Vop.H @ np.ones(Vop.shape[0])).shape, (Vop1.H @ np.ones(Vop.shape[0])).shape)"
   ]
  },
  {
   "cell_type": "code",
   "execution_count": 17,
   "id": "bc57badc",
   "metadata": {},
   "outputs": [
    {
     "name": "stdout",
     "output_type": "stream",
     "text": [
      "True\n",
      "(400,) (400,)\n",
      "(200,) (200,)\n",
      "(400,) (400,)\n",
      "(200,) (200,)\n"
     ]
    }
   ],
   "source": [
    "# VStack with Diagonal (the input dims of two operators is different, so VStack is return always flat arrays)\n",
    "D1 = pylops.Diagonal(np.ones(10), dims=(20, 10), axis=-1)\n",
    "D2 = pylops.Diagonal(np.arange(20), dims=(10, 20), axis=-1)\n",
    "\n",
    "Vop = pylops.VStack([D1, D2])\n",
    "Vop1 = pylops.VStack([D1, D2], forceflat=True)\n",
    "print(Vop.forceflat)\n",
    "\n",
    "print((Vop @ np.ones(Vop.dims)).shape, (Vop1 @ np.ones(Vop.dims)).shape)\n",
    "print((Vop.H @ np.ones(Vop.dimsd)).shape, (Vop1.H @ np.ones(Vop.dimsd)).shape)\n",
    "\n",
    "print((Vop @ np.ones(Vop.shape[1])).shape, (Vop1 @ np.ones(Vop.shape[1])).shape)\n",
    "print((Vop.H @ np.ones(Vop.shape[0])).shape, (Vop1.H @ np.ones(Vop.shape[0])).shape)"
   ]
  },
  {
   "cell_type": "code",
   "execution_count": 18,
   "id": "2e887cfa",
   "metadata": {},
   "outputs": [
    {
     "name": "stdout",
     "output_type": "stream",
     "text": [
      "None True\n",
      "(400,) (400,)\n",
      "(10, 20) (200,)\n",
      "(400,) (400,)\n",
      "(10, 20) (200,)\n"
     ]
    }
   ],
   "source": [
    "# VStack with Diagonal and operator in front (the output of adjoint is a ndarray if not forced)\n",
    "D1 = pylops.Diagonal(np.ones(10), dims=(20, 10), axis=-1)\n",
    "D2 = pylops.Diagonal(np.arange(10), dims=(20, 10), axis=-1)\n",
    "D = pylops.MatrixMult(np.ones((10, 10)), otherdims=(20),)\n",
    "\n",
    "Vop = pylops.VStack([D1, D2]) @ D\n",
    "Vop1 = pylops.VStack([D1, D2], forceflat=True) @ D\n",
    "print(Vop.forceflat, Vop1.forceflat)\n",
    "\n",
    "print((Vop @ np.ones(Vop.dims)).shape, (Vop1 @ np.ones(Vop.dims)).shape)\n",
    "print((Vop.H @ np.ones(Vop.dimsd)).shape, (Vop1.H @ np.ones(Vop.dimsd)).shape)\n",
    "\n",
    "print((Vop @ np.ones(Vop.shape[1])).shape, (Vop1 @ np.ones(Vop.shape[1])).shape)\n",
    "print((Vop.H @ np.ones(Vop.shape[0])).shape, (Vop1.H @ np.ones(Vop.shape[0])).shape)"
   ]
  },
  {
   "cell_type": "markdown",
   "id": "5dfb00ff",
   "metadata": {},
   "source": [
    "## HStack"
   ]
  },
  {
   "cell_type": "code",
   "execution_count": 19,
   "id": "efddebea",
   "metadata": {},
   "outputs": [
    {
     "name": "stdout",
     "output_type": "stream",
     "text": [
      "(20, 10) (200,)\n",
      "(400,) (400,)\n",
      "(20, 10) (200,)\n",
      "(400,) (400,)\n"
     ]
    }
   ],
   "source": [
    "# HStack with Diagonal (the output of forward is a ndarray if not forced)\n",
    "D1 = pylops.Diagonal(np.ones(10), dims=(20, 10), axis=-1)\n",
    "D2 = pylops.Diagonal(np.arange(10), dims=(20, 10), axis=-1)\n",
    "\n",
    "Hop = pylops.HStack([D1, D2])\n",
    "Hop1 = pylops.HStack([D1, D2], forceflat=True)\n",
    "\n",
    "print((Hop @ np.ones(Hop.dims)).shape, (Hop1 @ np.ones(Hop.dims)).shape)\n",
    "print((Hop.H @ np.ones(Hop.dimsd)).shape, (Hop1.H @ np.ones(Hop.dimsd)).shape)\n",
    "\n",
    "print((Hop @ np.ones(Hop.shape[1])).shape, (Hop1 @ np.ones(Hop.shape[1])).shape)\n",
    "print((Hop.H @ np.ones(Hop.shape[0])).shape, (Hop1.H @ np.ones(Hop.shape[0])).shape)"
   ]
  },
  {
   "cell_type": "code",
   "execution_count": 20,
   "id": "41ca5c3f",
   "metadata": {},
   "outputs": [
    {
     "name": "stdout",
     "output_type": "stream",
     "text": [
      "True\n",
      "(200,) (200,)\n",
      "(400,) (400,)\n",
      "(200,) (200,)\n",
      "(400,) (400,)\n"
     ]
    }
   ],
   "source": [
    "# HStack with Diagonal (the output dimsd of two operators is different, so HStack is return always flat arrays)\n",
    "D1 = pylops.Diagonal(np.ones(10), dims=(20, 10), axis=-1)\n",
    "D2 = pylops.Diagonal(np.arange(20), dims=(10, 20), axis=-1)\n",
    "\n",
    "Hop = pylops.HStack([D1, D2])\n",
    "Hop1 = pylops.HStack([D1, D2], forceflat=True)\n",
    "print(Hop.forceflat)\n",
    "\n",
    "print((Hop @ np.ones(Hop.dims)).shape, (Hop1 @ np.ones(Hop.dims)).shape)\n",
    "print((Hop.H @ np.ones(Hop.dimsd)).shape, (Hop1.H @ np.ones(Hop.dimsd)).shape)\n",
    "\n",
    "print((Hop @ np.ones(Hop.shape[1])).shape, (Hop1 @ np.ones(Hop.shape[1])).shape)\n",
    "print((Hop.H @ np.ones(Hop.shape[0])).shape, (Hop1.H @ np.ones(Hop.shape[0])).shape)"
   ]
  },
  {
   "cell_type": "code",
   "execution_count": 21,
   "id": "02f21ef7",
   "metadata": {},
   "outputs": [
    {
     "name": "stdout",
     "output_type": "stream",
     "text": [
      "None\n",
      "(10, 20) (200,)\n",
      "(400,) (400,)\n",
      "(10, 20) (200,)\n",
      "(400,) (400,)\n"
     ]
    }
   ],
   "source": [
    "# HStack with Diagonal and operator in end (the output of forward is a ndarray if not forced)\n",
    "D1 = pylops.Diagonal(np.ones(10), dims=(20, 10), axis=-1)\n",
    "D2 = pylops.Diagonal(np.arange(10), dims=(20, 10), axis=-1)\n",
    "D = pylops.MatrixMult(np.ones((10, 10)), otherdims=(20),)\n",
    "\n",
    "Hop = D @ pylops.HStack([D1, D2])\n",
    "Hop1 = D @ pylops.HStack([D1, D2], forceflat=True)\n",
    "print(Hop.forceflat)\n",
    "\n",
    "print((Hop @ np.ones(Hop.dims)).shape, (Hop1 @ np.ones(Hop.dims)).shape)\n",
    "print((Hop.H @ np.ones(Hop.dimsd)).shape, (Hop1.H @ np.ones(Hop.dimsd)).shape)\n",
    "\n",
    "print((Hop @ np.ones(Hop.shape[1])).shape, (Hop1 @ np.ones(Hop.shape[1])).shape)\n",
    "print((Hop.H @ np.ones(Hop.shape[0])).shape, (Hop1.H @ np.ones(Hop.shape[0])).shape)"
   ]
  },
  {
   "cell_type": "markdown",
   "id": "f91ae2db",
   "metadata": {},
   "source": [
    "## Block"
   ]
  },
  {
   "cell_type": "code",
   "execution_count": 22,
   "id": "307c4a45",
   "metadata": {},
   "outputs": [
    {
     "name": "stdout",
     "output_type": "stream",
     "text": [
      "<15x15 Block with dtype=float64> (15,) (15,)\n",
      "(15,) (15,)\n",
      "(15,) (15,)\n",
      "(15,) (15,)\n",
      "(15,) (15,)\n"
     ]
    }
   ],
   "source": [
    "Bop = pylops.Block([[pylops.Identity(5), pylops.Zero(5),       pylops.Zero(5)],\n",
    "                    [pylops.Zero(5),     2*pylops.Identity(5), pylops.Zero(5)],\n",
    "                    [pylops.Zero(5),     pylops.Zero(5),       -1*pylops.Identity(5)]])\n",
    "Bop1 = pylops.Block([[pylops.Identity(5), pylops.Zero(5),       pylops.Zero(5)],\n",
    "                    [pylops.Zero(5),     2*pylops.Identity(5), pylops.Zero(5)],\n",
    "                    [pylops.Zero(5),     pylops.Zero(5),       -1*pylops.Identity(5)]], \n",
    "                    forceflat=True)\n",
    "\n",
    "print(Bop, Bop.dims, Bop.dimsd)\n",
    "\n",
    "print((Bop @ np.ones(Bop.dims)).shape, (Bop1 @ np.ones(Bop.dims)).shape)\n",
    "print((Bop.H @ np.ones(Bop.dimsd)).shape, (Bop1.H @ np.ones(Bop.dimsd)).shape)\n",
    "\n",
    "print((Bop @ np.ones(Bop.shape[1])).shape, (Bop1 @ np.ones(Bop.shape[1])).shape)\n",
    "print((Bop.H @ np.ones(Bop.shape[0])).shape, (Bop1.H @ np.ones(Bop.shape[0])).shape)"
   ]
  },
  {
   "cell_type": "code",
   "execution_count": 23,
   "id": "0e3cbe75",
   "metadata": {},
   "outputs": [
    {
     "name": "stdout",
     "output_type": "stream",
     "text": [
      "<600x600 Block with dtype=float64> (600,) (600,)\n",
      "(600,) (600,)\n",
      "(600,) (600,)\n",
      "(600,) (600,)\n",
      "(600,) (600,)\n"
     ]
    }
   ],
   "source": [
    "Dop = pylops.Diagonal(np.ones(10), dims=(20, 10), axis=-1)\n",
    "Mop = pylops.MatrixMult(np.ones((20, 20)), otherdims=(10),)\n",
    "\n",
    "Bop = pylops.Block([[Dop, Mop, Dop],\n",
    "                    [Mop, Dop, Dop],\n",
    "                    [Dop, Dop, Mop]])\n",
    "Bop1 = pylops.Block([[Dop, Mop, Dop],\n",
    "                    [Mop, Dop, Dop],\n",
    "                    [Dop, Dop, Mop]],\n",
    "                     forceflat=True)\n",
    "print(Bop, Bop.dims, Bop.dimsd)\n",
    "\n",
    "print((Bop @ np.ones(Bop.dims)).shape, (Bop1 @ np.ones(Bop.dims)).shape)\n",
    "print((Bop.H @ np.ones(Bop.dimsd)).shape, (Bop1.H @ np.ones(Bop.dimsd)).shape)\n",
    "\n",
    "print((Bop @ np.ones(Bop.shape[1])).shape, (Bop1 @ np.ones(Bop.shape[1])).shape)\n",
    "print((Bop.H @ np.ones(Bop.shape[0])).shape, (Bop1.H @ np.ones(Bop.shape[0])).shape)"
   ]
  },
  {
   "cell_type": "markdown",
   "id": "c05077e6",
   "metadata": {},
   "source": [
    "## BlockDiag"
   ]
  },
  {
   "cell_type": "code",
   "execution_count": 24,
   "id": "0718e4a5",
   "metadata": {},
   "outputs": [
    {
     "name": "stdout",
     "output_type": "stream",
     "text": [
      "(2, 20, 10) (2, 20, 10)\n",
      "(2, 20, 10) (2, 20, 10)\n",
      "None\n",
      "(2, 20, 10) (400,)\n",
      "(2, 20, 10) (400,)\n"
     ]
    }
   ],
   "source": [
    "# BlockDiag with Diagonal (same size for input and output - ndarrays)\n",
    "D1 = pylops.Diagonal(np.ones(10), dims=(20, 10), axis=-1)\n",
    "D2 = pylops.Diagonal(np.arange(10), dims=(20, 10), axis=-1)\n",
    "D = pylops.MatrixMult(np.ones((10, 20)), otherdims=(20),)\n",
    "\n",
    "Bop = pylops.BlockDiag([D1, D2])\n",
    "Bop1 = pylops.BlockDiag([D1, D2], forceflat=True)\n",
    "print(Bop.forceflat)\n",
    "\n",
    "print((Bop @ np.ones(Bop.dims)).shape, (Bop1 @ np.ones(Bop.dims)).shape)\n",
    "print((Bop.H @ np.ones(Bop.dimsd)).shape, (Bop1.H @ np.ones(Bop.dimsd)).shape)"
   ]
  },
  {
   "cell_type": "code",
   "execution_count": 25,
   "id": "8cf0c32f",
   "metadata": {},
   "outputs": [
    {
     "name": "stdout",
     "output_type": "stream",
     "text": [
      "(400,) (400,)\n",
      "True\n",
      "(400,)\n",
      "(400,)\n"
     ]
    }
   ],
   "source": [
    "# BlockDiag with Diagonal (different size for input and output - forced 1darrays)\n",
    "D1 = pylops.Diagonal(np.ones(10), dims=(20, 10), axis=-1)\n",
    "D2 = pylops.Diagonal(np.arange(20), dims=(10, 20), axis=-1)\n",
    "\n",
    "Bop = pylops.BlockDiag([D1, D2])\n",
    "print(Bop.forceflat)\n",
    "\n",
    "print((Bop @ np.ones(Bop.shape[1])).shape)\n",
    "print((Bop.H @ np.ones(Bop.shape[0])).shape)"
   ]
  },
  {
   "cell_type": "code",
   "execution_count": 26,
   "id": "361b6af6",
   "metadata": {},
   "outputs": [
    {
     "name": "stdout",
     "output_type": "stream",
     "text": [
      "(2, 20, 10) (2, 20, 10)\n",
      "(2, 20, 10) (2, 20, 10)\n",
      "None\n",
      "(2, 20, 10) (400,)\n",
      "(10, 20) (200,)\n",
      "(400,) (400,)\n",
      "(200,) (200,)\n"
     ]
    }
   ],
   "source": [
    "# BlockDiag with Diagonal and operator in front \n",
    "D1 = pylops.Diagonal(np.ones(10), dims=(20, 10), axis=-1)\n",
    "D2 = pylops.Diagonal(np.arange(10), dims=(20, 10), axis=-1)\n",
    "D = pylops.MatrixMult(np.ones((20, 10)), otherdims=(20),)\n",
    "\n",
    "Bop = pylops.BlockDiag([D1, D2]) @ D\n",
    "Bop1 = pylops.BlockDiag([D1, D2], forceflat=True) @ D\n",
    "print(Bop.forceflat)\n",
    "\n",
    "print((Bop @ np.ones(Bop.dims)).shape, (Bop1 @ np.ones(Bop.dims)).shape)\n",
    "print((Bop.H @ np.ones(Bop.dimsd)).shape, (Bop1.H @ np.ones(Bop.dimsd)).shape)\n",
    "\n",
    "print((Bop @ np.ones(Bop.shape[1])).shape, (Bop1 @ np.ones(Bop.shape[1])).shape)\n",
    "print((Bop.H @ np.ones(Bop.shape[0])).shape, (Bop1.H @ np.ones(Bop.shape[0])).shape)"
   ]
  },
  {
   "cell_type": "code",
   "execution_count": 27,
   "id": "cf9deb20",
   "metadata": {},
   "outputs": [
    {
     "name": "stdout",
     "output_type": "stream",
     "text": [
      "(400,) (400,)\n",
      "(400,) (400,)\n",
      "True\n",
      "(400,) (400,)\n",
      "(200,) (200,)\n",
      "(400,) (400,)\n",
      "(200,) (200,)\n"
     ]
    }
   ],
   "source": [
    "# BlockDiag with Diagonal and operator in front (different size for input and output - forced 1darrays)\n",
    "D1 = pylops.Diagonal(np.ones(10), dims=(20, 10), axis=-1)\n",
    "D2 = pylops.Diagonal(np.arange(20), dims=(10, 20), axis=-1)\n",
    "D = pylops.MatrixMult(np.ones((20, 10)), otherdims=(20),)\n",
    "\n",
    "Bop = pylops.BlockDiag([D1, D2]) @ D\n",
    "Bop1 = pylops.BlockDiag([D1, D2], forceflat=True) @ D\n",
    "print(Bop.forceflat)\n",
    "\n",
    "print((Bop @ np.ones(Bop.dims)).shape, (Bop1 @ np.ones(Bop.dims)).shape)\n",
    "print((Bop.H @ np.ones(Bop.dimsd)).shape, (Bop1.H @ np.ones(Bop.dimsd)).shape)\n",
    "\n",
    "print((Bop @ np.ones(Bop.shape[1])).shape, (Bop1 @ np.ones(Bop.shape[1])).shape)\n",
    "print((Bop.H @ np.ones(Bop.shape[0])).shape, (Bop1.H @ np.ones(Bop.shape[0])).shape)"
   ]
  },
  {
   "cell_type": "markdown",
   "id": "d220f2cc",
   "metadata": {},
   "source": [
    "## MatrixMult"
   ]
  },
  {
   "cell_type": "code",
   "execution_count": 28,
   "id": "7196991a",
   "metadata": {},
   "outputs": [
    {
     "name": "stdout",
     "output_type": "stream",
     "text": [
      "None\n",
      "True\n",
      "(30,) (30,)\n",
      "(5, 5) (5, 5)\n",
      "(30,) (30,)\n",
      "(25,) (25,)\n"
     ]
    }
   ],
   "source": [
    "M = pylops.MatrixMult(np.ones((30, 25)))\n",
    "M1 = pylops.MatrixMult(np.ones((30, 25)), forceflat=True)\n",
    "F = pylops.signalprocessing.FFT2D((5, 5))\n",
    "Op = M @ F\n",
    "Op1 = M1 @ F\n",
    "print(Op.forceflat)\n",
    "print(Op1.forceflat)\n",
    "\n",
    "print((Op @ np.ones(Op.dims)).shape, (Op @ np.ones(Op.shape[1])).shape)\n",
    "print((Op.H @ np.ones(Op.dimsd)).shape, (Op.H @ np.ones(Op.shape[0])).shape)\n",
    "\n",
    "print((Op1 @ np.ones(Op.dims)).shape, (Op1 @ np.ones(Op.shape[1])).shape)\n",
    "print((Op1.H @ np.ones(Op.dimsd)).shape, (Op1.H @ np.ones(Op.shape[0])).shape)"
   ]
  },
  {
   "cell_type": "markdown",
   "id": "bab586cb",
   "metadata": {},
   "source": [
    "## Identity"
   ]
  },
  {
   "cell_type": "code",
   "execution_count": 29,
   "id": "83f9e791",
   "metadata": {},
   "outputs": [
    {
     "name": "stdout",
     "output_type": "stream",
     "text": [
      "None True\n",
      "(25,) (25,)\n",
      "(5, 5) (25,)\n",
      "(25,) (25,)\n",
      "(5, 5) (25,)\n"
     ]
    }
   ],
   "source": [
    "I = pylops.Identity(25)\n",
    "I1 = pylops.Identity(25, forceflat=True)\n",
    "F = pylops.signalprocessing.FFT2D((5, 5))\n",
    "print(I.forceflat, I1.forceflat)\n",
    "Op = I @ F\n",
    "Op1 = I1 @ F\n",
    "\n",
    "print((Op @ np.ones(Op.shape[1])).shape, (Op1 @ np.ones(Op.shape[1])).shape)\n",
    "print((Op.H @ np.ones(Op.shape[0])).shape, (Op1.H @ np.ones(Op.shape[0])).shape)\n",
    "\n",
    "print((Op @ np.ones(Op.dims)).shape, (Op1 @ np.ones(Op.dims)).shape)\n",
    "print((Op.H @ np.ones(Op.dimsd)).shape, (Op1.H @ np.ones(Op.dimsd)).shape)"
   ]
  },
  {
   "cell_type": "code",
   "execution_count": 30,
   "id": "2bdf7094",
   "metadata": {},
   "outputs": [
    {
     "name": "stdout",
     "output_type": "stream",
     "text": [
      "None True\n",
      "(15,) (15,)\n",
      "(25,) (25,)\n",
      "(3, 5) (15,)\n",
      "(5, 5) (25,)\n"
     ]
    }
   ],
   "source": [
    "I = pylops.Identity((3, 5), (5, 5))\n",
    "I1 = pylops.Identity((3, 5), (5, 5), forceflat=True)\n",
    "F = pylops.signalprocessing.FFT2D((5, 5))\n",
    "print(I.forceflat, I1.forceflat)\n",
    "Op = I @ F\n",
    "Op1 = I1 @ F\n",
    "\n",
    "print((Op @ np.ones(Op.shape[1])).shape, (Op1 @ np.ones(Op.shape[1])).shape)\n",
    "print((Op.H @ np.ones(Op.shape[0])).shape, (Op1.H @ np.ones(Op.shape[0])).shape)\n",
    "\n",
    "print((Op @ np.ones(Op.dims)).shape, (Op1 @ np.ones(Op.dims)).shape)\n",
    "print((Op.H @ np.ones(Op.dimsd)).shape, (Op1.H @ np.ones(Op.dimsd)).shape)"
   ]
  },
  {
   "cell_type": "markdown",
   "id": "6d0756ef",
   "metadata": {},
   "source": [
    "## Zero"
   ]
  },
  {
   "cell_type": "code",
   "execution_count": 61,
   "id": "e61a85fc",
   "metadata": {},
   "outputs": [
    {
     "name": "stdout",
     "output_type": "stream",
     "text": [
      "(15,) (15,)\n",
      "(25,) (25,)\n",
      "(3, 5) (15,)\n",
      "(5, 5) (25,)\n"
     ]
    }
   ],
   "source": [
    "Z = pylops.Zero((3, 5), (5, 5))\n",
    "Z1 = pylops.Zero((3, 5), (5, 5), forceflat=True)\n",
    "\n",
    "print((Z @ np.ones(Z.shape[1])).shape, (Z1 @ np.ones(Z.shape[1])).shape)\n",
    "print((Z.H @ np.ones(Z.shape[0])).shape, (Z1.H @ np.ones(Z.shape[0])).shape)\n",
    "\n",
    "print((Z @ np.ones(Z.dims)).shape, (Z1 @ np.ones(Z.dims)).shape)\n",
    "print((Z.H @ np.ones(Z.dimsd)).shape, (Z1.H @ np.ones(Z.dimsd)).shape)"
   ]
  },
  {
   "cell_type": "code",
   "execution_count": null,
   "id": "4d9826b1",
   "metadata": {},
   "outputs": [],
   "source": [
    "Z = pylops.Zero(25, 10)\n",
    "Z1 = pylops.Zero(25, 10, forceflat=True)\n",
    "\n",
    "print((Z @ np.ones(Z.shape[1])).shape, (Z1 @ np.ones(Z.shape[1])).shape)\n",
    "print((Z.H @ np.ones(Z.shape[0])).shape, (Z1.H @ np.ones(Z.shape[0])).shape)\n",
    "\n",
    "print((Z @ np.ones(Z.dims)).shape, (Z1 @ np.ones(Z.dims)).shape)\n",
    "print((Z.H @ np.ones(Z.dimsd)).shape, (Z1.H @ np.ones(Z.dimsd)).shape)"
   ]
  },
  {
   "cell_type": "markdown",
   "id": "e29d8572",
   "metadata": {},
   "source": [
    "## Inconsistent use of forceflat for two operators"
   ]
  },
  {
   "cell_type": "code",
   "execution_count": 31,
   "id": "bd1c394b",
   "metadata": {},
   "outputs": [
    {
     "name": "stdout",
     "output_type": "stream",
     "text": [
      "True False\n"
     ]
    },
    {
     "ename": "ValueError",
     "evalue": "the two operators have contrasting forceflat None-True",
     "output_type": "error",
     "traceback": [
      "\u001b[0;31m---------------------------------------------------------------------------\u001b[0m",
      "\u001b[0;31mValueError\u001b[0m                                Traceback (most recent call last)",
      "Input \u001b[0;32mIn [31]\u001b[0m, in \u001b[0;36m<cell line: 6>\u001b[0;34m()\u001b[0m\n\u001b[1;32m      3\u001b[0m BH \u001b[38;5;241m=\u001b[39m B\u001b[38;5;241m.\u001b[39mH \n\u001b[1;32m      5\u001b[0m \u001b[38;5;28mprint\u001b[39m(BH\u001b[38;5;241m.\u001b[39mforceflat, S\u001b[38;5;241m.\u001b[39mforceflat)\n\u001b[0;32m----> 6\u001b[0m \u001b[38;5;28mprint\u001b[39m(\u001b[43mS\u001b[49m\u001b[43m \u001b[49m\u001b[38;5;241;43m@\u001b[39;49m\u001b[43m \u001b[49m\u001b[43mB\u001b[49m\u001b[38;5;241;43m.\u001b[39;49m\u001b[43mH\u001b[49m, B \u001b[38;5;241m@\u001b[39m S\u001b[38;5;241m.\u001b[39mH)\n",
      "File \u001b[0;32m~/Desktop/KAUST/OpenSource/pylops/pylops/linearoperator.py:311\u001b[0m, in \u001b[0;36mLinearOperator.__matmul__\u001b[0;34m(self, other)\u001b[0m\n\u001b[1;32m    309\u001b[0m \u001b[38;5;28;01mif\u001b[39;00m np\u001b[38;5;241m.\u001b[39misscalar(other):\n\u001b[1;32m    310\u001b[0m     \u001b[38;5;28;01mraise\u001b[39;00m \u001b[38;5;167;01mValueError\u001b[39;00m(\u001b[38;5;124m\"\u001b[39m\u001b[38;5;124mScalar not allowed, use * instead\u001b[39m\u001b[38;5;124m\"\u001b[39m)\n\u001b[0;32m--> 311\u001b[0m \u001b[38;5;28;01mreturn\u001b[39;00m \u001b[38;5;28;43mself\u001b[39;49m\u001b[38;5;241;43m.\u001b[39;49m\u001b[38;5;21;43m__mul__\u001b[39;49m\u001b[43m(\u001b[49m\u001b[43mother\u001b[49m\u001b[43m)\u001b[49m\n",
      "File \u001b[0;32m~/Desktop/KAUST/OpenSource/pylops/pylops/linearoperator.py:306\u001b[0m, in \u001b[0;36mLinearOperator.__mul__\u001b[0;34m(self, x)\u001b[0m\n\u001b[1;32m    305\u001b[0m \u001b[38;5;28;01mdef\u001b[39;00m \u001b[38;5;21m__mul__\u001b[39m(\u001b[38;5;28mself\u001b[39m, x: Union[\u001b[38;5;28mfloat\u001b[39m, LinearOperator]) \u001b[38;5;241m-\u001b[39m\u001b[38;5;241m>\u001b[39m LinearOperator:\n\u001b[0;32m--> 306\u001b[0m     \u001b[38;5;28;01mreturn\u001b[39;00m \u001b[38;5;28;43mself\u001b[39;49m\u001b[38;5;241;43m.\u001b[39;49m\u001b[43mdot\u001b[49m\u001b[43m(\u001b[49m\u001b[43mx\u001b[49m\u001b[43m)\u001b[49m\n",
      "File \u001b[0;32m~/Desktop/KAUST/OpenSource/pylops/pylops/linearoperator.py:633\u001b[0m, in \u001b[0;36mLinearOperator.dot\u001b[0;34m(self, x)\u001b[0m\n\u001b[1;32m    631\u001b[0m \u001b[38;5;28;01mif\u001b[39;00m \u001b[38;5;28misinstance\u001b[39m(\u001b[38;5;28mself\u001b[39m\u001b[38;5;241m.\u001b[39mforceflat, \u001b[38;5;28mbool\u001b[39m) \u001b[38;5;129;01mand\u001b[39;00m \u001b[38;5;28misinstance\u001b[39m(Opx\u001b[38;5;241m.\u001b[39mforceflat, \u001b[38;5;28mbool\u001b[39m):\n\u001b[1;32m    632\u001b[0m     \u001b[38;5;28;01mif\u001b[39;00m \u001b[38;5;28mself\u001b[39m\u001b[38;5;241m.\u001b[39mforceflat \u001b[38;5;241m!=\u001b[39m Opx\u001b[38;5;241m.\u001b[39mforceflat:\n\u001b[0;32m--> 633\u001b[0m         \u001b[38;5;28;01mraise\u001b[39;00m \u001b[38;5;167;01mValueError\u001b[39;00m(\n\u001b[1;32m    634\u001b[0m             \u001b[38;5;124mf\u001b[39m\u001b[38;5;124m\"\u001b[39m\u001b[38;5;124mthe two operators have contrasting forceflat \u001b[39m\u001b[38;5;132;01m{\u001b[39;00mOp\u001b[38;5;241m.\u001b[39mforceflat\u001b[38;5;132;01m}\u001b[39;00m\u001b[38;5;124m-\u001b[39m\u001b[38;5;132;01m{\u001b[39;00mOpx\u001b[38;5;241m.\u001b[39mforceflat\u001b[38;5;132;01m}\u001b[39;00m\u001b[38;5;124m\"\u001b[39m\n\u001b[1;32m    635\u001b[0m         )\n\u001b[1;32m    636\u001b[0m     \u001b[38;5;28;01melse\u001b[39;00m:\n\u001b[1;32m    637\u001b[0m         Op\u001b[38;5;241m.\u001b[39mforceflat \u001b[38;5;241m=\u001b[39m \u001b[38;5;28mself\u001b[39m\u001b[38;5;241m.\u001b[39mforceflat\n",
      "\u001b[0;31mValueError\u001b[0m: the two operators have contrasting forceflat None-True"
     ]
    }
   ],
   "source": [
    "S = pylops.Sum((nz, nx), axis=-1, forceflat=False)\n",
    "B = pylops.signalprocessing.Bilinear(iava, (nz, nx), forceflat=True)\n",
    "BH = B.H \n",
    "\n",
    "print(BH.forceflat, S.forceflat)\n",
    "print(S @ B.H, B @ S.H)"
   ]
  },
  {
   "cell_type": "code",
   "execution_count": null,
   "id": "ffa35116",
   "metadata": {},
   "outputs": [],
   "source": []
  }
 ],
 "metadata": {
  "kernelspec": {
   "display_name": "Python 3 (ipykernel)",
   "language": "python",
   "name": "python3"
  },
  "language_info": {
   "codemirror_mode": {
    "name": "ipython",
    "version": 3
   },
   "file_extension": ".py",
   "mimetype": "text/x-python",
   "name": "python",
   "nbconvert_exporter": "python",
   "pygments_lexer": "ipython3",
   "version": "3.9.12"
  },
  "toc": {
   "base_numbering": 1,
   "nav_menu": {},
   "number_sections": true,
   "sideBar": true,
   "skip_h1_title": false,
   "title_cell": "Table of Contents",
   "title_sidebar": "Contents",
   "toc_cell": false,
   "toc_position": {
    "height": "calc(100% - 180px)",
    "left": "10px",
    "top": "150px",
    "width": "214.796875px"
   },
   "toc_section_display": true,
   "toc_window_display": true
  }
 },
 "nbformat": 4,
 "nbformat_minor": 5
}
