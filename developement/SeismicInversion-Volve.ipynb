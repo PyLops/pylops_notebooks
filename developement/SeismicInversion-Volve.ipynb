{
 "cells": [
  {
   "cell_type": "markdown",
   "metadata": {},
   "source": [
    "# Seismic inversion - Volve data"
   ]
  },
  {
   "cell_type": "markdown",
   "metadata": {},
   "source": [
    "### Author: M. Ravasi"
   ]
  },
  {
   "cell_type": "markdown",
   "metadata": {},
   "source": [
    "This notebook aims at presenting a simple example of colored seismic inversion.\n",
    "\n",
    "We will use Volve data as input data to our inversion and we will leverage the open-source segyio and pylops libraries to accomplish our task as follows:\n",
    "\n",
    "- Data is read from SEG-Y file using segyio (note that for the Volve data we will have to deal with irregular geometry)\n",
    "- Colored inversion is applied by means of ``pylops.avo.poststack.PoststackInversion``\n",
    "- Inverted data is saved back to SEG-Y file using segyio"
   ]
  },
  {
   "cell_type": "markdown",
   "metadata": {},
   "source": [
    "We cannot provide the data given its size, but the Volve data is hosted on a Azure Blob storage so it is very easy to download it using the Azure CLI\n"
   ]
  },
  {
   "cell_type": "code",
   "execution_count": null,
   "metadata": {},
   "outputs": [],
   "source": [
    "# TO BE RUN ONLY ONCE TO RETRIEVE THE DATA\n",
    "#!az storage blob download --account-name dataplatformblvolve --container-name pub --name Seismic/ST10010/Stacks/ST10010ZC11_PZ_PSDM_KIRCH_FAR_D.MIG_FIN.POST_STACK.3D.JS-017536.segy --file ST10010ZC11_PZ_PSDM_KIRCH_FULL_D.MIG_FIN.POST_STACK.3D.JS-017536.segy --sas-token \"$YOURTOKEN\"\n",
    "#!mv ST10010ZC11_PZ_PSDM_KIRCH_FULL_D.MIG_FIN.POST_STACK.3D.JS-017536.segy ../../data/pylops"
   ]
  },
  {
   "cell_type": "markdown",
   "metadata": {},
   "source": [
    "\n",
    "where you will need to substitute ``$YOURTOKEN`` with your personal token. To get a token, simply register at https://data.equinor.com/authenticate and find the token in the red text in the Usage section. Ensure to copy everything from `?sv=` to `=rl` in place of ``$YOURTOKEN``.\n",
    "\n",
    "Let's first import all the libraries we need"
   ]
  },
  {
   "cell_type": "code",
   "execution_count": null,
   "metadata": {},
   "outputs": [],
   "source": [
    "%load_ext autoreload\n",
    "%autoreload 2\n",
    "%matplotlib inline\n",
    "\n",
    "import os\n",
    "import sys\n",
    "import numpy as np\n",
    "import yaml\n",
    "import segyio\n",
    "import pylops\n",
    "import matplotlib.pyplot as plt"
   ]
  },
  {
   "cell_type": "markdown",
   "metadata": {},
   "source": [
    "And define some of the input parameters we will use later (refer to the following for a more detailed description of the types of inversion)"
   ]
  },
  {
   "cell_type": "code",
   "execution_count": null,
   "metadata": {},
   "outputs": [],
   "source": [
    "# Data\n",
    "itmin = 600 # index of first time/depth sample in data used in colored inversion\n",
    "itmax = 800 # number of samples of statistical wavelet\n",
    "\n",
    "# Wavelet estimation\n",
    "nt_wav = 21 # number of samples of statistical wavelet\n",
    "nfft = 512 # number of samples of FFT\n",
    "\n",
    "# Trace-by-Trace Inversion\n",
    "epsI_tt = 1e-3 # damping\n",
    "\n",
    "# Spatially simultaneous\n",
    "niter_sr = 3 # number of iterations\n",
    "epsI_sr = 1e-4 # damping\n",
    "epsR_sr = 1e2 # spatial regularization\n",
    "\n",
    "# Blocky simultaneous\n",
    "niter_in_b = 1 # number of iterations\n",
    "niter_out_b = 3 # number of iterations\n",
    "niter_b = 10 # number of iterations of lsqr\n",
    "mu_b = 1e-1 # damping for data term\n",
    "epsI_b = 1e-4 # damping\n",
    "epsR_b = 0.1 # spatial regularization\n",
    "epsRL1_b = 0.2 # blocky regularization"
   ]
  },
  {
   "cell_type": "markdown",
   "metadata": {},
   "source": [
    "Let's now read the Volve data.\n",
    "\n",
    "Note that we add the `ignore_geometry=True` parameter when we open the file. As we will see the geometry in this file is not regular, so we cannot rely on the inner working of segyio to get our data into a 3d numpy.\n",
    "\n",
    "We thus need to read all ILs, XLs and traces and reorganize them ourselves into a regular grid. No worries, numpy will do most of the hard work."
   ]
  },
  {
   "cell_type": "code",
   "execution_count": null,
   "metadata": {},
   "outputs": [],
   "source": [
    "f = segyio.open('../data/seismicinversion/ST10010ZC11_PZ_PSDM_KIRCH_FAR_D.MIG_FIN.POST_STACK.3D.JS-017536.segy', ignore_geometry=True)\n",
    "\n",
    "traces = segyio.collect(f.trace)[:]\n",
    "traces = traces[:, itmin:itmax]\n",
    "ntraces, nt = traces.shape\n",
    "\n",
    "t = f.samples[itmin:itmax]\n",
    "il = f.attributes(segyio.TraceField.INLINE_3D)[:]\n",
    "xl = f.attributes(segyio.TraceField.CROSSLINE_3D)[:]\n",
    "\n",
    "# Define regular IL and XL axes\n",
    "il_unique = np.unique(il)\n",
    "xl_unique = np.unique(xl)\n",
    "\n",
    "il_min, il_max = min(il_unique), max(il_unique)\n",
    "xl_min, xl_max = min(xl_unique), max(xl_unique)\n",
    "\n",
    "dt = t[1] - t[0]\n",
    "dil = min(np.unique(np.diff(il_unique)))\n",
    "dxl = min(np.unique(np.diff(xl_unique)))\n",
    "\n",
    "ilines = np.arange(il_min, il_max + dil, dil)\n",
    "xlines = np.arange(xl_min, xl_max + dxl, dxl)\n",
    "nil, nxl = ilines.size, xlines.size\n",
    "\n",
    "ilgrid, xlgrid = np.meshgrid(np.arange(nil),\n",
    "                             np.arange(nxl),\n",
    "                             indexing='ij')\n",
    "\n",
    "# Look-up table\n",
    "traces_indeces = np.full((nil, nxl), np.nan)\n",
    "iils = (il - il_min) // dil\n",
    "ixls = (xl - xl_min) // dxl\n",
    "traces_indeces[iils, ixls] = np.arange(ntraces)\n",
    "traces_available = np.logical_not(np.isnan(traces_indeces))\n",
    "\n",
    "# Reorganize traces in regular grid\n",
    "d = np.zeros((nil, nxl, nt))\n",
    "d[ilgrid.ravel()[traces_available.ravel()],\n",
    "  xlgrid.ravel()[traces_available.ravel()]] = traces\n",
    "\n",
    "# Subsample data\n",
    "#d = d[::jil, ::jxl, ::jt]\n",
    "#xlines = xlines[::jxl]\n",
    "#ilines = ilines[::jil]\n",
    "#t = t[::jt]\n",
    "#dt = t[1] - t[0]\n",
    "#nil, nxl, nt = d.shape\n",
    "\n",
    "# Display data\n",
    "plt.figure(figsize=(7, 9))\n",
    "plt.imshow(d[nil//2].T, cmap='RdYlBu', vmin=-5, vmax=5,\n",
    "           extent=(xlines[0], xlines[-1], t[-1], t[0]))\n",
    "plt.title('Seismic data - section')\n",
    "plt.colorbar()\n",
    "plt.axis('tight')"
   ]
  },
  {
   "cell_type": "markdown",
   "metadata": {},
   "source": [
    "Let's now try to get a quick estimate of the wavelet in our data using a simple statistical wavelet estimation in frequency domain.\n",
    "\n",
    "Note that this notebook is not focused on the pre-processing but we will need access to this to apply a colored inversion."
   ]
  },
  {
   "cell_type": "code",
   "execution_count": null,
   "metadata": {
    "scrolled": false
   },
   "outputs": [],
   "source": [
    "# Wavelet time axis\n",
    "t_wav = np.arange(nt_wav) * (dt/1000)\n",
    "t_wav = np.concatenate((np.flipud(-t_wav[1:]), t_wav), axis=0)\n",
    "\n",
    "# Estimate wavelet spectrum\n",
    "wav_est_fft = np.mean(np.abs(np.fft.fft(d[::2, ::2], nfft, axis=-1)), axis=(0, 1))\n",
    "fwest = np.fft.fftfreq(nfft, d=dt/1000)\n",
    "\n",
    "# Create wavelet in time\n",
    "wav_est = np.real(np.fft.ifft(wav_est_fft)[:nt_wav])\n",
    "wav_est = np.concatenate((np.flipud(wav_est[1:]), wav_est), axis=0)\n",
    "wav_est = wav_est / wav_est.max()\n",
    "\n",
    "# Display wavelet\n",
    "fig, axs = plt.subplots(1, 2, figsize=(20, 5))\n",
    "fig.suptitle('Statistical wavelet estimate')\n",
    "axs[0].plot(fwest[:nfft//2], wav_est_fft[:nfft//2], 'k')\n",
    "axs[0].set_title('Frequency')\n",
    "axs[1].plot(t_wav, wav_est, 'k')\n",
    "axs[1].set_title('Time');"
   ]
  },
  {
   "cell_type": "markdown",
   "metadata": {},
   "source": [
    "To the main part of our notebook, colored inversion. \n",
    "\n",
    "Let's quickly review the theory: we start from a seismic data and an estimated wavelet and we want to estimate a model of the acoustic impedance ($AI=v_p*\\rho$). To achieve this we need to first look into the forward modelling problem (i.e., how I can model the seismic response from an AI profile and a wavelet):\n",
    "\n",
    "$$d(t, \\theta=0) = w(t) * \\frac{dln(AI(t))}{dt}$$\n",
    "\n",
    "where $AI(t)$ is the acoustic impedance profile and $w(t)$ is the time domain seismic wavelet. In compact form:\n",
    "\n",
    "$$\\mathbf{d}= \\mathbf{W} \\mathbf{D} \\mathbf{ai}$$\n",
    "\n",
    "where $\\mathbf{W}$ is a wavelet convolution operator implemented via ``pylops.signalprocessing.Convolve1D`` and $\\mathbf{D}$ is a derivative operator implemented via ``pylops.basicoperators.FirstDerivative``.\n",
    "\n",
    "\n",
    "Post-stack (or colored) inversion is nothing more than the inverse process which aims at recovering the impedance profile from the band-limited seismic stack data.\n",
    "\n",
    "For more details and examples: https://pylops.readthedocs.io/en/latest/tutorials/poststack.html#sphx-glr-tutorials-poststack-py"
   ]
  },
  {
   "cell_type": "markdown",
   "metadata": {},
   "source": [
    "At this point we want to show how easy is to setup a new forward modelling in PyLops. After we will use a convenience function ``pylops.avo.poststack.PoststackInversion`` that will do the hard work for us"
   ]
  },
  {
   "cell_type": "code",
   "execution_count": null,
   "metadata": {},
   "outputs": [],
   "source": [
    "dims = (nil, nxl, nt)\n",
    "\n",
    "# Create wavelet operator\n",
    "Cop = pylops.signalprocessing.Convolve1D(np.prod(np.array(dims)), h=wav_est,\n",
    "                                         offset=len(wav_est)//2, dir=0, dims=dims)\n",
    "\n",
    "# Create derivative operator\n",
    "Dop = pylops.basicoperators.FirstDerivative(np.prod(np.array(dims)), dims=dims,\n",
    "                                            dir=0, sampling=1.)\n",
    "\n",
    "Postop = Cop*Dop\n",
    "print(Postop)"
   ]
  },
  {
   "cell_type": "markdown",
   "metadata": {},
   "source": [
    "We can see how this operator works by simply applying its adjoint to the recorded data"
   ]
  },
  {
   "cell_type": "code",
   "execution_count": null,
   "metadata": {},
   "outputs": [],
   "source": [
    "# Swap time axis back to first dimension\n",
    "d = np.swapaxes(d, -1, 0) \n",
    "\n",
    "# Adjoint\n",
    "m_adj = Postop.H * d.ravel()\n",
    "\n",
    "# Forward\n",
    "d_adj = Postop.H * m_adj\n",
    "\n",
    "m_adj = m_adj.reshape(d.shape) \n",
    "d_adj = d_adj.reshape(d.shape) "
   ]
  },
  {
   "cell_type": "code",
   "execution_count": null,
   "metadata": {},
   "outputs": [],
   "source": [
    "# Swap time axis back to last dimension\n",
    "d = np.swapaxes(d, 0, -1)\n",
    "m_adj = np.swapaxes(m_adj, 0, -1)\n",
    "\n",
    "# Visualize\n",
    "fig, axs = plt.subplots(2, 1, figsize=(10, 14))\n",
    "fig.suptitle('Adjoint - iline section',\n",
    "             y=0.91, fontweight='bold', fontsize=18)\n",
    "axs[0].imshow(d[nil//2].T, cmap='seismic', vmin=-4, vmax=4,\n",
    "              extent=(xlines[0], xlines[-1], t[-1], t[0]))\n",
    "axs[0].set_title('Seismic data')\n",
    "axs[1].imshow(m_adj[nil//2].T, cmap='seismic', vmin=-m_adj.max(), vmax=m_adj.max(),\n",
    "              extent=(xlines[0], xlines[-1], t[-1], t[0]))\n",
    "axs[1].set_title('Adjoint');\n",
    "axs[1].imshow(d_adj[nil//2].T, cmap='seismic', vmin=-d_adj.max(), vmax=d_adj.max(),\n",
    "              extent=(xlines[0], xlines[-1], t[-1], t[0]))\n",
    "axs[1].set_title('Modelled data');"
   ]
  },
  {
   "cell_type": "markdown",
   "metadata": {},
   "source": [
    "And now we perform 3 different inversions:\n",
    "    \n",
    "- trace-by-trace\n",
    "- simultaneous with smoothness constraints along spatial directions\n",
    "- simultaneous with smoothness constraints along spatial directions and blockiness constrain along vertical direction\n",
    "\n",
    "\n",
    "    "
   ]
  },
  {
   "cell_type": "code",
   "execution_count": null,
   "metadata": {
    "scrolled": false
   },
   "outputs": [],
   "source": [
    "# Swap time axis back to first dimension\n",
    "d = np.swapaxes(d, -1, 0)\n",
    "\n",
    "# Inversion\n",
    "m_colored, r_colored = \\\n",
    "    pylops.avo.poststack.PoststackInversion(d, wav_est, m0=np.zeros_like(d), explicit=True,\n",
    "                                            epsI=epsI_tt, simultaneous=False)\n",
    "m_colored_reg, r_colored_reg = \\\n",
    "    pylops.avo.poststack.PoststackInversion(d, wav_est, m0=m_colored, epsI=epsI_sr, epsR=epsR_sr,\n",
    "                                            **dict(iter_lim=niter_sr, show=2))\n",
    "m_blocky, r_blocky = \\\n",
    "    pylops.avo.poststack.PoststackInversion(d, wav_est, m0=np.zeros_like(d), explicit=False, \n",
    "                                            epsR=epsR_b, epsRL1=epsRL1_b,\n",
    "                                            **dict(mu=mu_b, niter_outer=niter_out_b, \n",
    "                                                   niter_inner=niter_in_b, show=True,\n",
    "                                                   iter_lim=niter_b, damp=epsI_b))\n",
    "\n",
    "# Swap time axis back to last dimension\n",
    "d = np.swapaxes(d, 0, -1)\n",
    "m_colored = np.swapaxes(m_colored, 0, -1)\n",
    "m_colored_reg = np.swapaxes(m_colored_reg, 0, -1)\n",
    "m_blocky = np.swapaxes(m_blocky, 0, -1)\n",
    "\n",
    "r_colored = np.swapaxes(r_colored, 0, -1)\n",
    "r_colored_reg = np.swapaxes(r_colored_reg, 0, -1)\n",
    "r_blocky = np.swapaxes(r_blocky, 0, -1)"
   ]
  },
  {
   "cell_type": "markdown",
   "metadata": {},
   "source": [
    "Let's finish with some visualization"
   ]
  },
  {
   "cell_type": "code",
   "execution_count": null,
   "metadata": {},
   "outputs": [],
   "source": [
    "# Visualize\n",
    "fig, axs = plt.subplots(4, 1, figsize=(10, 20))\n",
    "fig.suptitle('Colored inversion - iline section',\n",
    "             y=0.91, fontweight='bold', fontsize=18)\n",
    "axs[0].imshow(d[nil//2].T, cmap='seismic', vmin=-4, vmax=4,\n",
    "              extent=(xlines[0], xlines[-1], t[-1], t[0]))\n",
    "axs[0].set_title('Seismic data')\n",
    "axs[0].axis('tight')\n",
    "axs[1].imshow(m_colored[nil//2].T, cmap='seismic',\n",
    "              vmin=-0.7*m_colored.max(), vmax=0.7*m_colored.max(),\n",
    "              extent=(xlines[0], xlines[-1], t[-1], t[0]))\n",
    "axs[1].set_title('Trace-by-Trace')\n",
    "axs[1].axis('tight')\n",
    "axs[2].imshow(m_colored_reg[nil//2].T, cmap='seismic',\n",
    "              vmin=-0.7*m_colored.max(), vmax=0.7*m_colored.max(),\n",
    "              extent=(xlines[0], xlines[-1], t[-1], t[0]))\n",
    "axs[2].set_title('Spatially regularized')\n",
    "axs[2].axis('tight')\n",
    "axs[3].imshow(m_blocky[nil//2].T, cmap='seismic',\n",
    "              vmin=-0.7*m_colored.max(), vmax=0.7*m_colored.max(),\n",
    "              extent=(xlines[0], xlines[-1], t[-1], t[0]))\n",
    "axs[3].set_title('Blocky regularized')\n",
    "axs[3].axis('tight');"
   ]
  },
  {
   "cell_type": "code",
   "execution_count": null,
   "metadata": {},
   "outputs": [],
   "source": [
    "# Visualize\n",
    "fig, axs = plt.subplots(4, 1, figsize=(10, 20))\n",
    "fig.suptitle('Colored inversion - iline section',\n",
    "             y=0.91, fontweight='bold', fontsize=18)\n",
    "axs[0].imshow(d[nil//2].T, cmap='seismic', vmin=-4, vmax=4,\n",
    "              extent=(xlines[0], xlines[-1], t[-1], t[0]))\n",
    "axs[0].set_title('Seismic data')\n",
    "axs[0].axis('tight')\n",
    "axs[1].imshow(r_colored[nil//2].T, cmap='seismic',\n",
    "              vmin=-4, vmax=4,\n",
    "              extent=(xlines[0], xlines[-1], t[-1], t[0]))\n",
    "axs[1].set_title('Trace-by-Trace')\n",
    "axs[1].axis('tight')\n",
    "axs[2].imshow(r_colored_reg[nil//2].T, cmap='seismic',\n",
    "              vmin=-4, vmax=4,\n",
    "              extent=(xlines[0], xlines[-1], t[-1], t[0]))\n",
    "axs[2].set_title('Spatially regularized')\n",
    "axs[2].axis('tight')\n",
    "axs[3].imshow(r_blocky[nil//2].T, cmap='seismic',\n",
    "              vmin=-4, vmax=4,\n",
    "              extent=(xlines[0], xlines[-1], t[-1], t[0]))\n",
    "axs[3].set_title('Blocky regularized')\n",
    "axs[3].axis('tight');"
   ]
  },
  {
   "cell_type": "code",
   "execution_count": null,
   "metadata": {},
   "outputs": [],
   "source": [
    "fig, (ax0, ax1) = plt.subplots(1, 2, figsize=(7, 9))\n",
    "ax0.plot(m_colored[nil//2, nxl//2], t, 'k', label='Inv')\n",
    "ax0.plot(m_colored_reg[nil//2, nxl//2], t, 'g', label='Inv Reg')\n",
    "ax0.plot(m_blocky[nil//2, nxl//2], t, 'b', label='Inv Blocky')\n",
    "ax0.invert_yaxis()\n",
    "ax0.set_title('1D profile')\n",
    "ax0.legend();\n",
    "ax1.plot(r_colored[nil//2, nxl//2], t, 'k', label='Inv')\n",
    "ax1.plot(r_colored_reg[nil//2, nxl//2], t, 'g', label='Inv Reg')\n",
    "ax1.plot(r_blocky[nil//2, nxl//2], t, 'b', label='Inv Blocky')\n",
    "ax1.invert_yaxis()\n",
    "ax1.set_title('Residuals')\n",
    "ax1.legend();"
   ]
  },
  {
   "cell_type": "markdown",
   "metadata": {},
   "source": [
    "Finally we write the cube back to a segy\n"
   ]
  },
  {
   "cell_type": "code",
   "execution_count": null,
   "metadata": {},
   "outputs": [],
   "source": [
    "# Bring traces back to their original order\n",
    "traces_to_save =  m_colored_reg[ilgrid.ravel()[traces_available.ravel()],\n",
    "                                xlgrid.ravel()[traces_available.ravel()]]"
   ]
  },
  {
   "cell_type": "code",
   "execution_count": null,
   "metadata": {},
   "outputs": [],
   "source": [
    "segyfile_inverted = '../../data/pylops/ST10010ZC11_PZ_PSDM_KIRCH_FULL_D.MIG_FIN.POST_STACK.3D.JS-017536_inverted.segy'\n",
    "\n",
    "with segyio.open(segyfile, ignore_geometry=True) as src:\n",
    "        spec = segyio.spec()\n",
    "        spec.format = int(src.format)\n",
    "        spec.samples = t[itmin:itmax]\n",
    "        spec.tracecount = src.tracecount\n",
    "\n",
    "        with segyio.create(segyfile_inverted, spec) as dst:\n",
    "            # Copy all textual headers, including possible extended\n",
    "            for i in range(src.ext_headers):\n",
    "                dst.text[i] = src.text[i]\n",
    "\n",
    "            # Copy the binary header, then insert the modifications needed for the new time axis\n",
    "            dst.bin = src.bin\n",
    "            dst.bin = {segyio.BinField.Samples: itmax-itmin}\n",
    "            \n",
    "            # Copy all trace headers to destination file\n",
    "            dst.header = src.header \n",
    "\n",
    "            # Copy data and modify trace header\n",
    "            for itrace in range(dst.tracecount):\n",
    "                dst.header[itrace] = {segyio.TraceField.TRACE_SAMPLE_COUNT: itmax-itmin} \n",
    "                dst.trace[itrace] = traces_to_save[itrace].astype('float32')\n"
   ]
  },
  {
   "cell_type": "markdown",
   "metadata": {},
   "source": [
    "Again, let's read the file back and check that what we saved is correct\n"
   ]
  },
  {
   "cell_type": "code",
   "execution_count": null,
   "metadata": {},
   "outputs": [],
   "source": [
    "f1 = segyio.open(segyfile_inverted, ignore_geometry=True)\n",
    "traces1 = segyio.collect(f1.trace)[:]"
   ]
  },
  {
   "cell_type": "code",
   "execution_count": null,
   "metadata": {},
   "outputs": [],
   "source": [
    "np.allclose(traces1, traces_to_save)"
   ]
  },
  {
   "cell_type": "code",
   "execution_count": null,
   "metadata": {},
   "outputs": [],
   "source": [
    "!rm ../../data/pylops/ST10010ZC11_PZ_PSDM_KIRCH_Full_D.MIG_FIN.POST_STACK.3D.JS-017536_inverted.segy"
   ]
  }
 ],
 "metadata": {
  "kernelspec": {
   "display_name": "Python 3",
   "language": "python",
   "name": "python3"
  },
  "language_info": {
   "codemirror_mode": {
    "name": "ipython",
    "version": 3
   },
   "file_extension": ".py",
   "mimetype": "text/x-python",
   "name": "python",
   "nbconvert_exporter": "python",
   "pygments_lexer": "ipython3",
   "version": "3.7.2"
  }
 },
 "nbformat": 4,
 "nbformat_minor": 2
}
