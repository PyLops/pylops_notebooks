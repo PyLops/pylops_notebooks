{
 "cells": [
  {
   "cell_type": "markdown",
   "metadata": {},
   "source": [
    "# Pylops - describe"
   ]
  },
  {
   "cell_type": "markdown",
   "metadata": {},
   "source": [
    "### Author: M.Ravasi"
   ]
  },
  {
   "cell_type": "markdown",
   "metadata": {},
   "source": [
    "In this notebook I will show how to use the describe method for a variety of examples."
   ]
  },
  {
   "cell_type": "code",
   "execution_count": 1,
   "metadata": {},
   "outputs": [],
   "source": [
    "%load_ext autoreload\n",
    "%autoreload 2\n",
    "%matplotlib inline\n",
    "\n",
    "import warnings\n",
    "warnings.filterwarnings('ignore')\n",
    "warnings.simplefilter('ignore')\n",
    "\n",
    "import numpy as np\n",
    "import matplotlib.pyplot as plt\n",
    "import scipy as sp\n",
    "\n",
    "import pylops\n",
    "\n",
    "from pylops.basicoperators             import *\n",
    "from pylops.signalprocessing           import *\n",
    "from pylops.utils.describe import describe"
   ]
  },
  {
   "cell_type": "code",
   "execution_count": 2,
   "metadata": {},
   "outputs": [
    {
     "data": {
      "text/latex": [
       "$\\displaystyle A$"
      ],
      "text/plain": [
       "A"
      ]
     },
     "metadata": {},
     "output_type": "display_data"
    },
    {
     "name": "stdout",
     "output_type": "stream",
     "text": [
      "where: {'A': 'MatrixMult'}\n"
     ]
    },
    {
     "data": {
      "text/latex": [
       "$\\displaystyle A^{T}$"
      ],
      "text/plain": [
       "A.T"
      ]
     },
     "metadata": {},
     "output_type": "display_data"
    },
    {
     "name": "stdout",
     "output_type": "stream",
     "text": [
      "where: {'A': 'MatrixMult'}\n"
     ]
    },
    {
     "data": {
      "text/latex": [
       "$\\displaystyle A^{\\dagger}$"
      ],
      "text/plain": [
       "Adjoint(A)"
      ]
     },
     "metadata": {},
     "output_type": "display_data"
    },
    {
     "name": "stdout",
     "output_type": "stream",
     "text": [
      "where: {'A': 'MatrixMult'}\n"
     ]
    },
    {
     "data": {
      "text/latex": [
       "$\\displaystyle 3 A$"
      ],
      "text/plain": [
       "3*A"
      ]
     },
     "metadata": {},
     "output_type": "display_data"
    },
    {
     "name": "stdout",
     "output_type": "stream",
     "text": [
      "where: {'A': 'MatrixMult'}\n"
     ]
    },
    {
     "data": {
      "text/latex": [
       "$\\displaystyle A + M$"
      ],
      "text/plain": [
       "A + M"
      ]
     },
     "metadata": {},
     "output_type": "display_data"
    },
    {
     "name": "stdout",
     "output_type": "stream",
     "text": [
      "where: {'A': 'MatrixMult', 'M': 'MatrixMult'}\n"
     ]
    }
   ],
   "source": [
    "A = pylops.MatrixMult(np.ones((10, 5)))\n",
    "A.name = \"A\"\n",
    "B = pylops.Diagonal(np.ones(5))\n",
    "B.name = \"A\"\n",
    "C = pylops.MatrixMult(np.ones((10, 5)))\n",
    "\n",
    "# Simple operator\n",
    "describe(A)\n",
    "\n",
    "# Transpose\n",
    "AT = A.T\n",
    "describe(AT)\n",
    "\n",
    "# Adjoint\n",
    "AH = A.H\n",
    "describe(AH)\n",
    "\n",
    "# Scaled\n",
    "A3 = 3 * A\n",
    "describe(A3)\n",
    "\n",
    "# Sum\n",
    "D = A + C\n",
    "describe(D)"
   ]
  },
  {
   "cell_type": "code",
   "execution_count": 3,
   "metadata": {},
   "outputs": [
    {
     "name": "stderr",
     "output_type": "stream",
     "text": [
      "WARNING: The user has used the same name A for two distinct operators, changing name of operator Diagonal to B...\n"
     ]
    },
    {
     "data": {
      "text/latex": [
       "$\\displaystyle A B$"
      ],
      "text/plain": [
       "A*B"
      ]
     },
     "metadata": {},
     "output_type": "display_data"
    },
    {
     "name": "stdout",
     "output_type": "stream",
     "text": [
      "where: {'A': 'MatrixMult', 'B': 'Diagonal'}\n"
     ]
    },
    {
     "data": {
      "text/latex": [
       "$\\displaystyle \\left[\\begin{matrix}A B & M B\\end{matrix}\\right]$"
      ],
      "text/plain": [
       "Matrix([[A*B, M*B]])"
      ]
     },
     "metadata": {},
     "output_type": "display_data"
    },
    {
     "name": "stdout",
     "output_type": "stream",
     "text": [
      "where: {'A': 'MatrixMult', 'B': 'Diagonal', 'M': 'MatrixMult'}\n"
     ]
    },
    {
     "data": {
      "text/latex": [
       "$\\displaystyle \\left[\\begin{matrix}\\left[\\begin{matrix}A B & M\\end{matrix}\\right]\\\\\\left[\\begin{matrix}A & A\\end{matrix}\\right]\\end{matrix}\\right]$"
      ],
      "text/plain": [
       "Matrix([\n",
       "[Matrix([[A*B, M]])],\n",
       "[  Matrix([[A, A]])]])"
      ]
     },
     "metadata": {},
     "output_type": "display_data"
    },
    {
     "name": "stdout",
     "output_type": "stream",
     "text": [
      "where: {'A': 'MatrixMult', 'B': 'Diagonal', 'M': 'MatrixMult'}\n"
     ]
    }
   ],
   "source": [
    "D = A * B\n",
    "describe(D)\n",
    "\n",
    "###############################################################################\n",
    "# We can move now to something more complicated using various composition\n",
    "# operators\n",
    "\n",
    "H = pylops.HStack((A * B, C * B))\n",
    "describe(H)\n",
    "\n",
    "H = pylops.Block([[A * B, C], [A, A]])\n",
    "describe(H)"
   ]
  },
  {
   "cell_type": "code",
   "execution_count": 4,
   "metadata": {},
   "outputs": [
    {
     "data": {
      "text/latex": [
       "$\\displaystyle \\left[\\begin{matrix}A B & M B\\end{matrix}\\right]$"
      ],
      "text/plain": [
       "Matrix([[A*B, M*B]])"
      ]
     },
     "metadata": {},
     "output_type": "display_data"
    },
    {
     "name": "stdout",
     "output_type": "stream",
     "text": [
      "where: {'A': 'MatrixMult', 'B': 'Diagonal', 'M': 'MatrixMult'}\n"
     ]
    }
   ],
   "source": [
    "H = pylops.HStack((A * B, C * B))\n",
    "describe(H)"
   ]
  },
  {
   "cell_type": "code",
   "execution_count": 5,
   "metadata": {},
   "outputs": [
    {
     "data": {
      "text/latex": [
       "$\\displaystyle M D$"
      ],
      "text/plain": [
       "M*D"
      ]
     },
     "metadata": {},
     "output_type": "display_data"
    },
    {
     "name": "stdout",
     "output_type": "stream",
     "text": [
      "where: {'M': 'MatrixMult', 'D': 'Diagonal'}\n"
     ]
    }
   ],
   "source": [
    "A = pylops.Diagonal(np.ones(5))\n",
    "C = pylops.MatrixMult(np.ones((10, 5)))\n",
    "\n",
    "# Simple operator\n",
    "describe(C*A)"
   ]
  },
  {
   "cell_type": "code",
   "execution_count": 6,
   "metadata": {},
   "outputs": [
    {
     "data": {
      "text/latex": [
       "$\\displaystyle B D$"
      ],
      "text/plain": [
       "B*D"
      ]
     },
     "metadata": {},
     "output_type": "display_data"
    },
    {
     "name": "stdout",
     "output_type": "stream",
     "text": [
      "where: {'B': 'MatrixMult', 'D': 'Diagonal'}\n"
     ]
    }
   ],
   "source": [
    "A = pylops.Diagonal(np.ones(5))\n",
    "C = pylops.MatrixMult(np.ones((10, 5)), name='B')\n",
    "\n",
    "# Simple operator\n",
    "describe(C*A)"
   ]
  },
  {
   "cell_type": "code",
   "execution_count": 7,
   "metadata": {},
   "outputs": [
    {
     "name": "stderr",
     "output_type": "stream",
     "text": [
      "WARNING: The user has used the same name B for two distinct operators, changing name of operator Diagonal to N...\n"
     ]
    },
    {
     "data": {
      "text/latex": [
       "$\\displaystyle B N$"
      ],
      "text/plain": [
       "B*N"
      ]
     },
     "metadata": {},
     "output_type": "display_data"
    },
    {
     "name": "stdout",
     "output_type": "stream",
     "text": [
      "where: {'B': 'MatrixMult', 'N': 'Diagonal'}\n"
     ]
    }
   ],
   "source": [
    "A = pylops.Diagonal(np.ones(5), name='B')\n",
    "C = pylops.MatrixMult(np.ones((10, 5)), name='B')\n",
    "\n",
    "# Simple operator\n",
    "describe(C*A)"
   ]
  },
  {
   "cell_type": "code",
   "execution_count": 8,
   "metadata": {},
   "outputs": [
    {
     "data": {
      "text/latex": [
       "$\\displaystyle Z I$"
      ],
      "text/plain": [
       "Z*I"
      ]
     },
     "metadata": {},
     "output_type": "display_data"
    },
    {
     "name": "stdout",
     "output_type": "stream",
     "text": [
      "where: {'Z': 'Zero', 'I': 'Identity'}\n"
     ]
    }
   ],
   "source": [
    "A = pylops.Zero(10)\n",
    "B = pylops.Identity(10)\n",
    "\n",
    "describe(A*B)"
   ]
  },
  {
   "cell_type": "code",
   "execution_count": 9,
   "metadata": {
    "scrolled": true
   },
   "outputs": [
    {
     "name": "stderr",
     "output_type": "stream",
     "text": [
      "WARNING: The user has used the same name S for two distinct operators, changing name of operator SecondDerivative to V...\n"
     ]
    },
    {
     "data": {
      "text/latex": [
       "$\\displaystyle S + V$"
      ],
      "text/plain": [
       "S + V"
      ]
     },
     "metadata": {},
     "output_type": "display_data"
    },
    {
     "name": "stdout",
     "output_type": "stream",
     "text": [
      "where: {'S': 'SecondDerivative', 'V': 'SecondDerivative'}\n"
     ]
    }
   ],
   "source": [
    "A = pylops.Laplacian((5,3))\n",
    "\n",
    "# Simple operator\n",
    "describe(A)"
   ]
  },
  {
   "cell_type": "code",
   "execution_count": 10,
   "metadata": {
    "scrolled": false
   },
   "outputs": [
    {
     "name": "stderr",
     "output_type": "stream",
     "text": [
      "WARNING: The user has used the same name M for two distinct operators, changing name of operator MatrixMult to S...\n",
      "WARNING: The user has used the same name M for two distinct operators, changing name of operator MatrixMult to Y...\n",
      "WARNING: The user has used the same name M for two distinct operators, changing name of operator MatrixMult to Z...\n",
      "WARNING: The user has used the same name M for two distinct operators, changing name of operator MatrixMult to L...\n",
      "WARNING: The user has used the same name M for two distinct operators, changing name of operator MatrixMult to A...\n",
      "WARNING: The user has used the same name M for two distinct operators, changing name of operator MatrixMult to U...\n",
      "WARNING: The user has used the same name M for two distinct operators, changing name of operator MatrixMult to V...\n",
      "WARNING: The user has used the same name M for two distinct operators, changing name of operator MatrixMult to D...\n",
      "WARNING: The user has used the same name M for two distinct operators, changing name of operator MatrixMult to N...\n",
      "WARNING: The user has used the same name M for two distinct operators, changing name of operator MatrixMult to E...\n",
      "WARNING: The user has used the same name M for two distinct operators, changing name of operator MatrixMult to G...\n",
      "WARNING: The user has used the same name M for two distinct operators, changing name of operator MatrixMult to W...\n",
      "WARNING: The user has used the same name M for two distinct operators, changing name of operator MatrixMult to I...\n",
      "WARNING: The user has used the same name M for two distinct operators, changing name of operator MatrixMult to X...\n",
      "WARNING: The user has used the same name M for two distinct operators, changing name of operator MatrixMult to H...\n",
      "WARNING: The user has used the same name M for two distinct operators, changing name of operator MatrixMult to K...\n",
      "WARNING: The user has used the same name M for two distinct operators, changing name of operator MatrixMult to P...\n",
      "WARNING: The user has used the same name M for two distinct operators, changing name of operator MatrixMult to C...\n",
      "WARNING: The user has used the same name M for two distinct operators, changing name of operator MatrixMult to J...\n",
      "WARNING: The user has used the same name M for two distinct operators, changing name of operator MatrixMult to B...\n",
      "WARNING: The user has used the same name M for two distinct operators, changing name of operator MatrixMult to F...\n",
      "WARNING: The user has used the same name M for two distinct operators, changing name of operator MatrixMult to Q...\n",
      "WARNING: The user has used the same name M for two distinct operators, changing name of operator MatrixMult to R...\n",
      "WARNING: The user has used the same name M for two distinct operators, changing name of operator MatrixMult to T...\n",
      "WARNING: The user has used the same name M for two distinct operators, changing name of operator MatrixMult to O...\n",
      "WARNING: The user has used the same name M1 for two distinct operators, changing name of operator MatrixMult to H1...\n",
      "WARNING: The user has used the same name M1 for two distinct operators, changing name of operator MatrixMult to U1...\n",
      "WARNING: The user has used the same name M1 for two distinct operators, changing name of operator MatrixMult to F1...\n"
     ]
    },
    {
     "name": "stdout",
     "output_type": "stream",
     "text": [
      "[140201987040832, 140201987041888, 140201987041168, 140201987041840, 140201987041936, 140201987041984, 140201987042032, 140201987042176, 140201987043232, 140201987042944, 140201987042800, 140201987042272, 140201987042224, 140201987039344, 140201987039824, 140201987042608, 140201987039872, 140201987041024, 140201987043136, 140201987042512, 140201987043280, 140201987043040, 140201987042704, 140201987040304, 140201987040160, 140201692916416, 140201692916272, 140201692917184, 140201692914544, 140201692915696]\n"
     ]
    },
    {
     "data": {
      "text/latex": [
       "$\\displaystyle \\left[\\begin{matrix}M\\\\S\\\\Y\\\\Z\\\\L\\\\A\\\\U\\\\V\\\\D\\\\N\\\\E\\\\G\\\\W\\\\I\\\\X\\\\H\\\\K\\\\P\\\\C\\\\J\\\\B\\\\F\\\\Q\\\\R\\\\T\\\\O\\\\M_{1}\\\\H_{1}\\\\U_{1}\\\\F_{1}\\end{matrix}\\right]$"
      ],
      "text/plain": [
       "Matrix([\n",
       "[ M],\n",
       "[ S],\n",
       "[ Y],\n",
       "[ Z],\n",
       "[ L],\n",
       "[ A],\n",
       "[ U],\n",
       "[ V],\n",
       "[ D],\n",
       "[ N],\n",
       "[ E],\n",
       "[ G],\n",
       "[ W],\n",
       "[ I],\n",
       "[ X],\n",
       "[ H],\n",
       "[ K],\n",
       "[ P],\n",
       "[ C],\n",
       "[ J],\n",
       "[ B],\n",
       "[ F],\n",
       "[ Q],\n",
       "[ R],\n",
       "[ T],\n",
       "[ O],\n",
       "[M1],\n",
       "[H1],\n",
       "[U1],\n",
       "[F1]])"
      ]
     },
     "metadata": {},
     "output_type": "display_data"
    },
    {
     "name": "stdout",
     "output_type": "stream",
     "text": [
      "where: {'M': 'MatrixMult', 'S': 'MatrixMult', 'Y': 'MatrixMult', 'Z': 'MatrixMult', 'L': 'MatrixMult', 'A': 'MatrixMult', 'U': 'MatrixMult', 'V': 'MatrixMult', 'D': 'MatrixMult', 'N': 'MatrixMult', 'E': 'MatrixMult', 'G': 'MatrixMult', 'W': 'MatrixMult', 'I': 'MatrixMult', 'X': 'MatrixMult', 'H': 'MatrixMult', 'K': 'MatrixMult', 'P': 'MatrixMult', 'C': 'MatrixMult', 'J': 'MatrixMult', 'B': 'MatrixMult', 'F': 'MatrixMult', 'Q': 'MatrixMult', 'R': 'MatrixMult', 'T': 'MatrixMult', 'O': 'MatrixMult', 'M1': 'MatrixMult', 'H1': 'MatrixMult', 'U1': 'MatrixMult', 'F1': 'MatrixMult'}\n"
     ]
    }
   ],
   "source": [
    "M = []\n",
    "for i in range(30):\n",
    "    M.append(pylops.MatrixMult(np.random.normal(0,1,(5,5))))\n",
    "V = pylops.VStack(M)\n",
    "print([id(m) for m in M])\n",
    "# Simple operator\n",
    "describe(V)"
   ]
  },
  {
   "cell_type": "code",
   "execution_count": 11,
   "metadata": {},
   "outputs": [
    {
     "name": "stderr",
     "output_type": "stream",
     "text": [
      "WARNING: The user has used the same name M for two distinct operators, changing name of operator MatrixMult to C...\n",
      "WARNING: The user has used the same name M for two distinct operators, changing name of operator MatrixMult to Q...\n",
      "WARNING: The user has used the same name M for two distinct operators, changing name of operator MatrixMult to R...\n"
     ]
    },
    {
     "name": "stdout",
     "output_type": "stream",
     "text": [
      "[140201692915312, 140201987039488, 140201987039728, 140201987040400]\n"
     ]
    },
    {
     "data": {
      "text/latex": [
       "$\\displaystyle \\left[\\begin{matrix}M\\\\C\\\\Q\\\\R\\end{matrix}\\right]$"
      ],
      "text/plain": [
       "Matrix([\n",
       "[M],\n",
       "[C],\n",
       "[Q],\n",
       "[R]])"
      ]
     },
     "metadata": {},
     "output_type": "display_data"
    },
    {
     "name": "stdout",
     "output_type": "stream",
     "text": [
      "where: {'M': 'MatrixMult', 'C': 'MatrixMult', 'Q': 'MatrixMult', 'R': 'MatrixMult'}\n"
     ]
    }
   ],
   "source": [
    "M = [pylops.MatrixMult(np.random.normal(0,1,(5,5))) for i in range(4)]\n",
    "V = pylops.VStack(M)\n",
    "print([id(m) for m in M])\n",
    "# Simple operator\n",
    "describe(V)"
   ]
  },
  {
   "cell_type": "code",
   "execution_count": 12,
   "metadata": {},
   "outputs": [
    {
     "name": "stderr",
     "output_type": "stream",
     "text": [
      "WARNING: The user has used the same name M for two distinct operators, changing name of operator MatrixMult to N...\n"
     ]
    },
    {
     "data": {
      "text/latex": [
       "$\\displaystyle \\left[\\begin{matrix}M\\\\N\\end{matrix}\\right]$"
      ],
      "text/plain": [
       "Matrix([\n",
       "[M],\n",
       "[N]])"
      ]
     },
     "metadata": {},
     "output_type": "display_data"
    },
    {
     "name": "stdout",
     "output_type": "stream",
     "text": [
      "where: {'M': 'MatrixMult', 'N': 'MatrixMult'}\n"
     ]
    }
   ],
   "source": [
    "M1 = pylops.MatrixMult(np.random.normal(0,1,(5,5)))\n",
    "M2 = pylops.MatrixMult(np.random.normal(0,1,(2,5)))\n",
    "\n",
    "V = pylops.VStack([M1, M2])\n",
    "\n",
    "# Simple operator\n",
    "describe(V)"
   ]
  },
  {
   "cell_type": "code",
   "execution_count": 13,
   "metadata": {},
   "outputs": [
    {
     "data": {
      "text/latex": [
       "$\\displaystyle \\left[\\begin{matrix}\\left[\\begin{matrix}I & M\\end{matrix}\\right]\\\\\\left[\\begin{matrix}M & I\\end{matrix}\\right]\\end{matrix}\\right]$"
      ],
      "text/plain": [
       "Matrix([\n",
       "[Matrix([[I, M]])],\n",
       "[Matrix([[M, I]])]])"
      ]
     },
     "metadata": {},
     "output_type": "display_data"
    },
    {
     "name": "stdout",
     "output_type": "stream",
     "text": [
      "where: {'I': 'Identity', 'M': 'MatrixMult'}\n"
     ]
    }
   ],
   "source": [
    "Iop = Identity(5)\n",
    "M1op = MatrixMult(np.ones((5,5)))\n",
    "M2op = MatrixMult(np.zeros((5,5)))\n",
    "\n",
    "Mop = VStack([HStack([Iop, M1op]),\n",
    "              HStack([M1op, Iop])])\n",
    "\n",
    "describe(Mop)"
   ]
  }
 ],
 "metadata": {
  "kernelspec": {
   "display_name": "Python 3 (ipykernel)",
   "language": "python",
   "name": "python3"
  },
  "language_info": {
   "codemirror_mode": {
    "name": "ipython",
    "version": 3
   },
   "file_extension": ".py",
   "mimetype": "text/x-python",
   "name": "python",
   "nbconvert_exporter": "python",
   "pygments_lexer": "ipython3",
   "version": "3.9.12"
  },
  "toc": {
   "base_numbering": 1,
   "nav_menu": {},
   "number_sections": true,
   "sideBar": true,
   "skip_h1_title": false,
   "title_cell": "Table of Contents",
   "title_sidebar": "Contents",
   "toc_cell": false,
   "toc_position": {},
   "toc_section_display": true,
   "toc_window_display": true
  }
 },
 "nbformat": 4,
 "nbformat_minor": 1
}
