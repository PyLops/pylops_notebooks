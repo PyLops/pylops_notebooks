{
 "cells": [
  {
   "cell_type": "markdown",
   "metadata": {},
   "source": [
    "# Pylops - describe"
   ]
  },
  {
   "cell_type": "markdown",
   "metadata": {},
   "source": [
    "### Author: M.Ravasi"
   ]
  },
  {
   "cell_type": "markdown",
   "metadata": {},
   "source": [
    "In this notebook I will show how to use the describe method for a variety of examples."
   ]
  },
  {
   "cell_type": "code",
   "execution_count": 1,
   "metadata": {},
   "outputs": [],
   "source": [
    "%load_ext autoreload\n",
    "%autoreload 2\n",
    "%matplotlib inline\n",
    "\n",
    "import warnings\n",
    "warnings.filterwarnings('ignore')\n",
    "warnings.simplefilter('ignore')\n",
    "\n",
    "import numpy as np\n",
    "import matplotlib.pyplot as plt\n",
    "import scipy as sp\n",
    "\n",
    "import pylops\n",
    "\n",
    "from pylops.basicoperators             import *\n",
    "from pylops.signalprocessing           import *\n",
    "from pylops.utils.describe import describe"
   ]
  },
  {
   "cell_type": "code",
   "execution_count": 2,
   "metadata": {},
   "outputs": [
    {
     "data": {
      "text/latex": [
       "$\\displaystyle A$"
      ],
      "text/plain": [
       "A"
      ]
     },
     "metadata": {},
     "output_type": "display_data"
    },
    {
     "name": "stdout",
     "output_type": "stream",
     "text": [
      "where: {'A': 'MatrixMult'}\n"
     ]
    },
    {
     "data": {
      "text/latex": [
       "$\\displaystyle A^{T}$"
      ],
      "text/plain": [
       "A.T"
      ]
     },
     "metadata": {},
     "output_type": "display_data"
    },
    {
     "name": "stdout",
     "output_type": "stream",
     "text": [
      "where: {'A': 'MatrixMult'}\n"
     ]
    },
    {
     "data": {
      "text/latex": [
       "$\\displaystyle A^{\\dagger}$"
      ],
      "text/plain": [
       "Adjoint(A)"
      ]
     },
     "metadata": {},
     "output_type": "display_data"
    },
    {
     "name": "stdout",
     "output_type": "stream",
     "text": [
      "where: {'A': 'MatrixMult'}\n"
     ]
    },
    {
     "data": {
      "text/latex": [
       "$\\displaystyle 3 A$"
      ],
      "text/plain": [
       "3*A"
      ]
     },
     "metadata": {},
     "output_type": "display_data"
    },
    {
     "name": "stdout",
     "output_type": "stream",
     "text": [
      "where: {'A': 'MatrixMult'}\n"
     ]
    },
    {
     "data": {
      "text/latex": [
       "$\\displaystyle A + M$"
      ],
      "text/plain": [
       "A + M"
      ]
     },
     "metadata": {},
     "output_type": "display_data"
    },
    {
     "name": "stdout",
     "output_type": "stream",
     "text": [
      "where: {'A': 'MatrixMult', 'M': 'MatrixMult'}\n"
     ]
    }
   ],
   "source": [
    "A = pylops.MatrixMult(np.ones((10, 5)))\n",
    "A.name = \"A\"\n",
    "B = pylops.Diagonal(np.ones(5))\n",
    "B.name = \"A\"\n",
    "C = pylops.MatrixMult(np.ones((10, 5)))\n",
    "\n",
    "# Simple operator\n",
    "describe(A)\n",
    "\n",
    "# Transpose\n",
    "AT = A.T\n",
    "describe(AT)\n",
    "\n",
    "# Adjoint\n",
    "AH = A.H\n",
    "describe(AH)\n",
    "\n",
    "# Scaled\n",
    "A3 = 3 * A\n",
    "describe(A3)\n",
    "\n",
    "# Sum\n",
    "D = A + C\n",
    "describe(D)"
   ]
  },
  {
   "cell_type": "code",
   "execution_count": 3,
   "metadata": {},
   "outputs": [
    {
     "name": "stderr",
     "output_type": "stream",
     "text": [
      "WARNING: The user has used the same name A for two distinct operators, changing name of operator Diagonal to J...\n"
     ]
    },
    {
     "data": {
      "text/latex": [
       "$\\displaystyle A J$"
      ],
      "text/plain": [
       "A*J"
      ]
     },
     "metadata": {},
     "output_type": "display_data"
    },
    {
     "name": "stdout",
     "output_type": "stream",
     "text": [
      "where: {'A': 'MatrixMult', 'J': 'Diagonal'}\n"
     ]
    },
    {
     "data": {
      "text/latex": [
       "$\\displaystyle \\left[\\begin{matrix}A J & M J\\end{matrix}\\right]$"
      ],
      "text/plain": [
       "Matrix([[A*J, M*J]])"
      ]
     },
     "metadata": {},
     "output_type": "display_data"
    },
    {
     "name": "stdout",
     "output_type": "stream",
     "text": [
      "where: {'A': 'MatrixMult', 'J': 'Diagonal', 'M': 'MatrixMult'}\n"
     ]
    },
    {
     "data": {
      "text/latex": [
       "$\\displaystyle \\left[\\begin{matrix}\\left[\\begin{matrix}A J & M\\end{matrix}\\right]\\\\\\left[\\begin{matrix}A & A\\end{matrix}\\right]\\end{matrix}\\right]$"
      ],
      "text/plain": [
       "Matrix([\n",
       "[Matrix([[A*J, M]])],\n",
       "[  Matrix([[A, A]])]])"
      ]
     },
     "metadata": {},
     "output_type": "display_data"
    },
    {
     "name": "stdout",
     "output_type": "stream",
     "text": [
      "where: {'A': 'MatrixMult', 'J': 'Diagonal', 'M': 'MatrixMult'}\n"
     ]
    }
   ],
   "source": [
    "D = A * B\n",
    "describe(D)\n",
    "\n",
    "###############################################################################\n",
    "# We can move now to something more complicated using various composition\n",
    "# operators\n",
    "\n",
    "H = pylops.HStack((A * B, C * B))\n",
    "describe(H)\n",
    "\n",
    "H = pylops.Block([[A * B, C], [A, A]])\n",
    "describe(H)"
   ]
  },
  {
   "cell_type": "code",
   "execution_count": 4,
   "metadata": {},
   "outputs": [
    {
     "data": {
      "text/latex": [
       "$\\displaystyle \\left[\\begin{matrix}A J & M J\\end{matrix}\\right]$"
      ],
      "text/plain": [
       "Matrix([[A*J, M*J]])"
      ]
     },
     "metadata": {},
     "output_type": "display_data"
    },
    {
     "name": "stdout",
     "output_type": "stream",
     "text": [
      "where: {'A': 'MatrixMult', 'J': 'Diagonal', 'M': 'MatrixMult'}\n"
     ]
    }
   ],
   "source": [
    "H = pylops.HStack((A * B, C * B))\n",
    "describe(H)"
   ]
  },
  {
   "cell_type": "code",
   "execution_count": 5,
   "metadata": {},
   "outputs": [
    {
     "data": {
      "text/latex": [
       "$\\displaystyle M D$"
      ],
      "text/plain": [
       "M*D"
      ]
     },
     "metadata": {},
     "output_type": "display_data"
    },
    {
     "name": "stdout",
     "output_type": "stream",
     "text": [
      "where: {'M': 'MatrixMult', 'D': 'Diagonal'}\n"
     ]
    }
   ],
   "source": [
    "A = pylops.Diagonal(np.ones(5))\n",
    "C = pylops.MatrixMult(np.ones((10, 5)))\n",
    "\n",
    "# Simple operator\n",
    "describe(C*A)"
   ]
  },
  {
   "cell_type": "code",
   "execution_count": 6,
   "metadata": {},
   "outputs": [
    {
     "data": {
      "text/latex": [
       "$\\displaystyle B D$"
      ],
      "text/plain": [
       "B*D"
      ]
     },
     "metadata": {},
     "output_type": "display_data"
    },
    {
     "name": "stdout",
     "output_type": "stream",
     "text": [
      "where: {'B': 'MatrixMult', 'D': 'Diagonal'}\n"
     ]
    }
   ],
   "source": [
    "A = pylops.Diagonal(np.ones(5))\n",
    "C = pylops.MatrixMult(np.ones((10, 5)), name='B')\n",
    "\n",
    "# Simple operator\n",
    "describe(C*A)"
   ]
  },
  {
   "cell_type": "code",
   "execution_count": 7,
   "metadata": {},
   "outputs": [
    {
     "name": "stderr",
     "output_type": "stream",
     "text": [
      "WARNING: The user has used the same name B for two distinct operators, changing name of operator Diagonal to R...\n"
     ]
    },
    {
     "data": {
      "text/latex": [
       "$\\displaystyle B R$"
      ],
      "text/plain": [
       "B*R"
      ]
     },
     "metadata": {},
     "output_type": "display_data"
    },
    {
     "name": "stdout",
     "output_type": "stream",
     "text": [
      "where: {'B': 'MatrixMult', 'R': 'Diagonal'}\n"
     ]
    }
   ],
   "source": [
    "A = pylops.Diagonal(np.ones(5), name='B')\n",
    "C = pylops.MatrixMult(np.ones((10, 5)), name='B')\n",
    "\n",
    "# Simple operator\n",
    "describe(C*A)"
   ]
  },
  {
   "cell_type": "code",
   "execution_count": 8,
   "metadata": {},
   "outputs": [
    {
     "data": {
      "text/latex": [
       "$\\displaystyle Z I$"
      ],
      "text/plain": [
       "Z*I"
      ]
     },
     "metadata": {},
     "output_type": "display_data"
    },
    {
     "name": "stdout",
     "output_type": "stream",
     "text": [
      "where: {'Z': 'Zero', 'I': 'Identity'}\n"
     ]
    }
   ],
   "source": [
    "A = pylops.Zero(10)\n",
    "B = pylops.Identity(10)\n",
    "\n",
    "describe(A*B)"
   ]
  },
  {
   "cell_type": "code",
   "execution_count": 9,
   "metadata": {
    "scrolled": true
   },
   "outputs": [
    {
     "data": {
      "text/latex": [
       "$\\displaystyle 2 S$"
      ],
      "text/plain": [
       "2*S"
      ]
     },
     "metadata": {},
     "output_type": "display_data"
    },
    {
     "name": "stdout",
     "output_type": "stream",
     "text": [
      "where: {'S': 'SecondDerivative'}\n"
     ]
    }
   ],
   "source": [
    "A = pylops.Laplacian((5,3))\n",
    "\n",
    "# Simple operator\n",
    "describe(A)"
   ]
  },
  {
   "cell_type": "code",
   "execution_count": 14,
   "metadata": {
    "scrolled": false
   },
   "outputs": [
    {
     "name": "stderr",
     "output_type": "stream",
     "text": [
      "WARNING: The user has used the same name M for two distinct operators, changing name of operator MatrixMult to F...\n",
      "WARNING: The user has used the same name M for two distinct operators, changing name of operator MatrixMult to O...\n",
      "WARNING: The user has used the same name M for two distinct operators, changing name of operator MatrixMult to Y...\n",
      "WARNING: The user has used the same name M for two distinct operators, changing name of operator MatrixMult to Q...\n",
      "WARNING: The user has used the same name M for two distinct operators, changing name of operator MatrixMult to G...\n",
      "WARNING: The user has used the same name M for two distinct operators, changing name of operator MatrixMult to X...\n",
      "WARNING: The user has used the same name M for two distinct operators, changing name of operator MatrixMult to N...\n",
      "WARNING: The user has used the same name M for two distinct operators, changing name of operator MatrixMult to R...\n",
      "WARNING: The user has used the same name M for two distinct operators, changing name of operator MatrixMult to P...\n",
      "WARNING: The user has used the same name M for two distinct operators, changing name of operator MatrixMult to U...\n",
      "WARNING: The user has used the same name M for two distinct operators, changing name of operator MatrixMult to W...\n",
      "WARNING: The user has used the same name M for two distinct operators, changing name of operator MatrixMult to A...\n",
      "WARNING: The user has used the same name M for two distinct operators, changing name of operator MatrixMult to H...\n",
      "WARNING: The user has used the same name M for two distinct operators, changing name of operator MatrixMult to D...\n",
      "WARNING: The user has used the same name M for two distinct operators, changing name of operator MatrixMult to S...\n",
      "WARNING: The user has used the same name M for two distinct operators, changing name of operator MatrixMult to K...\n",
      "WARNING: The user has used the same name M for two distinct operators, changing name of operator MatrixMult to V...\n",
      "WARNING: The user has used the same name M for two distinct operators, changing name of operator MatrixMult to E...\n",
      "WARNING: The user has used the same name M for two distinct operators, changing name of operator MatrixMult to L...\n",
      "WARNING: The user has used the same name M for two distinct operators, changing name of operator MatrixMult to Z...\n",
      "WARNING: The user has used the same name M for two distinct operators, changing name of operator MatrixMult to J...\n",
      "WARNING: The user has used the same name M for two distinct operators, changing name of operator MatrixMult to C...\n",
      "WARNING: The user has used the same name M for two distinct operators, changing name of operator MatrixMult to B...\n",
      "WARNING: The user has used the same name M for two distinct operators, changing name of operator MatrixMult to T...\n",
      "WARNING: The user has used the same name M for two distinct operators, changing name of operator MatrixMult to I...\n",
      "WARNING: The user has used the same name M1 for two distinct operators, changing name of operator MatrixMult to R1...\n",
      "WARNING: The user has used the same name M1 for two distinct operators, changing name of operator MatrixMult to D1...\n",
      "WARNING: The user has used the same name M1 for two distinct operators, changing name of operator MatrixMult to C1...\n"
     ]
    },
    {
     "name": "stdout",
     "output_type": "stream",
     "text": [
      "[140616608177072, 140616608175968, 140616608177168, 140616608177456, 140616158718656, 140616158718416, 140616158716784, 140616158719616, 140616158718560, 140616158718128, 140616158719136, 140616158718752, 140616158717456, 140616158716496, 140616158719472, 140616158716448, 140616158718992, 140616158719856, 140616158718320, 140616158718464, 140616158717024, 140616158717552, 140616158716736, 140616158719520, 140616158719376, 140616158719424, 140616158716976, 140616158719088, 140616158717936, 140616158718704]\n"
     ]
    },
    {
     "data": {
      "text/latex": [
       "$\\displaystyle \\left[\\begin{matrix}M\\\\F\\\\O\\\\Y\\\\Q\\\\G\\\\X\\\\N\\\\R\\\\P\\\\U\\\\W\\\\A\\\\H\\\\D\\\\S\\\\K\\\\V\\\\E\\\\L\\\\Z\\\\J\\\\C\\\\B\\\\T\\\\I\\\\M_{1}\\\\R_{1}\\\\D_{1}\\\\C_{1}\\end{matrix}\\right]$"
      ],
      "text/plain": [
       "Matrix([\n",
       "[ M],\n",
       "[ F],\n",
       "[ O],\n",
       "[ Y],\n",
       "[ Q],\n",
       "[ G],\n",
       "[ X],\n",
       "[ N],\n",
       "[ R],\n",
       "[ P],\n",
       "[ U],\n",
       "[ W],\n",
       "[ A],\n",
       "[ H],\n",
       "[ D],\n",
       "[ S],\n",
       "[ K],\n",
       "[ V],\n",
       "[ E],\n",
       "[ L],\n",
       "[ Z],\n",
       "[ J],\n",
       "[ C],\n",
       "[ B],\n",
       "[ T],\n",
       "[ I],\n",
       "[M1],\n",
       "[R1],\n",
       "[D1],\n",
       "[C1]])"
      ]
     },
     "metadata": {},
     "output_type": "display_data"
    },
    {
     "name": "stdout",
     "output_type": "stream",
     "text": [
      "where: {'M': 'MatrixMult', 'F': 'MatrixMult', 'O': 'MatrixMult', 'Y': 'MatrixMult', 'Q': 'MatrixMult', 'G': 'MatrixMult', 'X': 'MatrixMult', 'N': 'MatrixMult', 'R': 'MatrixMult', 'P': 'MatrixMult', 'U': 'MatrixMult', 'W': 'MatrixMult', 'A': 'MatrixMult', 'H': 'MatrixMult', 'D': 'MatrixMult', 'S': 'MatrixMult', 'K': 'MatrixMult', 'V': 'MatrixMult', 'E': 'MatrixMult', 'L': 'MatrixMult', 'Z': 'MatrixMult', 'J': 'MatrixMult', 'C': 'MatrixMult', 'B': 'MatrixMult', 'T': 'MatrixMult', 'I': 'MatrixMult', 'M1': 'MatrixMult', 'R1': 'MatrixMult', 'D1': 'MatrixMult', 'C1': 'MatrixMult'}\n"
     ]
    }
   ],
   "source": [
    "M = []\n",
    "for i in range(30):\n",
    "    M.append(pylops.MatrixMult(np.random.normal(0,1,(5,5))))\n",
    "V = pylops.VStack(M)\n",
    "print([id(m) for m in M])\n",
    "# Simple operator\n",
    "describe(V)"
   ]
  },
  {
   "cell_type": "code",
   "execution_count": 11,
   "metadata": {},
   "outputs": [
    {
     "name": "stdout",
     "output_type": "stream",
     "text": [
      "[140616158718656, 140616158718656, 140616158718656, 140616158718656]\n"
     ]
    },
    {
     "data": {
      "text/latex": [
       "$\\displaystyle \\left[\\begin{matrix}M\\\\M\\\\M\\\\M\\end{matrix}\\right]$"
      ],
      "text/plain": [
       "Matrix([\n",
       "[M],\n",
       "[M],\n",
       "[M],\n",
       "[M]])"
      ]
     },
     "metadata": {},
     "output_type": "display_data"
    },
    {
     "name": "stdout",
     "output_type": "stream",
     "text": [
      "where: {'M': 'MatrixMult'}\n"
     ]
    }
   ],
   "source": [
    "# BE CAREFUL, THIS DOESNT WORK AS ALL OPERATORS HAVE SAME ID!\n",
    "M = [pylops.MatrixMult(np.random.normal(0,1,(5,5)))] * 4\n",
    "V = pylops.VStack(M)\n",
    "print([id(m) for m in M])\n",
    "# Simple operator\n",
    "describe(V)"
   ]
  },
  {
   "cell_type": "code",
   "execution_count": 12,
   "metadata": {},
   "outputs": [
    {
     "name": "stderr",
     "output_type": "stream",
     "text": [
      "WARNING: The user has used the same name M for two distinct operators, changing name of operator MatrixMult to U...\n"
     ]
    },
    {
     "data": {
      "text/latex": [
       "$\\displaystyle \\left[\\begin{matrix}M\\\\U\\end{matrix}\\right]$"
      ],
      "text/plain": [
       "Matrix([\n",
       "[M],\n",
       "[U]])"
      ]
     },
     "metadata": {},
     "output_type": "display_data"
    },
    {
     "name": "stdout",
     "output_type": "stream",
     "text": [
      "where: {'M': 'MatrixMult', 'U': 'MatrixMult'}\n"
     ]
    }
   ],
   "source": [
    "M1 = pylops.MatrixMult(np.random.normal(0,1,(5,5)))\n",
    "M2 = pylops.MatrixMult(np.random.normal(0,1,(2,5)))\n",
    "\n",
    "V = pylops.VStack([M1, M2])\n",
    "\n",
    "# Simple operator\n",
    "describe(V)"
   ]
  },
  {
   "cell_type": "code",
   "execution_count": 13,
   "metadata": {},
   "outputs": [
    {
     "data": {
      "text/latex": [
       "$\\displaystyle \\left[\\begin{matrix}\\left[\\begin{matrix}I & M\\end{matrix}\\right]\\\\\\left[\\begin{matrix}M & I\\end{matrix}\\right]\\end{matrix}\\right]$"
      ],
      "text/plain": [
       "Matrix([\n",
       "[Matrix([[I, M]])],\n",
       "[Matrix([[M, I]])]])"
      ]
     },
     "metadata": {},
     "output_type": "display_data"
    },
    {
     "name": "stdout",
     "output_type": "stream",
     "text": [
      "where: {'I': 'Identity', 'M': 'MatrixMult'}\n"
     ]
    }
   ],
   "source": [
    "Iop = Identity(5)\n",
    "M1op = MatrixMult(np.ones((5,5)))\n",
    "M2op = MatrixMult(np.zeros((5,5)))\n",
    "\n",
    "Mop = VStack([HStack([Iop, M1op]),\n",
    "              HStack([M1op, Iop])])\n",
    "\n",
    "describe(Mop)"
   ]
  }
 ],
 "metadata": {
  "kernelspec": {
   "display_name": "Python 3 (ipykernel)",
   "language": "python",
   "name": "python3"
  },
  "language_info": {
   "codemirror_mode": {
    "name": "ipython",
    "version": 3
   },
   "file_extension": ".py",
   "mimetype": "text/x-python",
   "name": "python",
   "nbconvert_exporter": "python",
   "pygments_lexer": "ipython3",
   "version": "3.9.7"
  },
  "toc": {
   "base_numbering": 1,
   "nav_menu": {},
   "number_sections": true,
   "sideBar": true,
   "skip_h1_title": false,
   "title_cell": "Table of Contents",
   "title_sidebar": "Contents",
   "toc_cell": false,
   "toc_position": {},
   "toc_section_display": true,
   "toc_window_display": true
  }
 },
 "nbformat": 4,
 "nbformat_minor": 1
}
