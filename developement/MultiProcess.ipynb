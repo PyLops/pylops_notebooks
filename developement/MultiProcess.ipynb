{
 "cells": [
  {
   "cell_type": "markdown",
   "id": "numeric-french",
   "metadata": {},
   "source": [
    "# Pylops - multi-process linear operators"
   ]
  },
  {
   "cell_type": "markdown",
   "id": "broke-george",
   "metadata": {},
   "source": [
    "### Author: M.Ravasi"
   ]
  },
  {
   "cell_type": "markdown",
   "id": "every-campaign",
   "metadata": {},
   "source": [
    "In this notebook we will experiment with multiprocess/multithread to speed up embarassingly parallel operators like VStack, HStack, BlockDiag"
   ]
  },
  {
   "cell_type": "code",
   "execution_count": 25,
   "id": "little-thomson",
   "metadata": {},
   "outputs": [
    {
     "name": "stdout",
     "output_type": "stream",
     "text": [
      "The autoreload extension is already loaded. To reload it, use:\n",
      "  %reload_ext autoreload\n"
     ]
    }
   ],
   "source": [
    "%load_ext autoreload\n",
    "%autoreload 2\n",
    "%matplotlib inline\n",
    "\n",
    "#import warnings\n",
    "#warnings.filterwarnings('ignore')\n",
    "\n",
    "import os\n",
    "import numpy as np\n",
    "import matplotlib.pyplot as plt\n",
    "import scipy as sp\n",
    "import time\n",
    "\n",
    "import pylops\n",
    "import multiprocessing as mp\n",
    "\n",
    "from scipy.sparse import csr_matrix, vstack, rand\n",
    "from scipy.linalg import lstsq, solve, pinv\n",
    "from scipy.sparse.linalg import LinearOperator as spLinearOperator\n",
    "from scipy.sparse.linalg import cg, lsqr\n",
    "\n",
    "from pylops.utils                      import dottest\n",
    "from pylops.basicoperators             import *\n",
    "from pylops.waveeqprocessing.wavedecomposition import *"
   ]
  },
  {
   "cell_type": "code",
   "execution_count": 26,
   "id": "portable-district",
   "metadata": {},
   "outputs": [],
   "source": [
    "os.environ[\"OMP_NUM_THREADS\"] = \"1\"\n",
    "os.environ[\"MKL_NUM_THREADS\"] = \"1\""
   ]
  },
  {
   "cell_type": "code",
   "execution_count": 27,
   "id": "engaged-locking",
   "metadata": {},
   "outputs": [],
   "source": [
    "def scalability_test(Op, x, workerexp=2):\n",
    "    workers=list()\n",
    "    compute_times=list()\n",
    "    speedup=list()\n",
    "    for i in range(workerexp):\n",
    "        workers.append(2 ** i)\n",
    "        print('Working with %d workers...' % workers[-1])\n",
    "        # update number of workers\n",
    "        Op.nproc = workers[i]\n",
    "        print(Op.pool)\n",
    "        # run forward\n",
    "        ptime = time.time()\n",
    "        result = Op * x\n",
    "        ptime = time.time() - ptime\n",
    "        compute_times.append(ptime)\n",
    "        speedup.append(compute_times[0]/ptime)\n",
    "    Op.pool.close()\n",
    "    return workers, compute_times, speedup"
   ]
  },
  {
   "cell_type": "markdown",
   "id": "ahead-humidity",
   "metadata": {},
   "source": [
    "## Simple example"
   ]
  },
  {
   "cell_type": "code",
   "execution_count": 4,
   "id": "fixed-stomach",
   "metadata": {},
   "outputs": [],
   "source": [
    "def fun(G, x, i):\n",
    "    print('Starting:', mp.current_process().name) \n",
    "    time.sleep(10)\n",
    "    return np.dot(G, x)"
   ]
  },
  {
   "cell_type": "code",
   "execution_count": 5,
   "id": "composite-commission",
   "metadata": {},
   "outputs": [
    {
     "name": "stdout",
     "output_type": "stream",
     "text": [
      "4 worker available\n",
      "Starting: ForkPoolWorker-1\n",
      "Starting: ForkPoolWorker-2\n",
      "Starting: ForkPoolWorker-3\n",
      "Starting: ForkPoolWorker-4\n",
      "Starting: ForkPoolWorker-1\n",
      "Starting: ForkPoolWorker-2\n",
      "Starting: ForkPoolWorker-3\n",
      "Starting: ForkPoolWorker-4\n",
      "Starting: ForkPoolWorker-1\n",
      "Starting: ForkPoolWorker-2\n",
      "Starting: ForkPoolWorker-3\n",
      "Starting: ForkPoolWorker-4\n",
      "Starting: ForkPoolWorker-1\n",
      "Starting: ForkPoolWorker-2\n",
      "Starting: ForkPoolWorker-3\n",
      "Starting: ForkPoolWorker-4\n",
      "Elapsed time (mins):  0.7383219401041666\n"
     ]
    }
   ],
   "source": [
    "nprocs = 4 #mp.cpu_count()\n",
    "print(\"%d worker available\" %nprocs)\n",
    "\n",
    "# let's create a pool of workers\n",
    "pool = mp.Pool(processes=nprocs)\n",
    "\n",
    "t0 = time.time()\n",
    "n = 5000\n",
    "G = np.random.normal(0., 1., (n, n))\n",
    "results = pool.starmap(fun, [(G, np.random.normal(0., 1., n), i) for i in range(nprocs*4)])\n",
    "print('Elapsed time (mins): ', (time.time()- t0) / 60.)"
   ]
  },
  {
   "cell_type": "markdown",
   "id": "engaging-bridal",
   "metadata": {},
   "source": [
    "## HStack with matrix mult\n",
    "\n",
    "Overhead seems to kill benefit"
   ]
  },
  {
   "cell_type": "code",
   "execution_count": 6,
   "id": "center-empty",
   "metadata": {},
   "outputs": [
    {
     "name": "stdout",
     "output_type": "stream",
     "text": [
      "4 worker available\n",
      "Starting: ForkPoolWorker-5\n",
      "Starting: ForkPoolWorker-6\n",
      "Starting: ForkPoolWorker-7\n",
      "Starting: ForkPoolWorker-8\n",
      "Starting: ForkPoolWorker-5\n",
      "Starting: ForkPoolWorker-6\n",
      "Starting: ForkPoolWorker-7\n",
      "Starting: ForkPoolWorker-8\n",
      "Starting: ForkPoolWorker-5\n",
      "Starting: ForkPoolWorker-6\n",
      "Starting: ForkPoolWorker-7\n",
      "Starting: ForkPoolWorker-8\n",
      "Starting: ForkPoolWorker-5\n",
      "Starting: ForkPoolWorker-6\n",
      "Starting: ForkPoolWorker-7\n",
      "Starting: ForkPoolWorker-8\n",
      "Starting: ForkPoolWorker-5\n",
      "Starting: ForkPoolWorker-6\n",
      "Starting: ForkPoolWorker-7\n",
      "Starting: ForkPoolWorker-8\n",
      "Starting: ForkPoolWorker-5\n",
      "Starting: ForkPoolWorker-6\n",
      "Starting: ForkPoolWorker-7\n",
      "Starting: ForkPoolWorker-8\n",
      "Starting: ForkPoolWorker-5\n",
      "Starting: ForkPoolWorker-6\n",
      "Starting: ForkPoolWorker-7\n",
      "Starting: ForkPoolWorker-8\n",
      "Starting: ForkPoolWorker-5\n",
      "Starting: ForkPoolWorker-6\n",
      "Starting: ForkPoolWorker-7\n",
      "Starting: ForkPoolWorker-8\n",
      "Starting: ForkPoolWorker-5\n",
      "Starting: ForkPoolWorker-6\n",
      "Starting: ForkPoolWorker-7\n",
      "Starting: ForkPoolWorker-8\n",
      "Starting: ForkPoolWorker-5\n",
      "Starting: ForkPoolWorker-6\n",
      "Starting: ForkPoolWorker-7\n",
      "Starting: ForkPoolWorker-8\n",
      "Starting: ForkPoolWorker-5\n",
      "Starting: ForkPoolWorker-6\n",
      "Starting: ForkPoolWorker-7\n",
      "Starting: ForkPoolWorker-8\n",
      "Starting: ForkPoolWorker-5\n",
      "Starting: ForkPoolWorker-6\n",
      "Starting: ForkPoolWorker-7\n",
      "Starting: ForkPoolWorker-8\n",
      "Starting: ForkPoolWorker-5\n",
      "Starting: ForkPoolWorker-6\n",
      "Starting: ForkPoolWorker-7\n",
      "Starting: ForkPoolWorker-8\n",
      "Starting: ForkPoolWorker-5\n",
      "Starting: ForkPoolWorker-6\n",
      "Starting: ForkPoolWorker-7\n",
      "Starting: ForkPoolWorker-8\n",
      "Starting: ForkPoolWorker-5\n",
      "Starting: ForkPoolWorker-6\n",
      "Starting: ForkPoolWorker-7\n",
      "Starting: ForkPoolWorker-8\n",
      "Starting: ForkPoolWorker-5\n",
      "Starting: ForkPoolWorker-6\n",
      "Starting: ForkPoolWorker-7\n",
      "Starting: ForkPoolWorker-8\n"
     ]
    }
   ],
   "source": [
    "nprocs = 4 #mp.cpu_count()\n",
    "print(\"%d worker available\" %nprocs)\n",
    "\n",
    "n = 5000\n",
    "N = nprocs * 4\n",
    "G = np.random.normal(0., 1., (n,n))\n",
    "x = np.ones(n*N)\n",
    "\n",
    "Gop = MatrixMult(G)\n",
    "Sop = HStack([G]*N)\n",
    "S1op = HStack([G]*N, nproc=nprocs)"
   ]
  },
  {
   "cell_type": "code",
   "execution_count": 7,
   "id": "first-roulette",
   "metadata": {},
   "outputs": [
    {
     "name": "stdout",
     "output_type": "stream",
     "text": [
      "Dot test passed, v^T(Opu)=-26710.473916 - u^T(Op^Tv)=-26710.473916\n",
      "Dot test passed, v^T(Opu)=-14349.405047 - u^T(Op^Tv)=-14349.405047\n",
      "True\n"
     ]
    }
   ],
   "source": [
    "y = Sop * x \n",
    "y1 = S1op * x\n",
    "\n",
    "dottest(Sop, verb=True)\n",
    "dottest(S1op, verb=True)\n",
    "print(np.allclose(y, y1))"
   ]
  },
  {
   "cell_type": "code",
   "execution_count": 8,
   "id": "general-holocaust",
   "metadata": {},
   "outputs": [
    {
     "name": "stdout",
     "output_type": "stream",
     "text": [
      "0.23723864555358887\n"
     ]
    }
   ],
   "source": [
    "t0 = time.time()\n",
    "Sop * x\n",
    "print(time.time()-t0)"
   ]
  },
  {
   "cell_type": "code",
   "execution_count": 9,
   "id": "electric-desert",
   "metadata": {},
   "outputs": [
    {
     "name": "stdout",
     "output_type": "stream",
     "text": [
      "6.90562891960144\n"
     ]
    }
   ],
   "source": [
    "t0 = time.time()\n",
    "S1op * x\n",
    "print(time.time()-t0)"
   ]
  },
  {
   "cell_type": "markdown",
   "id": "stupid-struggle",
   "metadata": {},
   "source": [
    "## BlockDiag with matrix mult\n",
    "\n",
    "Overhead seems to kill benefit"
   ]
  },
  {
   "cell_type": "code",
   "execution_count": 10,
   "id": "crude-scope",
   "metadata": {},
   "outputs": [
    {
     "name": "stdout",
     "output_type": "stream",
     "text": [
      "None\n",
      "<multiprocessing.pool.Pool state=RUN pool_size=2>\n",
      "<multiprocessing.pool.Pool state=RUN pool_size=4>\n"
     ]
    }
   ],
   "source": [
    "Sop = BlockDiag([G]*N, nproc=1)\n",
    "print(Sop.pool)\n",
    "Sop.nproc = 2\n",
    "print(Sop.pool)\n",
    "Sop.nproc = 4\n",
    "print(Sop.pool)"
   ]
  },
  {
   "cell_type": "code",
   "execution_count": 11,
   "id": "caring-deviation",
   "metadata": {},
   "outputs": [
    {
     "name": "stdout",
     "output_type": "stream",
     "text": [
      "Working with 1 workers...\n",
      "Working with 2 workers...\n",
      "Starting: ForkPoolWorker-15\n",
      "Starting: ForkPoolWorker-15\n",
      "Starting: ForkPoolWorker-16\n",
      "Starting: ForkPoolWorker-16\n",
      "Starting: ForkPoolWorker-15\n",
      "Starting: ForkPoolWorker-15\n",
      "Starting: ForkPoolWorker-16\n",
      "Starting: ForkPoolWorker-16\n",
      "Starting: ForkPoolWorker-15\n",
      "Starting: ForkPoolWorker-15\n",
      "Starting: ForkPoolWorker-16\n",
      "Starting: ForkPoolWorker-16\n",
      "Starting: ForkPoolWorker-15\n",
      "Starting: ForkPoolWorker-15\n",
      "Starting: ForkPoolWorker-16\n",
      "Starting: ForkPoolWorker-16\n",
      "Working with 4 workers...\n",
      "Starting: ForkPoolWorker-17\n",
      "Starting: ForkPoolWorker-18\n",
      "Starting: ForkPoolWorker-19\n",
      "Starting: ForkPoolWorker-20\n",
      "Starting: ForkPoolWorker-17\n",
      "Starting: ForkPoolWorker-18\n",
      "Starting: ForkPoolWorker-19\n",
      "Starting: ForkPoolWorker-20\n",
      "Starting: ForkPoolWorker-17\n",
      "Starting: ForkPoolWorker-18\n",
      "Starting: ForkPoolWorker-19\n",
      "Starting: ForkPoolWorker-20\n",
      "Starting: ForkPoolWorker-17\n",
      "Starting: ForkPoolWorker-18\n",
      "Starting: ForkPoolWorker-19\n",
      "Starting: ForkPoolWorker-20\n",
      "Working with 8 workers...\n",
      "Starting: ForkPoolWorker-22\n",
      "Starting: ForkPoolWorker-21\n",
      "Starting: ForkPoolWorker-23\n",
      "Starting: ForkPoolWorker-24\n",
      "Starting: ForkPoolWorker-25\n",
      "Starting: ForkPoolWorker-26\n",
      "Starting: ForkPoolWorker-27\n",
      "Starting: ForkPoolWorker-28\n",
      "Starting: ForkPoolWorker-22\n",
      "Starting: ForkPoolWorker-21\n",
      "Starting: ForkPoolWorker-23\n",
      "Starting: ForkPoolWorker-24\n",
      "Starting: ForkPoolWorker-25\n",
      "Starting: ForkPoolWorker-26\n",
      "Starting: ForkPoolWorker-27\n",
      "Starting: ForkPoolWorker-28\n"
     ]
    }
   ],
   "source": [
    "workers, compute_times, speedup = scalability_test(Sop, np.ones(N*n), workerexp=4)"
   ]
  },
  {
   "cell_type": "code",
   "execution_count": 12,
   "id": "alpha-observation",
   "metadata": {},
   "outputs": [
    {
     "data": {
      "image/png": "[encoded data removed]",
      "text/plain": [
       "<Figure size 432x288 with 1 Axes>"
      ]
     },
     "metadata": {
      "needs_background": "light"
     },
     "output_type": "display_data"
    }
   ],
   "source": [
    "plt.plot(workers,speedup,'ro-')\n",
    "plt.xlabel('# Workers');\n",
    "plt.ylabel('Speed Up');"
   ]
  },
  {
   "cell_type": "markdown",
   "id": "afraid-lunch",
   "metadata": {},
   "source": [
    "## PressureToVelocity\n",
    "Repeat ns times the same operation with ffts"
   ]
  },
  {
   "cell_type": "code",
   "execution_count": 13,
   "id": "accompanied-enemy",
   "metadata": {},
   "outputs": [
    {
     "name": "stdout",
     "output_type": "stream",
     "text": [
      "4 worker available\n"
     ]
    },
    {
     "name": "stderr",
     "output_type": "stream",
     "text": [
      "/home/ravasim/Documents/OpenSource/pylops/pylops/waveeqprocessing/wavedecomposition.py:106: RuntimeWarning: divide by zero encountered in true_divide\n",
      "  OBL = Kz / (rho * np.abs(F))\n",
      "/home/ravasim/Documents/OpenSource/pylops/pylops/waveeqprocessing/wavedecomposition.py:106: RuntimeWarning: invalid value encountered in true_divide\n",
      "  OBL = Kz / (rho * np.abs(F))\n"
     ]
    },
    {
     "data": {
      "text/plain": [
       "(<104857600x104857600 BlockDiag with dtype=complex128>,\n",
       " <104857600x104857600 BlockDiag with dtype=complex128>)"
      ]
     },
     "execution_count": 13,
     "metadata": {},
     "output_type": "execute_result"
    }
   ],
   "source": [
    "nprocs = 4 #mp.cpu_count()-2\n",
    "print(\"%d worker available\" %nprocs)\n",
    "\n",
    "nt, nr, ns = 1024, 512, 200\n",
    "nfftk, nfftf = 512, 1024\n",
    "PtoVop = PressureToVelocity(nt, nr, 1., 1.,\n",
    "                            1000, 2000,\n",
    "                            nffts=(nfftk, nfftf),\n",
    "                            critical=100., ntaper=11,\n",
    "                            topressure=False, dtype='complex128')           \n",
    "PtoVop1 = BlockDiag([PtoVop]*ns)\n",
    "PtoVop2 = BlockDiag([PtoVop]*ns, nproc=nprocs)\n",
    "\n",
    "PtoVop1, PtoVop2"
   ]
  },
  {
   "cell_type": "code",
   "execution_count": 14,
   "id": "musical-inspector",
   "metadata": {},
   "outputs": [
    {
     "data": {
      "text/plain": [
       "array([8.24906487e-24+0.j, 8.24906487e-24+0.j, 8.24906487e-24+0.j, ...,\n",
       "       8.24906487e-24+0.j, 8.24906487e-24+0.j, 8.24906487e-24+0.j])"
      ]
     },
     "execution_count": 14,
     "metadata": {},
     "output_type": "execute_result"
    }
   ],
   "source": [
    "y = PtoVop1 * np.ones(104857600)\n",
    "y1 = PtoVop2 * np.ones(104857600)\n",
    "np.allclose(y, y1)"
   ]
  },
  {
   "cell_type": "code",
   "execution_count": 17,
   "id": "incredible-inquiry",
   "metadata": {},
   "outputs": [
    {
     "name": "stdout",
     "output_type": "stream",
     "text": [
      "8.79 s ± 19.1 ms per loop (mean ± std. dev. of 2 runs, 1 loop each)\n"
     ]
    }
   ],
   "source": [
    "%timeit -n1 -r2 PtoVop1 * np.ones(104857600)"
   ]
  },
  {
   "cell_type": "code",
   "execution_count": 18,
   "id": "lovely-jefferson",
   "metadata": {},
   "outputs": [
    {
     "name": "stdout",
     "output_type": "stream",
     "text": [
      "5.38 s ± 95.1 ms per loop (mean ± std. dev. of 2 runs, 1 loop each)\n"
     ]
    }
   ],
   "source": [
    "%timeit -n1 -r2 PtoVop2 * np.ones(104857600)"
   ]
  },
  {
   "cell_type": "code",
   "execution_count": 28,
   "id": "daily-entrepreneur",
   "metadata": {},
   "outputs": [
    {
     "name": "stdout",
     "output_type": "stream",
     "text": [
      "Working with 1 workers...\n",
      "<multiprocessing.pool.Pool state=CLOSE pool_size=4>\n",
      "Working with 2 workers...\n",
      "<multiprocessing.pool.Pool state=RUN pool_size=2>\n",
      "Working with 4 workers...\n",
      "<multiprocessing.pool.Pool state=RUN pool_size=4>\n",
      "Working with 8 workers...\n",
      "<multiprocessing.pool.Pool state=RUN pool_size=8>\n"
     ]
    }
   ],
   "source": [
    "workers, compute_times, speedup = scalability_test(PtoVop1, np.ones(104857600), workerexp=4)"
   ]
  },
  {
   "cell_type": "code",
   "execution_count": 29,
   "id": "pretty-sacramento",
   "metadata": {},
   "outputs": [
    {
     "data": {
      "image/png": "[encoded data removed]",
      "text/plain": [
       "<Figure size 432x288 with 1 Axes>"
      ]
     },
     "metadata": {
      "needs_background": "light"
     },
     "output_type": "display_data"
    }
   ],
   "source": [
    "plt.plot(workers, speedup,'ro-')\n",
    "plt.xlabel('# Workers');\n",
    "plt.ylabel('Speed Up');"
   ]
  },
  {
   "cell_type": "code",
   "execution_count": 32,
   "id": "upper-management",
   "metadata": {},
   "outputs": [
    {
     "name": "stdout",
     "output_type": "stream",
     "text": [
      "Working with 1 workers...\n",
      "Working with 2 workers...\n",
      "Working with 4 workers...\n",
      "Working with 8 workers...\n",
      "Working with 1 workers...\n",
      "Working with 2 workers...\n",
      "Working with 4 workers...\n",
      "Working with 8 workers...\n"
     ]
    },
    {
     "data": {
      "image/png": "[encoded data removed]",
      "text/plain": [
       "<Figure size 432x288 with 1 Axes>"
      ]
     },
     "metadata": {
      "needs_background": "light"
     },
     "output_type": "display_data"
    }
   ],
   "source": [
    "from pylops.utils.multiproc import scalability_test as stest\n",
    "\n",
    "workers = [1, 2, 4, 8]\n",
    "compute_times, speedup = stest(PtoVop1, np.ones(PtoVop1.shape[1]), workers=workers, forward=True)\n",
    "plt.plot(workers, speedup,'ro-')\n",
    "plt.xlabel('# Workers')\n",
    "plt.ylabel('Speed Up')\n",
    "\n",
    "compute_times, speedup = stest(PtoVop1, np.ones(PtoVop1.shape[0]), workers=workers, forward=False)\n",
    "plt.plot(workers, speedup,'ro-')\n",
    "plt.xlabel('# Workers');\n",
    "plt.ylabel('Speed Up');"
   ]
  },
  {
   "cell_type": "code",
   "execution_count": null,
   "id": "earlier-pacific",
   "metadata": {},
   "outputs": [],
   "source": []
  }
 ],
 "metadata": {
  "kernelspec": {
   "display_name": "Python 3",
   "language": "python",
   "name": "python3"
  },
  "language_info": {
   "codemirror_mode": {
    "name": "ipython",
    "version": 3
   },
   "file_extension": ".py",
   "mimetype": "text/x-python",
   "name": "python",
   "nbconvert_exporter": "python",
   "pygments_lexer": "ipython3",
   "version": "3.8.5"
  },
  "toc": {
   "base_numbering": 1,
   "nav_menu": {},
   "number_sections": true,
   "sideBar": true,
   "skip_h1_title": false,
   "title_cell": "Table of Contents",
   "title_sidebar": "Contents",
   "toc_cell": false,
   "toc_position": {},
   "toc_section_display": true,
   "toc_window_display": true
  }
 },
 "nbformat": 4,
 "nbformat_minor": 5
}
