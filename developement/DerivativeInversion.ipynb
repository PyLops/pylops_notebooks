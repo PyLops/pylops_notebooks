{
 "cells": [
  {
   "cell_type": "markdown",
   "id": "ee817e86",
   "metadata": {},
   "source": [
    "## Derivative inversion"
   ]
  },
  {
   "cell_type": "markdown",
   "id": "3759ac5c",
   "metadata": {},
   "source": [
    "### Author: M.Ravasi"
   ]
  },
  {
   "cell_type": "markdown",
   "id": "cfc5dc4b",
   "metadata": {},
   "source": [
    "In this notebook we consider the process of computing the derivative of a noisy signal. Instead of doing so directly with a FD stencil, we recast this as an inverse problem where the modelling operator is the `CausalIntegration` operator.\n",
    "\n",
    "See https://www.hindawi.com/journals/isrn/2011/164564/ and https://github.com/smrfeld/Total-Variation-Regularization-Derivative-Python for details"
   ]
  },
  {
   "cell_type": "code",
   "execution_count": 1,
   "id": "6a7ef533",
   "metadata": {},
   "outputs": [],
   "source": [
    "%load_ext autoreload\n",
    "%autoreload 2\n",
    "%matplotlib inline\n",
    "\n",
    "#import warnings\n",
    "#warnings.filterwarnings('ignore')\n",
    "\n",
    "import numpy as np\n",
    "import matplotlib.pyplot as plt\n",
    "import scipy as sp\n",
    "import pylops\n",
    "\n",
    "from functools import partial\n",
    "from scipy import integrate\n",
    "from scipy import optimize\n",
    "from scipy.sparse import csr_matrix, vstack, rand\n",
    "from scipy.linalg import lstsq, solve, pinv\n",
    "from scipy.sparse.linalg import LinearOperator as spLinearOperator\n",
    "from scipy.sparse.linalg import cg, lsqr\n",
    "\n",
    "from pylops.utils                      import dottest\n",
    "from pylops.utils.wavelets             import *\n",
    "from pylops.utils.seismicevents        import *\n",
    "from pylops.basicoperators             import *\n",
    "from pylops.signalprocessing           import *\n",
    "from pylops.waveeqprocessing.mdd       import *\n",
    "from pylops.optimization.leastsquares  import *\n",
    "from pylops.optimization.sparsity  import FISTA, SplitBregman"
   ]
  },
  {
   "cell_type": "code",
   "execution_count": 2,
   "id": "d1cedf5a",
   "metadata": {},
   "outputs": [],
   "source": [
    "np.random.seed(10)"
   ]
  },
  {
   "cell_type": "code",
   "execution_count": 3,
   "id": "25dabb0a",
   "metadata": {},
   "outputs": [],
   "source": [
    "import numpy as np\n",
    "from pylops import LinearOperator\n",
    "\n",
    "\n",
    "class CausalIntegration(LinearOperator):\n",
    "    r\"\"\"Causal integration.\n",
    "\n",
    "    Apply causal integration to a multi-dimensional array along ``dir`` axis.\n",
    "\n",
    "    Parameters\n",
    "    ----------\n",
    "    N : :obj:`int`\n",
    "        Number of samples in model.\n",
    "    dims : :obj:`list`, optional\n",
    "        Number of samples for each dimension\n",
    "        (``None`` if only one dimension is available)\n",
    "    dir : :obj:`int`, optional\n",
    "        Direction along which smoothing is applied.\n",
    "    sampling : :obj:`float`, optional\n",
    "        Sampling step ``dx``.\n",
    "    halfcurrent : :obj:`bool`, optional\n",
    "        Add half of current value (``True``) or the entire value (``False``)\n",
    "    trapezoidal : :obj:`bool`, optional\n",
    "        Apply trapezoidal rule (``True``) or not (``False``)\n",
    "    dtype : :obj:`str`, optional\n",
    "        Type of elements in input array.\n",
    "\n",
    "    Attributes\n",
    "    ----------\n",
    "    shape : :obj:`tuple`\n",
    "        Operator shape\n",
    "    explicit : :obj:`bool`\n",
    "        Operator contains a matrix that can be solved explicitly (``True``)\n",
    "        or not (``False``)\n",
    "\n",
    "    Notes\n",
    "    -----\n",
    "    The CausalIntegration operator applies a causal integration to any chosen\n",
    "    direction of a multi-dimensional array.\n",
    "\n",
    "    For simplicity, given a one dimensional array, the causal integration is:\n",
    "\n",
    "    .. math::\n",
    "        y(t) = \\int x(t) dt\n",
    "\n",
    "    which can be discretised as :\n",
    "\n",
    "    .. math::\n",
    "        y[i] = \\sum_{j=0}^i x[j] dt\n",
    "\n",
    "    or\n",
    "\n",
    "    .. math::\n",
    "        y[i] = (\\sum_{j=0}^{i-1} x[j] + 0.5x[i]) dt\n",
    "\n",
    "    or\n",
    "\n",
    "    .. math::\n",
    "        y[i] = (\\sum_{j=1}^{i-1} x[j] + 0.5x[0] + 0.5x[i]) dt\n",
    "\n",
    "    where :math:`dt` is the ``sampling`` interval. In our implementation, the\n",
    "    choice to add :math:`x[i]` or :math:`0.5x[i]` is made by selecting\n",
    "    the ``halfcurrent`` parameter and the choice to add :math:`x[0]` or\n",
    "    :math:`0.5x[0]` is made by selecting the ``trapezoidal`` parameter.\n",
    "\n",
    "    Note that the integral of a signal has no unique solution, as any constant\n",
    "    :math:`c` can be added to :math:`y`, for example if :math:`x(t)=t^2` the\n",
    "    resulting integration is:\n",
    "\n",
    "    .. math::\n",
    "        y(t) = \\int t^2 dt = \\frac{t^3}{3} + c\n",
    "\n",
    "    If we apply a first derivative to :math:`y` we in fact obtain:\n",
    "\n",
    "    .. math::\n",
    "        x(t) = \\frac{dy}{dt} = t^2\n",
    "\n",
    "    no matter the choice of :math:`c`.\n",
    "\n",
    "    \"\"\"\n",
    "    def __init__(self, N, dims=None, dir=-1, sampling=1,\n",
    "                 halfcurrent=True, trapezoidal=False, removefirst=False,\n",
    "                 dtype='float64'):\n",
    "        self.N = N\n",
    "        self.dir = dir\n",
    "        self.sampling = sampling\n",
    "        self.trapezoidal = trapezoidal\n",
    "        self.halfcurrent = halfcurrent if not trapezoidal else False\n",
    "        self.removefirst = removefirst\n",
    "        if dims is None:\n",
    "            self.dims = [self.N, 1]\n",
    "            self.reshape = False\n",
    "        else:\n",
    "            if np.prod(dims) != self.N:\n",
    "                raise ValueError('product of dims must equal N!')\n",
    "            else:\n",
    "                self.dims = dims\n",
    "                self.reshape = True\n",
    "        self.shape = (self.N-self.dims[self.dir] if self.removefirst else self.N,\n",
    "                      self.N)\n",
    "        self.dtype = np.dtype(dtype)\n",
    "        self.explicit = False\n",
    "\n",
    "    def _matvec(self, x):\n",
    "        if self.reshape:\n",
    "            x = np.reshape(x, self.dims)\n",
    "        if self.dir != -1:\n",
    "            x = np.swapaxes(x, self.dir, -1)\n",
    "        y = self.sampling * np.cumsum(x, axis=-1)\n",
    "        if self.halfcurrent or self.trapezoidal:\n",
    "            y -= self.sampling * x / 2.\n",
    "        if self.trapezoidal:\n",
    "            y[1:] -= self.sampling * x[0] / 2.\n",
    "        if self.removefirst:\n",
    "            y = y[1:]\n",
    "        if self.dir != -1:\n",
    "            y = np.swapaxes(y, -1, self.dir)\n",
    "        return y.ravel()\n",
    "\n",
    "    def _rmatvec(self, x):\n",
    "        if self.reshape:\n",
    "            x = np.reshape(x, self.dims)\n",
    "        if self.removefirst:\n",
    "            x = np.insert(x, 0, 0, axis=self.dir)\n",
    "        if self.dir != -1:\n",
    "            x = np.swapaxes(x, self.dir, -1)\n",
    "        xflip = np.flip(x, axis=-1)\n",
    "        if self.halfcurrent:\n",
    "            y = self.sampling * (np.cumsum(xflip, axis=-1) - xflip / 2.)\n",
    "        elif self.trapezoidal:\n",
    "            y = self.sampling * (np.cumsum(xflip, axis=-1) - xflip / 2.)\n",
    "            y[-1] = self.sampling * np.sum(xflip, axis=-1) / 2.\n",
    "        else:\n",
    "            y = self.sampling * np.cumsum(xflip, axis=-1)\n",
    "        #y = self.sampling * np.cumsum(xflip, axis=-1)\n",
    "        #if self.halfcurrent or self.trapezoidal:\n",
    "        #    y -= self.sampling * xflip / 2.\n",
    "        #if self.trapezoidal:\n",
    "        #    y[-1] = self.sampling * np.sum(xflip, axis=-1) / 2.\n",
    "        y = np.flip(y, axis=-1)\n",
    "        if self.dir != -1:\n",
    "            y = np.swapaxes(y, -1, self.dir)\n",
    "        return y.ravel()\n"
   ]
  },
  {
   "cell_type": "code",
   "execution_count": 4,
   "id": "f34ac10a",
   "metadata": {},
   "outputs": [
    {
     "name": "stdout",
     "output_type": "stream",
     "text": [
      "Dot test passed, v^T(Opu)=0.264101 - u^T(Op^Tv)=0.264101\n"
     ]
    },
    {
     "data": {
      "text/plain": [
       "(array([1.5, 2.5, 3.5]),\n",
       " array([[1. , 0.5, 0. , 0. ],\n",
       "        [1. , 1. , 0.5, 0. ],\n",
       "        [1. , 1. , 1. , 0.5]]))"
      ]
     },
     "execution_count": 4,
     "metadata": {},
     "output_type": "execute_result"
    }
   ],
   "source": [
    "Cop = CausalIntegration(4, sampling=1, halfcurrent=True, removefirst=True)\n",
    "dottest(Cop, verb=True)\n",
    "\n",
    "Cop * np.ones(4), Cop.todense()"
   ]
  },
  {
   "cell_type": "code",
   "execution_count": 17,
   "id": "0f55cdfd",
   "metadata": {},
   "outputs": [
    {
     "data": {
      "text/plain": [
       "(array([[0.5, 0.5, 0. , 0. ],\n",
       "        [0.5, 1. , 0.5, 0. ],\n",
       "        [0.5, 1. , 1. , 0.5]]),\n",
       " array([[0.5, 0.5, 0.5],\n",
       "        [0.5, 1. , 1. ],\n",
       "        [0. , 0.5, 1. ],\n",
       "        [0. , 0. , 0.5]]))"
      ]
     },
     "execution_count": 17,
     "metadata": {},
     "output_type": "execute_result"
    }
   ],
   "source": [
    "Cop = CausalIntegration(4, sampling=1, trapezoidal=True, removefirst=True)\n",
    "dottest(Cop)\n",
    "\n",
    "Cop.todense(), Cop.H.todense()"
   ]
  },
  {
   "cell_type": "code",
   "execution_count": 6,
   "id": "ca3b4f78",
   "metadata": {},
   "outputs": [],
   "source": [
    "class DiffTVR:\n",
    "\n",
    "    def __init__(self, dx: float, n: int):\n",
    "        \"\"\"Differentiate with TVR.\n",
    "        Args:\n",
    "            dx (float): Spacing of data.\n",
    "            n (int): Number of points in data.\n",
    "        \"\"\"\n",
    "        self.Dop = None\n",
    "        self.CIop = None\n",
    "        self.eps = 1e-10\n",
    "\n",
    "        self.n = n\n",
    "        self.dx = dx\n",
    "        self.build_matrices()\n",
    "\n",
    "    def build_matrices(self):\n",
    "        self.Dop = pylops.Restriction(self.n, np.arange(self.n-1)) * \\\n",
    "            pylops.FirstDerivative(self.n, kind='forward', edge=True,\n",
    "                                   sampling=self.dx)\n",
    "        self.CIop = CausalIntegration(self.n, sampling=self.dx, trapezoidal=True, removefirst=True)\n",
    "        #TrapezoidalIntegration(self._n, sampling=self._dx)\n",
    "\n",
    "    def __call__(self, data: np.array, alpha: float, *,\n",
    "                 initial_guess: np.array, steps: int,\n",
    "                 dx: float = None) -> np.array:\n",
    "        \"\"\"Get derivative via TVR over optimization steps\n",
    "        Args:\n",
    "            data (np.array): Data \n",
    "            initial_guess (np.array): Guess for derivative\n",
    "            alpha (float): Regularization parameter\n",
    "            steps (int): No. opt steps to run\n",
    "        Returns:\n",
    "            np.array: estimated derivative\n",
    "            np.array: integrated derivative\n",
    "        \"\"\"\n",
    "        self._dx = dx if dx is not None else self.dx\n",
    "        self.n = data.size  # triggers update of matrices\n",
    "        eps = pow(10,-6)\n",
    "        KTK = self.CIop.T * self.CIop\n",
    "        deriv_curr = initial_guess\n",
    "        for s in range(0, steps):\n",
    "            # Compute update\n",
    "            en_diag = 1. / np.sqrt((self.Dop * deriv_curr) ** 2 + eps)\n",
    "            HOp = KTK + alpha * self._dx * self.Dop.H * pylops.Diagonal(en_diag) * self.Dop\n",
    "            g = HOp * deriv_curr - self.CIop.T * data\n",
    "            update = solve(HOp.todense(), -g)\n",
    "            #update1 = lsqr(HOp, -g, iter_lim=1000)[0]\n",
    "            #print(np.linalg.norm(update-update1))\n",
    "            # Update solution\n",
    "            deriv_curr += update\n",
    "\n",
    "        # Estimate integral\n",
    "        func = self.CIop * deriv_curr\n",
    "        return deriv_curr, func\n"
   ]
  },
  {
   "cell_type": "code",
   "execution_count": 7,
   "id": "9bc8f671",
   "metadata": {},
   "outputs": [],
   "source": [
    "import numpy as np\n",
    "from scipy.linalg import solve\n",
    "\n",
    "from typing import Tuple\n",
    "\n",
    "class DiffTVR1:\n",
    "\n",
    "    def __init__(self, n: int, dx: float):\n",
    "        \"\"\"Differentiate with TVR.\n",
    "\n",
    "        Args:\n",
    "            n (int): Number of points in data.\n",
    "            dx (float): Spacing of data.\n",
    "        \"\"\"\n",
    "        self.n = n\n",
    "        self.dx = dx\n",
    "\n",
    "        self.d_mat = self._make_d_mat()\n",
    "        self.a_mat = self._make_a_mat()\n",
    "        self.a_mat_t = self._make_a_mat_t()\n",
    "\n",
    "    def _make_d_mat(self) -> np.array:\n",
    "        \"\"\"Make differentiation matrix with central differences. NOTE: not efficient!\n",
    "\n",
    "        Returns:\n",
    "            np.array: N x N+1\n",
    "        \"\"\"\n",
    "        arr = np.zeros((self.n,self.n+1))\n",
    "        for i in range(0,self.n):\n",
    "            arr[i,i] = -1.0\n",
    "            arr[i,i+1] = 1.0\n",
    "        return arr / self.dx\n",
    "\n",
    "    # TODO: improve these matrix constructors\n",
    "    def _make_a_mat(self) -> np.array:\n",
    "        \"\"\"Make integration matrix with trapezoidal rule. NOTE: not efficient!\n",
    "\n",
    "        Returns:\n",
    "            np.array: N x N+1\n",
    "        \"\"\"\n",
    "        arr = np.zeros((self.n+1,self.n+1))\n",
    "        for i in range(0,self.n+1):\n",
    "            if i==0:\n",
    "                continue\n",
    "            for j in range(0,self.n+1):\n",
    "                if j==0:\n",
    "                    arr[i,j] = 0.5\n",
    "                elif j<i:\n",
    "                    arr[i,j] = 1.0\n",
    "                elif i==j:\n",
    "                    arr[i,j] = 0.5\n",
    "        \n",
    "        return arr[1:] * self.dx\n",
    "\n",
    "    def _make_a_mat_t(self) -> np.array:\n",
    "        \"\"\"Transpose of the integration matirx with trapezoidal rule. NOTE: not efficient!\n",
    "\n",
    "        Returns:\n",
    "            np.array: N+1 x N\n",
    "        \"\"\"\n",
    "        smat = np.ones((self.n+1,self.n))\n",
    "        \n",
    "        cmat = np.zeros((self.n,self.n))\n",
    "        li = np.tril_indices(self.n)\n",
    "        cmat[li] = 1.0\n",
    "\n",
    "        dmat = np.diag(np.full(self.n,0.5))\n",
    "\n",
    "        vec = np.array([np.full(self.n,0.5)])\n",
    "        combmat = np.concatenate((vec, cmat - dmat))\n",
    "\n",
    "        return (smat - combmat) * self.dx\n",
    "\n",
    "    def make_en_mat(self, deriv_curr : np.array) -> np.array:\n",
    "        \"\"\"Diffusion matrix\n",
    "\n",
    "        Args:\n",
    "            deriv_curr (np.array): Current derivative of length N+1\n",
    "\n",
    "        Returns:\n",
    "            np.array: N x N\n",
    "        \"\"\"\n",
    "        eps = pow(10,-6)\n",
    "        vec = 1.0/np.sqrt(pow(self.d_mat @ deriv_curr,2) + eps)\n",
    "        return np.diag(vec)\n",
    "\n",
    "    def make_ln_mat(self, en_mat : np.array) -> np.array:\n",
    "        \"\"\"Diffusivity term\n",
    "\n",
    "        Args:\n",
    "            en_mat (np.array): Result from make_en_mat\n",
    "\n",
    "        Returns:\n",
    "            np.array: N+1 x N+1\n",
    "        \"\"\"\n",
    "        return self.dx * np.transpose(self.d_mat) @ en_mat @ self.d_mat\n",
    "\n",
    "    def make_gn_vec(self, deriv_curr : np.array, data : np.array, alpha : float, ln_mat : np.array) -> np.array:\n",
    "        \"\"\"Negative right hand side of linear problem\n",
    "\n",
    "        Args:\n",
    "            deriv_curr (np.array): Current derivative of size N+1\n",
    "            data (np.array): Data of size N\n",
    "            alpha (float): Regularization parameter\n",
    "            ln_mat (np.array): Diffusivity term from make_ln_mat\n",
    "\n",
    "        Returns:\n",
    "            np.array: Vector of length N+1\n",
    "        \"\"\"\n",
    "        return self.a_mat_t @ self.a_mat @ deriv_curr - self.a_mat_t @ (data - data[0]) + alpha * ln_mat @ deriv_curr\n",
    "    \n",
    "    def make_hn_mat(self, alpha : float, ln_mat : np.array) -> np.array:\n",
    "        \"\"\"Matrix in linear problem\n",
    "\n",
    "        Args:\n",
    "            alpha (float): Regularization parameter\n",
    "            ln_mat (np.array): Diffusivity term from make_ln_mat\n",
    "\n",
    "        Returns:\n",
    "            np.array: N+1 x N+1\n",
    "        \"\"\"\n",
    "        return self.a_mat_t @ self.a_mat + alpha * ln_mat\n",
    "    \n",
    "    def get_deriv_tvr_update(self, data : np.array, deriv_curr : np.array, alpha : float) -> np.array:\n",
    "        \"\"\"Get the TVR update\n",
    "\n",
    "        Args:\n",
    "            data (np.array): Data of size N\n",
    "            deriv_curr (np.array): Current deriv of size N+1\n",
    "            alpha (float): Regularization parameter\n",
    "\n",
    "        Returns:\n",
    "            np.array: Update vector of size N+1\n",
    "        \"\"\"\n",
    "\n",
    "        n = len(data)\n",
    "    \n",
    "        en_mat = self.make_en_mat(\n",
    "            deriv_curr=deriv_curr\n",
    "            )\n",
    "\n",
    "        ln_mat = self.make_ln_mat(\n",
    "            en_mat=en_mat\n",
    "            )\n",
    "\n",
    "        hn_mat = self.make_hn_mat(\n",
    "            alpha=alpha,\n",
    "            ln_mat=ln_mat\n",
    "            )\n",
    "\n",
    "        gn_vec = self.make_gn_vec(\n",
    "            deriv_curr=deriv_curr,\n",
    "            data=data,\n",
    "            alpha=alpha,\n",
    "            ln_mat=ln_mat\n",
    "            )\n",
    "        #print(gn_vec)\n",
    "        return solve(hn_mat, -gn_vec)\n",
    "\n",
    "    def get_deriv_tvr(self, \n",
    "        data : np.array, \n",
    "        deriv_guess : np.array, \n",
    "        alpha : float,\n",
    "        no_opt_steps : int,\n",
    "        return_progress : bool = False, \n",
    "        return_interval : int = 1\n",
    "        ) -> Tuple[np.array,np.array]:\n",
    "        \"\"\"Get derivative via TVR over optimization steps\n",
    "\n",
    "        Args:\n",
    "            data (np.array): Data of size N\n",
    "            deriv_guess (np.array): Guess for derivative of size N+1\n",
    "            alpha (float): Regularization parameter\n",
    "            no_opt_steps (int): No. opt steps to run\n",
    "            return_progress (bool, optional): True to return derivative progress during optimization. Defaults to False.\n",
    "            return_interval (int, optional): Interval at which to store derivative if returning. Defaults to 1.\n",
    "\n",
    "        Returns:\n",
    "            Tuple[np.array,np.array]: First is the final derivative of size N+1, second is the stored derivatives if return_progress=True of size no_opt_steps+1 x N+1, else [].\n",
    "        \"\"\"\n",
    "\n",
    "        deriv_curr = deriv_guess\n",
    "\n",
    "        if return_progress:\n",
    "            deriv_st = np.full((no_opt_steps+1, len(deriv_guess)), 0)\n",
    "        else:\n",
    "            deriv_st = np.array([])\n",
    "\n",
    "        for opt_step in range(0,no_opt_steps):\n",
    "            update = self.get_deriv_tvr_update(\n",
    "                data=data,\n",
    "                deriv_curr=deriv_curr,\n",
    "                alpha=alpha\n",
    "                )\n",
    "            #print(update)\n",
    "            deriv_curr += update\n",
    "\n",
    "            if return_progress:\n",
    "                if opt_step % return_interval == 0:\n",
    "                    deriv_st[int(opt_step / return_interval)] = deriv_curr\n",
    "\n",
    "        return (deriv_curr, deriv_st)"
   ]
  },
  {
   "cell_type": "code",
   "execution_count": 8,
   "id": "6d2f1e20",
   "metadata": {
    "scrolled": false
   },
   "outputs": [
    {
     "data": {
      "image/png": "[encoded data removed]",
      "text/plain": [
       "<Figure size 432x288 with 1 Axes>"
      ]
     },
     "metadata": {
      "needs_background": "light"
     },
     "output_type": "display_data"
    }
   ],
   "source": [
    "# Data\n",
    "dx = 0.01\n",
    "\n",
    "data = []\n",
    "for x in np.arange(0,1,dx):\n",
    "    data.append(abs(x-0.5))\n",
    "data = np.array(data)\n",
    "\n",
    "# True derivative\n",
    "deriv_true = []\n",
    "for x in np.arange(0,1,dx):\n",
    "    if x < 0.5:\n",
    "        deriv_true.append(-1)\n",
    "    else:\n",
    "        deriv_true.append(1)\n",
    "deriv_true = np.array(deriv_true)\n",
    "\n",
    "# Add noise\n",
    "n = len(data)\n",
    "data_noisy = data + np.random.normal(0,0.05,n)\n",
    "\n",
    "# Plot true and noisy signal\n",
    "fig1 = plt.figure()\n",
    "plt.plot(data)\n",
    "plt.plot(data_noisy)\n",
    "plt.title(\"Signal\")\n",
    "plt.legend([\"True\",\"Noisy\"])\n",
    "\n",
    "diff_tvr = DiffTVR(dx, n+1)\n",
    "deriv, data_tv = diff_tvr(data=data_noisy - data_noisy[0], initial_guess=np.zeros(n+1), \n",
    "                          alpha=0.2, steps=100)\n",
    "data_tv += data_noisy[0]"
   ]
  },
  {
   "cell_type": "code",
   "execution_count": 9,
   "id": "ec5beb56",
   "metadata": {},
   "outputs": [
    {
     "data": {
      "text/plain": [
       "<matplotlib.legend.Legend at 0x7fc0aa3c8550>"
      ]
     },
     "execution_count": 9,
     "metadata": {},
     "output_type": "execute_result"
    },
    {
     "data": {
      "image/png": "[encoded data removed]",
      "text/plain": [
       "<Figure size 432x288 with 1 Axes>"
      ]
     },
     "metadata": {
      "needs_background": "light"
     },
     "output_type": "display_data"
    }
   ],
   "source": [
    "# Plot TVR derivative\n",
    "fig2 = plt.figure()\n",
    "plt.plot(deriv_true)\n",
    "plt.plot(deriv)\n",
    "plt.title(\"Derivative\")\n",
    "plt.legend([\"True\",\"TVR\"])"
   ]
  },
  {
   "cell_type": "code",
   "execution_count": 10,
   "id": "82384bfb",
   "metadata": {},
   "outputs": [
    {
     "data": {
      "text/plain": [
       "<matplotlib.legend.Legend at 0x7fc0aa4182b0>"
      ]
     },
     "execution_count": 10,
     "metadata": {},
     "output_type": "execute_result"
    },
    {
     "data": {
      "image/png": "[encoded data removed]",
      "text/plain": [
       "<Figure size 432x288 with 1 Axes>"
      ]
     },
     "metadata": {
      "needs_background": "light"
     },
     "output_type": "display_data"
    }
   ],
   "source": [
    "# Derivative with TVR\n",
    "diff_tvr1 = DiffTVR1(n,dx)\n",
    "(deriv,_) = diff_tvr1.get_deriv_tvr(\n",
    "    data=data_noisy, \n",
    "    deriv_guess=np.full(n+1,0.0), \n",
    "    alpha=0.2,\n",
    "    no_opt_steps=100\n",
    "    )\n",
    "\n",
    "# Plot TVR derivative\n",
    "fig2 = plt.figure()\n",
    "plt.plot(deriv_true)\n",
    "plt.plot(deriv)\n",
    "plt.title(\"Derivative\")\n",
    "plt.legend([\"True\",\"TVR\"])"
   ]
  },
  {
   "cell_type": "markdown",
   "id": "f26838a4",
   "metadata": {},
   "source": [
    "Compare dense vs log DiffTVR codes"
   ]
  },
  {
   "cell_type": "code",
   "execution_count": 11,
   "id": "fa69c660",
   "metadata": {},
   "outputs": [
    {
     "name": "stdout",
     "output_type": "stream",
     "text": [
      "[[0. 0. 0. ... 0. 0. 0.]\n",
      " [0. 0. 0. ... 0. 0. 0.]\n",
      " [0. 0. 0. ... 0. 0. 0.]\n",
      " ...\n",
      " [0. 0. 0. ... 0. 0. 0.]\n",
      " [0. 0. 0. ... 0. 0. 0.]\n",
      " [0. 0. 0. ... 0. 0. 0.]]\n",
      "[[0. 0. 0. ... 0. 0. 0.]\n",
      " [0. 0. 0. ... 0. 0. 0.]\n",
      " [0. 0. 0. ... 0. 0. 0.]\n",
      " ...\n",
      " [0. 0. 0. ... 0. 0. 0.]\n",
      " [0. 0. 0. ... 0. 0. 0.]\n",
      " [0. 0. 0. ... 0. 0. 0.]]\n",
      "[[0. 0. 0. ... 0. 0. 0.]\n",
      " [0. 0. 0. ... 0. 0. 0.]\n",
      " [0. 0. 0. ... 0. 0. 0.]\n",
      " ...\n",
      " [0. 0. 0. ... 0. 0. 0.]\n",
      " [0. 0. 0. ... 0. 0. 0.]\n",
      " [0. 0. 0. ... 0. 0. 0.]]\n"
     ]
    }
   ],
   "source": [
    "diff_tvr1 = DiffTVR1(n,dx)\n",
    "\n",
    "print(diff_tvr.Dop.todense() - diff_tvr1.d_mat)\n",
    "print(diff_tvr.CIop.todense() - diff_tvr1.a_mat)\n",
    "print(diff_tvr.CIop.H.todense() - diff_tvr1.a_mat_t)"
   ]
  },
  {
   "cell_type": "code",
   "execution_count": 12,
   "id": "28c9ffd8",
   "metadata": {},
   "outputs": [
    {
     "data": {
      "text/plain": [
       "array([ 5.55111512e-17, -3.46944695e-18,  1.38777878e-17,  0.00000000e+00,\n",
       "        0.00000000e+00,  0.00000000e+00, -8.67361738e-19, -1.73472348e-18,\n",
       "        0.00000000e+00,  0.00000000e+00,  0.00000000e+00,  0.00000000e+00,\n",
       "        0.00000000e+00, -3.46944695e-18,  0.00000000e+00, -3.46944695e-18,\n",
       "        0.00000000e+00,  0.00000000e+00,  0.00000000e+00,  1.73472348e-18,\n",
       "        0.00000000e+00,  0.00000000e+00,  8.67361738e-19,  3.46944695e-18,\n",
       "        0.00000000e+00,  0.00000000e+00,  0.00000000e+00,  0.00000000e+00,\n",
       "        1.73472348e-18,  0.00000000e+00,  0.00000000e+00,  0.00000000e+00,\n",
       "        0.00000000e+00,  0.00000000e+00,  0.00000000e+00, -4.16333634e-17,\n",
       "        0.00000000e+00,  0.00000000e+00,  3.46944695e-18,  0.00000000e+00,\n",
       "       -3.46944695e-18, -1.73472348e-18,  0.00000000e+00,  0.00000000e+00,\n",
       "        0.00000000e+00,  0.00000000e+00,  0.00000000e+00,  0.00000000e+00,\n",
       "        0.00000000e+00, -3.46944695e-18,  0.00000000e+00,  0.00000000e+00,\n",
       "       -1.73472348e-18, -1.73472348e-18,  0.00000000e+00,  0.00000000e+00,\n",
       "        0.00000000e+00,  0.00000000e+00,  0.00000000e+00,  3.46944695e-18,\n",
       "       -5.20417043e-18,  0.00000000e+00,  3.46944695e-18,  0.00000000e+00,\n",
       "       -1.73472348e-18, -5.20417043e-18,  0.00000000e+00,  6.93889390e-18,\n",
       "        0.00000000e+00,  0.00000000e+00, -1.38777878e-17, -6.93889390e-18,\n",
       "        0.00000000e+00,  0.00000000e+00, -6.93889390e-18,  3.46944695e-18,\n",
       "        0.00000000e+00,  0.00000000e+00,  0.00000000e+00, -8.67361738e-19,\n",
       "        6.93889390e-18,  0.00000000e+00,  0.00000000e+00,  0.00000000e+00,\n",
       "        0.00000000e+00,  0.00000000e+00,  0.00000000e+00,  0.00000000e+00,\n",
       "       -1.73472348e-18, -1.73472348e-18, -8.67361738e-19,  0.00000000e+00,\n",
       "        0.00000000e+00,  0.00000000e+00,  0.00000000e+00,  0.00000000e+00,\n",
       "       -3.46944695e-18,  0.00000000e+00,  0.00000000e+00,  0.00000000e+00])"
      ]
     },
     "execution_count": 12,
     "metadata": {},
     "output_type": "execute_result"
    }
   ],
   "source": [
    "# make_en_mat\n",
    "deriv_curr = np.random.normal(0, 1, n+1)    \n",
    "eps = pow(10,-6)\n",
    "        \n",
    "np.diag(diff_tvr1.make_en_mat(deriv_curr)) - (1. / np.sqrt((diff_tvr.Dop * deriv_curr) ** 2 + eps))"
   ]
  },
  {
   "cell_type": "code",
   "execution_count": 13,
   "id": "5656fad8",
   "metadata": {},
   "outputs": [
    {
     "data": {
      "text/plain": [
       "(1803.9667997623642, 1.6785575325120194e-13)"
      ]
     },
     "execution_count": 13,
     "metadata": {},
     "output_type": "execute_result"
    }
   ],
   "source": [
    "# make_ln_mat\n",
    "alpha = 0.1\n",
    "en_diag = np.random.normal(0.,1.,n)\n",
    "en_diag[0] = 0\n",
    "\n",
    "ln_op = dx * diff_tvr.Dop.H * pylops.Diagonal(en_diag) * diff_tvr.Dop\n",
    "ln_mat = diff_tvr1.make_ln_mat(np.diag(en_diag))\n",
    "\n",
    "np.linalg.norm(ln_op.todense()), np.linalg.norm(ln_op.todense() - ln_mat)"
   ]
  },
  {
   "cell_type": "code",
   "execution_count": 14,
   "id": "8ac8ffb9",
   "metadata": {},
   "outputs": [
    {
     "data": {
      "text/plain": [
       "(180.39717038349906, 1.5783838855172682e-14)"
      ]
     },
     "execution_count": 14,
     "metadata": {},
     "output_type": "execute_result"
    }
   ],
   "source": [
    "# make_hn_mat\n",
    "hnOp = diff_tvr.CIop.H * diff_tvr.CIop + alpha * ln_op\n",
    "np.linalg.norm(hnOp.todense()), np.linalg.norm(hnOp.todense() - diff_tvr1.make_hn_mat(alpha, ln_mat))"
   ]
  },
  {
   "cell_type": "code",
   "execution_count": 15,
   "id": "2fcb46a4",
   "metadata": {},
   "outputs": [
    {
     "data": {
      "text/plain": [
       "array([-3.12250226e-17,  8.88178420e-16, -8.88178420e-16,  0.00000000e+00,\n",
       "       -3.55271368e-15,  9.99200722e-16,  7.10542736e-15, -2.13162821e-14,\n",
       "       -2.48689958e-14, -2.22044605e-16,  1.66533454e-15,  2.66453526e-15,\n",
       "       -8.88178420e-16, -8.88178420e-16, -1.77635684e-15, -1.77635684e-15,\n",
       "        1.77635684e-15, -4.44089210e-16, -4.44089210e-16, -1.77635684e-15,\n",
       "        1.77635684e-15,  0.00000000e+00,  7.10542736e-15,  1.77635684e-15,\n",
       "        7.10542736e-15,  0.00000000e+00,  0.00000000e+00,  0.00000000e+00,\n",
       "       -1.77635684e-15, -1.77635684e-15, -7.10542736e-15,  5.32907052e-15,\n",
       "        7.10542736e-15,  3.10862447e-15,  0.00000000e+00, -5.55111512e-16,\n",
       "        7.10542736e-15, -1.77635684e-15,  0.00000000e+00,  0.00000000e+00,\n",
       "        1.11022302e-15,  1.11022302e-15,  0.00000000e+00,  0.00000000e+00,\n",
       "        0.00000000e+00, -1.42108547e-14,  8.88178420e-16, -8.88178420e-16,\n",
       "        3.55271368e-15,  3.55271368e-15, -8.88178420e-16, -1.33226763e-15,\n",
       "        1.77635684e-15,  0.00000000e+00, -1.77635684e-15,  0.00000000e+00,\n",
       "        0.00000000e+00,  3.55271368e-15,  0.00000000e+00, -1.77635684e-15,\n",
       "        8.88178420e-16, -1.77635684e-15,  0.00000000e+00,  0.00000000e+00,\n",
       "        0.00000000e+00,  0.00000000e+00, -1.77635684e-15, -1.77635684e-15,\n",
       "        0.00000000e+00,  0.00000000e+00,  0.00000000e+00,  6.66133815e-16,\n",
       "       -8.88178420e-16,  3.55271368e-15,  0.00000000e+00, -2.22044605e-16,\n",
       "       -8.88178420e-16,  8.88178420e-16,  0.00000000e+00,  0.00000000e+00,\n",
       "        0.00000000e+00,  8.88178420e-16, -5.55111512e-16,  0.00000000e+00,\n",
       "        3.55271368e-15, -5.32907052e-15,  0.00000000e+00, -1.77635684e-15,\n",
       "        1.77635684e-15,  0.00000000e+00,  0.00000000e+00, -7.10542736e-15,\n",
       "        2.22044605e-16,  3.55271368e-15,  0.00000000e+00,  7.10542736e-15,\n",
       "       -1.77635684e-15,  0.00000000e+00,  0.00000000e+00,  0.00000000e+00,\n",
       "       -1.77635684e-15])"
      ]
     },
     "execution_count": 15,
     "metadata": {},
     "output_type": "execute_result"
    }
   ],
   "source": [
    "(hnOp * deriv_curr) - (diff_tvr1.make_hn_mat(alpha, ln_mat) @ deriv_curr)"
   ]
  },
  {
   "cell_type": "code",
   "execution_count": 16,
   "id": "c25978bd",
   "metadata": {},
   "outputs": [
    {
     "data": {
      "text/plain": [
       "array([ 0.00000000e+00,  8.88178420e-16,  0.00000000e+00,  0.00000000e+00,\n",
       "        0.00000000e+00,  2.44249065e-15,  3.55271368e-15, -7.10542736e-15,\n",
       "        3.55271368e-15, -6.66133815e-16,  1.11022302e-15,  1.77635684e-15,\n",
       "       -8.88178420e-16,  8.88178420e-16,  0.00000000e+00, -1.77635684e-15,\n",
       "        8.88178420e-16, -1.11022302e-16,  0.00000000e+00, -2.66453526e-15,\n",
       "        1.77635684e-15,  0.00000000e+00,  0.00000000e+00,  0.00000000e+00,\n",
       "        1.42108547e-14,  0.00000000e+00, -1.77635684e-15,  0.00000000e+00,\n",
       "       -3.55271368e-15, -8.88178420e-16, -3.55271368e-15,  3.55271368e-15,\n",
       "        7.10542736e-15,  4.44089210e-16,  1.77635684e-15, -7.77156117e-16,\n",
       "        1.77635684e-15, -1.77635684e-15, -8.88178420e-16, -8.88178420e-16,\n",
       "        9.99200722e-16,  6.66133815e-16, -8.88178420e-16,  7.10542736e-15,\n",
       "        0.00000000e+00,  0.00000000e+00,  1.77635684e-15, -8.88178420e-16,\n",
       "        0.00000000e+00,  3.55271368e-15,  0.00000000e+00, -4.44089210e-16,\n",
       "        8.88178420e-16,  4.44089210e-16, -1.77635684e-15,  0.00000000e+00,\n",
       "        0.00000000e+00,  4.44089210e-15,  8.88178420e-16, -1.77635684e-15,\n",
       "        8.88178420e-16,  0.00000000e+00,  2.66453526e-15, -8.88178420e-16,\n",
       "        0.00000000e+00, -3.55271368e-15, -3.55271368e-15,  1.77635684e-15,\n",
       "        1.42108547e-14,  7.10542736e-15,  0.00000000e+00,  4.44089210e-16,\n",
       "        0.00000000e+00,  3.55271368e-15,  0.00000000e+00, -2.22044605e-16,\n",
       "       -8.88178420e-16,  8.88178420e-16,  0.00000000e+00, -1.77635684e-15,\n",
       "       -8.88178420e-16,  8.88178420e-16, -4.44089210e-16,  7.10542736e-15,\n",
       "        0.00000000e+00, -2.66453526e-15,  0.00000000e+00,  0.00000000e+00,\n",
       "        1.77635684e-15,  0.00000000e+00,  0.00000000e+00,  0.00000000e+00,\n",
       "        6.66133815e-16,  3.55271368e-15,  0.00000000e+00,  7.10542736e-15,\n",
       "       -8.88178420e-16,  3.55271368e-15,  0.00000000e+00, -1.77635684e-15,\n",
       "       -8.88178420e-16])"
      ]
     },
     "execution_count": 16,
     "metadata": {},
     "output_type": "execute_result"
    }
   ],
   "source": [
    "# make_gn_vec\n",
    "(hnOp * deriv_curr - diff_tvr.CIop.T * (data-data[0]))- (diff_tvr1.make_gn_vec(deriv_curr, data, alpha, ln_mat))"
   ]
  }
 ],
 "metadata": {
  "kernelspec": {
   "display_name": "Python 3",
   "language": "python",
   "name": "python3"
  },
  "language_info": {
   "codemirror_mode": {
    "name": "ipython",
    "version": 3
   },
   "file_extension": ".py",
   "mimetype": "text/x-python",
   "name": "python",
   "nbconvert_exporter": "python",
   "pygments_lexer": "ipython3",
   "version": "3.8.5"
  },
  "toc": {
   "base_numbering": 1,
   "nav_menu": {},
   "number_sections": true,
   "sideBar": true,
   "skip_h1_title": false,
   "title_cell": "Table of Contents",
   "title_sidebar": "Contents",
   "toc_cell": false,
   "toc_position": {},
   "toc_section_display": true,
   "toc_window_display": false
  }
 },
 "nbformat": 4,
 "nbformat_minor": 5
}
