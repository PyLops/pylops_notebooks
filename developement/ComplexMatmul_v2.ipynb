{
  "nbformat": 4,
  "nbformat_minor": 0,
  "metadata": {
    "kernelspec": {
      "display_name": "Python 3",
      "language": "python",
      "name": "python3"
    },
    "language_info": {
      "codemirror_mode": {
        "name": "ipython",
        "version": 3
      },
      "file_extension": ".py",
      "mimetype": "text/x-python",
      "name": "python",
      "nbconvert_exporter": "python",
      "pygments_lexer": "ipython3",
      "version": "3.7.2"
    },
    "toc": {
      "base_numbering": 1,
      "nav_menu": {},
      "number_sections": true,
      "sideBar": true,
      "skip_h1_title": false,
      "title_cell": "Table of Contents",
      "title_sidebar": "Contents",
      "toc_cell": false,
      "toc_position": {},
      "toc_section_display": true,
      "toc_window_display": false
    },
    "colab": {
      "name": "ComplexMatmul_v2.ipynb",
      "provenance": [],
      "collapsed_sections": []
    }
  },
  "cells": [
    {
      "cell_type": "code",
      "metadata": {
        "colab": {
          "base_uri": "https://localhost:8080/"
        },
        "id": "R8HbbOKmPE8Q",
        "outputId": "9079c5d7-a99e-497e-8ef1-b6bb64f11e48"
      },
      "source": [
        "!pip install pylops"
      ],
      "execution_count": 1,
      "outputs": [
        {
          "output_type": "stream",
          "text": [
            "Requirement already satisfied: pylops in /usr/local/lib/python3.6/dist-packages (1.12.0)\n",
            "Requirement already satisfied: numpy>=1.15.0 in /usr/local/lib/python3.6/dist-packages (from pylops) (1.18.5)\n",
            "Requirement already satisfied: scipy>=1.4.0 in /usr/local/lib/python3.6/dist-packages (from pylops) (1.4.1)\n"
          ],
          "name": "stdout"
        }
      ]
    },
    {
      "cell_type": "markdown",
      "metadata": {
        "id": "YK4WjMclPAuK"
      },
      "source": [
        "## Complex MatMul problem, two ways"
      ]
    },
    {
      "cell_type": "markdown",
      "metadata": {
        "id": "C41bBh5RPAuK"
      },
      "source": [
        "Let's first define the forward problem\n",
        "\n",
        "$$\n",
        "y = Ax\n",
        "$$\n",
        "\n",
        "where x is real, A is complex and y is complex. With an abuse of notation we can write\n",
        "\n",
        "$$\n",
        "y_r + jy_i = A_r * x + j(A_i * x)\n",
        "$$\n",
        "\n",
        "We can now just solve the first problem\n",
        "\n",
        "$$\n",
        "x = A^{-1} y\n",
        "$$\n",
        "\n",
        "or divide it into two set of equations, one for real and one for complex (after all x is real so there is no 'cross-talk':\n",
        "\n",
        "$$\n",
        "A_1 = [A_r, A_i]^T \\quad y_1 = [y_r, y_i]^T \\quad \n",
        "$$\n",
        "\n",
        "and then write\n",
        "\n",
        "$$\n",
        "x = A_1^{-1} y_1\n",
        "$$\n",
        "\n",
        "This proves the two solutions are identical. We will also verify it numerically.\n",
        "\n",
        "Finally note that if we write the normal equations we have\n",
        "\n",
        "$$\n",
        "x = (A_r^TA_r + A_i^TA_i)^{-1} (A_r^Ty_r + A_i^Ty_i)\n",
        "$$"
      ]
    },
    {
      "cell_type": "code",
      "metadata": {
        "id": "TMYhwlhqPAuL"
      },
      "source": [
        "%load_ext autoreload\n",
        "%autoreload 2\n",
        "%matplotlib inline\n",
        "\n",
        "import warnings\n",
        "warnings.filterwarnings('ignore')\n",
        "\n",
        "import numpy as np\n",
        "import matplotlib.pyplot as plt\n",
        "import scipy as sp\n",
        "\n",
        "from scipy.sparse.linalg import LinearOperator as spLinearOperator\n",
        "from pylops.basicoperators import *\n",
        "from pylops.utils import dottest\n",
        "from pylops.optimization.solver import cgls\n",
        "\n",
        "from pylops import LinearOperator"
      ],
      "execution_count": 2,
      "outputs": []
    },
    {
      "cell_type": "code",
      "metadata": {
        "colab": {
          "base_uri": "https://localhost:8080/"
        },
        "id": "3gJI2IPsPAuM",
        "outputId": "29103d62-e29c-46bd-8594-571ef705e2a3"
      },
      "source": [
        "n = 100\n",
        "\n",
        "x = np.arange(n) + 1.\n",
        "\n",
        "# make A\n",
        "Ar = np.random.normal(0, 1, (n, n))\n",
        "Ai = np.random.normal(0, 1, (n, n))\n",
        "A = Ar + 1j * Ai\n",
        "\n",
        "Aop = MatrixMult(A)\n",
        "\n",
        "# make y first eq\n",
        "y = Aop @ x\n",
        "\n",
        "# make y second eq\n",
        "y_ = MatrixMult(Ar) @ x + 1j * MatrixMult(Ai) @ x\n",
        "\n",
        "np.allclose(y, y_)"
      ],
      "execution_count": 3,
      "outputs": [
        {
          "output_type": "execute_result",
          "data": {
            "text/plain": [
              "True"
            ]
          },
          "metadata": {
            "tags": []
          },
          "execution_count": 3
        }
      ]
    },
    {
      "cell_type": "code",
      "metadata": {
        "colab": {
          "base_uri": "https://localhost:8080/",
          "height": 524
        },
        "id": "GMIv07JPPAuP",
        "outputId": "d5cb311f-c384-48b3-aa58-64ca208c2e2d"
      },
      "source": [
        "# invert x third eq\n",
        "xinv = Aop.div(y)\n",
        "\n",
        "plt.figure()\n",
        "plt.plot(x, 'k')\n",
        "plt.plot(np.real(xinv), '--r')\n",
        "\n",
        "plt.figure()\n",
        "plt.plot(np.imag(xinv), '--r');"
      ],
      "execution_count": 4,
      "outputs": [
        {
          "output_type": "display_data",
          "data": {
            "image/png": "[encoded data removed]",
            "text/plain": [
              "<Figure size 432x288 with 1 Axes>"
            ]
          },
          "metadata": {
            "tags": [],
            "needs_background": "light"
          }
        },
        {
          "output_type": "display_data",
          "data": {
            "image/png": "[encoded data removed]",
            "text/plain": [
              "<Figure size 432x288 with 1 Axes>"
            ]
          },
          "metadata": {
            "tags": [],
            "needs_background": "light"
          }
        }
      ]
    },
    {
      "cell_type": "code",
      "metadata": {
        "colab": {
          "base_uri": "https://localhost:8080/",
          "height": 513
        },
        "id": "4Hv_QccWPAuR",
        "outputId": "f1babd5e-3e0e-401e-d959-f3583ff084e4"
      },
      "source": [
        "# invert x 4-5 eqs\n",
        "y1 = np.concatenate([np.real(y), np.imag(y)])\n",
        "A1op = VStack([MatrixMult(np.real(A)), MatrixMult(np.imag(A))])\n",
        "\n",
        "xinv1 = A1op.div(y1)\n",
        "\n",
        "plt.figure()\n",
        "plt.plot(x, 'k')\n",
        "plt.plot(np.real(xinv1), '--r')\n",
        "\n",
        "plt.figure()\n",
        "plt.plot(np.imag(xinv1), '--r');"
      ],
      "execution_count": 5,
      "outputs": [
        {
          "output_type": "display_data",
          "data": {
            "image/png": "[encoded data removed]",
            "text/plain": [
              "<Figure size 432x288 with 1 Axes>"
            ]
          },
          "metadata": {
            "tags": [],
            "needs_background": "light"
          }
        },
        {
          "output_type": "display_data",
          "data": {
            "image/png": "[encoded data removed]",
            "text/plain": [
              "<Figure size 432x288 with 1 Axes>"
            ]
          },
          "metadata": {
            "tags": [],
            "needs_background": "light"
          }
        }
      ]
    },
    {
      "cell_type": "markdown",
      "metadata": {
        "id": "YCw3Jcp2PAuR"
      },
      "source": [
        "So far so good, even when using PyLops.. but we have cheated as we have a dense matrix and can take its real and imag parts and write eq 4-5.\n",
        "\n",
        "But what about if we dont know the entries of the matrix/operator... we only know that it takes a real number and produces a complex (whilst its adjoint takes a complex and produces a real.\n",
        "\n",
        "First we do something similar to eq3 and use the fact we can manipulate the adjoint to make it real."
      ]
    },
    {
      "cell_type": "code",
      "metadata": {
        "id": "2KK5H16ePAuR"
      },
      "source": [
        "class MatMult_cmpx(LinearOperator):\n",
        "    def __init__(self, A, dtype='float64'):\n",
        "        self.A = A\n",
        "        self.shape = A.shape\n",
        "        self.dtype = np.dtype(dtype)\n",
        "        self.explicit = False\n",
        "\n",
        "    def _matvec(self, x):\n",
        "        y = A @ x\n",
        "        return y\n",
        "\n",
        "    def _rmatvec(self, x):\n",
        "        y = np.real(np.conj(A.T) @ x)\n",
        "        return y"
      ],
      "execution_count": 6,
      "outputs": []
    },
    {
      "cell_type": "code",
      "metadata": {
        "colab": {
          "base_uri": "https://localhost:8080/"
        },
        "id": "nXbmR3ixPAuS",
        "outputId": "cd81e23b-fcce-46cf-ec1f-12e684cc40dd"
      },
      "source": [
        "Aop = MatMult_cmpx(A)\n",
        "for complexflag in range(4):\n",
        "  if complexflag == 0:\n",
        "    print(\"Both model and data are real    :\", end=' ')\n",
        "  elif complexflag == 1:\n",
        "    print(\"Only data is real               :\", end=' ')\n",
        "  elif complexflag == 2:\n",
        "    print(\"Only model is real              :\", end=' ')\n",
        "  elif complexflag == 3:\n",
        "    print(\"Neither data nor model are real :\", end=' ')\n",
        "  try:\n",
        "    dottest(Aop, n, n, complexflag=complexflag)\n",
        "    print(\"pass\")\n",
        "  except ValueError:\n",
        "    print(\"fail\")"
      ],
      "execution_count": 7,
      "outputs": [
        {
          "output_type": "stream",
          "text": [
            "Both model and data are real    : fail\n",
            "Only data is real               : fail\n",
            "Only model is real              : pass\n",
            "Neither data nor model are real : fail\n"
          ],
          "name": "stdout"
        }
      ]
    },
    {
      "cell_type": "code",
      "metadata": {
        "colab": {
          "base_uri": "https://localhost:8080/",
          "height": 348
        },
        "id": "9o6-WZbuPAuS",
        "outputId": "6259a086-e66c-4edc-a5eb-2066f7bfc31b"
      },
      "source": [
        "# invert x third eq (with guaranteed 0 imag component)\n",
        "xinv = Aop.div(y)\n",
        "\n",
        "plt.figure()\n",
        "plt.plot(x, 'k')\n",
        "plt.plot(np.real(xinv), '--r')\n",
        "\n",
        "print(np.imag(xinv))"
      ],
      "execution_count": 8,
      "outputs": [
        {
          "output_type": "stream",
          "text": [
            "[0. 0. 0. 0. 0. 0. 0. 0. 0. 0. 0. 0. 0. 0. 0. 0. 0. 0. 0. 0. 0. 0. 0. 0.\n",
            " 0. 0. 0. 0. 0. 0. 0. 0. 0. 0. 0. 0. 0. 0. 0. 0. 0. 0. 0. 0. 0. 0. 0. 0.\n",
            " 0. 0. 0. 0. 0. 0. 0. 0. 0. 0. 0. 0. 0. 0. 0. 0. 0. 0. 0. 0. 0. 0. 0. 0.\n",
            " 0. 0. 0. 0. 0. 0. 0. 0. 0. 0. 0. 0. 0. 0. 0. 0. 0. 0. 0. 0. 0. 0. 0. 0.\n",
            " 0. 0. 0. 0.]\n"
          ],
          "name": "stdout"
        },
        {
          "output_type": "display_data",
          "data": {
            "image/png": "[encoded data removed]",
            "text/plain": [
              "<Figure size 432x288 with 1 Axes>"
            ]
          },
          "metadata": {
            "tags": [],
            "needs_background": "light"
          }
        }
      ]
    },
    {
      "cell_type": "markdown",
      "metadata": {
        "id": "4lUkwVkqPAuT"
      },
      "source": [
        "Next we try to work with real and imag parts separately as in eq4 and eq5"
      ]
    },
    {
      "cell_type": "code",
      "metadata": {
        "id": "tc4B8nwAPAuT"
      },
      "source": [
        "class MatMult_cmpx(LinearOperator):\n",
        "    def __init__(self, A, real=True, dtype='float64'):\n",
        "        self.A = A\n",
        "        self.shape = A.shape\n",
        "        self.dtype = np.dtype(dtype)\n",
        "        self.explicit = False\n",
        "        \n",
        "        self.real = real\n",
        "        self.xprev = None\n",
        "        self.yprev = None\n",
        "            \n",
        "        self.neval = 0 # number of evaluations of the operator\n",
        "        \n",
        "    def _matvec(self, x):\n",
        "        y = A @ x # forward (can be any!)\n",
        "        self.neval += 1\n",
        "        if self.real:\n",
        "            y = np.real(A @ x)\n",
        "        else:\n",
        "            y = np.imag(A @ x)\n",
        "        return y\n",
        "\n",
        "    def _rmatvec(self, y):\n",
        "        x = np.conj(A.T) @ y # adjoint (can be any!)\n",
        "        self.neval += 1\n",
        "        if self.real:\n",
        "            x = np.real(x)\n",
        "        else:\n",
        "            # - is require because we want the result of the imag component of A and y, \n",
        "            # but since we conjugated\n",
        "            x = -np.imag(x) \n",
        "        return x"
      ],
      "execution_count": 9,
      "outputs": []
    },
    {
      "cell_type": "code",
      "metadata": {
        "colab": {
          "base_uri": "https://localhost:8080/"
        },
        "id": "zCVjsYh1PAuT",
        "outputId": "58c79905-eaec-4654-b239-89af3920e3cf"
      },
      "source": [
        "Arop = MatMult_cmpx(A, real=True)\n",
        "Aiop = MatMult_cmpx(A, real=False)\n",
        "\n",
        "dottest(Arop, n, n, complexflag=0, verb=True)\n",
        "dottest(Aiop, n, n, complexflag=0, verb=True)"
      ],
      "execution_count": 10,
      "outputs": [
        {
          "output_type": "stream",
          "text": [
            "Dot test passed, v^T(Opu)=-125.854604 - u^T(Op^Tv)=-125.854604\n",
            "Dot test passed, v^T(Opu)=-19.359276 - u^T(Op^Tv)=-19.359276\n"
          ],
          "name": "stdout"
        },
        {
          "output_type": "execute_result",
          "data": {
            "text/plain": [
              "True"
            ]
          },
          "metadata": {
            "tags": []
          },
          "execution_count": 10
        }
      ]
    },
    {
      "cell_type": "code",
      "metadata": {
        "colab": {
          "base_uri": "https://localhost:8080/",
          "height": 529
        },
        "id": "9Yo7IrbEPAuT",
        "outputId": "d69f70e5-c959-4621-97b5-2e97f20d3368"
      },
      "source": [
        "# invert x 4-5 eqs\n",
        "y1 = np.concatenate([np.real(y), np.imag(y)])\n",
        "\n",
        "Arop = MatMult_cmpx(A, real=True)\n",
        "Aiop = MatMult_cmpx(A, real=False)\n",
        "A1op = VStack([Arop, Aiop])\n",
        "\n",
        "xinv1 = cgls(A1op, y1, np.zeros(n), niter=20)[0]\n",
        "\n",
        "plt.figure()\n",
        "plt.plot(x, 'k')\n",
        "plt.plot(np.real(xinv1), '--r')\n",
        "\n",
        "plt.figure()\n",
        "plt.plot(np.imag(xinv1), '--r')\n",
        "\n",
        "print(Arop.neval, Aiop.neval, Arop.neval + Aiop.neval)"
      ],
      "execution_count": 11,
      "outputs": [
        {
          "output_type": "stream",
          "text": [
            "43 43 86\n"
          ],
          "name": "stdout"
        },
        {
          "output_type": "display_data",
          "data": {
            "image/png": "[encoded data removed]",
            "text/plain": [
              "<Figure size 432x288 with 1 Axes>"
            ]
          },
          "metadata": {
            "tags": [],
            "needs_background": "light"
          }
        },
        {
          "output_type": "display_data",
          "data": {
            "image/png": "[encoded data removed]",
            "text/plain": [
              "<Figure size 432x288 with 1 Axes>"
            ]
          },
          "metadata": {
            "tags": [],
            "needs_background": "light"
          }
        }
      ]
    },
    {
      "cell_type": "markdown",
      "metadata": {
        "id": "CnuT0C5nPAuU"
      },
      "source": [
        "This is inefficient, at every iteration we need to perform 2 forwards and 2 adoints (one for the real and one for the imag part).\n",
        "\n",
        "We need something to tell the operator that the operation has been already performed, to simply compute the real or imag part..."
      ]
    },
    {
      "cell_type": "code",
      "metadata": {
        "id": "Bg0tG247PAuU"
      },
      "source": [
        "class _RealImagLinearOperator(LinearOperator):\n",
        "    \"\"\"Real-Imag linear operator\n",
        "    \"\"\"\n",
        "    def __init__(self, Op, real=True):\n",
        "        if not isinstance(Op, spLinearOperator):\n",
        "            raise TypeError('Op must be a LinearOperator')\n",
        "        super(_RealImagLinearOperator, self).__init__(Op, Op.shape)\n",
        "        self.Op = Op\n",
        "        self.real = real\n",
        "        \n",
        "    def _matvec(self, x):\n",
        "        y = self.Op._matvec(x)\n",
        "        if self.real:\n",
        "            y = np.real(y)\n",
        "        else:\n",
        "            y = np.imag(y)\n",
        "        return y\n",
        "        \n",
        "    def _rmatvec(self, y):\n",
        "        x = self.Op._rmatvec(y)\n",
        "        if self.real:\n",
        "            x = np.real(x)\n",
        "        else:\n",
        "            x = -np.imag(x)\n",
        "        return x"
      ],
      "execution_count": 12,
      "outputs": []
    },
    {
      "cell_type": "code",
      "metadata": {
        "id": "Tl_Zaf7xPAuU"
      },
      "source": [
        "class LinearOperator1(LinearOperator):\n",
        "    def real(self):\n",
        "        realimagop = _RealImagLinearOperator(self)\n",
        "        return realimagop\n",
        "    def imag(self):\n",
        "        realimagop = _RealImagLinearOperator(self, False)\n",
        "        return realimagop"
      ],
      "execution_count": 13,
      "outputs": []
    },
    {
      "cell_type": "code",
      "metadata": {
        "id": "iPVkWnchPAuU"
      },
      "source": [
        "class MatMult_memoize(LinearOperator1):\n",
        "    def __init__(self, A, real=True, dtype='float64'):\n",
        "        self.A = A\n",
        "        self.shape = A.shape\n",
        "        self.dtype = np.dtype(dtype)\n",
        "        self.explicit = False\n",
        "        \n",
        "        self.xprev = np.zeros(self.shape[0], dtype=self.dtype)\n",
        "        self.yprev = np.zeros(self.shape[1], dtype=self.dtype)\n",
        "        self.neval = 0 # number of evaluations of the operator\n",
        "        \n",
        "    def _matvec(self, x):\n",
        "        if np.allclose(self.xprev, x):\n",
        "            y = self.yprev\n",
        "        else:    \n",
        "            y = A @ x # forward\n",
        "            self.neval += 1\n",
        "        self.xprev = x.copy()\n",
        "        self.yprev = y.copy()\n",
        "        return y\n",
        "\n",
        "    def _rmatvec(self, y):\n",
        "        if np.allclose(self.yprev, y):\n",
        "            x = self.xprev\n",
        "        else: \n",
        "            x = np.conj(A.T) @ y # adjoint\n",
        "            self.neval += 1\n",
        "        self.xprev = x.copy()\n",
        "        self.yprev = y.copy()\n",
        "        return x"
      ],
      "execution_count": 14,
      "outputs": []
    },
    {
      "cell_type": "code",
      "metadata": {
        "colab": {
          "base_uri": "https://localhost:8080/"
        },
        "id": "fVQ7i8AvPAuU",
        "outputId": "44eadcb9-feb2-4cc6-d1b8-adcfc43938d5"
      },
      "source": [
        "Amop = MatMult_memoize(A)\n",
        "Arop = Amop.real()\n",
        "Aiop = Amop.imag()\n",
        "\n",
        "dottest(Arop, n, n, complexflag=0, verb=True)\n",
        "dottest(Aiop, n, n, complexflag=0, verb=True)"
      ],
      "execution_count": 15,
      "outputs": [
        {
          "output_type": "stream",
          "text": [
            "Dot test passed, v^T(Opu)=30.043909 - u^T(Op^Tv)=30.043909\n",
            "Dot test passed, v^T(Opu)=-70.009124 - u^T(Op^Tv)=-70.009124\n"
          ],
          "name": "stdout"
        },
        {
          "output_type": "execute_result",
          "data": {
            "text/plain": [
              "True"
            ]
          },
          "metadata": {
            "tags": []
          },
          "execution_count": 15
        }
      ]
    },
    {
      "cell_type": "code",
      "metadata": {
        "colab": {
          "base_uri": "https://localhost:8080/"
        },
        "id": "17F8Dg74PAuU",
        "outputId": "340afcb6-f046-4d04-f392-ed934bc313a6"
      },
      "source": [
        "# Let's check our counter works\n",
        "Amop = MatMult_memoize(A)\n",
        "\n",
        "Amop * np.ones(n) # 1st\n",
        "print(Amop.neval)\n",
        "Amop * np.ones(n) # same\n",
        "print(Amop.neval)\n",
        "Amop * np.zeros(n) # new\n",
        "print(Amop.neval)\n",
        "\n",
        "Amop.H * np.ones(n) # 1st\n",
        "print(Amop.neval)\n",
        "Amop.H * np.ones(n) # new\n",
        "print(Amop.neval)\n",
        "Amop.H * np.zeros(n) # new\n",
        "print(Amop.neval)"
      ],
      "execution_count": 16,
      "outputs": [
        {
          "output_type": "stream",
          "text": [
            "1\n",
            "1\n",
            "2\n",
            "3\n",
            "3\n",
            "4\n"
          ],
          "name": "stdout"
        }
      ]
    },
    {
      "cell_type": "code",
      "metadata": {
        "colab": {
          "base_uri": "https://localhost:8080/"
        },
        "id": "8CR7KtWrPAuV",
        "outputId": "25050f3e-49db-4490-bad5-b401e94de4a8"
      },
      "source": [
        "Amop = MatMult_memoize(A)\n",
        "Arop = Amop.real()\n",
        "Aiop = Amop.imag()\n",
        "\n",
        "A1op = VStack([Arop, Aiop])\n",
        "\n",
        "A1op * np.ones(n) # 1st\n",
        "print(Amop.neval)\n",
        "A1op * np.ones(n) # same\n",
        "print(Amop.neval)\n",
        "A1op * np.ones(n) # new\n",
        "print(Amop.neval)\n",
        "\n",
        "A1op.H * np.ones(2*n) # 1st\n",
        "print(Amop.neval)\n",
        "A1op.H * np.ones(2*n) # same\n",
        "print(Amop.neval)\n",
        "A1op.H * np.ones(2*n) # new\n",
        "print(Amop.neval)"
      ],
      "execution_count": 17,
      "outputs": [
        {
          "output_type": "stream",
          "text": [
            "1\n",
            "1\n",
            "1\n",
            "2\n",
            "2\n",
            "2\n"
          ],
          "name": "stdout"
        }
      ]
    },
    {
      "cell_type": "code",
      "metadata": {
        "colab": {
          "base_uri": "https://localhost:8080/",
          "height": 529
        },
        "id": "VPR6SxFzPAuV",
        "outputId": "20869b64-fc42-4dae-ab56-3ce7b6f0d8e6"
      },
      "source": [
        "Amop = MatMult_memoize(A)\n",
        "Arop = Amop.real()\n",
        "Aiop = Amop.imag()\n",
        "\n",
        "A1op = VStack([Arop, Aiop])\n",
        "y1 = np.concatenate([np.real(y), np.imag(y)])\n",
        "xinv1 = cgls(A1op, y1, np.zeros(n), niter=20)[0]\n",
        "\n",
        "plt.figure()\n",
        "plt.plot(x, 'k')\n",
        "plt.plot(np.real(xinv1), '--r')\n",
        "\n",
        "plt.figure()\n",
        "plt.plot(np.imag(xinv1), '--r')\n",
        "\n",
        "print(Amop.neval)"
      ],
      "execution_count": 18,
      "outputs": [
        {
          "output_type": "stream",
          "text": [
            "63\n"
          ],
          "name": "stdout"
        },
        {
          "output_type": "display_data",
          "data": {
            "image/png": "[encoded data removed]",
            "text/plain": [
              "<Figure size 432x288 with 1 Axes>"
            ]
          },
          "metadata": {
            "tags": [],
            "needs_background": "light"
          }
        },
        {
          "output_type": "display_data",
          "data": {
            "image/png": "[encoded data removed]",
            "text/plain": [
              "<Figure size 432x288 with 1 Axes>"
            ]
          },
          "metadata": {
            "tags": [],
            "needs_background": "light"
          }
        }
      ]
    },
    {
      "cell_type": "markdown",
      "metadata": {
        "id": "SIgcjzy3PAuV"
      },
      "source": [
        "Less than before, but I still think it should be less... one 41 (1 forw and 1 adj per iter plus one at start)"
      ]
    },
    {
      "cell_type": "code",
      "metadata": {
        "id": "FqZr4JyUUwor"
      },
      "source": [
        "class MemoizeOperator(LinearOperator):\n",
        "    def __init__(self, Op, max_neval=10):\n",
        "        self.Op = Op\n",
        "        self.shape = Op.shape\n",
        "        self.dtype = np.dtype(Op.dtype)\n",
        "        self.explicit = False\n",
        "\n",
        "        self.max_neval = max_neval # Maximum number of evaluations, use np.inf for infinite memory\n",
        "        self.store = [] # Store a list of Tuples (x, y)\n",
        "        self.neval = 0 # Number of evaluations of the operator\n",
        "        \n",
        "    def _matvec(self, x):\n",
        "        for xstored, ystored in self.store:\n",
        "            if np.allclose(xstored, x):\n",
        "                return ystored\n",
        "        y = A @ x\n",
        "        self.neval += 1\n",
        "        self.store.append((x.copy(), y.copy()))\n",
        "        if len(self.store) > self.max_neval:\n",
        "            del self.store[0] # Delete oldest\n",
        "        \n",
        "        return y\n",
        "\n",
        "    def _rmatvec(self, y):\n",
        "        for xstored, ystored in self.store:\n",
        "            if np.allclose(ystored, y):\n",
        "                return ystored\n",
        "        x = np.conj(self.Op.T) @ y\n",
        "        self.neval += 1\n",
        "        self.store.append((x.copy(), y.copy()))\n",
        "        if len(self.store) > self.max_neval:\n",
        "            del self.store[0] # Delete oldest\n",
        "\n",
        "        return x"
      ],
      "execution_count": 19,
      "outputs": []
    },
    {
      "cell_type": "code",
      "metadata": {
        "colab": {
          "base_uri": "https://localhost:8080/"
        },
        "id": "gfytEJ3hz4LV",
        "outputId": "5e99f306-84b4-4b68-a2c4-d4f5b4b76667"
      },
      "source": [
        "Amem = MemoizeOperator(A, max_neval=2)\n",
        "\n",
        "print(Amem.neval)\n",
        "Amem * np.ones(n) # 1st\n",
        "print(Amem.neval)\n",
        "Amem * np.ones(n) # same\n",
        "print(Amem.neval)\n",
        "Amem * np.ones(n) # same\n",
        "print(Amem.neval)\n",
        "Amem * (2*np.ones(n)) # new\n",
        "print(Amem.neval)\n",
        "Amem * (2*np.ones(n)) # same\n",
        "print(Amem.neval)\n",
        "Amem * (3*np.ones(n)) # new, bumped np.ones(n) from memory\n",
        "print(Amem.neval)\n",
        "Amem * np.ones(n) # new, bumped 2*np.ones(n) from memory\n",
        "print(Amem.neval)\n",
        "Amem * np.ones(n) # same\n",
        "print(Amem.neval)"
      ],
      "execution_count": 21,
      "outputs": [
        {
          "output_type": "stream",
          "text": [
            "0\n",
            "1\n",
            "1\n",
            "1\n",
            "2\n",
            "2\n",
            "3\n",
            "4\n",
            "4\n"
          ],
          "name": "stdout"
        }
      ]
    },
    {
      "cell_type": "code",
      "metadata": {
        "id": "oGOHAnKV2N_C"
      },
      "source": [
        ""
      ],
      "execution_count": 20,
      "outputs": []
    }
  ]
}
