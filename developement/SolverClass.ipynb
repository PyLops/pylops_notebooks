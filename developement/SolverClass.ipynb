{
 "cells": [
  {
   "cell_type": "markdown",
   "id": "f7120e12",
   "metadata": {},
   "source": [
    "# PyLops - Class-based solvers in v2\n",
    "\n",
    "This notebook provides a tour of the new class-based solvers in PyLops and how they can be invoked with different level of abstraction (more abstraction <-> less flexibility)"
   ]
  },
  {
   "cell_type": "code",
   "execution_count": 1,
   "id": "ae6ca8ec",
   "metadata": {},
   "outputs": [],
   "source": [
    "%load_ext autoreload\n",
    "%autoreload 2\n",
    "\n",
    "#import warnings\n",
    "#warnings.filterwarnings('ignore')\n",
    "\n",
    "import numpy as np\n",
    "import matplotlib.pyplot as plt\n",
    "import scipy as sp\n",
    "\n",
    "import pylops\n",
    "from scipy.sparse.linalg import cg as sp_cg\n",
    "from pylops.basicoperators import Identity\n",
    "from pylops.optimization.callback import ResidualNormCallback\n",
    "from pylops.optimization.cls_basic import CG, CGLS, LSQR\n",
    "from pylops.optimization.cls_leastsquares import NormalEquationsInversion, RegularizedInversion, PreconditionedInversion\n",
    "from pylops.optimization.cls_sparsity import IRLS, OMP, ISTA, FISTA, SPGL1, SplitBregman\n",
    "from pylops.optimization.basic import cg, cgls, lsqr\n",
    "from pylops.optimization.leastsquares import normal_equations_inversion, regularized_inversion, preconditioned_inversion\n",
    "from pylops.optimization.sparsity import irls, omp, ista, fista, spgl1, splitbregman\n",
    "\n",
    "from solver_old import cg as cg_old\n",
    "from solver_old import cgls as cgls_old\n",
    "from solver_old import lsqr as lsqr_old\n",
    "from leastsquares_old import NormalEquationsInversion as normal_equations_inversion_old\n",
    "from leastsquares_old import RegularizedInversion as regularized_inversion_old\n",
    "from leastsquares_old import PreconditionedInversion as preconditioned_inversion_old\n",
    "from sparsity_old import IRLS as irls_old\n",
    "from sparsity_old import OMP as omp_old\n",
    "from sparsity_old import ISTA as ista_old\n",
    "from sparsity_old import FISTA as fista_old\n",
    "from sparsity_old import SPGL1 as spgl1_old\n",
    "from sparsity_old import SplitBregman as splitbregman_old"
   ]
  },
  {
   "cell_type": "code",
   "execution_count": 2,
   "id": "88a6884f",
   "metadata": {},
   "outputs": [],
   "source": [
    "def callback(xx, xhist):\n",
    "    xhist.append(xx.copy())\n",
    "\n",
    "def callback1(xx, cols, xhist):\n",
    "    xhist.append(xx.copy())"
   ]
  },
  {
   "cell_type": "markdown",
   "id": "762ae6f3",
   "metadata": {},
   "source": [
    "## CG"
   ]
  },
  {
   "cell_type": "code",
   "execution_count": 3,
   "id": "cd2cf985",
   "metadata": {},
   "outputs": [],
   "source": [
    "np.random.seed(1)\n",
    "ny, nx = 100, 50\n",
    "x = np.ones(nx)\n",
    "A = np.random.normal(0, 1, (ny, nx))\n",
    "A = A.T @ A\n",
    "Aop = pylops.MatrixMult(A)\n",
    "y = A @ x"
   ]
  },
  {
   "cell_type": "markdown",
   "id": "53b0447a",
   "metadata": {},
   "source": [
    "### Step-by-step solver\n",
    "\n",
    "The most verbose of the options:\n",
    "\n",
    "- Create the solver object\n",
    "- Setup the solver with data, solver hyperparameters (and, optionally, the initial guess). This will return the initial guess to be passed to step\n",
    "- Step the solver Niter times passing x (at iter i-1) and obtaining x (at iter i)\n",
    "- Optionally interleave step with callback\n",
    "- Finalize solver"
   ]
  },
  {
   "cell_type": "code",
   "execution_count": 4,
   "id": "1237b897",
   "metadata": {},
   "outputs": [
    {
     "name": "stdout",
     "output_type": "stream",
     "text": [
      "CG\n",
      "-------------------------------------------------------\n",
      "The Operator Op has 50 rows and 50 cols\n",
      "tol = 0.000000e+00\n",
      "-------------------------------------------------------\n",
      "\n",
      "    Itn           x[0]              r2norm\n",
      "     1         6.2305e-03         3.2678e+02\n",
      "    11         1.0200e+00         2.6365e+00\n",
      "    21         9.9997e-01         2.2388e-02\n",
      "    31         1.0000e+00         8.4360e-05\n",
      "    41         1.0000e+00         8.2045e-08\n",
      "    51         1.0000e+00         7.1835e-12\n",
      "    61         1.0000e+00         1.8505e-22\n",
      "    71         1.0000e+00         6.6013e-27\n",
      "    81         1.0000e+00         1.6632e-30\n",
      "    91         1.0000e+00         8.9952e-34\n",
      "\n",
      "Iterations = 100        Total time (s) = 0.00\n",
      "-------------------------------------------------------\n",
      "\n"
     ]
    }
   ],
   "source": [
    "cgsolve = CG(Aop)\n",
    "\n",
    "xhist = []\n",
    "cgsolve.callback = lambda x: callback(x, xhist)\n",
    "\n",
    "x = cgsolve.setup(y=y, x0=np.zeros(nx), tol=0, show=True)\n",
    "for i in range(ny):\n",
    "    x = cgsolve.step(x, True if i % 10 == 0 else False)\n",
    "    cgsolve.callback(x)\n",
    "cgsolve.finalize(True)\n",
    "xest = x.copy()"
   ]
  },
  {
   "cell_type": "code",
   "execution_count": 5,
   "id": "fe409793",
   "metadata": {},
   "outputs": [
    {
     "data": {
      "text/plain": [
       "array([ 0.00623054, -0.08018339,  0.39960984,  0.62411442,  1.08859636,\n",
       "        0.38381985,  0.6964201 ,  1.04585291,  0.75853243,  0.68292631,\n",
       "        0.3161173 ,  0.27607787,  0.72731135,  0.52669676,  0.11739324,\n",
       "        0.14758833,  0.85023401,  0.80690362,  1.26129193,  0.48751973,\n",
       "        0.12586797,  0.88287304,  0.81393472,  0.81674471,  0.17009951,\n",
       "       -0.10212194,  1.09518642,  1.10737678,  0.00483318,  0.71825152,\n",
       "        0.41483263,  0.92885864,  0.72719834,  0.30835651,  0.00494972,\n",
       "        0.39449335, -0.01485279,  0.1739736 ,  0.97196505,  0.24290925,\n",
       "        0.98533785,  0.3677009 ,  0.6948482 ,  0.82346676,  1.19474566,\n",
       "        0.91422985,  0.67712503,  0.64024807,  0.68718705,  0.89545759])"
      ]
     },
     "execution_count": 5,
     "metadata": {},
     "output_type": "execute_result"
    }
   ],
   "source": [
    "xhist[0]"
   ]
  },
  {
   "cell_type": "code",
   "execution_count": 6,
   "id": "984b17be",
   "metadata": {},
   "outputs": [
    {
     "name": "stdout",
     "output_type": "stream",
     "text": [
      "CG\n",
      "-------------------------------------------------------\n",
      "The Operator Op has 50 rows and 50 cols\n",
      "tol = 0.000000e+00\n",
      "-------------------------------------------------------\n",
      "\n",
      "    Itn           x[0]              r2norm\n",
      "     1         6.2305e-03         3.2678e+02\n",
      "     2         5.4117e-01         1.4894e+02\n",
      "     3         8.2224e-01         7.2608e+01\n",
      "     4         9.1420e-01         4.7116e+01\n",
      "     5         1.0986e+00         2.8867e+01\n",
      "     6         1.0980e+00         1.7638e+01\n",
      "     7         1.0594e+00         1.1285e+01\n",
      "     8         1.0419e+00         7.3059e+00\n",
      "     9         1.0396e+00         5.4244e+00\n",
      "    10         1.0275e+00         3.8095e+00\n",
      "    11         1.0200e+00         2.6365e+00\n",
      "    21         9.9997e-01         2.2388e-02\n",
      "    31         1.0000e+00         8.4360e-05\n",
      "    41         1.0000e+00         8.2045e-08\n",
      "    51         1.0000e+00         7.1835e-12\n",
      "    61         1.0000e+00         1.8505e-22\n",
      "    71         1.0000e+00         6.6013e-27\n",
      "    81         1.0000e+00         1.6632e-30\n",
      "    91         1.0000e+00         8.9952e-34\n",
      "    92         1.0000e+00         2.2081e-34\n",
      "    93         1.0000e+00         9.0417e-35\n",
      "    94         1.0000e+00         3.2379e-35\n",
      "    95         1.0000e+00         1.7319e-35\n",
      "    96         1.0000e+00         7.5267e-36\n",
      "    97         1.0000e+00         2.7140e-36\n",
      "    98         1.0000e+00         1.8971e-36\n",
      "    99         1.0000e+00         8.1967e-37\n",
      "   100         1.0000e+00         3.0192e-37\n",
      "\n",
      "Iterations = 100        Total time (s) = 0.00\n",
      "-------------------------------------------------------\n",
      "\n"
     ]
    }
   ],
   "source": [
    "cgsolve = CG(Aop)\n",
    "\n",
    "xhist = []\n",
    "cgsolve.callback = lambda x: callback(x, xhist)\n",
    "\n",
    "x = cgsolve.setup(y=y, x0=np.zeros(nx), tol=0, show=True)\n",
    "x = cgsolve.run(x, ny, show=True)\n",
    "cgsolve.finalize(True)\n",
    "xest = x.copy()"
   ]
  },
  {
   "cell_type": "markdown",
   "id": "875ad00c",
   "metadata": {},
   "source": [
    "### Class based solver\n",
    "\n",
    "The second most verbose of the options:\n",
    "\n",
    "- Create the solver object\n",
    "- Run the solve method with data, initial model and solver hyperparameters"
   ]
  },
  {
   "cell_type": "code",
   "execution_count": 7,
   "id": "64de4c5f",
   "metadata": {},
   "outputs": [
    {
     "name": "stdout",
     "output_type": "stream",
     "text": [
      "CG\n",
      "-------------------------------------------------------\n",
      "The Operator Op has 50 rows and 50 cols\n",
      "tol = 0.000000e+00\tniter = 100\n",
      "-------------------------------------------------------\n",
      "\n",
      "    Itn           x[0]              r2norm\n",
      "     1         6.2305e-03         3.2678e+02\n",
      "     2         5.4117e-01         1.4894e+02\n",
      "     3         8.2224e-01         7.2608e+01\n",
      "     4         9.1420e-01         4.7116e+01\n",
      "    11         1.0200e+00         2.6365e+00\n",
      "    21         9.9997e-01         2.2388e-02\n",
      "    31         1.0000e+00         8.4360e-05\n",
      "    41         1.0000e+00         8.2045e-08\n",
      "    51         1.0000e+00         7.1835e-12\n",
      "    61         1.0000e+00         1.8505e-22\n",
      "    71         1.0000e+00         6.6013e-27\n",
      "    81         1.0000e+00         1.6632e-30\n",
      "    91         1.0000e+00         8.9952e-34\n",
      "    99         1.0000e+00         8.1967e-37\n",
      "   100         1.0000e+00         3.0192e-37\n",
      "\n",
      "Iterations = 100        Total time (s) = 0.00\n",
      "-------------------------------------------------------\n",
      "\n"
     ]
    }
   ],
   "source": [
    "# class based solver\n",
    "cgsolve = CG(Aop)\n",
    "xest1 = cgsolve.solve(y=y, x0=np.zeros(nx), tol=0, \n",
    "                      niter=ny, show=True, itershow=[4,3,10])[0]"
   ]
  },
  {
   "cell_type": "markdown",
   "id": "798c269b",
   "metadata": {},
   "source": [
    "### Function based solver\n",
    "\n",
    "The least verbose of the options (like in PyLops v1). Simply call the function equivalent of the solver that is a thin wrapper around what just did in the previous code block."
   ]
  },
  {
   "cell_type": "code",
   "execution_count": 8,
   "id": "b6f58a76",
   "metadata": {},
   "outputs": [
    {
     "name": "stdout",
     "output_type": "stream",
     "text": [
      "CG\n",
      "-------------------------------------------------------\n",
      "The Operator Op has 50 rows and 50 cols\n",
      "tol = 0.000000e+00\tniter = 100\n",
      "-------------------------------------------------------\n",
      "\n",
      "    Itn           x[0]              r2norm\n",
      "     1         6.2305e-03         3.2678e+02\n",
      "     2         5.4117e-01         1.4894e+02\n",
      "     3         8.2224e-01         7.2608e+01\n",
      "     4         9.1420e-01         4.7116e+01\n",
      "     5         1.0986e+00         2.8867e+01\n",
      "     6         1.0980e+00         1.7638e+01\n",
      "     7         1.0594e+00         1.1285e+01\n",
      "     8         1.0419e+00         7.3059e+00\n",
      "     9         1.0396e+00         5.4244e+00\n",
      "    10         1.0275e+00         3.8095e+00\n",
      "    11         1.0200e+00         2.6365e+00\n",
      "    21         9.9997e-01         2.2388e-02\n",
      "    31         1.0000e+00         8.4360e-05\n",
      "    41         1.0000e+00         8.2045e-08\n",
      "    51         1.0000e+00         7.1835e-12\n",
      "    61         1.0000e+00         1.8505e-22\n",
      "    71         1.0000e+00         6.6013e-27\n",
      "    81         1.0000e+00         1.6632e-30\n",
      "    91         1.0000e+00         8.9952e-34\n",
      "    92         1.0000e+00         2.2081e-34\n",
      "    93         1.0000e+00         9.0417e-35\n",
      "    94         1.0000e+00         3.2379e-35\n",
      "    95         1.0000e+00         1.7319e-35\n",
      "    96         1.0000e+00         7.5267e-36\n",
      "    97         1.0000e+00         2.7140e-36\n",
      "    98         1.0000e+00         1.8971e-36\n",
      "    99         1.0000e+00         8.1967e-37\n",
      "   100         1.0000e+00         3.0192e-37\n",
      "\n",
      "Iterations = 100        Total time (s) = 0.00\n",
      "-------------------------------------------------------\n",
      "\n",
      "CG\n",
      "-----------------------------------------------------------\n",
      "The Operator Op has 50 rows and 50 cols\n",
      "tol = 0.000000e+00\tniter = 100\n",
      "-----------------------------------------------------------\n",
      "    Itn           x[0]              r2norm\n",
      "     1         6.2305e-03         3.2678e+02\n",
      "     2         5.4117e-01         1.4894e+02\n",
      "     3         8.2224e-01         7.2608e+01\n",
      "     4         9.1420e-01         4.7116e+01\n",
      "     5         1.0986e+00         2.8867e+01\n",
      "     6         1.0980e+00         1.7638e+01\n",
      "     7         1.0594e+00         1.1285e+01\n",
      "     8         1.0419e+00         7.3059e+00\n",
      "     9         1.0396e+00         5.4244e+00\n",
      "    10         1.0275e+00         3.8095e+00\n",
      "    20         9.9980e-01         3.5949e-02\n",
      "    30         1.0000e+00         1.2406e-04\n",
      "    40         1.0000e+00         1.2409e-07\n",
      "    50         1.0000e+00         2.5738e-11\n",
      "    60         1.0000e+00         6.7263e-21\n",
      "    70         1.0000e+00         6.2903e-27\n",
      "    80         1.0000e+00         3.6527e-30\n",
      "    90         1.0000e+00         1.3511e-33\n",
      "    91         1.0000e+00         8.9952e-34\n",
      "    92         1.0000e+00         2.2081e-34\n",
      "    93         1.0000e+00         9.0417e-35\n",
      "    94         1.0000e+00         3.2379e-35\n",
      "    95         1.0000e+00         1.7319e-35\n",
      "    96         1.0000e+00         7.5267e-36\n",
      "    97         1.0000e+00         2.7140e-36\n",
      "    98         1.0000e+00         1.8971e-36\n",
      "    99         1.0000e+00         8.1967e-37\n",
      "   100         1.0000e+00         3.0192e-37\n",
      "\n",
      "Iterations = 100        Total time (s) = 0.00\n",
      "-----------------------------------------------------------------\n",
      "\n"
     ]
    }
   ],
   "source": [
    "xhist = []\n",
    "xest2 = cg(Aop, y, np.zeros(nx), niter=ny, tol=0, show=True, \n",
    "           callback=lambda x: callback(x, xhist))[0]\n",
    "xest3 = cg_old(Aop, y, np.zeros(nx), niter=ny, tol=0, show=True)[0]"
   ]
  },
  {
   "cell_type": "code",
   "execution_count": 9,
   "id": "4590244d",
   "metadata": {},
   "outputs": [
    {
     "data": {
      "text/plain": [
       "array([ 0.00623054, -0.08018339,  0.39960984,  0.62411442,  1.08859636,\n",
       "        0.38381985,  0.6964201 ,  1.04585291,  0.75853243,  0.68292631,\n",
       "        0.3161173 ,  0.27607787,  0.72731135,  0.52669676,  0.11739324,\n",
       "        0.14758833,  0.85023401,  0.80690362,  1.26129193,  0.48751973,\n",
       "        0.12586797,  0.88287304,  0.81393472,  0.81674471,  0.17009951,\n",
       "       -0.10212194,  1.09518642,  1.10737678,  0.00483318,  0.71825152,\n",
       "        0.41483263,  0.92885864,  0.72719834,  0.30835651,  0.00494972,\n",
       "        0.39449335, -0.01485279,  0.1739736 ,  0.97196505,  0.24290925,\n",
       "        0.98533785,  0.3677009 ,  0.6948482 ,  0.82346676,  1.19474566,\n",
       "        0.91422985,  0.67712503,  0.64024807,  0.68718705,  0.89545759])"
      ]
     },
     "execution_count": 9,
     "metadata": {},
     "output_type": "execute_result"
    }
   ],
   "source": [
    "xhist[0]"
   ]
  },
  {
   "cell_type": "code",
   "execution_count": 10,
   "id": "06114677",
   "metadata": {},
   "outputs": [
    {
     "data": {
      "image/png": "[encoded data removed]",
      "text/plain": [
       "<Figure size 800x600 with 1 Axes>"
      ]
     },
     "metadata": {},
     "output_type": "display_data"
    }
   ],
   "source": [
    "plt.plot(x)\n",
    "plt.plot(xest)\n",
    "plt.plot(xest1)\n",
    "plt.plot(xest2)\n",
    "plt.ylim(0, 2);"
   ]
  },
  {
   "cell_type": "code",
   "execution_count": 11,
   "id": "2c6c30e5",
   "metadata": {},
   "outputs": [
    {
     "data": {
      "text/plain": [
       "(array([0., 0., 0., 0., 0., 0., 0., 0., 0., 0., 0., 0., 0., 0., 0., 0., 0.,\n",
       "        0., 0., 0., 0., 0., 0., 0., 0., 0., 0., 0., 0., 0., 0., 0., 0., 0.,\n",
       "        0., 0., 0., 0., 0., 0., 0., 0., 0., 0., 0., 0., 0., 0., 0., 0.]),\n",
       " array([0., 0., 0., 0., 0., 0., 0., 0., 0., 0., 0., 0., 0., 0., 0., 0., 0.,\n",
       "        0., 0., 0., 0., 0., 0., 0., 0., 0., 0., 0., 0., 0., 0., 0., 0., 0.,\n",
       "        0., 0., 0., 0., 0., 0., 0., 0., 0., 0., 0., 0., 0., 0., 0., 0.]),\n",
       " array([0., 0., 0., 0., 0., 0., 0., 0., 0., 0., 0., 0., 0., 0., 0., 0., 0.,\n",
       "        0., 0., 0., 0., 0., 0., 0., 0., 0., 0., 0., 0., 0., 0., 0., 0., 0.,\n",
       "        0., 0., 0., 0., 0., 0., 0., 0., 0., 0., 0., 0., 0., 0., 0., 0.]))"
      ]
     },
     "execution_count": 11,
     "metadata": {},
     "output_type": "execute_result"
    }
   ],
   "source": [
    "xest-xest1, xest1-xest2, xest1-xest3"
   ]
  },
  {
   "cell_type": "markdown",
   "id": "67600b58",
   "metadata": {},
   "source": [
    "### Check with scipy"
   ]
  },
  {
   "cell_type": "code",
   "execution_count": 12,
   "id": "5a662044",
   "metadata": {},
   "outputs": [
    {
     "data": {
      "text/plain": [
       "array([0., 0., 0., 0., 0., 0., 0., 0., 0., 0., 0., 0., 0., 0., 0., 0., 0.,\n",
       "       0., 0., 0., 0., 0., 0., 0., 0., 0., 0., 0., 0., 0., 0., 0., 0., 0.,\n",
       "       0., 0., 0., 0., 0., 0., 0., 0., 0., 0., 0., 0., 0., 0., 0., 0.])"
      ]
     },
     "execution_count": 12,
     "metadata": {},
     "output_type": "execute_result"
    }
   ],
   "source": [
    "xsp = sp_cg(Aop, y, maxiter=ny, rtol=0)[0]\n",
    "\n",
    "xest-xsp"
   ]
  },
  {
   "cell_type": "markdown",
   "id": "611cc96d",
   "metadata": {},
   "source": [
    "## CG with complex numbers"
   ]
  },
  {
   "cell_type": "code",
   "execution_count": 13,
   "id": "04b866fe",
   "metadata": {},
   "outputs": [],
   "source": [
    "ny, nx = 100, 50\n",
    "x = np.ones(nx) + 1j*np.ones(nx)\n",
    "A = np.random.normal(0, 1, (ny, nx))\n",
    "A = A.T @ A\n",
    "Aop = pylops.MatrixMult(A)\n",
    "y = A @ x"
   ]
  },
  {
   "cell_type": "code",
   "execution_count": 14,
   "id": "e51ca158",
   "metadata": {},
   "outputs": [
    {
     "name": "stdout",
     "output_type": "stream",
     "text": [
      "CG\n",
      "-------------------------------------------------------\n",
      "The Operator Op has 50 rows and 50 cols\n",
      "tol = 0.000000e+00\tniter = 100\n",
      "-------------------------------------------------------\n",
      "\n",
      "    Itn              x[0]                  r2norm\n",
      "     1        5.17e-01+5.17e-01j         4.5201e+02\n",
      "     2        7.99e-01+7.99e-01j         1.9958e+02\n",
      "     3        9.80e-01+9.80e-01j         1.2913e+02\n",
      "     4        1.15e+00+1.15e+00j         7.1300e+01\n",
      "     5        1.20e+00+1.20e+00j         4.5552e+01\n",
      "     6        1.16e+00+1.16e+00j         3.2619e+01\n",
      "     7        1.08e+00+1.08e+00j         1.4674e+01\n",
      "     8        1.06e+00+1.06e+00j         1.1070e+01\n",
      "     9        1.02e+00+1.02e+00j         9.0341e+00\n",
      "    10        1.00e+00+1.00e+00j         4.8805e+00\n",
      "    11        9.98e-01+9.98e-01j         3.1756e+00\n",
      "    21        1.00e+00+1.00e+00j         3.6058e-02\n",
      "    31        1.00e+00+1.00e+00j         1.8360e-04\n",
      "    41        1.00e+00+1.00e+00j         7.3261e-07\n",
      "    51        1.00e+00+1.00e+00j         1.3689e-11\n",
      "    61        1.00e+00+1.00e+00j         1.4267e-21\n",
      "    71        1.00e+00+1.00e+00j         3.8690e-26\n",
      "    81        1.00e+00+1.00e+00j         4.4096e-29\n",
      "    91        1.00e+00+1.00e+00j         2.7217e-32\n",
      "    92        1.00e+00+1.00e+00j         1.1402e-32\n",
      "    93        1.00e+00+1.00e+00j         3.7144e-33\n",
      "    94        1.00e+00+1.00e+00j         1.6949e-33\n",
      "    95        1.00e+00+1.00e+00j         8.4693e-34\n",
      "    96        1.00e+00+1.00e+00j         3.7073e-34\n",
      "    97        1.00e+00+1.00e+00j         1.4457e-34\n",
      "    98        1.00e+00+1.00e+00j         6.2632e-35\n",
      "    99        1.00e+00+1.00e+00j         2.9630e-35\n",
      "   100        1.00e+00+1.00e+00j         9.9824e-36\n",
      "\n",
      "Iterations = 100        Total time (s) = 0.00\n",
      "-------------------------------------------------------\n",
      "\n",
      "CG\n",
      "-----------------------------------------------------------\n",
      "The Operator Op has 50 rows and 50 cols\n",
      "tol = 0.000000e+00\tniter = 100\n",
      "-----------------------------------------------------------\n",
      "    Itn           x[0]              r2norm\n",
      "     1    5.2e-01 + 5.2e-01j     4.5201e+02\n",
      "     2    8.0e-01 + 8.0e-01j     1.9958e+02\n",
      "     3    9.8e-01 + 9.8e-01j     1.2913e+02\n",
      "     4    1.1e+00 + 1.1e+00j     7.1300e+01\n",
      "     5    1.2e+00 + 1.2e+00j     4.5552e+01\n",
      "     6    1.2e+00 + 1.2e+00j     3.2619e+01\n",
      "     7    1.1e+00 + 1.1e+00j     1.4674e+01\n",
      "     8    1.1e+00 + 1.1e+00j     1.1070e+01\n",
      "     9    1.0e+00 + 1.0e+00j     9.0341e+00\n",
      "    10    1.0e+00 + 1.0e+00j     4.8805e+00\n",
      "    20    1.0e+00 + 1.0e+00j     6.3498e-02\n",
      "    30    1.0e+00 + 1.0e+00j     3.0231e-04\n",
      "    40    1.0e+00 + 1.0e+00j     1.9214e-06\n",
      "    50    1.0e+00 + 1.0e+00j     7.9041e-11\n",
      "    60    1.0e+00 + 1.0e+00j     2.7288e-21\n",
      "    70    1.0e+00 + 1.0e+00j     4.7557e-26\n",
      "    80    1.0e+00 + 1.0e+00j     5.5287e-29\n",
      "    90    1.0e+00 + 1.0e+00j     5.0808e-32\n",
      "    91    1.0e+00 + 1.0e+00j     2.7217e-32\n",
      "    92    1.0e+00 + 1.0e+00j     1.1402e-32\n",
      "    93    1.0e+00 + 1.0e+00j     3.7144e-33\n",
      "    94    1.0e+00 + 1.0e+00j     1.6949e-33\n",
      "    95    1.0e+00 + 1.0e+00j     8.4693e-34\n",
      "    96    1.0e+00 + 1.0e+00j     3.7073e-34\n",
      "    97    1.0e+00 + 1.0e+00j     1.4457e-34\n",
      "    98    1.0e+00 + 1.0e+00j     6.2632e-35\n",
      "    99    1.0e+00 + 1.0e+00j     2.9630e-35\n",
      "   100    1.0e+00 + 1.0e+00j     9.9824e-36\n",
      "\n",
      "Iterations = 100        Total time (s) = 0.00\n",
      "-----------------------------------------------------------------\n",
      "\n"
     ]
    }
   ],
   "source": [
    "# function based solver\n",
    "xest2 = cg(Aop, y, np.zeros(nx) + 1j*np.zeros(nx), niter=ny, tol=0, show=True)[0]#, callback=callback)[0]\n",
    "xest3 = cg_old(Aop, y, np.zeros(nx) + 1j*np.zeros(nx), niter=ny, tol=0, show=True)[0]"
   ]
  },
  {
   "cell_type": "markdown",
   "id": "ae2952b1",
   "metadata": {},
   "source": [
    "## CG with multiple RHS (just to remember it does not work right now!)"
   ]
  },
  {
   "cell_type": "code",
   "execution_count": 15,
   "id": "9d15f672",
   "metadata": {},
   "outputs": [],
   "source": [
    "# np.random.seed(1)\n",
    "ny, nx, nrhs = 100, 50, 4\n",
    "x = np.outer(np.ones(nx), np.arange(nrhs)+1)\n",
    "A = np.random.normal(0, 1, (ny, nx))\n",
    "A = A.T @ A\n",
    "Aop = pylops.MatrixMult(A)\n",
    "y = A @ x"
   ]
  },
  {
   "cell_type": "code",
   "execution_count": 16,
   "id": "7a24e2ca",
   "metadata": {},
   "outputs": [],
   "source": [
    "# We can make an operator acting on an extended vector and use add_ndarray_support_to_solver... \n",
    "# but this is still NOT solving multiple RHS, for that we need to FIX the solver...\n",
    "from pylops.utils.decorators import add_ndarray_support_to_solver\n",
    "\n",
    "Aop = pylops.MatrixMult(A, otherdims=(4,))\n",
    "py_cg_ndarray = add_ndarray_support_to_solver(cg)\n",
    "py_cg_ndarray(Aop, y, x0=np.zeros((nx, nrhs)), niter=4);"
   ]
  },
  {
   "cell_type": "markdown",
   "id": "dc815090",
   "metadata": {},
   "source": [
    "# CGLS"
   ]
  },
  {
   "cell_type": "code",
   "execution_count": 17,
   "id": "f4587305",
   "metadata": {},
   "outputs": [],
   "source": [
    "np.random.seed(1)\n",
    "ny, nx = 100, 50\n",
    "x = np.ones(nx)\n",
    "A = np.random.normal(0, 1, (ny, nx))\n",
    "Aop = pylops.MatrixMult(A)\n",
    "y = A @ x"
   ]
  },
  {
   "cell_type": "markdown",
   "id": "deb459e0",
   "metadata": {},
   "source": [
    "## Step-by-step solver"
   ]
  },
  {
   "cell_type": "code",
   "execution_count": 18,
   "id": "29eb4c10",
   "metadata": {},
   "outputs": [
    {
     "name": "stdout",
     "output_type": "stream",
     "text": [
      "CGLS\n",
      "-----------------------------------------------------------------\n",
      "The Operator Op has 100 rows and 50 cols\n",
      "damp = 0.000000e+00\ttol = 0.000000e+00\t\n",
      "-----------------------------------------------------------------\n",
      "\n",
      "    Itn          x[0]              r1norm         r2norm\n",
      "     1        6.2305e-03         3.1506e+01     3.1506e+01\n",
      "    11        1.0200e+00         3.8881e-01     3.8881e-01\n",
      "    21        9.9997e-01         3.2320e-03     3.2320e-03\n",
      "    31        1.0000e+00         1.2494e-05     1.2494e-05\n",
      "    41        1.0000e+00         1.2976e-08     1.2976e-08\n",
      "    51        1.0000e+00         9.6854e-13     9.6854e-13\n",
      "    61        1.0000e+00         1.0260e-14     1.0260e-14\n",
      "    71        1.0000e+00         1.0260e-14     1.0260e-14\n",
      "    81        1.0000e+00         1.0260e-14     1.0260e-14\n",
      "    91        1.0000e+00         1.0260e-14     1.0260e-14\n",
      "\n",
      "Iterations = 100        Total time (s) = 0.00\n",
      "-----------------------------------------------------------------\n",
      "\n"
     ]
    }
   ],
   "source": [
    "cgsolve = CGLS(Aop)\n",
    "\n",
    "xhist = []\n",
    "cgsolve.callback = lambda x: callback(x, xhist)\n",
    "\n",
    "x = cgsolve.setup(y=y, x0=np.zeros(nx), tol=0, show=True)\n",
    "cgsolve.niter = ny\n",
    "for i in range(ny):\n",
    "    x = cgsolve.step(x, True if i % 10 == 0 else False)\n",
    "    cgsolve.callback(x)\n",
    "cgsolve.finalize(True)\n",
    "xest = x.copy()"
   ]
  },
  {
   "cell_type": "markdown",
   "id": "dceab12d",
   "metadata": {},
   "source": [
    "## Class based solver"
   ]
  },
  {
   "cell_type": "code",
   "execution_count": 19,
   "id": "453d2d3e",
   "metadata": {},
   "outputs": [
    {
     "name": "stdout",
     "output_type": "stream",
     "text": [
      "CGLS\n",
      "-----------------------------------------------------------------\n",
      "The Operator Op has 100 rows and 50 cols\n",
      "damp = 0.000000e+00\ttol = 0.000000e+00\tniter = 100\n",
      "-----------------------------------------------------------------\n",
      "\n",
      "    Itn          x[0]              r1norm         r2norm\n",
      "     1        6.2305e-03         3.1506e+01     3.1506e+01\n",
      "     2        5.4117e-01         1.5690e+01     1.5690e+01\n",
      "     3        8.2224e-01         9.2479e+00     9.2479e+00\n",
      "     4        9.1420e-01         6.3248e+00     6.3248e+00\n",
      "    11        1.0200e+00         3.8881e-01     3.8881e-01\n",
      "    21        9.9997e-01         3.2320e-03     3.2320e-03\n",
      "    31        1.0000e+00         1.2494e-05     1.2494e-05\n",
      "    41        1.0000e+00         1.2976e-08     1.2976e-08\n",
      "    51        1.0000e+00         9.6854e-13     9.6854e-13\n",
      "    61        1.0000e+00         1.0260e-14     1.0260e-14\n",
      "    71        1.0000e+00         1.0260e-14     1.0260e-14\n",
      "    81        1.0000e+00         1.0260e-14     1.0260e-14\n",
      "    91        1.0000e+00         1.0260e-14     1.0260e-14\n",
      "    99        1.0000e+00         1.0260e-14     1.0260e-14\n",
      "   100        1.0000e+00         1.0260e-14     1.0260e-14\n",
      "\n",
      "Iterations = 100        Total time (s) = 0.00\n",
      "-----------------------------------------------------------------\n",
      "\n"
     ]
    }
   ],
   "source": [
    "# class based solver\n",
    "cgsolve = CGLS(Aop)\n",
    "xest1 = cgsolve.solve(y=y, x0=np.zeros(nx), tol=0, \n",
    "                      niter=ny, show=True, itershow=[4,3,10])[0]"
   ]
  },
  {
   "cell_type": "markdown",
   "id": "af82b037",
   "metadata": {},
   "source": [
    "## Function based solver"
   ]
  },
  {
   "cell_type": "code",
   "execution_count": 20,
   "id": "c8fad298",
   "metadata": {},
   "outputs": [
    {
     "name": "stdout",
     "output_type": "stream",
     "text": [
      "CGLS\n",
      "-----------------------------------------------------------------\n",
      "The Operator Op has 100 rows and 50 cols\n",
      "damp = 0.000000e+00\ttol = 0.000000e+00\tniter = 100\n",
      "-----------------------------------------------------------------\n",
      "\n",
      "    Itn          x[0]              r1norm         r2norm\n",
      "     1        6.2305e-03         3.1506e+01     3.1506e+01\n",
      "     2        5.4117e-01         1.5690e+01     1.5690e+01\n",
      "     3        8.2224e-01         9.2479e+00     9.2479e+00\n",
      "     4        9.1420e-01         6.3248e+00     6.3248e+00\n",
      "     5        1.0986e+00         3.7566e+00     3.7566e+00\n",
      "     6        1.0980e+00         2.3773e+00     2.3773e+00\n",
      "     7        1.0594e+00         1.5883e+00     1.5883e+00\n",
      "     8        1.0419e+00         1.1075e+00     1.1075e+00\n",
      "     9        1.0396e+00         7.8965e-01     7.8965e-01\n",
      "    10        1.0275e+00         5.7929e-01     5.7929e-01\n",
      "    11        1.0200e+00         3.8881e-01     3.8881e-01\n",
      "    21        9.9997e-01         3.2320e-03     3.2320e-03\n",
      "    31        1.0000e+00         1.2494e-05     1.2494e-05\n",
      "    41        1.0000e+00         1.2976e-08     1.2976e-08\n",
      "    51        1.0000e+00         9.6854e-13     9.6854e-13\n",
      "    61        1.0000e+00         1.0260e-14     1.0260e-14\n",
      "    71        1.0000e+00         1.0260e-14     1.0260e-14\n",
      "    81        1.0000e+00         1.0260e-14     1.0260e-14\n",
      "    91        1.0000e+00         1.0260e-14     1.0260e-14\n",
      "    92        1.0000e+00         1.0260e-14     1.0260e-14\n",
      "    93        1.0000e+00         1.0260e-14     1.0260e-14\n",
      "    94        1.0000e+00         1.0260e-14     1.0260e-14\n",
      "    95        1.0000e+00         1.0260e-14     1.0260e-14\n",
      "    96        1.0000e+00         1.0260e-14     1.0260e-14\n",
      "    97        1.0000e+00         1.0260e-14     1.0260e-14\n",
      "    98        1.0000e+00         1.0260e-14     1.0260e-14\n",
      "    99        1.0000e+00         1.0260e-14     1.0260e-14\n",
      "   100        1.0000e+00         1.0260e-14     1.0260e-14\n",
      "\n",
      "Iterations = 100        Total time (s) = 0.00\n",
      "-----------------------------------------------------------------\n",
      "\n",
      "CGLS\n",
      "-----------------------------------------------------------\n",
      "The Operator Op has 100 rows and 50 cols\n",
      "damp = 0.000000e+00\ttol = 0.000000e+00\tniter = 100\n",
      "-----------------------------------------------------------\n",
      "    Itn           x[0]              r1norm          r2norm\n",
      "     1         6.2305e-03         3.1506e+01      3.1506e+01\n",
      "     2         5.4117e-01         1.5690e+01      1.5690e+01\n",
      "     3         8.2224e-01         9.2479e+00      9.2479e+00\n",
      "     4         9.1420e-01         6.3248e+00      6.3248e+00\n",
      "     5         1.0986e+00         3.7566e+00      3.7566e+00\n",
      "     6         1.0980e+00         2.3773e+00      2.3773e+00\n",
      "     7         1.0594e+00         1.5883e+00      1.5883e+00\n",
      "     8         1.0419e+00         1.1075e+00      1.1075e+00\n",
      "     9         1.0396e+00         7.8965e-01      7.8965e-01\n",
      "    10         1.0275e+00         5.7929e-01      5.7929e-01\n",
      "    20         9.9980e-01         5.6887e-03      5.6887e-03\n",
      "    30         1.0000e+00         1.9986e-05      1.9986e-05\n",
      "    40         1.0000e+00         1.9273e-08      1.9273e-08\n",
      "    50         1.0000e+00         3.0324e-12      3.0324e-12\n",
      "    60         1.0000e+00         1.0260e-14      1.0260e-14\n",
      "    70         1.0000e+00         1.0260e-14      1.0260e-14\n",
      "    80         1.0000e+00         1.0260e-14      1.0260e-14\n",
      "    90         1.0000e+00         1.0260e-14      1.0260e-14\n",
      "    91         1.0000e+00         1.0260e-14      1.0260e-14\n",
      "    92         1.0000e+00         1.0260e-14      1.0260e-14\n",
      "    93         1.0000e+00         1.0260e-14      1.0260e-14\n",
      "    94         1.0000e+00         1.0260e-14      1.0260e-14\n",
      "    95         1.0000e+00         1.0260e-14      1.0260e-14\n",
      "    96         1.0000e+00         1.0260e-14      1.0260e-14\n",
      "    97         1.0000e+00         1.0260e-14      1.0260e-14\n",
      "    98         1.0000e+00         1.0260e-14      1.0260e-14\n",
      "    99         1.0000e+00         1.0260e-14      1.0260e-14\n",
      "   100         1.0000e+00         1.0260e-14      1.0260e-14\n",
      "\n",
      "Iterations = 100        Total time (s) = 0.00\n",
      "-----------------------------------------------------------------\n",
      "\n"
     ]
    }
   ],
   "source": [
    "xhist = []\n",
    "xest2 = cgls(Aop, y, np.zeros(nx), niter=ny, tol=0, show=True, \n",
    "           callback=lambda x: callback(x, xhist))[0]\n",
    "xest3 = cgls_old(Aop, y, np.zeros(nx), niter=ny, tol=0, show=True)[0]"
   ]
  },
  {
   "cell_type": "code",
   "execution_count": 21,
   "id": "268b7879",
   "metadata": {},
   "outputs": [
    {
     "data": {
      "image/png": "[encoded data removed]",
      "text/plain": [
       "<Figure size 800x600 with 1 Axes>"
      ]
     },
     "metadata": {},
     "output_type": "display_data"
    }
   ],
   "source": [
    "plt.plot(x)\n",
    "plt.plot(xest)\n",
    "plt.plot(xest1)\n",
    "plt.plot(xest2)\n",
    "plt.ylim(0, 2);"
   ]
  },
  {
   "cell_type": "markdown",
   "id": "3925a391",
   "metadata": {},
   "source": [
    "## CGLS with complex numbers"
   ]
  },
  {
   "cell_type": "code",
   "execution_count": 22,
   "id": "21a97991",
   "metadata": {},
   "outputs": [],
   "source": [
    "ny, nx = 100, 50\n",
    "x = np.ones(nx) + 1j*np.ones(nx)\n",
    "A = np.random.normal(0, 1, (ny, nx))\n",
    "Aop = pylops.MatrixMult(A)\n",
    "y = A @ x"
   ]
  },
  {
   "cell_type": "code",
   "execution_count": 23,
   "id": "f0655a9d",
   "metadata": {},
   "outputs": [
    {
     "name": "stdout",
     "output_type": "stream",
     "text": [
      "CGLS\n",
      "-----------------------------------------------------------------\n",
      "The Operator Op has 100 rows and 50 cols\n",
      "damp = 0.000000e+00\ttol = 0.000000e+00\tniter = 100\n",
      "-----------------------------------------------------------------\n",
      "\n",
      "    Itn             x[0]             r1norm         r2norm\n",
      "     1       5.17e-01+5.17e-01j    4.6880e+01     4.6880e+01\n",
      "     2       7.99e-01+7.99e-01j    2.4899e+01     2.4899e+01\n",
      "     3       9.80e-01+9.80e-01j    1.5539e+01     1.5539e+01\n",
      "     4       1.15e+00+1.15e+00j    9.2586e+00     9.2586e+00\n",
      "     5       1.20e+00+1.20e+00j    5.9991e+00     5.9991e+00\n",
      "     6       1.16e+00+1.16e+00j    3.7820e+00     3.7820e+00\n",
      "     7       1.08e+00+1.08e+00j    2.4593e+00     2.4593e+00\n",
      "     8       1.06e+00+1.06e+00j    1.7537e+00     1.7537e+00\n",
      "     9       1.02e+00+1.02e+00j    1.1751e+00     1.1751e+00\n",
      "    10       1.00e+00+1.00e+00j    6.7791e-01     6.7791e-01\n",
      "    11       9.98e-01+9.98e-01j    4.2278e-01     4.2278e-01\n",
      "    21       1.00e+00+1.00e+00j    5.3401e-03     5.3401e-03\n",
      "    31       1.00e+00+1.00e+00j    3.4978e-05     3.4978e-05\n",
      "    41       1.00e+00+1.00e+00j    9.8936e-08     9.8936e-08\n",
      "    51       1.00e+00+1.00e+00j    2.2336e-12     2.2336e-12\n",
      "    61       1.00e+00+1.00e+00j    1.4131e-14     1.4131e-14\n",
      "    71       1.00e+00+1.00e+00j    1.4131e-14     1.4131e-14\n",
      "    81       1.00e+00+1.00e+00j    1.4131e-14     1.4131e-14\n",
      "    91       1.00e+00+1.00e+00j    1.4131e-14     1.4131e-14\n",
      "    92       1.00e+00+1.00e+00j    1.4131e-14     1.4131e-14\n",
      "    93       1.00e+00+1.00e+00j    1.4131e-14     1.4131e-14\n",
      "    94       1.00e+00+1.00e+00j    1.4131e-14     1.4131e-14\n",
      "    95       1.00e+00+1.00e+00j    1.4131e-14     1.4131e-14\n",
      "    96       1.00e+00+1.00e+00j    1.4131e-14     1.4131e-14\n",
      "    97       1.00e+00+1.00e+00j    1.4131e-14     1.4131e-14\n",
      "    98       1.00e+00+1.00e+00j    1.4131e-14     1.4131e-14\n",
      "    99       1.00e+00+1.00e+00j    1.4131e-14     1.4131e-14\n",
      "   100       1.00e+00+1.00e+00j    1.4131e-14     1.4131e-14\n",
      "\n",
      "Iterations = 100        Total time (s) = 0.07\n",
      "-----------------------------------------------------------------\n",
      "\n",
      "CGLS\n",
      "-----------------------------------------------------------\n",
      "The Operator Op has 100 rows and 50 cols\n",
      "damp = 0.000000e+00\ttol = 0.000000e+00\tniter = 100\n",
      "-----------------------------------------------------------\n",
      "    Itn           x[0]              r1norm          r2norm\n",
      "     1    5.2e-01 + 5.2e-01j     4.6880e+01      4.6880e+01\n",
      "     2    8.0e-01 + 8.0e-01j     2.4899e+01      2.4899e+01\n",
      "     3    9.8e-01 + 9.8e-01j     1.5539e+01      1.5539e+01\n",
      "     4    1.1e+00 + 1.1e+00j     9.2586e+00      9.2586e+00\n",
      "     5    1.2e+00 + 1.2e+00j     5.9991e+00      5.9991e+00\n",
      "     6    1.2e+00 + 1.2e+00j     3.7820e+00      3.7820e+00\n",
      "     7    1.1e+00 + 1.1e+00j     2.4593e+00      2.4593e+00\n",
      "     8    1.1e+00 + 1.1e+00j     1.7537e+00      1.7537e+00\n",
      "     9    1.0e+00 + 1.0e+00j     1.1751e+00      1.1751e+00\n",
      "    10    1.0e+00 + 1.0e+00j     6.7791e-01      6.7791e-01\n",
      "    20    1.0e+00 + 1.0e+00j     9.4657e-03      9.4657e-03\n",
      "    30    1.0e+00 + 1.0e+00j     5.1030e-05      5.1030e-05\n",
      "    40    1.0e+00 + 1.0e+00j     1.7598e-07      1.7598e-07\n",
      "    50    1.0e+00 + 1.0e+00j     9.6916e-12      9.6916e-12\n",
      "    60    1.0e+00 + 1.0e+00j     1.4131e-14      1.4131e-14\n",
      "    70    1.0e+00 + 1.0e+00j     1.4131e-14      1.4131e-14\n",
      "    80    1.0e+00 + 1.0e+00j     1.4131e-14      1.4131e-14\n",
      "    90    1.0e+00 + 1.0e+00j     1.4131e-14      1.4131e-14\n",
      "    91    1.0e+00 + 1.0e+00j     1.4131e-14      1.4131e-14\n",
      "    92    1.0e+00 + 1.0e+00j     1.4131e-14      1.4131e-14\n",
      "    93    1.0e+00 + 1.0e+00j     1.4131e-14      1.4131e-14\n",
      "    94    1.0e+00 + 1.0e+00j     1.4131e-14      1.4131e-14\n",
      "    95    1.0e+00 + 1.0e+00j     1.4131e-14      1.4131e-14\n",
      "    96    1.0e+00 + 1.0e+00j     1.4131e-14      1.4131e-14\n",
      "    97    1.0e+00 + 1.0e+00j     1.4131e-14      1.4131e-14\n",
      "    98    1.0e+00 + 1.0e+00j     1.4131e-14      1.4131e-14\n",
      "    99    1.0e+00 + 1.0e+00j     1.4131e-14      1.4131e-14\n",
      "   100    1.0e+00 + 1.0e+00j     1.4131e-14      1.4131e-14\n",
      "\n",
      "Iterations = 100        Total time (s) = 0.01\n",
      "-----------------------------------------------------------------\n",
      "\n"
     ]
    }
   ],
   "source": [
    "# function based solver\n",
    "xest2 = cgls(Aop, y, np.zeros(nx) + 1j*np.zeros(nx), niter=ny, tol=0, show=True)[0]#, callback=callback)[0]\n",
    "xest3 = cgls_old(Aop, y, np.zeros(nx) + 1j*np.zeros(nx), niter=ny, tol=0, show=True)[0]"
   ]
  },
  {
   "cell_type": "code",
   "execution_count": 24,
   "id": "7ed6c8b5",
   "metadata": {},
   "outputs": [
    {
     "data": {
      "text/plain": [
       "array([0.+0.j, 0.+0.j, 0.+0.j, 0.+0.j, 0.+0.j, 0.+0.j, 0.+0.j, 0.+0.j,\n",
       "       0.+0.j, 0.+0.j, 0.+0.j, 0.+0.j, 0.+0.j, 0.+0.j, 0.+0.j, 0.+0.j,\n",
       "       0.+0.j, 0.+0.j, 0.+0.j, 0.+0.j, 0.+0.j, 0.+0.j, 0.+0.j, 0.+0.j,\n",
       "       0.+0.j, 0.+0.j, 0.+0.j, 0.+0.j, 0.+0.j, 0.+0.j, 0.+0.j, 0.+0.j,\n",
       "       0.+0.j, 0.+0.j, 0.+0.j, 0.+0.j, 0.+0.j, 0.+0.j, 0.+0.j, 0.+0.j,\n",
       "       0.+0.j, 0.+0.j, 0.+0.j, 0.+0.j, 0.+0.j, 0.+0.j, 0.+0.j, 0.+0.j,\n",
       "       0.+0.j, 0.+0.j])"
      ]
     },
     "execution_count": 24,
     "metadata": {},
     "output_type": "execute_result"
    }
   ],
   "source": [
    "xest2-xest3"
   ]
  },
  {
   "cell_type": "markdown",
   "id": "63704151",
   "metadata": {},
   "source": [
    "# LSQR"
   ]
  },
  {
   "cell_type": "code",
   "execution_count": 25,
   "id": "44e41e69",
   "metadata": {},
   "outputs": [],
   "source": [
    "np.random.seed(1)\n",
    "ny, nx = 100, 50\n",
    "x = np.ones(nx)\n",
    "A = np.random.normal(0, 1, (ny, nx))\n",
    "Aop = pylops.MatrixMult(A)\n",
    "y = A @ x"
   ]
  },
  {
   "cell_type": "markdown",
   "id": "a8892692",
   "metadata": {},
   "source": [
    "## Step-by-step solver"
   ]
  },
  {
   "cell_type": "code",
   "execution_count": 26,
   "id": "0a86d165",
   "metadata": {},
   "outputs": [
    {
     "name": "stdout",
     "output_type": "stream",
     "text": [
      "LSQR\n",
      "------------------------------------------------------------------------------------------\n",
      "The Operator Op has 100 rows and 50 cols\n",
      "damp = 0.00000000000000e+00     calc_var =      1\n",
      "atol = 0.00e+00                 conlim = 1.00e+08\n",
      "btol = 1.00e-08                 niter =       10\n",
      "------------------------------------------------------------------------------------------\n",
      "   Itn     x[0]      r1norm     r2norm   Compatible   LS     Norm A   Cond A\n",
      "     0  0.0000e+00  7.253e+01  7.253e+01   1.0e+00  1.7e-01\n",
      "     1  6.2305e-03  3.151e+01  3.151e+01   4.3e-01  3.7e-01  1.4e+01  1.0e+00\n",
      "    11  1.0200e+00  3.888e-01  3.888e-01   5.4e-03  3.0e-03  4.0e+01  1.6e+01\n",
      "    21  9.9997e-01  3.232e-03  3.232e-03   4.5e-05  2.5e-05  5.2e+01  3.2e+01\n",
      "    31  1.0000e+00  1.249e-05  1.249e-05   1.7e-07  9.6e-08  6.1e+01  4.7e+01\n",
      "    41  1.0000e+00  1.145e-08  1.145e-08   1.6e-10  1.3e-10  6.9e+01  6.1e+01\n",
      "    51  1.0000e+00  9.562e-13  9.562e-13   1.3e-14  8.2e-15  7.6e+01  7.4e+01\n",
      "    61  1.0000e+00  1.186e-14  1.186e-14   1.6e-16  1.4e-24  8.5e+01  9.1e+01\n",
      "    71  1.0000e+00  1.186e-14  1.186e-14   1.6e-16  2.0e-29  9.3e+01  1.1e+02\n",
      "    81  1.0000e+00  1.186e-14  1.186e-14   1.6e-16  2.2e-33  9.9e+01  1.2e+02\n",
      "    91  1.0000e+00  1.186e-14  1.186e-14   1.6e-16  9.0e-37  1.0e+02  1.4e+02\n",
      " \n",
      "LSQR finished, Op x - b is small enough, given atol, btol                 \n",
      " \n",
      "istop =       1   r1norm = 1.2e-14   anorm = 1.1e+02   arnorm = 2.8e-37\n",
      "itn   =     100   r2norm = 1.2e-14   acond = 1.5e+02   xnorm  = 7.1e+00\n",
      "Total time (s) = 0.01\n",
      "------------------------------------------------------------------------------------------\n",
      "\n"
     ]
    }
   ],
   "source": [
    "lsqrsolve = LSQR(Aop)\n",
    "\n",
    "xhist = []\n",
    "lsqrsolve.callback = lambda x: callback(x, xhist)\n",
    "\n",
    "x = lsqrsolve.setup(y=y, x0=np.zeros(nx), atol=0, show=True)\n",
    "for i in range(ny):\n",
    "    x = lsqrsolve.step(x, True if i % 10 == 0 else False)\n",
    "    cgsolve.callback(x)\n",
    "lsqrsolve.finalize(True)\n",
    "xest = x.copy()"
   ]
  },
  {
   "cell_type": "markdown",
   "id": "2e04a441",
   "metadata": {},
   "source": [
    "## Class based solver"
   ]
  },
  {
   "cell_type": "code",
   "execution_count": 27,
   "id": "5bc1bf39",
   "metadata": {},
   "outputs": [
    {
     "name": "stdout",
     "output_type": "stream",
     "text": [
      "LSQR\n",
      "------------------------------------------------------------------------------------------\n",
      "The Operator Op has 100 rows and 50 cols\n",
      "damp = 0.00000000000000e+00     calc_var =      1\n",
      "atol = 0.00e+00                 conlim = 1.00e+08\n",
      "btol = 0.00e+00                 niter =      100\n",
      "------------------------------------------------------------------------------------------\n",
      "   Itn     x[0]      r1norm     r2norm   Compatible   LS     Norm A   Cond A\n",
      "     0  0.0000e+00  7.253e+01  7.253e+01   1.0e+00  1.7e-01\n",
      "     1  6.2305e-03  3.151e+01  3.151e+01   4.3e-01  3.7e-01  1.4e+01  1.0e+00\n",
      "     2  5.4117e-01  1.569e+01  1.569e+01   2.2e-01  1.7e-01  1.9e+01  2.2e+00\n",
      "     3  8.2224e-01  9.248e+00  9.248e+00   1.3e-01  8.2e-02  2.3e+01  3.4e+00\n",
      "     4  9.1420e-01  6.325e+00  6.325e+00   8.7e-02  5.3e-02  2.6e+01  4.7e+00\n",
      "    11  1.0200e+00  3.888e-01  3.888e-01   5.4e-03  3.0e-03  4.0e+01  1.6e+01\n",
      "    21  9.9997e-01  3.232e-03  3.232e-03   4.5e-05  2.5e-05  5.2e+01  3.2e+01\n",
      "    31  1.0000e+00  1.249e-05  1.249e-05   1.7e-07  9.6e-08  6.1e+01  4.7e+01\n",
      "    41  1.0000e+00  1.145e-08  1.145e-08   1.6e-10  1.3e-10  6.9e+01  6.1e+01\n",
      "    51  1.0000e+00  9.562e-13  9.562e-13   1.3e-14  8.2e-15  7.6e+01  7.4e+01\n",
      " \n",
      "LSQR finished, Op x - b is small enough for this machine                  \n",
      " \n",
      "istop =       4   r1norm = 6.2e-14   anorm = 7.7e+01   arnorm = 7.8e-13\n",
      "itn   =      52   r2norm = 6.2e-14   acond = 7.6e+01   xnorm  = 7.1e+00\n",
      "Total time (s) = 0.00\n",
      "------------------------------------------------------------------------------------------\n",
      "\n"
     ]
    }
   ],
   "source": [
    "# class based solver\n",
    "lsqrsolve = LSQR(Aop)\n",
    "xest1 = lsqrsolve.solve(y=y, x0=np.zeros(nx), atol=0, btol=0, \n",
    "                        niter=ny, show=True, itershow=[4,3,10])[0]"
   ]
  },
  {
   "cell_type": "markdown",
   "id": "9f03dbac",
   "metadata": {},
   "source": [
    "## Function based solver"
   ]
  },
  {
   "cell_type": "code",
   "execution_count": 28,
   "id": "3302dbc1",
   "metadata": {},
   "outputs": [
    {
     "name": "stdout",
     "output_type": "stream",
     "text": [
      "LSQR\n",
      "------------------------------------------------------------------------------------------\n",
      "The Operator Op has 100 rows and 50 cols\n",
      "damp = 0.00000000000000e+00     calc_var =      1\n",
      "atol = 0.00e+00                 conlim = 1.00e+08\n",
      "btol = 1.00e-08                 niter =      100\n",
      "------------------------------------------------------------------------------------------\n",
      "   Itn     x[0]      r1norm     r2norm   Compatible   LS     Norm A   Cond A\n",
      "     0  0.0000e+00  7.253e+01  7.253e+01   1.0e+00  1.7e-01\n",
      "     1  6.2305e-03  3.151e+01  3.151e+01   4.3e-01  3.7e-01  1.4e+01  1.0e+00\n",
      "     2  5.4117e-01  1.569e+01  1.569e+01   2.2e-01  1.7e-01  1.9e+01  2.2e+00\n",
      "     3  8.2224e-01  9.248e+00  9.248e+00   1.3e-01  8.2e-02  2.3e+01  3.4e+00\n",
      "     4  9.1420e-01  6.325e+00  6.325e+00   8.7e-02  5.3e-02  2.6e+01  4.7e+00\n",
      "     5  1.0986e+00  3.757e+00  3.757e+00   5.2e-02  3.3e-02  2.8e+01  6.4e+00\n",
      "     6  1.0980e+00  2.377e+00  2.377e+00   3.3e-02  2.0e-02  3.1e+01  7.9e+00\n",
      "     7  1.0594e+00  1.588e+00  1.588e+00   2.2e-02  1.3e-02  3.3e+01  9.5e+00\n",
      "     8  1.0419e+00  1.108e+00  1.108e+00   1.5e-02  8.3e-03  3.5e+01  1.1e+01\n",
      "     9  1.0396e+00  7.896e-01  7.896e-01   1.1e-02  6.1e-03  3.7e+01  1.3e+01\n",
      "    10  1.0275e+00  5.793e-01  5.793e-01   8.0e-03  4.3e-03  3.9e+01  1.4e+01\n",
      "    11  1.0200e+00  3.888e-01  3.888e-01   5.4e-03  3.0e-03  4.0e+01  1.6e+01\n",
      "    21  9.9997e-01  3.232e-03  3.232e-03   4.5e-05  2.5e-05  5.2e+01  3.2e+01\n",
      "    31  1.0000e+00  1.249e-05  1.249e-05   1.7e-07  9.6e-08  6.1e+01  4.7e+01\n",
      "    33  1.0000e+00  3.218e-06  3.218e-06   4.4e-08  2.7e-08  6.2e+01  5.0e+01\n",
      "    34  1.0000e+00  1.740e-06  1.740e-06   2.4e-08  1.7e-08  6.3e+01  5.1e+01\n",
      "    35  1.0000e+00  1.234e-06  1.234e-06   1.7e-08  1.1e-08  6.4e+01  5.3e+01\n",
      "    36  1.0000e+00  6.324e-07  6.324e-07   8.7e-09  4.6e-09  6.6e+01  5.4e+01\n",
      " \n",
      "LSQR finished, Op x - b is small enough, given atol, btol                 \n",
      " \n",
      "istop =       1   r1norm = 6.3e-07   anorm = 6.6e+01   arnorm = 4.1e-06\n",
      "itn   =      36   r2norm = 6.3e-07   acond = 5.4e+01   xnorm  = 7.1e+00\n",
      "Total time (s) = 0.00\n",
      "------------------------------------------------------------------------------------------\n",
      "\n",
      "LSQR\n",
      "-------------------------------------------------\n",
      "The Operator Op has 100 rows and 50 cols\n",
      "damp = 0.00000000000000e+00     calc_var =      1\n",
      "atol = 0.00e+00                 conlim = 1.00e+08\n",
      "btol = 1.00e-08                 niter =      100\n",
      "-------------------------------------------------\n",
      " \n",
      "   Itn      x[0]       r1norm     r2norm  Compatible   LS      Norm A   Cond A\n",
      "     0  0.00000e+00  7.253e+01  7.253e+01   1.0e+00  1.7e-01\n",
      "     1  6.23054e-03  3.151e+01  3.151e+01   4.3e-01  3.7e-01  1.4e+01  1.0e+00\n",
      "     2  5.41168e-01  1.569e+01  1.569e+01   2.2e-01  1.7e-01  1.9e+01  2.2e+00\n",
      "     3  8.22240e-01  9.248e+00  9.248e+00   1.3e-01  8.2e-02  2.3e+01  3.4e+00\n",
      "     4  9.14204e-01  6.325e+00  6.325e+00   8.7e-02  5.3e-02  2.6e+01  4.7e+00\n",
      "     5  1.09859e+00  3.757e+00  3.757e+00   5.2e-02  3.3e-02  2.8e+01  6.4e+00\n",
      "     6  1.09802e+00  2.377e+00  2.377e+00   3.3e-02  2.0e-02  3.1e+01  7.9e+00\n",
      "     7  1.05941e+00  1.588e+00  1.588e+00   2.2e-02  1.3e-02  3.3e+01  9.5e+00\n",
      "     8  1.04192e+00  1.108e+00  1.108e+00   1.5e-02  8.3e-03  3.5e+01  1.1e+01\n",
      "     9  1.03961e+00  7.896e-01  7.896e-01   1.1e-02  6.1e-03  3.7e+01  1.3e+01\n",
      "    10  1.02749e+00  5.793e-01  5.793e-01   8.0e-03  4.3e-03  3.9e+01  1.4e+01\n",
      "    20  9.99796e-01  5.689e-03  5.689e-03   7.8e-05  4.1e-05  5.1e+01  3.1e+01\n",
      "    30  1.00000e+00  1.999e-05  1.999e-05   2.8e-07  1.4e-07  6.0e+01  4.5e+01\n",
      "    32  1.00000e+00  6.502e-06  6.502e-06   9.0e-08  5.3e-08  6.2e+01  4.8e+01\n",
      "    33  1.00000e+00  3.218e-06  3.218e-06   4.4e-08  2.7e-08  6.2e+01  5.0e+01\n",
      "    34  1.00000e+00  1.740e-06  1.740e-06   2.4e-08  1.7e-08  6.3e+01  5.1e+01\n",
      "    35  1.00000e+00  1.234e-06  1.234e-06   1.7e-08  1.1e-08  6.4e+01  5.3e+01\n",
      "    36  1.00000e+00  6.324e-07  6.324e-07   8.7e-09  4.6e-09  6.6e+01  5.4e+01\n",
      " \n",
      "LSQR finished, Opx - b is small enough, given atol, btol                  \n",
      " \n",
      "istop =       1   r1norm = 6.3e-07   anorm = 6.6e+01   arnorm = 4.1e-06\n",
      "itn   =      36   r2norm = 6.3e-07   acond = 5.4e+01   xnorm  = 7.1e+00\n",
      "Total time (s) = 0.00\n",
      "-----------------------------------------------------------------------\n",
      "\n"
     ]
    }
   ],
   "source": [
    "xhist = []\n",
    "xest2 = lsqr(Aop, y, np.zeros(nx), niter=ny, atol=0, show=True, \n",
    "             callback=lambda x: callback(x, xhist))[0]\n",
    "xest3 = lsqr_old(Aop, y, np.zeros(nx), niter=ny, atol=0, show=True)[0]"
   ]
  },
  {
   "cell_type": "code",
   "execution_count": 29,
   "id": "d90eca77",
   "metadata": {},
   "outputs": [
    {
     "data": {
      "image/png": "[encoded data removed]",
      "text/plain": [
       "<Figure size 800x600 with 1 Axes>"
      ]
     },
     "metadata": {},
     "output_type": "display_data"
    }
   ],
   "source": [
    "plt.plot(x)\n",
    "plt.plot(xest)\n",
    "plt.plot(xest1)\n",
    "plt.plot(xest2)\n",
    "plt.ylim(0, 2);"
   ]
  },
  {
   "cell_type": "markdown",
   "id": "4961df49",
   "metadata": {},
   "source": [
    "## LSQR with complex numbers"
   ]
  },
  {
   "cell_type": "code",
   "execution_count": 30,
   "id": "579502a6",
   "metadata": {},
   "outputs": [],
   "source": [
    "ny, nx = 100, 50\n",
    "x = np.ones(nx) + 1j*np.ones(nx)\n",
    "A = np.random.normal(0, 1, (ny, nx))\n",
    "Aop = pylops.MatrixMult(A)\n",
    "y = A @ x"
   ]
  },
  {
   "cell_type": "code",
   "execution_count": 31,
   "id": "632ed7e2",
   "metadata": {},
   "outputs": [
    {
     "name": "stdout",
     "output_type": "stream",
     "text": [
      "LSQR\n",
      "------------------------------------------------------------------------------------------\n",
      "The Operator Op has 100 rows and 50 cols\n",
      "damp = 0.00000000000000e+00     calc_var =      1\n",
      "atol = 0.00e+00                 conlim = 1.00e+08\n",
      "btol = 1.00e-08                 niter =      100\n",
      "------------------------------------------------------------------------------------------\n",
      "   Itn        x[0]              r1norm    r2norm   Compatible   LS     Norm A   Cond A\n",
      "     0 0.00e+00+0.00e+00j     9.498e+01  9.498e+01   1.0e+00  1.3e-01\n",
      "     1 5.17e-01+5.17e-01j     4.688e+01  4.688e+01   4.9e-01  3.9e-01  1.4e+01  1.0e+00\n",
      "     2 7.99e-01+7.99e-01j     2.490e+01  2.490e+01   2.6e-01  1.7e-01  1.9e+01  2.2e+00\n",
      "     3 9.80e-01+9.80e-01j     1.554e+01  1.554e+01   1.6e-01  1.1e-01  2.2e+01  3.5e+00\n",
      "     4 1.15e+00+1.15e+00j     9.259e+00  9.259e+00   9.7e-02  6.2e-02  2.5e+01  5.0e+00\n",
      "     5 1.20e+00+1.20e+00j     5.999e+00  5.999e+00   6.3e-02  3.9e-02  2.8e+01  6.5e+00\n",
      "     6 1.16e+00+1.16e+00j     3.782e+00  3.782e+00   4.0e-02  2.8e-02  3.0e+01  8.0e+00\n",
      "     7 1.08e+00+1.08e+00j     2.459e+00  2.459e+00   2.6e-02  1.3e-02  3.3e+01  9.6e+00\n",
      "     8 1.06e+00+1.06e+00j     1.754e+00  1.754e+00   1.8e-02  9.6e-03  3.4e+01  1.1e+01\n",
      "     9 1.02e+00+1.02e+00j     1.175e+00  1.175e+00   1.2e-02  7.8e-03  3.6e+01  1.3e+01\n",
      "    10 1.00e+00+1.00e+00j     6.779e-01  6.779e-01   7.1e-03  4.2e-03  3.8e+01  1.5e+01\n",
      "    11 9.98e-01+9.98e-01j     4.228e-01  4.228e-01   4.5e-03  2.7e-03  3.9e+01  1.6e+01\n",
      "    21 1.00e+00+1.00e+00j     5.340e-03  5.340e-03   5.6e-05  3.1e-05  5.2e+01  3.3e+01\n",
      "    31 1.00e+00+1.00e+00j     3.498e-05  3.498e-05   3.7e-07  1.6e-07  6.1e+01  4.8e+01\n",
      "    34 1.00e+00+1.00e+00j     4.917e-06  4.917e-06   5.2e-08  2.7e-08  6.3e+01  5.3e+01\n",
      "    35 1.00e+00+1.00e+00j     3.180e-06  3.180e-06   3.3e-08  2.0e-08  6.3e+01  5.4e+01\n",
      "    36 1.00e+00+1.00e+00j     2.240e-06  2.240e-06   2.4e-08  1.7e-08  6.4e+01  5.5e+01\n",
      "    37 1.00e+00+1.00e+00j     1.256e-06  1.256e-06   1.3e-08  7.5e-09  6.6e+01  5.7e+01\n",
      "    38 1.00e+00+1.00e+00j     5.602e-07  5.602e-07   5.9e-09  2.8e-09  6.6e+01  5.9e+01\n",
      " \n",
      "LSQR finished, Op x - b is small enough, given atol, btol                 \n",
      " \n",
      "istop =       1   r1norm = 5.6e-07   anorm = 6.6e+01   arnorm = 3.2e-06\n",
      "itn   =      38   r2norm = 5.6e-07   acond = 5.9e+01   xnorm  = 1.0e+01\n",
      "Total time (s) = 0.00\n",
      "------------------------------------------------------------------------------------------\n",
      "\n",
      "LSQR\n",
      "-------------------------------------------------\n",
      "The Operator Op has 100 rows and 50 cols\n",
      "damp = 0.00000000000000e+00     calc_var =      1\n",
      "atol = 0.00e+00                 conlim = 1.00e+08\n",
      "btol = 1.00e-08                 niter =      100\n",
      "-------------------------------------------------\n",
      " \n",
      "   Itn      x[0]       r1norm     r2norm  Compatible   LS      Norm A   Cond A\n",
      "     0 0.00000e+00+0.00000e+00j  9.498e+01  9.498e+01   1.0e+00  1.3e-01\n",
      "     1 5.16658e-01+5.16658e-01j  4.688e+01  4.688e+01   4.9e-01  3.9e-01  1.4e+01  1.0e+00\n",
      "     2 7.99339e-01+7.99339e-01j  2.490e+01  2.490e+01   2.6e-01  1.7e-01  1.9e+01  2.2e+00\n",
      "     3 9.79784e-01+9.79784e-01j  1.554e+01  1.554e+01   1.6e-01  1.1e-01  2.2e+01  3.5e+00\n",
      "     4 1.14776e+00+1.14776e+00j  9.259e+00  9.259e+00   9.7e-02  6.2e-02  2.5e+01  5.0e+00\n",
      "     5 1.19928e+00+1.19928e+00j  5.999e+00  5.999e+00   6.3e-02  3.9e-02  2.8e+01  6.5e+00\n",
      "     6 1.15564e+00+1.15564e+00j  3.782e+00  3.782e+00   4.0e-02  2.8e-02  3.0e+01  8.0e+00\n",
      "     7 1.08349e+00+1.08349e+00j  2.459e+00  2.459e+00   2.6e-02  1.3e-02  3.3e+01  9.6e+00\n",
      "     8 1.06297e+00+1.06297e+00j  1.754e+00  1.754e+00   1.8e-02  9.6e-03  3.4e+01  1.1e+01\n",
      "     9 1.02444e+00+1.02444e+00j  1.175e+00  1.175e+00   1.2e-02  7.8e-03  3.6e+01  1.3e+01\n",
      "    10 1.00200e+00+1.00200e+00j  6.779e-01  6.779e-01   7.1e-03  4.2e-03  3.8e+01  1.5e+01\n",
      "    20 1.00003e+00+1.00003e+00j  9.466e-03  9.466e-03   1.0e-04  5.5e-05  5.1e+01  3.1e+01\n",
      "    30 1.00000e+00+1.00000e+00j  5.103e-05  5.103e-05   5.4e-07  2.6e-07  6.0e+01  4.6e+01\n",
      "    33 1.00000e+00+1.00000e+00j  8.900e-06  8.900e-06   9.4e-08  5.2e-08  6.2e+01  5.1e+01\n",
      "    34 1.00000e+00+1.00000e+00j  4.917e-06  4.917e-06   5.2e-08  2.7e-08  6.3e+01  5.3e+01\n",
      "    35 1.00000e+00+1.00000e+00j  3.180e-06  3.180e-06   3.3e-08  2.0e-08  6.3e+01  5.4e+01\n",
      "    36 1.00000e+00+1.00000e+00j  2.240e-06  2.240e-06   2.4e-08  1.7e-08  6.4e+01  5.5e+01\n",
      "    37 1.00000e+00+1.00000e+00j  1.256e-06  1.256e-06   1.3e-08  7.5e-09  6.6e+01  5.7e+01\n",
      "    38 1.00000e+00+1.00000e+00j  5.602e-07  5.602e-07   5.9e-09  2.8e-09  6.6e+01  5.9e+01\n",
      " \n",
      "LSQR finished, Opx - b is small enough, given atol, btol                  \n",
      " \n",
      "istop =       1   r1norm = 5.6e-07   anorm = 6.6e+01   arnorm = 3.2e-06\n",
      "itn   =      38   r2norm = 5.6e-07   acond = 5.9e+01   xnorm  = 1.0e+01\n",
      "Total time (s) = 0.00\n",
      "-----------------------------------------------------------------------\n",
      "\n"
     ]
    }
   ],
   "source": [
    "# function based solver\n",
    "xest2 = lsqr(Aop, y, np.zeros(nx) + 1j*np.zeros(nx), niter=ny, atol=0, show=True)[0]\n",
    "xest3 = lsqr_old(Aop, y, np.zeros(nx) + 1j*np.zeros(nx), niter=ny, atol=0, show=True)[0]"
   ]
  },
  {
   "cell_type": "code",
   "execution_count": 32,
   "id": "10a3bf8e",
   "metadata": {},
   "outputs": [
    {
     "data": {
      "text/plain": [
       "array([0.+0.j, 0.+0.j, 0.+0.j, 0.+0.j, 0.+0.j, 0.+0.j, 0.+0.j, 0.+0.j,\n",
       "       0.+0.j, 0.+0.j, 0.+0.j, 0.+0.j, 0.+0.j, 0.+0.j, 0.+0.j, 0.+0.j,\n",
       "       0.+0.j, 0.+0.j, 0.+0.j, 0.+0.j, 0.+0.j, 0.+0.j, 0.+0.j, 0.+0.j,\n",
       "       0.+0.j, 0.+0.j, 0.+0.j, 0.+0.j, 0.+0.j, 0.+0.j, 0.+0.j, 0.+0.j,\n",
       "       0.+0.j, 0.+0.j, 0.+0.j, 0.+0.j, 0.+0.j, 0.+0.j, 0.+0.j, 0.+0.j,\n",
       "       0.+0.j, 0.+0.j, 0.+0.j, 0.+0.j, 0.+0.j, 0.+0.j, 0.+0.j, 0.+0.j,\n",
       "       0.+0.j, 0.+0.j])"
      ]
     },
     "execution_count": 32,
     "metadata": {},
     "output_type": "execute_result"
    }
   ],
   "source": [
    "xest2-xest3"
   ]
  },
  {
   "cell_type": "markdown",
   "id": "98a5c292",
   "metadata": {},
   "source": [
    "# NormalEquationInversion"
   ]
  },
  {
   "cell_type": "code",
   "execution_count": 33,
   "id": "4e82ed7e",
   "metadata": {},
   "outputs": [],
   "source": [
    "np.random.seed(1)\n",
    "ny, nx = 100, 50\n",
    "x = np.ones(nx)\n",
    "A = np.random.normal(0, 1, (ny, nx))\n",
    "A = A.T @ A\n",
    "Aop = pylops.MatrixMult(A)\n",
    "y = A @ x\n",
    "\n",
    "Dop = pylops.FirstDerivative(50)"
   ]
  },
  {
   "cell_type": "code",
   "execution_count": 34,
   "id": "5d33af90",
   "metadata": {},
   "outputs": [
    {
     "name": "stdout",
     "output_type": "stream",
     "text": [
      "NormalEquationsInversion\n",
      "-------------------------------------------------------\n",
      "The Operator Op has 50 rows and 50 cols\n",
      "Regs=[<50x50 FirstDerivative with dtype=float64>]\n",
      "epsRs=[0.1]     epsI=0\n",
      "-------------------------------------------------------\n",
      "\n",
      "Total time (s) = 0.00\n",
      "-------------------------------------------------------\n",
      "\n"
     ]
    }
   ],
   "source": [
    "nesolve = NormalEquationsInversion(Aop)\n",
    "\n",
    "xhist = []\n",
    "nesolve.callback = lambda x: callback(x, xhist)\n",
    "\n",
    "# scipy\n",
    "nesolve.setup(y=y, Regs=[Dop, ], dataregs=[np.zeros(nx)], \n",
    "                  epsRs=[1e-1, ], show=True)\n",
    "x = nesolve.run(None, engine='scipy', **dict(maxiter=5))[0]\n",
    "nesolve.finalize(show=True)\n",
    "xest = x.copy()"
   ]
  },
  {
   "cell_type": "code",
   "execution_count": 35,
   "id": "f860a4bd",
   "metadata": {},
   "outputs": [
    {
     "name": "stdout",
     "output_type": "stream",
     "text": [
      "NormalEquationsInversion\n",
      "-------------------------------------------------------\n",
      "The Operator Op has 50 rows and 50 cols\n",
      "Regs=[<50x50 FirstDerivative with dtype=float64>]\n",
      "epsRs=[0.1]     epsI=0\n",
      "-------------------------------------------------------\n",
      "CG\n",
      "-------------------------------------------------------\n",
      "The Operator Op has 50 rows and 50 cols\n",
      "tol = 1.000000e-04\tniter = 5\n",
      "-------------------------------------------------------\n",
      "\n",
      "    Itn           x[0]              r2norm\n",
      "     1        -2.5795e-01         6.8784e+04\n",
      "     2        -1.3424e-01         3.9387e+04\n",
      "     3         2.0361e-01         2.4392e+04\n",
      "     4         2.8669e-01         1.5064e+04\n",
      "     5         3.8244e-01         9.3876e+03\n",
      "\n",
      "Iterations = 5        Total time (s) = 0.00\n",
      "-------------------------------------------------------\n",
      "\n"
     ]
    }
   ],
   "source": [
    "# pylops\n",
    "nesolve.setup(y=y, Regs=[Dop, ], dataregs=[np.zeros(nx)], \n",
    "                  epsRs=[1e-1, ], show=True)\n",
    "x = nesolve.run(None, engine='pylops', **dict(niter=5, show=True))[0]\n",
    "nesolve.finalize(True)\n",
    "xestpylops = x.copy()"
   ]
  },
  {
   "cell_type": "code",
   "execution_count": 36,
   "id": "2ba43eb9",
   "metadata": {},
   "outputs": [],
   "source": [
    "xest1 = normal_equations_inversion_old(Aop, Regs=[Dop, ], data=y, dataregs=[np.zeros(nx)], \n",
    "                                       epsRs=[1e-1, ], x0=np.zeros(nx), **dict(maxiter=5))"
   ]
  },
  {
   "cell_type": "code",
   "execution_count": 37,
   "id": "865004cd",
   "metadata": {},
   "outputs": [
    {
     "data": {
      "text/plain": [
       "(array([0., 0., 0., 0., 0., 0., 0., 0., 0., 0., 0., 0., 0., 0., 0., 0., 0.,\n",
       "        0., 0., 0., 0., 0., 0., 0., 0., 0., 0., 0., 0., 0., 0., 0., 0., 0.,\n",
       "        0., 0., 0., 0., 0., 0., 0., 0., 0., 0., 0., 0., 0., 0., 0., 0.]),\n",
       " array([0., 0., 0., 0., 0., 0., 0., 0., 0., 0., 0., 0., 0., 0., 0., 0., 0.,\n",
       "        0., 0., 0., 0., 0., 0., 0., 0., 0., 0., 0., 0., 0., 0., 0., 0., 0.,\n",
       "        0., 0., 0., 0., 0., 0., 0., 0., 0., 0., 0., 0., 0., 0., 0., 0.]))"
      ]
     },
     "execution_count": 37,
     "metadata": {},
     "output_type": "execute_result"
    }
   ],
   "source": [
    "xest-xest1, xest-xestpylops"
   ]
  },
  {
   "cell_type": "code",
   "execution_count": 38,
   "id": "cf8aeb5c",
   "metadata": {},
   "outputs": [
    {
     "data": {
      "text/plain": [
       "[<matplotlib.lines.Line2D at 0x17c42f390>]"
      ]
     },
     "execution_count": 38,
     "metadata": {},
     "output_type": "execute_result"
    },
    {
     "data": {
      "image/png": "[encoded data removed]",
      "text/plain": [
       "<Figure size 800x600 with 1 Axes>"
      ]
     },
     "metadata": {},
     "output_type": "display_data"
    }
   ],
   "source": [
    "plt.plot(xest)\n",
    "plt.plot(xestpylops)"
   ]
  },
  {
   "cell_type": "code",
   "execution_count": 39,
   "id": "f3481295",
   "metadata": {},
   "outputs": [
    {
     "name": "stdout",
     "output_type": "stream",
     "text": [
      "NormalEquationsInversion\n",
      "-------------------------------------------------------\n",
      "The Operator Op has 50 rows and 50 cols\n",
      "Regs=[<50x50 FirstDerivative with dtype=float64>, <50x50 FirstDerivative with dtype=float64>]\n",
      "epsRs=[0.1, 0.01]     epsI=0\n",
      "-------------------------------------------------------\n",
      "CG\n",
      "-------------------------------------------------------\n",
      "The Operator Op has 50 rows and 50 cols\n",
      "tol = 1.000000e-04\tniter = 20\n",
      "-------------------------------------------------------\n",
      "\n",
      "    Itn           x[0]              r2norm\n",
      "     1        -2.5795e-01         6.8784e+04\n",
      "     2        -1.3424e-01         3.9387e+04\n",
      "     3         2.0361e-01         2.4392e+04\n",
      "     4         2.8669e-01         1.5064e+04\n",
      "     5         3.8244e-01         9.3876e+03\n",
      "     6         5.1653e-01         6.5985e+03\n",
      "     7         6.7217e-01         5.4724e+03\n",
      "     8         7.9452e-01         3.7607e+03\n",
      "     9         8.7658e-01         3.1885e+03\n",
      "    10         9.5870e-01         2.8390e+03\n",
      "    11         1.0049e+00         2.1910e+03\n",
      "    12         1.0162e+00         2.0220e+03\n",
      "    13         1.0320e+00         1.6560e+03\n",
      "    14         1.0521e+00         1.2587e+03\n",
      "    15         1.0685e+00         9.6100e+02\n",
      "    16         1.0816e+00         6.6998e+02\n",
      "    17         1.0937e+00         6.8177e+02\n",
      "    18         1.1117e+00         7.3975e+02\n",
      "    19         1.1256e+00         4.7279e+02\n",
      "    20         1.1258e+00         4.0263e+02\n",
      "\n",
      "Iterations = 20        Total time (s) = 0.00\n",
      "-------------------------------------------------------\n",
      "\n"
     ]
    }
   ],
   "source": [
    "nesolve = NormalEquationsInversion(Aop)\n",
    "\n",
    "xest1 = nesolve.solve(y=y, Regs=[Dop, Dop], dataregs=[np.zeros(nx), np.zeros(nx)], \n",
    "                      epsRs=[1e-1, 1e-2], x0=np.zeros(nx), \n",
    "                      engine='pylops', **dict(niter=20, show=True))[0]"
   ]
  },
  {
   "cell_type": "code",
   "execution_count": 40,
   "id": "df2cac84",
   "metadata": {},
   "outputs": [
    {
     "name": "stdout",
     "output_type": "stream",
     "text": [
      "NormalEquationsInversion\n",
      "-------------------------------------------------------\n",
      "The Operator Op has 50 rows and 50 cols\n",
      "Regs=[<50x50 FirstDerivative with dtype=float64>, <50x50 FirstDerivative with dtype=float64>]\n",
      "epsRs=[0.1, 0.01]     epsI=0.0\n",
      "-------------------------------------------------------\n",
      "CG\n",
      "-------------------------------------------------------\n",
      "The Operator Op has 50 rows and 50 cols\n",
      "tol = 1.000000e-04\tniter = 20\n",
      "-------------------------------------------------------\n",
      "\n",
      "    Itn           x[0]              r2norm\n",
      "     1        -2.5795e-01         6.8784e+04\n",
      "     2        -1.3424e-01         3.9387e+04\n",
      "     3         2.0361e-01         2.4392e+04\n",
      "     4         2.8669e-01         1.5064e+04\n",
      "     5         3.8244e-01         9.3876e+03\n",
      "     6         5.1653e-01         6.5985e+03\n",
      "     7         6.7217e-01         5.4724e+03\n",
      "     8         7.9452e-01         3.7607e+03\n",
      "     9         8.7658e-01         3.1885e+03\n",
      "    10         9.5870e-01         2.8390e+03\n",
      "    11         1.0049e+00         2.1910e+03\n",
      "    12         1.0162e+00         2.0220e+03\n",
      "    13         1.0320e+00         1.6560e+03\n",
      "    14         1.0521e+00         1.2587e+03\n",
      "    15         1.0685e+00         9.6100e+02\n",
      "    16         1.0816e+00         6.6998e+02\n",
      "    17         1.0937e+00         6.8177e+02\n",
      "    18         1.1117e+00         7.3975e+02\n",
      "    19         1.1256e+00         4.7279e+02\n",
      "    20         1.1258e+00         4.0263e+02\n",
      "\n",
      "Iterations = 20        Total time (s) = 0.02\n",
      "-------------------------------------------------------\n",
      "\n"
     ]
    }
   ],
   "source": [
    "xest2 = normal_equations_inversion(Aop, y=y, Regs=[Dop, Dop], dataregs=[np.zeros(nx), np.zeros(nx)],\n",
    "                                   epsRs=[1e-1, 1e-2], x0=np.zeros(nx), engine='pylops', \n",
    "                                   **dict(niter=20, show=True))[0]"
   ]
  },
  {
   "cell_type": "code",
   "execution_count": 41,
   "id": "866517f1",
   "metadata": {},
   "outputs": [
    {
     "data": {
      "text/plain": [
       "array([0., 0., 0., 0., 0., 0., 0., 0., 0., 0., 0., 0., 0., 0., 0., 0., 0.,\n",
       "       0., 0., 0., 0., 0., 0., 0., 0., 0., 0., 0., 0., 0., 0., 0., 0., 0.,\n",
       "       0., 0., 0., 0., 0., 0., 0., 0., 0., 0., 0., 0., 0., 0., 0., 0.])"
      ]
     },
     "execution_count": 41,
     "metadata": {},
     "output_type": "execute_result"
    }
   ],
   "source": [
    "xest1-xest2"
   ]
  },
  {
   "cell_type": "markdown",
   "id": "1b5809be",
   "metadata": {},
   "source": [
    "# RegularizedInversion"
   ]
  },
  {
   "cell_type": "code",
   "execution_count": 42,
   "id": "cbb9be83",
   "metadata": {},
   "outputs": [],
   "source": [
    "np.random.seed(1)\n",
    "ny, nx = 100, 50\n",
    "x = np.ones(nx)\n",
    "A = np.random.normal(0, 1, (ny, nx))\n",
    "A = A.T @ A\n",
    "Aop = pylops.MatrixMult(A)\n",
    "y = A @ x\n",
    "\n",
    "Dop = pylops.FirstDerivative(50)"
   ]
  },
  {
   "cell_type": "code",
   "execution_count": 43,
   "id": "0e319c27",
   "metadata": {},
   "outputs": [
    {
     "name": "stdout",
     "output_type": "stream",
     "text": [
      "RegularizedInversion\n",
      "-----------------------------------------------------------------\n",
      "The Operator Op has 50 rows and 50 cols\n",
      "Regs=[<50x50 FirstDerivative with dtype=float64>]\n",
      "epsRs=[0.1]\n",
      "-----------------------------------------------------------------\n",
      " \n",
      "LSQR            Least-squares solution of  Ax = b\n",
      "The matrix A has 100 rows and 50 columns\n",
      "damp = 0.00000000000000e+00   calc_var =        0\n",
      "atol = 1.00e-06                 conlim = 1.00e+08\n",
      "btol = 1.00e-06               iter_lim =       20\n",
      " \n",
      "   Itn      x[0]       r1norm     r2norm   Compatible    LS      Norm A   Cond A\n",
      "     0  0.00000e+00   8.830e+02  8.830e+02    1.0e+00  2.2e-01\n",
      "     1 -2.57946e-01   4.737e+02  4.737e+02    5.4e-01  6.3e-01   2.3e+02  1.0e+00\n",
      "     2 -1.34239e-01   3.132e+02  3.132e+02    3.5e-01  4.0e-01   3.2e+02  2.2e+00\n",
      "     3  2.03611e-01   2.172e+02  2.172e+02    2.5e-01  3.0e-01   3.8e+02  3.7e+00\n",
      "     4  2.86691e-01   1.370e+02  1.370e+02    1.6e-01  2.6e-01   4.2e+02  5.4e+00\n",
      "     5  3.82437e-01   1.026e+02  1.026e+02    1.2e-01  2.0e-01   4.6e+02  6.9e+00\n",
      "     6  5.16525e-01   8.349e+01  8.349e+01    9.5e-02  1.6e-01   5.0e+02  8.5e+00\n",
      "     7  6.72168e-01   7.200e+01  7.200e+01    8.2e-02  1.4e-01   5.3e+02  1.0e+01\n",
      "     8  7.94519e-01   6.039e+01  6.039e+01    6.8e-02  1.1e-01   5.6e+02  1.2e+01\n",
      "     9  8.76584e-01   5.201e+01  5.201e+01    5.9e-02  1.0e-01   5.9e+02  1.5e+01\n",
      "    10  9.58699e-01   4.402e+01  4.402e+01    5.0e-02  1.1e-01   6.1e+02  1.7e+01\n",
      "    11  1.00495e+00   3.767e+01  3.767e+01    4.3e-02  9.3e-02   6.3e+02  2.0e+01\n",
      "    12  1.01622e+00   3.327e+01  3.327e+01    3.8e-02  9.4e-02   6.5e+02  2.2e+01\n",
      "    13  1.03197e+00   2.874e+01  2.874e+01    3.3e-02  8.6e-02   6.7e+02  2.5e+01\n",
      "    14  1.05206e+00   2.332e+01  2.332e+01    2.6e-02  7.9e-02   6.8e+02  2.8e+01\n",
      "    15  1.06848e+00   1.835e+01  1.835e+01    2.1e-02  7.6e-02   6.9e+02  3.2e+01\n",
      "    16  1.08161e+00   1.590e+01  1.590e+01    1.8e-02  6.0e-02   7.0e+02  3.4e+01\n",
      "    17  1.09370e+00   1.469e+01  1.469e+01    1.7e-02  6.5e-02   7.1e+02  3.6e+01\n",
      "    18  1.11166e+00   1.267e+01  1.267e+01    1.4e-02  8.0e-02   7.3e+02  4.0e+01\n",
      "    19  1.12556e+00   1.077e+01  1.077e+01    1.2e-02  5.9e-02   7.4e+02  4.3e+01\n",
      "    20  1.12583e+00   9.601e+00  9.601e+00    1.1e-02  5.6e-02   7.5e+02  4.6e+01\n",
      " \n",
      "LSQR finished\n",
      "The iteration limit has been reached                      \n",
      " \n",
      "istop =       7   r1norm = 9.6e+00   anorm = 7.5e+02   arnorm = 4.0e+02\n",
      "itn   =      20   r2norm = 9.6e+00   acond = 4.6e+01   xnorm  = 7.0e+00\n",
      " \n",
      "\n",
      "Total time (s) = 0.00\n",
      "-----------------------------------------------------------------\n",
      "\n"
     ]
    }
   ],
   "source": [
    "nesolve = RegularizedInversion(Aop)\n",
    "\n",
    "xhist = []\n",
    "nesolve.callback = lambda x: callback(x, xhist)\n",
    "\n",
    "# scipy\n",
    "nesolve.setup(y=y, Regs=[Dop, ], dataregs=[np.zeros(nx)], \n",
    "              epsRs=[1e-1, ], show=True)\n",
    "x = nesolve.run(None, engine='scipy', show=True, **dict(iter_lim=20))[0]\n",
    "nesolve.finalize(show=True)\n",
    "xest = x.copy()"
   ]
  },
  {
   "cell_type": "code",
   "execution_count": 44,
   "id": "db528f41",
   "metadata": {},
   "outputs": [
    {
     "name": "stdout",
     "output_type": "stream",
     "text": [
      "RegularizedInversion\n",
      "-----------------------------------------------------------------\n",
      "The Operator Op has 50 rows and 50 cols\n",
      "Regs=[<50x50 FirstDerivative with dtype=float64>]\n",
      "epsRs=[0.1]\n",
      "-----------------------------------------------------------------\n",
      "CGLS\n",
      "-----------------------------------------------------------------\n",
      "The Operator Op has 100 rows and 50 cols\n",
      "damp = 0.000000e+00\ttol = 1.000000e-04\tniter = 20\n",
      "-----------------------------------------------------------------\n",
      "\n",
      "    Itn          x[0]              r1norm         r2norm\n",
      "     1       -2.5795e-01         4.7368e+02     4.7368e+02\n",
      "     2       -1.3424e-01         3.1319e+02     3.1319e+02\n",
      "     3        2.0361e-01         2.1717e+02     2.1717e+02\n",
      "     4        2.8669e-01         1.3703e+02     1.3703e+02\n",
      "     5        3.8244e-01         1.0262e+02     1.0262e+02\n",
      "     6        5.1653e-01         8.3491e+01     8.3491e+01\n",
      "     7        6.7217e-01         7.2001e+01     7.2001e+01\n",
      "     8        7.9452e-01         6.0386e+01     6.0386e+01\n",
      "     9        8.7658e-01         5.2007e+01     5.2007e+01\n",
      "    10        9.5870e-01         4.4020e+01     4.4020e+01\n",
      "    11        1.0049e+00         3.7673e+01     3.7673e+01\n",
      "    12        1.0162e+00         3.3271e+01     3.3271e+01\n",
      "    13        1.0320e+00         2.8739e+01     2.8739e+01\n",
      "    14        1.0521e+00         2.3316e+01     2.3316e+01\n",
      "    15        1.0685e+00         1.8351e+01     1.8351e+01\n",
      "    16        1.0816e+00         1.5902e+01     1.5902e+01\n",
      "    17        1.0937e+00         1.4692e+01     1.4692e+01\n",
      "    18        1.1117e+00         1.2666e+01     1.2666e+01\n",
      "    19        1.1256e+00         1.0766e+01     1.0766e+01\n",
      "    20        1.1258e+00         9.6014e+00     9.6014e+00\n",
      "\n",
      "Iterations = 20        Total time (s) = 0.00\n",
      "-----------------------------------------------------------------\n",
      "\n"
     ]
    }
   ],
   "source": [
    "# pylops\n",
    "nesolve.setup(y=y, Regs=[Dop, ], dataregs=[np.zeros(nx)], \n",
    "              epsRs=[1e-1, ], show=True)\n",
    "x = nesolve.run(None, engine='pylops', show=True, **dict(niter=20))[0]\n",
    "nesolve.finalize(True)\n",
    "xestpylops = x.copy()"
   ]
  },
  {
   "cell_type": "code",
   "execution_count": 45,
   "id": "32274c88",
   "metadata": {},
   "outputs": [],
   "source": [
    "xest1 = regularized_inversion_old(Aop, Regs=[Dop, ], data=y, dataregs=[np.zeros(nx)], \n",
    "                                  epsRs=[1e-1, ], x0=np.zeros(nx), **dict(iter_lim=20))"
   ]
  },
  {
   "cell_type": "code",
   "execution_count": 46,
   "id": "44288a3d",
   "metadata": {},
   "outputs": [
    {
     "data": {
      "text/plain": [
       "(array([0., 0., 0., 0., 0., 0., 0., 0., 0., 0., 0., 0., 0., 0., 0., 0., 0.,\n",
       "        0., 0., 0., 0., 0., 0., 0., 0., 0., 0., 0., 0., 0., 0., 0., 0., 0.,\n",
       "        0., 0., 0., 0., 0., 0., 0., 0., 0., 0., 0., 0., 0., 0., 0., 0.]),\n",
       " array([ 1.49180828e-08,  2.50765531e-09, -6.46652489e-08, -1.06514697e-07,\n",
       "         4.42576842e-09,  5.87791417e-08,  8.27596625e-09,  1.11991994e-07,\n",
       "        -1.04288159e-07, -3.66113471e-08,  1.68816791e-08,  3.62010961e-08,\n",
       "        -1.34003192e-08,  3.83251701e-08, -2.28128132e-08,  2.49854195e-08,\n",
       "         9.34965662e-08,  7.16033048e-08,  1.96797678e-07,  4.79914932e-08,\n",
       "         2.85160069e-08, -6.57530230e-09,  1.17992573e-08,  4.07768408e-09,\n",
       "        -8.64953382e-08, -5.76993839e-08,  4.36274763e-08,  8.68940793e-08,\n",
       "         9.95511273e-09,  3.50116829e-08, -7.67851577e-08,  1.25712340e-07,\n",
       "         4.41612173e-08, -3.10368071e-08, -6.26069023e-08, -1.01797475e-08,\n",
       "        -8.67902092e-08,  1.87567588e-08, -2.58008372e-08, -7.47289888e-08,\n",
       "         9.90927906e-08,  1.11579348e-07,  4.62937123e-08, -7.61231733e-08,\n",
       "         4.90737961e-09,  1.69365859e-07,  5.31574162e-09, -4.57720327e-08,\n",
       "        -5.82698707e-08,  2.71684792e-08]))"
      ]
     },
     "execution_count": 46,
     "metadata": {},
     "output_type": "execute_result"
    }
   ],
   "source": [
    "xest-xest1, xestpylops-xest1"
   ]
  },
  {
   "cell_type": "code",
   "execution_count": 47,
   "id": "0b90da1b",
   "metadata": {},
   "outputs": [
    {
     "data": {
      "text/plain": [
       "[<matplotlib.lines.Line2D at 0x17c4cefd0>]"
      ]
     },
     "execution_count": 47,
     "metadata": {},
     "output_type": "execute_result"
    },
    {
     "data": {
      "image/png": "[encoded data removed]",
      "text/plain": [
       "<Figure size 800x600 with 1 Axes>"
      ]
     },
     "metadata": {},
     "output_type": "display_data"
    }
   ],
   "source": [
    "plt.plot(xest)\n",
    "plt.plot(xestpylops)"
   ]
  },
  {
   "cell_type": "code",
   "execution_count": 48,
   "id": "b0147588",
   "metadata": {},
   "outputs": [
    {
     "name": "stdout",
     "output_type": "stream",
     "text": [
      "RegularizedInversion\n",
      "-----------------------------------------------------------------\n",
      "The Operator Op has 50 rows and 50 cols\n",
      "Regs=[<50x50 FirstDerivative with dtype=float64>, <50x50 FirstDerivative with dtype=float64>]\n",
      "epsRs=[0.1, 0.01]\n",
      "-----------------------------------------------------------------\n",
      "CGLS\n",
      "-----------------------------------------------------------------\n",
      "The Operator Op has 150 rows and 50 cols\n",
      "damp = 0.000000e+00\ttol = 1.000000e-04\tniter = 20\n",
      "-----------------------------------------------------------------\n",
      "\n",
      "    Itn          x[0]              r1norm         r2norm\n",
      "     1       -2.5795e-01         4.7368e+02     4.7368e+02\n",
      "     2       -1.3424e-01         3.1319e+02     3.1319e+02\n",
      "     3        2.0361e-01         2.1717e+02     2.1717e+02\n",
      "     4        2.8669e-01         1.3703e+02     1.3703e+02\n",
      "     5        3.8244e-01         1.0262e+02     1.0262e+02\n",
      "     6        5.1653e-01         8.3491e+01     8.3491e+01\n",
      "     7        6.7217e-01         7.2001e+01     7.2001e+01\n",
      "     8        7.9452e-01         6.0386e+01     6.0386e+01\n",
      "     9        8.7658e-01         5.2007e+01     5.2007e+01\n",
      "    10        9.5870e-01         4.4020e+01     4.4020e+01\n",
      "    11        1.0049e+00         3.7673e+01     3.7673e+01\n",
      "    12        1.0162e+00         3.3271e+01     3.3271e+01\n",
      "    13        1.0320e+00         2.8739e+01     2.8739e+01\n",
      "    14        1.0521e+00         2.3316e+01     2.3316e+01\n",
      "    15        1.0685e+00         1.8351e+01     1.8351e+01\n",
      "    16        1.0816e+00         1.5902e+01     1.5902e+01\n",
      "    17        1.0937e+00         1.4692e+01     1.4692e+01\n",
      "    18        1.1117e+00         1.2666e+01     1.2666e+01\n",
      "    19        1.1256e+00         1.0766e+01     1.0766e+01\n",
      "    20        1.1258e+00         9.6014e+00     9.6014e+00\n",
      "\n",
      "Iterations = 20        Total time (s) = 0.00\n",
      "-----------------------------------------------------------------\n",
      "\n"
     ]
    }
   ],
   "source": [
    "nesolve = RegularizedInversion(Aop)\n",
    "\n",
    "xest1 = nesolve.solve(y=y, Regs=[Dop, Dop], dataregs=[np.zeros(nx), np.zeros(nx)], \n",
    "                  epsRs=[1e-1, 1e-2], x0=np.zeros(nx), \n",
    "                  engine='pylops', show=True, **dict(niter=20))[0]"
   ]
  },
  {
   "cell_type": "code",
   "execution_count": 49,
   "id": "1a63d186",
   "metadata": {},
   "outputs": [
    {
     "name": "stdout",
     "output_type": "stream",
     "text": [
      "RegularizedInversion\n",
      "-----------------------------------------------------------------\n",
      "The Operator Op has 50 rows and 50 cols\n",
      "Regs=[<50x50 FirstDerivative with dtype=float64>, <50x50 FirstDerivative with dtype=float64>]\n",
      "epsRs=[0.1, 0.01]\n",
      "-----------------------------------------------------------------\n",
      "CGLS\n",
      "-----------------------------------------------------------------\n",
      "The Operator Op has 150 rows and 50 cols\n",
      "damp = 0.000000e+00\ttol = 1.000000e-04\tniter = 20\n",
      "-----------------------------------------------------------------\n",
      "\n",
      "    Itn          x[0]              r1norm         r2norm\n",
      "     1       -2.5795e-01         4.7368e+02     4.7368e+02\n",
      "     2       -1.3424e-01         3.1319e+02     3.1319e+02\n",
      "     3        2.0361e-01         2.1717e+02     2.1717e+02\n",
      "     4        2.8669e-01         1.3703e+02     1.3703e+02\n",
      "     5        3.8244e-01         1.0262e+02     1.0262e+02\n",
      "     6        5.1653e-01         8.3491e+01     8.3491e+01\n",
      "     7        6.7217e-01         7.2001e+01     7.2001e+01\n",
      "     8        7.9452e-01         6.0386e+01     6.0386e+01\n",
      "     9        8.7658e-01         5.2007e+01     5.2007e+01\n",
      "    10        9.5870e-01         4.4020e+01     4.4020e+01\n",
      "    11        1.0049e+00         3.7673e+01     3.7673e+01\n",
      "    12        1.0162e+00         3.3271e+01     3.3271e+01\n",
      "    13        1.0320e+00         2.8739e+01     2.8739e+01\n",
      "    14        1.0521e+00         2.3316e+01     2.3316e+01\n",
      "    15        1.0685e+00         1.8351e+01     1.8351e+01\n",
      "    16        1.0816e+00         1.5902e+01     1.5902e+01\n",
      "    17        1.0937e+00         1.4692e+01     1.4692e+01\n",
      "    18        1.1117e+00         1.2666e+01     1.2666e+01\n",
      "    19        1.1256e+00         1.0766e+01     1.0766e+01\n",
      "    20        1.1258e+00         9.6014e+00     9.6014e+00\n",
      "\n",
      "Iterations = 20        Total time (s) = 0.00\n",
      "-----------------------------------------------------------------\n",
      "\n"
     ]
    }
   ],
   "source": [
    "xest2 = regularized_inversion(Aop, y=y, Regs=[Dop, Dop], dataregs=[np.zeros(nx), np.zeros(nx)],\n",
    "                              epsRs=[1e-1, 1e-2], x0=np.zeros(nx), engine='pylops', \n",
    "                              **dict(niter=20, show=True))[0]"
   ]
  },
  {
   "cell_type": "code",
   "execution_count": 50,
   "id": "46efb694",
   "metadata": {},
   "outputs": [
    {
     "data": {
      "text/plain": [
       "array([0., 0., 0., 0., 0., 0., 0., 0., 0., 0., 0., 0., 0., 0., 0., 0., 0.,\n",
       "       0., 0., 0., 0., 0., 0., 0., 0., 0., 0., 0., 0., 0., 0., 0., 0., 0.,\n",
       "       0., 0., 0., 0., 0., 0., 0., 0., 0., 0., 0., 0., 0., 0., 0., 0.])"
      ]
     },
     "execution_count": 50,
     "metadata": {},
     "output_type": "execute_result"
    }
   ],
   "source": [
    "xest1-xest2"
   ]
  },
  {
   "cell_type": "markdown",
   "id": "442941f8",
   "metadata": {},
   "source": [
    "# Preconditioned Inversion"
   ]
  },
  {
   "cell_type": "code",
   "execution_count": 51,
   "id": "9552fce4",
   "metadata": {},
   "outputs": [],
   "source": [
    "np.random.seed(1)\n",
    "ny, nx = 100, 50\n",
    "x = np.ones(nx)\n",
    "A = np.random.normal(0, 1, (ny, nx))\n",
    "A = A.T @ A\n",
    "Aop = pylops.MatrixMult(A)\n",
    "y = A @ x\n",
    "\n",
    "Sop = pylops.Smoothing1D(5, 50)"
   ]
  },
  {
   "cell_type": "code",
   "execution_count": 52,
   "id": "dcf12915",
   "metadata": {},
   "outputs": [
    {
     "name": "stdout",
     "output_type": "stream",
     "text": [
      "PreconditionedInversion\n",
      "-----------------------------------------------------------------\n",
      "The Operator Op has 50 rows and 50 cols\n",
      "Prec=<50x50 Smoothing1D with dtype=float64>\n",
      "-----------------------------------------------------------------\n",
      " \n",
      "LSQR            Least-squares solution of  Ax = b\n",
      "The matrix A has 50 rows and 50 columns\n",
      "damp = 0.00000000000000e+00   calc_var =        0\n",
      "atol = 1.00e-06                 conlim = 1.00e+08\n",
      "btol = 1.00e-06               iter_lim =       20\n",
      " \n",
      "   Itn      x[0]       r1norm     r2norm   Compatible    LS      Norm A   Cond A\n",
      "     0  0.00000e+00   8.830e+02  8.830e+02    1.0e+00  1.6e-01\n",
      "     1 -3.08154e-01   2.847e+02  2.847e+02    3.2e-01  7.0e-01   1.5e+02  1.0e+00\n",
      "     2 -6.72941e-03   1.538e+02  1.538e+02    1.7e-01  3.8e-01   2.0e+02  2.1e+00\n",
      "     3  4.57448e-01   8.411e+01  8.411e+01    9.5e-02  3.2e-01   2.2e+02  3.6e+00\n",
      "     4  6.47640e-01   5.606e+01  5.606e+01    6.3e-02  2.2e-01   2.5e+02  4.9e+00\n",
      "     5  7.35499e-01   4.974e+01  4.974e+01    5.6e-02  1.4e-01   2.8e+02  6.2e+00\n",
      "     6  9.51509e-01   4.076e+01  4.076e+01    4.6e-02  1.5e-01   3.0e+02  8.5e+00\n",
      "     7  1.11535e+00   3.352e+01  3.352e+01    3.8e-02  1.1e-01   3.1e+02  1.1e+01\n",
      "     8  1.24647e+00   2.916e+01  2.916e+01    3.3e-02  9.2e-02   3.2e+02  1.3e+01\n",
      "     9  1.42169e+00   2.456e+01  2.456e+01    2.8e-02  1.0e-01   3.3e+02  1.6e+01\n",
      "    10  1.53931e+00   2.076e+01  2.076e+01    2.4e-02  8.1e-02   3.4e+02  1.9e+01\n",
      "    11  1.56117e+00   1.922e+01  1.922e+01    2.2e-02  5.2e-02   3.5e+02  2.1e+01\n",
      "    12  1.58710e+00   1.826e+01  1.826e+01    2.1e-02  4.6e-02   3.6e+02  2.3e+01\n",
      "    13  1.61894e+00   1.621e+01  1.621e+01    1.8e-02  4.6e-02   3.7e+02  2.8e+01\n",
      "    14  1.62567e+00   1.474e+01  1.474e+01    1.7e-02  4.0e-02   3.7e+02  3.3e+01\n",
      "    15  1.64215e+00   1.370e+01  1.370e+01    1.6e-02  3.1e-02   3.7e+02  3.6e+01\n",
      "    16  1.65974e+00   1.273e+01  1.273e+01    1.4e-02  2.2e-02   3.8e+02  4.1e+01\n",
      "    17  1.66297e+00   1.143e+01  1.143e+01    1.3e-02  3.1e-02   3.8e+02  5.1e+01\n",
      "    18  1.68533e+00   1.055e+01  1.055e+01    1.2e-02  2.0e-02   3.8e+02  5.7e+01\n",
      "    19  1.68660e+00   1.051e+01  1.051e+01    1.2e-02  2.7e-02   3.9e+02  5.9e+01\n",
      "    20  1.69601e+00   1.009e+01  1.009e+01    1.1e-02  1.2e-02   4.1e+02  6.8e+01\n",
      " \n",
      "LSQR finished\n",
      "The iteration limit has been reached                      \n",
      " \n",
      "istop =       7   r1norm = 1.0e+01   anorm = 4.1e+02   arnorm = 4.9e+01\n",
      "itn   =      20   r2norm = 1.0e+01   acond = 6.8e+01   xnorm  = 7.7e+00\n",
      " \n",
      "\n",
      "Total time (s) = 0.00\n",
      "-----------------------------------------------------------------\n",
      "\n"
     ]
    }
   ],
   "source": [
    "psolve = PreconditionedInversion(Aop)\n",
    "\n",
    "xhist = []\n",
    "psolve.callback = lambda x: callback(x, xhist)\n",
    "\n",
    "# scipy\n",
    "psolve.setup(y=y, P=Sop, show=True)\n",
    "x = psolve.run(None, engine='scipy', show=True, **dict(iter_lim=20))[0]\n",
    "psolve.finalize(show=True)\n",
    "xest = x.copy()"
   ]
  },
  {
   "cell_type": "code",
   "execution_count": 53,
   "id": "08f89594",
   "metadata": {},
   "outputs": [
    {
     "name": "stdout",
     "output_type": "stream",
     "text": [
      "PreconditionedInversion\n",
      "-----------------------------------------------------------------\n",
      "The Operator Op has 50 rows and 50 cols\n",
      "Prec=<50x50 Smoothing1D with dtype=float64>\n",
      "-----------------------------------------------------------------\n",
      "CGLS\n",
      "-----------------------------------------------------------------\n",
      "The Operator Op has 50 rows and 50 cols\n",
      "damp = 0.000000e+00\ttol = 1.000000e-04\tniter = 20\n",
      "-----------------------------------------------------------------\n",
      "\n",
      "    Itn          x[0]              r1norm         r2norm\n",
      "     1       -3.0815e-01         2.8474e+02     2.8474e+02\n",
      "     2       -6.7294e-03         1.5380e+02     1.5380e+02\n",
      "     3        4.5745e-01         8.4107e+01     8.4107e+01\n",
      "     4        6.4764e-01         5.6063e+01     5.6063e+01\n",
      "     5        7.3550e-01         4.9738e+01     4.9738e+01\n",
      "     6        9.5151e-01         4.0758e+01     4.0758e+01\n",
      "     7        1.1153e+00         3.3517e+01     3.3517e+01\n",
      "     8        1.2465e+00         2.9155e+01     2.9155e+01\n",
      "     9        1.4217e+00         2.4561e+01     2.4561e+01\n",
      "    10        1.5393e+00         2.0756e+01     2.0756e+01\n",
      "    11        1.5612e+00         1.9224e+01     1.9224e+01\n",
      "    12        1.5871e+00         1.8262e+01     1.8262e+01\n",
      "    13        1.6189e+00         1.6215e+01     1.6215e+01\n",
      "    14        1.6257e+00         1.4739e+01     1.4739e+01\n",
      "    15        1.6421e+00         1.3703e+01     1.3703e+01\n",
      "    16        1.6597e+00         1.2734e+01     1.2734e+01\n",
      "    17        1.6630e+00         1.1430e+01     1.1430e+01\n",
      "    18        1.6856e+00         1.0543e+01     1.0543e+01\n",
      "    19        1.6959e+00         1.0098e+01     1.0098e+01\n",
      "    20        1.6984e+00         9.8462e+00     9.8462e+00\n",
      "\n",
      "Iterations = 20        Total time (s) = 0.00\n",
      "-----------------------------------------------------------------\n",
      "\n"
     ]
    }
   ],
   "source": [
    "# pylops\n",
    "psolve.setup(y=y, P=Sop, show=True)\n",
    "x = psolve.run(None, engine='pylops', show=True, **dict(niter=20))[0]\n",
    "psolve.finalize(True)\n",
    "xestpylops = x.copy()"
   ]
  },
  {
   "cell_type": "code",
   "execution_count": 54,
   "id": "03f76adf",
   "metadata": {},
   "outputs": [
    {
     "data": {
      "text/plain": [
       "array([-4.45958565e-03,  3.92073476e-04,  2.77978831e-03, -5.58055687e-03,\n",
       "       -6.46259702e-03,  3.25852023e-04, -2.18345695e-03, -1.26402510e-03,\n",
       "        5.87314174e-03,  1.10853554e-03, -4.41655465e-03, -8.08885789e-04,\n",
       "        9.16698982e-04,  2.56764381e-03,  2.47681276e-03,  3.15254137e-03,\n",
       "       -1.23213441e-03, -8.78235109e-03, -5.07809090e-04,  4.88392229e-03,\n",
       "        5.74158996e-03, -9.80156025e-05,  3.37065611e-03, -5.76784558e-03,\n",
       "       -4.45893995e-03,  3.37884797e-03,  2.55193343e-03,  6.45999565e-03,\n",
       "        4.83535942e-03,  8.79562488e-03,  4.25810220e-04,  3.86380638e-03,\n",
       "        1.44724523e-03,  4.71690572e-03, -2.10237313e-04,  6.32942563e-05,\n",
       "       -7.23222420e-04, -2.21931013e-03,  5.64310827e-04,  2.63485627e-03,\n",
       "        6.12695467e-03,  8.52660276e-03,  3.33922067e-03,  2.76654723e-03,\n",
       "       -8.05884484e-04, -1.22669571e-02, -1.15817247e-03,  9.95508508e-04,\n",
       "       -1.95222968e-03, -1.58868580e-03])"
      ]
     },
     "execution_count": 54,
     "metadata": {},
     "output_type": "execute_result"
    }
   ],
   "source": [
    "xest-xestpylops"
   ]
  },
  {
   "cell_type": "code",
   "execution_count": 55,
   "id": "4c4c3467",
   "metadata": {},
   "outputs": [],
   "source": [
    "xest1 = preconditioned_inversion_old(Aop, Sop, data=y, x0=np.zeros(nx), **dict(iter_lim=20))"
   ]
  },
  {
   "cell_type": "code",
   "execution_count": 56,
   "id": "f895434d",
   "metadata": {},
   "outputs": [
    {
     "data": {
      "text/plain": [
       "(array([0., 0., 0., 0., 0., 0., 0., 0., 0., 0., 0., 0., 0., 0., 0., 0., 0.,\n",
       "        0., 0., 0., 0., 0., 0., 0., 0., 0., 0., 0., 0., 0., 0., 0., 0., 0.,\n",
       "        0., 0., 0., 0., 0., 0., 0., 0., 0., 0., 0., 0., 0., 0., 0., 0.]),\n",
       " array([ 4.45958565e-03, -3.92073476e-04, -2.77978831e-03,  5.58055687e-03,\n",
       "         6.46259702e-03, -3.25852023e-04,  2.18345695e-03,  1.26402510e-03,\n",
       "        -5.87314174e-03, -1.10853554e-03,  4.41655465e-03,  8.08885789e-04,\n",
       "        -9.16698982e-04, -2.56764381e-03, -2.47681276e-03, -3.15254137e-03,\n",
       "         1.23213441e-03,  8.78235109e-03,  5.07809090e-04, -4.88392229e-03,\n",
       "        -5.74158996e-03,  9.80156025e-05, -3.37065611e-03,  5.76784558e-03,\n",
       "         4.45893995e-03, -3.37884797e-03, -2.55193343e-03, -6.45999565e-03,\n",
       "        -4.83535942e-03, -8.79562488e-03, -4.25810220e-04, -3.86380638e-03,\n",
       "        -1.44724523e-03, -4.71690572e-03,  2.10237313e-04, -6.32942563e-05,\n",
       "         7.23222420e-04,  2.21931013e-03, -5.64310827e-04, -2.63485627e-03,\n",
       "        -6.12695467e-03, -8.52660276e-03, -3.33922067e-03, -2.76654723e-03,\n",
       "         8.05884484e-04,  1.22669571e-02,  1.15817247e-03, -9.95508508e-04,\n",
       "         1.95222968e-03,  1.58868580e-03]))"
      ]
     },
     "execution_count": 56,
     "metadata": {},
     "output_type": "execute_result"
    }
   ],
   "source": [
    "xest-xest1, xestpylops-xest1"
   ]
  },
  {
   "cell_type": "code",
   "execution_count": 57,
   "id": "bfda2d02",
   "metadata": {},
   "outputs": [
    {
     "data": {
      "text/plain": [
       "[<matplotlib.lines.Line2D at 0x17d679f90>]"
      ]
     },
     "execution_count": 57,
     "metadata": {},
     "output_type": "execute_result"
    },
    {
     "data": {
      "image/png": "[encoded data removed]",
      "text/plain": [
       "<Figure size 800x600 with 1 Axes>"
      ]
     },
     "metadata": {},
     "output_type": "display_data"
    }
   ],
   "source": [
    "plt.plot(xest)\n",
    "plt.plot(xestpylops)"
   ]
  },
  {
   "cell_type": "code",
   "execution_count": 58,
   "id": "0addabf8",
   "metadata": {},
   "outputs": [
    {
     "name": "stdout",
     "output_type": "stream",
     "text": [
      "PreconditionedInversion\n",
      "-----------------------------------------------------------------\n",
      "The Operator Op has 50 rows and 50 cols\n",
      "Prec=<50x50 Smoothing1D with dtype=float64>\n",
      "-----------------------------------------------------------------\n",
      "CGLS\n",
      "-----------------------------------------------------------------\n",
      "The Operator Op has 50 rows and 50 cols\n",
      "damp = 0.000000e+00\ttol = 1.000000e-04\tniter = 20\n",
      "-----------------------------------------------------------------\n",
      "\n",
      "    Itn          x[0]              r1norm         r2norm\n",
      "     1       -3.0815e-01         2.8474e+02     2.8474e+02\n",
      "     2       -6.7294e-03         1.5380e+02     1.5380e+02\n",
      "     3        4.5745e-01         8.4107e+01     8.4107e+01\n",
      "     4        6.4764e-01         5.6063e+01     5.6063e+01\n",
      "     5        7.3550e-01         4.9738e+01     4.9738e+01\n",
      "     6        9.5151e-01         4.0758e+01     4.0758e+01\n",
      "     7        1.1153e+00         3.3517e+01     3.3517e+01\n",
      "     8        1.2465e+00         2.9155e+01     2.9155e+01\n",
      "     9        1.4217e+00         2.4561e+01     2.4561e+01\n",
      "    10        1.5393e+00         2.0756e+01     2.0756e+01\n",
      "    11        1.5612e+00         1.9224e+01     1.9224e+01\n",
      "    12        1.5871e+00         1.8262e+01     1.8262e+01\n",
      "    13        1.6189e+00         1.6215e+01     1.6215e+01\n",
      "    14        1.6257e+00         1.4739e+01     1.4739e+01\n",
      "    15        1.6421e+00         1.3703e+01     1.3703e+01\n",
      "    16        1.6597e+00         1.2734e+01     1.2734e+01\n",
      "    17        1.6630e+00         1.1430e+01     1.1430e+01\n",
      "    18        1.6856e+00         1.0543e+01     1.0543e+01\n",
      "    19        1.6959e+00         1.0098e+01     1.0098e+01\n",
      "    20        1.6984e+00         9.8462e+00     9.8462e+00\n",
      "\n",
      "Iterations = 20        Total time (s) = 0.00\n",
      "-----------------------------------------------------------------\n",
      "\n"
     ]
    }
   ],
   "source": [
    "nesolve = PreconditionedInversion(Aop)\n",
    "\n",
    "xest1 = nesolve.solve(y=y, P=Sop, x0=np.zeros(nx), \n",
    "                      engine='pylops', **dict(niter=20, show=True))[0]"
   ]
  },
  {
   "cell_type": "code",
   "execution_count": 59,
   "id": "b472854d",
   "metadata": {},
   "outputs": [
    {
     "name": "stdout",
     "output_type": "stream",
     "text": [
      "PreconditionedInversion\n",
      "-----------------------------------------------------------------\n",
      "The Operator Op has 50 rows and 50 cols\n",
      "Prec=<50x50 Smoothing1D with dtype=float64>\n",
      "-----------------------------------------------------------------\n",
      "CGLS\n",
      "-----------------------------------------------------------------\n",
      "The Operator Op has 50 rows and 50 cols\n",
      "damp = 0.000000e+00\ttol = 1.000000e-04\tniter = 20\n",
      "-----------------------------------------------------------------\n",
      "\n",
      "    Itn          x[0]              r1norm         r2norm\n",
      "     1       -3.0815e-01         2.8474e+02     2.8474e+02\n",
      "     2       -6.7294e-03         1.5380e+02     1.5380e+02\n",
      "     3        4.5745e-01         8.4107e+01     8.4107e+01\n",
      "     4        6.4764e-01         5.6063e+01     5.6063e+01\n",
      "     5        7.3550e-01         4.9738e+01     4.9738e+01\n",
      "     6        9.5151e-01         4.0758e+01     4.0758e+01\n",
      "     7        1.1153e+00         3.3517e+01     3.3517e+01\n",
      "     8        1.2465e+00         2.9155e+01     2.9155e+01\n",
      "     9        1.4217e+00         2.4561e+01     2.4561e+01\n",
      "    10        1.5393e+00         2.0756e+01     2.0756e+01\n",
      "    11        1.5612e+00         1.9224e+01     1.9224e+01\n",
      "    12        1.5871e+00         1.8262e+01     1.8262e+01\n",
      "    13        1.6189e+00         1.6215e+01     1.6215e+01\n",
      "    14        1.6257e+00         1.4739e+01     1.4739e+01\n",
      "    15        1.6421e+00         1.3703e+01     1.3703e+01\n",
      "    16        1.6597e+00         1.2734e+01     1.2734e+01\n",
      "    17        1.6630e+00         1.1430e+01     1.1430e+01\n",
      "    18        1.6856e+00         1.0543e+01     1.0543e+01\n",
      "    19        1.6959e+00         1.0098e+01     1.0098e+01\n",
      "    20        1.6984e+00         9.8462e+00     9.8462e+00\n",
      "\n",
      "Iterations = 20        Total time (s) = 0.00\n",
      "-----------------------------------------------------------------\n",
      "\n"
     ]
    }
   ],
   "source": [
    "xest2 = preconditioned_inversion(Aop, y=y, P=Sop,  x0=np.zeros(nx), engine='pylops', \n",
    "                              **dict(niter=20, show=True))[0]"
   ]
  },
  {
   "cell_type": "code",
   "execution_count": 60,
   "id": "44511277",
   "metadata": {},
   "outputs": [
    {
     "data": {
      "text/plain": [
       "array([0., 0., 0., 0., 0., 0., 0., 0., 0., 0., 0., 0., 0., 0., 0., 0., 0.,\n",
       "       0., 0., 0., 0., 0., 0., 0., 0., 0., 0., 0., 0., 0., 0., 0., 0., 0.,\n",
       "       0., 0., 0., 0., 0., 0., 0., 0., 0., 0., 0., 0., 0., 0., 0., 0.])"
      ]
     },
     "execution_count": 60,
     "metadata": {},
     "output_type": "execute_result"
    }
   ],
   "source": [
    "xest1-xest2"
   ]
  },
  {
   "cell_type": "markdown",
   "id": "421ccc7d",
   "metadata": {},
   "source": [
    "# ISTA"
   ]
  },
  {
   "cell_type": "code",
   "execution_count": 61,
   "id": "aa9c58d7",
   "metadata": {},
   "outputs": [],
   "source": [
    "np.random.seed(1)\n",
    "ny, nx = 100, 50\n",
    "\n",
    "x = np.zeros(nx)\n",
    "x[nx // 2] = 1\n",
    "x[3] = 1\n",
    "x[nx - 4] = -1\n",
    "\n",
    "A = np.random.normal(0, 1, (ny, nx))\n",
    "Aop = pylops.MatrixMult(A)\n",
    "y = Aop * x\n",
    "\n",
    "eps = 0.5\n",
    "perc = 30\n",
    "maxit = 2000"
   ]
  },
  {
   "cell_type": "code",
   "execution_count": 62,
   "id": "c1dd50aa",
   "metadata": {},
   "outputs": [
    {
     "name": "stdout",
     "output_type": "stream",
     "text": [
      "ISTA (soft thresholding)\n",
      "--------------------------------------------------------------------------------\n",
      "The Operator Op has 100 rows and 50 cols\n",
      "eps = 5.000000e-01\ttol = 0.000000e+00\tniter = 2000\n",
      "alpha = 3.546044e-03\tthresh = 8.865109e-04\n",
      "--------------------------------------------------------------------------------\n",
      "   Itn          x[0]              r2norm     r12norm     xupdate\n",
      "     1      -5.7204e-02         1.853e+02   1.873e+02   9.027e-01\n",
      "     2      -6.8699e-02         3.709e+01   3.942e+01   3.121e-01\n",
      "     3      -6.6018e-02         1.613e+01   1.852e+01   1.703e-01\n",
      "     4      -5.9575e-02         9.384e+00   1.176e+01   1.127e-01\n",
      "     5      -5.2467e-02         6.301e+00   8.630e+00   8.334e-02\n",
      "     6      -4.5670e-02         4.580e+00   6.850e+00   6.608e-02\n",
      "     7      -3.9289e-02         3.487e+00   5.696e+00   5.484e-02\n",
      "     8      -3.3378e-02         2.734e+00   4.887e+00   4.673e-02\n",
      "     9      -2.7858e-02         2.186e+00   4.286e+00   4.076e-02\n",
      "    10      -2.2860e-02         1.771e+00   3.824e+00   3.594e-02\n",
      "    11      -1.8486e-02         1.449e+00   3.460e+00   3.206e-02\n",
      "    21       0.0000e+00         2.454e-01   1.980e+00   1.336e-02\n",
      "    31      -0.0000e+00         4.279e-02   1.619e+00   7.001e-03\n",
      "    41      -0.0000e+00         5.928e-03   1.506e+00   3.315e-03\n",
      "    51      -0.0000e+00         9.199e-04   1.498e+00   1.556e-04\n",
      "    61      -0.0000e+00         7.967e-04   1.498e+00   5.292e-06\n",
      "    71      -0.0000e+00         7.933e-04   1.498e+00   1.838e-07\n",
      "    81      -0.0000e+00         7.932e-04   1.498e+00   6.421e-09\n",
      "    91      -0.0000e+00         7.932e-04   1.498e+00   2.246e-10\n",
      "   101      -0.0000e+00         7.932e-04   1.498e+00   7.859e-12\n",
      "   111      -0.0000e+00         7.932e-04   1.498e+00   2.750e-13\n",
      "   121      -0.0000e+00         7.932e-04   1.498e+00   9.623e-15\n",
      "   131      -0.0000e+00         7.932e-04   1.498e+00   3.682e-16\n",
      "\n",
      "Iterations = 137        Total time (s) = 0.00\n",
      "--------------------------------------------------------------------------------\n",
      "\n"
     ]
    }
   ],
   "source": [
    "istasolve = ISTA(Aop)\n",
    "\n",
    "xhist = []\n",
    "istasolve.callback = lambda x: callback(x, xhist)\n",
    "\n",
    "x = istasolve.setup(y=y, niter=maxit, eps=eps, tol=0, show=True)\n",
    "x = istasolve.run(x, show=True)\n",
    "istasolve.finalize(show=True)\n",
    "xinv = x.copy()"
   ]
  },
  {
   "cell_type": "code",
   "execution_count": 63,
   "id": "237576d6",
   "metadata": {},
   "outputs": [
    {
     "name": "stdout",
     "output_type": "stream",
     "text": [
      "ISTA (soft thresholding)\n",
      "--------------------------------------------------------------------------------\n",
      "The Operator Op has 100 rows and 50 cols\n",
      "eps = 5.000000e-01\ttol = 0.000000e+00\tniter = 2000\n",
      "alpha = 3.546044e-03\tthresh = 8.865109e-04\n",
      "--------------------------------------------------------------------------------\n",
      "   Itn          x[0]              r2norm     r12norm     xupdate\n",
      "     1      -5.7204e-02         1.853e+02   1.873e+02   9.027e-01\n",
      "     2      -6.8699e-02         3.709e+01   3.942e+01   3.121e-01\n",
      "     3      -6.6018e-02         1.613e+01   1.852e+01   1.703e-01\n",
      "     4      -5.9575e-02         9.384e+00   1.176e+01   1.127e-01\n",
      "     5      -5.2467e-02         6.301e+00   8.630e+00   8.334e-02\n",
      "     6      -4.5670e-02         4.580e+00   6.850e+00   6.608e-02\n",
      "     7      -3.9289e-02         3.487e+00   5.696e+00   5.484e-02\n",
      "     8      -3.3378e-02         2.734e+00   4.887e+00   4.673e-02\n",
      "     9      -2.7858e-02         2.186e+00   4.286e+00   4.076e-02\n",
      "    10      -2.2860e-02         1.771e+00   3.824e+00   3.594e-02\n",
      "    11      -1.8486e-02         1.449e+00   3.460e+00   3.206e-02\n",
      "    21       0.0000e+00         2.454e-01   1.980e+00   1.336e-02\n",
      "    31      -0.0000e+00         4.279e-02   1.619e+00   7.001e-03\n",
      "    41      -0.0000e+00         5.928e-03   1.506e+00   3.315e-03\n",
      "    51      -0.0000e+00         9.199e-04   1.498e+00   1.556e-04\n",
      "    61      -0.0000e+00         7.967e-04   1.498e+00   5.292e-06\n",
      "    71      -0.0000e+00         7.933e-04   1.498e+00   1.838e-07\n",
      "    81      -0.0000e+00         7.932e-04   1.498e+00   6.421e-09\n",
      "    91      -0.0000e+00         7.932e-04   1.498e+00   2.246e-10\n",
      "   101      -0.0000e+00         7.932e-04   1.498e+00   7.859e-12\n",
      "   111      -0.0000e+00         7.932e-04   1.498e+00   2.750e-13\n",
      "   121      -0.0000e+00         7.932e-04   1.498e+00   9.623e-15\n",
      "   131      -0.0000e+00         7.932e-04   1.498e+00   3.682e-16\n",
      "\n",
      "Iterations = 137        Total time (s) = 0.00\n",
      "--------------------------------------------------------------------------------\n",
      "\n"
     ]
    }
   ],
   "source": [
    "xinv1, _, _ = ista(Aop, y, niter=maxit, eps=eps, tol=0, show=True)"
   ]
  },
  {
   "cell_type": "code",
   "execution_count": 64,
   "id": "b1349433",
   "metadata": {},
   "outputs": [
    {
     "name": "stderr",
     "output_type": "stream",
     "text": [
      "WARNING:root:update smaller that tolerance for iteration 136\n"
     ]
    },
    {
     "name": "stdout",
     "output_type": "stream",
     "text": [
      "ISTA optimization (soft thresholding)\n",
      "-----------------------------------------------------------\n",
      "The Operator Op has 100 rows and 50 cols\n",
      "eps = 5.000000e-01\ttol = 0.000000e+00\tniter = 2000\n",
      "alpha = 3.546044e-03\tthresh = 8.865109e-04\n",
      "-----------------------------------------------------------\n",
      "\n",
      "   Itn       x[0]        r2norm     r12norm     xupdate\n",
      "     1  -5.72037e-02   1.853e+02   1.873e+02   9.027e-01\n",
      "     2  -6.86987e-02   3.709e+01   3.942e+01   3.121e-01\n",
      "     3  -6.60182e-02   1.613e+01   1.852e+01   1.703e-01\n",
      "     4  -5.95750e-02   9.384e+00   1.176e+01   1.127e-01\n",
      "     5  -5.24673e-02   6.301e+00   8.630e+00   8.334e-02\n",
      "     6  -4.56698e-02   4.580e+00   6.850e+00   6.608e-02\n",
      "     7  -3.92893e-02   3.487e+00   5.696e+00   5.484e-02\n",
      "     8  -3.33785e-02   2.734e+00   4.887e+00   4.673e-02\n",
      "     9  -2.78585e-02   2.186e+00   4.286e+00   4.076e-02\n",
      "    10  -2.28595e-02   1.771e+00   3.824e+00   3.594e-02\n",
      "    11  -1.84860e-02   1.449e+00   3.460e+00   3.206e-02\n",
      "    21   0.00000e+00   2.454e-01   1.980e+00   1.336e-02\n",
      "    31  -0.00000e+00   4.279e-02   1.619e+00   7.001e-03\n",
      "    41  -0.00000e+00   5.928e-03   1.506e+00   3.315e-03\n",
      "    51  -0.00000e+00   9.199e-04   1.498e+00   1.556e-04\n",
      "    61  -0.00000e+00   7.967e-04   1.498e+00   5.292e-06\n",
      "    71  -0.00000e+00   7.933e-04   1.498e+00   1.838e-07\n",
      "    81  -0.00000e+00   7.932e-04   1.498e+00   6.421e-09\n",
      "    91  -0.00000e+00   7.932e-04   1.498e+00   2.246e-10\n",
      "   101  -0.00000e+00   7.932e-04   1.498e+00   7.859e-12\n",
      "   111  -0.00000e+00   7.932e-04   1.498e+00   2.750e-13\n",
      "   121  -0.00000e+00   7.932e-04   1.498e+00   9.644e-15\n",
      "   131  -0.00000e+00   7.932e-04   1.498e+00   3.682e-16\n",
      "\n",
      "Iterations = 136        Total time (s) = 0.01\n",
      "---------------------------------------------------------\n",
      "\n"
     ]
    }
   ],
   "source": [
    "xinv2, _ = ista_old(Aop, y, niter=maxit, eps=eps, tol=0, show=True)"
   ]
  },
  {
   "cell_type": "code",
   "execution_count": 65,
   "id": "fc400a22",
   "metadata": {},
   "outputs": [
    {
     "data": {
      "text/plain": [
       "(array([0., 0., 0., 0., 0., 0., 0., 0., 0., 0., 0., 0., 0., 0., 0., 0., 0.,\n",
       "        0., 0., 0., 0., 0., 0., 0., 0., 0., 0., 0., 0., 0., 0., 0., 0., 0.,\n",
       "        0., 0., 0., 0., 0., 0., 0., 0., 0., 0., 0., 0., 0., 0., 0., 0.]),\n",
       " array([0., 0., 0., 0., 0., 0., 0., 0., 0., 0., 0., 0., 0., 0., 0., 0., 0.,\n",
       "        0., 0., 0., 0., 0., 0., 0., 0., 0., 0., 0., 0., 0., 0., 0., 0., 0.,\n",
       "        0., 0., 0., 0., 0., 0., 0., 0., 0., 0., 0., 0., 0., 0., 0., 0.]))"
      ]
     },
     "execution_count": 65,
     "metadata": {},
     "output_type": "execute_result"
    }
   ],
   "source": [
    "xinv-xinv1, xinv1-xinv2"
   ]
  },
  {
   "cell_type": "markdown",
   "id": "45b5697f",
   "metadata": {},
   "source": [
    "Do multiple setup and check it doesnt recompute eigenvalues (to check, need to add a print after `elif not hasattr(self, \"alpha\"):`"
   ]
  },
  {
   "cell_type": "code",
   "execution_count": 66,
   "id": "b9f83980",
   "metadata": {},
   "outputs": [
    {
     "name": "stdout",
     "output_type": "stream",
     "text": [
      "     1      -5.7204e-02         1.853e+02   1.873e+02   9.027e-01\n",
      "     2      -6.8699e-02         3.709e+01   3.942e+01   3.121e-01\n",
      "     3      -6.6018e-02         1.613e+01   1.852e+01   1.703e-01\n",
      "     4      -5.9575e-02         9.384e+00   1.176e+01   1.127e-01\n",
      "     5      -5.2467e-02         6.301e+00   8.630e+00   8.334e-02\n",
      "     6      -4.5670e-02         4.580e+00   6.850e+00   6.608e-02\n",
      "     7      -3.9289e-02         3.487e+00   5.696e+00   5.484e-02\n",
      "     8      -3.3378e-02         2.734e+00   4.887e+00   4.673e-02\n",
      "     9      -2.7858e-02         2.186e+00   4.286e+00   4.076e-02\n",
      "    10      -2.2860e-02         1.771e+00   3.824e+00   3.594e-02\n",
      "    11      -1.8486e-02         1.449e+00   3.460e+00   3.206e-02\n",
      "    21       0.0000e+00         2.454e-01   1.980e+00   1.336e-02\n",
      "    31      -0.0000e+00         4.279e-02   1.619e+00   7.001e-03\n",
      "    41      -0.0000e+00         5.928e-03   1.506e+00   3.315e-03\n",
      "    51      -0.0000e+00         9.199e-04   1.498e+00   1.556e-04\n",
      "    61      -0.0000e+00         7.967e-04   1.498e+00   5.292e-06\n",
      "    71      -0.0000e+00         7.933e-04   1.498e+00   1.838e-07\n",
      "    81      -0.0000e+00         7.932e-04   1.498e+00   6.421e-09\n",
      "    91      -0.0000e+00         7.932e-04   1.498e+00   2.246e-10\n",
      "   101      -0.0000e+00         7.932e-04   1.498e+00   7.859e-12\n",
      "   111      -0.0000e+00         7.932e-04   1.498e+00   2.750e-13\n",
      "   121      -0.0000e+00         7.932e-04   1.498e+00   9.644e-15\n",
      "   131      -0.0000e+00         7.932e-04   1.498e+00   3.682e-16\n",
      "\n",
      "Iterations = 137        Total time (s) = 0.00\n",
      "--------------------------------------------------------------------------------\n",
      "\n"
     ]
    }
   ],
   "source": [
    "istasolve = ISTA(Aop)\n",
    "\n",
    "xhist = []\n",
    "istasolve.callback = lambda x: callback(x, xhist)\n",
    "\n",
    "for i in range(5):\n",
    "    x = istasolve.setup(y=y, niter=maxit, eps=eps, tol=0, show=False)\n",
    "x = istasolve.run(x, show=True)\n",
    "istasolve.finalize(show=True)\n",
    "xinv = x.copy()"
   ]
  },
  {
   "cell_type": "markdown",
   "id": "89c8372d",
   "metadata": {},
   "source": [
    "# FISTA"
   ]
  },
  {
   "cell_type": "code",
   "execution_count": 67,
   "id": "2b9a253b",
   "metadata": {},
   "outputs": [
    {
     "name": "stderr",
     "output_type": "stream",
     "text": [
      "WARNING:pylops.optimization.cls_sparsity:Update smaller that tolerance for iteration 191\n"
     ]
    },
    {
     "name": "stdout",
     "output_type": "stream",
     "text": [
      "FISTA (soft thresholding)\n",
      "--------------------------------------------------------------------------------\n",
      "The Operator Op has 100 rows and 50 cols\n",
      "eps = 5.000000e-01\ttol = 0.000000e+00\tniter = 2000\n",
      "alpha = 3.546044e-03\tthresh = 8.865109e-04\n",
      "--------------------------------------------------------------------------------\n",
      "   Itn          x[0]              r2norm     r12norm     xupdate\n",
      "     1      -5.7204e-02         3.709e+01   3.906e+01   9.027e-01\n",
      "     2      -6.8699e-02         1.613e+01   1.846e+01   3.121e-01\n",
      "     3      -6.5263e-02         8.011e+00   1.043e+01   2.183e-01\n",
      "     4      -5.4173e-02         4.477e+00   6.846e+00   1.614e-01\n",
      "     5      -4.0641e-02         2.678e+00   4.928e+00   1.273e-01\n",
      "     6      -2.6728e-02         1.622e+00   3.749e+00   1.063e-01\n",
      "     7      -1.3674e-02         9.559e-01   2.970e+00   9.183e-02\n",
      "     8      -2.0595e-03         5.320e-01   2.457e+00   8.005e-02\n",
      "     9       5.5145e-03         2.715e-01   2.120e+00   6.973e-02\n",
      "    10       9.8297e-03         1.235e-01   1.890e+00   6.038e-02\n",
      "    11       1.1185e-02         5.041e-02   1.740e+00   5.148e-02\n",
      "    21      -0.0000e+00         2.018e-03   1.501e+00   7.811e-03\n",
      "    31      -0.0000e+00         7.019e-04   1.498e+00   8.101e-04\n",
      "    41      -0.0000e+00         7.673e-04   1.498e+00   5.320e-05\n",
      "    51      -0.0000e+00         7.895e-04   1.498e+00   3.809e-06\n",
      "    61      -0.0000e+00         7.929e-04   1.498e+00   1.512e-06\n",
      "    71      -0.0000e+00         7.932e-04   1.498e+00   2.932e-07\n",
      "    81      -0.0000e+00         7.932e-04   1.498e+00   3.686e-08\n",
      "    91      -0.0000e+00         7.932e-04   1.498e+00   2.098e-09\n",
      "   101      -0.0000e+00         7.932e-04   1.498e+00   3.982e-10\n",
      "   111      -0.0000e+00         7.932e-04   1.498e+00   1.570e-10\n",
      "   121      -0.0000e+00         7.932e-04   1.498e+00   3.030e-11\n",
      "   131      -0.0000e+00         7.932e-04   1.498e+00   3.692e-12\n",
      "   141      -0.0000e+00         7.932e-04   1.498e+00   1.373e-13\n",
      "   151      -0.0000e+00         7.932e-04   1.498e+00   6.796e-14\n",
      "   161      -0.0000e+00         7.932e-04   1.498e+00   2.234e-14\n",
      "   171      -0.0000e+00         7.932e-04   1.498e+00   4.192e-15\n",
      "   181      -0.0000e+00         7.932e-04   1.498e+00   5.088e-16\n",
      "   191      -0.0000e+00         7.932e-04   1.498e+00   0.000e+00\n",
      "\n",
      "Iterations = 137        Total time (s) = 0.03\n",
      "--------------------------------------------------------------------------------\n",
      "\n"
     ]
    }
   ],
   "source": [
    "fistasolve = FISTA(Aop)\n",
    "\n",
    "xhist = []\n",
    "fistasolve.callback = lambda x: callback(x, xhist)\n",
    "\n",
    "x = fistasolve.setup(y=y, niter=maxit, eps=eps, tol=0, show=True)\n",
    "x = fistasolve.run(x, show=True)\n",
    "istasolve.finalize(show=True)\n",
    "xinv = x.copy()"
   ]
  },
  {
   "cell_type": "code",
   "execution_count": 68,
   "id": "5a3f0177",
   "metadata": {},
   "outputs": [
    {
     "name": "stderr",
     "output_type": "stream",
     "text": [
      "WARNING:pylops.optimization.cls_sparsity:Update smaller that tolerance for iteration 185\n"
     ]
    },
    {
     "name": "stdout",
     "output_type": "stream",
     "text": [
      "FISTA (soft thresholding)\n",
      "--------------------------------------------------------------------------------\n",
      "The Operator Op has 100 rows and 50 cols\n",
      "eps = 5.000000e-01\ttol = 0.000000e+00\tniter = 2000\n",
      "alpha = 3.546044e-03\tthresh = 8.865109e-04\n",
      "--------------------------------------------------------------------------------\n",
      "   Itn          x[0]              r2norm     r12norm     xupdate\n",
      "     1      -5.7204e-02         3.709e+01   3.906e+01   9.027e-01\n",
      "     2      -6.8699e-02         1.613e+01   1.846e+01   3.121e-01\n",
      "     3      -6.5263e-02         8.011e+00   1.043e+01   2.183e-01\n",
      "     4      -5.4173e-02         4.477e+00   6.846e+00   1.614e-01\n",
      "     5      -4.0641e-02         2.678e+00   4.928e+00   1.273e-01\n",
      "     6      -2.6728e-02         1.622e+00   3.749e+00   1.063e-01\n",
      "     7      -1.3674e-02         9.559e-01   2.970e+00   9.183e-02\n",
      "     8      -2.0595e-03         5.320e-01   2.457e+00   8.005e-02\n",
      "     9       5.5145e-03         2.715e-01   2.120e+00   6.973e-02\n",
      "    10       9.8297e-03         1.235e-01   1.890e+00   6.038e-02\n",
      "    11       1.1185e-02         5.041e-02   1.740e+00   5.148e-02\n",
      "    21      -0.0000e+00         2.018e-03   1.501e+00   7.811e-03\n",
      "    31      -0.0000e+00         7.019e-04   1.498e+00   8.101e-04\n",
      "    41      -0.0000e+00         7.673e-04   1.498e+00   5.320e-05\n",
      "    51      -0.0000e+00         7.895e-04   1.498e+00   3.809e-06\n",
      "    61      -0.0000e+00         7.929e-04   1.498e+00   1.512e-06\n",
      "    71      -0.0000e+00         7.932e-04   1.498e+00   2.932e-07\n",
      "    81      -0.0000e+00         7.932e-04   1.498e+00   3.686e-08\n",
      "    91      -0.0000e+00         7.932e-04   1.498e+00   2.098e-09\n",
      "   101      -0.0000e+00         7.932e-04   1.498e+00   3.982e-10\n",
      "   111      -0.0000e+00         7.932e-04   1.498e+00   1.570e-10\n",
      "   121      -0.0000e+00         7.932e-04   1.498e+00   3.030e-11\n",
      "   131      -0.0000e+00         7.932e-04   1.498e+00   3.692e-12\n",
      "   141      -0.0000e+00         7.932e-04   1.498e+00   1.373e-13\n",
      "   151      -0.0000e+00         7.932e-04   1.498e+00   6.796e-14\n",
      "   161      -0.0000e+00         7.932e-04   1.498e+00   2.234e-14\n",
      "   171      -0.0000e+00         7.932e-04   1.498e+00   4.096e-15\n",
      "   181      -0.0000e+00         7.932e-04   1.498e+00   4.965e-16\n",
      "\n",
      "Iterations = 185        Total time (s) = 0.00\n",
      "--------------------------------------------------------------------------------\n",
      "\n"
     ]
    }
   ],
   "source": [
    "xinv1, _, _ = fista(Aop, y, niter=maxit, eps=eps, tol=0, show=True)"
   ]
  },
  {
   "cell_type": "code",
   "execution_count": 69,
   "id": "79fa16be",
   "metadata": {},
   "outputs": [
    {
     "name": "stdout",
     "output_type": "stream",
     "text": [
      "FISTA optimization (soft thresholding)\n",
      "-----------------------------------------------------------\n",
      "The Operator Op has 100 rows and 50 cols\n",
      "eps = 5.000000e-01\ttol = 0.000000e+00\tniter = 2000\n",
      "alpha = 3.546044e-03\tthresh = 8.865109e-04\n",
      "-----------------------------------------------------------\n",
      "\n",
      "   Itn       x[0]        r2norm     r12norm     xupdate\n",
      "     1  -5.72037e-02   3.709e+01   3.906e+01   9.027e-01\n",
      "     2  -6.86987e-02   1.613e+01   1.846e+01   3.121e-01\n",
      "     3  -6.52630e-02   8.011e+00   1.043e+01   2.183e-01\n",
      "     4  -5.41731e-02   4.477e+00   6.846e+00   1.614e-01\n",
      "     5  -4.06409e-02   2.678e+00   4.928e+00   1.273e-01\n",
      "     6  -2.67281e-02   1.622e+00   3.749e+00   1.063e-01\n",
      "     7  -1.36742e-02   9.559e-01   2.970e+00   9.183e-02\n",
      "     8  -2.05951e-03   5.320e-01   2.457e+00   8.005e-02\n",
      "     9   5.51454e-03   2.715e-01   2.120e+00   6.973e-02\n",
      "    10   9.82969e-03   1.235e-01   1.890e+00   6.038e-02\n",
      "    11   1.11849e-02   5.041e-02   1.740e+00   5.148e-02\n",
      "    21  -0.00000e+00   2.018e-03   1.501e+00   7.811e-03\n",
      "    31  -0.00000e+00   7.019e-04   1.498e+00   8.101e-04\n",
      "    41  -0.00000e+00   7.673e-04   1.498e+00   5.320e-05\n",
      "    51  -0.00000e+00   7.895e-04   1.498e+00   3.809e-06\n",
      "    61  -0.00000e+00   7.929e-04   1.498e+00   1.512e-06\n",
      "    71  -0.00000e+00   7.932e-04   1.498e+00   2.932e-07\n",
      "    81  -0.00000e+00   7.932e-04   1.498e+00   3.686e-08\n",
      "    91  -0.00000e+00   7.932e-04   1.498e+00   2.098e-09\n",
      "   101  -0.00000e+00   7.932e-04   1.498e+00   3.982e-10\n",
      "   111  -0.00000e+00   7.932e-04   1.498e+00   1.570e-10\n",
      "   121  -0.00000e+00   7.932e-04   1.498e+00   3.030e-11\n",
      "   131  -0.00000e+00   7.932e-04   1.498e+00   3.692e-12\n",
      "   141  -0.00000e+00   7.932e-04   1.498e+00   1.373e-13\n",
      "   151  -0.00000e+00   7.932e-04   1.498e+00   6.796e-14\n",
      "   161  -0.00000e+00   7.932e-04   1.498e+00   2.234e-14\n",
      "   171  -0.00000e+00   7.932e-04   1.498e+00   4.096e-15\n",
      "   181  -0.00000e+00   7.932e-04   1.498e+00   4.965e-16\n",
      "   191  -0.00000e+00   7.932e-04   1.498e+00   1.110e-16\n",
      "   201  -0.00000e+00   7.932e-04   1.498e+00   0.000e+00\n",
      "   211  -0.00000e+00   7.932e-04   1.498e+00   0.000e+00\n",
      "   221  -0.00000e+00   7.932e-04   1.498e+00   0.000e+00\n",
      "   231  -0.00000e+00   7.932e-04   1.498e+00   0.000e+00\n",
      "   241  -0.00000e+00   7.932e-04   1.498e+00   0.000e+00\n",
      "   251  -0.00000e+00   7.932e-04   1.498e+00   0.000e+00\n",
      "   261  -0.00000e+00   7.932e-04   1.498e+00   0.000e+00\n",
      "   271  -0.00000e+00   7.932e-04   1.498e+00   0.000e+00\n",
      "   281  -0.00000e+00   7.932e-04   1.498e+00   0.000e+00\n",
      "   291  -0.00000e+00   7.932e-04   1.498e+00   0.000e+00\n",
      "   301  -0.00000e+00   7.932e-04   1.498e+00   0.000e+00\n",
      "   311  -0.00000e+00   7.932e-04   1.498e+00   0.000e+00\n",
      "   321  -0.00000e+00   7.932e-04   1.498e+00   0.000e+00\n",
      "   331  -0.00000e+00   7.932e-04   1.498e+00   0.000e+00\n",
      "   341  -0.00000e+00   7.932e-04   1.498e+00   0.000e+00\n",
      "   351  -0.00000e+00   7.932e-04   1.498e+00   0.000e+00\n",
      "   361  -0.00000e+00   7.932e-04   1.498e+00   0.000e+00\n",
      "   371  -0.00000e+00   7.932e-04   1.498e+00   0.000e+00\n",
      "   381  -0.00000e+00   7.932e-04   1.498e+00   0.000e+00\n",
      "   391  -0.00000e+00   7.932e-04   1.498e+00   0.000e+00\n",
      "   401  -0.00000e+00   7.932e-04   1.498e+00   0.000e+00\n",
      "   411  -0.00000e+00   7.932e-04   1.498e+00   0.000e+00\n",
      "   421  -0.00000e+00   7.932e-04   1.498e+00   0.000e+00\n",
      "   431  -0.00000e+00   7.932e-04   1.498e+00   0.000e+00\n",
      "   441  -0.00000e+00   7.932e-04   1.498e+00   0.000e+00\n",
      "   451  -0.00000e+00   7.932e-04   1.498e+00   0.000e+00\n",
      "   461  -0.00000e+00   7.932e-04   1.498e+00   0.000e+00\n",
      "   471  -0.00000e+00   7.932e-04   1.498e+00   0.000e+00\n",
      "   481  -0.00000e+00   7.932e-04   1.498e+00   0.000e+00\n",
      "   491  -0.00000e+00   7.932e-04   1.498e+00   0.000e+00\n",
      "   501  -0.00000e+00   7.932e-04   1.498e+00   0.000e+00\n",
      "   511  -0.00000e+00   7.932e-04   1.498e+00   0.000e+00\n",
      "   521  -0.00000e+00   7.932e-04   1.498e+00   0.000e+00\n",
      "   531  -0.00000e+00   7.932e-04   1.498e+00   0.000e+00\n",
      "   541  -0.00000e+00   7.932e-04   1.498e+00   0.000e+00\n",
      "   551  -0.00000e+00   7.932e-04   1.498e+00   0.000e+00\n",
      "   561  -0.00000e+00   7.932e-04   1.498e+00   0.000e+00\n",
      "   571  -0.00000e+00   7.932e-04   1.498e+00   0.000e+00\n",
      "   581  -0.00000e+00   7.932e-04   1.498e+00   0.000e+00\n",
      "   591  -0.00000e+00   7.932e-04   1.498e+00   0.000e+00\n",
      "   601  -0.00000e+00   7.932e-04   1.498e+00   0.000e+00\n",
      "   611  -0.00000e+00   7.932e-04   1.498e+00   0.000e+00\n",
      "   621  -0.00000e+00   7.932e-04   1.498e+00   0.000e+00\n",
      "   631  -0.00000e+00   7.932e-04   1.498e+00   0.000e+00\n",
      "   641  -0.00000e+00   7.932e-04   1.498e+00   0.000e+00\n",
      "   651  -0.00000e+00   7.932e-04   1.498e+00   0.000e+00\n",
      "   661  -0.00000e+00   7.932e-04   1.498e+00   0.000e+00\n",
      "   671  -0.00000e+00   7.932e-04   1.498e+00   0.000e+00\n",
      "   681  -0.00000e+00   7.932e-04   1.498e+00   0.000e+00\n",
      "   691  -0.00000e+00   7.932e-04   1.498e+00   0.000e+00\n",
      "   701  -0.00000e+00   7.932e-04   1.498e+00   0.000e+00\n",
      "   711  -0.00000e+00   7.932e-04   1.498e+00   0.000e+00\n",
      "   721  -0.00000e+00   7.932e-04   1.498e+00   0.000e+00\n",
      "   731  -0.00000e+00   7.932e-04   1.498e+00   0.000e+00\n",
      "   741  -0.00000e+00   7.932e-04   1.498e+00   0.000e+00\n",
      "   751  -0.00000e+00   7.932e-04   1.498e+00   0.000e+00\n",
      "   761  -0.00000e+00   7.932e-04   1.498e+00   0.000e+00\n",
      "   771  -0.00000e+00   7.932e-04   1.498e+00   0.000e+00\n",
      "   781  -0.00000e+00   7.932e-04   1.498e+00   0.000e+00\n",
      "   791  -0.00000e+00   7.932e-04   1.498e+00   0.000e+00\n",
      "   801  -0.00000e+00   7.932e-04   1.498e+00   0.000e+00\n",
      "   811  -0.00000e+00   7.932e-04   1.498e+00   0.000e+00\n",
      "   821  -0.00000e+00   7.932e-04   1.498e+00   0.000e+00\n",
      "   831  -0.00000e+00   7.932e-04   1.498e+00   0.000e+00\n",
      "   841  -0.00000e+00   7.932e-04   1.498e+00   0.000e+00\n",
      "   851  -0.00000e+00   7.932e-04   1.498e+00   0.000e+00\n",
      "   861  -0.00000e+00   7.932e-04   1.498e+00   0.000e+00\n",
      "   871  -0.00000e+00   7.932e-04   1.498e+00   0.000e+00\n",
      "   881  -0.00000e+00   7.932e-04   1.498e+00   0.000e+00\n",
      "   891  -0.00000e+00   7.932e-04   1.498e+00   0.000e+00\n",
      "   901  -0.00000e+00   7.932e-04   1.498e+00   0.000e+00\n",
      "   911  -0.00000e+00   7.932e-04   1.498e+00   0.000e+00\n",
      "   921  -0.00000e+00   7.932e-04   1.498e+00   0.000e+00\n",
      "   931  -0.00000e+00   7.932e-04   1.498e+00   0.000e+00\n",
      "   941  -0.00000e+00   7.932e-04   1.498e+00   0.000e+00\n",
      "   951  -0.00000e+00   7.932e-04   1.498e+00   0.000e+00\n",
      "   961  -0.00000e+00   7.932e-04   1.498e+00   0.000e+00\n",
      "   971  -0.00000e+00   7.932e-04   1.498e+00   0.000e+00\n",
      "   981  -0.00000e+00   7.932e-04   1.498e+00   0.000e+00\n",
      "   991  -0.00000e+00   7.932e-04   1.498e+00   0.000e+00\n",
      "  1001  -0.00000e+00   7.932e-04   1.498e+00   0.000e+00\n",
      "  1011  -0.00000e+00   7.932e-04   1.498e+00   0.000e+00\n",
      "  1021  -0.00000e+00   7.932e-04   1.498e+00   0.000e+00\n",
      "  1031  -0.00000e+00   7.932e-04   1.498e+00   0.000e+00\n",
      "  1041  -0.00000e+00   7.932e-04   1.498e+00   0.000e+00\n",
      "  1051  -0.00000e+00   7.932e-04   1.498e+00   0.000e+00\n",
      "  1061  -0.00000e+00   7.932e-04   1.498e+00   0.000e+00\n",
      "  1071  -0.00000e+00   7.932e-04   1.498e+00   0.000e+00\n",
      "  1081  -0.00000e+00   7.932e-04   1.498e+00   0.000e+00\n",
      "  1091  -0.00000e+00   7.932e-04   1.498e+00   0.000e+00\n",
      "  1101  -0.00000e+00   7.932e-04   1.498e+00   0.000e+00\n",
      "  1111  -0.00000e+00   7.932e-04   1.498e+00   0.000e+00\n",
      "  1121  -0.00000e+00   7.932e-04   1.498e+00   0.000e+00\n",
      "  1131  -0.00000e+00   7.932e-04   1.498e+00   0.000e+00\n",
      "  1141  -0.00000e+00   7.932e-04   1.498e+00   0.000e+00\n",
      "  1151  -0.00000e+00   7.932e-04   1.498e+00   0.000e+00\n",
      "  1161  -0.00000e+00   7.932e-04   1.498e+00   0.000e+00\n",
      "  1171  -0.00000e+00   7.932e-04   1.498e+00   0.000e+00\n",
      "  1181  -0.00000e+00   7.932e-04   1.498e+00   0.000e+00\n",
      "  1191  -0.00000e+00   7.932e-04   1.498e+00   0.000e+00\n",
      "  1201  -0.00000e+00   7.932e-04   1.498e+00   0.000e+00\n",
      "  1211  -0.00000e+00   7.932e-04   1.498e+00   0.000e+00\n",
      "  1221  -0.00000e+00   7.932e-04   1.498e+00   0.000e+00\n",
      "  1231  -0.00000e+00   7.932e-04   1.498e+00   0.000e+00\n",
      "  1241  -0.00000e+00   7.932e-04   1.498e+00   0.000e+00\n",
      "  1251  -0.00000e+00   7.932e-04   1.498e+00   0.000e+00\n",
      "  1261  -0.00000e+00   7.932e-04   1.498e+00   0.000e+00\n",
      "  1271  -0.00000e+00   7.932e-04   1.498e+00   0.000e+00\n",
      "  1281  -0.00000e+00   7.932e-04   1.498e+00   0.000e+00\n",
      "  1291  -0.00000e+00   7.932e-04   1.498e+00   0.000e+00\n",
      "  1301  -0.00000e+00   7.932e-04   1.498e+00   0.000e+00\n",
      "  1311  -0.00000e+00   7.932e-04   1.498e+00   0.000e+00\n",
      "  1321  -0.00000e+00   7.932e-04   1.498e+00   0.000e+00\n",
      "  1331  -0.00000e+00   7.932e-04   1.498e+00   0.000e+00\n",
      "  1341  -0.00000e+00   7.932e-04   1.498e+00   0.000e+00\n",
      "  1351  -0.00000e+00   7.932e-04   1.498e+00   0.000e+00\n",
      "  1361  -0.00000e+00   7.932e-04   1.498e+00   0.000e+00\n",
      "  1371  -0.00000e+00   7.932e-04   1.498e+00   0.000e+00\n",
      "  1381  -0.00000e+00   7.932e-04   1.498e+00   0.000e+00\n",
      "  1391  -0.00000e+00   7.932e-04   1.498e+00   0.000e+00\n",
      "  1401  -0.00000e+00   7.932e-04   1.498e+00   0.000e+00\n",
      "  1411  -0.00000e+00   7.932e-04   1.498e+00   0.000e+00\n",
      "  1421  -0.00000e+00   7.932e-04   1.498e+00   0.000e+00\n",
      "  1431  -0.00000e+00   7.932e-04   1.498e+00   0.000e+00\n",
      "  1441  -0.00000e+00   7.932e-04   1.498e+00   0.000e+00\n",
      "  1451  -0.00000e+00   7.932e-04   1.498e+00   0.000e+00\n",
      "  1461  -0.00000e+00   7.932e-04   1.498e+00   0.000e+00\n",
      "  1471  -0.00000e+00   7.932e-04   1.498e+00   0.000e+00\n",
      "  1481  -0.00000e+00   7.932e-04   1.498e+00   0.000e+00\n",
      "  1491  -0.00000e+00   7.932e-04   1.498e+00   0.000e+00\n",
      "  1501  -0.00000e+00   7.932e-04   1.498e+00   0.000e+00\n",
      "  1511  -0.00000e+00   7.932e-04   1.498e+00   0.000e+00\n",
      "  1521  -0.00000e+00   7.932e-04   1.498e+00   0.000e+00\n",
      "  1531  -0.00000e+00   7.932e-04   1.498e+00   0.000e+00\n",
      "  1541  -0.00000e+00   7.932e-04   1.498e+00   0.000e+00\n",
      "  1551  -0.00000e+00   7.932e-04   1.498e+00   0.000e+00\n",
      "  1561  -0.00000e+00   7.932e-04   1.498e+00   0.000e+00\n",
      "  1571  -0.00000e+00   7.932e-04   1.498e+00   0.000e+00\n",
      "  1581  -0.00000e+00   7.932e-04   1.498e+00   0.000e+00\n",
      "  1591  -0.00000e+00   7.932e-04   1.498e+00   0.000e+00\n",
      "  1601  -0.00000e+00   7.932e-04   1.498e+00   0.000e+00\n",
      "  1611  -0.00000e+00   7.932e-04   1.498e+00   0.000e+00\n",
      "  1621  -0.00000e+00   7.932e-04   1.498e+00   0.000e+00\n",
      "  1631  -0.00000e+00   7.932e-04   1.498e+00   0.000e+00\n",
      "  1641  -0.00000e+00   7.932e-04   1.498e+00   0.000e+00\n",
      "  1651  -0.00000e+00   7.932e-04   1.498e+00   0.000e+00\n",
      "  1661  -0.00000e+00   7.932e-04   1.498e+00   0.000e+00\n",
      "  1671  -0.00000e+00   7.932e-04   1.498e+00   0.000e+00\n",
      "  1681  -0.00000e+00   7.932e-04   1.498e+00   0.000e+00\n",
      "  1691  -0.00000e+00   7.932e-04   1.498e+00   0.000e+00\n",
      "  1701  -0.00000e+00   7.932e-04   1.498e+00   0.000e+00\n",
      "  1711  -0.00000e+00   7.932e-04   1.498e+00   0.000e+00\n",
      "  1721  -0.00000e+00   7.932e-04   1.498e+00   0.000e+00\n",
      "  1731  -0.00000e+00   7.932e-04   1.498e+00   0.000e+00\n",
      "  1741  -0.00000e+00   7.932e-04   1.498e+00   0.000e+00\n",
      "  1751  -0.00000e+00   7.932e-04   1.498e+00   0.000e+00\n",
      "  1761  -0.00000e+00   7.932e-04   1.498e+00   0.000e+00\n",
      "  1771  -0.00000e+00   7.932e-04   1.498e+00   0.000e+00\n",
      "  1781  -0.00000e+00   7.932e-04   1.498e+00   0.000e+00\n",
      "  1791  -0.00000e+00   7.932e-04   1.498e+00   0.000e+00\n",
      "  1801  -0.00000e+00   7.932e-04   1.498e+00   0.000e+00\n",
      "  1811  -0.00000e+00   7.932e-04   1.498e+00   0.000e+00\n",
      "  1821  -0.00000e+00   7.932e-04   1.498e+00   0.000e+00\n",
      "  1831  -0.00000e+00   7.932e-04   1.498e+00   0.000e+00\n",
      "  1841  -0.00000e+00   7.932e-04   1.498e+00   0.000e+00\n",
      "  1851  -0.00000e+00   7.932e-04   1.498e+00   0.000e+00\n",
      "  1861  -0.00000e+00   7.932e-04   1.498e+00   0.000e+00\n",
      "  1871  -0.00000e+00   7.932e-04   1.498e+00   0.000e+00\n",
      "  1881  -0.00000e+00   7.932e-04   1.498e+00   0.000e+00\n",
      "  1891  -0.00000e+00   7.932e-04   1.498e+00   0.000e+00\n",
      "  1901  -0.00000e+00   7.932e-04   1.498e+00   0.000e+00\n",
      "  1911  -0.00000e+00   7.932e-04   1.498e+00   0.000e+00\n",
      "  1921  -0.00000e+00   7.932e-04   1.498e+00   0.000e+00\n",
      "  1931  -0.00000e+00   7.932e-04   1.498e+00   0.000e+00\n",
      "  1941  -0.00000e+00   7.932e-04   1.498e+00   0.000e+00\n",
      "  1951  -0.00000e+00   7.932e-04   1.498e+00   0.000e+00\n",
      "  1961  -0.00000e+00   7.932e-04   1.498e+00   0.000e+00\n",
      "  1971  -0.00000e+00   7.932e-04   1.498e+00   0.000e+00\n",
      "  1981  -0.00000e+00   7.932e-04   1.498e+00   0.000e+00\n",
      "  1991  -0.00000e+00   7.932e-04   1.498e+00   0.000e+00\n",
      "  1992  -0.00000e+00   7.932e-04   1.498e+00   0.000e+00\n",
      "  1993  -0.00000e+00   7.932e-04   1.498e+00   0.000e+00\n",
      "  1994  -0.00000e+00   7.932e-04   1.498e+00   0.000e+00\n",
      "  1995  -0.00000e+00   7.932e-04   1.498e+00   0.000e+00\n",
      "  1996  -0.00000e+00   7.932e-04   1.498e+00   0.000e+00\n",
      "  1997  -0.00000e+00   7.932e-04   1.498e+00   0.000e+00\n",
      "  1998  -0.00000e+00   7.932e-04   1.498e+00   0.000e+00\n",
      "  1999  -0.00000e+00   7.932e-04   1.498e+00   0.000e+00\n",
      "  2000  -0.00000e+00   7.932e-04   1.498e+00   0.000e+00\n",
      "\n",
      "Iterations = 2000        Total time (s) = 0.08\n",
      "---------------------------------------------------------\n",
      "\n"
     ]
    }
   ],
   "source": [
    "xinv2, _ = fista_old(Aop, y, niter=maxit, eps=eps, tol=0, show=True)"
   ]
  },
  {
   "cell_type": "code",
   "execution_count": 70,
   "id": "dc0be79d",
   "metadata": {},
   "outputs": [
    {
     "data": {
      "text/plain": [
       "(array([ 0.00000000e+00,  0.00000000e+00,  0.00000000e+00,  2.22044605e-16,\n",
       "         0.00000000e+00,  0.00000000e+00,  0.00000000e+00,  0.00000000e+00,\n",
       "         0.00000000e+00,  0.00000000e+00,  0.00000000e+00,  0.00000000e+00,\n",
       "         0.00000000e+00,  0.00000000e+00,  0.00000000e+00,  0.00000000e+00,\n",
       "         0.00000000e+00,  0.00000000e+00,  0.00000000e+00,  0.00000000e+00,\n",
       "         0.00000000e+00,  0.00000000e+00,  0.00000000e+00,  0.00000000e+00,\n",
       "         0.00000000e+00, -6.66133815e-16,  0.00000000e+00,  0.00000000e+00,\n",
       "         0.00000000e+00,  0.00000000e+00,  0.00000000e+00,  0.00000000e+00,\n",
       "         0.00000000e+00,  0.00000000e+00,  0.00000000e+00,  0.00000000e+00,\n",
       "         0.00000000e+00,  0.00000000e+00,  0.00000000e+00,  0.00000000e+00,\n",
       "         0.00000000e+00,  0.00000000e+00,  0.00000000e+00,  0.00000000e+00,\n",
       "         0.00000000e+00,  0.00000000e+00,  0.00000000e+00,  0.00000000e+00,\n",
       "         0.00000000e+00,  0.00000000e+00]),\n",
       " array([ 0.00000000e+00,  0.00000000e+00,  0.00000000e+00, -2.22044605e-16,\n",
       "         0.00000000e+00,  0.00000000e+00,  0.00000000e+00,  0.00000000e+00,\n",
       "         0.00000000e+00,  0.00000000e+00,  0.00000000e+00,  0.00000000e+00,\n",
       "         0.00000000e+00,  0.00000000e+00,  0.00000000e+00,  0.00000000e+00,\n",
       "         0.00000000e+00,  0.00000000e+00,  0.00000000e+00,  0.00000000e+00,\n",
       "         0.00000000e+00,  0.00000000e+00,  0.00000000e+00,  0.00000000e+00,\n",
       "         0.00000000e+00,  3.33066907e-16,  0.00000000e+00,  0.00000000e+00,\n",
       "         0.00000000e+00,  0.00000000e+00,  0.00000000e+00,  0.00000000e+00,\n",
       "         0.00000000e+00,  0.00000000e+00,  0.00000000e+00,  0.00000000e+00,\n",
       "         0.00000000e+00,  0.00000000e+00,  0.00000000e+00,  0.00000000e+00,\n",
       "         0.00000000e+00,  0.00000000e+00,  0.00000000e+00,  0.00000000e+00,\n",
       "         0.00000000e+00,  0.00000000e+00,  0.00000000e+00,  0.00000000e+00,\n",
       "         0.00000000e+00,  0.00000000e+00]))"
      ]
     },
     "execution_count": 70,
     "metadata": {},
     "output_type": "execute_result"
    }
   ],
   "source": [
    "xinv-xinv1, xinv1-xinv2"
   ]
  },
  {
   "cell_type": "markdown",
   "id": "76f04876",
   "metadata": {},
   "source": [
    "## ISTA/FISTA with complex numbers"
   ]
  },
  {
   "cell_type": "code",
   "execution_count": 71,
   "id": "b226d214",
   "metadata": {},
   "outputs": [],
   "source": [
    "np.random.seed(1)\n",
    "ny, nx = 100, 50\n",
    "\n",
    "x = np.zeros(nx) + 1j*np.zeros(nx)\n",
    "x[nx // 2] = 1 + 1j\n",
    "x[3] = 1\n",
    "x[nx - 4] = -1 + 1j\n",
    "\n",
    "A = np.random.normal(0, 1, (ny, nx))\n",
    "Aop = pylops.MatrixMult(A.astype(np.complex128), dtype=np.complex128)\n",
    "y = Aop * x\n",
    "\n",
    "eps = 0.5\n",
    "perc = 30\n",
    "maxit = 100"
   ]
  },
  {
   "cell_type": "code",
   "execution_count": 72,
   "id": "eabdcfae",
   "metadata": {},
   "outputs": [
    {
     "name": "stdout",
     "output_type": "stream",
     "text": [
      "ISTA (soft thresholding)\n",
      "--------------------------------------------------------------------------------\n",
      "The Operator Op has 100 rows and 50 cols\n",
      "eps = 5.000000e-01\ttol = 0.000000e+00\tniter = 100\n",
      "alpha = 3.546044e-03\tthresh = 8.865109e-04\n",
      "--------------------------------------------------------------------------------\n",
      "   Itn          x[0]              r2norm     r12norm     xupdate\n",
      "     1   -5.72e-02-1.88e-02j    2.766e+02   2.790e+02   1.054e+00\n",
      "     2   -6.88e-02-3.49e-02j    6.835e+01   7.134e+01   4.070e-01\n",
      "     3   -6.62e-02-4.51e-02j    3.184e+01   3.498e+01   2.365e-01\n",
      "     4   -6.00e-02-5.05e-02j    1.864e+01   2.180e+01   1.611e-01\n",
      "     5   -5.31e-02-5.29e-02j    1.229e+01   1.541e+01   1.199e-01\n",
      "     6   -4.64e-02-5.33e-02j    8.700e+00   1.175e+01   9.467e-02\n",
      "     7   -4.01e-02-5.23e-02j    6.436e+00   9.413e+00   7.777e-02\n",
      "     8   -3.43e-02-5.06e-02j    4.903e+00   7.803e+00   6.567e-02\n",
      "     9   -2.91e-02-4.83e-02j    3.811e+00   6.636e+00   5.652e-02\n",
      "    10   -2.43e-02-4.57e-02j    3.004e+00   5.760e+00   4.931e-02\n",
      "    11   -2.01e-02-4.30e-02j    2.394e+00   5.084e+00   4.345e-02\n",
      "    21   5.83e-05-1.83e-02j    3.299e-01   2.583e+00   1.607e-02\n",
      "    31   8.89e-04-4.94e-03j    5.178e-02   2.082e+00   8.067e-03\n",
      "    41   0.00e+00-0.00e+00j    6.625e-03   1.925e+00   3.812e-03\n",
      "    51   0.00e+00-0.00e+00j    9.430e-04   1.912e+00   1.828e-04\n",
      "    61   0.00e+00-0.00e+00j    8.384e-04   1.912e+00   6.095e-06\n",
      "    71   0.00e+00-0.00e+00j    8.361e-04   1.912e+00   2.102e-07\n",
      "    81   0.00e+00-0.00e+00j    8.360e-04   1.912e+00   7.312e-09\n",
      "    91   0.00e+00-0.00e+00j    8.360e-04   1.912e+00   2.550e-10\n",
      "    92   0.00e+00-0.00e+00j    8.360e-04   1.912e+00   1.823e-10\n",
      "    93   0.00e+00-0.00e+00j    8.360e-04   1.912e+00   1.304e-10\n",
      "    94   0.00e+00-0.00e+00j    8.360e-04   1.912e+00   9.320e-11\n",
      "    95   0.00e+00-0.00e+00j    8.360e-04   1.912e+00   6.663e-11\n",
      "    96   0.00e+00-0.00e+00j    8.360e-04   1.912e+00   4.764e-11\n",
      "    97   0.00e+00-0.00e+00j    8.360e-04   1.912e+00   3.406e-11\n",
      "    98   0.00e+00-0.00e+00j    8.360e-04   1.912e+00   2.435e-11\n",
      "    99   0.00e+00-0.00e+00j    8.360e-04   1.912e+00   1.741e-11\n",
      "   100   0.00e+00-0.00e+00j    8.360e-04   1.912e+00   1.245e-11\n",
      "\n",
      "Iterations = 100        Total time (s) = 0.00\n",
      "--------------------------------------------------------------------------------\n",
      "\n"
     ]
    }
   ],
   "source": [
    "xinv, _, _ = ista(Aop, y, x0=np.zeros(nx) + 1j*np.zeros(nx), niter=maxit, eps=eps, tol=0, show=True)"
   ]
  },
  {
   "cell_type": "code",
   "execution_count": 73,
   "id": "4f486179",
   "metadata": {},
   "outputs": [
    {
     "data": {
      "text/plain": [
       "[<matplotlib.lines.Line2D at 0x17c2e1bd0>]"
      ]
     },
     "execution_count": 73,
     "metadata": {},
     "output_type": "execute_result"
    },
    {
     "data": {
      "image/png": "[encoded data removed]",
      "text/plain": [
       "<Figure size 800x600 with 1 Axes>"
      ]
     },
     "metadata": {},
     "output_type": "display_data"
    }
   ],
   "source": [
    "plt.plot(x.real)\n",
    "plt.plot(xinv.real)"
   ]
  },
  {
   "cell_type": "code",
   "execution_count": 74,
   "id": "7067a6cb",
   "metadata": {},
   "outputs": [
    {
     "data": {
      "text/plain": [
       "[<matplotlib.lines.Line2D at 0x17c292490>]"
      ]
     },
     "execution_count": 74,
     "metadata": {},
     "output_type": "execute_result"
    },
    {
     "data": {
      "image/png": "[encoded data removed]",
      "text/plain": [
       "<Figure size 800x600 with 1 Axes>"
      ]
     },
     "metadata": {},
     "output_type": "display_data"
    }
   ],
   "source": [
    "plt.plot(x.imag)\n",
    "plt.plot(xinv.imag)"
   ]
  },
  {
   "cell_type": "markdown",
   "id": "f9a99839",
   "metadata": {},
   "source": [
    "# SPGL1"
   ]
  },
  {
   "cell_type": "code",
   "execution_count": 75,
   "id": "ef631293",
   "metadata": {},
   "outputs": [],
   "source": [
    "np.random.seed(1)\n",
    "ny, nx = 100, 50\n",
    "\n",
    "x = np.zeros(nx)\n",
    "x[nx // 2] = 1\n",
    "x[3] = 1\n",
    "x[nx - 4] = -1\n",
    "\n",
    "A = np.random.normal(0, 1, (ny, nx))\n",
    "Aop = pylops.MatrixMult(A)\n",
    "y = Aop * x\n",
    "\n",
    "eps = 0.5\n",
    "perc = 30\n",
    "maxit = 2000"
   ]
  },
  {
   "cell_type": "code",
   "execution_count": 76,
   "id": "b5e5b90d",
   "metadata": {},
   "outputs": [
    {
     "name": "stdout",
     "output_type": "stream",
     "text": [
      "SPGL1\n",
      "--------------------------------------------------------------------------------\n",
      "The Operator Op has 100 rows and 50 cols\n",
      "SOp=None\n",
      "tau=0.1     sigma=0\n",
      "--------------------------------------------------------------------------------\n",
      "\n",
      "================================================================================\n",
      "SPGL1\n",
      "================================================================================\n",
      "No. rows              :      100     \n",
      "No. columns           :       50\n",
      "\n",
      "Initial tau           : 1.00e-01     \n",
      "Two-norm of b         : 1.93e+01\n",
      "\n",
      "Optimality tol        : 1.00e-04     \n",
      "Target one-norm of x  : 1.00e-01\n",
      "\n",
      "Basis pursuit tol     : 1.00e-06     \n",
      "Maximum iterations    :      200\n",
      "\n",
      "iterr      Objective   Relative Gap      gnorm   stepg   nnz_x   nnz_g\n",
      "\n",
      "    0  1.9252278e+01  8.3951530e-02   1.56e+02     0.0       0       0       \n",
      "    1  1.8460688e+01  7.6308961e-14   1.43e+02     0.0       1       1       \n",
      "\n",
      "EXIT -- Optimal solution found\n",
      "\n",
      "Products with A     :       2        Total time   (secs) :     0.0\n",
      "Products with A^H   :       2        Project time (secs) :     0.0\n",
      "Newton iterations   :       0        Mat-vec time (secs) :     0.0\n",
      "Line search its     :       0        Subspace iterations :       0\n",
      "\n",
      "Total time (s) = 0.00\n",
      "--------------------------------------------------------------------------------\n",
      "\n"
     ]
    }
   ],
   "source": [
    "spgl1solve = SPGL1(Aop)\n",
    "\n",
    "xhist = []\n",
    "\n",
    "x = spgl1solve.setup(y=y, tau=1e-1, show=True)\n",
    "x = spgl1solve.run(x, show=True, iter_lim=200, **dict(verbosity=2))[0]\n",
    "spgl1solve.finalize(show=True)\n",
    "xinv = x.copy()"
   ]
  },
  {
   "cell_type": "code",
   "execution_count": 77,
   "id": "11a09453",
   "metadata": {},
   "outputs": [
    {
     "data": {
      "text/plain": [
       "array([0., 0., 0., 0., 0., 0., 0., 0., 0., 0., 0., 0., 0., 0., 0., 0., 0.,\n",
       "       0., 0., 0., 0., 0., 0., 0., 0., 0., 0., 0., 0., 0., 0., 0., 0., 0.,\n",
       "       0., 0., 0., 0., 0., 0., 0., 0., 0., 0., 0., 0., 0., 0., 0., 0.])"
      ]
     },
     "execution_count": 77,
     "metadata": {},
     "output_type": "execute_result"
    }
   ],
   "source": [
    "x-xinv"
   ]
  },
  {
   "cell_type": "code",
   "execution_count": 78,
   "id": "a59bca22",
   "metadata": {},
   "outputs": [
    {
     "name": "stdout",
     "output_type": "stream",
     "text": [
      "SPGL1\n",
      "--------------------------------------------------------------------------------\n",
      "The Operator Op has 100 rows and 50 cols\n",
      "SOp=None\n",
      "tau=0.1     sigma=0.0\n",
      "--------------------------------------------------------------------------------\n"
     ]
    }
   ],
   "source": [
    "xinv1, _, _ = spgl1(Aop, y, tau=1e-1, iter_lim=200, show=True, verbosity=0)"
   ]
  },
  {
   "cell_type": "code",
   "execution_count": 79,
   "id": "6eecc505",
   "metadata": {},
   "outputs": [
    {
     "name": "stdout",
     "output_type": "stream",
     "text": [
      "\n",
      "================================================================================\n",
      "SPGL1\n",
      "================================================================================\n",
      "No. rows              :      100     \n",
      "No. columns           :       50\n",
      "\n",
      "Initial tau           : 1.00e-01     \n",
      "Two-norm of b         : 1.93e+01\n",
      "\n",
      "Optimality tol        : 1.00e-04     \n",
      "Target one-norm of x  : 1.00e-01\n",
      "\n",
      "Basis pursuit tol     : 1.00e-06     \n",
      "Maximum iterations    :      200\n",
      "\n",
      "\n",
      "EXIT -- Optimal solution found\n",
      "\n",
      "Products with A     :       2        Total time   (secs) :     0.0\n",
      "Products with A^H   :       2        Project time (secs) :     0.0\n",
      "Newton iterations   :       0        Mat-vec time (secs) :     0.0\n",
      "Line search its     :       0        Subspace iterations :       0\n"
     ]
    }
   ],
   "source": [
    "xinv2, _, _ = spgl1_old(Aop, y, tau=1e-1, iter_lim=200, verbosity=1)"
   ]
  },
  {
   "cell_type": "code",
   "execution_count": 80,
   "id": "5f7f3528",
   "metadata": {},
   "outputs": [
    {
     "data": {
      "text/plain": [
       "array([0., 0., 0., 0., 0., 0., 0., 0., 0., 0., 0., 0., 0., 0., 0., 0., 0.,\n",
       "       0., 0., 0., 0., 0., 0., 0., 0., 0., 0., 0., 0., 0., 0., 0., 0., 0.,\n",
       "       0., 0., 0., 0., 0., 0., 0., 0., 0., 0., 0., 0., 0., 0., 0., 0.])"
      ]
     },
     "execution_count": 80,
     "metadata": {},
     "output_type": "execute_result"
    }
   ],
   "source": [
    "xinv-xinv2"
   ]
  },
  {
   "cell_type": "markdown",
   "id": "15121c63",
   "metadata": {},
   "source": [
    "# IRLS"
   ]
  },
  {
   "cell_type": "markdown",
   "id": "e83bf4f0",
   "metadata": {},
   "source": [
    "## Data"
   ]
  },
  {
   "cell_type": "code",
   "execution_count": 81,
   "id": "84a6f824",
   "metadata": {},
   "outputs": [],
   "source": [
    "#np.random.seed(10)\n",
    "\n",
    "N = 30\n",
    "x = np.array([1.0, 2.0])\n",
    "sigma = 1\n",
    "\n",
    "t = np.arange(N, dtype=\"float64\")\n",
    "LRop = pylops.LinearRegression(t, dtype=\"float64\")\n",
    "y = LRop * x\n",
    "yn = y + np.random.normal(0, sigma, N)\n",
    "\n",
    "# Add outliers\n",
    "yn[1] += 40\n",
    "yn[N - 2] -= 20\n",
    "\n",
    "# IRLS\n",
    "nouter = 15\n",
    "epsR = 1e-2\n",
    "epsI = 0\n",
    "tolIRLS = 1e-2\n",
    "x0 = np.array([0.1, 0.2])"
   ]
  },
  {
   "cell_type": "code",
   "execution_count": 82,
   "id": "407a3e89",
   "metadata": {},
   "outputs": [
    {
     "name": "stdout",
     "output_type": "stream",
     "text": [
      "IRLS (data)\n",
      "--------------------------------------------------------------------------------\n",
      "The Operator Op has 30 rows and 2 cols\n",
      "threshR = False\tepsR = 0.01\tepsI = 0\n",
      "tolIRL = None\n",
      "--------------------------------------------------------------------------------\n",
      "    Itn           x[0]              r2norm\n",
      "     1         6.8405e+00          4.251e+01\n",
      "     2         2.0947e+00          4.477e+01\n",
      "     3         1.8117e+00          4.503e+01\n",
      "     4         1.6688e+00          4.519e+01\n",
      "     5         1.6101e+00          4.525e+01\n",
      "     6         1.5458e+00          4.532e+01\n",
      "     7         1.4767e+00          4.540e+01\n",
      "     8         1.4105e+00          4.547e+01\n",
      "     9         1.3556e+00          4.553e+01\n",
      "    10         1.3200e+00          4.557e+01\n",
      "    11         1.3076e+00          4.559e+01\n",
      "    12         1.3043e+00          4.560e+01\n",
      "\n",
      "Iterations = 12        Total time (s) = 0.00\n",
      "--------------------------------------------------------------------------------\n",
      "\n",
      "IRLS converged at 12 iterations...\n"
     ]
    },
    {
     "data": {
      "text/plain": [
       "array([1.40434376, 1.97752806])"
      ]
     },
     "execution_count": 82,
     "metadata": {},
     "output_type": "execute_result"
    }
   ],
   "source": [
    "xirls, nouter = irls(\n",
    "    LRop,\n",
    "    yn,\n",
    "    x0=x0,\n",
    "    nouter=nouter,\n",
    "    threshR=False,\n",
    "    epsR=epsR,\n",
    "    epsI=epsI,\n",
    "    tolIRLS=tolIRLS,\n",
    "    show=True,\n",
    "    **dict(iter_lim=10)\n",
    ")\n",
    "print(f\"IRLS converged at {nouter} iterations...\")\n",
    "xirls"
   ]
  },
  {
   "cell_type": "code",
   "execution_count": 83,
   "id": "5aa81844",
   "metadata": {},
   "outputs": [
    {
     "data": {
      "text/plain": [
       "(array([1.40434376, 1.97752806]), 10)"
      ]
     },
     "execution_count": 83,
     "metadata": {},
     "output_type": "execute_result"
    }
   ],
   "source": [
    "xirls1, nouter, xirls_hist, rw_hist = irls_old(\n",
    "    LRop,\n",
    "    yn,\n",
    "    x0=x0,\n",
    "    nouter=nouter-1,\n",
    "    threshR=False,\n",
    "    epsR=epsR,\n",
    "    epsI=epsI,\n",
    "    tolIRLS=tolIRLS,\n",
    "    returnhistory=True,\n",
    "    **dict(maxiter=10)\n",
    ")\n",
    "xirls1, nouter"
   ]
  },
  {
   "cell_type": "code",
   "execution_count": 84,
   "id": "9ec36e54",
   "metadata": {},
   "outputs": [
    {
     "data": {
      "text/plain": [
       "array([-1.03161923e-12,  2.54907206e-13])"
      ]
     },
     "execution_count": 84,
     "metadata": {},
     "output_type": "execute_result"
    }
   ],
   "source": [
    "xirls-xirls1"
   ]
  },
  {
   "cell_type": "markdown",
   "id": "f5490e58",
   "metadata": {},
   "source": [
    "## Model"
   ]
  },
  {
   "cell_type": "code",
   "execution_count": 85,
   "id": "5b65b270",
   "metadata": {},
   "outputs": [],
   "source": [
    "#np.random.seed(5)\n",
    "\n",
    "N, M = 15, 20\n",
    "A = np.random.randn(N, M)\n",
    "A = A / np.linalg.norm(A, axis=0)\n",
    "Aop = pylops.MatrixMult(A)\n",
    "\n",
    "x = np.random.rand(M)\n",
    "x[np.abs(x) < 0.9] = 0\n",
    "y = Aop * x\n",
    "\n",
    "# IRLS\n",
    "nouter=10\n",
    "x0 = np.random.normal(0,1, M)"
   ]
  },
  {
   "cell_type": "code",
   "execution_count": 86,
   "id": "458a64f5",
   "metadata": {},
   "outputs": [],
   "source": [
    "xirls = pylops.optimization.sparsity.irls(\n",
    "    Aop, y, x0=x0, nouter=nouter, epsI=1e-5, kind=\"model\", **dict(iter_lim=10)\n",
    ")[0]"
   ]
  },
  {
   "cell_type": "code",
   "execution_count": 87,
   "id": "250c6b0c",
   "metadata": {},
   "outputs": [],
   "source": [
    "xirls1 = irls_old(\n",
    "    Aop, y, x0=x0, nouter=nouter-1, epsI=1e-5, kind=\"model\", **dict(iter_lim=10)\n",
    ")[0]"
   ]
  },
  {
   "cell_type": "code",
   "execution_count": 88,
   "id": "d22c539c",
   "metadata": {},
   "outputs": [
    {
     "data": {
      "text/plain": [
       "array([0., 0., 0., 0., 0., 0., 0., 0., 0., 0., 0., 0., 0., 0., 0., 0., 0.,\n",
       "       0., 0., 0.])"
      ]
     },
     "execution_count": 88,
     "metadata": {},
     "output_type": "execute_result"
    }
   ],
   "source": [
    "xirls - xirls1"
   ]
  },
  {
   "cell_type": "code",
   "execution_count": 89,
   "id": "84f2d6b2",
   "metadata": {},
   "outputs": [
    {
     "data": {
      "image/png": "[encoded data removed]",
      "text/plain": [
       "<Figure size 800x600 with 1 Axes>"
      ]
     },
     "metadata": {},
     "output_type": "display_data"
    }
   ],
   "source": [
    "plt.plot(x)\n",
    "plt.plot(xirls)\n",
    "plt.plot(xirls1);"
   ]
  },
  {
   "cell_type": "markdown",
   "id": "de62ff80",
   "metadata": {},
   "source": [
    "# OMP"
   ]
  },
  {
   "cell_type": "code",
   "execution_count": 90,
   "id": "62460cc0",
   "metadata": {},
   "outputs": [
    {
     "data": {
      "image/png": "[encoded data removed]",
      "text/plain": [
       "<Figure size 800x600 with 1 Axes>"
      ]
     },
     "metadata": {},
     "output_type": "display_data"
    }
   ],
   "source": [
    "np.random.seed(12)\n",
    "\n",
    "N, M = 15, 20\n",
    "A = np.random.randn(N, M)\n",
    "A = A / np.linalg.norm(A, axis=0)\n",
    "Aop = pylops.MatrixMult(A)\n",
    "\n",
    "x = np.random.rand(M)\n",
    "x[x < 0.9] = 0\n",
    "y = Aop * x\n",
    "\n",
    "plt.plot(x);"
   ]
  },
  {
   "cell_type": "code",
   "execution_count": 91,
   "id": "e16f25e9",
   "metadata": {},
   "outputs": [
    {
     "name": "stdout",
     "output_type": "stream",
     "text": [
      "OMP(Only MP)\n",
      "-------------------------------------------------------\n",
      "The Operator Op has 15 rows and 20 cols\n",
      "sigma = 1.00e-04\tniter_outer = 2000\n",
      "niter_inner = 0\tnormalization=False\n",
      "-------------------------------------------------------\n",
      "    Itn           x[0]              r2norm\n",
      "     1         1.4838e+00          1.062e+00\n",
      "     2         1.4838e+00          7.168e-01\n",
      "     3         1.4838e+00          4.542e-01\n",
      "     4         1.1356e+00          2.916e-01\n",
      "     5         1.1356e+00          2.041e-01\n",
      "     6         1.0110e+00          1.616e-01\n",
      "     7         1.0110e+00          1.158e-01\n",
      "     8         1.0110e+00          7.313e-02\n",
      "     9         9.5492e-01          4.697e-02\n",
      "    10         9.5492e-01          3.289e-02\n",
      "    11         9.3487e-01          2.607e-02\n",
      "    21         9.2063e-01          6.765e-04\n",
      "\n",
      "Iterations = 27        Total time (s) = 0.00\n",
      "-------------------------------------------------------\n",
      "\n"
     ]
    }
   ],
   "source": [
    "ompsolve = OMP(Aop)\n",
    "\n",
    "xhist = []\n",
    "ompsolve.callback = lambda x, cols: callback1(x, cols, xhist)\n",
    "\n",
    "ompsolve.setup(y=y, niter_outer=maxit, niter_inner=0, sigma=1e-4, show=True)\n",
    "x, cols = ompsolve.run([], [], show=True)\n",
    "xmp = ompsolve.finalize(x, cols, show=True)"
   ]
  },
  {
   "cell_type": "code",
   "execution_count": 92,
   "id": "b9738e6e",
   "metadata": {},
   "outputs": [
    {
     "name": "stdout",
     "output_type": "stream",
     "text": [
      "OMP(Only MP)\n",
      "-------------------------------------------------------\n",
      "The Operator Op has 15 rows and 20 cols\n",
      "sigma = 1.00e-04\tniter_outer = 500\n",
      "niter_inner = 0\tnormalization=False\n",
      "-------------------------------------------------------\n",
      "    Itn           x[0]              r2norm\n",
      "     1         1.4838e+00          1.062e+00\n",
      "     2         1.4838e+00          7.168e-01\n",
      "     3         1.4838e+00          4.542e-01\n",
      "     4         1.1356e+00          2.916e-01\n",
      "     5         1.1356e+00          2.041e-01\n",
      "     6         1.0110e+00          1.616e-01\n",
      "     7         1.0110e+00          1.158e-01\n",
      "     8         1.0110e+00          7.313e-02\n",
      "     9         9.5492e-01          4.697e-02\n",
      "    10         9.5492e-01          3.289e-02\n",
      "    11         9.3487e-01          2.607e-02\n",
      "    21         9.2063e-01          6.765e-04\n",
      "\n",
      "Iterations = 27        Total time (s) = 0.00\n",
      "-------------------------------------------------------\n",
      "\n",
      "MP converged at 27 iterations...\n"
     ]
    }
   ],
   "source": [
    "eps = 1e-2\n",
    "maxit = 500\n",
    "\n",
    "xmp1, nouter, cost = omp(\n",
    "    Aop,\n",
    "    y,\n",
    "    niter_outer=maxit, niter_inner=0, sigma=1e-4, show=True\n",
    ")\n",
    "print(f\"MP converged at {nouter} iterations...\")"
   ]
  },
  {
   "cell_type": "code",
   "execution_count": 93,
   "id": "54a13b94",
   "metadata": {},
   "outputs": [
    {
     "name": "stdout",
     "output_type": "stream",
     "text": [
      "MP optimization\n",
      "-----------------------------------------------------------------\n",
      "The Operator Op has 15 rows and 20 cols\n",
      "sigma = 1.00e-04\tniter_outer = 500\tniter_inner = 0\n",
      "normalization=False\n",
      "-----------------------------------------------------------------\n",
      "    Itn           r2norm\n",
      "     2         1.06212e+00\n",
      "     3         7.16765e-01\n",
      "     4         4.54210e-01\n",
      "     5         2.91609e-01\n",
      "     6         2.04078e-01\n",
      "     7         1.61630e-01\n",
      "     8         1.15757e-01\n",
      "     9         7.31338e-02\n",
      "    10         4.69702e-02\n",
      "    11         3.28927e-02\n",
      "    21         8.53498e-04\n",
      "\n",
      "Iterations = 27        Total time (s) = 0.00\n",
      "-----------------------------------------------------------------\n",
      "\n",
      "MP converged at 27 iterations...\n"
     ]
    }
   ],
   "source": [
    "xmp_old, nouter, cost = omp_old(\n",
    "    Aop,\n",
    "    y,\n",
    "    niter_outer=maxit, niter_inner=0, sigma=1e-4, show=True\n",
    ")\n",
    "print(f\"MP converged at {nouter} iterations...\")"
   ]
  },
  {
   "cell_type": "code",
   "execution_count": 94,
   "id": "f6f141b3",
   "metadata": {},
   "outputs": [
    {
     "data": {
      "text/plain": [
       "(array([0., 0., 0., 0., 0., 0., 0., 0., 0., 0., 0., 0., 0., 0., 0., 0., 0.,\n",
       "        0., 0., 0.]),\n",
       " array([0., 0., 0., 0., 0., 0., 0., 0., 0., 0., 0., 0., 0., 0., 0., 0., 0.,\n",
       "        0., 0., 0.]))"
      ]
     },
     "execution_count": 94,
     "metadata": {},
     "output_type": "execute_result"
    }
   ],
   "source": [
    "xmp-xmp1, xmp-xmp_old"
   ]
  },
  {
   "cell_type": "code",
   "execution_count": 95,
   "id": "6ee4a8a7",
   "metadata": {},
   "outputs": [
    {
     "name": "stdout",
     "output_type": "stream",
     "text": [
      "OMP\n",
      "-------------------------------------------------------\n",
      "The Operator Op has 15 rows and 20 cols\n",
      "sigma = 1.00e-04\tniter_outer = 500\n",
      "niter_inner = 40\tnormalization=False\n",
      "-------------------------------------------------------\n",
      "    Itn           x[0]              r2norm\n",
      "     1         1.4838e+00          1.062e+00\n",
      "     2         1.4672e+00          7.166e-01\n",
      "     3         9.2025e-01          2.530e-16\n",
      "\n",
      "Iterations = 3        Total time (s) = 0.00\n",
      "-------------------------------------------------------\n",
      "\n",
      "OMP converged at 3 iterations...\n"
     ]
    }
   ],
   "source": [
    "xomp, nouter, cost = omp(\n",
    "    Aop,\n",
    "    y,\n",
    "    niter_outer=maxit, sigma=1e-4, show=True\n",
    ")\n",
    "print(f\"OMP converged at {nouter} iterations...\")"
   ]
  },
  {
   "cell_type": "code",
   "execution_count": 96,
   "id": "fe6c1538",
   "metadata": {},
   "outputs": [
    {
     "name": "stdout",
     "output_type": "stream",
     "text": [
      "OMP optimization\n",
      "-----------------------------------------------------------------\n",
      "The Operator Op has 15 rows and 20 cols\n",
      "sigma = 1.00e-04\tniter_outer = 500\tniter_inner = 40\n",
      "normalization=False\n",
      "-----------------------------------------------------------------\n",
      "    Itn           r2norm\n",
      "     2         1.06212e+00\n",
      "     3         7.16574e-01\n",
      "     4         2.52961e-16\n",
      "\n",
      "Iterations = 3        Total time (s) = 0.00\n",
      "-----------------------------------------------------------------\n",
      "\n",
      "OMP converged at 3 iterations...\n"
     ]
    }
   ],
   "source": [
    "xomp_old, nouter, cost = omp_old(\n",
    "    Aop,\n",
    "    y,\n",
    "    niter_outer=maxit, sigma=1e-4, show=True\n",
    ")\n",
    "print(f\"OMP converged at {nouter} iterations...\")"
   ]
  },
  {
   "cell_type": "code",
   "execution_count": 97,
   "id": "921d94cc",
   "metadata": {},
   "outputs": [
    {
     "data": {
      "text/plain": [
       "array([0., 0., 0., 0., 0., 0., 0., 0., 0., 0., 0., 0., 0., 0., 0., 0., 0.,\n",
       "       0., 0., 0.])"
      ]
     },
     "execution_count": 97,
     "metadata": {},
     "output_type": "execute_result"
    }
   ],
   "source": [
    "xomp-xomp_old"
   ]
  },
  {
   "cell_type": "markdown",
   "id": "ae6cf8b7",
   "metadata": {},
   "source": [
    "# Split-Bregman"
   ]
  },
  {
   "cell_type": "code",
   "execution_count": 98,
   "id": "67133f62",
   "metadata": {},
   "outputs": [],
   "source": [
    "np.random.seed(1)\n",
    "\n",
    "nx = 101\n",
    "x = np.zeros(nx)\n",
    "x[: nx // 2] = 10\n",
    "x[nx // 2 : 3 * nx // 4] = -5\n",
    "\n",
    "Iop = pylops.Identity(nx)\n",
    "\n",
    "n = np.random.normal(0, 1, nx)\n",
    "y = Iop * (x + n)\n",
    "\n",
    "#SB\n",
    "Dop = pylops.FirstDerivative(nx, edge=True, kind=\"backward\")\n",
    "mu = 0.01\n",
    "lamda = 0.3\n",
    "niter_out = 50\n",
    "niter_in = 3"
   ]
  },
  {
   "cell_type": "code",
   "execution_count": 99,
   "id": "7d409376",
   "metadata": {},
   "outputs": [
    {
     "name": "stdout",
     "output_type": "stream",
     "text": [
      "SplitBregman\n",
      "-----------------------------------------------------------------\n",
      "The Operator Op has 101 rows and 101 cols\n",
      "niter_outer =   1     niter_inner =   1   tol = 1.00e-04\n",
      "mu = 1.00e-02         epsL1 = [0.3]\t  epsL2 = []\n",
      "-----------------------------------------------------------------\n",
      "    Itn       x[0]           r2norm           r12norm\n",
      "RegularizedInversion\n",
      "-----------------------------------------------------------------\n",
      "The Operator Op has 101 rows and 101 cols\n",
      "Regs=[<101x101 FirstDerivative with dtype=float64>]\n",
      "epsRs=[5.477225575051661]\n",
      "-----------------------------------------------------------------\n",
      " \n",
      "LSQR            Least-squares solution of  Ax = b\n",
      "The matrix A has 202 rows and 101 columns\n",
      "damp = 1.00000000000000e-10   calc_var =        0\n",
      "atol = 1.00e-06                 conlim = 1.00e+08\n",
      "btol = 1.00e-06               iter_lim =       30\n",
      " \n",
      "   Itn      x[0]       r1norm     r2norm   Compatible    LS      Norm A   Cond A\n",
      "     0  0.00000e+00   7.497e+01  7.497e+01    1.0e+00  1.3e-02\n",
      "     1  3.72441e+00   6.181e+01  6.181e+01    8.2e-01  2.7e+00   1.8e+00  1.0e+00\n",
      "     2  6.82379e+00   4.685e+01  4.685e+01    6.2e-01  3.4e-01   1.0e+01  8.0e+00\n",
      "     3  7.78882e+00   3.914e+01  3.914e+01    5.2e-01  2.3e-01   1.3e+01  1.1e+01\n",
      "     4  8.27141e+00   3.511e+01  3.511e+01    4.7e-01  1.6e-01   1.5e+01  1.4e+01\n",
      "     5  8.73941e+00   3.224e+01  3.224e+01    4.3e-01  1.2e-01   1.7e+01  1.6e+01\n",
      "     6  8.90435e+00   3.080e+01  3.080e+01    4.1e-01  7.8e-02   1.9e+01  1.9e+01\n",
      "     7  9.06221e+00   2.986e+01  2.986e+01    4.0e-01  6.4e-02   2.0e+01  2.1e+01\n",
      "     8  9.29584e+00   2.919e+01  2.919e+01    3.9e-01  4.8e-02   2.2e+01  2.3e+01\n",
      "     9  9.41973e+00   2.872e+01  2.872e+01    3.8e-01  4.2e-02   2.3e+01  2.5e+01\n",
      "    10  9.51421e+00   2.838e+01  2.838e+01    3.8e-01  2.9e-02   2.4e+01  2.8e+01\n",
      "    20  9.90385e+00   2.773e+01  2.773e+01    3.7e-01  3.5e-03   3.5e+01  5.2e+01\n",
      "    21  9.91253e+00   2.773e+01  2.773e+01    3.7e-01  2.7e-03   3.5e+01  5.4e+01\n",
      "    22  9.92369e+00   2.772e+01  2.772e+01    3.7e-01  2.2e-03   3.6e+01  5.6e+01\n",
      "    23  9.94045e+00   2.772e+01  2.772e+01    3.7e-01  1.9e-03   3.7e+01  5.8e+01\n",
      "    24  9.95025e+00   2.772e+01  2.772e+01    3.7e-01  1.4e-03   3.8e+01  6.1e+01\n",
      "    25  9.95561e+00   2.772e+01  2.772e+01    3.7e-01  1.2e-03   3.9e+01  6.3e+01\n",
      "    26  9.96042e+00   2.772e+01  2.772e+01    3.7e-01  9.4e-04   4.0e+01  6.5e+01\n",
      "    27  9.96454e+00   2.772e+01  2.772e+01    3.7e-01  8.9e-04   4.0e+01  6.8e+01\n",
      "    28  9.96771e+00   2.771e+01  2.771e+01    3.7e-01  7.1e-04   4.1e+01  7.0e+01\n",
      "    29  9.96952e+00   2.771e+01  2.771e+01    3.7e-01  5.4e-04   4.2e+01  7.3e+01\n",
      "    30  9.97211e+00   2.771e+01  2.771e+01    3.7e-01  4.3e-04   4.2e+01  7.5e+01\n",
      " \n",
      "LSQR finished\n",
      "The iteration limit has been reached                      \n",
      " \n",
      "istop =       7   r1norm = 2.8e+01   anorm = 4.2e+01   arnorm = 5.1e-01\n",
      "itn   =      30   r2norm = 2.8e+01   acond = 7.5e+01   xnorm  = 6.7e+01\n",
      " \n",
      "     1     9.9721e+00       2.200e+00        2.051e+01\n",
      "\n",
      "Iterations = 1        Total time (s) = 0.00\n",
      "-----------------------------------------------------------------\n",
      "\n"
     ]
    }
   ],
   "source": [
    "xinv, niter, cost = splitbregman(\n",
    "    Iop,\n",
    "    y,\n",
    "    [Dop],\n",
    "    niter_outer=1,\n",
    "    niter_inner=1,\n",
    "    mu=mu,\n",
    "    epsRL1s=[lamda],\n",
    "    tol=1e-4,\n",
    "    tau=1.0,\n",
    "    show=True,\n",
    "    show_inner=True,\n",
    "    **dict(iter_lim=30, damp=1e-10)\n",
    ")"
   ]
  },
  {
   "cell_type": "code",
   "execution_count": 100,
   "id": "8f2fc92f",
   "metadata": {},
   "outputs": [
    {
     "name": "stdout",
     "output_type": "stream",
     "text": [
      "SplitBregman\n",
      "-----------------------------------------------------------------\n",
      "The Operator Op has 101 rows and 101 cols\n",
      "niter_outer =  50     niter_inner =   3   tol = 1.00e-04\n",
      "mu = 1.00e-02         epsL1 = [0.3]\t  epsL2 = []\n",
      "-----------------------------------------------------------------\n",
      "    Itn       x[0]           r2norm           r12norm\n",
      "     1     9.9825e+00       1.347e+00        2.050e+01\n",
      "     2     9.9024e+00       1.049e+00        1.908e+01\n",
      "     3     9.8909e+00       8.592e-01        1.958e+01\n",
      "     4     9.8846e+00       7.707e-01        1.906e+01\n",
      "     5     9.8780e+00       7.154e-01        1.930e+01\n",
      "     6     9.8709e+00       6.846e-01        1.893e+01\n",
      "     7     9.8639e+00       6.639e-01        1.855e+01\n",
      "     8     9.8572e+00       6.452e-01        1.843e+01\n",
      "     9     9.8511e+00       6.263e-01        1.838e+01\n",
      "    10     9.8457e+00       6.092e-01        1.833e+01\n",
      "    11     9.8408e+00       5.941e-01        1.835e+01\n",
      "    21     9.8109e+00       5.145e-01        1.823e+01\n",
      "    31     9.7992e+00       4.839e-01        1.816e+01\n",
      "    41     9.7926e+00       4.686e-01        1.812e+01\n",
      "    42     9.7921e+00       4.676e-01        1.812e+01\n",
      "    43     9.7916e+00       4.667e-01        1.812e+01\n",
      "    44     9.7912e+00       4.658e-01        1.811e+01\n",
      "    45     9.7907e+00       4.650e-01        1.811e+01\n",
      "    46     9.7903e+00       4.642e-01        1.811e+01\n",
      "    47     9.7899e+00       4.635e-01        1.811e+01\n",
      "    48     9.7895e+00       4.629e-01        1.810e+01\n",
      "    49     9.7891e+00       4.623e-01        1.810e+01\n",
      "    50     9.7887e+00       4.617e-01        1.810e+01\n",
      "\n",
      "Iterations = 50        Total time (s) = 0.13\n",
      "-----------------------------------------------------------------\n",
      "\n"
     ]
    }
   ],
   "source": [
    "sbsolve = SplitBregman(Iop)\n",
    "\n",
    "xhist = []\n",
    "sbsolve.callback = lambda x: callback(x, xhist)\n",
    "\n",
    "xinv = sbsolve.setup(y, [Dop], niter_outer=niter_out, niter_inner=niter_in,\n",
    "                     mu=mu, epsRL1s=[lamda], tol=1e-4, tau=1.0, show=True)\n",
    "xinv = sbsolve.run(xinv, show=True, **dict(iter_lim=30, damp=1e-10))\n",
    "sbsolve.finalize(show=True)"
   ]
  },
  {
   "cell_type": "code",
   "execution_count": 101,
   "id": "82460084",
   "metadata": {},
   "outputs": [
    {
     "name": "stdout",
     "output_type": "stream",
     "text": [
      "SplitBregman\n",
      "-----------------------------------------------------------------\n",
      "The Operator Op has 101 rows and 101 cols\n",
      "niter_outer =  50     niter_inner =   3   tol = 1.00e-04\n",
      "mu = 1.00e-02         epsL1 = [0.3]\t  epsL2 = []\n",
      "-----------------------------------------------------------------\n",
      "    Itn       x[0]           r2norm           r12norm\n",
      "     1     9.9825e+00       1.347e+00        2.050e+01\n",
      "     2     9.9024e+00       1.049e+00        1.908e+01\n",
      "     3     9.8909e+00       8.592e-01        1.958e+01\n",
      "     4     9.8846e+00       7.707e-01        1.906e+01\n",
      "     5     9.8780e+00       7.154e-01        1.930e+01\n",
      "     6     9.8709e+00       6.846e-01        1.893e+01\n",
      "     7     9.8639e+00       6.639e-01        1.855e+01\n",
      "     8     9.8572e+00       6.452e-01        1.843e+01\n",
      "     9     9.8511e+00       6.263e-01        1.838e+01\n",
      "    10     9.8457e+00       6.092e-01        1.833e+01\n",
      "    11     9.8408e+00       5.941e-01        1.835e+01\n",
      "    21     9.8109e+00       5.145e-01        1.823e+01\n",
      "    31     9.7992e+00       4.839e-01        1.816e+01\n",
      "    41     9.7926e+00       4.686e-01        1.812e+01\n",
      "    42     9.7921e+00       4.676e-01        1.812e+01\n",
      "    43     9.7916e+00       4.667e-01        1.812e+01\n",
      "    44     9.7912e+00       4.658e-01        1.811e+01\n",
      "    45     9.7907e+00       4.650e-01        1.811e+01\n",
      "    46     9.7903e+00       4.642e-01        1.811e+01\n",
      "    47     9.7899e+00       4.635e-01        1.811e+01\n",
      "    48     9.7895e+00       4.629e-01        1.810e+01\n",
      "    49     9.7891e+00       4.623e-01        1.810e+01\n",
      "    50     9.7887e+00       4.617e-01        1.810e+01\n",
      "\n",
      "Iterations = 50        Total time (s) = 0.12\n",
      "-----------------------------------------------------------------\n",
      "\n"
     ]
    }
   ],
   "source": [
    "xinv1, niter, cost = splitbregman(\n",
    "    Iop,\n",
    "    y,\n",
    "    [Dop],\n",
    "    niter_outer=niter_out,\n",
    "    niter_inner=niter_in,\n",
    "    mu=mu,\n",
    "    epsRL1s=[lamda],\n",
    "    tol=1e-4,\n",
    "    tau=1.0,\n",
    "    show=True,\n",
    "    show_inner=False,\n",
    "    **dict(iter_lim=30, damp=1e-10)\n",
    ")"
   ]
  },
  {
   "cell_type": "code",
   "execution_count": 102,
   "id": "11e01aff",
   "metadata": {},
   "outputs": [
    {
     "name": "stdout",
     "output_type": "stream",
     "text": [
      "Split-Bregman optimization\n",
      "---------------------------------------------------------\n",
      "The Operator Op has 101 rows and 101 cols\n",
      "niter_outer =  50     niter_inner =   3   tol = 1.00e-04\n",
      "mu = 1.00e-02         epsL1 = [0.3]\t  epsL2 = None     \n",
      "---------------------------------------------------------\n",
      "\n",
      "   Itn          x[0]           r2norm          r12norm\n",
      "     1   9.98248e+00        1.347e+00        2.050e+01\n",
      "     2   9.90243e+00        1.049e+00        1.908e+01\n",
      "     3   9.89086e+00        8.592e-01        1.958e+01\n",
      "     4   9.88456e+00        7.707e-01        1.906e+01\n",
      "     5   9.87800e+00        7.154e-01        1.930e+01\n",
      "     6   9.87094e+00        6.846e-01        1.893e+01\n",
      "     7   9.86385e+00        6.639e-01        1.855e+01\n",
      "     8   9.85717e+00        6.452e-01        1.843e+01\n",
      "     9   9.85111e+00        6.263e-01        1.838e+01\n",
      "    10   9.84569e+00        6.092e-01        1.833e+01\n",
      "    11   9.84085e+00        5.941e-01        1.835e+01\n",
      "    12   9.83647e+00        5.780e-01        1.836e+01\n",
      "    13   9.83250e+00        5.662e-01        1.834e+01\n",
      "    14   9.82886e+00        5.573e-01        1.831e+01\n",
      "    15   9.82549e+00        5.480e-01        1.839e+01\n",
      "    16   9.82239e+00        5.396e-01        1.835e+01\n",
      "    17   9.81956e+00        5.338e-01        1.831e+01\n",
      "    18   9.81701e+00        5.281e-01        1.827e+01\n",
      "    19   9.81473e+00        5.233e-01        1.825e+01\n",
      "    20   9.81270e+00        5.188e-01        1.824e+01\n",
      "    21   9.81089e+00        5.145e-01        1.823e+01\n",
      "    22   9.80926e+00        5.105e-01        1.822e+01\n",
      "    23   9.80779e+00        5.067e-01        1.822e+01\n",
      "    24   9.80644e+00        5.031e-01        1.821e+01\n",
      "    25   9.80519e+00        4.997e-01        1.820e+01\n",
      "    26   9.80403e+00        4.966e-01        1.819e+01\n",
      "    27   9.80294e+00        4.937e-01        1.819e+01\n",
      "    28   9.80192e+00        4.910e-01        1.818e+01\n",
      "    29   9.80096e+00        4.884e-01        1.818e+01\n",
      "    30   9.80006e+00        4.861e-01        1.817e+01\n",
      "    31   9.79920e+00        4.839e-01        1.816e+01\n",
      "    32   9.79839e+00        4.818e-01        1.816e+01\n",
      "    33   9.79762e+00        4.799e-01        1.815e+01\n",
      "    34   9.79689e+00        4.781e-01        1.815e+01\n",
      "    35   9.79619e+00        4.765e-01        1.814e+01\n",
      "    36   9.79553e+00        4.749e-01        1.814e+01\n",
      "    37   9.79490e+00        4.735e-01        1.814e+01\n",
      "    38   9.79429e+00        4.721e-01        1.813e+01\n",
      "    39   9.79372e+00        4.709e-01        1.813e+01\n",
      "    40   9.79316e+00        4.697e-01        1.813e+01\n",
      "    41   9.79263e+00        4.686e-01        1.812e+01\n",
      "    42   9.79212e+00        4.676e-01        1.812e+01\n",
      "    43   9.79164e+00        4.667e-01        1.812e+01\n",
      "    44   9.79117e+00        4.658e-01        1.811e+01\n",
      "    45   9.79072e+00        4.650e-01        1.811e+01\n",
      "    46   9.79028e+00        4.642e-01        1.811e+01\n",
      "    47   9.78986e+00        4.635e-01        1.811e+01\n",
      "    48   9.78946e+00        4.629e-01        1.810e+01\n",
      "    49   9.78907e+00        4.623e-01        1.810e+01\n",
      "    50   9.78870e+00        4.617e-01        1.810e+01\n",
      "\n",
      "Iterations = 50        Total time (s) = 0.13\n",
      "---------------------------------------------------------\n",
      "\n"
     ]
    }
   ],
   "source": [
    "xinv2, niter = splitbregman_old(\n",
    "    Iop,\n",
    "    [Dop],\n",
    "    y,\n",
    "    niter_outer=niter_out,\n",
    "    niter_inner=niter_in,\n",
    "    mu=mu,\n",
    "    epsRL1s=[lamda],\n",
    "    tol=1e-4,\n",
    "    tau=1.0,\n",
    "    **dict(iter_lim=30, damp=1e-10, show=True)\n",
    ")"
   ]
  },
  {
   "cell_type": "code",
   "execution_count": 103,
   "id": "291f2257",
   "metadata": {},
   "outputs": [
    {
     "data": {
      "text/plain": [
       "(array([0., 0., 0., 0., 0., 0., 0., 0., 0., 0., 0., 0., 0., 0., 0., 0., 0.,\n",
       "        0., 0., 0., 0., 0., 0., 0., 0., 0., 0., 0., 0., 0., 0., 0., 0., 0.,\n",
       "        0., 0., 0., 0., 0., 0., 0., 0., 0., 0., 0., 0., 0., 0., 0., 0., 0.,\n",
       "        0., 0., 0., 0., 0., 0., 0., 0., 0., 0., 0., 0., 0., 0., 0., 0., 0.,\n",
       "        0., 0., 0., 0., 0., 0., 0., 0., 0., 0., 0., 0., 0., 0., 0., 0., 0.,\n",
       "        0., 0., 0., 0., 0., 0., 0., 0., 0., 0., 0., 0., 0., 0., 0., 0.]),\n",
       " array([ 1.77635684e-15,  0.00000000e+00, -1.77635684e-15,  1.77635684e-15,\n",
       "         1.77635684e-15,  1.77635684e-15,  1.77635684e-15,  1.77635684e-15,\n",
       "         1.77635684e-15, -1.77635684e-15,  0.00000000e+00,  1.77635684e-15,\n",
       "         1.77635684e-15,  0.00000000e+00, -3.55271368e-15, -1.77635684e-15,\n",
       "        -1.77635684e-15, -1.77635684e-15,  3.55271368e-15,  1.77635684e-15,\n",
       "         1.77635684e-15,  1.77635684e-15, -3.55271368e-15, -3.55271368e-15,\n",
       "        -1.77635684e-15, -1.77635684e-15,  1.77635684e-15, -1.77635684e-15,\n",
       "         3.55271368e-15,  3.55271368e-15, -3.55271368e-15, -1.77635684e-15,\n",
       "         0.00000000e+00, -1.77635684e-15, -5.32907052e-15,  0.00000000e+00,\n",
       "        -3.55271368e-15, -3.55271368e-15,  3.55271368e-15, -1.77635684e-15,\n",
       "         1.77635684e-15,  3.55271368e-15, -3.55271368e-15,  0.00000000e+00,\n",
       "         3.55271368e-15, -5.32907052e-15, -3.55271368e-15,  0.00000000e+00,\n",
       "        -3.55271368e-15,  1.77635684e-15,  7.10542736e-15,  0.00000000e+00,\n",
       "         8.88178420e-16, -8.88178420e-16,  8.88178420e-16,  0.00000000e+00,\n",
       "        -8.88178420e-16, -2.66453526e-15,  0.00000000e+00,  1.77635684e-15,\n",
       "         0.00000000e+00,  8.88178420e-16,  8.88178420e-16,  0.00000000e+00,\n",
       "         1.77635684e-15,  8.88178420e-16, -8.88178420e-16,  8.88178420e-16,\n",
       "        -8.88178420e-16, -8.88178420e-16, -1.77635684e-15,  8.88178420e-16,\n",
       "         1.77635684e-15,  0.00000000e+00,  8.88178420e-16,  1.11022302e-15,\n",
       "        -1.94289029e-15, -3.05311332e-16, -2.49800181e-16, -8.32667268e-17,\n",
       "        -1.38777878e-16, -1.11022302e-16, -5.55111512e-17, -2.77555756e-17,\n",
       "        -1.38777878e-16, -2.77555756e-17, -5.55111512e-17, -2.77555756e-17,\n",
       "         0.00000000e+00,  0.00000000e+00,  0.00000000e+00, -2.77555756e-17,\n",
       "         0.00000000e+00, -1.11022302e-16, -5.55111512e-17, -1.11022302e-16,\n",
       "         5.55111512e-17, -1.11022302e-16,  2.77555756e-17,  0.00000000e+00,\n",
       "        -2.77555756e-17]))"
      ]
     },
     "execution_count": 103,
     "metadata": {},
     "output_type": "execute_result"
    }
   ],
   "source": [
    "xinv-xinv1, xinv-xinv2"
   ]
  },
  {
   "cell_type": "markdown",
   "id": "0a7d0a89",
   "metadata": {},
   "source": [
    "## Split-Bregman with complex numbers"
   ]
  },
  {
   "cell_type": "code",
   "execution_count": 104,
   "id": "85b9c47a",
   "metadata": {},
   "outputs": [
    {
     "name": "stdout",
     "output_type": "stream",
     "text": [
      "SplitBregman\n",
      "-----------------------------------------------------------------\n",
      "The Operator Op has 101 rows and 101 cols\n",
      "niter_outer =  50     niter_inner =   3   tol = 1.00e-04\n",
      "mu = 1.00e-02         epsL1 = [0.3]\t  epsL2 = []\n",
      "-----------------------------------------------------------------\n",
      "    Itn          x[0]            r2norm           r12norm\n",
      "     1    9.98e+00-8.98e-20j    1.347e+00        2.050e+01\n",
      "     2    9.90e+00-5.62e-19j    1.049e+00        1.908e+01\n",
      "     3    9.89e+00-1.88e-18j    8.592e-01        1.958e+01\n",
      "     4    9.88e+00-4.52e-18j    7.707e-01        1.906e+01\n",
      "     5    9.88e+00-8.66e-18j    7.154e-01        1.930e+01\n",
      "     6    9.87e+00-1.44e-17j    6.846e-01        1.893e+01\n",
      "     7    9.86e+00-2.18e-17j    6.639e-01        1.855e+01\n",
      "     8    9.86e+00-3.03e-17j    6.452e-01        1.843e+01\n",
      "     9    9.85e+00-3.97e-17j    6.263e-01        1.838e+01\n",
      "    10    9.85e+00-4.97e-17j    6.092e-01        1.833e+01\n",
      "    11    9.84e+00-5.97e-17j    5.941e-01        1.835e+01\n",
      "    21    9.81e+00-1.36e-16j    5.145e-01        1.823e+01\n",
      "    31    9.80e+00-1.84e-16j    4.839e-01        1.816e+01\n",
      "    41    9.79e+00-1.95e-16j    4.686e-01        1.812e+01\n",
      "    42    9.79e+00-1.95e-16j    4.676e-01        1.812e+01\n",
      "    43    9.79e+00-1.96e-16j    4.667e-01        1.812e+01\n",
      "    44    9.79e+00-1.97e-16j    4.658e-01        1.811e+01\n",
      "    45    9.79e+00-1.98e-16j    4.650e-01        1.811e+01\n",
      "    46    9.79e+00-2.00e-16j    4.642e-01        1.811e+01\n",
      "    47    9.79e+00-2.01e-16j    4.635e-01        1.811e+01\n",
      "    48    9.79e+00-2.03e-16j    4.629e-01        1.810e+01\n",
      "    49    9.79e+00-2.05e-16j    4.623e-01        1.810e+01\n",
      "    50    9.79e+00-2.07e-16j    4.617e-01        1.810e+01\n",
      "\n",
      "Iterations = 50        Total time (s) = 0.18\n",
      "-----------------------------------------------------------------\n",
      "\n"
     ]
    },
    {
     "name": "stderr",
     "output_type": "stream",
     "text": [
      "/opt/miniconda3/envs/pylops/lib/python3.13/site-packages/matplotlib/cbook.py:1709: ComplexWarning: Casting complex values to real discards the imaginary part\n",
      "  return math.isfinite(val)\n",
      "/opt/miniconda3/envs/pylops/lib/python3.13/site-packages/matplotlib/cbook.py:1345: ComplexWarning: Casting complex values to real discards the imaginary part\n",
      "  return np.asarray(x, float)\n"
     ]
    },
    {
     "data": {
      "image/png": "[encoded data removed]",
      "text/plain": [
       "<Figure size 1000x500 with 1 Axes>"
      ]
     },
     "metadata": {},
     "output_type": "display_data"
    }
   ],
   "source": [
    "Iop.dtype = np.complex128\n",
    "Dop.dtype = np.complex128\n",
    "x0 = np.zeros(nx).astype(np.complex128)\n",
    "y = y.astype(np.complex128)\n",
    "\n",
    "xinv, niter, cost = splitbregman(\n",
    "    Iop,\n",
    "    y,\n",
    "    [Dop],\n",
    "    x0=x0,\n",
    "    niter_outer=niter_out,\n",
    "    niter_inner=niter_in,\n",
    "    mu=mu,\n",
    "    epsRL1s=[lamda],\n",
    "    tol=1e-4,\n",
    "    tau=1.0,\n",
    "    show=True,\n",
    "    show_inner=False,\n",
    "    **dict(iter_lim=30, damp=1e-10)\n",
    ")\n",
    "\n",
    "plt.figure(figsize=(10, 5))\n",
    "plt.plot(x, \"k\", lw=3, label=\"x\")\n",
    "plt.plot(y, \".k\", label=\"y=x+n\")\n",
    "plt.plot(xinv, \"r\", lw=5, label=\"xinv\")\n",
    "plt.legend()\n",
    "plt.title(\"TV inversion\")\n",
    "plt.tight_layout()"
   ]
  },
  {
   "cell_type": "markdown",
   "id": "849776b5",
   "metadata": {},
   "source": [
    "# Callback classes"
   ]
  },
  {
   "cell_type": "code",
   "execution_count": 105,
   "id": "7d545f89",
   "metadata": {},
   "outputs": [],
   "source": [
    "from pylops.optimization.callback import Callbacks, MetricsCallback\n",
    "\n",
    "class LoggingCallback(Callbacks):\n",
    "    def on_setup_begin(self, solver, x):\n",
    "        print(f\"Setting up\")\n",
    "    def on_setup_end(self, solver, x):\n",
    "        print(f\"i at end of setup: {solver.iiter}\")    \n",
    "    def on_step_begin(self, solver, x):\n",
    "        print(f\"i at start of step: {solver.iiter}\")\n",
    "    def on_step_end(self, solver, x):\n",
    "        print(f\"i at end of step: {solver.iiter}\")\n",
    "\n",
    "class StoreIterCallback(Callbacks):\n",
    "    def __init__(self):\n",
    "        self.stored = []\n",
    "    def on_step_end(self, solver, x):\n",
    "        self.stored.append(solver.iiter)"
   ]
  },
  {
   "cell_type": "code",
   "execution_count": 106,
   "id": "28ee94de",
   "metadata": {},
   "outputs": [],
   "source": [
    "np.random.seed(1)\n",
    "ny, nx = 100, 50\n",
    "x = np.ones(nx)\n",
    "A = np.random.normal(0, 1, (ny, nx))\n",
    "Aop = pylops.MatrixMult(A)\n",
    "y = A @ x"
   ]
  },
  {
   "cell_type": "code",
   "execution_count": 107,
   "id": "561c719e",
   "metadata": {},
   "outputs": [
    {
     "name": "stdout",
     "output_type": "stream",
     "text": [
      "Setting up\n",
      "i at end of setup: 0\n",
      "i at start of step: 0\n",
      "i at end of step: 1\n",
      "i at start of step: 1\n",
      "i at end of step: 2\n",
      "i at start of step: 2\n",
      "i at end of step: 3\n",
      "i at start of step: 3\n",
      "i at end of step: 4\n",
      "i at start of step: 4\n",
      "i at end of step: 5\n",
      "i at start of step: 5\n",
      "i at end of step: 6\n",
      "i at start of step: 6\n",
      "i at end of step: 7\n",
      "i at start of step: 7\n",
      "i at end of step: 8\n",
      "i at start of step: 8\n",
      "i at end of step: 9\n",
      "i at start of step: 9\n",
      "i at end of step: 10\n",
      "i at start of step: 10\n",
      "i at end of step: 11\n",
      "i at start of step: 11\n",
      "i at end of step: 12\n",
      "i at start of step: 12\n",
      "i at end of step: 13\n",
      "i at start of step: 13\n",
      "i at end of step: 14\n",
      "i at start of step: 14\n",
      "i at end of step: 15\n",
      "i at start of step: 15\n",
      "i at end of step: 16\n",
      "i at start of step: 16\n",
      "i at end of step: 17\n",
      "i at start of step: 17\n",
      "i at end of step: 18\n",
      "i at start of step: 18\n",
      "i at end of step: 19\n",
      "i at start of step: 19\n",
      "i at end of step: 20\n",
      "i at start of step: 20\n",
      "i at end of step: 21\n",
      "i at start of step: 21\n",
      "i at end of step: 22\n",
      "i at start of step: 22\n",
      "i at end of step: 23\n",
      "i at start of step: 23\n",
      "i at end of step: 24\n",
      "i at start of step: 24\n",
      "i at end of step: 25\n",
      "i at start of step: 25\n",
      "i at end of step: 26\n",
      "i at start of step: 26\n",
      "i at end of step: 27\n",
      "i at start of step: 27\n",
      "i at end of step: 28\n",
      "i at start of step: 28\n",
      "i at end of step: 29\n",
      "i at start of step: 29\n",
      "i at end of step: 30\n",
      "i at start of step: 30\n",
      "i at end of step: 31\n",
      "i at start of step: 31\n",
      "i at end of step: 32\n",
      "i at start of step: 32\n",
      "i at end of step: 33\n",
      "i at start of step: 33\n",
      "i at end of step: 34\n",
      "i at start of step: 34\n",
      "i at end of step: 35\n",
      "i at start of step: 35\n",
      "i at end of step: 36\n",
      "i at start of step: 36\n",
      "i at end of step: 37\n",
      "i at start of step: 37\n",
      "i at end of step: 38\n",
      "i at start of step: 38\n",
      "i at end of step: 39\n",
      "i at start of step: 39\n",
      "i at end of step: 40\n",
      "i at start of step: 40\n",
      "i at end of step: 41\n",
      "i at start of step: 41\n",
      "i at end of step: 42\n",
      "i at start of step: 42\n",
      "i at end of step: 43\n",
      "i at start of step: 43\n",
      "i at end of step: 44\n",
      "i at start of step: 44\n",
      "i at end of step: 45\n",
      "i at start of step: 45\n",
      "i at end of step: 46\n",
      "i at start of step: 46\n",
      "i at end of step: 47\n",
      "i at start of step: 47\n",
      "i at end of step: 48\n",
      "i at start of step: 48\n",
      "i at end of step: 49\n",
      "i at start of step: 49\n",
      "i at end of step: 50\n",
      "i at start of step: 50\n",
      "i at end of step: 51\n",
      "i at start of step: 51\n",
      "i at end of step: 52\n",
      "i at start of step: 52\n",
      "i at end of step: 53\n",
      "i at start of step: 53\n",
      "i at end of step: 54\n",
      "i at start of step: 54\n",
      "i at end of step: 55\n",
      "i at start of step: 55\n",
      "i at end of step: 56\n",
      "i at start of step: 56\n",
      "i at end of step: 57\n",
      "i at start of step: 57\n",
      "i at end of step: 58\n",
      "i at start of step: 58\n",
      "i at end of step: 59\n",
      "i at start of step: 59\n",
      "i at end of step: 60\n",
      "i at start of step: 60\n",
      "i at end of step: 61\n",
      "i at start of step: 61\n",
      "i at end of step: 62\n",
      "i at start of step: 62\n",
      "i at end of step: 63\n",
      "i at start of step: 63\n",
      "i at end of step: 64\n",
      "i at start of step: 64\n",
      "i at end of step: 65\n",
      "i at start of step: 65\n",
      "i at end of step: 66\n",
      "i at start of step: 66\n",
      "i at end of step: 67\n",
      "i at start of step: 67\n",
      "i at end of step: 68\n",
      "i at start of step: 68\n",
      "i at end of step: 69\n",
      "i at start of step: 69\n",
      "i at end of step: 70\n",
      "i at start of step: 70\n",
      "i at end of step: 71\n",
      "i at start of step: 71\n",
      "i at end of step: 72\n",
      "i at start of step: 72\n",
      "i at end of step: 73\n",
      "i at start of step: 73\n",
      "i at end of step: 74\n",
      "i at start of step: 74\n",
      "i at end of step: 75\n",
      "i at start of step: 75\n",
      "i at end of step: 76\n",
      "i at start of step: 76\n",
      "i at end of step: 77\n",
      "i at start of step: 77\n",
      "i at end of step: 78\n",
      "i at start of step: 78\n",
      "i at end of step: 79\n",
      "i at start of step: 79\n",
      "i at end of step: 80\n",
      "i at start of step: 80\n",
      "i at end of step: 81\n",
      "i at start of step: 81\n",
      "i at end of step: 82\n",
      "i at start of step: 82\n",
      "i at end of step: 83\n",
      "i at start of step: 83\n",
      "i at end of step: 84\n",
      "i at start of step: 84\n",
      "i at end of step: 85\n",
      "i at start of step: 85\n",
      "i at end of step: 86\n",
      "i at start of step: 86\n",
      "i at end of step: 87\n",
      "i at start of step: 87\n",
      "i at end of step: 88\n",
      "i at start of step: 88\n",
      "i at end of step: 89\n",
      "i at start of step: 89\n",
      "i at end of step: 90\n",
      "i at start of step: 90\n",
      "i at end of step: 91\n",
      "i at start of step: 91\n",
      "i at end of step: 92\n",
      "i at start of step: 92\n",
      "i at end of step: 93\n",
      "i at start of step: 93\n",
      "i at end of step: 94\n",
      "i at start of step: 94\n",
      "i at end of step: 95\n",
      "i at start of step: 95\n",
      "i at end of step: 96\n",
      "i at start of step: 96\n",
      "i at end of step: 97\n",
      "i at start of step: 97\n",
      "i at end of step: 98\n",
      "i at start of step: 98\n",
      "i at end of step: 99\n",
      "i at start of step: 99\n",
      "i at end of step: 100\n"
     ]
    }
   ],
   "source": [
    "cb_log = LoggingCallback()\n",
    "cb_sto = StoreIterCallback()\n",
    "\n",
    "cgsolve = CGLS(Aop, callbacks=[cb_log, cb_sto])\n",
    "xest1 = cgsolve.solve(y=y, x0=np.zeros(nx), tol=0, \n",
    "                      niter=ny, show=False)[0]"
   ]
  },
  {
   "cell_type": "markdown",
   "id": "46231803",
   "metadata": {},
   "source": [
    "Finally let's use the metrics callback, who allows keeping tracks of various metrics"
   ]
  },
  {
   "cell_type": "code",
   "execution_count": 108,
   "id": "d23f7545",
   "metadata": {},
   "outputs": [],
   "source": [
    "np.random.seed(1)\n",
    "ny, nx = 100, 50\n",
    "x = np.random.normal(0, 1, nx)\n",
    "A = np.random.normal(0, 1, (ny, nx))\n",
    "Aop = pylops.MatrixMult(A)\n",
    "y = A @ x\n",
    "\n",
    "mt_log = MetricsCallback(x)\n",
    "\n",
    "cgsolve = CGLS(Aop, callbacks=[mt_log, ])\n",
    "xest1 = cgsolve.solve(y=y, x0=np.zeros(nx), tol=0, \n",
    "                      niter=ny, show=False)[0]"
   ]
  },
  {
   "cell_type": "code",
   "execution_count": 109,
   "id": "bea3bd61",
   "metadata": {},
   "outputs": [
    {
     "data": {
      "image/png": "[encoded data removed]",
      "text/plain": [
       "<Figure size 1600x300 with 4 Axes>"
      ]
     },
     "metadata": {},
     "output_type": "display_data"
    }
   ],
   "source": [
    "fig, axs = plt.subplots(1, 4, figsize=(16, 3))\n",
    "for i, metric in enumerate(['mae', 'mse', 'snr', 'psnr']):\n",
    "    axs[i].plot(mt_log.metrics[metric], 'k')\n",
    "    axs[i].set_title(metric)"
   ]
  },
  {
   "cell_type": "markdown",
   "id": "2ad32b97",
   "metadata": {},
   "source": [
    "# Callback classes as stopping ci"
   ]
  },
  {
   "cell_type": "code",
   "execution_count": 110,
   "id": "335dd722",
   "metadata": {},
   "outputs": [],
   "source": [
    "class StopCallback(Callbacks):\n",
    "    def __init__(self, sigma):\n",
    "        self.sigma = sigma\n",
    "        self.stop = False\n",
    "    def on_step_end(self, solver, x):\n",
    "        if solver.cost1[-1] < self.sigma * solver.cost1[0]:\n",
    "            print('Reached accuracy at it=', len(solver.cost1))\n",
    "            self.stop = True"
   ]
  },
  {
   "cell_type": "code",
   "execution_count": 111,
   "id": "cc897b80",
   "metadata": {},
   "outputs": [],
   "source": [
    "np.random.seed(1)\n",
    "ny, nx = 100, 50\n",
    "x = np.ones(nx)\n",
    "A = np.random.normal(0, 1, (ny, nx))\n",
    "Aop = pylops.MatrixMult(A)\n",
    "y = A @ x"
   ]
  },
  {
   "cell_type": "code",
   "execution_count": 112,
   "id": "3593bb50",
   "metadata": {},
   "outputs": [
    {
     "name": "stdout",
     "output_type": "stream",
     "text": [
      "CGLS\n",
      "-----------------------------------------------------------------\n",
      "The Operator Op has 100 rows and 50 cols\n",
      "damp = 0.000000e+00\ttol = 0.000000e+00\t\n",
      "-----------------------------------------------------------------\n",
      "\n",
      "    Itn          x[0]              r1norm         r2norm\n",
      "     1        1.0062e+00         3.1506e+01     3.1506e+01\n",
      "    11        9.9248e-01         3.8881e-01     3.8881e-01\n",
      "Reached accuracy at it= 16\n",
      "\n",
      "Iterations = 15        Total time (s) = 0.00\n",
      "-----------------------------------------------------------------\n",
      "\n"
     ]
    }
   ],
   "source": [
    "cb_sto = StoreIterCallback()\n",
    "cb_stop = StopCallback(0.001)\n",
    "\n",
    "cgsolve = CGLS(Aop, callbacks=[cb_stop, cb_sto])\n",
    "xest = cgsolve.setup(y=y, x0=np.zeros(nx), tol=0, show=True)\n",
    "cgsolve.niter = 20\n",
    "for i in range(20):\n",
    "    xest = cgsolve.step(x, True if i % 10 == 0 else False)\n",
    "    if np.any([False if not hasattr(callback, \"stop\") else callback.stop for callback in cgsolve.callbacks]):\n",
    "        break\n",
    "cgsolve.finalize(True)"
   ]
  },
  {
   "cell_type": "code",
   "execution_count": 113,
   "id": "c6b9298f",
   "metadata": {},
   "outputs": [
    {
     "name": "stdout",
     "output_type": "stream",
     "text": [
      "CGLS\n",
      "-----------------------------------------------------------------\n",
      "The Operator Op has 100 rows and 50 cols\n",
      "damp = 0.000000e+00\ttol = 0.000000e+00\tniter = 30\n",
      "-----------------------------------------------------------------\n",
      "\n",
      "    Itn          x[0]              r1norm         r2norm\n",
      "     1        6.2305e-03         3.1506e+01     3.1506e+01\n",
      "     2        5.4117e-01         1.5690e+01     1.5690e+01\n",
      "     3        8.2224e-01         9.2479e+00     9.2479e+00\n",
      "     4        9.1420e-01         6.3248e+00     6.3248e+00\n",
      "     5        1.0986e+00         3.7566e+00     3.7566e+00\n",
      "     6        1.0980e+00         2.3773e+00     2.3773e+00\n",
      "     7        1.0594e+00         1.5883e+00     1.5883e+00\n",
      "     8        1.0419e+00         1.1075e+00     1.1075e+00\n",
      "     9        1.0396e+00         7.8965e-01     7.8965e-01\n",
      "    10        1.0275e+00         5.7929e-01     5.7929e-01\n",
      "    11        1.0200e+00         3.8881e-01     3.8881e-01\n",
      "Reached accuracy at it= 16\n",
      "\n",
      "Iterations = 15        Total time (s) = 0.00\n",
      "-----------------------------------------------------------------\n",
      "\n"
     ]
    }
   ],
   "source": [
    "cb_sto = StoreIterCallback()\n",
    "cb_stop = StopCallback(0.001)\n",
    "\n",
    "cgsolve = CGLS(Aop, callbacks=[cb_stop, cb_sto])\n",
    "xest = cgsolve.solve(y=y, x0=np.zeros(nx), tol=0, niter=30, show=True)[0]"
   ]
  },
  {
   "cell_type": "code",
   "execution_count": 114,
   "id": "a29f4885",
   "metadata": {},
   "outputs": [
    {
     "name": "stdout",
     "output_type": "stream",
     "text": [
      "CGLS\n",
      "-----------------------------------------------------------------\n",
      "The Operator Op has 100 rows and 50 cols\n",
      "damp = 0.000000e+00\ttol = 0.000000e+00\tniter = 30\n",
      "-----------------------------------------------------------------\n",
      "\n",
      "    Itn          x[0]              r1norm         r2norm\n",
      "     1        6.2305e-03         3.1506e+01     3.1506e+01\n",
      "     2        5.4117e-01         1.5690e+01     1.5690e+01\n",
      "     3        8.2224e-01         9.2479e+00     9.2479e+00\n",
      "     4        9.1420e-01         6.3248e+00     6.3248e+00\n",
      "     5        1.0986e+00         3.7566e+00     3.7566e+00\n",
      "     6        1.0980e+00         2.3773e+00     2.3773e+00\n",
      "     7        1.0594e+00         1.5883e+00     1.5883e+00\n",
      "     8        1.0419e+00         1.1075e+00     1.1075e+00\n",
      "     9        1.0396e+00         7.8965e-01     7.8965e-01\n",
      "    10        1.0275e+00         5.7929e-01     5.7929e-01\n",
      "    11        1.0200e+00         3.8881e-01     3.8881e-01\n",
      "\n",
      "Iterations = 15        Total time (s) = 0.00\n",
      "-----------------------------------------------------------------\n",
      "\n"
     ]
    }
   ],
   "source": [
    "xest1 = cgls(Aop, y, x0=np.zeros(nx), tol=0, rtol=0.001, niter=30, show=True)[0]\n"
   ]
  },
  {
   "cell_type": "code",
   "execution_count": 115,
   "id": "c73c839e",
   "metadata": {},
   "outputs": [
    {
     "data": {
      "text/plain": [
       "array([0., 0., 0., 0., 0., 0., 0., 0., 0., 0., 0., 0., 0., 0., 0., 0., 0.,\n",
       "       0., 0., 0., 0., 0., 0., 0., 0., 0., 0., 0., 0., 0., 0., 0., 0., 0.,\n",
       "       0., 0., 0., 0., 0., 0., 0., 0., 0., 0., 0., 0., 0., 0., 0., 0.])"
      ]
     },
     "execution_count": 115,
     "metadata": {},
     "output_type": "execute_result"
    }
   ],
   "source": [
    "xest - xest1"
   ]
  },
  {
   "cell_type": "code",
   "execution_count": 116,
   "id": "8bd70cb9",
   "metadata": {},
   "outputs": [],
   "source": [
    "np.random.seed(1)\n",
    "ny, nx = 100, 50\n",
    "A = np.random.normal(0, 1, (ny, nx))\n",
    "Aop = pylops.MatrixMult(A)\n",
    "\n",
    "x = np.zeros(nx)\n",
    "x[nx // 2] = 1\n",
    "x[3] = 1\n",
    "x[nx - 4] = -1\n",
    "\n",
    "y = A @ x"
   ]
  },
  {
   "cell_type": "code",
   "execution_count": 117,
   "id": "382435e8",
   "metadata": {},
   "outputs": [
    {
     "name": "stdout",
     "output_type": "stream",
     "text": [
      "ISTA (soft thresholding)\n",
      "--------------------------------------------------------------------------------\n",
      "The Operator Op has 100 rows and 50 cols\n",
      "eps = 1.000000e-01\ttol = 0.000000e+00\tniter = 30\n",
      "alpha = 3.546044e-03\tthresh = 1.773022e-04\n",
      "--------------------------------------------------------------------------------\n",
      "   Itn          x[0]              r2norm     r12norm     xupdate\n",
      "     1      -5.7913e-02         1.853e+02   1.857e+02   9.058e-01\n",
      "     2      -6.9782e-02         3.696e+01   3.743e+01   3.125e-01\n",
      "     3      -6.7427e-02         1.612e+01   1.661e+01   1.701e-01\n",
      "\n",
      "Iterations = 3        Total time (s) = 0.00\n",
      "--------------------------------------------------------------------------------\n",
      "\n"
     ]
    },
    {
     "data": {
      "text/plain": [
       "(3,\n",
       " array([185.72256135,  37.43074357,  16.60786039]),\n",
       " np.float64(0.2015411768046788),\n",
       " np.float64(0.08942295578016335))"
      ]
     },
     "execution_count": 117,
     "metadata": {},
     "output_type": "execute_result"
    }
   ],
   "source": [
    "xest1, iiter, cost = ista(Aop, y, x0=np.zeros(nx), tol=0, rtol=0.1, niter=30, show=True)\n",
    "iiter, cost, cost[-2] / cost[0], cost[-1] / cost[0]\n"
   ]
  },
  {
   "cell_type": "code",
   "execution_count": 118,
   "id": "74622ad6",
   "metadata": {},
   "outputs": [
    {
     "name": "stdout",
     "output_type": "stream",
     "text": [
      "FISTA (soft thresholding)\n",
      "--------------------------------------------------------------------------------\n",
      "The Operator Op has 100 rows and 50 cols\n",
      "eps = 1.000000e-01\ttol = 0.000000e+00\tniter = 30\n",
      "alpha = 3.546044e-03\tthresh = 1.773022e-04\n",
      "--------------------------------------------------------------------------------\n",
      "   Itn          x[0]              r2norm     r12norm     xupdate\n",
      "     1      -5.7913e-02         3.696e+01   3.736e+01   9.058e-01\n",
      "     2      -6.9782e-02         1.612e+01   1.659e+01   3.125e-01\n",
      "     3      -6.6764e-02         8.085e+00   8.574e+00   2.180e-01\n",
      "     4      -5.6164e-02         4.592e+00   5.074e+00   1.603e-01\n",
      "     5      -4.2921e-02         2.804e+00   3.263e+00   1.258e-01\n",
      "\n",
      "Iterations = 5        Total time (s) = 0.00\n",
      "--------------------------------------------------------------------------------\n",
      "\n"
     ]
    },
    {
     "data": {
      "text/plain": [
       "(5,\n",
       " array([37.357493  , 16.59447281,  8.57439215,  5.07408979,  3.26301969]),\n",
       " np.float64(0.13582522221417026),\n",
       " np.float64(0.08734578861980863))"
      ]
     },
     "execution_count": 118,
     "metadata": {},
     "output_type": "execute_result"
    }
   ],
   "source": [
    "xest1, iiter, cost = fista(Aop, y, x0=np.zeros(nx), tol=0, rtol=0.1, niter=30, show=True)\n",
    "iiter, cost, cost[-2] / cost[0], cost[-1] / cost[0]\n"
   ]
  },
  {
   "cell_type": "code",
   "execution_count": 119,
   "id": "aedb4fd8",
   "metadata": {},
   "outputs": [
    {
     "name": "stdout",
     "output_type": "stream",
     "text": [
      "OMP\n",
      "-------------------------------------------------------\n",
      "The Operator Op has 100 rows and 50 cols\n",
      "sigma = 0.00e+00\tniter_outer = 30\n",
      "niter_inner = 40\tnormalization=False\n",
      "-------------------------------------------------------\n",
      "    Itn           x[0]              r2norm\n",
      "     1         1.2314e+00          1.338e+01\n",
      "     2         1.1548e+00          9.298e+00\n",
      "     3         1.0000e+00          7.706e-15\n",
      "\n",
      "Iterations = 3        Total time (s) = 0.00\n",
      "-------------------------------------------------------\n",
      "\n"
     ]
    },
    {
     "data": {
      "text/plain": [
       "(3,\n",
       " array([1.92522782e+01, 1.33812859e+01, 9.29833831e+00, 7.70610952e-15]),\n",
       " np.float64(0.48297340374529485),\n",
       " np.float64(4.0027000717463895e-16))"
      ]
     },
     "execution_count": 119,
     "metadata": {},
     "output_type": "execute_result"
    }
   ],
   "source": [
    "xest1, iiter, cost = omp(Aop, y, sigma=0, rtol=0.1, niter_outer=30, show=True)\n",
    "iiter, cost, cost[-2] / cost[0], cost[-1] / cost[0]\n"
   ]
  },
  {
   "cell_type": "code",
   "execution_count": 120,
   "id": "b9301606",
   "metadata": {},
   "outputs": [
    {
     "name": "stdout",
     "output_type": "stream",
     "text": [
      "IRLS (model)\n",
      "--------------------------------------------------------------------------------\n",
      "The Operator Op has 100 rows and 50 cols\n",
      "threshR = False\tepsR = 1e-10\tepsI = 0.1\n",
      "tolIRL = None\n",
      "--------------------------------------------------------------------------------\n",
      "    Itn           x[0]              r2norm\n",
      "     1        -1.1171e-01          7.304e+00\n",
      "     2        -1.9710e-02          3.071e+00\n",
      "     3        -2.8854e-03          1.927e+00\n",
      "     4        -4.0296e-04          2.015e+00\n",
      "     5        -5.6577e-05          1.911e+00\n",
      "\n",
      "Iterations = 5        Total time (s) = 0.00\n",
      "--------------------------------------------------------------------------------\n",
      "\n"
     ]
    }
   ],
   "source": [
    "rcallback = ResidualNormCallback(1e-1)\n",
    "irlssolve = IRLS(Aop, callbacks=[rcallback, ])\n",
    "\n",
    "irlssolve.setup(y=y, epsI=0.1, tolIRLS=0, kind=\"model\", show=True)\n",
    "xirls = irlssolve.run(np.zeros(Aop.shape[1], dtype=Aop.dtype), nouter=100, iter_lim=2, show=True)\n",
    "irlssolve.finalize(show=True)"
   ]
  },
  {
   "cell_type": "code",
   "execution_count": 121,
   "id": "6dd83165",
   "metadata": {},
   "outputs": [
    {
     "data": {
      "text/plain": [
       "([19.25227816221631,\n",
       "  7.304401996632209,\n",
       "  3.0711133126126477,\n",
       "  1.9274029549009553,\n",
       "  2.014666844038568,\n",
       "  1.9107061204362645],\n",
       " 0.09924571545959344)"
      ]
     },
     "execution_count": 121,
     "metadata": {},
     "output_type": "execute_result"
    }
   ],
   "source": [
    "irlssolve.cost, irlssolve.cost[-1] / irlssolve.cost[0]"
   ]
  },
  {
   "cell_type": "code",
   "execution_count": 122,
   "id": "3ce88e97",
   "metadata": {},
   "outputs": [
    {
     "data": {
      "text/plain": [
       "[<matplotlib.lines.Line2D at 0x17d90fd90>]"
      ]
     },
     "execution_count": 122,
     "metadata": {},
     "output_type": "execute_result"
    },
    {
     "data": {
      "image/png": "[encoded data removed]",
      "text/plain": [
       "<Figure size 800x600 with 1 Axes>"
      ]
     },
     "metadata": {},
     "output_type": "display_data"
    }
   ],
   "source": [
    "plt.plot(x)\n",
    "plt.plot(xirls)"
   ]
  },
  {
   "cell_type": "code",
   "execution_count": 123,
   "id": "6d0d014f",
   "metadata": {},
   "outputs": [
    {
     "name": "stdout",
     "output_type": "stream",
     "text": [
      "SplitBregman\n",
      "-----------------------------------------------------------------\n",
      "The Operator Op has 100 rows and 50 cols\n",
      "niter_outer =   8     niter_inner =   5   tol = 1.00e-10\n",
      "mu = 1.00e+00         epsL1 = [0.1]\t  epsL2 = []\n",
      "-----------------------------------------------------------------\n",
      "    Itn       x[0]           r2norm           r12norm\n",
      "     1    -6.2784e-06       2.676e-06        3.001e+00\n",
      "     2    -6.5184e-06       2.666e-06        3.001e+00\n",
      "     3    -6.7600e-06       2.656e-06        3.001e+00\n",
      "     4    -6.9959e-06       2.646e-06        3.001e+00\n",
      "     5    -7.2292e-06       2.636e-06        3.001e+00\n",
      "     6    -7.4599e-06       2.627e-06        3.001e+00\n",
      "     7    -7.6879e-06       2.617e-06        3.001e+00\n",
      "     8    -7.9134e-06       2.608e-06        3.001e+00\n",
      "\n",
      "Iterations = 8        Total time (s) = 0.01\n",
      "-----------------------------------------------------------------\n",
      "\n"
     ]
    },
    {
     "data": {
      "text/plain": [
       "(8,\n",
       " array([3.00117749, 3.00116953, 3.0011616 , 3.00115375, 3.00114596,\n",
       "        3.00113822, 3.00113053, 3.0011229 ]),\n",
       " np.float64(0.99998435281906),\n",
       " np.float64(0.9999818103869937))"
      ]
     },
     "execution_count": 123,
     "metadata": {},
     "output_type": "execute_result"
    }
   ],
   "source": [
    "xest1, iiter, cost = splitbregman(Aop, y, RegsL1=[Identity(x.shape),], epsRL1s=[.1, ],\n",
    "                                  rtol=0.9, niter_outer=8, niter_inner=5, show=True)\n",
    "iiter, cost, cost[-2] / cost[0], cost[-1] / cost[0]\n"
   ]
  }
 ],
 "metadata": {
  "kernelspec": {
   "display_name": "pylops",
   "language": "python",
   "name": "python3"
  },
  "language_info": {
   "codemirror_mode": {
    "name": "ipython",
    "version": 3
   },
   "file_extension": ".py",
   "mimetype": "text/x-python",
   "name": "python",
   "nbconvert_exporter": "python",
   "pygments_lexer": "ipython3",
   "version": "3.13.5"
  },
  "toc": {
   "base_numbering": 1,
   "nav_menu": {},
   "number_sections": true,
   "sideBar": true,
   "skip_h1_title": false,
   "title_cell": "Table of Contents",
   "title_sidebar": "Contents",
   "toc_cell": false,
   "toc_position": {
    "height": "calc(100% - 180px)",
    "left": "10px",
    "top": "150px",
    "width": "303px"
   },
   "toc_section_display": true,
   "toc_window_display": true
  }
 },
 "nbformat": 4,
 "nbformat_minor": 5
}
