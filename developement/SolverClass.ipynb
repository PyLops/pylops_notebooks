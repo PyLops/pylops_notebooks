{
 "cells": [
  {
   "cell_type": "markdown",
   "id": "f7120e12",
   "metadata": {},
   "source": [
    "# PyLops - Class-based solvers in v2\n",
    "\n",
    "This notebook provides a tour of the new class-based solvers in PyLops and how they can be invoked with different level of abstraction (more abstraction <-> less flexibility)"
   ]
  },
  {
   "cell_type": "code",
   "execution_count": 1,
   "id": "ae6ca8ec",
   "metadata": {},
   "outputs": [],
   "source": [
    "%load_ext autoreload\n",
    "%autoreload 2\n",
    "%matplotlib inline\n",
    "\n",
    "#import warnings\n",
    "#warnings.filterwarnings('ignore')\n",
    "\n",
    "import numpy as np\n",
    "import matplotlib.pyplot as plt\n",
    "import scipy as sp\n",
    "\n",
    "import pylops\n",
    "from scipy.sparse.linalg import cg as sp_cg\n",
    "from pylops.optimization.basicc import CG, CGLS, LSQR\n",
    "from pylops.optimization.leastsquaresc import NormalEquationsInversion, RegularizedInversion, PreconditionedInversion\n",
    "from pylops.optimization.basic import cg, cgls, lsqr\n",
    "from pylops.optimization.leastsquares import normal_equations_inversion, regularized_inversion, preconditioned_inversion\n",
    "from pylops.optimization.solver_old import cg as cg_old\n",
    "from pylops.optimization.solver_old import cgls as cgls_old\n",
    "from pylops.optimization.solver_old import lsqr as lsqr_old\n",
    "from pylops.optimization.leastsquares_old import NormalEquationsInversion as normal_equations_inversion_old\n",
    "from pylops.optimization.leastsquares_old import RegularizedInversion as regularized_inversion_old\n",
    "from pylops.optimization.leastsquares_old import PreconditionedInversion as preconditioned_inversion_old"
   ]
  },
  {
   "cell_type": "markdown",
   "id": "762ae6f3",
   "metadata": {},
   "source": [
    "## CG"
   ]
  },
  {
   "cell_type": "code",
   "execution_count": 2,
   "id": "cd2cf985",
   "metadata": {},
   "outputs": [],
   "source": [
    "np.random.seed(1)\n",
    "ny, nx = 100, 50\n",
    "x = np.ones(nx)\n",
    "A = np.random.normal(0, 1, (ny, nx))\n",
    "A = A.T @ A\n",
    "Aop = pylops.MatrixMult(A)\n",
    "y = A @ x"
   ]
  },
  {
   "cell_type": "code",
   "execution_count": 3,
   "id": "88a6884f",
   "metadata": {},
   "outputs": [],
   "source": [
    "def callback(xx, xhist):\n",
    "    #print(f'Ciao {xx}')\n",
    "    xhist.append(xx.copy())"
   ]
  },
  {
   "cell_type": "markdown",
   "id": "53b0447a",
   "metadata": {},
   "source": [
    "### Step-by-step solver\n",
    "\n",
    "The most verbose of the options:\n",
    "\n",
    "- Create the solver object\n",
    "- Setup the solver with data, solver hyperparameters (and, optionally, the initial guess). This will return the initial guess to be passed to step\n",
    "- Step the solver Niter times passing x (at iter i-1) and obtaining x (at iter i)\n",
    "- Optionally interleave step with callback\n",
    "- Finalize solver"
   ]
  },
  {
   "cell_type": "code",
   "execution_count": 4,
   "id": "1237b897",
   "metadata": {
    "scrolled": false
   },
   "outputs": [
    {
     "name": "stdout",
     "output_type": "stream",
     "text": [
      "CG\n",
      "-----------------------------------------------------------\n",
      "The Operator Op has 50 rows and 50 cols\n",
      "tol = 0.000000e+00\n",
      "-----------------------------------------------------------\n",
      "    Itn           x[0]              r2norm\n",
      "     1         6.2305e-03         3.2678e+02\n",
      "    11         1.0200e+00         2.6365e+00\n",
      "    21         9.9997e-01         2.2388e-02\n",
      "    31         1.0000e+00         8.4359e-05\n",
      "    41         1.0000e+00         5.0076e-08\n",
      "    51         1.0000e+00         7.1325e-12\n",
      "    61         1.0000e+00         3.7793e-23\n",
      "    71         1.0000e+00         3.9676e-27\n",
      "    81         1.0000e+00         8.8582e-31\n",
      "    91         1.0000e+00         4.5517e-34\n",
      "\n",
      "Iterations = 100        Total time (s) = 0.01\n",
      "-----------------------------------------------------------------\n",
      "\n"
     ]
    }
   ],
   "source": [
    "cgsolve = CG(Aop)\n",
    "\n",
    "xhist = []\n",
    "cgsolve.callback = lambda x: callback(x, xhist)\n",
    "\n",
    "x = cgsolve.setup(y=y, x0=np.zeros(nx), tol=0, show=True)\n",
    "for i in range(ny):\n",
    "    x = cgsolve.step(x, True if i % 10 == 0 else False)\n",
    "    cgsolve.callback(x)\n",
    "cgsolve.finalize(True)\n",
    "xest = x.copy()"
   ]
  },
  {
   "cell_type": "code",
   "execution_count": 5,
   "id": "fe409793",
   "metadata": {},
   "outputs": [
    {
     "data": {
      "text/plain": [
       "array([ 0.00623054, -0.08018339,  0.39960984,  0.62411442,  1.08859636,\n",
       "        0.38381985,  0.6964201 ,  1.04585291,  0.75853243,  0.68292631,\n",
       "        0.3161173 ,  0.27607787,  0.72731135,  0.52669676,  0.11739324,\n",
       "        0.14758833,  0.85023401,  0.80690362,  1.26129193,  0.48751973,\n",
       "        0.12586797,  0.88287304,  0.81393472,  0.81674471,  0.17009951,\n",
       "       -0.10212194,  1.09518642,  1.10737678,  0.00483318,  0.71825152,\n",
       "        0.41483263,  0.92885864,  0.72719834,  0.30835651,  0.00494972,\n",
       "        0.39449335, -0.01485279,  0.1739736 ,  0.97196505,  0.24290925,\n",
       "        0.98533785,  0.3677009 ,  0.6948482 ,  0.82346676,  1.19474566,\n",
       "        0.91422985,  0.67712503,  0.64024807,  0.68718705,  0.89545759])"
      ]
     },
     "execution_count": 5,
     "metadata": {},
     "output_type": "execute_result"
    }
   ],
   "source": [
    "xhist[0]"
   ]
  },
  {
   "cell_type": "code",
   "execution_count": 6,
   "id": "984b17be",
   "metadata": {},
   "outputs": [
    {
     "name": "stdout",
     "output_type": "stream",
     "text": [
      "CG\n",
      "-----------------------------------------------------------\n",
      "The Operator Op has 50 rows and 50 cols\n",
      "tol = 0.000000e+00\n",
      "-----------------------------------------------------------\n",
      "    Itn           x[0]              r2norm\n",
      "     1         6.2305e-03         3.2678e+02\n",
      "     2         5.4117e-01         1.4894e+02\n",
      "     3         8.2224e-01         7.2608e+01\n",
      "     4         9.1420e-01         4.7116e+01\n",
      "     5         1.0986e+00         2.8867e+01\n",
      "     6         1.0980e+00         1.7638e+01\n",
      "     7         1.0594e+00         1.1285e+01\n",
      "     8         1.0419e+00         7.3059e+00\n",
      "     9         1.0396e+00         5.4244e+00\n",
      "    10         1.0275e+00         3.8095e+00\n",
      "    11         1.0200e+00         2.6365e+00\n",
      "    21         9.9997e-01         2.2388e-02\n",
      "    31         1.0000e+00         8.4359e-05\n",
      "    41         1.0000e+00         5.0076e-08\n",
      "    51         1.0000e+00         7.1325e-12\n",
      "    61         1.0000e+00         3.7793e-23\n",
      "    71         1.0000e+00         3.9676e-27\n",
      "    81         1.0000e+00         8.8582e-31\n",
      "    91         1.0000e+00         4.5517e-34\n",
      "    92         1.0000e+00         2.5001e-34\n",
      "    93         1.0000e+00         8.0507e-35\n",
      "    94         1.0000e+00         2.0451e-35\n",
      "    95         1.0000e+00         6.0370e-36\n",
      "    96         1.0000e+00         3.8522e-36\n",
      "    97         1.0000e+00         8.9707e-37\n",
      "    98         1.0000e+00         3.3066e-37\n",
      "    99         1.0000e+00         1.4835e-37\n",
      "   100         1.0000e+00         6.4710e-38\n",
      "\n",
      "Iterations = 100        Total time (s) = 0.01\n",
      "-----------------------------------------------------------------\n",
      "\n"
     ]
    }
   ],
   "source": [
    "cgsolve = CG(Aop)\n",
    "\n",
    "xhist = []\n",
    "cgsolve.callback = lambda x: callback(x, xhist)\n",
    "\n",
    "x = cgsolve.setup(y=y, x0=np.zeros(nx), tol=0, show=True)\n",
    "x = cgsolve.run(x, ny, show=True)\n",
    "cgsolve.finalize(True)\n",
    "xest = x.copy()"
   ]
  },
  {
   "cell_type": "markdown",
   "id": "875ad00c",
   "metadata": {},
   "source": [
    "### Class based solver\n",
    "\n",
    "The second most verbose of the options:\n",
    "\n",
    "- Create the solver object\n",
    "- Run the solve method with data, initial model and solver hyperparameters"
   ]
  },
  {
   "cell_type": "code",
   "execution_count": 7,
   "id": "64de4c5f",
   "metadata": {},
   "outputs": [
    {
     "name": "stdout",
     "output_type": "stream",
     "text": [
      "CG\n",
      "-----------------------------------------------------------\n",
      "The Operator Op has 50 rows and 50 cols\n",
      "tol = 0.000000e+00\tniter = 100\n",
      "-----------------------------------------------------------\n",
      "    Itn           x[0]              r2norm\n",
      "     1         6.2305e-03         3.2678e+02\n",
      "     2         5.4117e-01         1.4894e+02\n",
      "     3         8.2224e-01         7.2608e+01\n",
      "     4         9.1420e-01         4.7116e+01\n",
      "    11         1.0200e+00         2.6365e+00\n",
      "    21         9.9997e-01         2.2388e-02\n",
      "    31         1.0000e+00         8.4359e-05\n",
      "    41         1.0000e+00         5.0076e-08\n",
      "    51         1.0000e+00         7.1325e-12\n",
      "    61         1.0000e+00         3.7793e-23\n",
      "    71         1.0000e+00         3.9676e-27\n",
      "    81         1.0000e+00         8.8582e-31\n",
      "    91         1.0000e+00         4.5517e-34\n",
      "    99         1.0000e+00         1.4835e-37\n",
      "   100         1.0000e+00         6.4710e-38\n",
      "\n",
      "Iterations = 100        Total time (s) = 0.01\n",
      "-----------------------------------------------------------------\n",
      "\n"
     ]
    }
   ],
   "source": [
    "# class based solver\n",
    "cgsolve = CG(Aop)\n",
    "xest1 = cgsolve.solve(y=y, x0=np.zeros(nx), tol=0, \n",
    "                      niter=ny, show=True, itershow=[4,3,10])[0]"
   ]
  },
  {
   "cell_type": "markdown",
   "id": "798c269b",
   "metadata": {},
   "source": [
    "### Function based solver\n",
    "\n",
    "The least verbose of the options (like in PyLops v1). Simply call the function equivalent of the solver that is a thin wrapper around what just did in the previous code block."
   ]
  },
  {
   "cell_type": "code",
   "execution_count": 8,
   "id": "b6f58a76",
   "metadata": {},
   "outputs": [
    {
     "name": "stdout",
     "output_type": "stream",
     "text": [
      "CG\n",
      "-----------------------------------------------------------\n",
      "The Operator Op has 50 rows and 50 cols\n",
      "tol = 0.000000e+00\tniter = 100\n",
      "-----------------------------------------------------------\n",
      "    Itn           x[0]              r2norm\n",
      "     1         6.2305e-03         3.2678e+02\n",
      "     2         5.4117e-01         1.4894e+02\n",
      "     3         8.2224e-01         7.2608e+01\n",
      "     4         9.1420e-01         4.7116e+01\n",
      "     5         1.0986e+00         2.8867e+01\n",
      "     6         1.0980e+00         1.7638e+01\n",
      "     7         1.0594e+00         1.1285e+01\n",
      "     8         1.0419e+00         7.3059e+00\n",
      "     9         1.0396e+00         5.4244e+00\n",
      "    10         1.0275e+00         3.8095e+00\n",
      "    11         1.0200e+00         2.6365e+00\n",
      "    21         9.9997e-01         2.2388e-02\n",
      "    31         1.0000e+00         8.4359e-05\n",
      "    41         1.0000e+00         5.0076e-08\n",
      "    51         1.0000e+00         7.1325e-12\n",
      "    61         1.0000e+00         3.7793e-23\n",
      "    71         1.0000e+00         3.9676e-27\n",
      "    81         1.0000e+00         8.8582e-31\n",
      "    91         1.0000e+00         4.5517e-34\n",
      "    92         1.0000e+00         2.5001e-34\n",
      "    93         1.0000e+00         8.0507e-35\n",
      "    94         1.0000e+00         2.0451e-35\n",
      "    95         1.0000e+00         6.0370e-36\n",
      "    96         1.0000e+00         3.8522e-36\n",
      "    97         1.0000e+00         8.9707e-37\n",
      "    98         1.0000e+00         3.3066e-37\n",
      "    99         1.0000e+00         1.4835e-37\n",
      "   100         1.0000e+00         6.4710e-38\n",
      "\n",
      "Iterations = 100        Total time (s) = 0.01\n",
      "-----------------------------------------------------------------\n",
      "\n",
      "CG\n",
      "-----------------------------------------------------------\n",
      "The Operator Op has 50 rows and 50 cols\n",
      "tol = 0.000000e+00\tniter = 100\n",
      "-----------------------------------------------------------\n",
      "    Itn           x[0]              r2norm\n",
      "     1         6.2305e-03         3.2678e+02\n",
      "     2         5.4117e-01         1.4894e+02\n",
      "     3         8.2224e-01         7.2608e+01\n",
      "     4         9.1420e-01         4.7116e+01\n",
      "     5         1.0986e+00         2.8867e+01\n",
      "     6         1.0980e+00         1.7638e+01\n",
      "     7         1.0594e+00         1.1285e+01\n",
      "     8         1.0419e+00         7.3059e+00\n",
      "     9         1.0396e+00         5.4244e+00\n",
      "    10         1.0275e+00         3.8095e+00\n",
      "    20         9.9980e-01         3.5949e-02\n",
      "    30         1.0000e+00         1.2406e-04\n",
      "    40         1.0000e+00         1.2184e-07\n",
      "    50         1.0000e+00         2.5407e-11\n",
      "    60         1.0000e+00         2.0641e-21\n",
      "    70         1.0000e+00         9.1928e-27\n",
      "    80         1.0000e+00         2.1336e-30\n",
      "    90         1.0000e+00         7.1090e-34\n",
      "    91         1.0000e+00         4.5517e-34\n",
      "    92         1.0000e+00         2.5001e-34\n",
      "    93         1.0000e+00         8.0507e-35\n",
      "    94         1.0000e+00         2.0451e-35\n",
      "    95         1.0000e+00         6.0370e-36\n",
      "    96         1.0000e+00         3.8522e-36\n",
      "    97         1.0000e+00         8.9707e-37\n",
      "    98         1.0000e+00         3.3066e-37\n",
      "    99         1.0000e+00         1.4835e-37\n",
      "   100         1.0000e+00         6.4710e-38\n",
      "\n",
      "Iterations = 100        Total time (s) = 0.00\n",
      "-----------------------------------------------------------------\n",
      "\n"
     ]
    }
   ],
   "source": [
    "xhist = []\n",
    "xest2 = cg(Aop, y, np.zeros(nx), niter=ny, tol=0, show=True, \n",
    "           callback=lambda x: callback(x, xhist))[0]\n",
    "xest3 = cg_old(Aop, y, np.zeros(nx), niter=ny, tol=0, show=True)[0]"
   ]
  },
  {
   "cell_type": "code",
   "execution_count": 9,
   "id": "4590244d",
   "metadata": {},
   "outputs": [
    {
     "data": {
      "text/plain": [
       "array([ 0.00623054, -0.08018339,  0.39960984,  0.62411442,  1.08859636,\n",
       "        0.38381985,  0.6964201 ,  1.04585291,  0.75853243,  0.68292631,\n",
       "        0.3161173 ,  0.27607787,  0.72731135,  0.52669676,  0.11739324,\n",
       "        0.14758833,  0.85023401,  0.80690362,  1.26129193,  0.48751973,\n",
       "        0.12586797,  0.88287304,  0.81393472,  0.81674471,  0.17009951,\n",
       "       -0.10212194,  1.09518642,  1.10737678,  0.00483318,  0.71825152,\n",
       "        0.41483263,  0.92885864,  0.72719834,  0.30835651,  0.00494972,\n",
       "        0.39449335, -0.01485279,  0.1739736 ,  0.97196505,  0.24290925,\n",
       "        0.98533785,  0.3677009 ,  0.6948482 ,  0.82346676,  1.19474566,\n",
       "        0.91422985,  0.67712503,  0.64024807,  0.68718705,  0.89545759])"
      ]
     },
     "execution_count": 9,
     "metadata": {},
     "output_type": "execute_result"
    }
   ],
   "source": [
    "xhist[0]"
   ]
  },
  {
   "cell_type": "code",
   "execution_count": 10,
   "id": "06114677",
   "metadata": {},
   "outputs": [
    {
     "data": {
      "text/plain": [
       "(0.0, 2.0)"
      ]
     },
     "execution_count": 10,
     "metadata": {},
     "output_type": "execute_result"
    },
    {
     "data": {
      "image/png": "[encoded data removed]",
      "text/plain": [
       "<Figure size 432x288 with 1 Axes>"
      ]
     },
     "metadata": {
      "needs_background": "light"
     },
     "output_type": "display_data"
    }
   ],
   "source": [
    "plt.plot(x)\n",
    "plt.plot(xest)\n",
    "plt.plot(xest1)\n",
    "plt.plot(xest2)\n",
    "plt.ylim(0, 2)"
   ]
  },
  {
   "cell_type": "code",
   "execution_count": 11,
   "id": "2c6c30e5",
   "metadata": {},
   "outputs": [
    {
     "data": {
      "text/plain": [
       "(array([0., 0., 0., 0., 0., 0., 0., 0., 0., 0., 0., 0., 0., 0., 0., 0., 0.,\n",
       "        0., 0., 0., 0., 0., 0., 0., 0., 0., 0., 0., 0., 0., 0., 0., 0., 0.,\n",
       "        0., 0., 0., 0., 0., 0., 0., 0., 0., 0., 0., 0., 0., 0., 0., 0.]),\n",
       " array([0., 0., 0., 0., 0., 0., 0., 0., 0., 0., 0., 0., 0., 0., 0., 0., 0.,\n",
       "        0., 0., 0., 0., 0., 0., 0., 0., 0., 0., 0., 0., 0., 0., 0., 0., 0.,\n",
       "        0., 0., 0., 0., 0., 0., 0., 0., 0., 0., 0., 0., 0., 0., 0., 0.]),\n",
       " array([0., 0., 0., 0., 0., 0., 0., 0., 0., 0., 0., 0., 0., 0., 0., 0., 0.,\n",
       "        0., 0., 0., 0., 0., 0., 0., 0., 0., 0., 0., 0., 0., 0., 0., 0., 0.,\n",
       "        0., 0., 0., 0., 0., 0., 0., 0., 0., 0., 0., 0., 0., 0., 0., 0.]))"
      ]
     },
     "execution_count": 11,
     "metadata": {},
     "output_type": "execute_result"
    }
   ],
   "source": [
    "xest-xest1, xest1-xest2, xest1-xest3"
   ]
  },
  {
   "cell_type": "markdown",
   "id": "611cc96d",
   "metadata": {},
   "source": [
    "## CG with complex numbers"
   ]
  },
  {
   "cell_type": "code",
   "execution_count": 12,
   "id": "04b866fe",
   "metadata": {},
   "outputs": [],
   "source": [
    "ny, nx = 100, 50\n",
    "x = np.ones(nx) + 1j*np.ones(nx)\n",
    "A = np.random.normal(0, 1, (ny, nx))\n",
    "A = A.T @ A\n",
    "Aop = pylops.MatrixMult(A)\n",
    "y = A @ x"
   ]
  },
  {
   "cell_type": "code",
   "execution_count": 13,
   "id": "e51ca158",
   "metadata": {},
   "outputs": [
    {
     "name": "stdout",
     "output_type": "stream",
     "text": [
      "CG\n",
      "-----------------------------------------------------------\n",
      "The Operator Op has 50 rows and 50 cols\n",
      "tol = 0.000000e+00\tniter = 100\n",
      "-----------------------------------------------------------\n",
      "    Itn              x[0]                  r2norm\n",
      "     1        5.17e-01+5.17e-01j         4.5201e+02\n",
      "     2        7.99e-01+7.99e-01j         1.9958e+02\n",
      "     3        9.80e-01+9.80e-01j         1.2913e+02\n",
      "     4        1.15e+00+1.15e+00j         7.1300e+01\n",
      "     5        1.20e+00+1.20e+00j         4.5552e+01\n",
      "     6        1.16e+00+1.16e+00j         3.2619e+01\n",
      "     7        1.08e+00+1.08e+00j         1.4674e+01\n",
      "     8        1.06e+00+1.06e+00j         1.1070e+01\n",
      "     9        1.02e+00+1.02e+00j         9.0341e+00\n",
      "    10        1.00e+00+1.00e+00j         4.8805e+00\n",
      "    11        9.98e-01+9.98e-01j         3.1756e+00\n",
      "    21        1.00e+00+1.00e+00j         3.6058e-02\n",
      "    31        1.00e+00+1.00e+00j         1.8360e-04\n",
      "    41        1.00e+00+1.00e+00j         8.4551e-07\n",
      "    51        1.00e+00+1.00e+00j         1.3686e-11\n",
      "    61        1.00e+00+1.00e+00j         1.7601e-22\n",
      "    71        1.00e+00+1.00e+00j         2.2244e-26\n",
      "    81        1.00e+00+1.00e+00j         5.4942e-29\n",
      "    91        1.00e+00+1.00e+00j         2.1815e-32\n",
      "    92        1.00e+00+1.00e+00j         7.9899e-33\n",
      "    93        1.00e+00+1.00e+00j         3.7400e-33\n",
      "    94        1.00e+00+1.00e+00j         1.1888e-33\n",
      "    95        1.00e+00+1.00e+00j         8.4753e-34\n",
      "    96        1.00e+00+1.00e+00j         1.9523e-34\n",
      "    97        1.00e+00+1.00e+00j         1.4625e-34\n",
      "    98        1.00e+00+1.00e+00j         4.6757e-35\n",
      "    99        1.00e+00+1.00e+00j         1.4679e-35\n",
      "   100        1.00e+00+1.00e+00j         2.6957e-36\n",
      "\n",
      "Iterations = 100        Total time (s) = 0.01\n",
      "-----------------------------------------------------------------\n",
      "\n",
      "CG\n",
      "-----------------------------------------------------------\n",
      "The Operator Op has 50 rows and 50 cols\n",
      "tol = 0.000000e+00\tniter = 100\n",
      "-----------------------------------------------------------\n",
      "    Itn           x[0]              r2norm\n",
      "     1    5.2e-01 + 5.2e-01j     4.5201e+02\n",
      "     2    8.0e-01 + 8.0e-01j     1.9958e+02\n",
      "     3    9.8e-01 + 9.8e-01j     1.2913e+02\n",
      "     4    1.1e+00 + 1.1e+00j     7.1300e+01\n",
      "     5    1.2e+00 + 1.2e+00j     4.5552e+01\n",
      "     6    1.2e+00 + 1.2e+00j     3.2619e+01\n",
      "     7    1.1e+00 + 1.1e+00j     1.4674e+01\n",
      "     8    1.1e+00 + 1.1e+00j     1.1070e+01\n",
      "     9    1.0e+00 + 1.0e+00j     9.0341e+00\n",
      "    10    1.0e+00 + 1.0e+00j     4.8805e+00\n",
      "    20    1.0e+00 + 1.0e+00j     6.3498e-02\n",
      "    30    1.0e+00 + 1.0e+00j     3.0231e-04\n",
      "    40    1.0e+00 + 1.0e+00j     1.1189e-06\n",
      "    50    1.0e+00 + 1.0e+00j     8.2702e-11\n",
      "    60    1.0e+00 + 1.0e+00j     5.6966e-22\n",
      "    70    1.0e+00 + 1.0e+00j     1.1005e-25\n",
      "    80    1.0e+00 + 1.0e+00j     1.0217e-28\n",
      "    90    1.0e+00 + 1.0e+00j     3.5384e-32\n",
      "    91    1.0e+00 + 1.0e+00j     2.1815e-32\n",
      "    92    1.0e+00 + 1.0e+00j     7.9899e-33\n",
      "    93    1.0e+00 + 1.0e+00j     3.7400e-33\n",
      "    94    1.0e+00 + 1.0e+00j     1.1888e-33\n",
      "    95    1.0e+00 + 1.0e+00j     8.4753e-34\n",
      "    96    1.0e+00 + 1.0e+00j     1.9523e-34\n",
      "    97    1.0e+00 + 1.0e+00j     1.4625e-34\n",
      "    98    1.0e+00 + 1.0e+00j     4.6757e-35\n",
      "    99    1.0e+00 + 1.0e+00j     1.4679e-35\n",
      "   100    1.0e+00 + 1.0e+00j     2.6957e-36\n",
      "\n",
      "Iterations = 100        Total time (s) = 0.01\n",
      "-----------------------------------------------------------------\n",
      "\n"
     ]
    }
   ],
   "source": [
    "# function based solver\n",
    "xest2 = cg(Aop, y, np.zeros(nx) + 1j*np.zeros(nx), niter=ny, tol=0, show=True)[0]#, callback=callback)[0]\n",
    "xest3 = cg_old(Aop, y, np.zeros(nx) + 1j*np.zeros(nx), niter=ny, tol=0, show=True)[0]"
   ]
  },
  {
   "cell_type": "markdown",
   "id": "ae2952b1",
   "metadata": {},
   "source": [
    "## CG with multiple RHS (just to remember it does not work right now!)"
   ]
  },
  {
   "cell_type": "raw",
   "id": "fe3d6b25",
   "metadata": {},
   "source": [
    "np.random.seed(1)\n",
    "ny, nx, nrhs = 100, 50, 4\n",
    "x = np.outer(np.ones(nx), np.arange(nrhs)+1)\n",
    "A = np.random.normal(0, 1, (ny, nx))\n",
    "A = A.T @ A\n",
    "Aop = pylops.MatrixMult(A)\n",
    "y = A @ x"
   ]
  },
  {
   "cell_type": "raw",
   "id": "98821749",
   "metadata": {},
   "source": [
    "cgsolve = CG(Aop)\n",
    "xest = cgsolve.solve(y=y[:, 0], x0=np.zeros(nx), tol=0, niter=ny, show=True)[0]\n",
    "print(xest-x[:, 0])\n",
    "\n",
    "xest = cgsolve.solve(y=y[:, 3], x0=np.zeros(nx), tol=0, niter=ny, show=True)[0]\n",
    "print(xest-x[:, 3])"
   ]
  },
  {
   "cell_type": "raw",
   "id": "b5a61328",
   "metadata": {},
   "source": [
    "xest = cgsolve.solve(y=y, x0=np.zeros((nx, nrhs)), tol=0, niter=ny, show=True)[0]\n",
    "print(xest-x[:, 3])"
   ]
  },
  {
   "cell_type": "raw",
   "id": "cea1a2a6",
   "metadata": {},
   "source": [
    "xest = sp_cg(Aop, y, maxiter=4)"
   ]
  },
  {
   "cell_type": "markdown",
   "id": "dc815090",
   "metadata": {},
   "source": [
    "# CGLS"
   ]
  },
  {
   "cell_type": "code",
   "execution_count": 14,
   "id": "f4587305",
   "metadata": {},
   "outputs": [],
   "source": [
    "np.random.seed(1)\n",
    "ny, nx = 100, 50\n",
    "x = np.ones(nx)\n",
    "A = np.random.normal(0, 1, (ny, nx))\n",
    "Aop = pylops.MatrixMult(A)\n",
    "y = A @ x"
   ]
  },
  {
   "cell_type": "code",
   "execution_count": 15,
   "id": "8b9f83a8",
   "metadata": {},
   "outputs": [],
   "source": [
    "def callback(xx, xhist):\n",
    "    #print(f'Ciao {xx}')\n",
    "    xhist.append(xx.copy())"
   ]
  },
  {
   "cell_type": "markdown",
   "id": "deb459e0",
   "metadata": {},
   "source": [
    "## Step-by-step solver"
   ]
  },
  {
   "cell_type": "code",
   "execution_count": 16,
   "id": "29eb4c10",
   "metadata": {},
   "outputs": [
    {
     "name": "stdout",
     "output_type": "stream",
     "text": [
      "CGLS\n",
      "-----------------------------------------------------------\n",
      "The Operator Op has 100 rows and 50 cols\n",
      "damp = 0.000000e+00\ttol = 0.000000e+00\t\n",
      "-----------------------------------------------------------\n",
      "    Itn          x[0]              r1norm         r2norm\n",
      "     1        6.2305e-03         3.1506e+01     3.1506e+01\n",
      "    11        1.0200e+00         3.8881e-01     3.8881e-01\n",
      "    21        9.9997e-01         3.2320e-03     3.2320e-03\n",
      "    31        1.0000e+00         1.2494e-05     1.2494e-05\n",
      "    41        1.0000e+00         1.1135e-08     1.1135e-08\n",
      "    51        1.0000e+00         9.6590e-13     9.6590e-13\n",
      "    61        1.0000e+00         1.2919e-14     1.2919e-14\n",
      "    71        1.0000e+00         1.2919e-14     1.2919e-14\n",
      "    81        1.0000e+00         1.2919e-14     1.2919e-14\n",
      "    91        1.0000e+00         1.2919e-14     1.2919e-14\n",
      "\n",
      "Iterations = 100        Total time (s) = 0.01\n",
      "-----------------------------------------------------------------\n",
      "\n"
     ]
    }
   ],
   "source": [
    "cgsolve = CGLS(Aop)\n",
    "\n",
    "xhist = []\n",
    "cgsolve.callback = lambda x: callback(x, xhist)\n",
    "\n",
    "x = cgsolve.setup(y=y, x0=np.zeros(nx), tol=0, show=True)\n",
    "for i in range(ny):\n",
    "    x = cgsolve.step(x, True if i % 10 == 0 else False)\n",
    "    cgsolve.callback(x)\n",
    "cgsolve.finalize(True)\n",
    "xest = x.copy()"
   ]
  },
  {
   "cell_type": "markdown",
   "id": "dceab12d",
   "metadata": {},
   "source": [
    "## Class based solver"
   ]
  },
  {
   "cell_type": "code",
   "execution_count": 17,
   "id": "453d2d3e",
   "metadata": {},
   "outputs": [
    {
     "name": "stdout",
     "output_type": "stream",
     "text": [
      "CGLS\n",
      "-----------------------------------------------------------\n",
      "The Operator Op has 100 rows and 50 cols\n",
      "damp = 0.000000e+00\ttol = 0.000000e+00\tniter = 100\n",
      "-----------------------------------------------------------\n",
      "    Itn          x[0]              r1norm         r2norm\n",
      "     1        6.2305e-03         3.1506e+01     3.1506e+01\n",
      "     2        5.4117e-01         1.5690e+01     1.5690e+01\n",
      "     3        8.2224e-01         9.2479e+00     9.2479e+00\n",
      "     4        9.1420e-01         6.3248e+00     6.3248e+00\n",
      "    11        1.0200e+00         3.8881e-01     3.8881e-01\n",
      "    21        9.9997e-01         3.2320e-03     3.2320e-03\n",
      "    31        1.0000e+00         1.2494e-05     1.2494e-05\n",
      "    41        1.0000e+00         1.1135e-08     1.1135e-08\n",
      "    51        1.0000e+00         9.6590e-13     9.6590e-13\n",
      "    61        1.0000e+00         1.2919e-14     1.2919e-14\n",
      "    71        1.0000e+00         1.2919e-14     1.2919e-14\n",
      "    81        1.0000e+00         1.2919e-14     1.2919e-14\n",
      "    91        1.0000e+00         1.2919e-14     1.2919e-14\n",
      "    99        1.0000e+00         1.2919e-14     1.2919e-14\n",
      "   100        1.0000e+00         1.2919e-14     1.2919e-14\n",
      "\n",
      "Iterations = 100        Total time (s) = 0.01\n",
      "-----------------------------------------------------------------\n",
      "\n"
     ]
    }
   ],
   "source": [
    "# class based solver\n",
    "cgsolve = CGLS(Aop)\n",
    "xest1 = cgsolve.solve(y=y, x0=np.zeros(nx), tol=0, \n",
    "                      niter=ny, show=True, itershow=[4,3,10])[0]"
   ]
  },
  {
   "cell_type": "markdown",
   "id": "af82b037",
   "metadata": {},
   "source": [
    "## Function based solver"
   ]
  },
  {
   "cell_type": "code",
   "execution_count": 18,
   "id": "c8fad298",
   "metadata": {},
   "outputs": [
    {
     "name": "stdout",
     "output_type": "stream",
     "text": [
      "CGLS\n",
      "-----------------------------------------------------------\n",
      "The Operator Op has 100 rows and 50 cols\n",
      "damp = 0.000000e+00\ttol = 0.000000e+00\tniter = 100\n",
      "-----------------------------------------------------------\n",
      "    Itn          x[0]              r1norm         r2norm\n",
      "     1        6.2305e-03         3.1506e+01     3.1506e+01\n",
      "     2        5.4117e-01         1.5690e+01     1.5690e+01\n",
      "     3        8.2224e-01         9.2479e+00     9.2479e+00\n",
      "     4        9.1420e-01         6.3248e+00     6.3248e+00\n",
      "     5        1.0986e+00         3.7566e+00     3.7566e+00\n",
      "     6        1.0980e+00         2.3773e+00     2.3773e+00\n",
      "     7        1.0594e+00         1.5883e+00     1.5883e+00\n",
      "     8        1.0419e+00         1.1075e+00     1.1075e+00\n",
      "     9        1.0396e+00         7.8965e-01     7.8965e-01\n",
      "    10        1.0275e+00         5.7929e-01     5.7929e-01\n",
      "    11        1.0200e+00         3.8881e-01     3.8881e-01\n",
      "    21        9.9997e-01         3.2320e-03     3.2320e-03\n",
      "    31        1.0000e+00         1.2494e-05     1.2494e-05\n",
      "    41        1.0000e+00         1.1135e-08     1.1135e-08\n",
      "    51        1.0000e+00         9.6590e-13     9.6590e-13\n",
      "    61        1.0000e+00         1.2919e-14     1.2919e-14\n",
      "    71        1.0000e+00         1.2919e-14     1.2919e-14\n",
      "    81        1.0000e+00         1.2919e-14     1.2919e-14\n",
      "    91        1.0000e+00         1.2919e-14     1.2919e-14\n",
      "    92        1.0000e+00         1.2919e-14     1.2919e-14\n",
      "    93        1.0000e+00         1.2919e-14     1.2919e-14\n",
      "    94        1.0000e+00         1.2919e-14     1.2919e-14\n",
      "    95        1.0000e+00         1.2919e-14     1.2919e-14\n",
      "    96        1.0000e+00         1.2919e-14     1.2919e-14\n",
      "    97        1.0000e+00         1.2919e-14     1.2919e-14\n",
      "    98        1.0000e+00         1.2919e-14     1.2919e-14\n",
      "    99        1.0000e+00         1.2919e-14     1.2919e-14\n",
      "   100        1.0000e+00         1.2919e-14     1.2919e-14\n",
      "\n",
      "Iterations = 100        Total time (s) = 0.01\n",
      "-----------------------------------------------------------------\n",
      "\n",
      "CGLS\n",
      "-----------------------------------------------------------\n",
      "The Operator Op has 100 rows and 50 cols\n",
      "damp = 0.000000e+00\ttol = 0.000000e+00\tniter = 100\n",
      "-----------------------------------------------------------\n",
      "    Itn           x[0]              r1norm          r2norm\n",
      "     1         6.2305e-03         3.1506e+01      3.1506e+01\n",
      "     2         5.4117e-01         1.5690e+01      1.5690e+01\n",
      "     3         8.2224e-01         9.2479e+00      9.2479e+00\n",
      "     4         9.1420e-01         6.3248e+00      6.3248e+00\n",
      "     5         1.0986e+00         3.7566e+00      3.7566e+00\n",
      "     6         1.0980e+00         2.3773e+00      2.3773e+00\n",
      "     7         1.0594e+00         1.5883e+00      1.5883e+00\n",
      "     8         1.0419e+00         1.1075e+00      1.1075e+00\n",
      "     9         1.0396e+00         7.8965e-01      7.8965e-01\n",
      "    10         1.0275e+00         5.7929e-01      5.7929e-01\n",
      "    20         9.9980e-01         5.6887e-03      5.6887e-03\n",
      "    30         1.0000e+00         1.9986e-05      1.9986e-05\n",
      "    40         1.0000e+00         1.7671e-08      1.7671e-08\n",
      "    50         1.0000e+00         3.0349e-12      3.0349e-12\n",
      "    60         1.0000e+00         1.2919e-14      1.2919e-14\n",
      "    70         1.0000e+00         1.2919e-14      1.2919e-14\n",
      "    80         1.0000e+00         1.2919e-14      1.2919e-14\n",
      "    90         1.0000e+00         1.2919e-14      1.2919e-14\n",
      "    91         1.0000e+00         1.2919e-14      1.2919e-14\n",
      "    92         1.0000e+00         1.2919e-14      1.2919e-14\n",
      "    93         1.0000e+00         1.2919e-14      1.2919e-14\n",
      "    94         1.0000e+00         1.2919e-14      1.2919e-14\n",
      "    95         1.0000e+00         1.2919e-14      1.2919e-14\n",
      "    96         1.0000e+00         1.2919e-14      1.2919e-14\n",
      "    97         1.0000e+00         1.2919e-14      1.2919e-14\n",
      "    98         1.0000e+00         1.2919e-14      1.2919e-14\n",
      "    99         1.0000e+00         1.2919e-14      1.2919e-14\n",
      "   100         1.0000e+00         1.2919e-14      1.2919e-14\n",
      "\n",
      "Iterations = 100        Total time (s) = 0.01\n",
      "-----------------------------------------------------------------\n",
      "\n"
     ]
    }
   ],
   "source": [
    "xhist = []\n",
    "xest2 = cgls(Aop, y, np.zeros(nx), niter=ny, tol=0, show=True, \n",
    "           callback=lambda x: callback(x, xhist))[0]\n",
    "xest3 = cgls_old(Aop, y, np.zeros(nx), niter=ny, tol=0, show=True)[0]"
   ]
  },
  {
   "cell_type": "code",
   "execution_count": 19,
   "id": "268b7879",
   "metadata": {},
   "outputs": [
    {
     "data": {
      "text/plain": [
       "(0.0, 2.0)"
      ]
     },
     "execution_count": 19,
     "metadata": {},
     "output_type": "execute_result"
    },
    {
     "data": {
      "image/png": "[encoded data removed]",
      "text/plain": [
       "<Figure size 432x288 with 1 Axes>"
      ]
     },
     "metadata": {
      "needs_background": "light"
     },
     "output_type": "display_data"
    }
   ],
   "source": [
    "plt.plot(x)\n",
    "plt.plot(xest)\n",
    "plt.plot(xest1)\n",
    "plt.plot(xest2)\n",
    "plt.ylim(0, 2)"
   ]
  },
  {
   "cell_type": "markdown",
   "id": "3925a391",
   "metadata": {},
   "source": [
    "## CGLS with complex numbers"
   ]
  },
  {
   "cell_type": "code",
   "execution_count": 20,
   "id": "21a97991",
   "metadata": {},
   "outputs": [],
   "source": [
    "ny, nx = 100, 50\n",
    "x = np.ones(nx) + 1j*np.ones(nx)\n",
    "A = np.random.normal(0, 1, (ny, nx))\n",
    "Aop = pylops.MatrixMult(A)\n",
    "y = A @ x"
   ]
  },
  {
   "cell_type": "code",
   "execution_count": 21,
   "id": "f0655a9d",
   "metadata": {},
   "outputs": [
    {
     "name": "stdout",
     "output_type": "stream",
     "text": [
      "CGLS\n",
      "-----------------------------------------------------------\n",
      "The Operator Op has 100 rows and 50 cols\n",
      "damp = 0.000000e+00\ttol = 0.000000e+00\tniter = 100\n",
      "-----------------------------------------------------------\n",
      "    Itn             x[0]             r1norm         r2norm\n",
      "     1       5.17e-01+5.17e-01j    4.6880e+01     4.6880e+01\n",
      "     2       7.99e-01+7.99e-01j    2.4899e+01     2.4899e+01\n",
      "     3       9.80e-01+9.80e-01j    1.5539e+01     1.5539e+01\n",
      "     4       1.15e+00+1.15e+00j    9.2586e+00     9.2586e+00\n",
      "     5       1.20e+00+1.20e+00j    5.9991e+00     5.9991e+00\n",
      "     6       1.16e+00+1.16e+00j    3.7820e+00     3.7820e+00\n",
      "     7       1.08e+00+1.08e+00j    2.4593e+00     2.4593e+00\n",
      "     8       1.06e+00+1.06e+00j    1.7537e+00     1.7537e+00\n",
      "     9       1.02e+00+1.02e+00j    1.1751e+00     1.1751e+00\n",
      "    10       1.00e+00+1.00e+00j    6.7791e-01     6.7791e-01\n",
      "    11       9.98e-01+9.98e-01j    4.2278e-01     4.2278e-01\n",
      "    21       1.00e+00+1.00e+00j    5.3401e-03     5.3401e-03\n",
      "    31       1.00e+00+1.00e+00j    3.4978e-05     3.4978e-05\n",
      "    41       1.00e+00+1.00e+00j    9.7395e-08     9.7395e-08\n",
      "    51       1.00e+00+1.00e+00j    2.2342e-12     2.2342e-12\n",
      "    61       1.00e+00+1.00e+00j    2.8768e-14     2.8768e-14\n",
      "    71       1.00e+00+1.00e+00j    2.8768e-14     2.8768e-14\n",
      "    81       1.00e+00+1.00e+00j    2.8768e-14     2.8768e-14\n",
      "    91       1.00e+00+1.00e+00j    2.8768e-14     2.8768e-14\n",
      "    92       1.00e+00+1.00e+00j    2.8768e-14     2.8768e-14\n",
      "    93       1.00e+00+1.00e+00j    2.8768e-14     2.8768e-14\n",
      "    94       1.00e+00+1.00e+00j    2.8768e-14     2.8768e-14\n",
      "    95       1.00e+00+1.00e+00j    2.8768e-14     2.8768e-14\n",
      "    96       1.00e+00+1.00e+00j    2.8768e-14     2.8768e-14\n",
      "    97       1.00e+00+1.00e+00j    2.8768e-14     2.8768e-14\n",
      "    98       1.00e+00+1.00e+00j    2.8768e-14     2.8768e-14\n",
      "    99       1.00e+00+1.00e+00j    2.8768e-14     2.8768e-14\n",
      "   100       1.00e+00+1.00e+00j    2.8768e-14     2.8768e-14\n",
      "\n",
      "Iterations = 100        Total time (s) = 0.02\n",
      "-----------------------------------------------------------------\n",
      "\n",
      "CGLS\n",
      "-----------------------------------------------------------\n",
      "The Operator Op has 100 rows and 50 cols\n",
      "damp = 0.000000e+00\ttol = 0.000000e+00\tniter = 100\n",
      "-----------------------------------------------------------\n",
      "    Itn           x[0]              r1norm          r2norm\n",
      "     1    5.2e-01 + 5.2e-01j     4.6880e+01      4.6880e+01\n",
      "     2    8.0e-01 + 8.0e-01j     2.4899e+01      2.4899e+01\n",
      "     3    9.8e-01 + 9.8e-01j     1.5539e+01      1.5539e+01\n",
      "     4    1.1e+00 + 1.1e+00j     9.2586e+00      9.2586e+00\n",
      "     5    1.2e+00 + 1.2e+00j     5.9991e+00      5.9991e+00\n",
      "     6    1.2e+00 + 1.2e+00j     3.7820e+00      3.7820e+00\n",
      "     7    1.1e+00 + 1.1e+00j     2.4593e+00      2.4593e+00\n",
      "     8    1.1e+00 + 1.1e+00j     1.7537e+00      1.7537e+00\n",
      "     9    1.0e+00 + 1.0e+00j     1.1751e+00      1.1751e+00\n",
      "    10    1.0e+00 + 1.0e+00j     6.7791e-01      6.7791e-01\n",
      "    20    1.0e+00 + 1.0e+00j     9.4657e-03      9.4657e-03\n",
      "    30    1.0e+00 + 1.0e+00j     5.1030e-05      5.1030e-05\n",
      "    40    1.0e+00 + 1.0e+00j     1.5455e-07      1.5455e-07\n",
      "    50    1.0e+00 + 1.0e+00j     9.6280e-12      9.6280e-12\n",
      "    60    1.0e+00 + 1.0e+00j     2.8768e-14      2.8768e-14\n",
      "    70    1.0e+00 + 1.0e+00j     2.8768e-14      2.8768e-14\n",
      "    80    1.0e+00 + 1.0e+00j     2.8768e-14      2.8768e-14\n",
      "    90    1.0e+00 + 1.0e+00j     2.8768e-14      2.8768e-14\n",
      "    91    1.0e+00 + 1.0e+00j     2.8768e-14      2.8768e-14\n",
      "    92    1.0e+00 + 1.0e+00j     2.8768e-14      2.8768e-14\n",
      "    93    1.0e+00 + 1.0e+00j     2.8768e-14      2.8768e-14\n",
      "    94    1.0e+00 + 1.0e+00j     2.8768e-14      2.8768e-14\n",
      "    95    1.0e+00 + 1.0e+00j     2.8768e-14      2.8768e-14\n",
      "    96    1.0e+00 + 1.0e+00j     2.8768e-14      2.8768e-14\n",
      "    97    1.0e+00 + 1.0e+00j     2.8768e-14      2.8768e-14\n",
      "    98    1.0e+00 + 1.0e+00j     2.8768e-14      2.8768e-14\n",
      "    99    1.0e+00 + 1.0e+00j     2.8768e-14      2.8768e-14\n",
      "   100    1.0e+00 + 1.0e+00j     2.8768e-14      2.8768e-14\n",
      "\n",
      "Iterations = 100        Total time (s) = 0.03\n",
      "-----------------------------------------------------------------\n",
      "\n"
     ]
    }
   ],
   "source": [
    "# function based solver\n",
    "xest2 = cgls(Aop, y, np.zeros(nx) + 1j*np.zeros(nx), niter=ny, tol=0, show=True)[0]#, callback=callback)[0]\n",
    "xest3 = cgls_old(Aop, y, np.zeros(nx) + 1j*np.zeros(nx), niter=ny, tol=0, show=True)[0]"
   ]
  },
  {
   "cell_type": "code",
   "execution_count": 22,
   "id": "7ed6c8b5",
   "metadata": {},
   "outputs": [
    {
     "data": {
      "text/plain": [
       "array([0.+0.j, 0.+0.j, 0.+0.j, 0.+0.j, 0.+0.j, 0.+0.j, 0.+0.j, 0.+0.j,\n",
       "       0.+0.j, 0.+0.j, 0.+0.j, 0.+0.j, 0.+0.j, 0.+0.j, 0.+0.j, 0.+0.j,\n",
       "       0.+0.j, 0.+0.j, 0.+0.j, 0.+0.j, 0.+0.j, 0.+0.j, 0.+0.j, 0.+0.j,\n",
       "       0.+0.j, 0.+0.j, 0.+0.j, 0.+0.j, 0.+0.j, 0.+0.j, 0.+0.j, 0.+0.j,\n",
       "       0.+0.j, 0.+0.j, 0.+0.j, 0.+0.j, 0.+0.j, 0.+0.j, 0.+0.j, 0.+0.j,\n",
       "       0.+0.j, 0.+0.j, 0.+0.j, 0.+0.j, 0.+0.j, 0.+0.j, 0.+0.j, 0.+0.j,\n",
       "       0.+0.j, 0.+0.j])"
      ]
     },
     "execution_count": 22,
     "metadata": {},
     "output_type": "execute_result"
    }
   ],
   "source": [
    "xest2-xest3"
   ]
  },
  {
   "cell_type": "markdown",
   "id": "63704151",
   "metadata": {},
   "source": [
    "# LSQR"
   ]
  },
  {
   "cell_type": "code",
   "execution_count": 23,
   "id": "44e41e69",
   "metadata": {},
   "outputs": [],
   "source": [
    "np.random.seed(1)\n",
    "ny, nx = 100, 50\n",
    "x = np.ones(nx)\n",
    "A = np.random.normal(0, 1, (ny, nx))\n",
    "Aop = pylops.MatrixMult(A)\n",
    "y = A @ x"
   ]
  },
  {
   "cell_type": "code",
   "execution_count": 24,
   "id": "852177be",
   "metadata": {},
   "outputs": [],
   "source": [
    "def callback(xx, xhist):\n",
    "    #print(f'Ciao {xx}')\n",
    "    xhist.append(xx.copy())"
   ]
  },
  {
   "cell_type": "markdown",
   "id": "a8892692",
   "metadata": {},
   "source": [
    "## Step-by-step solver"
   ]
  },
  {
   "cell_type": "code",
   "execution_count": 25,
   "id": "0a86d165",
   "metadata": {
    "scrolled": false
   },
   "outputs": [
    {
     "name": "stdout",
     "output_type": "stream",
     "text": [
      "LSQR\n",
      "-----------------------------------------------------------\n",
      "The Operator Op has 100 rows and 50 cols\n",
      "damp = 0.00000000000000e+00     calc_var =      1\n",
      "atol = 0.00e+00                 conlim = 1.00e+08\n",
      "btol = 1.00e-08                 niter =       10\n",
      "-----------------------------------------------------------\n",
      "   Itn     x[0]      r1norm     r2norm   Compatible   LS     Norm A   Cond A\n",
      "     0  0.0000e+00  7.253e+01  7.253e+01   1.0e+00  1.7e-01\n",
      "     1  6.2305e-03  3.151e+01  3.151e+01   4.3e-01  3.7e-01  1.4e+01  1.0e+00\n",
      "    11  1.0200e+00  3.888e-01  3.888e-01   5.4e-03  3.0e-03  4.0e+01  1.6e+01\n",
      "    21  9.9997e-01  3.232e-03  3.232e-03   4.5e-05  2.5e-05  5.2e+01  3.2e+01\n",
      "    31  1.0000e+00  1.249e-05  1.249e-05   1.7e-07  9.6e-08  6.1e+01  4.7e+01\n",
      "    41  1.0000e+00  8.147e-09  8.147e-09   1.1e-10  9.3e-11  6.9e+01  6.1e+01\n",
      "    51  1.0000e+00  9.661e-13  9.661e-13   1.3e-14  8.1e-15  7.7e+01  7.4e+01\n",
      "    61  1.0000e+00  9.996e-15  9.996e-15   1.4e-16  2.4e-25  8.5e+01  9.1e+01\n",
      "    71  1.0000e+00  9.996e-15  9.996e-15   1.4e-16  1.3e-29  9.3e+01  1.1e+02\n",
      "    81  1.0000e+00  9.996e-15  9.996e-15   1.4e-16  3.3e-33  9.9e+01  1.2e+02\n",
      "    91  1.0000e+00  9.996e-15  9.996e-15   1.4e-16  6.8e-37  1.0e+02  1.4e+02\n",
      " \n",
      "LSQR finished, Opx - b is small enough, given atol, btol                  \n",
      " \n",
      "istop =       1   r1norm = 1.0e-14   anorm = 1.1e+02   arnorm = 3.9e-37\n",
      "itn   =     100   r2norm = 1.0e-14   acond = 1.5e+02   xnorm  = 7.1e+00\n",
      "Total time (s) = 0.01\n",
      "-----------------------------------------------------------------------\n",
      "\n"
     ]
    }
   ],
   "source": [
    "lsqrsolve = LSQR(Aop)\n",
    "\n",
    "xhist = []\n",
    "lsqrsolve.callback = lambda x: callback(x, xhist)\n",
    "\n",
    "x = lsqrsolve.setup(y=y, x0=np.zeros(nx), atol=0, show=True)\n",
    "for i in range(ny):\n",
    "    x = lsqrsolve.step(x, True if i % 10 == 0 else False)\n",
    "    cgsolve.callback(x)\n",
    "lsqrsolve.finalize(True)\n",
    "xest = x.copy()"
   ]
  },
  {
   "cell_type": "markdown",
   "id": "2e04a441",
   "metadata": {},
   "source": [
    "## Class based solver"
   ]
  },
  {
   "cell_type": "code",
   "execution_count": 26,
   "id": "5bc1bf39",
   "metadata": {},
   "outputs": [
    {
     "name": "stdout",
     "output_type": "stream",
     "text": [
      "LSQR\n",
      "-----------------------------------------------------------\n",
      "The Operator Op has 100 rows and 50 cols\n",
      "damp = 0.00000000000000e+00     calc_var =      1\n",
      "atol = 0.00e+00                 conlim = 1.00e+08\n",
      "btol = 0.00e+00                 niter =      100\n",
      "-----------------------------------------------------------\n",
      "   Itn     x[0]      r1norm     r2norm   Compatible   LS     Norm A   Cond A\n",
      "     0  0.0000e+00  7.253e+01  7.253e+01   1.0e+00  1.7e-01\n",
      "     1  6.2305e-03  3.151e+01  3.151e+01   4.3e-01  3.7e-01  1.4e+01  1.0e+00\n",
      "     2  5.4117e-01  1.569e+01  1.569e+01   2.2e-01  1.7e-01  1.9e+01  2.2e+00\n",
      "     3  8.2224e-01  9.248e+00  9.248e+00   1.3e-01  8.2e-02  2.3e+01  3.4e+00\n",
      "     4  9.1420e-01  6.325e+00  6.325e+00   8.7e-02  5.3e-02  2.6e+01  4.7e+00\n",
      "    11  1.0200e+00  3.888e-01  3.888e-01   5.4e-03  3.0e-03  4.0e+01  1.6e+01\n",
      "    21  9.9997e-01  3.232e-03  3.232e-03   4.5e-05  2.5e-05  5.2e+01  3.2e+01\n",
      "    31  1.0000e+00  1.249e-05  1.249e-05   1.7e-07  9.6e-08  6.1e+01  4.7e+01\n",
      "    41  1.0000e+00  8.147e-09  8.147e-09   1.1e-10  9.3e-11  6.9e+01  6.1e+01\n",
      "    51  1.0000e+00  9.661e-13  9.661e-13   1.3e-14  8.1e-15  7.7e+01  7.4e+01\n",
      " \n",
      "LSQR finished, Opx - b is small enough for this machine                   \n",
      " \n",
      "istop =       4   r1norm = 2.7e-14   anorm = 7.8e+01   arnorm = 2.1e-13\n",
      "itn   =      53   r2norm = 2.7e-14   acond = 7.7e+01   xnorm  = 7.1e+00\n",
      "Total time (s) = 0.01\n",
      "-----------------------------------------------------------------------\n",
      "\n"
     ]
    }
   ],
   "source": [
    "# class based solver\n",
    "lsqrsolve = LSQR(Aop)\n",
    "xest1 = lsqrsolve.solve(y=y, x0=np.zeros(nx), atol=0, btol=0, \n",
    "                        niter=ny, show=True, itershow=[4,3,10])[0]"
   ]
  },
  {
   "cell_type": "markdown",
   "id": "9f03dbac",
   "metadata": {},
   "source": [
    "## Function based solver"
   ]
  },
  {
   "cell_type": "code",
   "execution_count": 27,
   "id": "3302dbc1",
   "metadata": {},
   "outputs": [
    {
     "name": "stdout",
     "output_type": "stream",
     "text": [
      "LSQR\n",
      "-----------------------------------------------------------\n",
      "The Operator Op has 100 rows and 50 cols\n",
      "damp = 0.00000000000000e+00     calc_var =      1\n",
      "atol = 0.00e+00                 conlim = 1.00e+08\n",
      "btol = 1.00e-08                 niter =      100\n",
      "-----------------------------------------------------------\n",
      "   Itn     x[0]      r1norm     r2norm   Compatible   LS     Norm A   Cond A\n",
      "     0  0.0000e+00  7.253e+01  7.253e+01   1.0e+00  1.7e-01\n",
      "     1  6.2305e-03  3.151e+01  3.151e+01   4.3e-01  3.7e-01  1.4e+01  1.0e+00\n",
      "     2  5.4117e-01  1.569e+01  1.569e+01   2.2e-01  1.7e-01  1.9e+01  2.2e+00\n",
      "     3  8.2224e-01  9.248e+00  9.248e+00   1.3e-01  8.2e-02  2.3e+01  3.4e+00\n",
      "     4  9.1420e-01  6.325e+00  6.325e+00   8.7e-02  5.3e-02  2.6e+01  4.7e+00\n",
      "     5  1.0986e+00  3.757e+00  3.757e+00   5.2e-02  3.3e-02  2.8e+01  6.4e+00\n",
      "     6  1.0980e+00  2.377e+00  2.377e+00   3.3e-02  2.0e-02  3.1e+01  7.9e+00\n",
      "     7  1.0594e+00  1.588e+00  1.588e+00   2.2e-02  1.3e-02  3.3e+01  9.5e+00\n",
      "     8  1.0419e+00  1.108e+00  1.108e+00   1.5e-02  8.3e-03  3.5e+01  1.1e+01\n",
      "     9  1.0396e+00  7.896e-01  7.896e-01   1.1e-02  6.1e-03  3.7e+01  1.3e+01\n",
      "    10  1.0275e+00  5.793e-01  5.793e-01   8.0e-03  4.3e-03  3.9e+01  1.4e+01\n",
      "    11  1.0200e+00  3.888e-01  3.888e-01   5.4e-03  3.0e-03  4.0e+01  1.6e+01\n",
      "    21  9.9997e-01  3.232e-03  3.232e-03   4.5e-05  2.5e-05  5.2e+01  3.2e+01\n",
      "    31  1.0000e+00  1.249e-05  1.249e-05   1.7e-07  9.6e-08  6.1e+01  4.7e+01\n",
      "    33  1.0000e+00  3.214e-06  3.214e-06   4.4e-08  2.7e-08  6.2e+01  5.0e+01\n",
      "    34  1.0000e+00  1.687e-06  1.687e-06   2.3e-08  1.6e-08  6.3e+01  5.1e+01\n",
      "    35  1.0000e+00  1.199e-06  1.199e-06   1.7e-08  1.2e-08  6.4e+01  5.3e+01\n",
      "    36  1.0000e+00  6.321e-07  6.321e-07   8.7e-09  4.6e-09  6.6e+01  5.4e+01\n",
      " \n",
      "LSQR finished, Opx - b is small enough, given atol, btol                  \n",
      " \n",
      "istop =       1   r1norm = 6.3e-07   anorm = 6.6e+01   arnorm = 4.1e-06\n",
      "itn   =      36   r2norm = 6.3e-07   acond = 5.4e+01   xnorm  = 7.1e+00\n",
      "Total time (s) = 0.01\n",
      "-----------------------------------------------------------------------\n",
      "\n",
      "LSQR\n",
      "-------------------------------------------------\n",
      "The Operator Op has 100 rows and 50 cols\n",
      "damp = 0.00000000000000e+00     calc_var =      1\n",
      "atol = 0.00e+00                 conlim = 1.00e+08\n",
      "btol = 1.00e-08                 niter =      100\n",
      "-------------------------------------------------\n",
      " \n",
      "   Itn      x[0]       r1norm     r2norm  Compatible   LS      Norm A   Cond A\n",
      "     0  0.00000e+00  7.253e+01  7.253e+01   1.0e+00  1.7e-01\n",
      "     1  6.23054e-03  3.151e+01  3.151e+01   4.3e-01  3.7e-01  1.4e+01  1.0e+00\n",
      "     2  5.41168e-01  1.569e+01  1.569e+01   2.2e-01  1.7e-01  1.9e+01  2.2e+00\n",
      "     3  8.22240e-01  9.248e+00  9.248e+00   1.3e-01  8.2e-02  2.3e+01  3.4e+00\n",
      "     4  9.14204e-01  6.325e+00  6.325e+00   8.7e-02  5.3e-02  2.6e+01  4.7e+00\n",
      "     5  1.09859e+00  3.757e+00  3.757e+00   5.2e-02  3.3e-02  2.8e+01  6.4e+00\n",
      "     6  1.09802e+00  2.377e+00  2.377e+00   3.3e-02  2.0e-02  3.1e+01  7.9e+00\n",
      "     7  1.05941e+00  1.588e+00  1.588e+00   2.2e-02  1.3e-02  3.3e+01  9.5e+00\n",
      "     8  1.04192e+00  1.108e+00  1.108e+00   1.5e-02  8.3e-03  3.5e+01  1.1e+01\n",
      "     9  1.03961e+00  7.896e-01  7.896e-01   1.1e-02  6.1e-03  3.7e+01  1.3e+01\n",
      "    10  1.02749e+00  5.793e-01  5.793e-01   8.0e-03  4.3e-03  3.9e+01  1.4e+01\n",
      "    20  9.99796e-01  5.689e-03  5.689e-03   7.8e-05  4.1e-05  5.1e+01  3.1e+01\n",
      "    30  1.00000e+00  1.999e-05  1.999e-05   2.8e-07  1.4e-07  6.0e+01  4.5e+01\n",
      "    32  1.00000e+00  6.502e-06  6.502e-06   9.0e-08  5.3e-08  6.2e+01  4.8e+01\n",
      "    33  1.00000e+00  3.214e-06  3.214e-06   4.4e-08  2.7e-08  6.2e+01  5.0e+01\n",
      "    34  1.00000e+00  1.687e-06  1.687e-06   2.3e-08  1.6e-08  6.3e+01  5.1e+01\n",
      "    35  1.00000e+00  1.199e-06  1.199e-06   1.7e-08  1.2e-08  6.4e+01  5.3e+01\n",
      "    36  1.00000e+00  6.321e-07  6.321e-07   8.7e-09  4.6e-09  6.6e+01  5.4e+01\n",
      " \n",
      "LSQR finished, Opx - b is small enough, given atol, btol                  \n",
      " \n",
      "istop =       1   r1norm = 6.3e-07   anorm = 6.6e+01   arnorm = 4.1e-06\n",
      "itn   =      36   r2norm = 6.3e-07   acond = 5.4e+01   xnorm  = 7.1e+00\n",
      "Total time (s) = 0.00\n",
      "-----------------------------------------------------------------------\n",
      "\n"
     ]
    }
   ],
   "source": [
    "xhist = []\n",
    "xest2 = lsqr(Aop, y, np.zeros(nx), niter=ny, atol=0, show=True, \n",
    "             callback=lambda x: callback(x, xhist))[0]\n",
    "xest3 = lsqr_old(Aop, y, np.zeros(nx), niter=ny, atol=0, show=True)[0]"
   ]
  },
  {
   "cell_type": "code",
   "execution_count": 28,
   "id": "d90eca77",
   "metadata": {},
   "outputs": [
    {
     "data": {
      "text/plain": [
       "(0.0, 2.0)"
      ]
     },
     "execution_count": 28,
     "metadata": {},
     "output_type": "execute_result"
    },
    {
     "data": {
      "image/png": "[encoded data removed]",
      "text/plain": [
       "<Figure size 432x288 with 1 Axes>"
      ]
     },
     "metadata": {
      "needs_background": "light"
     },
     "output_type": "display_data"
    }
   ],
   "source": [
    "plt.plot(x)\n",
    "plt.plot(xest)\n",
    "plt.plot(xest1)\n",
    "plt.plot(xest2)\n",
    "plt.ylim(0, 2)"
   ]
  },
  {
   "cell_type": "markdown",
   "id": "4961df49",
   "metadata": {},
   "source": [
    "## LSQR with complex numbers"
   ]
  },
  {
   "cell_type": "code",
   "execution_count": 29,
   "id": "579502a6",
   "metadata": {},
   "outputs": [],
   "source": [
    "ny, nx = 100, 50\n",
    "x = np.ones(nx) + 1j*np.ones(nx)\n",
    "A = np.random.normal(0, 1, (ny, nx))\n",
    "Aop = pylops.MatrixMult(A)\n",
    "y = A @ x"
   ]
  },
  {
   "cell_type": "code",
   "execution_count": 30,
   "id": "632ed7e2",
   "metadata": {},
   "outputs": [
    {
     "name": "stdout",
     "output_type": "stream",
     "text": [
      "LSQR\n",
      "-----------------------------------------------------------\n",
      "The Operator Op has 100 rows and 50 cols\n",
      "damp = 0.00000000000000e+00     calc_var =      1\n",
      "atol = 0.00e+00                 conlim = 1.00e+08\n",
      "btol = 1.00e-08                 niter =      100\n",
      "-----------------------------------------------------------\n",
      "   Itn           x[0]           r1norm    r2norm   Compatible   LS     Norm A   Cond A\n",
      "     0 0.00e+00+0.00e+00j     9.498e+01  9.498e+01   1.0e+00  1.3e-01\n",
      "     1 5.17e-01+5.17e-01j     4.688e+01  4.688e+01   4.9e-01  3.9e-01  1.4e+01  1.0e+00\n",
      "     2 7.99e-01+7.99e-01j     2.490e+01  2.490e+01   2.6e-01  1.7e-01  1.9e+01  2.2e+00\n",
      "     3 9.80e-01+9.80e-01j     1.554e+01  1.554e+01   1.6e-01  1.1e-01  2.2e+01  3.5e+00\n",
      "     4 1.15e+00+1.15e+00j     9.259e+00  9.259e+00   9.7e-02  6.2e-02  2.5e+01  5.0e+00\n",
      "     5 1.20e+00+1.20e+00j     5.999e+00  5.999e+00   6.3e-02  3.9e-02  2.8e+01  6.5e+00\n",
      "     6 1.16e+00+1.16e+00j     3.782e+00  3.782e+00   4.0e-02  2.8e-02  3.0e+01  8.0e+00\n",
      "     7 1.08e+00+1.08e+00j     2.459e+00  2.459e+00   2.6e-02  1.3e-02  3.3e+01  9.6e+00\n",
      "     8 1.06e+00+1.06e+00j     1.754e+00  1.754e+00   1.8e-02  9.6e-03  3.4e+01  1.1e+01\n",
      "     9 1.02e+00+1.02e+00j     1.175e+00  1.175e+00   1.2e-02  7.8e-03  3.6e+01  1.3e+01\n",
      "    10 1.00e+00+1.00e+00j     6.779e-01  6.779e-01   7.1e-03  4.2e-03  3.8e+01  1.5e+01\n",
      "    11 9.98e-01+9.98e-01j     4.228e-01  4.228e-01   4.5e-03  2.7e-03  3.9e+01  1.6e+01\n",
      "    21 1.00e+00+1.00e+00j     5.340e-03  5.340e-03   5.6e-05  3.1e-05  5.2e+01  3.3e+01\n",
      "    31 1.00e+00+1.00e+00j     3.498e-05  3.498e-05   3.7e-07  1.6e-07  6.1e+01  4.8e+01\n",
      "    34 1.00e+00+1.00e+00j     4.912e-06  4.912e-06   5.2e-08  2.7e-08  6.3e+01  5.3e+01\n",
      "    35 1.00e+00+1.00e+00j     3.119e-06  3.119e-06   3.3e-08  1.9e-08  6.3e+01  5.4e+01\n",
      "    36 1.00e+00+1.00e+00j     2.115e-06  2.115e-06   2.2e-08  1.7e-08  6.4e+01  5.5e+01\n",
      "    37 1.00e+00+1.00e+00j     1.252e-06  1.252e-06   1.3e-08  7.6e-09  6.6e+01  5.7e+01\n",
      "    38 1.00e+00+1.00e+00j     5.602e-07  5.602e-07   5.9e-09  2.8e-09  6.6e+01  5.9e+01\n",
      " \n",
      "LSQR finished, Opx - b is small enough, given atol, btol                  \n",
      " \n",
      "istop =       1   r1norm = 5.6e-07   anorm = 6.6e+01   arnorm = 3.2e-06\n",
      "itn   =      38   r2norm = 5.6e-07   acond = 5.9e+01   xnorm  = 1.0e+01\n",
      "Total time (s) = 0.02\n",
      "-----------------------------------------------------------------------\n",
      "\n",
      "LSQR\n",
      "-------------------------------------------------\n",
      "The Operator Op has 100 rows and 50 cols\n",
      "damp = 0.00000000000000e+00     calc_var =      1\n",
      "atol = 0.00e+00                 conlim = 1.00e+08\n",
      "btol = 1.00e-08                 niter =      100\n",
      "-------------------------------------------------\n",
      " \n",
      "   Itn      x[0]       r1norm     r2norm  Compatible   LS      Norm A   Cond A\n",
      "     0 0.00000e+00+0.00000e+00j  9.498e+01  9.498e+01   1.0e+00  1.3e-01\n",
      "     1 5.16658e-01+5.16658e-01j  4.688e+01  4.688e+01   4.9e-01  3.9e-01  1.4e+01  1.0e+00\n",
      "     2 7.99339e-01+7.99339e-01j  2.490e+01  2.490e+01   2.6e-01  1.7e-01  1.9e+01  2.2e+00\n",
      "     3 9.79784e-01+9.79784e-01j  1.554e+01  1.554e+01   1.6e-01  1.1e-01  2.2e+01  3.5e+00\n",
      "     4 1.14776e+00+1.14776e+00j  9.259e+00  9.259e+00   9.7e-02  6.2e-02  2.5e+01  5.0e+00\n",
      "     5 1.19928e+00+1.19928e+00j  5.999e+00  5.999e+00   6.3e-02  3.9e-02  2.8e+01  6.5e+00\n",
      "     6 1.15564e+00+1.15564e+00j  3.782e+00  3.782e+00   4.0e-02  2.8e-02  3.0e+01  8.0e+00\n",
      "     7 1.08349e+00+1.08349e+00j  2.459e+00  2.459e+00   2.6e-02  1.3e-02  3.3e+01  9.6e+00\n",
      "     8 1.06297e+00+1.06297e+00j  1.754e+00  1.754e+00   1.8e-02  9.6e-03  3.4e+01  1.1e+01\n",
      "     9 1.02444e+00+1.02444e+00j  1.175e+00  1.175e+00   1.2e-02  7.8e-03  3.6e+01  1.3e+01\n",
      "    10 1.00200e+00+1.00200e+00j  6.779e-01  6.779e-01   7.1e-03  4.2e-03  3.8e+01  1.5e+01\n",
      "    20 1.00003e+00+1.00003e+00j  9.466e-03  9.466e-03   1.0e-04  5.5e-05  5.1e+01  3.1e+01\n",
      "    30 1.00000e+00+1.00000e+00j  5.103e-05  5.103e-05   5.4e-07  2.6e-07  6.0e+01  4.6e+01\n",
      "    33 1.00000e+00+1.00000e+00j  8.900e-06  8.900e-06   9.4e-08  5.2e-08  6.2e+01  5.1e+01\n",
      "    34 1.00000e+00+1.00000e+00j  4.912e-06  4.912e-06   5.2e-08  2.7e-08  6.3e+01  5.3e+01\n",
      "    35 1.00000e+00+1.00000e+00j  3.119e-06  3.119e-06   3.3e-08  1.9e-08  6.3e+01  5.4e+01\n",
      "    36 1.00000e+00+1.00000e+00j  2.115e-06  2.115e-06   2.2e-08  1.7e-08  6.4e+01  5.5e+01\n",
      "    37 1.00000e+00+1.00000e+00j  1.252e-06  1.252e-06   1.3e-08  7.6e-09  6.6e+01  5.7e+01\n",
      "    38 1.00000e+00+1.00000e+00j  5.602e-07  5.602e-07   5.9e-09  2.8e-09  6.6e+01  5.9e+01\n",
      " \n",
      "LSQR finished, Opx - b is small enough, given atol, btol                  \n",
      " \n",
      "istop =       1   r1norm = 5.6e-07   anorm = 6.6e+01   arnorm = 3.2e-06\n",
      "itn   =      38   r2norm = 5.6e-07   acond = 5.9e+01   xnorm  = 1.0e+01\n",
      "Total time (s) = 0.02\n",
      "-----------------------------------------------------------------------\n",
      "\n"
     ]
    }
   ],
   "source": [
    "# function based solver\n",
    "xest2 = lsqr(Aop, y, np.zeros(nx) + 1j*np.zeros(nx), niter=ny, atol=0, show=True)[0]\n",
    "xest3 = lsqr_old(Aop, y, np.zeros(nx) + 1j*np.zeros(nx), niter=ny, atol=0, show=True)[0]"
   ]
  },
  {
   "cell_type": "code",
   "execution_count": 31,
   "id": "10a3bf8e",
   "metadata": {},
   "outputs": [
    {
     "data": {
      "text/plain": [
       "array([0.+0.j, 0.+0.j, 0.+0.j, 0.+0.j, 0.+0.j, 0.+0.j, 0.+0.j, 0.+0.j,\n",
       "       0.+0.j, 0.+0.j, 0.+0.j, 0.+0.j, 0.+0.j, 0.+0.j, 0.+0.j, 0.+0.j,\n",
       "       0.+0.j, 0.+0.j, 0.+0.j, 0.+0.j, 0.+0.j, 0.+0.j, 0.+0.j, 0.+0.j,\n",
       "       0.+0.j, 0.+0.j, 0.+0.j, 0.+0.j, 0.+0.j, 0.+0.j, 0.+0.j, 0.+0.j,\n",
       "       0.+0.j, 0.+0.j, 0.+0.j, 0.+0.j, 0.+0.j, 0.+0.j, 0.+0.j, 0.+0.j,\n",
       "       0.+0.j, 0.+0.j, 0.+0.j, 0.+0.j, 0.+0.j, 0.+0.j, 0.+0.j, 0.+0.j,\n",
       "       0.+0.j, 0.+0.j])"
      ]
     },
     "execution_count": 31,
     "metadata": {},
     "output_type": "execute_result"
    }
   ],
   "source": [
    "xest2-xest3"
   ]
  },
  {
   "cell_type": "markdown",
   "id": "98a5c292",
   "metadata": {},
   "source": [
    "# NormalEquationInversion"
   ]
  },
  {
   "cell_type": "code",
   "execution_count": 32,
   "id": "4e82ed7e",
   "metadata": {},
   "outputs": [],
   "source": [
    "np.random.seed(1)\n",
    "ny, nx = 100, 50\n",
    "x = np.ones(nx)\n",
    "A = np.random.normal(0, 1, (ny, nx))\n",
    "A = A.T @ A\n",
    "Aop = pylops.MatrixMult(A)\n",
    "y = A @ x\n",
    "\n",
    "Dop = pylops.FirstDerivative(50)"
   ]
  },
  {
   "cell_type": "code",
   "execution_count": 33,
   "id": "5d33af90",
   "metadata": {},
   "outputs": [],
   "source": [
    "nesolve = NormalEquationsInversion(Aop)\n",
    "\n",
    "xhist = []\n",
    "nesolve.callback = lambda x: callback(x, xhist)\n",
    "\n",
    "# scipy\n",
    "nesolve.setup(y=y, Regs=[Dop, ], dataregs=[np.zeros(nx)], \n",
    "                  epsRs=[1e-1, ])\n",
    "x = nesolve.run(None, engine='scipy', **dict(maxiter=5))[0]\n",
    "nesolve.finalize()\n",
    "xest = x.copy()"
   ]
  },
  {
   "cell_type": "code",
   "execution_count": 34,
   "id": "f860a4bd",
   "metadata": {},
   "outputs": [
    {
     "name": "stdout",
     "output_type": "stream",
     "text": [
      "NormalEquationsInversion\n",
      "-----------------------------------------------------------\n",
      "The Operator Op has 50 rows and 50 cols\n",
      "Regs=[<50x50 FirstDerivative with dtype=float64>]\n",
      "epsRs=[0.1]     epsI=0\n",
      "-----------------------------------------------------------\n",
      "     1        -2.5795e-01         6.8784e+04\n",
      "     2        -1.3424e-01         3.9387e+04\n",
      "     3         2.0361e-01         2.4392e+04\n",
      "     4         2.8669e-01         1.5064e+04\n",
      "     5         3.8244e-01         9.3876e+03\n",
      "\n",
      "Total time (s) = 0.03\n",
      "-----------------------------------------------------------------\n",
      "\n"
     ]
    }
   ],
   "source": [
    "# pylops\n",
    "nesolve.setup(y=y, Regs=[Dop, ], dataregs=[np.zeros(nx)], \n",
    "                  epsRs=[1e-1, ], show=True)\n",
    "x = nesolve.run(None, engine='pylops', **dict(niter=5, show=True))[0]\n",
    "nesolve.finalize(True)\n",
    "xestpylops = x.copy()"
   ]
  },
  {
   "cell_type": "code",
   "execution_count": 35,
   "id": "2ba43eb9",
   "metadata": {},
   "outputs": [],
   "source": [
    "xest1 = normal_equations_inversion_old(Aop, Regs=[Dop, ], data=y, dataregs=[np.zeros(nx)], \n",
    "                                       epsRs=[1e-1, ], x0=np.zeros(nx), **dict(maxiter=5))"
   ]
  },
  {
   "cell_type": "code",
   "execution_count": 36,
   "id": "865004cd",
   "metadata": {},
   "outputs": [
    {
     "data": {
      "text/plain": [
       "(array([0., 0., 0., 0., 0., 0., 0., 0., 0., 0., 0., 0., 0., 0., 0., 0., 0.,\n",
       "        0., 0., 0., 0., 0., 0., 0., 0., 0., 0., 0., 0., 0., 0., 0., 0., 0.,\n",
       "        0., 0., 0., 0., 0., 0., 0., 0., 0., 0., 0., 0., 0., 0., 0., 0.]),\n",
       " array([ 2.77555756e-16,  1.11022302e-16,  2.22044605e-16,  3.33066907e-16,\n",
       "        -2.22044605e-16,  3.88578059e-16,  1.11022302e-16,  0.00000000e+00,\n",
       "         3.33066907e-16,  0.00000000e+00,  5.55111512e-17,  2.22044605e-16,\n",
       "         0.00000000e+00,  1.11022302e-16,  1.66533454e-16,  3.33066907e-16,\n",
       "         2.22044605e-16,  1.11022302e-16,  5.55111512e-16,  3.33066907e-16,\n",
       "         6.66133815e-16, -1.11022302e-16,  1.11022302e-16,  0.00000000e+00,\n",
       "         2.22044605e-16,  3.88578059e-16, -1.11022302e-16,  4.44089210e-16,\n",
       "         2.77555756e-16,  2.22044605e-16, -4.44089210e-16,  4.44089210e-16,\n",
       "         0.00000000e+00,  2.22044605e-16,  8.88178420e-16,  0.00000000e+00,\n",
       "         2.77555756e-16,  5.55111512e-17,  0.00000000e+00,  2.22044605e-16,\n",
       "        -1.11022302e-16, -2.22044605e-16, -2.22044605e-16,  2.22044605e-16,\n",
       "        -2.22044605e-16, -6.66133815e-16,  2.22044605e-16, -1.11022302e-16,\n",
       "         4.44089210e-16,  0.00000000e+00]))"
      ]
     },
     "execution_count": 36,
     "metadata": {},
     "output_type": "execute_result"
    }
   ],
   "source": [
    "xest-xest1, xestpylops-xest1"
   ]
  },
  {
   "cell_type": "code",
   "execution_count": 37,
   "id": "cf8aeb5c",
   "metadata": {},
   "outputs": [
    {
     "data": {
      "text/plain": [
       "[<matplotlib.lines.Line2D at 0x7fb20118bf10>]"
      ]
     },
     "execution_count": 37,
     "metadata": {},
     "output_type": "execute_result"
    },
    {
     "data": {
      "image/png": "[encoded data removed]",
      "text/plain": [
       "<Figure size 432x288 with 1 Axes>"
      ]
     },
     "metadata": {
      "needs_background": "light"
     },
     "output_type": "display_data"
    }
   ],
   "source": [
    "plt.plot(xest)\n",
    "plt.plot(xestpylops)"
   ]
  },
  {
   "cell_type": "code",
   "execution_count": 38,
   "id": "f3481295",
   "metadata": {
    "scrolled": true
   },
   "outputs": [
    {
     "name": "stdout",
     "output_type": "stream",
     "text": [
      "NormalEquationsInversion\n",
      "-----------------------------------------------------------\n",
      "The Operator Op has 50 rows and 50 cols\n",
      "Regs=[<50x50 FirstDerivative with dtype=float64>, <50x50 FirstDerivative with dtype=float64>]\n",
      "epsRs=[0.1, 0.01]     epsI=0\n",
      "-----------------------------------------------------------\n",
      "     1        -2.5795e-01         6.8784e+04\n",
      "     2        -1.3424e-01         3.9387e+04\n",
      "     3         2.0361e-01         2.4392e+04\n",
      "     4         2.8669e-01         1.5064e+04\n",
      "     5         3.8244e-01         9.3876e+03\n",
      "     6         5.1653e-01         6.5985e+03\n",
      "     7         6.7217e-01         5.4724e+03\n",
      "     8         7.9452e-01         3.7607e+03\n",
      "     9         8.7658e-01         3.1885e+03\n",
      "    10         9.5870e-01         2.8390e+03\n",
      "    11         1.0049e+00         2.1910e+03\n",
      "    12         1.0162e+00         2.0220e+03\n",
      "    13         1.0320e+00         1.6560e+03\n",
      "    14         1.0521e+00         1.2587e+03\n",
      "    15         1.0685e+00         9.6100e+02\n",
      "    16         1.0816e+00         6.6998e+02\n",
      "    17         1.0937e+00         6.8177e+02\n",
      "    18         1.1117e+00         7.3975e+02\n",
      "    19         1.1256e+00         4.7279e+02\n",
      "    20         1.1258e+00         4.0263e+02\n",
      "\n",
      "Total time (s) = 0.00\n",
      "-----------------------------------------------------------------\n",
      "\n"
     ]
    }
   ],
   "source": [
    "nesolve = NormalEquationsInversion(Aop)\n",
    "\n",
    "xest1 = nesolve.solve(y=y, Regs=[Dop, Dop], dataregs=[np.zeros(nx), np.zeros(nx)], \n",
    "                  epsRs=[1e-1, 1e-2], x0=np.zeros(nx), \n",
    "                  engine='pylops', **dict(niter=20, show=True))[0]"
   ]
  },
  {
   "cell_type": "code",
   "execution_count": 39,
   "id": "ed8c3c0a",
   "metadata": {},
   "outputs": [
    {
     "name": "stdout",
     "output_type": "stream",
     "text": [
      "NormalEquationsInversion\n",
      "-----------------------------------------------------------\n",
      "The Operator Op has 50 rows and 50 cols\n",
      "Regs=[<50x50 FirstDerivative with dtype=float64>, <50x50 FirstDerivative with dtype=float64>]\n",
      "epsRs=[0.1, 0.01]     epsI=0\n",
      "-----------------------------------------------------------\n",
      "     1        -2.5795e-01         6.8784e+04\n",
      "     2        -1.3424e-01         3.9387e+04\n",
      "     3         2.0361e-01         2.4392e+04\n",
      "     4         2.8669e-01         1.5064e+04\n",
      "     5         3.8244e-01         9.3876e+03\n",
      "     6         5.1653e-01         6.5985e+03\n",
      "     7         6.7217e-01         5.4724e+03\n",
      "     8         7.9452e-01         3.7607e+03\n",
      "     9         8.7658e-01         3.1885e+03\n",
      "    10         9.5870e-01         2.8390e+03\n",
      "    11         1.0049e+00         2.1910e+03\n",
      "    12         1.0162e+00         2.0220e+03\n",
      "    13         1.0320e+00         1.6560e+03\n",
      "    14         1.0521e+00         1.2587e+03\n",
      "    15         1.0685e+00         9.6100e+02\n",
      "    16         1.0816e+00         6.6998e+02\n",
      "    17         1.0937e+00         6.8177e+02\n",
      "    18         1.1117e+00         7.3975e+02\n",
      "    19         1.1256e+00         4.7279e+02\n",
      "    20         1.1258e+00         4.0263e+02\n",
      "\n",
      "Total time (s) = 0.00\n",
      "-----------------------------------------------------------------\n",
      "\n"
     ]
    }
   ],
   "source": [
    "xest2 = normal_equations_inversion(Aop, Regs=[Dop, Dop], data=y, dataregs=[np.zeros(nx), np.zeros(nx)],\n",
    "                                   epsRs=[1e-1, 1e-2], x0=np.zeros(nx), engine='pylops', \n",
    "                                   **dict(niter=20, show=True))[0]"
   ]
  },
  {
   "cell_type": "code",
   "execution_count": 40,
   "id": "263d7844",
   "metadata": {},
   "outputs": [
    {
     "data": {
      "text/plain": [
       "array([0., 0., 0., 0., 0., 0., 0., 0., 0., 0., 0., 0., 0., 0., 0., 0., 0.,\n",
       "       0., 0., 0., 0., 0., 0., 0., 0., 0., 0., 0., 0., 0., 0., 0., 0., 0.,\n",
       "       0., 0., 0., 0., 0., 0., 0., 0., 0., 0., 0., 0., 0., 0., 0., 0.])"
      ]
     },
     "execution_count": 40,
     "metadata": {},
     "output_type": "execute_result"
    }
   ],
   "source": [
    "xest1-xest2"
   ]
  },
  {
   "cell_type": "markdown",
   "id": "f7be7064",
   "metadata": {},
   "source": [
    "# RegularizedInversion"
   ]
  },
  {
   "cell_type": "code",
   "execution_count": 41,
   "id": "1b97193d",
   "metadata": {},
   "outputs": [],
   "source": [
    "np.random.seed(1)\n",
    "ny, nx = 100, 50\n",
    "x = np.ones(nx)\n",
    "A = np.random.normal(0, 1, (ny, nx))\n",
    "A = A.T @ A\n",
    "Aop = pylops.MatrixMult(A)\n",
    "y = A @ x\n",
    "\n",
    "Dop = pylops.FirstDerivative(50)"
   ]
  },
  {
   "cell_type": "code",
   "execution_count": 42,
   "id": "684f0747",
   "metadata": {},
   "outputs": [],
   "source": [
    "nesolve = RegularizedInversion(Aop)\n",
    "\n",
    "xhist = []\n",
    "nesolve.callback = lambda x: callback(x, xhist)\n",
    "\n",
    "# scipy\n",
    "nesolve.setup(y=y, Regs=[Dop, ], dataregs=[np.zeros(nx)], \n",
    "              epsRs=[1e-1, ])\n",
    "x = nesolve.run(None, engine='scipy', **dict(iter_lim=20))[0]\n",
    "nesolve.finalize()\n",
    "xest = x.copy()"
   ]
  },
  {
   "cell_type": "code",
   "execution_count": 43,
   "id": "8658e5c2",
   "metadata": {},
   "outputs": [
    {
     "name": "stdout",
     "output_type": "stream",
     "text": [
      "RegularizedInversion\n",
      "-----------------------------------------------------------\n",
      "The Operator Op has 50 rows and 50 cols\n",
      "Regs=[<50x50 FirstDerivative with dtype=float64>]\n",
      "epsRs=[0.1]\n",
      "-----------------------------------------------------------\n",
      "     1       -2.5795e-01         4.7368e+02     4.7368e+02\n",
      "     2       -1.3424e-01         3.1319e+02     3.1319e+02\n",
      "     3        2.0361e-01         2.1717e+02     2.1717e+02\n",
      "     4        2.8669e-01         1.3703e+02     1.3703e+02\n",
      "     5        3.8244e-01         1.0262e+02     1.0262e+02\n",
      "     6        5.1653e-01         8.3491e+01     8.3491e+01\n",
      "     7        6.7217e-01         7.2001e+01     7.2001e+01\n",
      "     8        7.9452e-01         6.0386e+01     6.0386e+01\n",
      "     9        8.7658e-01         5.2007e+01     5.2007e+01\n",
      "    10        9.5870e-01         4.4020e+01     4.4020e+01\n",
      "    11        1.0049e+00         3.7673e+01     3.7673e+01\n",
      "    12        1.0162e+00         3.3271e+01     3.3271e+01\n",
      "    13        1.0320e+00         2.8739e+01     2.8739e+01\n",
      "    14        1.0521e+00         2.3316e+01     2.3316e+01\n",
      "    15        1.0685e+00         1.8351e+01     1.8351e+01\n",
      "    16        1.0816e+00         1.5902e+01     1.5902e+01\n",
      "    17        1.0937e+00         1.4692e+01     1.4692e+01\n",
      "    18        1.1117e+00         1.2666e+01     1.2666e+01\n",
      "    19        1.1256e+00         1.0766e+01     1.0766e+01\n",
      "    20        1.1258e+00         9.6014e+00     9.6014e+00\n",
      "\n",
      "Total time (s) = 0.03\n",
      "-----------------------------------------------------------------\n",
      "\n"
     ]
    }
   ],
   "source": [
    "# pylops\n",
    "nesolve.setup(y=y, Regs=[Dop, ], dataregs=[np.zeros(nx)], \n",
    "              epsRs=[1e-1, ], show=True)\n",
    "x = nesolve.run(None, engine='pylops', **dict(niter=20, show=True))[0]\n",
    "nesolve.finalize(True)\n",
    "xestpylops = x.copy()"
   ]
  },
  {
   "cell_type": "code",
   "execution_count": 44,
   "id": "8f929226",
   "metadata": {},
   "outputs": [],
   "source": [
    "xest1 = regularized_inversion_old(Aop, Regs=[Dop, ], data=y, dataregs=[np.zeros(nx)], \n",
    "                                  epsRs=[1e-1, ], x0=np.zeros(nx), **dict(iter_lim=20))"
   ]
  },
  {
   "cell_type": "code",
   "execution_count": 45,
   "id": "b258b3f9",
   "metadata": {},
   "outputs": [
    {
     "data": {
      "text/plain": [
       "(array([0., 0., 0., 0., 0., 0., 0., 0., 0., 0., 0., 0., 0., 0., 0., 0., 0.,\n",
       "        0., 0., 0., 0., 0., 0., 0., 0., 0., 0., 0., 0., 0., 0., 0., 0., 0.,\n",
       "        0., 0., 0., 0., 0., 0., 0., 0., 0., 0., 0., 0., 0., 0., 0., 0.]),\n",
       " array([-7.81046339e-10, -9.43604084e-11,  3.25564942e-09,  5.32838729e-09,\n",
       "        -2.25841124e-10, -2.93940650e-09, -4.44212778e-10, -5.56112223e-09,\n",
       "         5.24121613e-09,  1.81705162e-09, -8.43831449e-10, -1.80196369e-09,\n",
       "         7.08401782e-10, -1.87320282e-09,  1.12352205e-09, -1.25377375e-09,\n",
       "        -4.73342354e-09, -3.52775653e-09, -9.83305548e-09, -2.37191156e-09,\n",
       "        -1.45472789e-09,  3.24236638e-10, -6.39410969e-10, -2.03541295e-10,\n",
       "         4.30540437e-09,  2.85803892e-09, -2.19641105e-09, -4.36469927e-09,\n",
       "        -5.09140508e-10, -1.75347270e-09,  3.82415388e-09, -6.32196739e-09,\n",
       "        -2.23151675e-09,  1.54968660e-09,  3.14370729e-09,  5.28026511e-10,\n",
       "         4.35813818e-09, -9.37216860e-10,  1.33035827e-09,  3.80848786e-09,\n",
       "        -4.93096342e-09, -5.63442759e-09, -2.30952280e-09,  3.82384169e-09,\n",
       "        -2.41966225e-10, -8.46511716e-09, -2.47322607e-10,  2.28237296e-09,\n",
       "         2.86632340e-09, -1.32862876e-09]))"
      ]
     },
     "execution_count": 45,
     "metadata": {},
     "output_type": "execute_result"
    }
   ],
   "source": [
    "xest-xest1, xestpylops-xest1"
   ]
  },
  {
   "cell_type": "code",
   "execution_count": 46,
   "id": "a0fca9d3",
   "metadata": {},
   "outputs": [
    {
     "data": {
      "text/plain": [
       "[<matplotlib.lines.Line2D at 0x7fb2093145b0>]"
      ]
     },
     "execution_count": 46,
     "metadata": {},
     "output_type": "execute_result"
    },
    {
     "data": {
      "image/png": "[encoded data removed]",
      "text/plain": [
       "<Figure size 432x288 with 1 Axes>"
      ]
     },
     "metadata": {
      "needs_background": "light"
     },
     "output_type": "display_data"
    }
   ],
   "source": [
    "plt.plot(xest)\n",
    "plt.plot(xestpylops)"
   ]
  },
  {
   "cell_type": "code",
   "execution_count": 47,
   "id": "dcc04573",
   "metadata": {},
   "outputs": [
    {
     "name": "stdout",
     "output_type": "stream",
     "text": [
      "RegularizedInversion\n",
      "-----------------------------------------------------------\n",
      "The Operator Op has 50 rows and 50 cols\n",
      "Regs=[<50x50 FirstDerivative with dtype=float64>, <50x50 FirstDerivative with dtype=float64>]\n",
      "epsRs=[0.1, 0.01]\n",
      "-----------------------------------------------------------\n",
      "     1       -2.5795e-01         4.7368e+02     4.7368e+02\n",
      "     2       -1.3424e-01         3.1319e+02     3.1319e+02\n",
      "     3        2.0361e-01         2.1717e+02     2.1717e+02\n",
      "     4        2.8669e-01         1.3703e+02     1.3703e+02\n",
      "     5        3.8244e-01         1.0262e+02     1.0262e+02\n",
      "     6        5.1653e-01         8.3491e+01     8.3491e+01\n",
      "     7        6.7217e-01         7.2001e+01     7.2001e+01\n",
      "     8        7.9452e-01         6.0386e+01     6.0386e+01\n",
      "     9        8.7658e-01         5.2007e+01     5.2007e+01\n",
      "    10        9.5870e-01         4.4020e+01     4.4020e+01\n",
      "    11        1.0049e+00         3.7673e+01     3.7673e+01\n",
      "    12        1.0162e+00         3.3271e+01     3.3271e+01\n",
      "    13        1.0320e+00         2.8739e+01     2.8739e+01\n",
      "    14        1.0521e+00         2.3316e+01     2.3316e+01\n",
      "    15        1.0685e+00         1.8351e+01     1.8351e+01\n",
      "    16        1.0816e+00         1.5902e+01     1.5902e+01\n",
      "    17        1.0937e+00         1.4692e+01     1.4692e+01\n",
      "    18        1.1117e+00         1.2666e+01     1.2666e+01\n",
      "    19        1.1256e+00         1.0766e+01     1.0766e+01\n",
      "    20        1.1258e+00         9.6014e+00     9.6014e+00\n",
      "\n",
      "Total time (s) = 0.01\n",
      "-----------------------------------------------------------------\n",
      "\n"
     ]
    }
   ],
   "source": [
    "nesolve = RegularizedInversion(Aop)\n",
    "\n",
    "xest1 = nesolve.solve(y=y, Regs=[Dop, Dop], dataregs=[np.zeros(nx), np.zeros(nx)], \n",
    "                  epsRs=[1e-1, 1e-2], x0=np.zeros(nx), \n",
    "                  engine='pylops', **dict(niter=20, show=True))[0]"
   ]
  },
  {
   "cell_type": "code",
   "execution_count": 48,
   "id": "dd313431",
   "metadata": {},
   "outputs": [
    {
     "name": "stdout",
     "output_type": "stream",
     "text": [
      "RegularizedInversion\n",
      "-----------------------------------------------------------\n",
      "The Operator Op has 50 rows and 50 cols\n",
      "Regs=[<50x50 FirstDerivative with dtype=float64>, <50x50 FirstDerivative with dtype=float64>]\n",
      "epsRs=[0.1, 0.01]\n",
      "-----------------------------------------------------------\n",
      "     1       -2.5795e-01         4.7368e+02     4.7368e+02\n",
      "     2       -1.3424e-01         3.1319e+02     3.1319e+02\n",
      "     3        2.0361e-01         2.1717e+02     2.1717e+02\n",
      "     4        2.8669e-01         1.3703e+02     1.3703e+02\n",
      "     5        3.8244e-01         1.0262e+02     1.0262e+02\n",
      "     6        5.1653e-01         8.3491e+01     8.3491e+01\n",
      "     7        6.7217e-01         7.2001e+01     7.2001e+01\n",
      "     8        7.9452e-01         6.0386e+01     6.0386e+01\n",
      "     9        8.7658e-01         5.2007e+01     5.2007e+01\n",
      "    10        9.5870e-01         4.4020e+01     4.4020e+01\n",
      "    11        1.0049e+00         3.7673e+01     3.7673e+01\n",
      "    12        1.0162e+00         3.3271e+01     3.3271e+01\n",
      "    13        1.0320e+00         2.8739e+01     2.8739e+01\n",
      "    14        1.0521e+00         2.3316e+01     2.3316e+01\n",
      "    15        1.0685e+00         1.8351e+01     1.8351e+01\n",
      "    16        1.0816e+00         1.5902e+01     1.5902e+01\n",
      "    17        1.0937e+00         1.4692e+01     1.4692e+01\n",
      "    18        1.1117e+00         1.2666e+01     1.2666e+01\n",
      "    19        1.1256e+00         1.0766e+01     1.0766e+01\n",
      "    20        1.1258e+00         9.6014e+00     9.6014e+00\n",
      "\n",
      "Total time (s) = 0.01\n",
      "-----------------------------------------------------------------\n",
      "\n"
     ]
    }
   ],
   "source": [
    "xest2 = regularized_inversion(Aop, Regs=[Dop, Dop], data=y, dataregs=[np.zeros(nx), np.zeros(nx)],\n",
    "                              epsRs=[1e-1, 1e-2], x0=np.zeros(nx), engine='pylops', \n",
    "                              **dict(niter=20, show=True))[0]"
   ]
  },
  {
   "cell_type": "code",
   "execution_count": 49,
   "id": "7748506d",
   "metadata": {},
   "outputs": [
    {
     "data": {
      "text/plain": [
       "array([0., 0., 0., 0., 0., 0., 0., 0., 0., 0., 0., 0., 0., 0., 0., 0., 0.,\n",
       "       0., 0., 0., 0., 0., 0., 0., 0., 0., 0., 0., 0., 0., 0., 0., 0., 0.,\n",
       "       0., 0., 0., 0., 0., 0., 0., 0., 0., 0., 0., 0., 0., 0., 0., 0.])"
      ]
     },
     "execution_count": 49,
     "metadata": {},
     "output_type": "execute_result"
    }
   ],
   "source": [
    "xest1-xest2"
   ]
  },
  {
   "cell_type": "markdown",
   "id": "676bdc3b",
   "metadata": {},
   "source": [
    "## Preconditioned Inversion"
   ]
  },
  {
   "cell_type": "code",
   "execution_count": 50,
   "id": "37cfa68c",
   "metadata": {},
   "outputs": [],
   "source": [
    "np.random.seed(1)\n",
    "ny, nx = 100, 50\n",
    "x = np.ones(nx)\n",
    "A = np.random.normal(0, 1, (ny, nx))\n",
    "A = A.T @ A\n",
    "Aop = pylops.MatrixMult(A)\n",
    "y = A @ x\n",
    "\n",
    "Sop = pylops.Smoothing1D(5, 50)"
   ]
  },
  {
   "cell_type": "code",
   "execution_count": 51,
   "id": "d660c924",
   "metadata": {},
   "outputs": [],
   "source": [
    "psolve = PreconditionedInversion(Aop)\n",
    "\n",
    "xhist = []\n",
    "psolve.callback = lambda x: callback(x, xhist)\n",
    "\n",
    "# scipy\n",
    "psolve.setup(y=y, P=Sop)\n",
    "x = psolve.run(None, engine='scipy', **dict(iter_lim=20))[0]\n",
    "psolve.finalize()\n",
    "xest = x.copy()"
   ]
  },
  {
   "cell_type": "code",
   "execution_count": 55,
   "id": "6dd450bf",
   "metadata": {},
   "outputs": [
    {
     "name": "stdout",
     "output_type": "stream",
     "text": [
      "PreconditionedInversion\n",
      "-----------------------------------------------------------\n",
      "The Operator Op has 50 rows and 50 cols\n",
      "Prec=<50x50 Convolve1D with dtype=float64>\n",
      "-----------------------------------------------------------\n",
      "     1       -3.0815e-01         2.8474e+02     2.8474e+02\n",
      "     2       -6.7294e-03         1.5380e+02     1.5380e+02\n",
      "     3        4.5745e-01         8.4107e+01     8.4107e+01\n",
      "     4        6.4764e-01         5.6063e+01     5.6063e+01\n",
      "     5        7.3550e-01         4.9738e+01     4.9738e+01\n",
      "     6        9.5151e-01         4.0758e+01     4.0758e+01\n",
      "     7        1.1153e+00         3.3517e+01     3.3517e+01\n",
      "     8        1.2465e+00         2.9155e+01     2.9155e+01\n",
      "     9        1.4217e+00         2.4561e+01     2.4561e+01\n",
      "    10        1.5393e+00         2.0756e+01     2.0756e+01\n",
      "    11        1.5612e+00         1.9224e+01     1.9224e+01\n",
      "    12        1.5871e+00         1.8262e+01     1.8262e+01\n",
      "    13        1.6189e+00         1.6215e+01     1.6215e+01\n",
      "    14        1.6257e+00         1.4739e+01     1.4739e+01\n",
      "    15        1.6421e+00         1.3703e+01     1.3703e+01\n",
      "    16        1.6597e+00         1.2734e+01     1.2734e+01\n",
      "    17        1.6630e+00         1.1430e+01     1.1430e+01\n",
      "    18        1.6856e+00         1.0543e+01     1.0543e+01\n",
      "    19        1.6892e+00         1.0357e+01     1.0357e+01\n",
      "    20        1.6960e+00         1.0089e+01     1.0089e+01\n",
      "\n",
      "Total time (s) = 102.16\n",
      "-----------------------------------------------------------------\n",
      "\n"
     ]
    }
   ],
   "source": [
    "# pylops\n",
    "psolve.setup(y=y, P=Sop, show=True)\n",
    "x = psolve.run(None, engine='pylops', **dict(niter=20, show=True))[0]\n",
    "psolve.finalize(True)\n",
    "xestpylops = x.copy()"
   ]
  },
  {
   "cell_type": "code",
   "execution_count": 56,
   "id": "0542d2c2",
   "metadata": {},
   "outputs": [
    {
     "data": {
      "text/plain": [
       "array([-1.40965945e-05, -1.76346335e-05, -1.89822332e-05, -1.28944378e-05,\n",
       "       -5.67894627e-06, -1.19472178e-08,  5.06896550e-06,  7.69475778e-06,\n",
       "        4.21536781e-06,  4.17765649e-06,  5.48968788e-06,  6.93765198e-06,\n",
       "        1.24479918e-05,  2.34811083e-05,  3.52690191e-05,  4.88716812e-05,\n",
       "        6.24356050e-05,  7.01694709e-05,  7.44255449e-05,  6.88544298e-05,\n",
       "        5.67084683e-05,  4.11052752e-05,  2.84540246e-05,  1.80938267e-05,\n",
       "        1.21654084e-05,  1.56705296e-05,  2.21156874e-05,  2.95052984e-05,\n",
       "        3.28306694e-05,  3.78693313e-05,  3.20188194e-05,  2.52982791e-05,\n",
       "        1.07858472e-05, -3.41457734e-06, -1.79153722e-05, -2.57958132e-05,\n",
       "       -2.93818250e-05, -2.10673430e-05, -7.73798280e-06,  4.43752274e-06,\n",
       "        1.79764909e-05,  2.84668570e-05,  3.10033995e-05,  2.95827169e-05,\n",
       "        3.08419367e-05,  2.90620414e-05,  2.53267828e-05,  2.09349764e-05,\n",
       "        1.64463923e-05,  1.02343798e-05])"
      ]
     },
     "execution_count": 56,
     "metadata": {},
     "output_type": "execute_result"
    }
   ],
   "source": [
    "xest-xestpylops"
   ]
  },
  {
   "cell_type": "code",
   "execution_count": 59,
   "id": "b58c38a0",
   "metadata": {},
   "outputs": [],
   "source": [
    "xest1 = preconditioned_inversion_old(Aop, Sop, data=y, x0=np.zeros(nx), **dict(iter_lim=20))"
   ]
  },
  {
   "cell_type": "code",
   "execution_count": 60,
   "id": "b6d44928",
   "metadata": {},
   "outputs": [
    {
     "data": {
      "text/plain": [
       "(array([0., 0., 0., 0., 0., 0., 0., 0., 0., 0., 0., 0., 0., 0., 0., 0., 0.,\n",
       "        0., 0., 0., 0., 0., 0., 0., 0., 0., 0., 0., 0., 0., 0., 0., 0., 0.,\n",
       "        0., 0., 0., 0., 0., 0., 0., 0., 0., 0., 0., 0., 0., 0., 0., 0.]),\n",
       " array([ 1.40965945e-05,  1.76346335e-05,  1.89822332e-05,  1.28944378e-05,\n",
       "         5.67894627e-06,  1.19472178e-08, -5.06896550e-06, -7.69475778e-06,\n",
       "        -4.21536781e-06, -4.17765649e-06, -5.48968788e-06, -6.93765198e-06,\n",
       "        -1.24479918e-05, -2.34811083e-05, -3.52690191e-05, -4.88716812e-05,\n",
       "        -6.24356050e-05, -7.01694709e-05, -7.44255449e-05, -6.88544298e-05,\n",
       "        -5.67084683e-05, -4.11052752e-05, -2.84540246e-05, -1.80938267e-05,\n",
       "        -1.21654084e-05, -1.56705296e-05, -2.21156874e-05, -2.95052984e-05,\n",
       "        -3.28306694e-05, -3.78693313e-05, -3.20188194e-05, -2.52982791e-05,\n",
       "        -1.07858472e-05,  3.41457734e-06,  1.79153722e-05,  2.57958132e-05,\n",
       "         2.93818250e-05,  2.10673430e-05,  7.73798280e-06, -4.43752274e-06,\n",
       "        -1.79764909e-05, -2.84668570e-05, -3.10033995e-05, -2.95827169e-05,\n",
       "        -3.08419367e-05, -2.90620414e-05, -2.53267828e-05, -2.09349764e-05,\n",
       "        -1.64463923e-05, -1.02343798e-05]))"
      ]
     },
     "execution_count": 60,
     "metadata": {},
     "output_type": "execute_result"
    }
   ],
   "source": [
    "xest-xest1, xestpylops-xest1"
   ]
  },
  {
   "cell_type": "code",
   "execution_count": 61,
   "id": "eca53de3",
   "metadata": {},
   "outputs": [
    {
     "data": {
      "text/plain": [
       "[<matplotlib.lines.Line2D at 0x7fb20952e5b0>]"
      ]
     },
     "execution_count": 61,
     "metadata": {},
     "output_type": "execute_result"
    },
    {
     "data": {
      "image/png": "[encoded data removed]",
      "text/plain": [
       "<Figure size 432x288 with 1 Axes>"
      ]
     },
     "metadata": {
      "needs_background": "light"
     },
     "output_type": "display_data"
    }
   ],
   "source": [
    "plt.plot(xest)\n",
    "plt.plot(xestpylops)"
   ]
  },
  {
   "cell_type": "code",
   "execution_count": 63,
   "id": "ede84e96",
   "metadata": {},
   "outputs": [
    {
     "name": "stdout",
     "output_type": "stream",
     "text": [
      "PreconditionedInversion\n",
      "-----------------------------------------------------------\n",
      "The Operator Op has 50 rows and 50 cols\n",
      "Prec=<50x50 Convolve1D with dtype=float64>\n",
      "-----------------------------------------------------------\n",
      "     1       -3.0815e-01         2.8474e+02     2.8474e+02\n",
      "     2       -6.7294e-03         1.5380e+02     1.5380e+02\n",
      "     3        4.5745e-01         8.4107e+01     8.4107e+01\n",
      "     4        6.4764e-01         5.6063e+01     5.6063e+01\n",
      "     5        7.3550e-01         4.9738e+01     4.9738e+01\n",
      "     6        9.5151e-01         4.0758e+01     4.0758e+01\n",
      "     7        1.1153e+00         3.3517e+01     3.3517e+01\n",
      "     8        1.2465e+00         2.9155e+01     2.9155e+01\n",
      "     9        1.4217e+00         2.4561e+01     2.4561e+01\n",
      "    10        1.5393e+00         2.0756e+01     2.0756e+01\n",
      "    11        1.5612e+00         1.9224e+01     1.9224e+01\n",
      "    12        1.5871e+00         1.8262e+01     1.8262e+01\n",
      "    13        1.6189e+00         1.6215e+01     1.6215e+01\n",
      "    14        1.6257e+00         1.4739e+01     1.4739e+01\n",
      "    15        1.6421e+00         1.3703e+01     1.3703e+01\n",
      "    16        1.6597e+00         1.2734e+01     1.2734e+01\n",
      "    17        1.6630e+00         1.1430e+01     1.1430e+01\n",
      "    18        1.6856e+00         1.0543e+01     1.0543e+01\n",
      "    19        1.6892e+00         1.0357e+01     1.0357e+01\n",
      "    20        1.6960e+00         1.0089e+01     1.0089e+01\n",
      "\n",
      "Total time (s) = 0.01\n",
      "-----------------------------------------------------------------\n",
      "\n"
     ]
    }
   ],
   "source": [
    "nesolve = PreconditionedInversion(Aop)\n",
    "\n",
    "xest1 = nesolve.solve(y=y, P=Sop, x0=np.zeros(nx), \n",
    "                      engine='pylops', **dict(niter=20, show=True))[0]"
   ]
  },
  {
   "cell_type": "code",
   "execution_count": 64,
   "id": "a073b6b3",
   "metadata": {},
   "outputs": [
    {
     "name": "stdout",
     "output_type": "stream",
     "text": [
      "PreconditionedInversion\n",
      "-----------------------------------------------------------\n",
      "The Operator Op has 50 rows and 50 cols\n",
      "Prec=<50x50 Convolve1D with dtype=float64>\n",
      "-----------------------------------------------------------\n",
      "     1       -3.0815e-01         2.8474e+02     2.8474e+02\n",
      "     2       -6.7294e-03         1.5380e+02     1.5380e+02\n",
      "     3        4.5745e-01         8.4107e+01     8.4107e+01\n",
      "     4        6.4764e-01         5.6063e+01     5.6063e+01\n",
      "     5        7.3550e-01         4.9738e+01     4.9738e+01\n",
      "     6        9.5151e-01         4.0758e+01     4.0758e+01\n",
      "     7        1.1153e+00         3.3517e+01     3.3517e+01\n",
      "     8        1.2465e+00         2.9155e+01     2.9155e+01\n",
      "     9        1.4217e+00         2.4561e+01     2.4561e+01\n",
      "    10        1.5393e+00         2.0756e+01     2.0756e+01\n",
      "    11        1.5612e+00         1.9224e+01     1.9224e+01\n",
      "    12        1.5871e+00         1.8262e+01     1.8262e+01\n",
      "    13        1.6189e+00         1.6215e+01     1.6215e+01\n",
      "    14        1.6257e+00         1.4739e+01     1.4739e+01\n",
      "    15        1.6421e+00         1.3703e+01     1.3703e+01\n",
      "    16        1.6597e+00         1.2734e+01     1.2734e+01\n",
      "    17        1.6630e+00         1.1430e+01     1.1430e+01\n",
      "    18        1.6856e+00         1.0543e+01     1.0543e+01\n",
      "    19        1.6892e+00         1.0357e+01     1.0357e+01\n",
      "    20        1.6960e+00         1.0089e+01     1.0089e+01\n",
      "\n",
      "Total time (s) = 0.00\n",
      "-----------------------------------------------------------------\n",
      "\n"
     ]
    }
   ],
   "source": [
    "xest2 = preconditioned_inversion(Aop, P=Sop, data=y, x0=np.zeros(nx), engine='pylops', \n",
    "                              **dict(niter=20, show=True))[0]"
   ]
  },
  {
   "cell_type": "code",
   "execution_count": 65,
   "id": "8f7bbba6",
   "metadata": {},
   "outputs": [
    {
     "data": {
      "text/plain": [
       "array([0., 0., 0., 0., 0., 0., 0., 0., 0., 0., 0., 0., 0., 0., 0., 0., 0.,\n",
       "       0., 0., 0., 0., 0., 0., 0., 0., 0., 0., 0., 0., 0., 0., 0., 0., 0.,\n",
       "       0., 0., 0., 0., 0., 0., 0., 0., 0., 0., 0., 0., 0., 0., 0., 0.])"
      ]
     },
     "execution_count": 65,
     "metadata": {},
     "output_type": "execute_result"
    }
   ],
   "source": [
    "xest1-xest2"
   ]
  },
  {
   "cell_type": "code",
   "execution_count": null,
   "id": "3e0800c1",
   "metadata": {},
   "outputs": [],
   "source": []
  },
  {
   "cell_type": "code",
   "execution_count": null,
   "id": "780a85a9",
   "metadata": {},
   "outputs": [],
   "source": []
  },
  {
   "cell_type": "code",
   "execution_count": null,
   "id": "59b43706",
   "metadata": {},
   "outputs": [],
   "source": []
  },
  {
   "cell_type": "code",
   "execution_count": 72,
   "id": "ae8991f4",
   "metadata": {},
   "outputs": [
    {
     "ename": "TypeError",
     "evalue": "lsqr() got an unexpected keyword argument 'tol'",
     "output_type": "error",
     "traceback": [
      "\u001b[0;31m---------------------------------------------------------------------------\u001b[0m",
      "\u001b[0;31mTypeError\u001b[0m                                 Traceback (most recent call last)",
      "Input \u001b[0;32mIn [72]\u001b[0m, in \u001b[0;36m<cell line: 36>\u001b[0;34m()\u001b[0m\n\u001b[1;32m     31\u001b[0m y \u001b[38;5;241m=\u001b[39m Gop \u001b[38;5;241m*\u001b[39m x\n\u001b[1;32m     33\u001b[0m xne \u001b[38;5;241m=\u001b[39m normal_equations_inversion(\n\u001b[1;32m     34\u001b[0m     Gop, \u001b[38;5;28;01mNone\u001b[39;00m, y, Weight\u001b[38;5;241m=\u001b[39mWeigth, \u001b[38;5;241m*\u001b[39m\u001b[38;5;241m*\u001b[39m\u001b[38;5;28mdict\u001b[39m(maxiter\u001b[38;5;241m=\u001b[39m\u001b[38;5;241m5\u001b[39m, tol\u001b[38;5;241m=\u001b[39m\u001b[38;5;241m0\u001b[39m)\n\u001b[1;32m     35\u001b[0m )\n\u001b[0;32m---> 36\u001b[0m xreg \u001b[38;5;241m=\u001b[39m \u001b[43mregularized_inversion\u001b[49m\u001b[43m(\u001b[49m\n\u001b[1;32m     37\u001b[0m \u001b[43m    \u001b[49m\u001b[43mGop\u001b[49m\u001b[43m,\u001b[49m\n\u001b[1;32m     38\u001b[0m \u001b[43m    \u001b[49m\u001b[38;5;28;43;01mNone\u001b[39;49;00m\u001b[43m,\u001b[49m\n\u001b[1;32m     39\u001b[0m \u001b[43m    \u001b[49m\u001b[43my\u001b[49m\u001b[43m,\u001b[49m\n\u001b[1;32m     40\u001b[0m \u001b[43m    \u001b[49m\u001b[43mWeight\u001b[49m\u001b[38;5;241;43m=\u001b[39;49m\u001b[43mWeigth1\u001b[49m\u001b[43m,\u001b[49m\n\u001b[1;32m     41\u001b[0m \u001b[43m    \u001b[49m\u001b[38;5;241;43m*\u001b[39;49m\u001b[38;5;241;43m*\u001b[39;49m\u001b[38;5;28;43mdict\u001b[39;49m\u001b[43m(\u001b[49m\u001b[43mdamp\u001b[49m\u001b[38;5;241;43m=\u001b[39;49m\u001b[38;5;241;43m0\u001b[39;49m\u001b[43m,\u001b[49m\u001b[43m \u001b[49m\u001b[43miter_lim\u001b[49m\u001b[38;5;241;43m=\u001b[39;49m\u001b[38;5;241;43m5\u001b[39;49m\u001b[43m,\u001b[49m\u001b[43m \u001b[49m\u001b[43mshow\u001b[49m\u001b[38;5;241;43m=\u001b[39;49m\u001b[38;5;241;43m0\u001b[39;49m\u001b[43m,\u001b[49m\u001b[43m \u001b[49m\u001b[43mtol\u001b[49m\u001b[38;5;241;43m=\u001b[39;49m\u001b[38;5;241;43m0\u001b[39;49m\u001b[43m)\u001b[49m\n\u001b[1;32m     42\u001b[0m \u001b[43m)\u001b[49m[\u001b[38;5;241m0\u001b[39m]\n\u001b[1;32m     43\u001b[0m assert_array_almost_equal(xne, xreg, decimal\u001b[38;5;241m=\u001b[39m\u001b[38;5;241m3\u001b[39m)\n",
      "File \u001b[0;32m~/Desktop/KAUST/OpenSource/pylops/pylops/optimization/leastsquares.py:178\u001b[0m, in \u001b[0;36mregularized_inversion\u001b[0;34m(Op, Regs, data, Weight, dataregs, epsRs, x0, engine, show, **kwargs_solver)\u001b[0m\n\u001b[1;32m    110\u001b[0m \u001b[38;5;124mr\u001b[39m\u001b[38;5;124;03m\"\"\"Regularized inversion.\u001b[39;00m\n\u001b[1;32m    111\u001b[0m \n\u001b[1;32m    112\u001b[0m \u001b[38;5;124;03mSolve a system of regularized equations given the operator ``Op``,\u001b[39;00m\n\u001b[0;32m   (...)\u001b[0m\n\u001b[1;32m    174\u001b[0m \n\u001b[1;32m    175\u001b[0m \u001b[38;5;124;03m\"\"\"\u001b[39;00m\n\u001b[1;32m    176\u001b[0m rsolve \u001b[38;5;241m=\u001b[39m RegularizedInversion(Op)\n\u001b[1;32m    177\u001b[0m xinv, istop, itn, r1norm, r2norm \u001b[38;5;241m=\u001b[39m \\\n\u001b[0;32m--> 178\u001b[0m     \u001b[43mrsolve\u001b[49m\u001b[38;5;241;43m.\u001b[39;49m\u001b[43msolve\u001b[49m\u001b[43m(\u001b[49m\u001b[43mdata\u001b[49m\u001b[43m,\u001b[49m\u001b[43m \u001b[49m\u001b[43mRegs\u001b[49m\u001b[43m,\u001b[49m\u001b[43m \u001b[49m\u001b[43mx0\u001b[49m\u001b[38;5;241;43m=\u001b[39;49m\u001b[43mx0\u001b[49m\u001b[43m,\u001b[49m\u001b[43m \u001b[49m\u001b[43mWeight\u001b[49m\u001b[38;5;241;43m=\u001b[39;49m\u001b[43mWeight\u001b[49m\u001b[43m,\u001b[49m\u001b[43m \u001b[49m\u001b[43mdataregs\u001b[49m\u001b[38;5;241;43m=\u001b[39;49m\u001b[43mdataregs\u001b[49m\u001b[43m,\u001b[49m\n\u001b[1;32m    179\u001b[0m \u001b[43m                 \u001b[49m\u001b[43mepsRs\u001b[49m\u001b[38;5;241;43m=\u001b[39;49m\u001b[43mepsRs\u001b[49m\u001b[43m,\u001b[49m\u001b[43m \u001b[49m\u001b[43mengine\u001b[49m\u001b[38;5;241;43m=\u001b[39;49m\u001b[43mengine\u001b[49m\u001b[43m,\u001b[49m\u001b[43m \u001b[49m\u001b[43mshow\u001b[49m\u001b[38;5;241;43m=\u001b[39;49m\u001b[43mshow\u001b[49m\u001b[43m,\u001b[49m\u001b[43m \u001b[49m\u001b[38;5;241;43m*\u001b[39;49m\u001b[38;5;241;43m*\u001b[39;49m\u001b[43mkwargs_solver\u001b[49m\u001b[43m)\u001b[49m\n\u001b[1;32m    180\u001b[0m \u001b[38;5;28;01mreturn\u001b[39;00m xinv, istop, itn, r1norm, r2norm\n",
      "File \u001b[0;32m~/Desktop/KAUST/OpenSource/pylops/pylops/optimization/leastsquaresc.py:597\u001b[0m, in \u001b[0;36mRegularizedInversion.solve\u001b[0;34m(self, y, Regs, x0, Weight, dataregs, epsRs, engine, show, **kwargs_solver)\u001b[0m\n\u001b[1;32m    545\u001b[0m \u001b[38;5;124mr\u001b[39m\u001b[38;5;124;03m\"\"\"Run entire solver\u001b[39;00m\n\u001b[1;32m    546\u001b[0m \n\u001b[1;32m    547\u001b[0m \u001b[38;5;124;03mParameters\u001b[39;00m\n\u001b[0;32m   (...)\u001b[0m\n\u001b[1;32m    594\u001b[0m \n\u001b[1;32m    595\u001b[0m \u001b[38;5;124;03m\"\"\"\u001b[39;00m\n\u001b[1;32m    596\u001b[0m \u001b[38;5;28mself\u001b[39m\u001b[38;5;241m.\u001b[39msetup(y\u001b[38;5;241m=\u001b[39my, Regs\u001b[38;5;241m=\u001b[39mRegs, Weight\u001b[38;5;241m=\u001b[39mWeight, dataregs\u001b[38;5;241m=\u001b[39mdataregs, epsRs\u001b[38;5;241m=\u001b[39mepsRs, show\u001b[38;5;241m=\u001b[39mshow)\n\u001b[0;32m--> 597\u001b[0m x, istop, itn, r1norm, r2norm \u001b[38;5;241m=\u001b[39m \u001b[38;5;28;43mself\u001b[39;49m\u001b[38;5;241;43m.\u001b[39;49m\u001b[43mrun\u001b[49m\u001b[43m(\u001b[49m\u001b[43mx0\u001b[49m\u001b[43m,\u001b[49m\u001b[43m \u001b[49m\u001b[43mengine\u001b[49m\u001b[38;5;241;43m=\u001b[39;49m\u001b[43mengine\u001b[49m\u001b[43m,\u001b[49m\u001b[43m \u001b[49m\u001b[43mshow\u001b[49m\u001b[38;5;241;43m=\u001b[39;49m\u001b[43mshow\u001b[49m\u001b[43m,\u001b[49m\u001b[43m \u001b[49m\u001b[38;5;241;43m*\u001b[39;49m\u001b[38;5;241;43m*\u001b[39;49m\u001b[43mkwargs_solver\u001b[49m\u001b[43m)\u001b[49m\n\u001b[1;32m    598\u001b[0m \u001b[38;5;28mself\u001b[39m\u001b[38;5;241m.\u001b[39mfinalize(show)\n\u001b[1;32m    599\u001b[0m \u001b[38;5;28;01mreturn\u001b[39;00m x, istop, itn, r1norm, r2norm\n",
      "File \u001b[0;32m~/Desktop/KAUST/OpenSource/pylops/pylops/optimization/leastsquaresc.py:521\u001b[0m, in \u001b[0;36mRegularizedInversion.run\u001b[0;34m(self, x, engine, show, **kwargs_solver)\u001b[0m\n\u001b[1;32m    519\u001b[0m     \u001b[38;5;28mself\u001b[39m\u001b[38;5;241m.\u001b[39mdatatot \u001b[38;5;241m=\u001b[39m \u001b[38;5;28mself\u001b[39m\u001b[38;5;241m.\u001b[39mdatatot \u001b[38;5;241m-\u001b[39m \u001b[38;5;28mself\u001b[39m\u001b[38;5;241m.\u001b[39mRegOp \u001b[38;5;241m*\u001b[39m x\n\u001b[1;32m    520\u001b[0m \u001b[38;5;28;01mif\u001b[39;00m engine \u001b[38;5;241m==\u001b[39m \u001b[38;5;124m\"\u001b[39m\u001b[38;5;124mscipy\u001b[39m\u001b[38;5;124m\"\u001b[39m:\n\u001b[0;32m--> 521\u001b[0m     xinv, istop, itn, r1norm, r2norm \u001b[38;5;241m=\u001b[39m \u001b[43mlsqr\u001b[49m\u001b[43m(\u001b[49m\u001b[38;5;28;43mself\u001b[39;49m\u001b[38;5;241;43m.\u001b[39;49m\u001b[43mRegOp\u001b[49m\u001b[43m,\u001b[49m\u001b[43m \u001b[49m\u001b[38;5;28;43mself\u001b[39;49m\u001b[38;5;241;43m.\u001b[39;49m\u001b[43mdatatot\u001b[49m\u001b[43m,\u001b[49m\u001b[43m \u001b[49m\u001b[38;5;241;43m*\u001b[39;49m\u001b[38;5;241;43m*\u001b[39;49m\u001b[43mkwargs_solver\u001b[49m\u001b[43m)\u001b[49m[\u001b[38;5;241m0\u001b[39m:\u001b[38;5;241m5\u001b[39m]\n\u001b[1;32m    522\u001b[0m \u001b[38;5;28;01melif\u001b[39;00m engine \u001b[38;5;241m==\u001b[39m \u001b[38;5;124m\"\u001b[39m\u001b[38;5;124mpylops\u001b[39m\u001b[38;5;124m\"\u001b[39m:\n\u001b[1;32m    523\u001b[0m     xinv, istop, itn, r1norm, r2norm \u001b[38;5;241m=\u001b[39m cgls(\n\u001b[1;32m    524\u001b[0m         \u001b[38;5;28mself\u001b[39m\u001b[38;5;241m.\u001b[39mRegOp,\n\u001b[1;32m    525\u001b[0m         \u001b[38;5;28mself\u001b[39m\u001b[38;5;241m.\u001b[39mdatatot,\n\u001b[1;32m    526\u001b[0m         \u001b[38;5;28mself\u001b[39m\u001b[38;5;241m.\u001b[39mncp\u001b[38;5;241m.\u001b[39mzeros(\u001b[38;5;28mint\u001b[39m(\u001b[38;5;28mself\u001b[39m\u001b[38;5;241m.\u001b[39mRegOp\u001b[38;5;241m.\u001b[39mshape[\u001b[38;5;241m1\u001b[39m]), dtype\u001b[38;5;241m=\u001b[39m\u001b[38;5;28mself\u001b[39m\u001b[38;5;241m.\u001b[39mRegOp\u001b[38;5;241m.\u001b[39mdtype),\n\u001b[1;32m    527\u001b[0m         \u001b[38;5;241m*\u001b[39m\u001b[38;5;241m*\u001b[39mkwargs_solver\n\u001b[1;32m    528\u001b[0m     )[\u001b[38;5;241m0\u001b[39m:\u001b[38;5;241m5\u001b[39m]\n",
      "\u001b[0;31mTypeError\u001b[0m: lsqr() got an unexpected keyword argument 'tol'"
     ]
    }
   ],
   "source": [
    "import numpy as np\n",
    "import pytest\n",
    "from numpy.testing import assert_array_almost_equal\n",
    "\n",
    "from pylops.basicoperators import Diagonal, HStack, Identity, MatrixMult, Smoothing1D\n",
    "from pylops.optimization.leastsquaresc import (\n",
    "    NormalEquationsInversion,\n",
    "    PreconditionedInversion,\n",
    "    RegularizedInversion,\n",
    ")\n",
    "from pylops.optimization.leastsquares import (\n",
    "    normal_equations_inversion,\n",
    "    preconditioned_inversion,\n",
    "    regularized_inversion,\n",
    ")\n",
    "\n",
    "\n",
    "\"\"\"Compare results for normal equations and regularized inversion\n",
    "when used to solve weighted least square inversion\n",
    "\"\"\"\n",
    "np.random.seed(10)\n",
    "G = np.random.normal(0, 10, (par[\"ny\"], par[\"nx\"])).astype(\"float32\") + par[\n",
    "    \"imag\"\n",
    "] * np.random.normal(0, 10, (par[\"ny\"], par[\"nx\"])).astype(\"float32\")\n",
    "Gop = MatrixMult(G, dtype=par[\"dtype\"])\n",
    "w = np.arange(par[\"ny\"])\n",
    "w1 = np.sqrt(w)\n",
    "Weigth = Diagonal(w, dtype=par[\"dtype\"])\n",
    "Weigth1 = Diagonal(w1, dtype=par[\"dtype\"])\n",
    "x = np.ones(par[\"nx\"]) + par[\"imag\"] * np.ones(par[\"nx\"])\n",
    "y = Gop * x\n",
    "\n",
    "xne = normal_equations_inversion(\n",
    "    Gop, None, y, Weight=Weigth, **dict(maxiter=5, tol=1e-10)\n",
    ")\n",
    "xreg = regularized_inversion(\n",
    "    Gop,\n",
    "    None,\n",
    "    y,\n",
    "    Weight=Weigth1,\n",
    "    **dict(damp=0, iter_lim=5, show=0)\n",
    ")[0]\n",
    "assert_array_almost_equal(xne, xreg, decimal=3)\n"
   ]
  },
  {
   "cell_type": "code",
   "execution_count": null,
   "id": "ab97e864",
   "metadata": {},
   "outputs": [],
   "source": []
  }
 ],
 "metadata": {
  "kernelspec": {
   "display_name": "Python 3 (ipykernel)",
   "language": "python",
   "name": "python3"
  },
  "language_info": {
   "codemirror_mode": {
    "name": "ipython",
    "version": 3
   },
   "file_extension": ".py",
   "mimetype": "text/x-python",
   "name": "python",
   "nbconvert_exporter": "python",
   "pygments_lexer": "ipython3",
   "version": "3.9.12"
  },
  "toc": {
   "base_numbering": 1,
   "nav_menu": {},
   "number_sections": true,
   "sideBar": true,
   "skip_h1_title": false,
   "title_cell": "Table of Contents",
   "title_sidebar": "Contents",
   "toc_cell": false,
   "toc_position": {
    "height": "calc(100% - 180px)",
    "left": "10px",
    "top": "150px",
    "width": "269.2391357421875px"
   },
   "toc_section_display": true,
   "toc_window_display": true
  }
 },
 "nbformat": 4,
 "nbformat_minor": 5
}
