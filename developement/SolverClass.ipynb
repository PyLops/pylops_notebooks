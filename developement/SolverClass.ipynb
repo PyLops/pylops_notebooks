{
 "cells": [
  {
   "cell_type": "markdown",
   "id": "f7120e12",
   "metadata": {},
   "source": [
    "# PyLops - Class-based solvers in v2\n",
    "\n",
    "This notebook provides a tour of the new class-based solvers in PyLops and how they can be invoked with different level of abstraction (more abstraction <-> less flexibility)"
   ]
  },
  {
   "cell_type": "code",
   "execution_count": 1,
   "id": "ae6ca8ec",
   "metadata": {},
   "outputs": [],
   "source": [
    "%load_ext autoreload\n",
    "%autoreload 2\n",
    "%matplotlib inline\n",
    "\n",
    "#import warnings\n",
    "#warnings.filterwarnings('ignore')\n",
    "\n",
    "import numpy as np\n",
    "import matplotlib.pyplot as plt\n",
    "import scipy as sp\n",
    "\n",
    "import pylops\n",
    "from pylops.optimization.solver import cg, CG\n",
    "from pylops.optimization.solver_old import cg as cg_old"
   ]
  },
  {
   "cell_type": "markdown",
   "id": "762ae6f3",
   "metadata": {},
   "source": [
    "## CG"
   ]
  },
  {
   "cell_type": "code",
   "execution_count": 2,
   "id": "cd2cf985",
   "metadata": {},
   "outputs": [],
   "source": [
    "ny, nx = 100, 50\n",
    "x = np.ones(nx)\n",
    "A = np.random.normal(0, 1, (ny, nx))\n",
    "A = A.T @ A\n",
    "Aop = pylops.MatrixMult(A)\n",
    "y = A @ x"
   ]
  },
  {
   "cell_type": "code",
   "execution_count": 3,
   "id": "88a6884f",
   "metadata": {},
   "outputs": [],
   "source": [
    "def callback(xx, xhist):\n",
    "    #print(f'Ciao {xx}')\n",
    "    xhist.append(xx.copy())"
   ]
  },
  {
   "cell_type": "code",
   "execution_count": 4,
   "id": "1237b897",
   "metadata": {
    "scrolled": false
   },
   "outputs": [
    {
     "name": "stdout",
     "output_type": "stream",
     "text": [
      "CG\n",
      "-----------------------------------------------------------\n",
      "The Operator Op has 50 rows and 50 cols\n",
      "tol = 0.000000e+00\n",
      "-----------------------------------------------------------\n",
      "    Itn           x[0]              r2norm\n",
      "     1         8.6448e-01         2.5851e+02\n",
      "    11         9.9444e-01         2.9463e+00\n",
      "    21         1.0001e+00         2.5128e-02\n",
      "    31         1.0000e+00         1.0814e-04\n",
      "    41         1.0000e+00         1.1760e-07\n",
      "    51         1.0000e+00         1.3645e-12\n",
      "    61         1.0000e+00         3.1486e-22\n",
      "    71         1.0000e+00         1.2115e-26\n",
      "    81         1.0000e+00         4.6488e-30\n",
      "    91         1.0000e+00         2.8368e-33\n",
      "\n",
      "Iterations = 100        Total time (s) = 0.00\n",
      "-----------------------------------------------------------------\n",
      "\n"
     ]
    }
   ],
   "source": [
    "# step-by-step solver\n",
    "cgsolve = CG(Aop, y)\n",
    "\n",
    "xhist = []\n",
    "cgsolve.callback = lambda x: callback(x, xhist)\n",
    "\n",
    "cgsolve.setup(x0=np.zeros(nx), tol=0, show=True)\n",
    "for i in range(ny):\n",
    "    cgsolve.step(True if i % 10 == 0 else False)\n",
    "    cgsolve.callback(cgsolve.x)\n",
    "cgsolve.finalize(True)\n",
    "xest = cgsolve.x"
   ]
  },
  {
   "cell_type": "code",
   "execution_count": 5,
   "id": "fe409793",
   "metadata": {},
   "outputs": [
    {
     "data": {
      "text/plain": [
       "array([ 0.86448404,  0.44971521,  0.43224673,  0.65283021,  0.15871278,\n",
       "        0.39269873,  0.18719562,  0.58464172,  0.89720321,  0.30608556,\n",
       "        1.35294584,  0.26568408,  1.02768733,  0.77817911,  0.48235999,\n",
       "        1.18409571,  0.07704118,  0.82318418,  0.19735842,  0.1308321 ,\n",
       "        0.7031433 ,  0.14425124,  1.08516302,  0.5234738 ,  0.69647084,\n",
       "        1.54652501,  0.3310417 ,  0.54700357,  0.28322202,  0.21701279,\n",
       "        0.46548513,  0.00572243,  0.80610557,  0.58444819, -0.0024029 ,\n",
       "        0.32062444,  1.01407488,  0.44321046,  0.92643699,  0.58665254,\n",
       "        0.96241429,  1.46671335,  0.62861088,  0.16582578,  0.90452648,\n",
       "        0.21298671,  0.93395413,  0.45900703,  0.90817546,  0.75094891])"
      ]
     },
     "execution_count": 5,
     "metadata": {},
     "output_type": "execute_result"
    }
   ],
   "source": [
    "xhist[0]"
   ]
  },
  {
   "cell_type": "code",
   "execution_count": 6,
   "id": "64de4c5f",
   "metadata": {},
   "outputs": [
    {
     "name": "stdout",
     "output_type": "stream",
     "text": [
      "CG\n",
      "-----------------------------------------------------------\n",
      "The Operator Op has 50 rows and 50 cols\n",
      "tol = 0.000000e+00\tniter = 100\n",
      "-----------------------------------------------------------\n",
      "    Itn           x[0]              r2norm\n",
      "     1         8.6448e-01         2.5851e+02\n",
      "     2         1.2246e+00         1.3644e+02\n",
      "     3         1.1688e+00         8.2208e+01\n",
      "     4         9.9475e-01         4.7415e+01\n",
      "     5         9.6173e-01         2.6105e+01\n",
      "     6         9.4001e-01         1.7156e+01\n",
      "     7         9.5341e-01         1.2954e+01\n",
      "     8         9.4931e-01         9.8125e+00\n",
      "     9         9.6053e-01         5.6905e+00\n",
      "    10         9.7978e-01         3.9420e+00\n",
      "    11         9.9444e-01         2.9463e+00\n",
      "    21         1.0001e+00         2.5128e-02\n",
      "    31         1.0000e+00         1.0814e-04\n",
      "    41         1.0000e+00         1.1760e-07\n",
      "    51         1.0000e+00         1.3645e-12\n",
      "    61         1.0000e+00         3.1486e-22\n",
      "    71         1.0000e+00         1.2115e-26\n",
      "    81         1.0000e+00         4.6488e-30\n",
      "    91         1.0000e+00         2.8368e-33\n",
      "    92         1.0000e+00         1.5406e-33\n",
      "    93         1.0000e+00         5.4485e-34\n",
      "    94         1.0000e+00         3.1772e-34\n",
      "    95         1.0000e+00         8.1941e-35\n",
      "    96         1.0000e+00         2.3762e-35\n",
      "    97         1.0000e+00         7.3339e-36\n",
      "    98         1.0000e+00         1.6126e-36\n",
      "    99         1.0000e+00         6.0527e-37\n",
      "   100         1.0000e+00         1.8520e-37\n",
      "\n",
      "Iterations = 100        Total time (s) = 0.00\n",
      "-----------------------------------------------------------------\n",
      "\n"
     ]
    }
   ],
   "source": [
    "# class based solver\n",
    "cgsolve = CG(Aop, y)\n",
    "cgsolve.solve(x0=np.zeros(nx), tol=0, niter=ny, show=True)\n",
    "xest1 = cgsolve.x"
   ]
  },
  {
   "cell_type": "code",
   "execution_count": 7,
   "id": "b6f58a76",
   "metadata": {},
   "outputs": [
    {
     "name": "stdout",
     "output_type": "stream",
     "text": [
      "CG\n",
      "-----------------------------------------------------------\n",
      "The Operator Op has 50 rows and 50 cols\n",
      "tol = 0.000000e+00\tniter = 100\n",
      "-----------------------------------------------------------\n",
      "    Itn           x[0]              r2norm\n",
      "     1         8.6448e-01         2.5851e+02\n",
      "     2         1.2246e+00         1.3644e+02\n",
      "     3         1.1688e+00         8.2208e+01\n",
      "     4         9.9475e-01         4.7415e+01\n",
      "     5         9.6173e-01         2.6105e+01\n",
      "     6         9.4001e-01         1.7156e+01\n",
      "     7         9.5341e-01         1.2954e+01\n",
      "     8         9.4931e-01         9.8125e+00\n",
      "     9         9.6053e-01         5.6905e+00\n",
      "    10         9.7978e-01         3.9420e+00\n",
      "    11         9.9444e-01         2.9463e+00\n",
      "    21         1.0001e+00         2.5128e-02\n",
      "    31         1.0000e+00         1.0814e-04\n",
      "    41         1.0000e+00         1.1760e-07\n",
      "    51         1.0000e+00         1.3645e-12\n",
      "    61         1.0000e+00         3.1486e-22\n",
      "    71         1.0000e+00         1.2115e-26\n",
      "    81         1.0000e+00         4.6488e-30\n",
      "    91         1.0000e+00         2.8368e-33\n",
      "    92         1.0000e+00         1.5406e-33\n",
      "    93         1.0000e+00         5.4485e-34\n",
      "    94         1.0000e+00         3.1772e-34\n",
      "    95         1.0000e+00         8.1941e-35\n",
      "    96         1.0000e+00         2.3762e-35\n",
      "    97         1.0000e+00         7.3339e-36\n",
      "    98         1.0000e+00         1.6126e-36\n",
      "    99         1.0000e+00         6.0527e-37\n",
      "   100         1.0000e+00         1.8520e-37\n",
      "\n",
      "Iterations = 100        Total time (s) = 0.00\n",
      "-----------------------------------------------------------------\n",
      "\n",
      "CG\n",
      "-----------------------------------------------------------\n",
      "The Operator Op has 50 rows and 50 cols\n",
      "tol = 0.000000e+00\tniter = 100\n",
      "-----------------------------------------------------------\n",
      "    Itn           x[0]              r2norm\n",
      "     1         8.6448e-01         2.5851e+02\n",
      "     2         1.2246e+00         1.3644e+02\n",
      "     3         1.1688e+00         8.2208e+01\n",
      "     4         9.9475e-01         4.7415e+01\n",
      "     5         9.6173e-01         2.6105e+01\n",
      "     6         9.4001e-01         1.7156e+01\n",
      "     7         9.5341e-01         1.2954e+01\n",
      "     8         9.4931e-01         9.8125e+00\n",
      "     9         9.6053e-01         5.6905e+00\n",
      "    10         9.7978e-01         3.9420e+00\n",
      "    20         1.0000e+00         4.6327e-02\n",
      "    30         1.0000e+00         1.6002e-04\n",
      "    40         1.0000e+00         3.2436e-07\n",
      "    50         1.0000e+00         6.1601e-12\n",
      "    60         1.0000e+00         2.6184e-22\n",
      "    70         1.0000e+00         1.1839e-26\n",
      "    80         1.0000e+00         7.9084e-30\n",
      "    90         1.0000e+00         1.4843e-32\n",
      "    91         1.0000e+00         2.8368e-33\n",
      "    92         1.0000e+00         1.5406e-33\n",
      "    93         1.0000e+00         5.4485e-34\n",
      "    94         1.0000e+00         3.1772e-34\n",
      "    95         1.0000e+00         8.1941e-35\n",
      "    96         1.0000e+00         2.3762e-35\n",
      "    97         1.0000e+00         7.3339e-36\n",
      "    98         1.0000e+00         1.6126e-36\n",
      "    99         1.0000e+00         6.0527e-37\n",
      "   100         1.0000e+00         1.8520e-37\n",
      "\n",
      "Iterations = 100        Total time (s) = 0.00\n",
      "-----------------------------------------------------------------\n",
      "\n"
     ]
    }
   ],
   "source": [
    "# function based solver\n",
    "xhist = []\n",
    "xest2 = cg(Aop, y, np.zeros(nx), niter=ny, tol=0, show=True, \n",
    "           callback=lambda x: callback(x, xhist))[0]\n",
    "xest3 = cg_old(Aop, y, np.zeros(nx), niter=ny, tol=0, show=True)[0]"
   ]
  },
  {
   "cell_type": "code",
   "execution_count": 8,
   "id": "4590244d",
   "metadata": {},
   "outputs": [
    {
     "data": {
      "text/plain": [
       "array([ 0.86448404,  0.44971521,  0.43224673,  0.65283021,  0.15871278,\n",
       "        0.39269873,  0.18719562,  0.58464172,  0.89720321,  0.30608556,\n",
       "        1.35294584,  0.26568408,  1.02768733,  0.77817911,  0.48235999,\n",
       "        1.18409571,  0.07704118,  0.82318418,  0.19735842,  0.1308321 ,\n",
       "        0.7031433 ,  0.14425124,  1.08516302,  0.5234738 ,  0.69647084,\n",
       "        1.54652501,  0.3310417 ,  0.54700357,  0.28322202,  0.21701279,\n",
       "        0.46548513,  0.00572243,  0.80610557,  0.58444819, -0.0024029 ,\n",
       "        0.32062444,  1.01407488,  0.44321046,  0.92643699,  0.58665254,\n",
       "        0.96241429,  1.46671335,  0.62861088,  0.16582578,  0.90452648,\n",
       "        0.21298671,  0.93395413,  0.45900703,  0.90817546,  0.75094891])"
      ]
     },
     "execution_count": 8,
     "metadata": {},
     "output_type": "execute_result"
    }
   ],
   "source": [
    "xhist[0]"
   ]
  },
  {
   "cell_type": "code",
   "execution_count": 9,
   "id": "06114677",
   "metadata": {},
   "outputs": [
    {
     "data": {
      "text/plain": [
       "(0.0, 2.0)"
      ]
     },
     "execution_count": 9,
     "metadata": {},
     "output_type": "execute_result"
    },
    {
     "data": {
      "image/png": "[encoded data removed]",
      "text/plain": [
       "<Figure size 432x288 with 1 Axes>"
      ]
     },
     "metadata": {
      "needs_background": "light"
     },
     "output_type": "display_data"
    }
   ],
   "source": [
    "plt.plot(x)\n",
    "plt.plot(xest)\n",
    "plt.plot(xest1)\n",
    "plt.plot(xest2)\n",
    "plt.ylim(0, 2)"
   ]
  },
  {
   "cell_type": "code",
   "execution_count": 10,
   "id": "2c6c30e5",
   "metadata": {},
   "outputs": [
    {
     "data": {
      "text/plain": [
       "(array([0., 0., 0., 0., 0., 0., 0., 0., 0., 0., 0., 0., 0., 0., 0., 0., 0.,\n",
       "        0., 0., 0., 0., 0., 0., 0., 0., 0., 0., 0., 0., 0., 0., 0., 0., 0.,\n",
       "        0., 0., 0., 0., 0., 0., 0., 0., 0., 0., 0., 0., 0., 0., 0., 0.]),\n",
       " array([0., 0., 0., 0., 0., 0., 0., 0., 0., 0., 0., 0., 0., 0., 0., 0., 0.,\n",
       "        0., 0., 0., 0., 0., 0., 0., 0., 0., 0., 0., 0., 0., 0., 0., 0., 0.,\n",
       "        0., 0., 0., 0., 0., 0., 0., 0., 0., 0., 0., 0., 0., 0., 0., 0.]),\n",
       " array([0., 0., 0., 0., 0., 0., 0., 0., 0., 0., 0., 0., 0., 0., 0., 0., 0.,\n",
       "        0., 0., 0., 0., 0., 0., 0., 0., 0., 0., 0., 0., 0., 0., 0., 0., 0.,\n",
       "        0., 0., 0., 0., 0., 0., 0., 0., 0., 0., 0., 0., 0., 0., 0., 0.]))"
      ]
     },
     "execution_count": 10,
     "metadata": {},
     "output_type": "execute_result"
    }
   ],
   "source": [
    "xest-xest1, xest1-xest2, xest1-xest3"
   ]
  },
  {
   "cell_type": "markdown",
   "id": "611cc96d",
   "metadata": {},
   "source": [
    "## CG with complex numbers"
   ]
  },
  {
   "cell_type": "code",
   "execution_count": 11,
   "id": "04b866fe",
   "metadata": {},
   "outputs": [],
   "source": [
    "ny, nx = 100, 50\n",
    "x = np.ones(nx) + 1j*np.ones(nx)\n",
    "A = np.random.normal(0, 1, (ny, nx))\n",
    "A = A.T @ A\n",
    "Aop = pylops.MatrixMult(A)\n",
    "y = A @ x"
   ]
  },
  {
   "cell_type": "code",
   "execution_count": 12,
   "id": "e51ca158",
   "metadata": {},
   "outputs": [
    {
     "name": "stdout",
     "output_type": "stream",
     "text": [
      "CG\n",
      "-----------------------------------------------------------\n",
      "The Operator Op has 50 rows and 50 cols\n",
      "tol = 0.000000e+00\tniter = 100\n",
      "-----------------------------------------------------------\n",
      "    Itn              x[0]                  r2norm\n",
      "     1        1.57e-01+1.57e-01j         4.9426e+02\n",
      "     2        7.37e-01+7.37e-01j         1.8458e+02\n",
      "     3        7.49e-01+7.49e-01j         1.1481e+02\n",
      "     4        8.41e-01+8.41e-01j         6.7603e+01\n",
      "     5        9.66e-01+9.66e-01j         5.3627e+01\n",
      "     6        9.99e-01+9.99e-01j         3.0965e+01\n",
      "     7        9.96e-01+9.96e-01j         2.0048e+01\n",
      "     8        1.00e+00+1.00e+00j         1.4342e+01\n",
      "     9        9.92e-01+9.92e-01j         7.8393e+00\n",
      "    10        9.94e-01+9.94e-01j         5.2827e+00\n",
      "    11        9.93e-01+9.93e-01j         3.8630e+00\n",
      "    21        1.00e+00+1.00e+00j         2.2932e-02\n",
      "    31        1.00e+00+1.00e+00j         5.0645e-05\n",
      "    41        1.00e+00+1.00e+00j         7.5123e-08\n",
      "    51        1.00e+00+1.00e+00j         5.2179e-12\n",
      "    61        1.00e+00+1.00e+00j         4.4786e-22\n",
      "    71        1.00e+00+1.00e+00j         9.6489e-28\n",
      "    81        1.00e+00+1.00e+00j         7.1581e-31\n",
      "    91        1.00e+00+1.00e+00j         1.0028e-33\n",
      "    92        1.00e+00+1.00e+00j         4.5226e-34\n",
      "    93        1.00e+00+1.00e+00j         1.6254e-34\n",
      "    94        1.00e+00+1.00e+00j         1.0331e-34\n",
      "    95        1.00e+00+1.00e+00j         2.9329e-35\n",
      "    96        1.00e+00+1.00e+00j         9.9327e-36\n",
      "    97        1.00e+00+1.00e+00j         2.9594e-36\n",
      "    98        1.00e+00+1.00e+00j         2.5863e-36\n",
      "    99        1.00e+00+1.00e+00j         1.2750e-36\n",
      "   100        1.00e+00+1.00e+00j         4.5834e-37\n",
      "\n",
      "Iterations = 100        Total time (s) = 0.01\n",
      "-----------------------------------------------------------------\n",
      "\n",
      "CG\n",
      "-----------------------------------------------------------\n",
      "The Operator Op has 50 rows and 50 cols\n",
      "tol = 0.000000e+00\tniter = 100\n",
      "-----------------------------------------------------------\n",
      "    Itn           x[0]              r2norm\n",
      "     1    1.6e-01 + 1.6e-01j     4.9426e+02\n",
      "     2    7.4e-01 + 7.4e-01j     1.8458e+02\n",
      "     3    7.5e-01 + 7.5e-01j     1.1481e+02\n",
      "     4    8.4e-01 + 8.4e-01j     6.7603e+01\n",
      "     5    9.7e-01 + 9.7e-01j     5.3627e+01\n",
      "     6    1.0e+00 + 1.0e+00j     3.0965e+01\n",
      "     7    1.0e+00 + 1.0e+00j     2.0048e+01\n",
      "     8    1.0e+00 + 1.0e+00j     1.4342e+01\n",
      "     9    9.9e-01 + 9.9e-01j     7.8393e+00\n",
      "    10    9.9e-01 + 9.9e-01j     5.2827e+00\n",
      "    20    1.0e+00 + 1.0e+00j     3.7610e-02\n",
      "    30    1.0e+00 + 1.0e+00j     1.1203e-04\n",
      "    40    1.0e+00 + 1.0e+00j     1.4871e-07\n",
      "    50    1.0e+00 + 1.0e+00j     6.6457e-12\n",
      "    60    1.0e+00 + 1.0e+00j     1.6002e-21\n",
      "    70    1.0e+00 + 1.0e+00j     4.8722e-27\n",
      "    80    1.0e+00 + 1.0e+00j     1.6544e-30\n",
      "    90    1.0e+00 + 1.0e+00j     4.1012e-33\n",
      "    91    1.0e+00 + 1.0e+00j     1.0028e-33\n",
      "    92    1.0e+00 + 1.0e+00j     4.5226e-34\n",
      "    93    1.0e+00 + 1.0e+00j     1.6254e-34\n",
      "    94    1.0e+00 + 1.0e+00j     1.0331e-34\n",
      "    95    1.0e+00 + 1.0e+00j     2.9329e-35\n",
      "    96    1.0e+00 + 1.0e+00j     9.9327e-36\n",
      "    97    1.0e+00 + 1.0e+00j     2.9594e-36\n",
      "    98    1.0e+00 + 1.0e+00j     2.5863e-36\n",
      "    99    1.0e+00 + 1.0e+00j     1.2750e-36\n",
      "   100    1.0e+00 + 1.0e+00j     4.5834e-37\n",
      "\n",
      "Iterations = 100        Total time (s) = 0.01\n",
      "-----------------------------------------------------------------\n",
      "\n"
     ]
    }
   ],
   "source": [
    "# function based solver\n",
    "xest2 = cg(Aop, y, np.zeros(nx) + 1j*np.zeros(nx), niter=ny, tol=0, show=True)[0]#, callback=callback)[0]\n",
    "xest3 = cg_old(Aop, y, np.zeros(nx) + 1j*np.zeros(nx), niter=ny, tol=0, show=True)[0]"
   ]
  }
 ],
 "metadata": {
  "kernelspec": {
   "display_name": "Python 3 (ipykernel)",
   "language": "python",
   "name": "python3"
  },
  "language_info": {
   "codemirror_mode": {
    "name": "ipython",
    "version": 3
   },
   "file_extension": ".py",
   "mimetype": "text/x-python",
   "name": "python",
   "nbconvert_exporter": "python",
   "pygments_lexer": "ipython3",
   "version": "3.9.12"
  },
  "toc": {
   "base_numbering": 1,
   "nav_menu": {},
   "number_sections": true,
   "sideBar": true,
   "skip_h1_title": false,
   "title_cell": "Table of Contents",
   "title_sidebar": "Contents",
   "toc_cell": false,
   "toc_position": {
    "height": "calc(100% - 180px)",
    "left": "10px",
    "top": "150px",
    "width": "261.0326232910156px"
   },
   "toc_section_display": true,
   "toc_window_display": true
  }
 },
 "nbformat": 4,
 "nbformat_minor": 5
}
