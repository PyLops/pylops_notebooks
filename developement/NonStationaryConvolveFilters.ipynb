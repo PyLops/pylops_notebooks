{
 "cells": [
  {
   "cell_type": "markdown",
   "metadata": {},
   "source": [
    "# Pylops - Non-stationary filters estimation"
   ]
  },
  {
   "cell_type": "markdown",
   "metadata": {},
   "source": [
    "### Author: M.Ravasi"
   ]
  },
  {
   "cell_type": "markdown",
   "metadata": {},
   "source": [
    "In this notebook we show how to use the ``NonStationaryFilters1D`` and ``NonStationaryFilters2D`` operators to estimate non-stationary filters given an input and output signal. Note that the filters will be estimated on a coarser grid then the grid of signals and on-the-fly interpolation between the filters is performed as part of the operators."
   ]
  },
  {
   "cell_type": "code",
   "execution_count": 1,
   "metadata": {},
   "outputs": [],
   "source": [
    "%load_ext autoreload\n",
    "%autoreload 2\n",
    "%matplotlib inline\n",
    "\n",
    "#import warnings\n",
    "#warnings.filterwarnings('ignore')\n",
    "\n",
    "import numpy as np\n",
    "import matplotlib.pyplot as plt\n",
    "import scipy as sp\n",
    "from scipy.signal import filtfilt\n",
    "from scipy.sparse.linalg import lsqr\n",
    "from numba import jit\n",
    "\n",
    "from pylops                            import LinearOperator\n",
    "from pylops.utils                      import dottest\n",
    "from pylops.utils.wavelets             import *\n",
    "from pylops.utils.seismicevents        import *\n",
    "from pylops.utils.tapers               import *\n",
    "from pylops.basicoperators             import *\n",
    "from pylops.signalprocessing           import *"
   ]
  },
  {
   "cell_type": "markdown",
   "metadata": {},
   "source": [
    "## 1D filter estimation"
   ]
  },
  {
   "cell_type": "code",
   "execution_count": 2,
   "metadata": {},
   "outputs": [],
   "source": [
    "nt = 601\n",
    "dt = 0.004\n",
    "t = np.arange(nt)*dt\n",
    "\n",
    "Dop = FirstDerivative(101)\n",
    "wav1, _, wav1c = ricker(t[:51], f0=20)\n",
    "wav2 = ricker(t[:51], f0=50)[0]\n",
    "wav2 = wav2 * (np.sum(np.abs(wav1)) / np.sum(np.abs(wav2)))\n",
    "\n",
    "wav1 = Dop @ wav1\n",
    "wav2 = Dop @ wav2\n",
    "\n",
    "wavs = np.stack([wav1, wav2])"
   ]
  },
  {
   "cell_type": "code",
   "execution_count": 3,
   "metadata": {},
   "outputs": [],
   "source": [
    "x = np.zeros(nt)\n",
    "for ix in range(64, nt-64, 64):\n",
    "    x[ix] = 1.\n",
    "\n",
    "Cop = NonStationaryConvolve1D(dims=nt, hs=wavs, ih=(201, 401))\n",
    "C1op = NonStationaryFilters1D(inp=x, hsize=wavs.shape[1],  ih=(201, 401))"
   ]
  },
  {
   "cell_type": "code",
   "execution_count": 4,
   "metadata": {},
   "outputs": [
    {
     "data": {
      "text/plain": [
       "True"
      ]
     },
     "execution_count": 4,
     "metadata": {},
     "output_type": "execute_result"
    }
   ],
   "source": [
    "y = Cop @ x\n",
    "y1 = C1op @ wavs\n",
    "\n",
    "np.allclose(y, y1)"
   ]
  },
  {
   "cell_type": "code",
   "execution_count": 5,
   "metadata": {},
   "outputs": [
    {
     "data": {
      "text/plain": [
       "True"
      ]
     },
     "execution_count": 5,
     "metadata": {},
     "output_type": "execute_result"
    }
   ],
   "source": [
    "dottest(C1op)"
   ]
  },
  {
   "cell_type": "code",
   "execution_count": 6,
   "metadata": {},
   "outputs": [
    {
     "data": {
      "text/plain": [
       "True"
      ]
     },
     "execution_count": 6,
     "metadata": {},
     "output_type": "execute_result"
    },
    {
     "data": {
      "image/png": "[encoded data removed]",
      "text/plain": [
       "<Figure size 1152x216 with 1 Axes>"
      ]
     },
     "metadata": {
      "needs_background": "light"
     },
     "output_type": "display_data"
    }
   ],
   "source": [
    "wavsinv = C1op.div(y, niter=200)\n",
    "wavsinv = wavsinv.reshape(wavs.shape)\n",
    "\n",
    "plt.figure(figsize=(16, 3))\n",
    "plt.plot(wavs.T, 'k', lw=4)\n",
    "plt.plot(wavsinv.T, 'r', lw=2)\n",
    "\n",
    "np.allclose(wavs, wavsinv)"
   ]
  },
  {
   "cell_type": "markdown",
   "metadata": {},
   "source": [
    "## 2D filter estimation"
   ]
  },
  {
   "cell_type": "code",
   "execution_count": 7,
   "metadata": {},
   "outputs": [
    {
     "data": {
      "image/png": "[encoded data removed]",
      "text/plain": [
       "<Figure size 1080x432 with 4 Axes>"
      ]
     },
     "metadata": {
      "needs_background": "light"
     },
     "output_type": "display_data"
    }
   ],
   "source": [
    "nx, nz = 101, 51\n",
    "nt = 101\n",
    "dt = 0.004\n",
    "\n",
    "t = np.arange(nt)*dt\n",
    "wav1a, _, wav1c = ricker(t[:7], f0=15)\n",
    "wav1b = ricker(t[:7], f0=40)[0]\n",
    "wav2 = sp.signal.windows.gaussian(15, 2.)\n",
    "\n",
    "wav11 = np.outer(wav1a, wav2[np.newaxis]).T\n",
    "wav12 = np.outer(wav1b, wav2[np.newaxis]).T\n",
    "wav21 = np.outer(wav1b, wav2[np.newaxis]).T\n",
    "wav22 = np.outer(wav1b, wav2[np.newaxis]).T\n",
    "wavsize = wav11.shape\n",
    "\n",
    "fig, axs = plt.subplots(2, 2, figsize=(15, 6))\n",
    "axs[0,0].imshow(wav11, 'gray')\n",
    "axs[0,0].axis('tight')\n",
    "axs[0,1].imshow(wav12, 'gray')\n",
    "axs[0,1].axis('tight')\n",
    "axs[1,0].imshow(wav21, 'gray')\n",
    "axs[1,0].axis('tight')\n",
    "axs[1,1].imshow(wav22, 'gray')\n",
    "axs[1,1].axis('tight');"
   ]
  },
  {
   "cell_type": "code",
   "execution_count": 8,
   "metadata": {},
   "outputs": [],
   "source": [
    "hs = np.zeros((2, 2, *wavsize))\n",
    "hs[0, 0] = wav11\n",
    "hs[0, 1] = wav12\n",
    "hs[1, 0] = wav21\n",
    "hs[1, 1] = wav22\n",
    "\n",
    "x = np.zeros((nx, nz))\n",
    "x[:, 21] = 1.\n",
    "x[:, 41] = -1.\n",
    "\n",
    "Cop = NonStationaryConvolve2D(hs=hs, ihx=(21, 41), ihz=(21, 41), dims=(nx, nz), engine=\"numba\")\n",
    "C1op = NonStationaryFilters2D(inp=x, hshape=wavsize, ihx=(21, 41), ihz=(21, 41), engine=\"numba\")"
   ]
  },
  {
   "cell_type": "code",
   "execution_count": 9,
   "metadata": {},
   "outputs": [
    {
     "data": {
      "text/plain": [
       "True"
      ]
     },
     "execution_count": 9,
     "metadata": {},
     "output_type": "execute_result"
    }
   ],
   "source": [
    "y = Cop @ x\n",
    "y1 = C1op @ hs\n",
    "\n",
    "np.allclose(y, y1)"
   ]
  },
  {
   "cell_type": "code",
   "execution_count": 10,
   "metadata": {},
   "outputs": [
    {
     "name": "stdout",
     "output_type": "stream",
     "text": [
      "Dot test passed, v^H(Opu)=-149.05496984163165 - u^H(Op^Hv)=-149.05496984163187\n",
      "Dot test passed, v^H(Opu)=-38.96140278494913 - u^H(Op^Hv)=-38.96140278494934\n"
     ]
    },
    {
     "data": {
      "text/plain": [
       "True"
      ]
     },
     "execution_count": 10,
     "metadata": {},
     "output_type": "execute_result"
    }
   ],
   "source": [
    "dottest(Cop, verb=True)\n",
    "dottest(C1op, verb=True)"
   ]
  },
  {
   "cell_type": "raw",
   "metadata": {},
   "source": [
    "C1opH = C1op.H\n",
    "\n",
    "C1opdense = C1op.todense()\n",
    "C1opdenseH = C1opH.todense()\n",
    "\n",
    "plt.figure(figsize=(20, 12))\n",
    "plt.imshow(C1opdense[1000:2000, 400:500], cmap='jet', vmin=-.1, vmax=.1)\n",
    "plt.axis('tight')\n",
    "\n",
    "plt.figure(figsize=(20, 12))\n",
    "plt.imshow(C1opdenseH.T[1000:2000, 400:500], cmap='jet', vmin=-.1, vmax=.1)\n",
    "plt.axis('tight');\n",
    "\n",
    "plt.figure(figsize=(20, 12))\n",
    "plt.imshow(C1opdense[1000:2000, 400:500]-C1opdenseH.T[1000:2000, 400:500], cmap='jet', vmin=-.1, vmax=.1)\n",
    "plt.axis('tight');\n",
    "\n",
    "hest = C1op.H @ y1\n",
    "hestdense = (C1opdense.T @ y1.ravel()).reshape(hest.shape)\n",
    "\n",
    "np.allclose(C1opdense, C1opdenseH.T), np.allclose(hest, hestdense)"
   ]
  },
  {
   "cell_type": "code",
   "execution_count": 11,
   "metadata": {},
   "outputs": [
    {
     "data": {
      "image/png": "[encoded data removed]",
      "text/plain": [
       "<Figure size 1080x432 with 4 Axes>"
      ]
     },
     "metadata": {
      "needs_background": "light"
     },
     "output_type": "display_data"
    },
    {
     "data": {
      "image/png": "[encoded data removed]",
      "text/plain": [
       "<Figure size 1080x432 with 4 Axes>"
      ]
     },
     "metadata": {
      "needs_background": "light"
     },
     "output_type": "display_data"
    }
   ],
   "source": [
    "hsinv = C1op.div(y.ravel(), niter=200)\n",
    "hsinv = hsinv.reshape(hs.shape)\n",
    "\n",
    "fig, axs = plt.subplots(2, 2, figsize=(15, 6))\n",
    "axs[0,0].imshow(hs[0,0], 'gray')\n",
    "axs[0,0].axis('tight')\n",
    "axs[0,1].imshow(hs[0,1], 'gray')\n",
    "axs[0,1].axis('tight')\n",
    "axs[1,0].imshow(hs[1,0], 'gray')\n",
    "axs[1,0].axis('tight')\n",
    "axs[1,1].imshow(hs[1,1], 'gray')\n",
    "axs[1,1].axis('tight');\n",
    "\n",
    "fig, axs = plt.subplots(2, 2, figsize=(15, 6))\n",
    "axs[0,0].imshow(hsinv[0,0], 'gray')\n",
    "axs[0,0].axis('tight')\n",
    "axs[0,1].imshow(hsinv[0,1], 'gray')\n",
    "axs[0,1].axis('tight')\n",
    "axs[1,0].imshow(hsinv[1,0], 'gray')\n",
    "axs[1,0].axis('tight')\n",
    "axs[1,1].imshow(hsinv[1,1], 'gray')\n",
    "axs[1,1].axis('tight');"
   ]
  }
 ],
 "metadata": {
  "kernelspec": {
   "display_name": "Python 3 (ipykernel)",
   "language": "python",
   "name": "python3"
  },
  "language_info": {
   "codemirror_mode": {
    "name": "ipython",
    "version": 3
   },
   "file_extension": ".py",
   "mimetype": "text/x-python",
   "name": "python",
   "nbconvert_exporter": "python",
   "pygments_lexer": "ipython3",
   "version": "3.9.12"
  },
  "toc": {
   "base_numbering": 1,
   "nav_menu": {},
   "number_sections": true,
   "sideBar": true,
   "skip_h1_title": false,
   "title_cell": "Table of Contents",
   "title_sidebar": "Contents",
   "toc_cell": false,
   "toc_position": {
    "height": "calc(100% - 180px)",
    "left": "10px",
    "top": "150px",
    "width": "165px"
   },
   "toc_section_display": true,
   "toc_window_display": true
  }
 },
 "nbformat": 4,
 "nbformat_minor": 1
}
