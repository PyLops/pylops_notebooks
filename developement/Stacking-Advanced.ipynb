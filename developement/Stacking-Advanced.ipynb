{
 "cells": [
  {
   "cell_type": "markdown",
   "metadata": {},
   "source": [
    "# Pylops - stacking with mixed inputs"
   ]
  },
  {
   "cell_type": "markdown",
   "metadata": {},
   "source": [
    "### Author: M.Ravasi"
   ]
  },
  {
   "cell_type": "markdown",
   "metadata": {},
   "source": [
    "In this notebook we consider stacking operators and pass mixed inputs (pylops operators, numpy matrices, scipy sparse matrices)"
   ]
  },
  {
   "cell_type": "code",
   "execution_count": 1,
   "metadata": {},
   "outputs": [],
   "source": [
    "%load_ext autoreload\n",
    "%autoreload 2\n",
    "%matplotlib inline\n",
    "\n",
    "import warnings\n",
    "warnings.filterwarnings('ignore')\n",
    "\n",
    "import numpy as np\n",
    "import matplotlib.pyplot as plt\n",
    "import scipy as sp\n",
    "\n",
    "import pylops\n",
    "\n",
    "from scipy.sparse import csr_matrix, vstack, rand, bsr_matrix, eye\n",
    "from scipy.linalg import lstsq, solve, pinv\n",
    "from scipy.sparse.linalg import LinearOperator as spLinearOperator\n",
    "from scipy.sparse.linalg import cg, lsqr\n",
    "\n",
    "from pylops.utils                      import dottest\n",
    "from pylops.basicoperators             import *"
   ]
  },
  {
   "cell_type": "markdown",
   "metadata": {},
   "source": [
    "# Concatenation of linear operators"
   ]
  },
  {
   "cell_type": "markdown",
   "metadata": {},
   "source": [
    "## Vertical stacking of operators"
   ]
  },
  {
   "cell_type": "markdown",
   "metadata": {},
   "source": [
    "We now want to vertically stack 2 operators, one is an operator and one is a matrix\n",
    "\n",
    "$$  \\mathbf{D} =\n",
    "    \\begin{bmatrix}\n",
    "    \\mathbf{D_2}    \\\\\n",
    "    \\mathbf{M}    \n",
    "    \\end{bmatrix}$$"
   ]
  },
  {
   "cell_type": "code",
   "execution_count": 2,
   "metadata": {},
   "outputs": [
    {
     "name": "stdout",
     "output_type": "stream",
     "text": [
      "Dot test passed, v^H(Opu)=115968.16803426258 - u^H(Op^Hv)=115968.16803426259\n",
      "Dot test passed, v^H(Opu)=-20107.190953501795 - u^H(Op^Hv)=-20107.190953501795\n"
     ]
    }
   ],
   "source": [
    "D2op = SecondDerivative(51, dtype='float64')\n",
    "M = np.arange(51*51).reshape(51, 51)\n",
    "Mop = MatrixMult(M,  dtype='float64')\n",
    "\n",
    "Vstackop = VStack([D2op, M])\n",
    "Vstackop1 = VStack([D2op, Mop])\n",
    "dottest(Vstackop, 2*51, 51, verb=True)\n",
    "dottest(Vstackop1, 2*51, 51, verb=True)\n",
    "\n",
    "x = np.ones(51)\n",
    "assert np.allclose(Vstackop * x, Vstackop1 * x)"
   ]
  },
  {
   "cell_type": "markdown",
   "metadata": {},
   "source": [
    "and three operators\n",
    "\n",
    "$$  \\mathbf{D} =\n",
    "    \\begin{bmatrix}\n",
    "    \\mathbf{D}    \\\\\n",
    "    0.5*\\mathbf{M}    \\\\\n",
    "    2*\\mathbf{D_2}    \n",
    "    \\end{bmatrix}$$"
   ]
  },
  {
   "cell_type": "code",
   "execution_count": 3,
   "metadata": {},
   "outputs": [
    {
     "name": "stdout",
     "output_type": "stream",
     "text": [
      "Dot test passed, v^H(Opu)=-14.572131440491866 - u^H(Op^Hv)=-14.572131440491868\n",
      "Dot test passed, v^H(Opu)=-26.976705315124782 - u^H(Op^Hv)=-26.97670531512478\n"
     ]
    }
   ],
   "source": [
    "D2op = SecondDerivative(51, dtype='float64')\n",
    "Dop = FirstDerivative(51, dtype='float64')\n",
    "M = eye(51)\n",
    "Mop = MatrixMult(M,  dtype='float64')\n",
    "\n",
    "Vstackop = VStack([D2op, 0.5*M, Dop])\n",
    "Vstackop1 = VStack([D2op, 0.5*Mop, Dop])\n",
    "dottest(Vstackop, 3*51, 51, verb=True)\n",
    "dottest(Vstackop1, 3*51, 51, verb=True)\n",
    "\n",
    "x = np.ones(51)\n",
    "assert np.allclose(Vstackop * x, Vstackop1 * x)"
   ]
  },
  {
   "cell_type": "markdown",
   "metadata": {},
   "source": [
    "And with complex numbers and scipy sparse"
   ]
  },
  {
   "cell_type": "code",
   "execution_count": 4,
   "metadata": {},
   "outputs": [
    {
     "name": "stdout",
     "output_type": "stream",
     "text": [
      "Dot test passed, v^H(Opu)=(-76156.9362833265+91670.44018600257j) - u^H(Op^Hv)=(-76156.9362833265+91670.44018600261j)\n",
      "Dot test passed, v^H(Opu)=(-144279.37066953833+109592.01278453437j) - u^H(Op^Hv)=(-144279.3706695383+109592.01278453435j)\n"
     ]
    }
   ],
   "source": [
    "D2op = SecondDerivative(51, dtype='complex128')\n",
    "Dop = FirstDerivative(51, dtype='complex128')\n",
    "M = 1j*np.arange(51**2).reshape(51, 51)\n",
    "Ms = 1j*eye(51)\n",
    "Mop = MatrixMult(M,  dtype='complex128')\n",
    "Msop = MatrixMult(Ms,  dtype='complex128')\n",
    "\n",
    "Vstackop = VStack([D2op, 0.5*M, Ms], dtype='complex128')\n",
    "Vstackop1 = VStack([D2op, 0.5*Mop, Msop], dtype='complex128')\n",
    "dottest(Vstackop, 3*51, 51, atol=1e-10, complexflag=3, verb=True)\n",
    "dottest(Vstackop1, 3*51, 51, atol=1e-10, complexflag=3, verb=True)\n",
    "\n",
    "x = 1j*np.ones(51)\n",
    "assert np.allclose(Vstackop * x, Vstackop1 * x)"
   ]
  },
  {
   "cell_type": "markdown",
   "metadata": {},
   "source": [
    "## Horizontal stacking of operators"
   ]
  },
  {
   "cell_type": "markdown",
   "metadata": {},
   "source": [
    "We now want to horizontally stack various operators\n",
    "\n",
    "$$  \\mathbf{D} =\n",
    "    \\begin{bmatrix}\n",
    "    \\mathbf{D_2}  \\quad 0.5*\\mathbf{M}   \n",
    "    \\end{bmatrix}$$"
   ]
  },
  {
   "cell_type": "code",
   "execution_count": 5,
   "metadata": {},
   "outputs": [
    {
     "name": "stdout",
     "output_type": "stream",
     "text": [
      "Dot test passed, v^H(Opu)=-298650.1790791495 - u^H(Op^Hv)=-298650.17907914944\n",
      "Dot test passed, v^H(Opu)=-40769.68730627748 - u^H(Op^Hv)=-40769.687306277476\n",
      "True\n"
     ]
    }
   ],
   "source": [
    "D2op = SecondDerivative(51, dtype='float64')\n",
    "M = np.arange(51*61).reshape(51, 61)\n",
    "Mop = MatrixMult(M,  dtype='float64')\n",
    "\n",
    "Hstackop = HStack([D2op, M])\n",
    "Hstackop1 = HStack([D2op, Mop])\n",
    "dottest(Hstackop, 51, 51+61, verb=True)\n",
    "dottest(Hstackop1, 51, 51+61, verb=True)\n",
    "\n",
    "x = np.ones(51+61)\n",
    "print(np.allclose(Hstackop * x, Hstackop1 * x))"
   ]
  },
  {
   "cell_type": "markdown",
   "metadata": {},
   "source": [
    "And with complex numbers and scipy sparse"
   ]
  },
  {
   "cell_type": "code",
   "execution_count": 6,
   "metadata": {},
   "outputs": [
    {
     "name": "stdout",
     "output_type": "stream",
     "text": [
      "Dot test passed, v^H(Opu)=(-3296.987326525763-19073.701405018368j) - u^H(Op^Hv)=(-3296.9873265257957-19073.70140501837j)\n",
      "Dot test passed, v^H(Opu)=(26562.576948487356-44862.816811394536j) - u^H(Op^Hv)=(26562.57694848734-44862.81681139454j)\n",
      "True\n"
     ]
    }
   ],
   "source": [
    "D2op = SecondDerivative(51, dtype='complex128')\n",
    "Dop = FirstDerivative(51, dtype='complex128')\n",
    "M = 1j*np.arange(51**2).reshape(51, 51)\n",
    "Ms = 1j*eye(51)\n",
    "Mop = MatrixMult(M,  dtype='complex128')\n",
    "Msop = MatrixMult(Ms,  dtype='complex128')\n",
    "\n",
    "Hstackop = HStack([D2op, 0.5*M, Ms], dtype='complex128')\n",
    "Hstackop1 = HStack([D2op, 0.5*Mop, Msop], dtype='complex128')\n",
    "dottest(Hstackop, 51, 3*51, atol=1e-10, complexflag=3, verb=True)\n",
    "dottest(Hstackop1, 51, 3*51, atol=1e-10, complexflag=3, verb=True)\n",
    "\n",
    "x = 1j*np.ones(3*51)\n",
    "print(np.allclose(Hstackop * x, Hstackop1 * x))"
   ]
  },
  {
   "cell_type": "markdown",
   "metadata": {},
   "source": [
    "## Blockdiagonal matrix"
   ]
  },
  {
   "cell_type": "markdown",
   "metadata": {},
   "source": [
    "We now want to create a block diagonal matrix\n",
    "\n",
    "$$  \\mathbf{D} =\n",
    "    \\begin{bmatrix}\n",
    "    \\mathbf{D_2}  \\quad \\mathbf{0}       \\quad  \\mathbf{0}  \\\\\n",
    "    \\mathbf{0}    \\quad 0.5*\\mathbf{M} \\quad  \\mathbf{0}  \\\\\n",
    "    \\mathbf{0}    \\quad \\mathbf{0}       \\quad  -1*\\mathbf{M_s}\n",
    "    \\end{bmatrix}$$"
   ]
  },
  {
   "cell_type": "code",
   "execution_count": 7,
   "metadata": {},
   "outputs": [
    {
     "name": "stdout",
     "output_type": "stream",
     "text": [
      "Dot test passed, v^H(Opu)=(16179.55658666357+46807.64479352242j) - u^H(Op^Hv)=(16179.556586663566+46807.64479352242j)\n",
      "Dot test passed, v^H(Opu)=(14490.601692136654+46680.868970708216j) - u^H(Op^Hv)=(14490.601692136646+46680.86897070826j)\n"
     ]
    }
   ],
   "source": [
    "Bop = BlockDiag([D2op, 0.5*Mop, -1*Msop], dtype='complex128')\n",
    "Bop1 = BlockDiag([D2op, 0.5*Mop, -1*Msop], dtype='complex128')\n",
    "dottest(Bop, 3*51, 3*51, complexflag=3, verb=True)\n",
    "dottest(Bop1, 3*51, 3*51, complexflag=3, verb=True)\n",
    "\n",
    "x = 1j*np.ones(3*51)\n",
    "assert np.allclose(Bop * x, Bop1 * x)"
   ]
  },
  {
   "cell_type": "markdown",
   "metadata": {},
   "source": [
    "## Block matrix"
   ]
  },
  {
   "cell_type": "code",
   "execution_count": 8,
   "metadata": {},
   "outputs": [],
   "source": [
    "bl1 = Block([[MatrixMult(np.ones((5,5))), -2*Identity(5)],\n",
    "            [np.zeros((5,5)),             Diagonal(-2*np.ones(5))],\n",
    "            [eye(5),                      Diagonal(-2*np.ones(5), dtype=np.float64)]])"
   ]
  },
  {
   "cell_type": "code",
   "execution_count": 9,
   "metadata": {},
   "outputs": [
    {
     "name": "stdout",
     "output_type": "stream",
     "text": [
      "Dot test passed, v^H(Opu)=-0.3333290152414949 - u^H(Op^Hv)=-0.33332901524149383\n",
      "Dot test passed, v^H(Opu)=4.162734352056086 - u^H(Op^Hv)=4.162734352056086\n"
     ]
    }
   ],
   "source": [
    "bl = Block([[MatrixMult(np.ones((5,5))), -2*Identity(5)],\n",
    "            [Zero(5),                    Diagonal(-2*np.ones(5))],\n",
    "            [Identity(5),                Diagonal(-2*np.ones(5), dtype=np.float64)]])\n",
    "bl1 = Block([[MatrixMult(np.ones((5,5))), -2*Identity(5)],\n",
    "            [np.zeros((5,5)),             Diagonal(-2*np.ones(5))],\n",
    "            [eye(5),                      Diagonal(-2*np.ones(5), dtype=np.float64)]])\n",
    "dottest(bl, 15, 10,  verb=True)\n",
    "dottest(bl1, 15, 10, verb=True)\n",
    "\n",
    "x = np.ones(10)\n",
    "assert np.allclose(bl * x, bl1 * x)"
   ]
  }
 ],
 "metadata": {
  "kernelspec": {
   "display_name": "Python 3 (ipykernel)",
   "language": "python",
   "name": "python3"
  },
  "language_info": {
   "codemirror_mode": {
    "name": "ipython",
    "version": 3
   },
   "file_extension": ".py",
   "mimetype": "text/x-python",
   "name": "python",
   "nbconvert_exporter": "python",
   "pygments_lexer": "ipython3",
   "version": "3.9.12"
  },
  "toc": {
   "base_numbering": 1,
   "nav_menu": {},
   "number_sections": true,
   "sideBar": true,
   "skip_h1_title": false,
   "title_cell": "Table of Contents",
   "title_sidebar": "Contents",
   "toc_cell": false,
   "toc_position": {},
   "toc_section_display": true,
   "toc_window_display": true
  }
 },
 "nbformat": 4,
 "nbformat_minor": 1
}
