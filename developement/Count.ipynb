{
 "cells": [
  {
   "cell_type": "markdown",
   "id": "75bc7076",
   "metadata": {},
   "source": [
    "# Pylops - counting operations"
   ]
  },
  {
   "cell_type": "markdown",
   "id": "25bcd7c6",
   "metadata": {},
   "source": [
    "### Author: M.Ravasi"
   ]
  },
  {
   "cell_type": "markdown",
   "id": "a0003e4f",
   "metadata": {},
   "source": [
    "In this notebook I will show how the `count` decorator works"
   ]
  },
  {
   "cell_type": "code",
   "execution_count": 1,
   "id": "f112710f",
   "metadata": {},
   "outputs": [],
   "source": [
    "%load_ext autoreload\n",
    "%autoreload 2\n",
    "%matplotlib inline\n",
    "\n",
    "#import warnings\n",
    "#warnings.filterwarnings('ignore')\n",
    "\n",
    "import numpy as np\n",
    "import matplotlib.pyplot as plt\n",
    "import scipy as sp\n",
    "\n",
    "import pylops"
   ]
  },
  {
   "cell_type": "code",
   "execution_count": 2,
   "id": "0556ac5a",
   "metadata": {},
   "outputs": [
    {
     "name": "stdout",
     "output_type": "stream",
     "text": [
      "Forward evaluations: 2\n",
      "Adjoint evaluations: 1\n",
      "Forward evaluations: 2\n",
      "Adjoint evaluations: 3\n",
      "Forward evaluations: 0\n",
      "Adjoint evaluations: 0\n",
      "Forward evaluations: 0\n",
      "Adjoint evaluations: 0\n"
     ]
    }
   ],
   "source": [
    "d = np.ones(10)\n",
    "Dop = pylops.Diagonal(d)\n",
    "\n",
    "x =np.ones(10)\n",
    "X =np.ones((10, 2))\n",
    "\n",
    "y = Dop.matvec(x)\n",
    "y = Dop.matvec(x)\n",
    "_ = Dop.rmatvec(y)\n",
    "\n",
    "Y = Dop.matmat(X)\n",
    "_ = Dop.rmatmat(Y)\n",
    "Y = Dop.matmat(X)\n",
    "_ = Dop.rmatmat(Y)\n",
    "_ = Dop.rmatmat(Y)\n",
    "\n",
    "print(f\"Forward evaluations: {Dop.matvec_count}\")\n",
    "print(f\"Adjoint evaluations: {Dop.rmatvec_count}\")\n",
    "print(f\"Forward evaluations: {Dop.matmat_count}\")\n",
    "print(f\"Adjoint evaluations: {Dop.rmatmat_count}\")\n",
    "\n",
    "# Reset\n",
    "Dop.reset_count()\n",
    "print(f\"Forward evaluations: {Dop.matvec_count}\")\n",
    "print(f\"Adjoint evaluations: {Dop.rmatvec_count}\")\n",
    "print(f\"Forward evaluations: {Dop.matmat_count}\")\n",
    "print(f\"Adjoint evaluations: {Dop.rmatmat_count}\")"
   ]
  }
 ],
 "metadata": {
  "kernelspec": {
   "display_name": "Python 3 (ipykernel)",
   "language": "python",
   "name": "python3"
  },
  "language_info": {
   "codemirror_mode": {
    "name": "ipython",
    "version": 3
   },
   "file_extension": ".py",
   "mimetype": "text/x-python",
   "name": "python",
   "nbconvert_exporter": "python",
   "pygments_lexer": "ipython3",
   "version": "3.9.12"
  },
  "toc": {
   "base_numbering": 1,
   "nav_menu": {},
   "number_sections": true,
   "sideBar": true,
   "skip_h1_title": false,
   "title_cell": "Table of Contents",
   "title_sidebar": "Contents",
   "toc_cell": false,
   "toc_position": {},
   "toc_section_display": true,
   "toc_window_display": false
  }
 },
 "nbformat": 4,
 "nbformat_minor": 5
}
