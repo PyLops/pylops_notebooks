{
 "cells": [
  {
   "cell_type": "markdown",
   "id": "fb643aaa",
   "metadata": {},
   "source": [
    "# Pylops - basic linear operators with JAX\n",
    "\n",
    "### Author: M.Ravasi"
   ]
  },
  {
   "cell_type": "markdown",
   "id": "02f8384d",
   "metadata": {},
   "source": [
    "In this notebook I will test some of the basic linear operators implemented in *Pylops* with JAX backend"
   ]
  },
  {
   "cell_type": "code",
   "execution_count": 1,
   "id": "a644e45b",
   "metadata": {
    "scrolled": true
   },
   "outputs": [],
   "source": [
    "%load_ext autoreload\n",
    "%autoreload 2\n",
    "%matplotlib inline\n",
    "\n",
    "import os\n",
    "import numpy as np\n",
    "import matplotlib.pyplot as plt\n",
    "import scipy as sp\n",
    "import pylops\n",
    "import jax.numpy as jnp\n",
    "import jax\n",
    "\n",
    "from pylops.utils import dottest\n",
    "from pylops.utils.wavelets import *\n",
    "from pylops import LinearOperator\n",
    "from pylops import JaxOperator\n",
    "from pylops.basicoperators import *\n",
    "from pylops.signalprocessing import *\n",
    "from pylops.optimization.basic import cgls, lsqr\n",
    "from pylops.optimization.leastsquares import *\n",
    "\n",
    "os.environ[\"JAX_PYLOPS\"] = '1'"
   ]
  },
  {
   "cell_type": "markdown",
   "id": "22f074c9",
   "metadata": {},
   "source": [
    "## Matrix Multiplication"
   ]
  },
  {
   "cell_type": "code",
   "execution_count": 2,
   "id": "0883ba44",
   "metadata": {},
   "outputs": [
    {
     "name": "stderr",
     "output_type": "stream",
     "text": [
      "WARNING: All log messages before absl::InitializeLog() is called are written to STDERR\n",
      "I0000 00:00:1719954028.000026       1 tfrt_cpu_pjrt_client.cc:349] TfrtCpuClient created.\n"
     ]
    },
    {
     "name": "stdout",
     "output_type": "stream",
     "text": [
      "y= <class 'jaxlib.xla_extension.ArrayImpl'>\n",
      "Dot test passed, v^H(Opu)=-0.31497400999069214 - u^H(Op^Hv)=-0.3149734139442444\n",
      "7.51 µs ± 2.45 µs per loop (mean ± std. dev. of 2 runs, 10 loops each)\n",
      "36.8 µs ± 1.18 µs per loop (mean ± std. dev. of 2 runs, 10 loops each)\n"
     ]
    }
   ],
   "source": [
    "ny, nx = 4, 4\n",
    "\n",
    "G = np.random.normal(0, 1, (ny,nx)).astype('float32')\n",
    "Gop = MatrixMult(G, dtype='float32')\n",
    "x = np.ones(nx, dtype='float32')\n",
    "y = Gop @ x\n",
    "\n",
    "Gopjax = JaxOperator(MatrixMult(jnp.array(G), dtype='float32'))\n",
    "xjnp = jnp.ones(nx, dtype='float32')\n",
    "yjnp = (Gopjax @ xjnp).block_until_ready()\n",
    "print('y=', type(yjnp))\n",
    "\n",
    "dottest(Gopjax, ny, nx, backend='jax', verb=True, atol=1e-3)\n",
    "\n",
    "%timeit -n 10 -r 2 Gop @ x\n",
    "%timeit -n 10 -r 2 (Gopjax @ xjnp).block_until_ready()"
   ]
  },
  {
   "cell_type": "code",
   "execution_count": 3,
   "id": "73494edf",
   "metadata": {},
   "outputs": [
    {
     "name": "stdout",
     "output_type": "stream",
     "text": [
      "CGLS\n",
      "-----------------------------------------------------------------\n",
      "The Operator Op has 4 rows and 4 cols\n",
      "damp = 0.000000e+00\ttol = 1.000000e-10\tniter = 100\n",
      "-----------------------------------------------------------------\n",
      "\n",
      "    Itn          x[0]              r1norm         r2norm\n",
      "     1       -7.0939e-02         7.3634e-01     7.3634e-01\n",
      "     2       -1.8172e-03         1.9142e-01     1.9142e-01\n",
      "     3        7.4907e-01         1.9685e-02     1.9685e-02\n",
      "     4        1.0000e+00         7.0531e-11     7.0531e-11\n",
      "\n",
      "Iterations = 4        Total time (s) = 0.00\n",
      "-----------------------------------------------------------------\n",
      "\n",
      "CGLS\n",
      "-----------------------------------------------------------------\n",
      "The Operator Op has 4 rows and 4 cols\n",
      "damp = 0.000000e+00\ttol = 1.000000e-10\tniter = 100\n",
      "-----------------------------------------------------------------\n",
      "\n",
      "    Itn          x[0]              r1norm         r2norm\n",
      "     1       -7.0939e-02         7.3634e-01     7.3634e-01\n",
      "     2       -1.8172e-03         1.9142e-01     1.9142e-01\n",
      "     3        7.4907e-01         1.9685e-02     1.9685e-02\n",
      "     4        7.5399e-01         1.9498e-02     1.9498e-02\n",
      "     5        9.1382e-01         1.1567e-02     1.1567e-02\n",
      "     6        1.0000e+00         2.8234e-07     2.8234e-07\n",
      "\n",
      "Iterations = 6        Total time (s) = 0.31\n",
      "-----------------------------------------------------------------\n",
      "\n"
     ]
    },
    {
     "data": {
      "text/plain": [
       "(array([1.0000004 , 1.00000088, 0.99999894, 1.00000039]),\n",
       " Array([0.9999997, 1.0000011, 0.9999986, 1.0000007], dtype=float32))"
      ]
     },
     "execution_count": 3,
     "metadata": {},
     "output_type": "execute_result"
    }
   ],
   "source": [
    "# Inversion with cgls\n",
    "xcgls = cgls(Gop, y, x0=np.zeros(nx), \n",
    "             niter=100, tol=1e-10, show=True)[0]\n",
    "\n",
    "xcglsjnp = cgls(Gopjax, yjnp, x0=jnp.zeros(nx), \n",
    "                niter=100, tol=1e-10, show=True)[0]\n",
    "\n",
    "xcgls, xcglsjnp"
   ]
  },
  {
   "cell_type": "code",
   "execution_count": 4,
   "id": "39376b92",
   "metadata": {},
   "outputs": [
    {
     "name": "stdout",
     "output_type": "stream",
     "text": [
      "LSQR\n",
      "------------------------------------------------------------------------------------------\n",
      "The Operator Op has 4 rows and 4 cols\n",
      "damp = 0.00000000000000e+00     calc_var =      1\n",
      "atol = 1.00e-10                 conlim = 1.00e+08\n",
      "btol = 1.00e-08                 niter =      100\n",
      "------------------------------------------------------------------------------------------\n",
      "   Itn     x[0]      r1norm     r2norm   Compatible   LS     Norm A   Cond A\n",
      "     0  0.0000e+00  4.456e+00  4.456e+00   1.0e+00  5.9e-01\n",
      "     1 -7.0939e-02  7.363e-01  7.363e-01   1.7e-01  1.5e-01  2.7e+00  1.0e+00\n",
      "     2 -1.8172e-03  1.914e-01  1.914e-01   4.3e-02  3.6e-03  3.7e+00  2.0e+00\n",
      "     3  7.4907e-01  1.968e-02  1.968e-02   4.4e-03  5.7e-05  3.7e+00  1.7e+01\n",
      "     4  1.0000e+00  1.714e-10  1.714e-10   3.8e-11  4.0e-11  3.7e+00  1.1e+02\n",
      " \n",
      "LSQR finished, Op x - b is small enough, given atol, btol                 \n",
      " \n",
      "istop =       1   r1norm = 1.7e-10   anorm = 3.7e+00   arnorm = 4.8e-10\n",
      "itn   =       4   r2norm = 1.7e-10   acond = 1.1e+02   xnorm  = 2.0e+00\n",
      "Total time (s) = 0.00\n",
      "------------------------------------------------------------------------------------------\n",
      "\n",
      "LSQR\n",
      "------------------------------------------------------------------------------------------\n",
      "The Operator Op has 4 rows and 4 cols\n",
      "damp = 0.00000000000000e+00     calc_var =      1\n",
      "atol = 1.00e-10                 conlim = 1.00e+08\n",
      "btol = 1.00e-08                 niter =      100\n",
      "------------------------------------------------------------------------------------------\n",
      "   Itn     x[0]      r1norm     r2norm   Compatible   LS     Norm A   Cond A\n",
      "     0  0.0000e+00  4.456e+00  4.456e+00   1.0e+00  5.9e-01\n",
      "     1 -7.0939e-02  7.363e-01  7.363e-01   1.7e-01  1.5e-01  2.7e+00  1.0e+00\n",
      "     2 -1.8172e-03  1.914e-01  1.914e-01   4.3e-02  3.6e-03  3.7e+00  2.0e+00\n",
      "     3  7.4907e-01  1.968e-02  1.968e-02   4.4e-03  5.7e-05  3.7e+00  1.7e+01\n",
      "     4  7.5723e-01  1.935e-02  1.935e-02   4.3e-03  8.4e-04  3.7e+00  2.6e+01\n",
      "     5  9.9053e-01  3.777e-03  3.777e-03   8.5e-04  7.4e-04  4.6e+00  1.3e+02\n",
      "     6  1.0000e+00  6.817e-07  6.817e-07   1.5e-07  1.3e-08  5.2e+00  1.5e+02\n",
      " \n",
      "LSQR finished, Op x - b is small enough for this machine                  \n",
      " \n",
      "istop =       4   r1norm = 6.8e-07   anorm = 5.2e+00   arnorm = 1.5e-07\n",
      "itn   =       6   r2norm = 6.8e-07   acond = 1.5e+02   xnorm  = 2.0e+00\n",
      "Total time (s) = 0.23\n",
      "------------------------------------------------------------------------------------------\n",
      "\n"
     ]
    },
    {
     "data": {
      "text/plain": [
       "(array([1.0000004 , 1.00000088, 0.99999894, 1.00000039]),\n",
       " Array([1.0000026 , 0.99999934, 1.0000015 , 0.9999989 ], dtype=float32))"
      ]
     },
     "execution_count": 4,
     "metadata": {},
     "output_type": "execute_result"
    }
   ],
   "source": [
    "# Inversion with lsqr\n",
    "xcgls = lsqr(Gop, y, x0=np.zeros(nx), \n",
    "             niter=100, atol=1e-10, show=True)[0]\n",
    "\n",
    "xcglsjnp = lsqr(Gopjax, yjnp, x0=jnp.zeros(nx), \n",
    "                niter=100, atol=1e-10, show=True)[0]\n",
    "\n",
    "xcgls, xcglsjnp"
   ]
  },
  {
   "cell_type": "code",
   "execution_count": 5,
   "id": "a3158bc9",
   "metadata": {},
   "outputs": [
    {
     "data": {
      "text/plain": [
       "Array([0., 0., 0., 0.], dtype=float32)"
      ]
     },
     "execution_count": 5,
     "metadata": {},
     "output_type": "execute_result"
    }
   ],
   "source": [
    "# Using AD to implement rmatvec\n",
    "xxjnp = Gopjax.H @ yjnp\n",
    "xxjnpad = Gopjax.rmatvecad(xjnp, yjnp)\n",
    "\n",
    "xxjnp - xxjnpad"
   ]
  },
  {
   "cell_type": "code",
   "execution_count": 6,
   "id": "8dcef6f5",
   "metadata": {},
   "outputs": [
    {
     "data": {
      "text/plain": [
       "(Array([ 0.29720128, -4.3841143 ,  0.408643  ,  0.61299235], dtype=float32),\n",
       " Array([ 0.29720122, -4.3841143 ,  0.40864307,  0.61299235], dtype=float32))"
      ]
     },
     "execution_count": 6,
     "metadata": {},
     "output_type": "execute_result"
    }
   ],
   "source": [
    "## Automatic vectorization\n",
    "auto_batch_matvec = jax.vmap(Gopjax._matvec)\n",
    "\n",
    "xs = jnp.stack([xjnp, xjnp])\n",
    "ys = auto_batch_matvec(xs)\n",
    "\n",
    "ys[0], yjnp"
   ]
  },
  {
   "cell_type": "code",
   "execution_count": 7,
   "id": "d6d36852",
   "metadata": {},
   "outputs": [
    {
     "data": {
      "text/plain": [
       "Array([-0.24497196,  0.52037215, -0.6736099 , -2.667068  ], dtype=float32)"
      ]
     },
     "execution_count": 7,
     "metadata": {},
     "output_type": "execute_result"
    }
   ],
   "source": [
    "## Automatic differentiation\n",
    "def fun(x):\n",
    "    #y = Gopjax @ x\n",
    "    y = Gopjax(x)\n",
    "    loss = jnp.sum(y) \n",
    "    return loss\n",
    "\n",
    "jax.grad(fun)(xjnp)"
   ]
  },
  {
   "cell_type": "code",
   "execution_count": 8,
   "id": "4baaf723",
   "metadata": {},
   "outputs": [
    {
     "name": "stdout",
     "output_type": "stream",
     "text": [
      "33.8 µs ± 1.6 µs per loop (mean ± std. dev. of 2 runs, 50 loops each)\n",
      "8.15 µs ± 2.01 µs per loop (mean ± std. dev. of 2 runs, 50 loops each)\n",
      "56 µs ± 2.08 µs per loop (mean ± std. dev. of 2 runs, 50 loops each)\n",
      "6.14 µs ± 131 ns per loop (mean ± std. dev. of 2 runs, 50 loops each)\n"
     ]
    }
   ],
   "source": [
    "# JIT of _matvec and _rmatvec\n",
    "Gopjax_matvec = jax.jit(Gopjax._matvec)\n",
    "_ = Gopjax_matvec(xjnp).block_until_ready()\n",
    "Gopjax_rmatvec = jax.jit(Gopjax._rmatvec)\n",
    "_ = Gopjax_rmatvec(xjnp).block_until_ready()\n",
    "\n",
    "%timeit -n 50 -r 2 (Gopjax @ xjnp).block_until_ready()\n",
    "%timeit -n 50 -r 2 Gopjax_matvec(xjnp).block_until_ready()\n",
    "\n",
    "%timeit -n 50 -r 2 (Gopjax.H @ yjnp).block_until_ready()\n",
    "%timeit -n 50 -r 2 Gopjax_rmatvec(yjnp).block_until_ready()"
   ]
  },
  {
   "cell_type": "markdown",
   "id": "a601f7a4",
   "metadata": {},
   "source": [
    "## Identity"
   ]
  },
  {
   "cell_type": "code",
   "execution_count": 9,
   "id": "f30c097b",
   "metadata": {},
   "outputs": [
    {
     "name": "stdout",
     "output_type": "stream",
     "text": [
      "Dot test passed, v^H(Opu)=1.1268846988677979 - u^H(Op^Hv)=1.1268846988677979\n",
      "x  =  [0. 1. 2. 3. 4.]\n",
      "y  =  [0. 1. 2. 3. 4.] <class 'jaxlib.xla_extension.ArrayImpl'>\n",
      "y1  =  [0. 1. 2. 3. 4.] <class 'jaxlib.xla_extension.ArrayImpl'>\n",
      "6.01 µs ± 1.34 µs per loop (mean ± std. dev. of 2 runs, 10 loops each)\n",
      "45.9 µs ± 13.8 µs per loop (mean ± std. dev. of 2 runs, 10 loops each)\n"
     ]
    }
   ],
   "source": [
    "ny, nx = 5, 5 \n",
    "\n",
    "Iop = Identity(ny, nx, dtype='float32')\n",
    "x = np.arange(nx, dtype='float32')\n",
    "y = Iop @ x\n",
    "\n",
    "Iopjax = JaxOperator(Identity(ny, nx, dtype='float32'))\n",
    "xjnp = jnp.arange(nx, dtype='float32')\n",
    "yjnp = (Iopjax @ xjnp).block_until_ready()\n",
    "y1jnp = (Iopjax.H @ yjnp).block_until_ready()\n",
    "\n",
    "dottest(Iopjax, ny, nx, backend='jax', verb=True, atol=1e-3)\n",
    "\n",
    "print('x  = ', x)\n",
    "print('y  = ', yjnp, type(yjnp))\n",
    "print('y1  = ', y1jnp, type(y1jnp))\n",
    "\n",
    "%timeit -n 10 -r 2 Iop @ x\n",
    "%timeit -n 10 -r 2 (Iopjax @ xjnp).block_until_ready()"
   ]
  },
  {
   "cell_type": "code",
   "execution_count": 10,
   "id": "7282e965",
   "metadata": {},
   "outputs": [
    {
     "name": "stdout",
     "output_type": "stream",
     "text": [
      "Dot test passed, v^H(Opu)=0.03560042381286621 - u^H(Op^Hv)=0.03560042381286621\n",
      "x  =  [0. 1. 2. 3. 4. 5. 6.]\n",
      "y  =  [0. 1. 2. 3. 4.] <class 'jaxlib.xla_extension.ArrayImpl'>\n",
      "6.05 µs ± 1.26 µs per loop (mean ± std. dev. of 2 runs, 10 loops each)\n",
      "46.2 µs ± 13.8 µs per loop (mean ± std. dev. of 2 runs, 10 loops each)\n"
     ]
    }
   ],
   "source": [
    "ny, nx = 5, 7\n",
    "\n",
    "Iop = Identity(ny, nx, dtype='float32')\n",
    "x = np.arange(nx, dtype='float32')\n",
    "y = Iop @ x\n",
    "\n",
    "Iopjax = JaxOperator(Identity(ny, nx, dtype='float32'))\n",
    "xjnp = jnp.arange(nx, dtype='float32')\n",
    "yjnp = (Iopjax @ xjnp).block_until_ready()\n",
    "\n",
    "dottest(Iopjax, ny, nx, backend='jax', verb=True, atol=1e-3)\n",
    "\n",
    "print('x  = ', x)\n",
    "print('y  = ', yjnp, type(yjnp))\n",
    "\n",
    "%timeit -n 10 -r 2 Iop @ x\n",
    "%timeit -n 10 -r 2 (Iopjax @ xjnp).block_until_ready()"
   ]
  },
  {
   "cell_type": "code",
   "execution_count": 11,
   "id": "0bacae09",
   "metadata": {},
   "outputs": [
    {
     "name": "stdout",
     "output_type": "stream",
     "text": [
      "Dot test passed, v^H(Opu)=-2.5060155391693115 - u^H(Op^Hv)=-2.5060155391693115\n",
      "x  =  [0. 1. 2. 3. 4.]\n",
      "y  =  [0. 1. 2. 3. 4. 0. 0.] <class 'jaxlib.xla_extension.ArrayImpl'>\n",
      "8.12 µs ± 1.43 µs per loop (mean ± std. dev. of 2 runs, 10 loops each)\n",
      "45.5 µs ± 13 µs per loop (mean ± std. dev. of 2 runs, 10 loops each)\n"
     ]
    }
   ],
   "source": [
    "ny, nx = 7, 5\n",
    "\n",
    "Iop = Identity(ny, nx, dtype='float32')\n",
    "x = np.arange(nx, dtype='float32')\n",
    "y = Iop @ x\n",
    "\n",
    "Iopjax = JaxOperator(Identity(ny, nx, dtype='float32'))\n",
    "xjnp = jnp.arange(nx, dtype='float32')\n",
    "yjnp = (Iopjax @ xjnp).block_until_ready()\n",
    "\n",
    "dottest(Iopjax, ny, nx, backend='jax', verb=True, atol=1e-3)\n",
    "\n",
    "print('x  = ', x)\n",
    "print('y  = ', yjnp, type(yjnp))\n",
    "\n",
    "%timeit -n 10 -r 2 Iop @ x\n",
    "%timeit -n 10 -r 2 (Iopjax @ xjnp).block_until_ready()"
   ]
  },
  {
   "cell_type": "markdown",
   "id": "865a4746",
   "metadata": {},
   "source": [
    "## Diagonal"
   ]
  },
  {
   "cell_type": "code",
   "execution_count": 12,
   "id": "58eae839",
   "metadata": {},
   "outputs": [
    {
     "name": "stdout",
     "output_type": "stream",
     "text": [
      "Dot test passed, v^H(Opu)=1.083421230316162 - u^H(Op^Hv)=1.083421230316162\n",
      "y= [1. 1. 1. 1. 1. 1. 1. 1. 1. 1.] <class 'jaxlib.xla_extension.ArrayImpl'>\n",
      "6.65 µs ± 1.53 µs per loop (mean ± std. dev. of 2 runs, 10 loops each)\n",
      "64.8 µs ± 30.6 µs per loop (mean ± std. dev. of 2 runs, 10 loops each)\n"
     ]
    }
   ],
   "source": [
    "nx = 10\n",
    "\n",
    "d = np.ones(nx, dtype='float32')\n",
    "Dop = Diagonal(d, dtype='float32')\n",
    "x = np.ones(nx, dtype='float32')\n",
    "y = Dop @ x\n",
    "\n",
    "djnp = jnp.ones(nx, dtype='float32')\n",
    "Dopjax = JaxOperator(Diagonal(djnp, dtype='float32'))\n",
    "xjnp = jnp.ones(nx)\n",
    "yjnp = (Dopjax @ xjnp).block_until_ready()\n",
    "\n",
    "dottest(Dopjax, nx, nx, backend='jax', verb=True, atol=1e-3)\n",
    "\n",
    "print('y=', yjnp, type(yjnp))\n",
    "\n",
    "%timeit -n 10 -r 2 Dop @ x\n",
    "%timeit -n 10 -r 2 (Dopjax @ xjnp).block_until_ready()"
   ]
  },
  {
   "cell_type": "code",
   "execution_count": 13,
   "id": "91fd2530",
   "metadata": {},
   "outputs": [
    {
     "name": "stdout",
     "output_type": "stream",
     "text": [
      "Dot test passed, v^H(Opu)=(-3.155590772628784+1.8626459836959839j) - u^H(Op^Hv)=(-3.155590772628784+1.8626459836959839j)\n",
      "y= [1. 1. 1. 1. 1. 1. 1. 1. 1. 1.] <class 'jaxlib.xla_extension.ArrayImpl'>\n",
      "6.52 µs ± 1.41 µs per loop (mean ± std. dev. of 2 runs, 10 loops each)\n",
      "47.2 µs ± 14.3 µs per loop (mean ± std. dev. of 2 runs, 10 loops each)\n"
     ]
    }
   ],
   "source": [
    "# Complex numbers \n",
    "nx = 10\n",
    "\n",
    "d = np.ones(nx, dtype='float32') + 1j*np.ones(nx, dtype='float32')\n",
    "Dop = Diagonal(d, dtype='float32')\n",
    "x = np.ones(nx, dtype='float32')+ 1j*np.ones(nx, dtype='float32')\n",
    "y = Dop @ x\n",
    "\n",
    "djnp = jnp.ones(nx, dtype='float32')\n",
    "Dopjax = JaxOperator(Diagonal(djnp, dtype='float32'))\n",
    "xjnp = jnp.ones(nx)\n",
    "yjnp = (Dopjax @ xjnp).block_until_ready()\n",
    "\n",
    "dottest(Dopjax, nx, nx, complexflag=2, backend='jax', verb=True, atol=1e-3)\n",
    "\n",
    "print('y=', yjnp, type(yjnp))\n",
    "\n",
    "%timeit -n 10 -r 2 Dop @ x\n",
    "%timeit -n 10 -r 2 (Dopjax @ xjnp).block_until_ready()"
   ]
  },
  {
   "cell_type": "markdown",
   "id": "da6f6efe",
   "metadata": {},
   "source": [
    "## Zero"
   ]
  },
  {
   "cell_type": "code",
   "execution_count": 14,
   "id": "f4614050",
   "metadata": {
    "scrolled": true
   },
   "outputs": [
    {
     "name": "stdout",
     "output_type": "stream",
     "text": [
      "Dot test passed, v^H(Opu)=0.0 - u^H(Op^Hv)=0.0\n",
      "y= [0. 0. 0. 0. 0.] <class 'jaxlib.xla_extension.ArrayImpl'>\n",
      "5.71 µs ± 1.07 µs per loop (mean ± std. dev. of 2 runs, 10 loops each)\n",
      "44.6 µs ± 13.3 µs per loop (mean ± std. dev. of 2 runs, 10 loops each)\n"
     ]
    }
   ],
   "source": [
    "ny, nx = 5, 5\n",
    "\n",
    "Zop = Zero(ny, nx, dtype='float32')\n",
    "x = np.ones(nx, dtype='float32')\n",
    "y = Zop @ x\n",
    "\n",
    "Zopjax = JaxOperator(Zero(ny, nx, dtype='float32'))\n",
    "xjnp = jnp.ones(nx)\n",
    "yjnp = (Zopjax @ xjnp).block_until_ready()\n",
    "\n",
    "dottest(Zopjax, ny, nx, backend='jax', verb=True, atol=1e-3)\n",
    "\n",
    "print('y=', yjnp, type(yjnp))\n",
    "\n",
    "%timeit -n 10 -r 2 Zop @ x\n",
    "%timeit -n 10 -r 2 (Zopjax @ xjnp).block_until_ready()"
   ]
  },
  {
   "cell_type": "code",
   "execution_count": 15,
   "id": "618a2172",
   "metadata": {},
   "outputs": [
    {
     "name": "stdout",
     "output_type": "stream",
     "text": [
      "Dot test passed, v^H(Opu)=0.0 - u^H(Op^Hv)=0.0\n",
      "y= [0. 0. 0. 0. 0. 0. 0.] <class 'jaxlib.xla_extension.ArrayImpl'>\n",
      "5.67 µs ± 1.31 µs per loop (mean ± std. dev. of 2 runs, 10 loops each)\n",
      "45.5 µs ± 14.1 µs per loop (mean ± std. dev. of 2 runs, 10 loops each)\n"
     ]
    }
   ],
   "source": [
    "ny, nx = 7, 5\n",
    "\n",
    "Zop = Zero(ny, nx, dtype='float32')\n",
    "x = np.ones(nx, dtype='float32')\n",
    "y = Zop @ x\n",
    "\n",
    "Zopjax = JaxOperator(Zero(ny, nx, dtype='float32'))\n",
    "xjnp = jnp.ones(nx)\n",
    "yjnp = (Zopjax @ xjnp).block_until_ready()\n",
    "\n",
    "dottest(Zopjax, ny, nx, backend='jax', verb=True, atol=1e-3)\n",
    "\n",
    "print('y=', yjnp, type(yjnp))\n",
    "\n",
    "%timeit -n 10 -r 2 Zop @ x\n",
    "%timeit -n 10 -r 2 (Zopjax @ xjnp).block_until_ready()"
   ]
  },
  {
   "cell_type": "code",
   "execution_count": 16,
   "id": "b67a702e",
   "metadata": {},
   "outputs": [
    {
     "name": "stdout",
     "output_type": "stream",
     "text": [
      "Dot test passed, v^H(Opu)=0.0 - u^H(Op^Hv)=0.0\n",
      "y= [0. 0. 0. 0. 0.] <class 'jaxlib.xla_extension.ArrayImpl'>\n",
      "5.5 µs ± 1.16 µs per loop (mean ± std. dev. of 2 runs, 10 loops each)\n",
      "43 µs ± 12.1 µs per loop (mean ± std. dev. of 2 runs, 10 loops each)\n"
     ]
    }
   ],
   "source": [
    "ny, nx = 5, 7\n",
    "\n",
    "Zop = Zero(ny, nx, dtype='float32')\n",
    "x = np.ones(nx, dtype='float32')\n",
    "y = Zop @ x\n",
    "\n",
    "Zopjax = JaxOperator(Zero(ny, nx, dtype='float32'))\n",
    "xjnp = jnp.ones(nx)\n",
    "yjnp = (Zopjax @ xjnp).block_until_ready()\n",
    "\n",
    "dottest(Zopjax, ny, nx, backend='jax', verb=True, atol=1e-3)\n",
    "\n",
    "print('y=', yjnp, type(yjnp))\n",
    "\n",
    "%timeit -n 10 -r 2 Zop @ x\n",
    "%timeit -n 10 -r 2 (Zopjax @ xjnp).block_until_ready()"
   ]
  },
  {
   "cell_type": "markdown",
   "id": "a8dd6dbf",
   "metadata": {},
   "source": [
    "## Sum"
   ]
  },
  {
   "cell_type": "code",
   "execution_count": 17,
   "id": "d6cee50e",
   "metadata": {},
   "outputs": [
    {
     "name": "stdout",
     "output_type": "stream",
     "text": [
      "Dot test passed, v^H(Opu)=-4.44984769821167 - u^H(Op^Hv)=-4.449847221374512\n",
      "y= <class 'jaxlib.xla_extension.ArrayImpl'>\n",
      "9.67 µs ± 2.1 µs per loop (mean ± std. dev. of 2 runs, 10 loops each)\n",
      "57.5 µs ± 21.9 µs per loop (mean ± std. dev. of 2 runs, 10 loops each)\n"
     ]
    }
   ],
   "source": [
    "ny, nx = 5, 7\n",
    "\n",
    "Sop = Sum(dims=(ny, nx), axis=0)\n",
    "x   = (np.arange(ny*nx)).reshape(ny, nx)\n",
    "y = Sop @ x\n",
    "\n",
    "Sopjax = JaxOperator(Sum(dims=(ny, nx), axis=0, dtype='float32'))\n",
    "xjnp = (jnp.arange(ny*nx)).reshape(ny, nx)\n",
    "yjnp = (Sopjax @ xjnp).block_until_ready()\n",
    "\n",
    "dottest(Sopjax, nx, ny*nx, backend='jax', verb=True, atol=1e-3)\n",
    "\n",
    "print('y=', type(yjnp))\n",
    "\n",
    "%timeit -n 10 -r 2 Sop @ x\n",
    "%timeit -n 10 -r 2 (Sopjax @ xjnp).block_until_ready()"
   ]
  },
  {
   "cell_type": "markdown",
   "id": "0f0e02d8",
   "metadata": {},
   "source": [
    "## Transpose"
   ]
  },
  {
   "cell_type": "code",
   "execution_count": 18,
   "id": "5397a78c",
   "metadata": {},
   "outputs": [
    {
     "name": "stdout",
     "output_type": "stream",
     "text": [
      "Dot test passed, v^H(Opu)=6.494052886962891 - u^H(Op^Hv)=6.494050025939941\n",
      "y= <class 'jaxlib.xla_extension.ArrayImpl'>\n",
      "The slowest run took 5.07 times longer than the fastest. This could mean that an intermediate result is being cached.\n",
      "18 µs ± 12 µs per loop (mean ± std. dev. of 2 runs, 10 loops each)\n",
      "71.1 µs ± 9.67 µs per loop (mean ± std. dev. of 2 runs, 10 loops each)\n"
     ]
    }
   ],
   "source": [
    "ny, nx = 20, 40\n",
    "dims = (ny, nx)\n",
    "\n",
    "Top = Transpose(dims=dims, axes=(1,0))\n",
    "x = np.arange(ny*nx).reshape(dims)\n",
    "y = Top @ x\n",
    "\n",
    "Topjax = JaxOperator(Transpose(dims=dims, axes=(1,0), dtype='float32'))\n",
    "xjnp = (jnp.arange(ny*nx)).reshape(dims)\n",
    "yjnp = (Topjax @ xjnp).block_until_ready()\n",
    "\n",
    "dottest(Topjax, ny*nx, ny*nx, backend='jax', verb=True, atol=1e-3)\n",
    "\n",
    "print('y=', type(yjnp))\n",
    "\n",
    "%timeit -n 10 -r 2 Top @ x\n",
    "%timeit -n 10 -r 2 (Topjax @ xjnp).block_until_ready()"
   ]
  },
  {
   "cell_type": "markdown",
   "id": "25a5f8cf",
   "metadata": {},
   "source": [
    "## Flip"
   ]
  },
  {
   "cell_type": "code",
   "execution_count": 19,
   "id": "f560a301",
   "metadata": {
    "scrolled": true
   },
   "outputs": [
    {
     "name": "stdout",
     "output_type": "stream",
     "text": [
      "Dot test passed, v^H(Opu)=-0.17199133336544037 - u^H(Op^Hv)=-0.17199134826660156\n",
      "y= <class 'jaxlib.xla_extension.ArrayImpl'>\n",
      "10.1 µs ± 2.22 µs per loop (mean ± std. dev. of 2 runs, 10 loops each)\n",
      "45.1 µs ± 12.9 µs per loop (mean ± std. dev. of 2 runs, 10 loops each)\n"
     ]
    }
   ],
   "source": [
    "nt = 10\n",
    "\n",
    "Fop = Flip(nt)\n",
    "x = np.arange(nt)\n",
    "y = Fop @ x\n",
    "\n",
    "Fopjax = JaxOperator(Flip(nt, dtype='float32'))\n",
    "xjnp = jnp.arange(nt)\n",
    "yjnp = (Fopjax @ xjnp).block_until_ready()\n",
    "\n",
    "dottest(Fopjax, nt, nt, backend='jax', verb=True, atol=1e-3)\n",
    "\n",
    "print('y=', type(yjnp))\n",
    "\n",
    "%timeit -n 10 -r 2 Fop @ x\n",
    "%timeit -n 10 -r 2 (Fopjax @ xjnp).block_until_ready()"
   ]
  },
  {
   "cell_type": "code",
   "execution_count": 20,
   "id": "7dfdcc1a",
   "metadata": {},
   "outputs": [
    {
     "name": "stdout",
     "output_type": "stream",
     "text": [
      "Dot test passed, v^H(Opu)=4.9428839683532715 - u^H(Op^Hv)=4.942883491516113\n",
      "y= <class 'jaxlib.xla_extension.ArrayImpl'>\n",
      "The slowest run took 4.08 times longer than the fastest. This could mean that an intermediate result is being cached.\n",
      "20.4 µs ± 12.4 µs per loop (mean ± std. dev. of 2 runs, 10 loops each)\n",
      "66.6 µs ± 7.01 µs per loop (mean ± std. dev. of 2 runs, 10 loops each)\n",
      "Dot test passed, v^H(Opu)=-1.4609696865081787 - u^H(Op^Hv)=-1.4609711170196533\n",
      "y= <class 'jaxlib.xla_extension.ArrayImpl'>\n",
      "10 µs ± 1.94 µs per loop (mean ± std. dev. of 2 runs, 10 loops each)\n",
      "65.4 µs ± 5.47 µs per loop (mean ± std. dev. of 2 runs, 10 loops each)\n"
     ]
    }
   ],
   "source": [
    "nt, nx = 10, 5\n",
    "x = np.outer(np.arange(nt), np.ones(nx))\n",
    "\n",
    "for axis in (0, 1):\n",
    "    Fop = Flip(dims=(nt, nx), axis=axis)\n",
    "    y = Fop @ x\n",
    "\n",
    "    Fopjax = JaxOperator(Flip(dims=(nt, nx), axis=axis, dtype='float32'))\n",
    "    xjnp = jnp.outer(jnp.arange(nt), jnp.ones(nx))\n",
    "    yjnp = (Fopjax @ xjnp).block_until_ready()\n",
    "\n",
    "    dottest(Fopjax, nt*nx, nt*nx, backend='jax', verb=True, atol=1e-6)\n",
    "\n",
    "    print('y=', type(yjnp))\n",
    "\n",
    "    %timeit -n 10 -r 2 Fop @ x\n",
    "    %timeit -n 10 -r 2 (Fopjax @ xjnp).block_until_ready()"
   ]
  },
  {
   "cell_type": "code",
   "execution_count": 21,
   "id": "a74f027b",
   "metadata": {},
   "outputs": [
    {
     "name": "stdout",
     "output_type": "stream",
     "text": [
      "Dot test passed, v^H(Opu)=-6.490195274353027 - u^H(Op^Hv)=-6.490195274353027\n",
      "y= <class 'jaxlib.xla_extension.ArrayImpl'>\n",
      "12.1 µs ± 2.57 µs per loop (mean ± std. dev. of 2 runs, 10 loops each)\n",
      "80.1 µs ± 16 µs per loop (mean ± std. dev. of 2 runs, 10 loops each)\n",
      "Dot test passed, v^H(Opu)=-5.266023635864258 - u^H(Op^Hv)=-5.266023635864258\n",
      "y= <class 'jaxlib.xla_extension.ArrayImpl'>\n",
      "10.4 µs ± 2.15 µs per loop (mean ± std. dev. of 2 runs, 10 loops each)\n",
      "68.3 µs ± 4.25 µs per loop (mean ± std. dev. of 2 runs, 10 loops each)\n",
      "Dot test passed, v^H(Opu)=6.5485663414001465 - u^H(Op^Hv)=6.5485663414001465\n",
      "y= <class 'jaxlib.xla_extension.ArrayImpl'>\n",
      "10.5 µs ± 2.39 µs per loop (mean ± std. dev. of 2 runs, 10 loops each)\n",
      "68.6 µs ± 6.21 µs per loop (mean ± std. dev. of 2 runs, 10 loops each)\n"
     ]
    }
   ],
   "source": [
    "nt, nx, ny = 2, 3, 4\n",
    "x = np.outer(np.ones(nt), np.ones(nx))[:, :, np.newaxis] * np.arange(ny)\n",
    "\n",
    "for axis in (0, 1, 2):\n",
    "    Fop = Flip(dims=(nt, nx, ny), axis=axis)\n",
    "    y = Fop @ x\n",
    "\n",
    "    Fopjax = JaxOperator(Flip(dims=(nt, nx, ny), axis=axis, dtype='float32'))\n",
    "    xjnp = jnp.outer(jnp.ones(nt), jnp.ones(nx))[:, :, jnp.newaxis] * jnp.arange(ny)\n",
    "    yjnp = (Fopjax @ xjnp).block_until_ready()\n",
    "\n",
    "    dottest(Fopjax, nt*nx*ny, nt*nx*ny, backend='jax', verb=True, atol=1e-6)\n",
    "\n",
    "    print('y=', type(yjnp))\n",
    "\n",
    "    %timeit -n 10 -r 2 Fop @ x\n",
    "    %timeit -n 10 -r 2 (Fopjax @ xjnp).block_until_ready()"
   ]
  },
  {
   "cell_type": "markdown",
   "id": "517735cc",
   "metadata": {},
   "source": [
    "## Roll"
   ]
  },
  {
   "cell_type": "code",
   "execution_count": 22,
   "id": "6ccb6161",
   "metadata": {},
   "outputs": [
    {
     "name": "stdout",
     "output_type": "stream",
     "text": [
      "Dot test passed, v^H(Opu)=-4.097294330596924 - u^H(Op^Hv)=-4.097293853759766\n",
      "y= <class 'jaxlib.xla_extension.ArrayImpl'>\n",
      "27.2 µs ± 3.17 µs per loop (mean ± std. dev. of 2 runs, 10 loops each)\n",
      "79.5 µs ± 17.9 µs per loop (mean ± std. dev. of 2 runs, 10 loops each)\n",
      "Dot test passed, v^H(Opu)=4.786231994628906 - u^H(Op^Hv)=4.786231994628906\n",
      "y= <class 'jaxlib.xla_extension.ArrayImpl'>\n",
      "20.7 µs ± 2.76 µs per loop (mean ± std. dev. of 2 runs, 10 loops each)\n",
      "97.3 µs ± 32.2 µs per loop (mean ± std. dev. of 2 runs, 10 loops each)\n"
     ]
    }
   ],
   "source": [
    "nt, nx = 10, 5\n",
    "x = np.outer(np.arange(nt), np.ones(nx))\n",
    "\n",
    "\n",
    "for axis in (0, 1):\n",
    "    \n",
    "    Rop = Roll((nt, nx), axis=axis)\n",
    "    y = Rop @ x\n",
    "\n",
    "    Ropjax = JaxOperator(Roll((nt, nx), axis=axis, dtype='float32'))\n",
    "    xjnp = jnp.outer(jnp.arange(nt), jnp.ones(nx))\n",
    "    yjnp = (Ropjax @ xjnp).block_until_ready()\n",
    "\n",
    "    dottest(Ropjax, nt*nx, nt*nx, backend='jax', verb=True, atol=1e-3)\n",
    "\n",
    "    print('y=', type(yjnp))\n",
    "\n",
    "    %timeit -n 10 -r 2 Rop @ x\n",
    "    %timeit -n 10 -r 2 (Ropjax @ xjnp).block_until_ready()"
   ]
  },
  {
   "cell_type": "code",
   "execution_count": 23,
   "id": "80dc1067",
   "metadata": {},
   "outputs": [
    {
     "name": "stdout",
     "output_type": "stream",
     "text": [
      "Dot test passed, v^H(Opu)=-1.3992513418197632 - u^H(Op^Hv)=-1.399251103401184\n",
      "y= <class 'jaxlib.xla_extension.ArrayImpl'>\n",
      "18.2 µs ± 4.16 µs per loop (mean ± std. dev. of 2 runs, 10 loops each)\n",
      "45.7 µs ± 14.3 µs per loop (mean ± std. dev. of 2 runs, 10 loops each)\n"
     ]
    }
   ],
   "source": [
    "nt = 10\n",
    "\n",
    "Rop = Roll(nt, shift=-5)\n",
    "x = np.arange(nt)\n",
    "y = Rop @ x\n",
    "\n",
    "Ropjax = JaxOperator(Roll(nt, shift=-5, dtype='float32'))\n",
    "xjnp = jnp.arange(nt)\n",
    "yjnp = (Ropjax @ xjnp).block_until_ready()\n",
    "\n",
    "dottest(Ropjax, nt, nt, backend='jax', verb=True, atol=1e-6)\n",
    "\n",
    "print('y=', type(yjnp))\n",
    "\n",
    "%timeit -n 10 -r 2 Rop @ x\n",
    "%timeit -n 10 -r 2 (Ropjax @ xjnp).block_until_ready()"
   ]
  },
  {
   "cell_type": "markdown",
   "id": "0a2e954f",
   "metadata": {},
   "source": [
    "## Pad"
   ]
  },
  {
   "cell_type": "code",
   "execution_count": 24,
   "id": "f3badd5f",
   "metadata": {},
   "outputs": [
    {
     "name": "stdout",
     "output_type": "stream",
     "text": [
      "Dot test passed, v^H(Opu)=-3.463016986846924 - u^H(Op^Hv)=-3.463016986846924\n",
      "y= <class 'jaxlib.xla_extension.ArrayImpl'>\n",
      "25.5 µs ± 4.45 µs per loop (mean ± std. dev. of 2 runs, 10 loops each)\n",
      "45 µs ± 13.7 µs per loop (mean ± std. dev. of 2 runs, 10 loops each)\n"
     ]
    }
   ],
   "source": [
    "dims = 10\n",
    "pad = (10, 3)\n",
    "\n",
    "Pop = Pad(dims, pad)\n",
    "x = np.arange(dims)+1.\n",
    "y = Pop @ x\n",
    "\n",
    "Popjax = JaxOperator(Pad(dims, pad, dtype='float32'))\n",
    "xjnp = jnp.arange(dims)+1.\n",
    "yjnp = (Popjax @ xjnp).block_until_ready()\n",
    "\n",
    "dottest(Popjax, dims+pad[0]+pad[1], dims, backend='jax', verb=True, atol=1e-6)\n",
    "\n",
    "print('y=', type(yjnp))\n",
    "\n",
    "%timeit -n 10 -r 2 Pop @ x\n",
    "%timeit -n 10 -r 2 (Popjax @ xjnp).block_until_ready()"
   ]
  },
  {
   "cell_type": "code",
   "execution_count": 25,
   "id": "91ac6914",
   "metadata": {},
   "outputs": [
    {
     "name": "stdout",
     "output_type": "stream",
     "text": [
      "Dot test passed, v^H(Opu)=0.9497206807136536 - u^H(Op^Hv)=0.9497206807136536\n",
      "y= <class 'jaxlib.xla_extension.ArrayImpl'>\n",
      "42.4 µs ± 7.47 µs per loop (mean ± std. dev. of 2 runs, 10 loops each)\n",
      "77.2 µs ± 17 µs per loop (mean ± std. dev. of 2 runs, 10 loops each)\n"
     ]
    }
   ],
   "source": [
    "dims = (5, 4)\n",
    "pad = ((1, 0), (3, 4))\n",
    "\n",
    "Pop = Pad(dims, pad)\n",
    "x = (np.arange(np.prod(np.array(dims)))+1.).reshape(dims)\n",
    "y = Pop @ x\n",
    "\n",
    "Popjax = JaxOperator(Pad(dims, pad, dtype='float32'))\n",
    "xjnp = (jnp.arange(jnp.prod(jnp.array(dims)))+1.).reshape(dims)\n",
    "yjnp = (Popjax @ xjnp).block_until_ready()\n",
    "\n",
    "dottest(Popjax, backend='jax', verb=True, atol=1e-6)\n",
    "\n",
    "print('y=', type(yjnp))\n",
    "\n",
    "%timeit -n 10 -r 2 Pop @ x\n",
    "%timeit -n 10 -r 2 (Popjax @ xjnp).block_until_ready()"
   ]
  },
  {
   "cell_type": "markdown",
   "id": "98209a42",
   "metadata": {},
   "source": [
    "## Symmetrize"
   ]
  },
  {
   "cell_type": "code",
   "execution_count": 26,
   "id": "a26c85a9",
   "metadata": {},
   "outputs": [
    {
     "name": "stdout",
     "output_type": "stream",
     "text": [
      "Dot test passed, v^H(Opu)=1.8043608665466309 - u^H(Op^Hv)=1.8043606281280518\n",
      "y= <class 'jaxlib.xla_extension.ArrayImpl'>\n",
      "The slowest run took 4.30 times longer than the fastest. This could mean that an intermediate result is being cached.\n",
      "20.6 µs ± 12.8 µs per loop (mean ± std. dev. of 2 runs, 10 loops each)\n",
      "41.1 µs ± 5.75 µs per loop (mean ± std. dev. of 2 runs, 10 loops each)\n"
     ]
    }
   ],
   "source": [
    "nt = 10\n",
    "\n",
    "Sop = Symmetrize(nt)\n",
    "x = np.arange(nt)+1\n",
    "y = Sop @ x\n",
    "\n",
    "Sopjax = JaxOperator(Symmetrize(nt, dtype='float32'))\n",
    "xjnp = jnp.arange(nt)+1\n",
    "yjnp = (Sopjax @ xjnp).block_until_ready()\n",
    "\n",
    "dottest(Sopjax, backend='jax', verb=True, atol=1e-6)\n",
    "\n",
    "print('y=', type(yjnp))\n",
    "\n",
    "%timeit -n 10 -r 2 Sop @ x\n",
    "%timeit -n 10 -r 2 (Sopjax @ xjnp).block_until_ready()"
   ]
  },
  {
   "cell_type": "markdown",
   "id": "735cd4be",
   "metadata": {},
   "source": [
    "## Restriction"
   ]
  },
  {
   "cell_type": "code",
   "execution_count": 27,
   "id": "7a1d8cf3",
   "metadata": {},
   "outputs": [
    {
     "name": "stdout",
     "output_type": "stream",
     "text": [
      "Dot test passed, v^H(Opu)=-8.079109191894531 - u^H(Op^Hv)=-8.079109191894531\n",
      "y= <class 'jaxlib.xla_extension.ArrayImpl'>\n",
      "11 µs ± 3.11 µs per loop (mean ± std. dev. of 2 runs, 10 loops each)\n",
      "76.4 µs ± 20.3 µs per loop (mean ± std. dev. of 2 runs, 10 loops each)\n",
      "Dot test passed, v^H(Opu)=6.646598815917969 - u^H(Op^Hv)=6.646598815917969\n",
      "y= <class 'jaxlib.xla_extension.ArrayImpl'>\n",
      "9.78 µs ± 1.84 µs per loop (mean ± std. dev. of 2 runs, 10 loops each)\n",
      "34.2 µs ± 2.21 µs per loop (mean ± std. dev. of 2 runs, 10 loops each)\n"
     ]
    }
   ],
   "source": [
    "N=200\n",
    "\n",
    "perc_subsampling=0.4\n",
    "Nsub = int(np.round(N*perc_subsampling))\n",
    "iava = np.sort(np.random.permutation(np.arange(N))[:Nsub])\n",
    "\n",
    "for inplace in (True, False):\n",
    "    Rop = Restriction(N, iava, inplace=inplace, dtype='float64')\n",
    "    x = np.zeros(N)\n",
    "    y = Rop @ x\n",
    "\n",
    "    Ropjax = JaxOperator(Restriction(N, iava, inplace=inplace, dtype='float32'))\n",
    "    xjnp = jnp.zeros(N)\n",
    "    yjnp = (Ropjax @ xjnp).block_until_ready()\n",
    "\n",
    "    dottest(Ropjax, backend='jax', verb=True, atol=1e-6)\n",
    "\n",
    "    print('y=', type(yjnp))\n",
    "\n",
    "    %timeit -n 10 -r 2 Rop @ x\n",
    "    %timeit -n 10 -r 2 (Ropjax @ xjnp).block_until_ready()"
   ]
  },
  {
   "cell_type": "markdown",
   "id": "d2aa97f6",
   "metadata": {},
   "source": [
    "## Regression"
   ]
  },
  {
   "cell_type": "code",
   "execution_count": 28,
   "id": "d9e10fc7",
   "metadata": {},
   "outputs": [
    {
     "name": "stdout",
     "output_type": "stream",
     "text": [
      "Dot test passed, v^H(Opu)=-25.029476165771484 - u^H(Op^Hv)=-25.02947235107422\n",
      "y= <class 'jaxlib.xla_extension.ArrayImpl'>\n",
      "238 µs ± 37.1 µs per loop (mean ± std. dev. of 2 runs, 10 loops each)\n",
      "34.5 µs ± 2.91 µs per loop (mean ± std. dev. of 2 runs, 10 loops each)\n"
     ]
    },
    {
     "name": "stderr",
     "output_type": "stream",
     "text": [
      "/Users/ravasim/Desktop/KAUST/OpenSource/pylops/pylops/utils/dottest.py:96: UserWarning: Explicitly requested dtype float64 requested in astype is not available, and will be truncated to dtype float32. To enable more dtypes, set the jax_enable_x64 configuration option or the JAX_ENABLE_X64 shell environment variable. See https://github.com/google/jax#current-gotchas for more.\n",
      "  u = randn(nc, backend).astype(rdtype)\n",
      "/Users/ravasim/Desktop/KAUST/OpenSource/pylops/pylops/utils/dottest.py:100: UserWarning: Explicitly requested dtype float64 requested in astype is not available, and will be truncated to dtype float32. To enable more dtypes, set the jax_enable_x64 configuration option or the JAX_ENABLE_X64 shell environment variable. See https://github.com/google/jax#current-gotchas for more.\n",
      "  v = randn(nr, backend).astype(rdtype)\n"
     ]
    }
   ],
   "source": [
    "# parameters\n",
    "N = 30\n",
    "t = np.arange(N, dtype='float64')\n",
    "\n",
    "LRop = LinearRegression(jnp.array(t), dtype=None)\n",
    "x = np.array([1., 2.])\n",
    "y = LRop @ x\n",
    "\n",
    "LRopjax = JaxOperator(LinearRegression(t, dtype=None))\n",
    "xjnp = jnp.array(x)\n",
    "yjnp = (LRopjax @ xjnp).block_until_ready()\n",
    "\n",
    "dottest(LRopjax, N, 2, backend='jax', verb=True, atol=1e-3)\n",
    "\n",
    "print('y=', type(yjnp))\n",
    "\n",
    "%timeit -n 10 -r 2 LRop @ x\n",
    "%timeit -n 10 -r 2 (LRopjax @ xjnp).block_until_ready()"
   ]
  },
  {
   "cell_type": "code",
   "execution_count": 29,
   "id": "7fac8dc1",
   "metadata": {},
   "outputs": [
    {
     "name": "stdout",
     "output_type": "stream",
     "text": [
      "cgls solution xlsqr= [0.99999994 2.        ]\n"
     ]
    }
   ],
   "source": [
    "# CGLS solver\n",
    "xcglsjnp = cgls(LRopjax, yjnp, jnp.zeros(2), damp=1e-10, niter=10 ,show=0)[0]\n",
    "\n",
    "print('cgls solution xlsqr=', xcglsjnp)"
   ]
  },
  {
   "cell_type": "markdown",
   "id": "e102c6a0",
   "metadata": {},
   "source": [
    "## First Derivative"
   ]
  },
  {
   "cell_type": "code",
   "execution_count": 30,
   "id": "3c1bc59e",
   "metadata": {},
   "outputs": [
    {
     "name": "stdout",
     "output_type": "stream",
     "text": [
      "forward False 3\n",
      "Dot test passed, v^H(Opu)=4.77616548538208 - u^H(Op^Hv)=4.7761664390563965\n",
      "y= <class 'jaxlib.xla_extension.ArrayImpl'>\n",
      "11.4 µs ± 1.92 µs per loop (mean ± std. dev. of 2 runs, 10 loops each)\n",
      "34.1 µs ± 2.95 µs per loop (mean ± std. dev. of 2 runs, 10 loops each)\n",
      "forward False 5\n",
      "Dot test passed, v^H(Opu)=2.7915396690368652 - u^H(Op^Hv)=2.7915399074554443\n",
      "y= <class 'jaxlib.xla_extension.ArrayImpl'>\n",
      "10.8 µs ± 2.14 µs per loop (mean ± std. dev. of 2 runs, 10 loops each)\n",
      "33.2 µs ± 2.15 µs per loop (mean ± std. dev. of 2 runs, 10 loops each)\n",
      "forward True 3\n",
      "Dot test passed, v^H(Opu)=0.9124404191970825 - u^H(Op^Hv)=0.9124410152435303\n",
      "y= <class 'jaxlib.xla_extension.ArrayImpl'>\n",
      "The slowest run took 4.22 times longer than the fastest. This could mean that an intermediate result is being cached.\n",
      "24.3 µs ± 15 µs per loop (mean ± std. dev. of 2 runs, 10 loops each)\n",
      "36.2 µs ± 4.3 µs per loop (mean ± std. dev. of 2 runs, 10 loops each)\n",
      "forward True 5\n",
      "Dot test passed, v^H(Opu)=6.944152355194092 - u^H(Op^Hv)=6.944151878356934\n",
      "y= <class 'jaxlib.xla_extension.ArrayImpl'>\n",
      "21.7 µs ± 7.04 µs per loop (mean ± std. dev. of 2 runs, 10 loops each)\n",
      "33.9 µs ± 2.53 µs per loop (mean ± std. dev. of 2 runs, 10 loops each)\n",
      "centered False 3\n",
      "Dot test passed, v^H(Opu)=-1.9337127208709717 - u^H(Op^Hv)=-1.9337128400802612\n",
      "y= <class 'jaxlib.xla_extension.ArrayImpl'>\n",
      "13.9 µs ± 2.13 µs per loop (mean ± std. dev. of 2 runs, 10 loops each)\n",
      "34.6 µs ± 3.42 µs per loop (mean ± std. dev. of 2 runs, 10 loops each)\n",
      "centered False 5\n",
      "Dot test passed, v^H(Opu)=-1.835681438446045 - u^H(Op^Hv)=-1.8356815576553345\n",
      "y= <class 'jaxlib.xla_extension.ArrayImpl'>\n",
      "21.7 µs ± 2.85 µs per loop (mean ± std. dev. of 2 runs, 10 loops each)\n",
      "33.4 µs ± 2.13 µs per loop (mean ± std. dev. of 2 runs, 10 loops each)\n",
      "centered True 3\n",
      "Dot test passed, v^H(Opu)=-0.2389783263206482 - u^H(Op^Hv)=-0.23897835612297058\n",
      "y= <class 'jaxlib.xla_extension.ArrayImpl'>\n",
      "24 µs ± 7.82 µs per loop (mean ± std. dev. of 2 runs, 10 loops each)\n",
      "49.2 µs ± 15.2 µs per loop (mean ± std. dev. of 2 runs, 10 loops each)\n",
      "centered True 5\n",
      "Dot test passed, v^H(Opu)=0.16032308340072632 - u^H(Op^Hv)=0.16032308340072632\n",
      "y= <class 'jaxlib.xla_extension.ArrayImpl'>\n",
      "39.5 µs ± 5.26 µs per loop (mean ± std. dev. of 2 runs, 10 loops each)\n",
      "33.5 µs ± 2.56 µs per loop (mean ± std. dev. of 2 runs, 10 loops each)\n",
      "backward False 3\n",
      "Dot test passed, v^H(Opu)=-3.9579670429229736 - u^H(Op^Hv)=-3.957967519760132\n",
      "y= <class 'jaxlib.xla_extension.ArrayImpl'>\n",
      "10.8 µs ± 1.97 µs per loop (mean ± std. dev. of 2 runs, 10 loops each)\n",
      "34.5 µs ± 2.98 µs per loop (mean ± std. dev. of 2 runs, 10 loops each)\n",
      "backward False 5\n",
      "Dot test passed, v^H(Opu)=4.49470329284668 - u^H(Op^Hv)=4.49470329284668\n",
      "y= <class 'jaxlib.xla_extension.ArrayImpl'>\n",
      "10.6 µs ± 2 µs per loop (mean ± std. dev. of 2 runs, 10 loops each)\n",
      "32.9 µs ± 2.05 µs per loop (mean ± std. dev. of 2 runs, 10 loops each)\n",
      "backward True 3\n",
      "Dot test passed, v^H(Opu)=-1.293641448020935 - u^H(Op^Hv)=-1.2936416864395142\n",
      "y= <class 'jaxlib.xla_extension.ArrayImpl'>\n",
      "14.2 µs ± 1.4 µs per loop (mean ± std. dev. of 2 runs, 10 loops each)\n",
      "47.3 µs ± 13.9 µs per loop (mean ± std. dev. of 2 runs, 10 loops each)\n",
      "backward True 5\n",
      "Dot test passed, v^H(Opu)=-4.8546366691589355 - u^H(Op^Hv)=-4.854637145996094\n",
      "y= <class 'jaxlib.xla_extension.ArrayImpl'>\n",
      "10.8 µs ± 2.16 µs per loop (mean ± std. dev. of 2 runs, 10 loops each)\n",
      "32.9 µs ± 1.99 µs per loop (mean ± std. dev. of 2 runs, 10 loops each)\n"
     ]
    }
   ],
   "source": [
    "nx = 11\n",
    "   \n",
    "for kind in ('forward', 'centered', 'backward'):\n",
    "    for edge in (False, True):\n",
    "        for order in (3, 5):\n",
    "            print(kind, edge, order)\n",
    "            D1op = FirstDerivative(nx, edge=edge, kind=kind, \n",
    "                                   order=order if kind == 'centered' else 3, \n",
    "                                   dtype='float32')\n",
    "            x = np.ones(nx)\n",
    "            y = D1op @ x\n",
    "\n",
    "            D1opjax = JaxOperator(FirstDerivative(nx, edge=edge, kind=kind, \n",
    "                                                  order=order if kind == 'centered' else 3, \n",
    "                                                  dtype='float32'))\n",
    "            xjnp = jnp.array(x)\n",
    "            yjnp = (D1opjax @ xjnp).block_until_ready()\n",
    "\n",
    "            dottest(D1opjax, nx, nx, backend='jax', verb=True, atol=1e-3)\n",
    "            print('y=', type(yjnp))\n",
    "\n",
    "            %timeit -n 10 -r 2 D1op @ x\n",
    "            %timeit -n 10 -r 2 (D1opjax @ xjnp).block_until_ready()"
   ]
  },
  {
   "cell_type": "code",
   "execution_count": 31,
   "id": "188d532e",
   "metadata": {},
   "outputs": [
    {
     "name": "stdout",
     "output_type": "stream",
     "text": [
      "forward False 5\n",
      "Dot test passed, v^H(Opu)=15.370150566101074 - u^H(Op^Hv)=15.370157241821289\n",
      "y= <class 'jaxlib.xla_extension.ArrayImpl'>\n",
      "67.1 µs ± 22.4 µs per loop (mean ± std. dev. of 2 runs, 10 loops each)\n",
      "45 µs ± 20.1 µs per loop (mean ± std. dev. of 2 runs, 10 loops each)\n",
      "forward True 5\n",
      "Dot test passed, v^H(Opu)=31.837804794311523 - u^H(Op^Hv)=31.837799072265625\n",
      "y= <class 'jaxlib.xla_extension.ArrayImpl'>\n",
      "77.1 µs ± 7.94 µs per loop (mean ± std. dev. of 2 runs, 10 loops each)\n",
      "32 µs ± 9.37 µs per loop (mean ± std. dev. of 2 runs, 10 loops each)\n",
      "centered False 5\n",
      "Dot test passed, v^H(Opu)=-0.30357295274734497 - u^H(Op^Hv)=-0.3035726249217987\n",
      "y= <class 'jaxlib.xla_extension.ArrayImpl'>\n",
      "65.4 µs ± 12.9 µs per loop (mean ± std. dev. of 2 runs, 10 loops each)\n",
      "36.6 µs ± 13.9 µs per loop (mean ± std. dev. of 2 runs, 10 loops each)\n",
      "centered True 5\n",
      "Dot test passed, v^H(Opu)=-3.91501522064209 - u^H(Op^Hv)=-3.9150142669677734\n",
      "y= <class 'jaxlib.xla_extension.ArrayImpl'>\n",
      "78.8 µs ± 28.6 µs per loop (mean ± std. dev. of 2 runs, 10 loops each)\n",
      "26.4 µs ± 2.62 µs per loop (mean ± std. dev. of 2 runs, 10 loops each)\n",
      "backward False 5\n",
      "Dot test passed, v^H(Opu)=-12.278316497802734 - u^H(Op^Hv)=-12.278311729431152\n",
      "y= <class 'jaxlib.xla_extension.ArrayImpl'>\n",
      "58.5 µs ± 7.51 µs per loop (mean ± std. dev. of 2 runs, 10 loops each)\n",
      "24.1 µs ± 2.74 µs per loop (mean ± std. dev. of 2 runs, 10 loops each)\n",
      "backward True 5\n",
      "Dot test passed, v^H(Opu)=7.474493980407715 - u^H(Op^Hv)=7.47449254989624\n",
      "y= <class 'jaxlib.xla_extension.ArrayImpl'>\n",
      "41.7 µs ± 4.79 µs per loop (mean ± std. dev. of 2 runs, 10 loops each)\n",
      "23 µs ± 1.77 µs per loop (mean ± std. dev. of 2 runs, 10 loops each)\n"
     ]
    }
   ],
   "source": [
    "ny, nx = 21, 11\n",
    "   \n",
    "for kind in ('forward', 'centered', 'backward'):\n",
    "    for edge in (False, True):\n",
    "        print(kind, edge, order)\n",
    "        D1op = FirstDirectionalDerivative((ny, nx), v=0.5 * np.ones(2), edge=edge, kind=kind, \n",
    "                                          dtype='float32')\n",
    "        x = np.ones(ny*nx)\n",
    "        y = D1op @ x\n",
    "\n",
    "        D1opjax = JaxOperator(FirstDirectionalDerivative((ny, nx), v=0.5 * np.ones(2), edge=edge, kind=kind, \n",
    "                                                         dtype='float32'))\n",
    "        xjnp = jnp.array(x)\n",
    "        yjnp = (D1opjax @ xjnp).block_until_ready()\n",
    "\n",
    "        dottest(D1opjax, ny*nx, ny*nx, backend='jax', verb=True, atol=1e-3)\n",
    "        print('y=', type(yjnp))\n",
    "\n",
    "        %timeit -n 10 -r 2 D1op @ x\n",
    "        %timeit -n 10 -r 2 (D1opjax @ xjnp).block_until_ready()"
   ]
  },
  {
   "cell_type": "markdown",
   "id": "b1b875a5",
   "metadata": {},
   "source": [
    "## Second Derivative"
   ]
  },
  {
   "cell_type": "code",
   "execution_count": 32,
   "id": "a05e0377",
   "metadata": {},
   "outputs": [
    {
     "name": "stdout",
     "output_type": "stream",
     "text": [
      "forward False 5\n",
      "Dot test passed, v^H(Opu)=-6.706727504730225 - u^H(Op^Hv)=-6.706727027893066\n",
      "y= <class 'jaxlib.xla_extension.ArrayImpl'>\n",
      "24 µs ± 10.9 µs per loop (mean ± std. dev. of 2 runs, 10 loops each)\n",
      "37.5 µs ± 5.14 µs per loop (mean ± std. dev. of 2 runs, 10 loops each)\n",
      "forward True 5\n",
      "Dot test passed, v^H(Opu)=11.86607551574707 - u^H(Op^Hv)=11.86607551574707\n",
      "y= <class 'jaxlib.xla_extension.ArrayImpl'>\n",
      "19.4 µs ± 5.65 µs per loop (mean ± std. dev. of 2 runs, 10 loops each)\n",
      "50.5 µs ± 17.8 µs per loop (mean ± std. dev. of 2 runs, 10 loops each)\n",
      "centered False 5\n",
      "Dot test passed, v^H(Opu)=-11.492124557495117 - u^H(Op^Hv)=-11.4921236038208\n",
      "y= <class 'jaxlib.xla_extension.ArrayImpl'>\n",
      "14.7 µs ± 2.67 µs per loop (mean ± std. dev. of 2 runs, 10 loops each)\n",
      "32.8 µs ± 2.02 µs per loop (mean ± std. dev. of 2 runs, 10 loops each)\n",
      "centered True 5\n",
      "Dot test passed, v^H(Opu)=8.562893867492676 - u^H(Op^Hv)=8.562893867492676\n",
      "y= <class 'jaxlib.xla_extension.ArrayImpl'>\n",
      "26.7 µs ± 3.55 µs per loop (mean ± std. dev. of 2 runs, 10 loops each)\n",
      "45.2 µs ± 12.9 µs per loop (mean ± std. dev. of 2 runs, 10 loops each)\n",
      "backward False 5\n",
      "Dot test passed, v^H(Opu)=6.444685935974121 - u^H(Op^Hv)=6.444684982299805\n",
      "y= <class 'jaxlib.xla_extension.ArrayImpl'>\n",
      "16.3 µs ± 3.96 µs per loop (mean ± std. dev. of 2 runs, 10 loops each)\n",
      "38.3 µs ± 2.08 µs per loop (mean ± std. dev. of 2 runs, 10 loops each)\n",
      "backward True 5\n",
      "Dot test passed, v^H(Opu)=-7.6039934158325195 - u^H(Op^Hv)=-7.603994369506836\n",
      "y= <class 'jaxlib.xla_extension.ArrayImpl'>\n",
      "17.2 µs ± 3.11 µs per loop (mean ± std. dev. of 2 runs, 10 loops each)\n",
      "51.1 µs ± 17.3 µs per loop (mean ± std. dev. of 2 runs, 10 loops each)\n"
     ]
    }
   ],
   "source": [
    "nx = 11\n",
    "   \n",
    "for kind in ('forward', 'centered', 'backward'):\n",
    "    for edge in (False, True):\n",
    "        print(kind, edge, order)\n",
    "        D1op = SecondDerivative(nx, edge=edge, kind=kind, \n",
    "                                dtype='float32')\n",
    "        x = np.ones(nx)\n",
    "        y = D1op @ x\n",
    "\n",
    "        D1opjax = JaxOperator(SecondDerivative(nx, edge=edge, kind=kind, dtype='float32'))\n",
    "        xjnp = jnp.array(x)\n",
    "        yjnp = (D1opjax @ xjnp).block_until_ready()\n",
    "\n",
    "        dottest(D1opjax, nx, nx, backend='jax', verb=True, atol=1e-3)\n",
    "        print('y=', type(yjnp))\n",
    "\n",
    "        %timeit -n 10 -r 2 D1op @ x\n",
    "        %timeit -n 10 -r 2 (D1opjax @ xjnp).block_until_ready()"
   ]
  },
  {
   "cell_type": "markdown",
   "id": "57184503",
   "metadata": {},
   "source": [
    "## Laplacian"
   ]
  },
  {
   "cell_type": "code",
   "execution_count": 33,
   "id": "83c25152",
   "metadata": {},
   "outputs": [
    {
     "name": "stdout",
     "output_type": "stream",
     "text": [
      "forward False 5\n",
      "Dot test passed, v^H(Opu)=-33.99725341796875 - u^H(Op^Hv)=-33.99726867675781\n",
      "y= <class 'jaxlib.xla_extension.ArrayImpl'>\n",
      "48.3 µs ± 4.71 µs per loop (mean ± std. dev. of 2 runs, 10 loops each)\n",
      "42.5 µs ± 21.2 µs per loop (mean ± std. dev. of 2 runs, 10 loops each)\n",
      "forward True 5\n",
      "Dot test passed, v^H(Opu)=67.1269760131836 - u^H(Op^Hv)=67.12693786621094\n",
      "y= <class 'jaxlib.xla_extension.ArrayImpl'>\n",
      "66.2 µs ± 19.6 µs per loop (mean ± std. dev. of 2 runs, 10 loops each)\n",
      "24.8 µs ± 3.22 µs per loop (mean ± std. dev. of 2 runs, 10 loops each)\n",
      "centered False 5\n",
      "Dot test passed, v^H(Opu)=-136.33056640625 - u^H(Op^Hv)=-136.33055114746094\n",
      "y= <class 'jaxlib.xla_extension.ArrayImpl'>\n",
      "67.8 µs ± 15.3 µs per loop (mean ± std. dev. of 2 runs, 10 loops each)\n",
      "23.1 µs ± 2.91 µs per loop (mean ± std. dev. of 2 runs, 10 loops each)\n",
      "centered True 5\n",
      "Dot test passed, v^H(Opu)=-72.66870880126953 - u^H(Op^Hv)=-72.66866302490234\n",
      "y= <class 'jaxlib.xla_extension.ArrayImpl'>\n",
      "68.4 µs ± 16.3 µs per loop (mean ± std. dev. of 2 runs, 10 loops each)\n",
      "25.4 µs ± 2.71 µs per loop (mean ± std. dev. of 2 runs, 10 loops each)\n",
      "backward False 5\n",
      "Dot test passed, v^H(Opu)=5.708824157714844 - u^H(Op^Hv)=5.708817005157471\n",
      "y= <class 'jaxlib.xla_extension.ArrayImpl'>\n",
      "52.8 µs ± 11 µs per loop (mean ± std. dev. of 2 runs, 10 loops each)\n",
      "37.2 µs ± 15.2 µs per loop (mean ± std. dev. of 2 runs, 10 loops each)\n",
      "backward True 5\n",
      "Dot test passed, v^H(Opu)=79.96058654785156 - u^H(Op^Hv)=79.96060943603516\n",
      "y= <class 'jaxlib.xla_extension.ArrayImpl'>\n",
      "58.4 µs ± 5.66 µs per loop (mean ± std. dev. of 2 runs, 10 loops each)\n",
      "44 µs ± 21.8 µs per loop (mean ± std. dev. of 2 runs, 10 loops each)\n"
     ]
    }
   ],
   "source": [
    "ny, nx = 21, 11\n",
    "   \n",
    "for kind in ('forward', 'centered', 'backward'):\n",
    "    for edge in (False, True):\n",
    "        print(kind, edge, order)\n",
    "        D1op = Laplacian((ny, nx), edge=edge, kind=kind, dtype='float32')\n",
    "        x = np.ones(ny*nx)\n",
    "        y = D1op @ x\n",
    "\n",
    "        D1opjax = JaxOperator(Laplacian((ny, nx), edge=edge, kind=kind, dtype='float32'))\n",
    "        xjnp = jnp.array(x)\n",
    "        yjnp = (D1opjax @ xjnp).block_until_ready()\n",
    "\n",
    "        dottest(D1opjax, ny*nx, ny*nx, backend='jax', verb=True, atol=1e-3)\n",
    "        print('y=', type(yjnp))\n",
    "\n",
    "        %timeit -n 10 -r 2 D1op @ x\n",
    "        %timeit -n 10 -r 2 (D1opjax @ xjnp).block_until_ready()"
   ]
  },
  {
   "cell_type": "markdown",
   "id": "e952bb59",
   "metadata": {},
   "source": [
    "## Gradient"
   ]
  },
  {
   "cell_type": "code",
   "execution_count": 34,
   "id": "9e0b623f",
   "metadata": {},
   "outputs": [
    {
     "name": "stdout",
     "output_type": "stream",
     "text": [
      "forward False 5\n",
      "Dot test passed, v^H(Opu)=12.33971118927002 - u^H(Op^Hv)=12.339707374572754\n",
      "y= <class 'jaxlib.xla_extension.ArrayImpl'>\n",
      "36 µs ± 4.04 µs per loop (mean ± std. dev. of 2 runs, 10 loops each)\n",
      "35 µs ± 13.5 µs per loop (mean ± std. dev. of 2 runs, 10 loops each)\n",
      "forward True 5\n",
      "Dot test passed, v^H(Opu)=30.52020835876465 - u^H(Op^Hv)=30.520204544067383\n",
      "y= <class 'jaxlib.xla_extension.ArrayImpl'>\n",
      "44.7 µs ± 18.3 µs per loop (mean ± std. dev. of 2 runs, 10 loops each)\n",
      "42.3 µs ± 6.29 µs per loop (mean ± std. dev. of 2 runs, 10 loops each)\n",
      "centered False 5\n",
      "Dot test passed, v^H(Opu)=11.551376342773438 - u^H(Op^Hv)=11.551379203796387\n",
      "y= <class 'jaxlib.xla_extension.ArrayImpl'>\n",
      "40.8 µs ± 4.45 µs per loop (mean ± std. dev. of 2 runs, 10 loops each)\n",
      "34.1 µs ± 12.5 µs per loop (mean ± std. dev. of 2 runs, 10 loops each)\n",
      "centered True 5\n",
      "Dot test passed, v^H(Opu)=27.0750675201416 - u^H(Op^Hv)=27.07506561279297\n",
      "y= <class 'jaxlib.xla_extension.ArrayImpl'>\n",
      "50.7 µs ± 14.6 µs per loop (mean ± std. dev. of 2 runs, 10 loops each)\n",
      "26.4 µs ± 3.59 µs per loop (mean ± std. dev. of 2 runs, 10 loops each)\n",
      "backward False 5\n",
      "Dot test passed, v^H(Opu)=55.909847259521484 - u^H(Op^Hv)=55.90984344482422\n",
      "y= <class 'jaxlib.xla_extension.ArrayImpl'>\n",
      "35.6 µs ± 6.52 µs per loop (mean ± std. dev. of 2 runs, 10 loops each)\n",
      "36.7 µs ± 14.5 µs per loop (mean ± std. dev. of 2 runs, 10 loops each)\n",
      "backward True 5\n",
      "Dot test passed, v^H(Opu)=-64.42769622802734 - u^H(Op^Hv)=-64.42767333984375\n",
      "y= <class 'jaxlib.xla_extension.ArrayImpl'>\n",
      "28.5 µs ± 3.69 µs per loop (mean ± std. dev. of 2 runs, 10 loops each)\n",
      "22.8 µs ± 1.75 µs per loop (mean ± std. dev. of 2 runs, 10 loops each)\n"
     ]
    }
   ],
   "source": [
    "ny, nx = 21, 11\n",
    "   \n",
    "for kind in ('forward', 'centered', 'backward'):\n",
    "    for edge in (False, True):\n",
    "        print(kind, edge, order)\n",
    "        D1op = Gradient((ny, nx), edge=edge, kind=kind, dtype='float32')\n",
    "        x = np.ones(ny*nx)\n",
    "        y = D1op @ x\n",
    "\n",
    "        D1opjax = JaxOperator(Gradient((ny, nx), edge=edge, kind=kind, dtype='float32'))\n",
    "        xjnp = jnp.array(x)\n",
    "        yjnp = (D1opjax @ xjnp).block_until_ready()\n",
    "\n",
    "        dottest(D1opjax, 2*ny*nx, ny*nx, backend='jax', verb=True, atol=1e-3)\n",
    "        print('y=', type(yjnp))\n",
    "\n",
    "        %timeit -n 10 -r 2 D1op @ x\n",
    "        %timeit -n 10 -r 2 (D1opjax @ xjnp).block_until_ready()"
   ]
  },
  {
   "cell_type": "markdown",
   "id": "97fab121",
   "metadata": {},
   "source": [
    "## Causal integration"
   ]
  },
  {
   "cell_type": "code",
   "execution_count": 35,
   "id": "f978f4e4",
   "metadata": {},
   "outputs": [
    {
     "name": "stdout",
     "output_type": "stream",
     "text": [
      "y= <class 'jaxlib.xla_extension.ArrayImpl'>\n",
      "3.72 ms ± 58.7 µs per loop (mean ± std. dev. of 2 runs, 10 loops each)\n",
      "2.89 ms ± 144 µs per loop (mean ± std. dev. of 2 runs, 10 loops each)\n"
     ]
    }
   ],
   "source": [
    "nx = 1000000\n",
    "\n",
    "Cop = CausalIntegration(nx, dtype='float32')\n",
    "\n",
    "x = np.ones(nx, dtype='float32')\n",
    "y = Cop @ x\n",
    "\n",
    "Copjax = JaxOperator(Cop)\n",
    "\n",
    "xjnp = jnp.ones(nx)\n",
    "yjnp = (Copjax @ xjnp).block_until_ready()\n",
    "print('y=', type(yjnp))\n",
    "\n",
    "%timeit -n 10 -r 2 Cop @ x\n",
    "%timeit -n 10 -r 2 (Copjax @ xjnp).block_until_ready()"
   ]
  },
  {
   "cell_type": "markdown",
   "id": "b829d697",
   "metadata": {},
   "source": [
    "## VStack"
   ]
  },
  {
   "cell_type": "code",
   "execution_count": 36,
   "id": "c50bc185",
   "metadata": {},
   "outputs": [
    {
     "name": "stdout",
     "output_type": "stream",
     "text": [
      "Dot test passed, v^H(Opu)=-9.191097259521484 - u^H(Op^Hv)=-9.191096305847168\n",
      "y= <class 'jaxlib.xla_extension.ArrayImpl'>\n"
     ]
    }
   ],
   "source": [
    "D2hop = SecondDerivative(dims=[11,21], axis=1, dtype='float64')\n",
    "D2vop = SecondDerivative(dims=[11,21], axis=0, dtype='float64')\n",
    "\n",
    "D1hopjax = JaxOperator(FirstDerivative(dims=[11,21], axis=1, dtype='float32'))\n",
    "D1vopjax = JaxOperator(FirstDerivative(dims=[11,21], axis=0, dtype='float32'))\n",
    "    \n",
    "Vstackop = VStack([D1hopjax,D1vopjax])\n",
    "xjnp = jnp.ones(11*21)\n",
    "yjnp = (Vstackop @ xjnp).block_until_ready()\n",
    "\n",
    "dottest(Vstackop, backend='jax', verb=True, atol=1e-3)\n",
    "print('y=', type(yjnp))"
   ]
  },
  {
   "cell_type": "markdown",
   "id": "4ced77a9",
   "metadata": {},
   "source": [
    "## HStack"
   ]
  },
  {
   "cell_type": "code",
   "execution_count": 37,
   "id": "d4b8b415",
   "metadata": {},
   "outputs": [
    {
     "name": "stdout",
     "output_type": "stream",
     "text": [
      "Dot test passed, v^H(Opu)=6.765942573547363 - u^H(Op^Hv)=6.765944957733154\n",
      "y= <class 'jaxlib.xla_extension.ArrayImpl'>\n"
     ]
    }
   ],
   "source": [
    "Hstackop = HStack([D1hopjax,D1vopjax])\n",
    "xjnp = jnp.ones(2*11*21)\n",
    "yjnp = (Hstackop @ xjnp).block_until_ready()\n",
    "\n",
    "dottest(Hstackop, backend='jax', verb=True, atol=1e-3)\n",
    "print('y=', type(yjnp))"
   ]
  },
  {
   "cell_type": "markdown",
   "id": "229b84d3",
   "metadata": {},
   "source": [
    "## BlockDiag"
   ]
  },
  {
   "cell_type": "code",
   "execution_count": 38,
   "id": "5f31d7a9",
   "metadata": {},
   "outputs": [
    {
     "name": "stdout",
     "output_type": "stream",
     "text": [
      "Dot test passed, v^H(Opu)=8.74829387664795 - u^H(Op^Hv)=8.748291969299316\n",
      "y= <class 'jaxlib.xla_extension.ArrayImpl'>\n"
     ]
    }
   ],
   "source": [
    "Blockop = BlockDiag([D1hopjax,D1vopjax])\n",
    "xjnp = jnp.ones(2*11*21)\n",
    "yjnp = (Blockop @ xjnp).block_until_ready()\n",
    "\n",
    "dottest(Blockop, backend='jax', verb=True, atol=1e-3)\n",
    "print('y=', type(yjnp))"
   ]
  },
  {
   "cell_type": "markdown",
   "id": "a52f62dc",
   "metadata": {},
   "source": [
    "## FFT"
   ]
  },
  {
   "cell_type": "code",
   "execution_count": 39,
   "id": "2b09414c",
   "metadata": {},
   "outputs": [
    {
     "name": "stdout",
     "output_type": "stream",
     "text": [
      "Dot test passed, v^H(Opu)=38.648006439208984 - u^H(Op^Hv)=38.648101806640625\n",
      "y= <class 'jaxlib.xla_extension.ArrayImpl'>\n"
     ]
    },
    {
     "name": "stderr",
     "output_type": "stream",
     "text": [
      "/Users/ravasim/Desktop/KAUST/OpenSource/pylops/pylops/signalprocessing/fft.py:53: UserWarning: numpy backend always returns complex128 dtype. To respect the passed dtype, data will be casted to complex64.\n",
      "  warnings.warn(\n"
     ]
    },
    {
     "name": "stdout",
     "output_type": "stream",
     "text": [
      "Dot test passed, v^H(Opu)=136.31239318847656 - u^H(Op^Hv)=136.31370544433594\n",
      "952 µs ± 21.7 µs per loop (mean ± std. dev. of 2 runs, 10 loops each)\n",
      "1.3 ms ± 44.7 µs per loop (mean ± std. dev. of 2 runs, 10 loops each)\n"
     ]
    }
   ],
   "source": [
    "nx = 100000\n",
    "\n",
    "Fop = FFT(nx, real=True, dtype='float32')\n",
    "\n",
    "x = np.ones(nx, dtype='float32')\n",
    "y = Fop @ x\n",
    "xadj = Fop.H @ y\n",
    "dottest(Fop, complexflag=1, verb=True, atol=1e-3)\n",
    "\n",
    "Fopjax = JaxOperator(Fop)\n",
    "\n",
    "xjnp = jnp.ones(nx, dtype='float32')\n",
    "yjnp = (Fopjax @ xjnp).block_until_ready()\n",
    "xadjjnp = (Fopjax.H @ yjnp).block_until_ready()\n",
    "print('y=', type(yjnp))\n",
    "\n",
    "dottest(Fopjax, backend='jax', complexflag=1, verb=True, atol=1e-2)\n",
    "\n",
    "%timeit -n 10 -r 2 Fop @ x\n",
    "%timeit -n 10 -r 2 (Fopjax @ xjnp).block_until_ready()"
   ]
  },
  {
   "cell_type": "markdown",
   "id": "d7b7e2e1",
   "metadata": {},
   "source": [
    "## FFT2D"
   ]
  },
  {
   "cell_type": "code",
   "execution_count": 40,
   "id": "bbf402d7",
   "metadata": {},
   "outputs": [
    {
     "name": "stdout",
     "output_type": "stream",
     "text": [
      "Dot test passed, v^H(Opu)=133.7815704345703 - u^H(Op^Hv)=133.78172302246094\n",
      "y= <class 'jaxlib.xla_extension.ArrayImpl'>\n"
     ]
    },
    {
     "name": "stderr",
     "output_type": "stream",
     "text": [
      "/Users/ravasim/Desktop/KAUST/OpenSource/pylops/pylops/signalprocessing/fft2d.py:46: UserWarning: numpy backend always returns complex128 dtype. To respect the passed dtype, data will be casted to complex64.\n",
      "  warnings.warn(\n"
     ]
    },
    {
     "name": "stdout",
     "output_type": "stream",
     "text": [
      "Dot test passed, v^H(Opu)=46.66827392578125 - u^H(Op^Hv)=46.669124603271484\n",
      "3.42 ms ± 274 µs per loop (mean ± std. dev. of 2 runs, 10 loops each)\n",
      "1.74 ms ± 66.9 µs per loop (mean ± std. dev. of 2 runs, 10 loops each)\n"
     ]
    }
   ],
   "source": [
    "nx, nt = 200, 100\n",
    "\n",
    "Fop = FFT2D((nx, nt), nffts=(4*nx, 4*nt), dtype='float32')\n",
    "x = np.ones(nx*nt, dtype='float32')\n",
    "y = Fop @ x\n",
    "dottest(Fop, complexflag=1, verb=True, atol=1e-3)\n",
    "\n",
    "Fopjax = JaxOperator(Fop)\n",
    "\n",
    "xjnp = jnp.ones(nx*nt, dtype='float32')\n",
    "yjnp = (Fopjax @ xjnp).block_until_ready()\n",
    "print('y=', type(yjnp))\n",
    "\n",
    "dottest(Fopjax, backend='jax', complexflag=1, verb=True, atol=1e-2)\n",
    "\n",
    "%timeit -n 10 -r 2 Fop @ x\n",
    "%timeit -n 10 -r 2 (Fopjax @ xjnp).block_until_ready()"
   ]
  },
  {
   "cell_type": "markdown",
   "id": "1d235e43",
   "metadata": {},
   "source": [
    "## FFTND"
   ]
  },
  {
   "cell_type": "code",
   "execution_count": 41,
   "id": "d5a69387",
   "metadata": {},
   "outputs": [
    {
     "name": "stdout",
     "output_type": "stream",
     "text": [
      "y= <class 'jaxlib.xla_extension.ArrayImpl'>\n",
      "4 ms ± 18.5 µs per loop (mean ± std. dev. of 2 runs, 10 loops each)\n",
      "1.46 ms ± 54 µs per loop (mean ± std. dev. of 2 runs, 10 loops each)\n"
     ]
    },
    {
     "name": "stderr",
     "output_type": "stream",
     "text": [
      "/Users/ravasim/Desktop/KAUST/OpenSource/pylops/pylops/signalprocessing/fftnd.py:45: UserWarning: numpy backend always returns complex128 dtype. To respect the passed dtype, data will be cast to complex64.\n",
      "  warnings.warn(\n"
     ]
    }
   ],
   "source": [
    "ny, nx, nt = 10, 200, 100\n",
    "\n",
    "Fop = FFTND((ny, nx, nt), engine='numpy', dtype='float32')\n",
    "\n",
    "x = np.ones(ny*nx*nt, dtype='float32')\n",
    "y = Fop @ x\n",
    "\n",
    "Fopjax = JaxOperator(Fop)\n",
    "xjnp = jnp.ones(ny*nx*nt, dtype='float32')\n",
    "yjnp = (Fopjax @ xjnp).block_until_ready()\n",
    "print('y=', type(yjnp))\n",
    "\n",
    "%timeit -n 10 -r 2 Fop @ x\n",
    "%timeit -n 10 -r 2 (Fopjax @ xjnp).block_until_ready()"
   ]
  },
  {
   "cell_type": "markdown",
   "id": "8732953c",
   "metadata": {},
   "source": [
    "## Convolve1D"
   ]
  },
  {
   "cell_type": "code",
   "execution_count": 42,
   "id": "57ed895a",
   "metadata": {},
   "outputs": [
    {
     "name": "stdout",
     "output_type": "stream",
     "text": [
      "[-3 -2 -1  0  1  2]\n",
      "y= <class 'jaxlib.xla_extension.ArrayImpl'>\n"
     ]
    }
   ],
   "source": [
    "nx = 10\n",
    "offset = 4\n",
    "\n",
    "h = np.arange(-3, 3)\n",
    "print(h)\n",
    "\n",
    "Cop = Convolve1D(nx, h=h, offset=offset, \n",
    "                 dtype='float32', \n",
    "                 method='direct')\n",
    "x  = np.zeros(nx)\n",
    "x[3] = 1\n",
    "y = Cop @ x\n",
    "\n",
    "hjnp = jnp.array(h).astype(jnp.float32)\n",
    "Copjax = JaxOperator(Convolve1D(nx, h=hjnp, offset=offset, \n",
    "                     dtype='float32', \n",
    "                     method='direct'))\n",
    "\n",
    "xjnp = jnp.array(x).astype(jnp.float32)\n",
    "yjnp = (Copjax @ xjnp).block_until_ready()\n",
    "print('y=', type(yjnp))\n",
    "\n",
    "#dottest(Copjax, backend='jax', verb=True, atol=1e-3)\n",
    "\n",
    "#%timeit -n 10 -r 2 Cop @ x\n",
    "#%timeit -n 10 -r 2 (Copjax @ xjnp).block_until_ready()"
   ]
  },
  {
   "cell_type": "code",
   "execution_count": 43,
   "id": "6f14c3ce",
   "metadata": {},
   "outputs": [
    {
     "name": "stdout",
     "output_type": "stream",
     "text": [
      "105 µs ± 9.69 µs per loop (mean ± std. dev. of 2 runs, 10 loops each)\n"
     ]
    }
   ],
   "source": [
    "## JAX BACKEND CURRENTLY NOT WORKING ##\n",
    "nt = 301\n",
    "nx = 20\n",
    "dt = 0.004\n",
    "t  = np.arange(nt)*dt\n",
    "\n",
    "h = np.ones(3)\n",
    "hcenter=1\n",
    "\n",
    "Cop = Convolve1D(dims=[nt,nx], h=h, offset=hcenter, axis=0, dtype='float32')\n",
    "x  = np.zeros((nt, nx))\n",
    "x[int(nt/2),:] = 1\n",
    "y = Cop @ x\n",
    "\n",
    "hjnp = jnp.array(h).astype(jnp.float32)\n",
    "Copjax = JaxOperator(Convolve1D(dims=[nt,nx], h=hjnp, offset=hcenter, axis=0, dtype='float32'))\n",
    "\n",
    "xjnp = jnp.array(x).astype(jnp.float32)\n",
    "#yjnp = (Copjax @ xjnp).block_until_ready()\n",
    "#print('y=', type(yjnp))\n",
    "\n",
    "#dottest(Copjax, backend='jax', verb=True, atol=1e-3)\n",
    "\n",
    "%timeit -n 10 -r 2 Cop @ x\n",
    "#%timeit -n 10 -r 2 (Copjax @ xjnp).block_until_ready()"
   ]
  },
  {
   "cell_type": "markdown",
   "id": "88bc8a72",
   "metadata": {},
   "source": [
    "## Convolve2D"
   ]
  },
  {
   "cell_type": "code",
   "execution_count": 44,
   "id": "6750074e",
   "metadata": {},
   "outputs": [
    {
     "name": "stdout",
     "output_type": "stream",
     "text": [
      "y= <class 'jaxlib.xla_extension.ArrayImpl'>\n",
      "Dot test passed, v^H(Opu)=533.0953369140625 - u^H(Op^Hv)=533.09326171875\n",
      "182 µs ± 46.8 µs per loop (mean ± std. dev. of 2 runs, 10 loops each)\n",
      "158 µs ± 17.2 µs per loop (mean ± std. dev. of 2 runs, 10 loops each)\n"
     ]
    }
   ],
   "source": [
    "nt = 51\n",
    "nx = 81\n",
    "dt = 0.004\n",
    "t  = np.arange(nt)*dt\n",
    "\n",
    "nh = [11,5]\n",
    "h  = np.ones((nh[0], nh[1]))\n",
    "\n",
    "Cop = Convolve2D(dims=[nt,nx], h=h, offset=[int(nh[0])/2,int(nh[1])/2], \n",
    "                 dtype='float32')\n",
    "x  = np.zeros((nt,nx))\n",
    "x[int(nt/2),int(nx/2)] = 1\n",
    "y    = Cop*x.flatten()\n",
    "\n",
    "hjnp = jnp.array(h).astype(jnp.float32)\n",
    "Copjax = JaxOperator(Convolve2D(dims=[nt,nx], h=hjnp, \n",
    "                                offset=[int(nh[0])/2,int(nh[1])/2], dtype='float32'))\n",
    "\n",
    "xjnp = jnp.array(x).astype(jnp.float32)\n",
    "yjnp = (Copjax @ xjnp).block_until_ready()\n",
    "print('y=', type(yjnp))\n",
    "\n",
    "dottest(Copjax, backend='jax', verb=True, atol=1e-2)\n",
    "\n",
    "%timeit -n 10 -r 2 Cop @ x\n",
    "%timeit -n 10 -r 2 (Copjax @ xjnp).block_until_ready()"
   ]
  },
  {
   "cell_type": "code",
   "execution_count": 45,
   "id": "839fcd3b",
   "metadata": {},
   "outputs": [
    {
     "name": "stdout",
     "output_type": "stream",
     "text": [
      "y= <class 'jaxlib.xla_extension.ArrayImpl'>\n",
      "Dot test passed, v^H(Opu)=-1388.2647705078125 - u^H(Op^Hv)=-1388.2679443359375\n",
      "802 µs ± 95.4 µs per loop (mean ± std. dev. of 2 runs, 10 loops each)\n",
      "1.36 ms ± 10.5 µs per loop (mean ± std. dev. of 2 runs, 10 loops each)\n"
     ]
    }
   ],
   "source": [
    "nt = 51\n",
    "nx = 81\n",
    "ny = 11\n",
    "dt = 0.004\n",
    "t  = np.arange(nt)*dt\n",
    "x  = np.zeros((nt, nx, ny))\n",
    "x[int(nt/2), int(nx/2), int(ny/2)] = 1\n",
    "\n",
    "nh = [11,5]\n",
    "h  = np.ones((nh[0], nh[1]))\n",
    "\n",
    "Cop = Convolve2D(dims=[nt,nx,ny], h=h, offset=[int(nh[0])/2,int(nh[1])/2], \n",
    "                 axes=(0,1), dtype='float32')\n",
    "\n",
    "hjnp = jnp.array(h).astype(jnp.float32)\n",
    "Copjax = JaxOperator(Convolve2D(dims=[nt,nx,ny], h=hjnp, offset=[int(nh[0])/2,int(nh[1])/2], \n",
    "                                axes=(0,1), dtype='float32'))\n",
    "\n",
    "xjnp = jnp.array(x).astype(jnp.float32)\n",
    "yjnp = (Copjax @ xjnp).block_until_ready()\n",
    "print('y=', type(yjnp))\n",
    "\n",
    "dottest(Copjax, backend='jax', verb=True, atol=1e-2)\n",
    "\n",
    "%timeit -n 10 -r 2 Cop @ x\n",
    "%timeit -n 10 -r 2 (Copjax @ xjnp).block_until_ready()"
   ]
  },
  {
   "cell_type": "markdown",
   "id": "707be25d",
   "metadata": {},
   "source": [
    "## ConvolveND"
   ]
  },
  {
   "cell_type": "code",
   "execution_count": 46,
   "id": "a486a906",
   "metadata": {},
   "outputs": [
    {
     "name": "stdout",
     "output_type": "stream",
     "text": [
      "y= <class 'jaxlib.xla_extension.ArrayImpl'>\n",
      "Dot test passed, v^H(Opu)=617.8408813476562 - u^H(Op^Hv)=617.8402099609375\n",
      "855 µs ± 11 µs per loop (mean ± std. dev. of 2 runs, 10 loops each)\n",
      "543 µs ± 19.4 µs per loop (mean ± std. dev. of 2 runs, 10 loops each)\n"
     ]
    }
   ],
   "source": [
    "ny, nx, nz = 20, 40, 30\n",
    "x = np.zeros((ny, nx, nz))\n",
    "x[ny//3, nx//2, nz//4] = 1\n",
    "h = np.ones((3, 5, 3))\n",
    "offset = [1, 2, 1]\n",
    "\n",
    "Cop = ConvolveND(dims=[ny, nx, nz], h=h, offset=offset, \n",
    "                 axes=[0,1,2], dtype='float32')\n",
    "y    = Cop @ x\n",
    "\n",
    "hjnp = jnp.array(h).astype(jnp.float32)\n",
    "Copjax = JaxOperator(ConvolveND(dims=[ny, nx, nz], h=hjnp, offset=offset, \n",
    "                                axes=[0,1,2], dtype='float32'))\n",
    "xjnp = jnp.array(x).astype(jnp.float32)\n",
    "yjnp = (Copjax @ xjnp).block_until_ready()\n",
    "print('y=', type(yjnp))\n",
    "\n",
    "dottest(Copjax, backend='jax', verb=True, atol=1e-2)\n",
    "\n",
    "%timeit -n 10 -r 2 Cop @ x\n",
    "%timeit -n 10 -r 2 (Copjax @ xjnp).block_until_ready()"
   ]
  },
  {
   "cell_type": "markdown",
   "id": "f41bcdcd",
   "metadata": {},
   "source": [
    "## NonStationaryConvolve1D"
   ]
  },
  {
   "cell_type": "code",
   "execution_count": 47,
   "id": "df05f6a6",
   "metadata": {},
   "outputs": [
    {
     "name": "stdout",
     "output_type": "stream",
     "text": [
      "Dot test passed, v^H(Opu)=-37.6285863677083 - u^H(Op^Hv)=-37.62858636770827\n",
      "y= <class 'jaxlib.xla_extension.ArrayImpl'>\n",
      "Dot test passed, v^H(Opu)=-114.16763305664062 - u^H(Op^Hv)=-114.16763305664062\n",
      "5.09 ms ± 512 µs per loop (mean ± std. dev. of 2 runs, 2 loops each)\n",
      "The slowest run took 6.98 times longer than the fastest. This could mean that an intermediate result is being cached.\n",
      "223 µs ± 167 µs per loop (mean ± std. dev. of 2 runs, 2 loops each)\n"
     ]
    }
   ],
   "source": [
    "nt = 601\n",
    "dt = 0.004\n",
    "t = np.arange(nt)*dt\n",
    "\n",
    "wav1, _, wav1c = ricker(t[:51], f0=20)\n",
    "wav2 = ricker(t[:51], f0=50)[0]\n",
    "wav2 = wav2 * (np.sum(np.abs(wav1)) / np.sum(np.abs(wav2)))\n",
    "wavs = np.stack([wav1, wav2])\n",
    "\n",
    "Cop = NonStationaryConvolve1D(dims=nt, hs=wavs, ih=(201, 401))\n",
    "x = np.zeros(nt)\n",
    "for ix in range(64, nt-64, 64):\n",
    "    x[ix] = 1.    \n",
    "y = Cop @ x\n",
    "dottest(Cop, verb=True, atol=1e-3)\n",
    "\n",
    "wavsjnp = jnp.array(wavs).astype(jnp.float32)\n",
    "Copjax = JaxOperator(NonStationaryConvolve1D(dims=nt, hs=wavs, ih=(201, 401), dtype='float32'))\n",
    "xjnp = jnp.array(x).astype(jnp.float32)\n",
    "yjnp = (Copjax @ xjnp).block_until_ready()\n",
    "print('y=', type(yjnp))\n",
    "dottest(Copjax, backend='jax', verb=True, atol=1e-3)\n",
    "\n",
    "%timeit -n 2 -r 2 Cop @ x\n",
    "%timeit -n 2 -r 2 (Copjax @ xjnp).block_until_ready()"
   ]
  },
  {
   "cell_type": "code",
   "execution_count": 48,
   "id": "dbb66a2f",
   "metadata": {},
   "outputs": [
    {
     "name": "stdout",
     "output_type": "stream",
     "text": [
      "Dot test passed, v^H(Opu)=-7.2153320796083005 - u^H(Op^Hv)=-7.215332079608288\n",
      "y= <class 'jaxlib.xla_extension.ArrayImpl'>\n",
      "Dot test passed, v^H(Opu)=19.079679489135742 - u^H(Op^Hv)=19.079675674438477\n",
      "4.56 ms ± 97.6 µs per loop (mean ± std. dev. of 2 runs, 2 loops each)\n",
      "The slowest run took 4.26 times longer than the fastest. This could mean that an intermediate result is being cached.\n",
      "138 µs ± 85.8 µs per loop (mean ± std. dev. of 2 runs, 2 loops each)\n"
     ]
    }
   ],
   "source": [
    "C1op = NonStationaryFilters1D(inp=x, hsize=wavs.shape[1],  ih=(201, 401))\n",
    "y1 = C1op @ wavs\n",
    "dottest(C1op, verb=True, atol=1e-3)\n",
    "\n",
    "C1opjax = JaxOperator(NonStationaryFilters1D(inp=x, hsize=wavs.shape[1],  ih=(201, 401), dtype='float32'))\n",
    "yjnp = (C1opjax @ wavsjnp).block_until_ready()\n",
    "print('y=', type(yjnp))\n",
    "dottest(C1opjax, backend='jax', verb=True, atol=1e-3)\n",
    "\n",
    "%timeit -n 2 -r 2 C1op @ wavs\n",
    "%timeit -n 2 -r 2 (C1opjax @ wavsjnp).block_until_ready()"
   ]
  },
  {
   "cell_type": "markdown",
   "id": "15ce667d",
   "metadata": {},
   "source": [
    "## Interp"
   ]
  },
  {
   "cell_type": "code",
   "execution_count": 49,
   "id": "4fac8489",
   "metadata": {},
   "outputs": [
    {
     "name": "stdout",
     "output_type": "stream",
     "text": [
      "y= <class 'jaxlib.xla_extension.ArrayImpl'>\n",
      "Dot test passed, v^H(Opu)=-0.9163461923599243 - u^H(Op^Hv)=-0.9163461923599243\n",
      "9.54 µs ± 2.19 µs per loop (mean ± std. dev. of 2 runs, 10 loops each)\n",
      "37.2 µs ± 4.09 µs per loop (mean ± std. dev. of 2 runs, 10 loops each)\n",
      "y= <class 'jaxlib.xla_extension.ArrayImpl'>\n",
      "Dot test passed, v^H(Opu)=-0.8063273429870605 - u^H(Op^Hv)=-0.8063273429870605\n",
      "9.5 µs ± 1.92 µs per loop (mean ± std. dev. of 2 runs, 10 loops each)\n",
      "36.4 µs ± 3.04 µs per loop (mean ± std. dev. of 2 runs, 10 loops each)\n",
      "y= <class 'jaxlib.xla_extension.ArrayImpl'>\n",
      "Dot test passed, v^H(Opu)=-5.931110858917236 - u^H(Op^Hv)=-5.931110858917236\n",
      "10.4 µs ± 3.03 µs per loop (mean ± std. dev. of 2 runs, 10 loops each)\n",
      "65.3 µs ± 31.6 µs per loop (mean ± std. dev. of 2 runs, 10 loops each)\n"
     ]
    }
   ],
   "source": [
    "n = int(1e2)\n",
    "iava = np.arange(0, n, 10) + 0.5\n",
    "\n",
    "for kind in ('nearest', 'linear', 'sinc'):\n",
    "    Iop = pylops.signalprocessing.Interp(n, iava, kind='nearest')[0]\n",
    "    x = np.ones(n)\n",
    "    y = Iop @ x\n",
    "\n",
    "    Iopjax = JaxOperator(pylops.signalprocessing.Interp(n, iava, kind='nearest', dtype='float32')[0])\n",
    "    xjnp = jnp.array(x).astype(jnp.float32)\n",
    "    yjnp = (Iopjax @ xjnp).block_until_ready()\n",
    "    print('y=', type(yjnp))\n",
    "\n",
    "    dottest(Iopjax, backend='jax', verb=True, atol=1e-2)\n",
    "\n",
    "    %timeit -n 10 -r 2 Iop @ x\n",
    "    %timeit -n 10 -r 2 (Iopjax @ xjnp).block_until_ready()"
   ]
  },
  {
   "cell_type": "code",
   "execution_count": 50,
   "id": "371ab579",
   "metadata": {},
   "outputs": [
    {
     "name": "stdout",
     "output_type": "stream",
     "text": [
      "y= <class 'jaxlib.xla_extension.ArrayImpl'>\n",
      "Dot test passed, v^H(Opu)=2.492629289627075 - u^H(Op^Hv)=2.492629289627075\n",
      "9.41 µs ± 1.98 µs per loop (mean ± std. dev. of 2 runs, 10 loops each)\n",
      "25.3 µs ± 3.7 µs per loop (mean ± std. dev. of 2 runs, 10 loops each)\n",
      "y= <class 'jaxlib.xla_extension.ArrayImpl'>\n",
      "Dot test passed, v^H(Opu)=-5.612744331359863 - u^H(Op^Hv)=-5.612744331359863\n",
      "8.92 µs ± 1.86 µs per loop (mean ± std. dev. of 2 runs, 10 loops each)\n",
      "22 µs ± 2.01 µs per loop (mean ± std. dev. of 2 runs, 10 loops each)\n",
      "y= <class 'jaxlib.xla_extension.ArrayImpl'>\n",
      "Dot test passed, v^H(Opu)=0.781684160232544 - u^H(Op^Hv)=0.781684160232544\n",
      "9.06 µs ± 1.8 µs per loop (mean ± std. dev. of 2 runs, 10 loops each)\n",
      "23.1 µs ± 2.38 µs per loop (mean ± std. dev. of 2 runs, 10 loops each)\n"
     ]
    }
   ],
   "source": [
    "n = int(1e2)\n",
    "iava = np.arange(0, n, 10) + 0.5\n",
    "\n",
    "for kind in ('nearest', 'linear', 'sinc'):\n",
    "    Iop = pylops.signalprocessing.Interp((10, n), iava, kind='nearest', axis=-1)[0]\n",
    "    x = np.ones(n*10)\n",
    "    y = Iop @ x\n",
    "\n",
    "    Iopjax = JaxOperator(pylops.signalprocessing.Interp((10, n), iava, kind='nearest', axis=-1, dtype='float32')[0])\n",
    "    xjnp = jnp.array(x).astype(jnp.float32)\n",
    "    yjnp = (Iopjax @ xjnp).block_until_ready()\n",
    "    print('y=', type(yjnp))\n",
    "\n",
    "    dottest(Iopjax, backend='jax', verb=True, atol=1e-2)\n",
    "\n",
    "    %timeit -n 10 -r 2 Iop @ x\n",
    "    %timeit -n 10 -r 2 (Iopjax @ xjnp).block_until_ready()"
   ]
  },
  {
   "cell_type": "markdown",
   "id": "148a58e2",
   "metadata": {},
   "source": [
    "## Shift"
   ]
  },
  {
   "cell_type": "code",
   "execution_count": 51,
   "id": "d15e1978",
   "metadata": {},
   "outputs": [
    {
     "name": "stdout",
     "output_type": "stream",
     "text": [
      "y= <class 'jaxlib.xla_extension.ArrayImpl'>\n",
      "Dot test passed, v^H(Opu)=-21.916141510009766 - u^H(Op^Hv)=-21.916139602661133\n",
      "50.5 µs ± 5.97 µs per loop (mean ± std. dev. of 2 runs, 10 loops each)\n",
      "47.9 µs ± 4.83 µs per loop (mean ± std. dev. of 2 runs, 10 loops each)\n"
     ]
    }
   ],
   "source": [
    "n = 100\n",
    "\n",
    "shift = 1.5\n",
    "Sop = pylops.signalprocessing.Shift(n, shift, sampling=1., real=True, dtype=np.float64)\n",
    "x = np.ones(n)\n",
    "y = Sop @ x\n",
    "\n",
    "Sopjax = JaxOperator(pylops.signalprocessing.Shift(n, shift, sampling=1., real=True, dtype='float32'))\n",
    "xjnp = jnp.array(x).astype(jnp.float32)\n",
    "yjnp = (Sopjax @ xjnp).block_until_ready()\n",
    "print('y=', type(yjnp))\n",
    "\n",
    "dottest(Sopjax, backend='jax', verb=True, atol=1e-2)\n",
    "\n",
    "%timeit -n 10 -r 2 Sop @ x\n",
    "%timeit -n 10 -r 2 (Sopjax @ xjnp).block_until_ready()"
   ]
  },
  {
   "cell_type": "code",
   "execution_count": 52,
   "id": "66e042ba",
   "metadata": {},
   "outputs": [
    {
     "name": "stdout",
     "output_type": "stream",
     "text": [
      "y= <class 'jaxlib.xla_extension.ArrayImpl'>\n",
      "Dot test passed, v^H(Opu)=64.58868408203125 - u^H(Op^Hv)=64.5887451171875\n",
      "83.5 µs ± 4.74 µs per loop (mean ± std. dev. of 2 runs, 10 loops each)\n",
      "45.1 µs ± 5.63 µs per loop (mean ± std. dev. of 2 runs, 10 loops each)\n"
     ]
    }
   ],
   "source": [
    "n = 100\n",
    "\n",
    "shift = 1.5\n",
    "Sop = pylops.signalprocessing.Shift((10, n), shift, sampling=1., real=True, dtype=np.float64)\n",
    "x = np.ones(10*n)\n",
    "y = Sop @ x\n",
    "\n",
    "Sopjax = JaxOperator(pylops.signalprocessing.Shift((10, n), shift, sampling=1., real=True, dtype='float32'))\n",
    "xjnp = jnp.array(x).astype(jnp.float32)\n",
    "yjnp = (Sopjax @ xjnp).block_until_ready()\n",
    "print('y=', type(yjnp))\n",
    "\n",
    "dottest(Sopjax, backend='jax', verb=True, atol=1e-2)\n",
    "\n",
    "%timeit -n 10 -r 2 Sop @ x\n",
    "%timeit -n 10 -r 2 (Sopjax @ xjnp).block_until_ready()"
   ]
  },
  {
   "cell_type": "markdown",
   "id": "390c93f1",
   "metadata": {},
   "source": [
    "## Sliding1D"
   ]
  },
  {
   "cell_type": "code",
   "execution_count": 53,
   "id": "bcdf0e9b",
   "metadata": {},
   "outputs": [
    {
     "name": "stderr",
     "output_type": "stream",
     "text": [
      "WARNING: 2 windows required...\n",
      "WARNING: data wins - start:[ 0 23], end:[26 49]\n",
      "WARNING: model wins - start:[ 0 26], end:[26 52]\n"
     ]
    },
    {
     "name": "stdout",
     "output_type": "stream",
     "text": [
      "y= <class 'jaxlib.xla_extension.ArrayImpl'>\n",
      "Dot test passed, v^H(Opu)=-2.105905771255493 - u^H(Op^Hv)=-2.105905771255493\n",
      "51.4 µs ± 6.6 µs per loop (mean ± std. dev. of 2 runs, 10 loops each)\n",
      "25.5 µs ± 3.86 µs per loop (mean ± std. dev. of 2 runs, 10 loops each)\n"
     ]
    }
   ],
   "source": [
    "from pylops.signalprocessing.sliding1d import sliding1d_design\n",
    "\n",
    "dimd = 49\n",
    "nwin = 26\n",
    "nover = 3\n",
    "nwins, dim, mwin_inends, dwin_inends = sliding1d_design(dimd, nwin, nover, nwin)\n",
    "\n",
    "Op = Identity(nwin, nwin)\n",
    "Sop = Sliding1D(Op.H, dim, dimd, nwin, nover, tapertype='cosine')\n",
    "x = np.ones(dim)\n",
    "y = Sop * x\n",
    "\n",
    "Opjax = JaxOperator(Identity(nwin, nwin, dtype='float32'))\n",
    "Sopjax = JaxOperator(Sliding1D(Opjax.H, dim, dimd, nwin, nover, tapertype='cosine'))\n",
    "xjnp = jnp.array(x).astype(jnp.float32)\n",
    "yjnp = (Sopjax @ xjnp).block_until_ready()\n",
    "print('y=', type(yjnp))\n",
    "\n",
    "dottest(Sopjax, backend='jax', verb=True, atol=1e-2)\n",
    "\n",
    "%timeit -n 10 -r 2 Sop @ x\n",
    "%timeit -n 10 -r 2 (Sopjax @ xjnp).block_until_ready()"
   ]
  },
  {
   "cell_type": "markdown",
   "id": "74dbedc7",
   "metadata": {},
   "source": [
    "## Sliding2D"
   ]
  },
  {
   "cell_type": "code",
   "execution_count": 54,
   "id": "11d519df",
   "metadata": {},
   "outputs": [
    {
     "name": "stderr",
     "output_type": "stream",
     "text": [
      "WARNING: 4 windows required...\n",
      "WARNING: data wins - start:[ 0 22 44 66], end:[26 48 70 92]\n",
      "WARNING: model wins - start:[  0 256 512 768], end:[ 256  512  768 1024]\n"
     ]
    },
    {
     "name": "stdout",
     "output_type": "stream",
     "text": [
      "y= <class 'jaxlib.xla_extension.ArrayImpl'>\n",
      "Dot test passed, v^H(Opu)=19.226972579956055 - u^H(Op^Hv)=19.226343154907227\n",
      "6.14 ms ± 961 µs per loop (mean ± std. dev. of 2 runs, 10 loops each)\n",
      "1.51 ms ± 22.3 µs per loop (mean ± std. dev. of 2 runs, 10 loops each)\n"
     ]
    }
   ],
   "source": [
    "from pylops.signalprocessing.sliding2d import sliding2d_design\n",
    "\n",
    "dimsd = (100, 50)\n",
    "nwin = 26\n",
    "nover = 4\n",
    "\n",
    "nwins, dims, mwin_inends, dwin_inends = sliding2d_design(dimsd, nwin, nover, (256, 256))\n",
    "Op = FFT2D((nwin, dimsd[1]), nffts=(256, 256))\n",
    "Sop = Sliding2D(Op.H, dims, dimsd, nwin, nover, tapertype=None)\n",
    "x = np.ones(Sop.dims)\n",
    "y = Sop @ x\n",
    "\n",
    "Opjax = JaxOperator(FFT2D((nwin, dimsd[1]), nffts=(256, 256), dtype='float32'))\n",
    "Sopjax = JaxOperator(Sliding2D(Opjax.H, dims, dimsd, nwin, nover, tapertype=None))\n",
    "xjnp = jnp.array(x).astype(jnp.float32)\n",
    "yjnp = (Sopjax @ xjnp).block_until_ready()\n",
    "print('y=', type(yjnp))\n",
    "\n",
    "dottest(Sopjax, backend='jax', verb=True, atol=1e-2)\n",
    "\n",
    "%timeit -n 10 -r 2 Sop @ x\n",
    "%timeit -n 10 -r 2 (Sopjax @ xjnp).block_until_ready()"
   ]
  },
  {
   "cell_type": "markdown",
   "id": "e0a200e8",
   "metadata": {},
   "source": [
    "## Fredholm1"
   ]
  },
  {
   "cell_type": "code",
   "execution_count": 55,
   "id": "665402f9",
   "metadata": {},
   "outputs": [
    {
     "name": "stdout",
     "output_type": "stream",
     "text": [
      "y= <class 'jaxlib.xla_extension.ArrayImpl'>\n",
      "Dot test passed, v^H(Opu)=55.578914642333984 - u^H(Op^Hv)=55.579063415527344\n",
      "46.5 µs ± 3.34 µs per loop (mean ± std. dev. of 2 runs, 10 loops each)\n",
      "160 µs ± 11.8 µs per loop (mean ± std. dev. of 2 runs, 10 loops each)\n"
     ]
    }
   ],
   "source": [
    "nt, nh1, nh2, nz = 100, 10, 7, 5\n",
    "h = np.ones((nt, nh1, nh2))\n",
    "\n",
    "Fop = pylops.signalprocessing.Fredholm1(h, nz)\n",
    "x = np.ones(Fop.dims)\n",
    "y = Fop @ x\n",
    "\n",
    "Fopjax = JaxOperator(pylops.signalprocessing.Fredholm1(h, nz))\n",
    "xjnp = jnp.array(x).astype(jnp.float32)\n",
    "yjnp = (Fopjax @ xjnp).block_until_ready()\n",
    "print('y=', type(yjnp))\n",
    "\n",
    "dottest(Fopjax, backend='jax', verb=True, atol=1e-2)\n",
    "\n",
    "%timeit -n 10 -r 2 Fop @ x\n",
    "%timeit -n 10 -r 2 (Fopjax @ xjnp).block_until_ready()"
   ]
  },
  {
   "cell_type": "markdown",
   "id": "86d9159c",
   "metadata": {},
   "source": [
    "## Poststack"
   ]
  },
  {
   "cell_type": "code",
   "execution_count": 56,
   "id": "eb573e58",
   "metadata": {},
   "outputs": [
    {
     "name": "stderr",
     "output_type": "stream",
     "text": [
      "/Users/ravasim/Desktop/KAUST/OpenSource/pylops/pylops/utils/signalprocessing.py:46: FutureWarning: A new implementation of convmtx is provided in v2.2.0 to match MATLAB's convmtx method as stated in the docstring. The implementation of convmtx provided prior to v2.2.0 was instead not consistent with the documentation. Users are highly encouraged to modify their codes accordingly.\n",
      "  warnings.warn(\n"
     ]
    },
    {
     "name": "stdout",
     "output_type": "stream",
     "text": [
      "y= <class 'jaxlib.xla_extension.ArrayImpl'>\n",
      "Dot test passed, v^H(Opu)=-0.3276890814304352 - u^H(Op^Hv)=-0.32768774032592773\n",
      "17.8 µs ± 4.55 µs per loop (mean ± std. dev. of 2 runs, 10 loops each)\n",
      "46.4 µs ± 4.81 µs per loop (mean ± std. dev. of 2 runs, 10 loops each)\n",
      "y= <class 'jaxlib.xla_extension.ArrayImpl'>\n",
      "Dot test passed, v^H(Opu)=-7.148036479949951 - u^H(Op^Hv)=-7.14804220199585\n",
      "The slowest run took 5.04 times longer than the fastest. This could mean that an intermediate result is being cached.\n",
      "105 µs ± 70.5 µs per loop (mean ± std. dev. of 2 runs, 10 loops each)\n",
      "47.2 µs ± 5.05 µs per loop (mean ± std. dev. of 2 runs, 10 loops each)\n"
     ]
    }
   ],
   "source": [
    "nt0 = 301\n",
    "dt0 = 0.004\n",
    "t0 = np.arange(nt0) * dt0\n",
    "\n",
    "ntwav = 41\n",
    "wav, twav, wavc = ricker(t0[: ntwav // 2 + 1], 20)\n",
    "\n",
    "for explicit in (True, False):\n",
    "    PPop = pylops.avo.poststack.PoststackLinearModelling(wav / 2, nt0=nt0, explicit=True)\n",
    "    x = np.zeros(nt0)\n",
    "    x[nt0//4:] = 1.\n",
    "    y = PPop @ x\n",
    "\n",
    "    PPopjax = JaxOperator(pylops.avo.poststack.PoststackLinearModelling(jnp.array(wav).astype(jnp.float32) / 2, \n",
    "                                                                        nt0=nt0, explicit=True))\n",
    "    xjnp = jnp.array(x).astype(jnp.float32)\n",
    "    yjnp = (PPopjax @ xjnp).block_until_ready()\n",
    "    print('y=', type(yjnp))\n",
    "\n",
    "    dottest(PPopjax, backend='jax', verb=True, atol=1e-2)\n",
    "\n",
    "    %timeit -n 10 -r 2 PPop @ x\n",
    "    %timeit -n 10 -r 2 (PPopjax @ xjnp).block_until_ready()"
   ]
  },
  {
   "cell_type": "markdown",
   "id": "412a9fce",
   "metadata": {},
   "source": [
    "## Prestack"
   ]
  },
  {
   "cell_type": "code",
   "execution_count": 57,
   "id": "564460fd",
   "metadata": {},
   "outputs": [
    {
     "name": "stdout",
     "output_type": "stream",
     "text": [
      "y= <class 'jaxlib.xla_extension.ArrayImpl'>\n",
      "Dot test passed, v^H(Opu)=6.903024673461914 - u^H(Op^Hv)=6.903029441833496\n",
      "42.1 µs ± 4.14 µs per loop (mean ± std. dev. of 2 runs, 10 loops each)\n",
      "28.8 µs ± 3.96 µs per loop (mean ± std. dev. of 2 runs, 10 loops each)\n",
      "y= <class 'jaxlib.xla_extension.ArrayImpl'>\n",
      "Dot test passed, v^H(Opu)=-46.652462005615234 - u^H(Op^Hv)=-46.652435302734375\n",
      "38 µs ± 2.33 µs per loop (mean ± std. dev. of 2 runs, 10 loops each)\n",
      "25.3 µs ± 1.81 µs per loop (mean ± std. dev. of 2 runs, 10 loops each)\n"
     ]
    }
   ],
   "source": [
    "theta = np.arange(0, 30., 5.).astype(np.float32)\n",
    "\n",
    "for vsvp in (0.5, np.ones(nt0)):\n",
    "    PPop = pylops.avo.avo.AVOLinearModelling(\n",
    "        theta, vsvp=vsvp, nt0=nt0, linearization=\"akirich\", dtype=np.float64\n",
    "    )\n",
    "    x = np.zeros(3*nt0)\n",
    "    y = PPop @ x\n",
    "\n",
    "    PPopjax = JaxOperator(pylops.avo.avo.AVOLinearModelling(jnp.array(theta).astype(jnp.float32), \n",
    "                                                            vsvp=vsvp, nt0=nt0, \n",
    "                                                            linearization=\"akirich\", dtype=np.float32))\n",
    "    xjnp = jnp.array(x).astype(jnp.float32)\n",
    "    yjnp = (PPopjax @ xjnp).block_until_ready()\n",
    "    print('y=', type(yjnp))\n",
    "\n",
    "    dottest(PPopjax, backend='jax', verb=True, atol=1e-2)\n",
    "\n",
    "    %timeit -n 10 -r 2 PPop @ x\n",
    "    %timeit -n 10 -r 2 (PPopjax @ xjnp).block_until_ready()"
   ]
  },
  {
   "cell_type": "code",
   "execution_count": 58,
   "id": "d3a74c5a",
   "metadata": {},
   "outputs": [
    {
     "name": "stdout",
     "output_type": "stream",
     "text": [
      "True 0.5\n",
      "y= <class 'jaxlib.xla_extension.ArrayImpl'>\n",
      "Dot test passed, v^H(Opu)=23.199710845947266 - u^H(Op^Hv)=23.199716567993164\n",
      "1.16 ms ± 21.8 µs per loop (mean ± std. dev. of 2 runs, 10 loops each)\n",
      "253 µs ± 53.6 µs per loop (mean ± std. dev. of 2 runs, 10 loops each)\n",
      "True [1. 1. 1. 1. 1. 1. 1. 1. 1. 1. 1. 1. 1. 1. 1. 1. 1. 1. 1. 1. 1. 1. 1. 1.\n",
      " 1. 1. 1. 1. 1. 1. 1. 1. 1. 1. 1. 1. 1. 1. 1. 1. 1. 1. 1. 1. 1. 1. 1. 1.\n",
      " 1. 1. 1. 1. 1. 1. 1. 1. 1. 1. 1. 1. 1. 1. 1. 1. 1. 1. 1. 1. 1. 1. 1. 1.\n",
      " 1. 1. 1. 1. 1. 1. 1. 1. 1. 1. 1. 1. 1. 1. 1. 1. 1. 1. 1. 1. 1. 1. 1. 1.\n",
      " 1. 1. 1. 1. 1. 1. 1. 1. 1. 1. 1. 1. 1. 1. 1. 1. 1. 1. 1. 1. 1. 1. 1. 1.\n",
      " 1. 1. 1. 1. 1. 1. 1. 1. 1. 1. 1. 1. 1. 1. 1. 1. 1. 1. 1. 1. 1. 1. 1. 1.\n",
      " 1. 1. 1. 1. 1. 1. 1. 1. 1. 1. 1. 1. 1. 1. 1. 1. 1. 1. 1. 1. 1. 1. 1. 1.\n",
      " 1. 1. 1. 1. 1. 1. 1. 1. 1. 1. 1. 1. 1. 1. 1. 1. 1. 1. 1. 1. 1. 1. 1. 1.\n",
      " 1. 1. 1. 1. 1. 1. 1. 1. 1. 1. 1. 1. 1. 1. 1. 1. 1. 1. 1. 1. 1. 1. 1. 1.\n",
      " 1. 1. 1. 1. 1. 1. 1. 1. 1. 1. 1. 1. 1. 1. 1. 1. 1. 1. 1. 1. 1. 1. 1. 1.\n",
      " 1. 1. 1. 1. 1. 1. 1. 1. 1. 1. 1. 1. 1. 1. 1. 1. 1. 1. 1. 1. 1. 1. 1. 1.\n",
      " 1. 1. 1. 1. 1. 1. 1. 1. 1. 1. 1. 1. 1. 1. 1. 1. 1. 1. 1. 1. 1. 1. 1. 1.\n",
      " 1. 1. 1. 1. 1. 1. 1. 1. 1. 1. 1. 1. 1.]\n",
      "y= <class 'jaxlib.xla_extension.ArrayImpl'>\n",
      "Dot test passed, v^H(Opu)=19.122455596923828 - u^H(Op^Hv)=19.122453689575195\n",
      "245 µs ± 73 µs per loop (mean ± std. dev. of 2 runs, 10 loops each)\n",
      "196 µs ± 30.3 µs per loop (mean ± std. dev. of 2 runs, 10 loops each)\n"
     ]
    }
   ],
   "source": [
    "theta = np.arange(0, 30., 5.).astype(np.float32)\n",
    "\n",
    "for explicit in (True,): # False):\n",
    "    for vsvp in (0.5, np.ones(nt0)):\n",
    "        print(explicit, vsvp)\n",
    "        PPop = pylops.avo.prestack.PrestackLinearModelling(\n",
    "            wav, theta, vsvp=vsvp, nt0=nt0, linearization=\"akirich\", explicit=explicit,\n",
    "        )\n",
    "        x = np.zeros(3*nt0)\n",
    "        y = PPop @ x\n",
    "\n",
    "        PPopjax = JaxOperator(pylops.avo.prestack.PrestackLinearModelling(jnp.array(wav).astype(jnp.float32), \n",
    "                                                                          jnp.array(theta).astype(jnp.float32), \n",
    "                                                                          vsvp=vsvp, nt0=nt0, \n",
    "                                                                          linearization=\"akirich\", \n",
    "                                                                          explicit=explicit))\n",
    "        xjnp = jnp.array(x).astype(jnp.float32)\n",
    "        yjnp = (PPopjax @ xjnp).block_until_ready()\n",
    "        print('y=', type(yjnp))\n",
    "\n",
    "        dottest(PPopjax, backend='jax', verb=True, atol=1e-2)\n",
    "\n",
    "        %timeit -n 10 -r 2 PPop @ x\n",
    "        %timeit -n 10 -r 2 (PPopjax @ xjnp).block_until_ready()"
   ]
  },
  {
   "cell_type": "code",
   "execution_count": 59,
   "id": "9fc5c25e",
   "metadata": {},
   "outputs": [
    {
     "name": "stdout",
     "output_type": "stream",
     "text": [
      "0.5\n",
      "y= <class 'jaxlib.xla_extension.ArrayImpl'>\n",
      "Dot test passed, v^H(Opu)=0.0 - u^H(Op^Hv)=0.0\n",
      "44.2 µs ± 5.11 µs per loop (mean ± std. dev. of 2 runs, 10 loops each)\n",
      "50.8 µs ± 3.6 µs per loop (mean ± std. dev. of 2 runs, 10 loops each)\n",
      "[1. 1. 1. 1. 1. 1. 1. 1. 1. 1. 1. 1. 1. 1. 1. 1. 1. 1. 1. 1. 1. 1. 1. 1.\n",
      " 1. 1. 1. 1. 1. 1. 1. 1. 1. 1. 1. 1. 1. 1. 1. 1. 1. 1. 1. 1. 1. 1. 1. 1.\n",
      " 1. 1. 1. 1. 1. 1. 1. 1. 1. 1. 1. 1. 1. 1. 1. 1. 1. 1. 1. 1. 1. 1. 1. 1.\n",
      " 1. 1. 1. 1. 1. 1. 1. 1. 1. 1. 1. 1. 1. 1. 1. 1. 1. 1. 1. 1. 1. 1. 1. 1.\n",
      " 1. 1. 1. 1. 1. 1. 1. 1. 1. 1. 1. 1. 1. 1. 1. 1. 1. 1. 1. 1. 1. 1. 1. 1.\n",
      " 1. 1. 1. 1. 1. 1. 1. 1. 1. 1. 1. 1. 1. 1. 1. 1. 1. 1. 1. 1. 1. 1. 1. 1.\n",
      " 1. 1. 1. 1. 1. 1. 1. 1. 1. 1. 1. 1. 1. 1. 1. 1. 1. 1. 1. 1. 1. 1. 1. 1.\n",
      " 1. 1. 1. 1. 1. 1. 1. 1. 1. 1. 1. 1. 1. 1. 1. 1. 1. 1. 1. 1. 1. 1. 1. 1.\n",
      " 1. 1. 1. 1. 1. 1. 1. 1. 1. 1. 1. 1. 1. 1. 1. 1. 1. 1. 1. 1. 1. 1. 1. 1.\n",
      " 1. 1. 1. 1. 1. 1. 1. 1. 1. 1. 1. 1. 1. 1. 1. 1. 1. 1. 1. 1. 1. 1. 1. 1.\n",
      " 1. 1. 1. 1. 1. 1. 1. 1. 1. 1. 1. 1. 1. 1. 1. 1. 1. 1. 1. 1. 1. 1. 1. 1.\n",
      " 1. 1. 1. 1. 1. 1. 1. 1. 1. 1. 1. 1. 1. 1. 1. 1. 1. 1. 1. 1. 1. 1. 1. 1.\n",
      " 1. 1. 1. 1. 1. 1. 1. 1. 1. 1. 1. 1. 1.]\n",
      "y= <class 'jaxlib.xla_extension.ArrayImpl'>\n",
      "Dot test passed, v^H(Opu)=0.0 - u^H(Op^Hv)=0.0\n",
      "42.3 µs ± 3.32 µs per loop (mean ± std. dev. of 2 runs, 10 loops each)\n",
      "39.7 µs ± 2.74 µs per loop (mean ± std. dev. of 2 runs, 10 loops each)\n"
     ]
    }
   ],
   "source": [
    "theta = np.arange(0, 30., 5.).astype(np.float32)\n",
    "\n",
    "for vsvp in (0.5, np.ones(nt0)):\n",
    "    print(vsvp)\n",
    "    x = np.zeros((nt0, 3))\n",
    "    PPop = pylops.avo.prestack.PrestackWaveletModelling(\n",
    "        x, theta, vsvp=vsvp, nwav=nt//4, wavc=nt//8, linearization=\"akirich\", \n",
    "    )\n",
    "    wav = np.zeros(nt//4)\n",
    "    y = PPop @ wav\n",
    "\n",
    "    PPopjax = JaxOperator(pylops.avo.prestack.PrestackWaveletModelling(\n",
    "        jnp.array(x).astype(jnp.float32), jnp.array(theta).astype(jnp.float32), \n",
    "        vsvp=vsvp, nwav=nt//4, wavc=nt//8, linearization=\"akirich\"))\n",
    "    wavjnp = jnp.array(wav).astype(jnp.float32)\n",
    "    yjnp = (PPopjax @ wavjnp).block_until_ready()\n",
    "    print('y=', type(yjnp))\n",
    "\n",
    "    dottest(PPopjax, backend='jax', verb=True, atol=1e-2)\n",
    "\n",
    "    %timeit -n 10 -r 2 PPop @ wav\n",
    "    %timeit -n 10 -r 2 (PPopjax @ wavjnp).block_until_ready()"
   ]
  },
  {
   "cell_type": "markdown",
   "id": "090b2314",
   "metadata": {},
   "source": [
    "## PressureToVelocity"
   ]
  },
  {
   "cell_type": "code",
   "execution_count": 60,
   "id": "2cc0277e",
   "metadata": {},
   "outputs": [
    {
     "name": "stderr",
     "output_type": "stream",
     "text": [
      "/Users/ravasim/Desktop/KAUST/OpenSource/pylops/pylops/waveeqprocessing/wavedecomposition.py:135: RuntimeWarning: divide by zero encountered in divide\n",
      "  OBL = Kz / (rho * np.abs(F))\n",
      "/Users/ravasim/Desktop/KAUST/OpenSource/pylops/pylops/waveeqprocessing/wavedecomposition.py:135: RuntimeWarning: invalid value encountered in divide\n",
      "  OBL = Kz / (rho * np.abs(F))\n",
      "/opt/anaconda3/envs/pylops/lib/python3.9/site-packages/jax/_src/numpy/array_methods.py:733: UserWarning: Explicitly requested dtype complex128 requested in astype is not available, and will be truncated to dtype complex64. To enable more dtypes, set the jax_enable_x64 configuration option or the JAX_ENABLE_X64 shell environment variable. See https://github.com/google/jax#current-gotchas for more.\n",
      "  return getattr(self.aval, name).fun(self, *args, **kwargs)\n"
     ]
    },
    {
     "name": "stdout",
     "output_type": "stream",
     "text": [
      "y= <class 'jaxlib.xla_extension.ArrayImpl'>\n",
      "Dot test passed, v^H(Opu)=(4.5178489926911425e-06+1.710300523427577e-08j) - u^H(Op^Hv)=(4.517860361374915e-06+1.7101630334082074e-08j)\n",
      "2.06 ms ± 283 ns per loop (mean ± std. dev. of 2 runs, 10 loops each)\n",
      "700 µs ± 10.2 µs per loop (mean ± std. dev. of 2 runs, 10 loops each)\n"
     ]
    }
   ],
   "source": [
    "Pop = pylops.waveeqprocessing.PressureToVelocity(\n",
    "    100, 20, 0.004, 1, 1000, 1000, nffts=(256, 256), ntaper=5, topressure=False)\n",
    "x = np.ones(100*20)\n",
    "y = Pop @ x\n",
    "\n",
    "Popjax = JaxOperator(pylops.waveeqprocessing.PressureToVelocity(\n",
    "    100, 20, 0.004, 1, 1000, 1000, nffts=(256, 256), ntaper=5, topressure=False))\n",
    "xjnp = jnp.array(x).astype(jnp.float32)\n",
    "yjnp = (Popjax @ xjnp).block_until_ready()\n",
    "print('y=', type(yjnp))\n",
    "\n",
    "dottest(Popjax, backend='jax', verb=True, atol=1e-2)\n",
    "\n",
    "%timeit -n 10 -r 2 Pop @ x\n",
    "%timeit -n 10 -r 2 (Popjax @ xjnp).block_until_ready()"
   ]
  },
  {
   "cell_type": "markdown",
   "id": "120c4083",
   "metadata": {},
   "source": [
    "## UpDownComposition"
   ]
  },
  {
   "cell_type": "code",
   "execution_count": 61,
   "id": "515e8a35",
   "metadata": {},
   "outputs": [
    {
     "name": "stdout",
     "output_type": "stream",
     "text": [
      "y= <class 'jaxlib.xla_extension.ArrayImpl'>\n",
      "Dot test passed, v^H(Opu)=(31.831830978393555-5.285550628286728e-07j) - u^H(Op^Hv)=(31.83177947998047+3.0859558819429367e-07j)\n",
      "4.76 ms ± 102 µs per loop (mean ± std. dev. of 2 runs, 10 loops each)\n",
      "1.6 ms ± 44.7 µs per loop (mean ± std. dev. of 2 runs, 10 loops each)\n"
     ]
    }
   ],
   "source": [
    "Pop = pylops.waveeqprocessing.UpDownComposition2D(\n",
    "    100, 20, 0.004, 1, 1000, 1000, nffts=(256, 256), ntaper=5, dtype=np.complex64)\n",
    "x = np.ones(2*100*20)\n",
    "y = Pop @ x\n",
    "\n",
    "Popjax = JaxOperator(pylops.waveeqprocessing.UpDownComposition2D(\n",
    "    100, 20, 0.004, 1, 1000, 1000, nffts=(256, 256), ntaper=5, dtype=np.complex64))\n",
    "xjnp = jnp.array(x).astype(jnp.float32)\n",
    "yjnp = (Popjax @ xjnp).block_until_ready()\n",
    "print('y=', type(yjnp))\n",
    "\n",
    "dottest(Popjax, backend='jax', verb=True, atol=1e-2)\n",
    "\n",
    "%timeit -n 10 -r 2 Pop @ x\n",
    "%timeit -n 10 -r 2 (Popjax @ xjnp).block_until_ready()"
   ]
  },
  {
   "cell_type": "code",
   "execution_count": 62,
   "id": "4a76bfe0",
   "metadata": {},
   "outputs": [
    {
     "name": "stderr",
     "output_type": "stream",
     "text": [
      "/Users/ravasim/Desktop/KAUST/OpenSource/pylops/pylops/waveeqprocessing/wavedecomposition.py:223: RuntimeWarning: divide by zero encountered in divide\n",
      "  OBL = Kz / (rho * np.abs(F))\n",
      "/Users/ravasim/Desktop/KAUST/OpenSource/pylops/pylops/waveeqprocessing/wavedecomposition.py:223: RuntimeWarning: invalid value encountered in divide\n",
      "  OBL = Kz / (rho * np.abs(F))\n"
     ]
    },
    {
     "name": "stdout",
     "output_type": "stream",
     "text": [
      "y= <class 'jaxlib.xla_extension.ArrayImpl'>\n",
      "Dot test passed, v^H(Opu)=(29.866849899291992-2.5170536446239566e-06j) - u^H(Op^Hv)=(29.86686897277832-1.1114821063529234e-06j)\n",
      "382 ms ± 18.5 ms per loop (mean ± std. dev. of 2 runs, 4 loops each)\n",
      "129 ms ± 3.42 ms per loop (mean ± std. dev. of 2 runs, 4 loops each)\n"
     ]
    }
   ],
   "source": [
    "Pop = pylops.waveeqprocessing.UpDownComposition3D(\n",
    "    30, (20, 10), 0.004, (1, 1), 1000, 1000, nffts=(128, 128, 128), ntaper=5, fftengine='numpy', dtype=np.complex64)\n",
    "x = np.ones(2*30*20*10)\n",
    "y = Pop @ x\n",
    "\n",
    "Popjax = JaxOperator(pylops.waveeqprocessing.UpDownComposition3D(\n",
    "    30, (20, 10), 0.004, (1, 1), 1000, 1000, nffts=(128, 128, 128), ntaper=5, fftengine='numpy', dtype=np.complex64))\n",
    "xjnp = jnp.array(x).astype(jnp.float32)\n",
    "yjnp = (Popjax @ xjnp).block_until_ready()\n",
    "print('y=', type(yjnp))\n",
    "\n",
    "dottest(Popjax, backend='jax', verb=True, atol=1e-2)\n",
    "\n",
    "%timeit -n 4 -r 2 Pop @ x\n",
    "%timeit -n 4 -r 2 (Popjax @ xjnp).block_until_ready()"
   ]
  },
  {
   "cell_type": "markdown",
   "id": "c49915d8",
   "metadata": {},
   "source": [
    "## BlendingContinuous"
   ]
  },
  {
   "cell_type": "code",
   "execution_count": 63,
   "id": "49152810",
   "metadata": {},
   "outputs": [
    {
     "name": "stdout",
     "output_type": "stream",
     "text": [
      "y= <class 'jaxlib.xla_extension.ArrayImpl'>\n",
      "Dot test passed, v^H(Opu)=-41.90353775024414 - u^H(Op^Hv)=-41.90357208251953\n",
      "231 µs ± 31.1 µs per loop (mean ± std. dev. of 2 runs, 4 loops each)\n",
      "66.8 µs ± 13.4 µs per loop (mean ± std. dev. of 2 runs, 4 loops each)\n",
      "y= <class 'jaxlib.xla_extension.ArrayImpl'>\n",
      "Dot test passed, v^H(Opu)=-5.632740497589111 - u^H(Op^Hv)=-5.63276481628418\n",
      "510 µs ± 54.3 µs per loop (mean ± std. dev. of 2 runs, 4 loops each)\n",
      "169 µs ± 20 µs per loop (mean ± std. dev. of 2 runs, 4 loops each)\n"
     ]
    }
   ],
   "source": [
    "nt, nr, ns = 100, 2, 4\n",
    "\n",
    "for shiftall in (True, False):\n",
    "    Bop = pylops.waveeqprocessing.BlendingContinuous(nt, nr, ns, 0.004, 0.002*np.ones(ns), \n",
    "                                                     shiftall=shiftall, dtype=np.float32)\n",
    "    x = np.ones(Bop.shape[1])\n",
    "    y = Bop @ x\n",
    "\n",
    "    Bopjax = JaxOperator(pylops.waveeqprocessing.BlendingContinuous(nt, nr, ns, 0.004, 0.002*np.ones(ns), \n",
    "                                                                    shiftall=shiftall, dtype=np.float32))\n",
    "    xjnp = jnp.array(x).astype(jnp.float32)\n",
    "    yjnp = (Bopjax @ xjnp).block_until_ready()\n",
    "    print('y=', type(yjnp))\n",
    "\n",
    "    dottest(Bopjax, backend='jax', verb=True, atol=1e-2)\n",
    "\n",
    "    %timeit -n 4 -r 2 Bop @ x\n",
    "    %timeit -n 4 -r 2 (Bopjax @ xjnp).block_until_ready()"
   ]
  },
  {
   "cell_type": "markdown",
   "id": "e6e6e786",
   "metadata": {},
   "source": [
    "## BlendingGroup"
   ]
  },
  {
   "cell_type": "code",
   "execution_count": 64,
   "id": "8b42bdf6",
   "metadata": {},
   "outputs": [
    {
     "name": "stdout",
     "output_type": "stream",
     "text": [
      "y= <class 'jaxlib.xla_extension.ArrayImpl'>\n",
      "Dot test passed, v^H(Opu)=-28.674692153930664 - u^H(Op^Hv)=-28.6746826171875\n",
      "345 µs ± 62 µs per loop (mean ± std. dev. of 2 runs, 4 loops each)\n",
      "69.4 µs ± 14 µs per loop (mean ± std. dev. of 2 runs, 4 loops each)\n"
     ]
    }
   ],
   "source": [
    "nt, nr, ns = 100, 2, 8\n",
    "Bop = pylops.waveeqprocessing.BlendingGroup(nt, nr, ns, 0.004, 0.002*np.ones((2, 4)), group_size=2, n_groups=4, \n",
    "                                            dtype=np.float32)\n",
    "x = np.ones(Bop.shape[1])\n",
    "y = Bop @ x\n",
    "\n",
    "Bopjax = JaxOperator(pylops.waveeqprocessing.BlendingGroup(nt, nr, ns, 0.004, 0.002*np.ones((2, 4)), group_size=2, n_groups=4, \n",
    "                                                           dtype=np.float32))\n",
    "xjnp = jnp.array(x).astype(jnp.float32)\n",
    "yjnp = (Bopjax @ xjnp).block_until_ready()\n",
    "print('y=', type(yjnp))\n",
    "\n",
    "dottest(Bopjax, backend='jax', verb=True, atol=1e-2)\n",
    "\n",
    "%timeit -n 4 -r 2 Bop @ x\n",
    "%timeit -n 4 -r 2 (Bopjax @ xjnp).block_until_ready()"
   ]
  },
  {
   "cell_type": "markdown",
   "id": "f8d5d400",
   "metadata": {},
   "source": [
    "## BlendingHalf"
   ]
  },
  {
   "cell_type": "code",
   "execution_count": 65,
   "id": "4fae928d",
   "metadata": {},
   "outputs": [
    {
     "name": "stdout",
     "output_type": "stream",
     "text": [
      "y= <class 'jaxlib.xla_extension.ArrayImpl'>\n",
      "Dot test passed, v^H(Opu)=2.5328550338745117 - u^H(Op^Hv)=2.5328428745269775\n",
      "295 µs ± 20.7 µs per loop (mean ± std. dev. of 2 runs, 4 loops each)\n",
      "71.5 µs ± 12.2 µs per loop (mean ± std. dev. of 2 runs, 4 loops each)\n"
     ]
    }
   ],
   "source": [
    "nt, nr, ns = 100, 2, 8\n",
    "Bop = pylops.waveeqprocessing.BlendingHalf(nt, nr, ns, 0.004, 0.002*np.ones((2, 4)), group_size=2, n_groups=4, \n",
    "                                            dtype=np.float32)\n",
    "x = np.ones(Bop.shape[1])\n",
    "y = Bop @ x\n",
    "\n",
    "Bopjax = JaxOperator(pylops.waveeqprocessing.BlendingHalf(nt, nr, ns, 0.004, 0.002*np.ones((2, 4)), group_size=2, n_groups=4, \n",
    "                                                          dtype=np.float32))\n",
    "\n",
    "xjnp = jnp.array(x).astype(jnp.float32)\n",
    "yjnp = (Bopjax @ xjnp).block_until_ready()\n",
    "print('y=', type(yjnp))\n",
    "\n",
    "dottest(Bopjax, backend='jax', verb=True, atol=1e-2)\n",
    "\n",
    "%timeit -n 4 -r 2 Bop @ x\n",
    "%timeit -n 4 -r 2 (Bopjax @ xjnp).block_until_ready()"
   ]
  },
  {
   "cell_type": "markdown",
   "id": "2f3dbefc",
   "metadata": {},
   "source": [
    "## MDC"
   ]
  },
  {
   "cell_type": "code",
   "execution_count": 66,
   "id": "7bac914b",
   "metadata": {},
   "outputs": [
    {
     "name": "stdout",
     "output_type": "stream",
     "text": [
      "y= <class 'jaxlib.xla_extension.ArrayImpl'>\n",
      "Dot test passed, v^H(Opu)=1.1786248683929443 - u^H(Op^Hv)=1.1786240339279175\n",
      "209 µs ± 25.5 µs per loop (mean ± std. dev. of 2 runs, 4 loops each)\n",
      "79.5 µs ± 8.98 µs per loop (mean ± std. dev. of 2 runs, 4 loops each)\n",
      "y= <class 'jaxlib.xla_extension.ArrayImpl'>\n",
      "Dot test passed, v^H(Opu)=3.2770657539367676 - u^H(Op^Hv)=3.2770698070526123\n",
      "260 µs ± 27 µs per loop (mean ± std. dev. of 2 runs, 4 loops each)\n",
      "75.9 µs ± 5.85 µs per loop (mean ± std. dev. of 2 runs, 4 loops each)\n"
     ]
    }
   ],
   "source": [
    "for usematmul in (True, False):\n",
    "    # Create operator\n",
    "    nt = 51\n",
    "    MDCop = pylops.waveeqprocessing.MDC(\n",
    "        (np.ones((20, 5, 4)) + 1j* np.ones((20, 5, 4))).astype(np.complex64),\n",
    "        nt=2 * nt - 1,\n",
    "        nv=2,\n",
    "        dt=0.004,\n",
    "        dr=1.0,\n",
    "        usematmul=usematmul\n",
    "    )\n",
    "    x = np.ones(MDCop.shape[1])\n",
    "    y = MDCop @ x\n",
    "\n",
    "    MDCopjax = JaxOperator(pylops.waveeqprocessing.MDC(\n",
    "        jnp.array((np.ones((20, 5, 4)) + 1j* np.ones((20, 5, 4)))).astype(np.complex64),\n",
    "        nt=2 * nt - 1,\n",
    "        nv=2,\n",
    "        dt=0.004,\n",
    "        dr=1.0,\n",
    "        usematmul=usematmul\n",
    "    ))\n",
    "\n",
    "    xjnp = jnp.array(x).astype(jnp.float32)\n",
    "    yjnp = (MDCopjax @ xjnp).block_until_ready()\n",
    "    print('y=', type(yjnp))\n",
    "\n",
    "    dottest(MDCopjax, backend='jax', verb=True, atol=1e-2)\n",
    "\n",
    "    %timeit -n 4 -r 2 MDCop @ x\n",
    "    %timeit -n 4 -r 2 (MDCopjax @ xjnp).block_until_ready()"
   ]
  },
  {
   "cell_type": "markdown",
   "id": "d26018b9",
   "metadata": {},
   "source": [
    "## PhaseShift"
   ]
  },
  {
   "cell_type": "code",
   "execution_count": 67,
   "id": "94810189",
   "metadata": {},
   "outputs": [
    {
     "name": "stdout",
     "output_type": "stream",
     "text": [
      "y= <class 'jaxlib.xla_extension.ArrayImpl'>\n",
      "Dot test passed, v^H(Opu)=-50.261837005615234 - u^H(Op^Hv)=-50.2617073059082\n",
      "649 µs ± 22.4 µs per loop (mean ± std. dev. of 2 runs, 4 loops each)\n",
      "246 µs ± 8.43 µs per loop (mean ± std. dev. of 2 runs, 4 loops each)\n"
     ]
    }
   ],
   "source": [
    "nt, nx = 201, 31\n",
    "dt, dx = 0.004, 1\n",
    "vel = 1500.0\n",
    "zprop = 100\n",
    "pad = 5\n",
    "freq = np.fft.rfftfreq(nt, dt)\n",
    "kx = np.fft.fftshift(np.fft.fftfreq(nx + 2 * pad, dx))\n",
    "\n",
    "Pop = pylops.waveeqprocessing.PhaseShift(vel, zprop, nt, freq, kx, dtype=np.float32)\n",
    "x = np.ones(Pop.shape[1])\n",
    "y = Pop @ x\n",
    "\n",
    "Popjax = JaxOperator(pylops.waveeqprocessing.PhaseShift(vel, zprop, nt, freq, kx, dtype=np.float32))\n",
    "\n",
    "xjnp = jnp.array(x).astype(jnp.float32)\n",
    "yjnp = (Popjax @ xjnp).block_until_ready()\n",
    "print('y=', type(yjnp))\n",
    "\n",
    "dottest(Popjax, backend='jax', verb=True, atol=1e-2)\n",
    "\n",
    "%timeit -n 4 -r 2 Pop @ x\n",
    "%timeit -n 4 -r 2 (Popjax @ xjnp).block_until_ready()"
   ]
  }
 ],
 "metadata": {
  "kernelspec": {
   "display_name": "Python 3 (ipykernel)",
   "language": "python",
   "name": "python3"
  },
  "language_info": {
   "codemirror_mode": {
    "name": "ipython",
    "version": 3
   },
   "file_extension": ".py",
   "mimetype": "text/x-python",
   "name": "python",
   "nbconvert_exporter": "python",
   "pygments_lexer": "ipython3",
   "version": "3.9.18"
  },
  "toc": {
   "base_numbering": 1,
   "nav_menu": {
    "height": "12px",
    "width": "164px"
   },
   "number_sections": true,
   "sideBar": true,
   "skip_h1_title": false,
   "title_cell": "Table of Contents",
   "title_sidebar": "Contents",
   "toc_cell": false,
   "toc_position": {
    "height": "calc(100% - 180px)",
    "left": "10px",
    "top": "150px",
    "width": "287.984375px"
   },
   "toc_section_display": true,
   "toc_window_display": true
  }
 },
 "nbformat": 4,
 "nbformat_minor": 5
}
