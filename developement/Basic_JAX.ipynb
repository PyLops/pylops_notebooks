{
 "cells": [
  {
   "cell_type": "markdown",
   "id": "fb643aaa",
   "metadata": {},
   "source": [
    "# Pylops - basic linear operators with JAX\n",
    "\n",
    "### Author: M.Ravasi"
   ]
  },
  {
   "cell_type": "markdown",
   "id": "02f8384d",
   "metadata": {},
   "source": [
    "In this notebook I will test some of the basic linear operators implemented in *Pylops* with JAX backend"
   ]
  },
  {
   "cell_type": "code",
   "execution_count": 1,
   "id": "a644e45b",
   "metadata": {},
   "outputs": [
    {
     "name": "stderr",
     "output_type": "stream",
     "text": [
      "/opt/anaconda3/envs/pylops/lib/python3.9/site-packages/scipy/__init__.py:155: UserWarning: A NumPy version >=1.18.5 and <1.26.0 is required for this version of SciPy (detected version 1.26.2\n",
      "  warnings.warn(f\"A NumPy version >={np_minversion} and <{np_maxversion}\"\n"
     ]
    }
   ],
   "source": [
    "%load_ext autoreload\n",
    "%autoreload 2\n",
    "%matplotlib inline\n",
    "\n",
    "import os\n",
    "import numpy as np\n",
    "import matplotlib.pyplot as plt\n",
    "import scipy as sp\n",
    "import pylops\n",
    "import jax.numpy as jnp\n",
    "import jax\n",
    "\n",
    "from pylops.utils import dottest\n",
    "from pylops import LinearOperator\n",
    "from pylops import JaxOperator\n",
    "from pylops.basicoperators import *\n",
    "from pylops.signalprocessing import *\n",
    "from pylops.optimization.basic import cgls, lsqr\n",
    "from pylops.optimization.leastsquares import *\n",
    "\n",
    "os.environ[\"JAX_PYLOPS\"] = '1'"
   ]
  },
  {
   "cell_type": "raw",
   "id": "110cef28",
   "metadata": {},
   "source": [
    "class JaxOperator(LinearOperator):\n",
    "    def __init__(self, Op):\n",
    "        super().__init__(dtype=Op.dtype, dims=Op.dims, dimsd=Op.dimsd, name=Op.name)\n",
    "        self._matvec = jax.jit(Op._matvec)\n",
    "        self._rmatvec = jax.jit(Op._rmatvec)\n",
    "        \n",
    "    def _rmatvecad(self, x, y):\n",
    "        _, f_vjp = jax.vjp(self._matvec, x)\n",
    "        return jax.jit(f_vjp)(y)"
   ]
  },
  {
   "cell_type": "markdown",
   "id": "22f074c9",
   "metadata": {},
   "source": [
    "## Matrix Multiplication"
   ]
  },
  {
   "cell_type": "code",
   "execution_count": 2,
   "id": "0883ba44",
   "metadata": {},
   "outputs": [
    {
     "name": "stderr",
     "output_type": "stream",
     "text": [
      "WARNING: All log messages before absl::InitializeLog() is called are written to STDERR\n",
      "I0000 00:00:1719163437.621939       1 tfrt_cpu_pjrt_client.cc:349] TfrtCpuClient created.\n"
     ]
    },
    {
     "name": "stdout",
     "output_type": "stream",
     "text": [
      "y= <class 'jaxlib.xla_extension.ArrayImpl'>\n",
      "Dot test passed, v^H(Opu)=3.303278684616089 - u^H(Op^Hv)=3.303278684616089\n",
      "8.04 µs ± 2.95 µs per loop (mean ± std. dev. of 2 runs, 10 loops each)\n",
      "41.6 µs ± 7.6 µs per loop (mean ± std. dev. of 2 runs, 10 loops each)\n"
     ]
    }
   ],
   "source": [
    "ny, nx = 4, 4\n",
    "\n",
    "G = np.random.normal(0, 1, (ny,nx)).astype('float32')\n",
    "Gop = MatrixMult(G, dtype='float32')\n",
    "x = np.ones(nx, dtype='float32')\n",
    "y = Gop @ x\n",
    "\n",
    "Gopjax = JaxOperator(MatrixMult(jnp.array(G), dtype='float32'))\n",
    "xjnp = jnp.ones(nx, dtype='float32')\n",
    "yjnp = (Gopjax @ xjnp).block_until_ready()\n",
    "print('y=', type(yjnp))\n",
    "\n",
    "dottest(Gopjax, ny, nx, backend='jax', verb=True, atol=1e-3)\n",
    "\n",
    "%timeit -n 10 -r 2 Gop @ x\n",
    "%timeit -n 10 -r 2 (Gopjax @ xjnp).block_until_ready()"
   ]
  },
  {
   "cell_type": "code",
   "execution_count": 3,
   "id": "a3158bc9",
   "metadata": {},
   "outputs": [
    {
     "data": {
      "text/plain": [
       "(Array([8.738094 , 2.6162288, 7.417057 , 4.5167336], dtype=float32),\n",
       " (Array([8.738094 , 2.6162288, 7.417057 , 4.516734 ], dtype=float32),))"
      ]
     },
     "execution_count": 3,
     "metadata": {},
     "output_type": "execute_result"
    }
   ],
   "source": [
    "# Using ad for rmatvec\n",
    "xxjnp = Gopjax.H @ yjnp\n",
    "xxjnpad = Gopjax._rmatvecad(xjnp, yjnp)\n",
    "\n",
    "xxjnp, xxjnpad"
   ]
  },
  {
   "cell_type": "code",
   "execution_count": 4,
   "id": "73494edf",
   "metadata": {},
   "outputs": [
    {
     "name": "stdout",
     "output_type": "stream",
     "text": [
      "CGLS\n",
      "-----------------------------------------------------------------\n",
      "The Operator Op has 4 rows and 4 cols\n",
      "damp = 0.000000e+00\ttol = 1.000000e-10\tniter = 100\n",
      "-----------------------------------------------------------------\n",
      "\n",
      "    Itn          x[0]              r1norm         r2norm\n",
      "     1        1.2394e+00         8.8929e-01     8.8929e-01\n",
      "     2        1.1484e+00         1.8027e-01     1.8027e-01\n",
      "     3        1.0727e+00         7.5803e-02     7.5803e-02\n",
      "     4        1.0000e+00         2.4448e-14     2.4448e-14\n",
      "\n",
      "Iterations = 4        Total time (s) = 0.00\n",
      "-----------------------------------------------------------------\n",
      "\n",
      "CGLS\n",
      "-----------------------------------------------------------------\n",
      "The Operator Op has 4 rows and 4 cols\n",
      "damp = 0.000000e+00\ttol = 1.000000e-10\tniter = 100\n",
      "-----------------------------------------------------------------\n",
      "\n",
      "    Itn          x[0]              r1norm         r2norm\n",
      "     1        1.2394e+00         8.8929e-01     8.8929e-01\n",
      "     2        1.1484e+00         1.8027e-01     1.8027e-01\n",
      "     3        1.0726e+00         7.5803e-02     7.5803e-02\n",
      "     4        1.0001e+00         2.1174e-04     2.1174e-04\n",
      "     5        1.0000e+00         1.6020e-08     1.6020e-08\n",
      "\n",
      "Iterations = 5        Total time (s) = 0.31\n",
      "-----------------------------------------------------------------\n",
      "\n"
     ]
    },
    {
     "data": {
      "text/plain": [
       "(array([1.00000014, 1.00000006, 0.99999978, 1.00000002]),\n",
       " Array([1.       , 1.       , 0.9999999, 0.9999999], dtype=float32))"
      ]
     },
     "execution_count": 4,
     "metadata": {},
     "output_type": "execute_result"
    }
   ],
   "source": [
    "# Inversion\n",
    "xcgls = cgls(Gop, y, x0=np.zeros(nx), \n",
    "             niter=100, tol=1e-10, show=True)[0]\n",
    "\n",
    "xcglsjnp = cgls(Gopjax, yjnp, x0=jnp.zeros(nx), \n",
    "                niter=100, tol=1e-10, show=True)[0]\n",
    "\n",
    "xcgls, xcglsjnp"
   ]
  },
  {
   "cell_type": "markdown",
   "id": "a601f7a4",
   "metadata": {},
   "source": [
    "## Identity"
   ]
  },
  {
   "cell_type": "code",
   "execution_count": 5,
   "id": "f30c097b",
   "metadata": {},
   "outputs": [
    {
     "name": "stdout",
     "output_type": "stream",
     "text": [
      "Dot test passed, v^H(Opu)=-3.3537943363189697 - u^H(Op^Hv)=-3.3537943363189697\n",
      "x  =  [0. 1. 2. 3. 4.]\n",
      "y  =  [0. 1. 2. 3. 4.] <class 'jaxlib.xla_extension.ArrayImpl'>\n",
      "y1  =  [0. 1. 2. 3. 4.] <class 'jaxlib.xla_extension.ArrayImpl'>\n",
      "6.49 µs ± 1.48 µs per loop (mean ± std. dev. of 2 runs, 10 loops each)\n",
      "54.2 µs ± 18.7 µs per loop (mean ± std. dev. of 2 runs, 10 loops each)\n"
     ]
    }
   ],
   "source": [
    "ny, nx = 5, 5 \n",
    "\n",
    "Iop = Identity(ny, nx, dtype='float32')\n",
    "x = np.arange(nx, dtype='float32')\n",
    "y = Iop @ x\n",
    "\n",
    "Iopjax = JaxOperator(Identity(ny, nx, dtype='float32'))\n",
    "xjnp = jnp.arange(nx, dtype='float32')\n",
    "yjnp = (Iopjax @ xjnp).block_until_ready()\n",
    "y1jnp = (Iopjax.H @ yjnp).block_until_ready()\n",
    "\n",
    "dottest(Iopjax, ny, nx, backend='jax', verb=True, atol=1e-3)\n",
    "\n",
    "print('x  = ', x)\n",
    "print('y  = ', yjnp, type(yjnp))\n",
    "print('y1  = ', y1jnp, type(y1jnp))\n",
    "\n",
    "%timeit -n 10 -r 2 Iop @ x\n",
    "%timeit -n 10 -r 2 (Iopjax @ xjnp).block_until_ready()"
   ]
  },
  {
   "cell_type": "code",
   "execution_count": 6,
   "id": "7282e965",
   "metadata": {},
   "outputs": [
    {
     "name": "stdout",
     "output_type": "stream",
     "text": [
      "Dot test passed, v^H(Opu)=0.44220054149627686 - u^H(Op^Hv)=0.44220054149627686\n",
      "x  =  [0. 1. 2. 3. 4. 5. 6.]\n",
      "y  =  [0. 1. 2. 3. 4.] <class 'jaxlib.xla_extension.ArrayImpl'>\n",
      "7.76 µs ± 419 ns per loop (mean ± std. dev. of 2 runs, 10 loops each)\n",
      "55.8 µs ± 19.7 µs per loop (mean ± std. dev. of 2 runs, 10 loops each)\n"
     ]
    }
   ],
   "source": [
    "ny, nx = 5, 7\n",
    "\n",
    "Iop = Identity(ny, nx, dtype='float32')\n",
    "x = np.arange(nx, dtype='float32')\n",
    "y = Iop @ x\n",
    "\n",
    "Iopjax = JaxOperator(Identity(ny, nx, dtype='float32'))\n",
    "xjnp = jnp.arange(nx, dtype='float32')\n",
    "yjnp = (Iopjax @ xjnp).block_until_ready()\n",
    "\n",
    "dottest(Iopjax, ny, nx, backend='jax', verb=True, atol=1e-3)\n",
    "\n",
    "print('x  = ', x)\n",
    "print('y  = ', yjnp, type(yjnp))\n",
    "\n",
    "%timeit -n 10 -r 2 Iop @ x\n",
    "%timeit -n 10 -r 2 (Iopjax @ xjnp).block_until_ready()"
   ]
  },
  {
   "cell_type": "code",
   "execution_count": 7,
   "id": "0bacae09",
   "metadata": {},
   "outputs": [
    {
     "name": "stdout",
     "output_type": "stream",
     "text": [
      "Dot test passed, v^H(Opu)=-0.8981446027755737 - u^H(Op^Hv)=-0.8981446027755737\n",
      "x  =  [0. 1. 2. 3. 4.]\n",
      "y  =  [0. 1. 2. 3. 4. 0. 0.] <class 'jaxlib.xla_extension.ArrayImpl'>\n",
      "9.84 µs ± 1.57 µs per loop (mean ± std. dev. of 2 runs, 10 loops each)\n",
      "46.4 µs ± 10.8 µs per loop (mean ± std. dev. of 2 runs, 10 loops each)\n"
     ]
    }
   ],
   "source": [
    "ny, nx = 7, 5\n",
    "\n",
    "Iop = Identity(ny, nx, dtype='float32')\n",
    "x = np.arange(nx, dtype='float32')\n",
    "y = Iop @ x\n",
    "\n",
    "Iopjax = JaxOperator(Identity(ny, nx, dtype='float32'))\n",
    "xjnp = jnp.arange(nx, dtype='float32')\n",
    "yjnp = (Iopjax @ xjnp).block_until_ready()\n",
    "\n",
    "dottest(Iopjax, ny, nx, backend='jax', verb=True, atol=1e-3)\n",
    "\n",
    "print('x  = ', x)\n",
    "print('y  = ', yjnp, type(yjnp))\n",
    "\n",
    "%timeit -n 10 -r 2 Iop @ x\n",
    "%timeit -n 10 -r 2 (Iopjax @ xjnp).block_until_ready()"
   ]
  },
  {
   "cell_type": "markdown",
   "id": "865a4746",
   "metadata": {},
   "source": [
    "## Diagonal"
   ]
  },
  {
   "cell_type": "code",
   "execution_count": 8,
   "id": "58eae839",
   "metadata": {},
   "outputs": [
    {
     "name": "stdout",
     "output_type": "stream",
     "text": [
      "Dot test passed, v^H(Opu)=-3.027193546295166 - u^H(Op^Hv)=-3.027193546295166\n",
      "y= [1. 1. 1. 1. 1. 1. 1. 1. 1. 1.] <class 'jaxlib.xla_extension.ArrayImpl'>\n",
      "6.62 µs ± 1.44 µs per loop (mean ± std. dev. of 2 runs, 10 loops each)\n",
      "44.9 µs ± 12.1 µs per loop (mean ± std. dev. of 2 runs, 10 loops each)\n"
     ]
    }
   ],
   "source": [
    "nx = 10\n",
    "\n",
    "d = np.ones(nx, dtype='float32')\n",
    "Dop = Diagonal(d, dtype='float32')\n",
    "x = np.ones(nx, dtype='float32')\n",
    "y = Dop @ x\n",
    "\n",
    "djnp = jnp.ones(nx, dtype='float32')\n",
    "Dopjax = JaxOperator(Diagonal(djnp, dtype='float32'))\n",
    "xjnp = jnp.ones(nx)\n",
    "yjnp = (Dopjax @ xjnp).block_until_ready()\n",
    "\n",
    "dottest(Dopjax, nx, nx, backend='jax', verb=True, atol=1e-3)\n",
    "\n",
    "print('y=', yjnp, type(yjnp))\n",
    "\n",
    "%timeit -n 10 -r 2 Dop @ x\n",
    "%timeit -n 10 -r 2 (Dopjax @ xjnp).block_until_ready()"
   ]
  },
  {
   "cell_type": "code",
   "execution_count": 9,
   "id": "91fd2530",
   "metadata": {},
   "outputs": [
    {
     "name": "stdout",
     "output_type": "stream",
     "text": [
      "Dot test passed, v^H(Opu)=(-0.6456664800643921+3.073392868041992j) - u^H(Op^Hv)=(-0.6456664800643921+3.073392868041992j)\n",
      "y= [1. 1. 1. 1. 1. 1. 1. 1. 1. 1.] <class 'jaxlib.xla_extension.ArrayImpl'>\n",
      "6.95 µs ± 1.64 µs per loop (mean ± std. dev. of 2 runs, 10 loops each)\n",
      "47.5 µs ± 14.8 µs per loop (mean ± std. dev. of 2 runs, 10 loops each)\n"
     ]
    }
   ],
   "source": [
    "# Complex numbers \n",
    "nx = 10\n",
    "\n",
    "d = np.ones(nx, dtype='float32') + 1j*np.ones(nx, dtype='float32')\n",
    "Dop = Diagonal(d, dtype='float32')\n",
    "x = np.ones(nx, dtype='float32')+ 1j*np.ones(nx, dtype='float32')\n",
    "y = Dop @ x\n",
    "\n",
    "djnp = jnp.ones(nx, dtype='float32')\n",
    "Dopjax = JaxOperator(Diagonal(djnp, dtype='float32'))\n",
    "xjnp = jnp.ones(nx)\n",
    "yjnp = (Dopjax @ xjnp).block_until_ready()\n",
    "\n",
    "dottest(Dopjax, nx, nx, complexflag=2, backend='jax', verb=True, atol=1e-3)\n",
    "\n",
    "print('y=', yjnp, type(yjnp))\n",
    "\n",
    "%timeit -n 10 -r 2 Dop @ x\n",
    "%timeit -n 10 -r 2 (Dopjax @ xjnp).block_until_ready()"
   ]
  },
  {
   "cell_type": "markdown",
   "id": "da6f6efe",
   "metadata": {},
   "source": [
    "## Zero"
   ]
  },
  {
   "cell_type": "code",
   "execution_count": 10,
   "id": "f4614050",
   "metadata": {
    "scrolled": true
   },
   "outputs": [
    {
     "name": "stdout",
     "output_type": "stream",
     "text": [
      "Dot test passed, v^H(Opu)=0.0 - u^H(Op^Hv)=0.0\n",
      "y= [0. 0. 0. 0. 0.] <class 'jaxlib.xla_extension.ArrayImpl'>\n",
      "6.31 µs ± 1.44 µs per loop (mean ± std. dev. of 2 runs, 10 loops each)\n",
      "45.4 µs ± 12.3 µs per loop (mean ± std. dev. of 2 runs, 10 loops each)\n"
     ]
    }
   ],
   "source": [
    "ny, nx = 5, 5\n",
    "\n",
    "Zop = Zero(ny, nx, dtype='float32')\n",
    "x = np.ones(nx, dtype='float32')\n",
    "y = Zop @ x\n",
    "\n",
    "Zopjax = JaxOperator(Zero(ny, nx, dtype='float32'))\n",
    "xjnp = jnp.ones(nx)\n",
    "yjnp = (Zopjax @ xjnp).block_until_ready()\n",
    "\n",
    "dottest(Zopjax, ny, nx, backend='jax', verb=True, atol=1e-3)\n",
    "\n",
    "print('y=', yjnp, type(yjnp))\n",
    "\n",
    "%timeit -n 10 -r 2 Zop @ x\n",
    "%timeit -n 10 -r 2 (Zopjax @ xjnp).block_until_ready()"
   ]
  },
  {
   "cell_type": "code",
   "execution_count": 11,
   "id": "618a2172",
   "metadata": {},
   "outputs": [
    {
     "name": "stdout",
     "output_type": "stream",
     "text": [
      "Dot test passed, v^H(Opu)=0.0 - u^H(Op^Hv)=0.0\n",
      "y= [0. 0. 0. 0. 0. 0. 0.] <class 'jaxlib.xla_extension.ArrayImpl'>\n",
      "6.29 µs ± 1.69 µs per loop (mean ± std. dev. of 2 runs, 10 loops each)\n",
      "52 µs ± 20.4 µs per loop (mean ± std. dev. of 2 runs, 10 loops each)\n"
     ]
    }
   ],
   "source": [
    "ny, nx = 7, 5\n",
    "\n",
    "Zop = Zero(ny, nx, dtype='float32')\n",
    "x = np.ones(nx, dtype='float32')\n",
    "y = Zop @ x\n",
    "\n",
    "Zopjax = JaxOperator(Zero(ny, nx, dtype='float32'))\n",
    "xjnp = jnp.ones(nx)\n",
    "yjnp = (Zopjax @ xjnp).block_until_ready()\n",
    "\n",
    "dottest(Zopjax, ny, nx, backend='jax', verb=True, atol=1e-3)\n",
    "\n",
    "print('y=', yjnp, type(yjnp))\n",
    "\n",
    "%timeit -n 10 -r 2 Zop @ x\n",
    "%timeit -n 10 -r 2 (Zopjax @ xjnp).block_until_ready()"
   ]
  },
  {
   "cell_type": "code",
   "execution_count": 12,
   "id": "b67a702e",
   "metadata": {},
   "outputs": [
    {
     "name": "stdout",
     "output_type": "stream",
     "text": [
      "Dot test passed, v^H(Opu)=0.0 - u^H(Op^Hv)=0.0\n",
      "y= [0. 0. 0. 0. 0.] <class 'jaxlib.xla_extension.ArrayImpl'>\n",
      "6.64 µs ± 1.71 µs per loop (mean ± std. dev. of 2 runs, 10 loops each)\n",
      "45.8 µs ± 12 µs per loop (mean ± std. dev. of 2 runs, 10 loops each)\n"
     ]
    }
   ],
   "source": [
    "ny, nx = 5, 7\n",
    "\n",
    "Zop = Zero(ny, nx, dtype='float32')\n",
    "x = np.ones(nx, dtype='float32')\n",
    "y = Zop @ x\n",
    "\n",
    "Zopjax = JaxOperator(Zero(ny, nx, dtype='float32'))\n",
    "xjnp = jnp.ones(nx)\n",
    "yjnp = (Zopjax @ xjnp).block_until_ready()\n",
    "\n",
    "dottest(Zopjax, ny, nx, backend='jax', verb=True, atol=1e-3)\n",
    "\n",
    "print('y=', yjnp, type(yjnp))\n",
    "\n",
    "%timeit -n 10 -r 2 Zop @ x\n",
    "%timeit -n 10 -r 2 (Zopjax @ xjnp).block_until_ready()"
   ]
  },
  {
   "cell_type": "markdown",
   "id": "a8dd6dbf",
   "metadata": {},
   "source": [
    "## Sum"
   ]
  },
  {
   "cell_type": "code",
   "execution_count": 13,
   "id": "d6cee50e",
   "metadata": {},
   "outputs": [
    {
     "name": "stdout",
     "output_type": "stream",
     "text": [
      "Dot test passed, v^H(Opu)=2.447092056274414 - u^H(Op^Hv)=2.447092056274414\n",
      "y= <class 'jaxlib.xla_extension.ArrayImpl'>\n",
      "9.77 µs ± 1.95 µs per loop (mean ± std. dev. of 2 runs, 10 loops each)\n",
      "47.6 µs ± 12.7 µs per loop (mean ± std. dev. of 2 runs, 10 loops each)\n"
     ]
    }
   ],
   "source": [
    "ny, nx = 5, 7\n",
    "\n",
    "Sop = Sum(dims=(ny, nx), axis=0)\n",
    "x   = (np.arange(ny*nx)).reshape(ny, nx)\n",
    "y = Sop @ x\n",
    "\n",
    "Sopjax = JaxOperator(Sum(dims=(ny, nx), axis=0, dtype='float32'))\n",
    "xjnp = (jnp.arange(ny*nx)).reshape(ny, nx)\n",
    "yjnp = (Sopjax @ xjnp).block_until_ready()\n",
    "\n",
    "dottest(Sopjax, nx, ny*nx, backend='jax', verb=True, atol=1e-3)\n",
    "\n",
    "print('y=', type(yjnp))\n",
    "\n",
    "%timeit -n 10 -r 2 Sop @ x\n",
    "%timeit -n 10 -r 2 (Sopjax @ xjnp).block_until_ready()"
   ]
  },
  {
   "cell_type": "markdown",
   "id": "0f0e02d8",
   "metadata": {},
   "source": [
    "## Transpose"
   ]
  },
  {
   "cell_type": "code",
   "execution_count": 14,
   "id": "5397a78c",
   "metadata": {},
   "outputs": [
    {
     "name": "stdout",
     "output_type": "stream",
     "text": [
      "Dot test passed, v^H(Opu)=-6.011893272399902 - u^H(Op^Hv)=-6.011882305145264\n",
      "y= <class 'jaxlib.xla_extension.ArrayImpl'>\n",
      "10.5 µs ± 2.35 µs per loop (mean ± std. dev. of 2 runs, 10 loops each)\n",
      "85 µs ± 19.3 µs per loop (mean ± std. dev. of 2 runs, 10 loops each)\n"
     ]
    }
   ],
   "source": [
    "ny, nx = 20, 40\n",
    "dims = (ny, nx)\n",
    "\n",
    "Top = Transpose(dims=dims, axes=(1,0))\n",
    "x = np.arange(ny*nx).reshape(dims)\n",
    "y = Top @ x\n",
    "\n",
    "Topjax = JaxOperator(Transpose(dims=dims, axes=(1,0), dtype='float32'))\n",
    "xjnp = (jnp.arange(ny*nx)).reshape(dims)\n",
    "yjnp = (Topjax @ xjnp).block_until_ready()\n",
    "\n",
    "dottest(Topjax, ny*nx, ny*nx, backend='jax', verb=True, atol=1e-3)\n",
    "\n",
    "print('y=', type(yjnp))\n",
    "\n",
    "%timeit -n 10 -r 2 Top @ x\n",
    "%timeit -n 10 -r 2 (Topjax @ xjnp).block_until_ready()"
   ]
  },
  {
   "cell_type": "markdown",
   "id": "25a5f8cf",
   "metadata": {},
   "source": [
    "## Flip"
   ]
  },
  {
   "cell_type": "code",
   "execution_count": 15,
   "id": "f560a301",
   "metadata": {
    "scrolled": true
   },
   "outputs": [
    {
     "name": "stdout",
     "output_type": "stream",
     "text": [
      "Dot test passed, v^H(Opu)=-0.7547396421432495 - u^H(Op^Hv)=-0.7547395825386047\n",
      "y= <class 'jaxlib.xla_extension.ArrayImpl'>\n",
      "11.7 µs ± 2.22 µs per loop (mean ± std. dev. of 2 runs, 10 loops each)\n",
      "45.5 µs ± 12 µs per loop (mean ± std. dev. of 2 runs, 10 loops each)\n"
     ]
    }
   ],
   "source": [
    "nt = 10\n",
    "\n",
    "Fop = Flip(nt)\n",
    "x = np.arange(nt)\n",
    "y = Fop @ x\n",
    "\n",
    "Fopjax = JaxOperator(Flip(nt, dtype='float32'))\n",
    "xjnp = jnp.arange(nt)\n",
    "yjnp = (Fopjax @ xjnp).block_until_ready()\n",
    "\n",
    "dottest(Fopjax, nt, nt, backend='jax', verb=True, atol=1e-3)\n",
    "\n",
    "print('y=', type(yjnp))\n",
    "\n",
    "%timeit -n 10 -r 2 Fop @ x\n",
    "%timeit -n 10 -r 2 (Fopjax @ xjnp).block_until_ready()"
   ]
  },
  {
   "cell_type": "code",
   "execution_count": 16,
   "id": "7dfdcc1a",
   "metadata": {},
   "outputs": [
    {
     "name": "stdout",
     "output_type": "stream",
     "text": [
      "Dot test passed, v^H(Opu)=-15.899504661560059 - u^H(Op^Hv)=-15.899502754211426\n",
      "y= <class 'jaxlib.xla_extension.ArrayImpl'>\n",
      "17.2 µs ± 6.33 µs per loop (mean ± std. dev. of 2 runs, 10 loops each)\n",
      "87.1 µs ± 20.9 µs per loop (mean ± std. dev. of 2 runs, 10 loops each)\n",
      "Dot test passed, v^H(Opu)=4.159647464752197 - u^H(Op^Hv)=4.1596479415893555\n",
      "y= <class 'jaxlib.xla_extension.ArrayImpl'>\n",
      "11.2 µs ± 2.37 µs per loop (mean ± std. dev. of 2 runs, 10 loops each)\n",
      "81.8 µs ± 17.8 µs per loop (mean ± std. dev. of 2 runs, 10 loops each)\n"
     ]
    }
   ],
   "source": [
    "nt, nx = 10, 5\n",
    "x = np.outer(np.arange(nt), np.ones(nx))\n",
    "\n",
    "for axis in (0, 1):\n",
    "    Fop = Flip(dims=(nt, nx), axis=axis)\n",
    "    y = Fop @ x\n",
    "\n",
    "    Fopjax = JaxOperator(Flip(dims=(nt, nx), axis=axis, dtype='float32'))\n",
    "    xjnp = jnp.outer(jnp.arange(nt), jnp.ones(nx))\n",
    "    yjnp = (Fopjax @ xjnp).block_until_ready()\n",
    "\n",
    "    dottest(Fopjax, nt*nx, nt*nx, backend='jax', verb=True, atol=1e-6)\n",
    "\n",
    "    print('y=', type(yjnp))\n",
    "\n",
    "    %timeit -n 10 -r 2 Fop @ x\n",
    "    %timeit -n 10 -r 2 (Fopjax @ xjnp).block_until_ready()"
   ]
  },
  {
   "cell_type": "code",
   "execution_count": 17,
   "id": "a74f027b",
   "metadata": {},
   "outputs": [
    {
     "name": "stdout",
     "output_type": "stream",
     "text": [
      "Dot test passed, v^H(Opu)=-2.8223679065704346 - u^H(Op^Hv)=-2.8223681449890137\n",
      "y= <class 'jaxlib.xla_extension.ArrayImpl'>\n",
      "12 µs ± 1.49 µs per loop (mean ± std. dev. of 2 runs, 10 loops each)\n",
      "86 µs ± 20.4 µs per loop (mean ± std. dev. of 2 runs, 10 loops each)\n",
      "Dot test passed, v^H(Opu)=-0.6433626413345337 - u^H(Op^Hv)=-0.6433628797531128\n",
      "y= <class 'jaxlib.xla_extension.ArrayImpl'>\n",
      "10.2 µs ± 2.43 µs per loop (mean ± std. dev. of 2 runs, 10 loops each)\n",
      "70.3 µs ± 8.3 µs per loop (mean ± std. dev. of 2 runs, 10 loops each)\n",
      "Dot test passed, v^H(Opu)=2.4860689640045166 - u^H(Op^Hv)=2.4860692024230957\n",
      "y= <class 'jaxlib.xla_extension.ArrayImpl'>\n",
      "15 µs ± 3 µs per loop (mean ± std. dev. of 2 runs, 10 loops each)\n",
      "80 µs ± 10.1 µs per loop (mean ± std. dev. of 2 runs, 10 loops each)\n"
     ]
    }
   ],
   "source": [
    "nt, nx, ny = 2, 3, 4\n",
    "x = np.outer(np.ones(nt), np.ones(nx))[:, :, np.newaxis] * np.arange(ny)\n",
    "\n",
    "for axis in (0, 1, 2):\n",
    "    Fop = Flip(dims=(nt, nx, ny), axis=axis)\n",
    "    y = Fop @ x\n",
    "\n",
    "    Fopjax = JaxOperator(Flip(dims=(nt, nx, ny), axis=axis, dtype='float32'))\n",
    "    xjnp = jnp.outer(jnp.ones(nt), jnp.ones(nx))[:, :, jnp.newaxis] * jnp.arange(ny)\n",
    "    yjnp = (Fopjax @ xjnp).block_until_ready()\n",
    "\n",
    "    dottest(Fopjax, nt*nx*ny, nt*nx*ny, backend='jax', verb=True, atol=1e-6)\n",
    "\n",
    "    print('y=', type(yjnp))\n",
    "\n",
    "    %timeit -n 10 -r 2 Fop @ x\n",
    "    %timeit -n 10 -r 2 (Fopjax @ xjnp).block_until_ready()"
   ]
  },
  {
   "cell_type": "markdown",
   "id": "517735cc",
   "metadata": {},
   "source": [
    "## Roll"
   ]
  },
  {
   "cell_type": "code",
   "execution_count": 18,
   "id": "6ccb6161",
   "metadata": {},
   "outputs": [
    {
     "name": "stdout",
     "output_type": "stream",
     "text": [
      "Dot test passed, v^H(Opu)=-2.4878180027008057 - u^H(Op^Hv)=-2.487818717956543\n",
      "y= <class 'jaxlib.xla_extension.ArrayImpl'>\n",
      "21.7 µs ± 3.72 µs per loop (mean ± std. dev. of 2 runs, 10 loops each)\n",
      "88.1 µs ± 24.5 µs per loop (mean ± std. dev. of 2 runs, 10 loops each)\n",
      "Dot test passed, v^H(Opu)=16.584728240966797 - u^H(Op^Hv)=16.584728240966797\n",
      "y= <class 'jaxlib.xla_extension.ArrayImpl'>\n",
      "46.3 µs ± 12 µs per loop (mean ± std. dev. of 2 runs, 10 loops each)\n",
      "111 µs ± 43.3 µs per loop (mean ± std. dev. of 2 runs, 10 loops each)\n"
     ]
    }
   ],
   "source": [
    "nt, nx = 10, 5\n",
    "x = np.outer(np.arange(nt), np.ones(nx))\n",
    "\n",
    "\n",
    "for axis in (0, 1):\n",
    "    \n",
    "    Rop = Roll((nt, nx), axis=axis)\n",
    "    y = Rop @ x\n",
    "\n",
    "    Ropjax = JaxOperator(Roll((nt, nx), axis=axis, dtype='float32'))\n",
    "    xjnp = jnp.outer(jnp.arange(nt), jnp.ones(nx))\n",
    "    yjnp = (Ropjax @ xjnp).block_until_ready()\n",
    "\n",
    "    dottest(Ropjax, nt*nx, nt*nx, backend='jax', verb=True, atol=1e-3)\n",
    "\n",
    "    print('y=', type(yjnp))\n",
    "\n",
    "    %timeit -n 10 -r 2 Rop @ x\n",
    "    %timeit -n 10 -r 2 (Ropjax @ xjnp).block_until_ready()"
   ]
  },
  {
   "cell_type": "code",
   "execution_count": 19,
   "id": "80dc1067",
   "metadata": {},
   "outputs": [
    {
     "name": "stdout",
     "output_type": "stream",
     "text": [
      "Dot test passed, v^H(Opu)=2.77858829498291 - u^H(Op^Hv)=2.77858829498291\n",
      "y= <class 'jaxlib.xla_extension.ArrayImpl'>\n",
      "22.2 µs ± 4.12 µs per loop (mean ± std. dev. of 2 runs, 10 loops each)\n",
      "59.2 µs ± 17.5 µs per loop (mean ± std. dev. of 2 runs, 10 loops each)\n"
     ]
    }
   ],
   "source": [
    "nt = 10\n",
    "\n",
    "Rop = Roll(nt, shift=-5)\n",
    "x = np.arange(nt)\n",
    "y = Rop @ x\n",
    "\n",
    "Ropjax = JaxOperator(Roll(nt, shift=-5, dtype='float32'))\n",
    "xjnp = jnp.arange(nt)\n",
    "yjnp = (Ropjax @ xjnp).block_until_ready()\n",
    "\n",
    "dottest(Ropjax, nt, nt, backend='jax', verb=True, atol=1e-6)\n",
    "\n",
    "print('y=', type(yjnp))\n",
    "\n",
    "%timeit -n 10 -r 2 Rop @ x\n",
    "%timeit -n 10 -r 2 (Ropjax @ xjnp).block_until_ready()"
   ]
  },
  {
   "cell_type": "markdown",
   "id": "0a2e954f",
   "metadata": {},
   "source": [
    "## Pad"
   ]
  },
  {
   "cell_type": "code",
   "execution_count": 20,
   "id": "f3badd5f",
   "metadata": {},
   "outputs": [
    {
     "name": "stdout",
     "output_type": "stream",
     "text": [
      "Dot test passed, v^H(Opu)=1.8868082761764526 - u^H(Op^Hv)=1.8868082761764526\n",
      "y= <class 'jaxlib.xla_extension.ArrayImpl'>\n",
      "36.1 µs ± 3.62 µs per loop (mean ± std. dev. of 2 runs, 10 loops each)\n",
      "62.3 µs ± 24.8 µs per loop (mean ± std. dev. of 2 runs, 10 loops each)\n"
     ]
    }
   ],
   "source": [
    "dims = 10\n",
    "pad = (10, 3)\n",
    "\n",
    "Pop = Pad(dims, pad)\n",
    "x = np.arange(dims)+1.\n",
    "y = Pop @ x\n",
    "\n",
    "Popjax = JaxOperator(Pad(dims, pad, dtype='float32'))\n",
    "xjnp = jnp.arange(dims)+1.\n",
    "yjnp = (Popjax @ xjnp).block_until_ready()\n",
    "\n",
    "dottest(Popjax, dims+pad[0]+pad[1], dims, backend='jax', verb=True, atol=1e-6)\n",
    "\n",
    "print('y=', type(yjnp))\n",
    "\n",
    "%timeit -n 10 -r 2 Pop @ x\n",
    "%timeit -n 10 -r 2 (Popjax @ xjnp).block_until_ready()"
   ]
  },
  {
   "cell_type": "code",
   "execution_count": 21,
   "id": "91ac6914",
   "metadata": {},
   "outputs": [
    {
     "name": "stdout",
     "output_type": "stream",
     "text": [
      "Dot test passed, v^H(Opu)=-0.5775524973869324 - u^H(Op^Hv)=-0.5775524973869324\n",
      "y= <class 'jaxlib.xla_extension.ArrayImpl'>\n",
      "60.2 µs ± 14.4 µs per loop (mean ± std. dev. of 2 runs, 10 loops each)\n",
      "116 µs ± 26.5 µs per loop (mean ± std. dev. of 2 runs, 10 loops each)\n"
     ]
    }
   ],
   "source": [
    "dims = (5, 4)\n",
    "pad = ((1, 0), (3, 4))\n",
    "\n",
    "Pop = Pad(dims, pad)\n",
    "x = (np.arange(np.prod(np.array(dims)))+1.).reshape(dims)\n",
    "y = Pop @ x\n",
    "\n",
    "Popjax = JaxOperator(Pad(dims, pad, dtype='float32'))\n",
    "xjnp = (jnp.arange(jnp.prod(jnp.array(dims)))+1.).reshape(dims)\n",
    "yjnp = (Popjax @ xjnp).block_until_ready()\n",
    "\n",
    "dottest(Popjax, backend='jax', verb=True, atol=1e-6)\n",
    "\n",
    "print('y=', type(yjnp))\n",
    "\n",
    "%timeit -n 10 -r 2 Pop @ x\n",
    "%timeit -n 10 -r 2 (Popjax @ xjnp).block_until_ready()"
   ]
  },
  {
   "cell_type": "markdown",
   "id": "98209a42",
   "metadata": {},
   "source": [
    "## Symmetrize"
   ]
  },
  {
   "cell_type": "code",
   "execution_count": 22,
   "id": "a26c85a9",
   "metadata": {},
   "outputs": [
    {
     "name": "stdout",
     "output_type": "stream",
     "text": [
      "Dot test passed, v^H(Opu)=-7.6267523765563965 - u^H(Op^Hv)=-7.626751899719238\n",
      "y= <class 'jaxlib.xla_extension.ArrayImpl'>\n",
      "19.6 µs ± 1.3 µs per loop (mean ± std. dev. of 2 runs, 10 loops each)\n",
      "62.5 µs ± 27.2 µs per loop (mean ± std. dev. of 2 runs, 10 loops each)\n"
     ]
    }
   ],
   "source": [
    "nt = 10\n",
    "\n",
    "Sop = Symmetrize(nt)\n",
    "x = np.arange(nt)+1\n",
    "y = Sop @ x\n",
    "\n",
    "Sopjax = JaxOperator(Symmetrize(nt, dtype='float32'))\n",
    "xjnp = jnp.arange(nt)+1\n",
    "yjnp = (Sopjax @ xjnp).block_until_ready()\n",
    "\n",
    "dottest(Sopjax, backend='jax', verb=True, atol=1e-6)\n",
    "\n",
    "print('y=', type(yjnp))\n",
    "\n",
    "%timeit -n 10 -r 2 Sop @ x\n",
    "%timeit -n 10 -r 2 (Sopjax @ xjnp).block_until_ready()"
   ]
  },
  {
   "cell_type": "markdown",
   "id": "735cd4be",
   "metadata": {},
   "source": [
    "## Restriction"
   ]
  },
  {
   "cell_type": "code",
   "execution_count": 23,
   "id": "7a1d8cf3",
   "metadata": {},
   "outputs": [
    {
     "name": "stdout",
     "output_type": "stream",
     "text": [
      "Dot test passed, v^H(Opu)=10.850922584533691 - u^H(Op^Hv)=10.850922584533691\n",
      "y= <class 'jaxlib.xla_extension.ArrayImpl'>\n",
      "12.2 µs ± 3.4 µs per loop (mean ± std. dev. of 2 runs, 10 loops each)\n",
      "61.6 µs ± 12.2 µs per loop (mean ± std. dev. of 2 runs, 10 loops each)\n",
      "Dot test passed, v^H(Opu)=11.268792152404785 - u^H(Op^Hv)=11.268792152404785\n",
      "y= <class 'jaxlib.xla_extension.ArrayImpl'>\n",
      "21 µs ± 7.44 µs per loop (mean ± std. dev. of 2 runs, 10 loops each)\n",
      "63.9 µs ± 22.5 µs per loop (mean ± std. dev. of 2 runs, 10 loops each)\n"
     ]
    }
   ],
   "source": [
    "N=200\n",
    "\n",
    "perc_subsampling=0.4\n",
    "Nsub = int(np.round(N*perc_subsampling))\n",
    "iava = np.sort(np.random.permutation(np.arange(N))[:Nsub])\n",
    "\n",
    "for inplace in (True, False):\n",
    "    Rop = Restriction(N, iava, inplace=inplace, dtype='float64')\n",
    "    x = np.zeros(N)\n",
    "    y = Rop @ x\n",
    "\n",
    "    Ropjax = JaxOperator(Restriction(N, iava, inplace=inplace, dtype='float32'))\n",
    "    xjnp = jnp.zeros(N)\n",
    "    yjnp = (Ropjax @ xjnp).block_until_ready()\n",
    "\n",
    "    dottest(Ropjax, backend='jax', verb=True, atol=1e-6)\n",
    "\n",
    "    print('y=', type(yjnp))\n",
    "\n",
    "    %timeit -n 10 -r 2 Rop @ x\n",
    "    %timeit -n 10 -r 2 (Ropjax @ xjnp).block_until_ready()"
   ]
  },
  {
   "cell_type": "markdown",
   "id": "d2aa97f6",
   "metadata": {},
   "source": [
    "## Regression"
   ]
  },
  {
   "cell_type": "code",
   "execution_count": 24,
   "id": "d9e10fc7",
   "metadata": {},
   "outputs": [
    {
     "name": "stdout",
     "output_type": "stream",
     "text": [
      "Dot test passed, v^H(Opu)=-15.633894920349121 - u^H(Op^Hv)=-15.633901596069336\n",
      "y= <class 'jaxlib.xla_extension.ArrayImpl'>\n",
      "240 µs ± 46.2 µs per loop (mean ± std. dev. of 2 runs, 10 loops each)\n",
      "34.1 µs ± 2.46 µs per loop (mean ± std. dev. of 2 runs, 10 loops each)\n"
     ]
    },
    {
     "name": "stderr",
     "output_type": "stream",
     "text": [
      "/Users/ravasim/Desktop/KAUST/OpenSource/pylops/pylops/utils/dottest.py:96: UserWarning: Explicitly requested dtype float64 requested in astype is not available, and will be truncated to dtype float32. To enable more dtypes, set the jax_enable_x64 configuration option or the JAX_ENABLE_X64 shell environment variable. See https://github.com/google/jax#current-gotchas for more.\n",
      "  u = randn(nc, backend).astype(rdtype)\n",
      "/Users/ravasim/Desktop/KAUST/OpenSource/pylops/pylops/utils/dottest.py:100: UserWarning: Explicitly requested dtype float64 requested in astype is not available, and will be truncated to dtype float32. To enable more dtypes, set the jax_enable_x64 configuration option or the JAX_ENABLE_X64 shell environment variable. See https://github.com/google/jax#current-gotchas for more.\n",
      "  v = randn(nr, backend).astype(rdtype)\n"
     ]
    }
   ],
   "source": [
    "# parameters\n",
    "N = 30\n",
    "t = np.arange(N, dtype='float64')\n",
    "\n",
    "LRop = LinearRegression(jnp.array(t), dtype=None)\n",
    "x = np.array([1., 2.])\n",
    "y = LRop @ x\n",
    "\n",
    "LRopjax = JaxOperator(LinearRegression(t, dtype=None))\n",
    "xjnp = jnp.array(x)\n",
    "yjnp = (LRopjax @ xjnp).block_until_ready()\n",
    "\n",
    "dottest(LRopjax, N, 2, backend='jax', verb=True, atol=1e-3)\n",
    "\n",
    "print('y=', type(yjnp))\n",
    "\n",
    "%timeit -n 10 -r 2 LRop @ x\n",
    "%timeit -n 10 -r 2 (LRopjax @ xjnp).block_until_ready()"
   ]
  },
  {
   "cell_type": "code",
   "execution_count": 25,
   "id": "7fac8dc1",
   "metadata": {},
   "outputs": [
    {
     "name": "stdout",
     "output_type": "stream",
     "text": [
      "cgls solution xlsqr= [0.99999994 2.        ]\n"
     ]
    }
   ],
   "source": [
    "# CGLS solver\n",
    "xcglsjnp = cgls(LRopjax, yjnp, jnp.zeros(2), damp=1e-10, niter=10 ,show=0)[0]\n",
    "\n",
    "print('cgls solution xlsqr=', xcglsjnp)"
   ]
  },
  {
   "cell_type": "markdown",
   "id": "e102c6a0",
   "metadata": {},
   "source": [
    "## First Derivative"
   ]
  },
  {
   "cell_type": "code",
   "execution_count": 26,
   "id": "3c1bc59e",
   "metadata": {},
   "outputs": [
    {
     "name": "stdout",
     "output_type": "stream",
     "text": [
      "forward False 3\n",
      "Dot test passed, v^H(Opu)=-1.03773033618927 - u^H(Op^Hv)=-1.0377304553985596\n",
      "y= <class 'jaxlib.xla_extension.ArrayImpl'>\n",
      "15.5 µs ± 3.5 µs per loop (mean ± std. dev. of 2 runs, 10 loops each)\n",
      "45.8 µs ± 3.16 µs per loop (mean ± std. dev. of 2 runs, 10 loops each)\n",
      "forward False 5\n",
      "Dot test passed, v^H(Opu)=-0.6470524072647095 - u^H(Op^Hv)=-0.6470521688461304\n",
      "y= <class 'jaxlib.xla_extension.ArrayImpl'>\n",
      "10.6 µs ± 2.02 µs per loop (mean ± std. dev. of 2 runs, 10 loops each)\n",
      "32.5 µs ± 1.98 µs per loop (mean ± std. dev. of 2 runs, 10 loops each)\n",
      "forward True 3\n",
      "Dot test passed, v^H(Opu)=-9.530404090881348 - u^H(Op^Hv)=-9.530405044555664\n",
      "y= <class 'jaxlib.xla_extension.ArrayImpl'>\n",
      "26.1 µs ± 1.39 µs per loop (mean ± std. dev. of 2 runs, 10 loops each)\n",
      "68.3 µs ± 28.6 µs per loop (mean ± std. dev. of 2 runs, 10 loops each)\n",
      "forward True 5\n",
      "Dot test passed, v^H(Opu)=11.062045097351074 - u^H(Op^Hv)=11.062047004699707\n",
      "y= <class 'jaxlib.xla_extension.ArrayImpl'>\n",
      "15.4 µs ± 3.44 µs per loop (mean ± std. dev. of 2 runs, 10 loops each)\n",
      "46.7 µs ± 14 µs per loop (mean ± std. dev. of 2 runs, 10 loops each)\n",
      "centered False 3\n",
      "Dot test passed, v^H(Opu)=1.0056040287017822 - u^H(Op^Hv)=1.0056040287017822\n",
      "y= <class 'jaxlib.xla_extension.ArrayImpl'>\n",
      "20.3 µs ± 4.81 µs per loop (mean ± std. dev. of 2 runs, 10 loops each)\n",
      "54.9 µs ± 14.1 µs per loop (mean ± std. dev. of 2 runs, 10 loops each)\n",
      "centered False 5\n",
      "Dot test passed, v^H(Opu)=4.166225910186768 - u^H(Op^Hv)=4.166225910186768\n",
      "y= <class 'jaxlib.xla_extension.ArrayImpl'>\n",
      "25.6 µs ± 5.34 µs per loop (mean ± std. dev. of 2 runs, 10 loops each)\n",
      "49.4 µs ± 33.3 ns per loop (mean ± std. dev. of 2 runs, 10 loops each)\n",
      "centered True 3\n",
      "Dot test passed, v^H(Opu)=-4.029515743255615 - u^H(Op^Hv)=-4.029516220092773\n",
      "y= <class 'jaxlib.xla_extension.ArrayImpl'>\n",
      "33.3 µs ± 5.67 µs per loop (mean ± std. dev. of 2 runs, 10 loops each)\n",
      "68.3 µs ± 13 µs per loop (mean ± std. dev. of 2 runs, 10 loops each)\n",
      "centered True 5\n",
      "Dot test passed, v^H(Opu)=-5.250416278839111 - u^H(Op^Hv)=-5.2504167556762695\n",
      "y= <class 'jaxlib.xla_extension.ArrayImpl'>\n",
      "41.7 µs ± 5.3 µs per loop (mean ± std. dev. of 2 runs, 10 loops each)\n",
      "58.5 µs ± 6.37 µs per loop (mean ± std. dev. of 2 runs, 10 loops each)\n",
      "backward False 3\n",
      "Dot test passed, v^H(Opu)=-4.739441871643066 - u^H(Op^Hv)=-4.739442348480225\n",
      "y= <class 'jaxlib.xla_extension.ArrayImpl'>\n",
      "10.5 µs ± 2.03 µs per loop (mean ± std. dev. of 2 runs, 10 loops each)\n",
      "40.2 µs ± 9.89 µs per loop (mean ± std. dev. of 2 runs, 10 loops each)\n",
      "backward False 5\n",
      "Dot test passed, v^H(Opu)=-0.17846941947937012 - u^H(Op^Hv)=-0.1784692406654358\n",
      "y= <class 'jaxlib.xla_extension.ArrayImpl'>\n",
      "18.7 µs ± 3.94 µs per loop (mean ± std. dev. of 2 runs, 10 loops each)\n",
      "65 µs ± 31.3 µs per loop (mean ± std. dev. of 2 runs, 10 loops each)\n",
      "backward True 3\n",
      "Dot test passed, v^H(Opu)=4.948954105377197 - u^H(Op^Hv)=4.948955059051514\n",
      "y= <class 'jaxlib.xla_extension.ArrayImpl'>\n",
      "10.5 µs ± 2.01 µs per loop (mean ± std. dev. of 2 runs, 10 loops each)\n",
      "32.2 µs ± 2.06 µs per loop (mean ± std. dev. of 2 runs, 10 loops each)\n",
      "backward True 5\n",
      "Dot test passed, v^H(Opu)=2.1672942638397217 - u^H(Op^Hv)=2.1672940254211426\n",
      "y= <class 'jaxlib.xla_extension.ArrayImpl'>\n",
      "14.4 µs ± 4.78 µs per loop (mean ± std. dev. of 2 runs, 10 loops each)\n",
      "48.9 µs ± 1.86 µs per loop (mean ± std. dev. of 2 runs, 10 loops each)\n"
     ]
    }
   ],
   "source": [
    "nx = 11\n",
    "   \n",
    "for kind in ('forward', 'centered', 'backward'):\n",
    "    for edge in (False, True):\n",
    "        for order in (3, 5):\n",
    "            print(kind, edge, order)\n",
    "            D1op = FirstDerivative(nx, edge=edge, kind=kind, \n",
    "                                   order=order if kind == 'centered' else 3, \n",
    "                                   dtype='float32')\n",
    "            x = np.ones(nx)\n",
    "            y = D1op @ x\n",
    "\n",
    "            D1opjax = JaxOperator(FirstDerivative(nx, edge=edge, kind=kind, \n",
    "                                                  order=order if kind == 'centered' else 3, \n",
    "                                                  dtype='float32'))\n",
    "            xjnp = jnp.array(x)\n",
    "            yjnp = (D1opjax @ xjnp).block_until_ready()\n",
    "\n",
    "            dottest(D1opjax, nx, nx, backend='jax', verb=True, atol=1e-3)\n",
    "            print('y=', type(yjnp))\n",
    "\n",
    "            %timeit -n 10 -r 2 D1op @ x\n",
    "            %timeit -n 10 -r 2 (D1opjax @ xjnp).block_until_ready()"
   ]
  },
  {
   "cell_type": "code",
   "execution_count": 27,
   "id": "188d532e",
   "metadata": {},
   "outputs": [
    {
     "name": "stdout",
     "output_type": "stream",
     "text": [
      "forward False 5\n",
      "Dot test passed, v^H(Opu)=1.154794692993164 - u^H(Op^Hv)=1.1547937393188477\n",
      "y= <class 'jaxlib.xla_extension.ArrayImpl'>\n",
      "91.8 µs ± 9.84 µs per loop (mean ± std. dev. of 2 runs, 10 loops each)\n",
      "46.9 µs ± 9.91 µs per loop (mean ± std. dev. of 2 runs, 10 loops each)\n",
      "forward True 5\n",
      "Dot test passed, v^H(Opu)=5.504953861236572 - u^H(Op^Hv)=5.504956245422363\n",
      "y= <class 'jaxlib.xla_extension.ArrayImpl'>\n",
      "78.8 µs ± 20.4 µs per loop (mean ± std. dev. of 2 runs, 10 loops each)\n",
      "30.3 µs ± 3.29 µs per loop (mean ± std. dev. of 2 runs, 10 loops each)\n",
      "centered False 5\n",
      "Dot test passed, v^H(Opu)=-10.018988609313965 - u^H(Op^Hv)=-10.018983840942383\n",
      "y= <class 'jaxlib.xla_extension.ArrayImpl'>\n",
      "50.3 µs ± 5.76 µs per loop (mean ± std. dev. of 2 runs, 10 loops each)\n",
      "27.1 µs ± 4.73 µs per loop (mean ± std. dev. of 2 runs, 10 loops each)\n",
      "centered True 5\n",
      "Dot test passed, v^H(Opu)=-1.1075350046157837 - u^H(Op^Hv)=-1.1075341701507568\n",
      "y= <class 'jaxlib.xla_extension.ArrayImpl'>\n",
      "75.1 µs ± 22.2 µs per loop (mean ± std. dev. of 2 runs, 10 loops each)\n",
      "34.9 µs ± 2.03 µs per loop (mean ± std. dev. of 2 runs, 10 loops each)\n",
      "backward False 5\n",
      "Dot test passed, v^H(Opu)=34.51568603515625 - u^H(Op^Hv)=34.51569366455078\n",
      "y= <class 'jaxlib.xla_extension.ArrayImpl'>\n",
      "57.2 µs ± 18.6 µs per loop (mean ± std. dev. of 2 runs, 10 loops each)\n",
      "26.8 µs ± 4.23 µs per loop (mean ± std. dev. of 2 runs, 10 loops each)\n",
      "backward True 5\n",
      "Dot test passed, v^H(Opu)=50.30430603027344 - u^H(Op^Hv)=50.3043212890625\n",
      "y= <class 'jaxlib.xla_extension.ArrayImpl'>\n",
      "47.6 µs ± 7.02 µs per loop (mean ± std. dev. of 2 runs, 10 loops each)\n",
      "29.5 µs ± 6.93 µs per loop (mean ± std. dev. of 2 runs, 10 loops each)\n"
     ]
    }
   ],
   "source": [
    "ny, nx = 21, 11\n",
    "   \n",
    "for kind in ('forward', 'centered', 'backward'):\n",
    "    for edge in (False, True):\n",
    "        print(kind, edge, order)\n",
    "        D1op = FirstDirectionalDerivative((ny, nx), v=0.5 * np.ones(2), edge=edge, kind=kind, \n",
    "                                          dtype='float32')\n",
    "        x = np.ones(ny*nx)\n",
    "        y = D1op @ x\n",
    "\n",
    "        D1opjax = JaxOperator(FirstDirectionalDerivative((ny, nx), v=0.5 * np.ones(2), edge=edge, kind=kind, \n",
    "                                                         dtype='float32'))\n",
    "        xjnp = jnp.array(x)\n",
    "        yjnp = (D1opjax @ xjnp).block_until_ready()\n",
    "\n",
    "        dottest(D1opjax, ny*nx, ny*nx, backend='jax', verb=True, atol=1e-3)\n",
    "        print('y=', type(yjnp))\n",
    "\n",
    "        %timeit -n 10 -r 2 D1op @ x\n",
    "        %timeit -n 10 -r 2 (D1opjax @ xjnp).block_until_ready()"
   ]
  },
  {
   "cell_type": "markdown",
   "id": "b1b875a5",
   "metadata": {},
   "source": [
    "## Second Derivative"
   ]
  },
  {
   "cell_type": "code",
   "execution_count": 28,
   "id": "a05e0377",
   "metadata": {},
   "outputs": [
    {
     "name": "stdout",
     "output_type": "stream",
     "text": [
      "forward False 5\n",
      "Dot test passed, v^H(Opu)=0.6915369033813477 - u^H(Op^Hv)=0.6915367841720581\n",
      "y= <class 'jaxlib.xla_extension.ArrayImpl'>\n",
      "17.7 µs ± 4.48 µs per loop (mean ± std. dev. of 2 runs, 10 loops each)\n",
      "36.5 µs ± 5.41 µs per loop (mean ± std. dev. of 2 runs, 10 loops each)\n",
      "forward True 5\n",
      "Dot test passed, v^H(Opu)=7.171112060546875 - u^H(Op^Hv)=7.171111583709717\n",
      "y= <class 'jaxlib.xla_extension.ArrayImpl'>\n",
      "17.1 µs ± 4.11 µs per loop (mean ± std. dev. of 2 runs, 10 loops each)\n",
      "63.8 µs ± 18.1 µs per loop (mean ± std. dev. of 2 runs, 10 loops each)\n",
      "centered False 5\n",
      "Dot test passed, v^H(Opu)=1.8179728984832764 - u^H(Op^Hv)=1.8179726600646973\n",
      "y= <class 'jaxlib.xla_extension.ArrayImpl'>\n",
      "16.3 µs ± 3.87 µs per loop (mean ± std. dev. of 2 runs, 10 loops each)\n",
      "38.7 µs ± 7.1 µs per loop (mean ± std. dev. of 2 runs, 10 loops each)\n",
      "centered True 5\n",
      "Dot test passed, v^H(Opu)=-2.891242504119873 - u^H(Op^Hv)=-2.891242504119873\n",
      "y= <class 'jaxlib.xla_extension.ArrayImpl'>\n",
      "34.9 µs ± 3.27 µs per loop (mean ± std. dev. of 2 runs, 10 loops each)\n",
      "74.7 µs ± 41.8 µs per loop (mean ± std. dev. of 2 runs, 10 loops each)\n",
      "backward False 5\n",
      "Dot test passed, v^H(Opu)=-10.066045761108398 - u^H(Op^Hv)=-10.066046714782715\n",
      "y= <class 'jaxlib.xla_extension.ArrayImpl'>\n",
      "16.2 µs ± 3.52 µs per loop (mean ± std. dev. of 2 runs, 10 loops each)\n",
      "38.7 µs ± 6.14 µs per loop (mean ± std. dev. of 2 runs, 10 loops each)\n",
      "backward True 5\n",
      "Dot test passed, v^H(Opu)=11.948596000671387 - u^H(Op^Hv)=11.94859504699707\n",
      "y= <class 'jaxlib.xla_extension.ArrayImpl'>\n",
      "16.5 µs ± 3.38 µs per loop (mean ± std. dev. of 2 runs, 10 loops each)\n",
      "37.7 µs ± 4.22 µs per loop (mean ± std. dev. of 2 runs, 10 loops each)\n"
     ]
    }
   ],
   "source": [
    "nx = 11\n",
    "   \n",
    "for kind in ('forward', 'centered', 'backward'):\n",
    "    for edge in (False, True):\n",
    "        print(kind, edge, order)\n",
    "        D1op = SecondDerivative(nx, edge=edge, kind=kind, \n",
    "                                dtype='float32')\n",
    "        x = np.ones(nx)\n",
    "        y = D1op @ x\n",
    "\n",
    "        D1opjax = JaxOperator(SecondDerivative(nx, edge=edge, kind=kind, dtype='float32'))\n",
    "        xjnp = jnp.array(x)\n",
    "        yjnp = (D1opjax @ xjnp).block_until_ready()\n",
    "\n",
    "        dottest(D1opjax, nx, nx, backend='jax', verb=True, atol=1e-3)\n",
    "        print('y=', type(yjnp))\n",
    "\n",
    "        %timeit -n 10 -r 2 D1op @ x\n",
    "        %timeit -n 10 -r 2 (D1opjax @ xjnp).block_until_ready()"
   ]
  },
  {
   "cell_type": "markdown",
   "id": "57184503",
   "metadata": {},
   "source": [
    "## Laplacian"
   ]
  },
  {
   "cell_type": "code",
   "execution_count": 29,
   "id": "83c25152",
   "metadata": {},
   "outputs": [
    {
     "name": "stdout",
     "output_type": "stream",
     "text": [
      "forward False 5\n",
      "Dot test passed, v^H(Opu)=17.758832931518555 - u^H(Op^Hv)=17.758827209472656\n",
      "y= <class 'jaxlib.xla_extension.ArrayImpl'>\n",
      "65.8 µs ± 13 µs per loop (mean ± std. dev. of 2 runs, 10 loops each)\n",
      "24.8 µs ± 3.85 µs per loop (mean ± std. dev. of 2 runs, 10 loops each)\n",
      "forward True 5\n",
      "Dot test passed, v^H(Opu)=13.350592613220215 - u^H(Op^Hv)=13.350592613220215\n",
      "y= <class 'jaxlib.xla_extension.ArrayImpl'>\n",
      "98.2 µs ± 39.2 µs per loop (mean ± std. dev. of 2 runs, 10 loops each)\n",
      "28.4 µs ± 6.3 µs per loop (mean ± std. dev. of 2 runs, 10 loops each)\n",
      "centered False 5\n",
      "Dot test passed, v^H(Opu)=13.105086326599121 - u^H(Op^Hv)=13.1051025390625\n",
      "y= <class 'jaxlib.xla_extension.ArrayImpl'>\n",
      "64 µs ± 3.36 µs per loop (mean ± std. dev. of 2 runs, 10 loops each)\n",
      "35.8 µs ± 14.5 µs per loop (mean ± std. dev. of 2 runs, 10 loops each)\n",
      "centered True 5\n",
      "Dot test passed, v^H(Opu)=118.86038208007812 - u^H(Op^Hv)=118.86035919189453\n",
      "y= <class 'jaxlib.xla_extension.ArrayImpl'>\n",
      "88.8 µs ± 5.62 µs per loop (mean ± std. dev. of 2 runs, 10 loops each)\n",
      "40.5 µs ± 11 µs per loop (mean ± std. dev. of 2 runs, 10 loops each)\n",
      "backward False 5\n",
      "Dot test passed, v^H(Opu)=-27.212278366088867 - u^H(Op^Hv)=-27.212276458740234\n",
      "y= <class 'jaxlib.xla_extension.ArrayImpl'>\n",
      "41.9 µs ± 3.41 µs per loop (mean ± std. dev. of 2 runs, 10 loops each)\n",
      "22.9 µs ± 1.21 µs per loop (mean ± std. dev. of 2 runs, 10 loops each)\n",
      "backward True 5\n",
      "Dot test passed, v^H(Opu)=-28.959400177001953 - u^H(Op^Hv)=-28.95940589904785\n",
      "y= <class 'jaxlib.xla_extension.ArrayImpl'>\n",
      "70.3 µs ± 24 µs per loop (mean ± std. dev. of 2 runs, 10 loops each)\n",
      "26.2 µs ± 3.46 µs per loop (mean ± std. dev. of 2 runs, 10 loops each)\n"
     ]
    }
   ],
   "source": [
    "ny, nx = 21, 11\n",
    "   \n",
    "for kind in ('forward', 'centered', 'backward'):\n",
    "    for edge in (False, True):\n",
    "        print(kind, edge, order)\n",
    "        D1op = Laplacian((ny, nx), edge=edge, kind=kind, dtype='float32')\n",
    "        x = np.ones(ny*nx)\n",
    "        y = D1op @ x\n",
    "\n",
    "        D1opjax = JaxOperator(Laplacian((ny, nx), edge=edge, kind=kind, dtype='float32'))\n",
    "        xjnp = jnp.array(x)\n",
    "        yjnp = (D1opjax @ xjnp).block_until_ready()\n",
    "\n",
    "        dottest(D1opjax, ny*nx, ny*nx, backend='jax', verb=True, atol=1e-3)\n",
    "        print('y=', type(yjnp))\n",
    "\n",
    "        %timeit -n 10 -r 2 D1op @ x\n",
    "        %timeit -n 10 -r 2 (D1opjax @ xjnp).block_until_ready()"
   ]
  },
  {
   "cell_type": "markdown",
   "id": "e952bb59",
   "metadata": {},
   "source": [
    "## Gradient"
   ]
  },
  {
   "cell_type": "code",
   "execution_count": 30,
   "id": "9e0b623f",
   "metadata": {},
   "outputs": [
    {
     "name": "stdout",
     "output_type": "stream",
     "text": [
      "forward False 5\n",
      "Dot test passed, v^H(Opu)=14.915897369384766 - u^H(Op^Hv)=14.915921211242676\n",
      "y= <class 'jaxlib.xla_extension.ArrayImpl'>\n",
      "29 µs ± 3.79 µs per loop (mean ± std. dev. of 2 runs, 10 loops each)\n",
      "32.8 µs ± 9.88 µs per loop (mean ± std. dev. of 2 runs, 10 loops each)\n",
      "forward True 5\n",
      "Dot test passed, v^H(Opu)=26.62845802307129 - u^H(Op^Hv)=26.628450393676758\n",
      "y= <class 'jaxlib.xla_extension.ArrayImpl'>\n",
      "55.7 µs ± 14.9 µs per loop (mean ± std. dev. of 2 runs, 10 loops each)\n",
      "26.8 µs ± 4.52 µs per loop (mean ± std. dev. of 2 runs, 10 loops each)\n",
      "centered False 5\n",
      "Dot test passed, v^H(Opu)=-17.402027130126953 - u^H(Op^Hv)=-17.402027130126953\n",
      "y= <class 'jaxlib.xla_extension.ArrayImpl'>\n",
      "83.3 µs ± 10.5 µs per loop (mean ± std. dev. of 2 runs, 10 loops each)\n",
      "25.2 µs ± 3.63 µs per loop (mean ± std. dev. of 2 runs, 10 loops each)\n",
      "centered True 5\n",
      "Dot test passed, v^H(Opu)=30.421144485473633 - u^H(Op^Hv)=30.4211368560791\n",
      "y= <class 'jaxlib.xla_extension.ArrayImpl'>\n",
      "73.5 µs ± 29.8 µs per loop (mean ± std. dev. of 2 runs, 10 loops each)\n",
      "31 µs ± 1.3 µs per loop (mean ± std. dev. of 2 runs, 10 loops each)\n",
      "backward False 5\n",
      "Dot test passed, v^H(Opu)=-17.254850387573242 - u^H(Op^Hv)=-17.254858016967773\n",
      "y= <class 'jaxlib.xla_extension.ArrayImpl'>\n",
      "42 µs ± 15.7 µs per loop (mean ± std. dev. of 2 runs, 10 loops each)\n",
      "23.3 µs ± 2.03 µs per loop (mean ± std. dev. of 2 runs, 10 loops each)\n",
      "backward True 5\n",
      "Dot test passed, v^H(Opu)=11.686037063598633 - u^H(Op^Hv)=11.686054229736328\n",
      "y= <class 'jaxlib.xla_extension.ArrayImpl'>\n",
      "30.5 µs ± 3.68 µs per loop (mean ± std. dev. of 2 runs, 10 loops each)\n",
      "23.9 µs ± 2.18 µs per loop (mean ± std. dev. of 2 runs, 10 loops each)\n"
     ]
    }
   ],
   "source": [
    "ny, nx = 21, 11\n",
    "   \n",
    "for kind in ('forward', 'centered', 'backward'):\n",
    "    for edge in (False, True):\n",
    "        print(kind, edge, order)\n",
    "        D1op = Gradient((ny, nx), edge=edge, kind=kind, dtype='float32')\n",
    "        x = np.ones(ny*nx)\n",
    "        y = D1op @ x\n",
    "\n",
    "        D1opjax = JaxOperator(Gradient((ny, nx), edge=edge, kind=kind, dtype='float32'))\n",
    "        xjnp = jnp.array(x)\n",
    "        yjnp = (D1opjax @ xjnp).block_until_ready()\n",
    "\n",
    "        dottest(D1opjax, 2*ny*nx, ny*nx, backend='jax', verb=True, atol=1e-3)\n",
    "        print('y=', type(yjnp))\n",
    "\n",
    "        %timeit -n 10 -r 2 D1op @ x\n",
    "        %timeit -n 10 -r 2 (D1opjax @ xjnp).block_until_ready()"
   ]
  },
  {
   "cell_type": "markdown",
   "id": "97fab121",
   "metadata": {},
   "source": [
    "## Causal integration"
   ]
  },
  {
   "cell_type": "code",
   "execution_count": 31,
   "id": "f978f4e4",
   "metadata": {},
   "outputs": [
    {
     "name": "stdout",
     "output_type": "stream",
     "text": [
      "y= <class 'jaxlib.xla_extension.ArrayImpl'>\n",
      "4.03 ms ± 26.6 µs per loop (mean ± std. dev. of 2 runs, 10 loops each)\n",
      "3 ms ± 524 µs per loop (mean ± std. dev. of 2 runs, 10 loops each)\n"
     ]
    }
   ],
   "source": [
    "nx = 1000000\n",
    "\n",
    "Cop = CausalIntegration(nx, dtype='float32')\n",
    "\n",
    "x = np.ones(nx, dtype='float32')\n",
    "y = Cop @ x\n",
    "\n",
    "Copjax = JaxOperator(Cop)\n",
    "\n",
    "xjnp = jnp.ones(nx)\n",
    "yjnp = (Copjax @ xjnp).block_until_ready()\n",
    "print('y=', type(yjnp))\n",
    "\n",
    "%timeit -n 10 -r 2 Cop @ x\n",
    "%timeit -n 10 -r 2 (Copjax @ xjnp).block_until_ready()"
   ]
  },
  {
   "cell_type": "markdown",
   "id": "b829d697",
   "metadata": {},
   "source": [
    "## VStack"
   ]
  },
  {
   "cell_type": "code",
   "execution_count": 32,
   "id": "c50bc185",
   "metadata": {},
   "outputs": [
    {
     "name": "stdout",
     "output_type": "stream",
     "text": [
      "Dot test passed, v^H(Opu)=-10.478123664855957 - u^H(Op^Hv)=-10.478117942810059\n",
      "y= <class 'jaxlib.xla_extension.ArrayImpl'>\n"
     ]
    }
   ],
   "source": [
    "D2hop = SecondDerivative(dims=[11,21], axis=1, dtype='float64')\n",
    "D2vop = SecondDerivative(dims=[11,21], axis=0, dtype='float64')\n",
    "\n",
    "D1hopjax = JaxOperator(FirstDerivative(dims=[11,21], axis=1, dtype='float32'))\n",
    "D1vopjax = JaxOperator(FirstDerivative(dims=[11,21], axis=0, dtype='float32'))\n",
    "    \n",
    "Vstackop = VStack([D1hopjax,D1vopjax])\n",
    "xjnp = jnp.ones(11*21)\n",
    "yjnp = (Vstackop @ xjnp).block_until_ready()\n",
    "\n",
    "dottest(Vstackop, backend='jax', verb=True, atol=1e-3)\n",
    "print('y=', type(yjnp))"
   ]
  },
  {
   "cell_type": "markdown",
   "id": "4ced77a9",
   "metadata": {},
   "source": [
    "## HStack"
   ]
  },
  {
   "cell_type": "code",
   "execution_count": 33,
   "id": "d4b8b415",
   "metadata": {},
   "outputs": [
    {
     "name": "stdout",
     "output_type": "stream",
     "text": [
      "Dot test passed, v^H(Opu)=-0.7496676445007324 - u^H(Op^Hv)=-0.7496649622917175\n",
      "y= <class 'jaxlib.xla_extension.ArrayImpl'>\n"
     ]
    }
   ],
   "source": [
    "Hstackop = HStack([D1hopjax,D1vopjax])\n",
    "xjnp = jnp.ones(2*11*21)\n",
    "yjnp = (Hstackop @ xjnp).block_until_ready()\n",
    "\n",
    "dottest(Hstackop, backend='jax', verb=True, atol=1e-3)\n",
    "print('y=', type(yjnp))"
   ]
  },
  {
   "cell_type": "markdown",
   "id": "229b84d3",
   "metadata": {},
   "source": [
    "## BlockDiag"
   ]
  },
  {
   "cell_type": "code",
   "execution_count": 34,
   "id": "5f31d7a9",
   "metadata": {},
   "outputs": [
    {
     "name": "stdout",
     "output_type": "stream",
     "text": [
      "Dot test passed, v^H(Opu)=-32.236759185791016 - u^H(Op^Hv)=-32.23677062988281\n",
      "y= <class 'jaxlib.xla_extension.ArrayImpl'>\n"
     ]
    }
   ],
   "source": [
    "Blockop = BlockDiag([D1hopjax,D1vopjax])\n",
    "xjnp = jnp.ones(2*11*21)\n",
    "yjnp = (Blockop @ xjnp).block_until_ready()\n",
    "\n",
    "dottest(Blockop, backend='jax', verb=True, atol=1e-3)\n",
    "print('y=', type(yjnp))"
   ]
  },
  {
   "cell_type": "markdown",
   "id": "a52f62dc",
   "metadata": {},
   "source": [
    "## FFT"
   ]
  },
  {
   "cell_type": "code",
   "execution_count": 35,
   "id": "2b09414c",
   "metadata": {},
   "outputs": [
    {
     "name": "stdout",
     "output_type": "stream",
     "text": [
      "y= <class 'jaxlib.xla_extension.ArrayImpl'>\n",
      "1.32 ms ± 19.5 µs per loop (mean ± std. dev. of 2 runs, 10 loops each)\n",
      "772 µs ± 44.1 µs per loop (mean ± std. dev. of 2 runs, 10 loops each)\n"
     ]
    },
    {
     "name": "stderr",
     "output_type": "stream",
     "text": [
      "/Users/ravasim/Desktop/KAUST/OpenSource/pylops/pylops/signalprocessing/fft.py:53: UserWarning: numpy backend always returns complex128 dtype. To respect the passed dtype, data will be casted to complex64.\n",
      "  warnings.warn(\n"
     ]
    }
   ],
   "source": [
    "nx = 100000\n",
    "\n",
    "Fop = FFT(nx, dtype='float32')\n",
    "\n",
    "x = np.ones(nx, dtype='float32')\n",
    "y = Fop @ x\n",
    "\n",
    "Fopjax = JaxOperator(Fop)\n",
    "\n",
    "xjnp = jnp.ones(nx, dtype='float32')\n",
    "yjnp = (Fopjax @ xjnp).block_until_ready()\n",
    "print('y=', type(yjnp))\n",
    "\n",
    "%timeit -n 10 -r 2 Fop @ x\n",
    "%timeit -n 10 -r 2 (Fopjax @ xjnp).block_until_ready()"
   ]
  },
  {
   "cell_type": "markdown",
   "id": "8732953c",
   "metadata": {},
   "source": [
    "## Convolve1D"
   ]
  },
  {
   "cell_type": "code",
   "execution_count": 36,
   "id": "57ed895a",
   "metadata": {},
   "outputs": [
    {
     "name": "stdout",
     "output_type": "stream",
     "text": [
      "[-3 -2 -1  0  1  2]\n",
      "self.convfunc, self.method <function convolve at 0x7f98d100b550> direct\n",
      "x, h (10,) (9,)\n",
      "j_convolve\n",
      "j_convolve\n",
      "self.convfunc, self.method <function convolve at 0x7f98f161f790> direct\n",
      "x, h (10,) (9,)\n",
      "y= <class 'jaxlib.xla_extension.ArrayImpl'>\n"
     ]
    }
   ],
   "source": [
    "nx = 10\n",
    "offset = 4\n",
    "\n",
    "h = np.arange(-3, 3)\n",
    "print(h)\n",
    "\n",
    "Cop = Convolve1D(nx, h=h, offset=offset, \n",
    "                 dtype='float32', \n",
    "                 method='direct')\n",
    "x  = np.zeros(nx)\n",
    "x[3] = 1\n",
    "y = Cop @ x\n",
    "\n",
    "hjnp = jnp.array(h).astype(jnp.float32)\n",
    "Copjax = JaxOperator(Convolve1D(nx, h=hjnp, offset=offset, \n",
    "                     dtype='float32', \n",
    "                     method='direct'))\n",
    "\n",
    "xjnp = jnp.array(x).astype(jnp.float32)\n",
    "yjnp = (Copjax @ xjnp).block_until_ready()\n",
    "print('y=', type(yjnp))\n",
    "\n",
    "#dottest(Copjax, backend='jax', verb=True, atol=1e-3)\n",
    "\n",
    "#%timeit -n 10 -r 2 Cop @ x\n",
    "#%timeit -n 10 -r 2 (Copjax @ xjnp).block_until_ready()"
   ]
  },
  {
   "cell_type": "code",
   "execution_count": 37,
   "id": "6f14c3ce",
   "metadata": {},
   "outputs": [
    {
     "name": "stdout",
     "output_type": "stream",
     "text": [
      "self.convfunc, self.method functools.partial(<function fftconvolve at 0x7f98d0ffbf70>, axes=0) fft\n",
      "x, h (301, 20) (3, 1)\n",
      "j_fftconvolve\n",
      "j_fftconvolve\n",
      "self.convfunc, self.method functools.partial(<function fftconvolve at 0x7f98f161f5e0>, axes=0) fft\n",
      "x, h (301, 20) (3, 1)\n"
     ]
    },
    {
     "ename": "ValueError",
     "evalue": "mapped axes must have same shape; got in1.shape=(301, 20) in2.shape=(3, 1) axes=(0,)",
     "output_type": "error",
     "traceback": [
      "\u001b[0;31m---------------------------------------------------------------------------\u001b[0m",
      "\u001b[0;31mValueError\u001b[0m                                Traceback (most recent call last)",
      "Input \u001b[0;32mIn [37]\u001b[0m, in \u001b[0;36m<cell line: 18>\u001b[0;34m()\u001b[0m\n\u001b[1;32m     15\u001b[0m Copjax \u001b[38;5;241m=\u001b[39m JaxOperator(Convolve1D(dims\u001b[38;5;241m=\u001b[39m[nt,nx], h\u001b[38;5;241m=\u001b[39mhjnp, offset\u001b[38;5;241m=\u001b[39mhcenter, axis\u001b[38;5;241m=\u001b[39m\u001b[38;5;241m0\u001b[39m, dtype\u001b[38;5;241m=\u001b[39m\u001b[38;5;124m'\u001b[39m\u001b[38;5;124mfloat32\u001b[39m\u001b[38;5;124m'\u001b[39m))\n\u001b[1;32m     17\u001b[0m xjnp \u001b[38;5;241m=\u001b[39m jnp\u001b[38;5;241m.\u001b[39marray(x)\u001b[38;5;241m.\u001b[39mastype(jnp\u001b[38;5;241m.\u001b[39mfloat32)\n\u001b[0;32m---> 18\u001b[0m yjnp \u001b[38;5;241m=\u001b[39m (\u001b[43mCopjax\u001b[49m\u001b[43m \u001b[49m\u001b[38;5;241;43m@\u001b[39;49m\u001b[43m \u001b[49m\u001b[43mxjnp\u001b[49m)\u001b[38;5;241m.\u001b[39mblock_until_ready()\n\u001b[1;32m     19\u001b[0m \u001b[38;5;28mprint\u001b[39m(\u001b[38;5;124m'\u001b[39m\u001b[38;5;124my=\u001b[39m\u001b[38;5;124m'\u001b[39m, \u001b[38;5;28mtype\u001b[39m(yjnp))\n\u001b[1;32m     21\u001b[0m dottest(Copjax, backend\u001b[38;5;241m=\u001b[39m\u001b[38;5;124m'\u001b[39m\u001b[38;5;124mjax\u001b[39m\u001b[38;5;124m'\u001b[39m, verb\u001b[38;5;241m=\u001b[39m\u001b[38;5;28;01mTrue\u001b[39;00m, atol\u001b[38;5;241m=\u001b[39m\u001b[38;5;241m1e-3\u001b[39m)\n",
      "File \u001b[0;32m~/Desktop/KAUST/OpenSource/pylops/pylops/linearoperator.py:312\u001b[0m, in \u001b[0;36mLinearOperator.__matmul__\u001b[0;34m(self, other)\u001b[0m\n\u001b[1;32m    310\u001b[0m \u001b[38;5;28;01mif\u001b[39;00m np\u001b[38;5;241m.\u001b[39misscalar(other):\n\u001b[1;32m    311\u001b[0m     \u001b[38;5;28;01mraise\u001b[39;00m \u001b[38;5;167;01mValueError\u001b[39;00m(\u001b[38;5;124m\"\u001b[39m\u001b[38;5;124mScalar not allowed, use * instead\u001b[39m\u001b[38;5;124m\"\u001b[39m)\n\u001b[0;32m--> 312\u001b[0m \u001b[38;5;28;01mreturn\u001b[39;00m \u001b[38;5;28;43mself\u001b[39;49m\u001b[38;5;241;43m.\u001b[39;49m\u001b[38;5;21;43m__mul__\u001b[39;49m\u001b[43m(\u001b[49m\u001b[43mother\u001b[49m\u001b[43m)\u001b[49m\n",
      "File \u001b[0;32m~/Desktop/KAUST/OpenSource/pylops/pylops/linearoperator.py:307\u001b[0m, in \u001b[0;36mLinearOperator.__mul__\u001b[0;34m(self, x)\u001b[0m\n\u001b[1;32m    306\u001b[0m \u001b[38;5;28;01mdef\u001b[39;00m \u001b[38;5;21m__mul__\u001b[39m(\u001b[38;5;28mself\u001b[39m, x: Union[\u001b[38;5;28mfloat\u001b[39m, LinearOperator]) \u001b[38;5;241m-\u001b[39m\u001b[38;5;241m>\u001b[39m LinearOperator:\n\u001b[0;32m--> 307\u001b[0m     \u001b[38;5;28;01mreturn\u001b[39;00m \u001b[38;5;28;43mself\u001b[39;49m\u001b[38;5;241;43m.\u001b[39;49m\u001b[43mdot\u001b[49m\u001b[43m(\u001b[49m\u001b[43mx\u001b[49m\u001b[43m)\u001b[49m\n",
      "File \u001b[0;32m~/Desktop/KAUST/OpenSource/pylops/pylops/linearoperator.py:672\u001b[0m, in \u001b[0;36mLinearOperator.dot\u001b[0;34m(self, x)\u001b[0m\n\u001b[1;32m    670\u001b[0m     x \u001b[38;5;241m=\u001b[39m x\u001b[38;5;241m.\u001b[39mreshape((\u001b[38;5;241m-\u001b[39m\u001b[38;5;241m1\u001b[39m, x\u001b[38;5;241m.\u001b[39mshape[\u001b[38;5;241m-\u001b[39m\u001b[38;5;241m1\u001b[39m]))\n\u001b[1;32m    671\u001b[0m \u001b[38;5;28;01mif\u001b[39;00m x\u001b[38;5;241m.\u001b[39mndim \u001b[38;5;241m==\u001b[39m \u001b[38;5;241m1\u001b[39m:\n\u001b[0;32m--> 672\u001b[0m     y \u001b[38;5;241m=\u001b[39m \u001b[38;5;28;43mself\u001b[39;49m\u001b[38;5;241;43m.\u001b[39;49m\u001b[43mmatvec\u001b[49m\u001b[43m(\u001b[49m\u001b[43mx\u001b[49m\u001b[43m)\u001b[49m\n\u001b[1;32m    673\u001b[0m     \u001b[38;5;28;01mif\u001b[39;00m (\n\u001b[1;32m    674\u001b[0m         is_dims_shaped\n\u001b[1;32m    675\u001b[0m         \u001b[38;5;129;01mand\u001b[39;00m \u001b[38;5;129;01mnot\u001b[39;00m \u001b[38;5;28mself\u001b[39m\u001b[38;5;241m.\u001b[39mforceflat\n\u001b[1;32m    676\u001b[0m         \u001b[38;5;129;01mand\u001b[39;00m get_ndarray_multiplication()\n\u001b[1;32m    677\u001b[0m     ):\n\u001b[1;32m    678\u001b[0m         y \u001b[38;5;241m=\u001b[39m y\u001b[38;5;241m.\u001b[39mreshape(\u001b[38;5;28mself\u001b[39m\u001b[38;5;241m.\u001b[39mdimsd)\n",
      "File \u001b[0;32m~/Desktop/KAUST/OpenSource/pylops/pylops/utils/decorators.py:191\u001b[0m, in \u001b[0;36mcount.<locals>.decorator.<locals>.wrapper\u001b[0;34m(self, x)\u001b[0m\n\u001b[1;32m    188\u001b[0m \u001b[38;5;129m@wraps\u001b[39m(f)\n\u001b[1;32m    189\u001b[0m \u001b[38;5;28;01mdef\u001b[39;00m \u001b[38;5;21mwrapper\u001b[39m(\u001b[38;5;28mself\u001b[39m, x):\n\u001b[1;32m    190\u001b[0m     \u001b[38;5;66;03m# perform operation\u001b[39;00m\n\u001b[0;32m--> 191\u001b[0m     y \u001b[38;5;241m=\u001b[39m \u001b[43mf\u001b[49m\u001b[43m(\u001b[49m\u001b[38;5;28;43mself\u001b[39;49m\u001b[43m,\u001b[49m\u001b[43m \u001b[49m\u001b[43mx\u001b[49m\u001b[43m)\u001b[49m\n\u001b[1;32m    192\u001b[0m     \u001b[38;5;66;03m# increase count of the associated operation\u001b[39;00m\n\u001b[1;32m    193\u001b[0m     \u001b[38;5;28;01mif\u001b[39;00m fwd:\n",
      "File \u001b[0;32m~/Desktop/KAUST/OpenSource/pylops/pylops/linearoperator.py:513\u001b[0m, in \u001b[0;36mLinearOperator.matvec\u001b[0;34m(self, x)\u001b[0m\n\u001b[1;32m    510\u001b[0m \u001b[38;5;28;01mif\u001b[39;00m x\u001b[38;5;241m.\u001b[39mshape \u001b[38;5;241m!=\u001b[39m (N,) \u001b[38;5;129;01mand\u001b[39;00m x\u001b[38;5;241m.\u001b[39mshape \u001b[38;5;241m!=\u001b[39m (N, \u001b[38;5;241m1\u001b[39m):\n\u001b[1;32m    511\u001b[0m     \u001b[38;5;28;01mraise\u001b[39;00m \u001b[38;5;167;01mValueError\u001b[39;00m(\u001b[38;5;124m\"\u001b[39m\u001b[38;5;124mdimension mismatch\u001b[39m\u001b[38;5;124m\"\u001b[39m)\n\u001b[0;32m--> 513\u001b[0m y \u001b[38;5;241m=\u001b[39m \u001b[38;5;28;43mself\u001b[39;49m\u001b[38;5;241;43m.\u001b[39;49m\u001b[43m_matvec\u001b[49m\u001b[43m(\u001b[49m\u001b[43mx\u001b[49m\u001b[43m)\u001b[49m\n\u001b[1;32m    515\u001b[0m \u001b[38;5;28;01mif\u001b[39;00m x\u001b[38;5;241m.\u001b[39mndim \u001b[38;5;241m==\u001b[39m \u001b[38;5;241m1\u001b[39m:\n\u001b[1;32m    516\u001b[0m     y \u001b[38;5;241m=\u001b[39m y\u001b[38;5;241m.\u001b[39mreshape(M)\n",
      "    \u001b[0;31m[... skipping hidden 12 frame]\u001b[0m\n",
      "File \u001b[0;32m~/Desktop/KAUST/OpenSource/pylops/pylops/signalprocessing/convolve1d.py:323\u001b[0m, in \u001b[0;36mConvolve1D._matvec\u001b[0;34m(self, x)\u001b[0m\n\u001b[1;32m    322\u001b[0m \u001b[38;5;28;01mdef\u001b[39;00m \u001b[38;5;21m_matvec\u001b[39m(\u001b[38;5;28mself\u001b[39m, x: NDArray) \u001b[38;5;241m-\u001b[39m\u001b[38;5;241m>\u001b[39m NDArray:\n\u001b[0;32m--> 323\u001b[0m     \u001b[38;5;28;01mreturn\u001b[39;00m \u001b[38;5;28;43msuper\u001b[39;49m\u001b[43m(\u001b[49m\u001b[43m)\u001b[49m\u001b[38;5;241;43m.\u001b[39;49m\u001b[43m_matvec\u001b[49m\u001b[43m(\u001b[49m\u001b[43mx\u001b[49m\u001b[43m)\u001b[49m\n",
      "File \u001b[0;32m~/Desktop/KAUST/OpenSource/pylops/pylops/linearoperator.py:432\u001b[0m, in \u001b[0;36mLinearOperator._matvec\u001b[0;34m(self, x)\u001b[0m\n\u001b[1;32m    430\u001b[0m \u001b[38;5;250m\u001b[39m\u001b[38;5;124;03m\"\"\"Matrix-vector multiplication handler.\"\"\"\u001b[39;00m\n\u001b[1;32m    431\u001b[0m \u001b[38;5;28;01mif\u001b[39;00m \u001b[38;5;28mself\u001b[39m\u001b[38;5;241m.\u001b[39mOp \u001b[38;5;129;01mis\u001b[39;00m \u001b[38;5;129;01mnot\u001b[39;00m \u001b[38;5;28;01mNone\u001b[39;00m:\n\u001b[0;32m--> 432\u001b[0m     \u001b[38;5;28;01mreturn\u001b[39;00m \u001b[38;5;28;43mself\u001b[39;49m\u001b[38;5;241;43m.\u001b[39;49m\u001b[43mOp\u001b[49m\u001b[38;5;241;43m.\u001b[39;49m\u001b[43m_matvec\u001b[49m\u001b[43m(\u001b[49m\u001b[43mx\u001b[49m\u001b[43m)\u001b[49m\n",
      "File \u001b[0;32m~/Desktop/KAUST/OpenSource/pylops/pylops/utils/decorators.py:143\u001b[0m, in \u001b[0;36mreshaped.<locals>.decorator.<locals>.wrapper\u001b[0;34m(self, x)\u001b[0m\n\u001b[1;32m    141\u001b[0m \u001b[38;5;28;01mif\u001b[39;00m swapaxis:\n\u001b[1;32m    142\u001b[0m     x \u001b[38;5;241m=\u001b[39m x\u001b[38;5;241m.\u001b[39mswapaxes(\u001b[38;5;28mself\u001b[39m\u001b[38;5;241m.\u001b[39maxis, \u001b[38;5;241m-\u001b[39m\u001b[38;5;241m1\u001b[39m)\n\u001b[0;32m--> 143\u001b[0m y \u001b[38;5;241m=\u001b[39m \u001b[43mf\u001b[49m\u001b[43m(\u001b[49m\u001b[38;5;28;43mself\u001b[39;49m\u001b[43m,\u001b[49m\u001b[43m \u001b[49m\u001b[43mx\u001b[49m\u001b[43m)\u001b[49m\n\u001b[1;32m    144\u001b[0m \u001b[38;5;28;01mif\u001b[39;00m swapaxis:\n\u001b[1;32m    145\u001b[0m     y \u001b[38;5;241m=\u001b[39m y\u001b[38;5;241m.\u001b[39mswapaxes(\u001b[38;5;28mself\u001b[39m\u001b[38;5;241m.\u001b[39maxis, \u001b[38;5;241m-\u001b[39m\u001b[38;5;241m1\u001b[39m)\n",
      "File \u001b[0;32m~/Desktop/KAUST/OpenSource/pylops/pylops/signalprocessing/convolve1d.py:108\u001b[0m, in \u001b[0;36m_Convolve1Dshort._matvec\u001b[0;34m(self, x)\u001b[0m\n\u001b[1;32m    106\u001b[0m \u001b[38;5;28mprint\u001b[39m(\u001b[38;5;124m'\u001b[39m\u001b[38;5;124mself.convfunc, self.method\u001b[39m\u001b[38;5;124m'\u001b[39m, \u001b[38;5;28mself\u001b[39m\u001b[38;5;241m.\u001b[39mconvfunc, \u001b[38;5;28mself\u001b[39m\u001b[38;5;241m.\u001b[39mmethod)\n\u001b[1;32m    107\u001b[0m \u001b[38;5;28mprint\u001b[39m(\u001b[38;5;124m'\u001b[39m\u001b[38;5;124mx, h\u001b[39m\u001b[38;5;124m'\u001b[39m, x\u001b[38;5;241m.\u001b[39mshape, \u001b[38;5;28mself\u001b[39m\u001b[38;5;241m.\u001b[39mh\u001b[38;5;241m.\u001b[39mshape)\n\u001b[0;32m--> 108\u001b[0m \u001b[38;5;28;01mreturn\u001b[39;00m \u001b[38;5;28;43mself\u001b[39;49m\u001b[38;5;241;43m.\u001b[39;49m\u001b[43mconvfunc\u001b[49m\u001b[43m(\u001b[49m\u001b[43mx\u001b[49m\u001b[43m,\u001b[49m\u001b[43m \u001b[49m\u001b[38;5;28;43mself\u001b[39;49m\u001b[38;5;241;43m.\u001b[39;49m\u001b[43mh\u001b[49m\u001b[43m,\u001b[49m\u001b[43m \u001b[49m\u001b[43mmode\u001b[49m\u001b[38;5;241;43m=\u001b[39;49m\u001b[38;5;124;43m\"\u001b[39;49m\u001b[38;5;124;43msame\u001b[39;49m\u001b[38;5;124;43m\"\u001b[39;49m\u001b[43m)\u001b[49m\n",
      "File \u001b[0;32m/opt/anaconda3/envs/pylops/lib/python3.9/site-packages/jax/_src/scipy/signal.py:57\u001b[0m, in \u001b[0;36mfftconvolve\u001b[0;34m(in1, in2, mode, axes)\u001b[0m\n\u001b[1;32m     55\u001b[0m mapped_axes \u001b[38;5;241m=\u001b[39m \u001b[38;5;28mset\u001b[39m(\u001b[38;5;28mrange\u001b[39m(in1\u001b[38;5;241m.\u001b[39mndim)) \u001b[38;5;241m-\u001b[39m \u001b[38;5;28mset\u001b[39m(axes)\n\u001b[1;32m     56\u001b[0m \u001b[38;5;28;01mif\u001b[39;00m \u001b[38;5;28many\u001b[39m(in1\u001b[38;5;241m.\u001b[39mshape[i] \u001b[38;5;241m!=\u001b[39m in2\u001b[38;5;241m.\u001b[39mshape[i] \u001b[38;5;28;01mfor\u001b[39;00m i \u001b[38;5;129;01min\u001b[39;00m mapped_axes):\n\u001b[0;32m---> 57\u001b[0m   \u001b[38;5;28;01mraise\u001b[39;00m \u001b[38;5;167;01mValueError\u001b[39;00m(\u001b[38;5;124mf\u001b[39m\u001b[38;5;124m\"\u001b[39m\u001b[38;5;124mmapped axes must have same shape; got \u001b[39m\u001b[38;5;132;01m{\u001b[39;00min1\u001b[38;5;241m.\u001b[39mshape\u001b[38;5;132;01m=}\u001b[39;00m\u001b[38;5;124m \u001b[39m\u001b[38;5;132;01m{\u001b[39;00min2\u001b[38;5;241m.\u001b[39mshape\u001b[38;5;132;01m=}\u001b[39;00m\u001b[38;5;124m \u001b[39m\u001b[38;5;132;01m{\u001b[39;00maxes\u001b[38;5;132;01m=}\u001b[39;00m\u001b[38;5;124m\"\u001b[39m)\n\u001b[1;32m     58\u001b[0m \u001b[38;5;28;01mfor\u001b[39;00m ax \u001b[38;5;129;01min\u001b[39;00m \u001b[38;5;28msorted\u001b[39m(mapped_axes):\n\u001b[1;32m     59\u001b[0m   _fftconvolve \u001b[38;5;241m=\u001b[39m jax\u001b[38;5;241m.\u001b[39mvmap(_fftconvolve, in_axes\u001b[38;5;241m=\u001b[39max, out_axes\u001b[38;5;241m=\u001b[39max)\n",
      "\u001b[0;31mValueError\u001b[0m: mapped axes must have same shape; got in1.shape=(301, 20) in2.shape=(3, 1) axes=(0,)"
     ]
    }
   ],
   "source": [
    "nt = 301\n",
    "nx = 20\n",
    "dt = 0.004\n",
    "t  = np.arange(nt)*dt\n",
    "\n",
    "h = np.ones(3)\n",
    "hcenter=1\n",
    "\n",
    "Cop = Convolve1D(dims=[nt,nx], h=h, offset=hcenter, axis=0, dtype='float32')\n",
    "x  = np.zeros((nt, nx))\n",
    "x[int(nt/2),:] = 1\n",
    "y = Cop @ x\n",
    "\n",
    "hjnp = jnp.array(h).astype(jnp.float32)\n",
    "Copjax = JaxOperator(Convolve1D(dims=[nt,nx], h=hjnp, offset=hcenter, axis=0, dtype='float32'))\n",
    "\n",
    "xjnp = jnp.array(x).astype(jnp.float32)\n",
    "yjnp = (Copjax @ xjnp).block_until_ready()\n",
    "print('y=', type(yjnp))\n",
    "\n",
    "dottest(Copjax, backend='jax', verb=True, atol=1e-3)\n",
    "\n",
    "%timeit -n 10 -r 2 Cop @ x\n",
    "%timeit -n 10 -r 2 (Copjax @ xjnp).block_until_ready()"
   ]
  },
  {
   "cell_type": "code",
   "execution_count": 49,
   "id": "230904a4",
   "metadata": {},
   "outputs": [],
   "source": [
    "ny, nx = 400, 400\n",
    "G = jnp.array(np.random.normal(0, 1, (ny, nx)).astype(np.float32))\n",
    "x = jnp.ones(nx, dtype=np.float32)\n",
    "\n",
    "Gop = MatrixMult(G, dtype='float32')\n",
    "y = Gop * x\n",
    "xest = Gop / y"
   ]
  },
  {
   "cell_type": "code",
   "execution_count": null,
   "id": "6750074e",
   "metadata": {},
   "outputs": [],
   "source": []
  }
 ],
 "metadata": {
  "kernelspec": {
   "display_name": "Python 3 (ipykernel)",
   "language": "python",
   "name": "python3"
  },
  "language_info": {
   "codemirror_mode": {
    "name": "ipython",
    "version": 3
   },
   "file_extension": ".py",
   "mimetype": "text/x-python",
   "name": "python",
   "nbconvert_exporter": "python",
   "pygments_lexer": "ipython3",
   "version": "3.9.18"
  },
  "toc": {
   "base_numbering": 1,
   "nav_menu": {},
   "number_sections": true,
   "sideBar": true,
   "skip_h1_title": false,
   "title_cell": "Table of Contents",
   "title_sidebar": "Contents",
   "toc_cell": false,
   "toc_position": {
    "height": "calc(100% - 180px)",
    "left": "10px",
    "top": "150px",
    "width": "287.984375px"
   },
   "toc_section_display": true,
   "toc_window_display": true
  }
 },
 "nbformat": 4,
 "nbformat_minor": 5
}
