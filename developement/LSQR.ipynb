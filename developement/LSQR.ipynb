{
 "cells": [
  {
   "cell_type": "markdown",
   "id": "assigned-migration",
   "metadata": {},
   "source": [
    "# Pylops - LSQR"
   ]
  },
  {
   "cell_type": "markdown",
   "id": "comic-general",
   "metadata": {},
   "source": [
    "### Author: M.Ravasi"
   ]
  },
  {
   "cell_type": "markdown",
   "id": "detected-shield",
   "metadata": {},
   "source": [
    "In this notebook I compare scipy and pylops LSQR"
   ]
  },
  {
   "cell_type": "code",
   "execution_count": 1,
   "id": "joined-wilson",
   "metadata": {},
   "outputs": [],
   "source": [
    "%load_ext autoreload\n",
    "%autoreload 2\n",
    "%matplotlib inline\n",
    "\n",
    "#import warnings\n",
    "#warnings.filterwarnings('ignore')\n",
    "\n",
    "import numpy as np\n",
    "import matplotlib.pyplot as plt\n",
    "import scipy as sp\n",
    "\n",
    "from scipy.sparse.linalg import lsqr as sp_lsqr\n",
    "from pylops.basicoperators import *\n",
    "from pylops.optimization.solver import lsqr, cgls"
   ]
  },
  {
   "cell_type": "code",
   "execution_count": 2,
   "id": "democratic-lecture",
   "metadata": {
    "scrolled": false
   },
   "outputs": [
    {
     "name": "stdout",
     "output_type": "stream",
     "text": [
      " \n",
      "LSQR            Least-squares solution of  Ax = b\n",
      "The matrix A has 50 rows and 50 columns\n",
      "damp = 1.00000000000000e-10   calc_var =        0\n",
      "atol = 1.00e-10                 conlim = 1.00e+12\n",
      "btol = 1.00e-10               iter_lim =       50\n",
      " \n",
      "   Itn      x[0]       r1norm     r2norm   Compatible    LS      Norm A   Cond A\n",
      "     0  0.00000e+00   5.377e+01  5.377e+01    1.0e+00  1.8e-01\n",
      "     1  7.06452e-01   2.024e+01  2.024e+01    3.8e-01  7.7e-01   1.1e+01  1.0e+00\n",
      "     2  5.36587e-01   1.239e+01  1.239e+01    2.3e-01  3.8e-01   1.5e+01  2.1e+00\n",
      "     3  7.79517e-01   7.711e+00  7.711e+00    1.4e-01  3.1e-01   1.8e+01  3.5e+00\n",
      "     4  8.14579e-01   5.684e+00  5.684e+00    1.1e-01  2.7e-01   2.0e+01  4.9e+00\n",
      "     5  7.66140e-01   4.483e+00  4.483e+00    8.3e-02  1.8e-01   2.2e+01  6.5e+00\n",
      "     6  7.46682e-01   3.805e+00  3.805e+00    7.1e-02  1.3e-01   2.4e+01  8.1e+00\n",
      "     7  7.47093e-01   3.378e+00  3.378e+00    6.3e-02  1.3e-01   2.6e+01  9.9e+00\n",
      "     8  7.48014e-01   2.930e+00  2.930e+00    5.4e-02  1.3e-01   2.8e+01  1.2e+01\n",
      "     9  7.64958e-01   2.398e+00  2.398e+00    4.5e-02  1.5e-01   2.9e+01  1.5e+01\n",
      "    10  7.80227e-01   1.901e+00  1.901e+00    3.5e-02  1.2e-01   3.0e+01  1.8e+01\n",
      "    40  1.04342e+00   1.279e-01  1.279e-01    2.4e-03  2.3e-02   5.3e+01  1.3e+02\n",
      "    41  1.04404e+00   1.262e-01  1.262e-01    2.3e-03  3.0e-02   5.3e+01  1.3e+02\n",
      "    42  1.04553e+00   1.198e-01  1.198e-01    2.2e-03  1.8e-02   5.4e+01  1.4e+02\n",
      "    43  1.04637e+00   1.120e-01  1.120e-01    2.1e-03  3.1e-02   5.4e+01  1.5e+02\n",
      "    44  1.04617e+00   1.106e-01  1.106e-01    2.1e-03  1.5e-02   5.6e+01  1.6e+02\n",
      "    45  1.04602e+00   1.066e-01  1.066e-01    2.0e-03  1.8e-02   5.6e+01  1.6e+02\n",
      "    46  1.04569e+00   1.051e-01  1.051e-01    2.0e-03  2.6e-02   5.6e+01  1.7e+02\n",
      "    47  1.04486e+00   1.015e-01  1.015e-01    1.9e-03  1.4e-02   5.7e+01  1.7e+02\n",
      "    48  1.04868e+00   8.577e-02  8.577e-02    1.6e-03  3.8e-02   5.7e+01  2.0e+02\n",
      "    49  1.05099e+00   8.013e-02  8.013e-02    1.5e-03  5.2e-02   5.8e+01  2.0e+02\n",
      "    50  1.05438e+00   6.886e-02  6.886e-02    1.3e-03  2.7e-02   5.9e+01  2.2e+02\n",
      " \n",
      "LSQR finished\n",
      "The iteration limit has been reached                      \n",
      " \n",
      "istop =       7   r1norm = 6.9e-02   anorm = 5.9e+01   arnorm = 1.1e-01\n",
      "itn   =      50   r2norm = 6.9e-02   acond = 2.2e+02   xnorm  = 7.0e+00\n",
      " \n",
      "LSQR\n",
      "-------------------------------------------------\n",
      "The Operator Op has 50 rows and 50 cols\n",
      "damp = 1.00000000000000e-10     calc_var =      1\n",
      "atol = 1.00e-10                 conlim = 1.00e+12\n",
      "btol = 1.00e-10                 niter =       50\n",
      "-------------------------------------------------\n",
      " \n",
      "   Itn      x[0]       r1norm     r2norm  Compatible   LS      Norm A   Cond A\n",
      "     0  0.00000e+00  5.377e+01  5.377e+01   1.0e+00  1.8e-01\n",
      "     1  7.06452e-01  2.024e+01  2.024e+01   3.8e-01  3.1e-01  1.1e+01  1.0e+00\n",
      "     2  5.36587e-01  1.239e+01  1.239e+01   2.3e-01  1.4e-01  1.5e+01  2.1e+00\n",
      "     3  7.79517e-01  7.711e+00  7.711e+00   1.4e-01  7.8e-02  1.8e+01  3.5e+00\n",
      "     4  8.14579e-01  5.684e+00  5.684e+00   1.1e-01  5.7e-02  2.0e+01  4.9e+00\n",
      "     5  7.66140e-01  4.483e+00  4.483e+00   8.3e-02  3.5e-02  2.2e+01  6.5e+00\n",
      "     6  7.46682e-01  3.805e+00  3.805e+00   7.1e-02  2.3e-02  2.4e+01  8.1e+00\n",
      "     7  7.47093e-01  3.378e+00  3.378e+00   6.3e-02  2.1e-02  2.6e+01  9.9e+00\n",
      "     8  7.48014e-01  2.930e+00  2.930e+00   5.4e-02  1.9e-02  2.8e+01  1.2e+01\n",
      "     9  7.64958e-01  2.398e+00  2.398e+00   4.5e-02  2.0e-02  2.9e+01  1.5e+01\n",
      "    10  7.80227e-01  1.901e+00  1.901e+00   3.5e-02  1.4e-02  3.0e+01  1.8e+01\n",
      "    20  8.89952e-01  5.482e-01  5.482e-01   1.0e-02  2.0e-03  4.1e+01  4.3e+01\n",
      "    30  1.03814e+00  1.812e-01  1.812e-01   3.4e-03  5.6e-04  4.6e+01  8.5e+01\n",
      "    40  1.04352e+00  1.277e-01  1.277e-01   2.4e-03  2.5e-04  5.3e+01  1.3e+02\n",
      "    41  1.04439e+00  1.243e-01  1.243e-01   2.3e-03  5.1e-04  5.3e+01  1.3e+02\n",
      "    42  1.04557e+00  1.198e-01  1.198e-01   2.2e-03  2.2e-04  5.4e+01  1.4e+02\n",
      "    43  1.04591e+00  1.123e-01  1.123e-01   2.1e-03  3.8e-04  5.4e+01  1.5e+02\n",
      "    44  1.04626e+00  1.106e-01  1.106e-01   2.1e-03  1.7e-04  5.6e+01  1.6e+02\n",
      "    45  1.04601e+00  1.065e-01  1.065e-01   2.0e-03  1.8e-04  5.6e+01  1.6e+02\n",
      "    46  1.04509e+00  1.029e-01  1.029e-01   1.9e-03  2.9e-04  5.6e+01  1.7e+02\n",
      "    47  1.04487e+00  1.015e-01  1.015e-01   1.9e-03  1.7e-04  5.7e+01  1.7e+02\n",
      "    48  1.04894e+00  8.533e-02  8.533e-02   1.6e-03  3.1e-04  5.7e+01  2.0e+02\n",
      "    49  1.05375e+00  7.108e-02  7.108e-02   1.3e-03  3.0e-04  5.8e+01  2.1e+02\n",
      "    50  1.05450e+00  6.839e-02  6.839e-02   1.3e-03  2.6e-04  5.8e+01  2.2e+02\n",
      " \n",
      "LSQR finished\n",
      "The iteration limit has been reached                      \n",
      " \n",
      "istop =       7   r1norm = 6.8e-02   anorm = 5.8e+01   arnorm = 1.4e-01\n",
      "itn   =      50   r2norm = 6.8e-02   acond = 2.2e+02   xnorm  = 7.0e+00\n",
      " \n"
     ]
    },
    {
     "data": {
      "image/png": "[encoded data removed]",
      "text/plain": [
       "<Figure size 432x288 with 1 Axes>"
      ]
     },
     "metadata": {
      "needs_background": "light"
     },
     "output_type": "display_data"
    }
   ],
   "source": [
    "par = {'n': 50, 'm': 50, 'k': 14,\n",
    "        'dtype': np.float64, 'sparse': False} # square\n",
    "\n",
    "# Create random m-by-n encoding matrix\n",
    "m = par['m']\n",
    "n = par['n']\n",
    "A = np.random.normal(0, 1, (m, n))\n",
    "Aop = MatrixMult(A)\n",
    "x = np.ones(n)\n",
    "y = A.dot(x)\n",
    "\n",
    "damp = 1e-10\n",
    "atol = 1e-10\n",
    "btol = 1e-10\n",
    "conlim = 1e12\n",
    "itn_max = 50\n",
    "show = True\n",
    "\n",
    "# Without initial guess\n",
    "xinv_sp, istop_sp, itn_sp, r1norm_sp, r2norm_sp, anorm_sp, \\\n",
    "acond_sp, arnorm_sp, xnorm_sp, var_sp = \\\n",
    "    sp_lsqr(Aop, y, damp, atol, btol, conlim, itn_max, show)\n",
    "\n",
    "xinv, istop, itn, r1norm, r2norm, anorm, acond, arnorm, xnorm, var = \\\n",
    "    lsqr(Aop, y, np.zeros(n), damp, atol, btol, conlim, itn_max, True, show)\n",
    "\n",
    "plt.figure()\n",
    "plt.plot(xinv)\n",
    "plt.plot(xinv_sp, '--')\n",
    "plt.ylim(2, 0);"
   ]
  },
  {
   "cell_type": "code",
   "execution_count": 12,
   "id": "thermal-equilibrium",
   "metadata": {
    "scrolled": false
   },
   "outputs": [
    {
     "name": "stdout",
     "output_type": "stream",
     "text": [
      " \n",
      "LSQR            Least-squares solution of  Ax = b\n",
      "The matrix A has 50 rows and 50 columns\n",
      "damp = 1.00000000000000e-10   calc_var =        0\n",
      "atol = 1.00e-10                 conlim = 1.00e+12\n",
      "btol = 1.00e-10               iter_lim =      100\n",
      " \n",
      "   Itn      x[0]       r1norm     r2norm   Compatible    LS      Norm A   Cond A\n",
      "     0 -9.36353e-01   7.034e+01  7.034e+01    1.0e+00  1.3e-01\n",
      "     1  2.92179e-01   3.168e+01  3.168e+01    6.4e-01  7.5e-01   1.0e+01  1.0e+00\n",
      "     2  5.90425e-02   1.935e+01  1.935e+01    3.9e-01  3.7e-01   1.4e+01  2.2e+00\n",
      "     3  1.27420e-01   1.410e+01  1.410e+01    2.8e-01  3.4e-01   1.7e+01  3.5e+00\n",
      "     4  3.46977e-01   9.421e+00  9.421e+00    1.9e-01  3.1e-01   2.0e+01  5.2e+00\n",
      "     5  5.34943e-01   6.753e+00  6.753e+00    1.4e-01  2.5e-01   2.2e+01  6.8e+00\n",
      "     6  7.09822e-01   4.851e+00  4.851e+00    9.8e-02  1.8e-01   2.4e+01  8.5e+00\n",
      "     7  7.34662e-01   4.106e+00  4.106e+00    8.3e-02  1.5e-01   2.6e+01  1.0e+01\n",
      "     8  7.22968e-01   3.351e+00  3.351e+00    6.7e-02  1.5e-01   2.7e+01  1.2e+01\n",
      "     9  7.39242e-01   2.665e+00  2.665e+00    5.4e-02  1.3e-01   2.9e+01  1.4e+01\n",
      "    10  7.88461e-01   2.289e+00  2.289e+00    4.6e-02  1.3e-01   3.0e+01  1.6e+01\n",
      "    67  1.00000e+00   5.553e-07  5.553e-07    1.1e-08  1.2e-01   6.8e+01  6.9e+02\n",
      "    68  1.00000e+00   9.056e-08  9.056e-08    1.8e-09  1.2e-01   6.8e+01  7.0e+02\n",
      "    69  1.00000e+00   4.441e-08  4.442e-08    8.9e-10  1.3e-01   6.9e+01  7.1e+02\n",
      " \n",
      "LSQR finished\n",
      "Ax - b is small enough, given atol, btol                  \n",
      " \n",
      "istop =       1   r1norm = 4.4e-08   anorm = 6.9e+01   arnorm = 3.8e-07\n",
      "itn   =      69   r2norm = 4.4e-08   acond = 7.1e+02   xnorm  = 1.1e+01\n",
      " \n",
      "LSQR\n",
      "-------------------------------------------------\n",
      "The Operator Op has 50 rows and 50 cols\n",
      "damp = 1.00000000000000e-10     calc_var =      1\n",
      "atol = 1.00e-10                 conlim = 1.00e+12\n",
      "btol = 1.00e-10                 niter =      100\n",
      "-------------------------------------------------\n",
      " \n",
      "   Itn      x[0]       r1norm     r2norm  Compatible   LS      Norm A   Cond A\n",
      "     0 -9.36353e-01  7.034e+01  7.034e+01   1.0e+00  1.3e-01\n",
      "     1  2.92179e-01  3.168e+01  3.168e+01   4.5e-01  3.8e-01  1.0e+01  1.0e+00\n",
      "     2  5.90425e-02  1.935e+01  1.935e+01   2.8e-01  1.6e-01  1.4e+01  2.2e+00\n",
      "     3  1.27420e-01  1.410e+01  1.410e+01   2.0e-01  1.3e-01  1.7e+01  3.5e+00\n",
      "     4  3.46977e-01  9.421e+00  9.421e+00   1.3e-01  9.1e-02  2.0e+01  5.2e+00\n",
      "     5  5.34943e-01  6.753e+00  6.753e+00   9.6e-02  5.8e-02  2.2e+01  6.8e+00\n",
      "     6  7.09822e-01  4.851e+00  4.851e+00   6.9e-02  3.3e-02  2.4e+01  8.5e+00\n",
      "     7  7.34662e-01  4.106e+00  4.106e+00   5.8e-02  2.4e-02  2.6e+01  1.0e+01\n",
      "     8  7.22968e-01  3.351e+00  3.351e+00   4.8e-02  2.2e-02  2.7e+01  1.2e+01\n",
      "     9  7.39242e-01  2.665e+00  2.665e+00   3.8e-02  1.6e-02  2.9e+01  1.4e+01\n",
      "    10  7.88461e-01  2.289e+00  2.289e+00   3.3e-02  1.4e-02  3.0e+01  1.6e+01\n",
      "    20  9.95885e-01  1.181e+00  1.181e+00   1.7e-02  2.7e-03  4.0e+01  4.2e+01\n",
      "    30  7.91894e-01  5.082e-01  5.082e-01   7.2e-03  1.5e-03  4.6e+01  1.1e+02\n",
      "    40  8.68638e-01  2.208e-01  2.208e-01   3.1e-03  5.8e-04  5.2e+01  1.6e+02\n",
      "    50  8.88644e-01  1.023e-01  1.023e-01   1.5e-03  1.9e-04  5.7e+01  2.0e+02\n",
      "    60  9.13044e-01  8.250e-02  8.250e-02   1.2e-03  5.1e-05  6.3e+01  3.5e+02\n",
      "    67  1.00000e+00  4.468e-07  4.468e-07   6.4e-09  5.3e-09  6.8e+01  6.9e+02\n",
      "    68  1.00000e+00  9.403e-08  9.404e-08   1.3e-09  1.1e-09  6.8e+01  7.0e+02\n",
      "    69  1.00000e+00  1.151e-08  1.156e-08   1.6e-10  1.5e-10  6.9e+01  7.0e+02\n",
      " \n",
      "LSQR finished, Opx - b is small enough, given atol, btol                  \n",
      " \n",
      "istop =       1   r1norm = 1.2e-08   anorm = 6.9e+01   arnorm = 9.5e-08\n",
      "itn   =      69   r2norm = 1.2e-08   acond = 7.0e+02   xnorm  = 1.1e+01\n",
      "-----------------------------------------------------------------------\n"
     ]
    },
    {
     "data": {
      "image/png": "[encoded data removed]",
      "text/plain": [
       "<Figure size 432x288 with 1 Axes>"
      ]
     },
     "metadata": {
      "needs_background": "light"
     },
     "output_type": "display_data"
    }
   ],
   "source": [
    "par = {'n': 50, 'm': 50, 'k': 14,\n",
    "        'dtype': np.float64, 'sparse': False} # square\n",
    "\n",
    "# Create random m-by-n encoding matrix\n",
    "m = par['m']\n",
    "n = par['n']\n",
    "A = np.random.normal(0, 1, (m, n))\n",
    "Aop = MatrixMult(A)\n",
    "x = np.ones(n)\n",
    "y = A.dot(x)\n",
    "\n",
    "damp = 1e-10\n",
    "atol = 1e-10\n",
    "btol = 1e-10\n",
    "conlim = 1e12\n",
    "itn_max = 100\n",
    "show = True\n",
    "\n",
    "x0 = np.random.normal(0, 1, n)\n",
    "\n",
    "# With initial guess\n",
    "xinv_sp, istop_sp, itn_sp, r1norm_sp, r2norm_sp, anorm_sp, \\\n",
    "acond_sp, arnorm_sp, xnorm_sp, var_sp = \\\n",
    "sp_lsqr(Aop, y, damp, atol, btol, conlim, itn_max, show, x0=x0)\n",
    "#    sp_lsqr(Aop, y - Aop * x0, damp, atol, btol, conlim, itn_max, show)\n",
    "#xinv_sp += x0\n",
    "xinv, istop, itn, r1norm, r2norm, anorm, acond, arnorm, xnorm, var = \\\n",
    "    lsqr(Aop, y, x0, damp, atol, btol, conlim, itn_max, True, show)\n",
    "\n",
    "plt.figure()\n",
    "plt.plot(xinv)\n",
    "plt.plot(xinv_sp, '--')\n",
    "plt.ylim(2, 0);"
   ]
  },
  {
   "cell_type": "code",
   "execution_count": 7,
   "id": "widespread-corner",
   "metadata": {},
   "outputs": [
    {
     "name": "stdout",
     "output_type": "stream",
     "text": [
      "CGLS\n",
      "-----------------------------------------------------------\n",
      "The Operator Op has 50 rows and 50 cols\n",
      "damp = 0.000000e+00\ttol = 1.000000e-04\tniter = 100\n",
      "-----------------------------------------------------------\n",
      "    Itn           x[0]              r1norm          r2norm\n",
      "     1        -3.0098e-01         2.2671e+01      2.2671e+01\n",
      "     2        -2.4196e-01         1.3604e+01      1.3604e+01\n",
      "     3        -3.1601e-01         9.2420e+00      9.2420e+00\n",
      "     4        -1.4992e-01         6.4799e+00      6.4799e+00\n",
      "     5        -4.7499e-02         5.1742e+00      5.1742e+00\n",
      "     6         5.8209e-02         3.8269e+00      3.8269e+00\n",
      "     7         1.1207e-01         3.0126e+00      3.0126e+00\n",
      "     8         1.1782e-01         2.5071e+00      2.5071e+00\n",
      "     9         1.6014e-01         2.2196e+00      2.2196e+00\n",
      "    10         2.1591e-01         1.9039e+00      1.9039e+00\n",
      "    20         5.0873e-01         5.4517e-01      5.4517e-01\n",
      "    30         6.6829e-01         3.0184e-01      3.0184e-01\n",
      "    40         6.7591e-01         2.7523e-01      2.7523e-01\n",
      "    50         9.2962e-01         7.8047e-02      7.8047e-02\n",
      "\n",
      "Iterations = 59        Total time (s) = 0.00\n",
      "-----------------------------------------------------------------\n",
      "\n"
     ]
    }
   ],
   "source": [
    "cgls(Aop, y, np.zeros(n), itn_max, show=True);"
   ]
  },
  {
   "cell_type": "code",
   "execution_count": null,
   "id": "representative-plaza",
   "metadata": {},
   "outputs": [],
   "source": []
  }
 ],
 "metadata": {
  "kernelspec": {
   "display_name": "Python 3",
   "language": "python",
   "name": "python3"
  },
  "language_info": {
   "codemirror_mode": {
    "name": "ipython",
    "version": 3
   },
   "file_extension": ".py",
   "mimetype": "text/x-python",
   "name": "python",
   "nbconvert_exporter": "python",
   "pygments_lexer": "ipython3",
   "version": "3.8.5"
  }
 },
 "nbformat": 4,
 "nbformat_minor": 5
}
