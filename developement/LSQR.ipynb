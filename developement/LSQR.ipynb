{
 "cells": [
  {
   "cell_type": "markdown",
   "id": "assigned-migration",
   "metadata": {},
   "source": [
    "# Pylops - LSQR"
   ]
  },
  {
   "cell_type": "markdown",
   "id": "comic-general",
   "metadata": {},
   "source": [
    "### Author: M.Ravasi"
   ]
  },
  {
   "cell_type": "markdown",
   "id": "detected-shield",
   "metadata": {},
   "source": [
    "In this notebook I compare scipy and pylops LSQR"
   ]
  },
  {
   "cell_type": "code",
   "execution_count": 1,
   "id": "joined-wilson",
   "metadata": {},
   "outputs": [],
   "source": [
    "%load_ext autoreload\n",
    "%autoreload 2\n",
    "%matplotlib inline\n",
    "\n",
    "#import warnings\n",
    "#warnings.filterwarnings('ignore')\n",
    "\n",
    "import numpy as np\n",
    "import matplotlib.pyplot as plt\n",
    "import scipy as sp\n",
    "\n",
    "from scipy.sparse.linalg import lsqr as sp_lsqr\n",
    "from pylops.basicoperators import *\n",
    "from pylops.optimization.basic import lsqr, cgls"
   ]
  },
  {
   "cell_type": "markdown",
   "id": "recovered-corps",
   "metadata": {},
   "source": [
    "## LSQR with zero initial guess"
   ]
  },
  {
   "cell_type": "code",
   "execution_count": 2,
   "id": "democratic-lecture",
   "metadata": {
    "scrolled": false
   },
   "outputs": [
    {
     "name": "stdout",
     "output_type": "stream",
     "text": [
      " \n",
      "LSQR            Least-squares solution of  Ax = b\n",
      "The matrix A has 50 rows and 50 columns\n",
      "damp = 1.00000000000000e-10   calc_var =        0\n",
      "atol = 1.00e-10                 conlim = 1.00e+12\n",
      "btol = 1.00e-10               iter_lim =       50\n",
      " \n",
      "   Itn      x[0]       r1norm     r2norm   Compatible    LS      Norm A   Cond A\n",
      "     0  0.00000e+00   5.361e+01  5.361e+01    1.0e+00  1.8e-01\n",
      "     1  2.91288e-01   2.287e+01  2.287e+01    4.3e-01  7.7e-01   1.0e+01  1.0e+00\n",
      "     2  4.53767e-01   1.075e+01  1.075e+01    2.0e-01  4.9e-01   1.4e+01  2.2e+00\n",
      "     3  2.11292e-01   5.851e+00  5.851e+00    1.1e-01  3.6e-01   1.7e+01  3.4e+00\n",
      "     4  1.58158e-01   3.928e+00  3.928e+00    7.3e-02  2.6e-01   1.9e+01  4.7e+00\n",
      "     5  1.85204e-01   3.136e+00  3.136e+00    5.8e-02  2.0e-01   2.2e+01  6.0e+00\n",
      "     6  1.75748e-01   2.697e+00  2.697e+00    5.0e-02  1.3e-01   2.4e+01  7.6e+00\n",
      "     7  2.02568e-01   2.376e+00  2.376e+00    4.4e-02  1.4e-01   2.5e+01  9.5e+00\n",
      "     8  2.08146e-01   2.159e+00  2.159e+00    4.0e-02  8.6e-02   2.7e+01  1.2e+01\n",
      "     9  2.23359e-01   2.018e+00  2.018e+00    3.8e-02  9.4e-02   2.9e+01  1.4e+01\n",
      "    10  2.56350e-01   1.854e+00  1.854e+00    3.5e-02  7.4e-02   3.0e+01  1.6e+01\n",
      "    40  1.01387e+00   4.411e-02  4.411e-02    8.2e-04  2.6e-02   5.2e+01  1.1e+02\n",
      "    41  1.01325e+00   4.208e-02  4.208e-02    7.9e-04  1.8e-02   5.3e+01  1.2e+02\n",
      "    42  1.01221e+00   4.016e-02  4.016e-02    7.5e-04  1.8e-02   5.3e+01  1.2e+02\n",
      "    43  1.01189e+00   3.933e-02  3.933e-02    7.3e-04  4.0e-02   5.3e+01  1.3e+02\n",
      "    44  1.01031e+00   3.565e-02  3.565e-02    6.7e-04  1.9e-02   5.5e+01  1.4e+02\n",
      "    45  1.00955e+00   3.044e-02  3.044e-02    5.7e-04  3.5e-02   5.5e+01  1.5e+02\n",
      "    46  1.00944e+00   2.961e-02  2.961e-02    5.5e-04  3.4e-02   5.5e+01  1.6e+02\n",
      "    47  1.00958e+00   2.746e-02  2.746e-02    5.1e-04  1.1e-02   5.6e+01  1.6e+02\n",
      "    48  1.00942e+00   2.699e-02  2.699e-02    5.0e-04  2.9e-02   5.6e+01  1.7e+02\n",
      "    49  1.00911e+00   2.630e-02  2.630e-02    4.9e-04  7.3e-03   5.7e+01  1.7e+02\n",
      "    50  1.00741e+00   2.476e-02  2.476e-02    4.6e-04  3.1e-02   5.7e+01  1.9e+02\n",
      " \n",
      "LSQR finished\n",
      "The iteration limit has been reached                      \n",
      " \n",
      "istop =       7   r1norm = 2.5e-02   anorm = 5.7e+01   arnorm = 4.4e-02\n",
      "itn   =      50   r2norm = 2.5e-02   acond = 1.9e+02   xnorm  = 7.1e+00\n",
      " \n",
      "LSQR\n",
      "------------------------------------------------------------------------------------------\n",
      "The Operator Op has 50 rows and 50 cols\n",
      "damp = 1.00000000000000e-10     calc_var =      1\n",
      "atol = 1.00e-10                 conlim = 1.00e+12\n",
      "btol = 1.00e-10                 niter =       50\n",
      "------------------------------------------------------------------------------------------\n",
      "   Itn     x[0]      r1norm     r2norm   Compatible   LS     Norm A   Cond A\n",
      "     0  0.0000e+00  5.361e+01  5.361e+01   1.0e+00  1.8e-01\n",
      "     1  2.9129e-01  2.287e+01  2.287e+01   4.3e-01  3.6e-01  1.0e+01  1.0e+00\n",
      "     2  4.5377e-01  1.075e+01  1.075e+01   2.0e-01  1.5e-01  1.4e+01  2.2e+00\n",
      "     3  2.1129e-01  5.851e+00  5.851e+00   1.1e-01  7.0e-02  1.7e+01  3.4e+00\n",
      "     4  1.5816e-01  3.928e+00  3.928e+00   7.3e-02  3.9e-02  1.9e+01  4.7e+00\n",
      "     5  1.8520e-01  3.136e+00  3.136e+00   5.8e-02  2.7e-02  2.2e+01  6.0e+00\n",
      "     6  1.7575e-01  2.697e+00  2.697e+00   5.0e-02  1.6e-02  2.4e+01  7.6e+00\n",
      "     7  2.0257e-01  2.376e+00  2.376e+00   4.4e-02  1.6e-02  2.5e+01  9.5e+00\n",
      "     8  2.0815e-01  2.159e+00  2.159e+00   4.0e-02  9.9e-03  2.7e+01  1.2e+01\n",
      "     9  2.2336e-01  2.018e+00  2.018e+00   3.8e-02  1.1e-02  2.9e+01  1.4e+01\n",
      "    10  2.5635e-01  1.854e+00  1.854e+00   3.5e-02  8.2e-03  3.0e+01  1.6e+01\n",
      "    11  3.1234e-01  1.702e+00  1.702e+00   3.2e-02  8.3e-03  3.1e+01  1.9e+01\n",
      "    21  9.3874e-01  3.786e-01  3.786e-01   7.1e-03  2.7e-03  4.1e+01  5.8e+01\n",
      "    31  1.0154e+00  1.198e-01  1.198e-01   2.2e-03  6.4e-04  4.7e+01  8.6e+01\n",
      "    41  1.0132e+00  4.209e-02  4.209e-02   7.9e-04  8.0e-05  5.3e+01  1.2e+02\n",
      "    42  1.0122e+00  4.014e-02  4.014e-02   7.5e-04  7.1e-05  5.3e+01  1.2e+02\n",
      "    43  1.0106e+00  3.647e-02  3.647e-02   6.8e-04  1.6e-04  5.3e+01  1.3e+02\n",
      "    44  1.0103e+00  3.563e-02  3.563e-02   6.6e-04  7.8e-05  5.4e+01  1.4e+02\n",
      "    45  1.0095e+00  3.030e-02  3.030e-02   5.7e-04  9.5e-05  5.5e+01  1.5e+02\n",
      "    46  1.0095e+00  2.918e-02  2.918e-02   5.4e-04  1.4e-04  5.5e+01  1.6e+02\n",
      "    47  1.0096e+00  2.745e-02  2.745e-02   5.1e-04  3.2e-05  5.6e+01  1.6e+02\n",
      "    48  1.0093e+00  2.666e-02  2.666e-02   5.0e-04  8.0e-05  5.6e+01  1.7e+02\n",
      "    49  1.0091e+00  2.630e-02  2.630e-02   4.9e-04  2.2e-05  5.7e+01  1.7e+02\n",
      "    50  1.0070e+00  2.442e-02  2.442e-02   4.6e-04  3.2e-05  5.7e+01  1.9e+02\n",
      " \n",
      "LSQR finished, The exact solution is x = 0                               \n",
      " \n",
      "istop =       0   r1norm = 2.4e-02   anorm = 5.7e+01   arnorm = 1.6e-02\n",
      "itn   =      50   r2norm = 2.4e-02   acond = 1.9e+02   xnorm  = 7.1e+00\n",
      "Total time (s) = 0.01\n",
      "------------------------------------------------------------------------------------------\n",
      "\n"
     ]
    },
    {
     "data": {
      "image/png": "[encoded data removed]",
      "text/plain": [
       "<Figure size 576x432 with 1 Axes>"
      ]
     },
     "metadata": {
      "needs_background": "light"
     },
     "output_type": "display_data"
    }
   ],
   "source": [
    "par = {'n': 50, 'm': 50, 'k': 14,\n",
    "        'dtype': np.float64, 'sparse': False} # square\n",
    "\n",
    "# Create random m-by-n encoding matrix\n",
    "m = par['m']\n",
    "n = par['n']\n",
    "A = np.random.normal(0, 1, (m, n))\n",
    "Aop = MatrixMult(A)\n",
    "x = np.ones(n)\n",
    "y = A.dot(x)\n",
    "\n",
    "damp = 1e-10\n",
    "atol = 1e-10\n",
    "btol = 1e-10\n",
    "conlim = 1e12\n",
    "itn_max = 50\n",
    "show = True\n",
    "\n",
    "# Without initial guess\n",
    "xinv_sp, istop_sp, itn_sp, r1norm_sp, r2norm_sp, anorm_sp, \\\n",
    "acond_sp, arnorm_sp, xnorm_sp, var_sp = \\\n",
    "    sp_lsqr(Aop, y, damp, atol, btol, conlim, itn_max, show)\n",
    "\n",
    "xinv, istop, itn, r1norm, r2norm, anorm, acond, arnorm, xnorm, var, cost = \\\n",
    "    lsqr(Aop, y, np.zeros(n), damp, atol, btol, conlim, itn_max, True, show)\n",
    "\n",
    "plt.figure()\n",
    "plt.plot(xinv)\n",
    "plt.plot(xinv_sp, '--')\n",
    "plt.ylim(2, 0);"
   ]
  },
  {
   "cell_type": "markdown",
   "id": "transsexual-probability",
   "metadata": {},
   "source": [
    "## LSQR with non-zero initial guess"
   ]
  },
  {
   "cell_type": "code",
   "execution_count": 3,
   "id": "thermal-equilibrium",
   "metadata": {
    "scrolled": false
   },
   "outputs": [
    {
     "name": "stdout",
     "output_type": "stream",
     "text": [
      " \n",
      "LSQR            Least-squares solution of  Ax = b\n",
      "The matrix A has 50 rows and 50 columns\n",
      "damp = 1.00000000000000e-10   calc_var =        0\n",
      "atol = 1.00e-10                 conlim = 1.00e+12\n",
      "btol = 1.00e-10               iter_lim =      100\n",
      " \n",
      "   Itn      x[0]       r1norm     r2norm   Compatible    LS      Norm A   Cond A\n",
      "     0  7.56525e-01   6.706e+01  6.706e+01    1.0e+00  1.3e-01\n",
      "     1 -2.83925e-01   3.394e+01  3.394e+01    7.4e-01  7.5e-01   1.0e+01  1.0e+00\n",
      "     2  1.31644e-01   1.827e+01  1.827e+01    4.0e-01  4.2e-01   1.5e+01  2.2e+00\n",
      "     3  3.19834e-01   1.249e+01  1.249e+01    2.7e-01  3.4e-01   1.7e+01  3.5e+00\n",
      "     4  4.62589e-01   8.861e+00  8.861e+00    1.9e-01  2.4e-01   2.0e+01  5.0e+00\n",
      "     5  6.71276e-01   6.753e+00  6.753e+00    1.5e-01  1.9e-01   2.2e+01  6.5e+00\n",
      "     6  7.00696e-01   5.333e+00  5.333e+00    1.2e-01  2.0e-01   2.4e+01  8.3e+00\n",
      "     7  6.87875e-01   4.221e+00  4.221e+00    9.2e-02  1.4e-01   2.6e+01  1.0e+01\n",
      "     8  7.90627e-01   3.629e+00  3.629e+00    7.9e-02  1.3e-01   2.7e+01  1.2e+01\n",
      "     9  8.19921e-01   3.097e+00  3.097e+00    6.8e-02  1.1e-01   2.8e+01  1.4e+01\n",
      "    10  7.89982e-01   2.640e+00  2.640e+00    5.8e-02  1.2e-01   2.9e+01  1.7e+01\n",
      "    69  1.00000e+00   9.596e-08  9.597e-08    2.1e-09  1.0e-01   6.7e+01  9.8e+02\n",
      "    70  1.00000e+00   1.574e-08  1.577e-08    3.4e-10  1.0e-01   6.8e+01  9.9e+02\n",
      " \n",
      "LSQR finished\n",
      "Ax - b is small enough, given atol, btol                  \n",
      " \n",
      "istop =       1   r1norm = 1.6e-08   anorm = 6.8e+01   arnorm = 1.1e-07\n",
      "itn   =      70   r2norm = 1.6e-08   acond = 9.9e+02   xnorm  = 1.0e+01\n",
      " \n",
      "LSQR\n",
      "------------------------------------------------------------------------------------------\n",
      "The Operator Op has 50 rows and 50 cols\n",
      "damp = 1.00000000000000e-10     calc_var =      1\n",
      "atol = 1.00e-10                 conlim = 1.00e+12\n",
      "btol = 1.00e-10                 niter =      100\n",
      "------------------------------------------------------------------------------------------\n",
      "   Itn     x[0]      r1norm     r2norm   Compatible   LS     Norm A   Cond A\n",
      "     0  7.5652e-01  6.706e+01  6.706e+01   1.0e+00  1.3e-01\n",
      "     1 -2.8393e-01  3.394e+01  3.394e+01   5.1e-01  4.4e-01  1.0e+01  1.0e+00\n",
      "     2  1.3164e-01  1.827e+01  1.827e+01   2.7e-01  1.9e-01  1.5e+01  2.2e+00\n",
      "     3  3.1983e-01  1.249e+01  1.249e+01   1.9e-01  1.2e-01  1.7e+01  3.5e+00\n",
      "     4  4.6259e-01  8.861e+00  8.861e+00   1.3e-01  7.2e-02  2.0e+01  5.0e+00\n",
      "     5  6.7128e-01  6.753e+00  6.753e+00   1.0e-01  4.7e-02  2.2e+01  6.5e+00\n",
      "     6  7.0070e-01  5.333e+00  5.333e+00   8.0e-02  4.1e-02  2.4e+01  8.3e+00\n",
      "     7  6.8787e-01  4.221e+00  4.221e+00   6.3e-02  2.5e-02  2.6e+01  1.0e+01\n",
      "     8  7.9063e-01  3.629e+00  3.629e+00   5.4e-02  2.0e-02  2.7e+01  1.2e+01\n",
      "     9  8.1992e-01  3.097e+00  3.097e+00   4.6e-02  1.6e-02  2.8e+01  1.4e+01\n",
      "    10  7.8998e-01  2.640e+00  2.640e+00   3.9e-02  1.6e-02  2.9e+01  1.7e+01\n",
      "    11  7.6392e-01  2.227e+00  2.227e+00   3.3e-02  1.4e-02  3.1e+01  1.9e+01\n",
      "    21  7.3966e-01  8.147e-01  8.147e-01   1.2e-02  1.8e-03  4.0e+01  4.7e+01\n",
      "    31  9.5079e-01  4.773e-01  4.773e-01   7.1e-03  1.0e-03  4.5e+01  9.7e+01\n",
      "    41  1.0833e+00  2.355e-01  2.355e-01   3.5e-03  3.6e-04  5.1e+01  1.6e+02\n",
      "    51  1.0838e+00  6.584e-02  6.584e-02   9.8e-04  6.2e-04  5.6e+01  2.5e+02\n",
      "    61  1.0680e+00  3.015e-02  3.015e-02   4.5e-04  1.8e-05  6.2e+01  4.1e+02\n",
      "    70  1.0000e+00  2.679e-08  2.681e-08   4.0e-10  3.2e-10  6.8e+01  9.9e+02\n",
      " \n",
      "LSQR finished, Op x - b is small enough, given atol, btol                 \n",
      " \n",
      "istop =       1   r1norm = 2.7e-08   anorm = 6.8e+01   arnorm = 1.9e-07\n",
      "itn   =      70   r2norm = 2.7e-08   acond = 9.9e+02   xnorm  = 1.0e+01\n",
      "Total time (s) = 0.01\n",
      "------------------------------------------------------------------------------------------\n",
      "\n"
     ]
    },
    {
     "data": {
      "image/png": "[encoded data removed]",
      "text/plain": [
       "<Figure size 576x432 with 1 Axes>"
      ]
     },
     "metadata": {
      "needs_background": "light"
     },
     "output_type": "display_data"
    }
   ],
   "source": [
    "par = {'n': 50, 'm': 50, 'k': 14,\n",
    "        'dtype': np.float64, 'sparse': False} # square\n",
    "\n",
    "# Create random m-by-n encoding matrix\n",
    "m = par['m']\n",
    "n = par['n']\n",
    "A = np.random.normal(0, 1, (m, n))\n",
    "Aop = MatrixMult(A)\n",
    "x = np.ones(n)\n",
    "y = A.dot(x)\n",
    "\n",
    "damp = 1e-10\n",
    "atol = 1e-10\n",
    "btol = 1e-10\n",
    "conlim = 1e12\n",
    "itn_max = 100\n",
    "show = True\n",
    "\n",
    "x0 = np.random.normal(0, 1, n)\n",
    "\n",
    "# With initial guess\n",
    "xinv_sp, istop_sp, itn_sp, r1norm_sp, r2norm_sp, anorm_sp, \\\n",
    "acond_sp, arnorm_sp, xnorm_sp, var_sp = \\\n",
    "sp_lsqr(Aop, y, damp, atol, btol, conlim, itn_max, show, x0=x0)\n",
    "#    sp_lsqr(Aop, y - Aop * x0, damp, atol, btol, conlim, itn_max, show)\n",
    "#xinv_sp += x0\n",
    "xinv, istop, itn, r1norm, r2norm, anorm, acond, arnorm, xnorm, var, cost = \\\n",
    "    lsqr(Aop, y, x0, damp, atol, btol, conlim, itn_max, True, show)\n",
    "\n",
    "plt.figure()\n",
    "plt.plot(xinv)\n",
    "plt.plot(xinv_sp, '--')\n",
    "plt.ylim(2, 0);"
   ]
  }
 ],
 "metadata": {
  "kernelspec": {
   "display_name": "Python 3 (ipykernel)",
   "language": "python",
   "name": "python3"
  },
  "language_info": {
   "codemirror_mode": {
    "name": "ipython",
    "version": 3
   },
   "file_extension": ".py",
   "mimetype": "text/x-python",
   "name": "python",
   "nbconvert_exporter": "python",
   "pygments_lexer": "ipython3",
   "version": "3.9.12"
  },
  "toc": {
   "base_numbering": 1,
   "nav_menu": {},
   "number_sections": true,
   "sideBar": true,
   "skip_h1_title": false,
   "title_cell": "Table of Contents",
   "title_sidebar": "Contents",
   "toc_cell": false,
   "toc_position": {},
   "toc_section_display": true,
   "toc_window_display": false
  }
 },
 "nbformat": 4,
 "nbformat_minor": 5
}
