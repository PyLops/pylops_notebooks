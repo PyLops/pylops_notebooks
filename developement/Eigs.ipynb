{
 "cells": [
  {
   "cell_type": "markdown",
   "id": "75bc7076",
   "metadata": {},
   "source": [
    "# Pylops - computing eigenvalues"
   ]
  },
  {
   "cell_type": "markdown",
   "id": "25bcd7c6",
   "metadata": {},
   "source": [
    "### Author: M.Ravasi"
   ]
  },
  {
   "cell_type": "markdown",
   "id": "a0003e4f",
   "metadata": {},
   "source": [
    "In this notebook I will show how to compute eigenvalues in PyLops"
   ]
  },
  {
   "cell_type": "code",
   "execution_count": 1,
   "id": "f112710f",
   "metadata": {},
   "outputs": [],
   "source": [
    "%load_ext autoreload\n",
    "%autoreload 2\n",
    "%matplotlib inline\n",
    "\n",
    "#import warnings\n",
    "#warnings.filterwarnings('ignore')\n",
    "\n",
    "import numpy as np\n",
    "import matplotlib.pyplot as plt\n",
    "import scipy as sp\n",
    "import pylops\n",
    "\n",
    "from scipy.sparse.linalg import eigs as sp_eigs\n",
    "from scipy.sparse.linalg import eigsh as sp_eigsh\n",
    "from scipy.sparse.linalg import lobpcg as sp_lobpcg"
   ]
  },
  {
   "cell_type": "markdown",
   "id": "56f2b3cc",
   "metadata": {},
   "source": [
    "## Square"
   ]
  },
  {
   "cell_type": "code",
   "execution_count": 2,
   "id": "0556ac5a",
   "metadata": {},
   "outputs": [
    {
     "name": "stdout",
     "output_type": "stream",
     "text": [
      "[8.99939407+0.j]\n",
      "Forward evaluations: 8\n",
      "Adjoint evaluations: 0\n",
      "[8.99939407+0.j]\n",
      "Forward evaluations: 8\n",
      "Adjoint evaluations: 0\n"
     ]
    }
   ],
   "source": [
    "d = np.arange(10)\n",
    "Dop = pylops.Diagonal(d)\n",
    "\n",
    "v0 = np.random.normal(0,1, 10)\n",
    "Dop.reset_count()\n",
    "maxeig = sp_eigs(Dop, k=1, v0=v0, ncv=5, maxiter=4, tol=1e-2)[0]\n",
    "print(maxeig)\n",
    "print(f\"Forward evaluations: {Dop.matvec_count}\")\n",
    "print(f\"Adjoint evaluations: {Dop.rmatvec_count}\")\n",
    "\n",
    "Dop.reset_count()\n",
    "maxeig = Dop.eigs(1, v0=v0, niter=4, ncv=5, tol=1e-2)\n",
    "print(maxeig)\n",
    "print(f\"Forward evaluations: {Dop.matvec_count}\")\n",
    "print(f\"Adjoint evaluations: {Dop.rmatvec_count}\")"
   ]
  },
  {
   "cell_type": "code",
   "execution_count": 3,
   "id": "2c54faa5",
   "metadata": {},
   "outputs": [
    {
     "name": "stdout",
     "output_type": "stream",
     "text": [
      "[8.9713695]\n",
      "Forward evaluations: 5\n",
      "Adjoint evaluations: 0\n",
      "[8.9713695]\n",
      "Forward evaluations: 5\n",
      "Adjoint evaluations: 0\n"
     ]
    }
   ],
   "source": [
    "v0 = np.random.normal(0,1, 10)\n",
    "Dop.reset_count()\n",
    "maxeig = sp_eigsh(Dop, k=1, v0=v0, ncv=3, maxiter=4, tol=1e-1)[0]\n",
    "print(maxeig)\n",
    "print(f\"Forward evaluations: {Dop.matvec_count}\")\n",
    "print(f\"Adjoint evaluations: {Dop.rmatvec_count}\")\n",
    "\n",
    "Dop.reset_count()\n",
    "maxeig = Dop.eigs(1, symmetric=True, v0=v0, ncv=3, niter=4, tol=1e-1)\n",
    "print(maxeig)\n",
    "print(f\"Forward evaluations: {Dop.matvec_count}\")\n",
    "print(f\"Adjoint evaluations: {Dop.rmatvec_count}\")"
   ]
  },
  {
   "cell_type": "code",
   "execution_count": 4,
   "id": "7a422b97",
   "metadata": {},
   "outputs": [
    {
     "name": "stdout",
     "output_type": "stream",
     "text": [
      "8.988455119249291\n",
      "Forward evaluations: 0\n",
      "Adjoint evaluations: 0\n",
      "[8.97918164]\n",
      "Forward evaluations: 0\n",
      "Adjoint evaluations: 0\n"
     ]
    },
    {
     "name": "stderr",
     "output_type": "stream",
     "text": [
      "/var/folders/pc/wf4mhn4n2cv8wjt_jtj8t8qhsljrkk/T/ipykernel_62619/870250704.py:3: UserWarning: Exited at iteration 5 with accuracies \n",
      "[0.18936901]\n",
      "not reaching the requested tolerance 0.1.\n",
      "  maxeig = sp_lobpcg(Dop, X=X, maxiter=5, tol=1e-1)[0][0]\n",
      "/Users/ravasim/Desktop/KAUST/OpenSource/pylops/pylops/linearoperator.py:861: UserWarning: Exited at iteration 5 with accuracies \n",
      "[0.29555196]\n",
      "not reaching the requested tolerance 0.1.\n",
      "  eigenvalues = sp_lobpcg(self, X=X, maxiter=niter, **kwargs_eig)[0]\n"
     ]
    }
   ],
   "source": [
    "Dop.reset_count()\n",
    "X = np.random.rand(Dop.shape[0], 1).astype(Dop.dtype)\n",
    "maxeig = sp_lobpcg(Dop, X=X, maxiter=5, tol=1e-1)[0][0]\n",
    "print(maxeig)\n",
    "print(f\"Forward evaluations: {Dop.matvec_count}\")\n",
    "print(f\"Adjoint evaluations: {Dop.rmatvec_count}\")\n",
    "\n",
    "Dop.reset_count()\n",
    "maxeig = Dop.eigs(1, symmetric=True, uselobpcg=True, niter=5, tol=1e-1)\n",
    "print(maxeig)\n",
    "print(f\"Forward evaluations: {Dop.matvec_count}\")\n",
    "print(f\"Adjoint evaluations: {Dop.rmatvec_count}\")"
   ]
  },
  {
   "cell_type": "markdown",
   "id": "c42412a0",
   "metadata": {},
   "source": [
    "## Non-Square"
   ]
  },
  {
   "cell_type": "code",
   "execution_count": 5,
   "id": "823731df",
   "metadata": {
    "scrolled": false
   },
   "outputs": [
    {
     "name": "stdout",
     "output_type": "stream",
     "text": [
      "[5.68691911+0.j]\n",
      "Forward evaluations: 5\n",
      "Adjoint evaluations: 0\n",
      "[5.68691911+0.j]\n",
      "Forward evaluations: 5\n",
      "Adjoint evaluations: 0\n"
     ]
    }
   ],
   "source": [
    "d = np.random.normal(0., 1., (8, 5))\n",
    "Dop = pylops.MatrixMult(d)\n",
    "Dop1 = Dop.H @ Dop\n",
    "Dop.explicit = False\n",
    "\n",
    "v0 = np.random.normal(0,1, 5)\n",
    "Dop.reset_count()\n",
    "maxeig = sp_eigs(Dop1, k=1, v0=v0, ncv=5, maxiter=4, tol=1e-1)[0]\n",
    "print(np.sqrt(maxeig))\n",
    "print(f\"Forward evaluations: {Dop.matvec_count}\")\n",
    "print(f\"Adjoint evaluations: {Dop.rmatvec_count}\")\n",
    "\n",
    "Dop.reset_count()\n",
    "maxeig = Dop.eigs(1, v0=v0, niter=4, ncv=5, tol=1e-1)\n",
    "print(maxeig)\n",
    "print(f\"Forward evaluations: {Dop.matvec_count}\")\n",
    "print(f\"Adjoint evaluations: {Dop.rmatvec_count}\")"
   ]
  },
  {
   "cell_type": "code",
   "execution_count": 6,
   "id": "b84a6d0e",
   "metadata": {},
   "outputs": [
    {
     "name": "stdout",
     "output_type": "stream",
     "text": [
      "[5.6868203]\n",
      "Forward evaluations: 3\n",
      "Adjoint evaluations: 0\n",
      "[5.6868203+0.j]\n",
      "Forward evaluations: 3\n",
      "Adjoint evaluations: 0\n"
     ]
    }
   ],
   "source": [
    "v0 = np.random.normal(0,1, 5)\n",
    "Dop.reset_count()\n",
    "maxeig = sp_eigsh(Dop1, k=1, v0=v0, ncv=3, maxiter=4, tol=1e-2)[0]\n",
    "print(np.sqrt(maxeig))\n",
    "print(f\"Forward evaluations: {Dop.matvec_count}\")\n",
    "print(f\"Adjoint evaluations: {Dop.rmatvec_count}\")\n",
    "\n",
    "Dop.reset_count()\n",
    "maxeig = Dop.eigs(1, symmetric=True, v0=v0, ncv=3, niter=4, tol=1e-2)\n",
    "print(maxeig)\n",
    "print(f\"Forward evaluations: {Dop.matvec_count}\")\n",
    "print(f\"Adjoint evaluations: {Dop.rmatvec_count}\")"
   ]
  },
  {
   "cell_type": "code",
   "execution_count": 7,
   "id": "0e9c1b8f",
   "metadata": {},
   "outputs": [
    {
     "name": "stdout",
     "output_type": "stream",
     "text": [
      "5.686919002331536\n",
      "Forward evaluations: 5\n",
      "Adjoint evaluations: 0\n",
      "[5.686919]\n",
      "Forward evaluations: 6\n",
      "Adjoint evaluations: 0\n"
     ]
    }
   ],
   "source": [
    "Dop.reset_count()\n",
    "X = np.random.rand(Dop.shape[1], 1).astype(Dop.dtype)\n",
    "maxeig = sp_lobpcg(Dop1, X=X, maxiter=5, tol=1e-1)[0][0]\n",
    "print(np.sqrt(maxeig))\n",
    "print(f\"Forward evaluations: {Dop.matvec_count}\")\n",
    "print(f\"Adjoint evaluations: {Dop.rmatvec_count}\")\n",
    "\n",
    "Dop.reset_count()\n",
    "maxeig = Dop.eigs(1, symmetric=True, uselobpcg=True, niter=5, tol=1e-1)\n",
    "print(maxeig)\n",
    "print(f\"Forward evaluations: {Dop.matvec_count}\")\n",
    "print(f\"Adjoint evaluations: {Dop.rmatvec_count}\")"
   ]
  }
 ],
 "metadata": {
  "kernelspec": {
   "display_name": "Python 3 (ipykernel)",
   "language": "python",
   "name": "python3"
  },
  "language_info": {
   "codemirror_mode": {
    "name": "ipython",
    "version": 3
   },
   "file_extension": ".py",
   "mimetype": "text/x-python",
   "name": "python",
   "nbconvert_exporter": "python",
   "pygments_lexer": "ipython3",
   "version": "3.9.12"
  },
  "toc": {
   "base_numbering": 1,
   "nav_menu": {},
   "number_sections": true,
   "sideBar": true,
   "skip_h1_title": false,
   "title_cell": "Table of Contents",
   "title_sidebar": "Contents",
   "toc_cell": false,
   "toc_position": {},
   "toc_section_display": true,
   "toc_window_display": false
  }
 },
 "nbformat": 4,
 "nbformat_minor": 5
}
