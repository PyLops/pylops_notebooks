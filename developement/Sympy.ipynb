{
 "cells": [
  {
   "cell_type": "markdown",
   "id": "df5683ef",
   "metadata": {},
   "source": [
    "# Pylops - Sympy"
   ]
  },
  {
   "cell_type": "markdown",
   "id": "e89f2c0a",
   "metadata": {},
   "source": [
    "### Author: M.Ravasi"
   ]
  },
  {
   "cell_type": "markdown",
   "id": "44e43b38",
   "metadata": {},
   "source": [
    "In this notebook I will showcase the ``describe`` method of PyLops. This method allows turning a PyLops operator into a nice looking mathematical expression, which can be useful both for teaching and debugging purposes."
   ]
  },
  {
   "cell_type": "code",
   "execution_count": 1,
   "id": "2b7e13bf",
   "metadata": {},
   "outputs": [],
   "source": [
    "%load_ext autoreload\n",
    "%autoreload 2\n",
    "%matplotlib inline\n",
    "\n",
    "import numpy as np\n",
    "import sympy as s\n",
    "s.init_printing()\n",
    "\n",
    "from pylops.basicoperators import HStack, VStack, BlockDiag, Block\n",
    "from pylops.utils.describe import describe"
   ]
  },
  {
   "cell_type": "code",
   "execution_count": 2,
   "id": "6ea1b1b9",
   "metadata": {},
   "outputs": [],
   "source": [
    "import pylops\n",
    "\n",
    "A = pylops.MatrixMult(np.ones((10, 5)))\n",
    "A.name = 'A'\n",
    "B = pylops.Diagonal(np.ones(5))\n",
    "B.name = 'A'\n",
    "C = pylops.MatrixMult(np.ones((10, 5)))\n",
    "C.name = 'C'"
   ]
  },
  {
   "cell_type": "code",
   "execution_count": 3,
   "id": "3318f61f",
   "metadata": {},
   "outputs": [
    {
     "data": {
      "image/png": "[encoded data removed]",
      "text/latex": [
       "$\\displaystyle A$"
      ],
      "text/plain": [
       "A"
      ]
     },
     "metadata": {},
     "output_type": "display_data"
    },
    {
     "name": "stdout",
     "output_type": "stream",
     "text": [
      "where: {'A': 'MatrixMult'}\n"
     ]
    }
   ],
   "source": [
    "describe(A)"
   ]
  },
  {
   "cell_type": "code",
   "execution_count": 4,
   "id": "1f2ba517",
   "metadata": {},
   "outputs": [
    {
     "data": {
      "image/png": "[encoded data removed]",
      "text/latex": [
       "$\\displaystyle A^{T}$"
      ],
      "text/plain": [
       " T\n",
       "A "
      ]
     },
     "metadata": {},
     "output_type": "display_data"
    },
    {
     "name": "stdout",
     "output_type": "stream",
     "text": [
      "where: {'A': 'MatrixMult'}\n"
     ]
    }
   ],
   "source": [
    "AT = A.T\n",
    "describe(AT)"
   ]
  },
  {
   "cell_type": "code",
   "execution_count": 5,
   "id": "2ecd12e4",
   "metadata": {},
   "outputs": [
    {
     "data": {
      "image/png": "[encoded data removed]",
      "text/latex": [
       "$\\displaystyle A^{\\dagger}$"
      ],
      "text/plain": [
       " †\n",
       "A "
      ]
     },
     "metadata": {},
     "output_type": "display_data"
    },
    {
     "name": "stdout",
     "output_type": "stream",
     "text": [
      "where: {'A': 'MatrixMult'}\n"
     ]
    }
   ],
   "source": [
    "AT = A.H\n",
    "describe(AT)"
   ]
  },
  {
   "cell_type": "code",
   "execution_count": 6,
   "id": "e8eb5c54",
   "metadata": {},
   "outputs": [
    {
     "data": {
      "image/png": "[encoded data removed]",
      "text/latex": [
       "$\\displaystyle 3 A$"
      ],
      "text/plain": [
       "3⋅A"
      ]
     },
     "metadata": {},
     "output_type": "display_data"
    },
    {
     "name": "stdout",
     "output_type": "stream",
     "text": [
      "where: {'A': 'MatrixMult'}\n"
     ]
    }
   ],
   "source": [
    "AT = 3*A\n",
    "describe(AT)"
   ]
  },
  {
   "cell_type": "code",
   "execution_count": 7,
   "id": "f109bdf2",
   "metadata": {},
   "outputs": [
    {
     "data": {
      "image/png": "[encoded data removed]",
      "text/latex": [
       "$\\displaystyle 3 A^{\\dagger}$"
      ],
      "text/plain": [
       "   †\n",
       "3⋅A "
      ]
     },
     "metadata": {},
     "output_type": "display_data"
    },
    {
     "name": "stdout",
     "output_type": "stream",
     "text": [
      "where: {'A': 'MatrixMult'}\n"
     ]
    }
   ],
   "source": [
    "AT = 3*A.H\n",
    "describe(AT)"
   ]
  },
  {
   "cell_type": "code",
   "execution_count": 8,
   "id": "53c6f86c",
   "metadata": {},
   "outputs": [
    {
     "data": {
      "image/png": "[encoded data removed]",
      "text/latex": [
       "$\\displaystyle A + C$"
      ],
      "text/plain": [
       "A + C"
      ]
     },
     "metadata": {},
     "output_type": "display_data"
    },
    {
     "name": "stdout",
     "output_type": "stream",
     "text": [
      "where: {'A': 'MatrixMult', 'C': 'MatrixMult'}\n"
     ]
    }
   ],
   "source": [
    "D = A + C\n",
    "describe(D)"
   ]
  },
  {
   "cell_type": "code",
   "execution_count": 9,
   "id": "90c4c189",
   "metadata": {},
   "outputs": [
    {
     "name": "stderr",
     "output_type": "stream",
     "text": [
      "WARNING: The user has used the same name A for two distinct operators, changing name of operator Diagonal to B...\n"
     ]
    },
    {
     "data": {
      "image/png": "[encoded data removed]",
      "text/latex": [
       "$\\displaystyle A B$"
      ],
      "text/plain": [
       "A⋅B"
      ]
     },
     "metadata": {},
     "output_type": "display_data"
    },
    {
     "name": "stdout",
     "output_type": "stream",
     "text": [
      "where: {'A': 'MatrixMult', 'B': 'Diagonal'}\n"
     ]
    }
   ],
   "source": [
    "D = A * B\n",
    "describe(D)"
   ]
  },
  {
   "cell_type": "code",
   "execution_count": 10,
   "id": "856f94f9",
   "metadata": {},
   "outputs": [
    {
     "data": {
      "image/png": "[encoded data removed]",
      "text/latex": [
       "$\\displaystyle A B^{2}$"
      ],
      "text/plain": [
       "   2\n",
       "A⋅B "
      ]
     },
     "metadata": {},
     "output_type": "display_data"
    },
    {
     "name": "stdout",
     "output_type": "stream",
     "text": [
      "where: {'A': 'MatrixMult', 'B': 'Diagonal'}\n"
     ]
    }
   ],
   "source": [
    "E = D * B\n",
    "describe(E)"
   ]
  },
  {
   "cell_type": "code",
   "execution_count": 11,
   "id": "003f58b6",
   "metadata": {},
   "outputs": [
    {
     "data": {
      "image/png": "[encoded data removed]",
      "text/latex": [
       "$\\displaystyle \\left(A + C\\right) B + A$"
      ],
      "text/plain": [
       "(A + C)⋅B + A"
      ]
     },
     "metadata": {},
     "output_type": "display_data"
    },
    {
     "name": "stdout",
     "output_type": "stream",
     "text": [
      "where: {'A': 'MatrixMult', 'C': 'MatrixMult', 'B': 'Diagonal'}\n"
     ]
    }
   ],
   "source": [
    "F = (A + C) * B + A\n",
    "describe(F)"
   ]
  },
  {
   "cell_type": "code",
   "execution_count": 12,
   "id": "b31e4374",
   "metadata": {},
   "outputs": [
    {
     "data": {
      "image/png": "[encoded data removed]",
      "text/latex": [
       "$\\displaystyle \\left[\\begin{matrix}A\\\\B\\end{matrix}\\right]$"
      ],
      "text/plain": [
       "⎡A⎤\n",
       "⎢ ⎥\n",
       "⎣B⎦"
      ]
     },
     "metadata": {},
     "output_type": "display_data"
    },
    {
     "name": "stdout",
     "output_type": "stream",
     "text": [
      "where: {'A': 'MatrixMult', 'B': 'Diagonal'}\n"
     ]
    }
   ],
   "source": [
    "F = VStack((A, B))\n",
    "describe(F)"
   ]
  },
  {
   "cell_type": "code",
   "execution_count": 13,
   "id": "2341734b",
   "metadata": {},
   "outputs": [
    {
     "name": "stderr",
     "output_type": "stream",
     "text": [
      "WARNING: The user has used the same name D for two distinct operators, changing name of operator Diagonal to C...\n",
      "WARNING: The user has used the same name D for two distinct operators, changing name of operator Diagonal to Z...\n",
      "WARNING: The user has used the same name D for two distinct operators, changing name of operator Diagonal to P...\n",
      "WARNING: The user has used the same name D for two distinct operators, changing name of operator Diagonal to Q...\n",
      "WARNING: The user has used the same name D for two distinct operators, changing name of operator Diagonal to B...\n",
      "WARNING: The user has used the same name D for two distinct operators, changing name of operator Diagonal to M...\n",
      "WARNING: The user has used the same name D for two distinct operators, changing name of operator Diagonal to W...\n",
      "WARNING: The user has used the same name D for two distinct operators, changing name of operator Diagonal to I...\n",
      "WARNING: The user has used the same name D for two distinct operators, changing name of operator Diagonal to X...\n"
     ]
    },
    {
     "data": {
      "image/png": "[encoded data removed]",
      "text/latex": [
       "$\\displaystyle \\left[\\begin{matrix}D\\\\C\\\\Z\\\\P\\\\Q\\\\B\\\\M\\\\W\\\\I\\\\X\\end{matrix}\\right]$"
      ],
      "text/plain": [
       "⎡D⎤\n",
       "⎢ ⎥\n",
       "⎢C⎥\n",
       "⎢ ⎥\n",
       "⎢Z⎥\n",
       "⎢ ⎥\n",
       "⎢P⎥\n",
       "⎢ ⎥\n",
       "⎢Q⎥\n",
       "⎢ ⎥\n",
       "⎢B⎥\n",
       "⎢ ⎥\n",
       "⎢M⎥\n",
       "⎢ ⎥\n",
       "⎢W⎥\n",
       "⎢ ⎥\n",
       "⎢I⎥\n",
       "⎢ ⎥\n",
       "⎣X⎦"
      ]
     },
     "metadata": {},
     "output_type": "display_data"
    },
    {
     "name": "stdout",
     "output_type": "stream",
     "text": [
      "where: {'D': 'Diagonal', 'C': 'Diagonal', 'Z': 'Diagonal', 'P': 'Diagonal', 'Q': 'Diagonal', 'B': 'Diagonal', 'M': 'Diagonal', 'W': 'Diagonal', 'I': 'Diagonal', 'X': 'Diagonal'}\n"
     ]
    }
   ],
   "source": [
    "F1 = VStack([pylops.Diagonal(i*np.ones(10)) for i in range(10)])\n",
    "describe(F1)"
   ]
  },
  {
   "cell_type": "code",
   "execution_count": 14,
   "id": "f70d4f8e",
   "metadata": {
    "scrolled": false
   },
   "outputs": [
    {
     "data": {
      "image/png": "[encoded data removed]",
      "text/latex": [
       "$\\displaystyle \\left[\\begin{matrix}A B & C B\\end{matrix}\\right]$"
      ],
      "text/plain": [
       "[A⋅B  C⋅B]"
      ]
     },
     "metadata": {},
     "output_type": "display_data"
    },
    {
     "name": "stdout",
     "output_type": "stream",
     "text": [
      "where: {'A': 'MatrixMult', 'B': 'Diagonal', 'C': 'MatrixMult'}\n"
     ]
    }
   ],
   "source": [
    "G = HStack((A*B, C*B))\n",
    "describe(G)"
   ]
  },
  {
   "cell_type": "code",
   "execution_count": 15,
   "id": "8fae84b7",
   "metadata": {},
   "outputs": [
    {
     "name": "stderr",
     "output_type": "stream",
     "text": [
      "WARNING: The user has used the same name D for two distinct operators, changing name of operator Diagonal to Q...\n",
      "WARNING: The user has used the same name D for two distinct operators, changing name of operator Diagonal to T...\n",
      "WARNING: The user has used the same name D for two distinct operators, changing name of operator Diagonal to J...\n",
      "WARNING: The user has used the same name D for two distinct operators, changing name of operator Diagonal to R...\n",
      "WARNING: The user has used the same name D for two distinct operators, changing name of operator Diagonal to F...\n",
      "WARNING: The user has used the same name D for two distinct operators, changing name of operator Diagonal to C...\n",
      "WARNING: The user has used the same name D for two distinct operators, changing name of operator Diagonal to B...\n",
      "WARNING: The user has used the same name D for two distinct operators, changing name of operator Diagonal to M...\n",
      "WARNING: The user has used the same name D for two distinct operators, changing name of operator Diagonal to X...\n"
     ]
    },
    {
     "data": {
      "image/png": "[encoded data removed]",
      "text/latex": [
       "$\\displaystyle \\left[\\begin{matrix}D & Q & T & J & R & F & C & B & M & X\\end{matrix}\\right]$"
      ],
      "text/plain": [
       "[D  Q  T  J  R  F  C  B  M  X]"
      ]
     },
     "metadata": {},
     "output_type": "display_data"
    },
    {
     "name": "stdout",
     "output_type": "stream",
     "text": [
      "where: {'D': 'Diagonal', 'Q': 'Diagonal', 'T': 'Diagonal', 'J': 'Diagonal', 'R': 'Diagonal', 'F': 'Diagonal', 'C': 'Diagonal', 'B': 'Diagonal', 'M': 'Diagonal', 'X': 'Diagonal'}\n"
     ]
    }
   ],
   "source": [
    "G1 = HStack([pylops.Diagonal(i*np.ones(10)) for i in range(10)])\n",
    "describe(G1)"
   ]
  },
  {
   "cell_type": "code",
   "execution_count": 16,
   "id": "c875e53e",
   "metadata": {},
   "outputs": [
    {
     "data": {
      "image/png": "[encoded data removed]",
      "text/latex": [
       "$\\displaystyle \\left[\\begin{matrix}\\left[\\begin{matrix}A\\\\B\\end{matrix}\\right] & 0\\\\0 & \\left[\\begin{matrix}A B & C B\\end{matrix}\\right]\\end{matrix}\\right]$"
      ],
      "text/plain": [
       "⎡⎡A⎤            ⎤\n",
       "⎢⎢ ⎥      𝟘     ⎥\n",
       "⎢⎣B⎦            ⎥\n",
       "⎢               ⎥\n",
       "⎣ 𝟘   [A⋅B  C⋅B]⎦"
      ]
     },
     "metadata": {},
     "output_type": "display_data"
    },
    {
     "name": "stdout",
     "output_type": "stream",
     "text": [
      "where: {'A': 'MatrixMult', 'B': 'Diagonal', 'C': 'MatrixMult'}\n"
     ]
    }
   ],
   "source": [
    "H = BlockDiag((F, G))\n",
    "describe(H)"
   ]
  },
  {
   "cell_type": "code",
   "execution_count": 17,
   "id": "0c9d1447",
   "metadata": {},
   "outputs": [
    {
     "data": {
      "image/png": "[encoded data removed]",
      "text/latex": [
       "$\\displaystyle \\left[\\begin{matrix}\\left[\\begin{matrix}A B & C\\end{matrix}\\right]\\\\\\left[\\begin{matrix}A & A\\end{matrix}\\right]\\end{matrix}\\right]$"
      ],
      "text/plain": [
       "⎡[A⋅B  C]⎤\n",
       "⎢        ⎥\n",
       "⎣ [A  A] ⎦"
      ]
     },
     "metadata": {},
     "output_type": "display_data"
    },
    {
     "name": "stdout",
     "output_type": "stream",
     "text": [
      "where: {'A': 'MatrixMult', 'B': 'Diagonal', 'C': 'MatrixMult'}\n"
     ]
    }
   ],
   "source": [
    "H = Block([[A*B, C],[A,A]])\n",
    "describe(H)"
   ]
  },
  {
   "cell_type": "code",
   "execution_count": 18,
   "id": "0384f61d",
   "metadata": {},
   "outputs": [
    {
     "name": "stderr",
     "output_type": "stream",
     "text": [
      "WARNING: The user has used the same name S for two distinct operators, changing name of operator SecondDerivative to R...\n"
     ]
    },
    {
     "data": {
      "image/png": "[encoded data removed]",
      "text/latex": [
       "$\\displaystyle 4 R + 2 S$"
      ],
      "text/plain": [
       "2⋅S + 4⋅R"
      ]
     },
     "metadata": {},
     "output_type": "display_data"
    },
    {
     "name": "stdout",
     "output_type": "stream",
     "text": [
      "where: {'S': 'SecondDerivative', 'R': 'SecondDerivative'}\n"
     ]
    }
   ],
   "source": [
    "L = pylops.Laplacian((10, 7), weights=(2, 4),)\n",
    "describe(L)"
   ]
  },
  {
   "cell_type": "code",
   "execution_count": 19,
   "id": "82319709",
   "metadata": {},
   "outputs": [
    {
     "data": {
      "image/png": "[encoded data removed]",
      "text/latex": [
       "$\\displaystyle S$"
      ],
      "text/plain": [
       "S"
      ]
     },
     "metadata": {},
     "output_type": "display_data"
    },
    {
     "name": "stdout",
     "output_type": "stream",
     "text": [
      "where: {'S': 'LinearOperator'}\n"
     ]
    }
   ],
   "source": [
    "L = pylops.signalprocessing.Shift((10, 20), 5)\n",
    "describe(L)"
   ]
  },
  {
   "cell_type": "code",
   "execution_count": 20,
   "id": "cc7961b8",
   "metadata": {},
   "outputs": [
    {
     "data": {
      "image/png": "[encoded data removed]",
      "text/latex": [
       "$\\displaystyle C F$"
      ],
      "text/plain": [
       "C⋅F"
      ]
     },
     "metadata": {},
     "output_type": "display_data"
    },
    {
     "name": "stdout",
     "output_type": "stream",
     "text": [
      "where: {'C': 'Convolve1D', 'F': 'FirstDerivative'}\n"
     ]
    }
   ],
   "source": [
    "L = pylops.avo.poststack.PoststackLinearModelling(np.ones(4), 10, )\n",
    "describe(L)"
   ]
  },
  {
   "cell_type": "code",
   "execution_count": 21,
   "id": "3e1b5ade",
   "metadata": {},
   "outputs": [
    {
     "data": {
      "image/png": "[encoded data removed]",
      "text/latex": [
       "$\\displaystyle C F$"
      ],
      "text/plain": [
       "C⋅F"
      ]
     },
     "metadata": {},
     "output_type": "display_data"
    },
    {
     "name": "stdout",
     "output_type": "stream",
     "text": [
      "where: {'C': 'Convolve1D', 'F': 'FirstDerivative'}\n"
     ]
    }
   ],
   "source": [
    "L = pylops.avo.poststack.PoststackLinearModelling(np.ones(4), 10, spatdims=(5, 3))\n",
    "describe(L)"
   ]
  },
  {
   "cell_type": "code",
   "execution_count": 22,
   "id": "969e630e",
   "metadata": {},
   "outputs": [
    {
     "data": {
      "image/png": "[encoded data removed]",
      "text/latex": [
       "$\\displaystyle C A F$"
      ],
      "text/plain": [
       "C⋅A⋅F"
      ]
     },
     "metadata": {},
     "output_type": "display_data"
    },
    {
     "name": "stdout",
     "output_type": "stream",
     "text": [
      "where: {'C': 'Convolve1D', 'A': 'AVOLinearModelling', 'F': 'FirstDerivative'}\n"
     ]
    }
   ],
   "source": [
    "L = pylops.avo.prestack.PrestackLinearModelling(np.ones(4), np.arange(10), 10, spatdims=(5, 3))\n",
    "describe(L)"
   ]
  }
 ],
 "metadata": {
  "kernelspec": {
   "display_name": "Python 3 (ipykernel)",
   "language": "python",
   "name": "python3"
  },
  "language_info": {
   "codemirror_mode": {
    "name": "ipython",
    "version": 3
   },
   "file_extension": ".py",
   "mimetype": "text/x-python",
   "name": "python",
   "nbconvert_exporter": "python",
   "pygments_lexer": "ipython3",
   "version": "3.9.12"
  },
  "toc": {
   "base_numbering": 1,
   "nav_menu": {},
   "number_sections": true,
   "sideBar": true,
   "skip_h1_title": false,
   "title_cell": "Table of Contents",
   "title_sidebar": "Contents",
   "toc_cell": false,
   "toc_position": {},
   "toc_section_display": true,
   "toc_window_display": false
  }
 },
 "nbformat": 4,
 "nbformat_minor": 5
}
