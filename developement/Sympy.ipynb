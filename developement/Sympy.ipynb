{
 "cells": [
  {
   "cell_type": "markdown",
   "id": "df5683ef",
   "metadata": {},
   "source": [
    "# Pylops - Sympy"
   ]
  },
  {
   "cell_type": "markdown",
   "id": "e89f2c0a",
   "metadata": {},
   "source": [
    "### Author: M.Ravasi"
   ]
  },
  {
   "cell_type": "markdown",
   "id": "44e43b38",
   "metadata": {},
   "source": [
    "In this notebook I will showcase the ``describe`` method of PyLops. This method allows turning a PyLops operator into a nice looking mathematical expression, which can be useful both for teaching and debugging purposes."
   ]
  },
  {
   "cell_type": "code",
   "execution_count": 1,
   "id": "2b7e13bf",
   "metadata": {},
   "outputs": [],
   "source": [
    "%load_ext autoreload\n",
    "%autoreload 2\n",
    "%matplotlib inline\n",
    "\n",
    "import numpy as np\n",
    "import sympy as s\n",
    "s.init_printing()\n",
    "\n",
    "from pylops.basicoperators import HStack, VStack, BlockDiag, Block\n",
    "from pylops.utils.describe import describe"
   ]
  },
  {
   "cell_type": "code",
   "execution_count": 2,
   "id": "6ea1b1b9",
   "metadata": {},
   "outputs": [],
   "source": [
    "import pylops\n",
    "\n",
    "A = pylops.MatrixMult(np.ones((10, 5)))\n",
    "A.name = 'A'\n",
    "B = pylops.Diagonal(np.ones(5))\n",
    "B.name = 'A'\n",
    "C = pylops.MatrixMult(np.ones((10, 5)))\n",
    "C.name = 'C'"
   ]
  },
  {
   "cell_type": "code",
   "execution_count": 3,
   "id": "3318f61f",
   "metadata": {},
   "outputs": [
    {
     "data": {
      "image/png": "[encoded data removed]",
      "text/latex": [
       "$\\displaystyle A$"
      ],
      "text/plain": [
       "A"
      ]
     },
     "metadata": {},
     "output_type": "display_data"
    },
    {
     "name": "stdout",
     "output_type": "stream",
     "text": [
      "where: {'A': 'MatrixMult'}\n"
     ]
    }
   ],
   "source": [
    "describe(A)"
   ]
  },
  {
   "cell_type": "code",
   "execution_count": 4,
   "id": "1f2ba517",
   "metadata": {},
   "outputs": [
    {
     "data": {
      "image/png": "[encoded data removed]",
      "text/latex": [
       "$\\displaystyle A^{T}$"
      ],
      "text/plain": [
       " T\n",
       "A "
      ]
     },
     "metadata": {},
     "output_type": "display_data"
    },
    {
     "name": "stdout",
     "output_type": "stream",
     "text": [
      "where: {'A': 'MatrixMult'}\n"
     ]
    }
   ],
   "source": [
    "AT = A.T\n",
    "describe(AT)"
   ]
  },
  {
   "cell_type": "code",
   "execution_count": 5,
   "id": "2ecd12e4",
   "metadata": {},
   "outputs": [
    {
     "data": {
      "image/png": "[encoded data removed]",
      "text/latex": [
       "$\\displaystyle A^{\\dagger}$"
      ],
      "text/plain": [
       " †\n",
       "A "
      ]
     },
     "metadata": {},
     "output_type": "display_data"
    },
    {
     "name": "stdout",
     "output_type": "stream",
     "text": [
      "where: {'A': 'MatrixMult'}\n"
     ]
    }
   ],
   "source": [
    "AT = A.H\n",
    "describe(AT)"
   ]
  },
  {
   "cell_type": "code",
   "execution_count": 6,
   "id": "e8eb5c54",
   "metadata": {},
   "outputs": [
    {
     "data": {
      "image/png": "[encoded data removed]",
      "text/latex": [
       "$\\displaystyle 3 A$"
      ],
      "text/plain": [
       "3⋅A"
      ]
     },
     "metadata": {},
     "output_type": "display_data"
    },
    {
     "name": "stdout",
     "output_type": "stream",
     "text": [
      "where: {'A': 'MatrixMult'}\n"
     ]
    }
   ],
   "source": [
    "AT = 3*A\n",
    "describe(AT)"
   ]
  },
  {
   "cell_type": "code",
   "execution_count": 7,
   "id": "f109bdf2",
   "metadata": {},
   "outputs": [
    {
     "data": {
      "image/png": "[encoded data removed]",
      "text/latex": [
       "$\\displaystyle 3 A^{\\dagger}$"
      ],
      "text/plain": [
       "   †\n",
       "3⋅A "
      ]
     },
     "metadata": {},
     "output_type": "display_data"
    },
    {
     "name": "stdout",
     "output_type": "stream",
     "text": [
      "where: {'A': 'MatrixMult'}\n"
     ]
    }
   ],
   "source": [
    "AT = 3*A.H\n",
    "describe(AT)"
   ]
  },
  {
   "cell_type": "code",
   "execution_count": 8,
   "id": "53c6f86c",
   "metadata": {},
   "outputs": [
    {
     "data": {
      "image/png": "[encoded data removed]",
      "text/latex": [
       "$\\displaystyle A + C$"
      ],
      "text/plain": [
       "A + C"
      ]
     },
     "metadata": {},
     "output_type": "display_data"
    },
    {
     "name": "stdout",
     "output_type": "stream",
     "text": [
      "where: {'A': 'MatrixMult', 'C': 'MatrixMult'}\n"
     ]
    }
   ],
   "source": [
    "D = A + C\n",
    "describe(D)"
   ]
  },
  {
   "cell_type": "code",
   "execution_count": 9,
   "id": "90c4c189",
   "metadata": {},
   "outputs": [
    {
     "name": "stdout",
     "output_type": "stream",
     "text": [
      "The user has used the same name D for two distinct operators, changing name of operator Diagonal to D...\n"
     ]
    },
    {
     "data": {
      "image/png": "[encoded data removed]",
      "text/latex": [
       "$\\displaystyle A D$"
      ],
      "text/plain": [
       "A⋅D"
      ]
     },
     "metadata": {},
     "output_type": "display_data"
    },
    {
     "name": "stdout",
     "output_type": "stream",
     "text": [
      "where: {'A': 'MatrixMult', 'D': 'Diagonal'}\n"
     ]
    }
   ],
   "source": [
    "D = A * B\n",
    "describe(D)"
   ]
  },
  {
   "cell_type": "code",
   "execution_count": 10,
   "id": "856f94f9",
   "metadata": {},
   "outputs": [
    {
     "data": {
      "image/png": "[encoded data removed]",
      "text/latex": [
       "$\\displaystyle A D^{2}$"
      ],
      "text/plain": [
       "   2\n",
       "A⋅D "
      ]
     },
     "metadata": {},
     "output_type": "display_data"
    },
    {
     "name": "stdout",
     "output_type": "stream",
     "text": [
      "where: {'A': 'MatrixMult', 'D': 'Diagonal'}\n"
     ]
    }
   ],
   "source": [
    "E = D * B\n",
    "describe(E)"
   ]
  },
  {
   "cell_type": "code",
   "execution_count": 11,
   "id": "003f58b6",
   "metadata": {},
   "outputs": [
    {
     "data": {
      "image/png": "[encoded data removed]",
      "text/latex": [
       "$\\displaystyle \\left(A + C\\right) D + A$"
      ],
      "text/plain": [
       "(A + C)⋅D + A"
      ]
     },
     "metadata": {},
     "output_type": "display_data"
    },
    {
     "name": "stdout",
     "output_type": "stream",
     "text": [
      "where: {'A': 'MatrixMult', 'C': 'MatrixMult', 'D': 'Diagonal'}\n"
     ]
    }
   ],
   "source": [
    "F = (A + C) * B + A\n",
    "describe(F)"
   ]
  },
  {
   "cell_type": "code",
   "execution_count": 12,
   "id": "b31e4374",
   "metadata": {},
   "outputs": [
    {
     "data": {
      "text/latex": [
       "$\\displaystyle \\left[\\begin{matrix}A\\\\D\\end{matrix}\\right]$"
      ],
      "text/plain": [
       "⎡A⎤\n",
       "⎢ ⎥\n",
       "⎣D⎦"
      ]
     },
     "metadata": {},
     "output_type": "display_data"
    },
    {
     "name": "stdout",
     "output_type": "stream",
     "text": [
      "where: {'A': 'MatrixMult', 'D': 'Diagonal'}\n"
     ]
    }
   ],
   "source": [
    "F = VStack((A, B))\n",
    "describe(F)"
   ]
  },
  {
   "cell_type": "code",
   "execution_count": 13,
   "id": "2341734b",
   "metadata": {},
   "outputs": [
    {
     "name": "stdout",
     "output_type": "stream",
     "text": [
      "The user has used the same name K for two distinct operators, changing name of operator Diagonal to K...\n"
     ]
    },
    {
     "data": {
      "text/latex": [
       "$\\displaystyle \\left[\\begin{matrix}O\\\\X\\\\R\\\\Z\\\\C\\\\Q\\\\V\\\\W\\\\K\\\\E\\end{matrix}\\right]$"
      ],
      "text/plain": [
       "⎡O⎤\n",
       "⎢ ⎥\n",
       "⎢X⎥\n",
       "⎢ ⎥\n",
       "⎢R⎥\n",
       "⎢ ⎥\n",
       "⎢Z⎥\n",
       "⎢ ⎥\n",
       "⎢C⎥\n",
       "⎢ ⎥\n",
       "⎢Q⎥\n",
       "⎢ ⎥\n",
       "⎢V⎥\n",
       "⎢ ⎥\n",
       "⎢W⎥\n",
       "⎢ ⎥\n",
       "⎢K⎥\n",
       "⎢ ⎥\n",
       "⎣E⎦"
      ]
     },
     "metadata": {},
     "output_type": "display_data"
    },
    {
     "name": "stdout",
     "output_type": "stream",
     "text": [
      "where: {'O': 'Diagonal', 'X': 'Diagonal', 'R': 'Diagonal', 'Z': 'Diagonal', 'C': 'Diagonal', 'Q': 'Diagonal', 'V': 'Diagonal', 'W': 'Diagonal', 'K': 'Diagonal', 'E': 'Diagonal'}\n"
     ]
    }
   ],
   "source": [
    "F1 = VStack([pylops.Diagonal(i*np.ones(10)) for i in range(10)])\n",
    "describe(F1)"
   ]
  },
  {
   "cell_type": "code",
   "execution_count": 14,
   "id": "f70d4f8e",
   "metadata": {
    "scrolled": false
   },
   "outputs": [
    {
     "data": {
      "text/latex": [
       "$\\displaystyle \\left[\\begin{matrix}A D & C D\\end{matrix}\\right]$"
      ],
      "text/plain": [
       "[A⋅D  C⋅D]"
      ]
     },
     "metadata": {},
     "output_type": "display_data"
    },
    {
     "name": "stdout",
     "output_type": "stream",
     "text": [
      "where: {'A': 'MatrixMult', 'D': 'Diagonal', 'C': 'MatrixMult'}\n"
     ]
    }
   ],
   "source": [
    "G = HStack((A*B, C*B))\n",
    "describe(G)"
   ]
  },
  {
   "cell_type": "code",
   "execution_count": 15,
   "id": "8fae84b7",
   "metadata": {},
   "outputs": [
    {
     "name": "stdout",
     "output_type": "stream",
     "text": [
      "The user has used the same name S for two distinct operators, changing name of operator Diagonal to S...\n",
      "The user has used the same name Q for two distinct operators, changing name of operator Diagonal to Q...\n",
      "The user has used the same name W for two distinct operators, changing name of operator Diagonal to W...\n",
      "The user has used the same name T for two distinct operators, changing name of operator Diagonal to T...\n"
     ]
    },
    {
     "data": {
      "text/latex": [
       "$\\displaystyle \\left[\\begin{matrix}P & R & S & Q & Y & V & W & M & L & T\\end{matrix}\\right]$"
      ],
      "text/plain": [
       "[P  R  S  Q  Y  V  W  M  L  T]"
      ]
     },
     "metadata": {},
     "output_type": "display_data"
    },
    {
     "name": "stdout",
     "output_type": "stream",
     "text": [
      "where: {'P': 'Diagonal', 'R': 'Diagonal', 'S': 'Diagonal', 'Q': 'Diagonal', 'Y': 'Diagonal', 'V': 'Diagonal', 'W': 'Diagonal', 'M': 'Diagonal', 'L': 'Diagonal', 'T': 'Diagonal'}\n"
     ]
    }
   ],
   "source": [
    "G1 = HStack([pylops.Diagonal(i*np.ones(10)) for i in range(10)])\n",
    "describe(G1)"
   ]
  },
  {
   "cell_type": "code",
   "execution_count": 16,
   "id": "c875e53e",
   "metadata": {},
   "outputs": [
    {
     "data": {
      "text/latex": [
       "$\\displaystyle \\left[\\begin{matrix}\\left[\\begin{matrix}A\\\\D\\end{matrix}\\right] & \\mathbb{0}\\\\\\mathbb{0} & \\left[\\begin{matrix}P & R & S & Q & Y & V & W & M & L & T\\end{matrix}\\right]\\end{matrix}\\right]$"
      ],
      "text/plain": [
       "⎡⎡A⎤                                ⎤\n",
       "⎢⎢ ⎥                𝟘               ⎥\n",
       "⎢⎣D⎦                                ⎥\n",
       "⎢                                   ⎥\n",
       "⎣ 𝟘   [P  R  S  Q  Y  V  W  M  L  T]⎦"
      ]
     },
     "metadata": {},
     "output_type": "display_data"
    },
    {
     "name": "stdout",
     "output_type": "stream",
     "text": [
      "where: {'A': 'MatrixMult', 'D': 'Diagonal', 'P': 'Diagonal', 'R': 'Diagonal', 'S': 'Diagonal', 'Q': 'Diagonal', 'Y': 'Diagonal', 'V': 'Diagonal', 'W': 'Diagonal', 'M': 'Diagonal', 'L': 'Diagonal', 'T': 'Diagonal'}\n"
     ]
    }
   ],
   "source": [
    "H = BlockDiag((F, G))\n",
    "describe(H)"
   ]
  },
  {
   "cell_type": "code",
   "execution_count": 17,
   "id": "0c9d1447",
   "metadata": {},
   "outputs": [
    {
     "data": {
      "text/latex": [
       "$\\displaystyle \\left[\\begin{matrix}\\left[\\begin{matrix}A D & C\\end{matrix}\\right]\\\\\\left[\\begin{matrix}A & A\\end{matrix}\\right]\\end{matrix}\\right]$"
      ],
      "text/plain": [
       "⎡[A⋅D  C]⎤\n",
       "⎢        ⎥\n",
       "⎣ [A  A] ⎦"
      ]
     },
     "metadata": {},
     "output_type": "display_data"
    },
    {
     "name": "stdout",
     "output_type": "stream",
     "text": [
      "where: {'A': 'MatrixMult', 'D': 'Diagonal', 'C': 'MatrixMult'}\n"
     ]
    }
   ],
   "source": [
    "H = Block([[A*B, C],[A,A]])\n",
    "describe(H)"
   ]
  },
  {
   "cell_type": "code",
   "execution_count": 18,
   "id": "0384f61d",
   "metadata": {},
   "outputs": [
    {
     "data": {
      "image/png": "[encoded data removed]",
      "text/latex": [
       "$\\displaystyle 2 L + 4 Y$"
      ],
      "text/plain": [
       "2⋅L + 4⋅Y"
      ]
     },
     "metadata": {},
     "output_type": "display_data"
    },
    {
     "name": "stdout",
     "output_type": "stream",
     "text": [
      "where: {'L': 'SecondDerivative', 'Y': 'SecondDerivative'}\n"
     ]
    }
   ],
   "source": [
    "L = pylops.Laplacian((10, 7), weights=(2, 4),)\n",
    "describe(L)"
   ]
  },
  {
   "cell_type": "code",
   "execution_count": 19,
   "id": "82319709",
   "metadata": {},
   "outputs": [
    {
     "data": {
      "image/png": "[encoded data removed]",
      "text/latex": [
       "$\\displaystyle B^{\\dagger} S B$"
      ],
      "text/plain": [
       " †    \n",
       "B ⋅S⋅B"
      ]
     },
     "metadata": {},
     "output_type": "display_data"
    },
    {
     "name": "stdout",
     "output_type": "stream",
     "text": [
      "where: {'B': '_FFT_numpy', 'S': 'Diagonal'}\n"
     ]
    }
   ],
   "source": [
    "L = pylops.signalprocessing.Shift((10, 20), 5)\n",
    "describe(L)"
   ]
  },
  {
   "cell_type": "code",
   "execution_count": 20,
   "id": "cc7961b8",
   "metadata": {},
   "outputs": [
    {
     "data": {
      "image/png": "[encoded data removed]",
      "text/latex": [
       "$\\displaystyle P K$"
      ],
      "text/plain": [
       "P⋅K"
      ]
     },
     "metadata": {},
     "output_type": "display_data"
    },
    {
     "name": "stdout",
     "output_type": "stream",
     "text": [
      "where: {'P': 'Convolve1D', 'K': 'FirstDerivative'}\n"
     ]
    }
   ],
   "source": [
    "L = pylops.avo.poststack.PoststackLinearModelling(np.ones(4), 10, )\n",
    "describe(L)"
   ]
  },
  {
   "cell_type": "code",
   "execution_count": 21,
   "id": "3e1b5ade",
   "metadata": {},
   "outputs": [
    {
     "data": {
      "image/png": "[encoded data removed]",
      "text/latex": [
       "$\\displaystyle Y N$"
      ],
      "text/plain": [
       "Y⋅N"
      ]
     },
     "metadata": {},
     "output_type": "display_data"
    },
    {
     "name": "stdout",
     "output_type": "stream",
     "text": [
      "where: {'Y': 'Convolve1D', 'N': 'FirstDerivative'}\n"
     ]
    }
   ],
   "source": [
    "L = pylops.avo.poststack.PoststackLinearModelling(np.ones(4), 10, spatdims=(5, 3))\n",
    "describe(L)"
   ]
  },
  {
   "cell_type": "code",
   "execution_count": 22,
   "id": "969e630e",
   "metadata": {},
   "outputs": [
    {
     "data": {
      "image/png": "[encoded data removed]",
      "text/latex": [
       "$\\displaystyle A E N$"
      ],
      "text/plain": [
       "A⋅E⋅N"
      ]
     },
     "metadata": {},
     "output_type": "display_data"
    },
    {
     "name": "stdout",
     "output_type": "stream",
     "text": [
      "where: {'A': 'Convolve1D', 'E': 'AVOLinearModelling', 'N': 'FirstDerivative'}\n"
     ]
    }
   ],
   "source": [
    "L = pylops.avo.prestack.PrestackLinearModelling(np.ones(4), np.arange(10), 10, spatdims=(5, 3))\n",
    "describe(L)"
   ]
  }
 ],
 "metadata": {
  "kernelspec": {
   "display_name": "Python 3 (ipykernel)",
   "language": "python",
   "name": "python3"
  },
  "language_info": {
   "codemirror_mode": {
    "name": "ipython",
    "version": 3
   },
   "file_extension": ".py",
   "mimetype": "text/x-python",
   "name": "python",
   "nbconvert_exporter": "python",
   "pygments_lexer": "ipython3",
   "version": "3.9.7"
  },
  "toc": {
   "base_numbering": 1,
   "nav_menu": {},
   "number_sections": true,
   "sideBar": true,
   "skip_h1_title": false,
   "title_cell": "Table of Contents",
   "title_sidebar": "Contents",
   "toc_cell": false,
   "toc_position": {},
   "toc_section_display": true,
   "toc_window_display": false
  }
 },
 "nbformat": 4,
 "nbformat_minor": 5
}
