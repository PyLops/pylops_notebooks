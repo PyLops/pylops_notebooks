{
 "cells": [
  {
   "cell_type": "markdown",
   "metadata": {
    "colab_type": "text",
    "id": "xaygeqc0YgF7"
   },
   "source": [
    "# Pylops - CUDA solvers"
   ]
  },
  {
   "cell_type": "markdown",
   "metadata": {
    "colab_type": "text",
    "id": "owGwScKKYgGA"
   },
   "source": [
    "### Author: M.Ravasi"
   ]
  },
  {
   "cell_type": "markdown",
   "metadata": {
    "colab_type": "text",
    "id": "IUIuNUfYYgGC"
   },
   "source": [
    "In this notebook we test Pytorch powered operators with conjugate-gradient solvers"
   ]
  },
  {
   "cell_type": "code",
   "execution_count": 1,
   "metadata": {
    "colab": {
     "base_uri": "https://localhost:8080/",
     "height": 616
    },
    "colab_type": "code",
    "id": "hMwmxTTxZ4Ju",
    "outputId": "50f394ce-4177-4795-93d8-55cf678ce644"
   },
   "outputs": [],
   "source": [
    "#!pip install pylops\n",
    "#!pip install git+https://git@github.com/equinor/pylops.git@master\n",
    "#!pip install git+https://git@github.com/equinor/pylops-gpu.git@master"
   ]
  },
  {
   "cell_type": "code",
   "execution_count": 2,
   "metadata": {
    "colab": {
     "base_uri": "https://localhost:8080/",
     "height": 68
    },
    "colab_type": "code",
    "id": "86gLYP4HYgGI",
    "outputId": "134e9ccd-42c9-405b-d20c-5b036c307754"
   },
   "outputs": [
    {
     "name": "stdout",
     "output_type": "stream",
     "text": [
      "Populating the interactive namespace from numpy and matplotlib\n"
     ]
    }
   ],
   "source": [
    "%load_ext autoreload\n",
    "%autoreload 2\n",
    "%matplotlib inline\n",
    "%pylab inline\n",
    "\n",
    "import warnings\n",
    "warnings.filterwarnings('ignore')\n",
    "\n",
    "import numpy as np\n",
    "import torch\n",
    "import scipy as sp\n",
    "import matplotlib.pyplot as plt\n",
    "import pylops\n",
    "\n",
    "from scipy.signal import triang\n",
    "from pylops import Diagonal, MatrixMult, FirstDerivative\n",
    "from pylops.utils import dottest\n",
    "from pylops.signalprocessing import Convolve1D\n",
    "\n",
    "from scipy.sparse.linalg import cg, lsqr\n",
    "from pylops_gpu.utils.backend import device\n",
    "from pylops_gpu.utils import dottest as gdottest\n",
    "from pylops_gpu import Diagonal as gDiagonal\n",
    "from pylops_gpu import Identity as gIdentity\n",
    "from pylops_gpu import MatrixMult as gMatrixMult\n",
    "from pylops_gpu import FirstDerivative as gFirstDerivative\n",
    "from pylops_gpu.signalprocessing import Convolve1D as gConvolve1D\n",
    "from pylops_gpu.optimization.cg import cg as gcg\n",
    "from pylops_gpu.optimization.cg import cgls as gcgls"
   ]
  },
  {
   "cell_type": "code",
   "execution_count": 3,
   "metadata": {
    "colab": {
     "base_uri": "https://localhost:8080/",
     "height": 34
    },
    "colab_type": "code",
    "id": "5psZx5uvNM77",
    "outputId": "c97b66d2-6239-4786-fdf4-3a320b954ab0"
   },
   "outputs": [
    {
     "name": "stdout",
     "output_type": "stream",
     "text": [
      "PyLops-gpu working on cpu...\n"
     ]
    }
   ],
   "source": [
    "dev = device()\n",
    "print('PyLops-gpu working on %s...' % dev)\n",
    "\n",
    "torch.cuda.empty_cache()"
   ]
  },
  {
   "cell_type": "markdown",
   "metadata": {},
   "source": [
    "### CG for square systems"
   ]
  },
  {
   "cell_type": "code",
   "execution_count": 4,
   "metadata": {},
   "outputs": [
    {
     "name": "stdout",
     "output_type": "stream",
     "text": [
      "eigs [2.6423038e+01 1.6650175e+01 1.4161029e+01 1.1619306e+01 9.4036586e-05\n",
      " 3.2381976e-01 2.0824533e+00 2.7963290e+00 4.9325171e+00 5.2816930e+00]\n",
      "[1.0998637  0.7303236  1.05244704 1.06544586 1.01628226 0.93568769\n",
      " 1.30294855 0.79391787 0.99991031 0.6569935 ]\n",
      "(tensor([1.0012, 0.9968, 1.0007, 1.0008, 1.0002, 0.9992, 1.0036, 0.9976, 1.0000,\n",
      "        0.9959]), 20)\n"
     ]
    }
   ],
   "source": [
    "n = 10\n",
    "x = np.ones(n, dtype=np.float32)\n",
    "\n",
    "A = np.random.randn(n, n).astype(np.float32)\n",
    "A = np.dot(A.T, A)\n",
    "print('eigs', np.linalg.eig(A)[0])\n",
    "\n",
    "Aop = MatrixMult(A)\n",
    "gAop = gMatrixMult(torch.from_numpy(A))\n",
    "\n",
    "y = Aop.matvec(x)\n",
    "gy = gAop.matvec(torch.from_numpy(x))\n",
    "\n",
    "xinv_sp = cg(Aop, y, maxiter=2*n)[0]\n",
    "xinv = gcg(gAop, gy, torch.zeros(n, dtype=torch.float32), 2*n)\n",
    "print(xinv_sp)\n",
    "print(xinv)"
   ]
  },
  {
   "cell_type": "markdown",
   "metadata": {},
   "source": [
    "### CGLS for rectangular systems"
   ]
  },
  {
   "cell_type": "code",
   "execution_count": 15,
   "metadata": {},
   "outputs": [
    {
     "name": "stdout",
     "output_type": "stream",
     "text": [
      "[1.00000009 2.00000011 3.00000009 4.00000014 4.99999985]\n",
      "tensor([1.0000, 2.0000, 3.0000, 4.0000, 5.0000])\n",
      "tensor([1.0000, 2.0000, 3.0000, 4.0000, 5.0000])\n"
     ]
    },
    {
     "data": {
      "image/png": "[encoded data removed]",
      "text/plain": [
       "<Figure size 432x288 with 1 Axes>"
      ]
     },
     "metadata": {
      "needs_background": "light"
     },
     "output_type": "display_data"
    }
   ],
   "source": [
    "n, m = 100, 5\n",
    "x = np.arange(m, dtype=np.float32) + 1\n",
    "\n",
    "A = np.random.randn(n, m).astype(np.float32)\n",
    "\n",
    "Aop = MatrixMult(A)\n",
    "gAop = gMatrixMult(torch.from_numpy(A).to(dev), device=dev)\n",
    "\n",
    "y = Aop.matvec(x)\n",
    "gy = gAop.matvec(torch.from_numpy(x).to(dev))\n",
    "\n",
    "xinv_sp = lsqr(Aop, y, iter_lim=2*n)[0]\n",
    "xinv = gcgls(gAop, gy, torch.zeros(m, dtype=torch.float32), niter=2*n)[0]\n",
    "xinv1 = gcgls(gAop, gy, torch.ones(m, dtype=torch.float32), damp=1e-4, niter=2*n)[0]\n",
    "print(xinv_sp)\n",
    "print(xinv)\n",
    "print(xinv1)\n",
    "\n",
    "plt.figure()\n",
    "plt.plot(xinv_sp, 'k')\n",
    "plt.plot(xinv.cpu().numpy(), '--r');\n",
    "plt.plot(xinv1.cpu().numpy(), '-.g');"
   ]
  }
 ],
 "metadata": {
  "accelerator": "GPU",
  "colab": {
   "name": "Basic.ipynb",
   "provenance": [],
   "version": "0.3.2"
  },
  "kernelspec": {
   "display_name": "Python 3",
   "language": "python",
   "name": "python3"
  },
  "language_info": {
   "codemirror_mode": {
    "name": "ipython",
    "version": 3
   },
   "file_extension": ".py",
   "mimetype": "text/x-python",
   "name": "python",
   "nbconvert_exporter": "python",
   "pygments_lexer": "ipython3",
   "version": "3.7.3"
  }
 },
 "nbformat": 4,
 "nbformat_minor": 1
}
