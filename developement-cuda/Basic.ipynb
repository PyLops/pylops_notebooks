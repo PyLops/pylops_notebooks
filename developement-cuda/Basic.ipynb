{
  "nbformat": 4,
  "nbformat_minor": 0,
  "metadata": {
    "colab": {
      "name": "Basic.ipynb",
      "version": "0.3.2",
      "provenance": []
    },
    "language_info": {
      "codemirror_mode": {
        "name": "ipython",
        "version": 3
      },
      "file_extension": ".py",
      "mimetype": "text/x-python",
      "name": "python",
      "nbconvert_exporter": "python",
      "pygments_lexer": "ipython3",
      "version": "3.7.2"
    },
    "kernelspec": {
      "display_name": "Python 3",
      "language": "python",
      "name": "python3"
    },
    "accelerator": "GPU"
  },
  "cells": [
    {
      "cell_type": "markdown",
      "metadata": {
        "colab_type": "text",
        "id": "xaygeqc0YgF7"
      },
      "source": [
        "# Pylops - CUDA basic linear operators"
      ]
    },
    {
      "cell_type": "markdown",
      "metadata": {
        "colab_type": "text",
        "id": "owGwScKKYgGA"
      },
      "source": [
        "### Author: M.Ravasi"
      ]
    },
    {
      "cell_type": "markdown",
      "metadata": {
        "colab_type": "text",
        "id": "IUIuNUfYYgGC"
      },
      "source": [
        "In this notebook we will experiment with Pytorch to assess its usability as backend for CUDA enabled operators"
      ]
    },
    {
      "cell_type": "code",
      "metadata": {
        "colab_type": "code",
        "id": "hMwmxTTxZ4Ju",
        "outputId": "f1d7fb93-b38c-4c7c-d6e9-e29025d9a137",
        "colab": {
          "base_uri": "https://localhost:8080/",
          "height": 554
        }
      },
      "source": [
        "!pip install pylops\n",
        "!pip install git+https://git@github.com/equinor/pylops-gpu.git@master"
      ],
      "execution_count": 1,
      "outputs": [
        {
          "output_type": "stream",
          "text": [
            "Collecting pylops\n",
            "\u001b[?25l  Downloading https://files.pythonhosted.org/packages/ba/5a/dc9d93cd0f9ba3ea9a77c30c92865f07523ebf2fc391dff19aeca2f2b848/pylops-1.4.0-py3-none-any.whl (141kB)\n",
            "\u001b[K     |████████████████████████████████| 143kB 2.7MB/s \n",
            "\u001b[?25hRequirement already satisfied: scipy in /usr/local/lib/python3.6/dist-packages (from pylops) (1.3.0)\n",
            "Requirement already satisfied: numpy>=1.15.0 in /usr/local/lib/python3.6/dist-packages (from pylops) (1.16.4)\n",
            "Installing collected packages: pylops\n",
            "Successfully installed pylops-1.4.0\n",
            "Collecting git+https://git@github.com/equinor/pylops-gpu.git@master\n",
            "  Cloning https://git@github.com/equinor/pylops-gpu.git (to revision master) to /tmp/pip-req-build-196kumxa\n",
            "  Running command git clone -q https://git@github.com/equinor/pylops-gpu.git /tmp/pip-req-build-196kumxa\n",
            "Requirement already satisfied: numpy>=1.15.0 in /usr/local/lib/python3.6/dist-packages (from pylops-gpu==0.0.0) (1.16.4)\n",
            "Requirement already satisfied: torch in /usr/local/lib/python3.6/dist-packages (from pylops-gpu==0.0.0) (1.1.0)\n",
            "Collecting pytorch_complex_tensor (from pylops-gpu==0.0.0)\n",
            "  Downloading https://files.pythonhosted.org/packages/0e/98/6e5718dd0c7d7b648c560624aea9a81b98b0442e03a7ff4c81430b0c8082/pytorch-complex-tensor-0.0.134.tar.gz\n",
            "Requirement already satisfied: torchvision>=0.2.1 in /usr/local/lib/python3.6/dist-packages (from pytorch_complex_tensor->pylops-gpu==0.0.0) (0.3.0)\n",
            "Requirement already satisfied: six in /usr/local/lib/python3.6/dist-packages (from torchvision>=0.2.1->pytorch_complex_tensor->pylops-gpu==0.0.0) (1.12.0)\n",
            "Requirement already satisfied: pillow>=4.1.1 in /usr/local/lib/python3.6/dist-packages (from torchvision>=0.2.1->pytorch_complex_tensor->pylops-gpu==0.0.0) (4.3.0)\n",
            "Requirement already satisfied: olefile in /usr/local/lib/python3.6/dist-packages (from pillow>=4.1.1->torchvision>=0.2.1->pytorch_complex_tensor->pylops-gpu==0.0.0) (0.46)\n",
            "Building wheels for collected packages: pylops-gpu, pytorch-complex-tensor\n",
            "  Building wheel for pylops-gpu (setup.py) ... \u001b[?25l\u001b[?25hdone\n",
            "  Stored in directory: /tmp/pip-ephem-wheel-cache-771h54q6/wheels/c7/f0/0b/513e9be2dad0cbe2a900c0414a94bcae8778093383364aab9a\n",
            "  Building wheel for pytorch-complex-tensor (setup.py) ... \u001b[?25l\u001b[?25hdone\n",
            "  Stored in directory: /root/.cache/pip/wheels/12/9c/1c/35f0a149f864e1b4d5f0711bf76745aebef1f306fc8ab9ec40\n",
            "Successfully built pylops-gpu pytorch-complex-tensor\n",
            "Installing collected packages: pytorch-complex-tensor, pylops-gpu\n",
            "Successfully installed pylops-gpu-0.0.0 pytorch-complex-tensor-0.0.134\n"
          ],
          "name": "stdout"
        }
      ]
    },
    {
      "cell_type": "code",
      "metadata": {
        "colab_type": "code",
        "id": "86gLYP4HYgGI",
        "outputId": "161e0c92-b893-45b3-9a8e-e395e37017c3",
        "colab": {
          "base_uri": "https://localhost:8080/",
          "height": 34
        }
      },
      "source": [
        "%load_ext autoreload\n",
        "%autoreload 2\n",
        "%matplotlib inline\n",
        "%pylab inline\n",
        "\n",
        "import warnings\n",
        "warnings.filterwarnings('ignore')\n",
        "\n",
        "import numpy as np\n",
        "import torch\n",
        "import scipy as sp\n",
        "import matplotlib.pyplot as plt\n",
        "import pylops\n",
        "\n",
        "from scipy.sparse.linalg import cg\n",
        "from pylops import Diagonal, MatrixMult\n",
        "from pylops.utils import dottest\n",
        "from pylops_gpu.utils.backend import device\n",
        "from pylops_gpu.utils import dottest as gdottest\n",
        "from pylops_gpu import Diagonal as gDiagonal"
      ],
      "execution_count": 2,
      "outputs": [
        {
          "output_type": "stream",
          "text": [
            "Populating the interactive namespace from numpy and matplotlib\n"
          ],
          "name": "stdout"
        }
      ]
    },
    {
      "cell_type": "code",
      "metadata": {
        "id": "5psZx5uvNM77",
        "colab_type": "code",
        "outputId": "cacade4f-adf7-40d3-9215-6f0597951aa2",
        "colab": {
          "base_uri": "https://localhost:8080/",
          "height": 34
        }
      },
      "source": [
        "dev = device()\n",
        "print('PyLops-gpu working on %s...' % dev)"
      ],
      "execution_count": 3,
      "outputs": [
        {
          "output_type": "stream",
          "text": [
            "PyLops-gpu working on cuda...\n"
          ],
          "name": "stdout"
        }
      ]
    },
    {
      "cell_type": "markdown",
      "metadata": {
        "id": "0tW1zPopNUUk",
        "colab_type": "text"
      },
      "source": [
        "## Diagonal"
      ]
    },
    {
      "cell_type": "markdown",
      "metadata": {
        "id": "FXpLuro4Nalr",
        "colab_type": "text"
      },
      "source": [
        "Example with model and data already on GPU"
      ]
    },
    {
      "cell_type": "code",
      "metadata": {
        "id": "HS0QPHLwFutW",
        "colab_type": "code",
        "outputId": "a039d534-549b-4d73-adc2-cbb9827116f2",
        "colab": {
          "base_uri": "https://localhost:8080/",
          "height": 85
        }
      },
      "source": [
        "n = int(1e6)\n",
        "xg = torch.ones(n, dtype=torch.float32).to(dev)\n",
        "dg = (torch.arange(0, n, dtype=torch.float32) + 1.).to(dev)\n",
        "\n",
        "x = xg.cpu().numpy()\n",
        "d = dg.cpu().numpy()\n",
        "\n",
        "Dop = Diagonal(d)\n",
        "Dop_gpu = gDiagonal(dg, device=dev)\n",
        "dottest(Dop, n, n, verb=True)\n",
        "gdottest(Dop_gpu, n, n, device=dev, verb=True)\n",
        "\n",
        "# y = Dx\n",
        "yg = Dop_gpu * xg\n",
        "print('y', yg)"
      ],
      "execution_count": 4,
      "outputs": [
        {
          "output_type": "stream",
          "text": [
            "Dot test passed, v^T(Opu)=-22211585.991098 - u^T(Op^Tv)=-22211585.991098\n",
            "Dot test passed, v^T(Opu)=124900892672.000000 - u^T(Op^Tv)=124900892672.000000\n",
            "y tensor([1.0000e+00, 2.0000e+00, 3.0000e+00,  ..., 1.0000e+06, 1.0000e+06,\n",
            "        1.0000e+06], device='cuda:0')\n"
          ],
          "name": "stdout"
        }
      ]
    },
    {
      "cell_type": "code",
      "metadata": {
        "id": "XER4rcF2Ni23",
        "colab_type": "code",
        "outputId": "9a2b2072-9bec-43a5-d536-f47673d3623e",
        "colab": {
          "base_uri": "https://localhost:8080/",
          "height": 51
        }
      },
      "source": [
        "%timeit -n 10 Dop * x\n",
        "%timeit -n 10 Dop_gpu * xg"
      ],
      "execution_count": 5,
      "outputs": [
        {
          "output_type": "stream",
          "text": [
            "10 loops, best of 3: 784 µs per loop\n",
            "10 loops, best of 3: 18.4 µs per loop\n"
          ],
          "name": "stdout"
        }
      ]
    },
    {
      "cell_type": "markdown",
      "metadata": {
        "id": "msimlxTDNn8U",
        "colab_type": "text"
      },
      "source": [
        "Example with model and data transfered from and to gpu in forward and adjoint operations"
      ]
    },
    {
      "cell_type": "code",
      "metadata": {
        "id": "Zfytb17lNLZN",
        "colab_type": "code",
        "outputId": "c41e588f-f058-4a8e-be5c-91e2b350ac5c",
        "colab": {
          "base_uri": "https://localhost:8080/",
          "height": 337
        }
      },
      "source": [
        "n = int(1e6)\n",
        "xg = torch.ones(n, dtype=torch.float32).to(dev)\n",
        "dg = (torch.arange(0, n, dtype=torch.float32) + 1.).to(dev)\n",
        "\n",
        "xc = xg.cpu()\n",
        "x = xg.cpu().numpy()\n",
        "d = dg.cpu().numpy()\n",
        "\n",
        "Dop = Diagonal(d)\n",
        "Dop_gpu = gDiagonal(dg, device=dev, togpu=(True, True), tocpu=(True, True))\n",
        "gdottest(Dop_gpu, n, n, verb=True)\n",
        "\n",
        "# y = Dx\n",
        "y = Dop_gpu * x\n",
        "print('y', yg)\n",
        "\n",
        "# xinv = D^-1 y\n",
        "xinv = Dop / y\n",
        "xinvg = Dop_gpu / y\n",
        "\n",
        "plt.figure()\n",
        "plt.plot(x)\n",
        "plt.plot(xinv)\n",
        "plt.plot(xinvg, '--r')"
      ],
      "execution_count": 6,
      "outputs": [
        {
          "output_type": "stream",
          "text": [
            "Dot test passed, v^T(Opu)=125259546624.000000 - u^T(Op^Tv)=125259554816.000000\n",
            "y tensor([1.0000e+00, 2.0000e+00, 3.0000e+00,  ..., 1.0000e+06, 1.0000e+06,\n",
            "        1.0000e+06], device='cuda:0')\n"
          ],
          "name": "stdout"
        },
        {
          "output_type": "execute_result",
          "data": {
            "text/plain": [
              "[<matplotlib.lines.Line2D at 0x7f44406bf0b8>]"
            ]
          },
          "metadata": {
            "tags": []
          },
          "execution_count": 6
        },
        {
          "output_type": "display_data",
          "data": {
            "image/png": "[encoded data removed]",
            "text/plain": [
              "<Figure size 432x288 with 1 Axes>"
            ]
          },
          "metadata": {
            "tags": []
          }
        }
      ]
    },
    {
      "cell_type": "code",
      "metadata": {
        "id": "a48_e6xIVHhu",
        "colab_type": "code",
        "outputId": "79b22b8b-258c-450a-a7da-24aa1991e009",
        "colab": {
          "base_uri": "https://localhost:8080/",
          "height": 51
        }
      },
      "source": [
        "Dop_gpu = gDiagonal(dg, device=dev, togpu=(True, True))\n",
        "\n",
        "%timeit -n 10 Dop * x\n",
        "%timeit -n 10 Dop_gpu * xc"
      ],
      "execution_count": 7,
      "outputs": [
        {
          "output_type": "stream",
          "text": [
            "10 loops, best of 3: 799 µs per loop\n",
            "10 loops, best of 3: 726 µs per loop\n"
          ],
          "name": "stdout"
        }
      ]
    },
    {
      "cell_type": "code",
      "metadata": {
        "id": "jXJkOrNtHMGn",
        "colab_type": "code",
        "outputId": "82b8542e-48c0-4ef4-8673-c5bcd49f43b5",
        "colab": {
          "base_uri": "https://localhost:8080/",
          "height": 51
        }
      },
      "source": [
        "Dop_gpu = gDiagonal(dg, device=dev, togpu=(True, True), tocpu=(True, True))\n",
        "\n",
        "%timeit -n 10 Dop * x\n",
        "%timeit -n 10 Dop_gpu * xc"
      ],
      "execution_count": 8,
      "outputs": [
        {
          "output_type": "stream",
          "text": [
            "10 loops, best of 3: 818 µs per loop\n",
            "10 loops, best of 3: 1.82 ms per loop\n"
          ],
          "name": "stdout"
        }
      ]
    },
    {
      "cell_type": "markdown",
      "metadata": {
        "id": "mo-JeU7iPSc4",
        "colab_type": "text"
      },
      "source": [
        "Note here how we get hit by the cost of moving x and y back and forth between CPU and GPU."
      ]
    },
    {
      "cell_type": "markdown",
      "metadata": {
        "id": "G9UsaZGZhccU",
        "colab_type": "text"
      },
      "source": [
        "# 1D Convolution"
      ]
    },
    {
      "cell_type": "code",
      "metadata": {
        "id": "r7K9pSgihQNP",
        "colab_type": "code",
        "outputId": "85c25c13-c251-4c98-bcea-f6ea740043a8",
        "colab": {
          "base_uri": "https://localhost:8080/",
          "height": 51
        }
      },
      "source": [
        "N = 11\n",
        "Nh = 3\n",
        "x = np.zeros(N)\n",
        "x[N//2] = 1\n",
        "\n",
        "h = np.arange(Nh)+1\n",
        "y = np.convolve(x, h, mode='same')\n",
        "print(y)\n",
        "print(y.shape)"
      ],
      "execution_count": 9,
      "outputs": [
        {
          "output_type": "stream",
          "text": [
            "[0. 0. 0. 0. 1. 2. 3. 0. 0. 0. 0.]\n",
            "(11,)\n"
          ],
          "name": "stdout"
        }
      ]
    },
    {
      "cell_type": "code",
      "metadata": {
        "id": "1hqf1yHfhHqU",
        "colab_type": "code",
        "outputId": "ea2aaddc-5c50-49e5-9aa1-ccd746d2ae49",
        "colab": {
          "base_uri": "https://localhost:8080/",
          "height": 51
        }
      },
      "source": [
        "xt = torch.zeros(N)\n",
        "xt[N//2] = 1\n",
        "\n",
        "ht = torch.torch.arange(0, Nh, dtype=torch.float) + 1.\n",
        "yt = torch.torch.conv_transpose1d(xt.reshape(1, 1, N), ht.reshape(1, 1, 3), padding=Nh//2)\n",
        "print(yt)\n",
        "print(yt.shape)"
      ],
      "execution_count": 10,
      "outputs": [
        {
          "output_type": "stream",
          "text": [
            "tensor([[[0., 0., 0., 0., 1., 2., 3., 0., 0., 0., 0.]]])\n",
            "torch.Size([1, 1, 11])\n"
          ],
          "name": "stdout"
        }
      ]
    },
    {
      "cell_type": "code",
      "metadata": {
        "id": "4y7V0DRVkojI",
        "colab_type": "code",
        "outputId": "84bc6bf9-822b-45aa-e43d-3a6b533848cf",
        "colab": {
          "base_uri": "https://localhost:8080/",
          "height": 68
        }
      },
      "source": [
        "y = np.correlate(x, h, mode='same')\n",
        "print(y)\n",
        "\n",
        "yt = torch.torch.conv1d(xt.reshape(1, 1, N), ht.reshape(1, 1, 3), padding=Nh//2)\n",
        "print(yt)\n",
        "print(yt.shape)"
      ],
      "execution_count": 11,
      "outputs": [
        {
          "output_type": "stream",
          "text": [
            "[0. 0. 0. 0. 3. 2. 1. 0. 0. 0. 0.]\n",
            "tensor([[[0., 0., 0., 0., 3., 2., 1., 0., 0., 0., 0.]]])\n",
            "torch.Size([1, 1, 11])\n"
          ],
          "name": "stdout"
        }
      ]
    },
    {
      "cell_type": "code",
      "metadata": {
        "id": "lgdPeJb0iCy1",
        "colab_type": "code",
        "outputId": "c4e2a176-89fa-4265-e13d-591e3d80ca79",
        "colab": {
          "base_uri": "https://localhost:8080/",
          "height": 102
        }
      },
      "source": [
        "xt = torch.zeros((1000, N))\n",
        "xt[:, N//2] = 1\n",
        "ht = torch.torch.arange(0, Nh, dtype=torch.float) + 1.\n",
        "\n",
        "xc = xt.to(dev)\n",
        "hc = ht.to(dev)\n",
        "\n",
        "yt = torch.torch.conv1d(xt.reshape(1000, 1, N), ht.reshape(1, 1, 3), padding=Nh//2)\n",
        "print(yt.shape)\n",
        "yc = torch.torch.conv1d(xc.reshape(1000, 1, N), hc.reshape(1, 1, 3), padding=Nh//2)\n",
        "print(yc.shape)\n",
        "\n",
        "% timeit torch.torch.conv1d(xt.reshape(1000, 1, N), ht.reshape(1, 1, 3), padding=Nh//2)\n",
        "% timeit torch.torch.conv1d(xc.reshape(1000, 1, N), hc.reshape(1, 1, 3), padding=Nh//2)"
      ],
      "execution_count": 12,
      "outputs": [
        {
          "output_type": "stream",
          "text": [
            "torch.Size([1000, 1, 11])\n",
            "torch.Size([1000, 1, 11])\n",
            "1000 loops, best of 3: 554 µs per loop\n",
            "The slowest run took 4.51 times longer than the fastest. This could mean that an intermediate result is being cached.\n",
            "10000 loops, best of 3: 64.5 µs per loop\n"
          ],
          "name": "stdout"
        }
      ]
    },
    {
      "cell_type": "markdown",
      "metadata": {
        "id": "JmUAjnrlpaIh",
        "colab_type": "text"
      },
      "source": [
        "## MatrixMult"
      ]
    },
    {
      "cell_type": "code",
      "metadata": {
        "id": "4wc7aNRXVnG3",
        "colab_type": "code",
        "colab": {}
      },
      "source": [
        "def conjgrad_old(A, b, x0, niter):\n",
        "    'Conjugate-gradient algorithm for minimizing |A x - dat|^2'\n",
        "    x = x0\n",
        "    r = b-A._matvec(x).ravel()\n",
        "    d = r.copy()\n",
        "    k = r.dot(r)\n",
        "    k0 = k\n",
        "    for iter in range(niter):\n",
        "        a = r.dot(r) / d.dot(A._matvec(d).ravel())\n",
        "        x = x + a*d\n",
        "        rnew = r - a*A._matvec(d).ravel()\n",
        "        k = rnew.dot(rnew)\n",
        "        b = rnew.dot(rnew) / r.dot(r)\n",
        "        d = rnew + b*d;\n",
        "        r = rnew.copy()\n",
        "    return x\n",
        "  \n",
        "def conjgrad(A, b, x, niter):\n",
        "    'Conjugate-gradient algorithm for minimizing |A x - dat|^2'\n",
        "    r = b - A._matvec(x)\n",
        "    return x\n",
        "    d = r.copy()\n",
        "    kold = r.dot(r)\n",
        "    for iter in range(niter):\n",
        "        #if iter == 0:\n",
        "        #  Ad = A._matvec(r)\n",
        "        #  dAd = r.dot(Ad)\n",
        "        #else:\n",
        "        Ad = A._matvec(d)\n",
        "        dAd = d.dot(Ad)\n",
        "        a = kold / dAd\n",
        "        x += a*d\n",
        "        r -= a*Ad\n",
        "        k = r.dot(r)\n",
        "        b = k / kold\n",
        "        d = r + b*d;\n",
        "        kold = k\n",
        "    return x\n",
        "  \n",
        "def conjgrad_gpu(A, b, x, niter):\n",
        "    'Conjugate-gradient algorithm for minimizing |A x - dat|^2'\n",
        "    #x = x0.clone()\n",
        "    r = b - A.matmul(x)\n",
        "    return x\n",
        "    d = r.clone()\n",
        "    kold = r.dot(r)\n",
        "    for iter in range(niter):\n",
        "        #if iter == 0:\n",
        "        #  Ad = A.matmul(r)\n",
        "        #  dAd = r.dot(Ad)\n",
        "        #else:\n",
        "        Ad = A.matmul(d)\n",
        "        dAd = d.dot(Ad)\n",
        "        a = kold / dAd\n",
        "        x += a*d\n",
        "        r -= a*Ad\n",
        "        k = r.dot(r)\n",
        "        b = k / kold\n",
        "        d = r + b*d;\n",
        "        #rold = r.clone()\n",
        "        kold = k\n",
        "    return x"
      ],
      "execution_count": 0,
      "outputs": []
    },
    {
      "cell_type": "code",
      "metadata": {
        "id": "rzIyAUizpeS1",
        "colab_type": "code",
        "colab": {
          "base_uri": "https://localhost:8080/",
          "height": 51
        },
        "outputId": "d14fba6c-1f79-4d96-a57d-3438368a40c4"
      },
      "source": [
        "n = 1000\n",
        "niter = 100\n",
        "x = np.ones(n)\n",
        "\n",
        "A = np.random.randn(n, n)\n",
        "ATA = np.dot(A.T, A)\n",
        "\n",
        "Aop = MatrixMult(ATA)\n",
        "\n",
        "y = Aop.matvec(x)\n",
        "xinv_sp = cg(Aop, y, maxiter=niter)[0]\n",
        "xinv_old = conjgrad_old(Aop, y, np.zeros_like(x), niter)\n",
        "xinv = conjgrad(Aop, y, np.zeros_like(x), niter)\n",
        "\n",
        "print(np.linalg.norm(xinv - xinv_sp))\n",
        "print(np.linalg.norm(xinv - xinv_old))"
      ],
      "execution_count": 78,
      "outputs": [
        {
          "output_type": "stream",
          "text": [
            "0.00016837896551346847\n",
            "0.0\n"
          ],
          "name": "stdout"
        }
      ]
    },
    {
      "cell_type": "code",
      "metadata": {
        "id": "93QTFv2cpeVY",
        "colab_type": "code",
        "colab": {
          "base_uri": "https://localhost:8080/",
          "height": 303
        },
        "outputId": "3210e08c-1e55-4b5b-d02c-ae629de1e575"
      },
      "source": [
        "xg = torch.ones(n, dtype=torch.float64).to(dev)\n",
        "x0g = torch.zeros(n, dtype=torch.float64).to(dev)\n",
        "Ag = torch.from_numpy(A).to(dev)\n",
        "ATAg = torch.matmul(Ag.t(), Ag)\n",
        "\n",
        "yg = ATAg.matmul(xg)\n",
        "plt.plot(y)\n",
        "plt.plot(yg.cpu().numpy(), '--r')\n",
        "plt.plot(y-yg.cpu().numpy(), 'k')\n",
        "\n",
        "xinvg = conjgrad_gpu(ATAg, yg, torch.zeros(n, dtype=torch.float64).to(dev), niter)\n",
        "print(np.linalg.norm(xinv - xinvg.cpu().numpy()))\n",
        "\n",
        "plt.plot(x)\n",
        "plt.plot(xinvg.cpu().numpy(), '--r')\n",
        "plt.plot(x-xinvg.cpu().numpy(), 'k')"
      ],
      "execution_count": 79,
      "outputs": [
        {
          "output_type": "stream",
          "text": [
            "7.752064498775677e-05\n"
          ],
          "name": "stdout"
        },
        {
          "output_type": "execute_result",
          "data": {
            "text/plain": [
              "[<matplotlib.lines.Line2D at 0x7f442bdcb6a0>]"
            ]
          },
          "metadata": {
            "tags": []
          },
          "execution_count": 79
        },
        {
          "output_type": "display_data",
          "data": {
            "image/png": "[encoded data removed]",
            "text/plain": [
              "<Figure size 432x288 with 1 Axes>"
            ]
          },
          "metadata": {
            "tags": []
          }
        }
      ]
    },
    {
      "cell_type": "code",
      "metadata": {
        "id": "em4S3ucvEJL_",
        "colab_type": "code",
        "colab": {
          "base_uri": "https://localhost:8080/",
          "height": 68
        },
        "outputId": "5e898f0f-e935-4920-e352-ea73f7d6d452"
      },
      "source": [
        "xgg = xg.reshape(n, 1)\n",
        "\n",
        "%timeit -n 30 -r 3 ATA.dot(x)\n",
        "%timeit -n 30 -r 3 ATAg.matmul(xg)\n",
        "%timeit -n 30 -r 3 ATAg.mm(xgg)"
      ],
      "execution_count": 80,
      "outputs": [
        {
          "output_type": "stream",
          "text": [
            "30 loops, best of 3: 265 µs per loop\n",
            "30 loops, best of 3: 17.3 µs per loop\n",
            "30 loops, best of 3: 16.9 µs per loop\n"
          ],
          "name": "stdout"
        }
      ]
    },
    {
      "cell_type": "code",
      "metadata": {
        "id": "r3GsIiQ3pzK0",
        "colab_type": "code",
        "colab": {
          "base_uri": "https://localhost:8080/",
          "height": 68
        },
        "outputId": "84a64cde-0053-41e5-8c2c-2030ae5fb521"
      },
      "source": [
        "niter = 100\n",
        "\n",
        "%timeit -n 2 cg(Aop, y, maxiter=niter)[0]\n",
        "#%timeit -n 2 conjgrad_old(Aop, y, np.zeros_like(x), niter)\n",
        "%timeit -n 2 conjgrad(Aop, y, np.zeros_like(x), niter)\n",
        "%timeit -n 2 conjgrad_gpu(ATAg, yg, x0g, niter)"
      ],
      "execution_count": 95,
      "outputs": [
        {
          "output_type": "stream",
          "text": [
            "2 loops, best of 3: 148 ms per loop\n",
            "2 loops, best of 3: 243 µs per loop\n",
            "2 loops, best of 3: 40.8 µs per loop\n"
          ],
          "name": "stdout"
        }
      ]
    },
    {
      "cell_type": "code",
      "metadata": {
        "id": "eI6Mr3cCKIFZ",
        "colab_type": "code",
        "colab": {}
      },
      "source": [
        ""
      ],
      "execution_count": 0,
      "outputs": []
    }
  ]
}