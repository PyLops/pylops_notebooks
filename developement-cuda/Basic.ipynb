{
 "cells": [
  {
   "cell_type": "markdown",
   "metadata": {
    "colab_type": "text",
    "id": "xaygeqc0YgF7"
   },
   "source": [
    "# Pylops - CUDA basic linear operators"
   ]
  },
  {
   "cell_type": "markdown",
   "metadata": {
    "colab_type": "text",
    "id": "owGwScKKYgGA"
   },
   "source": [
    "### Author: M.Ravasi"
   ]
  },
  {
   "cell_type": "markdown",
   "metadata": {
    "colab_type": "text",
    "id": "IUIuNUfYYgGC"
   },
   "source": [
    "In this notebook we will experiment with Pytorch to assess its usability as backend for CUDA enabled operators"
   ]
  },
  {
   "cell_type": "code",
   "execution_count": 1,
   "metadata": {
    "colab": {
     "base_uri": "https://localhost:8080/",
     "height": 616
    },
    "colab_type": "code",
    "id": "hMwmxTTxZ4Ju",
    "outputId": "50f394ce-4177-4795-93d8-55cf678ce644"
   },
   "outputs": [
    {
     "name": "stdout",
     "output_type": "stream",
     "text": [
      "Collecting git+https://git@github.com/equinor/pylops.git@master\n",
      "  Cloning https://git@github.com/equinor/pylops.git (to revision master) to /tmp/pip-req-build-mfxdguar\n",
      "  Running command git clone -q https://git@github.com/equinor/pylops.git /tmp/pip-req-build-mfxdguar\n",
      "Requirement already satisfied: numpy>=1.15.0 in /usr/local/lib/python3.6/dist-packages (from pylops==0.0.0) (1.16.4)\n",
      "Requirement already satisfied: scipy in /usr/local/lib/python3.6/dist-packages (from pylops==0.0.0) (1.3.0)\n",
      "Building wheels for collected packages: pylops\n",
      "  Building wheel for pylops (setup.py) ... \u001b[?25l\u001b[?25hdone\n",
      "  Stored in directory: /tmp/pip-ephem-wheel-cache-ee5x6bfw/wheels/20/30/e5/b89bfb2635eae9defa61ce159dec2e3ba62cd8e2f71ac057cb\n",
      "Successfully built pylops\n",
      "Installing collected packages: pylops\n",
      "Successfully installed pylops-0.0.0\n",
      "Collecting git+https://git@github.com/equinor/pylops-gpu.git@master\n",
      "  Cloning https://git@github.com/equinor/pylops-gpu.git (to revision master) to /tmp/pip-req-build-bg6n2_v6\n",
      "  Running command git clone -q https://git@github.com/equinor/pylops-gpu.git /tmp/pip-req-build-bg6n2_v6\n",
      "Requirement already satisfied: numpy>=1.15.0 in /usr/local/lib/python3.6/dist-packages (from pylops-gpu==0.0.0) (1.16.4)\n",
      "Requirement already satisfied: torch in /usr/local/lib/python3.6/dist-packages (from pylops-gpu==0.0.0) (1.1.0)\n",
      "Collecting pytorch_complex_tensor (from pylops-gpu==0.0.0)\n",
      "  Downloading https://files.pythonhosted.org/packages/0e/98/6e5718dd0c7d7b648c560624aea9a81b98b0442e03a7ff4c81430b0c8082/pytorch-complex-tensor-0.0.134.tar.gz\n",
      "Requirement already satisfied: torchvision>=0.2.1 in /usr/local/lib/python3.6/dist-packages (from pytorch_complex_tensor->pylops-gpu==0.0.0) (0.3.0)\n",
      "Requirement already satisfied: six in /usr/local/lib/python3.6/dist-packages (from torchvision>=0.2.1->pytorch_complex_tensor->pylops-gpu==0.0.0) (1.12.0)\n",
      "Requirement already satisfied: pillow>=4.1.1 in /usr/local/lib/python3.6/dist-packages (from torchvision>=0.2.1->pytorch_complex_tensor->pylops-gpu==0.0.0) (4.3.0)\n",
      "Requirement already satisfied: olefile in /usr/local/lib/python3.6/dist-packages (from pillow>=4.1.1->torchvision>=0.2.1->pytorch_complex_tensor->pylops-gpu==0.0.0) (0.46)\n",
      "Building wheels for collected packages: pylops-gpu, pytorch-complex-tensor\n",
      "  Building wheel for pylops-gpu (setup.py) ... \u001b[?25l\u001b[?25hdone\n",
      "  Stored in directory: /tmp/pip-ephem-wheel-cache-6wzpsof7/wheels/c7/f0/0b/513e9be2dad0cbe2a900c0414a94bcae8778093383364aab9a\n",
      "  Building wheel for pytorch-complex-tensor (setup.py) ... \u001b[?25l\u001b[?25hdone\n",
      "  Stored in directory: /root/.cache/pip/wheels/12/9c/1c/35f0a149f864e1b4d5f0711bf76745aebef1f306fc8ab9ec40\n",
      "Successfully built pylops-gpu pytorch-complex-tensor\n",
      "Installing collected packages: pytorch-complex-tensor, pylops-gpu\n",
      "Successfully installed pylops-gpu-0.0.0 pytorch-complex-tensor-0.0.134\n"
     ]
    }
   ],
   "source": [
    "#!pip install pylops\n",
    "!pip install git+https://git@github.com/equinor/pylops.git@master\n",
    "!pip install git+https://git@github.com/equinor/pylops-gpu.git@master"
   ]
  },
  {
   "cell_type": "code",
   "execution_count": 48,
   "metadata": {
    "colab": {
     "base_uri": "https://localhost:8080/",
     "height": 68
    },
    "colab_type": "code",
    "id": "86gLYP4HYgGI",
    "outputId": "134e9ccd-42c9-405b-d20c-5b036c307754"
   },
   "outputs": [
    {
     "name": "stdout",
     "output_type": "stream",
     "text": [
      "The autoreload extension is already loaded. To reload it, use:\n",
      "  %reload_ext autoreload\n",
      "Populating the interactive namespace from numpy and matplotlib\n"
     ]
    }
   ],
   "source": [
    "%load_ext autoreload\n",
    "%autoreload 2\n",
    "%matplotlib inline\n",
    "%pylab inline\n",
    "\n",
    "import warnings\n",
    "warnings.filterwarnings('ignore')\n",
    "\n",
    "import numpy as np\n",
    "import torch\n",
    "import scipy as sp\n",
    "import matplotlib.pyplot as plt\n",
    "import pylops\n",
    "\n",
    "from scipy.signal import triang\n",
    "from pylops import Diagonal, MatrixMult, FirstDerivative\n",
    "from pylops.utils import dottest\n",
    "from pylops.signalprocessing import Convolve1D\n",
    "\n",
    "from scipy.sparse.linalg import cg\n",
    "from pylops_gpu.utils.backend import device\n",
    "from pylops_gpu.utils import dottest as gdottest\n",
    "from pylops_gpu import Diagonal as gDiagonal\n",
    "from pylops_gpu import MatrixMult as gMatrixMult\n",
    "from pylops_gpu import FirstDerivative as gFirstDerivative\n",
    "from pylops_gpu.signalprocessing import Convolve1D as gConvolve1D\n",
    "from pylops_gpu.optimization.cg import cg as gcg"
   ]
  },
  {
   "cell_type": "code",
   "execution_count": 3,
   "metadata": {
    "colab": {
     "base_uri": "https://localhost:8080/",
     "height": 34
    },
    "colab_type": "code",
    "id": "5psZx5uvNM77",
    "outputId": "c97b66d2-6239-4786-fdf4-3a320b954ab0"
   },
   "outputs": [
    {
     "name": "stdout",
     "output_type": "stream",
     "text": [
      "PyLops-gpu working on cuda...\n"
     ]
    }
   ],
   "source": [
    "dev = device()\n",
    "print('PyLops-gpu working on %s...' % dev)\n",
    "\n",
    "torch.cuda.empty_cache()"
   ]
  },
  {
   "cell_type": "markdown",
   "metadata": {
    "colab_type": "text",
    "id": "0tW1zPopNUUk"
   },
   "source": [
    "## Diagonal"
   ]
  },
  {
   "cell_type": "markdown",
   "metadata": {
    "colab_type": "text",
    "id": "FXpLuro4Nalr"
   },
   "source": [
    "Example with model and data already on GPU"
   ]
  },
  {
   "cell_type": "code",
   "execution_count": 5,
   "metadata": {
    "colab": {
     "base_uri": "https://localhost:8080/",
     "height": 85
    },
    "colab_type": "code",
    "id": "HS0QPHLwFutW",
    "outputId": "6701e634-0c0f-4b8f-d9c8-45910f55f5f7"
   },
   "outputs": [
    {
     "name": "stdout",
     "output_type": "stream",
     "text": [
      "Dot test passed, v^T(Opu)=958303094.374042 - u^T(Op^Tv)=958303094.374043\n",
      "Dot test passed, v^T(Opu)=558584256.000000 - u^T(Op^Tv)=558584320.000000\n",
      "y tensor([1.0000e+00, 2.0000e+00, 3.0000e+00,  ..., 1.0000e+06, 1.0000e+06,\n",
      "        1.0000e+06], device='cuda:0')\n"
     ]
    }
   ],
   "source": [
    "n = int(1e6)\n",
    "xg = torch.ones(n, dtype=torch.float32).to(dev)\n",
    "dg = (torch.arange(0, n, dtype=torch.float32) + 1.).to(dev)\n",
    "\n",
    "x = xg.cpu().numpy()\n",
    "d = dg.cpu().numpy()\n",
    "\n",
    "Dop = Diagonal(d)\n",
    "Dop_gpu = gDiagonal(dg, device=dev)\n",
    "dottest(Dop, n, n, verb=True)\n",
    "gdottest(Dop_gpu, n, n, device=dev, verb=True, tol=1e-3)\n",
    "\n",
    "# y = Dx\n",
    "yg = Dop_gpu * xg\n",
    "print('y', yg)"
   ]
  },
  {
   "cell_type": "code",
   "execution_count": 6,
   "metadata": {
    "colab": {
     "base_uri": "https://localhost:8080/",
     "height": 51
    },
    "colab_type": "code",
    "id": "XER4rcF2Ni23",
    "outputId": "9f8b4265-8759-4631-f35e-19e14623ede0"
   },
   "outputs": [
    {
     "name": "stdout",
     "output_type": "stream",
     "text": [
      "10 loops, best of 3: 757 µs per loop\n",
      "10 loops, best of 3: 23 µs per loop\n"
     ]
    }
   ],
   "source": [
    "%timeit -n 10 Dop * x\n",
    "%timeit -n 10 Dop_gpu * xg"
   ]
  },
  {
   "cell_type": "markdown",
   "metadata": {
    "colab_type": "text",
    "id": "msimlxTDNn8U"
   },
   "source": [
    "Example with model and data transfered from and to gpu in forward and adjoint operations"
   ]
  },
  {
   "cell_type": "code",
   "execution_count": 7,
   "metadata": {
    "colab": {
     "base_uri": "https://localhost:8080/",
     "height": 320
    },
    "colab_type": "code",
    "id": "Zfytb17lNLZN",
    "outputId": "0edbd170-a4ce-45d0-813a-dad08c4186fd"
   },
   "outputs": [
    {
     "name": "stdout",
     "output_type": "stream",
     "text": [
      "Dot test passed, v^T(Opu)=1220800768.000000 - u^T(Op^Tv)=1220801408.000000\n",
      "y [1.00000e+00 2.00000e+00 3.00000e+00 ... 9.99998e+05 9.99999e+05\n",
      " 1.00000e+06]\n"
     ]
    },
    {
     "data": {
      "image/png": "[encoded data removed]",
      "text/plain": [
       "<Figure size 432x288 with 1 Axes>"
      ]
     },
     "metadata": {
      "tags": []
     },
     "output_type": "display_data"
    }
   ],
   "source": [
    "n = int(1e6)\n",
    "xg = torch.ones(n, dtype=torch.float32).to(dev)\n",
    "dg = (torch.arange(0, n, dtype=torch.float32) + 1.).to(dev)\n",
    "\n",
    "xc = xg.cpu()\n",
    "x = xg.cpu().numpy()\n",
    "d = dg.cpu().numpy()\n",
    "\n",
    "Dop = Diagonal(d)\n",
    "Dop_gpu = gDiagonal(dg, device=dev, togpu=(True, True), tocpu=(True, True))\n",
    "gdottest(Dop_gpu, n, n, verb=True)\n",
    "\n",
    "# y = Dx\n",
    "y = Dop_gpu * x\n",
    "print('y', y)\n",
    "\n",
    "# xinv = D^-1 y\n",
    "xinv = Dop / y\n",
    "xinvg = (Dop_gpu / torch.from_numpy(y)).numpy() # solver only runs with torch tensors\n",
    "\n",
    "plt.figure()\n",
    "plt.plot(x, 'b', lw=4)\n",
    "plt.plot(xinv, '--r', lw=4)\n",
    "plt.plot(xinvg, '--g', lw=3);"
   ]
  },
  {
   "cell_type": "code",
   "execution_count": 8,
   "metadata": {
    "colab": {
     "base_uri": "https://localhost:8080/",
     "height": 51
    },
    "colab_type": "code",
    "id": "a48_e6xIVHhu",
    "outputId": "a6eedacb-2da1-436b-b528-32d0b78d8f72"
   },
   "outputs": [
    {
     "name": "stdout",
     "output_type": "stream",
     "text": [
      "10 loops, best of 3: 765 µs per loop\n",
      "10 loops, best of 3: 739 µs per loop\n"
     ]
    }
   ],
   "source": [
    "Dop_gpu = gDiagonal(dg, device=dev, togpu=(True, True))\n",
    "\n",
    "%timeit -n 10 Dop * x\n",
    "%timeit -n 10 Dop_gpu * xc"
   ]
  },
  {
   "cell_type": "code",
   "execution_count": 9,
   "metadata": {
    "colab": {
     "base_uri": "https://localhost:8080/",
     "height": 51
    },
    "colab_type": "code",
    "id": "jXJkOrNtHMGn",
    "outputId": "087def9b-a599-4805-ffc7-0cba386408ee"
   },
   "outputs": [
    {
     "name": "stdout",
     "output_type": "stream",
     "text": [
      "10 loops, best of 3: 763 µs per loop\n",
      "10 loops, best of 3: 1.86 ms per loop\n"
     ]
    }
   ],
   "source": [
    "Dop_gpu = gDiagonal(dg, device=dev, togpu=(True, True), tocpu=(True, True))\n",
    "\n",
    "%timeit -n 10 Dop * x\n",
    "%timeit -n 10 Dop_gpu * xc"
   ]
  },
  {
   "cell_type": "markdown",
   "metadata": {
    "colab_type": "text",
    "id": "mo-JeU7iPSc4"
   },
   "source": [
    "Note here how we get hit by the cost of moving x and y back and forth between CPU and GPU."
   ]
  },
  {
   "cell_type": "markdown",
   "metadata": {
    "colab_type": "text",
    "id": "n7aFEi3Pi6sa"
   },
   "source": [
    "Finally we consider the case of broadcasting, where the Diagonal operator is applied to single direction of the input vector x"
   ]
  },
  {
   "cell_type": "code",
   "execution_count": 10,
   "metadata": {
    "colab": {
     "base_uri": "https://localhost:8080/",
     "height": 34
    },
    "colab_type": "code",
    "id": "IPlPk8LDjqxv",
    "outputId": "abdfcde3-417a-455d-f536-781a3b238547"
   },
   "outputs": [
    {
     "data": {
      "text/plain": [
       "True"
      ]
     },
     "execution_count": 10,
     "metadata": {
      "tags": []
     },
     "output_type": "execute_result"
    }
   ],
   "source": [
    "n = int(1e5)\n",
    "dg = (torch.arange(0, n, dtype=torch.float32) + 1.).to(dev)\n",
    "d = dg.cpu().numpy()\n",
    "xg = (torch.ones(2*n, dtype=torch.float32)).to(dev)\n",
    "x = xg.cpu().numpy()\n",
    "\n",
    "Dop2 = Diagonal(d, dims=(n, 2), dir=0)\n",
    "dottest(Dop2, 2*n, 2*n)\n",
    "\n",
    "Dop2_gpu = gDiagonal(dg, device=dev, dims=(n, 2), dir=0)\n",
    "gdottest(Dop2_gpu, 2*n, 2*n, device=dev)"
   ]
  },
  {
   "cell_type": "code",
   "execution_count": 11,
   "metadata": {
    "colab": {
     "base_uri": "https://localhost:8080/",
     "height": 51
    },
    "colab_type": "code",
    "id": "N_F8TTJ1oDSw",
    "outputId": "4755b84a-f2bb-4da7-f3e4-33e716dd23b6"
   },
   "outputs": [
    {
     "name": "stdout",
     "output_type": "stream",
     "text": [
      "10 loops, best of 3: 848 µs per loop\n",
      "10 loops, best of 3: 34.9 µs per loop\n"
     ]
    }
   ],
   "source": [
    "%timeit -n 10 Dop2 * x\n",
    "%timeit -n 10 Dop2_gpu * xg"
   ]
  },
  {
   "cell_type": "markdown",
   "metadata": {
    "colab_type": "text",
    "id": "uMAzc4p4haaq"
   },
   "source": [
    "And again moving back and forth from gpu to cpu"
   ]
  },
  {
   "cell_type": "code",
   "execution_count": 13,
   "metadata": {
    "colab": {
     "base_uri": "https://localhost:8080/",
     "height": 34
    },
    "colab_type": "code",
    "id": "GG5x1yU6g0Ig",
    "outputId": "2bf981ad-4c6d-49a8-8909-9ceb191e1419"
   },
   "outputs": [
    {
     "data": {
      "text/plain": [
       "True"
      ]
     },
     "execution_count": 13,
     "metadata": {
      "tags": []
     },
     "output_type": "execute_result"
    }
   ],
   "source": [
    "n = int(1e5)\n",
    "dg = (torch.arange(0, n, dtype=torch.float32) + 1.).to(dev)\n",
    "d = dg.cpu().numpy()\n",
    "xg = (torch.ones(2*n, dtype=torch.float32))\n",
    "x = xg.cpu().numpy()\n",
    "\n",
    "Dop2 = Diagonal(d, dims=(n, 2), dir=0)\n",
    "dottest(Dop2, 2*n, 2*n)\n",
    "\n",
    "Dop2_gpu = gDiagonal(dg, device=dev, dims=(n, 2), dir=0, togpu=(True, True), tocpu=(True, True))\n",
    "gdottest(Dop2_gpu, 2*n, 2*n, device='cpu')"
   ]
  },
  {
   "cell_type": "code",
   "execution_count": 14,
   "metadata": {
    "colab": {
     "base_uri": "https://localhost:8080/",
     "height": 51
    },
    "colab_type": "code",
    "id": "npaib2fMg0Ma",
    "outputId": "9fda3e96-1d88-4ddd-b6bd-424fc1bcb23d"
   },
   "outputs": [
    {
     "name": "stdout",
     "output_type": "stream",
     "text": [
      "10 loops, best of 3: 810 µs per loop\n",
      "10 loops, best of 3: 652 µs per loop\n"
     ]
    }
   ],
   "source": [
    "%timeit -n 10 Dop2 * x\n",
    "%timeit -n 10 Dop2_gpu * xg"
   ]
  },
  {
   "cell_type": "markdown",
   "metadata": {
    "colab_type": "text",
    "id": "JmUAjnrlpaIh"
   },
   "source": [
    "# MatrixMult"
   ]
  },
  {
   "cell_type": "code",
   "execution_count": 0,
   "metadata": {
    "colab": {},
    "colab_type": "code",
    "id": "tIypddNsTnZd"
   },
   "outputs": [],
   "source": [
    "n = 2000\n",
    "niter = 1000"
   ]
  },
  {
   "cell_type": "markdown",
   "metadata": {
    "colab_type": "text",
    "id": "0sspAo_pPlIi"
   },
   "source": [
    "Dot product (vector-vector)"
   ]
  },
  {
   "cell_type": "code",
   "execution_count": 16,
   "metadata": {
    "colab": {
     "base_uri": "https://localhost:8080/",
     "height": 119
    },
    "colab_type": "code",
    "id": "sKcGeIkQNsRI",
    "outputId": "7cbc9c82-5286-455b-dc80-e56f11f3a6bc"
   },
   "outputs": [
    {
     "name": "stdout",
     "output_type": "stream",
     "text": [
      "40 loops, best of 3: 740 ns per loop\n",
      "40 loops, best of 3: 4.91 µs per loop\n",
      "40 loops, best of 3: 62.8 µs per loop\n",
      "40 loops, best of 3: 68.4 µs per loop\n",
      "The slowest run took 5.07 times longer than the fastest. This could mean that an intermediate result is being cached.\n",
      "40 loops, best of 3: 29.9 µs per loop\n"
     ]
    }
   ],
   "source": [
    "z = np.ones(n, dtype=np.float32)\n",
    "zgc = torch.ones(n, dtype=torch.float32)\n",
    "zg = torch.ones(n, dtype=torch.float32).to(dev)\n",
    "\n",
    "% timeit -n 40 -r 3 z.dot(z)\n",
    "% timeit -n 40 -r 3 zgc.dot(zgc)\n",
    "% timeit -n 40 -r 3 zg.dot(zg)\n",
    "% timeit -n 40 -r 3 zg.matmul(zg)\n",
    "% timeit -n 40 -r 3 torch.sum(zg*zg)"
   ]
  },
  {
   "cell_type": "markdown",
   "metadata": {
    "colab_type": "text",
    "id": "E6T5b2C2Pi-e"
   },
   "source": [
    "Dot product (matrix-vector)"
   ]
  },
  {
   "cell_type": "code",
   "execution_count": 17,
   "metadata": {
    "colab": {
     "base_uri": "https://localhost:8080/",
     "height": 102
    },
    "colab_type": "code",
    "id": "sFDbI7eMNsUz",
    "outputId": "468c2e92-5085-446a-b7f4-9736f90bb8a2"
   },
   "outputs": [
    {
     "name": "stdout",
     "output_type": "stream",
     "text": [
      "40 loops, best of 3: 283 µs per loop\n",
      "40 loops, best of 3: 297 µs per loop\n",
      "40 loops, best of 3: 545 µs per loop\n",
      "40 loops, best of 3: 12.6 µs per loop\n",
      "40 loops, best of 3: 10.9 µs per loop\n"
     ]
    }
   ],
   "source": [
    "A = np.random.randn(n, n).astype(np.float32)\n",
    "Agc = torch.from_numpy(A)\n",
    "Ag = torch.from_numpy(A).to(dev)\n",
    "zgg = zg.reshape(n, 1)\n",
    "\n",
    "% timeit -n 40 -r 3 A.dot(z)\n",
    "% timeit -n 40 -r 3 np.matmul(A, z)\n",
    "% timeit -n 40 -r 3 Agc.matmul(zgc)\n",
    "% timeit -n 40 -r 3 Ag.matmul(zg)\n",
    "% timeit -n 40 -r 3 Ag.mm(zgg)"
   ]
  },
  {
   "cell_type": "markdown",
   "metadata": {
    "colab_type": "text",
    "id": "6lndReHKWggL"
   },
   "source": [
    "We can see how numpy's dot product seem to always win for vector-vector computations but in case of matrix-matrix pytorch on cuda outperforms numpy when n grows (roughly n>500)"
   ]
  },
  {
   "cell_type": "code",
   "execution_count": 0,
   "metadata": {
    "colab": {},
    "colab_type": "code",
    "id": "4wc7aNRXVnG3"
   },
   "outputs": [],
   "source": [
    "def conjgrad(A, b, x, niter):\n",
    "    'Conjugate-gradient algorithm for minimizing |A x - dat|^2'\n",
    "    r = b - A._matvec(x)\n",
    "    d = r.copy()\n",
    "    k = r.dot(r)\n",
    "    for iter in range(niter):\n",
    "        #if iter == 0:\n",
    "        #  Ad = A._matvec(r)\n",
    "        #  dAd = r.dot(Ad)\n",
    "        #else:\n",
    "        Ad = A._matvec(d)\n",
    "        dAd = d.dot(Ad)\n",
    "        a = k / dAd\n",
    "        x += a*d\n",
    "        r -= a*Ad\n",
    "        kold = k\n",
    "        k = r.dot(r)\n",
    "        b = k / kold\n",
    "        d = r + b*d;\n",
    "    return x\n",
    "  \n",
    "def conjgrad_gpu(A, b, x, niter):\n",
    "    'Conjugate-gradient algorithm for minimizing |A x - dat|^2'\n",
    "    r = b - A.matmul(x)\n",
    "    d = r.clone()\n",
    "    kold = torch.sum(r*r)\n",
    "    for iter in range(niter):\n",
    "        Ad = A.matmul(d)\n",
    "        dAd = torch.sum(d*Ad)\n",
    "        a = kold / dAd\n",
    "        x += a*d\n",
    "        r -= a*Ad\n",
    "        k = torch.sum(r*r)\n",
    "        b = k / kold\n",
    "        d = r + b*d;\n",
    "        kold = k\n",
    "    return x"
   ]
  },
  {
   "cell_type": "code",
   "execution_count": 19,
   "metadata": {
    "colab": {
     "base_uri": "https://localhost:8080/",
     "height": 303
    },
    "colab_type": "code",
    "id": "rzIyAUizpeS1",
    "outputId": "a87e5535-8a7b-4e48-c00a-25ce2369f5af"
   },
   "outputs": [
    {
     "name": "stdout",
     "output_type": "stream",
     "text": [
      "1.336560341676711\n"
     ]
    },
    {
     "data": {
      "text/plain": [
       "[<matplotlib.lines.Line2D at 0x7fec260d2358>]"
      ]
     },
     "execution_count": 19,
     "metadata": {
      "tags": []
     },
     "output_type": "execute_result"
    },
    {
     "data": {
      "image/png": "[encoded data removed]",
      "text/plain": [
       "<Figure size 432x288 with 1 Axes>"
      ]
     },
     "metadata": {
      "tags": []
     },
     "output_type": "display_data"
    }
   ],
   "source": [
    "np.random.seed(10)\n",
    "x = np.ones(n, dtype=np.float32)\n",
    "A = np.random.randn(n, n).astype(np.float32)\n",
    "ATA = np.dot(A.T, A)\n",
    "\n",
    "Aop = MatrixMult(ATA)\n",
    "\n",
    "y = Aop.matvec(x)\n",
    "xinv_sp = cg(Aop, y, maxiter=niter)[0]\n",
    "xinv = conjgrad(Aop, y, np.zeros_like(x), niter)\n",
    "print(np.linalg.norm(xinv - xinv_sp))\n",
    "\n",
    "plt.figure()\n",
    "plt.plot(x)\n",
    "plt.plot(xinv_sp, '--r')\n",
    "plt.plot(x-xinv_sp, 'k')"
   ]
  },
  {
   "cell_type": "code",
   "execution_count": 20,
   "metadata": {
    "colab": {
     "base_uri": "https://localhost:8080/",
     "height": 555
    },
    "colab_type": "code",
    "id": "93QTFv2cpeVY",
    "outputId": "010698bb-faaa-45d7-ca41-a0e6b78c1462"
   },
   "outputs": [
    {
     "name": "stdout",
     "output_type": "stream",
     "text": [
      "0.1477798\n"
     ]
    },
    {
     "data": {
      "text/plain": [
       "[<matplotlib.lines.Line2D at 0x7fec25ffc198>]"
      ]
     },
     "execution_count": 20,
     "metadata": {
      "tags": []
     },
     "output_type": "execute_result"
    },
    {
     "data": {
      "image/png": "[encoded data removed]",
      "text/plain": [
       "<Figure size 432x288 with 1 Axes>"
      ]
     },
     "metadata": {
      "tags": []
     },
     "output_type": "display_data"
    },
    {
     "data": {
      "image/png": "[encoded data removed]",
      "text/plain": [
       "<Figure size 432x288 with 1 Axes>"
      ]
     },
     "metadata": {
      "tags": []
     },
     "output_type": "display_data"
    }
   ],
   "source": [
    "xg = torch.ones(n, dtype=torch.float32).to(dev)\n",
    "x0g = torch.zeros(n, dtype=torch.float32).to(dev)\n",
    "Ag = torch.from_numpy(A).to(dev)\n",
    "ATAg = torch.matmul(Ag.t(), Ag)\n",
    "\n",
    "yg = ATAg.matmul(xg)\n",
    "plt.figure()\n",
    "plt.plot(y)\n",
    "plt.plot(yg.cpu().numpy(), '--r')\n",
    "plt.plot(y-yg.cpu().numpy(), 'k')\n",
    "\n",
    "xinvg = conjgrad_gpu(ATAg, yg, torch.zeros(n, dtype=torch.float32).to(dev), niter)\n",
    "print(np.linalg.norm(xinv - xinvg.cpu().numpy()))\n",
    "\n",
    "plt.figure()\n",
    "plt.plot(x)\n",
    "plt.plot(xinvg.cpu().numpy(), '--r')\n",
    "plt.plot(x-xinvg.cpu().numpy(), 'k')"
   ]
  },
  {
   "cell_type": "code",
   "execution_count": 21,
   "metadata": {
    "colab": {
     "base_uri": "https://localhost:8080/",
     "height": 303
    },
    "colab_type": "code",
    "id": "hliT6tyHbCOb",
    "outputId": "e79e8407-2879-4e31-d76a-dc843c2ab837"
   },
   "outputs": [
    {
     "name": "stdout",
     "output_type": "stream",
     "text": [
      "0.1477798\n"
     ]
    },
    {
     "data": {
      "text/plain": [
       "[<matplotlib.lines.Line2D at 0x7fec26033908>]"
      ]
     },
     "execution_count": 21,
     "metadata": {
      "tags": []
     },
     "output_type": "execute_result"
    },
    {
     "data": {
      "image/png": "[encoded data removed]",
      "text/plain": [
       "<Figure size 432x288 with 1 Axes>"
      ]
     },
     "metadata": {
      "tags": []
     },
     "output_type": "display_data"
    }
   ],
   "source": [
    "Agop = gMatrixMult(ATAg, device=dev)\n",
    "\n",
    "xinvg = gcg(Agop, yg, x=torch.zeros(n, dtype=torch.float32).to(dev), niter=niter)[0]\n",
    "print(np.linalg.norm(xinv - xinvg.cpu().numpy()))\n",
    "\n",
    "plt.figure()\n",
    "plt.plot(x)\n",
    "plt.plot(xinvg.cpu().numpy(), '--r')\n",
    "plt.plot(x-xinvg.cpu().numpy(), 'k')"
   ]
  },
  {
   "cell_type": "code",
   "execution_count": 22,
   "metadata": {
    "colab": {
     "base_uri": "https://localhost:8080/",
     "height": 85
    },
    "colab_type": "code",
    "id": "r3GsIiQ3pzK0",
    "outputId": "aaaa62b1-8329-431c-b392-5839f98dbfc0"
   },
   "outputs": [
    {
     "name": "stdout",
     "output_type": "stream",
     "text": [
      "2 loops, best of 3: 31.5 ms per loop\n",
      "2 loops, best of 3: 2.24 ms per loop\n",
      "2 loops, best of 3: 952 µs per loop\n",
      "2 loops, best of 3: 1.33 ms per loop\n"
     ]
    }
   ],
   "source": [
    "niter = 3\n",
    "\n",
    "%timeit -n 2 cg(Aop, y, maxiter=niter)[0]\n",
    "%timeit -n 2 conjgrad(Aop, y, np.zeros_like(x), niter)\n",
    "%timeit -n 2 conjgrad_gpu(ATAg, yg, x0g, niter)\n",
    "%timeit -n 2 gcg(Agop, yg, x=torch.zeros(n, dtype=torch.float32).to(dev), niter=niter)"
   ]
  },
  {
   "cell_type": "code",
   "execution_count": 23,
   "metadata": {
    "colab": {
     "base_uri": "https://localhost:8080/",
     "height": 85
    },
    "colab_type": "code",
    "id": "5YeA4fiyXEhl",
    "outputId": "230caf8e-5666-43c6-eb8a-064aa8925ceb"
   },
   "outputs": [
    {
     "name": "stdout",
     "output_type": "stream",
     "text": [
      "2 loops, best of 2: 3.23 s per loop\n",
      "2 loops, best of 2: 289 ms per loop\n",
      "2 loops, best of 2: 122 ms per loop\n",
      "2 loops, best of 3: 139 ms per loop\n"
     ]
    }
   ],
   "source": [
    "niter = 500\n",
    "\n",
    "%timeit -n 2 -r 2 cg(Aop, y, maxiter=niter)[0]\n",
    "%timeit -n 2 -r 2 conjgrad(Aop, y, np.zeros_like(x), niter)\n",
    "%timeit -n 2 -r 2 conjgrad_gpu(ATAg, yg, x0g, niter)\n",
    "%timeit -n 2 gcg(Agop, yg, x=torch.zeros(n, dtype=torch.float32).to(dev), niter=niter)[0]"
   ]
  },
  {
   "cell_type": "markdown",
   "metadata": {
    "colab_type": "text",
    "id": "vbcMaC8aMYOn"
   },
   "source": [
    "For large enough problems the gpu implementation of cg seem to greatly outperform scipy as well as our CPU implementation (mostly because the speedup in matrix-vector computation outreaches the slow down in  vector-vector)."
   ]
  },
  {
   "cell_type": "markdown",
   "metadata": {
    "colab_type": "text",
    "id": "G9UsaZGZhccU"
   },
   "source": [
    "# 1D Convolution"
   ]
  },
  {
   "cell_type": "code",
   "execution_count": 24,
   "metadata": {
    "colab": {
     "base_uri": "https://localhost:8080/",
     "height": 34
    },
    "colab_type": "code",
    "id": "r7K9pSgihQNP",
    "outputId": "c8befaa7-b9a1-4d22-92eb-1b7b20f51a37"
   },
   "outputs": [
    {
     "name": "stdout",
     "output_type": "stream",
     "text": [
      "[0. 0. 0. 0. 1. 2. 3. 0. 0. 0. 0.]\n"
     ]
    }
   ],
   "source": [
    "N = 11\n",
    "Nh = 3\n",
    "x = np.zeros(N)\n",
    "x[N//2] = 1\n",
    "\n",
    "h = np.arange(Nh)+1\n",
    "y = np.convolve(x, h, mode='same')\n",
    "print(y)"
   ]
  },
  {
   "cell_type": "code",
   "execution_count": 25,
   "metadata": {
    "colab": {
     "base_uri": "https://localhost:8080/",
     "height": 51
    },
    "colab_type": "code",
    "id": "1hqf1yHfhHqU",
    "outputId": "d8a24d5f-1141-499b-8154-6f05f3bacb2e"
   },
   "outputs": [
    {
     "name": "stdout",
     "output_type": "stream",
     "text": [
      "tensor([[[0., 0., 0., 0., 1., 2., 3., 0., 0., 0., 0.]]])\n",
      "tensor([[[0., 0., 0., 0., 1., 2., 3., 0., 0., 0., 0.]]], device='cuda:0')\n"
     ]
    }
   ],
   "source": [
    "xt = torch.zeros(N)\n",
    "xt[N//2] = 1\n",
    "\n",
    "ht = torch.torch.arange(0, Nh, dtype=torch.float) + 1.\n",
    "yt = torch.torch.conv_transpose1d(xt.reshape(1, 1, N), ht.reshape(1, 1, ht.size()[0]), padding=ht.size()[0]//2)\n",
    "\n",
    "xc = xt.to(dev)\n",
    "hc = ht.to(dev)\n",
    "yc = torch.torch.conv_transpose1d(xc.reshape(1, 1, N), hc.reshape(1, 1, hc.size()[0]), padding=hc.size()[0]//2)\n",
    "\n",
    "print(yt)\n",
    "print(yc)"
   ]
  },
  {
   "cell_type": "code",
   "execution_count": 26,
   "metadata": {
    "colab": {
     "base_uri": "https://localhost:8080/",
     "height": 51
    },
    "colab_type": "code",
    "id": "4y7V0DRVkojI",
    "outputId": "53611dae-91c2-4779-a080-431b9a2f1846"
   },
   "outputs": [
    {
     "name": "stdout",
     "output_type": "stream",
     "text": [
      "[0. 0. 0. 0. 3. 2. 1. 0. 0. 0. 0.]\n",
      "tensor([[[0., 0., 0., 0., 3., 2., 1., 0., 0., 0., 0.]]])\n"
     ]
    }
   ],
   "source": [
    "y = np.correlate(x, h, mode='same')\n",
    "print(y)\n",
    "\n",
    "yt = torch.torch.conv1d(xt.reshape(1, 1, N), ht.reshape(1, 1, 3), padding=Nh//2)\n",
    "print(yt)"
   ]
  },
  {
   "cell_type": "code",
   "execution_count": 27,
   "metadata": {
    "colab": {
     "base_uri": "https://localhost:8080/",
     "height": 119
    },
    "colab_type": "code",
    "id": "kuXE45Jn93lL",
    "outputId": "1bb01c38-79cc-4291-be9b-0100629d3054"
   },
   "outputs": [
    {
     "name": "stdout",
     "output_type": "stream",
     "text": [
      "100 loops, best of 3: 394 µs per loop\n",
      "100 loops, best of 3: 2.91 ms per loop\n",
      "100 loops, best of 3: 66.7 µs per loop\n",
      "100 loops, best of 3: 384 µs per loop\n",
      "100 loops, best of 3: 2.7 ms per loop\n",
      "100 loops, best of 3: 65.8 µs per loop\n"
     ]
    }
   ],
   "source": [
    "N = 5001\n",
    "Nh = 301\n",
    "x = np.zeros(N)\n",
    "x[N//2] = 1\n",
    "h = np.arange(Nh)+1\n",
    "\n",
    "xt = torch.zeros(N)\n",
    "xt[N//2] = 1\n",
    "\n",
    "ht = torch.torch.arange(0, Nh, dtype=torch.float) + 1.\n",
    "yt = torch.torch.conv_transpose1d(xt.reshape(1, 1, N), ht.reshape(1, 1, ht.size()[0]), padding=ht.size()[0]//2)\n",
    "\n",
    "xc = xt.to(dev)\n",
    "hc = ht.to(dev)\n",
    "\n",
    "%timeit -n 100 -r 3 np.convolve(x, h, mode='same')\n",
    "%timeit -n 100 -r 3 torch.torch.conv_transpose1d(xt.reshape(1, 1, N), ht.reshape(1, 1, ht.size()[0]), padding=ht.size()[0]//2)\n",
    "%timeit -n 100 -r 3 torch.torch.conv_transpose1d(xc.reshape(1, 1, N), hc.reshape(1, 1, hc.size()[0]), padding=hc.size()[0]//2)\n",
    "\n",
    "%timeit -n 100 -r 3 np.correlate(x, h, mode='same')\n",
    "%timeit -n 100 -r 3 torch.torch.conv1d(xt.reshape(1, 1, N), ht.reshape(1, 1, ht.size()[0]), padding=ht.size()[0]//2)\n",
    "%timeit -n 100 -r 3 torch.torch.conv1d(xc.reshape(1, 1, N), hc.reshape(1, 1, hc.size()[0]), padding=hc.size()[0]//2)"
   ]
  },
  {
   "cell_type": "markdown",
   "metadata": {
    "colab_type": "text",
    "id": "dzIq7RvZBqe4"
   },
   "source": [
    "Let's repeat this for 2d signals, with convolution performed only on one axis"
   ]
  },
  {
   "cell_type": "code",
   "execution_count": 28,
   "metadata": {
    "colab": {
     "base_uri": "https://localhost:8080/",
     "height": 85
    },
    "colab_type": "code",
    "id": "lgdPeJb0iCy1",
    "outputId": "e21bb204-00bd-450e-b391-76a430fecd79"
   },
   "outputs": [
    {
     "name": "stdout",
     "output_type": "stream",
     "text": [
      "torch.Size([1000, 1, 11])\n",
      "torch.Size([1000, 1, 11])\n",
      "100 loops, best of 3: 537 µs per loop\n",
      "100 loops, best of 3: 67.9 µs per loop\n"
     ]
    }
   ],
   "source": [
    "N = 11\n",
    "Nh = 3\n",
    "xt = torch.zeros((1000, N))\n",
    "xt[:, N//2] = 1\n",
    "ht = torch.torch.arange(0, Nh, dtype=torch.float) + 1.\n",
    "\n",
    "xc = xt.to(dev)\n",
    "hc = ht.to(dev)\n",
    "\n",
    "yt = torch.torch.conv1d(xt.reshape(1000, 1, N), ht.reshape(1, 1, 3), padding=Nh//2)\n",
    "print(yt.shape)\n",
    "yc = torch.torch.conv1d(xc.reshape(1000, 1, N), hc.reshape(1, 1, 3), padding=Nh//2)\n",
    "print(yc.shape)\n",
    "\n",
    "% timeit -n 100 -r 3 torch.torch.conv1d(xt.reshape(1000, 1, N), ht.reshape(1, 1, 3), padding=Nh//2)\n",
    "% timeit -n 100 -r 3 torch.torch.conv1d(xc.reshape(1000, 1, N), hc.reshape(1, 1, 3), padding=Nh//2)"
   ]
  },
  {
   "cell_type": "code",
   "execution_count": 29,
   "metadata": {
    "colab": {
     "base_uri": "https://localhost:8080/",
     "height": 51
    },
    "colab_type": "code",
    "id": "xWgGsz1xDiUX",
    "outputId": "c5ab6ca2-ac1c-4ef8-fcdf-aac592b01c5f"
   },
   "outputs": [
    {
     "name": "stdout",
     "output_type": "stream",
     "text": [
      "100 loops, best of 3: 3.55 ms per loop\n",
      "100 loops, best of 3: 67.6 µs per loop\n"
     ]
    }
   ],
   "source": [
    "xt = torch.zeros((1000, 10, N))\n",
    "xt[:, N//2] = 1\n",
    "ht = torch.torch.arange(0, Nh, dtype=torch.float) + 1.\n",
    "\n",
    "xc = xt.to(dev)\n",
    "hc = ht.to(dev)\n",
    "\n",
    "yt = torch.torch.conv1d(xt.reshape(1000*10, 1, N), ht.reshape(1, 1, 3), padding=Nh//2)\n",
    "yc = torch.torch.conv1d(xc.reshape(1000*10, 1, N), hc.reshape(1, 1, 3), padding=Nh//2)\n",
    "\n",
    "% timeit -n 100 -r 3 torch.torch.conv1d(xt.reshape(1000*10, 1, N), ht.reshape(1, 1, 3), padding=Nh//2)\n",
    "% timeit -n 100 -r 3 torch.torch.conv1d(xc.reshape(1000*10, 1, N), hc.reshape(1, 1, 3), padding=Nh//2)"
   ]
  },
  {
   "cell_type": "markdown",
   "metadata": {
    "colab_type": "text",
    "id": "_AuLdrpdPi8W"
   },
   "source": [
    "Let's use the operator"
   ]
  },
  {
   "cell_type": "code",
   "execution_count": 30,
   "metadata": {
    "colab": {
     "base_uri": "https://localhost:8080/",
     "height": 545
    },
    "colab_type": "code",
    "id": "6ARyc1rOEaNQ",
    "outputId": "d1f13a3c-eeef-4762-cbfe-b12dd52f8e98"
   },
   "outputs": [
    {
     "data": {
      "text/plain": [
       "[<matplotlib.lines.Line2D at 0x7fec25f9fba8>]"
      ]
     },
     "execution_count": 30,
     "metadata": {
      "tags": []
     },
     "output_type": "execute_result"
    },
    {
     "data": {
      "image/png": "[encoded data removed]",
      "text/plain": [
       "<Figure size 432x288 with 1 Axes>"
      ]
     },
     "metadata": {
      "tags": []
     },
     "output_type": "display_data"
    },
    {
     "data": {
      "image/png": "[encoded data removed]",
      "text/plain": [
       "<Figure size 432x288 with 1 Axes>"
      ]
     },
     "metadata": {
      "tags": []
     },
     "output_type": "display_data"
    }
   ],
   "source": [
    "N = 5001\n",
    "Nh = 301\n",
    "x = np.zeros(N)\n",
    "x[N//2] = 1\n",
    "xt = torch.zeros(N)\n",
    "xt[N//2] = 1\n",
    "xc = xt.to(dev)\n",
    "\n",
    "h = np.arange(Nh)+1\n",
    "ht = torch.torch.arange(0, Nh, dtype=torch.float) + 1.\n",
    "hc = ht.to(dev)\n",
    "\n",
    "Cop = Convolve1D(N, h, offset=Nh//2)\n",
    "dottest(Cop, N, N)\n",
    "y = Cop * x\n",
    "xadj = Cop.H * y\n",
    "\n",
    "gCop = gConvolve1D(N, hc, offset=Nh//2, device=dev)\n",
    "gdottest(gCop, N, N, device=dev)\n",
    "yc = gCop * xc\n",
    "xadjc = gCop.H * yc\n",
    "\n",
    "plt.figure()\n",
    "plt.plot(y)\n",
    "plt.plot(yc.cpu().numpy(), '--r')\n",
    "\n",
    "plt.figure()\n",
    "plt.plot(xadj)\n",
    "plt.plot(xadjc.cpu().numpy(), '--r')"
   ]
  },
  {
   "cell_type": "code",
   "execution_count": 31,
   "metadata": {
    "colab": {
     "base_uri": "https://localhost:8080/",
     "height": 51
    },
    "colab_type": "code",
    "id": "rwmlF7uBPnjM",
    "outputId": "57dc8c0a-2fd5-49b6-a61a-0793cc8fb516"
   },
   "outputs": [
    {
     "name": "stdout",
     "output_type": "stream",
     "text": [
      "100 loops, best of 3: 425 µs per loop\n",
      "100 loops, best of 3: 90.8 µs per loop\n"
     ]
    }
   ],
   "source": [
    "% timeit -n 100 -r 3 Cop * x\n",
    "% timeit -n 100 -r 3 gCop * xc"
   ]
  },
  {
   "cell_type": "code",
   "execution_count": 32,
   "metadata": {
    "colab": {
     "base_uri": "https://localhost:8080/",
     "height": 935
    },
    "colab_type": "code",
    "id": "oQBh0P8ZO1cy",
    "outputId": "e3d3e9ee-c42b-43a2-840d-446eba58f782"
   },
   "outputs": [
    {
     "data": {
      "image/png": "[encoded data removed]",
      "text/plain": [
       "<Figure size 720x360 with 2 Axes>"
      ]
     },
     "metadata": {
      "tags": []
     },
     "output_type": "display_data"
    },
    {
     "data": {
      "image/png": "[encoded data removed]",
      "text/plain": [
       "<Figure size 720x360 with 2 Axes>"
      ]
     },
     "metadata": {
      "tags": []
     },
     "output_type": "display_data"
    },
    {
     "data": {
      "image/png": "[encoded data removed]",
      "text/plain": [
       "<Figure size 720x360 with 2 Axes>"
      ]
     },
     "metadata": {
      "tags": []
     },
     "output_type": "display_data"
    }
   ],
   "source": [
    "N = 100\n",
    "Nh = 11\n",
    "Nx = 1000\n",
    "x = np.zeros((N, Nx))\n",
    "x[N//2] = 1\n",
    "xt = torch.zeros((N, Nx))\n",
    "xt[N//2] = 1\n",
    "xc = xt.to(dev)\n",
    "\n",
    "h = triang(Nh)\n",
    "ht = torch.from_numpy(h.astype(np.float32))\n",
    "hc = ht.to(dev)\n",
    "\n",
    "Cop = Convolve1D(N*Nx, h, offset=Nh//2, dims=(N, Nx))\n",
    "dottest(Cop, N*Nx, N*Nx)\n",
    "y = Cop * x.ravel()\n",
    "xadj = Cop.H * y\n",
    "xinv = conjgrad(Cop.H*Cop, Cop.H*y, np.zeros_like(x.ravel()), 100) # cg(Cop.H*Cop, Cop.H*y, maxiter=100)[0]\n",
    "\n",
    "gCop = gConvolve1D(N*Nx, hc, offset=Nh//2, dims=(N, Nx), device=dev)\n",
    "gdottest(gCop, N*Nx, N*Nx, device=dev)\n",
    "yc = gCop * xc.view(-1)\n",
    "xadjc = gCop.H * yc\n",
    "xinvc = gcg(gCop.H*gCop, gCop.H*yc, niter=100)[0]\n",
    "\n",
    "fig, axs = plt.subplots(1, 2, figsize=(10, 5))\n",
    "axs[0].imshow(y.reshape(N, Nx))\n",
    "axs[0].axis('tight')\n",
    "axs[1].imshow(yc.cpu().numpy().reshape(N, Nx))\n",
    "axs[1].axis('tight')\n",
    "\n",
    "fig, axs = plt.subplots(1, 2, figsize=(10, 5))\n",
    "axs[0].imshow(xadj.reshape(N, Nx))\n",
    "axs[0].axis('tight')\n",
    "axs[1].imshow(xadjc.cpu().numpy().reshape(N, Nx))\n",
    "axs[1].axis('tight')\n",
    "\n",
    "fig, axs = plt.subplots(1, 2, figsize=(10, 5))\n",
    "axs[0].imshow(xinv.reshape(N, Nx), vmin=-1, vmax=1)\n",
    "axs[0].axis('tight')\n",
    "axs[1].imshow(xinvc.cpu().numpy().reshape(N, Nx), vmin=-1, vmax=1)\n",
    "axs[1].axis('tight');"
   ]
  },
  {
   "cell_type": "code",
   "execution_count": 33,
   "metadata": {
    "colab": {
     "base_uri": "https://localhost:8080/",
     "height": 51
    },
    "colab_type": "code",
    "id": "nXh1WPuCPqrP",
    "outputId": "1fb632a0-c6ac-4307-af3e-11c80ff985bb"
   },
   "outputs": [
    {
     "name": "stdout",
     "output_type": "stream",
     "text": [
      "5 loops, best of 3: 792 ms per loop\n",
      "5 loops, best of 3: 91.6 ms per loop\n"
     ]
    }
   ],
   "source": [
    "% timeit -n 5 -r 3 conjgrad(Cop.H*Cop, Cop.H*y, np.zeros_like(x.ravel()), 50)\n",
    "% timeit -n 5 -r 3 gcg(gCop.H*gCop, gCop.H*yc, niter=50)[0]"
   ]
  },
  {
   "cell_type": "markdown",
   "metadata": {
    "colab_type": "text",
    "id": "ZGzP7YQsiG2y"
   },
   "source": [
    "# FirstDerivative"
   ]
  },
  {
   "cell_type": "markdown",
   "metadata": {
    "colab_type": "text",
    "id": "_nRp3OnJxTCt"
   },
   "source": [
    "Let's try now to compute derivatives by means of Convolve1D"
   ]
  },
  {
   "cell_type": "code",
   "execution_count": 34,
   "metadata": {
    "colab": {
     "base_uri": "https://localhost:8080/",
     "height": 85
    },
    "colab_type": "code",
    "id": "ZPD5gLWUxPwL",
    "outputId": "4a6aec4a-c1ce-4369-a3dc-0c0c05b34314"
   },
   "outputs": [
    {
     "name": "stdout",
     "output_type": "stream",
     "text": [
      "True\n",
      "True\n",
      "True\n",
      "True\n"
     ]
    }
   ],
   "source": [
    "nx = 101\n",
    "x = np.zeros(nx, dtype=np.float32)\n",
    "x[nx//2] = 1\n",
    "x[nx//3] = 1\n",
    "x[nx-4] = 1\n",
    "xc = torch.torch.from_numpy(x).to(dev)\n",
    "\n",
    "Dop = FirstDerivative(nx, edge=True)\n",
    "Dconvop = Convolve1D(nx, np.array([0.5, 0, -0.5], dtype=np.float32), offset=1)\n",
    "gDconvop = gConvolve1D(nx, torch.torch.tensor([0.5, 0, -0.5], dtype=torch.float32).to(dev), offset=1)\n",
    "\n",
    "y = Dop*x\n",
    "yconv = Dconvop*x\n",
    "yc = gDconvop*xc\n",
    "\n",
    "xadj = Dop.H*y\n",
    "xadjconv = Dconvop.H*y\n",
    "xadjc = gDconvop.H*yc\n",
    "\n",
    "print(np.allclose(y, yconv))\n",
    "print(np.allclose(xadj, xadjconv))\n",
    "\n",
    "print(np.allclose(y, yc.cpu().numpy()))\n",
    "print(np.allclose(xadj, xadjc.cpu().numpy()))"
   ]
  },
  {
   "cell_type": "code",
   "execution_count": 36,
   "metadata": {
    "colab": {
     "base_uri": "https://localhost:8080/",
     "height": 85
    },
    "colab_type": "code",
    "id": "ItAn1HUj-cm4",
    "outputId": "9ad63a0a-c42a-4cc6-c508-2cb4d21081d6"
   },
   "outputs": [
    {
     "name": "stdout",
     "output_type": "stream",
     "text": [
      "50 loops, best of 3: 24.4 µs per loop\n",
      "50 loops, best of 3: 10.2 µs per loop\n",
      "50 loops, best of 3: 15.6 µs per loop\n",
      "50 loops, best of 3: 12.7 µs per loop\n"
     ]
    }
   ],
   "source": [
    "%timeit -n 50 -r 3 Dop.matvec(x.ravel())\n",
    "%timeit -n 50 -r 3 Dconvop.matvec(x.ravel())\n",
    "\n",
    "%timeit -n 50 -r 3 Dop.rmatvec(y)\n",
    "%timeit -n 50 -r 3 Dconvop.rmatvec(y)"
   ]
  },
  {
   "cell_type": "markdown",
   "metadata": {
    "colab_type": "text",
    "id": "ZxEif-A9iUD1"
   },
   "source": [
    "And for a 3-dimensional input"
   ]
  },
  {
   "cell_type": "code",
   "execution_count": 50,
   "metadata": {
    "colab": {
     "base_uri": "https://localhost:8080/",
     "height": 85
    },
    "colab_type": "code",
    "id": "37y3Ar8RAXDS",
    "outputId": "70a9d4f4-129e-470e-b284-8f88994a9286"
   },
   "outputs": [
    {
     "name": "stdout",
     "output_type": "stream",
     "text": [
      "True\n",
      "True\n",
      "True\n",
      "True\n"
     ]
    }
   ],
   "source": [
    "nt, nx, ny = 101, 201, 101\n",
    "x = np.zeros((nt, nx, ny), dtype=np.float32)\n",
    "x[nt//2] = 1\n",
    "x[nt//3] = 1\n",
    "x[nt-4] = 1\n",
    "xc = torch.torch.from_numpy(x).to(dev)\n",
    "\n",
    "Dop = FirstDerivative(nx*nt*ny, dims=(nt, nx, ny), dir=0)\n",
    "Dconvop = Convolve1D(nx*nt*ny, np.array([0.5, 0, -0.5]), \n",
    "                     dims=(nt, nx, ny), offset=1, dir=0)\n",
    "#gDconvop = gConvolve1D(nx*nt*ny, torch.torch.tensor([0.5, 0, -0.5], dtype=torch.float32).to(dev), \n",
    "#                       dims=(nt, nx, ny), offset=1, dir=0)\n",
    "gDconvop = gFirstDerivative(nx*nt*ny, dims=(nt, nx, ny), dir=0, device=dev, dtype=torch.float32)\n",
    "\n",
    "\n",
    "y = Dop*x.ravel()\n",
    "yconv = Dconvop*x.ravel()\n",
    "yc = gDconvop*xc.view(-1)\n",
    "\n",
    "xadj = Dop.H*y\n",
    "xadjconv = Dconvop.H*y\n",
    "xadjc = gDconvop.H*yc\n",
    "\n",
    "print(np.allclose(y, yconv))\n",
    "print(np.allclose(xadj, xadjconv))\n",
    "\n",
    "print(np.allclose(y, yc.cpu().numpy()))\n",
    "print(np.allclose(xadj, xadjc.cpu().numpy()))"
   ]
  },
  {
   "cell_type": "code",
   "execution_count": 51,
   "metadata": {
    "colab": {
     "base_uri": "https://localhost:8080/",
     "height": 119
    },
    "colab_type": "code",
    "id": "E8SfMDdHAXHc",
    "outputId": "3b303b1d-cf0c-4e9f-d0f5-2a795eff2e5e"
   },
   "outputs": [
    {
     "name": "stdout",
     "output_type": "stream",
     "text": [
      "20 loops, best of 3: 8.38 ms per loop\n",
      "20 loops, best of 3: 170 ms per loop\n",
      "20 loops, best of 3: 145 µs per loop\n",
      "20 loops, best of 3: 20.1 ms per loop\n",
      "20 loops, best of 3: 166 ms per loop\n",
      "20 loops, best of 3: 140 µs per loop\n"
     ]
    }
   ],
   "source": [
    "x = x.ravel()\n",
    "xc = xc.view(-1)\n",
    "\n",
    "%timeit -n 20 -r 3 Dop.matvec(x)\n",
    "%timeit -n 20 -r 3 Dconvop.matvec(x)\n",
    "%timeit -n 20 -r 3 gDconvop.matvec(xc)\n",
    "\n",
    "%timeit -n 20 -r 3 Dop.rmatvec(y)\n",
    "%timeit -n 20 -r 3 Dconvop.rmatvec(y)\n",
    "%timeit -n 20 -r 3 gDconvop.rmatvec(yc)"
   ]
  },
  {
   "cell_type": "code",
   "execution_count": 52,
   "metadata": {
    "colab": {
     "base_uri": "https://localhost:8080/",
     "height": 85
    },
    "colab_type": "code",
    "id": "zMi8Gump-Mib",
    "outputId": "5bfa134b-63bb-4914-915b-930f6d2cf83b"
   },
   "outputs": [
    {
     "name": "stdout",
     "output_type": "stream",
     "text": [
      "True\n",
      "True\n",
      "True\n",
      "True\n"
     ]
    }
   ],
   "source": [
    "nt, nx, ny = 101, 201, 101\n",
    "x = np.zeros((nt, nx, ny), dtype=np.float32)\n",
    "x[...,ny//2] = 1\n",
    "x[...,ny//3] = 1\n",
    "x[...,ny-4] = 1\n",
    "xc = torch.torch.from_numpy(x).to(dev)\n",
    "\n",
    "Dop = FirstDerivative(nx*nt*ny, dims=(nt, nx, ny), dir=2)\n",
    "Dconvop = Convolve1D(nx*nt*ny, np.array([0.5, 0, -0.5]), \n",
    "                     dims=(nt, nx, ny), offset=1, dir=2)\n",
    "#gDconvop = gConvolve1D(nx*nt*ny, torch.torch.tensor([0.5, 0, -0.5], dtype=torch.float32).to(dev), \n",
    "#                       dims=(nt, nx, ny), offset=1, dir=2, device=dev)\n",
    "gDconvop = gFirstDerivative(nx*nt*ny, dims=(nt, nx, ny), dir=2, device=dev, dtype=torch.float32)\n",
    "\n",
    "\n",
    "y = Dop*x.ravel()\n",
    "yconv = Dconvop*x.ravel()\n",
    "yc = gDconvop*xc.view(-1)\n",
    "\n",
    "xadj = Dop.H*y\n",
    "xadjconv = Dconvop.H*y\n",
    "xadjc = gDconvop.H*yc\n",
    "\n",
    "print(np.allclose(y, yconv))\n",
    "print(np.allclose(xadj, xadjconv))\n",
    "\n",
    "print(np.allclose(y, yc.cpu().numpy()))\n",
    "print(np.allclose(xadj, xadjc.cpu().numpy()))"
   ]
  },
  {
   "cell_type": "code",
   "execution_count": 53,
   "metadata": {
    "colab": {
     "base_uri": "https://localhost:8080/",
     "height": 119
    },
    "colab_type": "code",
    "id": "Tw14z7R8-vlx",
    "outputId": "c7e964a1-671d-48b5-c5ef-da0fe41ee7f4"
   },
   "outputs": [
    {
     "name": "stdout",
     "output_type": "stream",
     "text": [
      "20 loops, best of 3: 29.7 ms per loop\n",
      "20 loops, best of 3: 113 ms per loop\n",
      "20 loops, best of 3: 87.5 µs per loop\n",
      "20 loops, best of 3: 49.3 ms per loop\n",
      "20 loops, best of 3: 116 ms per loop\n",
      "20 loops, best of 3: 85.5 µs per loop\n"
     ]
    }
   ],
   "source": [
    "x = x.ravel()\n",
    "xc = xc.view(-1)\n",
    "\n",
    "%timeit -n 20 -r 3 Dop.matvec(x)\n",
    "%timeit -n 20 -r 3 Dconvop.matvec(x)\n",
    "%timeit -n 20 -r 3 gDconvop.matvec(xc)\n",
    "\n",
    "%timeit -n 20 -r 3 Dop.rmatvec(y)\n",
    "%timeit -n 20 -r 3 Dconvop.rmatvec(y)\n",
    "%timeit -n 20 -r 3 gDconvop.rmatvec(yc)"
   ]
  },
  {
   "cell_type": "markdown",
   "metadata": {
    "colab_type": "text",
    "id": "dcNwF5Zbimy9"
   },
   "source": [
    "Finally moving things back and forth from CPU to GPU"
   ]
  },
  {
   "cell_type": "code",
   "execution_count": 54,
   "metadata": {
    "colab": {
     "base_uri": "https://localhost:8080/",
     "height": 119
    },
    "colab_type": "code",
    "id": "YudSHcz1iZw7",
    "outputId": "184114cd-43ae-4551-b336-1f1a47ecf73e"
   },
   "outputs": [
    {
     "name": "stdout",
     "output_type": "stream",
     "text": [
      "20 loops, best of 3: 29.2 ms per loop\n",
      "20 loops, best of 3: 118 ms per loop\n",
      "20 loops, best of 3: 7.93 ms per loop\n",
      "20 loops, best of 3: 50.3 ms per loop\n",
      "20 loops, best of 3: 114 ms per loop\n",
      "20 loops, best of 3: 6.19 ms per loop\n"
     ]
    }
   ],
   "source": [
    "#gDconvop = gConvolve1D(nx*nt*ny, torch.torch.tensor([0.5, 0, -0.5], dtype=torch.float32).to(dev), \n",
    "#                       dims=(nt, nx, ny), offset=1, dir=0, device=dev,\n",
    "#                       togpu=(True, True), tocpu=(True, True))\n",
    "gDconvop = gFirstDerivative(nx*nt*ny, dims=(nt, nx, ny), dir=0, device=dev,\n",
    "                       togpu=(True, True), tocpu=(True, True), dtype=torch.float32)\n",
    "\n",
    "xc = xc.cpu()\n",
    "yc = yc.cpu()\n",
    "\n",
    "%timeit -n 20 -r 3 Dop.matvec(x)\n",
    "%timeit -n 20 -r 3 Dconvop.matvec(x)\n",
    "%timeit -n 20 -r 3 gDconvop.matvec(xc)\n",
    "\n",
    "%timeit -n 20 -r 3 Dop.rmatvec(y)\n",
    "%timeit -n 20 -r 3 Dconvop.rmatvec(y)\n",
    "%timeit -n 20 -r 3 gDconvop.rmatvec(yc)"
   ]
  },
  {
   "cell_type": "markdown",
   "metadata": {
    "colab_type": "text",
    "id": "snMoYMA1j0N2"
   },
   "source": [
    "We can see how in this case the derivative is faster even with the overhead of moving things from GPU to CPU and back"
   ]
  }
 ],
 "metadata": {
  "accelerator": "GPU",
  "colab": {
   "name": "Basic.ipynb",
   "provenance": [],
   "version": "0.3.2"
  },
  "kernelspec": {
   "display_name": "Python 3",
   "language": "python",
   "name": "python3"
  },
  "language_info": {
   "codemirror_mode": {
    "name": "ipython",
    "version": 3
   },
   "file_extension": ".py",
   "mimetype": "text/x-python",
   "name": "python",
   "nbconvert_exporter": "python",
   "pygments_lexer": "ipython3",
   "version": "3.7.3"
  }
 },
 "nbformat": 4,
 "nbformat_minor": 1
}
