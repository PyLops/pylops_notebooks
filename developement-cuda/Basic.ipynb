{
 "cells": [
  {
   "cell_type": "markdown",
   "metadata": {
    "colab_type": "text",
    "id": "xaygeqc0YgF7"
   },
   "source": [
    "# Pylops - CUDA basic linear operators"
   ]
  },
  {
   "cell_type": "markdown",
   "metadata": {
    "colab_type": "text",
    "id": "owGwScKKYgGA"
   },
   "source": [
    "### Author: M.Ravasi"
   ]
  },
  {
   "cell_type": "markdown",
   "metadata": {
    "colab_type": "text",
    "id": "IUIuNUfYYgGC"
   },
   "source": [
    "In this notebook we will experiment with Pytorch to assess its usability as backend for CUDA enabled operators"
   ]
  },
  {
   "cell_type": "code",
   "execution_count": 1,
   "metadata": {
    "colab": {
     "base_uri": "https://localhost:8080/",
     "height": 231
    },
    "colab_type": "code",
    "id": "hMwmxTTxZ4Ju",
    "outputId": "0f396962-97fd-4c89-ad43-e57e2a189d19"
   },
   "outputs": [
    {
     "name": "stdout",
     "output_type": "stream",
     "text": [
      "Collecting pylops\n",
      "\u001b[?25l  Downloading https://files.pythonhosted.org/packages/ba/5a/dc9d93cd0f9ba3ea9a77c30c92865f07523ebf2fc391dff19aeca2f2b848/pylops-1.4.0-py3-none-any.whl (141kB)\n",
      "\u001b[K     |████████████████████████████████| 143kB 9.5MB/s \n",
      "\u001b[?25hRequirement already satisfied: numpy>=1.15.0 in /usr/local/lib/python3.6/dist-packages (from pylops) (1.16.4)\n",
      "Requirement already satisfied: scipy in /usr/local/lib/python3.6/dist-packages (from pylops) (1.3.0)\n",
      "Installing collected packages: pylops\n",
      "Successfully installed pylops-1.4.0\n"
     ]
    }
   ],
   "source": [
    "!pip install pylops"
   ]
  },
  {
   "cell_type": "code",
   "execution_count": 2,
   "metadata": {
    "colab": {
     "base_uri": "https://localhost:8080/",
     "height": 34
    },
    "colab_type": "code",
    "id": "86gLYP4HYgGI",
    "outputId": "45e6c5d8-b72c-4067-b62c-81670ffae03c"
   },
   "outputs": [
    {
     "name": "stdout",
     "output_type": "stream",
     "text": [
      "Populating the interactive namespace from numpy and matplotlib\n"
     ]
    }
   ],
   "source": [
    "%load_ext autoreload\n",
    "%autoreload 2\n",
    "%matplotlib inline\n",
    "%pylab inline\n",
    "\n",
    "import warnings\n",
    "warnings.filterwarnings('ignore')\n",
    "\n",
    "import numpy as np\n",
    "import matplotlib.pyplot as plt\n",
    "import scipy as sp\n",
    "\n",
    "import pylops\n",
    "from pylops.utils import dottest\n",
    "\n",
    "import torch\n",
    "import torch.nn as nn"
   ]
  },
  {
   "cell_type": "code",
   "execution_count": 3,
   "metadata": {
    "colab": {
     "base_uri": "https://localhost:8080/",
     "height": 34
    },
    "colab_type": "code",
    "id": "HKvxZ4rIY6dy",
    "outputId": "733dae4e-69e3-467c-a66b-6d83ee5edc86"
   },
   "outputs": [
    {
     "name": "stdout",
     "output_type": "stream",
     "text": [
      "Cuda installed! Running on GPU!\n"
     ]
    }
   ],
   "source": [
    "import torch\n",
    "\n",
    "device = 'cpu'\n",
    "if torch.cuda.device_count() > 0 and torch.cuda.is_available():\n",
    "    print(\"Cuda installed! Running on GPU!\")\n",
    "    device = 'cuda'\n",
    "else:\n",
    "    print(\"No GPU available!\")"
   ]
  },
  {
   "cell_type": "markdown",
   "metadata": {
    "colab_type": "text",
    "id": "761LHiKWbCb3"
   },
   "source": [
    "# Diagonal"
   ]
  },
  {
   "cell_type": "code",
   "execution_count": 51,
   "metadata": {
    "colab": {
     "base_uri": "https://localhost:8080/",
     "height": 34
    },
    "colab_type": "code",
    "id": "PjIkowKzbCby",
    "outputId": "ee1912e9-0617-46c8-b0b3-b0c12cf1a692"
   },
   "outputs": [
    {
     "name": "stdout",
     "output_type": "stream",
     "text": [
      "Dot test passed, v^T(Opu)=-6482379.245740 - u^T(Op^Tv)=-6482379.245740\n"
     ]
    }
   ],
   "source": [
    "nx = 100000\n",
    "x = np.ones(nx)\n",
    "Dop = pylops.Diagonal(np.arange(nx))\n",
    "dottest(Dop, nx, nx, verb=True)\n",
    "\n",
    "y  = Dop*x\n",
    "y1 = Dop.H*x"
   ]
  },
  {
   "cell_type": "code",
   "execution_count": 0,
   "metadata": {
    "colab": {},
    "colab_type": "code",
    "id": "rHFfMjiZuzWL"
   },
   "outputs": [],
   "source": [
    "from pylops import LinearOperator\n",
    "\n",
    "class Diagonal_cuda(LinearOperator):\n",
    "    def __init__(self, diag, dtype='float64'):\n",
    "        self.diag = diag\n",
    "        self.dtype = np.dtype(dtype)\n",
    "        self.explicit = False\n",
    "\n",
    "    def _matvec(self, x):\n",
    "        y = self.diag*x\n",
    "        return y\n",
    "\n",
    "    def _rmatvec(self, x):\n",
    "        y = self.diag*x\n",
    "        return y"
   ]
  },
  {
   "cell_type": "code",
   "execution_count": 53,
   "metadata": {
    "colab": {
     "base_uri": "https://localhost:8080/",
     "height": 51
    },
    "colab_type": "code",
    "id": "8mESLrHcvFwM",
    "outputId": "88790780-0443-4e4f-bc7f-5c266438d269"
   },
   "outputs": [
    {
     "name": "stdout",
     "output_type": "stream",
     "text": [
      "x  =  tensor([1., 1., 1., 1., 1.], device='cuda:0')\n",
      "D*x  =  [0. 1. 2. 3. 4.]\n"
     ]
    }
   ],
   "source": [
    "x_cuda = torch.from_numpy(np.ones(nx, dtype=np.float32)).to(device)\n",
    "diag_cuda = torch.from_numpy(np.arange(nx, dtype=np.float32)).to(device)\n",
    "Dop_cuda = Diagonal_cuda(diag_cuda)\n",
    "y_cuda = Dop_cuda._matvec(x_cuda)\n",
    "\n",
    "print('x  = ',x_cuda[0:5])\n",
    "print('D*x  = ',y[0:5])"
   ]
  },
  {
   "cell_type": "code",
   "execution_count": 54,
   "metadata": {
    "colab": {
     "base_uri": "https://localhost:8080/",
     "height": 51
    },
    "colab_type": "code",
    "id": "VjkC40YkyzwW",
    "outputId": "7ddfe3d0-da04-43c5-9de6-5953943a08f9"
   },
   "outputs": [
    {
     "name": "stdout",
     "output_type": "stream",
     "text": [
      "10 loops, best of 3: 276 µs per loop\n",
      "10 loops, best of 3: 9.92 µs per loop\n"
     ]
    }
   ],
   "source": [
    "% timeit -n 10 Dop._matvec(x)\n",
    "% timeit -n 10 Dop_cuda._matvec(x_cuda)"
   ]
  }
 ],
 "metadata": {
  "accelerator": "GPU",
  "colab": {
   "name": "Basic.ipynb",
   "provenance": [],
   "version": "0.3.2"
  },
  "kernelspec": {
   "display_name": "Python 3",
   "language": "python",
   "name": "python3"
  },
  "language_info": {
   "codemirror_mode": {
    "name": "ipython",
    "version": 3
   },
   "file_extension": ".py",
   "mimetype": "text/x-python",
   "name": "python",
   "nbconvert_exporter": "python",
   "pygments_lexer": "ipython3",
   "version": "3.7.2"
  }
 },
 "nbformat": 4,
 "nbformat_minor": 1
}
