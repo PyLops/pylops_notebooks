{
  "nbformat": 4,
  "nbformat_minor": 0,
  "metadata": {
    "colab": {
      "name": "Basic.ipynb",
      "version": "0.3.2",
      "provenance": []
    },
    "language_info": {
      "codemirror_mode": {
        "name": "ipython",
        "version": 3
      },
      "file_extension": ".py",
      "mimetype": "text/x-python",
      "name": "python",
      "nbconvert_exporter": "python",
      "pygments_lexer": "ipython3",
      "version": "3.7.3"
    },
    "kernelspec": {
      "name": "python3",
      "display_name": "Python 3"
    },
    "accelerator": "GPU"
  },
  "cells": [
    {
      "cell_type": "markdown",
      "metadata": {
        "id": "xaygeqc0YgF7",
        "colab_type": "text"
      },
      "source": [
        "# Pylops - CUDA basic linear operators"
      ]
    },
    {
      "cell_type": "markdown",
      "metadata": {
        "id": "owGwScKKYgGA",
        "colab_type": "text"
      },
      "source": [
        "### Author: M.Ravasi"
      ]
    },
    {
      "cell_type": "markdown",
      "metadata": {
        "id": "IUIuNUfYYgGC",
        "colab_type": "text"
      },
      "source": [
        "In this notebook we will experiment with Pytorch to assess its usability as backend for CUDA enabled operators"
      ]
    },
    {
      "cell_type": "code",
      "metadata": {
        "id": "hMwmxTTxZ4Ju",
        "colab_type": "code",
        "outputId": "0f396962-97fd-4c89-ad43-e57e2a189d19",
        "colab": {
          "base_uri": "https://localhost:8080/",
          "height": 231
        }
      },
      "source": [
        "!pip install pylops"
      ],
      "execution_count": 1,
      "outputs": [
        {
          "output_type": "stream",
          "text": [
            "Collecting pylops\n",
            "\u001b[?25l  Downloading https://files.pythonhosted.org/packages/ba/5a/dc9d93cd0f9ba3ea9a77c30c92865f07523ebf2fc391dff19aeca2f2b848/pylops-1.4.0-py3-none-any.whl (141kB)\n",
            "\u001b[K     |████████████████████████████████| 143kB 9.5MB/s \n",
            "\u001b[?25hRequirement already satisfied: numpy>=1.15.0 in /usr/local/lib/python3.6/dist-packages (from pylops) (1.16.4)\n",
            "Requirement already satisfied: scipy in /usr/local/lib/python3.6/dist-packages (from pylops) (1.3.0)\n",
            "Installing collected packages: pylops\n",
            "Successfully installed pylops-1.4.0\n"
          ],
          "name": "stdout"
        }
      ]
    },
    {
      "cell_type": "code",
      "metadata": {
        "id": "86gLYP4HYgGI",
        "colab_type": "code",
        "colab": {
          "base_uri": "https://localhost:8080/",
          "height": 34
        },
        "outputId": "45e6c5d8-b72c-4067-b62c-81670ffae03c"
      },
      "source": [
        "%load_ext autoreload\n",
        "%autoreload 2\n",
        "%matplotlib inline\n",
        "%pylab inline\n",
        "\n",
        "import warnings\n",
        "warnings.filterwarnings('ignore')\n",
        "\n",
        "import numpy as np\n",
        "import matplotlib.pyplot as plt\n",
        "import scipy as sp\n",
        "\n",
        "import pylops\n",
        "from pylops.utils import dottest\n",
        "\n",
        "import torch\n",
        "import torch.nn as nn"
      ],
      "execution_count": 2,
      "outputs": [
        {
          "output_type": "stream",
          "text": [
            "Populating the interactive namespace from numpy and matplotlib\n"
          ],
          "name": "stdout"
        }
      ]
    },
    {
      "cell_type": "code",
      "metadata": {
        "id": "HKvxZ4rIY6dy",
        "colab_type": "code",
        "outputId": "733dae4e-69e3-467c-a66b-6d83ee5edc86",
        "colab": {
          "base_uri": "https://localhost:8080/",
          "height": 34
        }
      },
      "source": [
        "import torch\n",
        "\n",
        "device = 'cpu'\n",
        "if torch.cuda.device_count() > 0 and torch.cuda.is_available():\n",
        "    print(\"Cuda installed! Running on GPU!\")\n",
        "    device = 'cuda'\n",
        "else:\n",
        "    print(\"No GPU available!\")"
      ],
      "execution_count": 3,
      "outputs": [
        {
          "output_type": "stream",
          "text": [
            "Cuda installed! Running on GPU!\n"
          ],
          "name": "stdout"
        }
      ]
    },
    {
      "cell_type": "markdown",
      "metadata": {
        "colab_type": "text",
        "id": "761LHiKWbCb3"
      },
      "source": [
        "# Diagonal"
      ]
    },
    {
      "cell_type": "code",
      "metadata": {
        "colab_type": "code",
        "outputId": "ee1912e9-0617-46c8-b0b3-b0c12cf1a692",
        "id": "PjIkowKzbCby",
        "colab": {
          "base_uri": "https://localhost:8080/",
          "height": 34
        }
      },
      "source": [
        "nx = 100000\n",
        "x = np.ones(nx)\n",
        "Dop = pylops.Diagonal(np.arange(nx))\n",
        "dottest(Dop, nx, nx, verb=True)\n",
        "\n",
        "y  = Dop*x\n",
        "y1 = Dop.H*x"
      ],
      "execution_count": 51,
      "outputs": [
        {
          "output_type": "stream",
          "text": [
            "Dot test passed, v^T(Opu)=-6482379.245740 - u^T(Op^Tv)=-6482379.245740\n"
          ],
          "name": "stdout"
        }
      ]
    },
    {
      "cell_type": "code",
      "metadata": {
        "id": "rHFfMjiZuzWL",
        "colab_type": "code",
        "colab": {}
      },
      "source": [
        "from pylops import LinearOperator\n",
        "\n",
        "class Diagonal_cuda(LinearOperator):\n",
        "    def __init__(self, diag, dtype='float64'):\n",
        "        self.diag = diag\n",
        "        self.dtype = np.dtype(dtype)\n",
        "        self.explicit = False\n",
        "\n",
        "    def _matvec(self, x):\n",
        "        y = self.diag*x\n",
        "        return y\n",
        "\n",
        "    def _rmatvec(self, x):\n",
        "        y = self.diag*x\n",
        "        return y"
      ],
      "execution_count": 0,
      "outputs": []
    },
    {
      "cell_type": "code",
      "metadata": {
        "id": "8mESLrHcvFwM",
        "colab_type": "code",
        "colab": {
          "base_uri": "https://localhost:8080/",
          "height": 51
        },
        "outputId": "88790780-0443-4e4f-bc7f-5c266438d269"
      },
      "source": [
        "x_cuda = torch.from_numpy(np.ones(nx, dtype=np.float32)).to(device)\n",
        "diag_cuda = torch.from_numpy(np.arange(nx, dtype=np.float32)).to(device)\n",
        "Dop_cuda = Diagonal_cuda(diag_cuda)\n",
        "y_cuda = Dop_cuda._matvec(x_cuda)\n",
        "\n",
        "print('x  = ',x_cuda[0:5])\n",
        "print('D*x  = ',y[0:5])"
      ],
      "execution_count": 53,
      "outputs": [
        {
          "output_type": "stream",
          "text": [
            "x  =  tensor([1., 1., 1., 1., 1.], device='cuda:0')\n",
            "D*x  =  [0. 1. 2. 3. 4.]\n"
          ],
          "name": "stdout"
        }
      ]
    },
    {
      "cell_type": "code",
      "metadata": {
        "id": "VjkC40YkyzwW",
        "colab_type": "code",
        "colab": {
          "base_uri": "https://localhost:8080/",
          "height": 51
        },
        "outputId": "7ddfe3d0-da04-43c5-9de6-5953943a08f9"
      },
      "source": [
        "% timeit -n 10 Dop._matvec(x)\n",
        "% timeit -n 10 Dop_cuda._matvec(x_cuda)"
      ],
      "execution_count": 54,
      "outputs": [
        {
          "output_type": "stream",
          "text": [
            "10 loops, best of 3: 276 µs per loop\n",
            "10 loops, best of 3: 9.92 µs per loop\n"
          ],
          "name": "stdout"
        }
      ]
    },
    {
      "cell_type": "markdown",
      "metadata": {
        "colab_type": "text",
        "id": "VamR3403bBsr"
      },
      "source": [
        "# Zero"
      ]
    },
    {
      "cell_type": "markdown",
      "metadata": {
        "colab_type": "text",
        "id": "wZg3rv_9bBsp"
      },
      "source": [
        "Apply zero operator. The forward is\n",
        "$$\\mathbf{y} = \\mathbf{0}\\mathbf{x}=\\mathbf{0}_{N_y}$$\n",
        "\n",
        "and the adjoint is\n",
        "$$\\mathbf{x} = \\mathbf{0}\\mathbf{y}=\\mathbf{0}_{N_x}$$"
      ]
    },
    {
      "cell_type": "markdown",
      "metadata": {
        "colab_type": "text",
        "id": "MQIsp8Y4bBso"
      },
      "source": [
        "Same number of elements for model and data"
      ]
    },
    {
      "cell_type": "code",
      "metadata": {
        "colab_type": "code",
        "id": "uwiYUKlfbBsk",
        "colab": {}
      },
      "source": [
        "ny, nx = 5, 5\n",
        "x   = np.arange(nx)\n",
        "Zop = Zero(ny, nx)\n",
        "dottest(Zop, ny, nx, verb=True)\n",
        "\n",
        "y  = Zop*x\n",
        "y1 = Zop.H*y\n",
        "\n",
        "print('x  = ',x)\n",
        "print('I*x  = ',y)\n",
        "print('I\\'*x = ',y1)"
      ],
      "execution_count": 0,
      "outputs": []
    },
    {
      "cell_type": "markdown",
      "metadata": {
        "colab_type": "text",
        "id": "aEr0gMnzbBsj"
      },
      "source": [
        "Different number of elements for model and data"
      ]
    },
    {
      "cell_type": "code",
      "metadata": {
        "colab_type": "code",
        "id": "90c_WcxubBsd",
        "colab": {}
      },
      "source": [
        "ny, nx = 7, 5\n",
        "x   = np.arange(nx)\n",
        "Zop = Zero(ny, nx)\n",
        "dottest(Zop, ny, nx, verb=True)\n",
        "\n",
        "y  = Zop*x\n",
        "y1 = Zop.H*y\n",
        "\n",
        "print('x  = ',x)\n",
        "print('I*x  = ',y)\n",
        "print('I\\'*x = ',y1)"
      ],
      "execution_count": 0,
      "outputs": []
    },
    {
      "cell_type": "code",
      "metadata": {
        "colab_type": "code",
        "id": "oMOjvPt6bBsV",
        "colab": {}
      },
      "source": [
        "ny, nx = 5, 7\n",
        "x   = np.arange(nx)\n",
        "Zop = Zero(ny, nx)\n",
        "dottest(Zop, ny, nx, verb=True)\n",
        "\n",
        "y  = Zop*x\n",
        "y1 = Zop.H*y\n",
        "\n",
        "print('x  = ',x)\n",
        "print('I*x  = ',y)\n",
        "print('I\\'*x = ',y1)"
      ],
      "execution_count": 0,
      "outputs": []
    }
  ]
}