{
  "nbformat": 4,
  "nbformat_minor": 0,
  "metadata": {
    "colab": {
      "name": "Basic.ipynb",
      "version": "0.3.2",
      "provenance": []
    },
    "language_info": {
      "codemirror_mode": {
        "name": "ipython",
        "version": 3
      },
      "file_extension": ".py",
      "mimetype": "text/x-python",
      "name": "python",
      "nbconvert_exporter": "python",
      "pygments_lexer": "ipython3",
      "version": "3.7.2"
    },
    "kernelspec": {
      "display_name": "Python 3",
      "language": "python",
      "name": "python3"
    },
    "accelerator": "GPU"
  },
  "cells": [
    {
      "cell_type": "markdown",
      "metadata": {
        "colab_type": "text",
        "id": "xaygeqc0YgF7"
      },
      "source": [
        "# Pylops - CUDA basic linear operators"
      ]
    },
    {
      "cell_type": "markdown",
      "metadata": {
        "colab_type": "text",
        "id": "owGwScKKYgGA"
      },
      "source": [
        "### Author: M.Ravasi"
      ]
    },
    {
      "cell_type": "markdown",
      "metadata": {
        "colab_type": "text",
        "id": "IUIuNUfYYgGC"
      },
      "source": [
        "In this notebook we will experiment with Pytorch to assess its usability as backend for CUDA enabled operators"
      ]
    },
    {
      "cell_type": "code",
      "metadata": {
        "colab_type": "code",
        "id": "hMwmxTTxZ4Ju",
        "outputId": "118b22ac-2285-443a-abc4-261e0d10c660",
        "colab": {
          "base_uri": "https://localhost:8080/",
          "height": 412
        }
      },
      "source": [
        "!pip install pylops\n",
        "!pip install git+https://git@github.com/equinor/pylops-gpu.git@master"
      ],
      "execution_count": 1,
      "outputs": [
        {
          "output_type": "stream",
          "text": [
            "Requirement already satisfied: pylops in /usr/local/lib/python3.6/dist-packages (1.5.0)\n",
            "Requirement already satisfied: numpy>=1.15.0 in /usr/local/lib/python3.6/dist-packages (from pylops) (1.16.4)\n",
            "Requirement already satisfied: scipy in /usr/local/lib/python3.6/dist-packages (from pylops) (1.3.0)\n",
            "Collecting git+https://git@github.com/equinor/pylops-gpu.git@master\n",
            "  Cloning https://git@github.com/equinor/pylops-gpu.git (to revision master) to /tmp/pip-req-build-g53s1047\n",
            "  Running command git clone -q https://git@github.com/equinor/pylops-gpu.git /tmp/pip-req-build-g53s1047\n",
            "Requirement already satisfied (use --upgrade to upgrade): pylops-gpu==0.0.0 from git+https://git@github.com/equinor/pylops-gpu.git@master in /usr/local/lib/python3.6/dist-packages\n",
            "Requirement already satisfied: numpy>=1.15.0 in /usr/local/lib/python3.6/dist-packages (from pylops-gpu==0.0.0) (1.16.4)\n",
            "Requirement already satisfied: torch in /usr/local/lib/python3.6/dist-packages (from pylops-gpu==0.0.0) (1.1.0)\n",
            "Requirement already satisfied: pytorch_complex_tensor in /usr/local/lib/python3.6/dist-packages (from pylops-gpu==0.0.0) (0.0.134)\n",
            "Requirement already satisfied: torchvision>=0.2.1 in /usr/local/lib/python3.6/dist-packages (from pytorch_complex_tensor->pylops-gpu==0.0.0) (0.3.0)\n",
            "Requirement already satisfied: six in /usr/local/lib/python3.6/dist-packages (from torchvision>=0.2.1->pytorch_complex_tensor->pylops-gpu==0.0.0) (1.12.0)\n",
            "Requirement already satisfied: pillow>=4.1.1 in /usr/local/lib/python3.6/dist-packages (from torchvision>=0.2.1->pytorch_complex_tensor->pylops-gpu==0.0.0) (4.3.0)\n",
            "Requirement already satisfied: olefile in /usr/local/lib/python3.6/dist-packages (from pillow>=4.1.1->torchvision>=0.2.1->pytorch_complex_tensor->pylops-gpu==0.0.0) (0.46)\n",
            "Building wheels for collected packages: pylops-gpu\n",
            "  Building wheel for pylops-gpu (setup.py) ... \u001b[?25l\u001b[?25hdone\n",
            "  Stored in directory: /tmp/pip-ephem-wheel-cache-x6rv6dj0/wheels/c7/f0/0b/513e9be2dad0cbe2a900c0414a94bcae8778093383364aab9a\n",
            "Successfully built pylops-gpu\n"
          ],
          "name": "stdout"
        }
      ]
    },
    {
      "cell_type": "code",
      "metadata": {
        "colab_type": "code",
        "id": "86gLYP4HYgGI",
        "outputId": "f9cf5a51-f594-429e-c8e3-cfed5a204282",
        "colab": {
          "base_uri": "https://localhost:8080/",
          "height": 34
        }
      },
      "source": [
        "%load_ext autoreload\n",
        "%autoreload 2\n",
        "%matplotlib inline\n",
        "%pylab inline\n",
        "\n",
        "import warnings\n",
        "warnings.filterwarnings('ignore')\n",
        "\n",
        "import numpy as np\n",
        "import torch\n",
        "import scipy as sp\n",
        "import matplotlib.pyplot as plt\n",
        "import pylops\n",
        "\n",
        "from scipy.sparse.linalg import cg\n",
        "from pylops import Diagonal, MatrixMult\n",
        "from pylops.utils import dottest\n",
        "from pylops_gpu.utils.backend import device\n",
        "from pylops_gpu.utils import dottest as gdottest\n",
        "from pylops_gpu import Diagonal as gDiagonal\n",
        "from pylops_gpu import MatrixMult as gMatrixMult\n",
        "from pylops.signalprocessing import Convolve1D\n",
        "from pylops_gpu.signalprocessing import Convolve1D as gConvolve1D\n",
        "from pylops_gpu.optimization.leastsquares import cg as gcg"
      ],
      "execution_count": 2,
      "outputs": [
        {
          "output_type": "stream",
          "text": [
            "Populating the interactive namespace from numpy and matplotlib\n"
          ],
          "name": "stdout"
        }
      ]
    },
    {
      "cell_type": "code",
      "metadata": {
        "id": "5psZx5uvNM77",
        "colab_type": "code",
        "outputId": "df0eb444-68ab-4e0a-f479-d78f524b676e",
        "colab": {
          "base_uri": "https://localhost:8080/",
          "height": 34
        }
      },
      "source": [
        "dev = device()\n",
        "print('PyLops-gpu working on %s...' % dev)\n",
        "\n",
        "torch.cuda.empty_cache()"
      ],
      "execution_count": 3,
      "outputs": [
        {
          "output_type": "stream",
          "text": [
            "PyLops-gpu working on cuda...\n"
          ],
          "name": "stdout"
        }
      ]
    },
    {
      "cell_type": "markdown",
      "metadata": {
        "id": "0tW1zPopNUUk",
        "colab_type": "text"
      },
      "source": [
        "## Diagonal"
      ]
    },
    {
      "cell_type": "markdown",
      "metadata": {
        "id": "FXpLuro4Nalr",
        "colab_type": "text"
      },
      "source": [
        "Example with model and data already on GPU"
      ]
    },
    {
      "cell_type": "code",
      "metadata": {
        "id": "HS0QPHLwFutW",
        "colab_type": "code",
        "outputId": "c5b7cf72-7b11-4895-832e-a5f052132952",
        "colab": {
          "base_uri": "https://localhost:8080/",
          "height": 85
        }
      },
      "source": [
        "n = int(1e6)\n",
        "xg = torch.ones(n, dtype=torch.float32).to(dev)\n",
        "dg = (torch.arange(0, n, dtype=torch.float32) + 1.).to(dev)\n",
        "\n",
        "x = xg.cpu().numpy()\n",
        "d = dg.cpu().numpy()\n",
        "\n",
        "Dop = Diagonal(d)\n",
        "Dop_gpu = gDiagonal(dg, device=dev)\n",
        "dottest(Dop, n, n, verb=True)\n",
        "gdottest(Dop_gpu, n, n, device=dev, verb=True)\n",
        "\n",
        "# y = Dx\n",
        "yg = Dop_gpu * xg\n",
        "print('y', yg)"
      ],
      "execution_count": 4,
      "outputs": [
        {
          "output_type": "stream",
          "text": [
            "Dot test passed, v^T(Opu)=326502146.084215 - u^T(Op^Tv)=326502146.084216\n",
            "Dot test passed, v^T(Opu)=125043236864.000000 - u^T(Op^Tv)=125043236864.000000\n",
            "y tensor([1.0000e+00, 2.0000e+00, 3.0000e+00,  ..., 1.0000e+06, 1.0000e+06,\n",
            "        1.0000e+06], device='cuda:0')\n"
          ],
          "name": "stdout"
        }
      ]
    },
    {
      "cell_type": "code",
      "metadata": {
        "id": "XER4rcF2Ni23",
        "colab_type": "code",
        "outputId": "46299ad1-2178-4b62-84c1-f86059ab480e",
        "colab": {
          "base_uri": "https://localhost:8080/",
          "height": 51
        }
      },
      "source": [
        "%timeit -n 10 Dop * x\n",
        "%timeit -n 10 Dop_gpu * xg"
      ],
      "execution_count": 5,
      "outputs": [
        {
          "output_type": "stream",
          "text": [
            "10 loops, best of 3: 815 µs per loop\n",
            "10 loops, best of 3: 16.8 µs per loop\n"
          ],
          "name": "stdout"
        }
      ]
    },
    {
      "cell_type": "markdown",
      "metadata": {
        "id": "msimlxTDNn8U",
        "colab_type": "text"
      },
      "source": [
        "Example with model and data transfered from and to gpu in forward and adjoint operations"
      ]
    },
    {
      "cell_type": "code",
      "metadata": {
        "id": "Zfytb17lNLZN",
        "colab_type": "code",
        "outputId": "eda752b4-546f-47a9-ee3b-bb7d13649d2c",
        "colab": {
          "base_uri": "https://localhost:8080/",
          "height": 337
        }
      },
      "source": [
        "n = int(1e6)\n",
        "xg = torch.ones(n, dtype=torch.float32).to(dev)\n",
        "dg = (torch.arange(0, n, dtype=torch.float32) + 1.).to(dev)\n",
        "\n",
        "xc = xg.cpu()\n",
        "x = xg.cpu().numpy()\n",
        "d = dg.cpu().numpy()\n",
        "\n",
        "Dop = Diagonal(d)\n",
        "Dop_gpu = gDiagonal(dg, device=dev, togpu=(True, True), tocpu=(True, True))\n",
        "gdottest(Dop_gpu, n, n, verb=True)\n",
        "\n",
        "# y = Dx\n",
        "y = Dop_gpu * x\n",
        "print('y', y)\n",
        "\n",
        "# xinv = D^-1 y\n",
        "xinv = Dop / y\n",
        "xinvg = (Dop_gpu / torch.from_numpy(y)).numpy() # solver only runs with torch tensors\n",
        "\n",
        "plt.figure()\n",
        "plt.plot(x, 'b', lw=4)\n",
        "plt.plot(xinv, '--r', lw=4)\n",
        "plt.plot(xinvg, '--g', lw=3)"
      ],
      "execution_count": 6,
      "outputs": [
        {
          "output_type": "stream",
          "text": [
            "Dot test passed, v^T(Opu)=125084549120.000000 - u^T(Op^Tv)=125084549120.000000\n",
            "y [1.00000e+00 2.00000e+00 3.00000e+00 ... 9.99998e+05 9.99999e+05\n",
            " 1.00000e+06]\n"
          ],
          "name": "stdout"
        },
        {
          "output_type": "execute_result",
          "data": {
            "text/plain": [
              "[<matplotlib.lines.Line2D at 0x7fa4b67c3828>]"
            ]
          },
          "metadata": {
            "tags": []
          },
          "execution_count": 6
        },
        {
          "output_type": "display_data",
          "data": {
            "image/png": "[encoded data removed]",
            "text/plain": [
              "<Figure size 432x288 with 1 Axes>"
            ]
          },
          "metadata": {
            "tags": []
          }
        }
      ]
    },
    {
      "cell_type": "code",
      "metadata": {
        "id": "a48_e6xIVHhu",
        "colab_type": "code",
        "outputId": "aec8a722-3e3c-49bb-a0b6-db191ef4f081",
        "colab": {
          "base_uri": "https://localhost:8080/",
          "height": 51
        }
      },
      "source": [
        "Dop_gpu = gDiagonal(dg, device=dev, togpu=(True, True))\n",
        "\n",
        "%timeit -n 10 Dop * x\n",
        "%timeit -n 10 Dop_gpu * xc"
      ],
      "execution_count": 7,
      "outputs": [
        {
          "output_type": "stream",
          "text": [
            "10 loops, best of 3: 741 µs per loop\n",
            "10 loops, best of 3: 527 µs per loop\n"
          ],
          "name": "stdout"
        }
      ]
    },
    {
      "cell_type": "code",
      "metadata": {
        "id": "jXJkOrNtHMGn",
        "colab_type": "code",
        "outputId": "16222378-279b-4af9-a65d-c0be2865eee3",
        "colab": {
          "base_uri": "https://localhost:8080/",
          "height": 51
        }
      },
      "source": [
        "Dop_gpu = gDiagonal(dg, device=dev, togpu=(True, True), tocpu=(True, True))\n",
        "\n",
        "%timeit -n 10 Dop * x\n",
        "%timeit -n 10 Dop_gpu * xc"
      ],
      "execution_count": 8,
      "outputs": [
        {
          "output_type": "stream",
          "text": [
            "10 loops, best of 3: 735 µs per loop\n",
            "10 loops, best of 3: 1.85 ms per loop\n"
          ],
          "name": "stdout"
        }
      ]
    },
    {
      "cell_type": "markdown",
      "metadata": {
        "id": "mo-JeU7iPSc4",
        "colab_type": "text"
      },
      "source": [
        "Note here how we get hit by the cost of moving x and y back and forth between CPU and GPU."
      ]
    },
    {
      "cell_type": "markdown",
      "metadata": {
        "id": "n7aFEi3Pi6sa",
        "colab_type": "text"
      },
      "source": [
        "Finally we consider the case of broadcasting, where the Diagonal operator is applied to single direction of the input vector x"
      ]
    },
    {
      "cell_type": "code",
      "metadata": {
        "id": "IPlPk8LDjqxv",
        "colab_type": "code",
        "colab": {
          "base_uri": "https://localhost:8080/",
          "height": 34
        },
        "outputId": "c1e1bc83-599d-46f3-f4ec-6d276932c376"
      },
      "source": [
        "n = int(1e5)\n",
        "dg = (torch.arange(0, n, dtype=torch.float32) + 1.).to(dev)\n",
        "d = dg.cpu().numpy()\n",
        "xg = (torch.ones(2*n, dtype=torch.float32)).to(dev)\n",
        "x = xg.cpu().numpy()\n",
        "\n",
        "Dop2 = Diagonal(d, dims=(n, 2), dir=0)\n",
        "dottest(Dop2, 2*n, 2*n)\n",
        "\n",
        "Dop2_gpu = gDiagonal(dg, device=dev, dims=(n, 2), dir=0)\n",
        "gdottest(Dop2_gpu, 2*n, 2*n, device=dev)"
      ],
      "execution_count": 9,
      "outputs": [
        {
          "output_type": "execute_result",
          "data": {
            "text/plain": [
              "True"
            ]
          },
          "metadata": {
            "tags": []
          },
          "execution_count": 9
        }
      ]
    },
    {
      "cell_type": "code",
      "metadata": {
        "id": "N_F8TTJ1oDSw",
        "colab_type": "code",
        "colab": {
          "base_uri": "https://localhost:8080/",
          "height": 51
        },
        "outputId": "34f2df4e-0277-450e-ba82-31aa399ae8f4"
      },
      "source": [
        "%timeit -n 10 Dop2 * x\n",
        "%timeit -n 10 Dop2_gpu * xg"
      ],
      "execution_count": 10,
      "outputs": [
        {
          "output_type": "stream",
          "text": [
            "10 loops, best of 3: 997 µs per loop\n",
            "10 loops, best of 3: 32 µs per loop\n"
          ],
          "name": "stdout"
        }
      ]
    },
    {
      "cell_type": "markdown",
      "metadata": {
        "id": "JmUAjnrlpaIh",
        "colab_type": "text"
      },
      "source": [
        "# MatrixMult"
      ]
    },
    {
      "cell_type": "code",
      "metadata": {
        "id": "tIypddNsTnZd",
        "colab_type": "code",
        "colab": {}
      },
      "source": [
        "n = 2000\n",
        "niter = 1000"
      ],
      "execution_count": 0,
      "outputs": []
    },
    {
      "cell_type": "markdown",
      "metadata": {
        "id": "0sspAo_pPlIi",
        "colab_type": "text"
      },
      "source": [
        "Dot product (vector-vector)"
      ]
    },
    {
      "cell_type": "code",
      "metadata": {
        "id": "sKcGeIkQNsRI",
        "colab_type": "code",
        "outputId": "d089379b-bbbc-43b8-b61d-17ba1a948640",
        "colab": {
          "base_uri": "https://localhost:8080/",
          "height": 102
        }
      },
      "source": [
        "z = np.ones(n, dtype=np.float32)\n",
        "zgc = torch.ones(n, dtype=torch.float32)\n",
        "zg = torch.ones(n, dtype=torch.float32).to(dev)\n",
        "\n",
        "% timeit -n 40 -r 3 z.dot(z)\n",
        "% timeit -n 40 -r 3 zgc.dot(zgc)\n",
        "% timeit -n 40 -r 3 zg.dot(zg)\n",
        "% timeit -n 40 -r 3 zg.matmul(zg)\n",
        "% timeit -n 40 -r 3 torch.sum(zg*zg)"
      ],
      "execution_count": 12,
      "outputs": [
        {
          "output_type": "stream",
          "text": [
            "40 loops, best of 3: 913 ns per loop\n",
            "40 loops, best of 3: 5.95 µs per loop\n",
            "40 loops, best of 3: 45.3 µs per loop\n",
            "40 loops, best of 3: 45.1 µs per loop\n",
            "40 loops, best of 3: 23.8 µs per loop\n"
          ],
          "name": "stdout"
        }
      ]
    },
    {
      "cell_type": "markdown",
      "metadata": {
        "id": "E6T5b2C2Pi-e",
        "colab_type": "text"
      },
      "source": [
        "Dot product (matrix-vector)"
      ]
    },
    {
      "cell_type": "code",
      "metadata": {
        "id": "sFDbI7eMNsUz",
        "colab_type": "code",
        "outputId": "59c0075f-360c-448c-fbd6-cab758f49aec",
        "colab": {
          "base_uri": "https://localhost:8080/",
          "height": 119
        }
      },
      "source": [
        "A = np.random.randn(n, n).astype(np.float32)\n",
        "Agc = torch.from_numpy(A)\n",
        "Ag = torch.from_numpy(A).to(dev)\n",
        "zgg = zg.reshape(n, 1)\n",
        "\n",
        "% timeit -n 40 -r 3 A.dot(z)\n",
        "% timeit -n 40 -r 3 np.matmul(A, z)\n",
        "% timeit -n 40 -r 3 Agc.matmul(zgc)\n",
        "% timeit -n 40 -r 3 Ag.matmul(zg)\n",
        "% timeit -n 40 -r 3 Ag.mm(zgg)"
      ],
      "execution_count": 13,
      "outputs": [
        {
          "output_type": "stream",
          "text": [
            "40 loops, best of 3: 676 µs per loop\n",
            "40 loops, best of 3: 687 µs per loop\n",
            "40 loops, best of 3: 737 µs per loop\n",
            "40 loops, best of 3: 16.3 µs per loop\n",
            "The slowest run took 8.26 times longer than the fastest. This could mean that an intermediate result is being cached.\n",
            "40 loops, best of 3: 19.1 µs per loop\n"
          ],
          "name": "stdout"
        }
      ]
    },
    {
      "cell_type": "markdown",
      "metadata": {
        "id": "6lndReHKWggL",
        "colab_type": "text"
      },
      "source": [
        "We can see how numpy's dot product seem to always win for vector-vector computations but in case of matrix-matrix pytorch on cuda outperforms numpy when n grows (roughly n>500)"
      ]
    },
    {
      "cell_type": "code",
      "metadata": {
        "id": "4wc7aNRXVnG3",
        "colab_type": "code",
        "colab": {}
      },
      "source": [
        "def conjgrad(A, b, x, niter):\n",
        "    'Conjugate-gradient algorithm for minimizing |A x - dat|^2'\n",
        "    r = b - A._matvec(x)\n",
        "    d = r.copy()\n",
        "    k = r.dot(r)\n",
        "    for iter in range(niter):\n",
        "        #if iter == 0:\n",
        "        #  Ad = A._matvec(r)\n",
        "        #  dAd = r.dot(Ad)\n",
        "        #else:\n",
        "        Ad = A._matvec(d)\n",
        "        dAd = d.dot(Ad)\n",
        "        a = k / dAd\n",
        "        x += a*d\n",
        "        r -= a*Ad\n",
        "        kold = k\n",
        "        k = r.dot(r)\n",
        "        b = k / kold\n",
        "        d = r + b*d;\n",
        "    return x\n",
        "  \n",
        "def conjgrad_gpu(A, b, x, niter):\n",
        "    'Conjugate-gradient algorithm for minimizing |A x - dat|^2'\n",
        "    r = b - A.matmul(x)\n",
        "    d = r.clone()\n",
        "    kold = torch.sum(r*r)\n",
        "    for iter in range(niter):\n",
        "        Ad = A.matmul(d)\n",
        "        dAd = torch.sum(d*Ad)\n",
        "        a = kold / dAd\n",
        "        x += a*d\n",
        "        r -= a*Ad\n",
        "        k = torch.sum(r*r)\n",
        "        b = k / kold\n",
        "        d = r + b*d;\n",
        "        kold = k\n",
        "    return x"
      ],
      "execution_count": 0,
      "outputs": []
    },
    {
      "cell_type": "code",
      "metadata": {
        "id": "rzIyAUizpeS1",
        "colab_type": "code",
        "outputId": "c57f1ade-842e-4c6b-f510-ee433bc3a659",
        "colab": {
          "base_uri": "https://localhost:8080/",
          "height": 303
        }
      },
      "source": [
        "np.random.seed(10)\n",
        "x = np.ones(n, dtype=np.float32)\n",
        "A = np.random.randn(n, n).astype(np.float32)\n",
        "ATA = np.dot(A.T, A)\n",
        "\n",
        "Aop = MatrixMult(ATA)\n",
        "\n",
        "y = Aop.matvec(x)\n",
        "xinv_sp = cg(Aop, y, maxiter=niter)[0]\n",
        "xinv = conjgrad(Aop, y, np.zeros_like(x), niter)\n",
        "print(np.linalg.norm(xinv - xinv_sp))\n",
        "\n",
        "plt.figure()\n",
        "plt.plot(x)\n",
        "plt.plot(xinv_sp, '--r')\n",
        "plt.plot(x-xinv_sp, 'k')"
      ],
      "execution_count": 15,
      "outputs": [
        {
          "output_type": "stream",
          "text": [
            "1.336560341676711\n"
          ],
          "name": "stdout"
        },
        {
          "output_type": "execute_result",
          "data": {
            "text/plain": [
              "[<matplotlib.lines.Line2D at 0x7fa4b66e7780>]"
            ]
          },
          "metadata": {
            "tags": []
          },
          "execution_count": 15
        },
        {
          "output_type": "display_data",
          "data": {
            "image/png": "[encoded data removed]",
            "text/plain": [
              "<Figure size 432x288 with 1 Axes>"
            ]
          },
          "metadata": {
            "tags": []
          }
        }
      ]
    },
    {
      "cell_type": "code",
      "metadata": {
        "id": "93QTFv2cpeVY",
        "colab_type": "code",
        "outputId": "12f37457-2594-4a0f-a69f-ab44220452da",
        "colab": {
          "base_uri": "https://localhost:8080/",
          "height": 555
        }
      },
      "source": [
        "xg = torch.ones(n, dtype=torch.float32).to(dev)\n",
        "x0g = torch.zeros(n, dtype=torch.float32).to(dev)\n",
        "Ag = torch.from_numpy(A).to(dev)\n",
        "ATAg = torch.matmul(Ag.t(), Ag)\n",
        "\n",
        "yg = ATAg.matmul(xg)\n",
        "plt.figure()\n",
        "plt.plot(y)\n",
        "plt.plot(yg.cpu().numpy(), '--r')\n",
        "plt.plot(y-yg.cpu().numpy(), 'k')\n",
        "\n",
        "xinvg = conjgrad_gpu(ATAg, yg, torch.zeros(n, dtype=torch.float32).to(dev), niter)\n",
        "print(np.linalg.norm(xinv - xinvg.cpu().numpy()))\n",
        "\n",
        "plt.figure()\n",
        "plt.plot(x)\n",
        "plt.plot(xinvg.cpu().numpy(), '--r')\n",
        "plt.plot(x-xinvg.cpu().numpy(), 'k')"
      ],
      "execution_count": 16,
      "outputs": [
        {
          "output_type": "stream",
          "text": [
            "0.15820736\n"
          ],
          "name": "stdout"
        },
        {
          "output_type": "execute_result",
          "data": {
            "text/plain": [
              "[<matplotlib.lines.Line2D at 0x7fa4b66124a8>]"
            ]
          },
          "metadata": {
            "tags": []
          },
          "execution_count": 16
        },
        {
          "output_type": "display_data",
          "data": {
            "image/png": "[encoded data removed]",
            "text/plain": [
              "<Figure size 432x288 with 1 Axes>"
            ]
          },
          "metadata": {
            "tags": []
          }
        },
        {
          "output_type": "display_data",
          "data": {
            "image/png": "[encoded data removed]",
            "text/plain": [
              "<Figure size 432x288 with 1 Axes>"
            ]
          },
          "metadata": {
            "tags": []
          }
        }
      ]
    },
    {
      "cell_type": "code",
      "metadata": {
        "id": "hliT6tyHbCOb",
        "colab_type": "code",
        "colab": {
          "base_uri": "https://localhost:8080/",
          "height": 303
        },
        "outputId": "c643c89b-5905-4400-bd40-3043ca11a6ea"
      },
      "source": [
        "Agop = gMatrixMult(ATAg, device=dev)\n",
        "\n",
        "xinvg = gcg(Agop, yg, x=torch.zeros(n, dtype=torch.float32).to(dev), niter=niter)[0]\n",
        "print(np.linalg.norm(xinv - xinvg.cpu().numpy()))\n",
        "\n",
        "plt.figure()\n",
        "plt.plot(x)\n",
        "plt.plot(xinvg.cpu().numpy(), '--r')\n",
        "plt.plot(x-xinvg.cpu().numpy(), 'k')"
      ],
      "execution_count": 17,
      "outputs": [
        {
          "output_type": "stream",
          "text": [
            "0.15820736\n"
          ],
          "name": "stdout"
        },
        {
          "output_type": "execute_result",
          "data": {
            "text/plain": [
              "[<matplotlib.lines.Line2D at 0x7fa4b664bcc0>]"
            ]
          },
          "metadata": {
            "tags": []
          },
          "execution_count": 17
        },
        {
          "output_type": "display_data",
          "data": {
            "image/png": "[encoded data removed]",
            "text/plain": [
              "<Figure size 432x288 with 1 Axes>"
            ]
          },
          "metadata": {
            "tags": []
          }
        }
      ]
    },
    {
      "cell_type": "code",
      "metadata": {
        "id": "r3GsIiQ3pzK0",
        "colab_type": "code",
        "outputId": "ddbec004-729b-428f-e254-a2c8ea3caaba",
        "colab": {
          "base_uri": "https://localhost:8080/",
          "height": 85
        }
      },
      "source": [
        "niter = 3\n",
        "\n",
        "%timeit -n 2 cg(Aop, y, maxiter=niter)[0]\n",
        "%timeit -n 2 conjgrad(Aop, y, np.zeros_like(x), niter)\n",
        "%timeit -n 2 conjgrad_gpu(ATAg, yg, x0g, niter)\n",
        "%timeit -n 2 gcg(Agop, yg, x=torch.zeros(n, dtype=torch.float32).to(dev), niter=niter)"
      ],
      "execution_count": 18,
      "outputs": [
        {
          "output_type": "stream",
          "text": [
            "2 loops, best of 3: 41.1 ms per loop\n",
            "2 loops, best of 3: 2.79 ms per loop\n",
            "2 loops, best of 3: 660 µs per loop\n",
            "2 loops, best of 3: 861 µs per loop\n"
          ],
          "name": "stdout"
        }
      ]
    },
    {
      "cell_type": "code",
      "metadata": {
        "id": "5YeA4fiyXEhl",
        "colab_type": "code",
        "outputId": "6abfcd34-e763-476b-822c-df736d4b2669",
        "colab": {
          "base_uri": "https://localhost:8080/",
          "height": 85
        }
      },
      "source": [
        "niter = 500\n",
        "\n",
        "%timeit -n 2 -r 2 cg(Aop, y, maxiter=niter)[0]\n",
        "%timeit -n 2 -r 2 conjgrad(Aop, y, np.zeros_like(x), niter)\n",
        "%timeit -n 2 -r 2 conjgrad_gpu(ATAg, yg, x0g, niter)\n",
        "%timeit -n 2 gcg(Agop, yg, x=torch.zeros(n, dtype=torch.float32).to(dev), niter=niter)[0]"
      ],
      "execution_count": 19,
      "outputs": [
        {
          "output_type": "stream",
          "text": [
            "2 loops, best of 2: 3.75 s per loop\n",
            "2 loops, best of 2: 357 ms per loop\n",
            "2 loops, best of 2: 77.8 ms per loop\n",
            "2 loops, best of 3: 95.1 ms per loop\n"
          ],
          "name": "stdout"
        }
      ]
    },
    {
      "cell_type": "markdown",
      "metadata": {
        "id": "vbcMaC8aMYOn",
        "colab_type": "text"
      },
      "source": [
        "For large enough problems the gpu implementation of cg seem to greatly outperform scipy as well as our CPU implementation (mostly because the speedup in matrix-vector computation outreaches the slow down in  vector-vector)."
      ]
    },
    {
      "cell_type": "markdown",
      "metadata": {
        "id": "G9UsaZGZhccU",
        "colab_type": "text"
      },
      "source": [
        "# 1D Convolution"
      ]
    },
    {
      "cell_type": "code",
      "metadata": {
        "id": "r7K9pSgihQNP",
        "colab_type": "code",
        "outputId": "1a43abb1-46d2-46a1-a7cf-4d3ddc6bfc85",
        "colab": {
          "base_uri": "https://localhost:8080/",
          "height": 51
        }
      },
      "source": [
        "N = 11\n",
        "Nh = 3\n",
        "x = np.zeros(N)\n",
        "x[N//2] = 1\n",
        "\n",
        "h = np.arange(Nh)+1\n",
        "y = np.convolve(x, h, mode='same')\n",
        "print(y)\n",
        "print(y.shape)"
      ],
      "execution_count": 20,
      "outputs": [
        {
          "output_type": "stream",
          "text": [
            "[0. 0. 0. 0. 1. 2. 3. 0. 0. 0. 0.]\n",
            "(11,)\n"
          ],
          "name": "stdout"
        }
      ]
    },
    {
      "cell_type": "code",
      "metadata": {
        "id": "1hqf1yHfhHqU",
        "colab_type": "code",
        "outputId": "1d1361d9-fad3-4511-995f-5a5f72fb5f36",
        "colab": {
          "base_uri": "https://localhost:8080/",
          "height": 51
        }
      },
      "source": [
        "xt = torch.zeros(N)\n",
        "xt[N//2] = 1\n",
        "\n",
        "ht = torch.torch.arange(0, Nh, dtype=torch.float) + 1.\n",
        "yt = torch.torch.conv_transpose1d(xt.reshape(1, 1, N), ht.reshape(1, 1, ht.size()[0]), padding=ht.size()[0]//2)\n",
        "print(yt)\n",
        "print(yt.shape)"
      ],
      "execution_count": 21,
      "outputs": [
        {
          "output_type": "stream",
          "text": [
            "tensor([[[0., 0., 0., 0., 1., 2., 3., 0., 0., 0., 0.]]])\n",
            "torch.Size([1, 1, 11])\n"
          ],
          "name": "stdout"
        }
      ]
    },
    {
      "cell_type": "code",
      "metadata": {
        "id": "4y7V0DRVkojI",
        "colab_type": "code",
        "outputId": "069ea482-ba31-4c60-85a0-b2814a7f6ab7",
        "colab": {
          "base_uri": "https://localhost:8080/",
          "height": 68
        }
      },
      "source": [
        "y = np.correlate(x, h, mode='same')\n",
        "print(y)\n",
        "\n",
        "yt = torch.torch.conv1d(xt.reshape(1, 1, N), ht.reshape(1, 1, 3), padding=Nh//2)\n",
        "print(yt)\n",
        "print(yt.shape)"
      ],
      "execution_count": 22,
      "outputs": [
        {
          "output_type": "stream",
          "text": [
            "[0. 0. 0. 0. 3. 2. 1. 0. 0. 0. 0.]\n",
            "tensor([[[0., 0., 0., 0., 3., 2., 1., 0., 0., 0., 0.]]])\n",
            "torch.Size([1, 1, 11])\n"
          ],
          "name": "stdout"
        }
      ]
    },
    {
      "cell_type": "code",
      "metadata": {
        "id": "lgdPeJb0iCy1",
        "colab_type": "code",
        "outputId": "ada29931-ef95-4188-d573-590daa2bf013",
        "colab": {
          "base_uri": "https://localhost:8080/",
          "height": 102
        }
      },
      "source": [
        "xt = torch.zeros((1000, N))\n",
        "xt[:, N//2] = 1\n",
        "ht = torch.torch.arange(0, Nh, dtype=torch.float) + 1.\n",
        "\n",
        "xc = xt.to(dev)\n",
        "hc = ht.to(dev)\n",
        "\n",
        "yt = torch.torch.conv1d(xt.reshape(1000, 1, N), ht.reshape(1, 1, 3), padding=Nh//2)\n",
        "print(yt.shape)\n",
        "yc = torch.torch.conv1d(xc.reshape(1000, 1, N), hc.reshape(1, 1, 3), padding=Nh//2)\n",
        "print(yc.shape)\n",
        "\n",
        "% timeit torch.torch.conv1d(xt.reshape(1000, 1, N), ht.reshape(1, 1, 3), padding=Nh//2)\n",
        "% timeit torch.torch.conv1d(xc.reshape(1000, 1, N), hc.reshape(1, 1, 3), padding=Nh//2)"
      ],
      "execution_count": 23,
      "outputs": [
        {
          "output_type": "stream",
          "text": [
            "torch.Size([1000, 1, 11])\n",
            "torch.Size([1000, 1, 11])\n",
            "1000 loops, best of 3: 442 µs per loop\n",
            "The slowest run took 15.62 times longer than the fastest. This could mean that an intermediate result is being cached.\n",
            "10000 loops, best of 3: 41.4 µs per loop\n"
          ],
          "name": "stdout"
        }
      ]
    },
    {
      "cell_type": "code",
      "metadata": {
        "id": "xWgGsz1xDiUX",
        "colab_type": "code",
        "colab": {
          "base_uri": "https://localhost:8080/",
          "height": 102
        },
        "outputId": "500b090f-a278-49e0-94b0-c5d7cf2e5474"
      },
      "source": [
        "xt = torch.zeros((1000, 10, N))\n",
        "xt[:, N//2] = 1\n",
        "ht = torch.torch.arange(0, Nh, dtype=torch.float) + 1.\n",
        "\n",
        "xc = xt.to(dev)\n",
        "hc = ht.to(dev)\n",
        "\n",
        "yt = torch.torch.conv1d(xt.reshape(1000*10, 1, N), ht.reshape(1, 1, 3), padding=Nh//2)\n",
        "print(yt.shape)\n",
        "yc = torch.torch.conv1d(xc.reshape(1000*10, 1, N), hc.reshape(1, 1, 3), padding=Nh//2)\n",
        "print(yc.shape)\n",
        "\n",
        "% timeit torch.torch.conv1d(xt.reshape(1000*10, 1, N), ht.reshape(1, 1, 3), padding=Nh//2)\n",
        "% timeit torch.torch.conv1d(xc.reshape(1000*10, 1, N), hc.reshape(1, 1, 3), padding=Nh//2)"
      ],
      "execution_count": 24,
      "outputs": [
        {
          "output_type": "stream",
          "text": [
            "torch.Size([10000, 1, 11])\n",
            "torch.Size([10000, 1, 11])\n",
            "100 loops, best of 3: 3.08 ms per loop\n",
            "The slowest run took 16.62 times longer than the fastest. This could mean that an intermediate result is being cached.\n",
            "10000 loops, best of 3: 41.6 µs per loop\n"
          ],
          "name": "stdout"
        }
      ]
    },
    {
      "cell_type": "markdown",
      "metadata": {
        "id": "_AuLdrpdPi8W",
        "colab_type": "text"
      },
      "source": [
        "Let's use the operator"
      ]
    },
    {
      "cell_type": "code",
      "metadata": {
        "id": "6ARyc1rOEaNQ",
        "colab_type": "code",
        "colab": {
          "base_uri": "https://localhost:8080/",
          "height": 119
        },
        "outputId": "64e4ce2b-1e07-4525-87ae-b4b8f4f0bf7a"
      },
      "source": [
        "N = 20\n",
        "Nh = 3\n",
        "x = np.zeros(N)\n",
        "x[N//2] = 1\n",
        "\n",
        "xt = torch.zeros(N)\n",
        "xt[N//2] = 1\n",
        "\n",
        "Cop = Convolve1D(N, h, offset=Nh//2)\n",
        "dottest(Cop, N, N)\n",
        "y = Cop * x\n",
        "xadj = Cop.H * y\n",
        "print(y)\n",
        "print(xadj)\n",
        "\n",
        "\n",
        "gCop = gConvolve1D(N, ht, offset=Nh//2)\n",
        "gdottest(gCop, N, N)\n",
        "yt = gCop * xt\n",
        "xadjt = Cop.H * yt\n",
        "print(y)\n",
        "print(xadj)"
      ],
      "execution_count": 43,
      "outputs": [
        {
          "output_type": "stream",
          "text": [
            "[0. 0. 0. 0. 0. 0. 0. 0. 0. 1. 2. 3. 0. 0. 0. 0. 0. 0. 0. 0.]\n",
            "[ 0.  0.  0.  0.  0.  0.  0.  0.  3.  8. 14.  8.  3.  0.  0.  0.  0.  0.\n",
            "  0.  0.]\n",
            "[0. 0. 0. 0. 0. 0. 0. 0. 0. 1. 2. 3. 0. 0. 0. 0. 0. 0. 0. 0.]\n",
            "[ 0.  0.  0.  0.  0.  0.  0.  0.  3.  8. 14.  8.  3.  0.  0.  0.  0.  0.\n",
            "  0.  0.]\n"
          ],
          "name": "stdout"
        }
      ]
    },
    {
      "cell_type": "code",
      "metadata": {
        "id": "rwmlF7uBPnjM",
        "colab_type": "code",
        "colab": {
          "base_uri": "https://localhost:8080/",
          "height": 85
        },
        "outputId": "afcc0117-f40c-469c-9482-6ac4e3bdf417"
      },
      "source": [
        "% timeit Cop * x\n",
        "% timeit gCop * xt"
      ],
      "execution_count": 44,
      "outputs": [
        {
          "output_type": "stream",
          "text": [
            "The slowest run took 8.46 times longer than the fastest. This could mean that an intermediate result is being cached.\n",
            "10000 loops, best of 3: 33.7 µs per loop\n",
            "The slowest run took 14.89 times longer than the fastest. This could mean that an intermediate result is being cached.\n",
            "10000 loops, best of 3: 25.9 µs per loop\n"
          ],
          "name": "stdout"
        }
      ]
    },
    {
      "cell_type": "code",
      "metadata": {
        "id": "oQBh0P8ZO1cy",
        "colab_type": "code",
        "colab": {
          "base_uri": "https://localhost:8080/",
          "height": 561
        },
        "outputId": "a74cfb81-f247-4f5c-d7ee-0b73f9f403ae"
      },
      "source": [
        "x = np.zeros((N, 2))\n",
        "x[N//2] = 1\n",
        "\n",
        "xt = torch.zeros((N, 2))\n",
        "xt[N//2] = 1\n",
        "\n",
        "Cop = Convolve1D(N*2, h, offset=Nh//2, dims=(N, 2))\n",
        "dottest(Cop, N*2, N*2)\n",
        "y = Cop * x.ravel()\n",
        "xadj = Cop.H * y\n",
        "print(yt)\n",
        "print(xadjt)\n",
        "\n",
        "gCop = gConvolve1D(N*2, ht, offset=Nh//2, dims=(N, 2))\n",
        "gdottest(gCop, N*2, N*2)\n",
        "yt = gCop * xt.view(-1)\n",
        "xadjt = Cop.H * yt\n",
        "print(yt)\n",
        "print(xadjt)\n"
      ],
      "execution_count": 48,
      "outputs": [
        {
          "output_type": "stream",
          "text": [
            "tensor([0., 0., 0., 0., 0., 0., 0., 0., 0., 0., 0., 0., 0., 0., 0., 0., 0., 0.,\n",
            "        1., 1., 2., 2., 3., 3., 0., 0., 0., 0., 0., 0., 0., 0., 0., 0., 0., 0.,\n",
            "        0., 0., 0., 0.])\n",
            "[-8.88178420e-16 -8.88178420e-16  0.00000000e+00  0.00000000e+00\n",
            "  1.18423789e-15  1.18423789e-15  2.96059473e-16  2.96059473e-16\n",
            "  4.44089210e-16  4.44089210e-16  0.00000000e+00  0.00000000e+00\n",
            "  0.00000000e+00  0.00000000e+00  1.28197512e-16  1.28197512e-16\n",
            "  3.00000000e+00  3.00000000e+00  8.00000000e+00  8.00000000e+00\n",
            "  1.40000000e+01  1.40000000e+01  8.00000000e+00  8.00000000e+00\n",
            "  3.00000000e+00  3.00000000e+00  4.78439630e-16  4.78439630e-16\n",
            "  5.12790050e-16  5.12790050e-16 -1.28197512e-16 -1.28197512e-16\n",
            "  2.96059473e-16  2.96059473e-16  5.92118946e-16  5.92118946e-16\n",
            "  1.18423789e-15  1.18423789e-15  0.00000000e+00  0.00000000e+00]\n",
            "[2] 2 [2, 20]\n",
            "(1, 0)\n",
            "torch.Size([20, 2])\n",
            "torch.Size([20, 2])\n",
            "(1, 0)\n",
            "torch.Size([20, 2])\n",
            "tensor([0., 0., 0., 0., 0., 0., 0., 0., 0., 0., 0., 0., 0., 0., 0., 0., 0., 0.,\n",
            "        1., 1., 2., 2., 3., 3., 0., 0., 0., 0., 0., 0., 0., 0., 0., 0., 0., 0.,\n",
            "        0., 0., 0., 0.])\n",
            "[-8.88178420e-16 -8.88178420e-16  0.00000000e+00  0.00000000e+00\n",
            "  1.18423789e-15  1.18423789e-15  2.96059473e-16  2.96059473e-16\n",
            "  4.44089210e-16  4.44089210e-16  0.00000000e+00  0.00000000e+00\n",
            "  0.00000000e+00  0.00000000e+00  1.28197512e-16  1.28197512e-16\n",
            "  3.00000000e+00  3.00000000e+00  8.00000000e+00  8.00000000e+00\n",
            "  1.40000000e+01  1.40000000e+01  8.00000000e+00  8.00000000e+00\n",
            "  3.00000000e+00  3.00000000e+00  4.78439630e-16  4.78439630e-16\n",
            "  5.12790050e-16  5.12790050e-16 -1.28197512e-16 -1.28197512e-16\n",
            "  2.96059473e-16  2.96059473e-16  5.92118946e-16  5.92118946e-16\n",
            "  1.18423789e-15  1.18423789e-15  0.00000000e+00  0.00000000e+00]\n"
          ],
          "name": "stdout"
        }
      ]
    },
    {
      "cell_type": "code",
      "metadata": {
        "id": "nXh1WPuCPqrP",
        "colab_type": "code",
        "colab": {
          "base_uri": "https://localhost:8080/",
          "height": 187
        },
        "outputId": "948b8674-42b4-4f8d-b2cb-4ec4c004694a"
      },
      "source": [
        "% timeit -n 2 -r 2 Cop * x.ravel()\n",
        "% timeit -n 2 -r 2 gCop * xt.view(-1)"
      ],
      "execution_count": 51,
      "outputs": [
        {
          "output_type": "stream",
          "text": [
            "2 loops, best of 2: 348 µs per loop\n",
            "(1, 0)\n",
            "torch.Size([20, 2])\n",
            "(1, 0)\n",
            "torch.Size([20, 2])\n",
            "(1, 0)\n",
            "torch.Size([20, 2])\n",
            "(1, 0)\n",
            "torch.Size([20, 2])\n",
            "2 loops, best of 2: 416 µs per loop\n"
          ],
          "name": "stdout"
        }
      ]
    },
    {
      "cell_type": "markdown",
      "metadata": {
        "id": "f498kyQaXvEJ",
        "colab_type": "text"
      },
      "source": [
        "**TO DO**: Try other GPU frameworks (cupy, scikit-cuda) and compare matrix-matrix, matrix-vector"
      ]
    },
    {
      "cell_type": "code",
      "metadata": {
        "id": "hefUKsDveu-m",
        "colab_type": "code",
        "colab": {}
      },
      "source": [
        ""
      ],
      "execution_count": 0,
      "outputs": []
    }
  ]
}