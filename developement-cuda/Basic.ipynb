{
  "nbformat": 4,
  "nbformat_minor": 0,
  "metadata": {
    "colab": {
      "name": "Basic.ipynb",
      "version": "0.3.2",
      "provenance": []
    },
    "language_info": {
      "codemirror_mode": {
        "name": "ipython",
        "version": 3
      },
      "file_extension": ".py",
      "mimetype": "text/x-python",
      "name": "python",
      "nbconvert_exporter": "python",
      "pygments_lexer": "ipython3",
      "version": "3.7.2"
    },
    "kernelspec": {
      "display_name": "Python 3",
      "language": "python",
      "name": "python3"
    },
    "accelerator": "GPU"
  },
  "cells": [
    {
      "cell_type": "markdown",
      "metadata": {
        "colab_type": "text",
        "id": "xaygeqc0YgF7"
      },
      "source": [
        "# Pylops - CUDA basic linear operators"
      ]
    },
    {
      "cell_type": "markdown",
      "metadata": {
        "colab_type": "text",
        "id": "owGwScKKYgGA"
      },
      "source": [
        "### Author: M.Ravasi"
      ]
    },
    {
      "cell_type": "markdown",
      "metadata": {
        "colab_type": "text",
        "id": "IUIuNUfYYgGC"
      },
      "source": [
        "In this notebook we will experiment with Pytorch to assess its usability as backend for CUDA enabled operators"
      ]
    },
    {
      "cell_type": "code",
      "metadata": {
        "colab_type": "code",
        "id": "hMwmxTTxZ4Ju",
        "outputId": "b36e9c99-7b45-4322-fa05-f745f50a1500",
        "colab": {
          "base_uri": "https://localhost:8080/",
          "height": 412
        }
      },
      "source": [
        "!pip install pylops\n",
        "!pip install git+https://git@github.com/equinor/pylops-gpu.git@master"
      ],
      "execution_count": 1,
      "outputs": [
        {
          "output_type": "stream",
          "text": [
            "Requirement already satisfied: pylops in /usr/local/lib/python3.6/dist-packages (1.4.0)\n",
            "Requirement already satisfied: scipy in /usr/local/lib/python3.6/dist-packages (from pylops) (1.3.0)\n",
            "Requirement already satisfied: numpy>=1.15.0 in /usr/local/lib/python3.6/dist-packages (from pylops) (1.16.4)\n",
            "Collecting git+https://git@github.com/equinor/pylops-gpu.git@master\n",
            "  Cloning https://git@github.com/equinor/pylops-gpu.git (to revision master) to /tmp/pip-req-build-sopkqlbp\n",
            "  Running command git clone -q https://git@github.com/equinor/pylops-gpu.git /tmp/pip-req-build-sopkqlbp\n",
            "Requirement already satisfied (use --upgrade to upgrade): pylops-gpu==0.0.0 from git+https://git@github.com/equinor/pylops-gpu.git@master in /usr/local/lib/python3.6/dist-packages\n",
            "Requirement already satisfied: numpy>=1.15.0 in /usr/local/lib/python3.6/dist-packages (from pylops-gpu==0.0.0) (1.16.4)\n",
            "Requirement already satisfied: torch in /usr/local/lib/python3.6/dist-packages (from pylops-gpu==0.0.0) (1.1.0)\n",
            "Requirement already satisfied: pytorch_complex_tensor in /usr/local/lib/python3.6/dist-packages (from pylops-gpu==0.0.0) (0.0.134)\n",
            "Requirement already satisfied: torchvision>=0.2.1 in /usr/local/lib/python3.6/dist-packages (from pytorch_complex_tensor->pylops-gpu==0.0.0) (0.3.0)\n",
            "Requirement already satisfied: six in /usr/local/lib/python3.6/dist-packages (from torchvision>=0.2.1->pytorch_complex_tensor->pylops-gpu==0.0.0) (1.12.0)\n",
            "Requirement already satisfied: pillow>=4.1.1 in /usr/local/lib/python3.6/dist-packages (from torchvision>=0.2.1->pytorch_complex_tensor->pylops-gpu==0.0.0) (4.3.0)\n",
            "Requirement already satisfied: olefile in /usr/local/lib/python3.6/dist-packages (from pillow>=4.1.1->torchvision>=0.2.1->pytorch_complex_tensor->pylops-gpu==0.0.0) (0.46)\n",
            "Building wheels for collected packages: pylops-gpu\n",
            "  Building wheel for pylops-gpu (setup.py) ... \u001b[?25l\u001b[?25hdone\n",
            "  Stored in directory: /tmp/pip-ephem-wheel-cache-t2vbyh9h/wheels/c7/f0/0b/513e9be2dad0cbe2a900c0414a94bcae8778093383364aab9a\n",
            "Successfully built pylops-gpu\n"
          ],
          "name": "stdout"
        }
      ]
    },
    {
      "cell_type": "code",
      "metadata": {
        "colab_type": "code",
        "id": "86gLYP4HYgGI",
        "outputId": "180cc32f-583a-4047-a567-5c76e7b1348b",
        "colab": {
          "base_uri": "https://localhost:8080/",
          "height": 34
        }
      },
      "source": [
        "%load_ext autoreload\n",
        "%autoreload 2\n",
        "%matplotlib inline\n",
        "%pylab inline\n",
        "\n",
        "import warnings\n",
        "warnings.filterwarnings('ignore')\n",
        "\n",
        "import numpy as np\n",
        "import torch\n",
        "import scipy as sp\n",
        "import matplotlib.pyplot as plt\n",
        "import pylops\n",
        "\n",
        "from scipy.sparse.linalg import cg\n",
        "from pylops import Diagonal, MatrixMult\n",
        "from pylops.utils import dottest\n",
        "from pylops_gpu.utils.backend import device\n",
        "from pylops_gpu.utils import dottest as gdottest\n",
        "from pylops_gpu import Diagonal as gDiagonal"
      ],
      "execution_count": 2,
      "outputs": [
        {
          "output_type": "stream",
          "text": [
            "Populating the interactive namespace from numpy and matplotlib\n"
          ],
          "name": "stdout"
        }
      ]
    },
    {
      "cell_type": "code",
      "metadata": {
        "id": "5psZx5uvNM77",
        "colab_type": "code",
        "outputId": "eed29e93-4ad4-4f25-9e18-ea490e9217eb",
        "colab": {
          "base_uri": "https://localhost:8080/",
          "height": 34
        }
      },
      "source": [
        "dev = device()\n",
        "print('PyLops-gpu working on %s...' % dev)\n",
        "\n",
        "torch.cuda.empty_cache()"
      ],
      "execution_count": 3,
      "outputs": [
        {
          "output_type": "stream",
          "text": [
            "PyLops-gpu working on cuda...\n"
          ],
          "name": "stdout"
        }
      ]
    },
    {
      "cell_type": "markdown",
      "metadata": {
        "id": "0tW1zPopNUUk",
        "colab_type": "text"
      },
      "source": [
        "## Diagonal"
      ]
    },
    {
      "cell_type": "markdown",
      "metadata": {
        "id": "FXpLuro4Nalr",
        "colab_type": "text"
      },
      "source": [
        "Example with model and data already on GPU"
      ]
    },
    {
      "cell_type": "code",
      "metadata": {
        "id": "HS0QPHLwFutW",
        "colab_type": "code",
        "outputId": "0069a0dd-9750-46b8-a7dd-f6fde40e575b",
        "colab": {
          "base_uri": "https://localhost:8080/",
          "height": 85
        }
      },
      "source": [
        "n = int(1e6)\n",
        "xg = torch.ones(n, dtype=torch.float32).to(dev)\n",
        "dg = (torch.arange(0, n, dtype=torch.float32) + 1.).to(dev)\n",
        "\n",
        "x = xg.cpu().numpy()\n",
        "d = dg.cpu().numpy()\n",
        "\n",
        "Dop = Diagonal(d)\n",
        "Dop_gpu = gDiagonal(dg, device=dev)\n",
        "dottest(Dop, n, n, verb=True)\n",
        "gdottest(Dop_gpu, n, n, device=dev, verb=True)\n",
        "\n",
        "# y = Dx\n",
        "yg = Dop_gpu * xg\n",
        "print('y', yg)"
      ],
      "execution_count": 4,
      "outputs": [
        {
          "output_type": "stream",
          "text": [
            "Dot test passed, v^T(Opu)=-1250866120.627814 - u^T(Op^Tv)=-1250866120.627815\n",
            "Dot test passed, v^T(Opu)=124947267584.000000 - u^T(Op^Tv)=124947259392.000000\n",
            "y tensor([1.0000e+00, 2.0000e+00, 3.0000e+00,  ..., 1.0000e+06, 1.0000e+06,\n",
            "        1.0000e+06], device='cuda:0')\n"
          ],
          "name": "stdout"
        }
      ]
    },
    {
      "cell_type": "code",
      "metadata": {
        "id": "XER4rcF2Ni23",
        "colab_type": "code",
        "outputId": "91bd080e-b1a7-4de4-e465-cf119f2bc4d6",
        "colab": {
          "base_uri": "https://localhost:8080/",
          "height": 51
        }
      },
      "source": [
        "%timeit -n 10 Dop * x\n",
        "%timeit -n 10 Dop_gpu * xg"
      ],
      "execution_count": 5,
      "outputs": [
        {
          "output_type": "stream",
          "text": [
            "10 loops, best of 3: 849 µs per loop\n",
            "10 loops, best of 3: 14.4 µs per loop\n"
          ],
          "name": "stdout"
        }
      ]
    },
    {
      "cell_type": "markdown",
      "metadata": {
        "id": "msimlxTDNn8U",
        "colab_type": "text"
      },
      "source": [
        "Example with model and data transfered from and to gpu in forward and adjoint operations"
      ]
    },
    {
      "cell_type": "code",
      "metadata": {
        "id": "Zfytb17lNLZN",
        "colab_type": "code",
        "outputId": "131c6479-284a-4a23-d47c-3fe41b45ae74",
        "colab": {
          "base_uri": "https://localhost:8080/",
          "height": 337
        }
      },
      "source": [
        "n = int(1e6)\n",
        "xg = torch.ones(n, dtype=torch.float32).to(dev)\n",
        "dg = (torch.arange(0, n, dtype=torch.float32) + 1.).to(dev)\n",
        "\n",
        "xc = xg.cpu()\n",
        "x = xg.cpu().numpy()\n",
        "d = dg.cpu().numpy()\n",
        "\n",
        "Dop = Diagonal(d)\n",
        "Dop_gpu = gDiagonal(dg, device=dev, togpu=(True, True), tocpu=(True, True))\n",
        "gdottest(Dop_gpu, n, n, verb=True)\n",
        "\n",
        "# y = Dx\n",
        "y = Dop_gpu * x\n",
        "print('y', yg)\n",
        "\n",
        "# xinv = D^-1 y\n",
        "xinv = Dop / y\n",
        "xinvg = Dop_gpu / y\n",
        "\n",
        "plt.figure()\n",
        "plt.plot(x)\n",
        "plt.plot(xinv)\n",
        "plt.plot(xinvg, '--r')"
      ],
      "execution_count": 6,
      "outputs": [
        {
          "output_type": "stream",
          "text": [
            "Dot test passed, v^T(Opu)=124957310976.000000 - u^T(Op^Tv)=124957302784.000000\n",
            "y tensor([1.0000e+00, 2.0000e+00, 3.0000e+00,  ..., 1.0000e+06, 1.0000e+06,\n",
            "        1.0000e+06], device='cuda:0')\n"
          ],
          "name": "stdout"
        },
        {
          "output_type": "execute_result",
          "data": {
            "text/plain": [
              "[<matplotlib.lines.Line2D at 0x7f90a5060f60>]"
            ]
          },
          "metadata": {
            "tags": []
          },
          "execution_count": 6
        },
        {
          "output_type": "display_data",
          "data": {
            "image/png": "[encoded data removed]",
            "text/plain": [
              "<Figure size 432x288 with 1 Axes>"
            ]
          },
          "metadata": {
            "tags": []
          }
        }
      ]
    },
    {
      "cell_type": "code",
      "metadata": {
        "id": "a48_e6xIVHhu",
        "colab_type": "code",
        "outputId": "3c505b98-1b36-4c20-f4a7-fb44871ddd1c",
        "colab": {
          "base_uri": "https://localhost:8080/",
          "height": 51
        }
      },
      "source": [
        "Dop_gpu = gDiagonal(dg, device=dev, togpu=(True, True))\n",
        "\n",
        "%timeit -n 10 Dop * x\n",
        "%timeit -n 10 Dop_gpu * xc"
      ],
      "execution_count": 7,
      "outputs": [
        {
          "output_type": "stream",
          "text": [
            "10 loops, best of 3: 742 µs per loop\n",
            "10 loops, best of 3: 904 µs per loop\n"
          ],
          "name": "stdout"
        }
      ]
    },
    {
      "cell_type": "code",
      "metadata": {
        "id": "jXJkOrNtHMGn",
        "colab_type": "code",
        "outputId": "29f863bf-d02f-440a-9f76-ed21ee18aeb5",
        "colab": {
          "base_uri": "https://localhost:8080/",
          "height": 51
        }
      },
      "source": [
        "Dop_gpu = gDiagonal(dg, device=dev, togpu=(True, True), tocpu=(True, True))\n",
        "\n",
        "%timeit -n 10 Dop * x\n",
        "%timeit -n 10 Dop_gpu * xc"
      ],
      "execution_count": 8,
      "outputs": [
        {
          "output_type": "stream",
          "text": [
            "10 loops, best of 3: 731 µs per loop\n",
            "10 loops, best of 3: 2.32 ms per loop\n"
          ],
          "name": "stdout"
        }
      ]
    },
    {
      "cell_type": "markdown",
      "metadata": {
        "id": "mo-JeU7iPSc4",
        "colab_type": "text"
      },
      "source": [
        "Note here how we get hit by the cost of moving x and y back and forth between CPU and GPU."
      ]
    },
    {
      "cell_type": "markdown",
      "metadata": {
        "id": "G9UsaZGZhccU",
        "colab_type": "text"
      },
      "source": [
        "# 1D Convolution"
      ]
    },
    {
      "cell_type": "code",
      "metadata": {
        "id": "r7K9pSgihQNP",
        "colab_type": "code",
        "outputId": "cc87848a-8517-4f6c-f976-be0a6820f5d5",
        "colab": {
          "base_uri": "https://localhost:8080/",
          "height": 51
        }
      },
      "source": [
        "N = 11\n",
        "Nh = 3\n",
        "x = np.zeros(N)\n",
        "x[N//2] = 1\n",
        "\n",
        "h = np.arange(Nh)+1\n",
        "y = np.convolve(x, h, mode='same')\n",
        "print(y)\n",
        "print(y.shape)"
      ],
      "execution_count": 9,
      "outputs": [
        {
          "output_type": "stream",
          "text": [
            "[0. 0. 0. 0. 1. 2. 3. 0. 0. 0. 0.]\n",
            "(11,)\n"
          ],
          "name": "stdout"
        }
      ]
    },
    {
      "cell_type": "code",
      "metadata": {
        "id": "1hqf1yHfhHqU",
        "colab_type": "code",
        "outputId": "7f467804-f6b3-443a-eaa7-a66dc19b28f7",
        "colab": {
          "base_uri": "https://localhost:8080/",
          "height": 51
        }
      },
      "source": [
        "xt = torch.zeros(N)\n",
        "xt[N//2] = 1\n",
        "\n",
        "ht = torch.torch.arange(0, Nh, dtype=torch.float) + 1.\n",
        "yt = torch.torch.conv_transpose1d(xt.reshape(1, 1, N), ht.reshape(1, 1, 3), padding=Nh//2)\n",
        "print(yt)\n",
        "print(yt.shape)"
      ],
      "execution_count": 10,
      "outputs": [
        {
          "output_type": "stream",
          "text": [
            "tensor([[[0., 0., 0., 0., 1., 2., 3., 0., 0., 0., 0.]]])\n",
            "torch.Size([1, 1, 11])\n"
          ],
          "name": "stdout"
        }
      ]
    },
    {
      "cell_type": "code",
      "metadata": {
        "id": "4y7V0DRVkojI",
        "colab_type": "code",
        "outputId": "13da0ace-4054-48b8-dae4-f5ec23ccc4ea",
        "colab": {
          "base_uri": "https://localhost:8080/",
          "height": 68
        }
      },
      "source": [
        "y = np.correlate(x, h, mode='same')\n",
        "print(y)\n",
        "\n",
        "yt = torch.torch.conv1d(xt.reshape(1, 1, N), ht.reshape(1, 1, 3), padding=Nh//2)\n",
        "print(yt)\n",
        "print(yt.shape)"
      ],
      "execution_count": 11,
      "outputs": [
        {
          "output_type": "stream",
          "text": [
            "[0. 0. 0. 0. 3. 2. 1. 0. 0. 0. 0.]\n",
            "tensor([[[0., 0., 0., 0., 3., 2., 1., 0., 0., 0., 0.]]])\n",
            "torch.Size([1, 1, 11])\n"
          ],
          "name": "stdout"
        }
      ]
    },
    {
      "cell_type": "code",
      "metadata": {
        "id": "lgdPeJb0iCy1",
        "colab_type": "code",
        "outputId": "819a0350-adb8-490c-fd11-50e9df4465b3",
        "colab": {
          "base_uri": "https://localhost:8080/",
          "height": 142
        }
      },
      "source": [
        "xt = torch.zeros((1000, N))\n",
        "xt[:, N//2] = 1\n",
        "ht = torch.torch.arange(0, Nh, dtype=torch.float) + 1.\n",
        "\n",
        "xc = xt.to(dev)\n",
        "hc = ht.to(dev)\n",
        "\n",
        "yt = torch.torch.conv1d(xt.reshape(1000, 1, N), ht.reshape(1, 1, 3), padding=Nh//2)\n",
        "print(yt.shape)\n",
        "yc = torch.torch.conv1d(xc.reshape(1000, 1, N), hc.reshape(1, 1, 3), padding=Nh//2)\n",
        "print(yc.shape)\n",
        "\n",
        "% timeit torch.torch.conv1d(xt.reshape(1000, 1, N), ht.reshape(1, 1, 3), padding=Nh//2)\n",
        "% timeit torch.torch.conv1d(xc.reshape(1000, 1, N), hc.reshape(1, 1, 3), padding=Nh//2)"
      ],
      "execution_count": 12,
      "outputs": [
        {
          "output_type": "stream",
          "text": [
            "torch.Size([1000, 1, 11])\n",
            "torch.Size([1000, 1, 11])\n",
            "1000 loops, best of 3: 457 µs per loop\n",
            "The slowest run took 5.82 times longer than the fastest. This could mean that an intermediate result is being cached.\n",
            "10000 loops, best of 3: 39.9 µs per loop\n"
          ],
          "name": "stdout"
        }
      ]
    },
    {
      "cell_type": "markdown",
      "metadata": {
        "id": "JmUAjnrlpaIh",
        "colab_type": "text"
      },
      "source": [
        "## MatrixMult"
      ]
    },
    {
      "cell_type": "code",
      "metadata": {
        "id": "tIypddNsTnZd",
        "colab_type": "code",
        "colab": {}
      },
      "source": [
        "n = 2000\n",
        "niter = 5"
      ],
      "execution_count": 0,
      "outputs": []
    },
    {
      "cell_type": "markdown",
      "metadata": {
        "id": "0sspAo_pPlIi",
        "colab_type": "text"
      },
      "source": [
        "Dot product (vector-vector)"
      ]
    },
    {
      "cell_type": "code",
      "metadata": {
        "id": "sKcGeIkQNsRI",
        "colab_type": "code",
        "colab": {
          "base_uri": "https://localhost:8080/",
          "height": 102
        },
        "outputId": "944f2c0a-8da8-457b-eae6-20a52552f77c"
      },
      "source": [
        "z = np.ones(n, dtype=np.float64)\n",
        "zgc = torch.ones(n, dtype=torch.float64)\n",
        "zg = torch.ones(n, dtype=torch.float64).to(dev)\n",
        "\n",
        "% timeit -n 40 -r 3 z.dot(z)\n",
        "% timeit -n 40 -r 3 zgc.dot(zgc)\n",
        "% timeit -n 40 -r 3 zg.dot(zg)\n",
        "% timeit -n 40 -r 3 zg.matmul(zg)\n",
        "% timeit -n 40 -r 3 torch.sum(zg*zg)"
      ],
      "execution_count": 14,
      "outputs": [
        {
          "output_type": "stream",
          "text": [
            "40 loops, best of 3: 1.36 µs per loop\n",
            "40 loops, best of 3: 5.53 µs per loop\n",
            "40 loops, best of 3: 47 µs per loop\n",
            "40 loops, best of 3: 45.1 µs per loop\n",
            "40 loops, best of 3: 19.9 µs per loop\n"
          ],
          "name": "stdout"
        }
      ]
    },
    {
      "cell_type": "markdown",
      "metadata": {
        "id": "E6T5b2C2Pi-e",
        "colab_type": "text"
      },
      "source": [
        "Dot product (matrix-vector)"
      ]
    },
    {
      "cell_type": "code",
      "metadata": {
        "id": "sFDbI7eMNsUz",
        "colab_type": "code",
        "colab": {
          "base_uri": "https://localhost:8080/",
          "height": 102
        },
        "outputId": "3eb86813-6c98-453e-d4d8-0adf6e98c5e2"
      },
      "source": [
        "A = np.random.randn(n, n)\n",
        "Agc = torch.from_numpy(A)\n",
        "Ag = torch.from_numpy(A).to(dev)\n",
        "zgg = zg.reshape(n, 1)\n",
        "\n",
        "% timeit -n 40 -r 3 A.dot(z)\n",
        "% timeit -n 40 -r 3 np.matmul(A, z)\n",
        "% timeit -n 40 -r 3 Agc.matmul(zgc)\n",
        "% timeit -n 40 -r 3 Ag.matmul(zg)\n",
        "% timeit -n 40 -r 3 Ag.mm(zgg)"
      ],
      "execution_count": 15,
      "outputs": [
        {
          "output_type": "stream",
          "text": [
            "40 loops, best of 3: 1.35 ms per loop\n",
            "40 loops, best of 3: 1.36 ms per loop\n",
            "40 loops, best of 3: 1.63 ms per loop\n",
            "40 loops, best of 3: 10.5 µs per loop\n",
            "40 loops, best of 3: 13.1 µs per loop\n"
          ],
          "name": "stdout"
        }
      ]
    },
    {
      "cell_type": "markdown",
      "metadata": {
        "id": "6lndReHKWggL",
        "colab_type": "text"
      },
      "source": [
        "We can see how numpy's dot product seem to always win for vector-vector computations but in case of matrix-matrix pytorch on cuda outperforms numpy when n grows (roughly n>500)"
      ]
    },
    {
      "cell_type": "code",
      "metadata": {
        "id": "4wc7aNRXVnG3",
        "colab_type": "code",
        "colab": {}
      },
      "source": [
        "def conjgrad_old(A, b, x0, niter):\n",
        "    'Conjugate-gradient algorithm for minimizing |A x - dat|^2'\n",
        "    x = x0\n",
        "    r = b-A._matvec(x).ravel()\n",
        "    d = r.copy()\n",
        "    k = r.dot(r)\n",
        "    k0 = k\n",
        "    for iter in range(niter):\n",
        "        a = r.dot(r) / d.dot(A._matvec(d).ravel())\n",
        "        x = x + a*d\n",
        "        rnew = r - a*A._matvec(d).ravel()\n",
        "        k = rnew.dot(rnew)\n",
        "        b = rnew.dot(rnew) / r.dot(r)\n",
        "        d = rnew + b*d;\n",
        "        r = rnew.copy()\n",
        "    return x\n",
        "  \n",
        "def conjgrad(A, b, x, niter):\n",
        "    'Conjugate-gradient algorithm for minimizing |A x - dat|^2'\n",
        "    r = b - A._matvec(x)\n",
        "    d = r.copy()\n",
        "    k = r.dot(r)\n",
        "    for iter in range(niter):\n",
        "        #if iter == 0:\n",
        "        #  Ad = A._matvec(r)\n",
        "        #  dAd = r.dot(Ad)\n",
        "        #else:\n",
        "        Ad = A._matvec(d)\n",
        "        dAd = d.dot(Ad)\n",
        "        a = k / dAd\n",
        "        x += a*d\n",
        "        r -= a*Ad\n",
        "        kold = k\n",
        "        k = r.dot(r)\n",
        "        b = k / kold\n",
        "        d = r + b*d;\n",
        "    return x\n",
        "  \n",
        "def conjgrad_gpu(A, b, x, niter):\n",
        "    'Conjugate-gradient algorithm for minimizing |A x - dat|^2'\n",
        "    r = b - A.matmul(x)\n",
        "    d = r.clone()\n",
        "    kold = torch.sum(r*r)\n",
        "    for iter in range(niter):\n",
        "        Ad = A.matmul(d)\n",
        "        dAd = torch.sum(d*Ad)\n",
        "        a = kold / dAd\n",
        "        x += a*d\n",
        "        r -= a*Ad\n",
        "        k = torch.sum(r*r)\n",
        "        b = k / kold\n",
        "        d = r + b*d;\n",
        "        kold = k\n",
        "    return x"
      ],
      "execution_count": 0,
      "outputs": []
    },
    {
      "cell_type": "code",
      "metadata": {
        "id": "rzIyAUizpeS1",
        "colab_type": "code",
        "colab": {
          "base_uri": "https://localhost:8080/",
          "height": 51
        },
        "outputId": "9a949958-775c-4b53-b3eb-b91602bd032a"
      },
      "source": [
        "x = np.ones(n)\n",
        "A = np.random.randn(n, n)\n",
        "ATA = np.dot(A.T, A)\n",
        "\n",
        "Aop = MatrixMult(ATA)\n",
        "\n",
        "y = Aop.matvec(x)\n",
        "xinv_sp = cg(Aop, y, maxiter=niter)[0]\n",
        "xinv_old = conjgrad_old(Aop, y, np.zeros_like(x), niter)\n",
        "xinv = conjgrad(Aop, y, np.zeros_like(x), niter)\n",
        "\n",
        "print(np.linalg.norm(xinv - xinv_sp))\n",
        "print(np.linalg.norm(xinv - xinv_old))"
      ],
      "execution_count": 29,
      "outputs": [
        {
          "output_type": "stream",
          "text": [
            "0.0009853730315919004\n",
            "0.0\n"
          ],
          "name": "stdout"
        }
      ]
    },
    {
      "cell_type": "code",
      "metadata": {
        "id": "93QTFv2cpeVY",
        "colab_type": "code",
        "colab": {
          "base_uri": "https://localhost:8080/",
          "height": 303
        },
        "outputId": "327aa9c2-757a-4a55-bd9f-69f114adfda4"
      },
      "source": [
        "xg = torch.ones(n, dtype=torch.float64).to(dev)\n",
        "x0g = torch.zeros(n, dtype=torch.float64).to(dev)\n",
        "Ag = torch.from_numpy(A).to(dev)\n",
        "ATAg = torch.matmul(Ag.t(), Ag)\n",
        "\n",
        "yg = ATAg.matmul(xg)\n",
        "plt.plot(y)\n",
        "plt.plot(yg.cpu().numpy(), '--r')\n",
        "plt.plot(y-yg.cpu().numpy(), 'k')\n",
        "\n",
        "xinvg = conjgrad_gpu(ATAg, yg, torch.zeros(n, dtype=torch.float64).to(dev), niter)\n",
        "print(np.linalg.norm(xinv - xinvg.cpu().numpy()))\n",
        "\n",
        "plt.plot(x)\n",
        "plt.plot(xinvg.cpu().numpy(), '--r')\n",
        "plt.plot(x-xinvg.cpu().numpy(), 'k')"
      ],
      "execution_count": 30,
      "outputs": [
        {
          "output_type": "stream",
          "text": [
            "0.0008445200311844634\n"
          ],
          "name": "stdout"
        },
        {
          "output_type": "execute_result",
          "data": {
            "text/plain": [
              "[<matplotlib.lines.Line2D at 0x7f90a4e48f28>]"
            ]
          },
          "metadata": {
            "tags": []
          },
          "execution_count": 30
        },
        {
          "output_type": "display_data",
          "data": {
            "image/png": "[encoded data removed]",
            "text/plain": [
              "<Figure size 432x288 with 1 Axes>"
            ]
          },
          "metadata": {
            "tags": []
          }
        }
      ]
    },
    {
      "cell_type": "code",
      "metadata": {
        "id": "r3GsIiQ3pzK0",
        "colab_type": "code",
        "colab": {
          "base_uri": "https://localhost:8080/",
          "height": 68
        },
        "outputId": "0d685c46-9575-4677-f88f-8282b53c8fa8"
      },
      "source": [
        "niter = 3\n",
        "\n",
        "%timeit -n 2 cg(Aop, y, maxiter=niter)[0]\n",
        "%timeit -n 2 conjgrad(Aop, y, np.zeros_like(x), niter)\n",
        "%timeit -n 2 conjgrad_gpu(ATAg, yg, x0g, niter)"
      ],
      "execution_count": 31,
      "outputs": [
        {
          "output_type": "stream",
          "text": [
            "2 loops, best of 3: 5.88 ms per loop\n",
            "2 loops, best of 3: 5.66 ms per loop\n",
            "2 loops, best of 3: 591 µs per loop\n"
          ],
          "name": "stdout"
        }
      ]
    },
    {
      "cell_type": "code",
      "metadata": {
        "id": "5YeA4fiyXEhl",
        "colab_type": "code",
        "colab": {
          "base_uri": "https://localhost:8080/",
          "height": 68
        },
        "outputId": "64294f9b-c40a-41ec-d2d7-db2487914fe3"
      },
      "source": [
        "niter = 300\n",
        "\n",
        "%timeit -n 2 cg(Aop, y, maxiter=niter)[0]\n",
        "%timeit -n 2 conjgrad(Aop, y, np.zeros_like(x), niter)\n",
        "%timeit -n 2 conjgrad_gpu(ATAg, yg, x0g, niter)"
      ],
      "execution_count": 32,
      "outputs": [
        {
          "output_type": "stream",
          "text": [
            "2 loops, best of 3: 439 ms per loop\n",
            "2 loops, best of 3: 432 ms per loop\n",
            "2 loops, best of 3: 56.9 ms per loop\n"
          ],
          "name": "stdout"
        }
      ]
    },
    {
      "cell_type": "markdown",
      "metadata": {
        "id": "vbcMaC8aMYOn",
        "colab_type": "text"
      },
      "source": [
        "For large enough problems the gpu implementation of cg seem to outperform greatly scipy (mostly because the speedup in matrix-vector computation outreaches the slow down in  vector-vector)."
      ]
    },
    {
      "cell_type": "markdown",
      "metadata": {
        "id": "f498kyQaXvEJ",
        "colab_type": "text"
      },
      "source": [
        "**TO DO**: Try other GPU frameworks (cupy, scikit-cuda) and compare matrix-matrix, matrix-vector"
      ]
    },
    {
      "cell_type": "code",
      "metadata": {
        "id": "gAaKu_ymX4JX",
        "colab_type": "code",
        "colab": {}
      },
      "source": [
        ""
      ],
      "execution_count": 0,
      "outputs": []
    }
  ]
}